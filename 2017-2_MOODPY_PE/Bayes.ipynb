{
 "cells": [
  {
   "cell_type": "code",
   "execution_count": 3,
   "metadata": {
    "collapsed": true
   },
   "outputs": [],
   "source": [
    "import numpy as np\n"
   ]
  },
  {
   "cell_type": "code",
   "execution_count": 4,
   "metadata": {
    "collapsed": false
   },
   "outputs": [
    {
     "name": "stdout",
     "output_type": "stream",
     "text": [
      "[0, 1, 2, 3, 4, 5, 6, 7, 8, 9]\n",
      "{0, 1, 2, 3, 4, 5, 6, 7, 8, 9}\n",
      "\\left\\{0, 1, 2, 3, 4, 5, 6, 7, 8, 9\\right\\}\n"
     ]
    }
   ],
   "source": [
    "R=10\n",
    "v = range(R)\n",
    "print v\n",
    "S = Set(v)\n",
    "print S\n",
    "print latex(S)"
   ]
  },
  {
   "cell_type": "code",
   "execution_count": 5,
   "metadata": {
    "collapsed": false
   },
   "outputs": [
    {
     "name": "stdout",
     "output_type": "stream",
     "text": [
      "[ 0.04678363  0.52046784  0.42690058 -0.21637427 -0.25146199  0.43274854\n",
      " -0.38011696  0.11111111 -0.20467836  0.51461988]\n",
      "1.0\n"
     ]
    }
   ],
   "source": [
    "w = np.random.randint(-100,100,size=10)\n",
    "w = 1.0*w/np.sum(w)\n",
    "print w\n",
    "print sum(w)"
   ]
  },
  {
   "cell_type": "code",
   "execution_count": 6,
   "metadata": {
    "collapsed": false
   },
   "outputs": [
    {
     "data": {
      "text/html": [
       "<div class=\"notruncate\">\n",
       "<table  class=\"table_form\">\n",
       "<tbody>\n",
       "<tr class =\"row-a\">\n",
       "<td>A</td>\n",
       "<td>P(A)</td>\n",
       "</tr>\n",
       "<tr class =\"row-b\">\n",
       "<td><script type=\"math/tex\">\\left\\{0\\right\\}</script></td>\n",
       "<td><script type=\"math/tex\">0.046783625731</script></td>\n",
       "</tr>\n",
       "<tr class =\"row-a\">\n",
       "<td><script type=\"math/tex\">\\left\\{1\\right\\}</script></td>\n",
       "<td><script type=\"math/tex\">0.520467836257</script></td>\n",
       "</tr>\n",
       "<tr class =\"row-b\">\n",
       "<td><script type=\"math/tex\">\\left\\{2\\right\\}</script></td>\n",
       "<td><script type=\"math/tex\">0.426900584795</script></td>\n",
       "</tr>\n",
       "<tr class =\"row-a\">\n",
       "<td><script type=\"math/tex\">\\left\\{3\\right\\}</script></td>\n",
       "<td><script type=\"math/tex\">-0.216374269006</script></td>\n",
       "</tr>\n",
       "<tr class =\"row-b\">\n",
       "<td><script type=\"math/tex\">\\left\\{4\\right\\}</script></td>\n",
       "<td><script type=\"math/tex\">-0.251461988304</script></td>\n",
       "</tr>\n",
       "<tr class =\"row-a\">\n",
       "<td><script type=\"math/tex\">\\left\\{5\\right\\}</script></td>\n",
       "<td><script type=\"math/tex\">0.432748538012</script></td>\n",
       "</tr>\n",
       "<tr class =\"row-b\">\n",
       "<td><script type=\"math/tex\">\\left\\{6\\right\\}</script></td>\n",
       "<td><script type=\"math/tex\">-0.380116959064</script></td>\n",
       "</tr>\n",
       "<tr class =\"row-a\">\n",
       "<td><script type=\"math/tex\">\\left\\{7\\right\\}</script></td>\n",
       "<td><script type=\"math/tex\">0.111111111111</script></td>\n",
       "</tr>\n",
       "<tr class =\"row-b\">\n",
       "<td><script type=\"math/tex\">\\left\\{8\\right\\}</script></td>\n",
       "<td><script type=\"math/tex\">-0.204678362573</script></td>\n",
       "</tr>\n",
       "<tr class =\"row-a\">\n",
       "<td><script type=\"math/tex\">\\left\\{9\\right\\}</script></td>\n",
       "<td><script type=\"math/tex\">0.514619883041</script></td>\n",
       "</tr>\n",
       "</tbody>\n",
       "</table>\n",
       "</div>"
      ],
      "text/plain": [
       "  A     P(A)\n",
       "  {0}   0.046783625731\n",
       "  {1}   0.520467836257\n",
       "  {2}   0.426900584795\n",
       "  {3}   -0.216374269006\n",
       "  {4}   -0.251461988304\n",
       "  {5}   0.432748538012\n",
       "  {6}   -0.380116959064\n",
       "  {7}   0.111111111111\n",
       "  {8}   -0.204678362573\n",
       "  {9}   0.514619883041"
      ]
     },
     "metadata": {},
     "output_type": "display_data"
    }
   ],
   "source": [
    "mitabla = [[\"A\", \"P(A)\"]]\n",
    "for k, x in enumerate(w):\n",
    "    mitabla.append([Set([k]),x])\n",
    "show(table(mitabla))"
   ]
  },
  {
   "cell_type": "code",
   "execution_count": 13,
   "metadata": {
    "collapsed": false
   },
   "outputs": [
    {
     "name": "stdout",
     "output_type": "stream",
     "text": [
      "{2, 3, 4, 5, 6, 7, 8, 9}\n"
     ]
    }
   ],
   "source": [
    "B=Set(list(np.random.randint(10, size=R)))\n",
    "print B"
   ]
  },
  {
   "cell_type": "code",
   "execution_count": 16,
   "metadata": {
    "collapsed": true
   },
   "outputs": [],
   "source": [
    "def P(k, a):\n",
    "    if not(k in range(len(a))):\n",
    "        return False\n",
    "    else:\n",
    "        return a[k]"
   ]
  },
  {
   "cell_type": "code",
   "execution_count": 19,
   "metadata": {
    "collapsed": false
   },
   "outputs": [
    {
     "data": {
      "text/plain": [
       "0.51461988304093564"
      ]
     },
     "execution_count": 19,
     "metadata": {},
     "output_type": "execute_result"
    }
   ],
   "source": [
    "P(9,w)"
   ]
  },
  {
   "cell_type": "code",
   "execution_count": null,
   "metadata": {
    "collapsed": true
   },
   "outputs": [],
   "source": []
  }
 ],
 "metadata": {
  "kernelspec": {
   "display_name": "SageMath 7.4",
   "language": "",
   "name": "sagemath"
  },
  "language_info": {
   "codemirror_mode": {
    "name": "ipython",
    "version": 2
   },
   "file_extension": ".py",
   "mimetype": "text/x-python",
   "name": "python",
   "nbconvert_exporter": "python",
   "pygments_lexer": "ipython2",
   "version": "2.7.13"
  }
 },
 "nbformat": 4,
 "nbformat_minor": 2
}
