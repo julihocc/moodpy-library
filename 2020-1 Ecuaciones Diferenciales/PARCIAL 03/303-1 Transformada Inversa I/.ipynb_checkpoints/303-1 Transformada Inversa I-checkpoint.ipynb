{
 "cells": [
  {
   "cell_type": "code",
   "execution_count": null,
   "metadata": {},
   "outputs": [],
   "source": [
    "import sys\n",
    "ruta = r\"D:\\juliho.castillo@yahoo.com\\MOODPY\\moodpy\"\n",
    "sys.path.append(ruta)\n",
    "\n",
    "import moodpy as me\n",
    "import numpy as np\n",
    "np.random.seed(123)\n",
    "sage.misc.html._old_and_deprecated_behavior = False"
   ]
  },
  {
   "cell_type": "code",
   "execution_count": null,
   "metadata": {},
   "outputs": [],
   "source": [
    "\"\"\"\n",
    "CAMBIAR CLAVE Y TEMA!!!\n",
    "\"\"\"\n",
    "MATERIA = \"XXX\"\n",
    "CLAVE = \"000\"\n",
    "TEMA = \"---\"\n",
    "label = \"{} {} {}\".format(MATERIA, CLAVE, TEMA.title())\n",
    "miCabecera = \"<h1> {} </h1>\".format(TEMA.title())\n",
    "print(\"<h1>\"+label+\"</h1>\")\n",
    "print(miCabecera)"
   ]
  },
  {
   "cell_type": "code",
   "execution_count": null,
   "metadata": {},
   "outputs": [],
   "source": [
    "\"\"\"\n",
    "Funciones\n",
    "\"\"\""
   ]
  },
  {
   "cell_type": "code",
   "execution_count": null,
   "metadata": {},
   "outputs": [],
   "source": []
  },
  {
   "cell_type": "code",
   "execution_count": null,
   "metadata": {},
   "outputs": [],
   "source": [
    "\"\"\"\n",
    "Ejercicios\n",
    "\"\"\""
   ]
  },
  {
   "cell_type": "code",
   "execution_count": null,
   "metadata": {},
   "outputs": [],
   "source": [
    "def gen_exercise(impr=False, cabecera=\"\"):\n",
    "    data ={}\n",
    "    tex = {}\n",
    "    answers = {}\n",
    "    feedback = {}\n",
    "\n",
    "    \n",
    "    ejercicio = cabecera + r\"\"\"\n",
    "\n",
    "    \"\"\".format(d=data, t=tex, a=answers, f=feedback)\n",
    "    \n",
    "    retroalimentacion = \"\"\"\n",
    "    \n",
    "    \"\"\".format(d=data, t=tex, a=answers, f=feedback)\n",
    "    \n",
    "    return me.pretty(ejercicio, retroalimentacion)"
   ]
  },
  {
   "cell_type": "raw",
   "metadata": {},
   "source": [
    "print(html(\"<h1>\"+label+\"</h1>\"))\n",
    "me.quick(gen_exercise, label, 0, impr=True, cabecera=miCabecera)"
   ]
  },
  {
   "cell_type": "raw",
   "metadata": {},
   "source": [
    "me.quick(gen_exercise, label, 5, impr=True, cabecera=miCabecera)"
   ]
  },
  {
   "cell_type": "raw",
   "metadata": {},
   "source": [
    "me.quick(gen_exercise, label, 500, impr=False, cabecera=miCabecera)"
   ]
  }
 ],
 "metadata": {
  "kernelspec": {
   "display_name": "SageMath 9.0",
   "language": "sage",
   "name": "sagemath"
  },
  "language_info": {
   "codemirror_mode": {
    "name": "ipython",
    "version": 3
   },
   "file_extension": ".py",
   "mimetype": "text/x-python",
   "name": "python",
   "nbconvert_exporter": "python",
   "pygments_lexer": "ipython3",
   "version": "3.7.3"
  }
 },
 "nbformat": 4,
 "nbformat_minor": 2
}
