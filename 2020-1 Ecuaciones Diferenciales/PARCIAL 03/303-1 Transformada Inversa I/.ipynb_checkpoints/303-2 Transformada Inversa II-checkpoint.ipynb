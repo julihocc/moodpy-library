{
 "cells": [
  {
   "cell_type": "code",
   "execution_count": 1,
   "metadata": {},
   "outputs": [],
   "source": [
    "import sys\n",
    "ruta = r\"D:\\juliho.castillo@yahoo.com\\MOODPY\\moodpy\"\n",
    "sys.path.append(ruta)\n",
    "\n",
    "import moodpy as me\n",
    "import numpy as np\n",
    "np.random.seed(123)\n",
    "sage.misc.html._old_and_deprecated_behavior = False"
   ]
  },
  {
   "cell_type": "code",
   "execution_count": 2,
   "metadata": {},
   "outputs": [
    {
     "name": "stdout",
     "output_type": "stream",
     "text": [
      "<h1>EDO 303-2 Transformada Inversa De Laplace</h1>\n",
      "<h1> Transformada Inversa De Laplace </h1>\n"
     ]
    }
   ],
   "source": [
    "\"\"\"\n",
    "CAMBIAR CLAVE Y TEMA!!!\n",
    "\"\"\"\n",
    "MATERIA = \"EDO\"\n",
    "CLAVE = \"303-2\"\n",
    "TEMA = \"Transformada Inversa de Laplace\"\n",
    "label = \"{} {} {}\".format(MATERIA, CLAVE, TEMA.title())\n",
    "miCabecera = \"<h1> {} </h1>\".format(TEMA.title())\n",
    "print(\"<h1>\"+label+\"</h1>\")\n",
    "print(miCabecera)"
   ]
  },
  {
   "cell_type": "code",
   "execution_count": 3,
   "metadata": {},
   "outputs": [
    {
     "data": {
      "text/plain": [
       "'\\nFunciones\\n'"
      ]
     },
     "execution_count": 3,
     "metadata": {},
     "output_type": "execute_result"
    }
   ],
   "source": [
    "\"\"\"\n",
    "Funciones\n",
    "\"\"\""
   ]
  },
  {
   "cell_type": "code",
   "execution_count": 4,
   "metadata": {},
   "outputs": [
    {
     "data": {
      "text/html": [
       "<html><script type=\"math/tex; mode=display\">\\newcommand{\\Bold}[1]{\\mathbf{#1}}10.0 \\, x e^{\\left(-1.0 \\, x\\right)}</script></html>"
      ],
      "text/plain": [
       "10.0*x*e^(-1.0*x)"
      ]
     },
     "metadata": {},
     "output_type": "display_data"
    },
    {
     "data": {
      "text/html": [
       "<html><script type=\"math/tex; mode=display\">\\newcommand{\\Bold}[1]{\\mathbf{#1}}x \\ {\\mapsto}\\ \\frac{10.0}{{\\left(s + 1.0\\right)}^{2}}</script></html>"
      ],
      "text/plain": [
       "x |--> 10.0/(s + 1.0)^2"
      ]
     },
     "metadata": {},
     "output_type": "display_data"
    }
   ],
   "source": [
    "def gen_func():\n",
    "    var(\"x\")\n",
    "    while true:\n",
    "        b = np.around(np.random.normal())\n",
    "        n = np.random.poisson(2)\n",
    "        A = np.around(np.random.normal(0,10))\n",
    "        if not np.isclose(b*n*A,0):\n",
    "            #print(a,b,c1,c2)\n",
    "            f(x) = A*x^n*exp(b*x)\n",
    "            return f\n",
    "\n",
    "f = gen_func()\n",
    "show(f(x))\n",
    "var(\"s\")\n",
    "show(f.laplace(x,s))"
   ]
  },
  {
   "cell_type": "code",
   "execution_count": 5,
   "metadata": {},
   "outputs": [
    {
     "data": {
      "text/html": [
       "<html><script type=\"math/tex; mode=display\">\\newcommand{\\Bold}[1]{\\mathbf{#1}}\\frac{10.0}{{\\left(s + 1.0\\right)}^{2}}</script></html>"
      ],
      "text/plain": [
       "10.0/(s + 1.0)^2"
      ]
     },
     "metadata": {},
     "output_type": "display_data"
    }
   ],
   "source": [
    "def get_laplace(f):\n",
    "    var(\"s\")\n",
    "    F(s) = f.laplace(x,s)\n",
    "    return F\n",
    "\n",
    "show(get_laplace(f)(s))"
   ]
  },
  {
   "cell_type": "code",
   "execution_count": 6,
   "metadata": {},
   "outputs": [
    {
     "name": "stdout",
     "output_type": "stream",
     "text": [
      "(-0.58, -10.3590228983504)\n"
     ]
    }
   ],
   "source": [
    "def get_point(f):\n",
    "    while true:\n",
    "        x0 = np.around(np.random.normal(), 2)\n",
    "        if not np.isclose(f(x0).n(),0) and np.abs(f(x0).n())<1000:\n",
    "            return x0, f(x0).n()\n",
    "\n",
    "print(get_point(f))"
   ]
  },
  {
   "cell_type": "code",
   "execution_count": null,
   "metadata": {},
   "outputs": [],
   "source": []
  },
  {
   "cell_type": "code",
   "execution_count": 7,
   "metadata": {},
   "outputs": [
    {
     "data": {
      "text/plain": [
       "'\\nEjercicios\\n'"
      ]
     },
     "execution_count": 7,
     "metadata": {},
     "output_type": "execute_result"
    }
   ],
   "source": [
    "\"\"\"\n",
    "Ejercicios\n",
    "\"\"\""
   ]
  },
  {
   "cell_type": "code",
   "execution_count": 8,
   "metadata": {},
   "outputs": [],
   "source": [
    "def gen_exercise(impr=False, cabecera=\"\", data={}, tex={}, answers={}, feedback = {}):\n",
    "    \n",
    "    var(\"x,s\")\n",
    "    f = gen_func()\n",
    "    F = get_laplace(f)\n",
    "    x0,y0 = get_point(f)\n",
    "    \n",
    "    tex[\"f\"] = latex(f(x))\n",
    "    tex[\"F\"] = latex(F(s))\n",
    "    data[\"x0\"] = str(x0)\n",
    "    answers[\"y0\"] = me.NM(y0)\n",
    "    \n",
    "    ejercicio = cabecera + r\"\"\"\n",
    "    Encuentra la transformada inversa \\(f(x)\\) de $$F(s)={t[F]}$$ y evalúa en el punto dado:\n",
    "    <p>\n",
    "    \\(f({d[x0]})=\\){a[y0]}\n",
    "    </p>\n",
    "    \"\"\".format(d=data, t=tex, a=answers, f=feedback)\n",
    "    \n",
    "    retroalimentacion = \"\"\"\n",
    "    La transformada inversa está dada por $$f(x)={t[f]}$$\n",
    "    \"\"\".format(d=data, t=tex, a=answers, f=feedback)\n",
    "    \n",
    "    return me.pretty(ejercicio, retroalimentacion)"
   ]
  },
  {
   "cell_type": "code",
   "execution_count": 9,
   "metadata": {},
   "outputs": [
    {
     "name": "stdout",
     "output_type": "stream",
     "text": [
      "<h1>EDO 303-2 Transformada Inversa De Laplace</h1>\n",
      "\n",
      "    <questiontext format=\"html\">\n",
      "<text>\n",
      "<![CDATA[\n",
      "<h1> Transformada Inversa De Laplace </h1>\n",
      "    Encuentra la transformada inversa \\(f(x)\\) de $$F(s)=\\frac{78.0}{{\\left(s - 2.0\\right)}^{4}}$$ y evalúa en el punto dado:\n",
      "    <p>\n",
      "    \\(f(-0.87)=\\){1:NM:=-1.50254923477743:-0.00150254923477743}\n",
      "    </p>\n",
      "    \n",
      "]]>\n",
      "</text></questiontext>\n",
      "\n",
      "    <generalfeedback format=\"html\">\n",
      "<text>\n",
      "<![CDATA[\n",
      "\n",
      "    La transformada inversa está dada por $$f(x)=13.0 \\, x^{3} e^{\\left(2.0 \\, x\\right)}$$\n",
      "    \n",
      "]]>\n",
      "</text></generalfeedback>\n",
      "\n",
      "    \n"
     ]
    }
   ],
   "source": [
    "print(html(\"<h1>\"+label+\"</h1>\"))\n",
    "me.quick(gen_exercise, label, 0, impr=True, cabecera=miCabecera)"
   ]
  },
  {
   "cell_type": "code",
   "execution_count": 10,
   "metadata": {},
   "outputs": [
    {
     "name": "stdout",
     "output_type": "stream",
     "text": [
      "--------------------------------\n",
      "Done: 2020-05-03 18:02:55.417582\n",
      "Folder: EDO 303-2 Transformada Inversa De Laplace\n",
      "Filename: EDO 303-2 Transformada Inversa De Laplace-1588546975.4176118.xml\n",
      "#exes: 5\n"
     ]
    }
   ],
   "source": [
    "me.quick(gen_exercise, label, 5, impr=True, cabecera=miCabecera)"
   ]
  },
  {
   "cell_type": "raw",
   "metadata": {},
   "source": [
    "me.quick(gen_exercise, label, 500, impr=False, cabecera=miCabecera)"
   ]
  },
  {
   "cell_type": "code",
   "execution_count": null,
   "metadata": {},
   "outputs": [],
   "source": []
  }
 ],
 "metadata": {
  "kernelspec": {
   "display_name": "SageMath 9.0",
   "language": "sage",
   "name": "sagemath"
  },
  "language_info": {
   "codemirror_mode": {
    "name": "ipython",
    "version": 3
   },
   "file_extension": ".py",
   "mimetype": "text/x-python",
   "name": "python",
   "nbconvert_exporter": "python",
   "pygments_lexer": "ipython3",
   "version": "3.7.3"
  }
 },
 "nbformat": 4,
 "nbformat_minor": 2
}
