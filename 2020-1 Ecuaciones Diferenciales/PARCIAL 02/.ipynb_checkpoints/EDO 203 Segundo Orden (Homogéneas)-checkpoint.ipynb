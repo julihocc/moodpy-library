{
 "cells": [
  {
   "cell_type": "code",
   "execution_count": 1,
   "metadata": {},
   "outputs": [],
   "source": [
    "import moodpy as me\n",
    "import numpy as np\n",
    "np.random.seed(123)\n",
    "sage.misc.html._old_and_deprecated_behavior = False"
   ]
  },
  {
   "cell_type": "code",
   "execution_count": 2,
   "metadata": {},
   "outputs": [
    {
     "name": "stdout",
     "output_type": "stream",
     "text": [
      "<h1>MOODPY_EDO_203_ECUACIONES DE SEGUNDO ORDEN (HOMOGéNEAS)</h1>\n",
      "<h1> Ecuaciones De Segundo Orden (HomogéNeas) </h1>\n"
     ]
    }
   ],
   "source": [
    "\"\"\"\n",
    "CAMBIAR CLAVE Y TEMA!!!\n",
    "\"\"\"\n",
    "MATERIA = \"EDO\"\n",
    "CLAVE = \"203\"\n",
    "TEMA = \"Ecuaciones de Segundo Orden (Homogéneas)\"\n",
    "label = \"MOODPY_{}_{}_{}\".format(MATERIA, CLAVE, TEMA.upper())\n",
    "miCabecera = \"<h1> {} </h1>\".format(TEMA.title())\n",
    "print(\"<h1>\"+label+\"</h1>\")\n",
    "print(miCabecera)"
   ]
  },
  {
   "cell_type": "code",
   "execution_count": 3,
   "metadata": {},
   "outputs": [
    {
     "name": "stdout",
     "output_type": "stream",
     "text": [
      "(1.0, 0.28000000000000003, 0.72999999999999998)\n"
     ]
    }
   ],
   "source": [
    "def get_params():\n",
    "    x1 = np.random.normal(1,.25)\n",
    "    while True:\n",
    "        ics = np.random.normal(0,1,size=2)\n",
    "        ok = not np.any(np.isclose(ics,np.zeros(2)))\n",
    "        if ok:\n",
    "            y0,y00 = ics\n",
    "            break        \n",
    "    return np.round([y0, y00, x1],2)\n",
    "\n",
    "y0,y00,x1 = get_params()\n",
    "print(y0,y00,x1)"
   ]
  },
  {
   "cell_type": "code",
   "execution_count": 4,
   "metadata": {},
   "outputs": [
    {
     "name": "stdout",
     "output_type": "stream",
     "text": [
      "(-6.0*y(x) - 15.0*diff(y(x), x) + diff(y(x), x, x) == 0, x |--> -361/12450*sqrt(249)*e^(1/2*sqrt(249)*x + 15/2*x) + 361/12450*sqrt(249)*e^(-1/2*sqrt(249)*x + 15/2*x) + 1/2*e^(1/2*sqrt(249)*x + 15/2*x) + 1/2*e^(-1/2*sqrt(249)*x + 15/2*x))\n"
     ]
    }
   ],
   "source": [
    "def get_desolve(y0,y00):\n",
    "    x = var(\"x\")\n",
    "    u = function(\"y\")(x)\n",
    "    b,c= np.around(np.random.normal(0,10,size=2),0)\n",
    "    L = u.diff(x,2)+b*u.diff(x)+c*u\n",
    "    phi(x)=0\n",
    "    ode = L==phi(x)\n",
    "    #show(ode)\n",
    "    myics = [0,y0,y00]\n",
    "    #print(myics)\n",
    "    try:\n",
    "        f(x) = desolve(ode,u, ics=myics)\n",
    "    except:\n",
    "        print(\"No se puede resolver\")\n",
    "    if f(x)!=0:\n",
    "        f(x) = f.simplify_full().expand()\n",
    "    #show(f(x))\n",
    "    return ode, f\n",
    "\n",
    "problem = get_desolve(y0,y00)\n",
    "print(problem)"
   ]
  },
  {
   "cell_type": "code",
   "execution_count": 5,
   "metadata": {},
   "outputs": [
    {
     "data": {
      "text/html": [
       "<html><script type=\"math/tex; mode=display\">\\newcommand{\\Bold}[1]{\\mathbf{#1}}-6.0 \\, y\\left(x\\right) - 15.0 \\, y'(x) + y''(x) = 0</script></html>"
      ],
      "text/plain": [
       "-6.0 \\, y\\left(x\\right) - 15.0 \\, y'(x) + y''(x) = 0"
      ]
     },
     "metadata": {},
     "output_type": "display_data"
    }
   ],
   "source": [
    "def tex_ode(ode):\n",
    "    tex = str(latex(ode))\n",
    "    #print(tex)\n",
    "    first = r\"\\frac{\\partial}{\\partial x}y\\left(x\\right)\"\n",
    "    second = r\"\\frac{\\partial^{2}}{(\\partial x)^{2}}y\\left(x\\right)\"\n",
    "    tex = tex.replace(first, r\"y'(x)\").replace(second, r\"y''(x)\")\n",
    "    #print(tex)\n",
    "    return tex\n",
    "\n",
    "tex = tex_ode(problem[0])\n",
    "show(LatexExpr(tex))"
   ]
  },
  {
   "cell_type": "code",
   "execution_count": 6,
   "metadata": {},
   "outputs": [
    {
     "name": "stdout",
     "output_type": "stream",
     "text": [
      "<h1>MOODPY_EDO_203_ECUACIONES DE SEGUNDO ORDEN (HOMOGéNEAS)</h1>\n",
      "\n",
      "    <questiontext format=\"html\">\n",
      "<text>\n",
      "<![CDATA[\n",
      "<h1> Ecuaciones De Segundo Orden (HomogéNeas) </h1>\n",
      "    <p> Encuentre la solución \\(y(x)\\) de la siguiente ecuación diferencial\n",
      "    \\(-9.0 \\, y\\left(x\\right) + 13.0 \\, y'(x) + y''(x) = 0\\) con condiciones iniciales \\(y(0)=-2.43, \\; y'(0)=-0.43\\)\n",
      "    y evalue en el punto dado:</p>\n",
      "    <pre>\n",
      "    y(1.41) = {1:NM:=-5.94597351562547:-0.00594597351562547}\n",
      "    </pre>    \n",
      "    \n",
      "]]>\n",
      "</text></questiontext>\n",
      "\n",
      "    <generalfeedback format=\"html\">\n",
      "<text>\n",
      "<![CDATA[\n",
      "\n",
      "      La solución del problema de condiciones iniciales es\n",
      "    \\(y(x)=-\\frac{649}{8200} \\, \\sqrt{205} e^{\\left(\\frac{1}{2} \\, \\sqrt{205} x - \\frac{13}{2} \\, x\\right)} + \\frac{649}{8200} \\, \\sqrt{205} e^{\\left(-\\frac{1}{2} \\, \\sqrt{205} x - \\frac{13}{2} \\, x\\right)} - \\frac{243}{200} \\, e^{\\left(\\frac{1}{2} \\, \\sqrt{205} x - \\frac{13}{2} \\, x\\right)} - \\frac{243}{200} \\, e^{\\left(-\\frac{1}{2} \\, \\sqrt{205} x - \\frac{13}{2} \\, x\\right)}\\)  \n",
      "    \n",
      "]]>\n",
      "</text></generalfeedback>\n",
      "\n",
      "    \n"
     ]
    }
   ],
   "source": [
    "def gen_exercise(impr=False, cabecera=\"\"):\n",
    "    data ={}\n",
    "    answer = {}\n",
    "    feedback = {}\n",
    "    tex = {}\n",
    "    \n",
    "    y0,y00,x1 = get_params()\n",
    "    ode, f = get_desolve(y0,y00)\n",
    "        \n",
    "    tex[\"ode\"] = tex_ode(ode)\n",
    "    tex[\"y0\"] = latex(y0)\n",
    "    tex[\"y00\"] = latex(y00)\n",
    "    tex[\"f\"] = latex(f(x))\n",
    "    data[\"x1\"] = x1\n",
    "    f1 = f(x1).n()\n",
    "    #print(\"f1=\",f1)\n",
    "    #print(me.NM(f1))\n",
    "    answer[\"y1\"] = me.NM(f1)\n",
    "    \n",
    "    ejercicio = cabecera + \"\"\"\n",
    "    <p> Encuentre la solución \\(y(x)\\) de la siguiente ecuación diferencial\n",
    "    \\({t[ode]}\\) con condiciones iniciales \\(y(0)={t[y0]}, \\; y'(0)={t[y00]}\\)\n",
    "    y evalue en el punto dado:</p>\n",
    "    <pre>\n",
    "    y({d[x1]}) = {a[y1]}\n",
    "    </pre>    \n",
    "    \"\"\".format(d=data,a=answer,f=feedback,t=tex)\n",
    "    \n",
    "    retroalimentacion = \"\"\"\n",
    "      La solución del problema de condiciones iniciales es\n",
    "    \\(y(x)={t[f]}\\)  \n",
    "    \"\"\".format(d=data,a=answer,f=feedback,t=tex)\n",
    "    \n",
    "    return me.pretty(ejercicio, retroalimentacion)\n",
    "\n",
    "print(html(\"<h1>\"+label+\"</h1>\"))\n",
    "me.quick(gen_exercise, label, 0, impr=True, cabecera=miCabecera)"
   ]
  },
  {
   "cell_type": "code",
   "execution_count": 7,
   "metadata": {},
   "outputs": [
    {
     "name": "stdout",
     "output_type": "stream",
     "text": [
      "--------------------------------\n",
      "Done: 2020-03-21 07:22:40.593316\n",
      "Folder: MOODPY_EDO_203_ECUACIONES DE SEGUNDO ORDEN (HOMOGéNEAS)\n",
      "Filename: MOODPY_EDO_203_ECUACIONES DE SEGUNDO ORDEN (HOMOGéNEAS)-1584796960.59.xml\n",
      "#exes: 5\n"
     ]
    }
   ],
   "source": [
    "me.quick(gen_exercise, label, 5, impr=True, cabecera=miCabecera)"
   ]
  },
  {
   "cell_type": "code",
   "execution_count": 8,
   "metadata": {},
   "outputs": [
    {
     "name": "stdout",
     "output_type": "stream",
     "text": [
      "--------------------------------\n",
      "Done: 2020-03-21 14:05:29.531536\n",
      "Folder: MOODPY_EDO_203_ECUACIONES DE SEGUNDO ORDEN (HOMOGéNEAS)\n",
      "Filename: MOODPY_EDO_203_ECUACIONES DE SEGUNDO ORDEN (HOMOGéNEAS)-1584821129.53.xml\n",
      "#exes: 500\n"
     ]
    }
   ],
   "source": [
    "me.quick(gen_exercise, label, 500, impr=False, cabecera=miCabecera)"
   ]
  },
  {
   "cell_type": "code",
   "execution_count": null,
   "metadata": {},
   "outputs": [],
   "source": []
  }
 ],
 "metadata": {
  "kernelspec": {
   "display_name": "SageMath 8.1",
   "language": "",
   "name": "sagemath"
  },
  "language_info": {
   "codemirror_mode": {
    "name": "ipython",
    "version": 2
   },
   "file_extension": ".py",
   "mimetype": "text/x-python",
   "name": "python",
   "nbconvert_exporter": "python",
   "pygments_lexer": "ipython2",
   "version": "2.7.17"
  }
 },
 "nbformat": 4,
 "nbformat_minor": 2
}
