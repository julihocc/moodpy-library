{
 "cells": [
  {
   "cell_type": "code",
   "execution_count": 16,
   "metadata": {},
   "outputs": [],
   "source": [
    "import numpy as np\n",
    "import moodpy as me"
   ]
  },
  {
   "cell_type": "code",
   "execution_count": 17,
   "metadata": {},
   "outputs": [
    {
     "name": "stdout",
     "output_type": "stream",
     "text": [
      "y'= \\frac{9 \\, x - 1}{y - 2}\n"
     ]
    },
    {
     "data": {
      "text/html": [
       "<html><script type=\"math/tex; mode=display\">\\newcommand{\\Bold}[1]{\\mathbf{#1}}y'= \\frac{9 \\, x - 1}{y - 2}</script></html>"
      ],
      "text/plain": [
       "y'= \\frac{9 \\, x - 1}{y - 2}"
      ]
     },
     "metadata": {},
     "output_type": "display_data"
    },
    {
     "name": "stdout",
     "output_type": "stream",
     "text": [
      "0\n"
     ]
    },
    {
     "data": {
      "text/html": [
       "<html><script type=\"math/tex; mode=display\">\\newcommand{\\Bold}[1]{\\mathbf{#1}}9 \\, x^{2} - y^{2} - 2 \\, x + 4 \\, y - 586</script></html>"
      ],
      "text/plain": [
       "9*x^2 - y^2 - 2*x + 4*y - 586"
      ]
     },
     "metadata": {},
     "output_type": "display_data"
    }
   ],
   "source": [
    "#prototipo\n",
    "x,y = var(\"x,y\")\n",
    "a,b,c = np.random.randint(-10,10,size=3)\n",
    "g1(x,y) = a*x^2+b*x+c\n",
    "a,b,c = np.random.randint(-10,10,size=3)\n",
    "g2(x,y) = a*y^2+b*y+c\n",
    "g(x,y) = g1(x)+g2(y)\n",
    "x0,y0 = np.random.randint(-100,100,size=2)\n",
    "g(x,y) = g(x,y)-g(x0,y0)\n",
    "a(x,y) = g1.diff(x)\n",
    "b(x,y) = g2.diff(y)\n",
    "f(x,y) = -a(x,y)/b(x,y)\n",
    "edo = \"y'=\"+latex(f(x,y))\n",
    "print edo\n",
    "show(edo)\n",
    "print g(x0,y0)\n",
    "show(g(x,y))"
   ]
  },
  {
   "cell_type": "code",
   "execution_count": 18,
   "metadata": {},
   "outputs": [
    {
     "data": {
      "text/html": [
       "<html><script type=\"math/tex; mode=display\">\\newcommand{\\Bold}[1]{\\mathbf{#1}}\\verb|P101_edo_separable|</script></html>"
      ],
      "text/plain": [
       "'P101_edo_separable'"
      ]
     },
     "metadata": {},
     "output_type": "display_data"
    },
    {
     "data": {
      "text/html": [
       "<html><script type=\"math/tex; mode=display\">\\newcommand{\\Bold}[1]{\\mathbf{#1}}\\frac{5}{403} \\, x^{2} + \\frac{2}{403} \\, y^{2} - \\frac{1}{403} \\, x + \\frac{1}{403} \\, y - \\frac{185}{403}</script></html>"
      ],
      "text/plain": [
       "5/403*x^2 + 2/403*y^2 - 1/403*x + 1/403*y - 185/403"
      ]
     },
     "metadata": {},
     "output_type": "display_data"
    },
    {
     "name": "stdout",
     "output_type": "stream",
     "text": [
      "\n",
      "    <questiontext format=\"html\">\n",
      "<text>\n",
      "<![CDATA[\n",
      "\n",
      "    <h1> Ecuaciones diferenciales ordinarias </h1>\n",
      "    <h2> Caso separable, ejemplo 1 </h2>\n",
      "    <p>\n",
      "    Encuentre la solución \\(g(x,y)=0\\) de la siguiente ecuación diferencial separable \n",
      "    $$\\frac{ dy }{ dx }= -\\frac{10 \\, x - 1}{4 \\, y + 1}$$ \n",
      "    con condición inicial \\(x_0=-5,y_0=5\\). \n",
      "    </p>\n",
      "    <h3> Control </h3>\n",
      "    <p> <em>Normalice</em> su respuesta de manera que \\(g(-10,6)=1\\). \n",
      "    Verifique su respuesta evaluando en el punto dado:</p>\n",
      "    <p>\n",
      "    \\(g(-9,2)=\\){1:NM:=0.5930521091811415:0.017791563275434245}\n",
      "    </p>\n",
      "    \n",
      "]]>\n",
      "</text></questiontext>\n",
      "\n",
      "    <generalfeedback format=\"html\">\n",
      "<text>\n",
      "<![CDATA[\n",
      "\n",
      "    La solución normalizada está dada por \n",
      "    $$\\frac{5}{403} \\, x^{2} + \\frac{2}{403} \\, y^{2} - \\frac{1}{403} \\, x + \\frac{1}{403} \\, y - \\frac{185}{403}=0$$.\n",
      "    \n",
      "]]>\n",
      "</text></generalfeedback>\n",
      "\n",
      "    \n"
     ]
    }
   ],
   "source": [
    "def gen(impr):\n",
    "    x,y = var(\"x,y\")    \n",
    "    \n",
    "    while True:\n",
    "        a,b,c = np.random.randint(-10,10,size=3)\n",
    "        if a!=0 and b!=0:\n",
    "            g1(x,y) = a*x^2+b*x+c\n",
    "            break\n",
    "    while True:\n",
    "        a,b,c = np.random.randint(-10,10,size=3)\n",
    "        if a!=0 or b!=0:\n",
    "            g2(x,y) = a*y^2+b*y+c\n",
    "            break\n",
    "            \n",
    "    g(x,y) = g1(x)+g2(y)\n",
    "    a(x,y) = g.diff(x)\n",
    "    b(x,y) = g.diff(y)\n",
    "    f(x,y) = -a(x,y)/b(x,y)\n",
    "    \n",
    "    while True:\n",
    "        x0,y0 = np.random.randint(-10,10,size=2)   \n",
    "        if b(x0,y0)!=0:\n",
    "            break\n",
    "    data = {\"x0\":x0, \"y0\":y0}\n",
    "    \n",
    "    g(x,y) = g(x,y)-g(x0,y0)\n",
    "    assert g(x0,y0)==0\n",
    "    \n",
    "    tex = {}\n",
    "    tex[\"ode\"] = \"\\\\frac{ dy }{ dx }=\"+latex(f(x,y))\n",
    "    tex[\"ics\"] = \"x_0={s[x0]},y_0={s[y0]}\".format(s=data)\n",
    "    tex[\"level\"] = \"g(x,y)=0\".format(s=data)\n",
    "    \n",
    "    while True:\n",
    "        x1,y1,x2,y2 = np.random.randint(-10,10,size=4)\n",
    "        if g(x1,y1)!=0:\n",
    "            break\n",
    "    \n",
    "    g(x,y) = g(x,y)/g(x1,y1)\n",
    "    tex[\"g\"] = latex(g(x,y))\n",
    "    assert g(x1,y1)==1\n",
    "    \n",
    "    if impr: show(g(x,y))\n",
    "    \n",
    "    check = {}\n",
    "    check[\"p1\"] = \"g({},{})\".format(x1,y1)\n",
    "    check[\"p2\"] = \"g({},{})\".format(x2,y2)\n",
    "    ans = {}    \n",
    "    ans[\"p2\"] = me.NM(g(x2,y2))\n",
    "    \n",
    "    ejercicio = \"\"\"\n",
    "    <h1> Ecuaciones diferenciales ordinarias </h1>\n",
    "    <h2> Caso separable, ejemplo 1 </h2>\n",
    "    <p>\n",
    "    Encuentre la solución \\({tex[level]}\\) de la siguiente ecuación diferencial separable \n",
    "    $${tex[ode]}$$ \n",
    "    con condición inicial \\({tex[ics]}\\). \n",
    "    </p>\n",
    "    <h3> Control </h3>\n",
    "    <p> <em>Normalice</em> su respuesta de manera que \\({ch[p1]}=1\\). \n",
    "    Verifique su respuesta evaluando en el punto dado:</p>\n",
    "    <p>\n",
    "    \\({ch[p2]}=\\){a[p2]}\n",
    "    </p>\n",
    "    \"\"\".format(tex=tex, ch=check, a=ans)\n",
    "    \n",
    "    retroalimentacion = \"\"\"\n",
    "    La solución normalizada está dada por \n",
    "    $${t[g]}=0$$.\n",
    "    \"\"\".format(t=tex)\n",
    "    return me.pretty(ejercicio, retroalimentacion)\n",
    "\n",
    "np.random.seed(1)\n",
    "label = \"P101_edo_separable\"\n",
    "show(label)\n",
    "me.quick(gen, label, 0, impr=True)"
   ]
  },
  {
   "cell_type": "code",
   "execution_count": 19,
   "metadata": {},
   "outputs": [
    {
     "data": {
      "text/html": [
       "<html><script type=\"math/tex; mode=display\">\\newcommand{\\Bold}[1]{\\mathbf{#1}}\\frac{1}{190} \\, x^{2} - \\frac{4}{95} \\, y^{2} - \\frac{2}{95} \\, x - \\frac{7}{190} \\, y + \\frac{167}{95}</script></html>"
      ],
      "text/plain": [
       "1/190*x^2 - 4/95*y^2 - 2/95*x - 7/190*y + 167/95"
      ]
     },
     "metadata": {},
     "output_type": "display_data"
    },
    {
     "name": "stdout",
     "output_type": "stream",
     "text": [
      "\n",
      "    <questiontext format=\"html\">\n",
      "<text>\n",
      "<![CDATA[\n",
      "\n",
      "    <h1> Ecuaciones diferenciales ordinarias </h1>\n",
      "    <h2> Caso separable, ejemplo 1 </h2>\n",
      "    <p>\n",
      "    Encuentre la solución \\(g(x,y)=0\\) de la siguiente ecuación diferencial separable \n",
      "    $$\\frac{ dy }{ dx }= \\frac{2 \\, {\\left(x - 2\\right)}}{16 \\, y + 7}$$ \n",
      "    con condición inicial \\(x_0=2,y_0=6\\). \n",
      "    </p>\n",
      "    <h3> Control </h3>\n",
      "    <p> <em>Normalice</em> su respuesta de manera que \\(g(7,-5)=1\\). \n",
      "    Verifique su respuesta evaluando en el punto dado:</p>\n",
      "    <p>\n",
      "    \\(g(3,-8)=\\){1:NM:=-0.6578947368421053:-0.01973684210526316}\n",
      "    </p>\n",
      "    \n",
      "]]>\n",
      "</text></questiontext>\n",
      "\n",
      "    <generalfeedback format=\"html\">\n",
      "<text>\n",
      "<![CDATA[\n",
      "\n",
      "    La solución normalizada está dada por \n",
      "    $$\\frac{1}{190} \\, x^{2} - \\frac{4}{95} \\, y^{2} - \\frac{2}{95} \\, x - \\frac{7}{190} \\, y + \\frac{167}{95}=0$$.\n",
      "    \n",
      "]]>\n",
      "</text></generalfeedback>\n",
      "\n",
      "    \n"
     ]
    }
   ],
   "source": [
    "np.random.seed(12)\n",
    "me.quick(gen, label, 0, impr=True)"
   ]
  },
  {
   "cell_type": "code",
   "execution_count": 20,
   "metadata": {},
   "outputs": [
    {
     "data": {
      "text/html": [
       "<html><script type=\"math/tex; mode=display\">\\newcommand{\\Bold}[1]{\\mathbf{#1}}\\frac{2}{363} \\, x^{2} - \\frac{8}{363} \\, y^{2} - \\frac{2}{363} \\, x + \\frac{7}{363} \\, y + \\frac{599}{363}</script></html>"
      ],
      "text/plain": [
       "2/363*x^2 - 8/363*y^2 - 2/363*x + 7/363*y + 599/363"
      ]
     },
     "metadata": {},
     "output_type": "display_data"
    },
    {
     "name": "stdout",
     "output_type": "stream",
     "text": [
      "\n",
      "    <questiontext format=\"html\">\n",
      "<text>\n",
      "<![CDATA[\n",
      "\n",
      "    <h1> Ecuaciones diferenciales ordinarias </h1>\n",
      "    <h2> Caso separable, ejemplo 1 </h2>\n",
      "    <p>\n",
      "    Encuentre la solución \\(g(x,y)=0\\) de la siguiente ecuación diferencial separable \n",
      "    $$\\frac{ dy }{ dx }= \\frac{2 \\, {\\left(2 \\, x - 1\\right)}}{16 \\, y - 7}$$ \n",
      "    con condición inicial \\(x_0=-7,y_0=-9\\). \n",
      "    </p>\n",
      "    <h3> Control </h3>\n",
      "    <p> <em>Normalice</em> su respuesta de manera que \\(g(-10,8)=1\\). \n",
      "    Verifique su respuesta evaluando en el punto dado:</p>\n",
      "    <p>\n",
      "    \\(g(8,6)=\\){1:NM:=1.28099173553719:0.0384297520661157}\n",
      "    </p>\n",
      "    \n",
      "]]>\n",
      "</text></questiontext>\n",
      "\n",
      "    <generalfeedback format=\"html\">\n",
      "<text>\n",
      "<![CDATA[\n",
      "\n",
      "    La solución normalizada está dada por \n",
      "    $$\\frac{2}{363} \\, x^{2} - \\frac{8}{363} \\, y^{2} - \\frac{2}{363} \\, x + \\frac{7}{363} \\, y + \\frac{599}{363}=0$$.\n",
      "    \n",
      "]]>\n",
      "</text></generalfeedback>\n",
      "\n",
      "    \n"
     ]
    }
   ],
   "source": [
    "me.quick(gen, label, 0, impr=True)"
   ]
  },
  {
   "cell_type": "code",
   "execution_count": 21,
   "metadata": {},
   "outputs": [
    {
     "data": {
      "text/html": [
       "<html><script type=\"math/tex; mode=display\">\\newcommand{\\Bold}[1]{\\mathbf{#1}}\\frac{1}{83} \\, x^{2} - \\frac{3}{332} \\, y^{2} - \\frac{3}{332} \\, x - \\frac{3}{166} \\, y + \\frac{53}{332}</script></html>"
      ],
      "text/plain": [
       "1/83*x^2 - 3/332*y^2 - 3/332*x - 3/166*y + 53/332"
      ]
     },
     "metadata": {},
     "output_type": "display_data"
    },
    {
     "name": "stdout",
     "output_type": "stream",
     "text": [
      "\n",
      "    <questiontext format=\"html\">\n",
      "<text>\n",
      "<![CDATA[\n",
      "\n",
      "    <h1> Ecuaciones diferenciales ordinarias </h1>\n",
      "    <h2> Caso separable, ejemplo 1 </h2>\n",
      "    <p>\n",
      "    Encuentre la solución \\(g(x,y)=0\\) de la siguiente ecuación diferencial separable \n",
      "    $$\\frac{ dy }{ dx }= \\frac{8 \\, x - 3}{6 \\, {\\left(y + 1\\right)}}$$ \n",
      "    con condición inicial \\(x_0=4,y_0=5\\). \n",
      "    </p>\n",
      "    <h3> Control </h3>\n",
      "    <p> <em>Normalice</em> su respuesta de manera que \\(g(-9,-6)=1\\). \n",
      "    Verifique su respuesta evaluando en el punto dado:</p>\n",
      "    <p>\n",
      "    \\(g(-10,-6)=\\){1:NM:=1.2379518072289157:0.03713855421686747}\n",
      "    </p>\n",
      "    \n",
      "]]>\n",
      "</text></questiontext>\n",
      "\n",
      "    <generalfeedback format=\"html\">\n",
      "<text>\n",
      "<![CDATA[\n",
      "\n",
      "    La solución normalizada está dada por \n",
      "    $$\\frac{1}{83} \\, x^{2} - \\frac{3}{332} \\, y^{2} - \\frac{3}{332} \\, x - \\frac{3}{166} \\, y + \\frac{53}{332}=0$$.\n",
      "    \n",
      "]]>\n",
      "</text></generalfeedback>\n",
      "\n",
      "    \n"
     ]
    }
   ],
   "source": [
    "me.quick(gen, label, 0, impr=True)"
   ]
  },
  {
   "cell_type": "code",
   "execution_count": 22,
   "metadata": {},
   "outputs": [
    {
     "name": "stdout",
     "output_type": "stream",
     "text": [
      "--------------------------------\n",
      "Done: 2018-02-19 20:59:16.397184\n",
      "Folder: P101_edo_separable\n",
      "Filename: P101_edo_separable-1519095556.4.xml\n",
      "#exes: 5\n"
     ]
    }
   ],
   "source": [
    "me.quick(gen, label, 5)"
   ]
  },
  {
   "cell_type": "code",
   "execution_count": 23,
   "metadata": {},
   "outputs": [
    {
     "name": "stdout",
     "output_type": "stream",
     "text": [
      "--------------------------------\n",
      "Done: 2018-02-19 21:01:55.021371\n",
      "Folder: P101_edo_separable\n",
      "Filename: P101_edo_separable-1519095715.02.xml\n",
      "#exes: 120\n"
     ]
    }
   ],
   "source": [
    "me.quick(gen, label, 10*12)"
   ]
  }
 ],
 "metadata": {
  "kernelspec": {
   "display_name": "SageMath 8.1",
   "language": "",
   "name": "sagemath"
  },
  "language_info": {
   "codemirror_mode": {
    "name": "ipython",
    "version": 2
   },
   "file_extension": ".py",
   "mimetype": "text/x-python",
   "name": "python",
   "nbconvert_exporter": "python",
   "pygments_lexer": "ipython2",
   "version": "2.7.17"
  }
 },
 "nbformat": 4,
 "nbformat_minor": 1
}
