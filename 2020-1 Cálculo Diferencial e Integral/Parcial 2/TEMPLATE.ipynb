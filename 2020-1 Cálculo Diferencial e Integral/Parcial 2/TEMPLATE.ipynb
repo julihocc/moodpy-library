{
 "cells": [
  {
   "cell_type": "raw",
   "metadata": {},
   "source": [
    "import moodpy as me\n",
    "import numpy as np\n",
    "np.random.seed(123)\n",
    "sage.misc.html._old_and_deprecated_behavior = False"
   ]
  },
  {
   "cell_type": "raw",
   "metadata": {},
   "source": [
    "\"\"\"\n",
    "CAMBIAR CLAVE Y TEMA!!!\n",
    "\"\"\"\n",
    "MATERIA = \"---\"\n",
    "CLAVE = \"000\"\n",
    "TEMA = \"---\"\n",
    "label = \"MOODPY_{}_{}_{}\".format(MATERIA, CLAVE, TEMA.title())\n",
    "miCabecera = \"<h1> {} </h1>\".format(TEMA.title())\n",
    "print(\"<h1>\"+label+\"</h1>\")\n",
    "print(miCabecera)"
   ]
  },
  {
   "cell_type": "raw",
   "metadata": {},
   "source": [
    "def gen_exercise(impr=False, cabecera=\"\"):\n",
    "    data ={}\n",
    "    answer = {}\n",
    "    feedback = {}\n",
    "    \n",
    "    ejercicio = cabecera + \"\"\"\n",
    "    \n",
    "    \"\"\"\n",
    "    \n",
    "    retroalimentacion = \"\"\"\n",
    "    \n",
    "    \"\"\"\n",
    "    \n",
    "    return me.pretty(ejercicio, retroalimentacion)\n",
    "\n",
    "print(html(\"<h1>\"+label+\"</h1>\"))\n",
    "me.quick(gen_exercise, label, 0, impr=True, cabecera=miCabecera)"
   ]
  },
  {
   "cell_type": "raw",
   "metadata": {},
   "source": [
    "me.quick(gen_exercise, label, 5, impr=True, cabecera=miCabecera)"
   ]
  },
  {
   "cell_type": "raw",
   "metadata": {},
   "source": [
    "me.quick(gen_exercise, label, 500, impr=False, cabecera=miCabecera)"
   ]
  }
 ],
 "metadata": {
  "kernelspec": {
   "display_name": "SageMath 9.0",
   "language": "sage",
   "name": "sagemath"
  },
  "language_info": {
   "codemirror_mode": {
    "name": "ipython",
    "version": 3
   },
   "file_extension": ".py",
   "mimetype": "text/x-python",
   "name": "python",
   "nbconvert_exporter": "python",
   "pygments_lexer": "ipython3",
   "version": "3.7.3"
  }
 },
 "nbformat": 4,
 "nbformat_minor": 2
}
