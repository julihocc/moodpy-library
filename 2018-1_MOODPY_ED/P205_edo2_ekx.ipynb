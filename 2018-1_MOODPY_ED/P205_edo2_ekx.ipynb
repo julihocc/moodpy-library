{
 "cells": [
  {
   "cell_type": "code",
   "execution_count": 1,
   "metadata": {
    "collapsed": false
   },
   "outputs": [],
   "source": [
    "import numpy as np\n",
    "import moodpy02 as me"
   ]
  },
  {
   "cell_type": "code",
   "execution_count": 7,
   "metadata": {
    "collapsed": false,
    "scrolled": true
   },
   "outputs": [
    {
     "data": {
      "text/html": [
       "<h1>P205_edo2_ekx</h1>"
      ],
      "text/plain": [
       "<h1>P205_edo2_ekx</h1>"
      ]
     },
     "metadata": {},
     "output_type": "display_data"
    },
    {
     "data": {
      "text/html": [
       "\n",
       "    <h1> EDOs lineales de 2o Orden </h1>\n",
       "    <h2> Coeficientes indeterminados: \\( \\phi(x)=Ae^{kx} \\) </h2>\n",
       "    <p> Encuentre la solución \\(u(x)\\) de la siguiente ecuación diferencial\n",
       "    \\(2 \\, u\\left(x\\right) + \\frac{\\partial}{\\partial x}u\\left(x\\right) + \\frac{\\partial^{2}}{(\\partial x)^{2}}u\\left(x\\right) = -2 \\, e^{\\left(-x\\right)}\\) con condiciones iniciales \\(u(0)=-2, \\; u'(0)=-2\\)\n",
       "    y evalue en el punto dado:</p>\n",
       "    <pre>\n",
       "    u(1.3) = {1:NM:=-1.56097588037100:-0.0468292764111300}\n",
       "    </pre>\n",
       "    "
      ],
      "text/plain": [
       "\n",
       "    <h1> EDOs lineales de 2o Orden </h1>\n",
       "    <h2> Coeficientes indeterminados: \\( \\phi(x)=Ae^{kx} \\) </h2>\n",
       "    <p> Encuentre la solución \\(u(x)\\) de la siguiente ecuación diferencial\n",
       "    \\(2 \\, u\\left(x\\right) + \\frac{\\partial}{\\partial x}u\\left(x\\right) + \\frac{\\partial^{2}}{(\\partial x)^{2}}u\\left(x\\right) = -2 \\, e^{\\left(-x\\right)}\\) con condiciones iniciales \\(u(0)=-2, \\; u'(0)=-2\\)\n",
       "    y evalue en el punto dado:</p>\n",
       "    <pre>\n",
       "    u(1.3) = {1:NM:=-1.56097588037100:-0.0468292764111300}\n",
       "    </pre>\n",
       "    "
      ]
     },
     "metadata": {},
     "output_type": "display_data"
    },
    {
     "data": {
      "text/html": [
       "\n",
       "    La solución del problema de condiciones iniciales es\n",
       "    \\(u(x)=-{\\left(\\sqrt{7} e^{x} \\sin\\left(\\frac{1}{2} \\, \\sqrt{7} x\\right) + \\cos\\left(\\frac{1}{2} \\, \\sqrt{7} x\\right) e^{x} + e^{\\left(\\frac{1}{2} \\, x\\right)}\\right)} e^{\\left(-\\frac{3}{2} \\, x\\right)}\\)\n",
       "    "
      ],
      "text/plain": [
       "\n",
       "    La solución del problema de condiciones iniciales es\n",
       "    \\(u(x)=-{\\left(\\sqrt{7} e^{x} \\sin\\left(\\frac{1}{2} \\, \\sqrt{7} x\\right) + \\cos\\left(\\frac{1}{2} \\, \\sqrt{7} x\\right) e^{x} + e^{\\left(\\frac{1}{2} \\, x\\right)}\\right)} e^{\\left(-\\frac{3}{2} \\, x\\right)}\\)\n",
       "    "
      ]
     },
     "metadata": {},
     "output_type": "display_data"
    },
    {
     "name": "stdout",
     "output_type": "stream",
     "text": [
      "\n",
      "    <questiontext format=\"html\">\n",
      "<text>\n",
      "<![CDATA[\n",
      "\n",
      "    <h1> EDOs lineales de 2o Orden </h1>\n",
      "    <h2> Coeficientes indeterminados: \\( \\phi(x)=Ae^{kx} \\) </h2>\n",
      "    <p> Encuentre la solución \\(u(x)\\) de la siguiente ecuación diferencial\n",
      "    \\(2 \\, u\\left(x\\right) + \\frac{\\partial}{\\partial x}u\\left(x\\right) + \\frac{\\partial^{2}}{(\\partial x)^{2}}u\\left(x\\right) = -2 \\, e^{\\left(-x\\right)}\\) con condiciones iniciales \\(u(0)=-2, \\; u'(0)=-2\\)\n",
      "    y evalue en el punto dado:</p>\n",
      "    <pre>\n",
      "    u(1.3) = {1:NM:=-1.56097588037100:-0.0468292764111300}\n",
      "    </pre>\n",
      "    \n",
      "]]>\n",
      "</text></questiontext>\n",
      "\n",
      "    <generalfeedback format=\"html\">\n",
      "<text>\n",
      "<![CDATA[\n",
      "\n",
      "    La solución del problema de condiciones iniciales es\n",
      "    \\(u(x)=-{\\left(\\sqrt{7} e^{x} \\sin\\left(\\frac{1}{2} \\, \\sqrt{7} x\\right) + \\cos\\left(\\frac{1}{2} \\, \\sqrt{7} x\\right) e^{x} + e^{\\left(\\frac{1}{2} \\, x\\right)}\\right)} e^{\\left(-\\frac{3}{2} \\, x\\right)}\\)\n",
      "    \n",
      "]]>\n",
      "</text></generalfeedback>\n",
      "\n",
      "    \n"
     ]
    }
   ],
   "source": [
    "def gen(impr):\n",
    "    \n",
    "    tex = {}\n",
    "    data = {}\n",
    "    ans = {}\n",
    "    \n",
    "    x = var(\"x\")\n",
    "    u = function(\"u\")(x)\n",
    "    b,c= np.random.randint(-2,3,size=2)    \n",
    "    while True:\n",
    "        A,k = np.random.randint(-10,10+1,size=2)\n",
    "        if A!=0 and k!=0:\n",
    "            break\n",
    "    phi(x)= A*exp(k*x)\n",
    "    ode = u.diff(x,2)(x)+b*u.diff(x)(x)+c*u(x)==phi(x)\n",
    "    tex[\"ode\"] = latex(ode)\n",
    "    x1 = 1 + np.around(np.random.random(), 2)\n",
    "    data[\"x1\"] = x1\n",
    "    while True:\n",
    "        y0,y00 = np.random.randint(-2,3,size=2)\n",
    "        if y0!=0 or y00!=0:\n",
    "            break\n",
    "    myics = [0,y0,y00]\n",
    "    tex[\"y0\"] = \"u(0)={}\".format(y0)\n",
    "    tex[\"y00\"] = \"u'(0)={}\".format(y00)\n",
    "    f(x) = desolve(ode,u, ics=myics)\n",
    "    if f(x)!=0:\n",
    "        f(x) = f(x).simplify_full()\n",
    "    ans[\"f1\"] = me.NM(f(x1).n())\n",
    "    \n",
    "    tex[\"y\"] = latex(f(x))\n",
    "        \n",
    "    ejercicio = \"\"\"\n",
    "    <h1> EDOs lineales de 2o Orden </h1>\n",
    "    <h2> Coeficientes indeterminados: \\( \\\\phi(x)=Ae^{{kx}} \\) </h2>\n",
    "    <p> Encuentre la solución \\(u(x)\\) de la siguiente ecuación diferencial\n",
    "    \\({tex[ode]}\\) con condiciones iniciales \\({tex[y0]}, \\; {tex[y00]}\\)\n",
    "    y evalue en el punto dado:</p>\n",
    "    <pre>\n",
    "    u({data[x1]}) = {ans[f1]}\n",
    "    </pre>\n",
    "    \"\"\".format(tex=tex, data=data, ans=ans)\n",
    "    \n",
    "    retroalimentacion = \"\"\"\n",
    "    La solución del problema de condiciones iniciales es\n",
    "    \\(u(x)={tex[y]}\\)\n",
    "    \"\"\".format(tex=tex, data=data, ans=ans)\n",
    "            \n",
    "    if impr:\n",
    "        show(html(ejercicio))\n",
    "        show(html(retroalimentacion))\n",
    "    \n",
    "    return me.pretty(ejercicio, retroalimentacion)\n",
    "\n",
    "np.random.seed(1)\n",
    "label = \"P205_edo2_ekx\"\n",
    "show(html(\"<h1>\"+label+\"</h1>\"))\n",
    "me.quick(gen, label, 0, impr=True)"
   ]
  },
  {
   "cell_type": "code",
   "execution_count": 8,
   "metadata": {
    "collapsed": false,
    "scrolled": true
   },
   "outputs": [
    {
     "data": {
      "text/html": [
       "\n",
       "    <h1> EDOs lineales de 2o Orden </h1>\n",
       "    <h2> Coeficientes indeterminados: \\( \\phi(x)=Ae^{kx} \\) </h2>\n",
       "    <p> Encuentre la solución \\(u(x)\\) de la siguiente ecuación diferencial\n",
       "    \\(u\\left(x\\right) + \\frac{\\partial}{\\partial x}u\\left(x\\right) + \\frac{\\partial^{2}}{(\\partial x)^{2}}u\\left(x\\right) = -4 \\, e^{\\left(7 \\, x\\right)}\\) con condiciones iniciales \\(u(0)=1, \\; u'(0)=2\\)\n",
       "    y evalue en el punto dado:</p>\n",
       "    <pre>\n",
       "    u(1.09) = {1:NM:=-142.489703109204:-4.27469109327611}\n",
       "    </pre>\n",
       "    "
      ],
      "text/plain": [
       "\n",
       "    <h1> EDOs lineales de 2o Orden </h1>\n",
       "    <h2> Coeficientes indeterminados: \\( \\phi(x)=Ae^{kx} \\) </h2>\n",
       "    <p> Encuentre la solución \\(u(x)\\) de la siguiente ecuación diferencial\n",
       "    \\(u\\left(x\\right) + \\frac{\\partial}{\\partial x}u\\left(x\\right) + \\frac{\\partial^{2}}{(\\partial x)^{2}}u\\left(x\\right) = -4 \\, e^{\\left(7 \\, x\\right)}\\) con condiciones iniciales \\(u(0)=1, \\; u'(0)=2\\)\n",
       "    y evalue en el punto dado:</p>\n",
       "    <pre>\n",
       "    u(1.09) = {1:NM:=-142.489703109204:-4.27469109327611}\n",
       "    </pre>\n",
       "    "
      ]
     },
     "metadata": {},
     "output_type": "display_data"
    },
    {
     "data": {
      "text/html": [
       "\n",
       "    La solución del problema de condiciones iniciales es\n",
       "    \\(u(x)=\\frac{1}{57} \\, {\\left(115 \\, \\sqrt{3} \\sin\\left(\\frac{1}{2} \\, \\sqrt{3} x\\right) + 61 \\, \\cos\\left(\\frac{1}{2} \\, \\sqrt{3} x\\right) - 4 \\, e^{\\left(\\frac{15}{2} \\, x\\right)}\\right)} e^{\\left(-\\frac{1}{2} \\, x\\right)}\\)\n",
       "    "
      ],
      "text/plain": [
       "\n",
       "    La solución del problema de condiciones iniciales es\n",
       "    \\(u(x)=\\frac{1}{57} \\, {\\left(115 \\, \\sqrt{3} \\sin\\left(\\frac{1}{2} \\, \\sqrt{3} x\\right) + 61 \\, \\cos\\left(\\frac{1}{2} \\, \\sqrt{3} x\\right) - 4 \\, e^{\\left(\\frac{15}{2} \\, x\\right)}\\right)} e^{\\left(-\\frac{1}{2} \\, x\\right)}\\)\n",
       "    "
      ]
     },
     "metadata": {},
     "output_type": "display_data"
    },
    {
     "data": {
      "text/html": [
       "\n",
       "    <h1> EDOs lineales de 2o Orden </h1>\n",
       "    <h2> Coeficientes indeterminados: \\( \\phi(x)=Ae^{kx} \\) </h2>\n",
       "    <p> Encuentre la solución \\(u(x)\\) de la siguiente ecuación diferencial\n",
       "    \\(-u\\left(x\\right) - 2 \\, \\frac{\\partial}{\\partial x}u\\left(x\\right) + \\frac{\\partial^{2}}{(\\partial x)^{2}}u\\left(x\\right) = 10 \\, e^{\\left(-5 \\, x\\right)}\\) con condiciones iniciales \\(u(0)=0, \\; u'(0)=1\\)\n",
       "    y evalue en el punto dado:</p>\n",
       "    <pre>\n",
       "    u(1.03) = {1:NM:=9.24996188395898:0.277498856518769}\n",
       "    </pre>\n",
       "    "
      ],
      "text/plain": [
       "\n",
       "    <h1> EDOs lineales de 2o Orden </h1>\n",
       "    <h2> Coeficientes indeterminados: \\( \\phi(x)=Ae^{kx} \\) </h2>\n",
       "    <p> Encuentre la solución \\(u(x)\\) de la siguiente ecuación diferencial\n",
       "    \\(-u\\left(x\\right) - 2 \\, \\frac{\\partial}{\\partial x}u\\left(x\\right) + \\frac{\\partial^{2}}{(\\partial x)^{2}}u\\left(x\\right) = 10 \\, e^{\\left(-5 \\, x\\right)}\\) con condiciones iniciales \\(u(0)=0, \\; u'(0)=1\\)\n",
       "    y evalue en el punto dado:</p>\n",
       "    <pre>\n",
       "    u(1.03) = {1:NM:=9.24996188395898:0.277498856518769}\n",
       "    </pre>\n",
       "    "
      ]
     },
     "metadata": {},
     "output_type": "display_data"
    },
    {
     "data": {
      "text/html": [
       "\n",
       "    La solución del problema de condiciones iniciales es\n",
       "    \\(u(x)=\\frac{1}{68} \\, {\\left({\\left(47 \\, \\sqrt{2} - 10\\right)} e^{\\left(2 \\, \\sqrt{2} x + 6 \\, x\\right)} - {\\left(47 \\, \\sqrt{2} + 10\\right)} e^{\\left(6 \\, x\\right)} + 20 \\, e^{\\left(\\sqrt{2} x\\right)}\\right)} e^{\\left(-\\sqrt{2} x - 5 \\, x\\right)}\\)\n",
       "    "
      ],
      "text/plain": [
       "\n",
       "    La solución del problema de condiciones iniciales es\n",
       "    \\(u(x)=\\frac{1}{68} \\, {\\left({\\left(47 \\, \\sqrt{2} - 10\\right)} e^{\\left(2 \\, \\sqrt{2} x + 6 \\, x\\right)} - {\\left(47 \\, \\sqrt{2} + 10\\right)} e^{\\left(6 \\, x\\right)} + 20 \\, e^{\\left(\\sqrt{2} x\\right)}\\right)} e^{\\left(-\\sqrt{2} x - 5 \\, x\\right)}\\)\n",
       "    "
      ]
     },
     "metadata": {},
     "output_type": "display_data"
    },
    {
     "data": {
      "text/html": [
       "\n",
       "    <h1> EDOs lineales de 2o Orden </h1>\n",
       "    <h2> Coeficientes indeterminados: \\( \\phi(x)=Ae^{kx} \\) </h2>\n",
       "    <p> Encuentre la solución \\(u(x)\\) de la siguiente ecuación diferencial\n",
       "    \\(-2 \\, u\\left(x\\right) + \\frac{\\partial^{2}}{(\\partial x)^{2}}u\\left(x\\right) = -2 \\, e^{\\left(2 \\, x\\right)}\\) con condiciones iniciales \\(u(0)=-1, \\; u'(0)=1\\)\n",
       "    y evalue en el punto dado:</p>\n",
       "    <pre>\n",
       "    u(1.94) = {1:NM:=-32.0072114183572:-0.960216342550716}\n",
       "    </pre>\n",
       "    "
      ],
      "text/plain": [
       "\n",
       "    <h1> EDOs lineales de 2o Orden </h1>\n",
       "    <h2> Coeficientes indeterminados: \\( \\phi(x)=Ae^{kx} \\) </h2>\n",
       "    <p> Encuentre la solución \\(u(x)\\) de la siguiente ecuación diferencial\n",
       "    \\(-2 \\, u\\left(x\\right) + \\frac{\\partial^{2}}{(\\partial x)^{2}}u\\left(x\\right) = -2 \\, e^{\\left(2 \\, x\\right)}\\) con condiciones iniciales \\(u(0)=-1, \\; u'(0)=1\\)\n",
       "    y evalue en el punto dado:</p>\n",
       "    <pre>\n",
       "    u(1.94) = {1:NM:=-32.0072114183572:-0.960216342550716}\n",
       "    </pre>\n",
       "    "
      ]
     },
     "metadata": {},
     "output_type": "display_data"
    },
    {
     "data": {
      "text/html": [
       "\n",
       "    La solución del problema de condiciones iniciales es\n",
       "    \\(u(x)=\\frac{1}{4} \\, {\\left(3 \\, \\sqrt{2} e^{\\left(2 \\, \\sqrt{2} x\\right)} - 3 \\, \\sqrt{2} - 4 \\, e^{\\left(\\sqrt{2} x + 2 \\, x\\right)}\\right)} e^{\\left(-\\sqrt{2} x\\right)}\\)\n",
       "    "
      ],
      "text/plain": [
       "\n",
       "    La solución del problema de condiciones iniciales es\n",
       "    \\(u(x)=\\frac{1}{4} \\, {\\left(3 \\, \\sqrt{2} e^{\\left(2 \\, \\sqrt{2} x\\right)} - 3 \\, \\sqrt{2} - 4 \\, e^{\\left(\\sqrt{2} x + 2 \\, x\\right)}\\right)} e^{\\left(-\\sqrt{2} x\\right)}\\)\n",
       "    "
      ]
     },
     "metadata": {},
     "output_type": "display_data"
    },
    {
     "data": {
      "text/html": [
       "\n",
       "    <h1> EDOs lineales de 2o Orden </h1>\n",
       "    <h2> Coeficientes indeterminados: \\( \\phi(x)=Ae^{kx} \\) </h2>\n",
       "    <p> Encuentre la solución \\(u(x)\\) de la siguiente ecuación diferencial\n",
       "    \\(u\\left(x\\right) + 2 \\, \\frac{\\partial}{\\partial x}u\\left(x\\right) + \\frac{\\partial^{2}}{(\\partial x)^{2}}u\\left(x\\right) = -9 \\, e^{\\left(-10 \\, x\\right)}\\) con condiciones iniciales \\(u(0)=0, \\; u'(0)=-2\\)\n",
       "    y evalue en el punto dado:</p>\n",
       "    <pre>\n",
       "    u(1.77) = {1:NM:=-0.885542285299915:-0.0265662685589974}\n",
       "    </pre>\n",
       "    "
      ],
      "text/plain": [
       "\n",
       "    <h1> EDOs lineales de 2o Orden </h1>\n",
       "    <h2> Coeficientes indeterminados: \\( \\phi(x)=Ae^{kx} \\) </h2>\n",
       "    <p> Encuentre la solución \\(u(x)\\) de la siguiente ecuación diferencial\n",
       "    \\(u\\left(x\\right) + 2 \\, \\frac{\\partial}{\\partial x}u\\left(x\\right) + \\frac{\\partial^{2}}{(\\partial x)^{2}}u\\left(x\\right) = -9 \\, e^{\\left(-10 \\, x\\right)}\\) con condiciones iniciales \\(u(0)=0, \\; u'(0)=-2\\)\n",
       "    y evalue en el punto dado:</p>\n",
       "    <pre>\n",
       "    u(1.77) = {1:NM:=-0.885542285299915:-0.0265662685589974}\n",
       "    </pre>\n",
       "    "
      ]
     },
     "metadata": {},
     "output_type": "display_data"
    },
    {
     "data": {
      "text/html": [
       "\n",
       "    La solución del problema de condiciones iniciales es\n",
       "    \\(u(x)=-\\frac{1}{9} \\, {\\left({\\left(27 \\, x - 1\\right)} e^{\\left(9 \\, x\\right)} + 1\\right)} e^{\\left(-10 \\, x\\right)}\\)\n",
       "    "
      ],
      "text/plain": [
       "\n",
       "    La solución del problema de condiciones iniciales es\n",
       "    \\(u(x)=-\\frac{1}{9} \\, {\\left({\\left(27 \\, x - 1\\right)} e^{\\left(9 \\, x\\right)} + 1\\right)} e^{\\left(-10 \\, x\\right)}\\)\n",
       "    "
      ]
     },
     "metadata": {},
     "output_type": "display_data"
    },
    {
     "data": {
      "text/html": [
       "\n",
       "    <h1> EDOs lineales de 2o Orden </h1>\n",
       "    <h2> Coeficientes indeterminados: \\( \\phi(x)=Ae^{kx} \\) </h2>\n",
       "    <p> Encuentre la solución \\(u(x)\\) de la siguiente ecuación diferencial\n",
       "    \\(u\\left(x\\right) + 2 \\, \\frac{\\partial}{\\partial x}u\\left(x\\right) + \\frac{\\partial^{2}}{(\\partial x)^{2}}u\\left(x\\right) = 3 \\, e^{\\left(-x\\right)}\\) con condiciones iniciales \\(u(0)=-2, \\; u'(0)=-2\\)\n",
       "    y evalue en el punto dado:</p>\n",
       "    <pre>\n",
       "    u(1.94) = {1:NM:=-0.591284271755336:-0.0177385281526601}\n",
       "    </pre>\n",
       "    "
      ],
      "text/plain": [
       "\n",
       "    <h1> EDOs lineales de 2o Orden </h1>\n",
       "    <h2> Coeficientes indeterminados: \\( \\phi(x)=Ae^{kx} \\) </h2>\n",
       "    <p> Encuentre la solución \\(u(x)\\) de la siguiente ecuación diferencial\n",
       "    \\(u\\left(x\\right) + 2 \\, \\frac{\\partial}{\\partial x}u\\left(x\\right) + \\frac{\\partial^{2}}{(\\partial x)^{2}}u\\left(x\\right) = 3 \\, e^{\\left(-x\\right)}\\) con condiciones iniciales \\(u(0)=-2, \\; u'(0)=-2\\)\n",
       "    y evalue en el punto dado:</p>\n",
       "    <pre>\n",
       "    u(1.94) = {1:NM:=-0.591284271755336:-0.0177385281526601}\n",
       "    </pre>\n",
       "    "
      ]
     },
     "metadata": {},
     "output_type": "display_data"
    },
    {
     "data": {
      "text/html": [
       "\n",
       "    La solución del problema de condiciones iniciales es\n",
       "    \\(u(x)=\\frac{1}{2} \\, {\\left(3 \\, x^{2} - 8 \\, x - 4\\right)} e^{\\left(-x\\right)}\\)\n",
       "    "
      ],
      "text/plain": [
       "\n",
       "    La solución del problema de condiciones iniciales es\n",
       "    \\(u(x)=\\frac{1}{2} \\, {\\left(3 \\, x^{2} - 8 \\, x - 4\\right)} e^{\\left(-x\\right)}\\)\n",
       "    "
      ]
     },
     "metadata": {},
     "output_type": "display_data"
    },
    {
     "data": {
      "text/html": [
       "\n",
       "    <h1> EDOs lineales de 2o Orden </h1>\n",
       "    <h2> Coeficientes indeterminados: \\( \\phi(x)=Ae^{kx} \\) </h2>\n",
       "    <p> Encuentre la solución \\(u(x)\\) de la siguiente ecuación diferencial\n",
       "    \\(u\\left(x\\right) + \\frac{\\partial}{\\partial x}u\\left(x\\right) + \\frac{\\partial^{2}}{(\\partial x)^{2}}u\\left(x\\right) = 5 \\, e^{\\left(-9 \\, x\\right)}\\) con condiciones iniciales \\(u(0)=-2, \\; u'(0)=2\\)\n",
       "    y evalue en el punto dado:</p>\n",
       "    <pre>\n",
       "    u(1.05) = {1:NM:=0.101165160564587:0.00303495481693761}\n",
       "    </pre>\n",
       "    "
      ],
      "text/plain": [
       "\n",
       "    <h1> EDOs lineales de 2o Orden </h1>\n",
       "    <h2> Coeficientes indeterminados: \\( \\phi(x)=Ae^{kx} \\) </h2>\n",
       "    <p> Encuentre la solución \\(u(x)\\) de la siguiente ecuación diferencial\n",
       "    \\(u\\left(x\\right) + \\frac{\\partial}{\\partial x}u\\left(x\\right) + \\frac{\\partial^{2}}{(\\partial x)^{2}}u\\left(x\\right) = 5 \\, e^{\\left(-9 \\, x\\right)}\\) con condiciones iniciales \\(u(0)=-2, \\; u'(0)=2\\)\n",
       "    y evalue en el punto dado:</p>\n",
       "    <pre>\n",
       "    u(1.05) = {1:NM:=0.101165160564587:0.00303495481693761}\n",
       "    </pre>\n",
       "    "
      ]
     },
     "metadata": {},
     "output_type": "display_data"
    },
    {
     "data": {
      "text/html": [
       "\n",
       "    La solución del problema de condiciones iniciales es\n",
       "    \\(u(x)=\\frac{1}{73} \\, {\\left(77 \\, \\sqrt{3} e^{\\left(9 \\, x\\right)} \\sin\\left(\\frac{1}{2} \\, \\sqrt{3} x\\right) - 151 \\, \\cos\\left(\\frac{1}{2} \\, \\sqrt{3} x\\right) e^{\\left(9 \\, x\\right)} + 5 \\, e^{\\left(\\frac{1}{2} \\, x\\right)}\\right)} e^{\\left(-\\frac{19}{2} \\, x\\right)}\\)\n",
       "    "
      ],
      "text/plain": [
       "\n",
       "    La solución del problema de condiciones iniciales es\n",
       "    \\(u(x)=\\frac{1}{73} \\, {\\left(77 \\, \\sqrt{3} e^{\\left(9 \\, x\\right)} \\sin\\left(\\frac{1}{2} \\, \\sqrt{3} x\\right) - 151 \\, \\cos\\left(\\frac{1}{2} \\, \\sqrt{3} x\\right) e^{\\left(9 \\, x\\right)} + 5 \\, e^{\\left(\\frac{1}{2} \\, x\\right)}\\right)} e^{\\left(-\\frac{19}{2} \\, x\\right)}\\)\n",
       "    "
      ]
     },
     "metadata": {},
     "output_type": "display_data"
    },
    {
     "data": {
      "text/html": [
       "\n",
       "    <h1> EDOs lineales de 2o Orden </h1>\n",
       "    <h2> Coeficientes indeterminados: \\( \\phi(x)=Ae^{kx} \\) </h2>\n",
       "    <p> Encuentre la solución \\(u(x)\\) de la siguiente ecuación diferencial\n",
       "    \\(u\\left(x\\right) - \\frac{\\partial}{\\partial x}u\\left(x\\right) + \\frac{\\partial^{2}}{(\\partial x)^{2}}u\\left(x\\right) = 2 \\, e^{\\left(-5 \\, x\\right)}\\) con condiciones iniciales \\(u(0)=1, \\; u'(0)=2\\)\n",
       "    y evalue en el punto dado:</p>\n",
       "    <pre>\n",
       "    u(1.22) = {1:NM:=4.27899645311415:0.128369893593424}\n",
       "    </pre>\n",
       "    "
      ],
      "text/plain": [
       "\n",
       "    <h1> EDOs lineales de 2o Orden </h1>\n",
       "    <h2> Coeficientes indeterminados: \\( \\phi(x)=Ae^{kx} \\) </h2>\n",
       "    <p> Encuentre la solución \\(u(x)\\) de la siguiente ecuación diferencial\n",
       "    \\(u\\left(x\\right) - \\frac{\\partial}{\\partial x}u\\left(x\\right) + \\frac{\\partial^{2}}{(\\partial x)^{2}}u\\left(x\\right) = 2 \\, e^{\\left(-5 \\, x\\right)}\\) con condiciones iniciales \\(u(0)=1, \\; u'(0)=2\\)\n",
       "    y evalue en el punto dado:</p>\n",
       "    <pre>\n",
       "    u(1.22) = {1:NM:=4.27899645311415:0.128369893593424}\n",
       "    </pre>\n",
       "    "
      ]
     },
     "metadata": {},
     "output_type": "display_data"
    },
    {
     "data": {
      "text/html": [
       "\n",
       "    La solución del problema de condiciones iniciales es\n",
       "    \\(u(x)=\\frac{1}{93} \\, {\\left(115 \\, \\sqrt{3} e^{\\left(\\frac{11}{2} \\, x\\right)} \\sin\\left(\\frac{1}{2} \\, \\sqrt{3} x\\right) + 87 \\, \\cos\\left(\\frac{1}{2} \\, \\sqrt{3} x\\right) e^{\\left(\\frac{11}{2} \\, x\\right)} + 6\\right)} e^{\\left(-5 \\, x\\right)}\\)\n",
       "    "
      ],
      "text/plain": [
       "\n",
       "    La solución del problema de condiciones iniciales es\n",
       "    \\(u(x)=\\frac{1}{93} \\, {\\left(115 \\, \\sqrt{3} e^{\\left(\\frac{11}{2} \\, x\\right)} \\sin\\left(\\frac{1}{2} \\, \\sqrt{3} x\\right) + 87 \\, \\cos\\left(\\frac{1}{2} \\, \\sqrt{3} x\\right) e^{\\left(\\frac{11}{2} \\, x\\right)} + 6\\right)} e^{\\left(-5 \\, x\\right)}\\)\n",
       "    "
      ]
     },
     "metadata": {},
     "output_type": "display_data"
    },
    {
     "data": {
      "text/html": [
       "\n",
       "    <h1> EDOs lineales de 2o Orden </h1>\n",
       "    <h2> Coeficientes indeterminados: \\( \\phi(x)=Ae^{kx} \\) </h2>\n",
       "    <p> Encuentre la solución \\(u(x)\\) de la siguiente ecuación diferencial\n",
       "    \\(u\\left(x\\right) + \\frac{\\partial}{\\partial x}u\\left(x\\right) + \\frac{\\partial^{2}}{(\\partial x)^{2}}u\\left(x\\right) = 5 \\, e^{\\left(-10 \\, x\\right)}\\) con condiciones iniciales \\(u(0)=1, \\; u'(0)=0\\)\n",
       "    y evalue en el punto dado:</p>\n",
       "    <pre>\n",
       "    u(1.45) = {1:NM:=0.685241667506916:0.0205572500252075}\n",
       "    </pre>\n",
       "    "
      ],
      "text/plain": [
       "\n",
       "    <h1> EDOs lineales de 2o Orden </h1>\n",
       "    <h2> Coeficientes indeterminados: \\( \\phi(x)=Ae^{kx} \\) </h2>\n",
       "    <p> Encuentre la solución \\(u(x)\\) de la siguiente ecuación diferencial\n",
       "    \\(u\\left(x\\right) + \\frac{\\partial}{\\partial x}u\\left(x\\right) + \\frac{\\partial^{2}}{(\\partial x)^{2}}u\\left(x\\right) = 5 \\, e^{\\left(-10 \\, x\\right)}\\) con condiciones iniciales \\(u(0)=1, \\; u'(0)=0\\)\n",
       "    y evalue en el punto dado:</p>\n",
       "    <pre>\n",
       "    u(1.45) = {1:NM:=0.685241667506916:0.0205572500252075}\n",
       "    </pre>\n",
       "    "
      ]
     },
     "metadata": {},
     "output_type": "display_data"
    },
    {
     "data": {
      "text/html": [
       "\n",
       "    La solución del problema de condiciones iniciales es\n",
       "    \\(u(x)=\\frac{1}{91} \\, {\\left(62 \\, \\sqrt{3} e^{\\left(10 \\, x\\right)} \\sin\\left(\\frac{1}{2} \\, \\sqrt{3} x\\right) + 86 \\, \\cos\\left(\\frac{1}{2} \\, \\sqrt{3} x\\right) e^{\\left(10 \\, x\\right)} + 5 \\, e^{\\left(\\frac{1}{2} \\, x\\right)}\\right)} e^{\\left(-\\frac{21}{2} \\, x\\right)}\\)\n",
       "    "
      ],
      "text/plain": [
       "\n",
       "    La solución del problema de condiciones iniciales es\n",
       "    \\(u(x)=\\frac{1}{91} \\, {\\left(62 \\, \\sqrt{3} e^{\\left(10 \\, x\\right)} \\sin\\left(\\frac{1}{2} \\, \\sqrt{3} x\\right) + 86 \\, \\cos\\left(\\frac{1}{2} \\, \\sqrt{3} x\\right) e^{\\left(10 \\, x\\right)} + 5 \\, e^{\\left(\\frac{1}{2} \\, x\\right)}\\right)} e^{\\left(-\\frac{21}{2} \\, x\\right)}\\)\n",
       "    "
      ]
     },
     "metadata": {},
     "output_type": "display_data"
    },
    {
     "data": {
      "text/html": [
       "\n",
       "    <h1> EDOs lineales de 2o Orden </h1>\n",
       "    <h2> Coeficientes indeterminados: \\( \\phi(x)=Ae^{kx} \\) </h2>\n",
       "    <p> Encuentre la solución \\(u(x)\\) de la siguiente ecuación diferencial\n",
       "    \\(2 \\, \\frac{\\partial}{\\partial x}u\\left(x\\right) + \\frac{\\partial^{2}}{(\\partial x)^{2}}u\\left(x\\right) = 10 \\, e^{\\left(-7 \\, x\\right)}\\) con condiciones iniciales \\(u(0)=2, \\; u'(0)=1\\)\n",
       "    y evalue en el punto dado:</p>\n",
       "    <pre>\n",
       "    u(1.42) = {1:NM:=3.12666098885457:0.0937998296656372}\n",
       "    </pre>\n",
       "    "
      ],
      "text/plain": [
       "\n",
       "    <h1> EDOs lineales de 2o Orden </h1>\n",
       "    <h2> Coeficientes indeterminados: \\( \\phi(x)=Ae^{kx} \\) </h2>\n",
       "    <p> Encuentre la solución \\(u(x)\\) de la siguiente ecuación diferencial\n",
       "    \\(2 \\, \\frac{\\partial}{\\partial x}u\\left(x\\right) + \\frac{\\partial^{2}}{(\\partial x)^{2}}u\\left(x\\right) = 10 \\, e^{\\left(-7 \\, x\\right)}\\) con condiciones iniciales \\(u(0)=2, \\; u'(0)=1\\)\n",
       "    y evalue en el punto dado:</p>\n",
       "    <pre>\n",
       "    u(1.42) = {1:NM:=3.12666098885457:0.0937998296656372}\n",
       "    </pre>\n",
       "    "
      ]
     },
     "metadata": {},
     "output_type": "display_data"
    },
    {
     "data": {
      "text/html": [
       "\n",
       "    La solución del problema de condiciones iniciales es\n",
       "    \\(u(x)=\\frac{1}{14} \\, {\\left(45 \\, e^{\\left(7 \\, x\\right)} - 21 \\, e^{\\left(5 \\, x\\right)} + 4\\right)} e^{\\left(-7 \\, x\\right)}\\)\n",
       "    "
      ],
      "text/plain": [
       "\n",
       "    La solución del problema de condiciones iniciales es\n",
       "    \\(u(x)=\\frac{1}{14} \\, {\\left(45 \\, e^{\\left(7 \\, x\\right)} - 21 \\, e^{\\left(5 \\, x\\right)} + 4\\right)} e^{\\left(-7 \\, x\\right)}\\)\n",
       "    "
      ]
     },
     "metadata": {},
     "output_type": "display_data"
    },
    {
     "data": {
      "text/html": [
       "\n",
       "    <h1> EDOs lineales de 2o Orden </h1>\n",
       "    <h2> Coeficientes indeterminados: \\( \\phi(x)=Ae^{kx} \\) </h2>\n",
       "    <p> Encuentre la solución \\(u(x)\\) de la siguiente ecuación diferencial\n",
       "    \\(2 \\, u\\left(x\\right) - \\frac{\\partial}{\\partial x}u\\left(x\\right) + \\frac{\\partial^{2}}{(\\partial x)^{2}}u\\left(x\\right) = -e^{\\left(-5 \\, x\\right)}\\) con condiciones iniciales \\(u(0)=1, \\; u'(0)=-2\\)\n",
       "    y evalue en el punto dado:</p>\n",
       "    <pre>\n",
       "    u(1.26) = {1:NM:=-3.96053572843956:-0.118816071853187}\n",
       "    </pre>\n",
       "    "
      ],
      "text/plain": [
       "\n",
       "    <h1> EDOs lineales de 2o Orden </h1>\n",
       "    <h2> Coeficientes indeterminados: \\( \\phi(x)=Ae^{kx} \\) </h2>\n",
       "    <p> Encuentre la solución \\(u(x)\\) de la siguiente ecuación diferencial\n",
       "    \\(2 \\, u\\left(x\\right) - \\frac{\\partial}{\\partial x}u\\left(x\\right) + \\frac{\\partial^{2}}{(\\partial x)^{2}}u\\left(x\\right) = -e^{\\left(-5 \\, x\\right)}\\) con condiciones iniciales \\(u(0)=1, \\; u'(0)=-2\\)\n",
       "    y evalue en el punto dado:</p>\n",
       "    <pre>\n",
       "    u(1.26) = {1:NM:=-3.96053572843956:-0.118816071853187}\n",
       "    </pre>\n",
       "    "
      ]
     },
     "metadata": {},
     "output_type": "display_data"
    },
    {
     "data": {
      "text/html": [
       "\n",
       "    La solución del problema de condiciones iniciales es\n",
       "    \\(u(x)=-\\frac{1}{224} \\, {\\left(171 \\, \\sqrt{7} e^{\\left(\\frac{11}{2} \\, x\\right)} \\sin\\left(\\frac{1}{2} \\, \\sqrt{7} x\\right) - 231 \\, \\cos\\left(\\frac{1}{2} \\, \\sqrt{7} x\\right) e^{\\left(\\frac{11}{2} \\, x\\right)} + 7\\right)} e^{\\left(-5 \\, x\\right)}\\)\n",
       "    "
      ],
      "text/plain": [
       "\n",
       "    La solución del problema de condiciones iniciales es\n",
       "    \\(u(x)=-\\frac{1}{224} \\, {\\left(171 \\, \\sqrt{7} e^{\\left(\\frac{11}{2} \\, x\\right)} \\sin\\left(\\frac{1}{2} \\, \\sqrt{7} x\\right) - 231 \\, \\cos\\left(\\frac{1}{2} \\, \\sqrt{7} x\\right) e^{\\left(\\frac{11}{2} \\, x\\right)} + 7\\right)} e^{\\left(-5 \\, x\\right)}\\)\n",
       "    "
      ]
     },
     "metadata": {},
     "output_type": "display_data"
    },
    {
     "name": "stdout",
     "output_type": "stream",
     "text": [
      "--------------------------------\n",
      "Done: 2018-03-27 22:36:15.463927\n",
      "Folder: P205_edo2_ekx\n",
      "Filename: P205_edo2_ekx-1522211775.46.xml\n",
      "#exes: 10\n"
     ]
    }
   ],
   "source": [
    "np.random.seed(12)\n",
    "me.quick(gen, label, 10, impr=True)"
   ]
  },
  {
   "cell_type": "code",
   "execution_count": 9,
   "metadata": {
    "collapsed": false,
    "scrolled": false
   },
   "outputs": [
    {
     "data": {
      "text/html": [
       "\n",
       "    <h1> EDOs lineales de 2o Orden </h1>\n",
       "    <h2> Coeficientes indeterminados: \\( \\phi(x)=Ae^{kx} \\) </h2>\n",
       "    <p> Encuentre la solución \\(u(x)\\) de la siguiente ecuación diferencial\n",
       "    \\(2 \\, u\\left(x\\right) + \\frac{\\partial^{2}}{(\\partial x)^{2}}u\\left(x\\right) = -8 \\, e^{\\left(-4 \\, x\\right)}\\) con condiciones iniciales \\(u(0)=0, \\; u'(0)=1\\)\n",
       "    y evalue en el punto dado:</p>\n",
       "    <pre>\n",
       "    u(1.72) = {1:NM:=-0.695887842675328:-0.0208766352802598}\n",
       "    </pre>\n",
       "    "
      ],
      "text/plain": [
       "\n",
       "    <h1> EDOs lineales de 2o Orden </h1>\n",
       "    <h2> Coeficientes indeterminados: \\( \\phi(x)=Ae^{kx} \\) </h2>\n",
       "    <p> Encuentre la solución \\(u(x)\\) de la siguiente ecuación diferencial\n",
       "    \\(2 \\, u\\left(x\\right) + \\frac{\\partial^{2}}{(\\partial x)^{2}}u\\left(x\\right) = -8 \\, e^{\\left(-4 \\, x\\right)}\\) con condiciones iniciales \\(u(0)=0, \\; u'(0)=1\\)\n",
       "    y evalue en el punto dado:</p>\n",
       "    <pre>\n",
       "    u(1.72) = {1:NM:=-0.695887842675328:-0.0208766352802598}\n",
       "    </pre>\n",
       "    "
      ]
     },
     "metadata": {},
     "output_type": "display_data"
    },
    {
     "data": {
      "text/html": [
       "\n",
       "    La solución del problema de condiciones iniciales es\n",
       "    \\(u(x)=\\frac{1}{18} \\, \\sqrt{2} {\\left(4 \\, \\sqrt{2} \\cos\\left(\\sqrt{2} x\\right) e^{\\left(4 \\, x\\right)} - 7 \\, e^{\\left(4 \\, x\\right)} \\sin\\left(\\sqrt{2} x\\right) - 4 \\, \\sqrt{2}\\right)} e^{\\left(-4 \\, x\\right)}\\)\n",
       "    "
      ],
      "text/plain": [
       "\n",
       "    La solución del problema de condiciones iniciales es\n",
       "    \\(u(x)=\\frac{1}{18} \\, \\sqrt{2} {\\left(4 \\, \\sqrt{2} \\cos\\left(\\sqrt{2} x\\right) e^{\\left(4 \\, x\\right)} - 7 \\, e^{\\left(4 \\, x\\right)} \\sin\\left(\\sqrt{2} x\\right) - 4 \\, \\sqrt{2}\\right)} e^{\\left(-4 \\, x\\right)}\\)\n",
       "    "
      ]
     },
     "metadata": {},
     "output_type": "display_data"
    },
    {
     "data": {
      "text/html": [
       "\n",
       "    <h1> EDOs lineales de 2o Orden </h1>\n",
       "    <h2> Coeficientes indeterminados: \\( \\phi(x)=Ae^{kx} \\) </h2>\n",
       "    <p> Encuentre la solución \\(u(x)\\) de la siguiente ecuación diferencial\n",
       "    \\(-u\\left(x\\right) - \\frac{\\partial}{\\partial x}u\\left(x\\right) + \\frac{\\partial^{2}}{(\\partial x)^{2}}u\\left(x\\right) = -10 \\, e^{\\left(7 \\, x\\right)}\\) con condiciones iniciales \\(u(0)=-1, \\; u'(0)=-2\\)\n",
       "    y evalue en el punto dado:</p>\n",
       "    <pre>\n",
       "    u(1.48) = {1:NM:=-7704.18151354793:-231.125445406438}\n",
       "    </pre>\n",
       "    "
      ],
      "text/plain": [
       "\n",
       "    <h1> EDOs lineales de 2o Orden </h1>\n",
       "    <h2> Coeficientes indeterminados: \\( \\phi(x)=Ae^{kx} \\) </h2>\n",
       "    <p> Encuentre la solución \\(u(x)\\) de la siguiente ecuación diferencial\n",
       "    \\(-u\\left(x\\right) - \\frac{\\partial}{\\partial x}u\\left(x\\right) + \\frac{\\partial^{2}}{(\\partial x)^{2}}u\\left(x\\right) = -10 \\, e^{\\left(7 \\, x\\right)}\\) con condiciones iniciales \\(u(0)=-1, \\; u'(0)=-2\\)\n",
       "    y evalue en el punto dado:</p>\n",
       "    <pre>\n",
       "    u(1.48) = {1:NM:=-7704.18151354793:-231.125445406438}\n",
       "    </pre>\n",
       "    "
      ]
     },
     "metadata": {},
     "output_type": "display_data"
    },
    {
     "data": {
      "text/html": [
       "\n",
       "    La solución del problema de condiciones iniciales es\n",
       "    \\(u(x)=\\frac{1}{410} \\, {\\left({\\left(7 \\, \\sqrt{5} - 155\\right)} e^{\\left(\\sqrt{5} x + \\frac{1}{2} \\, x\\right)} - {\\left(7 \\, \\sqrt{5} + 155\\right)} e^{\\left(\\frac{1}{2} \\, x\\right)} - 100 \\, e^{\\left(\\frac{1}{2} \\, \\sqrt{5} x + 7 \\, x\\right)}\\right)} e^{\\left(-\\frac{1}{2} \\, \\sqrt{5} x\\right)}\\)\n",
       "    "
      ],
      "text/plain": [
       "\n",
       "    La solución del problema de condiciones iniciales es\n",
       "    \\(u(x)=\\frac{1}{410} \\, {\\left({\\left(7 \\, \\sqrt{5} - 155\\right)} e^{\\left(\\sqrt{5} x + \\frac{1}{2} \\, x\\right)} - {\\left(7 \\, \\sqrt{5} + 155\\right)} e^{\\left(\\frac{1}{2} \\, x\\right)} - 100 \\, e^{\\left(\\frac{1}{2} \\, \\sqrt{5} x + 7 \\, x\\right)}\\right)} e^{\\left(-\\frac{1}{2} \\, \\sqrt{5} x\\right)}\\)\n",
       "    "
      ]
     },
     "metadata": {},
     "output_type": "display_data"
    },
    {
     "data": {
      "text/html": [
       "\n",
       "    <h1> EDOs lineales de 2o Orden </h1>\n",
       "    <h2> Coeficientes indeterminados: \\( \\phi(x)=Ae^{kx} \\) </h2>\n",
       "    <p> Encuentre la solución \\(u(x)\\) de la siguiente ecuación diferencial\n",
       "    \\(-u\\left(x\\right) - 2 \\, \\frac{\\partial}{\\partial x}u\\left(x\\right) + \\frac{\\partial^{2}}{(\\partial x)^{2}}u\\left(x\\right) = 9 \\, e^{\\left(4 \\, x\\right)}\\) con condiciones iniciales \\(u(0)=-2, \\; u'(0)=-2\\)\n",
       "    y evalue en el punto dado:</p>\n",
       "    <pre>\n",
       "    u(1.06) = {1:NM:=50.2026583342908:1.50607975002873}\n",
       "    </pre>\n",
       "    "
      ],
      "text/plain": [
       "\n",
       "    <h1> EDOs lineales de 2o Orden </h1>\n",
       "    <h2> Coeficientes indeterminados: \\( \\phi(x)=Ae^{kx} \\) </h2>\n",
       "    <p> Encuentre la solución \\(u(x)\\) de la siguiente ecuación diferencial\n",
       "    \\(-u\\left(x\\right) - 2 \\, \\frac{\\partial}{\\partial x}u\\left(x\\right) + \\frac{\\partial^{2}}{(\\partial x)^{2}}u\\left(x\\right) = 9 \\, e^{\\left(4 \\, x\\right)}\\) con condiciones iniciales \\(u(0)=-2, \\; u'(0)=-2\\)\n",
       "    y evalue en el punto dado:</p>\n",
       "    <pre>\n",
       "    u(1.06) = {1:NM:=50.2026583342908:1.50607975002873}\n",
       "    </pre>\n",
       "    "
      ]
     },
     "metadata": {},
     "output_type": "display_data"
    },
    {
     "data": {
      "text/html": [
       "\n",
       "    La solución del problema de condiciones iniciales es\n",
       "    \\(u(x)=-\\frac{1}{28} \\, {\\left({\\left(27 \\, \\sqrt{2} + 46\\right)} e^{\\left(2 \\, \\sqrt{2} x + x\\right)} - {\\left(27 \\, \\sqrt{2} - 46\\right)} e^{x} - 36 \\, e^{\\left(\\sqrt{2} x + 4 \\, x\\right)}\\right)} e^{\\left(-\\sqrt{2} x\\right)}\\)\n",
       "    "
      ],
      "text/plain": [
       "\n",
       "    La solución del problema de condiciones iniciales es\n",
       "    \\(u(x)=-\\frac{1}{28} \\, {\\left({\\left(27 \\, \\sqrt{2} + 46\\right)} e^{\\left(2 \\, \\sqrt{2} x + x\\right)} - {\\left(27 \\, \\sqrt{2} - 46\\right)} e^{x} - 36 \\, e^{\\left(\\sqrt{2} x + 4 \\, x\\right)}\\right)} e^{\\left(-\\sqrt{2} x\\right)}\\)\n",
       "    "
      ]
     },
     "metadata": {},
     "output_type": "display_data"
    },
    {
     "data": {
      "text/html": [
       "\n",
       "    <h1> EDOs lineales de 2o Orden </h1>\n",
       "    <h2> Coeficientes indeterminados: \\( \\phi(x)=Ae^{kx} \\) </h2>\n",
       "    <p> Encuentre la solución \\(u(x)\\) de la siguiente ecuación diferencial\n",
       "    \\(-u\\left(x\\right) + 2 \\, \\frac{\\partial}{\\partial x}u\\left(x\\right) + \\frac{\\partial^{2}}{(\\partial x)^{2}}u\\left(x\\right) = -7 \\, e^{\\left(-8 \\, x\\right)}\\) con condiciones iniciales \\(u(0)=0, \\; u'(0)=2\\)\n",
       "    y evalue en el punto dado:</p>\n",
       "    <pre>\n",
       "    u(1.08) = {1:NM:=0.626468712093139:0.0187940613627942}\n",
       "    </pre>\n",
       "    "
      ],
      "text/plain": [
       "\n",
       "    <h1> EDOs lineales de 2o Orden </h1>\n",
       "    <h2> Coeficientes indeterminados: \\( \\phi(x)=Ae^{kx} \\) </h2>\n",
       "    <p> Encuentre la solución \\(u(x)\\) de la siguiente ecuación diferencial\n",
       "    \\(-u\\left(x\\right) + 2 \\, \\frac{\\partial}{\\partial x}u\\left(x\\right) + \\frac{\\partial^{2}}{(\\partial x)^{2}}u\\left(x\\right) = -7 \\, e^{\\left(-8 \\, x\\right)}\\) con condiciones iniciales \\(u(0)=0, \\; u'(0)=2\\)\n",
       "    y evalue en el punto dado:</p>\n",
       "    <pre>\n",
       "    u(1.08) = {1:NM:=0.626468712093139:0.0187940613627942}\n",
       "    </pre>\n",
       "    "
      ]
     },
     "metadata": {},
     "output_type": "display_data"
    },
    {
     "data": {
      "text/html": [
       "\n",
       "    La solución del problema de condiciones iniciales es\n",
       "    \\(u(x)=\\frac{1}{188} \\, {\\left({\\left(45 \\, \\sqrt{2} + 14\\right)} e^{\\left(2 \\, \\sqrt{2} x + 7 \\, x\\right)} - {\\left(45 \\, \\sqrt{2} - 14\\right)} e^{\\left(7 \\, x\\right)} - 28 \\, e^{\\left(\\sqrt{2} x\\right)}\\right)} e^{\\left(-\\sqrt{2} x - 8 \\, x\\right)}\\)\n",
       "    "
      ],
      "text/plain": [
       "\n",
       "    La solución del problema de condiciones iniciales es\n",
       "    \\(u(x)=\\frac{1}{188} \\, {\\left({\\left(45 \\, \\sqrt{2} + 14\\right)} e^{\\left(2 \\, \\sqrt{2} x + 7 \\, x\\right)} - {\\left(45 \\, \\sqrt{2} - 14\\right)} e^{\\left(7 \\, x\\right)} - 28 \\, e^{\\left(\\sqrt{2} x\\right)}\\right)} e^{\\left(-\\sqrt{2} x - 8 \\, x\\right)}\\)\n",
       "    "
      ]
     },
     "metadata": {},
     "output_type": "display_data"
    },
    {
     "data": {
      "text/html": [
       "\n",
       "    <h1> EDOs lineales de 2o Orden </h1>\n",
       "    <h2> Coeficientes indeterminados: \\( \\phi(x)=Ae^{kx} \\) </h2>\n",
       "    <p> Encuentre la solución \\(u(x)\\) de la siguiente ecuación diferencial\n",
       "    \\(-2 \\, u\\left(x\\right) - 2 \\, \\frac{\\partial}{\\partial x}u\\left(x\\right) + \\frac{\\partial^{2}}{(\\partial x)^{2}}u\\left(x\\right) = -3 \\, e^{\\left(-x\\right)}\\) con condiciones iniciales \\(u(0)=2, \\; u'(0)=2\\)\n",
       "    y evalue en el punto dado:</p>\n",
       "    <pre>\n",
       "    u(1.74) = {1:NM:=89.7554456132317:2.69266336839695}\n",
       "    </pre>\n",
       "    "
      ],
      "text/plain": [
       "\n",
       "    <h1> EDOs lineales de 2o Orden </h1>\n",
       "    <h2> Coeficientes indeterminados: \\( \\phi(x)=Ae^{kx} \\) </h2>\n",
       "    <p> Encuentre la solución \\(u(x)\\) de la siguiente ecuación diferencial\n",
       "    \\(-2 \\, u\\left(x\\right) - 2 \\, \\frac{\\partial}{\\partial x}u\\left(x\\right) + \\frac{\\partial^{2}}{(\\partial x)^{2}}u\\left(x\\right) = -3 \\, e^{\\left(-x\\right)}\\) con condiciones iniciales \\(u(0)=2, \\; u'(0)=2\\)\n",
       "    y evalue en el punto dado:</p>\n",
       "    <pre>\n",
       "    u(1.74) = {1:NM:=89.7554456132317:2.69266336839695}\n",
       "    </pre>\n",
       "    "
      ]
     },
     "metadata": {},
     "output_type": "display_data"
    },
    {
     "data": {
      "text/html": [
       "\n",
       "    La solución del problema de condiciones iniciales es\n",
       "    \\(u(x)=-\\frac{1}{2} \\, {\\left({\\left(2 \\, \\sqrt{3} - 5\\right)} e^{\\left(2 \\, \\sqrt{3} x + 2 \\, x\\right)} - {\\left(2 \\, \\sqrt{3} + 5\\right)} e^{\\left(2 \\, x\\right)} + 6 \\, e^{\\left(\\sqrt{3} x\\right)}\\right)} e^{\\left(-\\sqrt{3} x - x\\right)}\\)\n",
       "    "
      ],
      "text/plain": [
       "\n",
       "    La solución del problema de condiciones iniciales es\n",
       "    \\(u(x)=-\\frac{1}{2} \\, {\\left({\\left(2 \\, \\sqrt{3} - 5\\right)} e^{\\left(2 \\, \\sqrt{3} x + 2 \\, x\\right)} - {\\left(2 \\, \\sqrt{3} + 5\\right)} e^{\\left(2 \\, x\\right)} + 6 \\, e^{\\left(\\sqrt{3} x\\right)}\\right)} e^{\\left(-\\sqrt{3} x - x\\right)}\\)\n",
       "    "
      ]
     },
     "metadata": {},
     "output_type": "display_data"
    },
    {
     "data": {
      "text/html": [
       "\n",
       "    <h1> EDOs lineales de 2o Orden </h1>\n",
       "    <h2> Coeficientes indeterminados: \\( \\phi(x)=Ae^{kx} \\) </h2>\n",
       "    <p> Encuentre la solución \\(u(x)\\) de la siguiente ecuación diferencial\n",
       "    \\(u\\left(x\\right) - \\frac{\\partial}{\\partial x}u\\left(x\\right) + \\frac{\\partial^{2}}{(\\partial x)^{2}}u\\left(x\\right) = -8 \\, e^{\\left(-9 \\, x\\right)}\\) con condiciones iniciales \\(u(0)=1, \\; u'(0)=0\\)\n",
       "    y evalue en el punto dado:</p>\n",
       "    <pre>\n",
       "    u(1.99) = {1:NM:=-4.56872984342284:-0.137061895302685}\n",
       "    </pre>\n",
       "    "
      ],
      "text/plain": [
       "\n",
       "    <h1> EDOs lineales de 2o Orden </h1>\n",
       "    <h2> Coeficientes indeterminados: \\( \\phi(x)=Ae^{kx} \\) </h2>\n",
       "    <p> Encuentre la solución \\(u(x)\\) de la siguiente ecuación diferencial\n",
       "    \\(u\\left(x\\right) - \\frac{\\partial}{\\partial x}u\\left(x\\right) + \\frac{\\partial^{2}}{(\\partial x)^{2}}u\\left(x\\right) = -8 \\, e^{\\left(-9 \\, x\\right)}\\) con condiciones iniciales \\(u(0)=1, \\; u'(0)=0\\)\n",
       "    y evalue en el punto dado:</p>\n",
       "    <pre>\n",
       "    u(1.99) = {1:NM:=-4.56872984342284:-0.137061895302685}\n",
       "    </pre>\n",
       "    "
      ]
     },
     "metadata": {},
     "output_type": "display_data"
    },
    {
     "data": {
      "text/html": [
       "\n",
       "    La solución del problema de condiciones iniciales es\n",
       "    \\(u(x)=-\\frac{1}{91} \\, {\\left(81 \\, \\sqrt{3} e^{\\left(\\frac{19}{2} \\, x\\right)} \\sin\\left(\\frac{1}{2} \\, \\sqrt{3} x\\right) - 99 \\, \\cos\\left(\\frac{1}{2} \\, \\sqrt{3} x\\right) e^{\\left(\\frac{19}{2} \\, x\\right)} + 8\\right)} e^{\\left(-9 \\, x\\right)}\\)\n",
       "    "
      ],
      "text/plain": [
       "\n",
       "    La solución del problema de condiciones iniciales es\n",
       "    \\(u(x)=-\\frac{1}{91} \\, {\\left(81 \\, \\sqrt{3} e^{\\left(\\frac{19}{2} \\, x\\right)} \\sin\\left(\\frac{1}{2} \\, \\sqrt{3} x\\right) - 99 \\, \\cos\\left(\\frac{1}{2} \\, \\sqrt{3} x\\right) e^{\\left(\\frac{19}{2} \\, x\\right)} + 8\\right)} e^{\\left(-9 \\, x\\right)}\\)\n",
       "    "
      ]
     },
     "metadata": {},
     "output_type": "display_data"
    },
    {
     "data": {
      "text/html": [
       "\n",
       "    <h1> EDOs lineales de 2o Orden </h1>\n",
       "    <h2> Coeficientes indeterminados: \\( \\phi(x)=Ae^{kx} \\) </h2>\n",
       "    <p> Encuentre la solución \\(u(x)\\) de la siguiente ecuación diferencial\n",
       "    \\(u\\left(x\\right) - 2 \\, \\frac{\\partial}{\\partial x}u\\left(x\\right) + \\frac{\\partial^{2}}{(\\partial x)^{2}}u\\left(x\\right) = 3 \\, e^{\\left(8 \\, x\\right)}\\) con condiciones iniciales \\(u(0)=1, \\; u'(0)=1\\)\n",
       "    y evalue en el punto dado:</p>\n",
       "    <pre>\n",
       "    u(1.31) = {1:NM:=2180.77040361698:65.4231121085095}\n",
       "    </pre>\n",
       "    "
      ],
      "text/plain": [
       "\n",
       "    <h1> EDOs lineales de 2o Orden </h1>\n",
       "    <h2> Coeficientes indeterminados: \\( \\phi(x)=Ae^{kx} \\) </h2>\n",
       "    <p> Encuentre la solución \\(u(x)\\) de la siguiente ecuación diferencial\n",
       "    \\(u\\left(x\\right) - 2 \\, \\frac{\\partial}{\\partial x}u\\left(x\\right) + \\frac{\\partial^{2}}{(\\partial x)^{2}}u\\left(x\\right) = 3 \\, e^{\\left(8 \\, x\\right)}\\) con condiciones iniciales \\(u(0)=1, \\; u'(0)=1\\)\n",
       "    y evalue en el punto dado:</p>\n",
       "    <pre>\n",
       "    u(1.31) = {1:NM:=2180.77040361698:65.4231121085095}\n",
       "    </pre>\n",
       "    "
      ]
     },
     "metadata": {},
     "output_type": "display_data"
    },
    {
     "data": {
      "text/html": [
       "\n",
       "    La solución del problema de condiciones iniciales es\n",
       "    \\(u(x)=-\\frac{1}{49} \\, {\\left(21 \\, x - 46\\right)} e^{x} + \\frac{3}{49} \\, e^{\\left(8 \\, x\\right)}\\)\n",
       "    "
      ],
      "text/plain": [
       "\n",
       "    La solución del problema de condiciones iniciales es\n",
       "    \\(u(x)=-\\frac{1}{49} \\, {\\left(21 \\, x - 46\\right)} e^{x} + \\frac{3}{49} \\, e^{\\left(8 \\, x\\right)}\\)\n",
       "    "
      ]
     },
     "metadata": {},
     "output_type": "display_data"
    },
    {
     "data": {
      "text/html": [
       "\n",
       "    <h1> EDOs lineales de 2o Orden </h1>\n",
       "    <h2> Coeficientes indeterminados: \\( \\phi(x)=Ae^{kx} \\) </h2>\n",
       "    <p> Encuentre la solución \\(u(x)\\) de la siguiente ecuación diferencial\n",
       "    \\(2 \\, u\\left(x\\right) + 2 \\, \\frac{\\partial}{\\partial x}u\\left(x\\right) + \\frac{\\partial^{2}}{(\\partial x)^{2}}u\\left(x\\right) = -4 \\, e^{\\left(3 \\, x\\right)}\\) con condiciones iniciales \\(u(0)=-2, \\; u'(0)=2\\)\n",
       "    y evalue en el punto dado:</p>\n",
       "    <pre>\n",
       "    u(1.62) = {1:NM:=-30.1554269967103:-0.904662809901310}\n",
       "    </pre>\n",
       "    "
      ],
      "text/plain": [
       "\n",
       "    <h1> EDOs lineales de 2o Orden </h1>\n",
       "    <h2> Coeficientes indeterminados: \\( \\phi(x)=Ae^{kx} \\) </h2>\n",
       "    <p> Encuentre la solución \\(u(x)\\) de la siguiente ecuación diferencial\n",
       "    \\(2 \\, u\\left(x\\right) + 2 \\, \\frac{\\partial}{\\partial x}u\\left(x\\right) + \\frac{\\partial^{2}}{(\\partial x)^{2}}u\\left(x\\right) = -4 \\, e^{\\left(3 \\, x\\right)}\\) con condiciones iniciales \\(u(0)=-2, \\; u'(0)=2\\)\n",
       "    y evalue en el punto dado:</p>\n",
       "    <pre>\n",
       "    u(1.62) = {1:NM:=-30.1554269967103:-0.904662809901310}\n",
       "    </pre>\n",
       "    "
      ]
     },
     "metadata": {},
     "output_type": "display_data"
    },
    {
     "data": {
      "text/html": [
       "\n",
       "    La solución del problema de condiciones iniciales es\n",
       "    \\(u(x)=-\\frac{2}{17} \\, {\\left(15 \\, \\cos\\left(x\\right) + 2 \\, e^{\\left(4 \\, x\\right)} - 8 \\, \\sin\\left(x\\right)\\right)} e^{\\left(-x\\right)}\\)\n",
       "    "
      ],
      "text/plain": [
       "\n",
       "    La solución del problema de condiciones iniciales es\n",
       "    \\(u(x)=-\\frac{2}{17} \\, {\\left(15 \\, \\cos\\left(x\\right) + 2 \\, e^{\\left(4 \\, x\\right)} - 8 \\, \\sin\\left(x\\right)\\right)} e^{\\left(-x\\right)}\\)\n",
       "    "
      ]
     },
     "metadata": {},
     "output_type": "display_data"
    },
    {
     "data": {
      "text/html": [
       "\n",
       "    <h1> EDOs lineales de 2o Orden </h1>\n",
       "    <h2> Coeficientes indeterminados: \\( \\phi(x)=Ae^{kx} \\) </h2>\n",
       "    <p> Encuentre la solución \\(u(x)\\) de la siguiente ecuación diferencial\n",
       "    \\(-u\\left(x\\right) + \\frac{\\partial}{\\partial x}u\\left(x\\right) + \\frac{\\partial^{2}}{(\\partial x)^{2}}u\\left(x\\right) = e^{\\left(-5 \\, x\\right)}\\) con condiciones iniciales \\(u(0)=0, \\; u'(0)=2\\)\n",
       "    y evalue en el punto dado:</p>\n",
       "    <pre>\n",
       "    u(1.23) = {1:NM:=1.94292255971480:0.0582876767914439}\n",
       "    </pre>\n",
       "    "
      ],
      "text/plain": [
       "\n",
       "    <h1> EDOs lineales de 2o Orden </h1>\n",
       "    <h2> Coeficientes indeterminados: \\( \\phi(x)=Ae^{kx} \\) </h2>\n",
       "    <p> Encuentre la solución \\(u(x)\\) de la siguiente ecuación diferencial\n",
       "    \\(-u\\left(x\\right) + \\frac{\\partial}{\\partial x}u\\left(x\\right) + \\frac{\\partial^{2}}{(\\partial x)^{2}}u\\left(x\\right) = e^{\\left(-5 \\, x\\right)}\\) con condiciones iniciales \\(u(0)=0, \\; u'(0)=2\\)\n",
       "    y evalue en el punto dado:</p>\n",
       "    <pre>\n",
       "    u(1.23) = {1:NM:=1.94292255971480:0.0582876767914439}\n",
       "    </pre>\n",
       "    "
      ]
     },
     "metadata": {},
     "output_type": "display_data"
    },
    {
     "data": {
      "text/html": [
       "\n",
       "    La solución del problema de condiciones iniciales es\n",
       "    \\(u(x)=\\frac{1}{38} \\, {\\left({\\left(17 \\, \\sqrt{5} - 1\\right)} e^{\\left(\\sqrt{5} x + 5 \\, x\\right)} - {\\left(17 \\, \\sqrt{5} + 1\\right)} e^{\\left(5 \\, x\\right)} + 2 \\, e^{\\left(\\frac{1}{2} \\, \\sqrt{5} x + \\frac{1}{2} \\, x\\right)}\\right)} e^{\\left(-\\frac{1}{2} \\, \\sqrt{5} x - \\frac{11}{2} \\, x\\right)}\\)\n",
       "    "
      ],
      "text/plain": [
       "\n",
       "    La solución del problema de condiciones iniciales es\n",
       "    \\(u(x)=\\frac{1}{38} \\, {\\left({\\left(17 \\, \\sqrt{5} - 1\\right)} e^{\\left(\\sqrt{5} x + 5 \\, x\\right)} - {\\left(17 \\, \\sqrt{5} + 1\\right)} e^{\\left(5 \\, x\\right)} + 2 \\, e^{\\left(\\frac{1}{2} \\, \\sqrt{5} x + \\frac{1}{2} \\, x\\right)}\\right)} e^{\\left(-\\frac{1}{2} \\, \\sqrt{5} x - \\frac{11}{2} \\, x\\right)}\\)\n",
       "    "
      ]
     },
     "metadata": {},
     "output_type": "display_data"
    },
    {
     "data": {
      "text/html": [
       "\n",
       "    <h1> EDOs lineales de 2o Orden </h1>\n",
       "    <h2> Coeficientes indeterminados: \\( \\phi(x)=Ae^{kx} \\) </h2>\n",
       "    <p> Encuentre la solución \\(u(x)\\) de la siguiente ecuación diferencial\n",
       "    \\(-u\\left(x\\right) - 2 \\, \\frac{\\partial}{\\partial x}u\\left(x\\right) + \\frac{\\partial^{2}}{(\\partial x)^{2}}u\\left(x\\right) = 2 \\, e^{\\left(8 \\, x\\right)}\\) con condiciones iniciales \\(u(0)=1, \\; u'(0)=2\\)\n",
       "    y evalue en el punto dado:</p>\n",
       "    <pre>\n",
       "    u(1.8) = {1:NM:=76399.7925217046:2291.99377565114}\n",
       "    </pre>\n",
       "    "
      ],
      "text/plain": [
       "\n",
       "    <h1> EDOs lineales de 2o Orden </h1>\n",
       "    <h2> Coeficientes indeterminados: \\( \\phi(x)=Ae^{kx} \\) </h2>\n",
       "    <p> Encuentre la solución \\(u(x)\\) de la siguiente ecuación diferencial\n",
       "    \\(-u\\left(x\\right) - 2 \\, \\frac{\\partial}{\\partial x}u\\left(x\\right) + \\frac{\\partial^{2}}{(\\partial x)^{2}}u\\left(x\\right) = 2 \\, e^{\\left(8 \\, x\\right)}\\) con condiciones iniciales \\(u(0)=1, \\; u'(0)=2\\)\n",
       "    y evalue en el punto dado:</p>\n",
       "    <pre>\n",
       "    u(1.8) = {1:NM:=76399.7925217046:2291.99377565114}\n",
       "    </pre>\n",
       "    "
      ]
     },
     "metadata": {},
     "output_type": "display_data"
    },
    {
     "data": {
      "text/html": [
       "\n",
       "    La solución del problema de condiciones iniciales es\n",
       "    \\(u(x)=\\frac{1}{188} \\, {\\left(3 \\, {\\left(11 \\, \\sqrt{2} + 30\\right)} e^{\\left(2 \\, \\sqrt{2} x + x\\right)} - 3 \\, {\\left(11 \\, \\sqrt{2} - 30\\right)} e^{x} + 8 \\, e^{\\left(\\sqrt{2} x + 8 \\, x\\right)}\\right)} e^{\\left(-\\sqrt{2} x\\right)}\\)\n",
       "    "
      ],
      "text/plain": [
       "\n",
       "    La solución del problema de condiciones iniciales es\n",
       "    \\(u(x)=\\frac{1}{188} \\, {\\left(3 \\, {\\left(11 \\, \\sqrt{2} + 30\\right)} e^{\\left(2 \\, \\sqrt{2} x + x\\right)} - 3 \\, {\\left(11 \\, \\sqrt{2} - 30\\right)} e^{x} + 8 \\, e^{\\left(\\sqrt{2} x + 8 \\, x\\right)}\\right)} e^{\\left(-\\sqrt{2} x\\right)}\\)\n",
       "    "
      ]
     },
     "metadata": {},
     "output_type": "display_data"
    },
    {
     "data": {
      "text/html": [
       "\n",
       "    <h1> EDOs lineales de 2o Orden </h1>\n",
       "    <h2> Coeficientes indeterminados: \\( \\phi(x)=Ae^{kx} \\) </h2>\n",
       "    <p> Encuentre la solución \\(u(x)\\) de la siguiente ecuación diferencial\n",
       "    \\(-2 \\, u\\left(x\\right) - \\frac{\\partial}{\\partial x}u\\left(x\\right) + \\frac{\\partial^{2}}{(\\partial x)^{2}}u\\left(x\\right) = 7 \\, e^{\\left(-7 \\, x\\right)}\\) con condiciones iniciales \\(u(0)=-1, \\; u'(0)=-1\\)\n",
       "    y evalue en el punto dado:</p>\n",
       "    <pre>\n",
       "    u(1.87) = {1:NM:=-17.2623442959301:-0.517870328877903}\n",
       "    </pre>\n",
       "    "
      ],
      "text/plain": [
       "\n",
       "    <h1> EDOs lineales de 2o Orden </h1>\n",
       "    <h2> Coeficientes indeterminados: \\( \\phi(x)=Ae^{kx} \\) </h2>\n",
       "    <p> Encuentre la solución \\(u(x)\\) de la siguiente ecuación diferencial\n",
       "    \\(-2 \\, u\\left(x\\right) - \\frac{\\partial}{\\partial x}u\\left(x\\right) + \\frac{\\partial^{2}}{(\\partial x)^{2}}u\\left(x\\right) = 7 \\, e^{\\left(-7 \\, x\\right)}\\) con condiciones iniciales \\(u(0)=-1, \\; u'(0)=-1\\)\n",
       "    y evalue en el punto dado:</p>\n",
       "    <pre>\n",
       "    u(1.87) = {1:NM:=-17.2623442959301:-0.517870328877903}\n",
       "    </pre>\n",
       "    "
      ]
     },
     "metadata": {},
     "output_type": "display_data"
    },
    {
     "data": {
      "text/html": [
       "\n",
       "    La solución del problema de condiciones iniciales es\n",
       "    \\(u(x)=-\\frac{1}{54} \\, {\\left(22 \\, e^{\\left(9 \\, x\\right)} + 39 \\, e^{\\left(6 \\, x\\right)} - 7\\right)} e^{\\left(-7 \\, x\\right)}\\)\n",
       "    "
      ],
      "text/plain": [
       "\n",
       "    La solución del problema de condiciones iniciales es\n",
       "    \\(u(x)=-\\frac{1}{54} \\, {\\left(22 \\, e^{\\left(9 \\, x\\right)} + 39 \\, e^{\\left(6 \\, x\\right)} - 7\\right)} e^{\\left(-7 \\, x\\right)}\\)\n",
       "    "
      ]
     },
     "metadata": {},
     "output_type": "display_data"
    },
    {
     "data": {
      "text/html": [
       "\n",
       "    <h1> EDOs lineales de 2o Orden </h1>\n",
       "    <h2> Coeficientes indeterminados: \\( \\phi(x)=Ae^{kx} \\) </h2>\n",
       "    <p> Encuentre la solución \\(u(x)\\) de la siguiente ecuación diferencial\n",
       "    \\(u\\left(x\\right) + \\frac{\\partial^{2}}{(\\partial x)^{2}}u\\left(x\\right) = e^{\\left(-7 \\, x\\right)}\\) con condiciones iniciales \\(u(0)=-1, \\; u'(0)=1\\)\n",
       "    y evalue en el punto dado:</p>\n",
       "    <pre>\n",
       "    u(1.27) = {1:NM:=0.786611240175884:0.0235983372052765}\n",
       "    </pre>\n",
       "    "
      ],
      "text/plain": [
       "\n",
       "    <h1> EDOs lineales de 2o Orden </h1>\n",
       "    <h2> Coeficientes indeterminados: \\( \\phi(x)=Ae^{kx} \\) </h2>\n",
       "    <p> Encuentre la solución \\(u(x)\\) de la siguiente ecuación diferencial\n",
       "    \\(u\\left(x\\right) + \\frac{\\partial^{2}}{(\\partial x)^{2}}u\\left(x\\right) = e^{\\left(-7 \\, x\\right)}\\) con condiciones iniciales \\(u(0)=-1, \\; u'(0)=1\\)\n",
       "    y evalue en el punto dado:</p>\n",
       "    <pre>\n",
       "    u(1.27) = {1:NM:=0.786611240175884:0.0235983372052765}\n",
       "    </pre>\n",
       "    "
      ]
     },
     "metadata": {},
     "output_type": "display_data"
    },
    {
     "data": {
      "text/html": [
       "\n",
       "    La solución del problema de condiciones iniciales es\n",
       "    \\(u(x)=-\\frac{1}{50} \\, {\\left(51 \\, \\cos\\left(x\\right) e^{\\left(7 \\, x\\right)} - 57 \\, e^{\\left(7 \\, x\\right)} \\sin\\left(x\\right) - 1\\right)} e^{\\left(-7 \\, x\\right)}\\)\n",
       "    "
      ],
      "text/plain": [
       "\n",
       "    La solución del problema de condiciones iniciales es\n",
       "    \\(u(x)=-\\frac{1}{50} \\, {\\left(51 \\, \\cos\\left(x\\right) e^{\\left(7 \\, x\\right)} - 57 \\, e^{\\left(7 \\, x\\right)} \\sin\\left(x\\right) - 1\\right)} e^{\\left(-7 \\, x\\right)}\\)\n",
       "    "
      ]
     },
     "metadata": {},
     "output_type": "display_data"
    },
    {
     "data": {
      "text/html": [
       "\n",
       "    <h1> EDOs lineales de 2o Orden </h1>\n",
       "    <h2> Coeficientes indeterminados: \\( \\phi(x)=Ae^{kx} \\) </h2>\n",
       "    <p> Encuentre la solución \\(u(x)\\) de la siguiente ecuación diferencial\n",
       "    \\(2 \\, u\\left(x\\right) - \\frac{\\partial}{\\partial x}u\\left(x\\right) + \\frac{\\partial^{2}}{(\\partial x)^{2}}u\\left(x\\right) = -4 \\, e^{\\left(7 \\, x\\right)}\\) con condiciones iniciales \\(u(0)=0, \\; u'(0)=1\\)\n",
       "    y evalue en el punto dado:</p>\n",
       "    <pre>\n",
       "    u(1.52) = {1:NM:=-3795.28083359126:-113.858425007738}\n",
       "    </pre>\n",
       "    "
      ],
      "text/plain": [
       "\n",
       "    <h1> EDOs lineales de 2o Orden </h1>\n",
       "    <h2> Coeficientes indeterminados: \\( \\phi(x)=Ae^{kx} \\) </h2>\n",
       "    <p> Encuentre la solución \\(u(x)\\) de la siguiente ecuación diferencial\n",
       "    \\(2 \\, u\\left(x\\right) - \\frac{\\partial}{\\partial x}u\\left(x\\right) + \\frac{\\partial^{2}}{(\\partial x)^{2}}u\\left(x\\right) = -4 \\, e^{\\left(7 \\, x\\right)}\\) con condiciones iniciales \\(u(0)=0, \\; u'(0)=1\\)\n",
       "    y evalue en el punto dado:</p>\n",
       "    <pre>\n",
       "    u(1.52) = {1:NM:=-3795.28083359126:-113.858425007738}\n",
       "    </pre>\n",
       "    "
      ]
     },
     "metadata": {},
     "output_type": "display_data"
    },
    {
     "data": {
      "text/html": [
       "\n",
       "    La solución del problema de condiciones iniciales es\n",
       "    \\(u(x)=\\frac{5}{11} \\, \\sqrt{7} e^{\\left(\\frac{1}{2} \\, x\\right)} \\sin\\left(\\frac{1}{2} \\, \\sqrt{7} x\\right) + \\frac{1}{11} \\, \\cos\\left(\\frac{1}{2} \\, \\sqrt{7} x\\right) e^{\\left(\\frac{1}{2} \\, x\\right)} - \\frac{1}{11} \\, e^{\\left(7 \\, x\\right)}\\)\n",
       "    "
      ],
      "text/plain": [
       "\n",
       "    La solución del problema de condiciones iniciales es\n",
       "    \\(u(x)=\\frac{5}{11} \\, \\sqrt{7} e^{\\left(\\frac{1}{2} \\, x\\right)} \\sin\\left(\\frac{1}{2} \\, \\sqrt{7} x\\right) + \\frac{1}{11} \\, \\cos\\left(\\frac{1}{2} \\, \\sqrt{7} x\\right) e^{\\left(\\frac{1}{2} \\, x\\right)} - \\frac{1}{11} \\, e^{\\left(7 \\, x\\right)}\\)\n",
       "    "
      ]
     },
     "metadata": {},
     "output_type": "display_data"
    },
    {
     "data": {
      "text/html": [
       "\n",
       "    <h1> EDOs lineales de 2o Orden </h1>\n",
       "    <h2> Coeficientes indeterminados: \\( \\phi(x)=Ae^{kx} \\) </h2>\n",
       "    <p> Encuentre la solución \\(u(x)\\) de la siguiente ecuación diferencial\n",
       "    \\(u\\left(x\\right) + 2 \\, \\frac{\\partial}{\\partial x}u\\left(x\\right) + \\frac{\\partial^{2}}{(\\partial x)^{2}}u\\left(x\\right) = -9 \\, e^{\\left(5 \\, x\\right)}\\) con condiciones iniciales \\(u(0)=-2, \\; u'(0)=1\\)\n",
       "    y evalue en el punto dado:</p>\n",
       "    <pre>\n",
       "    u(1.48) = {1:NM:=-409.226021564249:-12.2767806469275}\n",
       "    </pre>\n",
       "    "
      ],
      "text/plain": [
       "\n",
       "    <h1> EDOs lineales de 2o Orden </h1>\n",
       "    <h2> Coeficientes indeterminados: \\( \\phi(x)=Ae^{kx} \\) </h2>\n",
       "    <p> Encuentre la solución \\(u(x)\\) de la siguiente ecuación diferencial\n",
       "    \\(u\\left(x\\right) + 2 \\, \\frac{\\partial}{\\partial x}u\\left(x\\right) + \\frac{\\partial^{2}}{(\\partial x)^{2}}u\\left(x\\right) = -9 \\, e^{\\left(5 \\, x\\right)}\\) con condiciones iniciales \\(u(0)=-2, \\; u'(0)=1\\)\n",
       "    y evalue en el punto dado:</p>\n",
       "    <pre>\n",
       "    u(1.48) = {1:NM:=-409.226021564249:-12.2767806469275}\n",
       "    </pre>\n",
       "    "
      ]
     },
     "metadata": {},
     "output_type": "display_data"
    },
    {
     "data": {
      "text/html": [
       "\n",
       "    La solución del problema de condiciones iniciales es\n",
       "    \\(u(x)=\\frac{1}{4} \\, {\\left(2 \\, x - e^{\\left(6 \\, x\\right)} - 7\\right)} e^{\\left(-x\\right)}\\)\n",
       "    "
      ],
      "text/plain": [
       "\n",
       "    La solución del problema de condiciones iniciales es\n",
       "    \\(u(x)=\\frac{1}{4} \\, {\\left(2 \\, x - e^{\\left(6 \\, x\\right)} - 7\\right)} e^{\\left(-x\\right)}\\)\n",
       "    "
      ]
     },
     "metadata": {},
     "output_type": "display_data"
    },
    {
     "data": {
      "text/html": [
       "\n",
       "    <h1> EDOs lineales de 2o Orden </h1>\n",
       "    <h2> Coeficientes indeterminados: \\( \\phi(x)=Ae^{kx} \\) </h2>\n",
       "    <p> Encuentre la solución \\(u(x)\\) de la siguiente ecuación diferencial\n",
       "    \\(-u\\left(x\\right) - 2 \\, \\frac{\\partial}{\\partial x}u\\left(x\\right) + \\frac{\\partial^{2}}{(\\partial x)^{2}}u\\left(x\\right) = 3 \\, e^{\\left(7 \\, x\\right)}\\) con condiciones iniciales \\(u(0)=-1, \\; u'(0)=1\\)\n",
       "    y evalue en el punto dado:</p>\n",
       "    <pre>\n",
       "    u(1.69) = {1:NM:=12113.6726675104:363.410180025312}\n",
       "    </pre>\n",
       "    "
      ],
      "text/plain": [
       "\n",
       "    <h1> EDOs lineales de 2o Orden </h1>\n",
       "    <h2> Coeficientes indeterminados: \\( \\phi(x)=Ae^{kx} \\) </h2>\n",
       "    <p> Encuentre la solución \\(u(x)\\) de la siguiente ecuación diferencial\n",
       "    \\(-u\\left(x\\right) - 2 \\, \\frac{\\partial}{\\partial x}u\\left(x\\right) + \\frac{\\partial^{2}}{(\\partial x)^{2}}u\\left(x\\right) = 3 \\, e^{\\left(7 \\, x\\right)}\\) con condiciones iniciales \\(u(0)=-1, \\; u'(0)=1\\)\n",
       "    y evalue en el punto dado:</p>\n",
       "    <pre>\n",
       "    u(1.69) = {1:NM:=12113.6726675104:363.410180025312}\n",
       "    </pre>\n",
       "    "
      ]
     },
     "metadata": {},
     "output_type": "display_data"
    },
    {
     "data": {
      "text/html": [
       "\n",
       "    La solución del problema de condiciones iniciales es\n",
       "    \\(u(x)=\\frac{1}{68} \\, {\\left({\\left(25 \\, \\sqrt{2} - 37\\right)} e^{\\left(2 \\, \\sqrt{2} x + x\\right)} - {\\left(25 \\, \\sqrt{2} + 37\\right)} e^{x} + 6 \\, e^{\\left(\\sqrt{2} x + 7 \\, x\\right)}\\right)} e^{\\left(-\\sqrt{2} x\\right)}\\)\n",
       "    "
      ],
      "text/plain": [
       "\n",
       "    La solución del problema de condiciones iniciales es\n",
       "    \\(u(x)=\\frac{1}{68} \\, {\\left({\\left(25 \\, \\sqrt{2} - 37\\right)} e^{\\left(2 \\, \\sqrt{2} x + x\\right)} - {\\left(25 \\, \\sqrt{2} + 37\\right)} e^{x} + 6 \\, e^{\\left(\\sqrt{2} x + 7 \\, x\\right)}\\right)} e^{\\left(-\\sqrt{2} x\\right)}\\)\n",
       "    "
      ]
     },
     "metadata": {},
     "output_type": "display_data"
    },
    {
     "data": {
      "text/html": [
       "\n",
       "    <h1> EDOs lineales de 2o Orden </h1>\n",
       "    <h2> Coeficientes indeterminados: \\( \\phi(x)=Ae^{kx} \\) </h2>\n",
       "    <p> Encuentre la solución \\(u(x)\\) de la siguiente ecuación diferencial\n",
       "    \\(2 \\, u\\left(x\\right) + 2 \\, \\frac{\\partial}{\\partial x}u\\left(x\\right) + \\frac{\\partial^{2}}{(\\partial x)^{2}}u\\left(x\\right) = -9 \\, e^{\\left(10 \\, x\\right)}\\) con condiciones iniciales \\(u(0)=1, \\; u'(0)=2\\)\n",
       "    y evalue en el punto dado:</p>\n",
       "    <pre>\n",
       "    u(1.23) = {1:NM:=-16205.9262346173:-486.177787038520}\n",
       "    </pre>\n",
       "    "
      ],
      "text/plain": [
       "\n",
       "    <h1> EDOs lineales de 2o Orden </h1>\n",
       "    <h2> Coeficientes indeterminados: \\( \\phi(x)=Ae^{kx} \\) </h2>\n",
       "    <p> Encuentre la solución \\(u(x)\\) de la siguiente ecuación diferencial\n",
       "    \\(2 \\, u\\left(x\\right) + 2 \\, \\frac{\\partial}{\\partial x}u\\left(x\\right) + \\frac{\\partial^{2}}{(\\partial x)^{2}}u\\left(x\\right) = -9 \\, e^{\\left(10 \\, x\\right)}\\) con condiciones iniciales \\(u(0)=1, \\; u'(0)=2\\)\n",
       "    y evalue en el punto dado:</p>\n",
       "    <pre>\n",
       "    u(1.23) = {1:NM:=-16205.9262346173:-486.177787038520}\n",
       "    </pre>\n",
       "    "
      ]
     },
     "metadata": {},
     "output_type": "display_data"
    },
    {
     "data": {
      "text/html": [
       "\n",
       "    La solución del problema de condiciones iniciales es\n",
       "    \\(u(x)=\\frac{1}{122} \\, {\\left(131 \\, \\cos\\left(x\\right) - 9 \\, e^{\\left(11 \\, x\\right)} + 465 \\, \\sin\\left(x\\right)\\right)} e^{\\left(-x\\right)}\\)\n",
       "    "
      ],
      "text/plain": [
       "\n",
       "    La solución del problema de condiciones iniciales es\n",
       "    \\(u(x)=\\frac{1}{122} \\, {\\left(131 \\, \\cos\\left(x\\right) - 9 \\, e^{\\left(11 \\, x\\right)} + 465 \\, \\sin\\left(x\\right)\\right)} e^{\\left(-x\\right)}\\)\n",
       "    "
      ]
     },
     "metadata": {},
     "output_type": "display_data"
    },
    {
     "data": {
      "text/html": [
       "\n",
       "    <h1> EDOs lineales de 2o Orden </h1>\n",
       "    <h2> Coeficientes indeterminados: \\( \\phi(x)=Ae^{kx} \\) </h2>\n",
       "    <p> Encuentre la solución \\(u(x)\\) de la siguiente ecuación diferencial\n",
       "    \\(-2 \\, u\\left(x\\right) + \\frac{\\partial}{\\partial x}u\\left(x\\right) + \\frac{\\partial^{2}}{(\\partial x)^{2}}u\\left(x\\right) = -4 \\, e^{\\left(3 \\, x\\right)}\\) con condiciones iniciales \\(u(0)=2, \\; u'(0)=2\\)\n",
       "    y evalue en el punto dado:</p>\n",
       "    <pre>\n",
       "    u(1.64) = {1:NM:=-41.0639607771104:-1.23191882331331}\n",
       "    </pre>\n",
       "    "
      ],
      "text/plain": [
       "\n",
       "    <h1> EDOs lineales de 2o Orden </h1>\n",
       "    <h2> Coeficientes indeterminados: \\( \\phi(x)=Ae^{kx} \\) </h2>\n",
       "    <p> Encuentre la solución \\(u(x)\\) de la siguiente ecuación diferencial\n",
       "    \\(-2 \\, u\\left(x\\right) + \\frac{\\partial}{\\partial x}u\\left(x\\right) + \\frac{\\partial^{2}}{(\\partial x)^{2}}u\\left(x\\right) = -4 \\, e^{\\left(3 \\, x\\right)}\\) con condiciones iniciales \\(u(0)=2, \\; u'(0)=2\\)\n",
       "    y evalue en el punto dado:</p>\n",
       "    <pre>\n",
       "    u(1.64) = {1:NM:=-41.0639607771104:-1.23191882331331}\n",
       "    </pre>\n",
       "    "
      ]
     },
     "metadata": {},
     "output_type": "display_data"
    },
    {
     "data": {
      "text/html": [
       "\n",
       "    La solución del problema de condiciones iniciales es\n",
       "    \\(u(x)=-\\frac{2}{15} \\, {\\left(3 \\, e^{\\left(5 \\, x\\right)} - 20 \\, e^{\\left(3 \\, x\\right)} + 2\\right)} e^{\\left(-2 \\, x\\right)}\\)\n",
       "    "
      ],
      "text/plain": [
       "\n",
       "    La solución del problema de condiciones iniciales es\n",
       "    \\(u(x)=-\\frac{2}{15} \\, {\\left(3 \\, e^{\\left(5 \\, x\\right)} - 20 \\, e^{\\left(3 \\, x\\right)} + 2\\right)} e^{\\left(-2 \\, x\\right)}\\)\n",
       "    "
      ]
     },
     "metadata": {},
     "output_type": "display_data"
    },
    {
     "data": {
      "text/html": [
       "\n",
       "    <h1> EDOs lineales de 2o Orden </h1>\n",
       "    <h2> Coeficientes indeterminados: \\( \\phi(x)=Ae^{kx} \\) </h2>\n",
       "    <p> Encuentre la solución \\(u(x)\\) de la siguiente ecuación diferencial\n",
       "    \\(-2 \\, u\\left(x\\right) - 2 \\, \\frac{\\partial}{\\partial x}u\\left(x\\right) + \\frac{\\partial^{2}}{(\\partial x)^{2}}u\\left(x\\right) = -2 \\, e^{\\left(10 \\, x\\right)}\\) con condiciones iniciales \\(u(0)=0, \\; u'(0)=-2\\)\n",
       "    y evalue en el punto dado:</p>\n",
       "    <pre>\n",
       "    u(1.37) = {1:NM:=-22864.7061952461:-685.941185857383}\n",
       "    </pre>\n",
       "    "
      ],
      "text/plain": [
       "\n",
       "    <h1> EDOs lineales de 2o Orden </h1>\n",
       "    <h2> Coeficientes indeterminados: \\( \\phi(x)=Ae^{kx} \\) </h2>\n",
       "    <p> Encuentre la solución \\(u(x)\\) de la siguiente ecuación diferencial\n",
       "    \\(-2 \\, u\\left(x\\right) - 2 \\, \\frac{\\partial}{\\partial x}u\\left(x\\right) + \\frac{\\partial^{2}}{(\\partial x)^{2}}u\\left(x\\right) = -2 \\, e^{\\left(10 \\, x\\right)}\\) con condiciones iniciales \\(u(0)=0, \\; u'(0)=-2\\)\n",
       "    y evalue en el punto dado:</p>\n",
       "    <pre>\n",
       "    u(1.37) = {1:NM:=-22864.7061952461:-685.941185857383}\n",
       "    </pre>\n",
       "    "
      ]
     },
     "metadata": {},
     "output_type": "display_data"
    },
    {
     "data": {
      "text/html": [
       "\n",
       "    La solución del problema de condiciones iniciales es\n",
       "    \\(u(x)=-\\frac{1}{78} \\, {\\left({\\left(23 \\, \\sqrt{3} - 1\\right)} e^{\\left(2 \\, \\sqrt{3} x + x\\right)} - {\\left(23 \\, \\sqrt{3} + 1\\right)} e^{x} + 2 \\, e^{\\left(\\sqrt{3} x + 10 \\, x\\right)}\\right)} e^{\\left(-\\sqrt{3} x\\right)}\\)\n",
       "    "
      ],
      "text/plain": [
       "\n",
       "    La solución del problema de condiciones iniciales es\n",
       "    \\(u(x)=-\\frac{1}{78} \\, {\\left({\\left(23 \\, \\sqrt{3} - 1\\right)} e^{\\left(2 \\, \\sqrt{3} x + x\\right)} - {\\left(23 \\, \\sqrt{3} + 1\\right)} e^{x} + 2 \\, e^{\\left(\\sqrt{3} x + 10 \\, x\\right)}\\right)} e^{\\left(-\\sqrt{3} x\\right)}\\)\n",
       "    "
      ]
     },
     "metadata": {},
     "output_type": "display_data"
    },
    {
     "data": {
      "text/html": [
       "\n",
       "    <h1> EDOs lineales de 2o Orden </h1>\n",
       "    <h2> Coeficientes indeterminados: \\( \\phi(x)=Ae^{kx} \\) </h2>\n",
       "    <p> Encuentre la solución \\(u(x)\\) de la siguiente ecuación diferencial\n",
       "    \\(-2 \\, u\\left(x\\right) - \\frac{\\partial}{\\partial x}u\\left(x\\right) + \\frac{\\partial^{2}}{(\\partial x)^{2}}u\\left(x\\right) = 7 \\, e^{\\left(-3 \\, x\\right)}\\) con condiciones iniciales \\(u(0)=1, \\; u'(0)=-1\\)\n",
       "    y evalue en el punto dado:</p>\n",
       "    <pre>\n",
       "    u(1.38) = {1:NM:=7.34247627973138:0.220274288391941}\n",
       "    </pre>\n",
       "    "
      ],
      "text/plain": [
       "\n",
       "    <h1> EDOs lineales de 2o Orden </h1>\n",
       "    <h2> Coeficientes indeterminados: \\( \\phi(x)=Ae^{kx} \\) </h2>\n",
       "    <p> Encuentre la solución \\(u(x)\\) de la siguiente ecuación diferencial\n",
       "    \\(-2 \\, u\\left(x\\right) - \\frac{\\partial}{\\partial x}u\\left(x\\right) + \\frac{\\partial^{2}}{(\\partial x)^{2}}u\\left(x\\right) = 7 \\, e^{\\left(-3 \\, x\\right)}\\) con condiciones iniciales \\(u(0)=1, \\; u'(0)=-1\\)\n",
       "    y evalue en el punto dado:</p>\n",
       "    <pre>\n",
       "    u(1.38) = {1:NM:=7.34247627973138:0.220274288391941}\n",
       "    </pre>\n",
       "    "
      ]
     },
     "metadata": {},
     "output_type": "display_data"
    },
    {
     "data": {
      "text/html": [
       "\n",
       "    La solución del problema de condiciones iniciales es\n",
       "    \\(u(x)=\\frac{1}{30} \\, {\\left(14 \\, e^{\\left(5 \\, x\\right)} - 5 \\, e^{\\left(2 \\, x\\right)} + 21\\right)} e^{\\left(-3 \\, x\\right)}\\)\n",
       "    "
      ],
      "text/plain": [
       "\n",
       "    La solución del problema de condiciones iniciales es\n",
       "    \\(u(x)=\\frac{1}{30} \\, {\\left(14 \\, e^{\\left(5 \\, x\\right)} - 5 \\, e^{\\left(2 \\, x\\right)} + 21\\right)} e^{\\left(-3 \\, x\\right)}\\)\n",
       "    "
      ]
     },
     "metadata": {},
     "output_type": "display_data"
    },
    {
     "data": {
      "text/html": [
       "\n",
       "    <h1> EDOs lineales de 2o Orden </h1>\n",
       "    <h2> Coeficientes indeterminados: \\( \\phi(x)=Ae^{kx} \\) </h2>\n",
       "    <p> Encuentre la solución \\(u(x)\\) de la siguiente ecuación diferencial\n",
       "    \\(-2 \\, u\\left(x\\right) - \\frac{\\partial}{\\partial x}u\\left(x\\right) + \\frac{\\partial^{2}}{(\\partial x)^{2}}u\\left(x\\right) = -9 \\, e^{\\left(-7 \\, x\\right)}\\) con condiciones iniciales \\(u(0)=-1, \\; u'(0)=0\\)\n",
       "    y evalue en el punto dado:</p>\n",
       "    <pre>\n",
       "    u(1.55) = {1:NM:=-14.8340120840335:-0.445020362521006}\n",
       "    </pre>\n",
       "    "
      ],
      "text/plain": [
       "\n",
       "    <h1> EDOs lineales de 2o Orden </h1>\n",
       "    <h2> Coeficientes indeterminados: \\( \\phi(x)=Ae^{kx} \\) </h2>\n",
       "    <p> Encuentre la solución \\(u(x)\\) de la siguiente ecuación diferencial\n",
       "    \\(-2 \\, u\\left(x\\right) - \\frac{\\partial}{\\partial x}u\\left(x\\right) + \\frac{\\partial^{2}}{(\\partial x)^{2}}u\\left(x\\right) = -9 \\, e^{\\left(-7 \\, x\\right)}\\) con condiciones iniciales \\(u(0)=-1, \\; u'(0)=0\\)\n",
       "    y evalue en el punto dado:</p>\n",
       "    <pre>\n",
       "    u(1.55) = {1:NM:=-14.8340120840335:-0.445020362521006}\n",
       "    </pre>\n",
       "    "
      ]
     },
     "metadata": {},
     "output_type": "display_data"
    },
    {
     "data": {
      "text/html": [
       "\n",
       "    La solución del problema de condiciones iniciales es\n",
       "    \\(u(x)=-\\frac{1}{6} \\, {\\left(4 \\, e^{\\left(9 \\, x\\right)} + e^{\\left(6 \\, x\\right)} + 1\\right)} e^{\\left(-7 \\, x\\right)}\\)\n",
       "    "
      ],
      "text/plain": [
       "\n",
       "    La solución del problema de condiciones iniciales es\n",
       "    \\(u(x)=-\\frac{1}{6} \\, {\\left(4 \\, e^{\\left(9 \\, x\\right)} + e^{\\left(6 \\, x\\right)} + 1\\right)} e^{\\left(-7 \\, x\\right)}\\)\n",
       "    "
      ]
     },
     "metadata": {},
     "output_type": "display_data"
    },
    {
     "data": {
      "text/html": [
       "\n",
       "    <h1> EDOs lineales de 2o Orden </h1>\n",
       "    <h2> Coeficientes indeterminados: \\( \\phi(x)=Ae^{kx} \\) </h2>\n",
       "    <p> Encuentre la solución \\(u(x)\\) de la siguiente ecuación diferencial\n",
       "    \\(\\frac{\\partial^{2}}{(\\partial x)^{2}}u\\left(x\\right) = 4 \\, e^{\\left(3 \\, x\\right)}\\) con condiciones iniciales \\(u(0)=0, \\; u'(0)=1\\)\n",
       "    y evalue en el punto dado:</p>\n",
       "    <pre>\n",
       "    u(1.21) = {1:NM:=15.9134740520808:0.477404221562423}\n",
       "    </pre>\n",
       "    "
      ],
      "text/plain": [
       "\n",
       "    <h1> EDOs lineales de 2o Orden </h1>\n",
       "    <h2> Coeficientes indeterminados: \\( \\phi(x)=Ae^{kx} \\) </h2>\n",
       "    <p> Encuentre la solución \\(u(x)\\) de la siguiente ecuación diferencial\n",
       "    \\(\\frac{\\partial^{2}}{(\\partial x)^{2}}u\\left(x\\right) = 4 \\, e^{\\left(3 \\, x\\right)}\\) con condiciones iniciales \\(u(0)=0, \\; u'(0)=1\\)\n",
       "    y evalue en el punto dado:</p>\n",
       "    <pre>\n",
       "    u(1.21) = {1:NM:=15.9134740520808:0.477404221562423}\n",
       "    </pre>\n",
       "    "
      ]
     },
     "metadata": {},
     "output_type": "display_data"
    },
    {
     "data": {
      "text/html": [
       "\n",
       "    La solución del problema de condiciones iniciales es\n",
       "    \\(u(x)=-\\frac{1}{3} \\, x + \\frac{4}{9} \\, e^{\\left(3 \\, x\\right)} - \\frac{4}{9}\\)\n",
       "    "
      ],
      "text/plain": [
       "\n",
       "    La solución del problema de condiciones iniciales es\n",
       "    \\(u(x)=-\\frac{1}{3} \\, x + \\frac{4}{9} \\, e^{\\left(3 \\, x\\right)} - \\frac{4}{9}\\)\n",
       "    "
      ]
     },
     "metadata": {},
     "output_type": "display_data"
    },
    {
     "data": {
      "text/html": [
       "\n",
       "    <h1> EDOs lineales de 2o Orden </h1>\n",
       "    <h2> Coeficientes indeterminados: \\( \\phi(x)=Ae^{kx} \\) </h2>\n",
       "    <p> Encuentre la solución \\(u(x)\\) de la siguiente ecuación diferencial\n",
       "    \\(-u\\left(x\\right) - \\frac{\\partial}{\\partial x}u\\left(x\\right) + \\frac{\\partial^{2}}{(\\partial x)^{2}}u\\left(x\\right) = -7 \\, e^{x}\\) con condiciones iniciales \\(u(0)=-2, \\; u'(0)=1\\)\n",
       "    y evalue en el punto dado:</p>\n",
       "    <pre>\n",
       "    u(1.56) = {1:NM:=-32.6805734515938:-0.980417203547815}\n",
       "    </pre>\n",
       "    "
      ],
      "text/plain": [
       "\n",
       "    <h1> EDOs lineales de 2o Orden </h1>\n",
       "    <h2> Coeficientes indeterminados: \\( \\phi(x)=Ae^{kx} \\) </h2>\n",
       "    <p> Encuentre la solución \\(u(x)\\) de la siguiente ecuación diferencial\n",
       "    \\(-u\\left(x\\right) - \\frac{\\partial}{\\partial x}u\\left(x\\right) + \\frac{\\partial^{2}}{(\\partial x)^{2}}u\\left(x\\right) = -7 \\, e^{x}\\) con condiciones iniciales \\(u(0)=-2, \\; u'(0)=1\\)\n",
       "    y evalue en el punto dado:</p>\n",
       "    <pre>\n",
       "    u(1.56) = {1:NM:=-32.6805734515938:-0.980417203547815}\n",
       "    </pre>\n",
       "    "
      ]
     },
     "metadata": {},
     "output_type": "display_data"
    },
    {
     "data": {
      "text/html": [
       "\n",
       "    La solución del problema de condiciones iniciales es\n",
       "    \\(u(x)=-\\frac{1}{10} \\, {\\left(3 \\, {\\left(\\sqrt{5} + 15\\right)} e^{\\left(\\sqrt{5} x + \\frac{1}{2} \\, x\\right)} - 3 \\, {\\left(\\sqrt{5} - 15\\right)} e^{\\left(\\frac{1}{2} \\, x\\right)} - 70 \\, e^{\\left(\\frac{1}{2} \\, \\sqrt{5} x + x\\right)}\\right)} e^{\\left(-\\frac{1}{2} \\, \\sqrt{5} x\\right)}\\)\n",
       "    "
      ],
      "text/plain": [
       "\n",
       "    La solución del problema de condiciones iniciales es\n",
       "    \\(u(x)=-\\frac{1}{10} \\, {\\left(3 \\, {\\left(\\sqrt{5} + 15\\right)} e^{\\left(\\sqrt{5} x + \\frac{1}{2} \\, x\\right)} - 3 \\, {\\left(\\sqrt{5} - 15\\right)} e^{\\left(\\frac{1}{2} \\, x\\right)} - 70 \\, e^{\\left(\\frac{1}{2} \\, \\sqrt{5} x + x\\right)}\\right)} e^{\\left(-\\frac{1}{2} \\, \\sqrt{5} x\\right)}\\)\n",
       "    "
      ]
     },
     "metadata": {},
     "output_type": "display_data"
    },
    {
     "data": {
      "text/html": [
       "\n",
       "    <h1> EDOs lineales de 2o Orden </h1>\n",
       "    <h2> Coeficientes indeterminados: \\( \\phi(x)=Ae^{kx} \\) </h2>\n",
       "    <p> Encuentre la solución \\(u(x)\\) de la siguiente ecuación diferencial\n",
       "    \\(u\\left(x\\right) + \\frac{\\partial^{2}}{(\\partial x)^{2}}u\\left(x\\right) = 3 \\, e^{\\left(4 \\, x\\right)}\\) con condiciones iniciales \\(u(0)=1, \\; u'(0)=1\\)\n",
       "    y evalue en el punto dado:</p>\n",
       "    <pre>\n",
       "    u(1.83) = {1:NM:=266.579795796104:7.99739387388312}\n",
       "    </pre>\n",
       "    "
      ],
      "text/plain": [
       "\n",
       "    <h1> EDOs lineales de 2o Orden </h1>\n",
       "    <h2> Coeficientes indeterminados: \\( \\phi(x)=Ae^{kx} \\) </h2>\n",
       "    <p> Encuentre la solución \\(u(x)\\) de la siguiente ecuación diferencial\n",
       "    \\(u\\left(x\\right) + \\frac{\\partial^{2}}{(\\partial x)^{2}}u\\left(x\\right) = 3 \\, e^{\\left(4 \\, x\\right)}\\) con condiciones iniciales \\(u(0)=1, \\; u'(0)=1\\)\n",
       "    y evalue en el punto dado:</p>\n",
       "    <pre>\n",
       "    u(1.83) = {1:NM:=266.579795796104:7.99739387388312}\n",
       "    </pre>\n",
       "    "
      ]
     },
     "metadata": {},
     "output_type": "display_data"
    },
    {
     "data": {
      "text/html": [
       "\n",
       "    La solución del problema de condiciones iniciales es\n",
       "    \\(u(x)=\\frac{14}{17} \\, \\cos\\left(x\\right) + \\frac{3}{17} \\, e^{\\left(4 \\, x\\right)} + \\frac{5}{17} \\, \\sin\\left(x\\right)\\)\n",
       "    "
      ],
      "text/plain": [
       "\n",
       "    La solución del problema de condiciones iniciales es\n",
       "    \\(u(x)=\\frac{14}{17} \\, \\cos\\left(x\\right) + \\frac{3}{17} \\, e^{\\left(4 \\, x\\right)} + \\frac{5}{17} \\, \\sin\\left(x\\right)\\)\n",
       "    "
      ]
     },
     "metadata": {},
     "output_type": "display_data"
    },
    {
     "data": {
      "text/html": [
       "\n",
       "    <h1> EDOs lineales de 2o Orden </h1>\n",
       "    <h2> Coeficientes indeterminados: \\( \\phi(x)=Ae^{kx} \\) </h2>\n",
       "    <p> Encuentre la solución \\(u(x)\\) de la siguiente ecuación diferencial\n",
       "    \\(-2 \\, u\\left(x\\right) - 2 \\, \\frac{\\partial}{\\partial x}u\\left(x\\right) + \\frac{\\partial^{2}}{(\\partial x)^{2}}u\\left(x\\right) = -6 \\, e^{\\left(-6 \\, x\\right)}\\) con condiciones iniciales \\(u(0)=-2, \\; u'(0)=2\\)\n",
       "    y evalue en el punto dado:</p>\n",
       "    <pre>\n",
       "    u(1.3) = {1:NM:=-2.22734249321901:-0.0668202747965702}\n",
       "    </pre>\n",
       "    "
      ],
      "text/plain": [
       "\n",
       "    <h1> EDOs lineales de 2o Orden </h1>\n",
       "    <h2> Coeficientes indeterminados: \\( \\phi(x)=Ae^{kx} \\) </h2>\n",
       "    <p> Encuentre la solución \\(u(x)\\) de la siguiente ecuación diferencial\n",
       "    \\(-2 \\, u\\left(x\\right) - 2 \\, \\frac{\\partial}{\\partial x}u\\left(x\\right) + \\frac{\\partial^{2}}{(\\partial x)^{2}}u\\left(x\\right) = -6 \\, e^{\\left(-6 \\, x\\right)}\\) con condiciones iniciales \\(u(0)=-2, \\; u'(0)=2\\)\n",
       "    y evalue en el punto dado:</p>\n",
       "    <pre>\n",
       "    u(1.3) = {1:NM:=-2.22734249321901:-0.0668202747965702}\n",
       "    </pre>\n",
       "    "
      ]
     },
     "metadata": {},
     "output_type": "display_data"
    },
    {
     "data": {
      "text/html": [
       "\n",
       "    La solución del problema de condiciones iniciales es\n",
       "    \\(u(x)=\\frac{1}{138} \\, {\\left({\\left(71 \\, \\sqrt{3} - 129\\right)} e^{\\left(2 \\, \\sqrt{3} x + 7 \\, x\\right)} - {\\left(71 \\, \\sqrt{3} + 129\\right)} e^{\\left(7 \\, x\\right)} - 18 \\, e^{\\left(\\sqrt{3} x\\right)}\\right)} e^{\\left(-\\sqrt{3} x - 6 \\, x\\right)}\\)\n",
       "    "
      ],
      "text/plain": [
       "\n",
       "    La solución del problema de condiciones iniciales es\n",
       "    \\(u(x)=\\frac{1}{138} \\, {\\left({\\left(71 \\, \\sqrt{3} - 129\\right)} e^{\\left(2 \\, \\sqrt{3} x + 7 \\, x\\right)} - {\\left(71 \\, \\sqrt{3} + 129\\right)} e^{\\left(7 \\, x\\right)} - 18 \\, e^{\\left(\\sqrt{3} x\\right)}\\right)} e^{\\left(-\\sqrt{3} x - 6 \\, x\\right)}\\)\n",
       "    "
      ]
     },
     "metadata": {},
     "output_type": "display_data"
    },
    {
     "data": {
      "text/html": [
       "\n",
       "    <h1> EDOs lineales de 2o Orden </h1>\n",
       "    <h2> Coeficientes indeterminados: \\( \\phi(x)=Ae^{kx} \\) </h2>\n",
       "    <p> Encuentre la solución \\(u(x)\\) de la siguiente ecuación diferencial\n",
       "    \\(-\\frac{\\partial}{\\partial x}u\\left(x\\right) + \\frac{\\partial^{2}}{(\\partial x)^{2}}u\\left(x\\right) = -5 \\, e^{\\left(-9 \\, x\\right)}\\) con condiciones iniciales \\(u(0)=-1, \\; u'(0)=1\\)\n",
       "    y evalue en el punto dado:</p>\n",
       "    <pre>\n",
       "    u(1.75) = {1:NM:=1.43285688553075:0.0429857065659226}\n",
       "    </pre>\n",
       "    "
      ],
      "text/plain": [
       "\n",
       "    <h1> EDOs lineales de 2o Orden </h1>\n",
       "    <h2> Coeficientes indeterminados: \\( \\phi(x)=Ae^{kx} \\) </h2>\n",
       "    <p> Encuentre la solución \\(u(x)\\) de la siguiente ecuación diferencial\n",
       "    \\(-\\frac{\\partial}{\\partial x}u\\left(x\\right) + \\frac{\\partial^{2}}{(\\partial x)^{2}}u\\left(x\\right) = -5 \\, e^{\\left(-9 \\, x\\right)}\\) con condiciones iniciales \\(u(0)=-1, \\; u'(0)=1\\)\n",
       "    y evalue en el punto dado:</p>\n",
       "    <pre>\n",
       "    u(1.75) = {1:NM:=1.43285688553075:0.0429857065659226}\n",
       "    </pre>\n",
       "    "
      ]
     },
     "metadata": {},
     "output_type": "display_data"
    },
    {
     "data": {
      "text/html": [
       "\n",
       "    La solución del problema de condiciones iniciales es\n",
       "    \\(u(x)=\\frac{1}{18} \\, {\\left(9 \\, e^{\\left(10 \\, x\\right)} - 26 \\, e^{\\left(9 \\, x\\right)} - 1\\right)} e^{\\left(-9 \\, x\\right)}\\)\n",
       "    "
      ],
      "text/plain": [
       "\n",
       "    La solución del problema de condiciones iniciales es\n",
       "    \\(u(x)=\\frac{1}{18} \\, {\\left(9 \\, e^{\\left(10 \\, x\\right)} - 26 \\, e^{\\left(9 \\, x\\right)} - 1\\right)} e^{\\left(-9 \\, x\\right)}\\)\n",
       "    "
      ]
     },
     "metadata": {},
     "output_type": "display_data"
    },
    {
     "data": {
      "text/html": [
       "\n",
       "    <h1> EDOs lineales de 2o Orden </h1>\n",
       "    <h2> Coeficientes indeterminados: \\( \\phi(x)=Ae^{kx} \\) </h2>\n",
       "    <p> Encuentre la solución \\(u(x)\\) de la siguiente ecuación diferencial\n",
       "    \\(2 \\, \\frac{\\partial}{\\partial x}u\\left(x\\right) + \\frac{\\partial^{2}}{(\\partial x)^{2}}u\\left(x\\right) = -7 \\, e^{\\left(6 \\, x\\right)}\\) con condiciones iniciales \\(u(0)=1, \\; u'(0)=0\\)\n",
       "    y evalue en el punto dado:</p>\n",
       "    <pre>\n",
       "    u(1.81) = {1:NM:=-7589.35645310424:-227.680693593127}\n",
       "    </pre>\n",
       "    "
      ],
      "text/plain": [
       "\n",
       "    <h1> EDOs lineales de 2o Orden </h1>\n",
       "    <h2> Coeficientes indeterminados: \\( \\phi(x)=Ae^{kx} \\) </h2>\n",
       "    <p> Encuentre la solución \\(u(x)\\) de la siguiente ecuación diferencial\n",
       "    \\(2 \\, \\frac{\\partial}{\\partial x}u\\left(x\\right) + \\frac{\\partial^{2}}{(\\partial x)^{2}}u\\left(x\\right) = -7 \\, e^{\\left(6 \\, x\\right)}\\) con condiciones iniciales \\(u(0)=1, \\; u'(0)=0\\)\n",
       "    y evalue en el punto dado:</p>\n",
       "    <pre>\n",
       "    u(1.81) = {1:NM:=-7589.35645310424:-227.680693593127}\n",
       "    </pre>\n",
       "    "
      ]
     },
     "metadata": {},
     "output_type": "display_data"
    },
    {
     "data": {
      "text/html": [
       "\n",
       "    La solución del problema de condiciones iniciales es\n",
       "    \\(u(x)=-\\frac{1}{48} \\, {\\left(7 \\, e^{\\left(8 \\, x\\right)} - 76 \\, e^{\\left(2 \\, x\\right)} + 21\\right)} e^{\\left(-2 \\, x\\right)}\\)\n",
       "    "
      ],
      "text/plain": [
       "\n",
       "    La solución del problema de condiciones iniciales es\n",
       "    \\(u(x)=-\\frac{1}{48} \\, {\\left(7 \\, e^{\\left(8 \\, x\\right)} - 76 \\, e^{\\left(2 \\, x\\right)} + 21\\right)} e^{\\left(-2 \\, x\\right)}\\)\n",
       "    "
      ]
     },
     "metadata": {},
     "output_type": "display_data"
    },
    {
     "data": {
      "text/html": [
       "\n",
       "    <h1> EDOs lineales de 2o Orden </h1>\n",
       "    <h2> Coeficientes indeterminados: \\( \\phi(x)=Ae^{kx} \\) </h2>\n",
       "    <p> Encuentre la solución \\(u(x)\\) de la siguiente ecuación diferencial\n",
       "    \\(-u\\left(x\\right) - \\frac{\\partial}{\\partial x}u\\left(x\\right) + \\frac{\\partial^{2}}{(\\partial x)^{2}}u\\left(x\\right) = 7 \\, e^{\\left(-8 \\, x\\right)}\\) con condiciones iniciales \\(u(0)=-2, \\; u'(0)=-2\\)\n",
       "    y evalue en el punto dado:</p>\n",
       "    <pre>\n",
       "    u(1.89) = {1:NM:=-24.1817765747952:-0.725453297243856}\n",
       "    </pre>\n",
       "    "
      ],
      "text/plain": [
       "\n",
       "    <h1> EDOs lineales de 2o Orden </h1>\n",
       "    <h2> Coeficientes indeterminados: \\( \\phi(x)=Ae^{kx} \\) </h2>\n",
       "    <p> Encuentre la solución \\(u(x)\\) de la siguiente ecuación diferencial\n",
       "    \\(-u\\left(x\\right) - \\frac{\\partial}{\\partial x}u\\left(x\\right) + \\frac{\\partial^{2}}{(\\partial x)^{2}}u\\left(x\\right) = 7 \\, e^{\\left(-8 \\, x\\right)}\\) con condiciones iniciales \\(u(0)=-2, \\; u'(0)=-2\\)\n",
       "    y evalue en el punto dado:</p>\n",
       "    <pre>\n",
       "    u(1.89) = {1:NM:=-24.1817765747952:-0.725453297243856}\n",
       "    </pre>\n",
       "    "
      ]
     },
     "metadata": {},
     "output_type": "display_data"
    },
    {
     "data": {
      "text/html": [
       "\n",
       "    La solución del problema de condiciones iniciales es\n",
       "    \\(u(x)=-\\frac{1}{710} \\, {\\left({\\left(23 \\, \\sqrt{5} + 745\\right)} e^{\\left(\\sqrt{5} x + \\frac{17}{2} \\, x\\right)} - {\\left(23 \\, \\sqrt{5} - 745\\right)} e^{\\left(\\frac{17}{2} \\, x\\right)} - 70 \\, e^{\\left(\\frac{1}{2} \\, \\sqrt{5} x\\right)}\\right)} e^{\\left(-\\frac{1}{2} \\, \\sqrt{5} x - 8 \\, x\\right)}\\)\n",
       "    "
      ],
      "text/plain": [
       "\n",
       "    La solución del problema de condiciones iniciales es\n",
       "    \\(u(x)=-\\frac{1}{710} \\, {\\left({\\left(23 \\, \\sqrt{5} + 745\\right)} e^{\\left(\\sqrt{5} x + \\frac{17}{2} \\, x\\right)} - {\\left(23 \\, \\sqrt{5} - 745\\right)} e^{\\left(\\frac{17}{2} \\, x\\right)} - 70 \\, e^{\\left(\\frac{1}{2} \\, \\sqrt{5} x\\right)}\\right)} e^{\\left(-\\frac{1}{2} \\, \\sqrt{5} x - 8 \\, x\\right)}\\)\n",
       "    "
      ]
     },
     "metadata": {},
     "output_type": "display_data"
    },
    {
     "data": {
      "text/html": [
       "\n",
       "    <h1> EDOs lineales de 2o Orden </h1>\n",
       "    <h2> Coeficientes indeterminados: \\( \\phi(x)=Ae^{kx} \\) </h2>\n",
       "    <p> Encuentre la solución \\(u(x)\\) de la siguiente ecuación diferencial\n",
       "    \\(u\\left(x\\right) - \\frac{\\partial}{\\partial x}u\\left(x\\right) + \\frac{\\partial^{2}}{(\\partial x)^{2}}u\\left(x\\right) = -7 \\, e^{\\left(9 \\, x\\right)}\\) con condiciones iniciales \\(u(0)=1, \\; u'(0)=-1\\)\n",
       "    y evalue en el punto dado:</p>\n",
       "    <pre>\n",
       "    u(1.6) = {1:NM:=-172035.848301240:-5161.07544903721}\n",
       "    </pre>\n",
       "    "
      ],
      "text/plain": [
       "\n",
       "    <h1> EDOs lineales de 2o Orden </h1>\n",
       "    <h2> Coeficientes indeterminados: \\( \\phi(x)=Ae^{kx} \\) </h2>\n",
       "    <p> Encuentre la solución \\(u(x)\\) de la siguiente ecuación diferencial\n",
       "    \\(u\\left(x\\right) - \\frac{\\partial}{\\partial x}u\\left(x\\right) + \\frac{\\partial^{2}}{(\\partial x)^{2}}u\\left(x\\right) = -7 \\, e^{\\left(9 \\, x\\right)}\\) con condiciones iniciales \\(u(0)=1, \\; u'(0)=-1\\)\n",
       "    y evalue en el punto dado:</p>\n",
       "    <pre>\n",
       "    u(1.6) = {1:NM:=-172035.848301240:-5161.07544903721}\n",
       "    </pre>\n",
       "    "
      ]
     },
     "metadata": {},
     "output_type": "display_data"
    },
    {
     "data": {
      "text/html": [
       "\n",
       "    La solución del problema de condiciones iniciales es\n",
       "    \\(u(x)=\\frac{1}{219} \\, \\sqrt{3} {\\left(80 \\, \\sqrt{3} \\cos\\left(\\frac{1}{2} \\, \\sqrt{3} x\\right) e^{\\left(\\frac{1}{2} \\, x\\right)} - 100 \\, e^{\\left(\\frac{1}{2} \\, x\\right)} \\sin\\left(\\frac{1}{2} \\, \\sqrt{3} x\\right) - 7 \\, \\sqrt{3} e^{\\left(9 \\, x\\right)}\\right)}\\)\n",
       "    "
      ],
      "text/plain": [
       "\n",
       "    La solución del problema de condiciones iniciales es\n",
       "    \\(u(x)=\\frac{1}{219} \\, \\sqrt{3} {\\left(80 \\, \\sqrt{3} \\cos\\left(\\frac{1}{2} \\, \\sqrt{3} x\\right) e^{\\left(\\frac{1}{2} \\, x\\right)} - 100 \\, e^{\\left(\\frac{1}{2} \\, x\\right)} \\sin\\left(\\frac{1}{2} \\, \\sqrt{3} x\\right) - 7 \\, \\sqrt{3} e^{\\left(9 \\, x\\right)}\\right)}\\)\n",
       "    "
      ]
     },
     "metadata": {},
     "output_type": "display_data"
    },
    {
     "data": {
      "text/html": [
       "\n",
       "    <h1> EDOs lineales de 2o Orden </h1>\n",
       "    <h2> Coeficientes indeterminados: \\( \\phi(x)=Ae^{kx} \\) </h2>\n",
       "    <p> Encuentre la solución \\(u(x)\\) de la siguiente ecuación diferencial\n",
       "    \\(2 \\, u\\left(x\\right) + \\frac{\\partial^{2}}{(\\partial x)^{2}}u\\left(x\\right) = -4 \\, e^{\\left(-5 \\, x\\right)}\\) con condiciones iniciales \\(u(0)=-1, \\; u'(0)=2\\)\n",
       "    y evalue en el punto dado:</p>\n",
       "    <pre>\n",
       "    u(1.17) = {1:NM:=0.958207076960672:0.0287462123088201}\n",
       "    </pre>\n",
       "    "
      ],
      "text/plain": [
       "\n",
       "    <h1> EDOs lineales de 2o Orden </h1>\n",
       "    <h2> Coeficientes indeterminados: \\( \\phi(x)=Ae^{kx} \\) </h2>\n",
       "    <p> Encuentre la solución \\(u(x)\\) de la siguiente ecuación diferencial\n",
       "    \\(2 \\, u\\left(x\\right) + \\frac{\\partial^{2}}{(\\partial x)^{2}}u\\left(x\\right) = -4 \\, e^{\\left(-5 \\, x\\right)}\\) con condiciones iniciales \\(u(0)=-1, \\; u'(0)=2\\)\n",
       "    y evalue en el punto dado:</p>\n",
       "    <pre>\n",
       "    u(1.17) = {1:NM:=0.958207076960672:0.0287462123088201}\n",
       "    </pre>\n",
       "    "
      ]
     },
     "metadata": {},
     "output_type": "display_data"
    },
    {
     "data": {
      "text/html": [
       "\n",
       "    La solución del problema de condiciones iniciales es\n",
       "    \\(u(x)=\\frac{1}{27} \\, {\\left(17 \\, \\sqrt{2} e^{\\left(5 \\, x\\right)} \\sin\\left(\\sqrt{2} x\\right) - 23 \\, \\cos\\left(\\sqrt{2} x\\right) e^{\\left(5 \\, x\\right)} - 4\\right)} e^{\\left(-5 \\, x\\right)}\\)\n",
       "    "
      ],
      "text/plain": [
       "\n",
       "    La solución del problema de condiciones iniciales es\n",
       "    \\(u(x)=\\frac{1}{27} \\, {\\left(17 \\, \\sqrt{2} e^{\\left(5 \\, x\\right)} \\sin\\left(\\sqrt{2} x\\right) - 23 \\, \\cos\\left(\\sqrt{2} x\\right) e^{\\left(5 \\, x\\right)} - 4\\right)} e^{\\left(-5 \\, x\\right)}\\)\n",
       "    "
      ]
     },
     "metadata": {},
     "output_type": "display_data"
    },
    {
     "data": {
      "text/html": [
       "\n",
       "    <h1> EDOs lineales de 2o Orden </h1>\n",
       "    <h2> Coeficientes indeterminados: \\( \\phi(x)=Ae^{kx} \\) </h2>\n",
       "    <p> Encuentre la solución \\(u(x)\\) de la siguiente ecuación diferencial\n",
       "    \\(-2 \\, u\\left(x\\right) + \\frac{\\partial^{2}}{(\\partial x)^{2}}u\\left(x\\right) = 8 \\, e^{\\left(-6 \\, x\\right)}\\) con condiciones iniciales \\(u(0)=1, \\; u'(0)=1\\)\n",
       "    y evalue en el punto dado:</p>\n",
       "    <pre>\n",
       "    u(1.86) = {1:NM:=17.1082786669950:0.513248360009851}\n",
       "    </pre>\n",
       "    "
      ],
      "text/plain": [
       "\n",
       "    <h1> EDOs lineales de 2o Orden </h1>\n",
       "    <h2> Coeficientes indeterminados: \\( \\phi(x)=Ae^{kx} \\) </h2>\n",
       "    <p> Encuentre la solución \\(u(x)\\) de la siguiente ecuación diferencial\n",
       "    \\(-2 \\, u\\left(x\\right) + \\frac{\\partial^{2}}{(\\partial x)^{2}}u\\left(x\\right) = 8 \\, e^{\\left(-6 \\, x\\right)}\\) con condiciones iniciales \\(u(0)=1, \\; u'(0)=1\\)\n",
       "    y evalue en el punto dado:</p>\n",
       "    <pre>\n",
       "    u(1.86) = {1:NM:=17.1082786669950:0.513248360009851}\n",
       "    </pre>\n",
       "    "
      ]
     },
     "metadata": {},
     "output_type": "display_data"
    },
    {
     "data": {
      "text/html": [
       "\n",
       "    La solución del problema de condiciones iniciales es\n",
       "    \\(u(x)=\\frac{1}{68} \\, {\\left({\\left(41 \\, \\sqrt{2} + 26\\right)} e^{\\left(2 \\, \\sqrt{2} x + 6 \\, x\\right)} - {\\left(41 \\, \\sqrt{2} - 26\\right)} e^{\\left(6 \\, x\\right)} + 16 \\, e^{\\left(\\sqrt{2} x\\right)}\\right)} e^{\\left(-\\sqrt{2} x - 6 \\, x\\right)}\\)\n",
       "    "
      ],
      "text/plain": [
       "\n",
       "    La solución del problema de condiciones iniciales es\n",
       "    \\(u(x)=\\frac{1}{68} \\, {\\left({\\left(41 \\, \\sqrt{2} + 26\\right)} e^{\\left(2 \\, \\sqrt{2} x + 6 \\, x\\right)} - {\\left(41 \\, \\sqrt{2} - 26\\right)} e^{\\left(6 \\, x\\right)} + 16 \\, e^{\\left(\\sqrt{2} x\\right)}\\right)} e^{\\left(-\\sqrt{2} x - 6 \\, x\\right)}\\)\n",
       "    "
      ]
     },
     "metadata": {},
     "output_type": "display_data"
    },
    {
     "data": {
      "text/html": [
       "\n",
       "    <h1> EDOs lineales de 2o Orden </h1>\n",
       "    <h2> Coeficientes indeterminados: \\( \\phi(x)=Ae^{kx} \\) </h2>\n",
       "    <p> Encuentre la solución \\(u(x)\\) de la siguiente ecuación diferencial\n",
       "    \\(2 \\, u\\left(x\\right) - \\frac{\\partial}{\\partial x}u\\left(x\\right) + \\frac{\\partial^{2}}{(\\partial x)^{2}}u\\left(x\\right) = -2 \\, e^{\\left(4 \\, x\\right)}\\) con condiciones iniciales \\(u(0)=2, \\; u'(0)=-2\\)\n",
       "    y evalue en el punto dado:</p>\n",
       "    <pre>\n",
       "    u(1.42) = {1:NM:=-46.8332891558054:-1.40499867467416}\n",
       "    </pre>\n",
       "    "
      ],
      "text/plain": [
       "\n",
       "    <h1> EDOs lineales de 2o Orden </h1>\n",
       "    <h2> Coeficientes indeterminados: \\( \\phi(x)=Ae^{kx} \\) </h2>\n",
       "    <p> Encuentre la solución \\(u(x)\\) de la siguiente ecuación diferencial\n",
       "    \\(2 \\, u\\left(x\\right) - \\frac{\\partial}{\\partial x}u\\left(x\\right) + \\frac{\\partial^{2}}{(\\partial x)^{2}}u\\left(x\\right) = -2 \\, e^{\\left(4 \\, x\\right)}\\) con condiciones iniciales \\(u(0)=2, \\; u'(0)=-2\\)\n",
       "    y evalue en el punto dado:</p>\n",
       "    <pre>\n",
       "    u(1.42) = {1:NM:=-46.8332891558054:-1.40499867467416}\n",
       "    </pre>\n",
       "    "
      ]
     },
     "metadata": {},
     "output_type": "display_data"
    },
    {
     "data": {
      "text/html": [
       "\n",
       "    La solución del problema de condiciones iniciales es\n",
       "    \\(u(x)=\\frac{1}{49} \\, \\sqrt{7} {\\left(15 \\, \\sqrt{7} \\cos\\left(\\frac{1}{2} \\, \\sqrt{7} x\\right) e^{\\left(\\frac{1}{2} \\, x\\right)} - 35 \\, e^{\\left(\\frac{1}{2} \\, x\\right)} \\sin\\left(\\frac{1}{2} \\, \\sqrt{7} x\\right) - \\sqrt{7} e^{\\left(4 \\, x\\right)}\\right)}\\)\n",
       "    "
      ],
      "text/plain": [
       "\n",
       "    La solución del problema de condiciones iniciales es\n",
       "    \\(u(x)=\\frac{1}{49} \\, \\sqrt{7} {\\left(15 \\, \\sqrt{7} \\cos\\left(\\frac{1}{2} \\, \\sqrt{7} x\\right) e^{\\left(\\frac{1}{2} \\, x\\right)} - 35 \\, e^{\\left(\\frac{1}{2} \\, x\\right)} \\sin\\left(\\frac{1}{2} \\, \\sqrt{7} x\\right) - \\sqrt{7} e^{\\left(4 \\, x\\right)}\\right)}\\)\n",
       "    "
      ]
     },
     "metadata": {},
     "output_type": "display_data"
    },
    {
     "data": {
      "text/html": [
       "\n",
       "    <h1> EDOs lineales de 2o Orden </h1>\n",
       "    <h2> Coeficientes indeterminados: \\( \\phi(x)=Ae^{kx} \\) </h2>\n",
       "    <p> Encuentre la solución \\(u(x)\\) de la siguiente ecuación diferencial\n",
       "    \\(-2 \\, u\\left(x\\right) - 2 \\, \\frac{\\partial}{\\partial x}u\\left(x\\right) + \\frac{\\partial^{2}}{(\\partial x)^{2}}u\\left(x\\right) = 5 \\, e^{\\left(7 \\, x\\right)}\\) con condiciones iniciales \\(u(0)=2, \\; u'(0)=1\\)\n",
       "    y evalue en el punto dado:</p>\n",
       "    <pre>\n",
       "    u(1.81) = {1:NM:=48243.9418847179:1447.31825654154}\n",
       "    </pre>\n",
       "    "
      ],
      "text/plain": [
       "\n",
       "    <h1> EDOs lineales de 2o Orden </h1>\n",
       "    <h2> Coeficientes indeterminados: \\( \\phi(x)=Ae^{kx} \\) </h2>\n",
       "    <p> Encuentre la solución \\(u(x)\\) de la siguiente ecuación diferencial\n",
       "    \\(-2 \\, u\\left(x\\right) - 2 \\, \\frac{\\partial}{\\partial x}u\\left(x\\right) + \\frac{\\partial^{2}}{(\\partial x)^{2}}u\\left(x\\right) = 5 \\, e^{\\left(7 \\, x\\right)}\\) con condiciones iniciales \\(u(0)=2, \\; u'(0)=1\\)\n",
       "    y evalue en el punto dado:</p>\n",
       "    <pre>\n",
       "    u(1.81) = {1:NM:=48243.9418847179:1447.31825654154}\n",
       "    </pre>\n",
       "    "
      ]
     },
     "metadata": {},
     "output_type": "display_data"
    },
    {
     "data": {
      "text/html": [
       "\n",
       "    La solución del problema de condiciones iniciales es\n",
       "    \\(u(x)=-\\frac{1}{66} \\, {\\left({\\left(21 \\, \\sqrt{3} - 61\\right)} e^{\\left(2 \\, \\sqrt{3} x + x\\right)} - {\\left(21 \\, \\sqrt{3} + 61\\right)} e^{x} - 10 \\, e^{\\left(\\sqrt{3} x + 7 \\, x\\right)}\\right)} e^{\\left(-\\sqrt{3} x\\right)}\\)\n",
       "    "
      ],
      "text/plain": [
       "\n",
       "    La solución del problema de condiciones iniciales es\n",
       "    \\(u(x)=-\\frac{1}{66} \\, {\\left({\\left(21 \\, \\sqrt{3} - 61\\right)} e^{\\left(2 \\, \\sqrt{3} x + x\\right)} - {\\left(21 \\, \\sqrt{3} + 61\\right)} e^{x} - 10 \\, e^{\\left(\\sqrt{3} x + 7 \\, x\\right)}\\right)} e^{\\left(-\\sqrt{3} x\\right)}\\)\n",
       "    "
      ]
     },
     "metadata": {},
     "output_type": "display_data"
    },
    {
     "data": {
      "text/html": [
       "\n",
       "    <h1> EDOs lineales de 2o Orden </h1>\n",
       "    <h2> Coeficientes indeterminados: \\( \\phi(x)=Ae^{kx} \\) </h2>\n",
       "    <p> Encuentre la solución \\(u(x)\\) de la siguiente ecuación diferencial\n",
       "    \\(2 \\, u\\left(x\\right) + \\frac{\\partial^{2}}{(\\partial x)^{2}}u\\left(x\\right) = -10 \\, e^{\\left(-3 \\, x\\right)}\\) con condiciones iniciales \\(u(0)=0, \\; u'(0)=1\\)\n",
       "    y evalue en el punto dado:</p>\n",
       "    <pre>\n",
       "    u(1.26) = {1:NM:=-1.40549606501574:-0.0421648819504723}\n",
       "    </pre>\n",
       "    "
      ],
      "text/plain": [
       "\n",
       "    <h1> EDOs lineales de 2o Orden </h1>\n",
       "    <h2> Coeficientes indeterminados: \\( \\phi(x)=Ae^{kx} \\) </h2>\n",
       "    <p> Encuentre la solución \\(u(x)\\) de la siguiente ecuación diferencial\n",
       "    \\(2 \\, u\\left(x\\right) + \\frac{\\partial^{2}}{(\\partial x)^{2}}u\\left(x\\right) = -10 \\, e^{\\left(-3 \\, x\\right)}\\) con condiciones iniciales \\(u(0)=0, \\; u'(0)=1\\)\n",
       "    y evalue en el punto dado:</p>\n",
       "    <pre>\n",
       "    u(1.26) = {1:NM:=-1.40549606501574:-0.0421648819504723}\n",
       "    </pre>\n",
       "    "
      ]
     },
     "metadata": {},
     "output_type": "display_data"
    },
    {
     "data": {
      "text/html": [
       "\n",
       "    La solución del problema de condiciones iniciales es\n",
       "    \\(u(x)=\\frac{1}{22} \\, \\sqrt{2} {\\left(10 \\, \\sqrt{2} \\cos\\left(\\sqrt{2} x\\right) e^{\\left(3 \\, x\\right)} - 19 \\, e^{\\left(3 \\, x\\right)} \\sin\\left(\\sqrt{2} x\\right) - 10 \\, \\sqrt{2}\\right)} e^{\\left(-3 \\, x\\right)}\\)\n",
       "    "
      ],
      "text/plain": [
       "\n",
       "    La solución del problema de condiciones iniciales es\n",
       "    \\(u(x)=\\frac{1}{22} \\, \\sqrt{2} {\\left(10 \\, \\sqrt{2} \\cos\\left(\\sqrt{2} x\\right) e^{\\left(3 \\, x\\right)} - 19 \\, e^{\\left(3 \\, x\\right)} \\sin\\left(\\sqrt{2} x\\right) - 10 \\, \\sqrt{2}\\right)} e^{\\left(-3 \\, x\\right)}\\)\n",
       "    "
      ]
     },
     "metadata": {},
     "output_type": "display_data"
    },
    {
     "data": {
      "text/html": [
       "\n",
       "    <h1> EDOs lineales de 2o Orden </h1>\n",
       "    <h2> Coeficientes indeterminados: \\( \\phi(x)=Ae^{kx} \\) </h2>\n",
       "    <p> Encuentre la solución \\(u(x)\\) de la siguiente ecuación diferencial\n",
       "    \\(-u\\left(x\\right) + \\frac{\\partial^{2}}{(\\partial x)^{2}}u\\left(x\\right) = -2 \\, e^{\\left(10 \\, x\\right)}\\) con condiciones iniciales \\(u(0)=-1, \\; u'(0)=0\\)\n",
       "    y evalue en el punto dado:</p>\n",
       "    <pre>\n",
       "    u(1.47) = {1:NM:=-48926.0218454407:-1467.78065536322}\n",
       "    </pre>\n",
       "    "
      ],
      "text/plain": [
       "\n",
       "    <h1> EDOs lineales de 2o Orden </h1>\n",
       "    <h2> Coeficientes indeterminados: \\( \\phi(x)=Ae^{kx} \\) </h2>\n",
       "    <p> Encuentre la solución \\(u(x)\\) de la siguiente ecuación diferencial\n",
       "    \\(-u\\left(x\\right) + \\frac{\\partial^{2}}{(\\partial x)^{2}}u\\left(x\\right) = -2 \\, e^{\\left(10 \\, x\\right)}\\) con condiciones iniciales \\(u(0)=-1, \\; u'(0)=0\\)\n",
       "    y evalue en el punto dado:</p>\n",
       "    <pre>\n",
       "    u(1.47) = {1:NM:=-48926.0218454407:-1467.78065536322}\n",
       "    </pre>\n",
       "    "
      ]
     },
     "metadata": {},
     "output_type": "display_data"
    },
    {
     "data": {
      "text/html": [
       "\n",
       "    La solución del problema de condiciones iniciales es\n",
       "    \\(u(x)=-\\frac{1}{198} \\, {\\left(4 \\, e^{\\left(11 \\, x\\right)} + 77 \\, e^{\\left(2 \\, x\\right)} + 117\\right)} e^{\\left(-x\\right)}\\)\n",
       "    "
      ],
      "text/plain": [
       "\n",
       "    La solución del problema de condiciones iniciales es\n",
       "    \\(u(x)=-\\frac{1}{198} \\, {\\left(4 \\, e^{\\left(11 \\, x\\right)} + 77 \\, e^{\\left(2 \\, x\\right)} + 117\\right)} e^{\\left(-x\\right)}\\)\n",
       "    "
      ]
     },
     "metadata": {},
     "output_type": "display_data"
    },
    {
     "data": {
      "text/html": [
       "\n",
       "    <h1> EDOs lineales de 2o Orden </h1>\n",
       "    <h2> Coeficientes indeterminados: \\( \\phi(x)=Ae^{kx} \\) </h2>\n",
       "    <p> Encuentre la solución \\(u(x)\\) de la siguiente ecuación diferencial\n",
       "    \\(u\\left(x\\right) - 2 \\, \\frac{\\partial}{\\partial x}u\\left(x\\right) + \\frac{\\partial^{2}}{(\\partial x)^{2}}u\\left(x\\right) = 7 \\, e^{\\left(9 \\, x\\right)}\\) con condiciones iniciales \\(u(0)=1, \\; u'(0)=1\\)\n",
       "    y evalue en el punto dado:</p>\n",
       "    <pre>\n",
       "    u(1.77) = {1:NM:=906206.788217434:27186.2036465230}\n",
       "    </pre>\n",
       "    "
      ],
      "text/plain": [
       "\n",
       "    <h1> EDOs lineales de 2o Orden </h1>\n",
       "    <h2> Coeficientes indeterminados: \\( \\phi(x)=Ae^{kx} \\) </h2>\n",
       "    <p> Encuentre la solución \\(u(x)\\) de la siguiente ecuación diferencial\n",
       "    \\(u\\left(x\\right) - 2 \\, \\frac{\\partial}{\\partial x}u\\left(x\\right) + \\frac{\\partial^{2}}{(\\partial x)^{2}}u\\left(x\\right) = 7 \\, e^{\\left(9 \\, x\\right)}\\) con condiciones iniciales \\(u(0)=1, \\; u'(0)=1\\)\n",
       "    y evalue en el punto dado:</p>\n",
       "    <pre>\n",
       "    u(1.77) = {1:NM:=906206.788217434:27186.2036465230}\n",
       "    </pre>\n",
       "    "
      ]
     },
     "metadata": {},
     "output_type": "display_data"
    },
    {
     "data": {
      "text/html": [
       "\n",
       "    La solución del problema de condiciones iniciales es\n",
       "    \\(u(x)=-\\frac{1}{64} \\, {\\left(56 \\, x - 57\\right)} e^{x} + \\frac{7}{64} \\, e^{\\left(9 \\, x\\right)}\\)\n",
       "    "
      ],
      "text/plain": [
       "\n",
       "    La solución del problema de condiciones iniciales es\n",
       "    \\(u(x)=-\\frac{1}{64} \\, {\\left(56 \\, x - 57\\right)} e^{x} + \\frac{7}{64} \\, e^{\\left(9 \\, x\\right)}\\)\n",
       "    "
      ]
     },
     "metadata": {},
     "output_type": "display_data"
    },
    {
     "data": {
      "text/html": [
       "\n",
       "    <h1> EDOs lineales de 2o Orden </h1>\n",
       "    <h2> Coeficientes indeterminados: \\( \\phi(x)=Ae^{kx} \\) </h2>\n",
       "    <p> Encuentre la solución \\(u(x)\\) de la siguiente ecuación diferencial\n",
       "    \\(-u\\left(x\\right) - \\frac{\\partial}{\\partial x}u\\left(x\\right) + \\frac{\\partial^{2}}{(\\partial x)^{2}}u\\left(x\\right) = 7 \\, e^{\\left(-7 \\, x\\right)}\\) con condiciones iniciales \\(u(0)=-1, \\; u'(0)=0\\)\n",
       "    y evalue en el punto dado:</p>\n",
       "    <pre>\n",
       "    u(1.43) = {1:NM:=0.376657185893283:0.0112997155767985}\n",
       "    </pre>\n",
       "    "
      ],
      "text/plain": [
       "\n",
       "    <h1> EDOs lineales de 2o Orden </h1>\n",
       "    <h2> Coeficientes indeterminados: \\( \\phi(x)=Ae^{kx} \\) </h2>\n",
       "    <p> Encuentre la solución \\(u(x)\\) de la siguiente ecuación diferencial\n",
       "    \\(-u\\left(x\\right) - \\frac{\\partial}{\\partial x}u\\left(x\\right) + \\frac{\\partial^{2}}{(\\partial x)^{2}}u\\left(x\\right) = 7 \\, e^{\\left(-7 \\, x\\right)}\\) con condiciones iniciales \\(u(0)=-1, \\; u'(0)=0\\)\n",
       "    y evalue en el punto dado:</p>\n",
       "    <pre>\n",
       "    u(1.43) = {1:NM:=0.376657185893283:0.0112997155767985}\n",
       "    </pre>\n",
       "    "
      ]
     },
     "metadata": {},
     "output_type": "display_data"
    },
    {
     "data": {
      "text/html": [
       "\n",
       "    La solución del problema de condiciones iniciales es\n",
       "    \\(u(x)=\\frac{1}{55} \\, {\\left({\\left(16 \\, \\sqrt{5} - 31\\right)} e^{\\left(\\sqrt{5} x + \\frac{15}{2} \\, x\\right)} - {\\left(16 \\, \\sqrt{5} + 31\\right)} e^{\\left(\\frac{15}{2} \\, x\\right)} + 7 \\, e^{\\left(\\frac{1}{2} \\, \\sqrt{5} x\\right)}\\right)} e^{\\left(-\\frac{1}{2} \\, \\sqrt{5} x - 7 \\, x\\right)}\\)\n",
       "    "
      ],
      "text/plain": [
       "\n",
       "    La solución del problema de condiciones iniciales es\n",
       "    \\(u(x)=\\frac{1}{55} \\, {\\left({\\left(16 \\, \\sqrt{5} - 31\\right)} e^{\\left(\\sqrt{5} x + \\frac{15}{2} \\, x\\right)} - {\\left(16 \\, \\sqrt{5} + 31\\right)} e^{\\left(\\frac{15}{2} \\, x\\right)} + 7 \\, e^{\\left(\\frac{1}{2} \\, \\sqrt{5} x\\right)}\\right)} e^{\\left(-\\frac{1}{2} \\, \\sqrt{5} x - 7 \\, x\\right)}\\)\n",
       "    "
      ]
     },
     "metadata": {},
     "output_type": "display_data"
    },
    {
     "data": {
      "text/html": [
       "\n",
       "    <h1> EDOs lineales de 2o Orden </h1>\n",
       "    <h2> Coeficientes indeterminados: \\( \\phi(x)=Ae^{kx} \\) </h2>\n",
       "    <p> Encuentre la solución \\(u(x)\\) de la siguiente ecuación diferencial\n",
       "    \\(-2 \\, u\\left(x\\right) - \\frac{\\partial}{\\partial x}u\\left(x\\right) + \\frac{\\partial^{2}}{(\\partial x)^{2}}u\\left(x\\right) = 6 \\, e^{\\left(2 \\, x\\right)}\\) con condiciones iniciales \\(u(0)=-2, \\; u'(0)=2\\)\n",
       "    y evalue en el punto dado:</p>\n",
       "    <pre>\n",
       "    u(1.42) = {1:NM:=36.8759784115343:1.10627935234603}\n",
       "    </pre>\n",
       "    "
      ],
      "text/plain": [
       "\n",
       "    <h1> EDOs lineales de 2o Orden </h1>\n",
       "    <h2> Coeficientes indeterminados: \\( \\phi(x)=Ae^{kx} \\) </h2>\n",
       "    <p> Encuentre la solución \\(u(x)\\) de la siguiente ecuación diferencial\n",
       "    \\(-2 \\, u\\left(x\\right) - \\frac{\\partial}{\\partial x}u\\left(x\\right) + \\frac{\\partial^{2}}{(\\partial x)^{2}}u\\left(x\\right) = 6 \\, e^{\\left(2 \\, x\\right)}\\) con condiciones iniciales \\(u(0)=-2, \\; u'(0)=2\\)\n",
       "    y evalue en el punto dado:</p>\n",
       "    <pre>\n",
       "    u(1.42) = {1:NM:=36.8759784115343:1.10627935234603}\n",
       "    </pre>\n",
       "    "
      ]
     },
     "metadata": {},
     "output_type": "display_data"
    },
    {
     "data": {
      "text/html": [
       "\n",
       "    La solución del problema de condiciones iniciales es\n",
       "    \\(u(x)=\\frac{2}{3} \\, {\\left({\\left(3 \\, x - 1\\right)} e^{\\left(3 \\, x\\right)} - 2\\right)} e^{\\left(-x\\right)}\\)\n",
       "    "
      ],
      "text/plain": [
       "\n",
       "    La solución del problema de condiciones iniciales es\n",
       "    \\(u(x)=\\frac{2}{3} \\, {\\left({\\left(3 \\, x - 1\\right)} e^{\\left(3 \\, x\\right)} - 2\\right)} e^{\\left(-x\\right)}\\)\n",
       "    "
      ]
     },
     "metadata": {},
     "output_type": "display_data"
    },
    {
     "data": {
      "text/html": [
       "\n",
       "    <h1> EDOs lineales de 2o Orden </h1>\n",
       "    <h2> Coeficientes indeterminados: \\( \\phi(x)=Ae^{kx} \\) </h2>\n",
       "    <p> Encuentre la solución \\(u(x)\\) de la siguiente ecuación diferencial\n",
       "    \\(\\frac{\\partial^{2}}{(\\partial x)^{2}}u\\left(x\\right) = -5 \\, e^{\\left(4 \\, x\\right)}\\) con condiciones iniciales \\(u(0)=-2, \\; u'(0)=0\\)\n",
       "    y evalue en el punto dado:</p>\n",
       "    <pre>\n",
       "    u(1.09) = {1:NM:=-24.7803545072138:-0.743410635216415}\n",
       "    </pre>\n",
       "    "
      ],
      "text/plain": [
       "\n",
       "    <h1> EDOs lineales de 2o Orden </h1>\n",
       "    <h2> Coeficientes indeterminados: \\( \\phi(x)=Ae^{kx} \\) </h2>\n",
       "    <p> Encuentre la solución \\(u(x)\\) de la siguiente ecuación diferencial\n",
       "    \\(\\frac{\\partial^{2}}{(\\partial x)^{2}}u\\left(x\\right) = -5 \\, e^{\\left(4 \\, x\\right)}\\) con condiciones iniciales \\(u(0)=-2, \\; u'(0)=0\\)\n",
       "    y evalue en el punto dado:</p>\n",
       "    <pre>\n",
       "    u(1.09) = {1:NM:=-24.7803545072138:-0.743410635216415}\n",
       "    </pre>\n",
       "    "
      ]
     },
     "metadata": {},
     "output_type": "display_data"
    },
    {
     "data": {
      "text/html": [
       "\n",
       "    La solución del problema de condiciones iniciales es\n",
       "    \\(u(x)=\\frac{5}{4} \\, x - \\frac{5}{16} \\, e^{\\left(4 \\, x\\right)} - \\frac{27}{16}\\)\n",
       "    "
      ],
      "text/plain": [
       "\n",
       "    La solución del problema de condiciones iniciales es\n",
       "    \\(u(x)=\\frac{5}{4} \\, x - \\frac{5}{16} \\, e^{\\left(4 \\, x\\right)} - \\frac{27}{16}\\)\n",
       "    "
      ]
     },
     "metadata": {},
     "output_type": "display_data"
    },
    {
     "data": {
      "text/html": [
       "\n",
       "    <h1> EDOs lineales de 2o Orden </h1>\n",
       "    <h2> Coeficientes indeterminados: \\( \\phi(x)=Ae^{kx} \\) </h2>\n",
       "    <p> Encuentre la solución \\(u(x)\\) de la siguiente ecuación diferencial\n",
       "    \\(-u\\left(x\\right) + 2 \\, \\frac{\\partial}{\\partial x}u\\left(x\\right) + \\frac{\\partial^{2}}{(\\partial x)^{2}}u\\left(x\\right) = 7 \\, e^{\\left(-5 \\, x\\right)}\\) con condiciones iniciales \\(u(0)=0, \\; u'(0)=2\\)\n",
       "    y evalue en el punto dado:</p>\n",
       "    <pre>\n",
       "    u(1.04) = {1:NM:=1.65871264809539:0.0497613794428616}\n",
       "    </pre>\n",
       "    "
      ],
      "text/plain": [
       "\n",
       "    <h1> EDOs lineales de 2o Orden </h1>\n",
       "    <h2> Coeficientes indeterminados: \\( \\phi(x)=Ae^{kx} \\) </h2>\n",
       "    <p> Encuentre la solución \\(u(x)\\) de la siguiente ecuación diferencial\n",
       "    \\(-u\\left(x\\right) + 2 \\, \\frac{\\partial}{\\partial x}u\\left(x\\right) + \\frac{\\partial^{2}}{(\\partial x)^{2}}u\\left(x\\right) = 7 \\, e^{\\left(-5 \\, x\\right)}\\) con condiciones iniciales \\(u(0)=0, \\; u'(0)=2\\)\n",
       "    y evalue en el punto dado:</p>\n",
       "    <pre>\n",
       "    u(1.04) = {1:NM:=1.65871264809539:0.0497613794428616}\n",
       "    </pre>\n",
       "    "
      ]
     },
     "metadata": {},
     "output_type": "display_data"
    },
    {
     "data": {
      "text/html": [
       "\n",
       "    La solución del problema de condiciones iniciales es\n",
       "    \\(u(x)=\\frac{1}{4} \\, {\\left({\\left(4 \\, \\sqrt{2} - 1\\right)} e^{\\left(2 \\, \\sqrt{2} x + 4 \\, x\\right)} - {\\left(4 \\, \\sqrt{2} + 1\\right)} e^{\\left(4 \\, x\\right)} + 2 \\, e^{\\left(\\sqrt{2} x\\right)}\\right)} e^{\\left(-\\sqrt{2} x - 5 \\, x\\right)}\\)\n",
       "    "
      ],
      "text/plain": [
       "\n",
       "    La solución del problema de condiciones iniciales es\n",
       "    \\(u(x)=\\frac{1}{4} \\, {\\left({\\left(4 \\, \\sqrt{2} - 1\\right)} e^{\\left(2 \\, \\sqrt{2} x + 4 \\, x\\right)} - {\\left(4 \\, \\sqrt{2} + 1\\right)} e^{\\left(4 \\, x\\right)} + 2 \\, e^{\\left(\\sqrt{2} x\\right)}\\right)} e^{\\left(-\\sqrt{2} x - 5 \\, x\\right)}\\)\n",
       "    "
      ]
     },
     "metadata": {},
     "output_type": "display_data"
    },
    {
     "data": {
      "text/html": [
       "\n",
       "    <h1> EDOs lineales de 2o Orden </h1>\n",
       "    <h2> Coeficientes indeterminados: \\( \\phi(x)=Ae^{kx} \\) </h2>\n",
       "    <p> Encuentre la solución \\(u(x)\\) de la siguiente ecuación diferencial\n",
       "    \\(-u\\left(x\\right) + \\frac{\\partial^{2}}{(\\partial x)^{2}}u\\left(x\\right) = 4 \\, e^{\\left(-4 \\, x\\right)}\\) con condiciones iniciales \\(u(0)=-1, \\; u'(0)=1\\)\n",
       "    y evalue en el punto dado:</p>\n",
       "    <pre>\n",
       "    u(1.54) = {1:NM:=1.50909754022275:0.0452729262066825}\n",
       "    </pre>\n",
       "    "
      ],
      "text/plain": [
       "\n",
       "    <h1> EDOs lineales de 2o Orden </h1>\n",
       "    <h2> Coeficientes indeterminados: \\( \\phi(x)=Ae^{kx} \\) </h2>\n",
       "    <p> Encuentre la solución \\(u(x)\\) de la siguiente ecuación diferencial\n",
       "    \\(-u\\left(x\\right) + \\frac{\\partial^{2}}{(\\partial x)^{2}}u\\left(x\\right) = 4 \\, e^{\\left(-4 \\, x\\right)}\\) con condiciones iniciales \\(u(0)=-1, \\; u'(0)=1\\)\n",
       "    y evalue en el punto dado:</p>\n",
       "    <pre>\n",
       "    u(1.54) = {1:NM:=1.50909754022275:0.0452729262066825}\n",
       "    </pre>\n",
       "    "
      ]
     },
     "metadata": {},
     "output_type": "display_data"
    },
    {
     "data": {
      "text/html": [
       "\n",
       "    La solución del problema de condiciones iniciales es\n",
       "    \\(u(x)=\\frac{1}{15} \\, {\\left(6 \\, e^{\\left(5 \\, x\\right)} - 25 \\, e^{\\left(3 \\, x\\right)} + 4\\right)} e^{\\left(-4 \\, x\\right)}\\)\n",
       "    "
      ],
      "text/plain": [
       "\n",
       "    La solución del problema de condiciones iniciales es\n",
       "    \\(u(x)=\\frac{1}{15} \\, {\\left(6 \\, e^{\\left(5 \\, x\\right)} - 25 \\, e^{\\left(3 \\, x\\right)} + 4\\right)} e^{\\left(-4 \\, x\\right)}\\)\n",
       "    "
      ]
     },
     "metadata": {},
     "output_type": "display_data"
    },
    {
     "data": {
      "text/html": [
       "\n",
       "    <h1> EDOs lineales de 2o Orden </h1>\n",
       "    <h2> Coeficientes indeterminados: \\( \\phi(x)=Ae^{kx} \\) </h2>\n",
       "    <p> Encuentre la solución \\(u(x)\\) de la siguiente ecuación diferencial\n",
       "    \\(-2 \\, u\\left(x\\right) - 2 \\, \\frac{\\partial}{\\partial x}u\\left(x\\right) + \\frac{\\partial^{2}}{(\\partial x)^{2}}u\\left(x\\right) = 3 \\, e^{\\left(-5 \\, x\\right)}\\) con condiciones iniciales \\(u(0)=1, \\; u'(0)=0\\)\n",
       "    y evalue en el punto dado:</p>\n",
       "    <pre>\n",
       "    u(1.08) = {1:NM:=6.44740967944577:0.193422290383373}\n",
       "    </pre>\n",
       "    "
      ],
      "text/plain": [
       "\n",
       "    <h1> EDOs lineales de 2o Orden </h1>\n",
       "    <h2> Coeficientes indeterminados: \\( \\phi(x)=Ae^{kx} \\) </h2>\n",
       "    <p> Encuentre la solución \\(u(x)\\) de la siguiente ecuación diferencial\n",
       "    \\(-2 \\, u\\left(x\\right) - 2 \\, \\frac{\\partial}{\\partial x}u\\left(x\\right) + \\frac{\\partial^{2}}{(\\partial x)^{2}}u\\left(x\\right) = 3 \\, e^{\\left(-5 \\, x\\right)}\\) con condiciones iniciales \\(u(0)=1, \\; u'(0)=0\\)\n",
       "    y evalue en el punto dado:</p>\n",
       "    <pre>\n",
       "    u(1.08) = {1:NM:=6.44740967944577:0.193422290383373}\n",
       "    </pre>\n",
       "    "
      ]
     },
     "metadata": {},
     "output_type": "display_data"
    },
    {
     "data": {
      "text/html": [
       "\n",
       "    La solución del problema de condiciones iniciales es\n",
       "    \\(u(x)=-\\frac{1}{66} \\, {\\left(5 \\, {\\left(\\sqrt{3} - 6\\right)} e^{\\left(2 \\, \\sqrt{3} x + 6 \\, x\\right)} - 5 \\, {\\left(\\sqrt{3} + 6\\right)} e^{\\left(6 \\, x\\right)} - 6 \\, e^{\\left(\\sqrt{3} x\\right)}\\right)} e^{\\left(-\\sqrt{3} x - 5 \\, x\\right)}\\)\n",
       "    "
      ],
      "text/plain": [
       "\n",
       "    La solución del problema de condiciones iniciales es\n",
       "    \\(u(x)=-\\frac{1}{66} \\, {\\left(5 \\, {\\left(\\sqrt{3} - 6\\right)} e^{\\left(2 \\, \\sqrt{3} x + 6 \\, x\\right)} - 5 \\, {\\left(\\sqrt{3} + 6\\right)} e^{\\left(6 \\, x\\right)} - 6 \\, e^{\\left(\\sqrt{3} x\\right)}\\right)} e^{\\left(-\\sqrt{3} x - 5 \\, x\\right)}\\)\n",
       "    "
      ]
     },
     "metadata": {},
     "output_type": "display_data"
    },
    {
     "data": {
      "text/html": [
       "\n",
       "    <h1> EDOs lineales de 2o Orden </h1>\n",
       "    <h2> Coeficientes indeterminados: \\( \\phi(x)=Ae^{kx} \\) </h2>\n",
       "    <p> Encuentre la solución \\(u(x)\\) de la siguiente ecuación diferencial\n",
       "    \\(-2 \\, u\\left(x\\right) + \\frac{\\partial^{2}}{(\\partial x)^{2}}u\\left(x\\right) = 4 \\, e^{\\left(-8 \\, x\\right)}\\) con condiciones iniciales \\(u(0)=-2, \\; u'(0)=0\\)\n",
       "    y evalue en el punto dado:</p>\n",
       "    <pre>\n",
       "    u(1.8) = {1:NM:=-10.9305251007993:-0.327915753023980}\n",
       "    </pre>\n",
       "    "
      ],
      "text/plain": [
       "\n",
       "    <h1> EDOs lineales de 2o Orden </h1>\n",
       "    <h2> Coeficientes indeterminados: \\( \\phi(x)=Ae^{kx} \\) </h2>\n",
       "    <p> Encuentre la solución \\(u(x)\\) de la siguiente ecuación diferencial\n",
       "    \\(-2 \\, u\\left(x\\right) + \\frac{\\partial^{2}}{(\\partial x)^{2}}u\\left(x\\right) = 4 \\, e^{\\left(-8 \\, x\\right)}\\) con condiciones iniciales \\(u(0)=-2, \\; u'(0)=0\\)\n",
       "    y evalue en el punto dado:</p>\n",
       "    <pre>\n",
       "    u(1.8) = {1:NM:=-10.9305251007993:-0.327915753023980}\n",
       "    </pre>\n",
       "    "
      ]
     },
     "metadata": {},
     "output_type": "display_data"
    },
    {
     "data": {
      "text/html": [
       "\n",
       "    La solución del problema de condiciones iniciales es\n",
       "    \\(u(x)=\\frac{2}{31} \\, {\\left(2 \\, {\\left(\\sqrt{2} - 8\\right)} e^{\\left(2 \\, \\sqrt{2} x + 8 \\, x\\right)} - 2 \\, {\\left(\\sqrt{2} + 8\\right)} e^{\\left(8 \\, x\\right)} + e^{\\left(\\sqrt{2} x\\right)}\\right)} e^{\\left(-\\sqrt{2} x - 8 \\, x\\right)}\\)\n",
       "    "
      ],
      "text/plain": [
       "\n",
       "    La solución del problema de condiciones iniciales es\n",
       "    \\(u(x)=\\frac{2}{31} \\, {\\left(2 \\, {\\left(\\sqrt{2} - 8\\right)} e^{\\left(2 \\, \\sqrt{2} x + 8 \\, x\\right)} - 2 \\, {\\left(\\sqrt{2} + 8\\right)} e^{\\left(8 \\, x\\right)} + e^{\\left(\\sqrt{2} x\\right)}\\right)} e^{\\left(-\\sqrt{2} x - 8 \\, x\\right)}\\)\n",
       "    "
      ]
     },
     "metadata": {},
     "output_type": "display_data"
    },
    {
     "data": {
      "text/html": [
       "\n",
       "    <h1> EDOs lineales de 2o Orden </h1>\n",
       "    <h2> Coeficientes indeterminados: \\( \\phi(x)=Ae^{kx} \\) </h2>\n",
       "    <p> Encuentre la solución \\(u(x)\\) de la siguiente ecuación diferencial\n",
       "    \\(-2 \\, u\\left(x\\right) - \\frac{\\partial}{\\partial x}u\\left(x\\right) + \\frac{\\partial^{2}}{(\\partial x)^{2}}u\\left(x\\right) = -7 \\, e^{\\left(-x\\right)}\\) con condiciones iniciales \\(u(0)=-2, \\; u'(0)=0\\)\n",
       "    y evalue en el punto dado:</p>\n",
       "    <pre>\n",
       "    u(1.58) = {1:NM:=-33.4014854233858:-1.00204456270157}\n",
       "    </pre>\n",
       "    "
      ],
      "text/plain": [
       "\n",
       "    <h1> EDOs lineales de 2o Orden </h1>\n",
       "    <h2> Coeficientes indeterminados: \\( \\phi(x)=Ae^{kx} \\) </h2>\n",
       "    <p> Encuentre la solución \\(u(x)\\) de la siguiente ecuación diferencial\n",
       "    \\(-2 \\, u\\left(x\\right) - \\frac{\\partial}{\\partial x}u\\left(x\\right) + \\frac{\\partial^{2}}{(\\partial x)^{2}}u\\left(x\\right) = -7 \\, e^{\\left(-x\\right)}\\) con condiciones iniciales \\(u(0)=-2, \\; u'(0)=0\\)\n",
       "    y evalue en el punto dado:</p>\n",
       "    <pre>\n",
       "    u(1.58) = {1:NM:=-33.4014854233858:-1.00204456270157}\n",
       "    </pre>\n",
       "    "
      ]
     },
     "metadata": {},
     "output_type": "display_data"
    },
    {
     "data": {
      "text/html": [
       "\n",
       "    La solución del problema de condiciones iniciales es\n",
       "    \\(u(x)=\\frac{1}{9} \\, {\\left(21 \\, x - 13 \\, e^{\\left(3 \\, x\\right)} - 5\\right)} e^{\\left(-x\\right)}\\)\n",
       "    "
      ],
      "text/plain": [
       "\n",
       "    La solución del problema de condiciones iniciales es\n",
       "    \\(u(x)=\\frac{1}{9} \\, {\\left(21 \\, x - 13 \\, e^{\\left(3 \\, x\\right)} - 5\\right)} e^{\\left(-x\\right)}\\)\n",
       "    "
      ]
     },
     "metadata": {},
     "output_type": "display_data"
    },
    {
     "data": {
      "text/html": [
       "\n",
       "    <h1> EDOs lineales de 2o Orden </h1>\n",
       "    <h2> Coeficientes indeterminados: \\( \\phi(x)=Ae^{kx} \\) </h2>\n",
       "    <p> Encuentre la solución \\(u(x)\\) de la siguiente ecuación diferencial\n",
       "    \\(u\\left(x\\right) + \\frac{\\partial}{\\partial x}u\\left(x\\right) + \\frac{\\partial^{2}}{(\\partial x)^{2}}u\\left(x\\right) = 10 \\, e^{\\left(-4 \\, x\\right)}\\) con condiciones iniciales \\(u(0)=-2, \\; u'(0)=-2\\)\n",
       "    y evalue en el punto dado:</p>\n",
       "    <pre>\n",
       "    u(1.56) = {1:NM:=-0.434225809054215:-0.0130267742716264}\n",
       "    </pre>\n",
       "    "
      ],
      "text/plain": [
       "\n",
       "    <h1> EDOs lineales de 2o Orden </h1>\n",
       "    <h2> Coeficientes indeterminados: \\( \\phi(x)=Ae^{kx} \\) </h2>\n",
       "    <p> Encuentre la solución \\(u(x)\\) de la siguiente ecuación diferencial\n",
       "    \\(u\\left(x\\right) + \\frac{\\partial}{\\partial x}u\\left(x\\right) + \\frac{\\partial^{2}}{(\\partial x)^{2}}u\\left(x\\right) = 10 \\, e^{\\left(-4 \\, x\\right)}\\) con condiciones iniciales \\(u(0)=-2, \\; u'(0)=-2\\)\n",
       "    y evalue en el punto dado:</p>\n",
       "    <pre>\n",
       "    u(1.56) = {1:NM:=-0.434225809054215:-0.0130267742716264}\n",
       "    </pre>\n",
       "    "
      ]
     },
     "metadata": {},
     "output_type": "display_data"
    },
    {
     "data": {
      "text/html": [
       "\n",
       "    La solución del problema de condiciones iniciales es\n",
       "    \\(u(x)=-\\frac{2}{39} \\, {\\left(4 \\, \\sqrt{3} e^{\\left(4 \\, x\\right)} \\sin\\left(\\frac{1}{2} \\, \\sqrt{3} x\\right) + 54 \\, \\cos\\left(\\frac{1}{2} \\, \\sqrt{3} x\\right) e^{\\left(4 \\, x\\right)} - 15 \\, e^{\\left(\\frac{1}{2} \\, x\\right)}\\right)} e^{\\left(-\\frac{9}{2} \\, x\\right)}\\)\n",
       "    "
      ],
      "text/plain": [
       "\n",
       "    La solución del problema de condiciones iniciales es\n",
       "    \\(u(x)=-\\frac{2}{39} \\, {\\left(4 \\, \\sqrt{3} e^{\\left(4 \\, x\\right)} \\sin\\left(\\frac{1}{2} \\, \\sqrt{3} x\\right) + 54 \\, \\cos\\left(\\frac{1}{2} \\, \\sqrt{3} x\\right) e^{\\left(4 \\, x\\right)} - 15 \\, e^{\\left(\\frac{1}{2} \\, x\\right)}\\right)} e^{\\left(-\\frac{9}{2} \\, x\\right)}\\)\n",
       "    "
      ]
     },
     "metadata": {},
     "output_type": "display_data"
    },
    {
     "data": {
      "text/html": [
       "\n",
       "    <h1> EDOs lineales de 2o Orden </h1>\n",
       "    <h2> Coeficientes indeterminados: \\( \\phi(x)=Ae^{kx} \\) </h2>\n",
       "    <p> Encuentre la solución \\(u(x)\\) de la siguiente ecuación diferencial\n",
       "    \\(-u\\left(x\\right) + \\frac{\\partial}{\\partial x}u\\left(x\\right) + \\frac{\\partial^{2}}{(\\partial x)^{2}}u\\left(x\\right) = 6 \\, e^{\\left(-9 \\, x\\right)}\\) con condiciones iniciales \\(u(0)=1, \\; u'(0)=-2\\)\n",
       "    y evalue en el punto dado:</p>\n",
       "    <pre>\n",
       "    u(1.63) = {1:NM:=0.353965055108314:0.0106189516532494}\n",
       "    </pre>\n",
       "    "
      ],
      "text/plain": [
       "\n",
       "    <h1> EDOs lineales de 2o Orden </h1>\n",
       "    <h2> Coeficientes indeterminados: \\( \\phi(x)=Ae^{kx} \\) </h2>\n",
       "    <p> Encuentre la solución \\(u(x)\\) de la siguiente ecuación diferencial\n",
       "    \\(-u\\left(x\\right) + \\frac{\\partial}{\\partial x}u\\left(x\\right) + \\frac{\\partial^{2}}{(\\partial x)^{2}}u\\left(x\\right) = 6 \\, e^{\\left(-9 \\, x\\right)}\\) con condiciones iniciales \\(u(0)=1, \\; u'(0)=-2\\)\n",
       "    y evalue en el punto dado:</p>\n",
       "    <pre>\n",
       "    u(1.63) = {1:NM:=0.353965055108314:0.0106189516532494}\n",
       "    </pre>\n",
       "    "
      ]
     },
     "metadata": {},
     "output_type": "display_data"
    },
    {
     "data": {
      "text/html": [
       "\n",
       "    La solución del problema de condiciones iniciales es\n",
       "    \\(u(x)=-\\frac{1}{710} \\, {\\left({\\left(111 \\, \\sqrt{5} - 325\\right)} e^{\\left(\\sqrt{5} x + 9 \\, x\\right)} - {\\left(111 \\, \\sqrt{5} + 325\\right)} e^{\\left(9 \\, x\\right)} - 60 \\, e^{\\left(\\frac{1}{2} \\, \\sqrt{5} x + \\frac{1}{2} \\, x\\right)}\\right)} e^{\\left(-\\frac{1}{2} \\, \\sqrt{5} x - \\frac{19}{2} \\, x\\right)}\\)\n",
       "    "
      ],
      "text/plain": [
       "\n",
       "    La solución del problema de condiciones iniciales es\n",
       "    \\(u(x)=-\\frac{1}{710} \\, {\\left({\\left(111 \\, \\sqrt{5} - 325\\right)} e^{\\left(\\sqrt{5} x + 9 \\, x\\right)} - {\\left(111 \\, \\sqrt{5} + 325\\right)} e^{\\left(9 \\, x\\right)} - 60 \\, e^{\\left(\\frac{1}{2} \\, \\sqrt{5} x + \\frac{1}{2} \\, x\\right)}\\right)} e^{\\left(-\\frac{1}{2} \\, \\sqrt{5} x - \\frac{19}{2} \\, x\\right)}\\)\n",
       "    "
      ]
     },
     "metadata": {},
     "output_type": "display_data"
    },
    {
     "data": {
      "text/html": [
       "\n",
       "    <h1> EDOs lineales de 2o Orden </h1>\n",
       "    <h2> Coeficientes indeterminados: \\( \\phi(x)=Ae^{kx} \\) </h2>\n",
       "    <p> Encuentre la solución \\(u(x)\\) de la siguiente ecuación diferencial\n",
       "    \\(-2 \\, u\\left(x\\right) + 2 \\, \\frac{\\partial}{\\partial x}u\\left(x\\right) + \\frac{\\partial^{2}}{(\\partial x)^{2}}u\\left(x\\right) = 10 \\, e^{\\left(9 \\, x\\right)}\\) con condiciones iniciales \\(u(0)=-2, \\; u'(0)=-2\\)\n",
       "    y evalue en el punto dado:</p>\n",
       "    <pre>\n",
       "    u(1.17) = {1:NM:=3852.00402638798:115.560120791639}\n",
       "    </pre>\n",
       "    "
      ],
      "text/plain": [
       "\n",
       "    <h1> EDOs lineales de 2o Orden </h1>\n",
       "    <h2> Coeficientes indeterminados: \\( \\phi(x)=Ae^{kx} \\) </h2>\n",
       "    <p> Encuentre la solución \\(u(x)\\) de la siguiente ecuación diferencial\n",
       "    \\(-2 \\, u\\left(x\\right) + 2 \\, \\frac{\\partial}{\\partial x}u\\left(x\\right) + \\frac{\\partial^{2}}{(\\partial x)^{2}}u\\left(x\\right) = 10 \\, e^{\\left(9 \\, x\\right)}\\) con condiciones iniciales \\(u(0)=-2, \\; u'(0)=-2\\)\n",
       "    y evalue en el punto dado:</p>\n",
       "    <pre>\n",
       "    u(1.17) = {1:NM:=3852.00402638798:115.560120791639}\n",
       "    </pre>\n",
       "    "
      ]
     },
     "metadata": {},
     "output_type": "display_data"
    },
    {
     "data": {
      "text/html": [
       "\n",
       "    La solución del problema de condiciones iniciales es\n",
       "    \\(u(x)=-\\frac{2}{291} \\, {\\left({\\left(122 \\, \\sqrt{3} + 153\\right)} e^{\\left(2 \\, \\sqrt{3} x\\right)} - 122 \\, \\sqrt{3} - 15 \\, e^{\\left(\\sqrt{3} x + 10 \\, x\\right)} + 153\\right)} e^{\\left(-\\sqrt{3} x - x\\right)}\\)\n",
       "    "
      ],
      "text/plain": [
       "\n",
       "    La solución del problema de condiciones iniciales es\n",
       "    \\(u(x)=-\\frac{2}{291} \\, {\\left({\\left(122 \\, \\sqrt{3} + 153\\right)} e^{\\left(2 \\, \\sqrt{3} x\\right)} - 122 \\, \\sqrt{3} - 15 \\, e^{\\left(\\sqrt{3} x + 10 \\, x\\right)} + 153\\right)} e^{\\left(-\\sqrt{3} x - x\\right)}\\)\n",
       "    "
      ]
     },
     "metadata": {},
     "output_type": "display_data"
    },
    {
     "data": {
      "text/html": [
       "\n",
       "    <h1> EDOs lineales de 2o Orden </h1>\n",
       "    <h2> Coeficientes indeterminados: \\( \\phi(x)=Ae^{kx} \\) </h2>\n",
       "    <p> Encuentre la solución \\(u(x)\\) de la siguiente ecuación diferencial\n",
       "    \\(2 \\, u\\left(x\\right) - \\frac{\\partial}{\\partial x}u\\left(x\\right) + \\frac{\\partial^{2}}{(\\partial x)^{2}}u\\left(x\\right) = -9 \\, e^{\\left(-2 \\, x\\right)}\\) con condiciones iniciales \\(u(0)=-2, \\; u'(0)=1\\)\n",
       "    y evalue en el punto dado:</p>\n",
       "    <pre>\n",
       "    u(1.89) = {1:NM:=0.832775490150989:0.0249832647045297}\n",
       "    </pre>\n",
       "    "
      ],
      "text/plain": [
       "\n",
       "    <h1> EDOs lineales de 2o Orden </h1>\n",
       "    <h2> Coeficientes indeterminados: \\( \\phi(x)=Ae^{kx} \\) </h2>\n",
       "    <p> Encuentre la solución \\(u(x)\\) de la siguiente ecuación diferencial\n",
       "    \\(2 \\, u\\left(x\\right) - \\frac{\\partial}{\\partial x}u\\left(x\\right) + \\frac{\\partial^{2}}{(\\partial x)^{2}}u\\left(x\\right) = -9 \\, e^{\\left(-2 \\, x\\right)}\\) con condiciones iniciales \\(u(0)=-2, \\; u'(0)=1\\)\n",
       "    y evalue en el punto dado:</p>\n",
       "    <pre>\n",
       "    u(1.89) = {1:NM:=0.832775490150989:0.0249832647045297}\n",
       "    </pre>\n",
       "    "
      ]
     },
     "metadata": {},
     "output_type": "display_data"
    },
    {
     "data": {
      "text/html": [
       "\n",
       "    La solución del problema de condiciones iniciales es\n",
       "    \\(u(x)=-\\frac{1}{56} \\, {\\left(13 \\, \\sqrt{7} e^{\\left(\\frac{5}{2} \\, x\\right)} \\sin\\left(\\frac{1}{2} \\, \\sqrt{7} x\\right) + 49 \\, \\cos\\left(\\frac{1}{2} \\, \\sqrt{7} x\\right) e^{\\left(\\frac{5}{2} \\, x\\right)} + 63\\right)} e^{\\left(-2 \\, x\\right)}\\)\n",
       "    "
      ],
      "text/plain": [
       "\n",
       "    La solución del problema de condiciones iniciales es\n",
       "    \\(u(x)=-\\frac{1}{56} \\, {\\left(13 \\, \\sqrt{7} e^{\\left(\\frac{5}{2} \\, x\\right)} \\sin\\left(\\frac{1}{2} \\, \\sqrt{7} x\\right) + 49 \\, \\cos\\left(\\frac{1}{2} \\, \\sqrt{7} x\\right) e^{\\left(\\frac{5}{2} \\, x\\right)} + 63\\right)} e^{\\left(-2 \\, x\\right)}\\)\n",
       "    "
      ]
     },
     "metadata": {},
     "output_type": "display_data"
    },
    {
     "data": {
      "text/html": [
       "\n",
       "    <h1> EDOs lineales de 2o Orden </h1>\n",
       "    <h2> Coeficientes indeterminados: \\( \\phi(x)=Ae^{kx} \\) </h2>\n",
       "    <p> Encuentre la solución \\(u(x)\\) de la siguiente ecuación diferencial\n",
       "    \\(2 \\, u\\left(x\\right) - \\frac{\\partial}{\\partial x}u\\left(x\\right) + \\frac{\\partial^{2}}{(\\partial x)^{2}}u\\left(x\\right) = -8 \\, e^{\\left(-10 \\, x\\right)}\\) con condiciones iniciales \\(u(0)=-1, \\; u'(0)=2\\)\n",
       "    y evalue en el punto dado:</p>\n",
       "    <pre>\n",
       "    u(1.71) = {1:NM:=3.78845231173104:0.113653569351931}\n",
       "    </pre>\n",
       "    "
      ],
      "text/plain": [
       "\n",
       "    <h1> EDOs lineales de 2o Orden </h1>\n",
       "    <h2> Coeficientes indeterminados: \\( \\phi(x)=Ae^{kx} \\) </h2>\n",
       "    <p> Encuentre la solución \\(u(x)\\) de la siguiente ecuación diferencial\n",
       "    \\(2 \\, u\\left(x\\right) - \\frac{\\partial}{\\partial x}u\\left(x\\right) + \\frac{\\partial^{2}}{(\\partial x)^{2}}u\\left(x\\right) = -8 \\, e^{\\left(-10 \\, x\\right)}\\) con condiciones iniciales \\(u(0)=-1, \\; u'(0)=2\\)\n",
       "    y evalue en el punto dado:</p>\n",
       "    <pre>\n",
       "    u(1.71) = {1:NM:=3.78845231173104:0.113653569351931}\n",
       "    </pre>\n",
       "    "
      ]
     },
     "metadata": {},
     "output_type": "display_data"
    },
    {
     "data": {
      "text/html": [
       "\n",
       "    La solución del problema de condiciones iniciales es\n",
       "    \\(u(x)=\\frac{1}{14} \\, {\\left(7 \\, \\sqrt{7} e^{\\left(\\frac{21}{2} \\, x\\right)} \\sin\\left(\\frac{1}{2} \\, \\sqrt{7} x\\right) - 13 \\, \\cos\\left(\\frac{1}{2} \\, \\sqrt{7} x\\right) e^{\\left(\\frac{21}{2} \\, x\\right)} - 1\\right)} e^{\\left(-10 \\, x\\right)}\\)\n",
       "    "
      ],
      "text/plain": [
       "\n",
       "    La solución del problema de condiciones iniciales es\n",
       "    \\(u(x)=\\frac{1}{14} \\, {\\left(7 \\, \\sqrt{7} e^{\\left(\\frac{21}{2} \\, x\\right)} \\sin\\left(\\frac{1}{2} \\, \\sqrt{7} x\\right) - 13 \\, \\cos\\left(\\frac{1}{2} \\, \\sqrt{7} x\\right) e^{\\left(\\frac{21}{2} \\, x\\right)} - 1\\right)} e^{\\left(-10 \\, x\\right)}\\)\n",
       "    "
      ]
     },
     "metadata": {},
     "output_type": "display_data"
    },
    {
     "data": {
      "text/html": [
       "\n",
       "    <h1> EDOs lineales de 2o Orden </h1>\n",
       "    <h2> Coeficientes indeterminados: \\( \\phi(x)=Ae^{kx} \\) </h2>\n",
       "    <p> Encuentre la solución \\(u(x)\\) de la siguiente ecuación diferencial\n",
       "    \\(u\\left(x\\right) + \\frac{\\partial^{2}}{(\\partial x)^{2}}u\\left(x\\right) = -5 \\, e^{\\left(-5 \\, x\\right)}\\) con condiciones iniciales \\(u(0)=0, \\; u'(0)=1\\)\n",
       "    y evalue en el punto dado:</p>\n",
       "    <pre>\n",
       "    u(1.93) = {1:NM:=-0.0316072802009102:-0.000948218406027307}\n",
       "    </pre>\n",
       "    "
      ],
      "text/plain": [
       "\n",
       "    <h1> EDOs lineales de 2o Orden </h1>\n",
       "    <h2> Coeficientes indeterminados: \\( \\phi(x)=Ae^{kx} \\) </h2>\n",
       "    <p> Encuentre la solución \\(u(x)\\) de la siguiente ecuación diferencial\n",
       "    \\(u\\left(x\\right) + \\frac{\\partial^{2}}{(\\partial x)^{2}}u\\left(x\\right) = -5 \\, e^{\\left(-5 \\, x\\right)}\\) con condiciones iniciales \\(u(0)=0, \\; u'(0)=1\\)\n",
       "    y evalue en el punto dado:</p>\n",
       "    <pre>\n",
       "    u(1.93) = {1:NM:=-0.0316072802009102:-0.000948218406027307}\n",
       "    </pre>\n",
       "    "
      ]
     },
     "metadata": {},
     "output_type": "display_data"
    },
    {
     "data": {
      "text/html": [
       "\n",
       "    La solución del problema de condiciones iniciales es\n",
       "    \\(u(x)=\\frac{1}{26} \\, {\\left(5 \\, \\cos\\left(x\\right) e^{\\left(5 \\, x\\right)} + e^{\\left(5 \\, x\\right)} \\sin\\left(x\\right) - 5\\right)} e^{\\left(-5 \\, x\\right)}\\)\n",
       "    "
      ],
      "text/plain": [
       "\n",
       "    La solución del problema de condiciones iniciales es\n",
       "    \\(u(x)=\\frac{1}{26} \\, {\\left(5 \\, \\cos\\left(x\\right) e^{\\left(5 \\, x\\right)} + e^{\\left(5 \\, x\\right)} \\sin\\left(x\\right) - 5\\right)} e^{\\left(-5 \\, x\\right)}\\)\n",
       "    "
      ]
     },
     "metadata": {},
     "output_type": "display_data"
    },
    {
     "data": {
      "text/html": [
       "\n",
       "    <h1> EDOs lineales de 2o Orden </h1>\n",
       "    <h2> Coeficientes indeterminados: \\( \\phi(x)=Ae^{kx} \\) </h2>\n",
       "    <p> Encuentre la solución \\(u(x)\\) de la siguiente ecuación diferencial\n",
       "    \\(u\\left(x\\right) - \\frac{\\partial}{\\partial x}u\\left(x\\right) + \\frac{\\partial^{2}}{(\\partial x)^{2}}u\\left(x\\right) = -e^{\\left(9 \\, x\\right)}\\) con condiciones iniciales \\(u(0)=0, \\; u'(0)=1\\)\n",
       "    y evalue en el punto dado:</p>\n",
       "    <pre>\n",
       "    u(1.12) = {1:NM:=-324.987653020174:-9.74962959060521}\n",
       "    </pre>\n",
       "    "
      ],
      "text/plain": [
       "\n",
       "    <h1> EDOs lineales de 2o Orden </h1>\n",
       "    <h2> Coeficientes indeterminados: \\( \\phi(x)=Ae^{kx} \\) </h2>\n",
       "    <p> Encuentre la solución \\(u(x)\\) de la siguiente ecuación diferencial\n",
       "    \\(u\\left(x\\right) - \\frac{\\partial}{\\partial x}u\\left(x\\right) + \\frac{\\partial^{2}}{(\\partial x)^{2}}u\\left(x\\right) = -e^{\\left(9 \\, x\\right)}\\) con condiciones iniciales \\(u(0)=0, \\; u'(0)=1\\)\n",
       "    y evalue en el punto dado:</p>\n",
       "    <pre>\n",
       "    u(1.12) = {1:NM:=-324.987653020174:-9.74962959060521}\n",
       "    </pre>\n",
       "    "
      ]
     },
     "metadata": {},
     "output_type": "display_data"
    },
    {
     "data": {
      "text/html": [
       "\n",
       "    La solución del problema de condiciones iniciales es\n",
       "    \\(u(x)=\\frac{1}{219} \\, \\sqrt{3} {\\left(\\sqrt{3} \\cos\\left(\\frac{1}{2} \\, \\sqrt{3} x\\right) e^{\\left(\\frac{1}{2} \\, x\\right)} + 163 \\, e^{\\left(\\frac{1}{2} \\, x\\right)} \\sin\\left(\\frac{1}{2} \\, \\sqrt{3} x\\right) - \\sqrt{3} e^{\\left(9 \\, x\\right)}\\right)}\\)\n",
       "    "
      ],
      "text/plain": [
       "\n",
       "    La solución del problema de condiciones iniciales es\n",
       "    \\(u(x)=\\frac{1}{219} \\, \\sqrt{3} {\\left(\\sqrt{3} \\cos\\left(\\frac{1}{2} \\, \\sqrt{3} x\\right) e^{\\left(\\frac{1}{2} \\, x\\right)} + 163 \\, e^{\\left(\\frac{1}{2} \\, x\\right)} \\sin\\left(\\frac{1}{2} \\, \\sqrt{3} x\\right) - \\sqrt{3} e^{\\left(9 \\, x\\right)}\\right)}\\)\n",
       "    "
      ]
     },
     "metadata": {},
     "output_type": "display_data"
    },
    {
     "data": {
      "text/html": [
       "\n",
       "    <h1> EDOs lineales de 2o Orden </h1>\n",
       "    <h2> Coeficientes indeterminados: \\( \\phi(x)=Ae^{kx} \\) </h2>\n",
       "    <p> Encuentre la solución \\(u(x)\\) de la siguiente ecuación diferencial\n",
       "    \\(-u\\left(x\\right) - \\frac{\\partial}{\\partial x}u\\left(x\\right) + \\frac{\\partial^{2}}{(\\partial x)^{2}}u\\left(x\\right) = -2 \\, e^{\\left(6 \\, x\\right)}\\) con condiciones iniciales \\(u(0)=0, \\; u'(0)=-1\\)\n",
       "    y evalue en el punto dado:</p>\n",
       "    <pre>\n",
       "    u(1.57) = {1:NM:=-853.488020650615:-25.6046406195184}\n",
       "    </pre>\n",
       "    "
      ],
      "text/plain": [
       "\n",
       "    <h1> EDOs lineales de 2o Orden </h1>\n",
       "    <h2> Coeficientes indeterminados: \\( \\phi(x)=Ae^{kx} \\) </h2>\n",
       "    <p> Encuentre la solución \\(u(x)\\) de la siguiente ecuación diferencial\n",
       "    \\(-u\\left(x\\right) - \\frac{\\partial}{\\partial x}u\\left(x\\right) + \\frac{\\partial^{2}}{(\\partial x)^{2}}u\\left(x\\right) = -2 \\, e^{\\left(6 \\, x\\right)}\\) con condiciones iniciales \\(u(0)=0, \\; u'(0)=-1\\)\n",
       "    y evalue en el punto dado:</p>\n",
       "    <pre>\n",
       "    u(1.57) = {1:NM:=-853.488020650615:-25.6046406195184}\n",
       "    </pre>\n",
       "    "
      ]
     },
     "metadata": {},
     "output_type": "display_data"
    },
    {
     "data": {
      "text/html": [
       "\n",
       "    La solución del problema de condiciones iniciales es\n",
       "    \\(u(x)=-\\frac{1}{145} \\, {\\left({\\left(18 \\, \\sqrt{5} - 5\\right)} e^{\\left(\\sqrt{5} x + \\frac{1}{2} \\, x\\right)} - {\\left(18 \\, \\sqrt{5} + 5\\right)} e^{\\left(\\frac{1}{2} \\, x\\right)} + 10 \\, e^{\\left(\\frac{1}{2} \\, \\sqrt{5} x + 6 \\, x\\right)}\\right)} e^{\\left(-\\frac{1}{2} \\, \\sqrt{5} x\\right)}\\)\n",
       "    "
      ],
      "text/plain": [
       "\n",
       "    La solución del problema de condiciones iniciales es\n",
       "    \\(u(x)=-\\frac{1}{145} \\, {\\left({\\left(18 \\, \\sqrt{5} - 5\\right)} e^{\\left(\\sqrt{5} x + \\frac{1}{2} \\, x\\right)} - {\\left(18 \\, \\sqrt{5} + 5\\right)} e^{\\left(\\frac{1}{2} \\, x\\right)} + 10 \\, e^{\\left(\\frac{1}{2} \\, \\sqrt{5} x + 6 \\, x\\right)}\\right)} e^{\\left(-\\frac{1}{2} \\, \\sqrt{5} x\\right)}\\)\n",
       "    "
      ]
     },
     "metadata": {},
     "output_type": "display_data"
    },
    {
     "data": {
      "text/html": [
       "\n",
       "    <h1> EDOs lineales de 2o Orden </h1>\n",
       "    <h2> Coeficientes indeterminados: \\( \\phi(x)=Ae^{kx} \\) </h2>\n",
       "    <p> Encuentre la solución \\(u(x)\\) de la siguiente ecuación diferencial\n",
       "    \\(\\frac{\\partial}{\\partial x}u\\left(x\\right) + \\frac{\\partial^{2}}{(\\partial x)^{2}}u\\left(x\\right) = 8 \\, e^{\\left(-3 \\, x\\right)}\\) con condiciones iniciales \\(u(0)=-1, \\; u'(0)=0\\)\n",
       "    y evalue en el punto dado:</p>\n",
       "    <pre>\n",
       "    u(1.54) = {1:NM:=0.822279322373671:0.0246683796712101}\n",
       "    </pre>\n",
       "    "
      ],
      "text/plain": [
       "\n",
       "    <h1> EDOs lineales de 2o Orden </h1>\n",
       "    <h2> Coeficientes indeterminados: \\( \\phi(x)=Ae^{kx} \\) </h2>\n",
       "    <p> Encuentre la solución \\(u(x)\\) de la siguiente ecuación diferencial\n",
       "    \\(\\frac{\\partial}{\\partial x}u\\left(x\\right) + \\frac{\\partial^{2}}{(\\partial x)^{2}}u\\left(x\\right) = 8 \\, e^{\\left(-3 \\, x\\right)}\\) con condiciones iniciales \\(u(0)=-1, \\; u'(0)=0\\)\n",
       "    y evalue en el punto dado:</p>\n",
       "    <pre>\n",
       "    u(1.54) = {1:NM:=0.822279322373671:0.0246683796712101}\n",
       "    </pre>\n",
       "    "
      ]
     },
     "metadata": {},
     "output_type": "display_data"
    },
    {
     "data": {
      "text/html": [
       "\n",
       "    La solución del problema de condiciones iniciales es\n",
       "    \\(u(x)=\\frac{1}{3} \\, {\\left(5 \\, e^{\\left(3 \\, x\\right)} - 12 \\, e^{\\left(2 \\, x\\right)} + 4\\right)} e^{\\left(-3 \\, x\\right)}\\)\n",
       "    "
      ],
      "text/plain": [
       "\n",
       "    La solución del problema de condiciones iniciales es\n",
       "    \\(u(x)=\\frac{1}{3} \\, {\\left(5 \\, e^{\\left(3 \\, x\\right)} - 12 \\, e^{\\left(2 \\, x\\right)} + 4\\right)} e^{\\left(-3 \\, x\\right)}\\)\n",
       "    "
      ]
     },
     "metadata": {},
     "output_type": "display_data"
    },
    {
     "data": {
      "text/html": [
       "\n",
       "    <h1> EDOs lineales de 2o Orden </h1>\n",
       "    <h2> Coeficientes indeterminados: \\( \\phi(x)=Ae^{kx} \\) </h2>\n",
       "    <p> Encuentre la solución \\(u(x)\\) de la siguiente ecuación diferencial\n",
       "    \\(2 \\, u\\left(x\\right) + 2 \\, \\frac{\\partial}{\\partial x}u\\left(x\\right) + \\frac{\\partial^{2}}{(\\partial x)^{2}}u\\left(x\\right) = 4 \\, e^{\\left(-3 \\, x\\right)}\\) con condiciones iniciales \\(u(0)=-2, \\; u'(0)=0\\)\n",
       "    y evalue en el punto dado:</p>\n",
       "    <pre>\n",
       "    u(1.89) = {1:NM:=0.0781242892362363:0.00234372867708709}\n",
       "    </pre>\n",
       "    "
      ],
      "text/plain": [
       "\n",
       "    <h1> EDOs lineales de 2o Orden </h1>\n",
       "    <h2> Coeficientes indeterminados: \\( \\phi(x)=Ae^{kx} \\) </h2>\n",
       "    <p> Encuentre la solución \\(u(x)\\) de la siguiente ecuación diferencial\n",
       "    \\(2 \\, u\\left(x\\right) + 2 \\, \\frac{\\partial}{\\partial x}u\\left(x\\right) + \\frac{\\partial^{2}}{(\\partial x)^{2}}u\\left(x\\right) = 4 \\, e^{\\left(-3 \\, x\\right)}\\) con condiciones iniciales \\(u(0)=-2, \\; u'(0)=0\\)\n",
       "    y evalue en el punto dado:</p>\n",
       "    <pre>\n",
       "    u(1.89) = {1:NM:=0.0781242892362363:0.00234372867708709}\n",
       "    </pre>\n",
       "    "
      ]
     },
     "metadata": {},
     "output_type": "display_data"
    },
    {
     "data": {
      "text/html": [
       "\n",
       "    La solución del problema de condiciones iniciales es\n",
       "    \\(u(x)=-\\frac{2}{5} \\, {\\left(7 \\, \\cos\\left(x\\right) e^{\\left(2 \\, x\\right)} + e^{\\left(2 \\, x\\right)} \\sin\\left(x\\right) - 2\\right)} e^{\\left(-3 \\, x\\right)}\\)\n",
       "    "
      ],
      "text/plain": [
       "\n",
       "    La solución del problema de condiciones iniciales es\n",
       "    \\(u(x)=-\\frac{2}{5} \\, {\\left(7 \\, \\cos\\left(x\\right) e^{\\left(2 \\, x\\right)} + e^{\\left(2 \\, x\\right)} \\sin\\left(x\\right) - 2\\right)} e^{\\left(-3 \\, x\\right)}\\)\n",
       "    "
      ]
     },
     "metadata": {},
     "output_type": "display_data"
    },
    {
     "data": {
      "text/html": [
       "\n",
       "    <h1> EDOs lineales de 2o Orden </h1>\n",
       "    <h2> Coeficientes indeterminados: \\( \\phi(x)=Ae^{kx} \\) </h2>\n",
       "    <p> Encuentre la solución \\(u(x)\\) de la siguiente ecuación diferencial\n",
       "    \\(-2 \\, \\frac{\\partial}{\\partial x}u\\left(x\\right) + \\frac{\\partial^{2}}{(\\partial x)^{2}}u\\left(x\\right) = 10 \\, e^{\\left(-7 \\, x\\right)}\\) con condiciones iniciales \\(u(0)=-2, \\; u'(0)=-2\\)\n",
       "    y evalue en el punto dado:</p>\n",
       "    <pre>\n",
       "    u(1.63) = {1:NM:=-13.2918560182481:-0.398755680547444}\n",
       "    </pre>\n",
       "    "
      ],
      "text/plain": [
       "\n",
       "    <h1> EDOs lineales de 2o Orden </h1>\n",
       "    <h2> Coeficientes indeterminados: \\( \\phi(x)=Ae^{kx} \\) </h2>\n",
       "    <p> Encuentre la solución \\(u(x)\\) de la siguiente ecuación diferencial\n",
       "    \\(-2 \\, \\frac{\\partial}{\\partial x}u\\left(x\\right) + \\frac{\\partial^{2}}{(\\partial x)^{2}}u\\left(x\\right) = 10 \\, e^{\\left(-7 \\, x\\right)}\\) con condiciones iniciales \\(u(0)=-2, \\; u'(0)=-2\\)\n",
       "    y evalue en el punto dado:</p>\n",
       "    <pre>\n",
       "    u(1.63) = {1:NM:=-13.2918560182481:-0.398755680547444}\n",
       "    </pre>\n",
       "    "
      ]
     },
     "metadata": {},
     "output_type": "display_data"
    },
    {
     "data": {
      "text/html": [
       "\n",
       "    La solución del problema de condiciones iniciales es\n",
       "    \\(u(x)=-\\frac{2}{63} \\, {\\left(14 \\, e^{\\left(9 \\, x\\right)} + 54 \\, e^{\\left(7 \\, x\\right)} - 5\\right)} e^{\\left(-7 \\, x\\right)}\\)\n",
       "    "
      ],
      "text/plain": [
       "\n",
       "    La solución del problema de condiciones iniciales es\n",
       "    \\(u(x)=-\\frac{2}{63} \\, {\\left(14 \\, e^{\\left(9 \\, x\\right)} + 54 \\, e^{\\left(7 \\, x\\right)} - 5\\right)} e^{\\left(-7 \\, x\\right)}\\)\n",
       "    "
      ]
     },
     "metadata": {},
     "output_type": "display_data"
    },
    {
     "data": {
      "text/html": [
       "\n",
       "    <h1> EDOs lineales de 2o Orden </h1>\n",
       "    <h2> Coeficientes indeterminados: \\( \\phi(x)=Ae^{kx} \\) </h2>\n",
       "    <p> Encuentre la solución \\(u(x)\\) de la siguiente ecuación diferencial\n",
       "    \\(-2 \\, u\\left(x\\right) + \\frac{\\partial^{2}}{(\\partial x)^{2}}u\\left(x\\right) = -10 \\, e^{\\left(9 \\, x\\right)}\\) con condiciones iniciales \\(u(0)=2, \\; u'(0)=1\\)\n",
       "    y evalue en el punto dado:</p>\n",
       "    <pre>\n",
       "    u(1.47) = {1:NM:=-70469.1466873443:-2114.07440062033}\n",
       "    </pre>\n",
       "    "
      ],
      "text/plain": [
       "\n",
       "    <h1> EDOs lineales de 2o Orden </h1>\n",
       "    <h2> Coeficientes indeterminados: \\( \\phi(x)=Ae^{kx} \\) </h2>\n",
       "    <p> Encuentre la solución \\(u(x)\\) de la siguiente ecuación diferencial\n",
       "    \\(-2 \\, u\\left(x\\right) + \\frac{\\partial^{2}}{(\\partial x)^{2}}u\\left(x\\right) = -10 \\, e^{\\left(9 \\, x\\right)}\\) con condiciones iniciales \\(u(0)=2, \\; u'(0)=1\\)\n",
       "    y evalue en el punto dado:</p>\n",
       "    <pre>\n",
       "    u(1.47) = {1:NM:=-70469.1466873443:-2114.07440062033}\n",
       "    </pre>\n",
       "    "
      ]
     },
     "metadata": {},
     "output_type": "display_data"
    },
    {
     "data": {
      "text/html": [
       "\n",
       "    La solución del problema de condiciones iniciales es\n",
       "    \\(u(x)=\\frac{1}{316} \\, {\\left({\\left(169 \\, \\sqrt{2} + 336\\right)} e^{\\left(2 \\, \\sqrt{2} x\\right)} - 169 \\, \\sqrt{2} - 40 \\, e^{\\left(\\sqrt{2} x + 9 \\, x\\right)} + 336\\right)} e^{\\left(-\\sqrt{2} x\\right)}\\)\n",
       "    "
      ],
      "text/plain": [
       "\n",
       "    La solución del problema de condiciones iniciales es\n",
       "    \\(u(x)=\\frac{1}{316} \\, {\\left({\\left(169 \\, \\sqrt{2} + 336\\right)} e^{\\left(2 \\, \\sqrt{2} x\\right)} - 169 \\, \\sqrt{2} - 40 \\, e^{\\left(\\sqrt{2} x + 9 \\, x\\right)} + 336\\right)} e^{\\left(-\\sqrt{2} x\\right)}\\)\n",
       "    "
      ]
     },
     "metadata": {},
     "output_type": "display_data"
    },
    {
     "data": {
      "text/html": [
       "\n",
       "    <h1> EDOs lineales de 2o Orden </h1>\n",
       "    <h2> Coeficientes indeterminados: \\( \\phi(x)=Ae^{kx} \\) </h2>\n",
       "    <p> Encuentre la solución \\(u(x)\\) de la siguiente ecuación diferencial\n",
       "    \\(-u\\left(x\\right) + \\frac{\\partial}{\\partial x}u\\left(x\\right) + \\frac{\\partial^{2}}{(\\partial x)^{2}}u\\left(x\\right) = 7 \\, e^{\\left(-2 \\, x\\right)}\\) con condiciones iniciales \\(u(0)=2, \\; u'(0)=0\\)\n",
       "    y evalue en el punto dado:</p>\n",
       "    <pre>\n",
       "    u(1.81) = {1:NM:=7.86809199430268:0.236042759829080}\n",
       "    </pre>\n",
       "    "
      ],
      "text/plain": [
       "\n",
       "    <h1> EDOs lineales de 2o Orden </h1>\n",
       "    <h2> Coeficientes indeterminados: \\( \\phi(x)=Ae^{kx} \\) </h2>\n",
       "    <p> Encuentre la solución \\(u(x)\\) de la siguiente ecuación diferencial\n",
       "    \\(-u\\left(x\\right) + \\frac{\\partial}{\\partial x}u\\left(x\\right) + \\frac{\\partial^{2}}{(\\partial x)^{2}}u\\left(x\\right) = 7 \\, e^{\\left(-2 \\, x\\right)}\\) con condiciones iniciales \\(u(0)=2, \\; u'(0)=0\\)\n",
       "    y evalue en el punto dado:</p>\n",
       "    <pre>\n",
       "    u(1.81) = {1:NM:=7.86809199430268:0.236042759829080}\n",
       "    </pre>\n",
       "    "
      ]
     },
     "metadata": {},
     "output_type": "display_data"
    },
    {
     "data": {
      "text/html": [
       "\n",
       "    La solución del problema de condiciones iniciales es\n",
       "    \\(u(x)=\\frac{1}{10} \\, {\\left({\\left(23 \\, \\sqrt{5} - 25\\right)} e^{\\left(\\sqrt{5} x + 2 \\, x\\right)} - {\\left(23 \\, \\sqrt{5} + 25\\right)} e^{\\left(2 \\, x\\right)} + 70 \\, e^{\\left(\\frac{1}{2} \\, \\sqrt{5} x + \\frac{1}{2} \\, x\\right)}\\right)} e^{\\left(-\\frac{1}{2} \\, \\sqrt{5} x - \\frac{5}{2} \\, x\\right)}\\)\n",
       "    "
      ],
      "text/plain": [
       "\n",
       "    La solución del problema de condiciones iniciales es\n",
       "    \\(u(x)=\\frac{1}{10} \\, {\\left({\\left(23 \\, \\sqrt{5} - 25\\right)} e^{\\left(\\sqrt{5} x + 2 \\, x\\right)} - {\\left(23 \\, \\sqrt{5} + 25\\right)} e^{\\left(2 \\, x\\right)} + 70 \\, e^{\\left(\\frac{1}{2} \\, \\sqrt{5} x + \\frac{1}{2} \\, x\\right)}\\right)} e^{\\left(-\\frac{1}{2} \\, \\sqrt{5} x - \\frac{5}{2} \\, x\\right)}\\)\n",
       "    "
      ]
     },
     "metadata": {},
     "output_type": "display_data"
    },
    {
     "data": {
      "text/html": [
       "\n",
       "    <h1> EDOs lineales de 2o Orden </h1>\n",
       "    <h2> Coeficientes indeterminados: \\( \\phi(x)=Ae^{kx} \\) </h2>\n",
       "    <p> Encuentre la solución \\(u(x)\\) de la siguiente ecuación diferencial\n",
       "    \\(u\\left(x\\right) + 2 \\, \\frac{\\partial}{\\partial x}u\\left(x\\right) + \\frac{\\partial^{2}}{(\\partial x)^{2}}u\\left(x\\right) = 10 \\, e^{\\left(9 \\, x\\right)}\\) con condiciones iniciales \\(u(0)=0, \\; u'(0)=2\\)\n",
       "    y evalue en el punto dado:</p>\n",
       "    <pre>\n",
       "    u(1.1) = {1:NM:=1993.36991490673:59.8010974472018}\n",
       "    </pre>\n",
       "    "
      ],
      "text/plain": [
       "\n",
       "    <h1> EDOs lineales de 2o Orden </h1>\n",
       "    <h2> Coeficientes indeterminados: \\( \\phi(x)=Ae^{kx} \\) </h2>\n",
       "    <p> Encuentre la solución \\(u(x)\\) de la siguiente ecuación diferencial\n",
       "    \\(u\\left(x\\right) + 2 \\, \\frac{\\partial}{\\partial x}u\\left(x\\right) + \\frac{\\partial^{2}}{(\\partial x)^{2}}u\\left(x\\right) = 10 \\, e^{\\left(9 \\, x\\right)}\\) con condiciones iniciales \\(u(0)=0, \\; u'(0)=2\\)\n",
       "    y evalue en el punto dado:</p>\n",
       "    <pre>\n",
       "    u(1.1) = {1:NM:=1993.36991490673:59.8010974472018}\n",
       "    </pre>\n",
       "    "
      ]
     },
     "metadata": {},
     "output_type": "display_data"
    },
    {
     "data": {
      "text/html": [
       "\n",
       "    La solución del problema de condiciones iniciales es\n",
       "    \\(u(x)=\\frac{1}{10} \\, {\\left(10 \\, x + e^{\\left(10 \\, x\\right)} - 1\\right)} e^{\\left(-x\\right)}\\)\n",
       "    "
      ],
      "text/plain": [
       "\n",
       "    La solución del problema de condiciones iniciales es\n",
       "    \\(u(x)=\\frac{1}{10} \\, {\\left(10 \\, x + e^{\\left(10 \\, x\\right)} - 1\\right)} e^{\\left(-x\\right)}\\)\n",
       "    "
      ]
     },
     "metadata": {},
     "output_type": "display_data"
    },
    {
     "data": {
      "text/html": [
       "\n",
       "    <h1> EDOs lineales de 2o Orden </h1>\n",
       "    <h2> Coeficientes indeterminados: \\( \\phi(x)=Ae^{kx} \\) </h2>\n",
       "    <p> Encuentre la solución \\(u(x)\\) de la siguiente ecuación diferencial\n",
       "    \\(-2 \\, u\\left(x\\right) + \\frac{\\partial^{2}}{(\\partial x)^{2}}u\\left(x\\right) = -6 \\, e^{\\left(6 \\, x\\right)}\\) con condiciones iniciales \\(u(0)=1, \\; u'(0)=0\\)\n",
       "    y evalue en el punto dado:</p>\n",
       "    <pre>\n",
       "    u(1.42) = {1:NM:=-877.633261081754:-26.3289978324526}\n",
       "    </pre>\n",
       "    "
      ],
      "text/plain": [
       "\n",
       "    <h1> EDOs lineales de 2o Orden </h1>\n",
       "    <h2> Coeficientes indeterminados: \\( \\phi(x)=Ae^{kx} \\) </h2>\n",
       "    <p> Encuentre la solución \\(u(x)\\) de la siguiente ecuación diferencial\n",
       "    \\(-2 \\, u\\left(x\\right) + \\frac{\\partial^{2}}{(\\partial x)^{2}}u\\left(x\\right) = -6 \\, e^{\\left(6 \\, x\\right)}\\) con condiciones iniciales \\(u(0)=1, \\; u'(0)=0\\)\n",
       "    y evalue en el punto dado:</p>\n",
       "    <pre>\n",
       "    u(1.42) = {1:NM:=-877.633261081754:-26.3289978324526}\n",
       "    </pre>\n",
       "    "
      ]
     },
     "metadata": {},
     "output_type": "display_data"
    },
    {
     "data": {
      "text/html": [
       "\n",
       "    La solución del problema de condiciones iniciales es\n",
       "    \\(u(x)=\\frac{1}{34} \\, {\\left({\\left(9 \\, \\sqrt{2} + 20\\right)} e^{\\left(2 \\, \\sqrt{2} x\\right)} - 9 \\, \\sqrt{2} - 6 \\, e^{\\left(\\sqrt{2} x + 6 \\, x\\right)} + 20\\right)} e^{\\left(-\\sqrt{2} x\\right)}\\)\n",
       "    "
      ],
      "text/plain": [
       "\n",
       "    La solución del problema de condiciones iniciales es\n",
       "    \\(u(x)=\\frac{1}{34} \\, {\\left({\\left(9 \\, \\sqrt{2} + 20\\right)} e^{\\left(2 \\, \\sqrt{2} x\\right)} - 9 \\, \\sqrt{2} - 6 \\, e^{\\left(\\sqrt{2} x + 6 \\, x\\right)} + 20\\right)} e^{\\left(-\\sqrt{2} x\\right)}\\)\n",
       "    "
      ]
     },
     "metadata": {},
     "output_type": "display_data"
    },
    {
     "data": {
      "text/html": [
       "\n",
       "    <h1> EDOs lineales de 2o Orden </h1>\n",
       "    <h2> Coeficientes indeterminados: \\( \\phi(x)=Ae^{kx} \\) </h2>\n",
       "    <p> Encuentre la solución \\(u(x)\\) de la siguiente ecuación diferencial\n",
       "    \\(u\\left(x\\right) + \\frac{\\partial^{2}}{(\\partial x)^{2}}u\\left(x\\right) = 10 \\, e^{\\left(7 \\, x\\right)}\\) con condiciones iniciales \\(u(0)=0, \\; u'(0)=2\\)\n",
       "    y evalue en el punto dado:</p>\n",
       "    <pre>\n",
       "    u(1.72) = {1:NM:=33880.0111560665:1016.40033468199}\n",
       "    </pre>\n",
       "    "
      ],
      "text/plain": [
       "\n",
       "    <h1> EDOs lineales de 2o Orden </h1>\n",
       "    <h2> Coeficientes indeterminados: \\( \\phi(x)=Ae^{kx} \\) </h2>\n",
       "    <p> Encuentre la solución \\(u(x)\\) de la siguiente ecuación diferencial\n",
       "    \\(u\\left(x\\right) + \\frac{\\partial^{2}}{(\\partial x)^{2}}u\\left(x\\right) = 10 \\, e^{\\left(7 \\, x\\right)}\\) con condiciones iniciales \\(u(0)=0, \\; u'(0)=2\\)\n",
       "    y evalue en el punto dado:</p>\n",
       "    <pre>\n",
       "    u(1.72) = {1:NM:=33880.0111560665:1016.40033468199}\n",
       "    </pre>\n",
       "    "
      ]
     },
     "metadata": {},
     "output_type": "display_data"
    },
    {
     "data": {
      "text/html": [
       "\n",
       "    La solución del problema de condiciones iniciales es\n",
       "    \\(u(x)=-\\frac{1}{5} \\, \\cos\\left(x\\right) + \\frac{1}{5} \\, e^{\\left(7 \\, x\\right)} + \\frac{3}{5} \\, \\sin\\left(x\\right)\\)\n",
       "    "
      ],
      "text/plain": [
       "\n",
       "    La solución del problema de condiciones iniciales es\n",
       "    \\(u(x)=-\\frac{1}{5} \\, \\cos\\left(x\\right) + \\frac{1}{5} \\, e^{\\left(7 \\, x\\right)} + \\frac{3}{5} \\, \\sin\\left(x\\right)\\)\n",
       "    "
      ]
     },
     "metadata": {},
     "output_type": "display_data"
    },
    {
     "data": {
      "text/html": [
       "\n",
       "    <h1> EDOs lineales de 2o Orden </h1>\n",
       "    <h2> Coeficientes indeterminados: \\( \\phi(x)=Ae^{kx} \\) </h2>\n",
       "    <p> Encuentre la solución \\(u(x)\\) de la siguiente ecuación diferencial\n",
       "    \\(\\frac{\\partial^{2}}{(\\partial x)^{2}}u\\left(x\\right) = -3 \\, e^{\\left(-2 \\, x\\right)}\\) con condiciones iniciales \\(u(0)=0, \\; u'(0)=2\\)\n",
       "    y evalue en el punto dado:</p>\n",
       "    <pre>\n",
       "    u(1.58) = {1:NM:=1.50818069418962:0.0452454208256885}\n",
       "    </pre>\n",
       "    "
      ],
      "text/plain": [
       "\n",
       "    <h1> EDOs lineales de 2o Orden </h1>\n",
       "    <h2> Coeficientes indeterminados: \\( \\phi(x)=Ae^{kx} \\) </h2>\n",
       "    <p> Encuentre la solución \\(u(x)\\) de la siguiente ecuación diferencial\n",
       "    \\(\\frac{\\partial^{2}}{(\\partial x)^{2}}u\\left(x\\right) = -3 \\, e^{\\left(-2 \\, x\\right)}\\) con condiciones iniciales \\(u(0)=0, \\; u'(0)=2\\)\n",
       "    y evalue en el punto dado:</p>\n",
       "    <pre>\n",
       "    u(1.58) = {1:NM:=1.50818069418962:0.0452454208256885}\n",
       "    </pre>\n",
       "    "
      ]
     },
     "metadata": {},
     "output_type": "display_data"
    },
    {
     "data": {
      "text/html": [
       "\n",
       "    La solución del problema de condiciones iniciales es\n",
       "    \\(u(x)=\\frac{1}{4} \\, {\\left({\\left(2 \\, x + 3\\right)} e^{\\left(2 \\, x\\right)} - 3\\right)} e^{\\left(-2 \\, x\\right)}\\)\n",
       "    "
      ],
      "text/plain": [
       "\n",
       "    La solución del problema de condiciones iniciales es\n",
       "    \\(u(x)=\\frac{1}{4} \\, {\\left({\\left(2 \\, x + 3\\right)} e^{\\left(2 \\, x\\right)} - 3\\right)} e^{\\left(-2 \\, x\\right)}\\)\n",
       "    "
      ]
     },
     "metadata": {},
     "output_type": "display_data"
    },
    {
     "data": {
      "text/html": [
       "\n",
       "    <h1> EDOs lineales de 2o Orden </h1>\n",
       "    <h2> Coeficientes indeterminados: \\( \\phi(x)=Ae^{kx} \\) </h2>\n",
       "    <p> Encuentre la solución \\(u(x)\\) de la siguiente ecuación diferencial\n",
       "    \\(2 \\, u\\left(x\\right) + 2 \\, \\frac{\\partial}{\\partial x}u\\left(x\\right) + \\frac{\\partial^{2}}{(\\partial x)^{2}}u\\left(x\\right) = -3 \\, e^{\\left(-3 \\, x\\right)}\\) con condiciones iniciales \\(u(0)=-1, \\; u'(0)=2\\)\n",
       "    y evalue en el punto dado:</p>\n",
       "    <pre>\n",
       "    u(1.28) = {1:NM:=-0.0980559986782623:-0.00294167996034787}\n",
       "    </pre>\n",
       "    "
      ],
      "text/plain": [
       "\n",
       "    <h1> EDOs lineales de 2o Orden </h1>\n",
       "    <h2> Coeficientes indeterminados: \\( \\phi(x)=Ae^{kx} \\) </h2>\n",
       "    <p> Encuentre la solución \\(u(x)\\) de la siguiente ecuación diferencial\n",
       "    \\(2 \\, u\\left(x\\right) + 2 \\, \\frac{\\partial}{\\partial x}u\\left(x\\right) + \\frac{\\partial^{2}}{(\\partial x)^{2}}u\\left(x\\right) = -3 \\, e^{\\left(-3 \\, x\\right)}\\) con condiciones iniciales \\(u(0)=-1, \\; u'(0)=2\\)\n",
       "    y evalue en el punto dado:</p>\n",
       "    <pre>\n",
       "    u(1.28) = {1:NM:=-0.0980559986782623:-0.00294167996034787}\n",
       "    </pre>\n",
       "    "
      ]
     },
     "metadata": {},
     "output_type": "display_data"
    },
    {
     "data": {
      "text/html": [
       "\n",
       "    La solución del problema de condiciones iniciales es\n",
       "    \\(u(x)=-\\frac{1}{5} \\, {\\left(2 \\, \\cos\\left(x\\right) e^{\\left(2 \\, x\\right)} + e^{\\left(2 \\, x\\right)} \\sin\\left(x\\right) + 3\\right)} e^{\\left(-3 \\, x\\right)}\\)\n",
       "    "
      ],
      "text/plain": [
       "\n",
       "    La solución del problema de condiciones iniciales es\n",
       "    \\(u(x)=-\\frac{1}{5} \\, {\\left(2 \\, \\cos\\left(x\\right) e^{\\left(2 \\, x\\right)} + e^{\\left(2 \\, x\\right)} \\sin\\left(x\\right) + 3\\right)} e^{\\left(-3 \\, x\\right)}\\)\n",
       "    "
      ]
     },
     "metadata": {},
     "output_type": "display_data"
    },
    {
     "data": {
      "text/html": [
       "\n",
       "    <h1> EDOs lineales de 2o Orden </h1>\n",
       "    <h2> Coeficientes indeterminados: \\( \\phi(x)=Ae^{kx} \\) </h2>\n",
       "    <p> Encuentre la solución \\(u(x)\\) de la siguiente ecuación diferencial\n",
       "    \\(-2 \\, u\\left(x\\right) - \\frac{\\partial}{\\partial x}u\\left(x\\right) + \\frac{\\partial^{2}}{(\\partial x)^{2}}u\\left(x\\right) = 2 \\, e^{\\left(7 \\, x\\right)}\\) con condiciones iniciales \\(u(0)=-2, \\; u'(0)=-1\\)\n",
       "    y evalue en el punto dado:</p>\n",
       "    <pre>\n",
       "    u(1.98) = {1:NM:=52215.1187186835:1566.45356156051}\n",
       "    </pre>\n",
       "    "
      ],
      "text/plain": [
       "\n",
       "    <h1> EDOs lineales de 2o Orden </h1>\n",
       "    <h2> Coeficientes indeterminados: \\( \\phi(x)=Ae^{kx} \\) </h2>\n",
       "    <p> Encuentre la solución \\(u(x)\\) de la siguiente ecuación diferencial\n",
       "    \\(-2 \\, u\\left(x\\right) - \\frac{\\partial}{\\partial x}u\\left(x\\right) + \\frac{\\partial^{2}}{(\\partial x)^{2}}u\\left(x\\right) = 2 \\, e^{\\left(7 \\, x\\right)}\\) con condiciones iniciales \\(u(0)=-2, \\; u'(0)=-1\\)\n",
       "    y evalue en el punto dado:</p>\n",
       "    <pre>\n",
       "    u(1.98) = {1:NM:=52215.1187186835:1566.45356156051}\n",
       "    </pre>\n",
       "    "
      ]
     },
     "metadata": {},
     "output_type": "display_data"
    },
    {
     "data": {
      "text/html": [
       "\n",
       "    La solución del problema de condiciones iniciales es\n",
       "    \\(u(x)=\\frac{1}{60} \\, {\\left(3 \\, e^{\\left(8 \\, x\\right)} - 68 \\, e^{\\left(3 \\, x\\right)} - 55\\right)} e^{\\left(-x\\right)}\\)\n",
       "    "
      ],
      "text/plain": [
       "\n",
       "    La solución del problema de condiciones iniciales es\n",
       "    \\(u(x)=\\frac{1}{60} \\, {\\left(3 \\, e^{\\left(8 \\, x\\right)} - 68 \\, e^{\\left(3 \\, x\\right)} - 55\\right)} e^{\\left(-x\\right)}\\)\n",
       "    "
      ]
     },
     "metadata": {},
     "output_type": "display_data"
    },
    {
     "data": {
      "text/html": [
       "\n",
       "    <h1> EDOs lineales de 2o Orden </h1>\n",
       "    <h2> Coeficientes indeterminados: \\( \\phi(x)=Ae^{kx} \\) </h2>\n",
       "    <p> Encuentre la solución \\(u(x)\\) de la siguiente ecuación diferencial\n",
       "    \\(2 \\, u\\left(x\\right) + 2 \\, \\frac{\\partial}{\\partial x}u\\left(x\\right) + \\frac{\\partial^{2}}{(\\partial x)^{2}}u\\left(x\\right) = -6 \\, e^{\\left(-5 \\, x\\right)}\\) con condiciones iniciales \\(u(0)=2, \\; u'(0)=1\\)\n",
       "    y evalue en el punto dado:</p>\n",
       "    <pre>\n",
       "    u(1.87) = {1:NM:=0.126985851126775:0.00380957553380324}\n",
       "    </pre>\n",
       "    "
      ],
      "text/plain": [
       "\n",
       "    <h1> EDOs lineales de 2o Orden </h1>\n",
       "    <h2> Coeficientes indeterminados: \\( \\phi(x)=Ae^{kx} \\) </h2>\n",
       "    <p> Encuentre la solución \\(u(x)\\) de la siguiente ecuación diferencial\n",
       "    \\(2 \\, u\\left(x\\right) + 2 \\, \\frac{\\partial}{\\partial x}u\\left(x\\right) + \\frac{\\partial^{2}}{(\\partial x)^{2}}u\\left(x\\right) = -6 \\, e^{\\left(-5 \\, x\\right)}\\) con condiciones iniciales \\(u(0)=2, \\; u'(0)=1\\)\n",
       "    y evalue en el punto dado:</p>\n",
       "    <pre>\n",
       "    u(1.87) = {1:NM:=0.126985851126775:0.00380957553380324}\n",
       "    </pre>\n",
       "    "
      ]
     },
     "metadata": {},
     "output_type": "display_data"
    },
    {
     "data": {
      "text/html": [
       "\n",
       "    La solución del problema de condiciones iniciales es\n",
       "    \\(u(x)=\\frac{1}{17} \\, {\\left(40 \\, \\cos\\left(x\\right) e^{\\left(4 \\, x\\right)} + 27 \\, e^{\\left(4 \\, x\\right)} \\sin\\left(x\\right) - 6\\right)} e^{\\left(-5 \\, x\\right)}\\)\n",
       "    "
      ],
      "text/plain": [
       "\n",
       "    La solución del problema de condiciones iniciales es\n",
       "    \\(u(x)=\\frac{1}{17} \\, {\\left(40 \\, \\cos\\left(x\\right) e^{\\left(4 \\, x\\right)} + 27 \\, e^{\\left(4 \\, x\\right)} \\sin\\left(x\\right) - 6\\right)} e^{\\left(-5 \\, x\\right)}\\)\n",
       "    "
      ]
     },
     "metadata": {},
     "output_type": "display_data"
    },
    {
     "data": {
      "text/html": [
       "\n",
       "    <h1> EDOs lineales de 2o Orden </h1>\n",
       "    <h2> Coeficientes indeterminados: \\( \\phi(x)=Ae^{kx} \\) </h2>\n",
       "    <p> Encuentre la solución \\(u(x)\\) de la siguiente ecuación diferencial\n",
       "    \\(\\frac{\\partial}{\\partial x}u\\left(x\\right) + \\frac{\\partial^{2}}{(\\partial x)^{2}}u\\left(x\\right) = 8 \\, e^{\\left(10 \\, x\\right)}\\) con condiciones iniciales \\(u(0)=1, \\; u'(0)=0\\)\n",
       "    y evalue en el punto dado:</p>\n",
       "    <pre>\n",
       "    u(1.43) = {1:NM:=118061.900225286:3541.85700675857}\n",
       "    </pre>\n",
       "    "
      ],
      "text/plain": [
       "\n",
       "    <h1> EDOs lineales de 2o Orden </h1>\n",
       "    <h2> Coeficientes indeterminados: \\( \\phi(x)=Ae^{kx} \\) </h2>\n",
       "    <p> Encuentre la solución \\(u(x)\\) de la siguiente ecuación diferencial\n",
       "    \\(\\frac{\\partial}{\\partial x}u\\left(x\\right) + \\frac{\\partial^{2}}{(\\partial x)^{2}}u\\left(x\\right) = 8 \\, e^{\\left(10 \\, x\\right)}\\) con condiciones iniciales \\(u(0)=1, \\; u'(0)=0\\)\n",
       "    y evalue en el punto dado:</p>\n",
       "    <pre>\n",
       "    u(1.43) = {1:NM:=118061.900225286:3541.85700675857}\n",
       "    </pre>\n",
       "    "
      ]
     },
     "metadata": {},
     "output_type": "display_data"
    },
    {
     "data": {
      "text/html": [
       "\n",
       "    La solución del problema de condiciones iniciales es\n",
       "    \\(u(x)=\\frac{1}{55} \\, {\\left(4 \\, e^{\\left(11 \\, x\\right)} + 11 \\, e^{x} + 40\\right)} e^{\\left(-x\\right)}\\)\n",
       "    "
      ],
      "text/plain": [
       "\n",
       "    La solución del problema de condiciones iniciales es\n",
       "    \\(u(x)=\\frac{1}{55} \\, {\\left(4 \\, e^{\\left(11 \\, x\\right)} + 11 \\, e^{x} + 40\\right)} e^{\\left(-x\\right)}\\)\n",
       "    "
      ]
     },
     "metadata": {},
     "output_type": "display_data"
    },
    {
     "data": {
      "text/html": [
       "\n",
       "    <h1> EDOs lineales de 2o Orden </h1>\n",
       "    <h2> Coeficientes indeterminados: \\( \\phi(x)=Ae^{kx} \\) </h2>\n",
       "    <p> Encuentre la solución \\(u(x)\\) de la siguiente ecuación diferencial\n",
       "    \\(2 \\, u\\left(x\\right) + \\frac{\\partial^{2}}{(\\partial x)^{2}}u\\left(x\\right) = -2 \\, e^{\\left(-10 \\, x\\right)}\\) con condiciones iniciales \\(u(0)=-2, \\; u'(0)=0\\)\n",
       "    y evalue en el punto dado:</p>\n",
       "    <pre>\n",
       "    u(1.03) = {1:NM:=-0.363330272072496:-0.0108999081621749}\n",
       "    </pre>\n",
       "    "
      ],
      "text/plain": [
       "\n",
       "    <h1> EDOs lineales de 2o Orden </h1>\n",
       "    <h2> Coeficientes indeterminados: \\( \\phi(x)=Ae^{kx} \\) </h2>\n",
       "    <p> Encuentre la solución \\(u(x)\\) de la siguiente ecuación diferencial\n",
       "    \\(2 \\, u\\left(x\\right) + \\frac{\\partial^{2}}{(\\partial x)^{2}}u\\left(x\\right) = -2 \\, e^{\\left(-10 \\, x\\right)}\\) con condiciones iniciales \\(u(0)=-2, \\; u'(0)=0\\)\n",
       "    y evalue en el punto dado:</p>\n",
       "    <pre>\n",
       "    u(1.03) = {1:NM:=-0.363330272072496:-0.0108999081621749}\n",
       "    </pre>\n",
       "    "
      ]
     },
     "metadata": {},
     "output_type": "display_data"
    },
    {
     "data": {
      "text/html": [
       "\n",
       "    La solución del problema de condiciones iniciales es\n",
       "    \\(u(x)=-\\frac{1}{51} \\, {\\left(5 \\, \\sqrt{2} e^{\\left(10 \\, x\\right)} \\sin\\left(\\sqrt{2} x\\right) + 101 \\, \\cos\\left(\\sqrt{2} x\\right) e^{\\left(10 \\, x\\right)} + 1\\right)} e^{\\left(-10 \\, x\\right)}\\)\n",
       "    "
      ],
      "text/plain": [
       "\n",
       "    La solución del problema de condiciones iniciales es\n",
       "    \\(u(x)=-\\frac{1}{51} \\, {\\left(5 \\, \\sqrt{2} e^{\\left(10 \\, x\\right)} \\sin\\left(\\sqrt{2} x\\right) + 101 \\, \\cos\\left(\\sqrt{2} x\\right) e^{\\left(10 \\, x\\right)} + 1\\right)} e^{\\left(-10 \\, x\\right)}\\)\n",
       "    "
      ]
     },
     "metadata": {},
     "output_type": "display_data"
    },
    {
     "data": {
      "text/html": [
       "\n",
       "    <h1> EDOs lineales de 2o Orden </h1>\n",
       "    <h2> Coeficientes indeterminados: \\( \\phi(x)=Ae^{kx} \\) </h2>\n",
       "    <p> Encuentre la solución \\(u(x)\\) de la siguiente ecuación diferencial\n",
       "    \\(-2 \\, u\\left(x\\right) - 2 \\, \\frac{\\partial}{\\partial x}u\\left(x\\right) + \\frac{\\partial^{2}}{(\\partial x)^{2}}u\\left(x\\right) = 10 \\, e^{\\left(2 \\, x\\right)}\\) con condiciones iniciales \\(u(0)=1, \\; u'(0)=-2\\)\n",
       "    y evalue en el punto dado:</p>\n",
       "    <pre>\n",
       "    u(1.36) = {1:NM:=71.9610720385813:2.15883216115744}\n",
       "    </pre>\n",
       "    "
      ],
      "text/plain": [
       "\n",
       "    <h1> EDOs lineales de 2o Orden </h1>\n",
       "    <h2> Coeficientes indeterminados: \\( \\phi(x)=Ae^{kx} \\) </h2>\n",
       "    <p> Encuentre la solución \\(u(x)\\) de la siguiente ecuación diferencial\n",
       "    \\(-2 \\, u\\left(x\\right) - 2 \\, \\frac{\\partial}{\\partial x}u\\left(x\\right) + \\frac{\\partial^{2}}{(\\partial x)^{2}}u\\left(x\\right) = 10 \\, e^{\\left(2 \\, x\\right)}\\) con condiciones iniciales \\(u(0)=1, \\; u'(0)=-2\\)\n",
       "    y evalue en el punto dado:</p>\n",
       "    <pre>\n",
       "    u(1.36) = {1:NM:=71.9610720385813:2.15883216115744}\n",
       "    </pre>\n",
       "    "
      ]
     },
     "metadata": {},
     "output_type": "display_data"
    },
    {
     "data": {
      "text/html": [
       "\n",
       "    La solución del problema de condiciones iniciales es\n",
       "    \\(u(x)=\\frac{1}{3} \\, {\\left({\\left(\\sqrt{3} + 9\\right)} e^{\\left(2 \\, \\sqrt{3} x + x\\right)} - {\\left(\\sqrt{3} - 9\\right)} e^{x} - 15 \\, e^{\\left(\\sqrt{3} x + 2 \\, x\\right)}\\right)} e^{\\left(-\\sqrt{3} x\\right)}\\)\n",
       "    "
      ],
      "text/plain": [
       "\n",
       "    La solución del problema de condiciones iniciales es\n",
       "    \\(u(x)=\\frac{1}{3} \\, {\\left({\\left(\\sqrt{3} + 9\\right)} e^{\\left(2 \\, \\sqrt{3} x + x\\right)} - {\\left(\\sqrt{3} - 9\\right)} e^{x} - 15 \\, e^{\\left(\\sqrt{3} x + 2 \\, x\\right)}\\right)} e^{\\left(-\\sqrt{3} x\\right)}\\)\n",
       "    "
      ]
     },
     "metadata": {},
     "output_type": "display_data"
    },
    {
     "data": {
      "text/html": [
       "\n",
       "    <h1> EDOs lineales de 2o Orden </h1>\n",
       "    <h2> Coeficientes indeterminados: \\( \\phi(x)=Ae^{kx} \\) </h2>\n",
       "    <p> Encuentre la solución \\(u(x)\\) de la siguiente ecuación diferencial\n",
       "    \\(-2 \\, u\\left(x\\right) - 2 \\, \\frac{\\partial}{\\partial x}u\\left(x\\right) + \\frac{\\partial^{2}}{(\\partial x)^{2}}u\\left(x\\right) = -6 \\, e^{\\left(-6 \\, x\\right)}\\) con condiciones iniciales \\(u(0)=-1, \\; u'(0)=-2\\)\n",
       "    y evalue en el punto dado:</p>\n",
       "    <pre>\n",
       "    u(1.93) = {1:NM:=-192.415156943797:-5.77245470831390}\n",
       "    </pre>\n",
       "    "
      ],
      "text/plain": [
       "\n",
       "    <h1> EDOs lineales de 2o Orden </h1>\n",
       "    <h2> Coeficientes indeterminados: \\( \\phi(x)=Ae^{kx} \\) </h2>\n",
       "    <p> Encuentre la solución \\(u(x)\\) de la siguiente ecuación diferencial\n",
       "    \\(-2 \\, u\\left(x\\right) - 2 \\, \\frac{\\partial}{\\partial x}u\\left(x\\right) + \\frac{\\partial^{2}}{(\\partial x)^{2}}u\\left(x\\right) = -6 \\, e^{\\left(-6 \\, x\\right)}\\) con condiciones iniciales \\(u(0)=-1, \\; u'(0)=-2\\)\n",
       "    y evalue en el punto dado:</p>\n",
       "    <pre>\n",
       "    u(1.93) = {1:NM:=-192.415156943797:-5.77245470831390}\n",
       "    </pre>\n",
       "    "
      ]
     },
     "metadata": {},
     "output_type": "display_data"
    },
    {
     "data": {
      "text/html": [
       "\n",
       "    La solución del problema de condiciones iniciales es\n",
       "    \\(u(x)=-\\frac{1}{69} \\, {\\left(2 \\, {\\left(11 \\, \\sqrt{3} + 15\\right)} e^{\\left(2 \\, \\sqrt{3} x + 7 \\, x\\right)} - 2 \\, {\\left(11 \\, \\sqrt{3} - 15\\right)} e^{\\left(7 \\, x\\right)} + 9 \\, e^{\\left(\\sqrt{3} x\\right)}\\right)} e^{\\left(-\\sqrt{3} x - 6 \\, x\\right)}\\)\n",
       "    "
      ],
      "text/plain": [
       "\n",
       "    La solución del problema de condiciones iniciales es\n",
       "    \\(u(x)=-\\frac{1}{69} \\, {\\left(2 \\, {\\left(11 \\, \\sqrt{3} + 15\\right)} e^{\\left(2 \\, \\sqrt{3} x + 7 \\, x\\right)} - 2 \\, {\\left(11 \\, \\sqrt{3} - 15\\right)} e^{\\left(7 \\, x\\right)} + 9 \\, e^{\\left(\\sqrt{3} x\\right)}\\right)} e^{\\left(-\\sqrt{3} x - 6 \\, x\\right)}\\)\n",
       "    "
      ]
     },
     "metadata": {},
     "output_type": "display_data"
    },
    {
     "data": {
      "text/html": [
       "\n",
       "    <h1> EDOs lineales de 2o Orden </h1>\n",
       "    <h2> Coeficientes indeterminados: \\( \\phi(x)=Ae^{kx} \\) </h2>\n",
       "    <p> Encuentre la solución \\(u(x)\\) de la siguiente ecuación diferencial\n",
       "    \\(2 \\, u\\left(x\\right) + \\frac{\\partial}{\\partial x}u\\left(x\\right) + \\frac{\\partial^{2}}{(\\partial x)^{2}}u\\left(x\\right) = 4 \\, e^{\\left(8 \\, x\\right)}\\) con condiciones iniciales \\(u(0)=2, \\; u'(0)=0\\)\n",
       "    y evalue en el punto dado:</p>\n",
       "    <pre>\n",
       "    u(1.04) = {1:NM:=222.363039721321:6.67089119163963}\n",
       "    </pre>\n",
       "    "
      ],
      "text/plain": [
       "\n",
       "    <h1> EDOs lineales de 2o Orden </h1>\n",
       "    <h2> Coeficientes indeterminados: \\( \\phi(x)=Ae^{kx} \\) </h2>\n",
       "    <p> Encuentre la solución \\(u(x)\\) de la siguiente ecuación diferencial\n",
       "    \\(2 \\, u\\left(x\\right) + \\frac{\\partial}{\\partial x}u\\left(x\\right) + \\frac{\\partial^{2}}{(\\partial x)^{2}}u\\left(x\\right) = 4 \\, e^{\\left(8 \\, x\\right)}\\) con condiciones iniciales \\(u(0)=2, \\; u'(0)=0\\)\n",
       "    y evalue en el punto dado:</p>\n",
       "    <pre>\n",
       "    u(1.04) = {1:NM:=222.363039721321:6.67089119163963}\n",
       "    </pre>\n",
       "    "
      ]
     },
     "metadata": {},
     "output_type": "display_data"
    },
    {
     "data": {
      "text/html": [
       "\n",
       "    La solución del problema de condiciones iniciales es\n",
       "    \\(u(x)=\\frac{2}{259} \\, {\\left(20 \\, \\sqrt{7} \\sin\\left(\\frac{1}{2} \\, \\sqrt{7} x\\right) + 252 \\, \\cos\\left(\\frac{1}{2} \\, \\sqrt{7} x\\right) + 7 \\, e^{\\left(\\frac{17}{2} \\, x\\right)}\\right)} e^{\\left(-\\frac{1}{2} \\, x\\right)}\\)\n",
       "    "
      ],
      "text/plain": [
       "\n",
       "    La solución del problema de condiciones iniciales es\n",
       "    \\(u(x)=\\frac{2}{259} \\, {\\left(20 \\, \\sqrt{7} \\sin\\left(\\frac{1}{2} \\, \\sqrt{7} x\\right) + 252 \\, \\cos\\left(\\frac{1}{2} \\, \\sqrt{7} x\\right) + 7 \\, e^{\\left(\\frac{17}{2} \\, x\\right)}\\right)} e^{\\left(-\\frac{1}{2} \\, x\\right)}\\)\n",
       "    "
      ]
     },
     "metadata": {},
     "output_type": "display_data"
    },
    {
     "data": {
      "text/html": [
       "\n",
       "    <h1> EDOs lineales de 2o Orden </h1>\n",
       "    <h2> Coeficientes indeterminados: \\( \\phi(x)=Ae^{kx} \\) </h2>\n",
       "    <p> Encuentre la solución \\(u(x)\\) de la siguiente ecuación diferencial\n",
       "    \\(-u\\left(x\\right) - \\frac{\\partial}{\\partial x}u\\left(x\\right) + \\frac{\\partial^{2}}{(\\partial x)^{2}}u\\left(x\\right) = -6 \\, e^{\\left(-x\\right)}\\) con condiciones iniciales \\(u(0)=1, \\; u'(0)=-1\\)\n",
       "    y evalue en el punto dado:</p>\n",
       "    <pre>\n",
       "    u(1.3) = {1:NM:=-7.76359554224031:-0.232907866267209}\n",
       "    </pre>\n",
       "    "
      ],
      "text/plain": [
       "\n",
       "    <h1> EDOs lineales de 2o Orden </h1>\n",
       "    <h2> Coeficientes indeterminados: \\( \\phi(x)=Ae^{kx} \\) </h2>\n",
       "    <p> Encuentre la solución \\(u(x)\\) de la siguiente ecuación diferencial\n",
       "    \\(-u\\left(x\\right) - \\frac{\\partial}{\\partial x}u\\left(x\\right) + \\frac{\\partial^{2}}{(\\partial x)^{2}}u\\left(x\\right) = -6 \\, e^{\\left(-x\\right)}\\) con condiciones iniciales \\(u(0)=1, \\; u'(0)=-1\\)\n",
       "    y evalue en el punto dado:</p>\n",
       "    <pre>\n",
       "    u(1.3) = {1:NM:=-7.76359554224031:-0.232907866267209}\n",
       "    </pre>\n",
       "    "
      ]
     },
     "metadata": {},
     "output_type": "display_data"
    },
    {
     "data": {
      "text/html": [
       "\n",
       "    La solución del problema de condiciones iniciales es\n",
       "    \\(u(x)=-\\frac{1}{10} \\, {\\left(7 \\, {\\left(3 \\, \\sqrt{5} - 5\\right)} e^{\\left(\\sqrt{5} x + \\frac{3}{2} \\, x\\right)} - 7 \\, {\\left(3 \\, \\sqrt{5} + 5\\right)} e^{\\left(\\frac{3}{2} \\, x\\right)} + 60 \\, e^{\\left(\\frac{1}{2} \\, \\sqrt{5} x\\right)}\\right)} e^{\\left(-\\frac{1}{2} \\, \\sqrt{5} x - x\\right)}\\)\n",
       "    "
      ],
      "text/plain": [
       "\n",
       "    La solución del problema de condiciones iniciales es\n",
       "    \\(u(x)=-\\frac{1}{10} \\, {\\left(7 \\, {\\left(3 \\, \\sqrt{5} - 5\\right)} e^{\\left(\\sqrt{5} x + \\frac{3}{2} \\, x\\right)} - 7 \\, {\\left(3 \\, \\sqrt{5} + 5\\right)} e^{\\left(\\frac{3}{2} \\, x\\right)} + 60 \\, e^{\\left(\\frac{1}{2} \\, \\sqrt{5} x\\right)}\\right)} e^{\\left(-\\frac{1}{2} \\, \\sqrt{5} x - x\\right)}\\)\n",
       "    "
      ]
     },
     "metadata": {},
     "output_type": "display_data"
    },
    {
     "data": {
      "text/html": [
       "\n",
       "    <h1> EDOs lineales de 2o Orden </h1>\n",
       "    <h2> Coeficientes indeterminados: \\( \\phi(x)=Ae^{kx} \\) </h2>\n",
       "    <p> Encuentre la solución \\(u(x)\\) de la siguiente ecuación diferencial\n",
       "    \\(-u\\left(x\\right) + \\frac{\\partial^{2}}{(\\partial x)^{2}}u\\left(x\\right) = -7 \\, e^{\\left(-7 \\, x\\right)}\\) con condiciones iniciales \\(u(0)=1, \\; u'(0)=2\\)\n",
       "    y evalue en el punto dado:</p>\n",
       "    <pre>\n",
       "    u(1.97) = {1:NM:=7.63046502395139:0.228913950718542}\n",
       "    </pre>\n",
       "    "
      ],
      "text/plain": [
       "\n",
       "    <h1> EDOs lineales de 2o Orden </h1>\n",
       "    <h2> Coeficientes indeterminados: \\( \\phi(x)=Ae^{kx} \\) </h2>\n",
       "    <p> Encuentre la solución \\(u(x)\\) de la siguiente ecuación diferencial\n",
       "    \\(-u\\left(x\\right) + \\frac{\\partial^{2}}{(\\partial x)^{2}}u\\left(x\\right) = -7 \\, e^{\\left(-7 \\, x\\right)}\\) con condiciones iniciales \\(u(0)=1, \\; u'(0)=2\\)\n",
       "    y evalue en el punto dado:</p>\n",
       "    <pre>\n",
       "    u(1.97) = {1:NM:=7.63046502395139:0.228913950718542}\n",
       "    </pre>\n",
       "    "
      ]
     },
     "metadata": {},
     "output_type": "display_data"
    },
    {
     "data": {
      "text/html": [
       "\n",
       "    La solución del problema de condiciones iniciales es\n",
       "    \\(u(x)=\\frac{1}{48} \\, {\\left(51 \\, e^{\\left(8 \\, x\\right)} + 4 \\, e^{\\left(6 \\, x\\right)} - 7\\right)} e^{\\left(-7 \\, x\\right)}\\)\n",
       "    "
      ],
      "text/plain": [
       "\n",
       "    La solución del problema de condiciones iniciales es\n",
       "    \\(u(x)=\\frac{1}{48} \\, {\\left(51 \\, e^{\\left(8 \\, x\\right)} + 4 \\, e^{\\left(6 \\, x\\right)} - 7\\right)} e^{\\left(-7 \\, x\\right)}\\)\n",
       "    "
      ]
     },
     "metadata": {},
     "output_type": "display_data"
    },
    {
     "data": {
      "text/html": [
       "\n",
       "    <h1> EDOs lineales de 2o Orden </h1>\n",
       "    <h2> Coeficientes indeterminados: \\( \\phi(x)=Ae^{kx} \\) </h2>\n",
       "    <p> Encuentre la solución \\(u(x)\\) de la siguiente ecuación diferencial\n",
       "    \\(-u\\left(x\\right) - \\frac{\\partial}{\\partial x}u\\left(x\\right) + \\frac{\\partial^{2}}{(\\partial x)^{2}}u\\left(x\\right) = -4 \\, e^{\\left(4 \\, x\\right)}\\) con condiciones iniciales \\(u(0)=-2, \\; u'(0)=0\\)\n",
       "    y evalue en el punto dado:</p>\n",
       "    <pre>\n",
       "    u(1.4) = {1:NM:=-97.1996513515728:-2.91598954054718}\n",
       "    </pre>\n",
       "    "
      ],
      "text/plain": [
       "\n",
       "    <h1> EDOs lineales de 2o Orden </h1>\n",
       "    <h2> Coeficientes indeterminados: \\( \\phi(x)=Ae^{kx} \\) </h2>\n",
       "    <p> Encuentre la solución \\(u(x)\\) de la siguiente ecuación diferencial\n",
       "    \\(-u\\left(x\\right) - \\frac{\\partial}{\\partial x}u\\left(x\\right) + \\frac{\\partial^{2}}{(\\partial x)^{2}}u\\left(x\\right) = -4 \\, e^{\\left(4 \\, x\\right)}\\) con condiciones iniciales \\(u(0)=-2, \\; u'(0)=0\\)\n",
       "    y evalue en el punto dado:</p>\n",
       "    <pre>\n",
       "    u(1.4) = {1:NM:=-97.1996513515728:-2.91598954054718}\n",
       "    </pre>\n",
       "    "
      ]
     },
     "metadata": {},
     "output_type": "display_data"
    },
    {
     "data": {
      "text/html": [
       "\n",
       "    La solución del problema de condiciones iniciales es\n",
       "    \\(u(x)=\\frac{1}{11} \\, {\\left({\\left(5 \\, \\sqrt{5} - 9\\right)} e^{\\left(\\sqrt{5} x + \\frac{1}{2} \\, x\\right)} - {\\left(5 \\, \\sqrt{5} + 9\\right)} e^{\\left(\\frac{1}{2} \\, x\\right)} - 4 \\, e^{\\left(\\frac{1}{2} \\, \\sqrt{5} x + 4 \\, x\\right)}\\right)} e^{\\left(-\\frac{1}{2} \\, \\sqrt{5} x\\right)}\\)\n",
       "    "
      ],
      "text/plain": [
       "\n",
       "    La solución del problema de condiciones iniciales es\n",
       "    \\(u(x)=\\frac{1}{11} \\, {\\left({\\left(5 \\, \\sqrt{5} - 9\\right)} e^{\\left(\\sqrt{5} x + \\frac{1}{2} \\, x\\right)} - {\\left(5 \\, \\sqrt{5} + 9\\right)} e^{\\left(\\frac{1}{2} \\, x\\right)} - 4 \\, e^{\\left(\\frac{1}{2} \\, \\sqrt{5} x + 4 \\, x\\right)}\\right)} e^{\\left(-\\frac{1}{2} \\, \\sqrt{5} x\\right)}\\)\n",
       "    "
      ]
     },
     "metadata": {},
     "output_type": "display_data"
    },
    {
     "data": {
      "text/html": [
       "\n",
       "    <h1> EDOs lineales de 2o Orden </h1>\n",
       "    <h2> Coeficientes indeterminados: \\( \\phi(x)=Ae^{kx} \\) </h2>\n",
       "    <p> Encuentre la solución \\(u(x)\\) de la siguiente ecuación diferencial\n",
       "    \\(u\\left(x\\right) - \\frac{\\partial}{\\partial x}u\\left(x\\right) + \\frac{\\partial^{2}}{(\\partial x)^{2}}u\\left(x\\right) = 4 \\, e^{\\left(-5 \\, x\\right)}\\) con condiciones iniciales \\(u(0)=1, \\; u'(0)=-2\\)\n",
       "    y evalue en el punto dado:</p>\n",
       "    <pre>\n",
       "    u(1.44) = {1:NM:=-3.45722356673893:-0.103716707002168}\n",
       "    </pre>\n",
       "    "
      ],
      "text/plain": [
       "\n",
       "    <h1> EDOs lineales de 2o Orden </h1>\n",
       "    <h2> Coeficientes indeterminados: \\( \\phi(x)=Ae^{kx} \\) </h2>\n",
       "    <p> Encuentre la solución \\(u(x)\\) de la siguiente ecuación diferencial\n",
       "    \\(u\\left(x\\right) - \\frac{\\partial}{\\partial x}u\\left(x\\right) + \\frac{\\partial^{2}}{(\\partial x)^{2}}u\\left(x\\right) = 4 \\, e^{\\left(-5 \\, x\\right)}\\) con condiciones iniciales \\(u(0)=1, \\; u'(0)=-2\\)\n",
       "    y evalue en el punto dado:</p>\n",
       "    <pre>\n",
       "    u(1.44) = {1:NM:=-3.45722356673893:-0.103716707002168}\n",
       "    </pre>\n",
       "    "
      ]
     },
     "metadata": {},
     "output_type": "display_data"
    },
    {
     "data": {
      "text/html": [
       "\n",
       "    La solución del problema de condiciones iniciales es\n",
       "    \\(u(x)=-\\frac{1}{31} \\, {\\left(37 \\, \\sqrt{3} e^{\\left(\\frac{11}{2} \\, x\\right)} \\sin\\left(\\frac{1}{2} \\, \\sqrt{3} x\\right) - 27 \\, \\cos\\left(\\frac{1}{2} \\, \\sqrt{3} x\\right) e^{\\left(\\frac{11}{2} \\, x\\right)} - 4\\right)} e^{\\left(-5 \\, x\\right)}\\)\n",
       "    "
      ],
      "text/plain": [
       "\n",
       "    La solución del problema de condiciones iniciales es\n",
       "    \\(u(x)=-\\frac{1}{31} \\, {\\left(37 \\, \\sqrt{3} e^{\\left(\\frac{11}{2} \\, x\\right)} \\sin\\left(\\frac{1}{2} \\, \\sqrt{3} x\\right) - 27 \\, \\cos\\left(\\frac{1}{2} \\, \\sqrt{3} x\\right) e^{\\left(\\frac{11}{2} \\, x\\right)} - 4\\right)} e^{\\left(-5 \\, x\\right)}\\)\n",
       "    "
      ]
     },
     "metadata": {},
     "output_type": "display_data"
    },
    {
     "data": {
      "text/html": [
       "\n",
       "    <h1> EDOs lineales de 2o Orden </h1>\n",
       "    <h2> Coeficientes indeterminados: \\( \\phi(x)=Ae^{kx} \\) </h2>\n",
       "    <p> Encuentre la solución \\(u(x)\\) de la siguiente ecuación diferencial\n",
       "    \\(-u\\left(x\\right) - 2 \\, \\frac{\\partial}{\\partial x}u\\left(x\\right) + \\frac{\\partial^{2}}{(\\partial x)^{2}}u\\left(x\\right) = -3 \\, e^{\\left(-8 \\, x\\right)}\\) con condiciones iniciales \\(u(0)=1, \\; u'(0)=-2\\)\n",
       "    y evalue en el punto dado:</p>\n",
       "    <pre>\n",
       "    u(1.02) = {1:NM:=-6.65942130629072:-0.199782639188722}\n",
       "    </pre>\n",
       "    "
      ],
      "text/plain": [
       "\n",
       "    <h1> EDOs lineales de 2o Orden </h1>\n",
       "    <h2> Coeficientes indeterminados: \\( \\phi(x)=Ae^{kx} \\) </h2>\n",
       "    <p> Encuentre la solución \\(u(x)\\) de la siguiente ecuación diferencial\n",
       "    \\(-u\\left(x\\right) - 2 \\, \\frac{\\partial}{\\partial x}u\\left(x\\right) + \\frac{\\partial^{2}}{(\\partial x)^{2}}u\\left(x\\right) = -3 \\, e^{\\left(-8 \\, x\\right)}\\) con condiciones iniciales \\(u(0)=1, \\; u'(0)=-2\\)\n",
       "    y evalue en el punto dado:</p>\n",
       "    <pre>\n",
       "    u(1.02) = {1:NM:=-6.65942130629072:-0.199782639188722}\n",
       "    </pre>\n",
       "    "
      ]
     },
     "metadata": {},
     "output_type": "display_data"
    },
    {
     "data": {
      "text/html": [
       "\n",
       "    La solución del problema de condiciones iniciales es\n",
       "    \\(u(x)=-\\frac{1}{79} \\, {\\left({\\left(66 \\, \\sqrt{2} - 41\\right)} e^{\\left(2 \\, \\sqrt{2} x + 9 \\, x\\right)} - {\\left(66 \\, \\sqrt{2} + 41\\right)} e^{\\left(9 \\, x\\right)} + 3 \\, e^{\\left(\\sqrt{2} x\\right)}\\right)} e^{\\left(-\\sqrt{2} x - 8 \\, x\\right)}\\)\n",
       "    "
      ],
      "text/plain": [
       "\n",
       "    La solución del problema de condiciones iniciales es\n",
       "    \\(u(x)=-\\frac{1}{79} \\, {\\left({\\left(66 \\, \\sqrt{2} - 41\\right)} e^{\\left(2 \\, \\sqrt{2} x + 9 \\, x\\right)} - {\\left(66 \\, \\sqrt{2} + 41\\right)} e^{\\left(9 \\, x\\right)} + 3 \\, e^{\\left(\\sqrt{2} x\\right)}\\right)} e^{\\left(-\\sqrt{2} x - 8 \\, x\\right)}\\)\n",
       "    "
      ]
     },
     "metadata": {},
     "output_type": "display_data"
    },
    {
     "data": {
      "text/html": [
       "\n",
       "    <h1> EDOs lineales de 2o Orden </h1>\n",
       "    <h2> Coeficientes indeterminados: \\( \\phi(x)=Ae^{kx} \\) </h2>\n",
       "    <p> Encuentre la solución \\(u(x)\\) de la siguiente ecuación diferencial\n",
       "    \\(u\\left(x\\right) + \\frac{\\partial^{2}}{(\\partial x)^{2}}u\\left(x\\right) = 4 \\, e^{\\left(-2 \\, x\\right)}\\) con condiciones iniciales \\(u(0)=-1, \\; u'(0)=-1\\)\n",
       "    y evalue en el punto dado:</p>\n",
       "    <pre>\n",
       "    u(1.11) = {1:NM:=-0.176084231667077:-0.00528252695001232}\n",
       "    </pre>\n",
       "    "
      ],
      "text/plain": [
       "\n",
       "    <h1> EDOs lineales de 2o Orden </h1>\n",
       "    <h2> Coeficientes indeterminados: \\( \\phi(x)=Ae^{kx} \\) </h2>\n",
       "    <p> Encuentre la solución \\(u(x)\\) de la siguiente ecuación diferencial\n",
       "    \\(u\\left(x\\right) + \\frac{\\partial^{2}}{(\\partial x)^{2}}u\\left(x\\right) = 4 \\, e^{\\left(-2 \\, x\\right)}\\) con condiciones iniciales \\(u(0)=-1, \\; u'(0)=-1\\)\n",
       "    y evalue en el punto dado:</p>\n",
       "    <pre>\n",
       "    u(1.11) = {1:NM:=-0.176084231667077:-0.00528252695001232}\n",
       "    </pre>\n",
       "    "
      ]
     },
     "metadata": {},
     "output_type": "display_data"
    },
    {
     "data": {
      "text/html": [
       "\n",
       "    La solución del problema de condiciones iniciales es\n",
       "    \\(u(x)=-\\frac{1}{5} \\, {\\left(9 \\, \\cos\\left(x\\right) e^{\\left(2 \\, x\\right)} - 3 \\, e^{\\left(2 \\, x\\right)} \\sin\\left(x\\right) - 4\\right)} e^{\\left(-2 \\, x\\right)}\\)\n",
       "    "
      ],
      "text/plain": [
       "\n",
       "    La solución del problema de condiciones iniciales es\n",
       "    \\(u(x)=-\\frac{1}{5} \\, {\\left(9 \\, \\cos\\left(x\\right) e^{\\left(2 \\, x\\right)} - 3 \\, e^{\\left(2 \\, x\\right)} \\sin\\left(x\\right) - 4\\right)} e^{\\left(-2 \\, x\\right)}\\)\n",
       "    "
      ]
     },
     "metadata": {},
     "output_type": "display_data"
    },
    {
     "data": {
      "text/html": [
       "\n",
       "    <h1> EDOs lineales de 2o Orden </h1>\n",
       "    <h2> Coeficientes indeterminados: \\( \\phi(x)=Ae^{kx} \\) </h2>\n",
       "    <p> Encuentre la solución \\(u(x)\\) de la siguiente ecuación diferencial\n",
       "    \\(2 \\, u\\left(x\\right) + 2 \\, \\frac{\\partial}{\\partial x}u\\left(x\\right) + \\frac{\\partial^{2}}{(\\partial x)^{2}}u\\left(x\\right) = -9 \\, e^{\\left(-2 \\, x\\right)}\\) con condiciones iniciales \\(u(0)=0, \\; u'(0)=-1\\)\n",
       "    y evalue en el punto dado:</p>\n",
       "    <pre>\n",
       "    u(1.06) = {1:NM:=-1.44024518901662:-0.0432073556704985}\n",
       "    </pre>\n",
       "    "
      ],
      "text/plain": [
       "\n",
       "    <h1> EDOs lineales de 2o Orden </h1>\n",
       "    <h2> Coeficientes indeterminados: \\( \\phi(x)=Ae^{kx} \\) </h2>\n",
       "    <p> Encuentre la solución \\(u(x)\\) de la siguiente ecuación diferencial\n",
       "    \\(2 \\, u\\left(x\\right) + 2 \\, \\frac{\\partial}{\\partial x}u\\left(x\\right) + \\frac{\\partial^{2}}{(\\partial x)^{2}}u\\left(x\\right) = -9 \\, e^{\\left(-2 \\, x\\right)}\\) con condiciones iniciales \\(u(0)=0, \\; u'(0)=-1\\)\n",
       "    y evalue en el punto dado:</p>\n",
       "    <pre>\n",
       "    u(1.06) = {1:NM:=-1.44024518901662:-0.0432073556704985}\n",
       "    </pre>\n",
       "    "
      ]
     },
     "metadata": {},
     "output_type": "display_data"
    },
    {
     "data": {
      "text/html": [
       "\n",
       "    La solución del problema de condiciones iniciales es\n",
       "    \\(u(x)=\\frac{1}{2} \\, {\\left(9 \\, \\cos\\left(x\\right) e^{x} - 11 \\, e^{x} \\sin\\left(x\\right) - 9\\right)} e^{\\left(-2 \\, x\\right)}\\)\n",
       "    "
      ],
      "text/plain": [
       "\n",
       "    La solución del problema de condiciones iniciales es\n",
       "    \\(u(x)=\\frac{1}{2} \\, {\\left(9 \\, \\cos\\left(x\\right) e^{x} - 11 \\, e^{x} \\sin\\left(x\\right) - 9\\right)} e^{\\left(-2 \\, x\\right)}\\)\n",
       "    "
      ]
     },
     "metadata": {},
     "output_type": "display_data"
    },
    {
     "data": {
      "text/html": [
       "\n",
       "    <h1> EDOs lineales de 2o Orden </h1>\n",
       "    <h2> Coeficientes indeterminados: \\( \\phi(x)=Ae^{kx} \\) </h2>\n",
       "    <p> Encuentre la solución \\(u(x)\\) de la siguiente ecuación diferencial\n",
       "    \\(2 \\, u\\left(x\\right) + \\frac{\\partial^{2}}{(\\partial x)^{2}}u\\left(x\\right) = 5 \\, e^{\\left(9 \\, x\\right)}\\) con condiciones iniciales \\(u(0)=1, \\; u'(0)=0\\)\n",
       "    y evalue en el punto dado:</p>\n",
       "    <pre>\n",
       "    u(1.65) = {1:NM:=169497.225856751:5084.91677570252}\n",
       "    </pre>\n",
       "    "
      ],
      "text/plain": [
       "\n",
       "    <h1> EDOs lineales de 2o Orden </h1>\n",
       "    <h2> Coeficientes indeterminados: \\( \\phi(x)=Ae^{kx} \\) </h2>\n",
       "    <p> Encuentre la solución \\(u(x)\\) de la siguiente ecuación diferencial\n",
       "    \\(2 \\, u\\left(x\\right) + \\frac{\\partial^{2}}{(\\partial x)^{2}}u\\left(x\\right) = 5 \\, e^{\\left(9 \\, x\\right)}\\) con condiciones iniciales \\(u(0)=1, \\; u'(0)=0\\)\n",
       "    y evalue en el punto dado:</p>\n",
       "    <pre>\n",
       "    u(1.65) = {1:NM:=169497.225856751:5084.91677570252}\n",
       "    </pre>\n",
       "    "
      ]
     },
     "metadata": {},
     "output_type": "display_data"
    },
    {
     "data": {
      "text/html": [
       "\n",
       "    La solución del problema de condiciones iniciales es\n",
       "    \\(u(x)=\\frac{1}{166} \\, \\sqrt{2} {\\left(78 \\, \\sqrt{2} \\cos\\left(\\sqrt{2} x\\right) + 5 \\, \\sqrt{2} e^{\\left(9 \\, x\\right)} - 45 \\, \\sin\\left(\\sqrt{2} x\\right)\\right)}\\)\n",
       "    "
      ],
      "text/plain": [
       "\n",
       "    La solución del problema de condiciones iniciales es\n",
       "    \\(u(x)=\\frac{1}{166} \\, \\sqrt{2} {\\left(78 \\, \\sqrt{2} \\cos\\left(\\sqrt{2} x\\right) + 5 \\, \\sqrt{2} e^{\\left(9 \\, x\\right)} - 45 \\, \\sin\\left(\\sqrt{2} x\\right)\\right)}\\)\n",
       "    "
      ]
     },
     "metadata": {},
     "output_type": "display_data"
    },
    {
     "data": {
      "text/html": [
       "\n",
       "    <h1> EDOs lineales de 2o Orden </h1>\n",
       "    <h2> Coeficientes indeterminados: \\( \\phi(x)=Ae^{kx} \\) </h2>\n",
       "    <p> Encuentre la solución \\(u(x)\\) de la siguiente ecuación diferencial\n",
       "    \\(2 \\, u\\left(x\\right) - \\frac{\\partial}{\\partial x}u\\left(x\\right) + \\frac{\\partial^{2}}{(\\partial x)^{2}}u\\left(x\\right) = -5 \\, e^{\\left(-5 \\, x\\right)}\\) con condiciones iniciales \\(u(0)=2, \\; u'(0)=-2\\)\n",
       "    y evalue en el punto dado:</p>\n",
       "    <pre>\n",
       "    u(1.61) = {1:NM:=-8.08994386092640:-0.242698315827792}\n",
       "    </pre>\n",
       "    "
      ],
      "text/plain": [
       "\n",
       "    <h1> EDOs lineales de 2o Orden </h1>\n",
       "    <h2> Coeficientes indeterminados: \\( \\phi(x)=Ae^{kx} \\) </h2>\n",
       "    <p> Encuentre la solución \\(u(x)\\) de la siguiente ecuación diferencial\n",
       "    \\(2 \\, u\\left(x\\right) - \\frac{\\partial}{\\partial x}u\\left(x\\right) + \\frac{\\partial^{2}}{(\\partial x)^{2}}u\\left(x\\right) = -5 \\, e^{\\left(-5 \\, x\\right)}\\) con condiciones iniciales \\(u(0)=2, \\; u'(0)=-2\\)\n",
       "    y evalue en el punto dado:</p>\n",
       "    <pre>\n",
       "    u(1.61) = {1:NM:=-8.08994386092640:-0.242698315827792}\n",
       "    </pre>\n",
       "    "
      ]
     },
     "metadata": {},
     "output_type": "display_data"
    },
    {
     "data": {
      "text/html": [
       "\n",
       "    La solución del problema de condiciones iniciales es\n",
       "    \\(u(x)=-\\frac{1}{224} \\, {\\left(247 \\, \\sqrt{7} e^{\\left(\\frac{11}{2} \\, x\\right)} \\sin\\left(\\frac{1}{2} \\, \\sqrt{7} x\\right) - 483 \\, \\cos\\left(\\frac{1}{2} \\, \\sqrt{7} x\\right) e^{\\left(\\frac{11}{2} \\, x\\right)} + 35\\right)} e^{\\left(-5 \\, x\\right)}\\)\n",
       "    "
      ],
      "text/plain": [
       "\n",
       "    La solución del problema de condiciones iniciales es\n",
       "    \\(u(x)=-\\frac{1}{224} \\, {\\left(247 \\, \\sqrt{7} e^{\\left(\\frac{11}{2} \\, x\\right)} \\sin\\left(\\frac{1}{2} \\, \\sqrt{7} x\\right) - 483 \\, \\cos\\left(\\frac{1}{2} \\, \\sqrt{7} x\\right) e^{\\left(\\frac{11}{2} \\, x\\right)} + 35\\right)} e^{\\left(-5 \\, x\\right)}\\)\n",
       "    "
      ]
     },
     "metadata": {},
     "output_type": "display_data"
    },
    {
     "data": {
      "text/html": [
       "\n",
       "    <h1> EDOs lineales de 2o Orden </h1>\n",
       "    <h2> Coeficientes indeterminados: \\( \\phi(x)=Ae^{kx} \\) </h2>\n",
       "    <p> Encuentre la solución \\(u(x)\\) de la siguiente ecuación diferencial\n",
       "    \\(-u\\left(x\\right) + \\frac{\\partial}{\\partial x}u\\left(x\\right) + \\frac{\\partial^{2}}{(\\partial x)^{2}}u\\left(x\\right) = 3 \\, e^{\\left(4 \\, x\\right)}\\) con condiciones iniciales \\(u(0)=-1, \\; u'(0)=0\\)\n",
       "    y evalue en el punto dado:</p>\n",
       "    <pre>\n",
       "    u(1.6) = {1:NM:=92.0137731007519:2.76041319302256}\n",
       "    </pre>\n",
       "    "
      ],
      "text/plain": [
       "\n",
       "    <h1> EDOs lineales de 2o Orden </h1>\n",
       "    <h2> Coeficientes indeterminados: \\( \\phi(x)=Ae^{kx} \\) </h2>\n",
       "    <p> Encuentre la solución \\(u(x)\\) de la siguiente ecuación diferencial\n",
       "    \\(-u\\left(x\\right) + \\frac{\\partial}{\\partial x}u\\left(x\\right) + \\frac{\\partial^{2}}{(\\partial x)^{2}}u\\left(x\\right) = 3 \\, e^{\\left(4 \\, x\\right)}\\) con condiciones iniciales \\(u(0)=-1, \\; u'(0)=0\\)\n",
       "    y evalue en el punto dado:</p>\n",
       "    <pre>\n",
       "    u(1.6) = {1:NM:=92.0137731007519:2.76041319302256}\n",
       "    </pre>\n",
       "    "
      ]
     },
     "metadata": {},
     "output_type": "display_data"
    },
    {
     "data": {
      "text/html": [
       "\n",
       "    La solución del problema de condiciones iniciales es\n",
       "    \\(u(x)=-\\frac{1}{95} \\, {\\left({\\left(23 \\, \\sqrt{5} + 55\\right)} e^{\\left(\\sqrt{5} x\\right)} - 23 \\, \\sqrt{5} - 15 \\, e^{\\left(\\frac{1}{2} \\, \\sqrt{5} x + \\frac{9}{2} \\, x\\right)} + 55\\right)} e^{\\left(-\\frac{1}{2} \\, \\sqrt{5} x - \\frac{1}{2} \\, x\\right)}\\)\n",
       "    "
      ],
      "text/plain": [
       "\n",
       "    La solución del problema de condiciones iniciales es\n",
       "    \\(u(x)=-\\frac{1}{95} \\, {\\left({\\left(23 \\, \\sqrt{5} + 55\\right)} e^{\\left(\\sqrt{5} x\\right)} - 23 \\, \\sqrt{5} - 15 \\, e^{\\left(\\frac{1}{2} \\, \\sqrt{5} x + \\frac{9}{2} \\, x\\right)} + 55\\right)} e^{\\left(-\\frac{1}{2} \\, \\sqrt{5} x - \\frac{1}{2} \\, x\\right)}\\)\n",
       "    "
      ]
     },
     "metadata": {},
     "output_type": "display_data"
    },
    {
     "data": {
      "text/html": [
       "\n",
       "    <h1> EDOs lineales de 2o Orden </h1>\n",
       "    <h2> Coeficientes indeterminados: \\( \\phi(x)=Ae^{kx} \\) </h2>\n",
       "    <p> Encuentre la solución \\(u(x)\\) de la siguiente ecuación diferencial\n",
       "    \\(-2 \\, u\\left(x\\right) + 2 \\, \\frac{\\partial}{\\partial x}u\\left(x\\right) + \\frac{\\partial^{2}}{(\\partial x)^{2}}u\\left(x\\right) = 4 \\, e^{\\left(8 \\, x\\right)}\\) con condiciones iniciales \\(u(0)=-2, \\; u'(0)=-1\\)\n",
       "    y evalue en el punto dado:</p>\n",
       "    <pre>\n",
       "    u(1.23) = {1:NM:=957.566065806218:28.7269819741865}\n",
       "    </pre>\n",
       "    "
      ],
      "text/plain": [
       "\n",
       "    <h1> EDOs lineales de 2o Orden </h1>\n",
       "    <h2> Coeficientes indeterminados: \\( \\phi(x)=Ae^{kx} \\) </h2>\n",
       "    <p> Encuentre la solución \\(u(x)\\) de la siguiente ecuación diferencial\n",
       "    \\(-2 \\, u\\left(x\\right) + 2 \\, \\frac{\\partial}{\\partial x}u\\left(x\\right) + \\frac{\\partial^{2}}{(\\partial x)^{2}}u\\left(x\\right) = 4 \\, e^{\\left(8 \\, x\\right)}\\) con condiciones iniciales \\(u(0)=-2, \\; u'(0)=-1\\)\n",
       "    y evalue en el punto dado:</p>\n",
       "    <pre>\n",
       "    u(1.23) = {1:NM:=957.566065806218:28.7269819741865}\n",
       "    </pre>\n",
       "    "
      ]
     },
     "metadata": {},
     "output_type": "display_data"
    },
    {
     "data": {
      "text/html": [
       "\n",
       "    La solución del problema de condiciones iniciales es\n",
       "    \\(u(x)=-\\frac{1}{78} \\, {\\left(5 \\, {\\left(9 \\, \\sqrt{3} + 16\\right)} e^{\\left(2 \\, \\sqrt{3} x\\right)} - 45 \\, \\sqrt{3} - 4 \\, e^{\\left(\\sqrt{3} x + 9 \\, x\\right)} + 80\\right)} e^{\\left(-\\sqrt{3} x - x\\right)}\\)\n",
       "    "
      ],
      "text/plain": [
       "\n",
       "    La solución del problema de condiciones iniciales es\n",
       "    \\(u(x)=-\\frac{1}{78} \\, {\\left(5 \\, {\\left(9 \\, \\sqrt{3} + 16\\right)} e^{\\left(2 \\, \\sqrt{3} x\\right)} - 45 \\, \\sqrt{3} - 4 \\, e^{\\left(\\sqrt{3} x + 9 \\, x\\right)} + 80\\right)} e^{\\left(-\\sqrt{3} x - x\\right)}\\)\n",
       "    "
      ]
     },
     "metadata": {},
     "output_type": "display_data"
    },
    {
     "data": {
      "text/html": [
       "\n",
       "    <h1> EDOs lineales de 2o Orden </h1>\n",
       "    <h2> Coeficientes indeterminados: \\( \\phi(x)=Ae^{kx} \\) </h2>\n",
       "    <p> Encuentre la solución \\(u(x)\\) de la siguiente ecuación diferencial\n",
       "    \\(u\\left(x\\right) - 2 \\, \\frac{\\partial}{\\partial x}u\\left(x\\right) + \\frac{\\partial^{2}}{(\\partial x)^{2}}u\\left(x\\right) = -2 \\, e^{\\left(-9 \\, x\\right)}\\) con condiciones iniciales \\(u(0)=-2, \\; u'(0)=2\\)\n",
       "    y evalue en el punto dado:</p>\n",
       "    <pre>\n",
       "    u(1.57) = {1:NM:=19.1592996857846:0.574778990573539}\n",
       "    </pre>\n",
       "    "
      ],
      "text/plain": [
       "\n",
       "    <h1> EDOs lineales de 2o Orden </h1>\n",
       "    <h2> Coeficientes indeterminados: \\( \\phi(x)=Ae^{kx} \\) </h2>\n",
       "    <p> Encuentre la solución \\(u(x)\\) de la siguiente ecuación diferencial\n",
       "    \\(u\\left(x\\right) - 2 \\, \\frac{\\partial}{\\partial x}u\\left(x\\right) + \\frac{\\partial^{2}}{(\\partial x)^{2}}u\\left(x\\right) = -2 \\, e^{\\left(-9 \\, x\\right)}\\) con condiciones iniciales \\(u(0)=-2, \\; u'(0)=2\\)\n",
       "    y evalue en el punto dado:</p>\n",
       "    <pre>\n",
       "    u(1.57) = {1:NM:=19.1592996857846:0.574778990573539}\n",
       "    </pre>\n",
       "    "
      ]
     },
     "metadata": {},
     "output_type": "display_data"
    },
    {
     "data": {
      "text/html": [
       "\n",
       "    La solución del problema de condiciones iniciales es\n",
       "    \\(u(x)=\\frac{1}{50} \\, {\\left({\\left(190 \\, x - 99\\right)} e^{\\left(10 \\, x\\right)} - 1\\right)} e^{\\left(-9 \\, x\\right)}\\)\n",
       "    "
      ],
      "text/plain": [
       "\n",
       "    La solución del problema de condiciones iniciales es\n",
       "    \\(u(x)=\\frac{1}{50} \\, {\\left({\\left(190 \\, x - 99\\right)} e^{\\left(10 \\, x\\right)} - 1\\right)} e^{\\left(-9 \\, x\\right)}\\)\n",
       "    "
      ]
     },
     "metadata": {},
     "output_type": "display_data"
    },
    {
     "data": {
      "text/html": [
       "\n",
       "    <h1> EDOs lineales de 2o Orden </h1>\n",
       "    <h2> Coeficientes indeterminados: \\( \\phi(x)=Ae^{kx} \\) </h2>\n",
       "    <p> Encuentre la solución \\(u(x)\\) de la siguiente ecuación diferencial\n",
       "    \\(2 \\, u\\left(x\\right) - \\frac{\\partial}{\\partial x}u\\left(x\\right) + \\frac{\\partial^{2}}{(\\partial x)^{2}}u\\left(x\\right) = -8 \\, e^{\\left(4 \\, x\\right)}\\) con condiciones iniciales \\(u(0)=-1, \\; u'(0)=-2\\)\n",
       "    y evalue en el punto dado:</p>\n",
       "    <pre>\n",
       "    u(1.99) = {1:NM:=-1635.10270410431:-49.0530811231293}\n",
       "    </pre>\n",
       "    "
      ],
      "text/plain": [
       "\n",
       "    <h1> EDOs lineales de 2o Orden </h1>\n",
       "    <h2> Coeficientes indeterminados: \\( \\phi(x)=Ae^{kx} \\) </h2>\n",
       "    <p> Encuentre la solución \\(u(x)\\) de la siguiente ecuación diferencial\n",
       "    \\(2 \\, u\\left(x\\right) - \\frac{\\partial}{\\partial x}u\\left(x\\right) + \\frac{\\partial^{2}}{(\\partial x)^{2}}u\\left(x\\right) = -8 \\, e^{\\left(4 \\, x\\right)}\\) con condiciones iniciales \\(u(0)=-1, \\; u'(0)=-2\\)\n",
       "    y evalue en el punto dado:</p>\n",
       "    <pre>\n",
       "    u(1.99) = {1:NM:=-1635.10270410431:-49.0530811231293}\n",
       "    </pre>\n",
       "    "
      ]
     },
     "metadata": {},
     "output_type": "display_data"
    },
    {
     "data": {
      "text/html": [
       "\n",
       "    La solución del problema de condiciones iniciales es\n",
       "    \\(u(x)=-\\frac{1}{49} \\, \\sqrt{7} {\\left(3 \\, \\sqrt{7} \\cos\\left(\\frac{1}{2} \\, \\sqrt{7} x\\right) e^{\\left(\\frac{1}{2} \\, x\\right)} - 7 \\, e^{\\left(\\frac{1}{2} \\, x\\right)} \\sin\\left(\\frac{1}{2} \\, \\sqrt{7} x\\right) + 4 \\, \\sqrt{7} e^{\\left(4 \\, x\\right)}\\right)}\\)\n",
       "    "
      ],
      "text/plain": [
       "\n",
       "    La solución del problema de condiciones iniciales es\n",
       "    \\(u(x)=-\\frac{1}{49} \\, \\sqrt{7} {\\left(3 \\, \\sqrt{7} \\cos\\left(\\frac{1}{2} \\, \\sqrt{7} x\\right) e^{\\left(\\frac{1}{2} \\, x\\right)} - 7 \\, e^{\\left(\\frac{1}{2} \\, x\\right)} \\sin\\left(\\frac{1}{2} \\, \\sqrt{7} x\\right) + 4 \\, \\sqrt{7} e^{\\left(4 \\, x\\right)}\\right)}\\)\n",
       "    "
      ]
     },
     "metadata": {},
     "output_type": "display_data"
    },
    {
     "data": {
      "text/html": [
       "\n",
       "    <h1> EDOs lineales de 2o Orden </h1>\n",
       "    <h2> Coeficientes indeterminados: \\( \\phi(x)=Ae^{kx} \\) </h2>\n",
       "    <p> Encuentre la solución \\(u(x)\\) de la siguiente ecuación diferencial\n",
       "    \\(u\\left(x\\right) - \\frac{\\partial}{\\partial x}u\\left(x\\right) + \\frac{\\partial^{2}}{(\\partial x)^{2}}u\\left(x\\right) = 7 \\, e^{\\left(-9 \\, x\\right)}\\) con condiciones iniciales \\(u(0)=1, \\; u'(0)=-1\\)\n",
       "    y evalue en el punto dado:</p>\n",
       "    <pre>\n",
       "    u(1.33) = {1:NM:=-0.847536152628781:-0.0254260845788634}\n",
       "    </pre>\n",
       "    "
      ],
      "text/plain": [
       "\n",
       "    <h1> EDOs lineales de 2o Orden </h1>\n",
       "    <h2> Coeficientes indeterminados: \\( \\phi(x)=Ae^{kx} \\) </h2>\n",
       "    <p> Encuentre la solución \\(u(x)\\) de la siguiente ecuación diferencial\n",
       "    \\(u\\left(x\\right) - \\frac{\\partial}{\\partial x}u\\left(x\\right) + \\frac{\\partial^{2}}{(\\partial x)^{2}}u\\left(x\\right) = 7 \\, e^{\\left(-9 \\, x\\right)}\\) con condiciones iniciales \\(u(0)=1, \\; u'(0)=-1\\)\n",
       "    y evalue en el punto dado:</p>\n",
       "    <pre>\n",
       "    u(1.33) = {1:NM:=-0.847536152628781:-0.0254260845788634}\n",
       "    </pre>\n",
       "    "
      ]
     },
     "metadata": {},
     "output_type": "display_data"
    },
    {
     "data": {
      "text/html": [
       "\n",
       "    La solución del problema de condiciones iniciales es\n",
       "    \\(u(x)=-\\frac{1}{39} \\, {\\left(20 \\, \\sqrt{3} e^{\\left(\\frac{19}{2} \\, x\\right)} \\sin\\left(\\frac{1}{2} \\, \\sqrt{3} x\\right) - 36 \\, \\cos\\left(\\frac{1}{2} \\, \\sqrt{3} x\\right) e^{\\left(\\frac{19}{2} \\, x\\right)} - 3\\right)} e^{\\left(-9 \\, x\\right)}\\)\n",
       "    "
      ],
      "text/plain": [
       "\n",
       "    La solución del problema de condiciones iniciales es\n",
       "    \\(u(x)=-\\frac{1}{39} \\, {\\left(20 \\, \\sqrt{3} e^{\\left(\\frac{19}{2} \\, x\\right)} \\sin\\left(\\frac{1}{2} \\, \\sqrt{3} x\\right) - 36 \\, \\cos\\left(\\frac{1}{2} \\, \\sqrt{3} x\\right) e^{\\left(\\frac{19}{2} \\, x\\right)} - 3\\right)} e^{\\left(-9 \\, x\\right)}\\)\n",
       "    "
      ]
     },
     "metadata": {},
     "output_type": "display_data"
    },
    {
     "data": {
      "text/html": [
       "\n",
       "    <h1> EDOs lineales de 2o Orden </h1>\n",
       "    <h2> Coeficientes indeterminados: \\( \\phi(x)=Ae^{kx} \\) </h2>\n",
       "    <p> Encuentre la solución \\(u(x)\\) de la siguiente ecuación diferencial\n",
       "    \\(-u\\left(x\\right) + \\frac{\\partial}{\\partial x}u\\left(x\\right) + \\frac{\\partial^{2}}{(\\partial x)^{2}}u\\left(x\\right) = -7 \\, e^{\\left(8 \\, x\\right)}\\) con condiciones iniciales \\(u(0)=0, \\; u'(0)=-2\\)\n",
       "    y evalue en el punto dado:</p>\n",
       "    <pre>\n",
       "    u(1.31) = {1:NM:=-3510.49356702194:-105.314807010658}\n",
       "    </pre>\n",
       "    "
      ],
      "text/plain": [
       "\n",
       "    <h1> EDOs lineales de 2o Orden </h1>\n",
       "    <h2> Coeficientes indeterminados: \\( \\phi(x)=Ae^{kx} \\) </h2>\n",
       "    <p> Encuentre la solución \\(u(x)\\) de la siguiente ecuación diferencial\n",
       "    \\(-u\\left(x\\right) + \\frac{\\partial}{\\partial x}u\\left(x\\right) + \\frac{\\partial^{2}}{(\\partial x)^{2}}u\\left(x\\right) = -7 \\, e^{\\left(8 \\, x\\right)}\\) con condiciones iniciales \\(u(0)=0, \\; u'(0)=-2\\)\n",
       "    y evalue en el punto dado:</p>\n",
       "    <pre>\n",
       "    u(1.31) = {1:NM:=-3510.49356702194:-105.314807010658}\n",
       "    </pre>\n",
       "    "
      ]
     },
     "metadata": {},
     "output_type": "display_data"
    },
    {
     "data": {
      "text/html": [
       "\n",
       "    La solución del problema de condiciones iniciales es\n",
       "    \\(u(x)=-\\frac{1}{142} \\, {\\left({\\left(33 \\, \\sqrt{5} - 7\\right)} e^{\\left(\\sqrt{5} x\\right)} - 33 \\, \\sqrt{5} + 14 \\, e^{\\left(\\frac{1}{2} \\, \\sqrt{5} x + \\frac{17}{2} \\, x\\right)} - 7\\right)} e^{\\left(-\\frac{1}{2} \\, \\sqrt{5} x - \\frac{1}{2} \\, x\\right)}\\)\n",
       "    "
      ],
      "text/plain": [
       "\n",
       "    La solución del problema de condiciones iniciales es\n",
       "    \\(u(x)=-\\frac{1}{142} \\, {\\left({\\left(33 \\, \\sqrt{5} - 7\\right)} e^{\\left(\\sqrt{5} x\\right)} - 33 \\, \\sqrt{5} + 14 \\, e^{\\left(\\frac{1}{2} \\, \\sqrt{5} x + \\frac{17}{2} \\, x\\right)} - 7\\right)} e^{\\left(-\\frac{1}{2} \\, \\sqrt{5} x - \\frac{1}{2} \\, x\\right)}\\)\n",
       "    "
      ]
     },
     "metadata": {},
     "output_type": "display_data"
    },
    {
     "data": {
      "text/html": [
       "\n",
       "    <h1> EDOs lineales de 2o Orden </h1>\n",
       "    <h2> Coeficientes indeterminados: \\( \\phi(x)=Ae^{kx} \\) </h2>\n",
       "    <p> Encuentre la solución \\(u(x)\\) de la siguiente ecuación diferencial\n",
       "    \\(u\\left(x\\right) + \\frac{\\partial}{\\partial x}u\\left(x\\right) + \\frac{\\partial^{2}}{(\\partial x)^{2}}u\\left(x\\right) = 4 \\, e^{x}\\) con condiciones iniciales \\(u(0)=-2, \\; u'(0)=1\\)\n",
       "    y evalue en el punto dado:</p>\n",
       "    <pre>\n",
       "    u(1.78) = {1:NM:=6.91845053006224:0.207553515901867}\n",
       "    </pre>\n",
       "    "
      ],
      "text/plain": [
       "\n",
       "    <h1> EDOs lineales de 2o Orden </h1>\n",
       "    <h2> Coeficientes indeterminados: \\( \\phi(x)=Ae^{kx} \\) </h2>\n",
       "    <p> Encuentre la solución \\(u(x)\\) de la siguiente ecuación diferencial\n",
       "    \\(u\\left(x\\right) + \\frac{\\partial}{\\partial x}u\\left(x\\right) + \\frac{\\partial^{2}}{(\\partial x)^{2}}u\\left(x\\right) = 4 \\, e^{x}\\) con condiciones iniciales \\(u(0)=-2, \\; u'(0)=1\\)\n",
       "    y evalue en el punto dado:</p>\n",
       "    <pre>\n",
       "    u(1.78) = {1:NM:=6.91845053006224:0.207553515901867}\n",
       "    </pre>\n",
       "    "
      ]
     },
     "metadata": {},
     "output_type": "display_data"
    },
    {
     "data": {
      "text/html": [
       "\n",
       "    La solución del problema de condiciones iniciales es\n",
       "    \\(u(x)=-\\frac{2}{3} \\, {\\left(2 \\, \\sqrt{3} \\sin\\left(\\frac{1}{2} \\, \\sqrt{3} x\\right) + 5 \\, \\cos\\left(\\frac{1}{2} \\, \\sqrt{3} x\\right) - 2 \\, e^{\\left(\\frac{3}{2} \\, x\\right)}\\right)} e^{\\left(-\\frac{1}{2} \\, x\\right)}\\)\n",
       "    "
      ],
      "text/plain": [
       "\n",
       "    La solución del problema de condiciones iniciales es\n",
       "    \\(u(x)=-\\frac{2}{3} \\, {\\left(2 \\, \\sqrt{3} \\sin\\left(\\frac{1}{2} \\, \\sqrt{3} x\\right) + 5 \\, \\cos\\left(\\frac{1}{2} \\, \\sqrt{3} x\\right) - 2 \\, e^{\\left(\\frac{3}{2} \\, x\\right)}\\right)} e^{\\left(-\\frac{1}{2} \\, x\\right)}\\)\n",
       "    "
      ]
     },
     "metadata": {},
     "output_type": "display_data"
    },
    {
     "data": {
      "text/html": [
       "\n",
       "    <h1> EDOs lineales de 2o Orden </h1>\n",
       "    <h2> Coeficientes indeterminados: \\( \\phi(x)=Ae^{kx} \\) </h2>\n",
       "    <p> Encuentre la solución \\(u(x)\\) de la siguiente ecuación diferencial\n",
       "    \\(2 \\, u\\left(x\\right) + 2 \\, \\frac{\\partial}{\\partial x}u\\left(x\\right) + \\frac{\\partial^{2}}{(\\partial x)^{2}}u\\left(x\\right) = 3 \\, e^{\\left(3 \\, x\\right)}\\) con condiciones iniciales \\(u(0)=0, \\; u'(0)=2\\)\n",
       "    y evalue en el punto dado:</p>\n",
       "    <pre>\n",
       "    u(1.76) = {1:NM:=34.8778906084821:1.04633671825446}\n",
       "    </pre>\n",
       "    "
      ],
      "text/plain": [
       "\n",
       "    <h1> EDOs lineales de 2o Orden </h1>\n",
       "    <h2> Coeficientes indeterminados: \\( \\phi(x)=Ae^{kx} \\) </h2>\n",
       "    <p> Encuentre la solución \\(u(x)\\) de la siguiente ecuación diferencial\n",
       "    \\(2 \\, u\\left(x\\right) + 2 \\, \\frac{\\partial}{\\partial x}u\\left(x\\right) + \\frac{\\partial^{2}}{(\\partial x)^{2}}u\\left(x\\right) = 3 \\, e^{\\left(3 \\, x\\right)}\\) con condiciones iniciales \\(u(0)=0, \\; u'(0)=2\\)\n",
       "    y evalue en el punto dado:</p>\n",
       "    <pre>\n",
       "    u(1.76) = {1:NM:=34.8778906084821:1.04633671825446}\n",
       "    </pre>\n",
       "    "
      ]
     },
     "metadata": {},
     "output_type": "display_data"
    },
    {
     "data": {
      "text/html": [
       "\n",
       "    La solución del problema de condiciones iniciales es\n",
       "    \\(u(x)=-\\frac{1}{17} \\, {\\left(3 \\, \\cos\\left(x\\right) - 3 \\, e^{\\left(4 \\, x\\right)} - 22 \\, \\sin\\left(x\\right)\\right)} e^{\\left(-x\\right)}\\)\n",
       "    "
      ],
      "text/plain": [
       "\n",
       "    La solución del problema de condiciones iniciales es\n",
       "    \\(u(x)=-\\frac{1}{17} \\, {\\left(3 \\, \\cos\\left(x\\right) - 3 \\, e^{\\left(4 \\, x\\right)} - 22 \\, \\sin\\left(x\\right)\\right)} e^{\\left(-x\\right)}\\)\n",
       "    "
      ]
     },
     "metadata": {},
     "output_type": "display_data"
    },
    {
     "data": {
      "text/html": [
       "\n",
       "    <h1> EDOs lineales de 2o Orden </h1>\n",
       "    <h2> Coeficientes indeterminados: \\( \\phi(x)=Ae^{kx} \\) </h2>\n",
       "    <p> Encuentre la solución \\(u(x)\\) de la siguiente ecuación diferencial\n",
       "    \\(-u\\left(x\\right) - 2 \\, \\frac{\\partial}{\\partial x}u\\left(x\\right) + \\frac{\\partial^{2}}{(\\partial x)^{2}}u\\left(x\\right) = 2 \\, e^{x}\\) con condiciones iniciales \\(u(0)=-1, \\; u'(0)=-2\\)\n",
       "    y evalue en el punto dado:</p>\n",
       "    <pre>\n",
       "    u(1.78) = {1:NM:=-31.7472722469907:-0.952418167409722}\n",
       "    </pre>\n",
       "    "
      ],
      "text/plain": [
       "\n",
       "    <h1> EDOs lineales de 2o Orden </h1>\n",
       "    <h2> Coeficientes indeterminados: \\( \\phi(x)=Ae^{kx} \\) </h2>\n",
       "    <p> Encuentre la solución \\(u(x)\\) de la siguiente ecuación diferencial\n",
       "    \\(-u\\left(x\\right) - 2 \\, \\frac{\\partial}{\\partial x}u\\left(x\\right) + \\frac{\\partial^{2}}{(\\partial x)^{2}}u\\left(x\\right) = 2 \\, e^{x}\\) con condiciones iniciales \\(u(0)=-1, \\; u'(0)=-2\\)\n",
       "    y evalue en el punto dado:</p>\n",
       "    <pre>\n",
       "    u(1.78) = {1:NM:=-31.7472722469907:-0.952418167409722}\n",
       "    </pre>\n",
       "    "
      ]
     },
     "metadata": {},
     "output_type": "display_data"
    },
    {
     "data": {
      "text/html": [
       "\n",
       "    La solución del problema de condiciones iniciales es\n",
       "    \\(u(x)=-\\frac{1}{4} \\, {\\left(\\sqrt{2} e^{\\left(2 \\, \\sqrt{2} x + x\\right)} - \\sqrt{2} e^{x} + 4 \\, e^{\\left(\\sqrt{2} x + x\\right)}\\right)} e^{\\left(-\\sqrt{2} x\\right)}\\)\n",
       "    "
      ],
      "text/plain": [
       "\n",
       "    La solución del problema de condiciones iniciales es\n",
       "    \\(u(x)=-\\frac{1}{4} \\, {\\left(\\sqrt{2} e^{\\left(2 \\, \\sqrt{2} x + x\\right)} - \\sqrt{2} e^{x} + 4 \\, e^{\\left(\\sqrt{2} x + x\\right)}\\right)} e^{\\left(-\\sqrt{2} x\\right)}\\)\n",
       "    "
      ]
     },
     "metadata": {},
     "output_type": "display_data"
    },
    {
     "data": {
      "text/html": [
       "\n",
       "    <h1> EDOs lineales de 2o Orden </h1>\n",
       "    <h2> Coeficientes indeterminados: \\( \\phi(x)=Ae^{kx} \\) </h2>\n",
       "    <p> Encuentre la solución \\(u(x)\\) de la siguiente ecuación diferencial\n",
       "    \\(-u\\left(x\\right) - \\frac{\\partial}{\\partial x}u\\left(x\\right) + \\frac{\\partial^{2}}{(\\partial x)^{2}}u\\left(x\\right) = -8 \\, e^{x}\\) con condiciones iniciales \\(u(0)=0, \\; u'(0)=1\\)\n",
       "    y evalue en el punto dado:</p>\n",
       "    <pre>\n",
       "    u(1.62) = {1:NM:=-34.0125517959022:-1.02037655387707}\n",
       "    </pre>\n",
       "    "
      ],
      "text/plain": [
       "\n",
       "    <h1> EDOs lineales de 2o Orden </h1>\n",
       "    <h2> Coeficientes indeterminados: \\( \\phi(x)=Ae^{kx} \\) </h2>\n",
       "    <p> Encuentre la solución \\(u(x)\\) de la siguiente ecuación diferencial\n",
       "    \\(-u\\left(x\\right) - \\frac{\\partial}{\\partial x}u\\left(x\\right) + \\frac{\\partial^{2}}{(\\partial x)^{2}}u\\left(x\\right) = -8 \\, e^{x}\\) con condiciones iniciales \\(u(0)=0, \\; u'(0)=1\\)\n",
       "    y evalue en el punto dado:</p>\n",
       "    <pre>\n",
       "    u(1.62) = {1:NM:=-34.0125517959022:-1.02037655387707}\n",
       "    </pre>\n",
       "    "
      ]
     },
     "metadata": {},
     "output_type": "display_data"
    },
    {
     "data": {
      "text/html": [
       "\n",
       "    La solución del problema de condiciones iniciales es\n",
       "    \\(u(x)=-\\frac{1}{5} \\, {\\left({\\left(3 \\, \\sqrt{5} + 20\\right)} e^{\\left(\\sqrt{5} x + \\frac{1}{2} \\, x\\right)} - {\\left(3 \\, \\sqrt{5} - 20\\right)} e^{\\left(\\frac{1}{2} \\, x\\right)} - 40 \\, e^{\\left(\\frac{1}{2} \\, \\sqrt{5} x + x\\right)}\\right)} e^{\\left(-\\frac{1}{2} \\, \\sqrt{5} x\\right)}\\)\n",
       "    "
      ],
      "text/plain": [
       "\n",
       "    La solución del problema de condiciones iniciales es\n",
       "    \\(u(x)=-\\frac{1}{5} \\, {\\left({\\left(3 \\, \\sqrt{5} + 20\\right)} e^{\\left(\\sqrt{5} x + \\frac{1}{2} \\, x\\right)} - {\\left(3 \\, \\sqrt{5} - 20\\right)} e^{\\left(\\frac{1}{2} \\, x\\right)} - 40 \\, e^{\\left(\\frac{1}{2} \\, \\sqrt{5} x + x\\right)}\\right)} e^{\\left(-\\frac{1}{2} \\, \\sqrt{5} x\\right)}\\)\n",
       "    "
      ]
     },
     "metadata": {},
     "output_type": "display_data"
    },
    {
     "data": {
      "text/html": [
       "\n",
       "    <h1> EDOs lineales de 2o Orden </h1>\n",
       "    <h2> Coeficientes indeterminados: \\( \\phi(x)=Ae^{kx} \\) </h2>\n",
       "    <p> Encuentre la solución \\(u(x)\\) de la siguiente ecuación diferencial\n",
       "    \\(-2 \\, u\\left(x\\right) + \\frac{\\partial^{2}}{(\\partial x)^{2}}u\\left(x\\right) = -e^{\\left(-2 \\, x\\right)}\\) con condiciones iniciales \\(u(0)=1, \\; u'(0)=0\\)\n",
       "    y evalue en el punto dado:</p>\n",
       "    <pre>\n",
       "    u(1.03) = {1:NM:=1.89477754691143:0.0568433264073428}\n",
       "    </pre>\n",
       "    "
      ],
      "text/plain": [
       "\n",
       "    <h1> EDOs lineales de 2o Orden </h1>\n",
       "    <h2> Coeficientes indeterminados: \\( \\phi(x)=Ae^{kx} \\) </h2>\n",
       "    <p> Encuentre la solución \\(u(x)\\) de la siguiente ecuación diferencial\n",
       "    \\(-2 \\, u\\left(x\\right) + \\frac{\\partial^{2}}{(\\partial x)^{2}}u\\left(x\\right) = -e^{\\left(-2 \\, x\\right)}\\) con condiciones iniciales \\(u(0)=1, \\; u'(0)=0\\)\n",
       "    y evalue en el punto dado:</p>\n",
       "    <pre>\n",
       "    u(1.03) = {1:NM:=1.89477754691143:0.0568433264073428}\n",
       "    </pre>\n",
       "    "
      ]
     },
     "metadata": {},
     "output_type": "display_data"
    },
    {
     "data": {
      "text/html": [
       "\n",
       "    La solución del problema de condiciones iniciales es\n",
       "    \\(u(x)=-\\frac{1}{4} \\, {\\left({\\left(\\sqrt{2} - 3\\right)} e^{\\left(2 \\, \\sqrt{2} x + 2 \\, x\\right)} - {\\left(\\sqrt{2} + 3\\right)} e^{\\left(2 \\, x\\right)} + 2 \\, e^{\\left(\\sqrt{2} x\\right)}\\right)} e^{\\left(-\\sqrt{2} x - 2 \\, x\\right)}\\)\n",
       "    "
      ],
      "text/plain": [
       "\n",
       "    La solución del problema de condiciones iniciales es\n",
       "    \\(u(x)=-\\frac{1}{4} \\, {\\left({\\left(\\sqrt{2} - 3\\right)} e^{\\left(2 \\, \\sqrt{2} x + 2 \\, x\\right)} - {\\left(\\sqrt{2} + 3\\right)} e^{\\left(2 \\, x\\right)} + 2 \\, e^{\\left(\\sqrt{2} x\\right)}\\right)} e^{\\left(-\\sqrt{2} x - 2 \\, x\\right)}\\)\n",
       "    "
      ]
     },
     "metadata": {},
     "output_type": "display_data"
    },
    {
     "data": {
      "text/html": [
       "\n",
       "    <h1> EDOs lineales de 2o Orden </h1>\n",
       "    <h2> Coeficientes indeterminados: \\( \\phi(x)=Ae^{kx} \\) </h2>\n",
       "    <p> Encuentre la solución \\(u(x)\\) de la siguiente ecuación diferencial\n",
       "    \\(u\\left(x\\right) - \\frac{\\partial}{\\partial x}u\\left(x\\right) + \\frac{\\partial^{2}}{(\\partial x)^{2}}u\\left(x\\right) = -10 \\, e^{\\left(-10 \\, x\\right)}\\) con condiciones iniciales \\(u(0)=-2, \\; u'(0)=0\\)\n",
       "    y evalue en el punto dado:</p>\n",
       "    <pre>\n",
       "    u(1.48) = {1:NM:=-1.01575385340044:-0.0304726156020133}\n",
       "    </pre>\n",
       "    "
      ],
      "text/plain": [
       "\n",
       "    <h1> EDOs lineales de 2o Orden </h1>\n",
       "    <h2> Coeficientes indeterminados: \\( \\phi(x)=Ae^{kx} \\) </h2>\n",
       "    <p> Encuentre la solución \\(u(x)\\) de la siguiente ecuación diferencial\n",
       "    \\(u\\left(x\\right) - \\frac{\\partial}{\\partial x}u\\left(x\\right) + \\frac{\\partial^{2}}{(\\partial x)^{2}}u\\left(x\\right) = -10 \\, e^{\\left(-10 \\, x\\right)}\\) con condiciones iniciales \\(u(0)=-2, \\; u'(0)=0\\)\n",
       "    y evalue en el punto dado:</p>\n",
       "    <pre>\n",
       "    u(1.48) = {1:NM:=-1.01575385340044:-0.0304726156020133}\n",
       "    </pre>\n",
       "    "
      ]
     },
     "metadata": {},
     "output_type": "display_data"
    },
    {
     "data": {
      "text/html": [
       "\n",
       "    La solución del problema de condiciones iniciales es\n",
       "    \\(u(x)=\\frac{2}{111} \\, {\\left(2 \\, \\sqrt{3} e^{\\left(\\frac{21}{2} \\, x\\right)} \\sin\\left(\\frac{1}{2} \\, \\sqrt{3} x\\right) - 106 \\, \\cos\\left(\\frac{1}{2} \\, \\sqrt{3} x\\right) e^{\\left(\\frac{21}{2} \\, x\\right)} - 5\\right)} e^{\\left(-10 \\, x\\right)}\\)\n",
       "    "
      ],
      "text/plain": [
       "\n",
       "    La solución del problema de condiciones iniciales es\n",
       "    \\(u(x)=\\frac{2}{111} \\, {\\left(2 \\, \\sqrt{3} e^{\\left(\\frac{21}{2} \\, x\\right)} \\sin\\left(\\frac{1}{2} \\, \\sqrt{3} x\\right) - 106 \\, \\cos\\left(\\frac{1}{2} \\, \\sqrt{3} x\\right) e^{\\left(\\frac{21}{2} \\, x\\right)} - 5\\right)} e^{\\left(-10 \\, x\\right)}\\)\n",
       "    "
      ]
     },
     "metadata": {},
     "output_type": "display_data"
    },
    {
     "data": {
      "text/html": [
       "\n",
       "    <h1> EDOs lineales de 2o Orden </h1>\n",
       "    <h2> Coeficientes indeterminados: \\( \\phi(x)=Ae^{kx} \\) </h2>\n",
       "    <p> Encuentre la solución \\(u(x)\\) de la siguiente ecuación diferencial\n",
       "    \\(-\\frac{\\partial}{\\partial x}u\\left(x\\right) + \\frac{\\partial^{2}}{(\\partial x)^{2}}u\\left(x\\right) = 7 \\, e^{\\left(8 \\, x\\right)}\\) con condiciones iniciales \\(u(0)=1, \\; u'(0)=-1\\)\n",
       "    y evalue en el punto dado:</p>\n",
       "    <pre>\n",
       "    u(1.57) = {1:NM:=35609.5539071972:1068.28661721591}\n",
       "    </pre>\n",
       "    "
      ],
      "text/plain": [
       "\n",
       "    <h1> EDOs lineales de 2o Orden </h1>\n",
       "    <h2> Coeficientes indeterminados: \\( \\phi(x)=Ae^{kx} \\) </h2>\n",
       "    <p> Encuentre la solución \\(u(x)\\) de la siguiente ecuación diferencial\n",
       "    \\(-\\frac{\\partial}{\\partial x}u\\left(x\\right) + \\frac{\\partial^{2}}{(\\partial x)^{2}}u\\left(x\\right) = 7 \\, e^{\\left(8 \\, x\\right)}\\) con condiciones iniciales \\(u(0)=1, \\; u'(0)=-1\\)\n",
       "    y evalue en el punto dado:</p>\n",
       "    <pre>\n",
       "    u(1.57) = {1:NM:=35609.5539071972:1068.28661721591}\n",
       "    </pre>\n",
       "    "
      ]
     },
     "metadata": {},
     "output_type": "display_data"
    },
    {
     "data": {
      "text/html": [
       "\n",
       "    La solución del problema de condiciones iniciales es\n",
       "    \\(u(x)=\\frac{1}{8} \\, e^{\\left(8 \\, x\\right)} - 2 \\, e^{x} + \\frac{23}{8}\\)\n",
       "    "
      ],
      "text/plain": [
       "\n",
       "    La solución del problema de condiciones iniciales es\n",
       "    \\(u(x)=\\frac{1}{8} \\, e^{\\left(8 \\, x\\right)} - 2 \\, e^{x} + \\frac{23}{8}\\)\n",
       "    "
      ]
     },
     "metadata": {},
     "output_type": "display_data"
    },
    {
     "data": {
      "text/html": [
       "\n",
       "    <h1> EDOs lineales de 2o Orden </h1>\n",
       "    <h2> Coeficientes indeterminados: \\( \\phi(x)=Ae^{kx} \\) </h2>\n",
       "    <p> Encuentre la solución \\(u(x)\\) de la siguiente ecuación diferencial\n",
       "    \\(2 \\, u\\left(x\\right) - \\frac{\\partial}{\\partial x}u\\left(x\\right) + \\frac{\\partial^{2}}{(\\partial x)^{2}}u\\left(x\\right) = -2 \\, e^{\\left(-10 \\, x\\right)}\\) con condiciones iniciales \\(u(0)=2, \\; u'(0)=-2\\)\n",
       "    y evalue en el punto dado:</p>\n",
       "    <pre>\n",
       "    u(1.36) = {1:NM:=-5.53417798638746:-0.166025339591624}\n",
       "    </pre>\n",
       "    "
      ],
      "text/plain": [
       "\n",
       "    <h1> EDOs lineales de 2o Orden </h1>\n",
       "    <h2> Coeficientes indeterminados: \\( \\phi(x)=Ae^{kx} \\) </h2>\n",
       "    <p> Encuentre la solución \\(u(x)\\) de la siguiente ecuación diferencial\n",
       "    \\(2 \\, u\\left(x\\right) - \\frac{\\partial}{\\partial x}u\\left(x\\right) + \\frac{\\partial^{2}}{(\\partial x)^{2}}u\\left(x\\right) = -2 \\, e^{\\left(-10 \\, x\\right)}\\) con condiciones iniciales \\(u(0)=2, \\; u'(0)=-2\\)\n",
       "    y evalue en el punto dado:</p>\n",
       "    <pre>\n",
       "    u(1.36) = {1:NM:=-5.53417798638746:-0.166025339591624}\n",
       "    </pre>\n",
       "    "
      ]
     },
     "metadata": {},
     "output_type": "display_data"
    },
    {
     "data": {
      "text/html": [
       "\n",
       "    La solución del problema de condiciones iniciales es\n",
       "    \\(u(x)=-\\frac{1}{56} \\, {\\left(51 \\, \\sqrt{7} e^{\\left(\\frac{21}{2} \\, x\\right)} \\sin\\left(\\frac{1}{2} \\, \\sqrt{7} x\\right) - 113 \\, \\cos\\left(\\frac{1}{2} \\, \\sqrt{7} x\\right) e^{\\left(\\frac{21}{2} \\, x\\right)} + 1\\right)} e^{\\left(-10 \\, x\\right)}\\)\n",
       "    "
      ],
      "text/plain": [
       "\n",
       "    La solución del problema de condiciones iniciales es\n",
       "    \\(u(x)=-\\frac{1}{56} \\, {\\left(51 \\, \\sqrt{7} e^{\\left(\\frac{21}{2} \\, x\\right)} \\sin\\left(\\frac{1}{2} \\, \\sqrt{7} x\\right) - 113 \\, \\cos\\left(\\frac{1}{2} \\, \\sqrt{7} x\\right) e^{\\left(\\frac{21}{2} \\, x\\right)} + 1\\right)} e^{\\left(-10 \\, x\\right)}\\)\n",
       "    "
      ]
     },
     "metadata": {},
     "output_type": "display_data"
    },
    {
     "data": {
      "text/html": [
       "\n",
       "    <h1> EDOs lineales de 2o Orden </h1>\n",
       "    <h2> Coeficientes indeterminados: \\( \\phi(x)=Ae^{kx} \\) </h2>\n",
       "    <p> Encuentre la solución \\(u(x)\\) de la siguiente ecuación diferencial\n",
       "    \\(u\\left(x\\right) - 2 \\, \\frac{\\partial}{\\partial x}u\\left(x\\right) + \\frac{\\partial^{2}}{(\\partial x)^{2}}u\\left(x\\right) = -8 \\, e^{\\left(-6 \\, x\\right)}\\) con condiciones iniciales \\(u(0)=-1, \\; u'(0)=0\\)\n",
       "    y evalue en el punto dado:</p>\n",
       "    <pre>\n",
       "    u(1.53) = {1:NM:=-4.87360710459974:-0.146208213137992}\n",
       "    </pre>\n",
       "    "
      ],
      "text/plain": [
       "\n",
       "    <h1> EDOs lineales de 2o Orden </h1>\n",
       "    <h2> Coeficientes indeterminados: \\( \\phi(x)=Ae^{kx} \\) </h2>\n",
       "    <p> Encuentre la solución \\(u(x)\\) de la siguiente ecuación diferencial\n",
       "    \\(u\\left(x\\right) - 2 \\, \\frac{\\partial}{\\partial x}u\\left(x\\right) + \\frac{\\partial^{2}}{(\\partial x)^{2}}u\\left(x\\right) = -8 \\, e^{\\left(-6 \\, x\\right)}\\) con condiciones iniciales \\(u(0)=-1, \\; u'(0)=0\\)\n",
       "    y evalue en el punto dado:</p>\n",
       "    <pre>\n",
       "    u(1.53) = {1:NM:=-4.87360710459974:-0.146208213137992}\n",
       "    </pre>\n",
       "    "
      ]
     },
     "metadata": {},
     "output_type": "display_data"
    },
    {
     "data": {
      "text/html": [
       "\n",
       "    La solución del problema de condiciones iniciales es\n",
       "    \\(u(x)=-\\frac{1}{49} \\, {\\left({\\left(7 \\, x + 41\\right)} e^{\\left(7 \\, x\\right)} + 8\\right)} e^{\\left(-6 \\, x\\right)}\\)\n",
       "    "
      ],
      "text/plain": [
       "\n",
       "    La solución del problema de condiciones iniciales es\n",
       "    \\(u(x)=-\\frac{1}{49} \\, {\\left({\\left(7 \\, x + 41\\right)} e^{\\left(7 \\, x\\right)} + 8\\right)} e^{\\left(-6 \\, x\\right)}\\)\n",
       "    "
      ]
     },
     "metadata": {},
     "output_type": "display_data"
    },
    {
     "data": {
      "text/html": [
       "\n",
       "    <h1> EDOs lineales de 2o Orden </h1>\n",
       "    <h2> Coeficientes indeterminados: \\( \\phi(x)=Ae^{kx} \\) </h2>\n",
       "    <p> Encuentre la solución \\(u(x)\\) de la siguiente ecuación diferencial\n",
       "    \\(-u\\left(x\\right) + \\frac{\\partial}{\\partial x}u\\left(x\\right) + \\frac{\\partial^{2}}{(\\partial x)^{2}}u\\left(x\\right) = -e^{\\left(3 \\, x\\right)}\\) con condiciones iniciales \\(u(0)=-2, \\; u'(0)=0\\)\n",
       "    y evalue en el punto dado:</p>\n",
       "    <pre>\n",
       "    u(1.8) = {1:NM:=-23.9942399248654:-0.719827197745961}\n",
       "    </pre>\n",
       "    "
      ],
      "text/plain": [
       "\n",
       "    <h1> EDOs lineales de 2o Orden </h1>\n",
       "    <h2> Coeficientes indeterminados: \\( \\phi(x)=Ae^{kx} \\) </h2>\n",
       "    <p> Encuentre la solución \\(u(x)\\) de la siguiente ecuación diferencial\n",
       "    \\(-u\\left(x\\right) + \\frac{\\partial}{\\partial x}u\\left(x\\right) + \\frac{\\partial^{2}}{(\\partial x)^{2}}u\\left(x\\right) = -e^{\\left(3 \\, x\\right)}\\) con condiciones iniciales \\(u(0)=-2, \\; u'(0)=0\\)\n",
       "    y evalue en el punto dado:</p>\n",
       "    <pre>\n",
       "    u(1.8) = {1:NM:=-23.9942399248654:-0.719827197745961}\n",
       "    </pre>\n",
       "    "
      ]
     },
     "metadata": {},
     "output_type": "display_data"
    },
    {
     "data": {
      "text/html": [
       "\n",
       "    La solución del problema de condiciones iniciales es\n",
       "    \\(u(x)=-\\frac{1}{22} \\, {\\left(3 \\, {\\left(\\sqrt{5} + 7\\right)} e^{\\left(\\sqrt{5} x\\right)} - 3 \\, \\sqrt{5} + 2 \\, e^{\\left(\\frac{1}{2} \\, \\sqrt{5} x + \\frac{7}{2} \\, x\\right)} + 21\\right)} e^{\\left(-\\frac{1}{2} \\, \\sqrt{5} x - \\frac{1}{2} \\, x\\right)}\\)\n",
       "    "
      ],
      "text/plain": [
       "\n",
       "    La solución del problema de condiciones iniciales es\n",
       "    \\(u(x)=-\\frac{1}{22} \\, {\\left(3 \\, {\\left(\\sqrt{5} + 7\\right)} e^{\\left(\\sqrt{5} x\\right)} - 3 \\, \\sqrt{5} + 2 \\, e^{\\left(\\frac{1}{2} \\, \\sqrt{5} x + \\frac{7}{2} \\, x\\right)} + 21\\right)} e^{\\left(-\\frac{1}{2} \\, \\sqrt{5} x - \\frac{1}{2} \\, x\\right)}\\)\n",
       "    "
      ]
     },
     "metadata": {},
     "output_type": "display_data"
    },
    {
     "data": {
      "text/html": [
       "\n",
       "    <h1> EDOs lineales de 2o Orden </h1>\n",
       "    <h2> Coeficientes indeterminados: \\( \\phi(x)=Ae^{kx} \\) </h2>\n",
       "    <p> Encuentre la solución \\(u(x)\\) de la siguiente ecuación diferencial\n",
       "    \\(-2 \\, u\\left(x\\right) + 2 \\, \\frac{\\partial}{\\partial x}u\\left(x\\right) + \\frac{\\partial^{2}}{(\\partial x)^{2}}u\\left(x\\right) = 10 \\, e^{\\left(7 \\, x\\right)}\\) con condiciones iniciales \\(u(0)=-2, \\; u'(0)=0\\)\n",
       "    y evalue en el punto dado:</p>\n",
       "    <pre>\n",
       "    u(1.37) = {1:NM:=2390.81332050679:71.7243996152038}\n",
       "    </pre>\n",
       "    "
      ],
      "text/plain": [
       "\n",
       "    <h1> EDOs lineales de 2o Orden </h1>\n",
       "    <h2> Coeficientes indeterminados: \\( \\phi(x)=Ae^{kx} \\) </h2>\n",
       "    <p> Encuentre la solución \\(u(x)\\) de la siguiente ecuación diferencial\n",
       "    \\(-2 \\, u\\left(x\\right) + 2 \\, \\frac{\\partial}{\\partial x}u\\left(x\\right) + \\frac{\\partial^{2}}{(\\partial x)^{2}}u\\left(x\\right) = 10 \\, e^{\\left(7 \\, x\\right)}\\) con condiciones iniciales \\(u(0)=-2, \\; u'(0)=0\\)\n",
       "    y evalue en el punto dado:</p>\n",
       "    <pre>\n",
       "    u(1.37) = {1:NM:=2390.81332050679:71.7243996152038}\n",
       "    </pre>\n",
       "    "
      ]
     },
     "metadata": {},
     "output_type": "display_data"
    },
    {
     "data": {
      "text/html": [
       "\n",
       "    La solución del problema de condiciones iniciales es\n",
       "    \\(u(x)=-\\frac{1}{183} \\, {\\left({\\left(101 \\, \\sqrt{3} + 198\\right)} e^{\\left(2 \\, \\sqrt{3} x\\right)} - 101 \\, \\sqrt{3} - 30 \\, e^{\\left(\\sqrt{3} x + 8 \\, x\\right)} + 198\\right)} e^{\\left(-\\sqrt{3} x - x\\right)}\\)\n",
       "    "
      ],
      "text/plain": [
       "\n",
       "    La solución del problema de condiciones iniciales es\n",
       "    \\(u(x)=-\\frac{1}{183} \\, {\\left({\\left(101 \\, \\sqrt{3} + 198\\right)} e^{\\left(2 \\, \\sqrt{3} x\\right)} - 101 \\, \\sqrt{3} - 30 \\, e^{\\left(\\sqrt{3} x + 8 \\, x\\right)} + 198\\right)} e^{\\left(-\\sqrt{3} x - x\\right)}\\)\n",
       "    "
      ]
     },
     "metadata": {},
     "output_type": "display_data"
    },
    {
     "data": {
      "text/html": [
       "\n",
       "    <h1> EDOs lineales de 2o Orden </h1>\n",
       "    <h2> Coeficientes indeterminados: \\( \\phi(x)=Ae^{kx} \\) </h2>\n",
       "    <p> Encuentre la solución \\(u(x)\\) de la siguiente ecuación diferencial\n",
       "    \\(u\\left(x\\right) + 2 \\, \\frac{\\partial}{\\partial x}u\\left(x\\right) + \\frac{\\partial^{2}}{(\\partial x)^{2}}u\\left(x\\right) = 10 \\, e^{\\left(5 \\, x\\right)}\\) con condiciones iniciales \\(u(0)=-1, \\; u'(0)=-1\\)\n",
       "    y evalue en el punto dado:</p>\n",
       "    <pre>\n",
       "    u(1.81) = {1:NM:=2364.96530302870:70.9489590908610}\n",
       "    </pre>\n",
       "    "
      ],
      "text/plain": [
       "\n",
       "    <h1> EDOs lineales de 2o Orden </h1>\n",
       "    <h2> Coeficientes indeterminados: \\( \\phi(x)=Ae^{kx} \\) </h2>\n",
       "    <p> Encuentre la solución \\(u(x)\\) de la siguiente ecuación diferencial\n",
       "    \\(u\\left(x\\right) + 2 \\, \\frac{\\partial}{\\partial x}u\\left(x\\right) + \\frac{\\partial^{2}}{(\\partial x)^{2}}u\\left(x\\right) = 10 \\, e^{\\left(5 \\, x\\right)}\\) con condiciones iniciales \\(u(0)=-1, \\; u'(0)=-1\\)\n",
       "    y evalue en el punto dado:</p>\n",
       "    <pre>\n",
       "    u(1.81) = {1:NM:=2364.96530302870:70.9489590908610}\n",
       "    </pre>\n",
       "    "
      ]
     },
     "metadata": {},
     "output_type": "display_data"
    },
    {
     "data": {
      "text/html": [
       "\n",
       "    La solución del problema de condiciones iniciales es\n",
       "    \\(u(x)=-\\frac{1}{18} \\, {\\left(66 \\, x - 5 \\, e^{\\left(6 \\, x\\right)} + 23\\right)} e^{\\left(-x\\right)}\\)\n",
       "    "
      ],
      "text/plain": [
       "\n",
       "    La solución del problema de condiciones iniciales es\n",
       "    \\(u(x)=-\\frac{1}{18} \\, {\\left(66 \\, x - 5 \\, e^{\\left(6 \\, x\\right)} + 23\\right)} e^{\\left(-x\\right)}\\)\n",
       "    "
      ]
     },
     "metadata": {},
     "output_type": "display_data"
    },
    {
     "data": {
      "text/html": [
       "\n",
       "    <h1> EDOs lineales de 2o Orden </h1>\n",
       "    <h2> Coeficientes indeterminados: \\( \\phi(x)=Ae^{kx} \\) </h2>\n",
       "    <p> Encuentre la solución \\(u(x)\\) de la siguiente ecuación diferencial\n",
       "    \\(u\\left(x\\right) + 2 \\, \\frac{\\partial}{\\partial x}u\\left(x\\right) + \\frac{\\partial^{2}}{(\\partial x)^{2}}u\\left(x\\right) = -3 \\, e^{\\left(2 \\, x\\right)}\\) con condiciones iniciales \\(u(0)=1, \\; u'(0)=1\\)\n",
       "    y evalue en el punto dado:</p>\n",
       "    <pre>\n",
       "    u(1.04) = {1:NM:=-1.09410478777568:-0.0328231436332705}\n",
       "    </pre>\n",
       "    "
      ],
      "text/plain": [
       "\n",
       "    <h1> EDOs lineales de 2o Orden </h1>\n",
       "    <h2> Coeficientes indeterminados: \\( \\phi(x)=Ae^{kx} \\) </h2>\n",
       "    <p> Encuentre la solución \\(u(x)\\) de la siguiente ecuación diferencial\n",
       "    \\(u\\left(x\\right) + 2 \\, \\frac{\\partial}{\\partial x}u\\left(x\\right) + \\frac{\\partial^{2}}{(\\partial x)^{2}}u\\left(x\\right) = -3 \\, e^{\\left(2 \\, x\\right)}\\) con condiciones iniciales \\(u(0)=1, \\; u'(0)=1\\)\n",
       "    y evalue en el punto dado:</p>\n",
       "    <pre>\n",
       "    u(1.04) = {1:NM:=-1.09410478777568:-0.0328231436332705}\n",
       "    </pre>\n",
       "    "
      ]
     },
     "metadata": {},
     "output_type": "display_data"
    },
    {
     "data": {
      "text/html": [
       "\n",
       "    La solución del problema de condiciones iniciales es\n",
       "    \\(u(x)=\\frac{1}{3} \\, {\\left(9 \\, x - e^{\\left(3 \\, x\\right)} + 4\\right)} e^{\\left(-x\\right)}\\)\n",
       "    "
      ],
      "text/plain": [
       "\n",
       "    La solución del problema de condiciones iniciales es\n",
       "    \\(u(x)=\\frac{1}{3} \\, {\\left(9 \\, x - e^{\\left(3 \\, x\\right)} + 4\\right)} e^{\\left(-x\\right)}\\)\n",
       "    "
      ]
     },
     "metadata": {},
     "output_type": "display_data"
    },
    {
     "data": {
      "text/html": [
       "\n",
       "    <h1> EDOs lineales de 2o Orden </h1>\n",
       "    <h2> Coeficientes indeterminados: \\( \\phi(x)=Ae^{kx} \\) </h2>\n",
       "    <p> Encuentre la solución \\(u(x)\\) de la siguiente ecuación diferencial\n",
       "    \\(u\\left(x\\right) + 2 \\, \\frac{\\partial}{\\partial x}u\\left(x\\right) + \\frac{\\partial^{2}}{(\\partial x)^{2}}u\\left(x\\right) = 7 \\, e^{\\left(8 \\, x\\right)}\\) con condiciones iniciales \\(u(0)=0, \\; u'(0)=-2\\)\n",
       "    y evalue en el punto dado:</p>\n",
       "    <pre>\n",
       "    u(1.47) = {1:NM:=11063.1421831263:331.894265493788}\n",
       "    </pre>\n",
       "    "
      ],
      "text/plain": [
       "\n",
       "    <h1> EDOs lineales de 2o Orden </h1>\n",
       "    <h2> Coeficientes indeterminados: \\( \\phi(x)=Ae^{kx} \\) </h2>\n",
       "    <p> Encuentre la solución \\(u(x)\\) de la siguiente ecuación diferencial\n",
       "    \\(u\\left(x\\right) + 2 \\, \\frac{\\partial}{\\partial x}u\\left(x\\right) + \\frac{\\partial^{2}}{(\\partial x)^{2}}u\\left(x\\right) = 7 \\, e^{\\left(8 \\, x\\right)}\\) con condiciones iniciales \\(u(0)=0, \\; u'(0)=-2\\)\n",
       "    y evalue en el punto dado:</p>\n",
       "    <pre>\n",
       "    u(1.47) = {1:NM:=11063.1421831263:331.894265493788}\n",
       "    </pre>\n",
       "    "
      ]
     },
     "metadata": {},
     "output_type": "display_data"
    },
    {
     "data": {
      "text/html": [
       "\n",
       "    La solución del problema de condiciones iniciales es\n",
       "    \\(u(x)=-\\frac{1}{81} \\, {\\left(225 \\, x - 7 \\, e^{\\left(9 \\, x\\right)} + 7\\right)} e^{\\left(-x\\right)}\\)\n",
       "    "
      ],
      "text/plain": [
       "\n",
       "    La solución del problema de condiciones iniciales es\n",
       "    \\(u(x)=-\\frac{1}{81} \\, {\\left(225 \\, x - 7 \\, e^{\\left(9 \\, x\\right)} + 7\\right)} e^{\\left(-x\\right)}\\)\n",
       "    "
      ]
     },
     "metadata": {},
     "output_type": "display_data"
    },
    {
     "data": {
      "text/html": [
       "\n",
       "    <h1> EDOs lineales de 2o Orden </h1>\n",
       "    <h2> Coeficientes indeterminados: \\( \\phi(x)=Ae^{kx} \\) </h2>\n",
       "    <p> Encuentre la solución \\(u(x)\\) de la siguiente ecuación diferencial\n",
       "    \\(u\\left(x\\right) + 2 \\, \\frac{\\partial}{\\partial x}u\\left(x\\right) + \\frac{\\partial^{2}}{(\\partial x)^{2}}u\\left(x\\right) = 10 \\, e^{\\left(-4 \\, x\\right)}\\) con condiciones iniciales \\(u(0)=1, \\; u'(0)=-1\\)\n",
       "    y evalue en el punto dado:</p>\n",
       "    <pre>\n",
       "    u(1.55) = {1:NM:=1.07528634616442:0.0322585903849326}\n",
       "    </pre>\n",
       "    "
      ],
      "text/plain": [
       "\n",
       "    <h1> EDOs lineales de 2o Orden </h1>\n",
       "    <h2> Coeficientes indeterminados: \\( \\phi(x)=Ae^{kx} \\) </h2>\n",
       "    <p> Encuentre la solución \\(u(x)\\) de la siguiente ecuación diferencial\n",
       "    \\(u\\left(x\\right) + 2 \\, \\frac{\\partial}{\\partial x}u\\left(x\\right) + \\frac{\\partial^{2}}{(\\partial x)^{2}}u\\left(x\\right) = 10 \\, e^{\\left(-4 \\, x\\right)}\\) con condiciones iniciales \\(u(0)=1, \\; u'(0)=-1\\)\n",
       "    y evalue en el punto dado:</p>\n",
       "    <pre>\n",
       "    u(1.55) = {1:NM:=1.07528634616442:0.0322585903849326}\n",
       "    </pre>\n",
       "    "
      ]
     },
     "metadata": {},
     "output_type": "display_data"
    },
    {
     "data": {
      "text/html": [
       "\n",
       "    La solución del problema de condiciones iniciales es\n",
       "    \\(u(x)=\\frac{1}{9} \\, {\\left({\\left(30 \\, x - 1\\right)} e^{\\left(3 \\, x\\right)} + 10\\right)} e^{\\left(-4 \\, x\\right)}\\)\n",
       "    "
      ],
      "text/plain": [
       "\n",
       "    La solución del problema de condiciones iniciales es\n",
       "    \\(u(x)=\\frac{1}{9} \\, {\\left({\\left(30 \\, x - 1\\right)} e^{\\left(3 \\, x\\right)} + 10\\right)} e^{\\left(-4 \\, x\\right)}\\)\n",
       "    "
      ]
     },
     "metadata": {},
     "output_type": "display_data"
    },
    {
     "data": {
      "text/html": [
       "\n",
       "    <h1> EDOs lineales de 2o Orden </h1>\n",
       "    <h2> Coeficientes indeterminados: \\( \\phi(x)=Ae^{kx} \\) </h2>\n",
       "    <p> Encuentre la solución \\(u(x)\\) de la siguiente ecuación diferencial\n",
       "    \\(2 \\, u\\left(x\\right) + 2 \\, \\frac{\\partial}{\\partial x}u\\left(x\\right) + \\frac{\\partial^{2}}{(\\partial x)^{2}}u\\left(x\\right) = -9 \\, e^{\\left(-3 \\, x\\right)}\\) con condiciones iniciales \\(u(0)=-2, \\; u'(0)=-1\\)\n",
       "    y evalue en el punto dado:</p>\n",
       "    <pre>\n",
       "    u(1.55) = {1:NM:=-1.41862733170127:-0.0425588199510380}\n",
       "    </pre>\n",
       "    "
      ],
      "text/plain": [
       "\n",
       "    <h1> EDOs lineales de 2o Orden </h1>\n",
       "    <h2> Coeficientes indeterminados: \\( \\phi(x)=Ae^{kx} \\) </h2>\n",
       "    <p> Encuentre la solución \\(u(x)\\) de la siguiente ecuación diferencial\n",
       "    \\(2 \\, u\\left(x\\right) + 2 \\, \\frac{\\partial}{\\partial x}u\\left(x\\right) + \\frac{\\partial^{2}}{(\\partial x)^{2}}u\\left(x\\right) = -9 \\, e^{\\left(-3 \\, x\\right)}\\) con condiciones iniciales \\(u(0)=-2, \\; u'(0)=-1\\)\n",
       "    y evalue en el punto dado:</p>\n",
       "    <pre>\n",
       "    u(1.55) = {1:NM:=-1.41862733170127:-0.0425588199510380}\n",
       "    </pre>\n",
       "    "
      ]
     },
     "metadata": {},
     "output_type": "display_data"
    },
    {
     "data": {
      "text/html": [
       "\n",
       "    La solución del problema de condiciones iniciales es\n",
       "    \\(u(x)=-\\frac{1}{5} \\, {\\left(\\cos\\left(x\\right) e^{\\left(2 \\, x\\right)} + 33 \\, e^{\\left(2 \\, x\\right)} \\sin\\left(x\\right) + 9\\right)} e^{\\left(-3 \\, x\\right)}\\)\n",
       "    "
      ],
      "text/plain": [
       "\n",
       "    La solución del problema de condiciones iniciales es\n",
       "    \\(u(x)=-\\frac{1}{5} \\, {\\left(\\cos\\left(x\\right) e^{\\left(2 \\, x\\right)} + 33 \\, e^{\\left(2 \\, x\\right)} \\sin\\left(x\\right) + 9\\right)} e^{\\left(-3 \\, x\\right)}\\)\n",
       "    "
      ]
     },
     "metadata": {},
     "output_type": "display_data"
    },
    {
     "data": {
      "text/html": [
       "\n",
       "    <h1> EDOs lineales de 2o Orden </h1>\n",
       "    <h2> Coeficientes indeterminados: \\( \\phi(x)=Ae^{kx} \\) </h2>\n",
       "    <p> Encuentre la solución \\(u(x)\\) de la siguiente ecuación diferencial\n",
       "    \\(u\\left(x\\right) + \\frac{\\partial^{2}}{(\\partial x)^{2}}u\\left(x\\right) = -7 \\, e^{x}\\) con condiciones iniciales \\(u(0)=-2, \\; u'(0)=2\\)\n",
       "    y evalue en el punto dado:</p>\n",
       "    <pre>\n",
       "    u(1.1) = {1:NM:=-4.93254642133626:-0.147976392640088}\n",
       "    </pre>\n",
       "    "
      ],
      "text/plain": [
       "\n",
       "    <h1> EDOs lineales de 2o Orden </h1>\n",
       "    <h2> Coeficientes indeterminados: \\( \\phi(x)=Ae^{kx} \\) </h2>\n",
       "    <p> Encuentre la solución \\(u(x)\\) de la siguiente ecuación diferencial\n",
       "    \\(u\\left(x\\right) + \\frac{\\partial^{2}}{(\\partial x)^{2}}u\\left(x\\right) = -7 \\, e^{x}\\) con condiciones iniciales \\(u(0)=-2, \\; u'(0)=2\\)\n",
       "    y evalue en el punto dado:</p>\n",
       "    <pre>\n",
       "    u(1.1) = {1:NM:=-4.93254642133626:-0.147976392640088}\n",
       "    </pre>\n",
       "    "
      ]
     },
     "metadata": {},
     "output_type": "display_data"
    },
    {
     "data": {
      "text/html": [
       "\n",
       "    La solución del problema de condiciones iniciales es\n",
       "    \\(u(x)=\\frac{3}{2} \\, \\cos\\left(x\\right) - \\frac{7}{2} \\, e^{x} + \\frac{11}{2} \\, \\sin\\left(x\\right)\\)\n",
       "    "
      ],
      "text/plain": [
       "\n",
       "    La solución del problema de condiciones iniciales es\n",
       "    \\(u(x)=\\frac{3}{2} \\, \\cos\\left(x\\right) - \\frac{7}{2} \\, e^{x} + \\frac{11}{2} \\, \\sin\\left(x\\right)\\)\n",
       "    "
      ]
     },
     "metadata": {},
     "output_type": "display_data"
    },
    {
     "data": {
      "text/html": [
       "\n",
       "    <h1> EDOs lineales de 2o Orden </h1>\n",
       "    <h2> Coeficientes indeterminados: \\( \\phi(x)=Ae^{kx} \\) </h2>\n",
       "    <p> Encuentre la solución \\(u(x)\\) de la siguiente ecuación diferencial\n",
       "    \\(u\\left(x\\right) + \\frac{\\partial}{\\partial x}u\\left(x\\right) + \\frac{\\partial^{2}}{(\\partial x)^{2}}u\\left(x\\right) = 8 \\, e^{\\left(-6 \\, x\\right)}\\) con condiciones iniciales \\(u(0)=-1, \\; u'(0)=-2\\)\n",
       "    y evalue en el punto dado:</p>\n",
       "    <pre>\n",
       "    u(1.92) = {1:NM:=-0.431519034955497:-0.0129455710486649}\n",
       "    </pre>\n",
       "    "
      ],
      "text/plain": [
       "\n",
       "    <h1> EDOs lineales de 2o Orden </h1>\n",
       "    <h2> Coeficientes indeterminados: \\( \\phi(x)=Ae^{kx} \\) </h2>\n",
       "    <p> Encuentre la solución \\(u(x)\\) de la siguiente ecuación diferencial\n",
       "    \\(u\\left(x\\right) + \\frac{\\partial}{\\partial x}u\\left(x\\right) + \\frac{\\partial^{2}}{(\\partial x)^{2}}u\\left(x\\right) = 8 \\, e^{\\left(-6 \\, x\\right)}\\) con condiciones iniciales \\(u(0)=-1, \\; u'(0)=-2\\)\n",
       "    y evalue en el punto dado:</p>\n",
       "    <pre>\n",
       "    u(1.92) = {1:NM:=-0.431519034955497:-0.0129455710486649}\n",
       "    </pre>\n",
       "    "
      ]
     },
     "metadata": {},
     "output_type": "display_data"
    },
    {
     "data": {
      "text/html": [
       "\n",
       "    La solución del problema de condiciones iniciales es\n",
       "    \\(u(x)=-\\frac{1}{93} \\, {\\left(67 \\, \\sqrt{3} e^{\\left(6 \\, x\\right)} \\sin\\left(\\frac{1}{2} \\, \\sqrt{3} x\\right) + 117 \\, \\cos\\left(\\frac{1}{2} \\, \\sqrt{3} x\\right) e^{\\left(6 \\, x\\right)} - 24 \\, e^{\\left(\\frac{1}{2} \\, x\\right)}\\right)} e^{\\left(-\\frac{13}{2} \\, x\\right)}\\)\n",
       "    "
      ],
      "text/plain": [
       "\n",
       "    La solución del problema de condiciones iniciales es\n",
       "    \\(u(x)=-\\frac{1}{93} \\, {\\left(67 \\, \\sqrt{3} e^{\\left(6 \\, x\\right)} \\sin\\left(\\frac{1}{2} \\, \\sqrt{3} x\\right) + 117 \\, \\cos\\left(\\frac{1}{2} \\, \\sqrt{3} x\\right) e^{\\left(6 \\, x\\right)} - 24 \\, e^{\\left(\\frac{1}{2} \\, x\\right)}\\right)} e^{\\left(-\\frac{13}{2} \\, x\\right)}\\)\n",
       "    "
      ]
     },
     "metadata": {},
     "output_type": "display_data"
    },
    {
     "data": {
      "text/html": [
       "\n",
       "    <h1> EDOs lineales de 2o Orden </h1>\n",
       "    <h2> Coeficientes indeterminados: \\( \\phi(x)=Ae^{kx} \\) </h2>\n",
       "    <p> Encuentre la solución \\(u(x)\\) de la siguiente ecuación diferencial\n",
       "    \\(u\\left(x\\right) + \\frac{\\partial}{\\partial x}u\\left(x\\right) + \\frac{\\partial^{2}}{(\\partial x)^{2}}u\\left(x\\right) = -5 \\, e^{\\left(8 \\, x\\right)}\\) con condiciones iniciales \\(u(0)=1, \\; u'(0)=2\\)\n",
       "    y evalue en el punto dado:</p>\n",
       "    <pre>\n",
       "    u(1.79) = {1:NM:=-113432.766472506:-3402.98299417519}\n",
       "    </pre>\n",
       "    "
      ],
      "text/plain": [
       "\n",
       "    <h1> EDOs lineales de 2o Orden </h1>\n",
       "    <h2> Coeficientes indeterminados: \\( \\phi(x)=Ae^{kx} \\) </h2>\n",
       "    <p> Encuentre la solución \\(u(x)\\) de la siguiente ecuación diferencial\n",
       "    \\(u\\left(x\\right) + \\frac{\\partial}{\\partial x}u\\left(x\\right) + \\frac{\\partial^{2}}{(\\partial x)^{2}}u\\left(x\\right) = -5 \\, e^{\\left(8 \\, x\\right)}\\) con condiciones iniciales \\(u(0)=1, \\; u'(0)=2\\)\n",
       "    y evalue en el punto dado:</p>\n",
       "    <pre>\n",
       "    u(1.79) = {1:NM:=-113432.766472506:-3402.98299417519}\n",
       "    </pre>\n",
       "    "
      ]
     },
     "metadata": {},
     "output_type": "display_data"
    },
    {
     "data": {
      "text/html": [
       "\n",
       "    La solución del problema de condiciones iniciales es\n",
       "    \\(u(x)=\\frac{1}{73} \\, {\\left(150 \\, \\sqrt{3} \\sin\\left(\\frac{1}{2} \\, \\sqrt{3} x\\right) + 78 \\, \\cos\\left(\\frac{1}{2} \\, \\sqrt{3} x\\right) - 5 \\, e^{\\left(\\frac{17}{2} \\, x\\right)}\\right)} e^{\\left(-\\frac{1}{2} \\, x\\right)}\\)\n",
       "    "
      ],
      "text/plain": [
       "\n",
       "    La solución del problema de condiciones iniciales es\n",
       "    \\(u(x)=\\frac{1}{73} \\, {\\left(150 \\, \\sqrt{3} \\sin\\left(\\frac{1}{2} \\, \\sqrt{3} x\\right) + 78 \\, \\cos\\left(\\frac{1}{2} \\, \\sqrt{3} x\\right) - 5 \\, e^{\\left(\\frac{17}{2} \\, x\\right)}\\right)} e^{\\left(-\\frac{1}{2} \\, x\\right)}\\)\n",
       "    "
      ]
     },
     "metadata": {},
     "output_type": "display_data"
    },
    {
     "data": {
      "text/html": [
       "\n",
       "    <h1> EDOs lineales de 2o Orden </h1>\n",
       "    <h2> Coeficientes indeterminados: \\( \\phi(x)=Ae^{kx} \\) </h2>\n",
       "    <p> Encuentre la solución \\(u(x)\\) de la siguiente ecuación diferencial\n",
       "    \\(2 \\, u\\left(x\\right) - \\frac{\\partial}{\\partial x}u\\left(x\\right) + \\frac{\\partial^{2}}{(\\partial x)^{2}}u\\left(x\\right) = 10 \\, e^{\\left(3 \\, x\\right)}\\) con condiciones iniciales \\(u(0)=-2, \\; u'(0)=0\\)\n",
       "    y evalue en el punto dado:</p>\n",
       "    <pre>\n",
       "    u(1.55) = {1:NM:=130.893440256318:3.92680320768953}\n",
       "    </pre>\n",
       "    "
      ],
      "text/plain": [
       "\n",
       "    <h1> EDOs lineales de 2o Orden </h1>\n",
       "    <h2> Coeficientes indeterminados: \\( \\phi(x)=Ae^{kx} \\) </h2>\n",
       "    <p> Encuentre la solución \\(u(x)\\) de la siguiente ecuación diferencial\n",
       "    \\(2 \\, u\\left(x\\right) - \\frac{\\partial}{\\partial x}u\\left(x\\right) + \\frac{\\partial^{2}}{(\\partial x)^{2}}u\\left(x\\right) = 10 \\, e^{\\left(3 \\, x\\right)}\\) con condiciones iniciales \\(u(0)=-2, \\; u'(0)=0\\)\n",
       "    y evalue en el punto dado:</p>\n",
       "    <pre>\n",
       "    u(1.55) = {1:NM:=130.893440256318:3.92680320768953}\n",
       "    </pre>\n",
       "    "
      ]
     },
     "metadata": {},
     "output_type": "display_data"
    },
    {
     "data": {
      "text/html": [
       "\n",
       "    La solución del problema de condiciones iniciales es\n",
       "    \\(u(x)=-\\frac{1}{28} \\, \\sqrt{7} {\\left(13 \\, \\sqrt{7} \\cos\\left(\\frac{1}{2} \\, \\sqrt{7} x\\right) e^{\\left(\\frac{1}{2} \\, x\\right)} + 17 \\, e^{\\left(\\frac{1}{2} \\, x\\right)} \\sin\\left(\\frac{1}{2} \\, \\sqrt{7} x\\right) - 5 \\, \\sqrt{7} e^{\\left(3 \\, x\\right)}\\right)}\\)\n",
       "    "
      ],
      "text/plain": [
       "\n",
       "    La solución del problema de condiciones iniciales es\n",
       "    \\(u(x)=-\\frac{1}{28} \\, \\sqrt{7} {\\left(13 \\, \\sqrt{7} \\cos\\left(\\frac{1}{2} \\, \\sqrt{7} x\\right) e^{\\left(\\frac{1}{2} \\, x\\right)} + 17 \\, e^{\\left(\\frac{1}{2} \\, x\\right)} \\sin\\left(\\frac{1}{2} \\, \\sqrt{7} x\\right) - 5 \\, \\sqrt{7} e^{\\left(3 \\, x\\right)}\\right)}\\)\n",
       "    "
      ]
     },
     "metadata": {},
     "output_type": "display_data"
    },
    {
     "data": {
      "text/html": [
       "\n",
       "    <h1> EDOs lineales de 2o Orden </h1>\n",
       "    <h2> Coeficientes indeterminados: \\( \\phi(x)=Ae^{kx} \\) </h2>\n",
       "    <p> Encuentre la solución \\(u(x)\\) de la siguiente ecuación diferencial\n",
       "    \\(\\frac{\\partial^{2}}{(\\partial x)^{2}}u\\left(x\\right) = 6 \\, e^{\\left(-9 \\, x\\right)}\\) con condiciones iniciales \\(u(0)=-1, \\; u'(0)=1\\)\n",
       "    y evalue en el punto dado:</p>\n",
       "    <pre>\n",
       "    u(1.52) = {1:NM:=1.45925934408306:0.0437777803224918}\n",
       "    </pre>\n",
       "    "
      ],
      "text/plain": [
       "\n",
       "    <h1> EDOs lineales de 2o Orden </h1>\n",
       "    <h2> Coeficientes indeterminados: \\( \\phi(x)=Ae^{kx} \\) </h2>\n",
       "    <p> Encuentre la solución \\(u(x)\\) de la siguiente ecuación diferencial\n",
       "    \\(\\frac{\\partial^{2}}{(\\partial x)^{2}}u\\left(x\\right) = 6 \\, e^{\\left(-9 \\, x\\right)}\\) con condiciones iniciales \\(u(0)=-1, \\; u'(0)=1\\)\n",
       "    y evalue en el punto dado:</p>\n",
       "    <pre>\n",
       "    u(1.52) = {1:NM:=1.45925934408306:0.0437777803224918}\n",
       "    </pre>\n",
       "    "
      ]
     },
     "metadata": {},
     "output_type": "display_data"
    },
    {
     "data": {
      "text/html": [
       "\n",
       "    La solución del problema de condiciones iniciales es\n",
       "    \\(u(x)=\\frac{1}{27} \\, {\\left({\\left(45 \\, x - 29\\right)} e^{\\left(9 \\, x\\right)} + 2\\right)} e^{\\left(-9 \\, x\\right)}\\)\n",
       "    "
      ],
      "text/plain": [
       "\n",
       "    La solución del problema de condiciones iniciales es\n",
       "    \\(u(x)=\\frac{1}{27} \\, {\\left({\\left(45 \\, x - 29\\right)} e^{\\left(9 \\, x\\right)} + 2\\right)} e^{\\left(-9 \\, x\\right)}\\)\n",
       "    "
      ]
     },
     "metadata": {},
     "output_type": "display_data"
    },
    {
     "data": {
      "text/html": [
       "\n",
       "    <h1> EDOs lineales de 2o Orden </h1>\n",
       "    <h2> Coeficientes indeterminados: \\( \\phi(x)=Ae^{kx} \\) </h2>\n",
       "    <p> Encuentre la solución \\(u(x)\\) de la siguiente ecuación diferencial\n",
       "    \\(u\\left(x\\right) + \\frac{\\partial}{\\partial x}u\\left(x\\right) + \\frac{\\partial^{2}}{(\\partial x)^{2}}u\\left(x\\right) = -6 \\, e^{\\left(5 \\, x\\right)}\\) con condiciones iniciales \\(u(0)=2, \\; u'(0)=0\\)\n",
       "    y evalue en el punto dado:</p>\n",
       "    <pre>\n",
       "    u(1.1) = {1:NM:=-45.5054158551941:-1.36516247565582}\n",
       "    </pre>\n",
       "    "
      ],
      "text/plain": [
       "\n",
       "    <h1> EDOs lineales de 2o Orden </h1>\n",
       "    <h2> Coeficientes indeterminados: \\( \\phi(x)=Ae^{kx} \\) </h2>\n",
       "    <p> Encuentre la solución \\(u(x)\\) de la siguiente ecuación diferencial\n",
       "    \\(u\\left(x\\right) + \\frac{\\partial}{\\partial x}u\\left(x\\right) + \\frac{\\partial^{2}}{(\\partial x)^{2}}u\\left(x\\right) = -6 \\, e^{\\left(5 \\, x\\right)}\\) con condiciones iniciales \\(u(0)=2, \\; u'(0)=0\\)\n",
       "    y evalue en el punto dado:</p>\n",
       "    <pre>\n",
       "    u(1.1) = {1:NM:=-45.5054158551941:-1.36516247565582}\n",
       "    </pre>\n",
       "    "
      ]
     },
     "metadata": {},
     "output_type": "display_data"
    },
    {
     "data": {
      "text/html": [
       "\n",
       "    La solución del problema de condiciones iniciales es\n",
       "    \\(u(x)=\\frac{2}{93} \\, {\\left(64 \\, \\sqrt{3} \\sin\\left(\\frac{1}{2} \\, \\sqrt{3} x\\right) + 102 \\, \\cos\\left(\\frac{1}{2} \\, \\sqrt{3} x\\right) - 9 \\, e^{\\left(\\frac{11}{2} \\, x\\right)}\\right)} e^{\\left(-\\frac{1}{2} \\, x\\right)}\\)\n",
       "    "
      ],
      "text/plain": [
       "\n",
       "    La solución del problema de condiciones iniciales es\n",
       "    \\(u(x)=\\frac{2}{93} \\, {\\left(64 \\, \\sqrt{3} \\sin\\left(\\frac{1}{2} \\, \\sqrt{3} x\\right) + 102 \\, \\cos\\left(\\frac{1}{2} \\, \\sqrt{3} x\\right) - 9 \\, e^{\\left(\\frac{11}{2} \\, x\\right)}\\right)} e^{\\left(-\\frac{1}{2} \\, x\\right)}\\)\n",
       "    "
      ]
     },
     "metadata": {},
     "output_type": "display_data"
    },
    {
     "data": {
      "text/html": [
       "\n",
       "    <h1> EDOs lineales de 2o Orden </h1>\n",
       "    <h2> Coeficientes indeterminados: \\( \\phi(x)=Ae^{kx} \\) </h2>\n",
       "    <p> Encuentre la solución \\(u(x)\\) de la siguiente ecuación diferencial\n",
       "    \\(-2 \\, u\\left(x\\right) - 2 \\, \\frac{\\partial}{\\partial x}u\\left(x\\right) + \\frac{\\partial^{2}}{(\\partial x)^{2}}u\\left(x\\right) = 10 \\, e^{\\left(6 \\, x\\right)}\\) con condiciones iniciales \\(u(0)=0, \\; u'(0)=-2\\)\n",
       "    y evalue en el punto dado:</p>\n",
       "    <pre>\n",
       "    u(1.25) = {1:NM:=777.807471814911:23.3342241544473}\n",
       "    </pre>\n",
       "    "
      ],
      "text/plain": [
       "\n",
       "    <h1> EDOs lineales de 2o Orden </h1>\n",
       "    <h2> Coeficientes indeterminados: \\( \\phi(x)=Ae^{kx} \\) </h2>\n",
       "    <p> Encuentre la solución \\(u(x)\\) de la siguiente ecuación diferencial\n",
       "    \\(-2 \\, u\\left(x\\right) - 2 \\, \\frac{\\partial}{\\partial x}u\\left(x\\right) + \\frac{\\partial^{2}}{(\\partial x)^{2}}u\\left(x\\right) = 10 \\, e^{\\left(6 \\, x\\right)}\\) con condiciones iniciales \\(u(0)=0, \\; u'(0)=-2\\)\n",
       "    y evalue en el punto dado:</p>\n",
       "    <pre>\n",
       "    u(1.25) = {1:NM:=777.807471814911:23.3342241544473}\n",
       "    </pre>\n",
       "    "
      ]
     },
     "metadata": {},
     "output_type": "display_data"
    },
    {
     "data": {
      "text/html": [
       "\n",
       "    La solución del problema de condiciones iniciales es\n",
       "    \\(u(x)=-\\frac{1}{66} \\, {\\left({\\left(47 \\, \\sqrt{3} + 15\\right)} e^{\\left(2 \\, \\sqrt{3} x + x\\right)} - {\\left(47 \\, \\sqrt{3} - 15\\right)} e^{x} - 30 \\, e^{\\left(\\sqrt{3} x + 6 \\, x\\right)}\\right)} e^{\\left(-\\sqrt{3} x\\right)}\\)\n",
       "    "
      ],
      "text/plain": [
       "\n",
       "    La solución del problema de condiciones iniciales es\n",
       "    \\(u(x)=-\\frac{1}{66} \\, {\\left({\\left(47 \\, \\sqrt{3} + 15\\right)} e^{\\left(2 \\, \\sqrt{3} x + x\\right)} - {\\left(47 \\, \\sqrt{3} - 15\\right)} e^{x} - 30 \\, e^{\\left(\\sqrt{3} x + 6 \\, x\\right)}\\right)} e^{\\left(-\\sqrt{3} x\\right)}\\)\n",
       "    "
      ]
     },
     "metadata": {},
     "output_type": "display_data"
    },
    {
     "data": {
      "text/html": [
       "\n",
       "    <h1> EDOs lineales de 2o Orden </h1>\n",
       "    <h2> Coeficientes indeterminados: \\( \\phi(x)=Ae^{kx} \\) </h2>\n",
       "    <p> Encuentre la solución \\(u(x)\\) de la siguiente ecuación diferencial\n",
       "    \\(-2 \\, u\\left(x\\right) + 2 \\, \\frac{\\partial}{\\partial x}u\\left(x\\right) + \\frac{\\partial^{2}}{(\\partial x)^{2}}u\\left(x\\right) = -10 \\, e^{\\left(-2 \\, x\\right)}\\) con condiciones iniciales \\(u(0)=1, \\; u'(0)=2\\)\n",
       "    y evalue en el punto dado:</p>\n",
       "    <pre>\n",
       "    u(1.95) = {1:NM:=1.36994688248498:0.0410984064745494}\n",
       "    </pre>\n",
       "    "
      ],
      "text/plain": [
       "\n",
       "    <h1> EDOs lineales de 2o Orden </h1>\n",
       "    <h2> Coeficientes indeterminados: \\( \\phi(x)=Ae^{kx} \\) </h2>\n",
       "    <p> Encuentre la solución \\(u(x)\\) de la siguiente ecuación diferencial\n",
       "    \\(-2 \\, u\\left(x\\right) + 2 \\, \\frac{\\partial}{\\partial x}u\\left(x\\right) + \\frac{\\partial^{2}}{(\\partial x)^{2}}u\\left(x\\right) = -10 \\, e^{\\left(-2 \\, x\\right)}\\) con condiciones iniciales \\(u(0)=1, \\; u'(0)=2\\)\n",
       "    y evalue en el punto dado:</p>\n",
       "    <pre>\n",
       "    u(1.95) = {1:NM:=1.36994688248498:0.0410984064745494}\n",
       "    </pre>\n",
       "    "
      ]
     },
     "metadata": {},
     "output_type": "display_data"
    },
    {
     "data": {
      "text/html": [
       "\n",
       "    La solución del problema de condiciones iniciales es\n",
       "    \\(u(x)=\\frac{1}{3} \\, {\\left(2 \\, {\\left(2 \\, \\sqrt{3} - 3\\right)} e^{\\left(2 \\, \\sqrt{3} x + x\\right)} - 2 \\, {\\left(2 \\, \\sqrt{3} + 3\\right)} e^{x} + 15 \\, e^{\\left(\\sqrt{3} x\\right)}\\right)} e^{\\left(-\\sqrt{3} x - 2 \\, x\\right)}\\)\n",
       "    "
      ],
      "text/plain": [
       "\n",
       "    La solución del problema de condiciones iniciales es\n",
       "    \\(u(x)=\\frac{1}{3} \\, {\\left(2 \\, {\\left(2 \\, \\sqrt{3} - 3\\right)} e^{\\left(2 \\, \\sqrt{3} x + x\\right)} - 2 \\, {\\left(2 \\, \\sqrt{3} + 3\\right)} e^{x} + 15 \\, e^{\\left(\\sqrt{3} x\\right)}\\right)} e^{\\left(-\\sqrt{3} x - 2 \\, x\\right)}\\)\n",
       "    "
      ]
     },
     "metadata": {},
     "output_type": "display_data"
    },
    {
     "data": {
      "text/html": [
       "\n",
       "    <h1> EDOs lineales de 2o Orden </h1>\n",
       "    <h2> Coeficientes indeterminados: \\( \\phi(x)=Ae^{kx} \\) </h2>\n",
       "    <p> Encuentre la solución \\(u(x)\\) de la siguiente ecuación diferencial\n",
       "    \\(2 \\, u\\left(x\\right) + \\frac{\\partial^{2}}{(\\partial x)^{2}}u\\left(x\\right) = -5 \\, e^{\\left(-6 \\, x\\right)}\\) con condiciones iniciales \\(u(0)=1, \\; u'(0)=-2\\)\n",
       "    y evalue en el punto dado:</p>\n",
       "    <pre>\n",
       "    u(1.64) = {1:NM:=-2.21532417756606:-0.0664597253269819}\n",
       "    </pre>\n",
       "    "
      ],
      "text/plain": [
       "\n",
       "    <h1> EDOs lineales de 2o Orden </h1>\n",
       "    <h2> Coeficientes indeterminados: \\( \\phi(x)=Ae^{kx} \\) </h2>\n",
       "    <p> Encuentre la solución \\(u(x)\\) de la siguiente ecuación diferencial\n",
       "    \\(2 \\, u\\left(x\\right) + \\frac{\\partial^{2}}{(\\partial x)^{2}}u\\left(x\\right) = -5 \\, e^{\\left(-6 \\, x\\right)}\\) con condiciones iniciales \\(u(0)=1, \\; u'(0)=-2\\)\n",
       "    y evalue en el punto dado:</p>\n",
       "    <pre>\n",
       "    u(1.64) = {1:NM:=-2.21532417756606:-0.0664597253269819}\n",
       "    </pre>\n",
       "    "
      ]
     },
     "metadata": {},
     "output_type": "display_data"
    },
    {
     "data": {
      "text/html": [
       "\n",
       "    La solución del problema de condiciones iniciales es\n",
       "    \\(u(x)=\\frac{1}{76} \\, \\sqrt{2} {\\left(43 \\, \\sqrt{2} \\cos\\left(\\sqrt{2} x\\right) e^{\\left(6 \\, x\\right)} - 106 \\, e^{\\left(6 \\, x\\right)} \\sin\\left(\\sqrt{2} x\\right) - 5 \\, \\sqrt{2}\\right)} e^{\\left(-6 \\, x\\right)}\\)\n",
       "    "
      ],
      "text/plain": [
       "\n",
       "    La solución del problema de condiciones iniciales es\n",
       "    \\(u(x)=\\frac{1}{76} \\, \\sqrt{2} {\\left(43 \\, \\sqrt{2} \\cos\\left(\\sqrt{2} x\\right) e^{\\left(6 \\, x\\right)} - 106 \\, e^{\\left(6 \\, x\\right)} \\sin\\left(\\sqrt{2} x\\right) - 5 \\, \\sqrt{2}\\right)} e^{\\left(-6 \\, x\\right)}\\)\n",
       "    "
      ]
     },
     "metadata": {},
     "output_type": "display_data"
    },
    {
     "data": {
      "text/html": [
       "\n",
       "    <h1> EDOs lineales de 2o Orden </h1>\n",
       "    <h2> Coeficientes indeterminados: \\( \\phi(x)=Ae^{kx} \\) </h2>\n",
       "    <p> Encuentre la solución \\(u(x)\\) de la siguiente ecuación diferencial\n",
       "    \\(-u\\left(x\\right) + 2 \\, \\frac{\\partial}{\\partial x}u\\left(x\\right) + \\frac{\\partial^{2}}{(\\partial x)^{2}}u\\left(x\\right) = -e^{\\left(6 \\, x\\right)}\\) con condiciones iniciales \\(u(0)=-2, \\; u'(0)=1\\)\n",
       "    y evalue en el punto dado:</p>\n",
       "    <pre>\n",
       "    u(1.71) = {1:NM:=-610.434982686263:-18.3130494805879}\n",
       "    </pre>\n",
       "    "
      ],
      "text/plain": [
       "\n",
       "    <h1> EDOs lineales de 2o Orden </h1>\n",
       "    <h2> Coeficientes indeterminados: \\( \\phi(x)=Ae^{kx} \\) </h2>\n",
       "    <p> Encuentre la solución \\(u(x)\\) de la siguiente ecuación diferencial\n",
       "    \\(-u\\left(x\\right) + 2 \\, \\frac{\\partial}{\\partial x}u\\left(x\\right) + \\frac{\\partial^{2}}{(\\partial x)^{2}}u\\left(x\\right) = -e^{\\left(6 \\, x\\right)}\\) con condiciones iniciales \\(u(0)=-2, \\; u'(0)=1\\)\n",
       "    y evalue en el punto dado:</p>\n",
       "    <pre>\n",
       "    u(1.71) = {1:NM:=-610.434982686263:-18.3130494805879}\n",
       "    </pre>\n",
       "    "
      ]
     },
     "metadata": {},
     "output_type": "display_data"
    },
    {
     "data": {
      "text/html": [
       "\n",
       "    La solución del problema de condiciones iniciales es\n",
       "    \\(u(x)=-\\frac{1}{94} \\, {\\left({\\left(20 \\, \\sqrt{2} + 93\\right)} e^{\\left(2 \\, \\sqrt{2} x\\right)} - 20 \\, \\sqrt{2} + 2 \\, e^{\\left(\\sqrt{2} x + 7 \\, x\\right)} + 93\\right)} e^{\\left(-\\sqrt{2} x - x\\right)}\\)\n",
       "    "
      ],
      "text/plain": [
       "\n",
       "    La solución del problema de condiciones iniciales es\n",
       "    \\(u(x)=-\\frac{1}{94} \\, {\\left({\\left(20 \\, \\sqrt{2} + 93\\right)} e^{\\left(2 \\, \\sqrt{2} x\\right)} - 20 \\, \\sqrt{2} + 2 \\, e^{\\left(\\sqrt{2} x + 7 \\, x\\right)} + 93\\right)} e^{\\left(-\\sqrt{2} x - x\\right)}\\)\n",
       "    "
      ]
     },
     "metadata": {},
     "output_type": "display_data"
    },
    {
     "data": {
      "text/html": [
       "\n",
       "    <h1> EDOs lineales de 2o Orden </h1>\n",
       "    <h2> Coeficientes indeterminados: \\( \\phi(x)=Ae^{kx} \\) </h2>\n",
       "    <p> Encuentre la solución \\(u(x)\\) de la siguiente ecuación diferencial\n",
       "    \\(-u\\left(x\\right) + 2 \\, \\frac{\\partial}{\\partial x}u\\left(x\\right) + \\frac{\\partial^{2}}{(\\partial x)^{2}}u\\left(x\\right) = -5 \\, e^{\\left(9 \\, x\\right)}\\) con condiciones iniciales \\(u(0)=-2, \\; u'(0)=-1\\)\n",
       "    y evalue en el punto dado:</p>\n",
       "    <pre>\n",
       "    u(1.52) = {1:NM:=-44558.0724768502:-1336.74217430551}\n",
       "    </pre>\n",
       "    "
      ],
      "text/plain": [
       "\n",
       "    <h1> EDOs lineales de 2o Orden </h1>\n",
       "    <h2> Coeficientes indeterminados: \\( \\phi(x)=Ae^{kx} \\) </h2>\n",
       "    <p> Encuentre la solución \\(u(x)\\) de la siguiente ecuación diferencial\n",
       "    \\(-u\\left(x\\right) + 2 \\, \\frac{\\partial}{\\partial x}u\\left(x\\right) + \\frac{\\partial^{2}}{(\\partial x)^{2}}u\\left(x\\right) = -5 \\, e^{\\left(9 \\, x\\right)}\\) con condiciones iniciales \\(u(0)=-2, \\; u'(0)=-1\\)\n",
       "    y evalue en el punto dado:</p>\n",
       "    <pre>\n",
       "    u(1.52) = {1:NM:=-44558.0724768502:-1336.74217430551}\n",
       "    </pre>\n",
       "    "
      ]
     },
     "metadata": {},
     "output_type": "display_data"
    },
    {
     "data": {
      "text/html": [
       "\n",
       "    La solución del problema de condiciones iniciales es\n",
       "    \\(u(x)=-\\frac{1}{196} \\, {\\left({\\left(122 \\, \\sqrt{2} + 191\\right)} e^{\\left(2 \\, \\sqrt{2} x\\right)} - 122 \\, \\sqrt{2} + 10 \\, e^{\\left(\\sqrt{2} x + 10 \\, x\\right)} + 191\\right)} e^{\\left(-\\sqrt{2} x - x\\right)}\\)\n",
       "    "
      ],
      "text/plain": [
       "\n",
       "    La solución del problema de condiciones iniciales es\n",
       "    \\(u(x)=-\\frac{1}{196} \\, {\\left({\\left(122 \\, \\sqrt{2} + 191\\right)} e^{\\left(2 \\, \\sqrt{2} x\\right)} - 122 \\, \\sqrt{2} + 10 \\, e^{\\left(\\sqrt{2} x + 10 \\, x\\right)} + 191\\right)} e^{\\left(-\\sqrt{2} x - x\\right)}\\)\n",
       "    "
      ]
     },
     "metadata": {},
     "output_type": "display_data"
    },
    {
     "data": {
      "text/html": [
       "\n",
       "    <h1> EDOs lineales de 2o Orden </h1>\n",
       "    <h2> Coeficientes indeterminados: \\( \\phi(x)=Ae^{kx} \\) </h2>\n",
       "    <p> Encuentre la solución \\(u(x)\\) de la siguiente ecuación diferencial\n",
       "    \\(-2 \\, u\\left(x\\right) + \\frac{\\partial}{\\partial x}u\\left(x\\right) + \\frac{\\partial^{2}}{(\\partial x)^{2}}u\\left(x\\right) = 5 \\, e^{\\left(3 \\, x\\right)}\\) con condiciones iniciales \\(u(0)=2, \\; u'(0)=0\\)\n",
       "    y evalue en el punto dado:</p>\n",
       "    <pre>\n",
       "    u(1.37) = {1:NM:=32.5056044794395:0.975168134383186}\n",
       "    </pre>\n",
       "    "
      ],
      "text/plain": [
       "\n",
       "    <h1> EDOs lineales de 2o Orden </h1>\n",
       "    <h2> Coeficientes indeterminados: \\( \\phi(x)=Ae^{kx} \\) </h2>\n",
       "    <p> Encuentre la solución \\(u(x)\\) de la siguiente ecuación diferencial\n",
       "    \\(-2 \\, u\\left(x\\right) + \\frac{\\partial}{\\partial x}u\\left(x\\right) + \\frac{\\partial^{2}}{(\\partial x)^{2}}u\\left(x\\right) = 5 \\, e^{\\left(3 \\, x\\right)}\\) con condiciones iniciales \\(u(0)=2, \\; u'(0)=0\\)\n",
       "    y evalue en el punto dado:</p>\n",
       "    <pre>\n",
       "    u(1.37) = {1:NM:=32.5056044794395:0.975168134383186}\n",
       "    </pre>\n",
       "    "
      ]
     },
     "metadata": {},
     "output_type": "display_data"
    },
    {
     "data": {
      "text/html": [
       "\n",
       "    La solución del problema de condiciones iniciales es\n",
       "    \\(u(x)=\\frac{1}{2} \\, {\\left(e^{\\left(5 \\, x\\right)} + e^{\\left(3 \\, x\\right)} + 2\\right)} e^{\\left(-2 \\, x\\right)}\\)\n",
       "    "
      ],
      "text/plain": [
       "\n",
       "    La solución del problema de condiciones iniciales es\n",
       "    \\(u(x)=\\frac{1}{2} \\, {\\left(e^{\\left(5 \\, x\\right)} + e^{\\left(3 \\, x\\right)} + 2\\right)} e^{\\left(-2 \\, x\\right)}\\)\n",
       "    "
      ]
     },
     "metadata": {},
     "output_type": "display_data"
    },
    {
     "data": {
      "text/html": [
       "\n",
       "    <h1> EDOs lineales de 2o Orden </h1>\n",
       "    <h2> Coeficientes indeterminados: \\( \\phi(x)=Ae^{kx} \\) </h2>\n",
       "    <p> Encuentre la solución \\(u(x)\\) de la siguiente ecuación diferencial\n",
       "    \\(2 \\, u\\left(x\\right) - 2 \\, \\frac{\\partial}{\\partial x}u\\left(x\\right) + \\frac{\\partial^{2}}{(\\partial x)^{2}}u\\left(x\\right) = -7 \\, e^{\\left(-8 \\, x\\right)}\\) con condiciones iniciales \\(u(0)=0, \\; u'(0)=1\\)\n",
       "    y evalue en el punto dado:</p>\n",
       "    <pre>\n",
       "    u(1.31) = {1:NM:=0.911285348097585:0.0273385604429276}\n",
       "    </pre>\n",
       "    "
      ],
      "text/plain": [
       "\n",
       "    <h1> EDOs lineales de 2o Orden </h1>\n",
       "    <h2> Coeficientes indeterminados: \\( \\phi(x)=Ae^{kx} \\) </h2>\n",
       "    <p> Encuentre la solución \\(u(x)\\) de la siguiente ecuación diferencial\n",
       "    \\(2 \\, u\\left(x\\right) - 2 \\, \\frac{\\partial}{\\partial x}u\\left(x\\right) + \\frac{\\partial^{2}}{(\\partial x)^{2}}u\\left(x\\right) = -7 \\, e^{\\left(-8 \\, x\\right)}\\) con condiciones iniciales \\(u(0)=0, \\; u'(0)=1\\)\n",
       "    y evalue en el punto dado:</p>\n",
       "    <pre>\n",
       "    u(1.31) = {1:NM:=0.911285348097585:0.0273385604429276}\n",
       "    </pre>\n",
       "    "
      ]
     },
     "metadata": {},
     "output_type": "display_data"
    },
    {
     "data": {
      "text/html": [
       "\n",
       "    La solución del problema de condiciones iniciales es\n",
       "    \\(u(x)=\\frac{1}{82} \\, {\\left(7 \\, \\cos\\left(x\\right) e^{\\left(9 \\, x\\right)} + 19 \\, e^{\\left(9 \\, x\\right)} \\sin\\left(x\\right) - 7\\right)} e^{\\left(-8 \\, x\\right)}\\)\n",
       "    "
      ],
      "text/plain": [
       "\n",
       "    La solución del problema de condiciones iniciales es\n",
       "    \\(u(x)=\\frac{1}{82} \\, {\\left(7 \\, \\cos\\left(x\\right) e^{\\left(9 \\, x\\right)} + 19 \\, e^{\\left(9 \\, x\\right)} \\sin\\left(x\\right) - 7\\right)} e^{\\left(-8 \\, x\\right)}\\)\n",
       "    "
      ]
     },
     "metadata": {},
     "output_type": "display_data"
    },
    {
     "data": {
      "text/html": [
       "\n",
       "    <h1> EDOs lineales de 2o Orden </h1>\n",
       "    <h2> Coeficientes indeterminados: \\( \\phi(x)=Ae^{kx} \\) </h2>\n",
       "    <p> Encuentre la solución \\(u(x)\\) de la siguiente ecuación diferencial\n",
       "    \\(2 \\, u\\left(x\\right) - 2 \\, \\frac{\\partial}{\\partial x}u\\left(x\\right) + \\frac{\\partial^{2}}{(\\partial x)^{2}}u\\left(x\\right) = -6 \\, e^{\\left(2 \\, x\\right)}\\) con condiciones iniciales \\(u(0)=1, \\; u'(0)=-2\\)\n",
       "    y evalue en el punto dado:</p>\n",
       "    <pre>\n",
       "    u(1.17) = {1:NM:=-26.1154462691931:-0.783463388075792}\n",
       "    </pre>\n",
       "    "
      ],
      "text/plain": [
       "\n",
       "    <h1> EDOs lineales de 2o Orden </h1>\n",
       "    <h2> Coeficientes indeterminados: \\( \\phi(x)=Ae^{kx} \\) </h2>\n",
       "    <p> Encuentre la solución \\(u(x)\\) de la siguiente ecuación diferencial\n",
       "    \\(2 \\, u\\left(x\\right) - 2 \\, \\frac{\\partial}{\\partial x}u\\left(x\\right) + \\frac{\\partial^{2}}{(\\partial x)^{2}}u\\left(x\\right) = -6 \\, e^{\\left(2 \\, x\\right)}\\) con condiciones iniciales \\(u(0)=1, \\; u'(0)=-2\\)\n",
       "    y evalue en el punto dado:</p>\n",
       "    <pre>\n",
       "    u(1.17) = {1:NM:=-26.1154462691931:-0.783463388075792}\n",
       "    </pre>\n",
       "    "
      ]
     },
     "metadata": {},
     "output_type": "display_data"
    },
    {
     "data": {
      "text/html": [
       "\n",
       "    La solución del problema de condiciones iniciales es\n",
       "    \\(u(x)=4 \\, \\cos\\left(x\\right) e^{x} - 3 \\, e^{\\left(2 \\, x\\right)}\\)\n",
       "    "
      ],
      "text/plain": [
       "\n",
       "    La solución del problema de condiciones iniciales es\n",
       "    \\(u(x)=4 \\, \\cos\\left(x\\right) e^{x} - 3 \\, e^{\\left(2 \\, x\\right)}\\)\n",
       "    "
      ]
     },
     "metadata": {},
     "output_type": "display_data"
    },
    {
     "data": {
      "text/html": [
       "\n",
       "    <h1> EDOs lineales de 2o Orden </h1>\n",
       "    <h2> Coeficientes indeterminados: \\( \\phi(x)=Ae^{kx} \\) </h2>\n",
       "    <p> Encuentre la solución \\(u(x)\\) de la siguiente ecuación diferencial\n",
       "    \\(u\\left(x\\right) + \\frac{\\partial}{\\partial x}u\\left(x\\right) + \\frac{\\partial^{2}}{(\\partial x)^{2}}u\\left(x\\right) = e^{\\left(5 \\, x\\right)}\\) con condiciones iniciales \\(u(0)=1, \\; u'(0)=-1\\)\n",
       "    y evalue en el punto dado:</p>\n",
       "    <pre>\n",
       "    u(1.85) = {1:NM:=335.309102609416:10.0592730782825}\n",
       "    </pre>\n",
       "    "
      ],
      "text/plain": [
       "\n",
       "    <h1> EDOs lineales de 2o Orden </h1>\n",
       "    <h2> Coeficientes indeterminados: \\( \\phi(x)=Ae^{kx} \\) </h2>\n",
       "    <p> Encuentre la solución \\(u(x)\\) de la siguiente ecuación diferencial\n",
       "    \\(u\\left(x\\right) + \\frac{\\partial}{\\partial x}u\\left(x\\right) + \\frac{\\partial^{2}}{(\\partial x)^{2}}u\\left(x\\right) = e^{\\left(5 \\, x\\right)}\\) con condiciones iniciales \\(u(0)=1, \\; u'(0)=-1\\)\n",
       "    y evalue en el punto dado:</p>\n",
       "    <pre>\n",
       "    u(1.85) = {1:NM:=335.309102609416:10.0592730782825}\n",
       "    </pre>\n",
       "    "
      ]
     },
     "metadata": {},
     "output_type": "display_data"
    },
    {
     "data": {
      "text/html": [
       "\n",
       "    La solución del problema de condiciones iniciales es\n",
       "    \\(u(x)=-\\frac{1}{31} \\, {\\left(14 \\, \\sqrt{3} \\sin\\left(\\frac{1}{2} \\, \\sqrt{3} x\\right) - 30 \\, \\cos\\left(\\frac{1}{2} \\, \\sqrt{3} x\\right) - e^{\\left(\\frac{11}{2} \\, x\\right)}\\right)} e^{\\left(-\\frac{1}{2} \\, x\\right)}\\)\n",
       "    "
      ],
      "text/plain": [
       "\n",
       "    La solución del problema de condiciones iniciales es\n",
       "    \\(u(x)=-\\frac{1}{31} \\, {\\left(14 \\, \\sqrt{3} \\sin\\left(\\frac{1}{2} \\, \\sqrt{3} x\\right) - 30 \\, \\cos\\left(\\frac{1}{2} \\, \\sqrt{3} x\\right) - e^{\\left(\\frac{11}{2} \\, x\\right)}\\right)} e^{\\left(-\\frac{1}{2} \\, x\\right)}\\)\n",
       "    "
      ]
     },
     "metadata": {},
     "output_type": "display_data"
    },
    {
     "data": {
      "text/html": [
       "\n",
       "    <h1> EDOs lineales de 2o Orden </h1>\n",
       "    <h2> Coeficientes indeterminados: \\( \\phi(x)=Ae^{kx} \\) </h2>\n",
       "    <p> Encuentre la solución \\(u(x)\\) de la siguiente ecuación diferencial\n",
       "    \\(2 \\, u\\left(x\\right) + 2 \\, \\frac{\\partial}{\\partial x}u\\left(x\\right) + \\frac{\\partial^{2}}{(\\partial x)^{2}}u\\left(x\\right) = 8 \\, e^{\\left(7 \\, x\\right)}\\) con condiciones iniciales \\(u(0)=-1, \\; u'(0)=2\\)\n",
       "    y evalue en el punto dado:</p>\n",
       "    <pre>\n",
       "    u(1.62) = {1:NM:=10353.2485741090:310.597457223269}\n",
       "    </pre>\n",
       "    "
      ],
      "text/plain": [
       "\n",
       "    <h1> EDOs lineales de 2o Orden </h1>\n",
       "    <h2> Coeficientes indeterminados: \\( \\phi(x)=Ae^{kx} \\) </h2>\n",
       "    <p> Encuentre la solución \\(u(x)\\) de la siguiente ecuación diferencial\n",
       "    \\(2 \\, u\\left(x\\right) + 2 \\, \\frac{\\partial}{\\partial x}u\\left(x\\right) + \\frac{\\partial^{2}}{(\\partial x)^{2}}u\\left(x\\right) = 8 \\, e^{\\left(7 \\, x\\right)}\\) con condiciones iniciales \\(u(0)=-1, \\; u'(0)=2\\)\n",
       "    y evalue en el punto dado:</p>\n",
       "    <pre>\n",
       "    u(1.62) = {1:NM:=10353.2485741090:310.597457223269}\n",
       "    </pre>\n",
       "    "
      ]
     },
     "metadata": {},
     "output_type": "display_data"
    },
    {
     "data": {
      "text/html": [
       "\n",
       "    La solución del problema de condiciones iniciales es\n",
       "    \\(u(x)=-\\frac{1}{65} \\, {\\left(73 \\, \\cos\\left(x\\right) - 8 \\, e^{\\left(8 \\, x\\right)} - \\sin\\left(x\\right)\\right)} e^{\\left(-x\\right)}\\)\n",
       "    "
      ],
      "text/plain": [
       "\n",
       "    La solución del problema de condiciones iniciales es\n",
       "    \\(u(x)=-\\frac{1}{65} \\, {\\left(73 \\, \\cos\\left(x\\right) - 8 \\, e^{\\left(8 \\, x\\right)} - \\sin\\left(x\\right)\\right)} e^{\\left(-x\\right)}\\)\n",
       "    "
      ]
     },
     "metadata": {},
     "output_type": "display_data"
    },
    {
     "data": {
      "text/html": [
       "\n",
       "    <h1> EDOs lineales de 2o Orden </h1>\n",
       "    <h2> Coeficientes indeterminados: \\( \\phi(x)=Ae^{kx} \\) </h2>\n",
       "    <p> Encuentre la solución \\(u(x)\\) de la siguiente ecuación diferencial\n",
       "    \\(-2 \\, u\\left(x\\right) + \\frac{\\partial^{2}}{(\\partial x)^{2}}u\\left(x\\right) = -9 \\, e^{\\left(7 \\, x\\right)}\\) con condiciones iniciales \\(u(0)=1, \\; u'(0)=-2\\)\n",
       "    y evalue en el punto dado:</p>\n",
       "    <pre>\n",
       "    u(1.59) = {1:NM:=-13053.4423976527:-391.603271929582}\n",
       "    </pre>\n",
       "    "
      ],
      "text/plain": [
       "\n",
       "    <h1> EDOs lineales de 2o Orden </h1>\n",
       "    <h2> Coeficientes indeterminados: \\( \\phi(x)=Ae^{kx} \\) </h2>\n",
       "    <p> Encuentre la solución \\(u(x)\\) de la siguiente ecuación diferencial\n",
       "    \\(-2 \\, u\\left(x\\right) + \\frac{\\partial^{2}}{(\\partial x)^{2}}u\\left(x\\right) = -9 \\, e^{\\left(7 \\, x\\right)}\\) con condiciones iniciales \\(u(0)=1, \\; u'(0)=-2\\)\n",
       "    y evalue en el punto dado:</p>\n",
       "    <pre>\n",
       "    u(1.59) = {1:NM:=-13053.4423976527:-391.603271929582}\n",
       "    </pre>\n",
       "    "
      ]
     },
     "metadata": {},
     "output_type": "display_data"
    },
    {
     "data": {
      "text/html": [
       "\n",
       "    La solución del problema de condiciones iniciales es\n",
       "    \\(u(x)=-\\frac{1}{188} \\, {\\left({\\left(31 \\, \\sqrt{2} - 112\\right)} e^{\\left(2 \\, \\sqrt{2} x\\right)} - 31 \\, \\sqrt{2} + 36 \\, e^{\\left(\\sqrt{2} x + 7 \\, x\\right)} - 112\\right)} e^{\\left(-\\sqrt{2} x\\right)}\\)\n",
       "    "
      ],
      "text/plain": [
       "\n",
       "    La solución del problema de condiciones iniciales es\n",
       "    \\(u(x)=-\\frac{1}{188} \\, {\\left({\\left(31 \\, \\sqrt{2} - 112\\right)} e^{\\left(2 \\, \\sqrt{2} x\\right)} - 31 \\, \\sqrt{2} + 36 \\, e^{\\left(\\sqrt{2} x + 7 \\, x\\right)} - 112\\right)} e^{\\left(-\\sqrt{2} x\\right)}\\)\n",
       "    "
      ]
     },
     "metadata": {},
     "output_type": "display_data"
    },
    {
     "data": {
      "text/html": [
       "\n",
       "    <h1> EDOs lineales de 2o Orden </h1>\n",
       "    <h2> Coeficientes indeterminados: \\( \\phi(x)=Ae^{kx} \\) </h2>\n",
       "    <p> Encuentre la solución \\(u(x)\\) de la siguiente ecuación diferencial\n",
       "    \\(-2 \\, u\\left(x\\right) - \\frac{\\partial}{\\partial x}u\\left(x\\right) + \\frac{\\partial^{2}}{(\\partial x)^{2}}u\\left(x\\right) = e^{\\left(3 \\, x\\right)}\\) con condiciones iniciales \\(u(0)=1, \\; u'(0)=2\\)\n",
       "    y evalue en el punto dado:</p>\n",
       "    <pre>\n",
       "    u(1.88) = {1:NM:=99.0106794468084:2.97032038340425}\n",
       "    </pre>\n",
       "    "
      ],
      "text/plain": [
       "\n",
       "    <h1> EDOs lineales de 2o Orden </h1>\n",
       "    <h2> Coeficientes indeterminados: \\( \\phi(x)=Ae^{kx} \\) </h2>\n",
       "    <p> Encuentre la solución \\(u(x)\\) de la siguiente ecuación diferencial\n",
       "    \\(-2 \\, u\\left(x\\right) - \\frac{\\partial}{\\partial x}u\\left(x\\right) + \\frac{\\partial^{2}}{(\\partial x)^{2}}u\\left(x\\right) = e^{\\left(3 \\, x\\right)}\\) con condiciones iniciales \\(u(0)=1, \\; u'(0)=2\\)\n",
       "    y evalue en el punto dado:</p>\n",
       "    <pre>\n",
       "    u(1.88) = {1:NM:=99.0106794468084:2.97032038340425}\n",
       "    </pre>\n",
       "    "
      ]
     },
     "metadata": {},
     "output_type": "display_data"
    },
    {
     "data": {
      "text/html": [
       "\n",
       "    La solución del problema de condiciones iniciales es\n",
       "    \\(u(x)=\\frac{1}{12} \\, {\\left(3 \\, e^{\\left(4 \\, x\\right)} + 8 \\, e^{\\left(3 \\, x\\right)} + 1\\right)} e^{\\left(-x\\right)}\\)\n",
       "    "
      ],
      "text/plain": [
       "\n",
       "    La solución del problema de condiciones iniciales es\n",
       "    \\(u(x)=\\frac{1}{12} \\, {\\left(3 \\, e^{\\left(4 \\, x\\right)} + 8 \\, e^{\\left(3 \\, x\\right)} + 1\\right)} e^{\\left(-x\\right)}\\)\n",
       "    "
      ]
     },
     "metadata": {},
     "output_type": "display_data"
    },
    {
     "data": {
      "text/html": [
       "\n",
       "    <h1> EDOs lineales de 2o Orden </h1>\n",
       "    <h2> Coeficientes indeterminados: \\( \\phi(x)=Ae^{kx} \\) </h2>\n",
       "    <p> Encuentre la solución \\(u(x)\\) de la siguiente ecuación diferencial\n",
       "    \\(u\\left(x\\right) + \\frac{\\partial}{\\partial x}u\\left(x\\right) + \\frac{\\partial^{2}}{(\\partial x)^{2}}u\\left(x\\right) = -4 \\, e^{\\left(4 \\, x\\right)}\\) con condiciones iniciales \\(u(0)=0, \\; u'(0)=2\\)\n",
       "    y evalue en el punto dado:</p>\n",
       "    <pre>\n",
       "    u(1.21) = {1:NM:=-22.4766190070080:-0.674298570210241}\n",
       "    </pre>\n",
       "    "
      ],
      "text/plain": [
       "\n",
       "    <h1> EDOs lineales de 2o Orden </h1>\n",
       "    <h2> Coeficientes indeterminados: \\( \\phi(x)=Ae^{kx} \\) </h2>\n",
       "    <p> Encuentre la solución \\(u(x)\\) de la siguiente ecuación diferencial\n",
       "    \\(u\\left(x\\right) + \\frac{\\partial}{\\partial x}u\\left(x\\right) + \\frac{\\partial^{2}}{(\\partial x)^{2}}u\\left(x\\right) = -4 \\, e^{\\left(4 \\, x\\right)}\\) con condiciones iniciales \\(u(0)=0, \\; u'(0)=2\\)\n",
       "    y evalue en el punto dado:</p>\n",
       "    <pre>\n",
       "    u(1.21) = {1:NM:=-22.4766190070080:-0.674298570210241}\n",
       "    </pre>\n",
       "    "
      ]
     },
     "metadata": {},
     "output_type": "display_data"
    },
    {
     "data": {
      "text/html": [
       "\n",
       "    La solución del problema de condiciones iniciales es\n",
       "    \\(u(x)=\\frac{4}{21} \\, {\\left(10 \\, \\sqrt{3} \\sin\\left(\\frac{1}{2} \\, \\sqrt{3} x\\right) + \\cos\\left(\\frac{1}{2} \\, \\sqrt{3} x\\right) - e^{\\left(\\frac{9}{2} \\, x\\right)}\\right)} e^{\\left(-\\frac{1}{2} \\, x\\right)}\\)\n",
       "    "
      ],
      "text/plain": [
       "\n",
       "    La solución del problema de condiciones iniciales es\n",
       "    \\(u(x)=\\frac{4}{21} \\, {\\left(10 \\, \\sqrt{3} \\sin\\left(\\frac{1}{2} \\, \\sqrt{3} x\\right) + \\cos\\left(\\frac{1}{2} \\, \\sqrt{3} x\\right) - e^{\\left(\\frac{9}{2} \\, x\\right)}\\right)} e^{\\left(-\\frac{1}{2} \\, x\\right)}\\)\n",
       "    "
      ]
     },
     "metadata": {},
     "output_type": "display_data"
    },
    {
     "data": {
      "text/html": [
       "\n",
       "    <h1> EDOs lineales de 2o Orden </h1>\n",
       "    <h2> Coeficientes indeterminados: \\( \\phi(x)=Ae^{kx} \\) </h2>\n",
       "    <p> Encuentre la solución \\(u(x)\\) de la siguiente ecuación diferencial\n",
       "    \\(-2 \\, \\frac{\\partial}{\\partial x}u\\left(x\\right) + \\frac{\\partial^{2}}{(\\partial x)^{2}}u\\left(x\\right) = 10 \\, e^{\\left(-4 \\, x\\right)}\\) con condiciones iniciales \\(u(0)=-1, \\; u'(0)=2\\)\n",
       "    y evalue en el punto dado:</p>\n",
       "    <pre>\n",
       "    u(1.7) = {1:NM:=51.6846474932061:1.55053942479618}\n",
       "    </pre>\n",
       "    "
      ],
      "text/plain": [
       "\n",
       "    <h1> EDOs lineales de 2o Orden </h1>\n",
       "    <h2> Coeficientes indeterminados: \\( \\phi(x)=Ae^{kx} \\) </h2>\n",
       "    <p> Encuentre la solución \\(u(x)\\) de la siguiente ecuación diferencial\n",
       "    \\(-2 \\, \\frac{\\partial}{\\partial x}u\\left(x\\right) + \\frac{\\partial^{2}}{(\\partial x)^{2}}u\\left(x\\right) = 10 \\, e^{\\left(-4 \\, x\\right)}\\) con condiciones iniciales \\(u(0)=-1, \\; u'(0)=2\\)\n",
       "    y evalue en el punto dado:</p>\n",
       "    <pre>\n",
       "    u(1.7) = {1:NM:=51.6846474932061:1.55053942479618}\n",
       "    </pre>\n",
       "    "
      ]
     },
     "metadata": {},
     "output_type": "display_data"
    },
    {
     "data": {
      "text/html": [
       "\n",
       "    La solución del problema de condiciones iniciales es\n",
       "    \\(u(x)=\\frac{1}{12} \\, {\\left(22 \\, e^{\\left(6 \\, x\\right)} - 39 \\, e^{\\left(4 \\, x\\right)} + 5\\right)} e^{\\left(-4 \\, x\\right)}\\)\n",
       "    "
      ],
      "text/plain": [
       "\n",
       "    La solución del problema de condiciones iniciales es\n",
       "    \\(u(x)=\\frac{1}{12} \\, {\\left(22 \\, e^{\\left(6 \\, x\\right)} - 39 \\, e^{\\left(4 \\, x\\right)} + 5\\right)} e^{\\left(-4 \\, x\\right)}\\)\n",
       "    "
      ]
     },
     "metadata": {},
     "output_type": "display_data"
    },
    {
     "data": {
      "text/html": [
       "\n",
       "    <h1> EDOs lineales de 2o Orden </h1>\n",
       "    <h2> Coeficientes indeterminados: \\( \\phi(x)=Ae^{kx} \\) </h2>\n",
       "    <p> Encuentre la solución \\(u(x)\\) de la siguiente ecuación diferencial\n",
       "    \\(-2 \\, u\\left(x\\right) - 2 \\, \\frac{\\partial}{\\partial x}u\\left(x\\right) + \\frac{\\partial^{2}}{(\\partial x)^{2}}u\\left(x\\right) = -3 \\, e^{\\left(-4 \\, x\\right)}\\) con condiciones iniciales \\(u(0)=1, \\; u'(0)=0\\)\n",
       "    y evalue en el punto dado:</p>\n",
       "    <pre>\n",
       "    u(1.55) = {1:NM:=6.04688233950559:0.181406470185168}\n",
       "    </pre>\n",
       "    "
      ],
      "text/plain": [
       "\n",
       "    <h1> EDOs lineales de 2o Orden </h1>\n",
       "    <h2> Coeficientes indeterminados: \\( \\phi(x)=Ae^{kx} \\) </h2>\n",
       "    <p> Encuentre la solución \\(u(x)\\) de la siguiente ecuación diferencial\n",
       "    \\(-2 \\, u\\left(x\\right) - 2 \\, \\frac{\\partial}{\\partial x}u\\left(x\\right) + \\frac{\\partial^{2}}{(\\partial x)^{2}}u\\left(x\\right) = -3 \\, e^{\\left(-4 \\, x\\right)}\\) con condiciones iniciales \\(u(0)=1, \\; u'(0)=0\\)\n",
       "    y evalue en el punto dado:</p>\n",
       "    <pre>\n",
       "    u(1.55) = {1:NM:=6.04688233950559:0.181406470185168}\n",
       "    </pre>\n",
       "    "
      ]
     },
     "metadata": {},
     "output_type": "display_data"
    },
    {
     "data": {
      "text/html": [
       "\n",
       "    La solución del problema de condiciones iniciales es\n",
       "    \\(u(x)=-\\frac{1}{132} \\, {\\left({\\left(37 \\, \\sqrt{3} - 75\\right)} e^{\\left(2 \\, \\sqrt{3} x + 5 \\, x\\right)} - {\\left(37 \\, \\sqrt{3} + 75\\right)} e^{\\left(5 \\, x\\right)} + 18 \\, e^{\\left(\\sqrt{3} x\\right)}\\right)} e^{\\left(-\\sqrt{3} x - 4 \\, x\\right)}\\)\n",
       "    "
      ],
      "text/plain": [
       "\n",
       "    La solución del problema de condiciones iniciales es\n",
       "    \\(u(x)=-\\frac{1}{132} \\, {\\left({\\left(37 \\, \\sqrt{3} - 75\\right)} e^{\\left(2 \\, \\sqrt{3} x + 5 \\, x\\right)} - {\\left(37 \\, \\sqrt{3} + 75\\right)} e^{\\left(5 \\, x\\right)} + 18 \\, e^{\\left(\\sqrt{3} x\\right)}\\right)} e^{\\left(-\\sqrt{3} x - 4 \\, x\\right)}\\)\n",
       "    "
      ]
     },
     "metadata": {},
     "output_type": "display_data"
    },
    {
     "data": {
      "text/html": [
       "\n",
       "    <h1> EDOs lineales de 2o Orden </h1>\n",
       "    <h2> Coeficientes indeterminados: \\( \\phi(x)=Ae^{kx} \\) </h2>\n",
       "    <p> Encuentre la solución \\(u(x)\\) de la siguiente ecuación diferencial\n",
       "    \\(2 \\, u\\left(x\\right) + \\frac{\\partial}{\\partial x}u\\left(x\\right) + \\frac{\\partial^{2}}{(\\partial x)^{2}}u\\left(x\\right) = 6 \\, e^{\\left(-5 \\, x\\right)}\\) con condiciones iniciales \\(u(0)=2, \\; u'(0)=0\\)\n",
       "    y evalue en el punto dado:</p>\n",
       "    <pre>\n",
       "    u(1.71) = {1:NM:=0.0833516893087897:0.00250055067926369}\n",
       "    </pre>\n",
       "    "
      ],
      "text/plain": [
       "\n",
       "    <h1> EDOs lineales de 2o Orden </h1>\n",
       "    <h2> Coeficientes indeterminados: \\( \\phi(x)=Ae^{kx} \\) </h2>\n",
       "    <p> Encuentre la solución \\(u(x)\\) de la siguiente ecuación diferencial\n",
       "    \\(2 \\, u\\left(x\\right) + \\frac{\\partial}{\\partial x}u\\left(x\\right) + \\frac{\\partial^{2}}{(\\partial x)^{2}}u\\left(x\\right) = 6 \\, e^{\\left(-5 \\, x\\right)}\\) con condiciones iniciales \\(u(0)=2, \\; u'(0)=0\\)\n",
       "    y evalue en el punto dado:</p>\n",
       "    <pre>\n",
       "    u(1.71) = {1:NM:=0.0833516893087897:0.00250055067926369}\n",
       "    </pre>\n",
       "    "
      ]
     },
     "metadata": {},
     "output_type": "display_data"
    },
    {
     "data": {
      "text/html": [
       "\n",
       "    La solución del problema de condiciones iniciales es\n",
       "    \\(u(x)=\\frac{1}{11} \\, {\\left(7 \\, \\sqrt{7} e^{\\left(5 \\, x\\right)} \\sin\\left(\\frac{1}{2} \\, \\sqrt{7} x\\right) + 19 \\, \\cos\\left(\\frac{1}{2} \\, \\sqrt{7} x\\right) e^{\\left(5 \\, x\\right)} + 3 \\, e^{\\left(\\frac{1}{2} \\, x\\right)}\\right)} e^{\\left(-\\frac{11}{2} \\, x\\right)}\\)\n",
       "    "
      ],
      "text/plain": [
       "\n",
       "    La solución del problema de condiciones iniciales es\n",
       "    \\(u(x)=\\frac{1}{11} \\, {\\left(7 \\, \\sqrt{7} e^{\\left(5 \\, x\\right)} \\sin\\left(\\frac{1}{2} \\, \\sqrt{7} x\\right) + 19 \\, \\cos\\left(\\frac{1}{2} \\, \\sqrt{7} x\\right) e^{\\left(5 \\, x\\right)} + 3 \\, e^{\\left(\\frac{1}{2} \\, x\\right)}\\right)} e^{\\left(-\\frac{11}{2} \\, x\\right)}\\)\n",
       "    "
      ]
     },
     "metadata": {},
     "output_type": "display_data"
    },
    {
     "data": {
      "text/html": [
       "\n",
       "    <h1> EDOs lineales de 2o Orden </h1>\n",
       "    <h2> Coeficientes indeterminados: \\( \\phi(x)=Ae^{kx} \\) </h2>\n",
       "    <p> Encuentre la solución \\(u(x)\\) de la siguiente ecuación diferencial\n",
       "    \\(2 \\, u\\left(x\\right) + 2 \\, \\frac{\\partial}{\\partial x}u\\left(x\\right) + \\frac{\\partial^{2}}{(\\partial x)^{2}}u\\left(x\\right) = 6 \\, e^{\\left(6 \\, x\\right)}\\) con condiciones iniciales \\(u(0)=-1, \\; u'(0)=-2\\)\n",
       "    y evalue en el punto dado:</p>\n",
       "    <pre>\n",
       "    u(1.46) = {1:NM:=763.978310468196:22.9193493140459}\n",
       "    </pre>\n",
       "    "
      ],
      "text/plain": [
       "\n",
       "    <h1> EDOs lineales de 2o Orden </h1>\n",
       "    <h2> Coeficientes indeterminados: \\( \\phi(x)=Ae^{kx} \\) </h2>\n",
       "    <p> Encuentre la solución \\(u(x)\\) de la siguiente ecuación diferencial\n",
       "    \\(2 \\, u\\left(x\\right) + 2 \\, \\frac{\\partial}{\\partial x}u\\left(x\\right) + \\frac{\\partial^{2}}{(\\partial x)^{2}}u\\left(x\\right) = 6 \\, e^{\\left(6 \\, x\\right)}\\) con condiciones iniciales \\(u(0)=-1, \\; u'(0)=-2\\)\n",
       "    y evalue en el punto dado:</p>\n",
       "    <pre>\n",
       "    u(1.46) = {1:NM:=763.978310468196:22.9193493140459}\n",
       "    </pre>\n",
       "    "
      ]
     },
     "metadata": {},
     "output_type": "display_data"
    },
    {
     "data": {
      "text/html": [
       "\n",
       "    La solución del problema de condiciones iniciales es\n",
       "    \\(u(x)=-\\frac{1}{25} \\, {\\left(28 \\, \\cos\\left(x\\right) - 3 \\, e^{\\left(7 \\, x\\right)} + 96 \\, \\sin\\left(x\\right)\\right)} e^{\\left(-x\\right)}\\)\n",
       "    "
      ],
      "text/plain": [
       "\n",
       "    La solución del problema de condiciones iniciales es\n",
       "    \\(u(x)=-\\frac{1}{25} \\, {\\left(28 \\, \\cos\\left(x\\right) - 3 \\, e^{\\left(7 \\, x\\right)} + 96 \\, \\sin\\left(x\\right)\\right)} e^{\\left(-x\\right)}\\)\n",
       "    "
      ]
     },
     "metadata": {},
     "output_type": "display_data"
    },
    {
     "data": {
      "text/html": [
       "\n",
       "    <h1> EDOs lineales de 2o Orden </h1>\n",
       "    <h2> Coeficientes indeterminados: \\( \\phi(x)=Ae^{kx} \\) </h2>\n",
       "    <p> Encuentre la solución \\(u(x)\\) de la siguiente ecuación diferencial\n",
       "    \\(-2 \\, u\\left(x\\right) - \\frac{\\partial}{\\partial x}u\\left(x\\right) + \\frac{\\partial^{2}}{(\\partial x)^{2}}u\\left(x\\right) = 5 \\, e^{\\left(-5 \\, x\\right)}\\) con condiciones iniciales \\(u(0)=1, \\; u'(0)=-2\\)\n",
       "    y evalue en el punto dado:</p>\n",
       "    <pre>\n",
       "    u(1.32) = {1:NM:=-1.08947387011828:-0.0326842161035483}\n",
       "    </pre>\n",
       "    "
      ],
      "text/plain": [
       "\n",
       "    <h1> EDOs lineales de 2o Orden </h1>\n",
       "    <h2> Coeficientes indeterminados: \\( \\phi(x)=Ae^{kx} \\) </h2>\n",
       "    <p> Encuentre la solución \\(u(x)\\) de la siguiente ecuación diferencial\n",
       "    \\(-2 \\, u\\left(x\\right) - \\frac{\\partial}{\\partial x}u\\left(x\\right) + \\frac{\\partial^{2}}{(\\partial x)^{2}}u\\left(x\\right) = 5 \\, e^{\\left(-5 \\, x\\right)}\\) con condiciones iniciales \\(u(0)=1, \\; u'(0)=-2\\)\n",
       "    y evalue en el punto dado:</p>\n",
       "    <pre>\n",
       "    u(1.32) = {1:NM:=-1.08947387011828:-0.0326842161035483}\n",
       "    </pre>\n",
       "    "
      ]
     },
     "metadata": {},
     "output_type": "display_data"
    },
    {
     "data": {
      "text/html": [
       "\n",
       "    La solución del problema de condiciones iniciales es\n",
       "    \\(u(x)=-\\frac{1}{84} \\, {\\left(8 \\, e^{\\left(7 \\, x\\right)} - 77 \\, e^{\\left(4 \\, x\\right)} - 15\\right)} e^{\\left(-5 \\, x\\right)}\\)\n",
       "    "
      ],
      "text/plain": [
       "\n",
       "    La solución del problema de condiciones iniciales es\n",
       "    \\(u(x)=-\\frac{1}{84} \\, {\\left(8 \\, e^{\\left(7 \\, x\\right)} - 77 \\, e^{\\left(4 \\, x\\right)} - 15\\right)} e^{\\left(-5 \\, x\\right)}\\)\n",
       "    "
      ]
     },
     "metadata": {},
     "output_type": "display_data"
    },
    {
     "data": {
      "text/html": [
       "\n",
       "    <h1> EDOs lineales de 2o Orden </h1>\n",
       "    <h2> Coeficientes indeterminados: \\( \\phi(x)=Ae^{kx} \\) </h2>\n",
       "    <p> Encuentre la solución \\(u(x)\\) de la siguiente ecuación diferencial\n",
       "    \\(2 \\, \\frac{\\partial}{\\partial x}u\\left(x\\right) + \\frac{\\partial^{2}}{(\\partial x)^{2}}u\\left(x\\right) = 5 \\, e^{\\left(7 \\, x\\right)}\\) con condiciones iniciales \\(u(0)=1, \\; u'(0)=1\\)\n",
       "    y evalue en el punto dado:</p>\n",
       "    <pre>\n",
       "    u(1.52) = {1:NM:=3316.43153022420:99.4929459067259}\n",
       "    </pre>\n",
       "    "
      ],
      "text/plain": [
       "\n",
       "    <h1> EDOs lineales de 2o Orden </h1>\n",
       "    <h2> Coeficientes indeterminados: \\( \\phi(x)=Ae^{kx} \\) </h2>\n",
       "    <p> Encuentre la solución \\(u(x)\\) de la siguiente ecuación diferencial\n",
       "    \\(2 \\, \\frac{\\partial}{\\partial x}u\\left(x\\right) + \\frac{\\partial^{2}}{(\\partial x)^{2}}u\\left(x\\right) = 5 \\, e^{\\left(7 \\, x\\right)}\\) con condiciones iniciales \\(u(0)=1, \\; u'(0)=1\\)\n",
       "    y evalue en el punto dado:</p>\n",
       "    <pre>\n",
       "    u(1.52) = {1:NM:=3316.43153022420:99.4929459067259}\n",
       "    </pre>\n",
       "    "
      ]
     },
     "metadata": {},
     "output_type": "display_data"
    },
    {
     "data": {
      "text/html": [
       "\n",
       "    La solución del problema de condiciones iniciales es\n",
       "    \\(u(x)=\\frac{1}{63} \\, {\\left(5 \\, e^{\\left(9 \\, x\\right)} + 72 \\, e^{\\left(2 \\, x\\right)} - 14\\right)} e^{\\left(-2 \\, x\\right)}\\)\n",
       "    "
      ],
      "text/plain": [
       "\n",
       "    La solución del problema de condiciones iniciales es\n",
       "    \\(u(x)=\\frac{1}{63} \\, {\\left(5 \\, e^{\\left(9 \\, x\\right)} + 72 \\, e^{\\left(2 \\, x\\right)} - 14\\right)} e^{\\left(-2 \\, x\\right)}\\)\n",
       "    "
      ]
     },
     "metadata": {},
     "output_type": "display_data"
    },
    {
     "data": {
      "text/html": [
       "\n",
       "    <h1> EDOs lineales de 2o Orden </h1>\n",
       "    <h2> Coeficientes indeterminados: \\( \\phi(x)=Ae^{kx} \\) </h2>\n",
       "    <p> Encuentre la solución \\(u(x)\\) de la siguiente ecuación diferencial\n",
       "    \\(u\\left(x\\right) - 2 \\, \\frac{\\partial}{\\partial x}u\\left(x\\right) + \\frac{\\partial^{2}}{(\\partial x)^{2}}u\\left(x\\right) = -e^{\\left(-9 \\, x\\right)}\\) con condiciones iniciales \\(u(0)=1, \\; u'(0)=1\\)\n",
       "    y evalue en el punto dado:</p>\n",
       "    <pre>\n",
       "    u(1.68) = {1:NM:=4.51779812497159:0.135533943749148}\n",
       "    </pre>\n",
       "    "
      ],
      "text/plain": [
       "\n",
       "    <h1> EDOs lineales de 2o Orden </h1>\n",
       "    <h2> Coeficientes indeterminados: \\( \\phi(x)=Ae^{kx} \\) </h2>\n",
       "    <p> Encuentre la solución \\(u(x)\\) de la siguiente ecuación diferencial\n",
       "    \\(u\\left(x\\right) - 2 \\, \\frac{\\partial}{\\partial x}u\\left(x\\right) + \\frac{\\partial^{2}}{(\\partial x)^{2}}u\\left(x\\right) = -e^{\\left(-9 \\, x\\right)}\\) con condiciones iniciales \\(u(0)=1, \\; u'(0)=1\\)\n",
       "    y evalue en el punto dado:</p>\n",
       "    <pre>\n",
       "    u(1.68) = {1:NM:=4.51779812497159:0.135533943749148}\n",
       "    </pre>\n",
       "    "
      ]
     },
     "metadata": {},
     "output_type": "display_data"
    },
    {
     "data": {
      "text/html": [
       "\n",
       "    La solución del problema de condiciones iniciales es\n",
       "    \\(u(x)=-\\frac{1}{100} \\, {\\left({\\left(10 \\, x - 101\\right)} e^{\\left(10 \\, x\\right)} + 1\\right)} e^{\\left(-9 \\, x\\right)}\\)\n",
       "    "
      ],
      "text/plain": [
       "\n",
       "    La solución del problema de condiciones iniciales es\n",
       "    \\(u(x)=-\\frac{1}{100} \\, {\\left({\\left(10 \\, x - 101\\right)} e^{\\left(10 \\, x\\right)} + 1\\right)} e^{\\left(-9 \\, x\\right)}\\)\n",
       "    "
      ]
     },
     "metadata": {},
     "output_type": "display_data"
    },
    {
     "data": {
      "text/html": [
       "\n",
       "    <h1> EDOs lineales de 2o Orden </h1>\n",
       "    <h2> Coeficientes indeterminados: \\( \\phi(x)=Ae^{kx} \\) </h2>\n",
       "    <p> Encuentre la solución \\(u(x)\\) de la siguiente ecuación diferencial\n",
       "    \\(2 \\, \\frac{\\partial}{\\partial x}u\\left(x\\right) + \\frac{\\partial^{2}}{(\\partial x)^{2}}u\\left(x\\right) = -6 \\, e^{\\left(-6 \\, x\\right)}\\) con condiciones iniciales \\(u(0)=-2, \\; u'(0)=0\\)\n",
       "    y evalue en el punto dado:</p>\n",
       "    <pre>\n",
       "    u(1.34) = {1:NM:=-2.44865821162182:-0.0734597463486546}\n",
       "    </pre>\n",
       "    "
      ],
      "text/plain": [
       "\n",
       "    <h1> EDOs lineales de 2o Orden </h1>\n",
       "    <h2> Coeficientes indeterminados: \\( \\phi(x)=Ae^{kx} \\) </h2>\n",
       "    <p> Encuentre la solución \\(u(x)\\) de la siguiente ecuación diferencial\n",
       "    \\(2 \\, \\frac{\\partial}{\\partial x}u\\left(x\\right) + \\frac{\\partial^{2}}{(\\partial x)^{2}}u\\left(x\\right) = -6 \\, e^{\\left(-6 \\, x\\right)}\\) con condiciones iniciales \\(u(0)=-2, \\; u'(0)=0\\)\n",
       "    y evalue en el punto dado:</p>\n",
       "    <pre>\n",
       "    u(1.34) = {1:NM:=-2.44865821162182:-0.0734597463486546}\n",
       "    </pre>\n",
       "    "
      ]
     },
     "metadata": {},
     "output_type": "display_data"
    },
    {
     "data": {
      "text/html": [
       "\n",
       "    La solución del problema de condiciones iniciales es\n",
       "    \\(u(x)=-\\frac{1}{4} \\, {\\left(10 \\, e^{\\left(6 \\, x\\right)} - 3 \\, e^{\\left(4 \\, x\\right)} + 1\\right)} e^{\\left(-6 \\, x\\right)}\\)\n",
       "    "
      ],
      "text/plain": [
       "\n",
       "    La solución del problema de condiciones iniciales es\n",
       "    \\(u(x)=-\\frac{1}{4} \\, {\\left(10 \\, e^{\\left(6 \\, x\\right)} - 3 \\, e^{\\left(4 \\, x\\right)} + 1\\right)} e^{\\left(-6 \\, x\\right)}\\)\n",
       "    "
      ]
     },
     "metadata": {},
     "output_type": "display_data"
    },
    {
     "data": {
      "text/html": [
       "\n",
       "    <h1> EDOs lineales de 2o Orden </h1>\n",
       "    <h2> Coeficientes indeterminados: \\( \\phi(x)=Ae^{kx} \\) </h2>\n",
       "    <p> Encuentre la solución \\(u(x)\\) de la siguiente ecuación diferencial\n",
       "    \\(-2 \\, u\\left(x\\right) + 2 \\, \\frac{\\partial}{\\partial x}u\\left(x\\right) + \\frac{\\partial^{2}}{(\\partial x)^{2}}u\\left(x\\right) = -6 \\, e^{\\left(6 \\, x\\right)}\\) con condiciones iniciales \\(u(0)=1, \\; u'(0)=2\\)\n",
       "    y evalue en el punto dado:</p>\n",
       "    <pre>\n",
       "    u(1.61) = {1:NM:=-2039.42751559655:-61.1828254678964}\n",
       "    </pre>\n",
       "    "
      ],
      "text/plain": [
       "\n",
       "    <h1> EDOs lineales de 2o Orden </h1>\n",
       "    <h2> Coeficientes indeterminados: \\( \\phi(x)=Ae^{kx} \\) </h2>\n",
       "    <p> Encuentre la solución \\(u(x)\\) de la siguiente ecuación diferencial\n",
       "    \\(-2 \\, u\\left(x\\right) + 2 \\, \\frac{\\partial}{\\partial x}u\\left(x\\right) + \\frac{\\partial^{2}}{(\\partial x)^{2}}u\\left(x\\right) = -6 \\, e^{\\left(6 \\, x\\right)}\\) con condiciones iniciales \\(u(0)=1, \\; u'(0)=2\\)\n",
       "    y evalue en el punto dado:</p>\n",
       "    <pre>\n",
       "    u(1.61) = {1:NM:=-2039.42751559655:-61.1828254678964}\n",
       "    </pre>\n",
       "    "
      ]
     },
     "metadata": {},
     "output_type": "display_data"
    },
    {
     "data": {
      "text/html": [
       "\n",
       "    La solución del problema de condiciones iniciales es\n",
       "    \\(u(x)=\\frac{1}{23} \\, {\\left({\\left(15 \\, \\sqrt{3} + 13\\right)} e^{\\left(2 \\, \\sqrt{3} x\\right)} - 15 \\, \\sqrt{3} - 3 \\, e^{\\left(\\sqrt{3} x + 7 \\, x\\right)} + 13\\right)} e^{\\left(-\\sqrt{3} x - x\\right)}\\)\n",
       "    "
      ],
      "text/plain": [
       "\n",
       "    La solución del problema de condiciones iniciales es\n",
       "    \\(u(x)=\\frac{1}{23} \\, {\\left({\\left(15 \\, \\sqrt{3} + 13\\right)} e^{\\left(2 \\, \\sqrt{3} x\\right)} - 15 \\, \\sqrt{3} - 3 \\, e^{\\left(\\sqrt{3} x + 7 \\, x\\right)} + 13\\right)} e^{\\left(-\\sqrt{3} x - x\\right)}\\)\n",
       "    "
      ]
     },
     "metadata": {},
     "output_type": "display_data"
    },
    {
     "data": {
      "text/html": [
       "\n",
       "    <h1> EDOs lineales de 2o Orden </h1>\n",
       "    <h2> Coeficientes indeterminados: \\( \\phi(x)=Ae^{kx} \\) </h2>\n",
       "    <p> Encuentre la solución \\(u(x)\\) de la siguiente ecuación diferencial\n",
       "    \\(2 \\, u\\left(x\\right) + \\frac{\\partial^{2}}{(\\partial x)^{2}}u\\left(x\\right) = -4 \\, e^{\\left(10 \\, x\\right)}\\) con condiciones iniciales \\(u(0)=1, \\; u'(0)=2\\)\n",
       "    y evalue en el punto dado:</p>\n",
       "    <pre>\n",
       "    u(1.67) = {1:NM:=-701741.867880399:-21052.2560364120}\n",
       "    </pre>\n",
       "    "
      ],
      "text/plain": [
       "\n",
       "    <h1> EDOs lineales de 2o Orden </h1>\n",
       "    <h2> Coeficientes indeterminados: \\( \\phi(x)=Ae^{kx} \\) </h2>\n",
       "    <p> Encuentre la solución \\(u(x)\\) de la siguiente ecuación diferencial\n",
       "    \\(2 \\, u\\left(x\\right) + \\frac{\\partial^{2}}{(\\partial x)^{2}}u\\left(x\\right) = -4 \\, e^{\\left(10 \\, x\\right)}\\) con condiciones iniciales \\(u(0)=1, \\; u'(0)=2\\)\n",
       "    y evalue en el punto dado:</p>\n",
       "    <pre>\n",
       "    u(1.67) = {1:NM:=-701741.867880399:-21052.2560364120}\n",
       "    </pre>\n",
       "    "
      ]
     },
     "metadata": {},
     "output_type": "display_data"
    },
    {
     "data": {
      "text/html": [
       "\n",
       "    La solución del problema de condiciones iniciales es\n",
       "    \\(u(x)=\\frac{61}{51} \\, \\sqrt{2} \\sin\\left(\\sqrt{2} x\\right) + \\frac{53}{51} \\, \\cos\\left(\\sqrt{2} x\\right) - \\frac{2}{51} \\, e^{\\left(10 \\, x\\right)}\\)\n",
       "    "
      ],
      "text/plain": [
       "\n",
       "    La solución del problema de condiciones iniciales es\n",
       "    \\(u(x)=\\frac{61}{51} \\, \\sqrt{2} \\sin\\left(\\sqrt{2} x\\right) + \\frac{53}{51} \\, \\cos\\left(\\sqrt{2} x\\right) - \\frac{2}{51} \\, e^{\\left(10 \\, x\\right)}\\)\n",
       "    "
      ]
     },
     "metadata": {},
     "output_type": "display_data"
    },
    {
     "data": {
      "text/html": [
       "\n",
       "    <h1> EDOs lineales de 2o Orden </h1>\n",
       "    <h2> Coeficientes indeterminados: \\( \\phi(x)=Ae^{kx} \\) </h2>\n",
       "    <p> Encuentre la solución \\(u(x)\\) de la siguiente ecuación diferencial\n",
       "    \\(-u\\left(x\\right) - 2 \\, \\frac{\\partial}{\\partial x}u\\left(x\\right) + \\frac{\\partial^{2}}{(\\partial x)^{2}}u\\left(x\\right) = 9 \\, e^{\\left(-7 \\, x\\right)}\\) con condiciones iniciales \\(u(0)=1, \\; u'(0)=-1\\)\n",
       "    y evalue en el punto dado:</p>\n",
       "    <pre>\n",
       "    u(1.53) = {1:NM:=5.64530374350570:0.169359112305171}\n",
       "    </pre>\n",
       "    "
      ],
      "text/plain": [
       "\n",
       "    <h1> EDOs lineales de 2o Orden </h1>\n",
       "    <h2> Coeficientes indeterminados: \\( \\phi(x)=Ae^{kx} \\) </h2>\n",
       "    <p> Encuentre la solución \\(u(x)\\) de la siguiente ecuación diferencial\n",
       "    \\(-u\\left(x\\right) - 2 \\, \\frac{\\partial}{\\partial x}u\\left(x\\right) + \\frac{\\partial^{2}}{(\\partial x)^{2}}u\\left(x\\right) = 9 \\, e^{\\left(-7 \\, x\\right)}\\) con condiciones iniciales \\(u(0)=1, \\; u'(0)=-1\\)\n",
       "    y evalue en el punto dado:</p>\n",
       "    <pre>\n",
       "    u(1.53) = {1:NM:=5.64530374350570:0.169359112305171}\n",
       "    </pre>\n",
       "    "
      ]
     },
     "metadata": {},
     "output_type": "display_data"
    },
    {
     "data": {
      "text/html": [
       "\n",
       "    La solución del problema de condiciones iniciales es\n",
       "    \\(u(x)=-\\frac{1}{124} \\, {\\left({\\left(26 \\, \\sqrt{2} - 53\\right)} e^{\\left(2 \\, \\sqrt{2} x + 8 \\, x\\right)} - {\\left(26 \\, \\sqrt{2} + 53\\right)} e^{\\left(8 \\, x\\right)} - 18 \\, e^{\\left(\\sqrt{2} x\\right)}\\right)} e^{\\left(-\\sqrt{2} x - 7 \\, x\\right)}\\)\n",
       "    "
      ],
      "text/plain": [
       "\n",
       "    La solución del problema de condiciones iniciales es\n",
       "    \\(u(x)=-\\frac{1}{124} \\, {\\left({\\left(26 \\, \\sqrt{2} - 53\\right)} e^{\\left(2 \\, \\sqrt{2} x + 8 \\, x\\right)} - {\\left(26 \\, \\sqrt{2} + 53\\right)} e^{\\left(8 \\, x\\right)} - 18 \\, e^{\\left(\\sqrt{2} x\\right)}\\right)} e^{\\left(-\\sqrt{2} x - 7 \\, x\\right)}\\)\n",
       "    "
      ]
     },
     "metadata": {},
     "output_type": "display_data"
    },
    {
     "data": {
      "text/html": [
       "\n",
       "    <h1> EDOs lineales de 2o Orden </h1>\n",
       "    <h2> Coeficientes indeterminados: \\( \\phi(x)=Ae^{kx} \\) </h2>\n",
       "    <p> Encuentre la solución \\(u(x)\\) de la siguiente ecuación diferencial\n",
       "    \\(-\\frac{\\partial}{\\partial x}u\\left(x\\right) + \\frac{\\partial^{2}}{(\\partial x)^{2}}u\\left(x\\right) = 10 \\, e^{\\left(6 \\, x\\right)}\\) con condiciones iniciales \\(u(0)=1, \\; u'(0)=2\\)\n",
       "    y evalue en el punto dado:</p>\n",
       "    <pre>\n",
       "    u(1.15) = {1:NM:=331.424905201675:9.94274715605025}\n",
       "    </pre>\n",
       "    "
      ],
      "text/plain": [
       "\n",
       "    <h1> EDOs lineales de 2o Orden </h1>\n",
       "    <h2> Coeficientes indeterminados: \\( \\phi(x)=Ae^{kx} \\) </h2>\n",
       "    <p> Encuentre la solución \\(u(x)\\) de la siguiente ecuación diferencial\n",
       "    \\(-\\frac{\\partial}{\\partial x}u\\left(x\\right) + \\frac{\\partial^{2}}{(\\partial x)^{2}}u\\left(x\\right) = 10 \\, e^{\\left(6 \\, x\\right)}\\) con condiciones iniciales \\(u(0)=1, \\; u'(0)=2\\)\n",
       "    y evalue en el punto dado:</p>\n",
       "    <pre>\n",
       "    u(1.15) = {1:NM:=331.424905201675:9.94274715605025}\n",
       "    </pre>\n",
       "    "
      ]
     },
     "metadata": {},
     "output_type": "display_data"
    },
    {
     "data": {
      "text/html": [
       "\n",
       "    La solución del problema de condiciones iniciales es\n",
       "    \\(u(x)=\\frac{1}{3} \\, e^{\\left(6 \\, x\\right)} + \\frac{2}{3}\\)\n",
       "    "
      ],
      "text/plain": [
       "\n",
       "    La solución del problema de condiciones iniciales es\n",
       "    \\(u(x)=\\frac{1}{3} \\, e^{\\left(6 \\, x\\right)} + \\frac{2}{3}\\)\n",
       "    "
      ]
     },
     "metadata": {},
     "output_type": "display_data"
    },
    {
     "data": {
      "text/html": [
       "\n",
       "    <h1> EDOs lineales de 2o Orden </h1>\n",
       "    <h2> Coeficientes indeterminados: \\( \\phi(x)=Ae^{kx} \\) </h2>\n",
       "    <p> Encuentre la solución \\(u(x)\\) de la siguiente ecuación diferencial\n",
       "    \\(-u\\left(x\\right) + \\frac{\\partial}{\\partial x}u\\left(x\\right) + \\frac{\\partial^{2}}{(\\partial x)^{2}}u\\left(x\\right) = 5 \\, e^{\\left(-3 \\, x\\right)}\\) con condiciones iniciales \\(u(0)=0, \\; u'(0)=1\\)\n",
       "    y evalue en el punto dado:</p>\n",
       "    <pre>\n",
       "    u(1.9) = {1:NM:=3.35477086800514:0.100643126040154}\n",
       "    </pre>\n",
       "    "
      ],
      "text/plain": [
       "\n",
       "    <h1> EDOs lineales de 2o Orden </h1>\n",
       "    <h2> Coeficientes indeterminados: \\( \\phi(x)=Ae^{kx} \\) </h2>\n",
       "    <p> Encuentre la solución \\(u(x)\\) de la siguiente ecuación diferencial\n",
       "    \\(-u\\left(x\\right) + \\frac{\\partial}{\\partial x}u\\left(x\\right) + \\frac{\\partial^{2}}{(\\partial x)^{2}}u\\left(x\\right) = 5 \\, e^{\\left(-3 \\, x\\right)}\\) con condiciones iniciales \\(u(0)=0, \\; u'(0)=1\\)\n",
       "    y evalue en el punto dado:</p>\n",
       "    <pre>\n",
       "    u(1.9) = {1:NM:=3.35477086800514:0.100643126040154}\n",
       "    </pre>\n",
       "    "
      ]
     },
     "metadata": {},
     "output_type": "display_data"
    },
    {
     "data": {
      "text/html": [
       "\n",
       "    La solución del problema de condiciones iniciales es\n",
       "    \\(u(x)=\\frac{1}{10} \\, {\\left({\\left(7 \\, \\sqrt{5} - 5\\right)} e^{\\left(\\sqrt{5} x + 3 \\, x\\right)} - {\\left(7 \\, \\sqrt{5} + 5\\right)} e^{\\left(3 \\, x\\right)} + 10 \\, e^{\\left(\\frac{1}{2} \\, \\sqrt{5} x + \\frac{1}{2} \\, x\\right)}\\right)} e^{\\left(-\\frac{1}{2} \\, \\sqrt{5} x - \\frac{7}{2} \\, x\\right)}\\)\n",
       "    "
      ],
      "text/plain": [
       "\n",
       "    La solución del problema de condiciones iniciales es\n",
       "    \\(u(x)=\\frac{1}{10} \\, {\\left({\\left(7 \\, \\sqrt{5} - 5\\right)} e^{\\left(\\sqrt{5} x + 3 \\, x\\right)} - {\\left(7 \\, \\sqrt{5} + 5\\right)} e^{\\left(3 \\, x\\right)} + 10 \\, e^{\\left(\\frac{1}{2} \\, \\sqrt{5} x + \\frac{1}{2} \\, x\\right)}\\right)} e^{\\left(-\\frac{1}{2} \\, \\sqrt{5} x - \\frac{7}{2} \\, x\\right)}\\)\n",
       "    "
      ]
     },
     "metadata": {},
     "output_type": "display_data"
    },
    {
     "data": {
      "text/html": [
       "\n",
       "    <h1> EDOs lineales de 2o Orden </h1>\n",
       "    <h2> Coeficientes indeterminados: \\( \\phi(x)=Ae^{kx} \\) </h2>\n",
       "    <p> Encuentre la solución \\(u(x)\\) de la siguiente ecuación diferencial\n",
       "    \\(\\frac{\\partial}{\\partial x}u\\left(x\\right) + \\frac{\\partial^{2}}{(\\partial x)^{2}}u\\left(x\\right) = -2 \\, e^{\\left(7 \\, x\\right)}\\) con condiciones iniciales \\(u(0)=2, \\; u'(0)=1\\)\n",
       "    y evalue en el punto dado:</p>\n",
       "    <pre>\n",
       "    u(1.01) = {1:NM:=-39.1748463762206:-1.17524539128662}\n",
       "    </pre>\n",
       "    "
      ],
      "text/plain": [
       "\n",
       "    <h1> EDOs lineales de 2o Orden </h1>\n",
       "    <h2> Coeficientes indeterminados: \\( \\phi(x)=Ae^{kx} \\) </h2>\n",
       "    <p> Encuentre la solución \\(u(x)\\) de la siguiente ecuación diferencial\n",
       "    \\(\\frac{\\partial}{\\partial x}u\\left(x\\right) + \\frac{\\partial^{2}}{(\\partial x)^{2}}u\\left(x\\right) = -2 \\, e^{\\left(7 \\, x\\right)}\\) con condiciones iniciales \\(u(0)=2, \\; u'(0)=1\\)\n",
       "    y evalue en el punto dado:</p>\n",
       "    <pre>\n",
       "    u(1.01) = {1:NM:=-39.1748463762206:-1.17524539128662}\n",
       "    </pre>\n",
       "    "
      ]
     },
     "metadata": {},
     "output_type": "display_data"
    },
    {
     "data": {
      "text/html": [
       "\n",
       "    La solución del problema de condiciones iniciales es\n",
       "    \\(u(x)=-\\frac{1}{28} \\, {\\left(e^{\\left(8 \\, x\\right)} - 92 \\, e^{x} + 35\\right)} e^{\\left(-x\\right)}\\)\n",
       "    "
      ],
      "text/plain": [
       "\n",
       "    La solución del problema de condiciones iniciales es\n",
       "    \\(u(x)=-\\frac{1}{28} \\, {\\left(e^{\\left(8 \\, x\\right)} - 92 \\, e^{x} + 35\\right)} e^{\\left(-x\\right)}\\)\n",
       "    "
      ]
     },
     "metadata": {},
     "output_type": "display_data"
    },
    {
     "data": {
      "text/html": [
       "\n",
       "    <h1> EDOs lineales de 2o Orden </h1>\n",
       "    <h2> Coeficientes indeterminados: \\( \\phi(x)=Ae^{kx} \\) </h2>\n",
       "    <p> Encuentre la solución \\(u(x)\\) de la siguiente ecuación diferencial\n",
       "    \\(-\\frac{\\partial}{\\partial x}u\\left(x\\right) + \\frac{\\partial^{2}}{(\\partial x)^{2}}u\\left(x\\right) = 7 \\, e^{\\left(-4 \\, x\\right)}\\) con condiciones iniciales \\(u(0)=1, \\; u'(0)=-1\\)\n",
       "    y evalue en el punto dado:</p>\n",
       "    <pre>\n",
       "    u(1.68) = {1:NM:=2.39664467682368:0.0718993403047102}\n",
       "    </pre>\n",
       "    "
      ],
      "text/plain": [
       "\n",
       "    <h1> EDOs lineales de 2o Orden </h1>\n",
       "    <h2> Coeficientes indeterminados: \\( \\phi(x)=Ae^{kx} \\) </h2>\n",
       "    <p> Encuentre la solución \\(u(x)\\) de la siguiente ecuación diferencial\n",
       "    \\(-\\frac{\\partial}{\\partial x}u\\left(x\\right) + \\frac{\\partial^{2}}{(\\partial x)^{2}}u\\left(x\\right) = 7 \\, e^{\\left(-4 \\, x\\right)}\\) con condiciones iniciales \\(u(0)=1, \\; u'(0)=-1\\)\n",
       "    y evalue en el punto dado:</p>\n",
       "    <pre>\n",
       "    u(1.68) = {1:NM:=2.39664467682368:0.0718993403047102}\n",
       "    </pre>\n",
       "    "
      ]
     },
     "metadata": {},
     "output_type": "display_data"
    },
    {
     "data": {
      "text/html": [
       "\n",
       "    La solución del problema de condiciones iniciales es\n",
       "    \\(u(x)=\\frac{1}{20} \\, {\\left(8 \\, e^{\\left(5 \\, x\\right)} + 5 \\, e^{\\left(4 \\, x\\right)} + 7\\right)} e^{\\left(-4 \\, x\\right)}\\)\n",
       "    "
      ],
      "text/plain": [
       "\n",
       "    La solución del problema de condiciones iniciales es\n",
       "    \\(u(x)=\\frac{1}{20} \\, {\\left(8 \\, e^{\\left(5 \\, x\\right)} + 5 \\, e^{\\left(4 \\, x\\right)} + 7\\right)} e^{\\left(-4 \\, x\\right)}\\)\n",
       "    "
      ]
     },
     "metadata": {},
     "output_type": "display_data"
    },
    {
     "data": {
      "text/html": [
       "\n",
       "    <h1> EDOs lineales de 2o Orden </h1>\n",
       "    <h2> Coeficientes indeterminados: \\( \\phi(x)=Ae^{kx} \\) </h2>\n",
       "    <p> Encuentre la solución \\(u(x)\\) de la siguiente ecuación diferencial\n",
       "    \\(-2 \\, u\\left(x\\right) - 2 \\, \\frac{\\partial}{\\partial x}u\\left(x\\right) + \\frac{\\partial^{2}}{(\\partial x)^{2}}u\\left(x\\right) = -5 \\, e^{\\left(-5 \\, x\\right)}\\) con condiciones iniciales \\(u(0)=-1, \\; u'(0)=1\\)\n",
       "    y evalue en el punto dado:</p>\n",
       "    <pre>\n",
       "    u(1.39) = {1:NM:=-5.14229783742546:-0.154268935122764}\n",
       "    </pre>\n",
       "    "
      ],
      "text/plain": [
       "\n",
       "    <h1> EDOs lineales de 2o Orden </h1>\n",
       "    <h2> Coeficientes indeterminados: \\( \\phi(x)=Ae^{kx} \\) </h2>\n",
       "    <p> Encuentre la solución \\(u(x)\\) de la siguiente ecuación diferencial\n",
       "    \\(-2 \\, u\\left(x\\right) - 2 \\, \\frac{\\partial}{\\partial x}u\\left(x\\right) + \\frac{\\partial^{2}}{(\\partial x)^{2}}u\\left(x\\right) = -5 \\, e^{\\left(-5 \\, x\\right)}\\) con condiciones iniciales \\(u(0)=-1, \\; u'(0)=1\\)\n",
       "    y evalue en el punto dado:</p>\n",
       "    <pre>\n",
       "    u(1.39) = {1:NM:=-5.14229783742546:-0.154268935122764}\n",
       "    </pre>\n",
       "    "
      ]
     },
     "metadata": {},
     "output_type": "display_data"
    },
    {
     "data": {
      "text/html": [
       "\n",
       "    La solución del problema de condiciones iniciales es\n",
       "    \\(u(x)=\\frac{1}{33} \\, {\\left(2 \\, {\\left(3 \\, \\sqrt{3} - 7\\right)} e^{\\left(2 \\, \\sqrt{3} x + 6 \\, x\\right)} - 2 \\, {\\left(3 \\, \\sqrt{3} + 7\\right)} e^{\\left(6 \\, x\\right)} - 5 \\, e^{\\left(\\sqrt{3} x\\right)}\\right)} e^{\\left(-\\sqrt{3} x - 5 \\, x\\right)}\\)\n",
       "    "
      ],
      "text/plain": [
       "\n",
       "    La solución del problema de condiciones iniciales es\n",
       "    \\(u(x)=\\frac{1}{33} \\, {\\left(2 \\, {\\left(3 \\, \\sqrt{3} - 7\\right)} e^{\\left(2 \\, \\sqrt{3} x + 6 \\, x\\right)} - 2 \\, {\\left(3 \\, \\sqrt{3} + 7\\right)} e^{\\left(6 \\, x\\right)} - 5 \\, e^{\\left(\\sqrt{3} x\\right)}\\right)} e^{\\left(-\\sqrt{3} x - 5 \\, x\\right)}\\)\n",
       "    "
      ]
     },
     "metadata": {},
     "output_type": "display_data"
    },
    {
     "data": {
      "text/html": [
       "\n",
       "    <h1> EDOs lineales de 2o Orden </h1>\n",
       "    <h2> Coeficientes indeterminados: \\( \\phi(x)=Ae^{kx} \\) </h2>\n",
       "    <p> Encuentre la solución \\(u(x)\\) de la siguiente ecuación diferencial\n",
       "    \\(2 \\, \\frac{\\partial}{\\partial x}u\\left(x\\right) + \\frac{\\partial^{2}}{(\\partial x)^{2}}u\\left(x\\right) = -7 \\, e^{\\left(10 \\, x\\right)}\\) con condiciones iniciales \\(u(0)=0, \\; u'(0)=-1\\)\n",
       "    y evalue en el punto dado:</p>\n",
       "    <pre>\n",
       "    u(1.01) = {1:NM:=-1420.13124653527:-42.6039373960580}\n",
       "    </pre>\n",
       "    "
      ],
      "text/plain": [
       "\n",
       "    <h1> EDOs lineales de 2o Orden </h1>\n",
       "    <h2> Coeficientes indeterminados: \\( \\phi(x)=Ae^{kx} \\) </h2>\n",
       "    <p> Encuentre la solución \\(u(x)\\) de la siguiente ecuación diferencial\n",
       "    \\(2 \\, \\frac{\\partial}{\\partial x}u\\left(x\\right) + \\frac{\\partial^{2}}{(\\partial x)^{2}}u\\left(x\\right) = -7 \\, e^{\\left(10 \\, x\\right)}\\) con condiciones iniciales \\(u(0)=0, \\; u'(0)=-1\\)\n",
       "    y evalue en el punto dado:</p>\n",
       "    <pre>\n",
       "    u(1.01) = {1:NM:=-1420.13124653527:-42.6039373960580}\n",
       "    </pre>\n",
       "    "
      ]
     },
     "metadata": {},
     "output_type": "display_data"
    },
    {
     "data": {
      "text/html": [
       "\n",
       "    La solución del problema de condiciones iniciales es\n",
       "    \\(u(x)=-\\frac{1}{120} \\, {\\left(7 \\, e^{\\left(12 \\, x\\right)} + 18 \\, e^{\\left(2 \\, x\\right)} - 25\\right)} e^{\\left(-2 \\, x\\right)}\\)\n",
       "    "
      ],
      "text/plain": [
       "\n",
       "    La solución del problema de condiciones iniciales es\n",
       "    \\(u(x)=-\\frac{1}{120} \\, {\\left(7 \\, e^{\\left(12 \\, x\\right)} + 18 \\, e^{\\left(2 \\, x\\right)} - 25\\right)} e^{\\left(-2 \\, x\\right)}\\)\n",
       "    "
      ]
     },
     "metadata": {},
     "output_type": "display_data"
    },
    {
     "data": {
      "text/html": [
       "\n",
       "    <h1> EDOs lineales de 2o Orden </h1>\n",
       "    <h2> Coeficientes indeterminados: \\( \\phi(x)=Ae^{kx} \\) </h2>\n",
       "    <p> Encuentre la solución \\(u(x)\\) de la siguiente ecuación diferencial\n",
       "    \\(u\\left(x\\right) - \\frac{\\partial}{\\partial x}u\\left(x\\right) + \\frac{\\partial^{2}}{(\\partial x)^{2}}u\\left(x\\right) = 3 \\, e^{\\left(3 \\, x\\right)}\\) con condiciones iniciales \\(u(0)=1, \\; u'(0)=-2\\)\n",
       "    y evalue en el punto dado:</p>\n",
       "    <pre>\n",
       "    u(1.79) = {1:NM:=82.0224088823602:2.46067226647081}\n",
       "    </pre>\n",
       "    "
      ],
      "text/plain": [
       "\n",
       "    <h1> EDOs lineales de 2o Orden </h1>\n",
       "    <h2> Coeficientes indeterminados: \\( \\phi(x)=Ae^{kx} \\) </h2>\n",
       "    <p> Encuentre la solución \\(u(x)\\) de la siguiente ecuación diferencial\n",
       "    \\(u\\left(x\\right) - \\frac{\\partial}{\\partial x}u\\left(x\\right) + \\frac{\\partial^{2}}{(\\partial x)^{2}}u\\left(x\\right) = 3 \\, e^{\\left(3 \\, x\\right)}\\) con condiciones iniciales \\(u(0)=1, \\; u'(0)=-2\\)\n",
       "    y evalue en el punto dado:</p>\n",
       "    <pre>\n",
       "    u(1.79) = {1:NM:=82.0224088823602:2.46067226647081}\n",
       "    </pre>\n",
       "    "
      ]
     },
     "metadata": {},
     "output_type": "display_data"
    },
    {
     "data": {
      "text/html": [
       "\n",
       "    La solución del problema de condiciones iniciales es\n",
       "    \\(u(x)=\\frac{1}{21} \\, \\sqrt{3} {\\left(4 \\, \\sqrt{3} \\cos\\left(\\frac{1}{2} \\, \\sqrt{3} x\\right) e^{\\left(\\frac{1}{2} \\, x\\right)} - 50 \\, e^{\\left(\\frac{1}{2} \\, x\\right)} \\sin\\left(\\frac{1}{2} \\, \\sqrt{3} x\\right) + 3 \\, \\sqrt{3} e^{\\left(3 \\, x\\right)}\\right)}\\)\n",
       "    "
      ],
      "text/plain": [
       "\n",
       "    La solución del problema de condiciones iniciales es\n",
       "    \\(u(x)=\\frac{1}{21} \\, \\sqrt{3} {\\left(4 \\, \\sqrt{3} \\cos\\left(\\frac{1}{2} \\, \\sqrt{3} x\\right) e^{\\left(\\frac{1}{2} \\, x\\right)} - 50 \\, e^{\\left(\\frac{1}{2} \\, x\\right)} \\sin\\left(\\frac{1}{2} \\, \\sqrt{3} x\\right) + 3 \\, \\sqrt{3} e^{\\left(3 \\, x\\right)}\\right)}\\)\n",
       "    "
      ]
     },
     "metadata": {},
     "output_type": "display_data"
    },
    {
     "data": {
      "text/html": [
       "\n",
       "    <h1> EDOs lineales de 2o Orden </h1>\n",
       "    <h2> Coeficientes indeterminados: \\( \\phi(x)=Ae^{kx} \\) </h2>\n",
       "    <p> Encuentre la solución \\(u(x)\\) de la siguiente ecuación diferencial\n",
       "    \\(-\\frac{\\partial}{\\partial x}u\\left(x\\right) + \\frac{\\partial^{2}}{(\\partial x)^{2}}u\\left(x\\right) = 6 \\, e^{x}\\) con condiciones iniciales \\(u(0)=2, \\; u'(0)=-2\\)\n",
       "    y evalue en el punto dado:</p>\n",
       "    <pre>\n",
       "    u(1.2) = {1:NM:=7.34390646181076:0.220317193854323}\n",
       "    </pre>\n",
       "    "
      ],
      "text/plain": [
       "\n",
       "    <h1> EDOs lineales de 2o Orden </h1>\n",
       "    <h2> Coeficientes indeterminados: \\( \\phi(x)=Ae^{kx} \\) </h2>\n",
       "    <p> Encuentre la solución \\(u(x)\\) de la siguiente ecuación diferencial\n",
       "    \\(-\\frac{\\partial}{\\partial x}u\\left(x\\right) + \\frac{\\partial^{2}}{(\\partial x)^{2}}u\\left(x\\right) = 6 \\, e^{x}\\) con condiciones iniciales \\(u(0)=2, \\; u'(0)=-2\\)\n",
       "    y evalue en el punto dado:</p>\n",
       "    <pre>\n",
       "    u(1.2) = {1:NM:=7.34390646181076:0.220317193854323}\n",
       "    </pre>\n",
       "    "
      ]
     },
     "metadata": {},
     "output_type": "display_data"
    },
    {
     "data": {
      "text/html": [
       "\n",
       "    La solución del problema de condiciones iniciales es\n",
       "    \\(u(x)=2 \\, {\\left(3 \\, x - 4\\right)} e^{x} + 10\\)\n",
       "    "
      ],
      "text/plain": [
       "\n",
       "    La solución del problema de condiciones iniciales es\n",
       "    \\(u(x)=2 \\, {\\left(3 \\, x - 4\\right)} e^{x} + 10\\)\n",
       "    "
      ]
     },
     "metadata": {},
     "output_type": "display_data"
    },
    {
     "data": {
      "text/html": [
       "\n",
       "    <h1> EDOs lineales de 2o Orden </h1>\n",
       "    <h2> Coeficientes indeterminados: \\( \\phi(x)=Ae^{kx} \\) </h2>\n",
       "    <p> Encuentre la solución \\(u(x)\\) de la siguiente ecuación diferencial\n",
       "    \\(u\\left(x\\right) + 2 \\, \\frac{\\partial}{\\partial x}u\\left(x\\right) + \\frac{\\partial^{2}}{(\\partial x)^{2}}u\\left(x\\right) = 10 \\, e^{\\left(-10 \\, x\\right)}\\) con condiciones iniciales \\(u(0)=2, \\; u'(0)=0\\)\n",
       "    y evalue en el punto dado:</p>\n",
       "    <pre>\n",
       "    u(1.29) = {1:NM:=1.62131123675262:0.0486393371025786}\n",
       "    </pre>\n",
       "    "
      ],
      "text/plain": [
       "\n",
       "    <h1> EDOs lineales de 2o Orden </h1>\n",
       "    <h2> Coeficientes indeterminados: \\( \\phi(x)=Ae^{kx} \\) </h2>\n",
       "    <p> Encuentre la solución \\(u(x)\\) de la siguiente ecuación diferencial\n",
       "    \\(u\\left(x\\right) + 2 \\, \\frac{\\partial}{\\partial x}u\\left(x\\right) + \\frac{\\partial^{2}}{(\\partial x)^{2}}u\\left(x\\right) = 10 \\, e^{\\left(-10 \\, x\\right)}\\) con condiciones iniciales \\(u(0)=2, \\; u'(0)=0\\)\n",
       "    y evalue en el punto dado:</p>\n",
       "    <pre>\n",
       "    u(1.29) = {1:NM:=1.62131123675262:0.0486393371025786}\n",
       "    </pre>\n",
       "    "
      ]
     },
     "metadata": {},
     "output_type": "display_data"
    },
    {
     "data": {
      "text/html": [
       "\n",
       "    La solución del problema de condiciones iniciales es\n",
       "    \\(u(x)=\\frac{2}{81} \\, {\\left(2 \\, {\\left(63 \\, x + 38\\right)} e^{\\left(9 \\, x\\right)} + 5\\right)} e^{\\left(-10 \\, x\\right)}\\)\n",
       "    "
      ],
      "text/plain": [
       "\n",
       "    La solución del problema de condiciones iniciales es\n",
       "    \\(u(x)=\\frac{2}{81} \\, {\\left(2 \\, {\\left(63 \\, x + 38\\right)} e^{\\left(9 \\, x\\right)} + 5\\right)} e^{\\left(-10 \\, x\\right)}\\)\n",
       "    "
      ]
     },
     "metadata": {},
     "output_type": "display_data"
    },
    {
     "data": {
      "text/html": [
       "\n",
       "    <h1> EDOs lineales de 2o Orden </h1>\n",
       "    <h2> Coeficientes indeterminados: \\( \\phi(x)=Ae^{kx} \\) </h2>\n",
       "    <p> Encuentre la solución \\(u(x)\\) de la siguiente ecuación diferencial\n",
       "    \\(-2 \\, u\\left(x\\right) + \\frac{\\partial^{2}}{(\\partial x)^{2}}u\\left(x\\right) = 6 \\, e^{\\left(-8 \\, x\\right)}\\) con condiciones iniciales \\(u(0)=-2, \\; u'(0)=-1\\)\n",
       "    y evalue en el punto dado:</p>\n",
       "    <pre>\n",
       "    u(1.36) = {1:NM:=-7.86274851696300:-0.235882455508890}\n",
       "    </pre>\n",
       "    "
      ],
      "text/plain": [
       "\n",
       "    <h1> EDOs lineales de 2o Orden </h1>\n",
       "    <h2> Coeficientes indeterminados: \\( \\phi(x)=Ae^{kx} \\) </h2>\n",
       "    <p> Encuentre la solución \\(u(x)\\) de la siguiente ecuación diferencial\n",
       "    \\(-2 \\, u\\left(x\\right) + \\frac{\\partial^{2}}{(\\partial x)^{2}}u\\left(x\\right) = 6 \\, e^{\\left(-8 \\, x\\right)}\\) con condiciones iniciales \\(u(0)=-2, \\; u'(0)=-1\\)\n",
       "    y evalue en el punto dado:</p>\n",
       "    <pre>\n",
       "    u(1.36) = {1:NM:=-7.86274851696300:-0.235882455508890}\n",
       "    </pre>\n",
       "    "
      ]
     },
     "metadata": {},
     "output_type": "display_data"
    },
    {
     "data": {
      "text/html": [
       "\n",
       "    La solución del problema de condiciones iniciales es\n",
       "    \\(u(x)=-\\frac{1}{124} \\, {\\left({\\left(7 \\, \\sqrt{2} + 130\\right)} e^{\\left(2 \\, \\sqrt{2} x + 8 \\, x\\right)} - {\\left(7 \\, \\sqrt{2} - 130\\right)} e^{\\left(8 \\, x\\right)} - 12 \\, e^{\\left(\\sqrt{2} x\\right)}\\right)} e^{\\left(-\\sqrt{2} x - 8 \\, x\\right)}\\)\n",
       "    "
      ],
      "text/plain": [
       "\n",
       "    La solución del problema de condiciones iniciales es\n",
       "    \\(u(x)=-\\frac{1}{124} \\, {\\left({\\left(7 \\, \\sqrt{2} + 130\\right)} e^{\\left(2 \\, \\sqrt{2} x + 8 \\, x\\right)} - {\\left(7 \\, \\sqrt{2} - 130\\right)} e^{\\left(8 \\, x\\right)} - 12 \\, e^{\\left(\\sqrt{2} x\\right)}\\right)} e^{\\left(-\\sqrt{2} x - 8 \\, x\\right)}\\)\n",
       "    "
      ]
     },
     "metadata": {},
     "output_type": "display_data"
    },
    {
     "data": {
      "text/html": [
       "\n",
       "    <h1> EDOs lineales de 2o Orden </h1>\n",
       "    <h2> Coeficientes indeterminados: \\( \\phi(x)=Ae^{kx} \\) </h2>\n",
       "    <p> Encuentre la solución \\(u(x)\\) de la siguiente ecuación diferencial\n",
       "    \\(-2 \\, \\frac{\\partial}{\\partial x}u\\left(x\\right) + \\frac{\\partial^{2}}{(\\partial x)^{2}}u\\left(x\\right) = -10 \\, e^{\\left(8 \\, x\\right)}\\) con condiciones iniciales \\(u(0)=2, \\; u'(0)=2\\)\n",
       "    y evalue en el punto dado:</p>\n",
       "    <pre>\n",
       "    u(1.17) = {1:NM:=-2400.25701256102:-72.0077103768305}\n",
       "    </pre>\n",
       "    "
      ],
      "text/plain": [
       "\n",
       "    <h1> EDOs lineales de 2o Orden </h1>\n",
       "    <h2> Coeficientes indeterminados: \\( \\phi(x)=Ae^{kx} \\) </h2>\n",
       "    <p> Encuentre la solución \\(u(x)\\) de la siguiente ecuación diferencial\n",
       "    \\(-2 \\, \\frac{\\partial}{\\partial x}u\\left(x\\right) + \\frac{\\partial^{2}}{(\\partial x)^{2}}u\\left(x\\right) = -10 \\, e^{\\left(8 \\, x\\right)}\\) con condiciones iniciales \\(u(0)=2, \\; u'(0)=2\\)\n",
       "    y evalue en el punto dado:</p>\n",
       "    <pre>\n",
       "    u(1.17) = {1:NM:=-2400.25701256102:-72.0077103768305}\n",
       "    </pre>\n",
       "    "
      ]
     },
     "metadata": {},
     "output_type": "display_data"
    },
    {
     "data": {
      "text/html": [
       "\n",
       "    La solución del problema de condiciones iniciales es\n",
       "    \\(u(x)=-\\frac{5}{24} \\, e^{\\left(8 \\, x\\right)} + \\frac{11}{6} \\, e^{\\left(2 \\, x\\right)} + \\frac{3}{8}\\)\n",
       "    "
      ],
      "text/plain": [
       "\n",
       "    La solución del problema de condiciones iniciales es\n",
       "    \\(u(x)=-\\frac{5}{24} \\, e^{\\left(8 \\, x\\right)} + \\frac{11}{6} \\, e^{\\left(2 \\, x\\right)} + \\frac{3}{8}\\)\n",
       "    "
      ]
     },
     "metadata": {},
     "output_type": "display_data"
    },
    {
     "data": {
      "text/html": [
       "\n",
       "    <h1> EDOs lineales de 2o Orden </h1>\n",
       "    <h2> Coeficientes indeterminados: \\( \\phi(x)=Ae^{kx} \\) </h2>\n",
       "    <p> Encuentre la solución \\(u(x)\\) de la siguiente ecuación diferencial\n",
       "    \\(2 \\, u\\left(x\\right) - \\frac{\\partial}{\\partial x}u\\left(x\\right) + \\frac{\\partial^{2}}{(\\partial x)^{2}}u\\left(x\\right) = 4 \\, e^{\\left(9 \\, x\\right)}\\) con condiciones iniciales \\(u(0)=1, \\; u'(0)=-2\\)\n",
       "    y evalue en el punto dado:</p>\n",
       "    <pre>\n",
       "    u(1.03) = {1:NM:=570.434383779378:17.1130315133813}\n",
       "    </pre>\n",
       "    "
      ],
      "text/plain": [
       "\n",
       "    <h1> EDOs lineales de 2o Orden </h1>\n",
       "    <h2> Coeficientes indeterminados: \\( \\phi(x)=Ae^{kx} \\) </h2>\n",
       "    <p> Encuentre la solución \\(u(x)\\) de la siguiente ecuación diferencial\n",
       "    \\(2 \\, u\\left(x\\right) - \\frac{\\partial}{\\partial x}u\\left(x\\right) + \\frac{\\partial^{2}}{(\\partial x)^{2}}u\\left(x\\right) = 4 \\, e^{\\left(9 \\, x\\right)}\\) con condiciones iniciales \\(u(0)=1, \\; u'(0)=-2\\)\n",
       "    y evalue en el punto dado:</p>\n",
       "    <pre>\n",
       "    u(1.03) = {1:NM:=570.434383779378:17.1130315133813}\n",
       "    </pre>\n",
       "    "
      ]
     },
     "metadata": {},
     "output_type": "display_data"
    },
    {
     "data": {
      "text/html": [
       "\n",
       "    La solución del problema de condiciones iniciales es\n",
       "    \\(u(x)=\\frac{1}{259} \\, \\sqrt{7} {\\left(35 \\, \\sqrt{7} \\cos\\left(\\frac{1}{2} \\, \\sqrt{7} x\\right) e^{\\left(\\frac{1}{2} \\, x\\right)} - 219 \\, e^{\\left(\\frac{1}{2} \\, x\\right)} \\sin\\left(\\frac{1}{2} \\, \\sqrt{7} x\\right) + 2 \\, \\sqrt{7} e^{\\left(9 \\, x\\right)}\\right)}\\)\n",
       "    "
      ],
      "text/plain": [
       "\n",
       "    La solución del problema de condiciones iniciales es\n",
       "    \\(u(x)=\\frac{1}{259} \\, \\sqrt{7} {\\left(35 \\, \\sqrt{7} \\cos\\left(\\frac{1}{2} \\, \\sqrt{7} x\\right) e^{\\left(\\frac{1}{2} \\, x\\right)} - 219 \\, e^{\\left(\\frac{1}{2} \\, x\\right)} \\sin\\left(\\frac{1}{2} \\, \\sqrt{7} x\\right) + 2 \\, \\sqrt{7} e^{\\left(9 \\, x\\right)}\\right)}\\)\n",
       "    "
      ]
     },
     "metadata": {},
     "output_type": "display_data"
    },
    {
     "data": {
      "text/html": [
       "\n",
       "    <h1> EDOs lineales de 2o Orden </h1>\n",
       "    <h2> Coeficientes indeterminados: \\( \\phi(x)=Ae^{kx} \\) </h2>\n",
       "    <p> Encuentre la solución \\(u(x)\\) de la siguiente ecuación diferencial\n",
       "    \\(2 \\, \\frac{\\partial}{\\partial x}u\\left(x\\right) + \\frac{\\partial^{2}}{(\\partial x)^{2}}u\\left(x\\right) = -2 \\, e^{\\left(9 \\, x\\right)}\\) con condiciones iniciales \\(u(0)=0, \\; u'(0)=-1\\)\n",
       "    y evalue en el punto dado:</p>\n",
       "    <pre>\n",
       "    u(1.62) = {1:NM:=-43392.2409178606:-1301.76722753582}\n",
       "    </pre>\n",
       "    "
      ],
      "text/plain": [
       "\n",
       "    <h1> EDOs lineales de 2o Orden </h1>\n",
       "    <h2> Coeficientes indeterminados: \\( \\phi(x)=Ae^{kx} \\) </h2>\n",
       "    <p> Encuentre la solución \\(u(x)\\) de la siguiente ecuación diferencial\n",
       "    \\(2 \\, \\frac{\\partial}{\\partial x}u\\left(x\\right) + \\frac{\\partial^{2}}{(\\partial x)^{2}}u\\left(x\\right) = -2 \\, e^{\\left(9 \\, x\\right)}\\) con condiciones iniciales \\(u(0)=0, \\; u'(0)=-1\\)\n",
       "    y evalue en el punto dado:</p>\n",
       "    <pre>\n",
       "    u(1.62) = {1:NM:=-43392.2409178606:-1301.76722753582}\n",
       "    </pre>\n",
       "    "
      ]
     },
     "metadata": {},
     "output_type": "display_data"
    },
    {
     "data": {
      "text/html": [
       "\n",
       "    La solución del problema de condiciones iniciales es\n",
       "    \\(u(x)=-\\frac{1}{198} \\, {\\left(4 \\, e^{\\left(11 \\, x\\right)} + 77 \\, e^{\\left(2 \\, x\\right)} - 81\\right)} e^{\\left(-2 \\, x\\right)}\\)\n",
       "    "
      ],
      "text/plain": [
       "\n",
       "    La solución del problema de condiciones iniciales es\n",
       "    \\(u(x)=-\\frac{1}{198} \\, {\\left(4 \\, e^{\\left(11 \\, x\\right)} + 77 \\, e^{\\left(2 \\, x\\right)} - 81\\right)} e^{\\left(-2 \\, x\\right)}\\)\n",
       "    "
      ]
     },
     "metadata": {},
     "output_type": "display_data"
    },
    {
     "data": {
      "text/html": [
       "\n",
       "    <h1> EDOs lineales de 2o Orden </h1>\n",
       "    <h2> Coeficientes indeterminados: \\( \\phi(x)=Ae^{kx} \\) </h2>\n",
       "    <p> Encuentre la solución \\(u(x)\\) de la siguiente ecuación diferencial\n",
       "    \\(-2 \\, u\\left(x\\right) - 2 \\, \\frac{\\partial}{\\partial x}u\\left(x\\right) + \\frac{\\partial^{2}}{(\\partial x)^{2}}u\\left(x\\right) = -10 \\, e^{\\left(-3 \\, x\\right)}\\) con condiciones iniciales \\(u(0)=-1, \\; u'(0)=2\\)\n",
       "    y evalue en el punto dado:</p>\n",
       "    <pre>\n",
       "    u(1.98) = {1:NM:=-30.7768592383041:-0.923305777149124}\n",
       "    </pre>\n",
       "    "
      ],
      "text/plain": [
       "\n",
       "    <h1> EDOs lineales de 2o Orden </h1>\n",
       "    <h2> Coeficientes indeterminados: \\( \\phi(x)=Ae^{kx} \\) </h2>\n",
       "    <p> Encuentre la solución \\(u(x)\\) de la siguiente ecuación diferencial\n",
       "    \\(-2 \\, u\\left(x\\right) - 2 \\, \\frac{\\partial}{\\partial x}u\\left(x\\right) + \\frac{\\partial^{2}}{(\\partial x)^{2}}u\\left(x\\right) = -10 \\, e^{\\left(-3 \\, x\\right)}\\) con condiciones iniciales \\(u(0)=-1, \\; u'(0)=2\\)\n",
       "    y evalue en el punto dado:</p>\n",
       "    <pre>\n",
       "    u(1.98) = {1:NM:=-30.7768592383041:-0.923305777149124}\n",
       "    </pre>\n",
       "    "
      ]
     },
     "metadata": {},
     "output_type": "display_data"
    },
    {
     "data": {
      "text/html": [
       "\n",
       "    La solución del problema de condiciones iniciales es\n",
       "    \\(u(x)=-\\frac{1}{78} \\, {\\left({\\left(\\sqrt{3} + 9\\right)} e^{\\left(2 \\, \\sqrt{3} x + 4 \\, x\\right)} - {\\left(\\sqrt{3} - 9\\right)} e^{\\left(4 \\, x\\right)} + 60 \\, e^{\\left(\\sqrt{3} x\\right)}\\right)} e^{\\left(-\\sqrt{3} x - 3 \\, x\\right)}\\)\n",
       "    "
      ],
      "text/plain": [
       "\n",
       "    La solución del problema de condiciones iniciales es\n",
       "    \\(u(x)=-\\frac{1}{78} \\, {\\left({\\left(\\sqrt{3} + 9\\right)} e^{\\left(2 \\, \\sqrt{3} x + 4 \\, x\\right)} - {\\left(\\sqrt{3} - 9\\right)} e^{\\left(4 \\, x\\right)} + 60 \\, e^{\\left(\\sqrt{3} x\\right)}\\right)} e^{\\left(-\\sqrt{3} x - 3 \\, x\\right)}\\)\n",
       "    "
      ]
     },
     "metadata": {},
     "output_type": "display_data"
    },
    {
     "data": {
      "text/html": [
       "\n",
       "    <h1> EDOs lineales de 2o Orden </h1>\n",
       "    <h2> Coeficientes indeterminados: \\( \\phi(x)=Ae^{kx} \\) </h2>\n",
       "    <p> Encuentre la solución \\(u(x)\\) de la siguiente ecuación diferencial\n",
       "    \\(-2 \\, u\\left(x\\right) - 2 \\, \\frac{\\partial}{\\partial x}u\\left(x\\right) + \\frac{\\partial^{2}}{(\\partial x)^{2}}u\\left(x\\right) = -2 \\, e^{x}\\) con condiciones iniciales \\(u(0)=-2, \\; u'(0)=-2\\)\n",
       "    y evalue en el punto dado:</p>\n",
       "    <pre>\n",
       "    u(1.39) = {1:NM:=-57.2611768399014:-1.71783530519704}\n",
       "    </pre>\n",
       "    "
      ],
      "text/plain": [
       "\n",
       "    <h1> EDOs lineales de 2o Orden </h1>\n",
       "    <h2> Coeficientes indeterminados: \\( \\phi(x)=Ae^{kx} \\) </h2>\n",
       "    <p> Encuentre la solución \\(u(x)\\) de la siguiente ecuación diferencial\n",
       "    \\(-2 \\, u\\left(x\\right) - 2 \\, \\frac{\\partial}{\\partial x}u\\left(x\\right) + \\frac{\\partial^{2}}{(\\partial x)^{2}}u\\left(x\\right) = -2 \\, e^{x}\\) con condiciones iniciales \\(u(0)=-2, \\; u'(0)=-2\\)\n",
       "    y evalue en el punto dado:</p>\n",
       "    <pre>\n",
       "    u(1.39) = {1:NM:=-57.2611768399014:-1.71783530519704}\n",
       "    </pre>\n",
       "    "
      ]
     },
     "metadata": {},
     "output_type": "display_data"
    },
    {
     "data": {
      "text/html": [
       "\n",
       "    La solución del problema de condiciones iniciales es\n",
       "    \\(u(x)=-\\frac{2}{3} \\, {\\left(2 \\, e^{\\left(2 \\, \\sqrt{3} x + x\\right)} - e^{\\left(\\sqrt{3} x + x\\right)} + 2 \\, e^{x}\\right)} e^{\\left(-\\sqrt{3} x\\right)}\\)\n",
       "    "
      ],
      "text/plain": [
       "\n",
       "    La solución del problema de condiciones iniciales es\n",
       "    \\(u(x)=-\\frac{2}{3} \\, {\\left(2 \\, e^{\\left(2 \\, \\sqrt{3} x + x\\right)} - e^{\\left(\\sqrt{3} x + x\\right)} + 2 \\, e^{x}\\right)} e^{\\left(-\\sqrt{3} x\\right)}\\)\n",
       "    "
      ]
     },
     "metadata": {},
     "output_type": "display_data"
    },
    {
     "data": {
      "text/html": [
       "\n",
       "    <h1> EDOs lineales de 2o Orden </h1>\n",
       "    <h2> Coeficientes indeterminados: \\( \\phi(x)=Ae^{kx} \\) </h2>\n",
       "    <p> Encuentre la solución \\(u(x)\\) de la siguiente ecuación diferencial\n",
       "    \\(\\frac{\\partial^{2}}{(\\partial x)^{2}}u\\left(x\\right) = -2 \\, e^{\\left(-x\\right)}\\) con condiciones iniciales \\(u(0)=0, \\; u'(0)=1\\)\n",
       "    y evalue en el punto dado:</p>\n",
       "    <pre>\n",
       "    u(1.54) = {1:NM:=0.0312377971460440:0.000937133914381320}\n",
       "    </pre>\n",
       "    "
      ],
      "text/plain": [
       "\n",
       "    <h1> EDOs lineales de 2o Orden </h1>\n",
       "    <h2> Coeficientes indeterminados: \\( \\phi(x)=Ae^{kx} \\) </h2>\n",
       "    <p> Encuentre la solución \\(u(x)\\) de la siguiente ecuación diferencial\n",
       "    \\(\\frac{\\partial^{2}}{(\\partial x)^{2}}u\\left(x\\right) = -2 \\, e^{\\left(-x\\right)}\\) con condiciones iniciales \\(u(0)=0, \\; u'(0)=1\\)\n",
       "    y evalue en el punto dado:</p>\n",
       "    <pre>\n",
       "    u(1.54) = {1:NM:=0.0312377971460440:0.000937133914381320}\n",
       "    </pre>\n",
       "    "
      ]
     },
     "metadata": {},
     "output_type": "display_data"
    },
    {
     "data": {
      "text/html": [
       "\n",
       "    La solución del problema de condiciones iniciales es\n",
       "    \\(u(x)=-{\\left({\\left(x - 2\\right)} e^{x} + 2\\right)} e^{\\left(-x\\right)}\\)\n",
       "    "
      ],
      "text/plain": [
       "\n",
       "    La solución del problema de condiciones iniciales es\n",
       "    \\(u(x)=-{\\left({\\left(x - 2\\right)} e^{x} + 2\\right)} e^{\\left(-x\\right)}\\)\n",
       "    "
      ]
     },
     "metadata": {},
     "output_type": "display_data"
    },
    {
     "data": {
      "text/html": [
       "\n",
       "    <h1> EDOs lineales de 2o Orden </h1>\n",
       "    <h2> Coeficientes indeterminados: \\( \\phi(x)=Ae^{kx} \\) </h2>\n",
       "    <p> Encuentre la solución \\(u(x)\\) de la siguiente ecuación diferencial\n",
       "    \\(-u\\left(x\\right) + \\frac{\\partial}{\\partial x}u\\left(x\\right) + \\frac{\\partial^{2}}{(\\partial x)^{2}}u\\left(x\\right) = 4 \\, e^{\\left(-5 \\, x\\right)}\\) con condiciones iniciales \\(u(0)=2, \\; u'(0)=1\\)\n",
       "    y evalue en el punto dado:</p>\n",
       "    <pre>\n",
       "    u(1.87) = {1:NM:=7.00816546518539:0.210244963955562}\n",
       "    </pre>\n",
       "    "
      ],
      "text/plain": [
       "\n",
       "    <h1> EDOs lineales de 2o Orden </h1>\n",
       "    <h2> Coeficientes indeterminados: \\( \\phi(x)=Ae^{kx} \\) </h2>\n",
       "    <p> Encuentre la solución \\(u(x)\\) de la siguiente ecuación diferencial\n",
       "    \\(-u\\left(x\\right) + \\frac{\\partial}{\\partial x}u\\left(x\\right) + \\frac{\\partial^{2}}{(\\partial x)^{2}}u\\left(x\\right) = 4 \\, e^{\\left(-5 \\, x\\right)}\\) con condiciones iniciales \\(u(0)=2, \\; u'(0)=1\\)\n",
       "    y evalue en el punto dado:</p>\n",
       "    <pre>\n",
       "    u(1.87) = {1:NM:=7.00816546518539:0.210244963955562}\n",
       "    </pre>\n",
       "    "
      ]
     },
     "metadata": {},
     "output_type": "display_data"
    },
    {
     "data": {
      "text/html": [
       "\n",
       "    La solución del problema de condiciones iniciales es\n",
       "    \\(u(x)=\\frac{1}{95} \\, {\\left({\\left(56 \\, \\sqrt{5} + 85\\right)} e^{\\left(\\sqrt{5} x + 5 \\, x\\right)} - {\\left(56 \\, \\sqrt{5} - 85\\right)} e^{\\left(5 \\, x\\right)} + 20 \\, e^{\\left(\\frac{1}{2} \\, \\sqrt{5} x + \\frac{1}{2} \\, x\\right)}\\right)} e^{\\left(-\\frac{1}{2} \\, \\sqrt{5} x - \\frac{11}{2} \\, x\\right)}\\)\n",
       "    "
      ],
      "text/plain": [
       "\n",
       "    La solución del problema de condiciones iniciales es\n",
       "    \\(u(x)=\\frac{1}{95} \\, {\\left({\\left(56 \\, \\sqrt{5} + 85\\right)} e^{\\left(\\sqrt{5} x + 5 \\, x\\right)} - {\\left(56 \\, \\sqrt{5} - 85\\right)} e^{\\left(5 \\, x\\right)} + 20 \\, e^{\\left(\\frac{1}{2} \\, \\sqrt{5} x + \\frac{1}{2} \\, x\\right)}\\right)} e^{\\left(-\\frac{1}{2} \\, \\sqrt{5} x - \\frac{11}{2} \\, x\\right)}\\)\n",
       "    "
      ]
     },
     "metadata": {},
     "output_type": "display_data"
    },
    {
     "data": {
      "text/html": [
       "\n",
       "    <h1> EDOs lineales de 2o Orden </h1>\n",
       "    <h2> Coeficientes indeterminados: \\( \\phi(x)=Ae^{kx} \\) </h2>\n",
       "    <p> Encuentre la solución \\(u(x)\\) de la siguiente ecuación diferencial\n",
       "    \\(\\frac{\\partial^{2}}{(\\partial x)^{2}}u\\left(x\\right) = -8 \\, e^{\\left(4 \\, x\\right)}\\) con condiciones iniciales \\(u(0)=2, \\; u'(0)=2\\)\n",
       "    y evalue en el punto dado:</p>\n",
       "    <pre>\n",
       "    u(1.61) = {1:NM:=-304.263399905744:-9.12790199717233}\n",
       "    </pre>\n",
       "    "
      ],
      "text/plain": [
       "\n",
       "    <h1> EDOs lineales de 2o Orden </h1>\n",
       "    <h2> Coeficientes indeterminados: \\( \\phi(x)=Ae^{kx} \\) </h2>\n",
       "    <p> Encuentre la solución \\(u(x)\\) de la siguiente ecuación diferencial\n",
       "    \\(\\frac{\\partial^{2}}{(\\partial x)^{2}}u\\left(x\\right) = -8 \\, e^{\\left(4 \\, x\\right)}\\) con condiciones iniciales \\(u(0)=2, \\; u'(0)=2\\)\n",
       "    y evalue en el punto dado:</p>\n",
       "    <pre>\n",
       "    u(1.61) = {1:NM:=-304.263399905744:-9.12790199717233}\n",
       "    </pre>\n",
       "    "
      ]
     },
     "metadata": {},
     "output_type": "display_data"
    },
    {
     "data": {
      "text/html": [
       "\n",
       "    La solución del problema de condiciones iniciales es\n",
       "    \\(u(x)=4 \\, x - \\frac{1}{2} \\, e^{\\left(4 \\, x\\right)} + \\frac{5}{2}\\)\n",
       "    "
      ],
      "text/plain": [
       "\n",
       "    La solución del problema de condiciones iniciales es\n",
       "    \\(u(x)=4 \\, x - \\frac{1}{2} \\, e^{\\left(4 \\, x\\right)} + \\frac{5}{2}\\)\n",
       "    "
      ]
     },
     "metadata": {},
     "output_type": "display_data"
    },
    {
     "data": {
      "text/html": [
       "\n",
       "    <h1> EDOs lineales de 2o Orden </h1>\n",
       "    <h2> Coeficientes indeterminados: \\( \\phi(x)=Ae^{kx} \\) </h2>\n",
       "    <p> Encuentre la solución \\(u(x)\\) de la siguiente ecuación diferencial\n",
       "    \\(2 \\, u\\left(x\\right) - 2 \\, \\frac{\\partial}{\\partial x}u\\left(x\\right) + \\frac{\\partial^{2}}{(\\partial x)^{2}}u\\left(x\\right) = 10 \\, e^{\\left(3 \\, x\\right)}\\) con condiciones iniciales \\(u(0)=-1, \\; u'(0)=0\\)\n",
       "    y evalue en el punto dado:</p>\n",
       "    <pre>\n",
       "    u(1.23) = {1:NM:=66.9857703816584:2.00957311144975}\n",
       "    </pre>\n",
       "    "
      ],
      "text/plain": [
       "\n",
       "    <h1> EDOs lineales de 2o Orden </h1>\n",
       "    <h2> Coeficientes indeterminados: \\( \\phi(x)=Ae^{kx} \\) </h2>\n",
       "    <p> Encuentre la solución \\(u(x)\\) de la siguiente ecuación diferencial\n",
       "    \\(2 \\, u\\left(x\\right) - 2 \\, \\frac{\\partial}{\\partial x}u\\left(x\\right) + \\frac{\\partial^{2}}{(\\partial x)^{2}}u\\left(x\\right) = 10 \\, e^{\\left(3 \\, x\\right)}\\) con condiciones iniciales \\(u(0)=-1, \\; u'(0)=0\\)\n",
       "    y evalue en el punto dado:</p>\n",
       "    <pre>\n",
       "    u(1.23) = {1:NM:=66.9857703816584:2.00957311144975}\n",
       "    </pre>\n",
       "    "
      ]
     },
     "metadata": {},
     "output_type": "display_data"
    },
    {
     "data": {
      "text/html": [
       "\n",
       "    La solución del problema de condiciones iniciales es\n",
       "    \\(u(x)=-3 \\, \\cos\\left(x\\right) e^{x} - 3 \\, e^{x} \\sin\\left(x\\right) + 2 \\, e^{\\left(3 \\, x\\right)}\\)\n",
       "    "
      ],
      "text/plain": [
       "\n",
       "    La solución del problema de condiciones iniciales es\n",
       "    \\(u(x)=-3 \\, \\cos\\left(x\\right) e^{x} - 3 \\, e^{x} \\sin\\left(x\\right) + 2 \\, e^{\\left(3 \\, x\\right)}\\)\n",
       "    "
      ]
     },
     "metadata": {},
     "output_type": "display_data"
    },
    {
     "data": {
      "text/html": [
       "\n",
       "    <h1> EDOs lineales de 2o Orden </h1>\n",
       "    <h2> Coeficientes indeterminados: \\( \\phi(x)=Ae^{kx} \\) </h2>\n",
       "    <p> Encuentre la solución \\(u(x)\\) de la siguiente ecuación diferencial\n",
       "    \\(u\\left(x\\right) - \\frac{\\partial}{\\partial x}u\\left(x\\right) + \\frac{\\partial^{2}}{(\\partial x)^{2}}u\\left(x\\right) = -9 \\, e^{\\left(-8 \\, x\\right)}\\) con condiciones iniciales \\(u(0)=0, \\; u'(0)=-2\\)\n",
       "    y evalue en el punto dado:</p>\n",
       "    <pre>\n",
       "    u(1.17) = {1:NM:=-5.24359072751512:-0.157307721825454}\n",
       "    </pre>\n",
       "    "
      ],
      "text/plain": [
       "\n",
       "    <h1> EDOs lineales de 2o Orden </h1>\n",
       "    <h2> Coeficientes indeterminados: \\( \\phi(x)=Ae^{kx} \\) </h2>\n",
       "    <p> Encuentre la solución \\(u(x)\\) de la siguiente ecuación diferencial\n",
       "    \\(u\\left(x\\right) - \\frac{\\partial}{\\partial x}u\\left(x\\right) + \\frac{\\partial^{2}}{(\\partial x)^{2}}u\\left(x\\right) = -9 \\, e^{\\left(-8 \\, x\\right)}\\) con condiciones iniciales \\(u(0)=0, \\; u'(0)=-2\\)\n",
       "    y evalue en el punto dado:</p>\n",
       "    <pre>\n",
       "    u(1.17) = {1:NM:=-5.24359072751512:-0.157307721825454}\n",
       "    </pre>\n",
       "    "
      ]
     },
     "metadata": {},
     "output_type": "display_data"
    },
    {
     "data": {
      "text/html": [
       "\n",
       "    La solución del problema de condiciones iniciales es\n",
       "    \\(u(x)=-\\frac{1}{219} \\, {\\left(445 \\, \\sqrt{3} e^{\\left(\\frac{17}{2} \\, x\\right)} \\sin\\left(\\frac{1}{2} \\, \\sqrt{3} x\\right) - 27 \\, \\cos\\left(\\frac{1}{2} \\, \\sqrt{3} x\\right) e^{\\left(\\frac{17}{2} \\, x\\right)} + 27\\right)} e^{\\left(-8 \\, x\\right)}\\)\n",
       "    "
      ],
      "text/plain": [
       "\n",
       "    La solución del problema de condiciones iniciales es\n",
       "    \\(u(x)=-\\frac{1}{219} \\, {\\left(445 \\, \\sqrt{3} e^{\\left(\\frac{17}{2} \\, x\\right)} \\sin\\left(\\frac{1}{2} \\, \\sqrt{3} x\\right) - 27 \\, \\cos\\left(\\frac{1}{2} \\, \\sqrt{3} x\\right) e^{\\left(\\frac{17}{2} \\, x\\right)} + 27\\right)} e^{\\left(-8 \\, x\\right)}\\)\n",
       "    "
      ]
     },
     "metadata": {},
     "output_type": "display_data"
    },
    {
     "data": {
      "text/html": [
       "\n",
       "    <h1> EDOs lineales de 2o Orden </h1>\n",
       "    <h2> Coeficientes indeterminados: \\( \\phi(x)=Ae^{kx} \\) </h2>\n",
       "    <p> Encuentre la solución \\(u(x)\\) de la siguiente ecuación diferencial\n",
       "    \\(u\\left(x\\right) - 2 \\, \\frac{\\partial}{\\partial x}u\\left(x\\right) + \\frac{\\partial^{2}}{(\\partial x)^{2}}u\\left(x\\right) = -e^{\\left(-x\\right)}\\) con condiciones iniciales \\(u(0)=-1, \\; u'(0)=-2\\)\n",
       "    y evalue en el punto dado:</p>\n",
       "    <pre>\n",
       "    u(1.74) = {1:NM:=-19.1869540003321:-0.575608620009964}\n",
       "    </pre>\n",
       "    "
      ],
      "text/plain": [
       "\n",
       "    <h1> EDOs lineales de 2o Orden </h1>\n",
       "    <h2> Coeficientes indeterminados: \\( \\phi(x)=Ae^{kx} \\) </h2>\n",
       "    <p> Encuentre la solución \\(u(x)\\) de la siguiente ecuación diferencial\n",
       "    \\(u\\left(x\\right) - 2 \\, \\frac{\\partial}{\\partial x}u\\left(x\\right) + \\frac{\\partial^{2}}{(\\partial x)^{2}}u\\left(x\\right) = -e^{\\left(-x\\right)}\\) con condiciones iniciales \\(u(0)=-1, \\; u'(0)=-2\\)\n",
       "    y evalue en el punto dado:</p>\n",
       "    <pre>\n",
       "    u(1.74) = {1:NM:=-19.1869540003321:-0.575608620009964}\n",
       "    </pre>\n",
       "    "
      ]
     },
     "metadata": {},
     "output_type": "display_data"
    },
    {
     "data": {
      "text/html": [
       "\n",
       "    La solución del problema de condiciones iniciales es\n",
       "    \\(u(x)=-\\frac{1}{4} \\, {\\left(3 \\, {\\left(2 \\, x + 1\\right)} e^{\\left(2 \\, x\\right)} + 1\\right)} e^{\\left(-x\\right)}\\)\n",
       "    "
      ],
      "text/plain": [
       "\n",
       "    La solución del problema de condiciones iniciales es\n",
       "    \\(u(x)=-\\frac{1}{4} \\, {\\left(3 \\, {\\left(2 \\, x + 1\\right)} e^{\\left(2 \\, x\\right)} + 1\\right)} e^{\\left(-x\\right)}\\)\n",
       "    "
      ]
     },
     "metadata": {},
     "output_type": "display_data"
    },
    {
     "data": {
      "text/html": [
       "\n",
       "    <h1> EDOs lineales de 2o Orden </h1>\n",
       "    <h2> Coeficientes indeterminados: \\( \\phi(x)=Ae^{kx} \\) </h2>\n",
       "    <p> Encuentre la solución \\(u(x)\\) de la siguiente ecuación diferencial\n",
       "    \\(-2 \\, \\frac{\\partial}{\\partial x}u\\left(x\\right) + \\frac{\\partial^{2}}{(\\partial x)^{2}}u\\left(x\\right) = 4 \\, e^{x}\\) con condiciones iniciales \\(u(0)=2, \\; u'(0)=0\\)\n",
       "    y evalue en el punto dado:</p>\n",
       "    <pre>\n",
       "    u(1.6) = {1:NM:=33.2529306966382:0.997587920899147}\n",
       "    </pre>\n",
       "    "
      ],
      "text/plain": [
       "\n",
       "    <h1> EDOs lineales de 2o Orden </h1>\n",
       "    <h2> Coeficientes indeterminados: \\( \\phi(x)=Ae^{kx} \\) </h2>\n",
       "    <p> Encuentre la solución \\(u(x)\\) de la siguiente ecuación diferencial\n",
       "    \\(-2 \\, \\frac{\\partial}{\\partial x}u\\left(x\\right) + \\frac{\\partial^{2}}{(\\partial x)^{2}}u\\left(x\\right) = 4 \\, e^{x}\\) con condiciones iniciales \\(u(0)=2, \\; u'(0)=0\\)\n",
       "    y evalue en el punto dado:</p>\n",
       "    <pre>\n",
       "    u(1.6) = {1:NM:=33.2529306966382:0.997587920899147}\n",
       "    </pre>\n",
       "    "
      ]
     },
     "metadata": {},
     "output_type": "display_data"
    },
    {
     "data": {
      "text/html": [
       "\n",
       "    La solución del problema de condiciones iniciales es\n",
       "    \\(u(x)=2 \\, e^{\\left(2 \\, x\\right)} - 4 \\, e^{x} + 4\\)\n",
       "    "
      ],
      "text/plain": [
       "\n",
       "    La solución del problema de condiciones iniciales es\n",
       "    \\(u(x)=2 \\, e^{\\left(2 \\, x\\right)} - 4 \\, e^{x} + 4\\)\n",
       "    "
      ]
     },
     "metadata": {},
     "output_type": "display_data"
    },
    {
     "data": {
      "text/html": [
       "\n",
       "    <h1> EDOs lineales de 2o Orden </h1>\n",
       "    <h2> Coeficientes indeterminados: \\( \\phi(x)=Ae^{kx} \\) </h2>\n",
       "    <p> Encuentre la solución \\(u(x)\\) de la siguiente ecuación diferencial\n",
       "    \\(2 \\, \\frac{\\partial}{\\partial x}u\\left(x\\right) + \\frac{\\partial^{2}}{(\\partial x)^{2}}u\\left(x\\right) = 2 \\, e^{\\left(-5 \\, x\\right)}\\) con condiciones iniciales \\(u(0)=1, \\; u'(0)=-1\\)\n",
       "    y evalue en el punto dado:</p>\n",
       "    <pre>\n",
       "    u(1.19) = {1:NM:=0.715772541654178:0.0214731762496253}\n",
       "    </pre>\n",
       "    "
      ],
      "text/plain": [
       "\n",
       "    <h1> EDOs lineales de 2o Orden </h1>\n",
       "    <h2> Coeficientes indeterminados: \\( \\phi(x)=Ae^{kx} \\) </h2>\n",
       "    <p> Encuentre la solución \\(u(x)\\) de la siguiente ecuación diferencial\n",
       "    \\(2 \\, \\frac{\\partial}{\\partial x}u\\left(x\\right) + \\frac{\\partial^{2}}{(\\partial x)^{2}}u\\left(x\\right) = 2 \\, e^{\\left(-5 \\, x\\right)}\\) con condiciones iniciales \\(u(0)=1, \\; u'(0)=-1\\)\n",
       "    y evalue en el punto dado:</p>\n",
       "    <pre>\n",
       "    u(1.19) = {1:NM:=0.715772541654178:0.0214731762496253}\n",
       "    </pre>\n",
       "    "
      ]
     },
     "metadata": {},
     "output_type": "display_data"
    },
    {
     "data": {
      "text/html": [
       "\n",
       "    La solución del problema de condiciones iniciales es\n",
       "    \\(u(x)=\\frac{1}{30} \\, {\\left(21 \\, e^{\\left(5 \\, x\\right)} + 5 \\, e^{\\left(3 \\, x\\right)} + 4\\right)} e^{\\left(-5 \\, x\\right)}\\)\n",
       "    "
      ],
      "text/plain": [
       "\n",
       "    La solución del problema de condiciones iniciales es\n",
       "    \\(u(x)=\\frac{1}{30} \\, {\\left(21 \\, e^{\\left(5 \\, x\\right)} + 5 \\, e^{\\left(3 \\, x\\right)} + 4\\right)} e^{\\left(-5 \\, x\\right)}\\)\n",
       "    "
      ]
     },
     "metadata": {},
     "output_type": "display_data"
    },
    {
     "data": {
      "text/html": [
       "\n",
       "    <h1> EDOs lineales de 2o Orden </h1>\n",
       "    <h2> Coeficientes indeterminados: \\( \\phi(x)=Ae^{kx} \\) </h2>\n",
       "    <p> Encuentre la solución \\(u(x)\\) de la siguiente ecuación diferencial\n",
       "    \\(2 \\, u\\left(x\\right) - \\frac{\\partial}{\\partial x}u\\left(x\\right) + \\frac{\\partial^{2}}{(\\partial x)^{2}}u\\left(x\\right) = -8 \\, e^{\\left(-8 \\, x\\right)}\\) con condiciones iniciales \\(u(0)=2, \\; u'(0)=-1\\)\n",
       "    y evalue en el punto dado:</p>\n",
       "    <pre>\n",
       "    u(1.61) = {1:NM:=-6.68474233831686:-0.200542270149506}\n",
       "    </pre>\n",
       "    "
      ],
      "text/plain": [
       "\n",
       "    <h1> EDOs lineales de 2o Orden </h1>\n",
       "    <h2> Coeficientes indeterminados: \\( \\phi(x)=Ae^{kx} \\) </h2>\n",
       "    <p> Encuentre la solución \\(u(x)\\) de la siguiente ecuación diferencial\n",
       "    \\(2 \\, u\\left(x\\right) - \\frac{\\partial}{\\partial x}u\\left(x\\right) + \\frac{\\partial^{2}}{(\\partial x)^{2}}u\\left(x\\right) = -8 \\, e^{\\left(-8 \\, x\\right)}\\) con condiciones iniciales \\(u(0)=2, \\; u'(0)=-1\\)\n",
       "    y evalue en el punto dado:</p>\n",
       "    <pre>\n",
       "    u(1.61) = {1:NM:=-6.68474233831686:-0.200542270149506}\n",
       "    </pre>\n",
       "    "
      ]
     },
     "metadata": {},
     "output_type": "display_data"
    },
    {
     "data": {
      "text/html": [
       "\n",
       "    La solución del problema de condiciones iniciales es\n",
       "    \\(u(x)=-\\frac{2}{259} \\, {\\left(108 \\, \\sqrt{7} e^{\\left(\\frac{17}{2} \\, x\\right)} \\sin\\left(\\frac{1}{2} \\, \\sqrt{7} x\\right) - 273 \\, \\cos\\left(\\frac{1}{2} \\, \\sqrt{7} x\\right) e^{\\left(\\frac{17}{2} \\, x\\right)} + 14\\right)} e^{\\left(-8 \\, x\\right)}\\)\n",
       "    "
      ],
      "text/plain": [
       "\n",
       "    La solución del problema de condiciones iniciales es\n",
       "    \\(u(x)=-\\frac{2}{259} \\, {\\left(108 \\, \\sqrt{7} e^{\\left(\\frac{17}{2} \\, x\\right)} \\sin\\left(\\frac{1}{2} \\, \\sqrt{7} x\\right) - 273 \\, \\cos\\left(\\frac{1}{2} \\, \\sqrt{7} x\\right) e^{\\left(\\frac{17}{2} \\, x\\right)} + 14\\right)} e^{\\left(-8 \\, x\\right)}\\)\n",
       "    "
      ]
     },
     "metadata": {},
     "output_type": "display_data"
    },
    {
     "data": {
      "text/html": [
       "\n",
       "    <h1> EDOs lineales de 2o Orden </h1>\n",
       "    <h2> Coeficientes indeterminados: \\( \\phi(x)=Ae^{kx} \\) </h2>\n",
       "    <p> Encuentre la solución \\(u(x)\\) de la siguiente ecuación diferencial\n",
       "    \\(u\\left(x\\right) + \\frac{\\partial^{2}}{(\\partial x)^{2}}u\\left(x\\right) = -6 \\, e^{x}\\) con condiciones iniciales \\(u(0)=-1, \\; u'(0)=1\\)\n",
       "    y evalue en el punto dado:</p>\n",
       "    <pre>\n",
       "    u(1.67) = {1:NM:=-12.1542520655002:-0.364627561965007}\n",
       "    </pre>\n",
       "    "
      ],
      "text/plain": [
       "\n",
       "    <h1> EDOs lineales de 2o Orden </h1>\n",
       "    <h2> Coeficientes indeterminados: \\( \\phi(x)=Ae^{kx} \\) </h2>\n",
       "    <p> Encuentre la solución \\(u(x)\\) de la siguiente ecuación diferencial\n",
       "    \\(u\\left(x\\right) + \\frac{\\partial^{2}}{(\\partial x)^{2}}u\\left(x\\right) = -6 \\, e^{x}\\) con condiciones iniciales \\(u(0)=-1, \\; u'(0)=1\\)\n",
       "    y evalue en el punto dado:</p>\n",
       "    <pre>\n",
       "    u(1.67) = {1:NM:=-12.1542520655002:-0.364627561965007}\n",
       "    </pre>\n",
       "    "
      ]
     },
     "metadata": {},
     "output_type": "display_data"
    },
    {
     "data": {
      "text/html": [
       "\n",
       "    La solución del problema de condiciones iniciales es\n",
       "    \\(u(x)=2 \\, \\cos\\left(x\\right) - 3 \\, e^{x} + 4 \\, \\sin\\left(x\\right)\\)\n",
       "    "
      ],
      "text/plain": [
       "\n",
       "    La solución del problema de condiciones iniciales es\n",
       "    \\(u(x)=2 \\, \\cos\\left(x\\right) - 3 \\, e^{x} + 4 \\, \\sin\\left(x\\right)\\)\n",
       "    "
      ]
     },
     "metadata": {},
     "output_type": "display_data"
    },
    {
     "data": {
      "text/html": [
       "\n",
       "    <h1> EDOs lineales de 2o Orden </h1>\n",
       "    <h2> Coeficientes indeterminados: \\( \\phi(x)=Ae^{kx} \\) </h2>\n",
       "    <p> Encuentre la solución \\(u(x)\\) de la siguiente ecuación diferencial\n",
       "    \\(2 \\, \\frac{\\partial}{\\partial x}u\\left(x\\right) + \\frac{\\partial^{2}}{(\\partial x)^{2}}u\\left(x\\right) = -6 \\, e^{x}\\) con condiciones iniciales \\(u(0)=2, \\; u'(0)=-1\\)\n",
       "    y evalue en el punto dado:</p>\n",
       "    <pre>\n",
       "    u(1.75) = {1:NM:=-7.02430404372262:-0.210729121311679}\n",
       "    </pre>\n",
       "    "
      ],
      "text/plain": [
       "\n",
       "    <h1> EDOs lineales de 2o Orden </h1>\n",
       "    <h2> Coeficientes indeterminados: \\( \\phi(x)=Ae^{kx} \\) </h2>\n",
       "    <p> Encuentre la solución \\(u(x)\\) de la siguiente ecuación diferencial\n",
       "    \\(2 \\, \\frac{\\partial}{\\partial x}u\\left(x\\right) + \\frac{\\partial^{2}}{(\\partial x)^{2}}u\\left(x\\right) = -6 \\, e^{x}\\) con condiciones iniciales \\(u(0)=2, \\; u'(0)=-1\\)\n",
       "    y evalue en el punto dado:</p>\n",
       "    <pre>\n",
       "    u(1.75) = {1:NM:=-7.02430404372262:-0.210729121311679}\n",
       "    </pre>\n",
       "    "
      ]
     },
     "metadata": {},
     "output_type": "display_data"
    },
    {
     "data": {
      "text/html": [
       "\n",
       "    La solución del problema de condiciones iniciales es\n",
       "    \\(u(x)=-\\frac{1}{2} \\, {\\left(4 \\, e^{\\left(3 \\, x\\right)} - 9 \\, e^{\\left(2 \\, x\\right)} + 1\\right)} e^{\\left(-2 \\, x\\right)}\\)\n",
       "    "
      ],
      "text/plain": [
       "\n",
       "    La solución del problema de condiciones iniciales es\n",
       "    \\(u(x)=-\\frac{1}{2} \\, {\\left(4 \\, e^{\\left(3 \\, x\\right)} - 9 \\, e^{\\left(2 \\, x\\right)} + 1\\right)} e^{\\left(-2 \\, x\\right)}\\)\n",
       "    "
      ]
     },
     "metadata": {},
     "output_type": "display_data"
    },
    {
     "data": {
      "text/html": [
       "\n",
       "    <h1> EDOs lineales de 2o Orden </h1>\n",
       "    <h2> Coeficientes indeterminados: \\( \\phi(x)=Ae^{kx} \\) </h2>\n",
       "    <p> Encuentre la solución \\(u(x)\\) de la siguiente ecuación diferencial\n",
       "    \\(-2 \\, u\\left(x\\right) - \\frac{\\partial}{\\partial x}u\\left(x\\right) + \\frac{\\partial^{2}}{(\\partial x)^{2}}u\\left(x\\right) = 8 \\, e^{\\left(-5 \\, x\\right)}\\) con condiciones iniciales \\(u(0)=-1, \\; u'(0)=-1\\)\n",
       "    y evalue en el punto dado:</p>\n",
       "    <pre>\n",
       "    u(1.36) = {1:NM:=-4.59357748261243:-0.137807324478373}\n",
       "    </pre>\n",
       "    "
      ],
      "text/plain": [
       "\n",
       "    <h1> EDOs lineales de 2o Orden </h1>\n",
       "    <h2> Coeficientes indeterminados: \\( \\phi(x)=Ae^{kx} \\) </h2>\n",
       "    <p> Encuentre la solución \\(u(x)\\) de la siguiente ecuación diferencial\n",
       "    \\(-2 \\, u\\left(x\\right) - \\frac{\\partial}{\\partial x}u\\left(x\\right) + \\frac{\\partial^{2}}{(\\partial x)^{2}}u\\left(x\\right) = 8 \\, e^{\\left(-5 \\, x\\right)}\\) con condiciones iniciales \\(u(0)=-1, \\; u'(0)=-1\\)\n",
       "    y evalue en el punto dado:</p>\n",
       "    <pre>\n",
       "    u(1.36) = {1:NM:=-4.59357748261243:-0.137807324478373}\n",
       "    </pre>\n",
       "    "
      ]
     },
     "metadata": {},
     "output_type": "display_data"
    },
    {
     "data": {
      "text/html": [
       "\n",
       "    La solución del problema de condiciones iniciales es\n",
       "    \\(u(x)=-\\frac{1}{7} \\, {\\left(2 \\, e^{\\left(7 \\, x\\right)} + 7 \\, e^{\\left(4 \\, x\\right)} - 2\\right)} e^{\\left(-5 \\, x\\right)}\\)\n",
       "    "
      ],
      "text/plain": [
       "\n",
       "    La solución del problema de condiciones iniciales es\n",
       "    \\(u(x)=-\\frac{1}{7} \\, {\\left(2 \\, e^{\\left(7 \\, x\\right)} + 7 \\, e^{\\left(4 \\, x\\right)} - 2\\right)} e^{\\left(-5 \\, x\\right)}\\)\n",
       "    "
      ]
     },
     "metadata": {},
     "output_type": "display_data"
    },
    {
     "data": {
      "text/html": [
       "\n",
       "    <h1> EDOs lineales de 2o Orden </h1>\n",
       "    <h2> Coeficientes indeterminados: \\( \\phi(x)=Ae^{kx} \\) </h2>\n",
       "    <p> Encuentre la solución \\(u(x)\\) de la siguiente ecuación diferencial\n",
       "    \\(-2 \\, u\\left(x\\right) - \\frac{\\partial}{\\partial x}u\\left(x\\right) + \\frac{\\partial^{2}}{(\\partial x)^{2}}u\\left(x\\right) = 3 \\, e^{\\left(2 \\, x\\right)}\\) con condiciones iniciales \\(u(0)=0, \\; u'(0)=-1\\)\n",
       "    y evalue en el punto dado:</p>\n",
       "    <pre>\n",
       "    u(1.09) = {1:NM:=3.96908064532967:0.119072419359890}\n",
       "    </pre>\n",
       "    "
      ],
      "text/plain": [
       "\n",
       "    <h1> EDOs lineales de 2o Orden </h1>\n",
       "    <h2> Coeficientes indeterminados: \\( \\phi(x)=Ae^{kx} \\) </h2>\n",
       "    <p> Encuentre la solución \\(u(x)\\) de la siguiente ecuación diferencial\n",
       "    \\(-2 \\, u\\left(x\\right) - \\frac{\\partial}{\\partial x}u\\left(x\\right) + \\frac{\\partial^{2}}{(\\partial x)^{2}}u\\left(x\\right) = 3 \\, e^{\\left(2 \\, x\\right)}\\) con condiciones iniciales \\(u(0)=0, \\; u'(0)=-1\\)\n",
       "    y evalue en el punto dado:</p>\n",
       "    <pre>\n",
       "    u(1.09) = {1:NM:=3.96908064532967:0.119072419359890}\n",
       "    </pre>\n",
       "    "
      ]
     },
     "metadata": {},
     "output_type": "display_data"
    },
    {
     "data": {
      "text/html": [
       "\n",
       "    La solución del problema de condiciones iniciales es\n",
       "    \\(u(x)=\\frac{1}{3} \\, {\\left({\\left(3 \\, x - 2\\right)} e^{\\left(3 \\, x\\right)} + 2\\right)} e^{\\left(-x\\right)}\\)\n",
       "    "
      ],
      "text/plain": [
       "\n",
       "    La solución del problema de condiciones iniciales es\n",
       "    \\(u(x)=\\frac{1}{3} \\, {\\left({\\left(3 \\, x - 2\\right)} e^{\\left(3 \\, x\\right)} + 2\\right)} e^{\\left(-x\\right)}\\)\n",
       "    "
      ]
     },
     "metadata": {},
     "output_type": "display_data"
    },
    {
     "data": {
      "text/html": [
       "\n",
       "    <h1> EDOs lineales de 2o Orden </h1>\n",
       "    <h2> Coeficientes indeterminados: \\( \\phi(x)=Ae^{kx} \\) </h2>\n",
       "    <p> Encuentre la solución \\(u(x)\\) de la siguiente ecuación diferencial\n",
       "    \\(2 \\, u\\left(x\\right) + 2 \\, \\frac{\\partial}{\\partial x}u\\left(x\\right) + \\frac{\\partial^{2}}{(\\partial x)^{2}}u\\left(x\\right) = 5 \\, e^{\\left(-9 \\, x\\right)}\\) con condiciones iniciales \\(u(0)=1, \\; u'(0)=1\\)\n",
       "    y evalue en el punto dado:</p>\n",
       "    <pre>\n",
       "    u(1.82) = {1:NM:=0.373782478609104:0.0112134743582731}\n",
       "    </pre>\n",
       "    "
      ],
      "text/plain": [
       "\n",
       "    <h1> EDOs lineales de 2o Orden </h1>\n",
       "    <h2> Coeficientes indeterminados: \\( \\phi(x)=Ae^{kx} \\) </h2>\n",
       "    <p> Encuentre la solución \\(u(x)\\) de la siguiente ecuación diferencial\n",
       "    \\(2 \\, u\\left(x\\right) + 2 \\, \\frac{\\partial}{\\partial x}u\\left(x\\right) + \\frac{\\partial^{2}}{(\\partial x)^{2}}u\\left(x\\right) = 5 \\, e^{\\left(-9 \\, x\\right)}\\) con condiciones iniciales \\(u(0)=1, \\; u'(0)=1\\)\n",
       "    y evalue en el punto dado:</p>\n",
       "    <pre>\n",
       "    u(1.82) = {1:NM:=0.373782478609104:0.0112134743582731}\n",
       "    </pre>\n",
       "    "
      ]
     },
     "metadata": {},
     "output_type": "display_data"
    },
    {
     "data": {
      "text/html": [
       "\n",
       "    La solución del problema de condiciones iniciales es\n",
       "    \\(u(x)=\\frac{1}{13} \\, {\\left(12 \\, \\cos\\left(x\\right) e^{\\left(8 \\, x\\right)} + 34 \\, e^{\\left(8 \\, x\\right)} \\sin\\left(x\\right) + 1\\right)} e^{\\left(-9 \\, x\\right)}\\)\n",
       "    "
      ],
      "text/plain": [
       "\n",
       "    La solución del problema de condiciones iniciales es\n",
       "    \\(u(x)=\\frac{1}{13} \\, {\\left(12 \\, \\cos\\left(x\\right) e^{\\left(8 \\, x\\right)} + 34 \\, e^{\\left(8 \\, x\\right)} \\sin\\left(x\\right) + 1\\right)} e^{\\left(-9 \\, x\\right)}\\)\n",
       "    "
      ]
     },
     "metadata": {},
     "output_type": "display_data"
    },
    {
     "data": {
      "text/html": [
       "\n",
       "    <h1> EDOs lineales de 2o Orden </h1>\n",
       "    <h2> Coeficientes indeterminados: \\( \\phi(x)=Ae^{kx} \\) </h2>\n",
       "    <p> Encuentre la solución \\(u(x)\\) de la siguiente ecuación diferencial\n",
       "    \\(2 \\, \\frac{\\partial}{\\partial x}u\\left(x\\right) + \\frac{\\partial^{2}}{(\\partial x)^{2}}u\\left(x\\right) = -e^{x}\\) con condiciones iniciales \\(u(0)=2, \\; u'(0)=-2\\)\n",
       "    y evalue en el punto dado:</p>\n",
       "    <pre>\n",
       "    u(1.4) = {1:NM:=0.198941729906124:0.00596825189718372}\n",
       "    </pre>\n",
       "    "
      ],
      "text/plain": [
       "\n",
       "    <h1> EDOs lineales de 2o Orden </h1>\n",
       "    <h2> Coeficientes indeterminados: \\( \\phi(x)=Ae^{kx} \\) </h2>\n",
       "    <p> Encuentre la solución \\(u(x)\\) de la siguiente ecuación diferencial\n",
       "    \\(2 \\, \\frac{\\partial}{\\partial x}u\\left(x\\right) + \\frac{\\partial^{2}}{(\\partial x)^{2}}u\\left(x\\right) = -e^{x}\\) con condiciones iniciales \\(u(0)=2, \\; u'(0)=-2\\)\n",
       "    y evalue en el punto dado:</p>\n",
       "    <pre>\n",
       "    u(1.4) = {1:NM:=0.198941729906124:0.00596825189718372}\n",
       "    </pre>\n",
       "    "
      ]
     },
     "metadata": {},
     "output_type": "display_data"
    },
    {
     "data": {
      "text/html": [
       "\n",
       "    La solución del problema de condiciones iniciales es\n",
       "    \\(u(x)=-\\frac{1}{6} \\, {\\left(2 \\, e^{\\left(3 \\, x\\right)} - 9 \\, e^{\\left(2 \\, x\\right)} - 5\\right)} e^{\\left(-2 \\, x\\right)}\\)\n",
       "    "
      ],
      "text/plain": [
       "\n",
       "    La solución del problema de condiciones iniciales es\n",
       "    \\(u(x)=-\\frac{1}{6} \\, {\\left(2 \\, e^{\\left(3 \\, x\\right)} - 9 \\, e^{\\left(2 \\, x\\right)} - 5\\right)} e^{\\left(-2 \\, x\\right)}\\)\n",
       "    "
      ]
     },
     "metadata": {},
     "output_type": "display_data"
    },
    {
     "data": {
      "text/html": [
       "\n",
       "    <h1> EDOs lineales de 2o Orden </h1>\n",
       "    <h2> Coeficientes indeterminados: \\( \\phi(x)=Ae^{kx} \\) </h2>\n",
       "    <p> Encuentre la solución \\(u(x)\\) de la siguiente ecuación diferencial\n",
       "    \\(u\\left(x\\right) - 2 \\, \\frac{\\partial}{\\partial x}u\\left(x\\right) + \\frac{\\partial^{2}}{(\\partial x)^{2}}u\\left(x\\right) = 4 \\, e^{\\left(2 \\, x\\right)}\\) con condiciones iniciales \\(u(0)=2, \\; u'(0)=-2\\)\n",
       "    y evalue en el punto dado:</p>\n",
       "    <pre>\n",
       "    u(1.34) = {1:NM:=9.76213979526337:0.292864193857901}\n",
       "    </pre>\n",
       "    "
      ],
      "text/plain": [
       "\n",
       "    <h1> EDOs lineales de 2o Orden </h1>\n",
       "    <h2> Coeficientes indeterminados: \\( \\phi(x)=Ae^{kx} \\) </h2>\n",
       "    <p> Encuentre la solución \\(u(x)\\) de la siguiente ecuación diferencial\n",
       "    \\(u\\left(x\\right) - 2 \\, \\frac{\\partial}{\\partial x}u\\left(x\\right) + \\frac{\\partial^{2}}{(\\partial x)^{2}}u\\left(x\\right) = 4 \\, e^{\\left(2 \\, x\\right)}\\) con condiciones iniciales \\(u(0)=2, \\; u'(0)=-2\\)\n",
       "    y evalue en el punto dado:</p>\n",
       "    <pre>\n",
       "    u(1.34) = {1:NM:=9.76213979526337:0.292864193857901}\n",
       "    </pre>\n",
       "    "
      ]
     },
     "metadata": {},
     "output_type": "display_data"
    },
    {
     "data": {
      "text/html": [
       "\n",
       "    La solución del problema de condiciones iniciales es\n",
       "    \\(u(x)=-2 \\, {\\left(4 \\, x + 1\\right)} e^{x} + 4 \\, e^{\\left(2 \\, x\\right)}\\)\n",
       "    "
      ],
      "text/plain": [
       "\n",
       "    La solución del problema de condiciones iniciales es\n",
       "    \\(u(x)=-2 \\, {\\left(4 \\, x + 1\\right)} e^{x} + 4 \\, e^{\\left(2 \\, x\\right)}\\)\n",
       "    "
      ]
     },
     "metadata": {},
     "output_type": "display_data"
    },
    {
     "data": {
      "text/html": [
       "\n",
       "    <h1> EDOs lineales de 2o Orden </h1>\n",
       "    <h2> Coeficientes indeterminados: \\( \\phi(x)=Ae^{kx} \\) </h2>\n",
       "    <p> Encuentre la solución \\(u(x)\\) de la siguiente ecuación diferencial\n",
       "    \\(-u\\left(x\\right) - 2 \\, \\frac{\\partial}{\\partial x}u\\left(x\\right) + \\frac{\\partial^{2}}{(\\partial x)^{2}}u\\left(x\\right) = -10 \\, e^{\\left(6 \\, x\\right)}\\) con condiciones iniciales \\(u(0)=-2, \\; u'(0)=-1\\)\n",
       "    y evalue en el punto dado:</p>\n",
       "    <pre>\n",
       "    u(1.25) = {1:NM:=-780.298272136048:-23.4089481640814}\n",
       "    </pre>\n",
       "    "
      ],
      "text/plain": [
       "\n",
       "    <h1> EDOs lineales de 2o Orden </h1>\n",
       "    <h2> Coeficientes indeterminados: \\( \\phi(x)=Ae^{kx} \\) </h2>\n",
       "    <p> Encuentre la solución \\(u(x)\\) de la siguiente ecuación diferencial\n",
       "    \\(-u\\left(x\\right) - 2 \\, \\frac{\\partial}{\\partial x}u\\left(x\\right) + \\frac{\\partial^{2}}{(\\partial x)^{2}}u\\left(x\\right) = -10 \\, e^{\\left(6 \\, x\\right)}\\) con condiciones iniciales \\(u(0)=-2, \\; u'(0)=-1\\)\n",
       "    y evalue en el punto dado:</p>\n",
       "    <pre>\n",
       "    u(1.25) = {1:NM:=-780.298272136048:-23.4089481640814}\n",
       "    </pre>\n",
       "    "
      ]
     },
     "metadata": {},
     "output_type": "display_data"
    },
    {
     "data": {
      "text/html": [
       "\n",
       "    La solución del problema de condiciones iniciales es\n",
       "    \\(u(x)=\\frac{1}{92} \\, {\\left({\\left(73 \\, \\sqrt{2} - 72\\right)} e^{\\left(2 \\, \\sqrt{2} x + x\\right)} - {\\left(73 \\, \\sqrt{2} + 72\\right)} e^{x} - 40 \\, e^{\\left(\\sqrt{2} x + 6 \\, x\\right)}\\right)} e^{\\left(-\\sqrt{2} x\\right)}\\)\n",
       "    "
      ],
      "text/plain": [
       "\n",
       "    La solución del problema de condiciones iniciales es\n",
       "    \\(u(x)=\\frac{1}{92} \\, {\\left({\\left(73 \\, \\sqrt{2} - 72\\right)} e^{\\left(2 \\, \\sqrt{2} x + x\\right)} - {\\left(73 \\, \\sqrt{2} + 72\\right)} e^{x} - 40 \\, e^{\\left(\\sqrt{2} x + 6 \\, x\\right)}\\right)} e^{\\left(-\\sqrt{2} x\\right)}\\)\n",
       "    "
      ]
     },
     "metadata": {},
     "output_type": "display_data"
    },
    {
     "data": {
      "text/html": [
       "\n",
       "    <h1> EDOs lineales de 2o Orden </h1>\n",
       "    <h2> Coeficientes indeterminados: \\( \\phi(x)=Ae^{kx} \\) </h2>\n",
       "    <p> Encuentre la solución \\(u(x)\\) de la siguiente ecuación diferencial\n",
       "    \\(2 \\, \\frac{\\partial}{\\partial x}u\\left(x\\right) + \\frac{\\partial^{2}}{(\\partial x)^{2}}u\\left(x\\right) = e^{\\left(8 \\, x\\right)}\\) con condiciones iniciales \\(u(0)=2, \\; u'(0)=2\\)\n",
       "    y evalue en el punto dado:</p>\n",
       "    <pre>\n",
       "    u(1.43) = {1:NM:=1164.97074521973:34.9491223565918}\n",
       "    </pre>\n",
       "    "
      ],
      "text/plain": [
       "\n",
       "    <h1> EDOs lineales de 2o Orden </h1>\n",
       "    <h2> Coeficientes indeterminados: \\( \\phi(x)=Ae^{kx} \\) </h2>\n",
       "    <p> Encuentre la solución \\(u(x)\\) de la siguiente ecuación diferencial\n",
       "    \\(2 \\, \\frac{\\partial}{\\partial x}u\\left(x\\right) + \\frac{\\partial^{2}}{(\\partial x)^{2}}u\\left(x\\right) = e^{\\left(8 \\, x\\right)}\\) con condiciones iniciales \\(u(0)=2, \\; u'(0)=2\\)\n",
       "    y evalue en el punto dado:</p>\n",
       "    <pre>\n",
       "    u(1.43) = {1:NM:=1164.97074521973:34.9491223565918}\n",
       "    </pre>\n",
       "    "
      ]
     },
     "metadata": {},
     "output_type": "display_data"
    },
    {
     "data": {
      "text/html": [
       "\n",
       "    La solución del problema de condiciones iniciales es\n",
       "    \\(u(x)=\\frac{1}{80} \\, {\\left(e^{\\left(10 \\, x\\right)} + 235 \\, e^{\\left(2 \\, x\\right)} - 76\\right)} e^{\\left(-2 \\, x\\right)}\\)\n",
       "    "
      ],
      "text/plain": [
       "\n",
       "    La solución del problema de condiciones iniciales es\n",
       "    \\(u(x)=\\frac{1}{80} \\, {\\left(e^{\\left(10 \\, x\\right)} + 235 \\, e^{\\left(2 \\, x\\right)} - 76\\right)} e^{\\left(-2 \\, x\\right)}\\)\n",
       "    "
      ]
     },
     "metadata": {},
     "output_type": "display_data"
    },
    {
     "data": {
      "text/html": [
       "\n",
       "    <h1> EDOs lineales de 2o Orden </h1>\n",
       "    <h2> Coeficientes indeterminados: \\( \\phi(x)=Ae^{kx} \\) </h2>\n",
       "    <p> Encuentre la solución \\(u(x)\\) de la siguiente ecuación diferencial\n",
       "    \\(u\\left(x\\right) + 2 \\, \\frac{\\partial}{\\partial x}u\\left(x\\right) + \\frac{\\partial^{2}}{(\\partial x)^{2}}u\\left(x\\right) = -8 \\, e^{\\left(10 \\, x\\right)}\\) con condiciones iniciales \\(u(0)=2, \\; u'(0)=-2\\)\n",
       "    y evalue en el punto dado:</p>\n",
       "    <pre>\n",
       "    u(1.16) = {1:NM:=-7212.16547105368:-216.364964131610}\n",
       "    </pre>\n",
       "    "
      ],
      "text/plain": [
       "\n",
       "    <h1> EDOs lineales de 2o Orden </h1>\n",
       "    <h2> Coeficientes indeterminados: \\( \\phi(x)=Ae^{kx} \\) </h2>\n",
       "    <p> Encuentre la solución \\(u(x)\\) de la siguiente ecuación diferencial\n",
       "    \\(u\\left(x\\right) + 2 \\, \\frac{\\partial}{\\partial x}u\\left(x\\right) + \\frac{\\partial^{2}}{(\\partial x)^{2}}u\\left(x\\right) = -8 \\, e^{\\left(10 \\, x\\right)}\\) con condiciones iniciales \\(u(0)=2, \\; u'(0)=-2\\)\n",
       "    y evalue en el punto dado:</p>\n",
       "    <pre>\n",
       "    u(1.16) = {1:NM:=-7212.16547105368:-216.364964131610}\n",
       "    </pre>\n",
       "    "
      ]
     },
     "metadata": {},
     "output_type": "display_data"
    },
    {
     "data": {
      "text/html": [
       "\n",
       "    La solución del problema de condiciones iniciales es\n",
       "    \\(u(x)=\\frac{2}{121} \\, {\\left(44 \\, x - 4 \\, e^{\\left(11 \\, x\\right)} + 125\\right)} e^{\\left(-x\\right)}\\)\n",
       "    "
      ],
      "text/plain": [
       "\n",
       "    La solución del problema de condiciones iniciales es\n",
       "    \\(u(x)=\\frac{2}{121} \\, {\\left(44 \\, x - 4 \\, e^{\\left(11 \\, x\\right)} + 125\\right)} e^{\\left(-x\\right)}\\)\n",
       "    "
      ]
     },
     "metadata": {},
     "output_type": "display_data"
    },
    {
     "data": {
      "text/html": [
       "\n",
       "    <h1> EDOs lineales de 2o Orden </h1>\n",
       "    <h2> Coeficientes indeterminados: \\( \\phi(x)=Ae^{kx} \\) </h2>\n",
       "    <p> Encuentre la solución \\(u(x)\\) de la siguiente ecuación diferencial\n",
       "    \\(-2 \\, u\\left(x\\right) - \\frac{\\partial}{\\partial x}u\\left(x\\right) + \\frac{\\partial^{2}}{(\\partial x)^{2}}u\\left(x\\right) = e^{\\left(-7 \\, x\\right)}\\) con condiciones iniciales \\(u(0)=2, \\; u'(0)=-1\\)\n",
       "    y evalue en el punto dado:</p>\n",
       "    <pre>\n",
       "    u(1.52) = {1:NM:=8.09505227418030:0.242851568225409}\n",
       "    </pre>\n",
       "    "
      ],
      "text/plain": [
       "\n",
       "    <h1> EDOs lineales de 2o Orden </h1>\n",
       "    <h2> Coeficientes indeterminados: \\( \\phi(x)=Ae^{kx} \\) </h2>\n",
       "    <p> Encuentre la solución \\(u(x)\\) de la siguiente ecuación diferencial\n",
       "    \\(-2 \\, u\\left(x\\right) - \\frac{\\partial}{\\partial x}u\\left(x\\right) + \\frac{\\partial^{2}}{(\\partial x)^{2}}u\\left(x\\right) = e^{\\left(-7 \\, x\\right)}\\) con condiciones iniciales \\(u(0)=2, \\; u'(0)=-1\\)\n",
       "    y evalue en el punto dado:</p>\n",
       "    <pre>\n",
       "    u(1.52) = {1:NM:=8.09505227418030:0.242851568225409}\n",
       "    </pre>\n",
       "    "
      ]
     },
     "metadata": {},
     "output_type": "display_data"
    },
    {
     "data": {
      "text/html": [
       "\n",
       "    La solución del problema de condiciones iniciales es\n",
       "    \\(u(x)=\\frac{1}{54} \\, {\\left(20 \\, e^{\\left(9 \\, x\\right)} + 87 \\, e^{\\left(6 \\, x\\right)} + 1\\right)} e^{\\left(-7 \\, x\\right)}\\)\n",
       "    "
      ],
      "text/plain": [
       "\n",
       "    La solución del problema de condiciones iniciales es\n",
       "    \\(u(x)=\\frac{1}{54} \\, {\\left(20 \\, e^{\\left(9 \\, x\\right)} + 87 \\, e^{\\left(6 \\, x\\right)} + 1\\right)} e^{\\left(-7 \\, x\\right)}\\)\n",
       "    "
      ]
     },
     "metadata": {},
     "output_type": "display_data"
    },
    {
     "data": {
      "text/html": [
       "\n",
       "    <h1> EDOs lineales de 2o Orden </h1>\n",
       "    <h2> Coeficientes indeterminados: \\( \\phi(x)=Ae^{kx} \\) </h2>\n",
       "    <p> Encuentre la solución \\(u(x)\\) de la siguiente ecuación diferencial\n",
       "    \\(\\frac{\\partial^{2}}{(\\partial x)^{2}}u\\left(x\\right) = 3 \\, e^{\\left(7 \\, x\\right)}\\) con condiciones iniciales \\(u(0)=-2, \\; u'(0)=-2\\)\n",
       "    y evalue en el punto dado:</p>\n",
       "    <pre>\n",
       "    u(1.43) = {1:NM:=1356.57829324397:40.6973487973192}\n",
       "    </pre>\n",
       "    "
      ],
      "text/plain": [
       "\n",
       "    <h1> EDOs lineales de 2o Orden </h1>\n",
       "    <h2> Coeficientes indeterminados: \\( \\phi(x)=Ae^{kx} \\) </h2>\n",
       "    <p> Encuentre la solución \\(u(x)\\) de la siguiente ecuación diferencial\n",
       "    \\(\\frac{\\partial^{2}}{(\\partial x)^{2}}u\\left(x\\right) = 3 \\, e^{\\left(7 \\, x\\right)}\\) con condiciones iniciales \\(u(0)=-2, \\; u'(0)=-2\\)\n",
       "    y evalue en el punto dado:</p>\n",
       "    <pre>\n",
       "    u(1.43) = {1:NM:=1356.57829324397:40.6973487973192}\n",
       "    </pre>\n",
       "    "
      ]
     },
     "metadata": {},
     "output_type": "display_data"
    },
    {
     "data": {
      "text/html": [
       "\n",
       "    La solución del problema de condiciones iniciales es\n",
       "    \\(u(x)=-\\frac{17}{7} \\, x + \\frac{3}{49} \\, e^{\\left(7 \\, x\\right)} - \\frac{101}{49}\\)\n",
       "    "
      ],
      "text/plain": [
       "\n",
       "    La solución del problema de condiciones iniciales es\n",
       "    \\(u(x)=-\\frac{17}{7} \\, x + \\frac{3}{49} \\, e^{\\left(7 \\, x\\right)} - \\frac{101}{49}\\)\n",
       "    "
      ]
     },
     "metadata": {},
     "output_type": "display_data"
    },
    {
     "data": {
      "text/html": [
       "\n",
       "    <h1> EDOs lineales de 2o Orden </h1>\n",
       "    <h2> Coeficientes indeterminados: \\( \\phi(x)=Ae^{kx} \\) </h2>\n",
       "    <p> Encuentre la solución \\(u(x)\\) de la siguiente ecuación diferencial\n",
       "    \\(-u\\left(x\\right) - 2 \\, \\frac{\\partial}{\\partial x}u\\left(x\\right) + \\frac{\\partial^{2}}{(\\partial x)^{2}}u\\left(x\\right) = e^{\\left(4 \\, x\\right)}\\) con condiciones iniciales \\(u(0)=-2, \\; u'(0)=-2\\)\n",
       "    y evalue en el punto dado:</p>\n",
       "    <pre>\n",
       "    u(1.29) = {1:NM:=-3.19746765710173:-0.0959240297130520}\n",
       "    </pre>\n",
       "    "
      ],
      "text/plain": [
       "\n",
       "    <h1> EDOs lineales de 2o Orden </h1>\n",
       "    <h2> Coeficientes indeterminados: \\( \\phi(x)=Ae^{kx} \\) </h2>\n",
       "    <p> Encuentre la solución \\(u(x)\\) de la siguiente ecuación diferencial\n",
       "    \\(-u\\left(x\\right) - 2 \\, \\frac{\\partial}{\\partial x}u\\left(x\\right) + \\frac{\\partial^{2}}{(\\partial x)^{2}}u\\left(x\\right) = e^{\\left(4 \\, x\\right)}\\) con condiciones iniciales \\(u(0)=-2, \\; u'(0)=-2\\)\n",
       "    y evalue en el punto dado:</p>\n",
       "    <pre>\n",
       "    u(1.29) = {1:NM:=-3.19746765710173:-0.0959240297130520}\n",
       "    </pre>\n",
       "    "
      ]
     },
     "metadata": {},
     "output_type": "display_data"
    },
    {
     "data": {
      "text/html": [
       "\n",
       "    La solución del problema de condiciones iniciales es\n",
       "    \\(u(x)=-\\frac{1}{28} \\, {\\left(3 \\, {\\left(\\sqrt{2} + 10\\right)} e^{\\left(2 \\, \\sqrt{2} x + x\\right)} - 3 \\, {\\left(\\sqrt{2} - 10\\right)} e^{x} - 4 \\, e^{\\left(\\sqrt{2} x + 4 \\, x\\right)}\\right)} e^{\\left(-\\sqrt{2} x\\right)}\\)\n",
       "    "
      ],
      "text/plain": [
       "\n",
       "    La solución del problema de condiciones iniciales es\n",
       "    \\(u(x)=-\\frac{1}{28} \\, {\\left(3 \\, {\\left(\\sqrt{2} + 10\\right)} e^{\\left(2 \\, \\sqrt{2} x + x\\right)} - 3 \\, {\\left(\\sqrt{2} - 10\\right)} e^{x} - 4 \\, e^{\\left(\\sqrt{2} x + 4 \\, x\\right)}\\right)} e^{\\left(-\\sqrt{2} x\\right)}\\)\n",
       "    "
      ]
     },
     "metadata": {},
     "output_type": "display_data"
    },
    {
     "data": {
      "text/html": [
       "\n",
       "    <h1> EDOs lineales de 2o Orden </h1>\n",
       "    <h2> Coeficientes indeterminados: \\( \\phi(x)=Ae^{kx} \\) </h2>\n",
       "    <p> Encuentre la solución \\(u(x)\\) de la siguiente ecuación diferencial\n",
       "    \\(-2 \\, u\\left(x\\right) - 2 \\, \\frac{\\partial}{\\partial x}u\\left(x\\right) + \\frac{\\partial^{2}}{(\\partial x)^{2}}u\\left(x\\right) = -10 \\, e^{\\left(9 \\, x\\right)}\\) con condiciones iniciales \\(u(0)=2, \\; u'(0)=1\\)\n",
       "    y evalue en el punto dado:</p>\n",
       "    <pre>\n",
       "    u(1.92) = {1:NM:=-5.23914433206563e6:-157174.329961969}\n",
       "    </pre>\n",
       "    "
      ],
      "text/plain": [
       "\n",
       "    <h1> EDOs lineales de 2o Orden </h1>\n",
       "    <h2> Coeficientes indeterminados: \\( \\phi(x)=Ae^{kx} \\) </h2>\n",
       "    <p> Encuentre la solución \\(u(x)\\) de la siguiente ecuación diferencial\n",
       "    \\(-2 \\, u\\left(x\\right) - 2 \\, \\frac{\\partial}{\\partial x}u\\left(x\\right) + \\frac{\\partial^{2}}{(\\partial x)^{2}}u\\left(x\\right) = -10 \\, e^{\\left(9 \\, x\\right)}\\) con condiciones iniciales \\(u(0)=2, \\; u'(0)=1\\)\n",
       "    y evalue en el punto dado:</p>\n",
       "    <pre>\n",
       "    u(1.92) = {1:NM:=-5.23914433206563e6:-157174.329961969}\n",
       "    </pre>\n",
       "    "
      ]
     },
     "metadata": {},
     "output_type": "display_data"
    },
    {
     "data": {
      "text/html": [
       "\n",
       "    La solución del problema de condiciones iniciales es\n",
       "    \\(u(x)=\\frac{1}{366} \\, {\\left({\\left(19 \\, \\sqrt{3} + 396\\right)} e^{\\left(2 \\, \\sqrt{3} x + x\\right)} - {\\left(19 \\, \\sqrt{3} - 396\\right)} e^{x} - 60 \\, e^{\\left(\\sqrt{3} x + 9 \\, x\\right)}\\right)} e^{\\left(-\\sqrt{3} x\\right)}\\)\n",
       "    "
      ],
      "text/plain": [
       "\n",
       "    La solución del problema de condiciones iniciales es\n",
       "    \\(u(x)=\\frac{1}{366} \\, {\\left({\\left(19 \\, \\sqrt{3} + 396\\right)} e^{\\left(2 \\, \\sqrt{3} x + x\\right)} - {\\left(19 \\, \\sqrt{3} - 396\\right)} e^{x} - 60 \\, e^{\\left(\\sqrt{3} x + 9 \\, x\\right)}\\right)} e^{\\left(-\\sqrt{3} x\\right)}\\)\n",
       "    "
      ]
     },
     "metadata": {},
     "output_type": "display_data"
    },
    {
     "data": {
      "text/html": [
       "\n",
       "    <h1> EDOs lineales de 2o Orden </h1>\n",
       "    <h2> Coeficientes indeterminados: \\( \\phi(x)=Ae^{kx} \\) </h2>\n",
       "    <p> Encuentre la solución \\(u(x)\\) de la siguiente ecuación diferencial\n",
       "    \\(-u\\left(x\\right) - \\frac{\\partial}{\\partial x}u\\left(x\\right) + \\frac{\\partial^{2}}{(\\partial x)^{2}}u\\left(x\\right) = -4 \\, e^{\\left(6 \\, x\\right)}\\) con condiciones iniciales \\(u(0)=1, \\; u'(0)=1\\)\n",
       "    y evalue en el punto dado:</p>\n",
       "    <pre>\n",
       "    u(1.84) = {1:NM:=-8573.31550325651:-257.199465097695}\n",
       "    </pre>\n",
       "    "
      ],
      "text/plain": [
       "\n",
       "    <h1> EDOs lineales de 2o Orden </h1>\n",
       "    <h2> Coeficientes indeterminados: \\( \\phi(x)=Ae^{kx} \\) </h2>\n",
       "    <p> Encuentre la solución \\(u(x)\\) de la siguiente ecuación diferencial\n",
       "    \\(-u\\left(x\\right) - \\frac{\\partial}{\\partial x}u\\left(x\\right) + \\frac{\\partial^{2}}{(\\partial x)^{2}}u\\left(x\\right) = -4 \\, e^{\\left(6 \\, x\\right)}\\) con condiciones iniciales \\(u(0)=1, \\; u'(0)=1\\)\n",
       "    y evalue en el punto dado:</p>\n",
       "    <pre>\n",
       "    u(1.84) = {1:NM:=-8573.31550325651:-257.199465097695}\n",
       "    </pre>\n",
       "    "
      ]
     },
     "metadata": {},
     "output_type": "display_data"
    },
    {
     "data": {
      "text/html": [
       "\n",
       "    La solución del problema de condiciones iniciales es\n",
       "    \\(u(x)=\\frac{1}{290} \\, {\\left({\\left(73 \\, \\sqrt{5} + 165\\right)} e^{\\left(\\sqrt{5} x + \\frac{1}{2} \\, x\\right)} - {\\left(73 \\, \\sqrt{5} - 165\\right)} e^{\\left(\\frac{1}{2} \\, x\\right)} - 40 \\, e^{\\left(\\frac{1}{2} \\, \\sqrt{5} x + 6 \\, x\\right)}\\right)} e^{\\left(-\\frac{1}{2} \\, \\sqrt{5} x\\right)}\\)\n",
       "    "
      ],
      "text/plain": [
       "\n",
       "    La solución del problema de condiciones iniciales es\n",
       "    \\(u(x)=\\frac{1}{290} \\, {\\left({\\left(73 \\, \\sqrt{5} + 165\\right)} e^{\\left(\\sqrt{5} x + \\frac{1}{2} \\, x\\right)} - {\\left(73 \\, \\sqrt{5} - 165\\right)} e^{\\left(\\frac{1}{2} \\, x\\right)} - 40 \\, e^{\\left(\\frac{1}{2} \\, \\sqrt{5} x + 6 \\, x\\right)}\\right)} e^{\\left(-\\frac{1}{2} \\, \\sqrt{5} x\\right)}\\)\n",
       "    "
      ]
     },
     "metadata": {},
     "output_type": "display_data"
    },
    {
     "data": {
      "text/html": [
       "\n",
       "    <h1> EDOs lineales de 2o Orden </h1>\n",
       "    <h2> Coeficientes indeterminados: \\( \\phi(x)=Ae^{kx} \\) </h2>\n",
       "    <p> Encuentre la solución \\(u(x)\\) de la siguiente ecuación diferencial\n",
       "    \\(-u\\left(x\\right) - \\frac{\\partial}{\\partial x}u\\left(x\\right) + \\frac{\\partial^{2}}{(\\partial x)^{2}}u\\left(x\\right) = e^{\\left(-10 \\, x\\right)}\\) con condiciones iniciales \\(u(0)=-2, \\; u'(0)=-1\\)\n",
       "    y evalue en el punto dado:</p>\n",
       "    <pre>\n",
       "    u(1.04) = {1:NM:=-5.72416058983936:-0.171724817695181}\n",
       "    </pre>\n",
       "    "
      ],
      "text/plain": [
       "\n",
       "    <h1> EDOs lineales de 2o Orden </h1>\n",
       "    <h2> Coeficientes indeterminados: \\( \\phi(x)=Ae^{kx} \\) </h2>\n",
       "    <p> Encuentre la solución \\(u(x)\\) de la siguiente ecuación diferencial\n",
       "    \\(-u\\left(x\\right) - \\frac{\\partial}{\\partial x}u\\left(x\\right) + \\frac{\\partial^{2}}{(\\partial x)^{2}}u\\left(x\\right) = e^{\\left(-10 \\, x\\right)}\\) con condiciones iniciales \\(u(0)=-2, \\; u'(0)=-1\\)\n",
       "    y evalue en el punto dado:</p>\n",
       "    <pre>\n",
       "    u(1.04) = {1:NM:=-5.72416058983936:-0.171724817695181}\n",
       "    </pre>\n",
       "    "
      ]
     },
     "metadata": {},
     "output_type": "display_data"
    },
    {
     "data": {
      "text/html": [
       "\n",
       "    La solución del problema de condiciones iniciales es\n",
       "    \\(u(x)=\\frac{1}{1090} \\, {\\left(3 \\, {\\left(7 \\, \\sqrt{5} - 365\\right)} e^{\\left(\\sqrt{5} x + \\frac{21}{2} \\, x\\right)} - 3 \\, {\\left(7 \\, \\sqrt{5} + 365\\right)} e^{\\left(\\frac{21}{2} \\, x\\right)} + 10 \\, e^{\\left(\\frac{1}{2} \\, \\sqrt{5} x\\right)}\\right)} e^{\\left(-\\frac{1}{2} \\, \\sqrt{5} x - 10 \\, x\\right)}\\)\n",
       "    "
      ],
      "text/plain": [
       "\n",
       "    La solución del problema de condiciones iniciales es\n",
       "    \\(u(x)=\\frac{1}{1090} \\, {\\left(3 \\, {\\left(7 \\, \\sqrt{5} - 365\\right)} e^{\\left(\\sqrt{5} x + \\frac{21}{2} \\, x\\right)} - 3 \\, {\\left(7 \\, \\sqrt{5} + 365\\right)} e^{\\left(\\frac{21}{2} \\, x\\right)} + 10 \\, e^{\\left(\\frac{1}{2} \\, \\sqrt{5} x\\right)}\\right)} e^{\\left(-\\frac{1}{2} \\, \\sqrt{5} x - 10 \\, x\\right)}\\)\n",
       "    "
      ]
     },
     "metadata": {},
     "output_type": "display_data"
    },
    {
     "data": {
      "text/html": [
       "\n",
       "    <h1> EDOs lineales de 2o Orden </h1>\n",
       "    <h2> Coeficientes indeterminados: \\( \\phi(x)=Ae^{kx} \\) </h2>\n",
       "    <p> Encuentre la solución \\(u(x)\\) de la siguiente ecuación diferencial\n",
       "    \\(u\\left(x\\right) + 2 \\, \\frac{\\partial}{\\partial x}u\\left(x\\right) + \\frac{\\partial^{2}}{(\\partial x)^{2}}u\\left(x\\right) = 4 \\, e^{\\left(-9 \\, x\\right)}\\) con condiciones iniciales \\(u(0)=-1, \\; u'(0)=0\\)\n",
       "    y evalue en el punto dado:</p>\n",
       "    <pre>\n",
       "    u(1.8) = {1:NM:=-0.324399062376363:-0.00973197187129090}\n",
       "    </pre>\n",
       "    "
      ],
      "text/plain": [
       "\n",
       "    <h1> EDOs lineales de 2o Orden </h1>\n",
       "    <h2> Coeficientes indeterminados: \\( \\phi(x)=Ae^{kx} \\) </h2>\n",
       "    <p> Encuentre la solución \\(u(x)\\) de la siguiente ecuación diferencial\n",
       "    \\(u\\left(x\\right) + 2 \\, \\frac{\\partial}{\\partial x}u\\left(x\\right) + \\frac{\\partial^{2}}{(\\partial x)^{2}}u\\left(x\\right) = 4 \\, e^{\\left(-9 \\, x\\right)}\\) con condiciones iniciales \\(u(0)=-1, \\; u'(0)=0\\)\n",
       "    y evalue en el punto dado:</p>\n",
       "    <pre>\n",
       "    u(1.8) = {1:NM:=-0.324399062376363:-0.00973197187129090}\n",
       "    </pre>\n",
       "    "
      ]
     },
     "metadata": {},
     "output_type": "display_data"
    },
    {
     "data": {
      "text/html": [
       "\n",
       "    La solución del problema de condiciones iniciales es\n",
       "    \\(u(x)=-\\frac{1}{16} \\, {\\left({\\left(8 \\, x + 17\\right)} e^{\\left(8 \\, x\\right)} - 1\\right)} e^{\\left(-9 \\, x\\right)}\\)\n",
       "    "
      ],
      "text/plain": [
       "\n",
       "    La solución del problema de condiciones iniciales es\n",
       "    \\(u(x)=-\\frac{1}{16} \\, {\\left({\\left(8 \\, x + 17\\right)} e^{\\left(8 \\, x\\right)} - 1\\right)} e^{\\left(-9 \\, x\\right)}\\)\n",
       "    "
      ]
     },
     "metadata": {},
     "output_type": "display_data"
    },
    {
     "data": {
      "text/html": [
       "\n",
       "    <h1> EDOs lineales de 2o Orden </h1>\n",
       "    <h2> Coeficientes indeterminados: \\( \\phi(x)=Ae^{kx} \\) </h2>\n",
       "    <p> Encuentre la solución \\(u(x)\\) de la siguiente ecuación diferencial\n",
       "    \\(-u\\left(x\\right) + 2 \\, \\frac{\\partial}{\\partial x}u\\left(x\\right) + \\frac{\\partial^{2}}{(\\partial x)^{2}}u\\left(x\\right) = -9 \\, e^{\\left(-8 \\, x\\right)}\\) con condiciones iniciales \\(u(0)=2, \\; u'(0)=1\\)\n",
       "    y evalue en el punto dado:</p>\n",
       "    <pre>\n",
       "    u(1.07) = {1:NM:=2.65922270800542:0.0797766812401626}\n",
       "    </pre>\n",
       "    "
      ],
      "text/plain": [
       "\n",
       "    <h1> EDOs lineales de 2o Orden </h1>\n",
       "    <h2> Coeficientes indeterminados: \\( \\phi(x)=Ae^{kx} \\) </h2>\n",
       "    <p> Encuentre la solución \\(u(x)\\) de la siguiente ecuación diferencial\n",
       "    \\(-u\\left(x\\right) + 2 \\, \\frac{\\partial}{\\partial x}u\\left(x\\right) + \\frac{\\partial^{2}}{(\\partial x)^{2}}u\\left(x\\right) = -9 \\, e^{\\left(-8 \\, x\\right)}\\) con condiciones iniciales \\(u(0)=2, \\; u'(0)=1\\)\n",
       "    y evalue en el punto dado:</p>\n",
       "    <pre>\n",
       "    u(1.07) = {1:NM:=2.65922270800542:0.0797766812401626}\n",
       "    </pre>\n",
       "    "
      ]
     },
     "metadata": {},
     "output_type": "display_data"
    },
    {
     "data": {
      "text/html": [
       "\n",
       "    La solución del problema de condiciones iniciales es\n",
       "    \\(u(x)=\\frac{1}{94} \\, {\\left({\\left(39 \\, \\sqrt{2} + 103\\right)} e^{\\left(2 \\, \\sqrt{2} x + 7 \\, x\\right)} - {\\left(39 \\, \\sqrt{2} - 103\\right)} e^{\\left(7 \\, x\\right)} - 18 \\, e^{\\left(\\sqrt{2} x\\right)}\\right)} e^{\\left(-\\sqrt{2} x - 8 \\, x\\right)}\\)\n",
       "    "
      ],
      "text/plain": [
       "\n",
       "    La solución del problema de condiciones iniciales es\n",
       "    \\(u(x)=\\frac{1}{94} \\, {\\left({\\left(39 \\, \\sqrt{2} + 103\\right)} e^{\\left(2 \\, \\sqrt{2} x + 7 \\, x\\right)} - {\\left(39 \\, \\sqrt{2} - 103\\right)} e^{\\left(7 \\, x\\right)} - 18 \\, e^{\\left(\\sqrt{2} x\\right)}\\right)} e^{\\left(-\\sqrt{2} x - 8 \\, x\\right)}\\)\n",
       "    "
      ]
     },
     "metadata": {},
     "output_type": "display_data"
    },
    {
     "data": {
      "text/html": [
       "\n",
       "    <h1> EDOs lineales de 2o Orden </h1>\n",
       "    <h2> Coeficientes indeterminados: \\( \\phi(x)=Ae^{kx} \\) </h2>\n",
       "    <p> Encuentre la solución \\(u(x)\\) de la siguiente ecuación diferencial\n",
       "    \\(\\frac{\\partial}{\\partial x}u\\left(x\\right) + \\frac{\\partial^{2}}{(\\partial x)^{2}}u\\left(x\\right) = 7 \\, e^{\\left(10 \\, x\\right)}\\) con condiciones iniciales \\(u(0)=2, \\; u'(0)=-1\\)\n",
       "    y evalue en el punto dado:</p>\n",
       "    <pre>\n",
       "    u(1.65) = {1:NM:=932319.123378709:27969.5737013613}\n",
       "    </pre>\n",
       "    "
      ],
      "text/plain": [
       "\n",
       "    <h1> EDOs lineales de 2o Orden </h1>\n",
       "    <h2> Coeficientes indeterminados: \\( \\phi(x)=Ae^{kx} \\) </h2>\n",
       "    <p> Encuentre la solución \\(u(x)\\) de la siguiente ecuación diferencial\n",
       "    \\(\\frac{\\partial}{\\partial x}u\\left(x\\right) + \\frac{\\partial^{2}}{(\\partial x)^{2}}u\\left(x\\right) = 7 \\, e^{\\left(10 \\, x\\right)}\\) con condiciones iniciales \\(u(0)=2, \\; u'(0)=-1\\)\n",
       "    y evalue en el punto dado:</p>\n",
       "    <pre>\n",
       "    u(1.65) = {1:NM:=932319.123378709:27969.5737013613}\n",
       "    </pre>\n",
       "    "
      ]
     },
     "metadata": {},
     "output_type": "display_data"
    },
    {
     "data": {
      "text/html": [
       "\n",
       "    La solución del problema de condiciones iniciales es\n",
       "    \\(u(x)=\\frac{1}{110} \\, {\\left(7 \\, e^{\\left(11 \\, x\\right)} + 33 \\, e^{x} + 180\\right)} e^{\\left(-x\\right)}\\)\n",
       "    "
      ],
      "text/plain": [
       "\n",
       "    La solución del problema de condiciones iniciales es\n",
       "    \\(u(x)=\\frac{1}{110} \\, {\\left(7 \\, e^{\\left(11 \\, x\\right)} + 33 \\, e^{x} + 180\\right)} e^{\\left(-x\\right)}\\)\n",
       "    "
      ]
     },
     "metadata": {},
     "output_type": "display_data"
    },
    {
     "data": {
      "text/html": [
       "\n",
       "    <h1> EDOs lineales de 2o Orden </h1>\n",
       "    <h2> Coeficientes indeterminados: \\( \\phi(x)=Ae^{kx} \\) </h2>\n",
       "    <p> Encuentre la solución \\(u(x)\\) de la siguiente ecuación diferencial\n",
       "    \\(2 \\, u\\left(x\\right) + \\frac{\\partial}{\\partial x}u\\left(x\\right) + \\frac{\\partial^{2}}{(\\partial x)^{2}}u\\left(x\\right) = -3 \\, e^{\\left(-7 \\, x\\right)}\\) con condiciones iniciales \\(u(0)=1, \\; u'(0)=-1\\)\n",
       "    y evalue en el punto dado:</p>\n",
       "    <pre>\n",
       "    u(1.87) = {1:NM:=-0.502603830309034:-0.0150781149092710}\n",
       "    </pre>\n",
       "    "
      ],
      "text/plain": [
       "\n",
       "    <h1> EDOs lineales de 2o Orden </h1>\n",
       "    <h2> Coeficientes indeterminados: \\( \\phi(x)=Ae^{kx} \\) </h2>\n",
       "    <p> Encuentre la solución \\(u(x)\\) de la siguiente ecuación diferencial\n",
       "    \\(2 \\, u\\left(x\\right) + \\frac{\\partial}{\\partial x}u\\left(x\\right) + \\frac{\\partial^{2}}{(\\partial x)^{2}}u\\left(x\\right) = -3 \\, e^{\\left(-7 \\, x\\right)}\\) con condiciones iniciales \\(u(0)=1, \\; u'(0)=-1\\)\n",
       "    y evalue en el punto dado:</p>\n",
       "    <pre>\n",
       "    u(1.87) = {1:NM:=-0.502603830309034:-0.0150781149092710}\n",
       "    </pre>\n",
       "    "
      ]
     },
     "metadata": {},
     "output_type": "display_data"
    },
    {
     "data": {
      "text/html": [
       "\n",
       "    La solución del problema de condiciones iniciales es\n",
       "    \\(u(x)=-\\frac{1}{308} \\, {\\left(83 \\, \\sqrt{7} e^{\\left(7 \\, x\\right)} \\sin\\left(\\frac{1}{2} \\, \\sqrt{7} x\\right) - 329 \\, \\cos\\left(\\frac{1}{2} \\, \\sqrt{7} x\\right) e^{\\left(7 \\, x\\right)} + 21 \\, e^{\\left(\\frac{1}{2} \\, x\\right)}\\right)} e^{\\left(-\\frac{15}{2} \\, x\\right)}\\)\n",
       "    "
      ],
      "text/plain": [
       "\n",
       "    La solución del problema de condiciones iniciales es\n",
       "    \\(u(x)=-\\frac{1}{308} \\, {\\left(83 \\, \\sqrt{7} e^{\\left(7 \\, x\\right)} \\sin\\left(\\frac{1}{2} \\, \\sqrt{7} x\\right) - 329 \\, \\cos\\left(\\frac{1}{2} \\, \\sqrt{7} x\\right) e^{\\left(7 \\, x\\right)} + 21 \\, e^{\\left(\\frac{1}{2} \\, x\\right)}\\right)} e^{\\left(-\\frac{15}{2} \\, x\\right)}\\)\n",
       "    "
      ]
     },
     "metadata": {},
     "output_type": "display_data"
    },
    {
     "data": {
      "text/html": [
       "\n",
       "    <h1> EDOs lineales de 2o Orden </h1>\n",
       "    <h2> Coeficientes indeterminados: \\( \\phi(x)=Ae^{kx} \\) </h2>\n",
       "    <p> Encuentre la solución \\(u(x)\\) de la siguiente ecuación diferencial\n",
       "    \\(u\\left(x\\right) - 2 \\, \\frac{\\partial}{\\partial x}u\\left(x\\right) + \\frac{\\partial^{2}}{(\\partial x)^{2}}u\\left(x\\right) = 2 \\, e^{\\left(-9 \\, x\\right)}\\) con condiciones iniciales \\(u(0)=-1, \\; u'(0)=2\\)\n",
       "    y evalue en el punto dado:</p>\n",
       "    <pre>\n",
       "    u(1.38) = {1:NM:=13.4987660077129:0.404962980231386}\n",
       "    </pre>\n",
       "    "
      ],
      "text/plain": [
       "\n",
       "    <h1> EDOs lineales de 2o Orden </h1>\n",
       "    <h2> Coeficientes indeterminados: \\( \\phi(x)=Ae^{kx} \\) </h2>\n",
       "    <p> Encuentre la solución \\(u(x)\\) de la siguiente ecuación diferencial\n",
       "    \\(u\\left(x\\right) - 2 \\, \\frac{\\partial}{\\partial x}u\\left(x\\right) + \\frac{\\partial^{2}}{(\\partial x)^{2}}u\\left(x\\right) = 2 \\, e^{\\left(-9 \\, x\\right)}\\) con condiciones iniciales \\(u(0)=-1, \\; u'(0)=2\\)\n",
       "    y evalue en el punto dado:</p>\n",
       "    <pre>\n",
       "    u(1.38) = {1:NM:=13.4987660077129:0.404962980231386}\n",
       "    </pre>\n",
       "    "
      ]
     },
     "metadata": {},
     "output_type": "display_data"
    },
    {
     "data": {
      "text/html": [
       "\n",
       "    La solución del problema de condiciones iniciales es\n",
       "    \\(u(x)=\\frac{1}{50} \\, {\\left({\\left(160 \\, x - 51\\right)} e^{\\left(10 \\, x\\right)} + 1\\right)} e^{\\left(-9 \\, x\\right)}\\)\n",
       "    "
      ],
      "text/plain": [
       "\n",
       "    La solución del problema de condiciones iniciales es\n",
       "    \\(u(x)=\\frac{1}{50} \\, {\\left({\\left(160 \\, x - 51\\right)} e^{\\left(10 \\, x\\right)} + 1\\right)} e^{\\left(-9 \\, x\\right)}\\)\n",
       "    "
      ]
     },
     "metadata": {},
     "output_type": "display_data"
    },
    {
     "data": {
      "text/html": [
       "\n",
       "    <h1> EDOs lineales de 2o Orden </h1>\n",
       "    <h2> Coeficientes indeterminados: \\( \\phi(x)=Ae^{kx} \\) </h2>\n",
       "    <p> Encuentre la solución \\(u(x)\\) de la siguiente ecuación diferencial\n",
       "    \\(-u\\left(x\\right) + \\frac{\\partial^{2}}{(\\partial x)^{2}}u\\left(x\\right) = -e^{\\left(3 \\, x\\right)}\\) con condiciones iniciales \\(u(0)=0, \\; u'(0)=1\\)\n",
       "    y evalue en el punto dado:</p>\n",
       "    <pre>\n",
       "    u(1.04) = {1:NM:=-0.929793870857493:-0.0278938161257248}\n",
       "    </pre>\n",
       "    "
      ],
      "text/plain": [
       "\n",
       "    <h1> EDOs lineales de 2o Orden </h1>\n",
       "    <h2> Coeficientes indeterminados: \\( \\phi(x)=Ae^{kx} \\) </h2>\n",
       "    <p> Encuentre la solución \\(u(x)\\) de la siguiente ecuación diferencial\n",
       "    \\(-u\\left(x\\right) + \\frac{\\partial^{2}}{(\\partial x)^{2}}u\\left(x\\right) = -e^{\\left(3 \\, x\\right)}\\) con condiciones iniciales \\(u(0)=0, \\; u'(0)=1\\)\n",
       "    y evalue en el punto dado:</p>\n",
       "    <pre>\n",
       "    u(1.04) = {1:NM:=-0.929793870857493:-0.0278938161257248}\n",
       "    </pre>\n",
       "    "
      ]
     },
     "metadata": {},
     "output_type": "display_data"
    },
    {
     "data": {
      "text/html": [
       "\n",
       "    La solución del problema de condiciones iniciales es\n",
       "    \\(u(x)=-\\frac{1}{8} \\, {\\left(e^{\\left(4 \\, x\\right)} - 6 \\, e^{\\left(2 \\, x\\right)} + 5\\right)} e^{\\left(-x\\right)}\\)\n",
       "    "
      ],
      "text/plain": [
       "\n",
       "    La solución del problema de condiciones iniciales es\n",
       "    \\(u(x)=-\\frac{1}{8} \\, {\\left(e^{\\left(4 \\, x\\right)} - 6 \\, e^{\\left(2 \\, x\\right)} + 5\\right)} e^{\\left(-x\\right)}\\)\n",
       "    "
      ]
     },
     "metadata": {},
     "output_type": "display_data"
    },
    {
     "data": {
      "text/html": [
       "\n",
       "    <h1> EDOs lineales de 2o Orden </h1>\n",
       "    <h2> Coeficientes indeterminados: \\( \\phi(x)=Ae^{kx} \\) </h2>\n",
       "    <p> Encuentre la solución \\(u(x)\\) de la siguiente ecuación diferencial\n",
       "    \\(u\\left(x\\right) + \\frac{\\partial}{\\partial x}u\\left(x\\right) + \\frac{\\partial^{2}}{(\\partial x)^{2}}u\\left(x\\right) = 7 \\, e^{\\left(-5 \\, x\\right)}\\) con condiciones iniciales \\(u(0)=-2, \\; u'(0)=1\\)\n",
       "    y evalue en el punto dado:</p>\n",
       "    <pre>\n",
       "    u(1.31) = {1:NM:=0.303698498436645:0.00911095495309934}\n",
       "    </pre>\n",
       "    "
      ],
      "text/plain": [
       "\n",
       "    <h1> EDOs lineales de 2o Orden </h1>\n",
       "    <h2> Coeficientes indeterminados: \\( \\phi(x)=Ae^{kx} \\) </h2>\n",
       "    <p> Encuentre la solución \\(u(x)\\) de la siguiente ecuación diferencial\n",
       "    \\(u\\left(x\\right) + \\frac{\\partial}{\\partial x}u\\left(x\\right) + \\frac{\\partial^{2}}{(\\partial x)^{2}}u\\left(x\\right) = 7 \\, e^{\\left(-5 \\, x\\right)}\\) con condiciones iniciales \\(u(0)=-2, \\; u'(0)=1\\)\n",
       "    y evalue en el punto dado:</p>\n",
       "    <pre>\n",
       "    u(1.31) = {1:NM:=0.303698498436645:0.00911095495309934}\n",
       "    </pre>\n",
       "    "
      ]
     },
     "metadata": {},
     "output_type": "display_data"
    },
    {
     "data": {
      "text/html": [
       "\n",
       "    La solución del problema de condiciones iniciales es\n",
       "    \\(u(x)=\\frac{1}{3} \\, {\\left(3 \\, \\sqrt{3} e^{\\left(5 \\, x\\right)} \\sin\\left(\\frac{1}{2} \\, \\sqrt{3} x\\right) - 7 \\, \\cos\\left(\\frac{1}{2} \\, \\sqrt{3} x\\right) e^{\\left(5 \\, x\\right)} + e^{\\left(\\frac{1}{2} \\, x\\right)}\\right)} e^{\\left(-\\frac{11}{2} \\, x\\right)}\\)\n",
       "    "
      ],
      "text/plain": [
       "\n",
       "    La solución del problema de condiciones iniciales es\n",
       "    \\(u(x)=\\frac{1}{3} \\, {\\left(3 \\, \\sqrt{3} e^{\\left(5 \\, x\\right)} \\sin\\left(\\frac{1}{2} \\, \\sqrt{3} x\\right) - 7 \\, \\cos\\left(\\frac{1}{2} \\, \\sqrt{3} x\\right) e^{\\left(5 \\, x\\right)} + e^{\\left(\\frac{1}{2} \\, x\\right)}\\right)} e^{\\left(-\\frac{11}{2} \\, x\\right)}\\)\n",
       "    "
      ]
     },
     "metadata": {},
     "output_type": "display_data"
    },
    {
     "data": {
      "text/html": [
       "\n",
       "    <h1> EDOs lineales de 2o Orden </h1>\n",
       "    <h2> Coeficientes indeterminados: \\( \\phi(x)=Ae^{kx} \\) </h2>\n",
       "    <p> Encuentre la solución \\(u(x)\\) de la siguiente ecuación diferencial\n",
       "    \\(\\frac{\\partial^{2}}{(\\partial x)^{2}}u\\left(x\\right) = -4 \\, e^{\\left(-7 \\, x\\right)}\\) con condiciones iniciales \\(u(0)=1, \\; u'(0)=-2\\)\n",
       "    y evalue en el punto dado:</p>\n",
       "    <pre>\n",
       "    u(1.07) = {1:NM:=-1.66984152187433:-0.0500952456562298}\n",
       "    </pre>\n",
       "    "
      ],
      "text/plain": [
       "\n",
       "    <h1> EDOs lineales de 2o Orden </h1>\n",
       "    <h2> Coeficientes indeterminados: \\( \\phi(x)=Ae^{kx} \\) </h2>\n",
       "    <p> Encuentre la solución \\(u(x)\\) de la siguiente ecuación diferencial\n",
       "    \\(\\frac{\\partial^{2}}{(\\partial x)^{2}}u\\left(x\\right) = -4 \\, e^{\\left(-7 \\, x\\right)}\\) con condiciones iniciales \\(u(0)=1, \\; u'(0)=-2\\)\n",
       "    y evalue en el punto dado:</p>\n",
       "    <pre>\n",
       "    u(1.07) = {1:NM:=-1.66984152187433:-0.0500952456562298}\n",
       "    </pre>\n",
       "    "
      ]
     },
     "metadata": {},
     "output_type": "display_data"
    },
    {
     "data": {
      "text/html": [
       "\n",
       "    La solución del problema de condiciones iniciales es\n",
       "    \\(u(x)=-\\frac{1}{49} \\, {\\left({\\left(126 \\, x - 53\\right)} e^{\\left(7 \\, x\\right)} + 4\\right)} e^{\\left(-7 \\, x\\right)}\\)\n",
       "    "
      ],
      "text/plain": [
       "\n",
       "    La solución del problema de condiciones iniciales es\n",
       "    \\(u(x)=-\\frac{1}{49} \\, {\\left({\\left(126 \\, x - 53\\right)} e^{\\left(7 \\, x\\right)} + 4\\right)} e^{\\left(-7 \\, x\\right)}\\)\n",
       "    "
      ]
     },
     "metadata": {},
     "output_type": "display_data"
    },
    {
     "data": {
      "text/html": [
       "\n",
       "    <h1> EDOs lineales de 2o Orden </h1>\n",
       "    <h2> Coeficientes indeterminados: \\( \\phi(x)=Ae^{kx} \\) </h2>\n",
       "    <p> Encuentre la solución \\(u(x)\\) de la siguiente ecuación diferencial\n",
       "    \\(-u\\left(x\\right) + \\frac{\\partial^{2}}{(\\partial x)^{2}}u\\left(x\\right) = -6 \\, e^{\\left(10 \\, x\\right)}\\) con condiciones iniciales \\(u(0)=2, \\; u'(0)=1\\)\n",
       "    y evalue en el punto dado:</p>\n",
       "    <pre>\n",
       "    u(1.5) = {1:NM:=-198113.997856947:-5943.41993570842}\n",
       "    </pre>\n",
       "    "
      ],
      "text/plain": [
       "\n",
       "    <h1> EDOs lineales de 2o Orden </h1>\n",
       "    <h2> Coeficientes indeterminados: \\( \\phi(x)=Ae^{kx} \\) </h2>\n",
       "    <p> Encuentre la solución \\(u(x)\\) de la siguiente ecuación diferencial\n",
       "    \\(-u\\left(x\\right) + \\frac{\\partial^{2}}{(\\partial x)^{2}}u\\left(x\\right) = -6 \\, e^{\\left(10 \\, x\\right)}\\) con condiciones iniciales \\(u(0)=2, \\; u'(0)=1\\)\n",
       "    y evalue en el punto dado:</p>\n",
       "    <pre>\n",
       "    u(1.5) = {1:NM:=-198113.997856947:-5943.41993570842}\n",
       "    </pre>\n",
       "    "
      ]
     },
     "metadata": {},
     "output_type": "display_data"
    },
    {
     "data": {
      "text/html": [
       "\n",
       "    La solución del problema de condiciones iniciales es\n",
       "    \\(u(x)=-\\frac{1}{66} \\, {\\left(4 \\, e^{\\left(11 \\, x\\right)} - 121 \\, e^{\\left(2 \\, x\\right)} - 15\\right)} e^{\\left(-x\\right)}\\)\n",
       "    "
      ],
      "text/plain": [
       "\n",
       "    La solución del problema de condiciones iniciales es\n",
       "    \\(u(x)=-\\frac{1}{66} \\, {\\left(4 \\, e^{\\left(11 \\, x\\right)} - 121 \\, e^{\\left(2 \\, x\\right)} - 15\\right)} e^{\\left(-x\\right)}\\)\n",
       "    "
      ]
     },
     "metadata": {},
     "output_type": "display_data"
    },
    {
     "data": {
      "text/html": [
       "\n",
       "    <h1> EDOs lineales de 2o Orden </h1>\n",
       "    <h2> Coeficientes indeterminados: \\( \\phi(x)=Ae^{kx} \\) </h2>\n",
       "    <p> Encuentre la solución \\(u(x)\\) de la siguiente ecuación diferencial\n",
       "    \\(-2 \\, u\\left(x\\right) + \\frac{\\partial}{\\partial x}u\\left(x\\right) + \\frac{\\partial^{2}}{(\\partial x)^{2}}u\\left(x\\right) = 5 \\, e^{x}\\) con condiciones iniciales \\(u(0)=-1, \\; u'(0)=0\\)\n",
       "    y evalue en el punto dado:</p>\n",
       "    <pre>\n",
       "    u(1.39) = {1:NM:=4.40781667074973:0.132234500122492}\n",
       "    </pre>\n",
       "    "
      ],
      "text/plain": [
       "\n",
       "    <h1> EDOs lineales de 2o Orden </h1>\n",
       "    <h2> Coeficientes indeterminados: \\( \\phi(x)=Ae^{kx} \\) </h2>\n",
       "    <p> Encuentre la solución \\(u(x)\\) de la siguiente ecuación diferencial\n",
       "    \\(-2 \\, u\\left(x\\right) + \\frac{\\partial}{\\partial x}u\\left(x\\right) + \\frac{\\partial^{2}}{(\\partial x)^{2}}u\\left(x\\right) = 5 \\, e^{x}\\) con condiciones iniciales \\(u(0)=-1, \\; u'(0)=0\\)\n",
       "    y evalue en el punto dado:</p>\n",
       "    <pre>\n",
       "    u(1.39) = {1:NM:=4.40781667074973:0.132234500122492}\n",
       "    </pre>\n",
       "    "
      ]
     },
     "metadata": {},
     "output_type": "display_data"
    },
    {
     "data": {
      "text/html": [
       "\n",
       "    La solución del problema de condiciones iniciales es\n",
       "    \\(u(x)=\\frac{1}{9} \\, {\\left({\\left(15 \\, x - 11\\right)} e^{\\left(3 \\, x\\right)} + 2\\right)} e^{\\left(-2 \\, x\\right)}\\)\n",
       "    "
      ],
      "text/plain": [
       "\n",
       "    La solución del problema de condiciones iniciales es\n",
       "    \\(u(x)=\\frac{1}{9} \\, {\\left({\\left(15 \\, x - 11\\right)} e^{\\left(3 \\, x\\right)} + 2\\right)} e^{\\left(-2 \\, x\\right)}\\)\n",
       "    "
      ]
     },
     "metadata": {},
     "output_type": "display_data"
    },
    {
     "data": {
      "text/html": [
       "\n",
       "    <h1> EDOs lineales de 2o Orden </h1>\n",
       "    <h2> Coeficientes indeterminados: \\( \\phi(x)=Ae^{kx} \\) </h2>\n",
       "    <p> Encuentre la solución \\(u(x)\\) de la siguiente ecuación diferencial\n",
       "    \\(u\\left(x\\right) + \\frac{\\partial}{\\partial x}u\\left(x\\right) + \\frac{\\partial^{2}}{(\\partial x)^{2}}u\\left(x\\right) = 5 \\, e^{\\left(7 \\, x\\right)}\\) con condiciones iniciales \\(u(0)=-1, \\; u'(0)=0\\)\n",
       "    y evalue en el punto dado:</p>\n",
       "    <pre>\n",
       "    u(1.08) = {1:NM:=167.404213159794:5.02212639479382}\n",
       "    </pre>\n",
       "    "
      ],
      "text/plain": [
       "\n",
       "    <h1> EDOs lineales de 2o Orden </h1>\n",
       "    <h2> Coeficientes indeterminados: \\( \\phi(x)=Ae^{kx} \\) </h2>\n",
       "    <p> Encuentre la solución \\(u(x)\\) de la siguiente ecuación diferencial\n",
       "    \\(u\\left(x\\right) + \\frac{\\partial}{\\partial x}u\\left(x\\right) + \\frac{\\partial^{2}}{(\\partial x)^{2}}u\\left(x\\right) = 5 \\, e^{\\left(7 \\, x\\right)}\\) con condiciones iniciales \\(u(0)=-1, \\; u'(0)=0\\)\n",
       "    y evalue en el punto dado:</p>\n",
       "    <pre>\n",
       "    u(1.08) = {1:NM:=167.404213159794:5.02212639479382}\n",
       "    </pre>\n",
       "    "
      ]
     },
     "metadata": {},
     "output_type": "display_data"
    },
    {
     "data": {
      "text/html": [
       "\n",
       "    La solución del problema de condiciones iniciales es\n",
       "    \\(u(x)=-\\frac{1}{57} \\, {\\left(44 \\, \\sqrt{3} \\sin\\left(\\frac{1}{2} \\, \\sqrt{3} x\\right) + 62 \\, \\cos\\left(\\frac{1}{2} \\, \\sqrt{3} x\\right) - 5 \\, e^{\\left(\\frac{15}{2} \\, x\\right)}\\right)} e^{\\left(-\\frac{1}{2} \\, x\\right)}\\)\n",
       "    "
      ],
      "text/plain": [
       "\n",
       "    La solución del problema de condiciones iniciales es\n",
       "    \\(u(x)=-\\frac{1}{57} \\, {\\left(44 \\, \\sqrt{3} \\sin\\left(\\frac{1}{2} \\, \\sqrt{3} x\\right) + 62 \\, \\cos\\left(\\frac{1}{2} \\, \\sqrt{3} x\\right) - 5 \\, e^{\\left(\\frac{15}{2} \\, x\\right)}\\right)} e^{\\left(-\\frac{1}{2} \\, x\\right)}\\)\n",
       "    "
      ]
     },
     "metadata": {},
     "output_type": "display_data"
    },
    {
     "data": {
      "text/html": [
       "\n",
       "    <h1> EDOs lineales de 2o Orden </h1>\n",
       "    <h2> Coeficientes indeterminados: \\( \\phi(x)=Ae^{kx} \\) </h2>\n",
       "    <p> Encuentre la solución \\(u(x)\\) de la siguiente ecuación diferencial\n",
       "    \\(2 \\, u\\left(x\\right) - 2 \\, \\frac{\\partial}{\\partial x}u\\left(x\\right) + \\frac{\\partial^{2}}{(\\partial x)^{2}}u\\left(x\\right) = 6 \\, e^{\\left(-9 \\, x\\right)}\\) con condiciones iniciales \\(u(0)=0, \\; u'(0)=2\\)\n",
       "    y evalue en el punto dado:</p>\n",
       "    <pre>\n",
       "    u(1.79) = {1:NM:=15.2425810760373:0.457277432281119}\n",
       "    </pre>\n",
       "    "
      ],
      "text/plain": [
       "\n",
       "    <h1> EDOs lineales de 2o Orden </h1>\n",
       "    <h2> Coeficientes indeterminados: \\( \\phi(x)=Ae^{kx} \\) </h2>\n",
       "    <p> Encuentre la solución \\(u(x)\\) de la siguiente ecuación diferencial\n",
       "    \\(2 \\, u\\left(x\\right) - 2 \\, \\frac{\\partial}{\\partial x}u\\left(x\\right) + \\frac{\\partial^{2}}{(\\partial x)^{2}}u\\left(x\\right) = 6 \\, e^{\\left(-9 \\, x\\right)}\\) con condiciones iniciales \\(u(0)=0, \\; u'(0)=2\\)\n",
       "    y evalue en el punto dado:</p>\n",
       "    <pre>\n",
       "    u(1.79) = {1:NM:=15.2425810760373:0.457277432281119}\n",
       "    </pre>\n",
       "    "
      ]
     },
     "metadata": {},
     "output_type": "display_data"
    },
    {
     "data": {
      "text/html": [
       "\n",
       "    La solución del problema de condiciones iniciales es\n",
       "    \\(u(x)=-\\frac{2}{101} \\, {\\left(3 \\, \\cos\\left(x\\right) e^{\\left(10 \\, x\\right)} - 131 \\, e^{\\left(10 \\, x\\right)} \\sin\\left(x\\right) - 3\\right)} e^{\\left(-9 \\, x\\right)}\\)\n",
       "    "
      ],
      "text/plain": [
       "\n",
       "    La solución del problema de condiciones iniciales es\n",
       "    \\(u(x)=-\\frac{2}{101} \\, {\\left(3 \\, \\cos\\left(x\\right) e^{\\left(10 \\, x\\right)} - 131 \\, e^{\\left(10 \\, x\\right)} \\sin\\left(x\\right) - 3\\right)} e^{\\left(-9 \\, x\\right)}\\)\n",
       "    "
      ]
     },
     "metadata": {},
     "output_type": "display_data"
    },
    {
     "data": {
      "text/html": [
       "\n",
       "    <h1> EDOs lineales de 2o Orden </h1>\n",
       "    <h2> Coeficientes indeterminados: \\( \\phi(x)=Ae^{kx} \\) </h2>\n",
       "    <p> Encuentre la solución \\(u(x)\\) de la siguiente ecuación diferencial\n",
       "    \\(-u\\left(x\\right) + 2 \\, \\frac{\\partial}{\\partial x}u\\left(x\\right) + \\frac{\\partial^{2}}{(\\partial x)^{2}}u\\left(x\\right) = 7 \\, e^{\\left(-6 \\, x\\right)}\\) con condiciones iniciales \\(u(0)=-1, \\; u'(0)=2\\)\n",
       "    y evalue en el punto dado:</p>\n",
       "    <pre>\n",
       "    u(1.3) = {1:NM:=0.343384785215583:0.0103015435564675}\n",
       "    </pre>\n",
       "    "
      ],
      "text/plain": [
       "\n",
       "    <h1> EDOs lineales de 2o Orden </h1>\n",
       "    <h2> Coeficientes indeterminados: \\( \\phi(x)=Ae^{kx} \\) </h2>\n",
       "    <p> Encuentre la solución \\(u(x)\\) de la siguiente ecuación diferencial\n",
       "    \\(-u\\left(x\\right) + 2 \\, \\frac{\\partial}{\\partial x}u\\left(x\\right) + \\frac{\\partial^{2}}{(\\partial x)^{2}}u\\left(x\\right) = 7 \\, e^{\\left(-6 \\, x\\right)}\\) con condiciones iniciales \\(u(0)=-1, \\; u'(0)=2\\)\n",
       "    y evalue en el punto dado:</p>\n",
       "    <pre>\n",
       "    u(1.3) = {1:NM:=0.343384785215583:0.0103015435564675}\n",
       "    </pre>\n",
       "    "
      ]
     },
     "metadata": {},
     "output_type": "display_data"
    },
    {
     "data": {
      "text/html": [
       "\n",
       "    La solución del problema de condiciones iniciales es\n",
       "    \\(u(x)=\\frac{1}{46} \\, {\\left({\\left(29 \\, \\sqrt{2} - 30\\right)} e^{\\left(2 \\, \\sqrt{2} x + 5 \\, x\\right)} - {\\left(29 \\, \\sqrt{2} + 30\\right)} e^{\\left(5 \\, x\\right)} + 14 \\, e^{\\left(\\sqrt{2} x\\right)}\\right)} e^{\\left(-\\sqrt{2} x - 6 \\, x\\right)}\\)\n",
       "    "
      ],
      "text/plain": [
       "\n",
       "    La solución del problema de condiciones iniciales es\n",
       "    \\(u(x)=\\frac{1}{46} \\, {\\left({\\left(29 \\, \\sqrt{2} - 30\\right)} e^{\\left(2 \\, \\sqrt{2} x + 5 \\, x\\right)} - {\\left(29 \\, \\sqrt{2} + 30\\right)} e^{\\left(5 \\, x\\right)} + 14 \\, e^{\\left(\\sqrt{2} x\\right)}\\right)} e^{\\left(-\\sqrt{2} x - 6 \\, x\\right)}\\)\n",
       "    "
      ]
     },
     "metadata": {},
     "output_type": "display_data"
    },
    {
     "data": {
      "text/html": [
       "\n",
       "    <h1> EDOs lineales de 2o Orden </h1>\n",
       "    <h2> Coeficientes indeterminados: \\( \\phi(x)=Ae^{kx} \\) </h2>\n",
       "    <p> Encuentre la solución \\(u(x)\\) de la siguiente ecuación diferencial\n",
       "    \\(-\\frac{\\partial}{\\partial x}u\\left(x\\right) + \\frac{\\partial^{2}}{(\\partial x)^{2}}u\\left(x\\right) = 10 \\, e^{\\left(-x\\right)}\\) con condiciones iniciales \\(u(0)=-1, \\; u'(0)=-2\\)\n",
       "    y evalue en el punto dado:</p>\n",
       "    <pre>\n",
       "    u(1.99) = {1:NM:=13.6300784141563:0.408902352424689}\n",
       "    </pre>\n",
       "    "
      ],
      "text/plain": [
       "\n",
       "    <h1> EDOs lineales de 2o Orden </h1>\n",
       "    <h2> Coeficientes indeterminados: \\( \\phi(x)=Ae^{kx} \\) </h2>\n",
       "    <p> Encuentre la solución \\(u(x)\\) de la siguiente ecuación diferencial\n",
       "    \\(-\\frac{\\partial}{\\partial x}u\\left(x\\right) + \\frac{\\partial^{2}}{(\\partial x)^{2}}u\\left(x\\right) = 10 \\, e^{\\left(-x\\right)}\\) con condiciones iniciales \\(u(0)=-1, \\; u'(0)=-2\\)\n",
       "    y evalue en el punto dado:</p>\n",
       "    <pre>\n",
       "    u(1.99) = {1:NM:=13.6300784141563:0.408902352424689}\n",
       "    </pre>\n",
       "    "
      ]
     },
     "metadata": {},
     "output_type": "display_data"
    },
    {
     "data": {
      "text/html": [
       "\n",
       "    La solución del problema de condiciones iniciales es\n",
       "    \\(u(x)={\\left(3 \\, e^{\\left(2 \\, x\\right)} - 9 \\, e^{x} + 5\\right)} e^{\\left(-x\\right)}\\)\n",
       "    "
      ],
      "text/plain": [
       "\n",
       "    La solución del problema de condiciones iniciales es\n",
       "    \\(u(x)={\\left(3 \\, e^{\\left(2 \\, x\\right)} - 9 \\, e^{x} + 5\\right)} e^{\\left(-x\\right)}\\)\n",
       "    "
      ]
     },
     "metadata": {},
     "output_type": "display_data"
    },
    {
     "data": {
      "text/html": [
       "\n",
       "    <h1> EDOs lineales de 2o Orden </h1>\n",
       "    <h2> Coeficientes indeterminados: \\( \\phi(x)=Ae^{kx} \\) </h2>\n",
       "    <p> Encuentre la solución \\(u(x)\\) de la siguiente ecuación diferencial\n",
       "    \\(u\\left(x\\right) + 2 \\, \\frac{\\partial}{\\partial x}u\\left(x\\right) + \\frac{\\partial^{2}}{(\\partial x)^{2}}u\\left(x\\right) = 2 \\, e^{\\left(-10 \\, x\\right)}\\) con condiciones iniciales \\(u(0)=-1, \\; u'(0)=1\\)\n",
       "    y evalue en el punto dado:</p>\n",
       "    <pre>\n",
       "    u(1.99) = {1:NM:=-0.0796208662711601:-0.00238862598813480}\n",
       "    </pre>\n",
       "    "
      ],
      "text/plain": [
       "\n",
       "    <h1> EDOs lineales de 2o Orden </h1>\n",
       "    <h2> Coeficientes indeterminados: \\( \\phi(x)=Ae^{kx} \\) </h2>\n",
       "    <p> Encuentre la solución \\(u(x)\\) de la siguiente ecuación diferencial\n",
       "    \\(u\\left(x\\right) + 2 \\, \\frac{\\partial}{\\partial x}u\\left(x\\right) + \\frac{\\partial^{2}}{(\\partial x)^{2}}u\\left(x\\right) = 2 \\, e^{\\left(-10 \\, x\\right)}\\) con condiciones iniciales \\(u(0)=-1, \\; u'(0)=1\\)\n",
       "    y evalue en el punto dado:</p>\n",
       "    <pre>\n",
       "    u(1.99) = {1:NM:=-0.0796208662711601:-0.00238862598813480}\n",
       "    </pre>\n",
       "    "
      ]
     },
     "metadata": {},
     "output_type": "display_data"
    },
    {
     "data": {
      "text/html": [
       "\n",
       "    La solución del problema de condiciones iniciales es\n",
       "    \\(u(x)=\\frac{1}{81} \\, {\\left({\\left(18 \\, x - 83\\right)} e^{\\left(9 \\, x\\right)} + 2\\right)} e^{\\left(-10 \\, x\\right)}\\)\n",
       "    "
      ],
      "text/plain": [
       "\n",
       "    La solución del problema de condiciones iniciales es\n",
       "    \\(u(x)=\\frac{1}{81} \\, {\\left({\\left(18 \\, x - 83\\right)} e^{\\left(9 \\, x\\right)} + 2\\right)} e^{\\left(-10 \\, x\\right)}\\)\n",
       "    "
      ]
     },
     "metadata": {},
     "output_type": "display_data"
    },
    {
     "data": {
      "text/html": [
       "\n",
       "    <h1> EDOs lineales de 2o Orden </h1>\n",
       "    <h2> Coeficientes indeterminados: \\( \\phi(x)=Ae^{kx} \\) </h2>\n",
       "    <p> Encuentre la solución \\(u(x)\\) de la siguiente ecuación diferencial\n",
       "    \\(2 \\, \\frac{\\partial}{\\partial x}u\\left(x\\right) + \\frac{\\partial^{2}}{(\\partial x)^{2}}u\\left(x\\right) = 6 \\, e^{\\left(8 \\, x\\right)}\\) con condiciones iniciales \\(u(0)=1, \\; u'(0)=-1\\)\n",
       "    y evalue en el punto dado:</p>\n",
       "    <pre>\n",
       "    u(1.13) = {1:NM:=632.741759588226:18.9822527876468}\n",
       "    </pre>\n",
       "    "
      ],
      "text/plain": [
       "\n",
       "    <h1> EDOs lineales de 2o Orden </h1>\n",
       "    <h2> Coeficientes indeterminados: \\( \\phi(x)=Ae^{kx} \\) </h2>\n",
       "    <p> Encuentre la solución \\(u(x)\\) de la siguiente ecuación diferencial\n",
       "    \\(2 \\, \\frac{\\partial}{\\partial x}u\\left(x\\right) + \\frac{\\partial^{2}}{(\\partial x)^{2}}u\\left(x\\right) = 6 \\, e^{\\left(8 \\, x\\right)}\\) con condiciones iniciales \\(u(0)=1, \\; u'(0)=-1\\)\n",
       "    y evalue en el punto dado:</p>\n",
       "    <pre>\n",
       "    u(1.13) = {1:NM:=632.741759588226:18.9822527876468}\n",
       "    </pre>\n",
       "    "
      ]
     },
     "metadata": {},
     "output_type": "display_data"
    },
    {
     "data": {
      "text/html": [
       "\n",
       "    La solución del problema de condiciones iniciales es\n",
       "    \\(u(x)=\\frac{1}{40} \\, {\\left(3 \\, e^{\\left(10 \\, x\\right)} + 5 \\, e^{\\left(2 \\, x\\right)} + 32\\right)} e^{\\left(-2 \\, x\\right)}\\)\n",
       "    "
      ],
      "text/plain": [
       "\n",
       "    La solución del problema de condiciones iniciales es\n",
       "    \\(u(x)=\\frac{1}{40} \\, {\\left(3 \\, e^{\\left(10 \\, x\\right)} + 5 \\, e^{\\left(2 \\, x\\right)} + 32\\right)} e^{\\left(-2 \\, x\\right)}\\)\n",
       "    "
      ]
     },
     "metadata": {},
     "output_type": "display_data"
    },
    {
     "data": {
      "text/html": [
       "\n",
       "    <h1> EDOs lineales de 2o Orden </h1>\n",
       "    <h2> Coeficientes indeterminados: \\( \\phi(x)=Ae^{kx} \\) </h2>\n",
       "    <p> Encuentre la solución \\(u(x)\\) de la siguiente ecuación diferencial\n",
       "    \\(-2 \\, u\\left(x\\right) - \\frac{\\partial}{\\partial x}u\\left(x\\right) + \\frac{\\partial^{2}}{(\\partial x)^{2}}u\\left(x\\right) = -2 \\, e^{\\left(-9 \\, x\\right)}\\) con condiciones iniciales \\(u(0)=1, \\; u'(0)=2\\)\n",
       "    y evalue en el punto dado:</p>\n",
       "    <pre>\n",
       "    u(1.52) = {1:NM:=19.6564847611561:0.589694542834684}\n",
       "    </pre>\n",
       "    "
      ],
      "text/plain": [
       "\n",
       "    <h1> EDOs lineales de 2o Orden </h1>\n",
       "    <h2> Coeficientes indeterminados: \\( \\phi(x)=Ae^{kx} \\) </h2>\n",
       "    <p> Encuentre la solución \\(u(x)\\) de la siguiente ecuación diferencial\n",
       "    \\(-2 \\, u\\left(x\\right) - \\frac{\\partial}{\\partial x}u\\left(x\\right) + \\frac{\\partial^{2}}{(\\partial x)^{2}}u\\left(x\\right) = -2 \\, e^{\\left(-9 \\, x\\right)}\\) con condiciones iniciales \\(u(0)=1, \\; u'(0)=2\\)\n",
       "    y evalue en el punto dado:</p>\n",
       "    <pre>\n",
       "    u(1.52) = {1:NM:=19.6564847611561:0.589694542834684}\n",
       "    </pre>\n",
       "    "
      ]
     },
     "metadata": {},
     "output_type": "display_data"
    },
    {
     "data": {
      "text/html": [
       "\n",
       "    La solución del problema de condiciones iniciales es\n",
       "    \\(u(x)=\\frac{1}{132} \\, {\\left(124 \\, e^{\\left(11 \\, x\\right)} + 11 \\, e^{\\left(8 \\, x\\right)} - 3\\right)} e^{\\left(-9 \\, x\\right)}\\)\n",
       "    "
      ],
      "text/plain": [
       "\n",
       "    La solución del problema de condiciones iniciales es\n",
       "    \\(u(x)=\\frac{1}{132} \\, {\\left(124 \\, e^{\\left(11 \\, x\\right)} + 11 \\, e^{\\left(8 \\, x\\right)} - 3\\right)} e^{\\left(-9 \\, x\\right)}\\)\n",
       "    "
      ]
     },
     "metadata": {},
     "output_type": "display_data"
    },
    {
     "data": {
      "text/html": [
       "\n",
       "    <h1> EDOs lineales de 2o Orden </h1>\n",
       "    <h2> Coeficientes indeterminados: \\( \\phi(x)=Ae^{kx} \\) </h2>\n",
       "    <p> Encuentre la solución \\(u(x)\\) de la siguiente ecuación diferencial\n",
       "    \\(u\\left(x\\right) - \\frac{\\partial}{\\partial x}u\\left(x\\right) + \\frac{\\partial^{2}}{(\\partial x)^{2}}u\\left(x\\right) = -2 \\, e^{\\left(-5 \\, x\\right)}\\) con condiciones iniciales \\(u(0)=0, \\; u'(0)=2\\)\n",
       "    y evalue en el punto dado:</p>\n",
       "    <pre>\n",
       "    u(1.88) = {1:NM:=4.84565728945524:0.145369718683657}\n",
       "    </pre>\n",
       "    "
      ],
      "text/plain": [
       "\n",
       "    <h1> EDOs lineales de 2o Orden </h1>\n",
       "    <h2> Coeficientes indeterminados: \\( \\phi(x)=Ae^{kx} \\) </h2>\n",
       "    <p> Encuentre la solución \\(u(x)\\) de la siguiente ecuación diferencial\n",
       "    \\(u\\left(x\\right) - \\frac{\\partial}{\\partial x}u\\left(x\\right) + \\frac{\\partial^{2}}{(\\partial x)^{2}}u\\left(x\\right) = -2 \\, e^{\\left(-5 \\, x\\right)}\\) con condiciones iniciales \\(u(0)=0, \\; u'(0)=2\\)\n",
       "    y evalue en el punto dado:</p>\n",
       "    <pre>\n",
       "    u(1.88) = {1:NM:=4.84565728945524:0.145369718683657}\n",
       "    </pre>\n",
       "    "
      ]
     },
     "metadata": {},
     "output_type": "display_data"
    },
    {
     "data": {
      "text/html": [
       "\n",
       "    La solución del problema de condiciones iniciales es\n",
       "    \\(u(x)=\\frac{2}{31} \\, {\\left(17 \\, \\sqrt{3} e^{\\left(\\frac{11}{2} \\, x\\right)} \\sin\\left(\\frac{1}{2} \\, \\sqrt{3} x\\right) + \\cos\\left(\\frac{1}{2} \\, \\sqrt{3} x\\right) e^{\\left(\\frac{11}{2} \\, x\\right)} - 1\\right)} e^{\\left(-5 \\, x\\right)}\\)\n",
       "    "
      ],
      "text/plain": [
       "\n",
       "    La solución del problema de condiciones iniciales es\n",
       "    \\(u(x)=\\frac{2}{31} \\, {\\left(17 \\, \\sqrt{3} e^{\\left(\\frac{11}{2} \\, x\\right)} \\sin\\left(\\frac{1}{2} \\, \\sqrt{3} x\\right) + \\cos\\left(\\frac{1}{2} \\, \\sqrt{3} x\\right) e^{\\left(\\frac{11}{2} \\, x\\right)} - 1\\right)} e^{\\left(-5 \\, x\\right)}\\)\n",
       "    "
      ]
     },
     "metadata": {},
     "output_type": "display_data"
    },
    {
     "data": {
      "text/html": [
       "\n",
       "    <h1> EDOs lineales de 2o Orden </h1>\n",
       "    <h2> Coeficientes indeterminados: \\( \\phi(x)=Ae^{kx} \\) </h2>\n",
       "    <p> Encuentre la solución \\(u(x)\\) de la siguiente ecuación diferencial\n",
       "    \\(-u\\left(x\\right) - 2 \\, \\frac{\\partial}{\\partial x}u\\left(x\\right) + \\frac{\\partial^{2}}{(\\partial x)^{2}}u\\left(x\\right) = -6 \\, e^{x}\\) con condiciones iniciales \\(u(0)=2, \\; u'(0)=0\\)\n",
       "    y evalue en el punto dado:</p>\n",
       "    <pre>\n",
       "    u(1.96) = {1:NM:=-115.624314117058:-3.46872942351174}\n",
       "    </pre>\n",
       "    "
      ],
      "text/plain": [
       "\n",
       "    <h1> EDOs lineales de 2o Orden </h1>\n",
       "    <h2> Coeficientes indeterminados: \\( \\phi(x)=Ae^{kx} \\) </h2>\n",
       "    <p> Encuentre la solución \\(u(x)\\) de la siguiente ecuación diferencial\n",
       "    \\(-u\\left(x\\right) - 2 \\, \\frac{\\partial}{\\partial x}u\\left(x\\right) + \\frac{\\partial^{2}}{(\\partial x)^{2}}u\\left(x\\right) = -6 \\, e^{x}\\) con condiciones iniciales \\(u(0)=2, \\; u'(0)=0\\)\n",
       "    y evalue en el punto dado:</p>\n",
       "    <pre>\n",
       "    u(1.96) = {1:NM:=-115.624314117058:-3.46872942351174}\n",
       "    </pre>\n",
       "    "
      ]
     },
     "metadata": {},
     "output_type": "display_data"
    },
    {
     "data": {
      "text/html": [
       "\n",
       "    La solución del problema de condiciones iniciales es\n",
       "    \\(u(x)=-\\frac{1}{2} \\, {\\left({\\left(\\sqrt{2} + 1\\right)} e^{\\left(2 \\, \\sqrt{2} x + x\\right)} - {\\left(\\sqrt{2} - 1\\right)} e^{x} - 6 \\, e^{\\left(\\sqrt{2} x + x\\right)}\\right)} e^{\\left(-\\sqrt{2} x\\right)}\\)\n",
       "    "
      ],
      "text/plain": [
       "\n",
       "    La solución del problema de condiciones iniciales es\n",
       "    \\(u(x)=-\\frac{1}{2} \\, {\\left({\\left(\\sqrt{2} + 1\\right)} e^{\\left(2 \\, \\sqrt{2} x + x\\right)} - {\\left(\\sqrt{2} - 1\\right)} e^{x} - 6 \\, e^{\\left(\\sqrt{2} x + x\\right)}\\right)} e^{\\left(-\\sqrt{2} x\\right)}\\)\n",
       "    "
      ]
     },
     "metadata": {},
     "output_type": "display_data"
    },
    {
     "data": {
      "text/html": [
       "\n",
       "    <h1> EDOs lineales de 2o Orden </h1>\n",
       "    <h2> Coeficientes indeterminados: \\( \\phi(x)=Ae^{kx} \\) </h2>\n",
       "    <p> Encuentre la solución \\(u(x)\\) de la siguiente ecuación diferencial\n",
       "    \\(u\\left(x\\right) + \\frac{\\partial^{2}}{(\\partial x)^{2}}u\\left(x\\right) = 6 \\, e^{\\left(-10 \\, x\\right)}\\) con condiciones iniciales \\(u(0)=0, \\; u'(0)=1\\)\n",
       "    y evalue en el punto dado:</p>\n",
       "    <pre>\n",
       "    u(1.86) = {1:NM:=1.54480208892402:0.0463440626677205}\n",
       "    </pre>\n",
       "    "
      ],
      "text/plain": [
       "\n",
       "    <h1> EDOs lineales de 2o Orden </h1>\n",
       "    <h2> Coeficientes indeterminados: \\( \\phi(x)=Ae^{kx} \\) </h2>\n",
       "    <p> Encuentre la solución \\(u(x)\\) de la siguiente ecuación diferencial\n",
       "    \\(u\\left(x\\right) + \\frac{\\partial^{2}}{(\\partial x)^{2}}u\\left(x\\right) = 6 \\, e^{\\left(-10 \\, x\\right)}\\) con condiciones iniciales \\(u(0)=0, \\; u'(0)=1\\)\n",
       "    y evalue en el punto dado:</p>\n",
       "    <pre>\n",
       "    u(1.86) = {1:NM:=1.54480208892402:0.0463440626677205}\n",
       "    </pre>\n",
       "    "
      ]
     },
     "metadata": {},
     "output_type": "display_data"
    },
    {
     "data": {
      "text/html": [
       "\n",
       "    La solución del problema de condiciones iniciales es\n",
       "    \\(u(x)=-\\frac{1}{101} \\, {\\left(6 \\, \\cos\\left(x\\right) e^{\\left(10 \\, x\\right)} - 161 \\, e^{\\left(10 \\, x\\right)} \\sin\\left(x\\right) - 6\\right)} e^{\\left(-10 \\, x\\right)}\\)\n",
       "    "
      ],
      "text/plain": [
       "\n",
       "    La solución del problema de condiciones iniciales es\n",
       "    \\(u(x)=-\\frac{1}{101} \\, {\\left(6 \\, \\cos\\left(x\\right) e^{\\left(10 \\, x\\right)} - 161 \\, e^{\\left(10 \\, x\\right)} \\sin\\left(x\\right) - 6\\right)} e^{\\left(-10 \\, x\\right)}\\)\n",
       "    "
      ]
     },
     "metadata": {},
     "output_type": "display_data"
    },
    {
     "data": {
      "text/html": [
       "\n",
       "    <h1> EDOs lineales de 2o Orden </h1>\n",
       "    <h2> Coeficientes indeterminados: \\( \\phi(x)=Ae^{kx} \\) </h2>\n",
       "    <p> Encuentre la solución \\(u(x)\\) de la siguiente ecuación diferencial\n",
       "    \\(-u\\left(x\\right) + 2 \\, \\frac{\\partial}{\\partial x}u\\left(x\\right) + \\frac{\\partial^{2}}{(\\partial x)^{2}}u\\left(x\\right) = 3 \\, e^{\\left(10 \\, x\\right)}\\) con condiciones iniciales \\(u(0)=-2, \\; u'(0)=0\\)\n",
       "    y evalue en el punto dado:</p>\n",
       "    <pre>\n",
       "    u(1.37) = {1:NM:=22456.7316016782:673.701948050345}\n",
       "    </pre>\n",
       "    "
      ],
      "text/plain": [
       "\n",
       "    <h1> EDOs lineales de 2o Orden </h1>\n",
       "    <h2> Coeficientes indeterminados: \\( \\phi(x)=Ae^{kx} \\) </h2>\n",
       "    <p> Encuentre la solución \\(u(x)\\) de la siguiente ecuación diferencial\n",
       "    \\(-u\\left(x\\right) + 2 \\, \\frac{\\partial}{\\partial x}u\\left(x\\right) + \\frac{\\partial^{2}}{(\\partial x)^{2}}u\\left(x\\right) = 3 \\, e^{\\left(10 \\, x\\right)}\\) con condiciones iniciales \\(u(0)=-2, \\; u'(0)=0\\)\n",
       "    y evalue en el punto dado:</p>\n",
       "    <pre>\n",
       "    u(1.37) = {1:NM:=22456.7316016782:673.701948050345}\n",
       "    </pre>\n",
       "    "
      ]
     },
     "metadata": {},
     "output_type": "display_data"
    },
    {
     "data": {
      "text/html": [
       "\n",
       "    La solución del problema de condiciones iniciales es\n",
       "    \\(u(x)=-\\frac{1}{476} \\, {\\left({\\left(271 \\, \\sqrt{2} + 482\\right)} e^{\\left(2 \\, \\sqrt{2} x\\right)} - 271 \\, \\sqrt{2} - 12 \\, e^{\\left(\\sqrt{2} x + 11 \\, x\\right)} + 482\\right)} e^{\\left(-\\sqrt{2} x - x\\right)}\\)\n",
       "    "
      ],
      "text/plain": [
       "\n",
       "    La solución del problema de condiciones iniciales es\n",
       "    \\(u(x)=-\\frac{1}{476} \\, {\\left({\\left(271 \\, \\sqrt{2} + 482\\right)} e^{\\left(2 \\, \\sqrt{2} x\\right)} - 271 \\, \\sqrt{2} - 12 \\, e^{\\left(\\sqrt{2} x + 11 \\, x\\right)} + 482\\right)} e^{\\left(-\\sqrt{2} x - x\\right)}\\)\n",
       "    "
      ]
     },
     "metadata": {},
     "output_type": "display_data"
    },
    {
     "data": {
      "text/html": [
       "\n",
       "    <h1> EDOs lineales de 2o Orden </h1>\n",
       "    <h2> Coeficientes indeterminados: \\( \\phi(x)=Ae^{kx} \\) </h2>\n",
       "    <p> Encuentre la solución \\(u(x)\\) de la siguiente ecuación diferencial\n",
       "    \\(2 \\, u\\left(x\\right) + \\frac{\\partial^{2}}{(\\partial x)^{2}}u\\left(x\\right) = 10 \\, e^{\\left(2 \\, x\\right)}\\) con condiciones iniciales \\(u(0)=-1, \\; u'(0)=0\\)\n",
       "    y evalue en el punto dado:</p>\n",
       "    <pre>\n",
       "    u(1.34) = {1:NM:=22.9238848609207:0.687716545827622}\n",
       "    </pre>\n",
       "    "
      ],
      "text/plain": [
       "\n",
       "    <h1> EDOs lineales de 2o Orden </h1>\n",
       "    <h2> Coeficientes indeterminados: \\( \\phi(x)=Ae^{kx} \\) </h2>\n",
       "    <p> Encuentre la solución \\(u(x)\\) de la siguiente ecuación diferencial\n",
       "    \\(2 \\, u\\left(x\\right) + \\frac{\\partial^{2}}{(\\partial x)^{2}}u\\left(x\\right) = 10 \\, e^{\\left(2 \\, x\\right)}\\) con condiciones iniciales \\(u(0)=-1, \\; u'(0)=0\\)\n",
       "    y evalue en el punto dado:</p>\n",
       "    <pre>\n",
       "    u(1.34) = {1:NM:=22.9238848609207:0.687716545827622}\n",
       "    </pre>\n",
       "    "
      ]
     },
     "metadata": {},
     "output_type": "display_data"
    },
    {
     "data": {
      "text/html": [
       "\n",
       "    La solución del problema de condiciones iniciales es\n",
       "    \\(u(x)=-\\frac{5}{3} \\, \\sqrt{2} \\sin\\left(\\sqrt{2} x\\right) - \\frac{8}{3} \\, \\cos\\left(\\sqrt{2} x\\right) + \\frac{5}{3} \\, e^{\\left(2 \\, x\\right)}\\)\n",
       "    "
      ],
      "text/plain": [
       "\n",
       "    La solución del problema de condiciones iniciales es\n",
       "    \\(u(x)=-\\frac{5}{3} \\, \\sqrt{2} \\sin\\left(\\sqrt{2} x\\right) - \\frac{8}{3} \\, \\cos\\left(\\sqrt{2} x\\right) + \\frac{5}{3} \\, e^{\\left(2 \\, x\\right)}\\)\n",
       "    "
      ]
     },
     "metadata": {},
     "output_type": "display_data"
    },
    {
     "data": {
      "text/html": [
       "\n",
       "    <h1> EDOs lineales de 2o Orden </h1>\n",
       "    <h2> Coeficientes indeterminados: \\( \\phi(x)=Ae^{kx} \\) </h2>\n",
       "    <p> Encuentre la solución \\(u(x)\\) de la siguiente ecuación diferencial\n",
       "    \\(-2 \\, \\frac{\\partial}{\\partial x}u\\left(x\\right) + \\frac{\\partial^{2}}{(\\partial x)^{2}}u\\left(x\\right) = 8 \\, e^{\\left(-9 \\, x\\right)}\\) con condiciones iniciales \\(u(0)=-1, \\; u'(0)=-1\\)\n",
       "    y evalue en el punto dado:</p>\n",
       "    <pre>\n",
       "    u(1.01) = {1:NM:=-1.97238873030190:-0.0591716619090569}\n",
       "    </pre>\n",
       "    "
      ],
      "text/plain": [
       "\n",
       "    <h1> EDOs lineales de 2o Orden </h1>\n",
       "    <h2> Coeficientes indeterminados: \\( \\phi(x)=Ae^{kx} \\) </h2>\n",
       "    <p> Encuentre la solución \\(u(x)\\) de la siguiente ecuación diferencial\n",
       "    \\(-2 \\, \\frac{\\partial}{\\partial x}u\\left(x\\right) + \\frac{\\partial^{2}}{(\\partial x)^{2}}u\\left(x\\right) = 8 \\, e^{\\left(-9 \\, x\\right)}\\) con condiciones iniciales \\(u(0)=-1, \\; u'(0)=-1\\)\n",
       "    y evalue en el punto dado:</p>\n",
       "    <pre>\n",
       "    u(1.01) = {1:NM:=-1.97238873030190:-0.0591716619090569}\n",
       "    </pre>\n",
       "    "
      ]
     },
     "metadata": {},
     "output_type": "display_data"
    },
    {
     "data": {
      "text/html": [
       "\n",
       "    La solución del problema de condiciones iniciales es\n",
       "    \\(u(x)=-\\frac{1}{198} \\, {\\left(27 \\, e^{\\left(11 \\, x\\right)} + 187 \\, e^{\\left(9 \\, x\\right)} - 16\\right)} e^{\\left(-9 \\, x\\right)}\\)\n",
       "    "
      ],
      "text/plain": [
       "\n",
       "    La solución del problema de condiciones iniciales es\n",
       "    \\(u(x)=-\\frac{1}{198} \\, {\\left(27 \\, e^{\\left(11 \\, x\\right)} + 187 \\, e^{\\left(9 \\, x\\right)} - 16\\right)} e^{\\left(-9 \\, x\\right)}\\)\n",
       "    "
      ]
     },
     "metadata": {},
     "output_type": "display_data"
    },
    {
     "data": {
      "text/html": [
       "\n",
       "    <h1> EDOs lineales de 2o Orden </h1>\n",
       "    <h2> Coeficientes indeterminados: \\( \\phi(x)=Ae^{kx} \\) </h2>\n",
       "    <p> Encuentre la solución \\(u(x)\\) de la siguiente ecuación diferencial\n",
       "    \\(2 \\, u\\left(x\\right) - 2 \\, \\frac{\\partial}{\\partial x}u\\left(x\\right) + \\frac{\\partial^{2}}{(\\partial x)^{2}}u\\left(x\\right) = 6 \\, e^{\\left(2 \\, x\\right)}\\) con condiciones iniciales \\(u(0)=2, \\; u'(0)=2\\)\n",
       "    y evalue en el punto dado:</p>\n",
       "    <pre>\n",
       "    u(1.88) = {1:NM:=112.111372424596:3.36334117273788}\n",
       "    </pre>\n",
       "    "
      ],
      "text/plain": [
       "\n",
       "    <h1> EDOs lineales de 2o Orden </h1>\n",
       "    <h2> Coeficientes indeterminados: \\( \\phi(x)=Ae^{kx} \\) </h2>\n",
       "    <p> Encuentre la solución \\(u(x)\\) de la siguiente ecuación diferencial\n",
       "    \\(2 \\, u\\left(x\\right) - 2 \\, \\frac{\\partial}{\\partial x}u\\left(x\\right) + \\frac{\\partial^{2}}{(\\partial x)^{2}}u\\left(x\\right) = 6 \\, e^{\\left(2 \\, x\\right)}\\) con condiciones iniciales \\(u(0)=2, \\; u'(0)=2\\)\n",
       "    y evalue en el punto dado:</p>\n",
       "    <pre>\n",
       "    u(1.88) = {1:NM:=112.111372424596:3.36334117273788}\n",
       "    </pre>\n",
       "    "
      ]
     },
     "metadata": {},
     "output_type": "display_data"
    },
    {
     "data": {
      "text/html": [
       "\n",
       "    La solución del problema de condiciones iniciales es\n",
       "    \\(u(x)=-\\cos\\left(x\\right) e^{x} - 3 \\, e^{x} \\sin\\left(x\\right) + 3 \\, e^{\\left(2 \\, x\\right)}\\)\n",
       "    "
      ],
      "text/plain": [
       "\n",
       "    La solución del problema de condiciones iniciales es\n",
       "    \\(u(x)=-\\cos\\left(x\\right) e^{x} - 3 \\, e^{x} \\sin\\left(x\\right) + 3 \\, e^{\\left(2 \\, x\\right)}\\)\n",
       "    "
      ]
     },
     "metadata": {},
     "output_type": "display_data"
    },
    {
     "data": {
      "text/html": [
       "\n",
       "    <h1> EDOs lineales de 2o Orden </h1>\n",
       "    <h2> Coeficientes indeterminados: \\( \\phi(x)=Ae^{kx} \\) </h2>\n",
       "    <p> Encuentre la solución \\(u(x)\\) de la siguiente ecuación diferencial\n",
       "    \\(2 \\, u\\left(x\\right) + \\frac{\\partial^{2}}{(\\partial x)^{2}}u\\left(x\\right) = -7 \\, e^{\\left(8 \\, x\\right)}\\) con condiciones iniciales \\(u(0)=-1, \\; u'(0)=2\\)\n",
       "    y evalue en el punto dado:</p>\n",
       "    <pre>\n",
       "    u(1.8) = {1:NM:=-190278.787243265:-5708.36361729795}\n",
       "    </pre>\n",
       "    "
      ],
      "text/plain": [
       "\n",
       "    <h1> EDOs lineales de 2o Orden </h1>\n",
       "    <h2> Coeficientes indeterminados: \\( \\phi(x)=Ae^{kx} \\) </h2>\n",
       "    <p> Encuentre la solución \\(u(x)\\) de la siguiente ecuación diferencial\n",
       "    \\(2 \\, u\\left(x\\right) + \\frac{\\partial^{2}}{(\\partial x)^{2}}u\\left(x\\right) = -7 \\, e^{\\left(8 \\, x\\right)}\\) con condiciones iniciales \\(u(0)=-1, \\; u'(0)=2\\)\n",
       "    y evalue en el punto dado:</p>\n",
       "    <pre>\n",
       "    u(1.8) = {1:NM:=-190278.787243265:-5708.36361729795}\n",
       "    </pre>\n",
       "    "
      ]
     },
     "metadata": {},
     "output_type": "display_data"
    },
    {
     "data": {
      "text/html": [
       "\n",
       "    La solución del problema de condiciones iniciales es\n",
       "    \\(u(x)=\\frac{47}{33} \\, \\sqrt{2} \\sin\\left(\\sqrt{2} x\\right) - \\frac{59}{66} \\, \\cos\\left(\\sqrt{2} x\\right) - \\frac{7}{66} \\, e^{\\left(8 \\, x\\right)}\\)\n",
       "    "
      ],
      "text/plain": [
       "\n",
       "    La solución del problema de condiciones iniciales es\n",
       "    \\(u(x)=\\frac{47}{33} \\, \\sqrt{2} \\sin\\left(\\sqrt{2} x\\right) - \\frac{59}{66} \\, \\cos\\left(\\sqrt{2} x\\right) - \\frac{7}{66} \\, e^{\\left(8 \\, x\\right)}\\)\n",
       "    "
      ]
     },
     "metadata": {},
     "output_type": "display_data"
    },
    {
     "data": {
      "text/html": [
       "\n",
       "    <h1> EDOs lineales de 2o Orden </h1>\n",
       "    <h2> Coeficientes indeterminados: \\( \\phi(x)=Ae^{kx} \\) </h2>\n",
       "    <p> Encuentre la solución \\(u(x)\\) de la siguiente ecuación diferencial\n",
       "    \\(-2 \\, \\frac{\\partial}{\\partial x}u\\left(x\\right) + \\frac{\\partial^{2}}{(\\partial x)^{2}}u\\left(x\\right) = -2 \\, e^{\\left(5 \\, x\\right)}\\) con condiciones iniciales \\(u(0)=-2, \\; u'(0)=-1\\)\n",
       "    y evalue en el punto dado:</p>\n",
       "    <pre>\n",
       "    u(1.04) = {1:NM:=-27.2037104024029:-0.816111312072087}\n",
       "    </pre>\n",
       "    "
      ],
      "text/plain": [
       "\n",
       "    <h1> EDOs lineales de 2o Orden </h1>\n",
       "    <h2> Coeficientes indeterminados: \\( \\phi(x)=Ae^{kx} \\) </h2>\n",
       "    <p> Encuentre la solución \\(u(x)\\) de la siguiente ecuación diferencial\n",
       "    \\(-2 \\, \\frac{\\partial}{\\partial x}u\\left(x\\right) + \\frac{\\partial^{2}}{(\\partial x)^{2}}u\\left(x\\right) = -2 \\, e^{\\left(5 \\, x\\right)}\\) con condiciones iniciales \\(u(0)=-2, \\; u'(0)=-1\\)\n",
       "    y evalue en el punto dado:</p>\n",
       "    <pre>\n",
       "    u(1.04) = {1:NM:=-27.2037104024029:-0.816111312072087}\n",
       "    </pre>\n",
       "    "
      ]
     },
     "metadata": {},
     "output_type": "display_data"
    },
    {
     "data": {
      "text/html": [
       "\n",
       "    La solución del problema de condiciones iniciales es\n",
       "    \\(u(x)=-\\frac{2}{15} \\, e^{\\left(5 \\, x\\right)} - \\frac{1}{6} \\, e^{\\left(2 \\, x\\right)} - \\frac{17}{10}\\)\n",
       "    "
      ],
      "text/plain": [
       "\n",
       "    La solución del problema de condiciones iniciales es\n",
       "    \\(u(x)=-\\frac{2}{15} \\, e^{\\left(5 \\, x\\right)} - \\frac{1}{6} \\, e^{\\left(2 \\, x\\right)} - \\frac{17}{10}\\)\n",
       "    "
      ]
     },
     "metadata": {},
     "output_type": "display_data"
    },
    {
     "data": {
      "text/html": [
       "\n",
       "    <h1> EDOs lineales de 2o Orden </h1>\n",
       "    <h2> Coeficientes indeterminados: \\( \\phi(x)=Ae^{kx} \\) </h2>\n",
       "    <p> Encuentre la solución \\(u(x)\\) de la siguiente ecuación diferencial\n",
       "    \\(-u\\left(x\\right) + \\frac{\\partial^{2}}{(\\partial x)^{2}}u\\left(x\\right) = -4 \\, e^{\\left(-x\\right)}\\) con condiciones iniciales \\(u(0)=-1, \\; u'(0)=1\\)\n",
       "    y evalue en el punto dado:</p>\n",
       "    <pre>\n",
       "    u(1.47) = {1:NM:=-3.67325421461377:-0.110197626438413}\n",
       "    </pre>\n",
       "    "
      ],
      "text/plain": [
       "\n",
       "    <h1> EDOs lineales de 2o Orden </h1>\n",
       "    <h2> Coeficientes indeterminados: \\( \\phi(x)=Ae^{kx} \\) </h2>\n",
       "    <p> Encuentre la solución \\(u(x)\\) de la siguiente ecuación diferencial\n",
       "    \\(-u\\left(x\\right) + \\frac{\\partial^{2}}{(\\partial x)^{2}}u\\left(x\\right) = -4 \\, e^{\\left(-x\\right)}\\) con condiciones iniciales \\(u(0)=-1, \\; u'(0)=1\\)\n",
       "    y evalue en el punto dado:</p>\n",
       "    <pre>\n",
       "    u(1.47) = {1:NM:=-3.67325421461377:-0.110197626438413}\n",
       "    </pre>\n",
       "    "
      ]
     },
     "metadata": {},
     "output_type": "display_data"
    },
    {
     "data": {
      "text/html": [
       "\n",
       "    La solución del problema de condiciones iniciales es\n",
       "    \\(u(x)={\\left(2 \\, x - e^{\\left(2 \\, x\\right)}\\right)} e^{\\left(-x\\right)}\\)\n",
       "    "
      ],
      "text/plain": [
       "\n",
       "    La solución del problema de condiciones iniciales es\n",
       "    \\(u(x)={\\left(2 \\, x - e^{\\left(2 \\, x\\right)}\\right)} e^{\\left(-x\\right)}\\)\n",
       "    "
      ]
     },
     "metadata": {},
     "output_type": "display_data"
    },
    {
     "data": {
      "text/html": [
       "\n",
       "    <h1> EDOs lineales de 2o Orden </h1>\n",
       "    <h2> Coeficientes indeterminados: \\( \\phi(x)=Ae^{kx} \\) </h2>\n",
       "    <p> Encuentre la solución \\(u(x)\\) de la siguiente ecuación diferencial\n",
       "    \\(\\frac{\\partial}{\\partial x}u\\left(x\\right) + \\frac{\\partial^{2}}{(\\partial x)^{2}}u\\left(x\\right) = -4 \\, e^{\\left(-10 \\, x\\right)}\\) con condiciones iniciales \\(u(0)=-2, \\; u'(0)=2\\)\n",
       "    y evalue en el punto dado:</p>\n",
       "    <pre>\n",
       "    u(1.83) = {1:NM:=-0.649532217040608:-0.0194859665112182}\n",
       "    </pre>\n",
       "    "
      ],
      "text/plain": [
       "\n",
       "    <h1> EDOs lineales de 2o Orden </h1>\n",
       "    <h2> Coeficientes indeterminados: \\( \\phi(x)=Ae^{kx} \\) </h2>\n",
       "    <p> Encuentre la solución \\(u(x)\\) de la siguiente ecuación diferencial\n",
       "    \\(\\frac{\\partial}{\\partial x}u\\left(x\\right) + \\frac{\\partial^{2}}{(\\partial x)^{2}}u\\left(x\\right) = -4 \\, e^{\\left(-10 \\, x\\right)}\\) con condiciones iniciales \\(u(0)=-2, \\; u'(0)=2\\)\n",
       "    y evalue en el punto dado:</p>\n",
       "    <pre>\n",
       "    u(1.83) = {1:NM:=-0.649532217040608:-0.0194859665112182}\n",
       "    </pre>\n",
       "    "
      ]
     },
     "metadata": {},
     "output_type": "display_data"
    },
    {
     "data": {
      "text/html": [
       "\n",
       "    La solución del problema de condiciones iniciales es\n",
       "    \\(u(x)=-\\frac{2}{45} \\, {\\left(9 \\, e^{\\left(10 \\, x\\right)} + 35 \\, e^{\\left(9 \\, x\\right)} + 1\\right)} e^{\\left(-10 \\, x\\right)}\\)\n",
       "    "
      ],
      "text/plain": [
       "\n",
       "    La solución del problema de condiciones iniciales es\n",
       "    \\(u(x)=-\\frac{2}{45} \\, {\\left(9 \\, e^{\\left(10 \\, x\\right)} + 35 \\, e^{\\left(9 \\, x\\right)} + 1\\right)} e^{\\left(-10 \\, x\\right)}\\)\n",
       "    "
      ]
     },
     "metadata": {},
     "output_type": "display_data"
    },
    {
     "data": {
      "text/html": [
       "\n",
       "    <h1> EDOs lineales de 2o Orden </h1>\n",
       "    <h2> Coeficientes indeterminados: \\( \\phi(x)=Ae^{kx} \\) </h2>\n",
       "    <p> Encuentre la solución \\(u(x)\\) de la siguiente ecuación diferencial\n",
       "    \\(u\\left(x\\right) + \\frac{\\partial}{\\partial x}u\\left(x\\right) + \\frac{\\partial^{2}}{(\\partial x)^{2}}u\\left(x\\right) = -5 \\, e^{\\left(-8 \\, x\\right)}\\) con condiciones iniciales \\(u(0)=0, \\; u'(0)=1\\)\n",
       "    y evalue en el punto dado:</p>\n",
       "    <pre>\n",
       "    u(1.24) = {1:NM:=0.209293394087620:0.00627880182262859}\n",
       "    </pre>\n",
       "    "
      ],
      "text/plain": [
       "\n",
       "    <h1> EDOs lineales de 2o Orden </h1>\n",
       "    <h2> Coeficientes indeterminados: \\( \\phi(x)=Ae^{kx} \\) </h2>\n",
       "    <p> Encuentre la solución \\(u(x)\\) de la siguiente ecuación diferencial\n",
       "    \\(u\\left(x\\right) + \\frac{\\partial}{\\partial x}u\\left(x\\right) + \\frac{\\partial^{2}}{(\\partial x)^{2}}u\\left(x\\right) = -5 \\, e^{\\left(-8 \\, x\\right)}\\) con condiciones iniciales \\(u(0)=0, \\; u'(0)=1\\)\n",
       "    y evalue en el punto dado:</p>\n",
       "    <pre>\n",
       "    u(1.24) = {1:NM:=0.209293394087620:0.00627880182262859}\n",
       "    </pre>\n",
       "    "
      ]
     },
     "metadata": {},
     "output_type": "display_data"
    },
    {
     "data": {
      "text/html": [
       "\n",
       "    La solución del problema de condiciones iniciales es\n",
       "    \\(u(x)=\\frac{1}{57} \\, {\\left(13 \\, \\sqrt{3} e^{\\left(8 \\, x\\right)} \\sin\\left(\\frac{1}{2} \\, \\sqrt{3} x\\right) + 5 \\, \\cos\\left(\\frac{1}{2} \\, \\sqrt{3} x\\right) e^{\\left(8 \\, x\\right)} - 5 \\, e^{\\left(\\frac{1}{2} \\, x\\right)}\\right)} e^{\\left(-\\frac{17}{2} \\, x\\right)}\\)\n",
       "    "
      ],
      "text/plain": [
       "\n",
       "    La solución del problema de condiciones iniciales es\n",
       "    \\(u(x)=\\frac{1}{57} \\, {\\left(13 \\, \\sqrt{3} e^{\\left(8 \\, x\\right)} \\sin\\left(\\frac{1}{2} \\, \\sqrt{3} x\\right) + 5 \\, \\cos\\left(\\frac{1}{2} \\, \\sqrt{3} x\\right) e^{\\left(8 \\, x\\right)} - 5 \\, e^{\\left(\\frac{1}{2} \\, x\\right)}\\right)} e^{\\left(-\\frac{17}{2} \\, x\\right)}\\)\n",
       "    "
      ]
     },
     "metadata": {},
     "output_type": "display_data"
    },
    {
     "data": {
      "text/html": [
       "\n",
       "    <h1> EDOs lineales de 2o Orden </h1>\n",
       "    <h2> Coeficientes indeterminados: \\( \\phi(x)=Ae^{kx} \\) </h2>\n",
       "    <p> Encuentre la solución \\(u(x)\\) de la siguiente ecuación diferencial\n",
       "    \\(u\\left(x\\right) - 2 \\, \\frac{\\partial}{\\partial x}u\\left(x\\right) + \\frac{\\partial^{2}}{(\\partial x)^{2}}u\\left(x\\right) = -2 \\, e^{\\left(10 \\, x\\right)}\\) con condiciones iniciales \\(u(0)=1, \\; u'(0)=2\\)\n",
       "    y evalue en el punto dado:</p>\n",
       "    <pre>\n",
       "    u(1.12) = {1:NM:=-1798.35394733206:-53.9506184199617}\n",
       "    </pre>\n",
       "    "
      ],
      "text/plain": [
       "\n",
       "    <h1> EDOs lineales de 2o Orden </h1>\n",
       "    <h2> Coeficientes indeterminados: \\( \\phi(x)=Ae^{kx} \\) </h2>\n",
       "    <p> Encuentre la solución \\(u(x)\\) de la siguiente ecuación diferencial\n",
       "    \\(u\\left(x\\right) - 2 \\, \\frac{\\partial}{\\partial x}u\\left(x\\right) + \\frac{\\partial^{2}}{(\\partial x)^{2}}u\\left(x\\right) = -2 \\, e^{\\left(10 \\, x\\right)}\\) con condiciones iniciales \\(u(0)=1, \\; u'(0)=2\\)\n",
       "    y evalue en el punto dado:</p>\n",
       "    <pre>\n",
       "    u(1.12) = {1:NM:=-1798.35394733206:-53.9506184199617}\n",
       "    </pre>\n",
       "    "
      ]
     },
     "metadata": {},
     "output_type": "display_data"
    },
    {
     "data": {
      "text/html": [
       "\n",
       "    La solución del problema de condiciones iniciales es\n",
       "    \\(u(x)=\\frac{1}{81} \\, {\\left(99 \\, x + 83\\right)} e^{x} - \\frac{2}{81} \\, e^{\\left(10 \\, x\\right)}\\)\n",
       "    "
      ],
      "text/plain": [
       "\n",
       "    La solución del problema de condiciones iniciales es\n",
       "    \\(u(x)=\\frac{1}{81} \\, {\\left(99 \\, x + 83\\right)} e^{x} - \\frac{2}{81} \\, e^{\\left(10 \\, x\\right)}\\)\n",
       "    "
      ]
     },
     "metadata": {},
     "output_type": "display_data"
    },
    {
     "data": {
      "text/html": [
       "\n",
       "    <h1> EDOs lineales de 2o Orden </h1>\n",
       "    <h2> Coeficientes indeterminados: \\( \\phi(x)=Ae^{kx} \\) </h2>\n",
       "    <p> Encuentre la solución \\(u(x)\\) de la siguiente ecuación diferencial\n",
       "    \\(-u\\left(x\\right) + \\frac{\\partial}{\\partial x}u\\left(x\\right) + \\frac{\\partial^{2}}{(\\partial x)^{2}}u\\left(x\\right) = 9 \\, e^{\\left(-8 \\, x\\right)}\\) con condiciones iniciales \\(u(0)=1, \\; u'(0)=1\\)\n",
       "    y evalue en el punto dado:</p>\n",
       "    <pre>\n",
       "    u(1.02) = {1:NM:=2.92264943220587:0.0876794829661761}\n",
       "    </pre>\n",
       "    "
      ],
      "text/plain": [
       "\n",
       "    <h1> EDOs lineales de 2o Orden </h1>\n",
       "    <h2> Coeficientes indeterminados: \\( \\phi(x)=Ae^{kx} \\) </h2>\n",
       "    <p> Encuentre la solución \\(u(x)\\) de la siguiente ecuación diferencial\n",
       "    \\(-u\\left(x\\right) + \\frac{\\partial}{\\partial x}u\\left(x\\right) + \\frac{\\partial^{2}}{(\\partial x)^{2}}u\\left(x\\right) = 9 \\, e^{\\left(-8 \\, x\\right)}\\) con condiciones iniciales \\(u(0)=1, \\; u'(0)=1\\)\n",
       "    y evalue en el punto dado:</p>\n",
       "    <pre>\n",
       "    u(1.02) = {1:NM:=2.92264943220587:0.0876794829661761}\n",
       "    </pre>\n",
       "    "
      ]
     },
     "metadata": {},
     "output_type": "display_data"
    },
    {
     "data": {
      "text/html": [
       "\n",
       "    La solución del problema de condiciones iniciales es\n",
       "    \\(u(x)=\\frac{1}{55} \\, {\\left({\\left(30 \\, \\sqrt{5} + 23\\right)} e^{\\left(\\sqrt{5} x + 8 \\, x\\right)} - {\\left(30 \\, \\sqrt{5} - 23\\right)} e^{\\left(8 \\, x\\right)} + 9 \\, e^{\\left(\\frac{1}{2} \\, \\sqrt{5} x + \\frac{1}{2} \\, x\\right)}\\right)} e^{\\left(-\\frac{1}{2} \\, \\sqrt{5} x - \\frac{17}{2} \\, x\\right)}\\)\n",
       "    "
      ],
      "text/plain": [
       "\n",
       "    La solución del problema de condiciones iniciales es\n",
       "    \\(u(x)=\\frac{1}{55} \\, {\\left({\\left(30 \\, \\sqrt{5} + 23\\right)} e^{\\left(\\sqrt{5} x + 8 \\, x\\right)} - {\\left(30 \\, \\sqrt{5} - 23\\right)} e^{\\left(8 \\, x\\right)} + 9 \\, e^{\\left(\\frac{1}{2} \\, \\sqrt{5} x + \\frac{1}{2} \\, x\\right)}\\right)} e^{\\left(-\\frac{1}{2} \\, \\sqrt{5} x - \\frac{17}{2} \\, x\\right)}\\)\n",
       "    "
      ]
     },
     "metadata": {},
     "output_type": "display_data"
    },
    {
     "data": {
      "text/html": [
       "\n",
       "    <h1> EDOs lineales de 2o Orden </h1>\n",
       "    <h2> Coeficientes indeterminados: \\( \\phi(x)=Ae^{kx} \\) </h2>\n",
       "    <p> Encuentre la solución \\(u(x)\\) de la siguiente ecuación diferencial\n",
       "    \\(-2 \\, u\\left(x\\right) + 2 \\, \\frac{\\partial}{\\partial x}u\\left(x\\right) + \\frac{\\partial^{2}}{(\\partial x)^{2}}u\\left(x\\right) = -2 \\, e^{\\left(6 \\, x\\right)}\\) con condiciones iniciales \\(u(0)=2, \\; u'(0)=-1\\)\n",
       "    y evalue en el punto dado:</p>\n",
       "    <pre>\n",
       "    u(1.73) = {1:NM:=-1395.42252946134:-41.8626758838402}\n",
       "    </pre>\n",
       "    "
      ],
      "text/plain": [
       "\n",
       "    <h1> EDOs lineales de 2o Orden </h1>\n",
       "    <h2> Coeficientes indeterminados: \\( \\phi(x)=Ae^{kx} \\) </h2>\n",
       "    <p> Encuentre la solución \\(u(x)\\) de la siguiente ecuación diferencial\n",
       "    \\(-2 \\, u\\left(x\\right) + 2 \\, \\frac{\\partial}{\\partial x}u\\left(x\\right) + \\frac{\\partial^{2}}{(\\partial x)^{2}}u\\left(x\\right) = -2 \\, e^{\\left(6 \\, x\\right)}\\) con condiciones iniciales \\(u(0)=2, \\; u'(0)=-1\\)\n",
       "    y evalue en el punto dado:</p>\n",
       "    <pre>\n",
       "    u(1.73) = {1:NM:=-1395.42252946134:-41.8626758838402}\n",
       "    </pre>\n",
       "    "
      ]
     },
     "metadata": {},
     "output_type": "display_data"
    },
    {
     "data": {
      "text/html": [
       "\n",
       "    La solución del problema de condiciones iniciales es\n",
       "    \\(u(x)=\\frac{1}{46} \\, {\\left({\\left(10 \\, \\sqrt{3} + 47\\right)} e^{\\left(2 \\, \\sqrt{3} x\\right)} - 10 \\, \\sqrt{3} - 2 \\, e^{\\left(\\sqrt{3} x + 7 \\, x\\right)} + 47\\right)} e^{\\left(-\\sqrt{3} x - x\\right)}\\)\n",
       "    "
      ],
      "text/plain": [
       "\n",
       "    La solución del problema de condiciones iniciales es\n",
       "    \\(u(x)=\\frac{1}{46} \\, {\\left({\\left(10 \\, \\sqrt{3} + 47\\right)} e^{\\left(2 \\, \\sqrt{3} x\\right)} - 10 \\, \\sqrt{3} - 2 \\, e^{\\left(\\sqrt{3} x + 7 \\, x\\right)} + 47\\right)} e^{\\left(-\\sqrt{3} x - x\\right)}\\)\n",
       "    "
      ]
     },
     "metadata": {},
     "output_type": "display_data"
    },
    {
     "data": {
      "text/html": [
       "\n",
       "    <h1> EDOs lineales de 2o Orden </h1>\n",
       "    <h2> Coeficientes indeterminados: \\( \\phi(x)=Ae^{kx} \\) </h2>\n",
       "    <p> Encuentre la solución \\(u(x)\\) de la siguiente ecuación diferencial\n",
       "    \\(u\\left(x\\right) + \\frac{\\partial}{\\partial x}u\\left(x\\right) + \\frac{\\partial^{2}}{(\\partial x)^{2}}u\\left(x\\right) = 10 \\, e^{\\left(8 \\, x\\right)}\\) con condiciones iniciales \\(u(0)=-1, \\; u'(0)=0\\)\n",
       "    y evalue en el punto dado:</p>\n",
       "    <pre>\n",
       "    u(1.09) = {1:NM:=837.639401683649:25.1291820505095}\n",
       "    </pre>\n",
       "    "
      ],
      "text/plain": [
       "\n",
       "    <h1> EDOs lineales de 2o Orden </h1>\n",
       "    <h2> Coeficientes indeterminados: \\( \\phi(x)=Ae^{kx} \\) </h2>\n",
       "    <p> Encuentre la solución \\(u(x)\\) de la siguiente ecuación diferencial\n",
       "    \\(u\\left(x\\right) + \\frac{\\partial}{\\partial x}u\\left(x\\right) + \\frac{\\partial^{2}}{(\\partial x)^{2}}u\\left(x\\right) = 10 \\, e^{\\left(8 \\, x\\right)}\\) con condiciones iniciales \\(u(0)=-1, \\; u'(0)=0\\)\n",
       "    y evalue en el punto dado:</p>\n",
       "    <pre>\n",
       "    u(1.09) = {1:NM:=837.639401683649:25.1291820505095}\n",
       "    </pre>\n",
       "    "
      ]
     },
     "metadata": {},
     "output_type": "display_data"
    },
    {
     "data": {
      "text/html": [
       "\n",
       "    La solución del problema de condiciones iniciales es\n",
       "    \\(u(x)=-\\frac{1}{73} \\, {\\left(81 \\, \\sqrt{3} \\sin\\left(\\frac{1}{2} \\, \\sqrt{3} x\\right) + 83 \\, \\cos\\left(\\frac{1}{2} \\, \\sqrt{3} x\\right) - 10 \\, e^{\\left(\\frac{17}{2} \\, x\\right)}\\right)} e^{\\left(-\\frac{1}{2} \\, x\\right)}\\)\n",
       "    "
      ],
      "text/plain": [
       "\n",
       "    La solución del problema de condiciones iniciales es\n",
       "    \\(u(x)=-\\frac{1}{73} \\, {\\left(81 \\, \\sqrt{3} \\sin\\left(\\frac{1}{2} \\, \\sqrt{3} x\\right) + 83 \\, \\cos\\left(\\frac{1}{2} \\, \\sqrt{3} x\\right) - 10 \\, e^{\\left(\\frac{17}{2} \\, x\\right)}\\right)} e^{\\left(-\\frac{1}{2} \\, x\\right)}\\)\n",
       "    "
      ]
     },
     "metadata": {},
     "output_type": "display_data"
    },
    {
     "data": {
      "text/html": [
       "\n",
       "    <h1> EDOs lineales de 2o Orden </h1>\n",
       "    <h2> Coeficientes indeterminados: \\( \\phi(x)=Ae^{kx} \\) </h2>\n",
       "    <p> Encuentre la solución \\(u(x)\\) de la siguiente ecuación diferencial\n",
       "    \\(-2 \\, u\\left(x\\right) - 2 \\, \\frac{\\partial}{\\partial x}u\\left(x\\right) + \\frac{\\partial^{2}}{(\\partial x)^{2}}u\\left(x\\right) = 7 \\, e^{\\left(9 \\, x\\right)}\\) con condiciones iniciales \\(u(0)=2, \\; u'(0)=0\\)\n",
       "    y evalue en el punto dado:</p>\n",
       "    <pre>\n",
       "    u(1.66) = {1:NM:=353296.965626163:10598.9089687849}\n",
       "    </pre>\n",
       "    "
      ],
      "text/plain": [
       "\n",
       "    <h1> EDOs lineales de 2o Orden </h1>\n",
       "    <h2> Coeficientes indeterminados: \\( \\phi(x)=Ae^{kx} \\) </h2>\n",
       "    <p> Encuentre la solución \\(u(x)\\) de la siguiente ecuación diferencial\n",
       "    \\(-2 \\, u\\left(x\\right) - 2 \\, \\frac{\\partial}{\\partial x}u\\left(x\\right) + \\frac{\\partial^{2}}{(\\partial x)^{2}}u\\left(x\\right) = 7 \\, e^{\\left(9 \\, x\\right)}\\) con condiciones iniciales \\(u(0)=2, \\; u'(0)=0\\)\n",
       "    y evalue en el punto dado:</p>\n",
       "    <pre>\n",
       "    u(1.66) = {1:NM:=353296.965626163:10598.9089687849}\n",
       "    </pre>\n",
       "    "
      ]
     },
     "metadata": {},
     "output_type": "display_data"
    },
    {
     "data": {
      "text/html": [
       "\n",
       "    La solución del problema de condiciones iniciales es\n",
       "    \\(u(x)=-\\frac{1}{366} \\, {\\left({\\left(178 \\, \\sqrt{3} - 345\\right)} e^{\\left(2 \\, \\sqrt{3} x + x\\right)} - {\\left(178 \\, \\sqrt{3} + 345\\right)} e^{x} - 42 \\, e^{\\left(\\sqrt{3} x + 9 \\, x\\right)}\\right)} e^{\\left(-\\sqrt{3} x\\right)}\\)\n",
       "    "
      ],
      "text/plain": [
       "\n",
       "    La solución del problema de condiciones iniciales es\n",
       "    \\(u(x)=-\\frac{1}{366} \\, {\\left({\\left(178 \\, \\sqrt{3} - 345\\right)} e^{\\left(2 \\, \\sqrt{3} x + x\\right)} - {\\left(178 \\, \\sqrt{3} + 345\\right)} e^{x} - 42 \\, e^{\\left(\\sqrt{3} x + 9 \\, x\\right)}\\right)} e^{\\left(-\\sqrt{3} x\\right)}\\)\n",
       "    "
      ]
     },
     "metadata": {},
     "output_type": "display_data"
    },
    {
     "data": {
      "text/html": [
       "\n",
       "    <h1> EDOs lineales de 2o Orden </h1>\n",
       "    <h2> Coeficientes indeterminados: \\( \\phi(x)=Ae^{kx} \\) </h2>\n",
       "    <p> Encuentre la solución \\(u(x)\\) de la siguiente ecuación diferencial\n",
       "    \\(u\\left(x\\right) - 2 \\, \\frac{\\partial}{\\partial x}u\\left(x\\right) + \\frac{\\partial^{2}}{(\\partial x)^{2}}u\\left(x\\right) = 8 \\, e^{\\left(10 \\, x\\right)}\\) con condiciones iniciales \\(u(0)=1, \\; u'(0)=-2\\)\n",
       "    y evalue en el punto dado:</p>\n",
       "    <pre>\n",
       "    u(1.96) = {1:NM:=3.21200467173110e7:963601.401519331}\n",
       "    </pre>\n",
       "    "
      ],
      "text/plain": [
       "\n",
       "    <h1> EDOs lineales de 2o Orden </h1>\n",
       "    <h2> Coeficientes indeterminados: \\( \\phi(x)=Ae^{kx} \\) </h2>\n",
       "    <p> Encuentre la solución \\(u(x)\\) de la siguiente ecuación diferencial\n",
       "    \\(u\\left(x\\right) - 2 \\, \\frac{\\partial}{\\partial x}u\\left(x\\right) + \\frac{\\partial^{2}}{(\\partial x)^{2}}u\\left(x\\right) = 8 \\, e^{\\left(10 \\, x\\right)}\\) con condiciones iniciales \\(u(0)=1, \\; u'(0)=-2\\)\n",
       "    y evalue en el punto dado:</p>\n",
       "    <pre>\n",
       "    u(1.96) = {1:NM:=3.21200467173110e7:963601.401519331}\n",
       "    </pre>\n",
       "    "
      ]
     },
     "metadata": {},
     "output_type": "display_data"
    },
    {
     "data": {
      "text/html": [
       "\n",
       "    La solución del problema de condiciones iniciales es\n",
       "    \\(u(x)=-\\frac{1}{81} \\, {\\left(315 \\, x - 73\\right)} e^{x} + \\frac{8}{81} \\, e^{\\left(10 \\, x\\right)}\\)\n",
       "    "
      ],
      "text/plain": [
       "\n",
       "    La solución del problema de condiciones iniciales es\n",
       "    \\(u(x)=-\\frac{1}{81} \\, {\\left(315 \\, x - 73\\right)} e^{x} + \\frac{8}{81} \\, e^{\\left(10 \\, x\\right)}\\)\n",
       "    "
      ]
     },
     "metadata": {},
     "output_type": "display_data"
    },
    {
     "data": {
      "text/html": [
       "\n",
       "    <h1> EDOs lineales de 2o Orden </h1>\n",
       "    <h2> Coeficientes indeterminados: \\( \\phi(x)=Ae^{kx} \\) </h2>\n",
       "    <p> Encuentre la solución \\(u(x)\\) de la siguiente ecuación diferencial\n",
       "    \\(2 \\, \\frac{\\partial}{\\partial x}u\\left(x\\right) + \\frac{\\partial^{2}}{(\\partial x)^{2}}u\\left(x\\right) = 6 \\, e^{x}\\) con condiciones iniciales \\(u(0)=-2, \\; u'(0)=0\\)\n",
       "    y evalue en el punto dado:</p>\n",
       "    <pre>\n",
       "    u(1.13) = {1:NM:=1.29566348500419:0.0388699045501256}\n",
       "    </pre>\n",
       "    "
      ],
      "text/plain": [
       "\n",
       "    <h1> EDOs lineales de 2o Orden </h1>\n",
       "    <h2> Coeficientes indeterminados: \\( \\phi(x)=Ae^{kx} \\) </h2>\n",
       "    <p> Encuentre la solución \\(u(x)\\) de la siguiente ecuación diferencial\n",
       "    \\(2 \\, \\frac{\\partial}{\\partial x}u\\left(x\\right) + \\frac{\\partial^{2}}{(\\partial x)^{2}}u\\left(x\\right) = 6 \\, e^{x}\\) con condiciones iniciales \\(u(0)=-2, \\; u'(0)=0\\)\n",
       "    y evalue en el punto dado:</p>\n",
       "    <pre>\n",
       "    u(1.13) = {1:NM:=1.29566348500419:0.0388699045501256}\n",
       "    </pre>\n",
       "    "
      ]
     },
     "metadata": {},
     "output_type": "display_data"
    },
    {
     "data": {
      "text/html": [
       "\n",
       "    La solución del problema de condiciones iniciales es\n",
       "    \\(u(x)={\\left(2 \\, e^{\\left(3 \\, x\\right)} - 5 \\, e^{\\left(2 \\, x\\right)} + 1\\right)} e^{\\left(-2 \\, x\\right)}\\)\n",
       "    "
      ],
      "text/plain": [
       "\n",
       "    La solución del problema de condiciones iniciales es\n",
       "    \\(u(x)={\\left(2 \\, e^{\\left(3 \\, x\\right)} - 5 \\, e^{\\left(2 \\, x\\right)} + 1\\right)} e^{\\left(-2 \\, x\\right)}\\)\n",
       "    "
      ]
     },
     "metadata": {},
     "output_type": "display_data"
    },
    {
     "data": {
      "text/html": [
       "\n",
       "    <h1> EDOs lineales de 2o Orden </h1>\n",
       "    <h2> Coeficientes indeterminados: \\( \\phi(x)=Ae^{kx} \\) </h2>\n",
       "    <p> Encuentre la solución \\(u(x)\\) de la siguiente ecuación diferencial\n",
       "    \\(-2 \\, u\\left(x\\right) - \\frac{\\partial}{\\partial x}u\\left(x\\right) + \\frac{\\partial^{2}}{(\\partial x)^{2}}u\\left(x\\right) = 3 \\, e^{\\left(-8 \\, x\\right)}\\) con condiciones iniciales \\(u(0)=-1, \\; u'(0)=0\\)\n",
       "    y evalue en el punto dado:</p>\n",
       "    <pre>\n",
       "    u(1.72) = {1:NM:=-7.42191517084950:-0.222657455125485}\n",
       "    </pre>\n",
       "    "
      ],
      "text/plain": [
       "\n",
       "    <h1> EDOs lineales de 2o Orden </h1>\n",
       "    <h2> Coeficientes indeterminados: \\( \\phi(x)=Ae^{kx} \\) </h2>\n",
       "    <p> Encuentre la solución \\(u(x)\\) de la siguiente ecuación diferencial\n",
       "    \\(-2 \\, u\\left(x\\right) - \\frac{\\partial}{\\partial x}u\\left(x\\right) + \\frac{\\partial^{2}}{(\\partial x)^{2}}u\\left(x\\right) = 3 \\, e^{\\left(-8 \\, x\\right)}\\) con condiciones iniciales \\(u(0)=-1, \\; u'(0)=0\\)\n",
       "    y evalue en el punto dado:</p>\n",
       "    <pre>\n",
       "    u(1.72) = {1:NM:=-7.42191517084950:-0.222657455125485}\n",
       "    </pre>\n",
       "    "
      ]
     },
     "metadata": {},
     "output_type": "display_data"
    },
    {
     "data": {
      "text/html": [
       "\n",
       "    La solución del problema de condiciones iniciales es\n",
       "    \\(u(x)=-\\frac{1}{210} \\, {\\left(49 \\, e^{\\left(10 \\, x\\right)} + 170 \\, e^{\\left(7 \\, x\\right)} - 9\\right)} e^{\\left(-8 \\, x\\right)}\\)\n",
       "    "
      ],
      "text/plain": [
       "\n",
       "    La solución del problema de condiciones iniciales es\n",
       "    \\(u(x)=-\\frac{1}{210} \\, {\\left(49 \\, e^{\\left(10 \\, x\\right)} + 170 \\, e^{\\left(7 \\, x\\right)} - 9\\right)} e^{\\left(-8 \\, x\\right)}\\)\n",
       "    "
      ]
     },
     "metadata": {},
     "output_type": "display_data"
    },
    {
     "data": {
      "text/html": [
       "\n",
       "    <h1> EDOs lineales de 2o Orden </h1>\n",
       "    <h2> Coeficientes indeterminados: \\( \\phi(x)=Ae^{kx} \\) </h2>\n",
       "    <p> Encuentre la solución \\(u(x)\\) de la siguiente ecuación diferencial\n",
       "    \\(\\frac{\\partial^{2}}{(\\partial x)^{2}}u\\left(x\\right) = -9 \\, e^{x}\\) con condiciones iniciales \\(u(0)=0, \\; u'(0)=-2\\)\n",
       "    y evalue en el punto dado:</p>\n",
       "    <pre>\n",
       "    u(1.24) = {1:NM:=-13.4205211828641:-0.402615635485922}\n",
       "    </pre>\n",
       "    "
      ],
      "text/plain": [
       "\n",
       "    <h1> EDOs lineales de 2o Orden </h1>\n",
       "    <h2> Coeficientes indeterminados: \\( \\phi(x)=Ae^{kx} \\) </h2>\n",
       "    <p> Encuentre la solución \\(u(x)\\) de la siguiente ecuación diferencial\n",
       "    \\(\\frac{\\partial^{2}}{(\\partial x)^{2}}u\\left(x\\right) = -9 \\, e^{x}\\) con condiciones iniciales \\(u(0)=0, \\; u'(0)=-2\\)\n",
       "    y evalue en el punto dado:</p>\n",
       "    <pre>\n",
       "    u(1.24) = {1:NM:=-13.4205211828641:-0.402615635485922}\n",
       "    </pre>\n",
       "    "
      ]
     },
     "metadata": {},
     "output_type": "display_data"
    },
    {
     "data": {
      "text/html": [
       "\n",
       "    La solución del problema de condiciones iniciales es\n",
       "    \\(u(x)=7 \\, x - 9 \\, e^{x} + 9\\)\n",
       "    "
      ],
      "text/plain": [
       "\n",
       "    La solución del problema de condiciones iniciales es\n",
       "    \\(u(x)=7 \\, x - 9 \\, e^{x} + 9\\)\n",
       "    "
      ]
     },
     "metadata": {},
     "output_type": "display_data"
    },
    {
     "data": {
      "text/html": [
       "\n",
       "    <h1> EDOs lineales de 2o Orden </h1>\n",
       "    <h2> Coeficientes indeterminados: \\( \\phi(x)=Ae^{kx} \\) </h2>\n",
       "    <p> Encuentre la solución \\(u(x)\\) de la siguiente ecuación diferencial\n",
       "    \\(2 \\, u\\left(x\\right) - \\frac{\\partial}{\\partial x}u\\left(x\\right) + \\frac{\\partial^{2}}{(\\partial x)^{2}}u\\left(x\\right) = 8 \\, e^{\\left(-9 \\, x\\right)}\\) con condiciones iniciales \\(u(0)=0, \\; u'(0)=1\\)\n",
       "    y evalue en el punto dado:</p>\n",
       "    <pre>\n",
       "    u(1.91) = {1:NM:=2.25394427487623:0.0676183282462869}\n",
       "    </pre>\n",
       "    "
      ],
      "text/plain": [
       "\n",
       "    <h1> EDOs lineales de 2o Orden </h1>\n",
       "    <h2> Coeficientes indeterminados: \\( \\phi(x)=Ae^{kx} \\) </h2>\n",
       "    <p> Encuentre la solución \\(u(x)\\) de la siguiente ecuación diferencial\n",
       "    \\(2 \\, u\\left(x\\right) - \\frac{\\partial}{\\partial x}u\\left(x\\right) + \\frac{\\partial^{2}}{(\\partial x)^{2}}u\\left(x\\right) = 8 \\, e^{\\left(-9 \\, x\\right)}\\) con condiciones iniciales \\(u(0)=0, \\; u'(0)=1\\)\n",
       "    y evalue en el punto dado:</p>\n",
       "    <pre>\n",
       "    u(1.91) = {1:NM:=2.25394427487623:0.0676183282462869}\n",
       "    </pre>\n",
       "    "
      ]
     },
     "metadata": {},
     "output_type": "display_data"
    },
    {
     "data": {
      "text/html": [
       "\n",
       "    La solución del problema de condiciones iniciales es\n",
       "    \\(u(x)=\\frac{2}{23} \\, {\\left(6 \\, \\sqrt{7} e^{\\left(\\frac{19}{2} \\, x\\right)} \\sin\\left(\\frac{1}{2} \\, \\sqrt{7} x\\right) - \\cos\\left(\\frac{1}{2} \\, \\sqrt{7} x\\right) e^{\\left(\\frac{19}{2} \\, x\\right)} + 1\\right)} e^{\\left(-9 \\, x\\right)}\\)\n",
       "    "
      ],
      "text/plain": [
       "\n",
       "    La solución del problema de condiciones iniciales es\n",
       "    \\(u(x)=\\frac{2}{23} \\, {\\left(6 \\, \\sqrt{7} e^{\\left(\\frac{19}{2} \\, x\\right)} \\sin\\left(\\frac{1}{2} \\, \\sqrt{7} x\\right) - \\cos\\left(\\frac{1}{2} \\, \\sqrt{7} x\\right) e^{\\left(\\frac{19}{2} \\, x\\right)} + 1\\right)} e^{\\left(-9 \\, x\\right)}\\)\n",
       "    "
      ]
     },
     "metadata": {},
     "output_type": "display_data"
    },
    {
     "data": {
      "text/html": [
       "\n",
       "    <h1> EDOs lineales de 2o Orden </h1>\n",
       "    <h2> Coeficientes indeterminados: \\( \\phi(x)=Ae^{kx} \\) </h2>\n",
       "    <p> Encuentre la solución \\(u(x)\\) de la siguiente ecuación diferencial\n",
       "    \\(-\\frac{\\partial}{\\partial x}u\\left(x\\right) + \\frac{\\partial^{2}}{(\\partial x)^{2}}u\\left(x\\right) = 3 \\, e^{\\left(3 \\, x\\right)}\\) con condiciones iniciales \\(u(0)=-2, \\; u'(0)=0\\)\n",
       "    y evalue en el punto dado:</p>\n",
       "    <pre>\n",
       "    u(1.86) = {1:NM:=121.900197735970:3.65700593207909}\n",
       "    </pre>\n",
       "    "
      ],
      "text/plain": [
       "\n",
       "    <h1> EDOs lineales de 2o Orden </h1>\n",
       "    <h2> Coeficientes indeterminados: \\( \\phi(x)=Ae^{kx} \\) </h2>\n",
       "    <p> Encuentre la solución \\(u(x)\\) de la siguiente ecuación diferencial\n",
       "    \\(-\\frac{\\partial}{\\partial x}u\\left(x\\right) + \\frac{\\partial^{2}}{(\\partial x)^{2}}u\\left(x\\right) = 3 \\, e^{\\left(3 \\, x\\right)}\\) con condiciones iniciales \\(u(0)=-2, \\; u'(0)=0\\)\n",
       "    y evalue en el punto dado:</p>\n",
       "    <pre>\n",
       "    u(1.86) = {1:NM:=121.900197735970:3.65700593207909}\n",
       "    </pre>\n",
       "    "
      ]
     },
     "metadata": {},
     "output_type": "display_data"
    },
    {
     "data": {
      "text/html": [
       "\n",
       "    La solución del problema de condiciones iniciales es\n",
       "    \\(u(x)=\\frac{1}{2} \\, e^{\\left(3 \\, x\\right)} - \\frac{3}{2} \\, e^{x} - 1\\)\n",
       "    "
      ],
      "text/plain": [
       "\n",
       "    La solución del problema de condiciones iniciales es\n",
       "    \\(u(x)=\\frac{1}{2} \\, e^{\\left(3 \\, x\\right)} - \\frac{3}{2} \\, e^{x} - 1\\)\n",
       "    "
      ]
     },
     "metadata": {},
     "output_type": "display_data"
    },
    {
     "data": {
      "text/html": [
       "\n",
       "    <h1> EDOs lineales de 2o Orden </h1>\n",
       "    <h2> Coeficientes indeterminados: \\( \\phi(x)=Ae^{kx} \\) </h2>\n",
       "    <p> Encuentre la solución \\(u(x)\\) de la siguiente ecuación diferencial\n",
       "    \\(-u\\left(x\\right) + \\frac{\\partial}{\\partial x}u\\left(x\\right) + \\frac{\\partial^{2}}{(\\partial x)^{2}}u\\left(x\\right) = -e^{\\left(3 \\, x\\right)}\\) con condiciones iniciales \\(u(0)=2, \\; u'(0)=0\\)\n",
       "    y evalue en el punto dado:</p>\n",
       "    <pre>\n",
       "    u(1.46) = {1:NM:=-3.18431253127333:-0.0955293759381999}\n",
       "    </pre>\n",
       "    "
      ],
      "text/plain": [
       "\n",
       "    <h1> EDOs lineales de 2o Orden </h1>\n",
       "    <h2> Coeficientes indeterminados: \\( \\phi(x)=Ae^{kx} \\) </h2>\n",
       "    <p> Encuentre la solución \\(u(x)\\) de la siguiente ecuación diferencial\n",
       "    \\(-u\\left(x\\right) + \\frac{\\partial}{\\partial x}u\\left(x\\right) + \\frac{\\partial^{2}}{(\\partial x)^{2}}u\\left(x\\right) = -e^{\\left(3 \\, x\\right)}\\) con condiciones iniciales \\(u(0)=2, \\; u'(0)=0\\)\n",
       "    y evalue en el punto dado:</p>\n",
       "    <pre>\n",
       "    u(1.46) = {1:NM:=-3.18431253127333:-0.0955293759381999}\n",
       "    </pre>\n",
       "    "
      ]
     },
     "metadata": {},
     "output_type": "display_data"
    },
    {
     "data": {
      "text/html": [
       "\n",
       "    La solución del problema de condiciones iniciales es\n",
       "    \\(u(x)=\\frac{1}{110} \\, {\\left({\\left(29 \\, \\sqrt{5} + 115\\right)} e^{\\left(\\sqrt{5} x\\right)} - 29 \\, \\sqrt{5} - 10 \\, e^{\\left(\\frac{1}{2} \\, \\sqrt{5} x + \\frac{7}{2} \\, x\\right)} + 115\\right)} e^{\\left(-\\frac{1}{2} \\, \\sqrt{5} x - \\frac{1}{2} \\, x\\right)}\\)\n",
       "    "
      ],
      "text/plain": [
       "\n",
       "    La solución del problema de condiciones iniciales es\n",
       "    \\(u(x)=\\frac{1}{110} \\, {\\left({\\left(29 \\, \\sqrt{5} + 115\\right)} e^{\\left(\\sqrt{5} x\\right)} - 29 \\, \\sqrt{5} - 10 \\, e^{\\left(\\frac{1}{2} \\, \\sqrt{5} x + \\frac{7}{2} \\, x\\right)} + 115\\right)} e^{\\left(-\\frac{1}{2} \\, \\sqrt{5} x - \\frac{1}{2} \\, x\\right)}\\)\n",
       "    "
      ]
     },
     "metadata": {},
     "output_type": "display_data"
    },
    {
     "data": {
      "text/html": [
       "\n",
       "    <h1> EDOs lineales de 2o Orden </h1>\n",
       "    <h2> Coeficientes indeterminados: \\( \\phi(x)=Ae^{kx} \\) </h2>\n",
       "    <p> Encuentre la solución \\(u(x)\\) de la siguiente ecuación diferencial\n",
       "    \\(u\\left(x\\right) + \\frac{\\partial^{2}}{(\\partial x)^{2}}u\\left(x\\right) = -8 \\, e^{\\left(4 \\, x\\right)}\\) con condiciones iniciales \\(u(0)=1, \\; u'(0)=2\\)\n",
       "    y evalue en el punto dado:</p>\n",
       "    <pre>\n",
       "    u(1.12) = {1:NM:=-37.3869818273321:-1.12160945481996}\n",
       "    </pre>\n",
       "    "
      ],
      "text/plain": [
       "\n",
       "    <h1> EDOs lineales de 2o Orden </h1>\n",
       "    <h2> Coeficientes indeterminados: \\( \\phi(x)=Ae^{kx} \\) </h2>\n",
       "    <p> Encuentre la solución \\(u(x)\\) de la siguiente ecuación diferencial\n",
       "    \\(u\\left(x\\right) + \\frac{\\partial^{2}}{(\\partial x)^{2}}u\\left(x\\right) = -8 \\, e^{\\left(4 \\, x\\right)}\\) con condiciones iniciales \\(u(0)=1, \\; u'(0)=2\\)\n",
       "    y evalue en el punto dado:</p>\n",
       "    <pre>\n",
       "    u(1.12) = {1:NM:=-37.3869818273321:-1.12160945481996}\n",
       "    </pre>\n",
       "    "
      ]
     },
     "metadata": {},
     "output_type": "display_data"
    },
    {
     "data": {
      "text/html": [
       "\n",
       "    La solución del problema de condiciones iniciales es\n",
       "    \\(u(x)=\\frac{25}{17} \\, \\cos\\left(x\\right) - \\frac{8}{17} \\, e^{\\left(4 \\, x\\right)} + \\frac{66}{17} \\, \\sin\\left(x\\right)\\)\n",
       "    "
      ],
      "text/plain": [
       "\n",
       "    La solución del problema de condiciones iniciales es\n",
       "    \\(u(x)=\\frac{25}{17} \\, \\cos\\left(x\\right) - \\frac{8}{17} \\, e^{\\left(4 \\, x\\right)} + \\frac{66}{17} \\, \\sin\\left(x\\right)\\)\n",
       "    "
      ]
     },
     "metadata": {},
     "output_type": "display_data"
    },
    {
     "data": {
      "text/html": [
       "\n",
       "    <h1> EDOs lineales de 2o Orden </h1>\n",
       "    <h2> Coeficientes indeterminados: \\( \\phi(x)=Ae^{kx} \\) </h2>\n",
       "    <p> Encuentre la solución \\(u(x)\\) de la siguiente ecuación diferencial\n",
       "    \\(\\frac{\\partial^{2}}{(\\partial x)^{2}}u\\left(x\\right) = -2 \\, e^{\\left(4 \\, x\\right)}\\) con condiciones iniciales \\(u(0)=1, \\; u'(0)=-2\\)\n",
       "    y evalue en el punto dado:</p>\n",
       "    <pre>\n",
       "    u(1.6) = {1:NM:=-76.5056297340103:-2.29516889202031}\n",
       "    </pre>\n",
       "    "
      ],
      "text/plain": [
       "\n",
       "    <h1> EDOs lineales de 2o Orden </h1>\n",
       "    <h2> Coeficientes indeterminados: \\( \\phi(x)=Ae^{kx} \\) </h2>\n",
       "    <p> Encuentre la solución \\(u(x)\\) de la siguiente ecuación diferencial\n",
       "    \\(\\frac{\\partial^{2}}{(\\partial x)^{2}}u\\left(x\\right) = -2 \\, e^{\\left(4 \\, x\\right)}\\) con condiciones iniciales \\(u(0)=1, \\; u'(0)=-2\\)\n",
       "    y evalue en el punto dado:</p>\n",
       "    <pre>\n",
       "    u(1.6) = {1:NM:=-76.5056297340103:-2.29516889202031}\n",
       "    </pre>\n",
       "    "
      ]
     },
     "metadata": {},
     "output_type": "display_data"
    },
    {
     "data": {
      "text/html": [
       "\n",
       "    La solución del problema de condiciones iniciales es\n",
       "    \\(u(x)=-\\frac{3}{2} \\, x - \\frac{1}{8} \\, e^{\\left(4 \\, x\\right)} + \\frac{9}{8}\\)\n",
       "    "
      ],
      "text/plain": [
       "\n",
       "    La solución del problema de condiciones iniciales es\n",
       "    \\(u(x)=-\\frac{3}{2} \\, x - \\frac{1}{8} \\, e^{\\left(4 \\, x\\right)} + \\frac{9}{8}\\)\n",
       "    "
      ]
     },
     "metadata": {},
     "output_type": "display_data"
    },
    {
     "data": {
      "text/html": [
       "\n",
       "    <h1> EDOs lineales de 2o Orden </h1>\n",
       "    <h2> Coeficientes indeterminados: \\( \\phi(x)=Ae^{kx} \\) </h2>\n",
       "    <p> Encuentre la solución \\(u(x)\\) de la siguiente ecuación diferencial\n",
       "    \\(-u\\left(x\\right) + \\frac{\\partial^{2}}{(\\partial x)^{2}}u\\left(x\\right) = -3 \\, e^{\\left(4 \\, x\\right)}\\) con condiciones iniciales \\(u(0)=-2, \\; u'(0)=2\\)\n",
       "    y evalue en el punto dado:</p>\n",
       "    <pre>\n",
       "    u(1.22) = {1:NM:=-25.3115682942806:-0.759347048828418}\n",
       "    </pre>\n",
       "    "
      ],
      "text/plain": [
       "\n",
       "    <h1> EDOs lineales de 2o Orden </h1>\n",
       "    <h2> Coeficientes indeterminados: \\( \\phi(x)=Ae^{kx} \\) </h2>\n",
       "    <p> Encuentre la solución \\(u(x)\\) de la siguiente ecuación diferencial\n",
       "    \\(-u\\left(x\\right) + \\frac{\\partial^{2}}{(\\partial x)^{2}}u\\left(x\\right) = -3 \\, e^{\\left(4 \\, x\\right)}\\) con condiciones iniciales \\(u(0)=-2, \\; u'(0)=2\\)\n",
       "    y evalue en el punto dado:</p>\n",
       "    <pre>\n",
       "    u(1.22) = {1:NM:=-25.3115682942806:-0.759347048828418}\n",
       "    </pre>\n",
       "    "
      ]
     },
     "metadata": {},
     "output_type": "display_data"
    },
    {
     "data": {
      "text/html": [
       "\n",
       "    La solución del problema de condiciones iniciales es\n",
       "    \\(u(x)=-\\frac{1}{10} \\, {\\left(2 \\, e^{\\left(5 \\, x\\right)} - 5 \\, e^{\\left(2 \\, x\\right)} + 23\\right)} e^{\\left(-x\\right)}\\)\n",
       "    "
      ],
      "text/plain": [
       "\n",
       "    La solución del problema de condiciones iniciales es\n",
       "    \\(u(x)=-\\frac{1}{10} \\, {\\left(2 \\, e^{\\left(5 \\, x\\right)} - 5 \\, e^{\\left(2 \\, x\\right)} + 23\\right)} e^{\\left(-x\\right)}\\)\n",
       "    "
      ]
     },
     "metadata": {},
     "output_type": "display_data"
    },
    {
     "data": {
      "text/html": [
       "\n",
       "    <h1> EDOs lineales de 2o Orden </h1>\n",
       "    <h2> Coeficientes indeterminados: \\( \\phi(x)=Ae^{kx} \\) </h2>\n",
       "    <p> Encuentre la solución \\(u(x)\\) de la siguiente ecuación diferencial\n",
       "    \\(-2 \\, u\\left(x\\right) + 2 \\, \\frac{\\partial}{\\partial x}u\\left(x\\right) + \\frac{\\partial^{2}}{(\\partial x)^{2}}u\\left(x\\right) = 4 \\, e^{\\left(10 \\, x\\right)}\\) con condiciones iniciales \\(u(0)=2, \\; u'(0)=2\\)\n",
       "    y evalue en el punto dado:</p>\n",
       "    <pre>\n",
       "    u(1.29) = {1:NM:=13575.1225809560:407.253677428681}\n",
       "    </pre>\n",
       "    "
      ],
      "text/plain": [
       "\n",
       "    <h1> EDOs lineales de 2o Orden </h1>\n",
       "    <h2> Coeficientes indeterminados: \\( \\phi(x)=Ae^{kx} \\) </h2>\n",
       "    <p> Encuentre la solución \\(u(x)\\) de la siguiente ecuación diferencial\n",
       "    \\(-2 \\, u\\left(x\\right) + 2 \\, \\frac{\\partial}{\\partial x}u\\left(x\\right) + \\frac{\\partial^{2}}{(\\partial x)^{2}}u\\left(x\\right) = 4 \\, e^{\\left(10 \\, x\\right)}\\) con condiciones iniciales \\(u(0)=2, \\; u'(0)=2\\)\n",
       "    y evalue en el punto dado:</p>\n",
       "    <pre>\n",
       "    u(1.29) = {1:NM:=13575.1225809560:407.253677428681}\n",
       "    </pre>\n",
       "    "
      ]
     },
     "metadata": {},
     "output_type": "display_data"
    },
    {
     "data": {
      "text/html": [
       "\n",
       "    La solución del problema de condiciones iniciales es\n",
       "    \\(u(x)=\\frac{1}{177} \\, {\\left({\\left(107 \\, \\sqrt{3} + 174\\right)} e^{\\left(2 \\, \\sqrt{3} x\\right)} - 107 \\, \\sqrt{3} + 6 \\, e^{\\left(\\sqrt{3} x + 11 \\, x\\right)} + 174\\right)} e^{\\left(-\\sqrt{3} x - x\\right)}\\)\n",
       "    "
      ],
      "text/plain": [
       "\n",
       "    La solución del problema de condiciones iniciales es\n",
       "    \\(u(x)=\\frac{1}{177} \\, {\\left({\\left(107 \\, \\sqrt{3} + 174\\right)} e^{\\left(2 \\, \\sqrt{3} x\\right)} - 107 \\, \\sqrt{3} + 6 \\, e^{\\left(\\sqrt{3} x + 11 \\, x\\right)} + 174\\right)} e^{\\left(-\\sqrt{3} x - x\\right)}\\)\n",
       "    "
      ]
     },
     "metadata": {},
     "output_type": "display_data"
    },
    {
     "data": {
      "text/html": [
       "\n",
       "    <h1> EDOs lineales de 2o Orden </h1>\n",
       "    <h2> Coeficientes indeterminados: \\( \\phi(x)=Ae^{kx} \\) </h2>\n",
       "    <p> Encuentre la solución \\(u(x)\\) de la siguiente ecuación diferencial\n",
       "    \\(-u\\left(x\\right) + \\frac{\\partial^{2}}{(\\partial x)^{2}}u\\left(x\\right) = -2 \\, e^{\\left(3 \\, x\\right)}\\) con condiciones iniciales \\(u(0)=-1, \\; u'(0)=-2\\)\n",
       "    y evalue en el punto dado:</p>\n",
       "    <pre>\n",
       "    u(1.01) = {1:NM:=-7.82885441747141:-0.234865632524142}\n",
       "    </pre>\n",
       "    "
      ],
      "text/plain": [
       "\n",
       "    <h1> EDOs lineales de 2o Orden </h1>\n",
       "    <h2> Coeficientes indeterminados: \\( \\phi(x)=Ae^{kx} \\) </h2>\n",
       "    <p> Encuentre la solución \\(u(x)\\) de la siguiente ecuación diferencial\n",
       "    \\(-u\\left(x\\right) + \\frac{\\partial^{2}}{(\\partial x)^{2}}u\\left(x\\right) = -2 \\, e^{\\left(3 \\, x\\right)}\\) con condiciones iniciales \\(u(0)=-1, \\; u'(0)=-2\\)\n",
       "    y evalue en el punto dado:</p>\n",
       "    <pre>\n",
       "    u(1.01) = {1:NM:=-7.82885441747141:-0.234865632524142}\n",
       "    </pre>\n",
       "    "
      ]
     },
     "metadata": {},
     "output_type": "display_data"
    },
    {
     "data": {
      "text/html": [
       "\n",
       "    La solución del problema de condiciones iniciales es\n",
       "    \\(u(x)=-\\frac{1}{4} \\, {\\left(e^{\\left(4 \\, x\\right)} + 4 \\, e^{\\left(2 \\, x\\right)} - 1\\right)} e^{\\left(-x\\right)}\\)\n",
       "    "
      ],
      "text/plain": [
       "\n",
       "    La solución del problema de condiciones iniciales es\n",
       "    \\(u(x)=-\\frac{1}{4} \\, {\\left(e^{\\left(4 \\, x\\right)} + 4 \\, e^{\\left(2 \\, x\\right)} - 1\\right)} e^{\\left(-x\\right)}\\)\n",
       "    "
      ]
     },
     "metadata": {},
     "output_type": "display_data"
    },
    {
     "data": {
      "text/html": [
       "\n",
       "    <h1> EDOs lineales de 2o Orden </h1>\n",
       "    <h2> Coeficientes indeterminados: \\( \\phi(x)=Ae^{kx} \\) </h2>\n",
       "    <p> Encuentre la solución \\(u(x)\\) de la siguiente ecuación diferencial\n",
       "    \\(\\frac{\\partial^{2}}{(\\partial x)^{2}}u\\left(x\\right) = -6 \\, e^{\\left(10 \\, x\\right)}\\) con condiciones iniciales \\(u(0)=0, \\; u'(0)=1\\)\n",
       "    y evalue en el punto dado:</p>\n",
       "    <pre>\n",
       "    u(1.14) = {1:NM:=-5357.41940164834:-160.722582049450}\n",
       "    </pre>\n",
       "    "
      ],
      "text/plain": [
       "\n",
       "    <h1> EDOs lineales de 2o Orden </h1>\n",
       "    <h2> Coeficientes indeterminados: \\( \\phi(x)=Ae^{kx} \\) </h2>\n",
       "    <p> Encuentre la solución \\(u(x)\\) de la siguiente ecuación diferencial\n",
       "    \\(\\frac{\\partial^{2}}{(\\partial x)^{2}}u\\left(x\\right) = -6 \\, e^{\\left(10 \\, x\\right)}\\) con condiciones iniciales \\(u(0)=0, \\; u'(0)=1\\)\n",
       "    y evalue en el punto dado:</p>\n",
       "    <pre>\n",
       "    u(1.14) = {1:NM:=-5357.41940164834:-160.722582049450}\n",
       "    </pre>\n",
       "    "
      ]
     },
     "metadata": {},
     "output_type": "display_data"
    },
    {
     "data": {
      "text/html": [
       "\n",
       "    La solución del problema de condiciones iniciales es\n",
       "    \\(u(x)=\\frac{8}{5} \\, x - \\frac{3}{50} \\, e^{\\left(10 \\, x\\right)} + \\frac{3}{50}\\)\n",
       "    "
      ],
      "text/plain": [
       "\n",
       "    La solución del problema de condiciones iniciales es\n",
       "    \\(u(x)=\\frac{8}{5} \\, x - \\frac{3}{50} \\, e^{\\left(10 \\, x\\right)} + \\frac{3}{50}\\)\n",
       "    "
      ]
     },
     "metadata": {},
     "output_type": "display_data"
    },
    {
     "data": {
      "text/html": [
       "\n",
       "    <h1> EDOs lineales de 2o Orden </h1>\n",
       "    <h2> Coeficientes indeterminados: \\( \\phi(x)=Ae^{kx} \\) </h2>\n",
       "    <p> Encuentre la solución \\(u(x)\\) de la siguiente ecuación diferencial\n",
       "    \\(u\\left(x\\right) + 2 \\, \\frac{\\partial}{\\partial x}u\\left(x\\right) + \\frac{\\partial^{2}}{(\\partial x)^{2}}u\\left(x\\right) = 4 \\, e^{\\left(-10 \\, x\\right)}\\) con condiciones iniciales \\(u(0)=1, \\; u'(0)=-2\\)\n",
       "    y evalue en el punto dado:</p>\n",
       "    <pre>\n",
       "    u(1.22) = {1:NM:=0.0805507013684340:0.00241652104105302}\n",
       "    </pre>\n",
       "    "
      ],
      "text/plain": [
       "\n",
       "    <h1> EDOs lineales de 2o Orden </h1>\n",
       "    <h2> Coeficientes indeterminados: \\( \\phi(x)=Ae^{kx} \\) </h2>\n",
       "    <p> Encuentre la solución \\(u(x)\\) de la siguiente ecuación diferencial\n",
       "    \\(u\\left(x\\right) + 2 \\, \\frac{\\partial}{\\partial x}u\\left(x\\right) + \\frac{\\partial^{2}}{(\\partial x)^{2}}u\\left(x\\right) = 4 \\, e^{\\left(-10 \\, x\\right)}\\) con condiciones iniciales \\(u(0)=1, \\; u'(0)=-2\\)\n",
       "    y evalue en el punto dado:</p>\n",
       "    <pre>\n",
       "    u(1.22) = {1:NM:=0.0805507013684340:0.00241652104105302}\n",
       "    </pre>\n",
       "    "
      ]
     },
     "metadata": {},
     "output_type": "display_data"
    },
    {
     "data": {
      "text/html": [
       "\n",
       "    La solución del problema de condiciones iniciales es\n",
       "    \\(u(x)=-\\frac{1}{81} \\, {\\left({\\left(45 \\, x - 77\\right)} e^{\\left(9 \\, x\\right)} - 4\\right)} e^{\\left(-10 \\, x\\right)}\\)\n",
       "    "
      ],
      "text/plain": [
       "\n",
       "    La solución del problema de condiciones iniciales es\n",
       "    \\(u(x)=-\\frac{1}{81} \\, {\\left({\\left(45 \\, x - 77\\right)} e^{\\left(9 \\, x\\right)} - 4\\right)} e^{\\left(-10 \\, x\\right)}\\)\n",
       "    "
      ]
     },
     "metadata": {},
     "output_type": "display_data"
    },
    {
     "data": {
      "text/html": [
       "\n",
       "    <h1> EDOs lineales de 2o Orden </h1>\n",
       "    <h2> Coeficientes indeterminados: \\( \\phi(x)=Ae^{kx} \\) </h2>\n",
       "    <p> Encuentre la solución \\(u(x)\\) de la siguiente ecuación diferencial\n",
       "    \\(-2 \\, u\\left(x\\right) + \\frac{\\partial}{\\partial x}u\\left(x\\right) + \\frac{\\partial^{2}}{(\\partial x)^{2}}u\\left(x\\right) = 9 \\, e^{\\left(6 \\, x\\right)}\\) con condiciones iniciales \\(u(0)=0, \\; u'(0)=-2\\)\n",
       "    y evalue en el punto dado:</p>\n",
       "    <pre>\n",
       "    u(1.85) = {1:NM:=14880.4810201629:446.414430604886}\n",
       "    </pre>\n",
       "    "
      ],
      "text/plain": [
       "\n",
       "    <h1> EDOs lineales de 2o Orden </h1>\n",
       "    <h2> Coeficientes indeterminados: \\( \\phi(x)=Ae^{kx} \\) </h2>\n",
       "    <p> Encuentre la solución \\(u(x)\\) de la siguiente ecuación diferencial\n",
       "    \\(-2 \\, u\\left(x\\right) + \\frac{\\partial}{\\partial x}u\\left(x\\right) + \\frac{\\partial^{2}}{(\\partial x)^{2}}u\\left(x\\right) = 9 \\, e^{\\left(6 \\, x\\right)}\\) con condiciones iniciales \\(u(0)=0, \\; u'(0)=-2\\)\n",
       "    y evalue en el punto dado:</p>\n",
       "    <pre>\n",
       "    u(1.85) = {1:NM:=14880.4810201629:446.414430604886}\n",
       "    </pre>\n",
       "    "
      ]
     },
     "metadata": {},
     "output_type": "display_data"
    },
    {
     "data": {
      "text/html": [
       "\n",
       "    La solución del problema de condiciones iniciales es\n",
       "    \\(u(x)=\\frac{1}{120} \\, {\\left(27 \\, e^{\\left(8 \\, x\\right)} - 152 \\, e^{\\left(3 \\, x\\right)} + 125\\right)} e^{\\left(-2 \\, x\\right)}\\)\n",
       "    "
      ],
      "text/plain": [
       "\n",
       "    La solución del problema de condiciones iniciales es\n",
       "    \\(u(x)=\\frac{1}{120} \\, {\\left(27 \\, e^{\\left(8 \\, x\\right)} - 152 \\, e^{\\left(3 \\, x\\right)} + 125\\right)} e^{\\left(-2 \\, x\\right)}\\)\n",
       "    "
      ]
     },
     "metadata": {},
     "output_type": "display_data"
    },
    {
     "data": {
      "text/html": [
       "\n",
       "    <h1> EDOs lineales de 2o Orden </h1>\n",
       "    <h2> Coeficientes indeterminados: \\( \\phi(x)=Ae^{kx} \\) </h2>\n",
       "    <p> Encuentre la solución \\(u(x)\\) de la siguiente ecuación diferencial\n",
       "    \\(-2 \\, u\\left(x\\right) + 2 \\, \\frac{\\partial}{\\partial x}u\\left(x\\right) + \\frac{\\partial^{2}}{(\\partial x)^{2}}u\\left(x\\right) = -4 \\, e^{\\left(5 \\, x\\right)}\\) con condiciones iniciales \\(u(0)=-1, \\; u'(0)=-1\\)\n",
       "    y evalue en el punto dado:</p>\n",
       "    <pre>\n",
       "    u(1.02) = {1:NM:=-21.5882313895696:-0.647646941687089}\n",
       "    </pre>\n",
       "    "
      ],
      "text/plain": [
       "\n",
       "    <h1> EDOs lineales de 2o Orden </h1>\n",
       "    <h2> Coeficientes indeterminados: \\( \\phi(x)=Ae^{kx} \\) </h2>\n",
       "    <p> Encuentre la solución \\(u(x)\\) de la siguiente ecuación diferencial\n",
       "    \\(-2 \\, u\\left(x\\right) + 2 \\, \\frac{\\partial}{\\partial x}u\\left(x\\right) + \\frac{\\partial^{2}}{(\\partial x)^{2}}u\\left(x\\right) = -4 \\, e^{\\left(5 \\, x\\right)}\\) con condiciones iniciales \\(u(0)=-1, \\; u'(0)=-1\\)\n",
       "    y evalue en el punto dado:</p>\n",
       "    <pre>\n",
       "    u(1.02) = {1:NM:=-21.5882313895696:-0.647646941687089}\n",
       "    </pre>\n",
       "    "
      ]
     },
     "metadata": {},
     "output_type": "display_data"
    },
    {
     "data": {
      "text/html": [
       "\n",
       "    La solución del problema de condiciones iniciales es\n",
       "    \\(u(x)=-\\frac{1}{66} \\, {\\left({\\left(14 \\, \\sqrt{3} + 29\\right)} e^{\\left(2 \\, \\sqrt{3} x\\right)} - 14 \\, \\sqrt{3} + 8 \\, e^{\\left(\\sqrt{3} x + 6 \\, x\\right)} + 29\\right)} e^{\\left(-\\sqrt{3} x - x\\right)}\\)\n",
       "    "
      ],
      "text/plain": [
       "\n",
       "    La solución del problema de condiciones iniciales es\n",
       "    \\(u(x)=-\\frac{1}{66} \\, {\\left({\\left(14 \\, \\sqrt{3} + 29\\right)} e^{\\left(2 \\, \\sqrt{3} x\\right)} - 14 \\, \\sqrt{3} + 8 \\, e^{\\left(\\sqrt{3} x + 6 \\, x\\right)} + 29\\right)} e^{\\left(-\\sqrt{3} x - x\\right)}\\)\n",
       "    "
      ]
     },
     "metadata": {},
     "output_type": "display_data"
    },
    {
     "data": {
      "text/html": [
       "\n",
       "    <h1> EDOs lineales de 2o Orden </h1>\n",
       "    <h2> Coeficientes indeterminados: \\( \\phi(x)=Ae^{kx} \\) </h2>\n",
       "    <p> Encuentre la solución \\(u(x)\\) de la siguiente ecuación diferencial\n",
       "    \\(u\\left(x\\right) + \\frac{\\partial^{2}}{(\\partial x)^{2}}u\\left(x\\right) = 8 \\, e^{\\left(-2 \\, x\\right)}\\) con condiciones iniciales \\(u(0)=-2, \\; u'(0)=0\\)\n",
       "    y evalue en el punto dado:</p>\n",
       "    <pre>\n",
       "    u(1.76) = {1:NM:=3.86732953112338:0.116019885933701}\n",
       "    </pre>\n",
       "    "
      ],
      "text/plain": [
       "\n",
       "    <h1> EDOs lineales de 2o Orden </h1>\n",
       "    <h2> Coeficientes indeterminados: \\( \\phi(x)=Ae^{kx} \\) </h2>\n",
       "    <p> Encuentre la solución \\(u(x)\\) de la siguiente ecuación diferencial\n",
       "    \\(u\\left(x\\right) + \\frac{\\partial^{2}}{(\\partial x)^{2}}u\\left(x\\right) = 8 \\, e^{\\left(-2 \\, x\\right)}\\) con condiciones iniciales \\(u(0)=-2, \\; u'(0)=0\\)\n",
       "    y evalue en el punto dado:</p>\n",
       "    <pre>\n",
       "    u(1.76) = {1:NM:=3.86732953112338:0.116019885933701}\n",
       "    </pre>\n",
       "    "
      ]
     },
     "metadata": {},
     "output_type": "display_data"
    },
    {
     "data": {
      "text/html": [
       "\n",
       "    La solución del problema de condiciones iniciales es\n",
       "    \\(u(x)=-\\frac{2}{5} \\, {\\left(9 \\, \\cos\\left(x\\right) e^{\\left(2 \\, x\\right)} - 8 \\, e^{\\left(2 \\, x\\right)} \\sin\\left(x\\right) - 4\\right)} e^{\\left(-2 \\, x\\right)}\\)\n",
       "    "
      ],
      "text/plain": [
       "\n",
       "    La solución del problema de condiciones iniciales es\n",
       "    \\(u(x)=-\\frac{2}{5} \\, {\\left(9 \\, \\cos\\left(x\\right) e^{\\left(2 \\, x\\right)} - 8 \\, e^{\\left(2 \\, x\\right)} \\sin\\left(x\\right) - 4\\right)} e^{\\left(-2 \\, x\\right)}\\)\n",
       "    "
      ]
     },
     "metadata": {},
     "output_type": "display_data"
    },
    {
     "data": {
      "text/html": [
       "\n",
       "    <h1> EDOs lineales de 2o Orden </h1>\n",
       "    <h2> Coeficientes indeterminados: \\( \\phi(x)=Ae^{kx} \\) </h2>\n",
       "    <p> Encuentre la solución \\(u(x)\\) de la siguiente ecuación diferencial\n",
       "    \\(-2 \\, u\\left(x\\right) - \\frac{\\partial}{\\partial x}u\\left(x\\right) + \\frac{\\partial^{2}}{(\\partial x)^{2}}u\\left(x\\right) = -4 \\, e^{\\left(-7 \\, x\\right)}\\) con condiciones iniciales \\(u(0)=1, \\; u'(0)=1\\)\n",
       "    y evalue en el punto dado:</p>\n",
       "    <pre>\n",
       "    u(1.69) = {1:NM:=15.3317990326080:0.459953970978241}\n",
       "    </pre>\n",
       "    "
      ],
      "text/plain": [
       "\n",
       "    <h1> EDOs lineales de 2o Orden </h1>\n",
       "    <h2> Coeficientes indeterminados: \\( \\phi(x)=Ae^{kx} \\) </h2>\n",
       "    <p> Encuentre la solución \\(u(x)\\) de la siguiente ecuación diferencial\n",
       "    \\(-2 \\, u\\left(x\\right) - \\frac{\\partial}{\\partial x}u\\left(x\\right) + \\frac{\\partial^{2}}{(\\partial x)^{2}}u\\left(x\\right) = -4 \\, e^{\\left(-7 \\, x\\right)}\\) con condiciones iniciales \\(u(0)=1, \\; u'(0)=1\\)\n",
       "    y evalue en el punto dado:</p>\n",
       "    <pre>\n",
       "    u(1.69) = {1:NM:=15.3317990326080:0.459953970978241}\n",
       "    </pre>\n",
       "    "
      ]
     },
     "metadata": {},
     "output_type": "display_data"
    },
    {
     "data": {
      "text/html": [
       "\n",
       "    La solución del problema de condiciones iniciales es\n",
       "    \\(u(x)=\\frac{1}{27} \\, {\\left(14 \\, e^{\\left(9 \\, x\\right)} + 15 \\, e^{\\left(6 \\, x\\right)} - 2\\right)} e^{\\left(-7 \\, x\\right)}\\)\n",
       "    "
      ],
      "text/plain": [
       "\n",
       "    La solución del problema de condiciones iniciales es\n",
       "    \\(u(x)=\\frac{1}{27} \\, {\\left(14 \\, e^{\\left(9 \\, x\\right)} + 15 \\, e^{\\left(6 \\, x\\right)} - 2\\right)} e^{\\left(-7 \\, x\\right)}\\)\n",
       "    "
      ]
     },
     "metadata": {},
     "output_type": "display_data"
    },
    {
     "data": {
      "text/html": [
       "\n",
       "    <h1> EDOs lineales de 2o Orden </h1>\n",
       "    <h2> Coeficientes indeterminados: \\( \\phi(x)=Ae^{kx} \\) </h2>\n",
       "    <p> Encuentre la solución \\(u(x)\\) de la siguiente ecuación diferencial\n",
       "    \\(u\\left(x\\right) - 2 \\, \\frac{\\partial}{\\partial x}u\\left(x\\right) + \\frac{\\partial^{2}}{(\\partial x)^{2}}u\\left(x\\right) = -2 \\, e^{\\left(-8 \\, x\\right)}\\) con condiciones iniciales \\(u(0)=-1, \\; u'(0)=1\\)\n",
       "    y evalue en el punto dado:</p>\n",
       "    <pre>\n",
       "    u(1.79) = {1:NM:=13.2182039713953:0.396546119141858}\n",
       "    </pre>\n",
       "    "
      ],
      "text/plain": [
       "\n",
       "    <h1> EDOs lineales de 2o Orden </h1>\n",
       "    <h2> Coeficientes indeterminados: \\( \\phi(x)=Ae^{kx} \\) </h2>\n",
       "    <p> Encuentre la solución \\(u(x)\\) de la siguiente ecuación diferencial\n",
       "    \\(u\\left(x\\right) - 2 \\, \\frac{\\partial}{\\partial x}u\\left(x\\right) + \\frac{\\partial^{2}}{(\\partial x)^{2}}u\\left(x\\right) = -2 \\, e^{\\left(-8 \\, x\\right)}\\) con condiciones iniciales \\(u(0)=-1, \\; u'(0)=1\\)\n",
       "    y evalue en el punto dado:</p>\n",
       "    <pre>\n",
       "    u(1.79) = {1:NM:=13.2182039713953:0.396546119141858}\n",
       "    </pre>\n",
       "    "
      ]
     },
     "metadata": {},
     "output_type": "display_data"
    },
    {
     "data": {
      "text/html": [
       "\n",
       "    La solución del problema de condiciones iniciales es\n",
       "    \\(u(x)=\\frac{1}{81} \\, {\\left({\\left(144 \\, x - 79\\right)} e^{\\left(9 \\, x\\right)} - 2\\right)} e^{\\left(-8 \\, x\\right)}\\)\n",
       "    "
      ],
      "text/plain": [
       "\n",
       "    La solución del problema de condiciones iniciales es\n",
       "    \\(u(x)=\\frac{1}{81} \\, {\\left({\\left(144 \\, x - 79\\right)} e^{\\left(9 \\, x\\right)} - 2\\right)} e^{\\left(-8 \\, x\\right)}\\)\n",
       "    "
      ]
     },
     "metadata": {},
     "output_type": "display_data"
    },
    {
     "data": {
      "text/html": [
       "\n",
       "    <h1> EDOs lineales de 2o Orden </h1>\n",
       "    <h2> Coeficientes indeterminados: \\( \\phi(x)=Ae^{kx} \\) </h2>\n",
       "    <p> Encuentre la solución \\(u(x)\\) de la siguiente ecuación diferencial\n",
       "    \\(-2 \\, u\\left(x\\right) - 2 \\, \\frac{\\partial}{\\partial x}u\\left(x\\right) + \\frac{\\partial^{2}}{(\\partial x)^{2}}u\\left(x\\right) = -10 \\, e^{\\left(-2 \\, x\\right)}\\) con condiciones iniciales \\(u(0)=0, \\; u'(0)=-2\\)\n",
       "    y evalue en el punto dado:</p>\n",
       "    <pre>\n",
       "    u(1.89) = {1:NM:=-206.865019875260:-6.20595059625779}\n",
       "    </pre>\n",
       "    "
      ],
      "text/plain": [
       "\n",
       "    <h1> EDOs lineales de 2o Orden </h1>\n",
       "    <h2> Coeficientes indeterminados: \\( \\phi(x)=Ae^{kx} \\) </h2>\n",
       "    <p> Encuentre la solución \\(u(x)\\) de la siguiente ecuación diferencial\n",
       "    \\(-2 \\, u\\left(x\\right) - 2 \\, \\frac{\\partial}{\\partial x}u\\left(x\\right) + \\frac{\\partial^{2}}{(\\partial x)^{2}}u\\left(x\\right) = -10 \\, e^{\\left(-2 \\, x\\right)}\\) con condiciones iniciales \\(u(0)=0, \\; u'(0)=-2\\)\n",
       "    y evalue en el punto dado:</p>\n",
       "    <pre>\n",
       "    u(1.89) = {1:NM:=-206.865019875260:-6.20595059625779}\n",
       "    </pre>\n",
       "    "
      ]
     },
     "metadata": {},
     "output_type": "display_data"
    },
    {
     "data": {
      "text/html": [
       "\n",
       "    La solución del problema de condiciones iniciales es\n",
       "    \\(u(x)=-\\frac{1}{6} \\, {\\left({\\left(7 \\, \\sqrt{3} - 5\\right)} e^{\\left(2 \\, \\sqrt{3} x + 3 \\, x\\right)} - {\\left(7 \\, \\sqrt{3} + 5\\right)} e^{\\left(3 \\, x\\right)} + 10 \\, e^{\\left(\\sqrt{3} x\\right)}\\right)} e^{\\left(-\\sqrt{3} x - 2 \\, x\\right)}\\)\n",
       "    "
      ],
      "text/plain": [
       "\n",
       "    La solución del problema de condiciones iniciales es\n",
       "    \\(u(x)=-\\frac{1}{6} \\, {\\left({\\left(7 \\, \\sqrt{3} - 5\\right)} e^{\\left(2 \\, \\sqrt{3} x + 3 \\, x\\right)} - {\\left(7 \\, \\sqrt{3} + 5\\right)} e^{\\left(3 \\, x\\right)} + 10 \\, e^{\\left(\\sqrt{3} x\\right)}\\right)} e^{\\left(-\\sqrt{3} x - 2 \\, x\\right)}\\)\n",
       "    "
      ]
     },
     "metadata": {},
     "output_type": "display_data"
    },
    {
     "data": {
      "text/html": [
       "\n",
       "    <h1> EDOs lineales de 2o Orden </h1>\n",
       "    <h2> Coeficientes indeterminados: \\( \\phi(x)=Ae^{kx} \\) </h2>\n",
       "    <p> Encuentre la solución \\(u(x)\\) de la siguiente ecuación diferencial\n",
       "    \\(-u\\left(x\\right) - \\frac{\\partial}{\\partial x}u\\left(x\\right) + \\frac{\\partial^{2}}{(\\partial x)^{2}}u\\left(x\\right) = 7 \\, e^{\\left(9 \\, x\\right)}\\) con condiciones iniciales \\(u(0)=-1, \\; u'(0)=2\\)\n",
       "    y evalue en el punto dado:</p>\n",
       "    <pre>\n",
       "    u(1.4) = {1:NM:=29239.4928348011:877.184785044032}\n",
       "    </pre>\n",
       "    "
      ],
      "text/plain": [
       "\n",
       "    <h1> EDOs lineales de 2o Orden </h1>\n",
       "    <h2> Coeficientes indeterminados: \\( \\phi(x)=Ae^{kx} \\) </h2>\n",
       "    <p> Encuentre la solución \\(u(x)\\) de la siguiente ecuación diferencial\n",
       "    \\(-u\\left(x\\right) - \\frac{\\partial}{\\partial x}u\\left(x\\right) + \\frac{\\partial^{2}}{(\\partial x)^{2}}u\\left(x\\right) = 7 \\, e^{\\left(9 \\, x\\right)}\\) con condiciones iniciales \\(u(0)=-1, \\; u'(0)=2\\)\n",
       "    y evalue en el punto dado:</p>\n",
       "    <pre>\n",
       "    u(1.4) = {1:NM:=29239.4928348011:877.184785044032}\n",
       "    </pre>\n",
       "    "
      ]
     },
     "metadata": {},
     "output_type": "display_data"
    },
    {
     "data": {
      "text/html": [
       "\n",
       "    La solución del problema de condiciones iniciales es\n",
       "    \\(u(x)=\\frac{1}{355} \\, {\\left({\\left(118 \\, \\sqrt{5} - 195\\right)} e^{\\left(\\sqrt{5} x + \\frac{1}{2} \\, x\\right)} - {\\left(118 \\, \\sqrt{5} + 195\\right)} e^{\\left(\\frac{1}{2} \\, x\\right)} + 35 \\, e^{\\left(\\frac{1}{2} \\, \\sqrt{5} x + 9 \\, x\\right)}\\right)} e^{\\left(-\\frac{1}{2} \\, \\sqrt{5} x\\right)}\\)\n",
       "    "
      ],
      "text/plain": [
       "\n",
       "    La solución del problema de condiciones iniciales es\n",
       "    \\(u(x)=\\frac{1}{355} \\, {\\left({\\left(118 \\, \\sqrt{5} - 195\\right)} e^{\\left(\\sqrt{5} x + \\frac{1}{2} \\, x\\right)} - {\\left(118 \\, \\sqrt{5} + 195\\right)} e^{\\left(\\frac{1}{2} \\, x\\right)} + 35 \\, e^{\\left(\\frac{1}{2} \\, \\sqrt{5} x + 9 \\, x\\right)}\\right)} e^{\\left(-\\frac{1}{2} \\, \\sqrt{5} x\\right)}\\)\n",
       "    "
      ]
     },
     "metadata": {},
     "output_type": "display_data"
    },
    {
     "data": {
      "text/html": [
       "\n",
       "    <h1> EDOs lineales de 2o Orden </h1>\n",
       "    <h2> Coeficientes indeterminados: \\( \\phi(x)=Ae^{kx} \\) </h2>\n",
       "    <p> Encuentre la solución \\(u(x)\\) de la siguiente ecuación diferencial\n",
       "    \\(2 \\, u\\left(x\\right) - \\frac{\\partial}{\\partial x}u\\left(x\\right) + \\frac{\\partial^{2}}{(\\partial x)^{2}}u\\left(x\\right) = -2 \\, e^{\\left(4 \\, x\\right)}\\) con condiciones iniciales \\(u(0)=1, \\; u'(0)=0\\)\n",
       "    y evalue en el punto dado:</p>\n",
       "    <pre>\n",
       "    u(1.35) = {1:NM:=-32.1085577810448:-0.963256733431345}\n",
       "    </pre>\n",
       "    "
      ],
      "text/plain": [
       "\n",
       "    <h1> EDOs lineales de 2o Orden </h1>\n",
       "    <h2> Coeficientes indeterminados: \\( \\phi(x)=Ae^{kx} \\) </h2>\n",
       "    <p> Encuentre la solución \\(u(x)\\) de la siguiente ecuación diferencial\n",
       "    \\(2 \\, u\\left(x\\right) - \\frac{\\partial}{\\partial x}u\\left(x\\right) + \\frac{\\partial^{2}}{(\\partial x)^{2}}u\\left(x\\right) = -2 \\, e^{\\left(4 \\, x\\right)}\\) con condiciones iniciales \\(u(0)=1, \\; u'(0)=0\\)\n",
       "    y evalue en el punto dado:</p>\n",
       "    <pre>\n",
       "    u(1.35) = {1:NM:=-32.1085577810448:-0.963256733431345}\n",
       "    </pre>\n",
       "    "
      ]
     },
     "metadata": {},
     "output_type": "display_data"
    },
    {
     "data": {
      "text/html": [
       "\n",
       "    La solución del problema de condiciones iniciales es\n",
       "    \\(u(x)=\\frac{8}{7} \\, \\cos\\left(\\frac{1}{2} \\, \\sqrt{7} x\\right) e^{\\left(\\frac{1}{2} \\, x\\right)} - \\frac{1}{7} \\, e^{\\left(4 \\, x\\right)}\\)\n",
       "    "
      ],
      "text/plain": [
       "\n",
       "    La solución del problema de condiciones iniciales es\n",
       "    \\(u(x)=\\frac{8}{7} \\, \\cos\\left(\\frac{1}{2} \\, \\sqrt{7} x\\right) e^{\\left(\\frac{1}{2} \\, x\\right)} - \\frac{1}{7} \\, e^{\\left(4 \\, x\\right)}\\)\n",
       "    "
      ]
     },
     "metadata": {},
     "output_type": "display_data"
    },
    {
     "name": "stdout",
     "output_type": "stream",
     "text": [
      "--------------------------------\n",
      "Done: 2018-03-27 22:45:19.500193\n",
      "Folder: P205_edo2_ekx\n",
      "Filename: P205_edo2_ekx-1522212319.5.xml\n",
      "#exes: 225\n"
     ]
    }
   ],
   "source": [
    "np.random.seed(123)\n",
    "me.quick(gen, label, 15*15, impr=True)"
   ]
  }
 ],
 "metadata": {
  "kernelspec": {
   "display_name": "SageMath 7.5.1",
   "language": "",
   "name": "sagemath"
  },
  "language_info": {
   "codemirror_mode": {
    "name": "ipython",
    "version": 2
   },
   "file_extension": ".py",
   "mimetype": "text/x-python",
   "name": "python",
   "nbconvert_exporter": "python",
   "pygments_lexer": "ipython2",
   "version": "2.7.13"
  }
 },
 "nbformat": 4,
 "nbformat_minor": 0
}
