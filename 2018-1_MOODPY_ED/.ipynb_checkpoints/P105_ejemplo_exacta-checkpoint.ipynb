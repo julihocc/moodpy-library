{
 "cells": [
  {
   "cell_type": "code",
   "execution_count": 28,
   "metadata": {
    "collapsed": false
   },
   "outputs": [],
   "source": [
    "import numpy as np\n",
    "import moodpy01 as me"
   ]
  },
  {
   "cell_type": "code",
   "execution_count": 29,
   "metadata": {
    "collapsed": false
   },
   "outputs": [
    {
     "data": {
      "text/html": [
       "<html><script type=\"math/tex; mode=display\">\\newcommand{\\Bold}[1]{\\mathbf{#1}}\\verb|P104_curva_logistica|</script></html>"
      ],
      "text/plain": [
       "'P104_curva_logistica'"
      ]
     },
     "metadata": {},
     "output_type": "display_data"
    },
    {
     "name": "stdout",
     "output_type": "stream",
     "text": [
      "\n",
      "    <questiontext format=\"html\">\n",
      "<text>\n",
      "<![CDATA[\n",
      "\n",
      "    <h1> Ecuaciones diferenciales ordinarias </h1>\n",
      "    <h2> Caso separable: Curva logística </h2>\n",
      "    <p>\n",
      "    Encuentre la solución \\(y(x)\\) de la siguiente ecuación diferencial separable \n",
      "    $$\\frac{ dy }{ dx }= -0.0067 \\, {\\left(y - 88\\right)} y$$ \n",
      "    con condición inicial \\(x_0=0.42,y_0=12.1460104791\\). \n",
      "    </p>\n",
      "    <h3> Control </h3>\n",
      "    <p> Verifique su respuesta evaluando en el punto dado:</p>\n",
      "    <p>\n",
      "    \\(y(0.5587)=\\){1:NM:=13.0277980102636:0.390833940307908}\n",
      "    </p>\n",
      "    \n",
      "]]>\n",
      "</text></questiontext>\n",
      "\n",
      "    <generalfeedback format=\"html\">\n",
      "<text>\n",
      "<![CDATA[\n",
      "\n",
      "    La solución del problema de valor inicial está dada por \n",
      "    $$ y= \\frac{88}{8 \\, e^{\\left(-0.5896 \\, x\\right)} + 1}. $$\n",
      "    \n",
      "    La gráfica de esta función se conoce como <em> curva logistica. </em>\n",
      "    \n",
      "]]>\n",
      "</text></generalfeedback>\n",
      "\n",
      "    \n"
     ]
    }
   ],
   "source": [
    "def gen(impr):\n",
    "    x,y = var(\"x,y\")    \n",
    "    \n",
    "    while True:\n",
    "        U = np.random.poisson(100)\n",
    "        B = np.random.poisson(9)\n",
    "        a = np.random.random()\n",
    "        a = np.around(a,2)/100\n",
    "        if a>0 and U>a and B>0:\n",
    "            u(x) = U/(1+B*exp(-U*a*x))\n",
    "            break    \n",
    "    \n",
    "    f(x,y) = a*y*(U-y)\n",
    "     \n",
    "    while True:\n",
    "        x0 = np.around(np.random.random(),2)\n",
    "        if x0>0:\n",
    "            break\n",
    "    y0 = u(x0)\n",
    "    \n",
    "    data = {\"x0\":latex(x0), \"y0\":latex(y0)}\n",
    "    \n",
    "    tex = {}\n",
    "    tex[\"ode\"] = \"\\\\frac{ dy }{ dx }=\"+latex(f(x,y))\n",
    "    tex[\"ics\"] = \"x_0={s[x0]},y_0={s[y0]}\".format(s=data)\n",
    "    \n",
    "    while True:\n",
    "        x1 = np.around(np.random.random(),4)\n",
    "        if x1>0:\n",
    "            break\n",
    "    y1 = u(x1).n()\n",
    "    \n",
    "    ans = {\"x1\":x1, \"y1\":me.NM(y1)}\n",
    "    tex[\"sol\"] = \"y=\"+latex(u(x))\n",
    "    \n",
    "    ejercicio = \"\"\"\n",
    "    <h1> Ecuaciones diferenciales ordinarias </h1>\n",
    "    <h2> Caso separable: Curva logística </h2>\n",
    "    <p>\n",
    "    Encuentre la solución \\(y(x)\\) de la siguiente ecuación diferencial separable \n",
    "    $${tex[ode]}$$ \n",
    "    con condición inicial \\({tex[ics]}\\). \n",
    "    </p>\n",
    "    <h3> Control </h3>\n",
    "    <p> Verifique su respuesta evaluando en el punto dado:</p>\n",
    "    <p>\n",
    "    \\(y({a[x1]})=\\){a[y1]}\n",
    "    </p>\n",
    "    \"\"\".format(tex=tex, a=ans)\n",
    "    \n",
    "    retroalimentacion = \"\"\"\n",
    "    La solución del problema de valor inicial está dada por \n",
    "    $$ {tex[sol]}. $$\n",
    "    \n",
    "    La gráfica de esta función se conoce como <em> curva logistica. </em>\n",
    "    \"\"\".format(tex=tex)\n",
    "    return me.pretty(ejercicio, retroalimentacion)\n",
    "\n",
    "np.random.seed(1)\n",
    "label = \"P104_curva_logistica\"\n",
    "show(label)\n",
    "me.quick(gen, label, 0, impr=True)"
   ]
  },
  {
   "cell_type": "code",
   "execution_count": 30,
   "metadata": {
    "collapsed": false
   },
   "outputs": [
    {
     "name": "stdout",
     "output_type": "stream",
     "text": [
      "--------------------------------\n",
      "Done: 2018-02-20 20:02:58.399265\n",
      "Folder: P104_curva_logistica\n",
      "Filename: P104_curva_logistica-1519178578.4.xml\n",
      "#exes: 5\n"
     ]
    }
   ],
   "source": [
    "np.random.seed(12)\n",
    "me.quick(gen, label, 5)"
   ]
  },
  {
   "cell_type": "code",
   "execution_count": 31,
   "metadata": {
    "collapsed": false
   },
   "outputs": [
    {
     "name": "stdout",
     "output_type": "stream",
     "text": [
      "--------------------------------\n",
      "Done: 2018-02-20 20:02:59.011312\n",
      "Folder: P104_curva_logistica\n",
      "Filename: P104_curva_logistica-1519178579.01.xml\n",
      "#exes: 120\n"
     ]
    }
   ],
   "source": [
    "np.random.seed(123)\n",
    "me.quick(gen, label, 10*12)"
   ]
  }
 ],
 "metadata": {
  "kernelspec": {
   "display_name": "SageMath 7.5.1",
   "language": "",
   "name": "sagemath"
  },
  "language_info": {
   "codemirror_mode": {
    "name": "ipython",
    "version": 2
   },
   "file_extension": ".py",
   "mimetype": "text/x-python",
   "name": "python",
   "nbconvert_exporter": "python",
   "pygments_lexer": "ipython2",
   "version": "2.7.13"
  }
 },
 "nbformat": 4,
 "nbformat_minor": 0
}
