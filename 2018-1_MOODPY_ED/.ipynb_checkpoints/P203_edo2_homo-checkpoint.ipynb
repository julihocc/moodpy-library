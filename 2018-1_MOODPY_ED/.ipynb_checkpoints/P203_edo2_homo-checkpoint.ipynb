{
 "cells": [
  {
   "cell_type": "code",
   "execution_count": 43,
   "metadata": {
    "collapsed": false
   },
   "outputs": [],
   "source": [
    "import numpy as np\n",
    "import moodpy02 as me"
   ]
  },
  {
   "cell_type": "code",
   "execution_count": 44,
   "metadata": {
    "collapsed": false,
    "scrolled": true
   },
   "outputs": [
    {
     "data": {
      "text/html": [
       "<h1>P203_edo2_homo</h1>"
      ],
      "text/plain": [
       "<h1>P203_edo2_homo</h1>"
      ]
     },
     "metadata": {},
     "output_type": "display_data"
    },
    {
     "data": {
      "text/html": [
       "\n",
       "    <h1> EDOs lineales de 2o Orden </h1>\n",
       "    <h2> Caso homogeneo </h2>\n",
       "    <p> Encuentre la solución \\(u(x)\\) de la siguiente ecuación diferencial\n",
       "    \\(u\\left(x\\right) - 5 \\, \\frac{\\partial}{\\partial x}u\\left(x\\right) + \\frac{\\partial^{2}}{(\\partial x)^{2}}u\\left(x\\right) = 0\\) con condiciones iniciales \\(u(0)=-1, \\; u'(0)=-1\\)\n",
       "    y evalue en el punto dado:</p>\n",
       "    <pre>\n",
       "    u(1.72) = {1:NM:=-656.201114675059:-19.6860334402518}\n",
       "    </pre>\n",
       "    "
      ],
      "text/plain": [
       "\n",
       "    <h1> EDOs lineales de 2o Orden </h1>\n",
       "    <h2> Caso homogeneo </h2>\n",
       "    <p> Encuentre la solución \\(u(x)\\) de la siguiente ecuación diferencial\n",
       "    \\(u\\left(x\\right) - 5 \\, \\frac{\\partial}{\\partial x}u\\left(x\\right) + \\frac{\\partial^{2}}{(\\partial x)^{2}}u\\left(x\\right) = 0\\) con condiciones iniciales \\(u(0)=-1, \\; u'(0)=-1\\)\n",
       "    y evalue en el punto dado:</p>\n",
       "    <pre>\n",
       "    u(1.72) = {1:NM:=-656.201114675059:-19.6860334402518}\n",
       "    </pre>\n",
       "    "
      ]
     },
     "metadata": {},
     "output_type": "display_data"
    },
    {
     "data": {
      "text/html": [
       "\n",
       "    La solución del problema de condiciones iniciales es\n",
       "    \\(u(x)=\\frac{1}{14} \\, {\\left(\\sqrt{21} e^{\\left(\\sqrt{21} x\\right)} - \\sqrt{21} - 7 \\, e^{\\left(\\sqrt{21} x\\right)} - 7\\right)} e^{\\left(-\\frac{1}{2} \\, \\sqrt{21} x + \\frac{5}{2} \\, x\\right)}\\)\n",
       "    "
      ],
      "text/plain": [
       "\n",
       "    La solución del problema de condiciones iniciales es\n",
       "    \\(u(x)=\\frac{1}{14} \\, {\\left(\\sqrt{21} e^{\\left(\\sqrt{21} x\\right)} - \\sqrt{21} - 7 \\, e^{\\left(\\sqrt{21} x\\right)} - 7\\right)} e^{\\left(-\\frac{1}{2} \\, \\sqrt{21} x + \\frac{5}{2} \\, x\\right)}\\)\n",
       "    "
      ]
     },
     "metadata": {},
     "output_type": "display_data"
    },
    {
     "name": "stdout",
     "output_type": "stream",
     "text": [
      "\n",
      "    <questiontext format=\"html\">\n",
      "<text>\n",
      "<![CDATA[\n",
      "\n",
      "    <h1> EDOs lineales de 2o Orden </h1>\n",
      "    <h2> Caso homogeneo </h2>\n",
      "    <p> Encuentre la solución \\(u(x)\\) de la siguiente ecuación diferencial\n",
      "    \\(u\\left(x\\right) - 5 \\, \\frac{\\partial}{\\partial x}u\\left(x\\right) + \\frac{\\partial^{2}}{(\\partial x)^{2}}u\\left(x\\right) = 0\\) con condiciones iniciales \\(u(0)=-1, \\; u'(0)=-1\\)\n",
      "    y evalue en el punto dado:</p>\n",
      "    <pre>\n",
      "    u(1.72) = {1:NM:=-656.201114675059:-19.6860334402518}\n",
      "    </pre>\n",
      "    \n",
      "]]>\n",
      "</text></questiontext>\n",
      "\n",
      "    <generalfeedback format=\"html\">\n",
      "<text>\n",
      "<![CDATA[\n",
      "\n",
      "    La solución del problema de condiciones iniciales es\n",
      "    \\(u(x)=\\frac{1}{14} \\, {\\left(\\sqrt{21} e^{\\left(\\sqrt{21} x\\right)} - \\sqrt{21} - 7 \\, e^{\\left(\\sqrt{21} x\\right)} - 7\\right)} e^{\\left(-\\frac{1}{2} \\, \\sqrt{21} x + \\frac{5}{2} \\, x\\right)}\\)\n",
      "    \n",
      "]]>\n",
      "</text></generalfeedback>\n",
      "\n",
      "    \n"
     ]
    }
   ],
   "source": [
    "def gen(impr):\n",
    "    \n",
    "    tex = {}\n",
    "    data = {}\n",
    "    ans = {}\n",
    "    \n",
    "    x = var(\"x\")\n",
    "    u = function(\"u\")(x)\n",
    "    b,c= np.random.randint(-10,10,size=2)\n",
    "    L = u.diff(x,2)(x)+b*u.diff(x)(x)+c*u(x)\n",
    "    phi(x)=0\n",
    "    ode = L==phi(x)\n",
    "    tex[\"ode\"] = latex(ode)\n",
    "    x1 = 1 + np.around(np.random.random(), 2)\n",
    "    data[\"x1\"] = x1\n",
    "    while True:\n",
    "        y0,y00 = np.random.randint(-1,2,size=2)\n",
    "        if y0!=0 or y00!=0:\n",
    "            break\n",
    "    myics = [0,y0,y00]\n",
    "    tex[\"y0\"] = \"u(0)={}\".format(y0)\n",
    "    tex[\"y00\"] = \"u'(0)={}\".format(y00)\n",
    "    f(x) = desolve(ode,u, ics=myics)\n",
    "    if f(x)!=0:\n",
    "        f(x) = f(x).simplify_full().factor()\n",
    "    ans[\"f1\"] = me.NM(f(x1).n())\n",
    "    \n",
    "    tex[\"y\"] = latex(f(x))\n",
    "        \n",
    "    ejercicio = \"\"\"\n",
    "    <h1> EDOs lineales de 2o Orden </h1>\n",
    "    <h2> Caso homogéneo </h2>\n",
    "    <p> Encuentre la solución \\(u(x)\\) de la siguiente ecuación diferencial\n",
    "    \\({tex[ode]}\\) con condiciones iniciales \\({tex[y0]}, \\; {tex[y00]}\\)\n",
    "    y evalue en el punto dado:</p>\n",
    "    <pre>\n",
    "    u({data[x1]}) = {ans[f1]}\n",
    "    </pre>\n",
    "    \"\"\".format(tex=tex, data=data, ans=ans)\n",
    "    \n",
    "    retroalimentacion = \"\"\"\n",
    "    La solución del problema de condiciones iniciales es\n",
    "    \\(u(x)={tex[y]}\\)\n",
    "    \"\"\".format(tex=tex, data=data, ans=ans)\n",
    "            \n",
    "    if impr:\n",
    "        show(html(ejercicio))\n",
    "        show(html(retroalimentacion))\n",
    "    \n",
    "    return me.pretty(ejercicio, retroalimentacion)\n",
    "\n",
    "np.random.seed(1)\n",
    "label = \"P203_edo2_homo\"\n",
    "show(html(\"<h1>\"+label+\"</h1>\"))\n",
    "me.quick(gen, label, 0, impr=True)"
   ]
  },
  {
   "cell_type": "code",
   "execution_count": 45,
   "metadata": {
    "collapsed": false,
    "scrolled": true
   },
   "outputs": [
    {
     "data": {
      "text/html": [
       "\n",
       "    <h1> EDOs lineales de 2o Orden </h1>\n",
       "    <h2> Caso homogeneo </h2>\n",
       "    <p> Encuentre la solución \\(u(x)\\) de la siguiente ecuación diferencial\n",
       "    \\(-4 \\, u\\left(x\\right) + \\frac{\\partial}{\\partial x}u\\left(x\\right) + \\frac{\\partial^{2}}{(\\partial x)^{2}}u\\left(x\\right) = 0\\) con condiciones iniciales \\(u(0)=1, \\; u'(0)=-1\\)\n",
       "    y evalue en el punto dado:</p>\n",
       "    <pre>\n",
       "    u(1.87) = {1:NM:=7.02807474386814:0.210842242316044}\n",
       "    </pre>\n",
       "    "
      ],
      "text/plain": [
       "\n",
       "    <h1> EDOs lineales de 2o Orden </h1>\n",
       "    <h2> Caso homogeneo </h2>\n",
       "    <p> Encuentre la solución \\(u(x)\\) de la siguiente ecuación diferencial\n",
       "    \\(-4 \\, u\\left(x\\right) + \\frac{\\partial}{\\partial x}u\\left(x\\right) + \\frac{\\partial^{2}}{(\\partial x)^{2}}u\\left(x\\right) = 0\\) con condiciones iniciales \\(u(0)=1, \\; u'(0)=-1\\)\n",
       "    y evalue en el punto dado:</p>\n",
       "    <pre>\n",
       "    u(1.87) = {1:NM:=7.02807474386814:0.210842242316044}\n",
       "    </pre>\n",
       "    "
      ]
     },
     "metadata": {},
     "output_type": "display_data"
    },
    {
     "data": {
      "text/html": [
       "\n",
       "    La solución del problema de condiciones iniciales es\n",
       "    \\(u(x)=-\\frac{1}{34} \\, {\\left(\\sqrt{17} e^{\\left(\\sqrt{17} x\\right)} - \\sqrt{17} - 17 \\, e^{\\left(\\sqrt{17} x\\right)} - 17\\right)} e^{\\left(-\\frac{1}{2} \\, \\sqrt{17} x - \\frac{1}{2} \\, x\\right)}\\)\n",
       "    "
      ],
      "text/plain": [
       "\n",
       "    La solución del problema de condiciones iniciales es\n",
       "    \\(u(x)=-\\frac{1}{34} \\, {\\left(\\sqrt{17} e^{\\left(\\sqrt{17} x\\right)} - \\sqrt{17} - 17 \\, e^{\\left(\\sqrt{17} x\\right)} - 17\\right)} e^{\\left(-\\frac{1}{2} \\, \\sqrt{17} x - \\frac{1}{2} \\, x\\right)}\\)\n",
       "    "
      ]
     },
     "metadata": {},
     "output_type": "display_data"
    },
    {
     "data": {
      "text/html": [
       "\n",
       "    <h1> EDOs lineales de 2o Orden </h1>\n",
       "    <h2> Caso homogeneo </h2>\n",
       "    <p> Encuentre la solución \\(u(x)\\) de la siguiente ecuación diferencial\n",
       "    \\(7 \\, u\\left(x\\right) + 6 \\, \\frac{\\partial}{\\partial x}u\\left(x\\right) + \\frac{\\partial^{2}}{(\\partial x)^{2}}u\\left(x\\right) = 0\\) con condiciones iniciales \\(u(0)=1, \\; u'(0)=1\\)\n",
       "    y evalue en el punto dado:</p>\n",
       "    <pre>\n",
       "    u(1.9) = {1:NM:=0.0938644369246860:0.00281593310774058}\n",
       "    </pre>\n",
       "    "
      ],
      "text/plain": [
       "\n",
       "    <h1> EDOs lineales de 2o Orden </h1>\n",
       "    <h2> Caso homogeneo </h2>\n",
       "    <p> Encuentre la solución \\(u(x)\\) de la siguiente ecuación diferencial\n",
       "    \\(7 \\, u\\left(x\\right) + 6 \\, \\frac{\\partial}{\\partial x}u\\left(x\\right) + \\frac{\\partial^{2}}{(\\partial x)^{2}}u\\left(x\\right) = 0\\) con condiciones iniciales \\(u(0)=1, \\; u'(0)=1\\)\n",
       "    y evalue en el punto dado:</p>\n",
       "    <pre>\n",
       "    u(1.9) = {1:NM:=0.0938644369246860:0.00281593310774058}\n",
       "    </pre>\n",
       "    "
      ]
     },
     "metadata": {},
     "output_type": "display_data"
    },
    {
     "data": {
      "text/html": [
       "\n",
       "    La solución del problema de condiciones iniciales es\n",
       "    \\(u(x)=\\frac{1}{2} \\, {\\left(2 \\, \\sqrt{2} e^{\\left(2 \\, \\sqrt{2} x\\right)} - 2 \\, \\sqrt{2} + e^{\\left(2 \\, \\sqrt{2} x\\right)} + 1\\right)} e^{\\left(-\\sqrt{2} x - 3 \\, x\\right)}\\)\n",
       "    "
      ],
      "text/plain": [
       "\n",
       "    La solución del problema de condiciones iniciales es\n",
       "    \\(u(x)=\\frac{1}{2} \\, {\\left(2 \\, \\sqrt{2} e^{\\left(2 \\, \\sqrt{2} x\\right)} - 2 \\, \\sqrt{2} + e^{\\left(2 \\, \\sqrt{2} x\\right)} + 1\\right)} e^{\\left(-\\sqrt{2} x - 3 \\, x\\right)}\\)\n",
       "    "
      ]
     },
     "metadata": {},
     "output_type": "display_data"
    },
    {
     "data": {
      "text/html": [
       "\n",
       "    <h1> EDOs lineales de 2o Orden </h1>\n",
       "    <h2> Caso homogeneo </h2>\n",
       "    <p> Encuentre la solución \\(u(x)\\) de la siguiente ecuación diferencial\n",
       "    \\(-10 \\, u\\left(x\\right) + \\frac{\\partial^{2}}{(\\partial x)^{2}}u\\left(x\\right) = 0\\) con condiciones iniciales \\(u(0)=-1, \\; u'(0)=0\\)\n",
       "    y evalue en el punto dado:</p>\n",
       "    <pre>\n",
       "    u(1.68) = {1:NM:=-101.443661261308:-3.04330983783923}\n",
       "    </pre>\n",
       "    "
      ],
      "text/plain": [
       "\n",
       "    <h1> EDOs lineales de 2o Orden </h1>\n",
       "    <h2> Caso homogeneo </h2>\n",
       "    <p> Encuentre la solución \\(u(x)\\) de la siguiente ecuación diferencial\n",
       "    \\(-10 \\, u\\left(x\\right) + \\frac{\\partial^{2}}{(\\partial x)^{2}}u\\left(x\\right) = 0\\) con condiciones iniciales \\(u(0)=-1, \\; u'(0)=0\\)\n",
       "    y evalue en el punto dado:</p>\n",
       "    <pre>\n",
       "    u(1.68) = {1:NM:=-101.443661261308:-3.04330983783923}\n",
       "    </pre>\n",
       "    "
      ]
     },
     "metadata": {},
     "output_type": "display_data"
    },
    {
     "data": {
      "text/html": [
       "\n",
       "    La solución del problema de condiciones iniciales es\n",
       "    \\(u(x)=-\\frac{1}{2} \\, {\\left(e^{\\left(2 \\, \\sqrt{10} x\\right)} + 1\\right)} e^{\\left(-\\sqrt{10} x\\right)}\\)\n",
       "    "
      ],
      "text/plain": [
       "\n",
       "    La solución del problema de condiciones iniciales es\n",
       "    \\(u(x)=-\\frac{1}{2} \\, {\\left(e^{\\left(2 \\, \\sqrt{10} x\\right)} + 1\\right)} e^{\\left(-\\sqrt{10} x\\right)}\\)\n",
       "    "
      ]
     },
     "metadata": {},
     "output_type": "display_data"
    },
    {
     "data": {
      "text/html": [
       "\n",
       "    <h1> EDOs lineales de 2o Orden </h1>\n",
       "    <h2> Caso homogeneo </h2>\n",
       "    <p> Encuentre la solución \\(u(x)\\) de la siguiente ecuación diferencial\n",
       "    \\(-7 \\, u\\left(x\\right) + 8 \\, \\frac{\\partial}{\\partial x}u\\left(x\\right) + \\frac{\\partial^{2}}{(\\partial x)^{2}}u\\left(x\\right) = 0\\) con condiciones iniciales \\(u(0)=0, \\; u'(0)=1\\)\n",
       "    y evalue en el punto dado:</p>\n",
       "    <pre>\n",
       "    u(1.0) = {1:NM:=0.231047707619616:0.00693143122858847}\n",
       "    </pre>\n",
       "    "
      ],
      "text/plain": [
       "\n",
       "    <h1> EDOs lineales de 2o Orden </h1>\n",
       "    <h2> Caso homogeneo </h2>\n",
       "    <p> Encuentre la solución \\(u(x)\\) de la siguiente ecuación diferencial\n",
       "    \\(-7 \\, u\\left(x\\right) + 8 \\, \\frac{\\partial}{\\partial x}u\\left(x\\right) + \\frac{\\partial^{2}}{(\\partial x)^{2}}u\\left(x\\right) = 0\\) con condiciones iniciales \\(u(0)=0, \\; u'(0)=1\\)\n",
       "    y evalue en el punto dado:</p>\n",
       "    <pre>\n",
       "    u(1.0) = {1:NM:=0.231047707619616:0.00693143122858847}\n",
       "    </pre>\n",
       "    "
      ]
     },
     "metadata": {},
     "output_type": "display_data"
    },
    {
     "data": {
      "text/html": [
       "\n",
       "    La solución del problema de condiciones iniciales es\n",
       "    \\(u(x)=\\frac{1}{46} \\, \\sqrt{23} {\\left(e^{\\left(\\sqrt{23} x\\right)} + 1\\right)} {\\left(e^{\\left(\\sqrt{23} x\\right)} - 1\\right)} e^{\\left(-\\sqrt{23} x - 4 \\, x\\right)}\\)\n",
       "    "
      ],
      "text/plain": [
       "\n",
       "    La solución del problema de condiciones iniciales es\n",
       "    \\(u(x)=\\frac{1}{46} \\, \\sqrt{23} {\\left(e^{\\left(\\sqrt{23} x\\right)} + 1\\right)} {\\left(e^{\\left(\\sqrt{23} x\\right)} - 1\\right)} e^{\\left(-\\sqrt{23} x - 4 \\, x\\right)}\\)\n",
       "    "
      ]
     },
     "metadata": {},
     "output_type": "display_data"
    },
    {
     "data": {
      "text/html": [
       "\n",
       "    <h1> EDOs lineales de 2o Orden </h1>\n",
       "    <h2> Caso homogeneo </h2>\n",
       "    <p> Encuentre la solución \\(u(x)\\) de la siguiente ecuación diferencial\n",
       "    \\(8 \\, u\\left(x\\right) - 10 \\, \\frac{\\partial}{\\partial x}u\\left(x\\right) + \\frac{\\partial^{2}}{(\\partial x)^{2}}u\\left(x\\right) = 0\\) con condiciones iniciales \\(u(0)=-1, \\; u'(0)=-1\\)\n",
       "    y evalue en el punto dado:</p>\n",
       "    <pre>\n",
       "    u(1.96) = {1:NM:=-870503.394588307:-26115.1018376492}\n",
       "    </pre>\n",
       "    "
      ],
      "text/plain": [
       "\n",
       "    <h1> EDOs lineales de 2o Orden </h1>\n",
       "    <h2> Caso homogeneo </h2>\n",
       "    <p> Encuentre la solución \\(u(x)\\) de la siguiente ecuación diferencial\n",
       "    \\(8 \\, u\\left(x\\right) - 10 \\, \\frac{\\partial}{\\partial x}u\\left(x\\right) + \\frac{\\partial^{2}}{(\\partial x)^{2}}u\\left(x\\right) = 0\\) con condiciones iniciales \\(u(0)=-1, \\; u'(0)=-1\\)\n",
       "    y evalue en el punto dado:</p>\n",
       "    <pre>\n",
       "    u(1.96) = {1:NM:=-870503.394588307:-26115.1018376492}\n",
       "    </pre>\n",
       "    "
      ]
     },
     "metadata": {},
     "output_type": "display_data"
    },
    {
     "data": {
      "text/html": [
       "\n",
       "    La solución del problema de condiciones iniciales es\n",
       "    \\(u(x)=\\frac{1}{34} \\, {\\left(4 \\, \\sqrt{17} e^{\\left(2 \\, \\sqrt{17} x\\right)} - 4 \\, \\sqrt{17} - 17 \\, e^{\\left(2 \\, \\sqrt{17} x\\right)} - 17\\right)} e^{\\left(-\\sqrt{17} x + 5 \\, x\\right)}\\)\n",
       "    "
      ],
      "text/plain": [
       "\n",
       "    La solución del problema de condiciones iniciales es\n",
       "    \\(u(x)=\\frac{1}{34} \\, {\\left(4 \\, \\sqrt{17} e^{\\left(2 \\, \\sqrt{17} x\\right)} - 4 \\, \\sqrt{17} - 17 \\, e^{\\left(2 \\, \\sqrt{17} x\\right)} - 17\\right)} e^{\\left(-\\sqrt{17} x + 5 \\, x\\right)}\\)\n",
       "    "
      ]
     },
     "metadata": {},
     "output_type": "display_data"
    },
    {
     "data": {
      "text/html": [
       "\n",
       "    <h1> EDOs lineales de 2o Orden </h1>\n",
       "    <h2> Caso homogeneo </h2>\n",
       "    <p> Encuentre la solución \\(u(x)\\) de la siguiente ecuación diferencial\n",
       "    \\(3 \\, u\\left(x\\right) - 4 \\, \\frac{\\partial}{\\partial x}u\\left(x\\right) + \\frac{\\partial^{2}}{(\\partial x)^{2}}u\\left(x\\right) = 0\\) con condiciones iniciales \\(u(0)=1, \\; u'(0)=-1\\)\n",
       "    y evalue en el punto dado:</p>\n",
       "    <pre>\n",
       "    u(1.14) = {1:NM:=-24.3158782906779:-0.729476348720337}\n",
       "    </pre>\n",
       "    "
      ],
      "text/plain": [
       "\n",
       "    <h1> EDOs lineales de 2o Orden </h1>\n",
       "    <h2> Caso homogeneo </h2>\n",
       "    <p> Encuentre la solución \\(u(x)\\) de la siguiente ecuación diferencial\n",
       "    \\(3 \\, u\\left(x\\right) - 4 \\, \\frac{\\partial}{\\partial x}u\\left(x\\right) + \\frac{\\partial^{2}}{(\\partial x)^{2}}u\\left(x\\right) = 0\\) con condiciones iniciales \\(u(0)=1, \\; u'(0)=-1\\)\n",
       "    y evalue en el punto dado:</p>\n",
       "    <pre>\n",
       "    u(1.14) = {1:NM:=-24.3158782906779:-0.729476348720337}\n",
       "    </pre>\n",
       "    "
      ]
     },
     "metadata": {},
     "output_type": "display_data"
    },
    {
     "data": {
      "text/html": [
       "\n",
       "    La solución del problema de condiciones iniciales es\n",
       "    \\(u(x)=-{\\left(e^{\\left(2 \\, x\\right)} - 2\\right)} e^{x}\\)\n",
       "    "
      ],
      "text/plain": [
       "\n",
       "    La solución del problema de condiciones iniciales es\n",
       "    \\(u(x)=-{\\left(e^{\\left(2 \\, x\\right)} - 2\\right)} e^{x}\\)\n",
       "    "
      ]
     },
     "metadata": {},
     "output_type": "display_data"
    },
    {
     "data": {
      "text/html": [
       "\n",
       "    <h1> EDOs lineales de 2o Orden </h1>\n",
       "    <h2> Caso homogeneo </h2>\n",
       "    <p> Encuentre la solución \\(u(x)\\) de la siguiente ecuación diferencial\n",
       "    \\(4 \\, u\\left(x\\right) - 10 \\, \\frac{\\partial}{\\partial x}u\\left(x\\right) + \\frac{\\partial^{2}}{(\\partial x)^{2}}u\\left(x\\right) = 0\\) con condiciones iniciales \\(u(0)=0, \\; u'(0)=-1\\)\n",
       "    y evalue en el punto dado:</p>\n",
       "    <pre>\n",
       "    u(1.67) = {1:NM:=-972371.085555470:-29171.1325666641}\n",
       "    </pre>\n",
       "    "
      ],
      "text/plain": [
       "\n",
       "    <h1> EDOs lineales de 2o Orden </h1>\n",
       "    <h2> Caso homogeneo </h2>\n",
       "    <p> Encuentre la solución \\(u(x)\\) de la siguiente ecuación diferencial\n",
       "    \\(4 \\, u\\left(x\\right) - 10 \\, \\frac{\\partial}{\\partial x}u\\left(x\\right) + \\frac{\\partial^{2}}{(\\partial x)^{2}}u\\left(x\\right) = 0\\) con condiciones iniciales \\(u(0)=0, \\; u'(0)=-1\\)\n",
       "    y evalue en el punto dado:</p>\n",
       "    <pre>\n",
       "    u(1.67) = {1:NM:=-972371.085555470:-29171.1325666641}\n",
       "    </pre>\n",
       "    "
      ]
     },
     "metadata": {},
     "output_type": "display_data"
    },
    {
     "data": {
      "text/html": [
       "\n",
       "    La solución del problema de condiciones iniciales es\n",
       "    \\(u(x)=-\\frac{1}{42} \\, \\sqrt{21} {\\left(e^{\\left(\\sqrt{21} x\\right)} + 1\\right)} {\\left(e^{\\left(\\sqrt{21} x\\right)} - 1\\right)} e^{\\left(-\\sqrt{21} x + 5 \\, x\\right)}\\)\n",
       "    "
      ],
      "text/plain": [
       "\n",
       "    La solución del problema de condiciones iniciales es\n",
       "    \\(u(x)=-\\frac{1}{42} \\, \\sqrt{21} {\\left(e^{\\left(\\sqrt{21} x\\right)} + 1\\right)} {\\left(e^{\\left(\\sqrt{21} x\\right)} - 1\\right)} e^{\\left(-\\sqrt{21} x + 5 \\, x\\right)}\\)\n",
       "    "
      ]
     },
     "metadata": {},
     "output_type": "display_data"
    },
    {
     "data": {
      "text/html": [
       "\n",
       "    <h1> EDOs lineales de 2o Orden </h1>\n",
       "    <h2> Caso homogeneo </h2>\n",
       "    <p> Encuentre la solución \\(u(x)\\) de la siguiente ecuación diferencial\n",
       "    \\(-9 \\, u\\left(x\\right) + 5 \\, \\frac{\\partial}{\\partial x}u\\left(x\\right) + \\frac{\\partial^{2}}{(\\partial x)^{2}}u\\left(x\\right) = 0\\) con condiciones iniciales \\(u(0)=-1, \\; u'(0)=-1\\)\n",
       "    y evalue en el punto dado:</p>\n",
       "    <pre>\n",
       "    u(1.05) = {1:NM:=-4.14594798591020:-0.124378439577306}\n",
       "    </pre>\n",
       "    "
      ],
      "text/plain": [
       "\n",
       "    <h1> EDOs lineales de 2o Orden </h1>\n",
       "    <h2> Caso homogeneo </h2>\n",
       "    <p> Encuentre la solución \\(u(x)\\) de la siguiente ecuación diferencial\n",
       "    \\(-9 \\, u\\left(x\\right) + 5 \\, \\frac{\\partial}{\\partial x}u\\left(x\\right) + \\frac{\\partial^{2}}{(\\partial x)^{2}}u\\left(x\\right) = 0\\) con condiciones iniciales \\(u(0)=-1, \\; u'(0)=-1\\)\n",
       "    y evalue en el punto dado:</p>\n",
       "    <pre>\n",
       "    u(1.05) = {1:NM:=-4.14594798591020:-0.124378439577306}\n",
       "    </pre>\n",
       "    "
      ]
     },
     "metadata": {},
     "output_type": "display_data"
    },
    {
     "data": {
      "text/html": [
       "\n",
       "    La solución del problema de condiciones iniciales es\n",
       "    \\(u(x)=-\\frac{1}{122} \\, {\\left(7 \\, \\sqrt{61} e^{\\left(\\sqrt{61} x\\right)} - 7 \\, \\sqrt{61} + 61 \\, e^{\\left(\\sqrt{61} x\\right)} + 61\\right)} e^{\\left(-\\frac{1}{2} \\, \\sqrt{61} x - \\frac{5}{2} \\, x\\right)}\\)\n",
       "    "
      ],
      "text/plain": [
       "\n",
       "    La solución del problema de condiciones iniciales es\n",
       "    \\(u(x)=-\\frac{1}{122} \\, {\\left(7 \\, \\sqrt{61} e^{\\left(\\sqrt{61} x\\right)} - 7 \\, \\sqrt{61} + 61 \\, e^{\\left(\\sqrt{61} x\\right)} + 61\\right)} e^{\\left(-\\frac{1}{2} \\, \\sqrt{61} x - \\frac{5}{2} \\, x\\right)}\\)\n",
       "    "
      ]
     },
     "metadata": {},
     "output_type": "display_data"
    },
    {
     "data": {
      "text/html": [
       "\n",
       "    <h1> EDOs lineales de 2o Orden </h1>\n",
       "    <h2> Caso homogeneo </h2>\n",
       "    <p> Encuentre la solución \\(u(x)\\) de la siguiente ecuación diferencial\n",
       "    \\(u\\left(x\\right) - 9 \\, \\frac{\\partial}{\\partial x}u\\left(x\\right) + \\frac{\\partial^{2}}{(\\partial x)^{2}}u\\left(x\\right) = 0\\) con condiciones iniciales \\(u(0)=0, \\; u'(0)=-1\\)\n",
       "    y evalue en el punto dado:</p>\n",
       "    <pre>\n",
       "    u(1.04) = {1:NM:=-1177.28940501650:-35.3186821504950}\n",
       "    </pre>\n",
       "    "
      ],
      "text/plain": [
       "\n",
       "    <h1> EDOs lineales de 2o Orden </h1>\n",
       "    <h2> Caso homogeneo </h2>\n",
       "    <p> Encuentre la solución \\(u(x)\\) de la siguiente ecuación diferencial\n",
       "    \\(u\\left(x\\right) - 9 \\, \\frac{\\partial}{\\partial x}u\\left(x\\right) + \\frac{\\partial^{2}}{(\\partial x)^{2}}u\\left(x\\right) = 0\\) con condiciones iniciales \\(u(0)=0, \\; u'(0)=-1\\)\n",
       "    y evalue en el punto dado:</p>\n",
       "    <pre>\n",
       "    u(1.04) = {1:NM:=-1177.28940501650:-35.3186821504950}\n",
       "    </pre>\n",
       "    "
      ]
     },
     "metadata": {},
     "output_type": "display_data"
    },
    {
     "data": {
      "text/html": [
       "\n",
       "    La solución del problema de condiciones iniciales es\n",
       "    \\(u(x)=-\\frac{1}{77} \\, \\sqrt{77} {\\left(e^{\\left(\\sqrt{77} x\\right)} - 1\\right)} e^{\\left(-\\frac{1}{2} \\, \\sqrt{77} x + \\frac{9}{2} \\, x\\right)}\\)\n",
       "    "
      ],
      "text/plain": [
       "\n",
       "    La solución del problema de condiciones iniciales es\n",
       "    \\(u(x)=-\\frac{1}{77} \\, \\sqrt{77} {\\left(e^{\\left(\\sqrt{77} x\\right)} - 1\\right)} e^{\\left(-\\frac{1}{2} \\, \\sqrt{77} x + \\frac{9}{2} \\, x\\right)}\\)\n",
       "    "
      ]
     },
     "metadata": {},
     "output_type": "display_data"
    },
    {
     "data": {
      "text/html": [
       "\n",
       "    <h1> EDOs lineales de 2o Orden </h1>\n",
       "    <h2> Caso homogeneo </h2>\n",
       "    <p> Encuentre la solución \\(u(x)\\) de la siguiente ecuación diferencial\n",
       "    \\(u\\left(x\\right) + \\frac{\\partial}{\\partial x}u\\left(x\\right) + \\frac{\\partial^{2}}{(\\partial x)^{2}}u\\left(x\\right) = 0\\) con condiciones iniciales \\(u(0)=-1, \\; u'(0)=1\\)\n",
       "    y evalue en el punto dado:</p>\n",
       "    <pre>\n",
       "    u(1.55) = {1:NM:=0.154738490297987:0.00464215470893960}\n",
       "    </pre>\n",
       "    "
      ],
      "text/plain": [
       "\n",
       "    <h1> EDOs lineales de 2o Orden </h1>\n",
       "    <h2> Caso homogeneo </h2>\n",
       "    <p> Encuentre la solución \\(u(x)\\) de la siguiente ecuación diferencial\n",
       "    \\(u\\left(x\\right) + \\frac{\\partial}{\\partial x}u\\left(x\\right) + \\frac{\\partial^{2}}{(\\partial x)^{2}}u\\left(x\\right) = 0\\) con condiciones iniciales \\(u(0)=-1, \\; u'(0)=1\\)\n",
       "    y evalue en el punto dado:</p>\n",
       "    <pre>\n",
       "    u(1.55) = {1:NM:=0.154738490297987:0.00464215470893960}\n",
       "    </pre>\n",
       "    "
      ]
     },
     "metadata": {},
     "output_type": "display_data"
    },
    {
     "data": {
      "text/html": [
       "\n",
       "    La solución del problema de condiciones iniciales es\n",
       "    \\(u(x)=\\frac{1}{3} \\, {\\left(\\sqrt{3} \\sin\\left(\\frac{1}{2} \\, \\sqrt{3} x\\right) - 3 \\, \\cos\\left(\\frac{1}{2} \\, \\sqrt{3} x\\right)\\right)} e^{\\left(-\\frac{1}{2} \\, x\\right)}\\)\n",
       "    "
      ],
      "text/plain": [
       "\n",
       "    La solución del problema de condiciones iniciales es\n",
       "    \\(u(x)=\\frac{1}{3} \\, {\\left(\\sqrt{3} \\sin\\left(\\frac{1}{2} \\, \\sqrt{3} x\\right) - 3 \\, \\cos\\left(\\frac{1}{2} \\, \\sqrt{3} x\\right)\\right)} e^{\\left(-\\frac{1}{2} \\, x\\right)}\\)\n",
       "    "
      ]
     },
     "metadata": {},
     "output_type": "display_data"
    },
    {
     "name": "stdout",
     "output_type": "stream",
     "text": [
      "--------------------------------\n",
      "Done: 2018-03-20 21:30:14.383025\n",
      "Folder: P203_edo2_homo\n",
      "Filename: P203_edo2_homo-1521603014.38.xml\n",
      "#exes: 10\n"
     ]
    }
   ],
   "source": [
    "np.random.seed(12)\n",
    "me.quick(gen, label, 10, impr=True)"
   ]
  },
  {
   "cell_type": "code",
   "execution_count": 46,
   "metadata": {
    "collapsed": false,
    "scrolled": true
   },
   "outputs": [
    {
     "data": {
      "text/html": [
       "\n",
       "    <h1> EDOs lineales de 2o Orden </h1>\n",
       "    <h2> Caso homogeneo </h2>\n",
       "    <p> Encuentre la solución \\(u(x)\\) de la siguiente ecuación diferencial\n",
       "    \\(-8 \\, u\\left(x\\right) + 3 \\, \\frac{\\partial}{\\partial x}u\\left(x\\right) + \\frac{\\partial^{2}}{(\\partial x)^{2}}u\\left(x\\right) = 0\\) con condiciones iniciales \\(u(0)=1, \\; u'(0)=0\\)\n",
       "    y evalue en el punto dado:</p>\n",
       "    <pre>\n",
       "    u(1.23) = {1:NM:=5.95462149891351:0.178638644967405}\n",
       "    </pre>\n",
       "    "
      ],
      "text/plain": [
       "\n",
       "    <h1> EDOs lineales de 2o Orden </h1>\n",
       "    <h2> Caso homogeneo </h2>\n",
       "    <p> Encuentre la solución \\(u(x)\\) de la siguiente ecuación diferencial\n",
       "    \\(-8 \\, u\\left(x\\right) + 3 \\, \\frac{\\partial}{\\partial x}u\\left(x\\right) + \\frac{\\partial^{2}}{(\\partial x)^{2}}u\\left(x\\right) = 0\\) con condiciones iniciales \\(u(0)=1, \\; u'(0)=0\\)\n",
       "    y evalue en el punto dado:</p>\n",
       "    <pre>\n",
       "    u(1.23) = {1:NM:=5.95462149891351:0.178638644967405}\n",
       "    </pre>\n",
       "    "
      ]
     },
     "metadata": {},
     "output_type": "display_data"
    },
    {
     "data": {
      "text/html": [
       "\n",
       "    La solución del problema de condiciones iniciales es\n",
       "    \\(u(x)=\\frac{1}{82} \\, {\\left(3 \\, \\sqrt{41} e^{\\left(\\sqrt{41} x\\right)} - 3 \\, \\sqrt{41} + 41 \\, e^{\\left(\\sqrt{41} x\\right)} + 41\\right)} e^{\\left(-\\frac{1}{2} \\, \\sqrt{41} x - \\frac{3}{2} \\, x\\right)}\\)\n",
       "    "
      ],
      "text/plain": [
       "\n",
       "    La solución del problema de condiciones iniciales es\n",
       "    \\(u(x)=\\frac{1}{82} \\, {\\left(3 \\, \\sqrt{41} e^{\\left(\\sqrt{41} x\\right)} - 3 \\, \\sqrt{41} + 41 \\, e^{\\left(\\sqrt{41} x\\right)} + 41\\right)} e^{\\left(-\\frac{1}{2} \\, \\sqrt{41} x - \\frac{3}{2} \\, x\\right)}\\)\n",
       "    "
      ]
     },
     "metadata": {},
     "output_type": "display_data"
    },
    {
     "data": {
      "text/html": [
       "\n",
       "    <h1> EDOs lineales de 2o Orden </h1>\n",
       "    <h2> Caso homogeneo </h2>\n",
       "    <p> Encuentre la solución \\(u(x)\\) de la siguiente ecuación diferencial\n",
       "    \\(9 \\, \\frac{\\partial}{\\partial x}u\\left(x\\right) + \\frac{\\partial^{2}}{(\\partial x)^{2}}u\\left(x\\right) = 0\\) con condiciones iniciales \\(u(0)=1, \\; u'(0)=0\\)\n",
       "    y evalue en el punto dado:</p>\n",
       "    <pre>\n",
       "    u(1.42) = {1:NM:=1.00000000000000:0.0300000000000000}\n",
       "    </pre>\n",
       "    "
      ],
      "text/plain": [
       "\n",
       "    <h1> EDOs lineales de 2o Orden </h1>\n",
       "    <h2> Caso homogeneo </h2>\n",
       "    <p> Encuentre la solución \\(u(x)\\) de la siguiente ecuación diferencial\n",
       "    \\(9 \\, \\frac{\\partial}{\\partial x}u\\left(x\\right) + \\frac{\\partial^{2}}{(\\partial x)^{2}}u\\left(x\\right) = 0\\) con condiciones iniciales \\(u(0)=1, \\; u'(0)=0\\)\n",
       "    y evalue en el punto dado:</p>\n",
       "    <pre>\n",
       "    u(1.42) = {1:NM:=1.00000000000000:0.0300000000000000}\n",
       "    </pre>\n",
       "    "
      ]
     },
     "metadata": {},
     "output_type": "display_data"
    },
    {
     "data": {
      "text/html": [
       "\n",
       "    La solución del problema de condiciones iniciales es\n",
       "    \\(u(x)=1\\)\n",
       "    "
      ],
      "text/plain": [
       "\n",
       "    La solución del problema de condiciones iniciales es\n",
       "    \\(u(x)=1\\)\n",
       "    "
      ]
     },
     "metadata": {},
     "output_type": "display_data"
    },
    {
     "data": {
      "text/html": [
       "\n",
       "    <h1> EDOs lineales de 2o Orden </h1>\n",
       "    <h2> Caso homogeneo </h2>\n",
       "    <p> Encuentre la solución \\(u(x)\\) de la siguiente ecuación diferencial\n",
       "    \\(7 \\, u\\left(x\\right) - 10 \\, \\frac{\\partial}{\\partial x}u\\left(x\\right) + \\frac{\\partial^{2}}{(\\partial x)^{2}}u\\left(x\\right) = 0\\) con condiciones iniciales \\(u(0)=0, \\; u'(0)=-1\\)\n",
       "    y evalue en el punto dado:</p>\n",
       "    <pre>\n",
       "    u(1.48) = {1:NM:=-102823.750522271:-3084.71251566812}\n",
       "    </pre>\n",
       "    "
      ],
      "text/plain": [
       "\n",
       "    <h1> EDOs lineales de 2o Orden </h1>\n",
       "    <h2> Caso homogeneo </h2>\n",
       "    <p> Encuentre la solución \\(u(x)\\) de la siguiente ecuación diferencial\n",
       "    \\(7 \\, u\\left(x\\right) - 10 \\, \\frac{\\partial}{\\partial x}u\\left(x\\right) + \\frac{\\partial^{2}}{(\\partial x)^{2}}u\\left(x\\right) = 0\\) con condiciones iniciales \\(u(0)=0, \\; u'(0)=-1\\)\n",
       "    y evalue en el punto dado:</p>\n",
       "    <pre>\n",
       "    u(1.48) = {1:NM:=-102823.750522271:-3084.71251566812}\n",
       "    </pre>\n",
       "    "
      ]
     },
     "metadata": {},
     "output_type": "display_data"
    },
    {
     "data": {
      "text/html": [
       "\n",
       "    La solución del problema de condiciones iniciales es\n",
       "    \\(u(x)=-\\frac{1}{12} \\, \\sqrt{2} {\\left(e^{\\left(4 \\, \\sqrt{2} x\\right)} + e^{\\left(2 \\, \\sqrt{2} x\\right)} + 1\\right)} {\\left(e^{\\left(2 \\, \\sqrt{2} x\\right)} - 1\\right)} e^{\\left(-3 \\, \\sqrt{2} x + 5 \\, x\\right)}\\)\n",
       "    "
      ],
      "text/plain": [
       "\n",
       "    La solución del problema de condiciones iniciales es\n",
       "    \\(u(x)=-\\frac{1}{12} \\, \\sqrt{2} {\\left(e^{\\left(4 \\, \\sqrt{2} x\\right)} + e^{\\left(2 \\, \\sqrt{2} x\\right)} + 1\\right)} {\\left(e^{\\left(2 \\, \\sqrt{2} x\\right)} - 1\\right)} e^{\\left(-3 \\, \\sqrt{2} x + 5 \\, x\\right)}\\)\n",
       "    "
      ]
     },
     "metadata": {},
     "output_type": "display_data"
    },
    {
     "data": {
      "text/html": [
       "\n",
       "    <h1> EDOs lineales de 2o Orden </h1>\n",
       "    <h2> Caso homogeneo </h2>\n",
       "    <p> Encuentre la solución \\(u(x)\\) de la siguiente ecuación diferencial\n",
       "    \\(-10 \\, u\\left(x\\right) + 4 \\, \\frac{\\partial}{\\partial x}u\\left(x\\right) + \\frac{\\partial^{2}}{(\\partial x)^{2}}u\\left(x\\right) = 0\\) con condiciones iniciales \\(u(0)=1, \\; u'(0)=0\\)\n",
       "    y evalue en el punto dado:</p>\n",
       "    <pre>\n",
       "    u(1.73) = {1:NM:=15.6135647132508:0.468406941397524}\n",
       "    </pre>\n",
       "    "
      ],
      "text/plain": [
       "\n",
       "    <h1> EDOs lineales de 2o Orden </h1>\n",
       "    <h2> Caso homogeneo </h2>\n",
       "    <p> Encuentre la solución \\(u(x)\\) de la siguiente ecuación diferencial\n",
       "    \\(-10 \\, u\\left(x\\right) + 4 \\, \\frac{\\partial}{\\partial x}u\\left(x\\right) + \\frac{\\partial^{2}}{(\\partial x)^{2}}u\\left(x\\right) = 0\\) con condiciones iniciales \\(u(0)=1, \\; u'(0)=0\\)\n",
       "    y evalue en el punto dado:</p>\n",
       "    <pre>\n",
       "    u(1.73) = {1:NM:=15.6135647132508:0.468406941397524}\n",
       "    </pre>\n",
       "    "
      ]
     },
     "metadata": {},
     "output_type": "display_data"
    },
    {
     "data": {
      "text/html": [
       "\n",
       "    La solución del problema de condiciones iniciales es\n",
       "    \\(u(x)=\\frac{1}{14} \\, {\\left(\\sqrt{14} e^{\\left(2 \\, \\sqrt{14} x\\right)} - \\sqrt{14} + 7 \\, e^{\\left(2 \\, \\sqrt{14} x\\right)} + 7\\right)} e^{\\left(-\\sqrt{14} x - 2 \\, x\\right)}\\)\n",
       "    "
      ],
      "text/plain": [
       "\n",
       "    La solución del problema de condiciones iniciales es\n",
       "    \\(u(x)=\\frac{1}{14} \\, {\\left(\\sqrt{14} e^{\\left(2 \\, \\sqrt{14} x\\right)} - \\sqrt{14} + 7 \\, e^{\\left(2 \\, \\sqrt{14} x\\right)} + 7\\right)} e^{\\left(-\\sqrt{14} x - 2 \\, x\\right)}\\)\n",
       "    "
      ]
     },
     "metadata": {},
     "output_type": "display_data"
    },
    {
     "data": {
      "text/html": [
       "\n",
       "    <h1> EDOs lineales de 2o Orden </h1>\n",
       "    <h2> Caso homogeneo </h2>\n",
       "    <p> Encuentre la solución \\(u(x)\\) de la siguiente ecuación diferencial\n",
       "    \\(-10 \\, u\\left(x\\right) - 6 \\, \\frac{\\partial}{\\partial x}u\\left(x\\right) + \\frac{\\partial^{2}}{(\\partial x)^{2}}u\\left(x\\right) = 0\\) con condiciones iniciales \\(u(0)=0, \\; u'(0)=1\\)\n",
       "    y evalue en el punto dado:</p>\n",
       "    <pre>\n",
       "    u(1.59) = {1:NM:=13839.4943741094:415.184831223282}\n",
       "    </pre>\n",
       "    "
      ],
      "text/plain": [
       "\n",
       "    <h1> EDOs lineales de 2o Orden </h1>\n",
       "    <h2> Caso homogeneo </h2>\n",
       "    <p> Encuentre la solución \\(u(x)\\) de la siguiente ecuación diferencial\n",
       "    \\(-10 \\, u\\left(x\\right) - 6 \\, \\frac{\\partial}{\\partial x}u\\left(x\\right) + \\frac{\\partial^{2}}{(\\partial x)^{2}}u\\left(x\\right) = 0\\) con condiciones iniciales \\(u(0)=0, \\; u'(0)=1\\)\n",
       "    y evalue en el punto dado:</p>\n",
       "    <pre>\n",
       "    u(1.59) = {1:NM:=13839.4943741094:415.184831223282}\n",
       "    </pre>\n",
       "    "
      ]
     },
     "metadata": {},
     "output_type": "display_data"
    },
    {
     "data": {
      "text/html": [
       "\n",
       "    La solución del problema de condiciones iniciales es\n",
       "    \\(u(x)=\\frac{1}{38} \\, \\sqrt{19} {\\left(e^{\\left(\\sqrt{19} x\\right)} + 1\\right)} {\\left(e^{\\left(\\sqrt{19} x\\right)} - 1\\right)} e^{\\left(-\\sqrt{19} x + 3 \\, x\\right)}\\)\n",
       "    "
      ],
      "text/plain": [
       "\n",
       "    La solución del problema de condiciones iniciales es\n",
       "    \\(u(x)=\\frac{1}{38} \\, \\sqrt{19} {\\left(e^{\\left(\\sqrt{19} x\\right)} + 1\\right)} {\\left(e^{\\left(\\sqrt{19} x\\right)} - 1\\right)} e^{\\left(-\\sqrt{19} x + 3 \\, x\\right)}\\)\n",
       "    "
      ]
     },
     "metadata": {},
     "output_type": "display_data"
    },
    {
     "data": {
      "text/html": [
       "\n",
       "    <h1> EDOs lineales de 2o Orden </h1>\n",
       "    <h2> Caso homogeneo </h2>\n",
       "    <p> Encuentre la solución \\(u(x)\\) de la siguiente ecuación diferencial\n",
       "    \\(-8 \\, u\\left(x\\right) - 3 \\, \\frac{\\partial}{\\partial x}u\\left(x\\right) + \\frac{\\partial^{2}}{(\\partial x)^{2}}u\\left(x\\right) = 0\\) con condiciones iniciales \\(u(0)=-1, \\; u'(0)=0\\)\n",
       "    y evalue en el punto dado:</p>\n",
       "    <pre>\n",
       "    u(1.53) = {1:NM:=-353.648835488959:-10.6094650646688}\n",
       "    </pre>\n",
       "    "
      ],
      "text/plain": [
       "\n",
       "    <h1> EDOs lineales de 2o Orden </h1>\n",
       "    <h2> Caso homogeneo </h2>\n",
       "    <p> Encuentre la solución \\(u(x)\\) de la siguiente ecuación diferencial\n",
       "    \\(-8 \\, u\\left(x\\right) - 3 \\, \\frac{\\partial}{\\partial x}u\\left(x\\right) + \\frac{\\partial^{2}}{(\\partial x)^{2}}u\\left(x\\right) = 0\\) con condiciones iniciales \\(u(0)=-1, \\; u'(0)=0\\)\n",
       "    y evalue en el punto dado:</p>\n",
       "    <pre>\n",
       "    u(1.53) = {1:NM:=-353.648835488959:-10.6094650646688}\n",
       "    </pre>\n",
       "    "
      ]
     },
     "metadata": {},
     "output_type": "display_data"
    },
    {
     "data": {
      "text/html": [
       "\n",
       "    La solución del problema de condiciones iniciales es\n",
       "    \\(u(x)=\\frac{1}{82} \\, {\\left(3 \\, \\sqrt{41} e^{\\left(\\sqrt{41} x\\right)} - 3 \\, \\sqrt{41} - 41 \\, e^{\\left(\\sqrt{41} x\\right)} - 41\\right)} e^{\\left(-\\frac{1}{2} \\, \\sqrt{41} x + \\frac{3}{2} \\, x\\right)}\\)\n",
       "    "
      ],
      "text/plain": [
       "\n",
       "    La solución del problema de condiciones iniciales es\n",
       "    \\(u(x)=\\frac{1}{82} \\, {\\left(3 \\, \\sqrt{41} e^{\\left(\\sqrt{41} x\\right)} - 3 \\, \\sqrt{41} - 41 \\, e^{\\left(\\sqrt{41} x\\right)} - 41\\right)} e^{\\left(-\\frac{1}{2} \\, \\sqrt{41} x + \\frac{3}{2} \\, x\\right)}\\)\n",
       "    "
      ]
     },
     "metadata": {},
     "output_type": "display_data"
    },
    {
     "data": {
      "text/html": [
       "\n",
       "    <h1> EDOs lineales de 2o Orden </h1>\n",
       "    <h2> Caso homogeneo </h2>\n",
       "    <p> Encuentre la solución \\(u(x)\\) de la siguiente ecuación diferencial\n",
       "    \\(-3 \\, u\\left(x\\right) + 6 \\, \\frac{\\partial}{\\partial x}u\\left(x\\right) + \\frac{\\partial^{2}}{(\\partial x)^{2}}u\\left(x\\right) = 0\\) con condiciones iniciales \\(u(0)=-1, \\; u'(0)=-1\\)\n",
       "    y evalue en el punto dado:</p>\n",
       "    <pre>\n",
       "    u(1.72) = {1:NM:=-2.39350512370127:-0.0718051537110380}\n",
       "    </pre>\n",
       "    "
      ],
      "text/plain": [
       "\n",
       "    <h1> EDOs lineales de 2o Orden </h1>\n",
       "    <h2> Caso homogeneo </h2>\n",
       "    <p> Encuentre la solución \\(u(x)\\) de la siguiente ecuación diferencial\n",
       "    \\(-3 \\, u\\left(x\\right) + 6 \\, \\frac{\\partial}{\\partial x}u\\left(x\\right) + \\frac{\\partial^{2}}{(\\partial x)^{2}}u\\left(x\\right) = 0\\) con condiciones iniciales \\(u(0)=-1, \\; u'(0)=-1\\)\n",
       "    y evalue en el punto dado:</p>\n",
       "    <pre>\n",
       "    u(1.72) = {1:NM:=-2.39350512370127:-0.0718051537110380}\n",
       "    </pre>\n",
       "    "
      ]
     },
     "metadata": {},
     "output_type": "display_data"
    },
    {
     "data": {
      "text/html": [
       "\n",
       "    La solución del problema de condiciones iniciales es\n",
       "    \\(u(x)=-\\frac{1}{6} \\, {\\left(2 \\, \\sqrt{3} e^{\\left(4 \\, \\sqrt{3} x\\right)} - 2 \\, \\sqrt{3} + 3 \\, e^{\\left(4 \\, \\sqrt{3} x\\right)} + 3\\right)} e^{\\left(-2 \\, \\sqrt{3} x - 3 \\, x\\right)}\\)\n",
       "    "
      ],
      "text/plain": [
       "\n",
       "    La solución del problema de condiciones iniciales es\n",
       "    \\(u(x)=-\\frac{1}{6} \\, {\\left(2 \\, \\sqrt{3} e^{\\left(4 \\, \\sqrt{3} x\\right)} - 2 \\, \\sqrt{3} + 3 \\, e^{\\left(4 \\, \\sqrt{3} x\\right)} + 3\\right)} e^{\\left(-2 \\, \\sqrt{3} x - 3 \\, x\\right)}\\)\n",
       "    "
      ]
     },
     "metadata": {},
     "output_type": "display_data"
    },
    {
     "data": {
      "text/html": [
       "\n",
       "    <h1> EDOs lineales de 2o Orden </h1>\n",
       "    <h2> Caso homogeneo </h2>\n",
       "    <p> Encuentre la solución \\(u(x)\\) de la siguiente ecuación diferencial\n",
       "    \\(-9 \\, u\\left(x\\right) - 4 \\, \\frac{\\partial}{\\partial x}u\\left(x\\right) + \\frac{\\partial^{2}}{(\\partial x)^{2}}u\\left(x\\right) = 0\\) con condiciones iniciales \\(u(0)=1, \\; u'(0)=1\\)\n",
       "    y evalue en el punto dado:</p>\n",
       "    <pre>\n",
       "    u(1.65) = {1:NM:=3756.31627811369:112.689488343411}\n",
       "    </pre>\n",
       "    "
      ],
      "text/plain": [
       "\n",
       "    <h1> EDOs lineales de 2o Orden </h1>\n",
       "    <h2> Caso homogeneo </h2>\n",
       "    <p> Encuentre la solución \\(u(x)\\) de la siguiente ecuación diferencial\n",
       "    \\(-9 \\, u\\left(x\\right) - 4 \\, \\frac{\\partial}{\\partial x}u\\left(x\\right) + \\frac{\\partial^{2}}{(\\partial x)^{2}}u\\left(x\\right) = 0\\) con condiciones iniciales \\(u(0)=1, \\; u'(0)=1\\)\n",
       "    y evalue en el punto dado:</p>\n",
       "    <pre>\n",
       "    u(1.65) = {1:NM:=3756.31627811369:112.689488343411}\n",
       "    </pre>\n",
       "    "
      ]
     },
     "metadata": {},
     "output_type": "display_data"
    },
    {
     "data": {
      "text/html": [
       "\n",
       "    La solución del problema de condiciones iniciales es\n",
       "    \\(u(x)=-\\frac{1}{26} \\, {\\left(\\sqrt{13} e^{\\left(2 \\, \\sqrt{13} x\\right)} - \\sqrt{13} - 13 \\, e^{\\left(2 \\, \\sqrt{13} x\\right)} - 13\\right)} e^{\\left(-\\sqrt{13} x + 2 \\, x\\right)}\\)\n",
       "    "
      ],
      "text/plain": [
       "\n",
       "    La solución del problema de condiciones iniciales es\n",
       "    \\(u(x)=-\\frac{1}{26} \\, {\\left(\\sqrt{13} e^{\\left(2 \\, \\sqrt{13} x\\right)} - \\sqrt{13} - 13 \\, e^{\\left(2 \\, \\sqrt{13} x\\right)} - 13\\right)} e^{\\left(-\\sqrt{13} x + 2 \\, x\\right)}\\)\n",
       "    "
      ]
     },
     "metadata": {},
     "output_type": "display_data"
    },
    {
     "data": {
      "text/html": [
       "\n",
       "    <h1> EDOs lineales de 2o Orden </h1>\n",
       "    <h2> Caso homogeneo </h2>\n",
       "    <p> Encuentre la solución \\(u(x)\\) de la siguiente ecuación diferencial\n",
       "    \\(2 \\, u\\left(x\\right) - 9 \\, \\frac{\\partial}{\\partial x}u\\left(x\\right) + \\frac{\\partial^{2}}{(\\partial x)^{2}}u\\left(x\\right) = 0\\) con condiciones iniciales \\(u(0)=1, \\; u'(0)=0\\)\n",
       "    y evalue en el punto dado:</p>\n",
       "    <pre>\n",
       "    u(1.63) = {1:NM:=-43246.9090749013:-1297.40727224704}\n",
       "    </pre>\n",
       "    "
      ],
      "text/plain": [
       "\n",
       "    <h1> EDOs lineales de 2o Orden </h1>\n",
       "    <h2> Caso homogeneo </h2>\n",
       "    <p> Encuentre la solución \\(u(x)\\) de la siguiente ecuación diferencial\n",
       "    \\(2 \\, u\\left(x\\right) - 9 \\, \\frac{\\partial}{\\partial x}u\\left(x\\right) + \\frac{\\partial^{2}}{(\\partial x)^{2}}u\\left(x\\right) = 0\\) con condiciones iniciales \\(u(0)=1, \\; u'(0)=0\\)\n",
       "    y evalue en el punto dado:</p>\n",
       "    <pre>\n",
       "    u(1.63) = {1:NM:=-43246.9090749013:-1297.40727224704}\n",
       "    </pre>\n",
       "    "
      ]
     },
     "metadata": {},
     "output_type": "display_data"
    },
    {
     "data": {
      "text/html": [
       "\n",
       "    La solución del problema de condiciones iniciales es\n",
       "    \\(u(x)=-\\frac{1}{146} \\, {\\left(9 \\, \\sqrt{73} e^{\\left(\\sqrt{73} x\\right)} - 9 \\, \\sqrt{73} - 73 \\, e^{\\left(\\sqrt{73} x\\right)} - 73\\right)} e^{\\left(-\\frac{1}{2} \\, \\sqrt{73} x + \\frac{9}{2} \\, x\\right)}\\)\n",
       "    "
      ],
      "text/plain": [
       "\n",
       "    La solución del problema de condiciones iniciales es\n",
       "    \\(u(x)=-\\frac{1}{146} \\, {\\left(9 \\, \\sqrt{73} e^{\\left(\\sqrt{73} x\\right)} - 9 \\, \\sqrt{73} - 73 \\, e^{\\left(\\sqrt{73} x\\right)} - 73\\right)} e^{\\left(-\\frac{1}{2} \\, \\sqrt{73} x + \\frac{9}{2} \\, x\\right)}\\)\n",
       "    "
      ]
     },
     "metadata": {},
     "output_type": "display_data"
    },
    {
     "data": {
      "text/html": [
       "\n",
       "    <h1> EDOs lineales de 2o Orden </h1>\n",
       "    <h2> Caso homogeneo </h2>\n",
       "    <p> Encuentre la solución \\(u(x)\\) de la siguiente ecuación diferencial\n",
       "    \\(u\\left(x\\right) - 10 \\, \\frac{\\partial}{\\partial x}u\\left(x\\right) + \\frac{\\partial^{2}}{(\\partial x)^{2}}u\\left(x\\right) = 0\\) con condiciones iniciales \\(u(0)=1, \\; u'(0)=1\\)\n",
       "    y evalue en el punto dado:</p>\n",
       "    <pre>\n",
       "    u(1.43) = {1:NM:=128911.273610109:3867.33820830327}\n",
       "    </pre>\n",
       "    "
      ],
      "text/plain": [
       "\n",
       "    <h1> EDOs lineales de 2o Orden </h1>\n",
       "    <h2> Caso homogeneo </h2>\n",
       "    <p> Encuentre la solución \\(u(x)\\) de la siguiente ecuación diferencial\n",
       "    \\(u\\left(x\\right) - 10 \\, \\frac{\\partial}{\\partial x}u\\left(x\\right) + \\frac{\\partial^{2}}{(\\partial x)^{2}}u\\left(x\\right) = 0\\) con condiciones iniciales \\(u(0)=1, \\; u'(0)=1\\)\n",
       "    y evalue en el punto dado:</p>\n",
       "    <pre>\n",
       "    u(1.43) = {1:NM:=128911.273610109:3867.33820830327}\n",
       "    </pre>\n",
       "    "
      ]
     },
     "metadata": {},
     "output_type": "display_data"
    },
    {
     "data": {
      "text/html": [
       "\n",
       "    La solución del problema de condiciones iniciales es\n",
       "    \\(u(x)=-\\frac{1}{6} \\, {\\left(\\sqrt{6} e^{\\left(4 \\, \\sqrt{6} x\\right)} - \\sqrt{6} - 3 \\, e^{\\left(4 \\, \\sqrt{6} x\\right)} - 3\\right)} e^{\\left(-2 \\, \\sqrt{6} x + 5 \\, x\\right)}\\)\n",
       "    "
      ],
      "text/plain": [
       "\n",
       "    La solución del problema de condiciones iniciales es\n",
       "    \\(u(x)=-\\frac{1}{6} \\, {\\left(\\sqrt{6} e^{\\left(4 \\, \\sqrt{6} x\\right)} - \\sqrt{6} - 3 \\, e^{\\left(4 \\, \\sqrt{6} x\\right)} - 3\\right)} e^{\\left(-2 \\, \\sqrt{6} x + 5 \\, x\\right)}\\)\n",
       "    "
      ]
     },
     "metadata": {},
     "output_type": "display_data"
    },
    {
     "data": {
      "text/html": [
       "\n",
       "    <h1> EDOs lineales de 2o Orden </h1>\n",
       "    <h2> Caso homogeneo </h2>\n",
       "    <p> Encuentre la solución \\(u(x)\\) de la siguiente ecuación diferencial\n",
       "    \\(8 \\, u\\left(x\\right) + 3 \\, \\frac{\\partial}{\\partial x}u\\left(x\\right) + \\frac{\\partial^{2}}{(\\partial x)^{2}}u\\left(x\\right) = 0\\) con condiciones iniciales \\(u(0)=0, \\; u'(0)=-1\\)\n",
       "    y evalue en el punto dado:</p>\n",
       "    <pre>\n",
       "    u(1.31) = {1:NM:=-0.0000188793814259753:-5.66381442779259e-7}\n",
       "    </pre>\n",
       "    "
      ],
      "text/plain": [
       "\n",
       "    <h1> EDOs lineales de 2o Orden </h1>\n",
       "    <h2> Caso homogeneo </h2>\n",
       "    <p> Encuentre la solución \\(u(x)\\) de la siguiente ecuación diferencial\n",
       "    \\(8 \\, u\\left(x\\right) + 3 \\, \\frac{\\partial}{\\partial x}u\\left(x\\right) + \\frac{\\partial^{2}}{(\\partial x)^{2}}u\\left(x\\right) = 0\\) con condiciones iniciales \\(u(0)=0, \\; u'(0)=-1\\)\n",
       "    y evalue en el punto dado:</p>\n",
       "    <pre>\n",
       "    u(1.31) = {1:NM:=-0.0000188793814259753:-5.66381442779259e-7}\n",
       "    </pre>\n",
       "    "
      ]
     },
     "metadata": {},
     "output_type": "display_data"
    },
    {
     "data": {
      "text/html": [
       "\n",
       "    La solución del problema de condiciones iniciales es\n",
       "    \\(u(x)=-\\frac{2}{23} \\, \\sqrt{23} e^{\\left(-\\frac{3}{2} \\, x\\right)} \\sin\\left(\\frac{1}{2} \\, \\sqrt{23} x\\right)\\)\n",
       "    "
      ],
      "text/plain": [
       "\n",
       "    La solución del problema de condiciones iniciales es\n",
       "    \\(u(x)=-\\frac{2}{23} \\, \\sqrt{23} e^{\\left(-\\frac{3}{2} \\, x\\right)} \\sin\\left(\\frac{1}{2} \\, \\sqrt{23} x\\right)\\)\n",
       "    "
      ]
     },
     "metadata": {},
     "output_type": "display_data"
    },
    {
     "data": {
      "text/html": [
       "\n",
       "    <h1> EDOs lineales de 2o Orden </h1>\n",
       "    <h2> Caso homogeneo </h2>\n",
       "    <p> Encuentre la solución \\(u(x)\\) de la siguiente ecuación diferencial\n",
       "    \\(3 \\, u\\left(x\\right) - 4 \\, \\frac{\\partial}{\\partial x}u\\left(x\\right) + \\frac{\\partial^{2}}{(\\partial x)^{2}}u\\left(x\\right) = 0\\) con condiciones iniciales \\(u(0)=-1, \\; u'(0)=1\\)\n",
       "    y evalue en el punto dado:</p>\n",
       "    <pre>\n",
       "    u(1.62) = {1:NM:=118.918021474251:3.56754064422752}\n",
       "    </pre>\n",
       "    "
      ],
      "text/plain": [
       "\n",
       "    <h1> EDOs lineales de 2o Orden </h1>\n",
       "    <h2> Caso homogeneo </h2>\n",
       "    <p> Encuentre la solución \\(u(x)\\) de la siguiente ecuación diferencial\n",
       "    \\(3 \\, u\\left(x\\right) - 4 \\, \\frac{\\partial}{\\partial x}u\\left(x\\right) + \\frac{\\partial^{2}}{(\\partial x)^{2}}u\\left(x\\right) = 0\\) con condiciones iniciales \\(u(0)=-1, \\; u'(0)=1\\)\n",
       "    y evalue en el punto dado:</p>\n",
       "    <pre>\n",
       "    u(1.62) = {1:NM:=118.918021474251:3.56754064422752}\n",
       "    </pre>\n",
       "    "
      ]
     },
     "metadata": {},
     "output_type": "display_data"
    },
    {
     "data": {
      "text/html": [
       "\n",
       "    La solución del problema de condiciones iniciales es\n",
       "    \\(u(x)={\\left(e^{\\left(2 \\, x\\right)} - 2\\right)} e^{x}\\)\n",
       "    "
      ],
      "text/plain": [
       "\n",
       "    La solución del problema de condiciones iniciales es\n",
       "    \\(u(x)={\\left(e^{\\left(2 \\, x\\right)} - 2\\right)} e^{x}\\)\n",
       "    "
      ]
     },
     "metadata": {},
     "output_type": "display_data"
    },
    {
     "data": {
      "text/html": [
       "\n",
       "    <h1> EDOs lineales de 2o Orden </h1>\n",
       "    <h2> Caso homogeneo </h2>\n",
       "    <p> Encuentre la solución \\(u(x)\\) de la siguiente ecuación diferencial\n",
       "    \\(-3 \\, u\\left(x\\right) + 4 \\, \\frac{\\partial}{\\partial x}u\\left(x\\right) + \\frac{\\partial^{2}}{(\\partial x)^{2}}u\\left(x\\right) = 0\\) con condiciones iniciales \\(u(0)=0, \\; u'(0)=1\\)\n",
       "    y evalue en el punto dado:</p>\n",
       "    <pre>\n",
       "    u(1.87) = {1:NM:=0.632169499545437:0.0189650849863631}\n",
       "    </pre>\n",
       "    "
      ],
      "text/plain": [
       "\n",
       "    <h1> EDOs lineales de 2o Orden </h1>\n",
       "    <h2> Caso homogeneo </h2>\n",
       "    <p> Encuentre la solución \\(u(x)\\) de la siguiente ecuación diferencial\n",
       "    \\(-3 \\, u\\left(x\\right) + 4 \\, \\frac{\\partial}{\\partial x}u\\left(x\\right) + \\frac{\\partial^{2}}{(\\partial x)^{2}}u\\left(x\\right) = 0\\) con condiciones iniciales \\(u(0)=0, \\; u'(0)=1\\)\n",
       "    y evalue en el punto dado:</p>\n",
       "    <pre>\n",
       "    u(1.87) = {1:NM:=0.632169499545437:0.0189650849863631}\n",
       "    </pre>\n",
       "    "
      ]
     },
     "metadata": {},
     "output_type": "display_data"
    },
    {
     "data": {
      "text/html": [
       "\n",
       "    La solución del problema de condiciones iniciales es\n",
       "    \\(u(x)=\\frac{1}{14} \\, \\sqrt{7} {\\left(e^{\\left(\\sqrt{7} x\\right)} + 1\\right)} {\\left(e^{\\left(\\sqrt{7} x\\right)} - 1\\right)} e^{\\left(-\\sqrt{7} x - 2 \\, x\\right)}\\)\n",
       "    "
      ],
      "text/plain": [
       "\n",
       "    La solución del problema de condiciones iniciales es\n",
       "    \\(u(x)=\\frac{1}{14} \\, \\sqrt{7} {\\left(e^{\\left(\\sqrt{7} x\\right)} + 1\\right)} {\\left(e^{\\left(\\sqrt{7} x\\right)} - 1\\right)} e^{\\left(-\\sqrt{7} x - 2 \\, x\\right)}\\)\n",
       "    "
      ]
     },
     "metadata": {},
     "output_type": "display_data"
    },
    {
     "data": {
      "text/html": [
       "\n",
       "    <h1> EDOs lineales de 2o Orden </h1>\n",
       "    <h2> Caso homogeneo </h2>\n",
       "    <p> Encuentre la solución \\(u(x)\\) de la siguiente ecuación diferencial\n",
       "    \\(8 \\, u\\left(x\\right) - 5 \\, \\frac{\\partial}{\\partial x}u\\left(x\\right) + \\frac{\\partial^{2}}{(\\partial x)^{2}}u\\left(x\\right) = 0\\) con condiciones iniciales \\(u(0)=0, \\; u'(0)=-1\\)\n",
       "    y evalue en el punto dado:</p>\n",
       "    <pre>\n",
       "    u(1.61) = {1:NM:=-35.8751185898472:-1.07625355769542}\n",
       "    </pre>\n",
       "    "
      ],
      "text/plain": [
       "\n",
       "    <h1> EDOs lineales de 2o Orden </h1>\n",
       "    <h2> Caso homogeneo </h2>\n",
       "    <p> Encuentre la solución \\(u(x)\\) de la siguiente ecuación diferencial\n",
       "    \\(8 \\, u\\left(x\\right) - 5 \\, \\frac{\\partial}{\\partial x}u\\left(x\\right) + \\frac{\\partial^{2}}{(\\partial x)^{2}}u\\left(x\\right) = 0\\) con condiciones iniciales \\(u(0)=0, \\; u'(0)=-1\\)\n",
       "    y evalue en el punto dado:</p>\n",
       "    <pre>\n",
       "    u(1.61) = {1:NM:=-35.8751185898472:-1.07625355769542}\n",
       "    </pre>\n",
       "    "
      ]
     },
     "metadata": {},
     "output_type": "display_data"
    },
    {
     "data": {
      "text/html": [
       "\n",
       "    La solución del problema de condiciones iniciales es\n",
       "    \\(u(x)=-\\frac{2}{7} \\, \\sqrt{7} e^{\\left(\\frac{5}{2} \\, x\\right)} \\sin\\left(\\frac{1}{2} \\, \\sqrt{7} x\\right)\\)\n",
       "    "
      ],
      "text/plain": [
       "\n",
       "    La solución del problema de condiciones iniciales es\n",
       "    \\(u(x)=-\\frac{2}{7} \\, \\sqrt{7} e^{\\left(\\frac{5}{2} \\, x\\right)} \\sin\\left(\\frac{1}{2} \\, \\sqrt{7} x\\right)\\)\n",
       "    "
      ]
     },
     "metadata": {},
     "output_type": "display_data"
    },
    {
     "data": {
      "text/html": [
       "\n",
       "    <h1> EDOs lineales de 2o Orden </h1>\n",
       "    <h2> Caso homogeneo </h2>\n",
       "    <p> Encuentre la solución \\(u(x)\\) de la siguiente ecuación diferencial\n",
       "    \\(7 \\, u\\left(x\\right) + 8 \\, \\frac{\\partial}{\\partial x}u\\left(x\\right) + \\frac{\\partial^{2}}{(\\partial x)^{2}}u\\left(x\\right) = 0\\) con condiciones iniciales \\(u(0)=-1, \\; u'(0)=0\\)\n",
       "    y evalue en el punto dado:</p>\n",
       "    <pre>\n",
       "    u(1.6) = {1:NM:=-0.235543658627754:-0.00706630975883261}\n",
       "    </pre>\n",
       "    "
      ],
      "text/plain": [
       "\n",
       "    <h1> EDOs lineales de 2o Orden </h1>\n",
       "    <h2> Caso homogeneo </h2>\n",
       "    <p> Encuentre la solución \\(u(x)\\) de la siguiente ecuación diferencial\n",
       "    \\(7 \\, u\\left(x\\right) + 8 \\, \\frac{\\partial}{\\partial x}u\\left(x\\right) + \\frac{\\partial^{2}}{(\\partial x)^{2}}u\\left(x\\right) = 0\\) con condiciones iniciales \\(u(0)=-1, \\; u'(0)=0\\)\n",
       "    y evalue en el punto dado:</p>\n",
       "    <pre>\n",
       "    u(1.6) = {1:NM:=-0.235543658627754:-0.00706630975883261}\n",
       "    </pre>\n",
       "    "
      ]
     },
     "metadata": {},
     "output_type": "display_data"
    },
    {
     "data": {
      "text/html": [
       "\n",
       "    La solución del problema de condiciones iniciales es\n",
       "    \\(u(x)=-\\frac{1}{6} \\, {\\left(7 \\, e^{\\left(6 \\, x\\right)} - 1\\right)} e^{\\left(-7 \\, x\\right)}\\)\n",
       "    "
      ],
      "text/plain": [
       "\n",
       "    La solución del problema de condiciones iniciales es\n",
       "    \\(u(x)=-\\frac{1}{6} \\, {\\left(7 \\, e^{\\left(6 \\, x\\right)} - 1\\right)} e^{\\left(-7 \\, x\\right)}\\)\n",
       "    "
      ]
     },
     "metadata": {},
     "output_type": "display_data"
    },
    {
     "data": {
      "text/html": [
       "\n",
       "    <h1> EDOs lineales de 2o Orden </h1>\n",
       "    <h2> Caso homogeneo </h2>\n",
       "    <p> Encuentre la solución \\(u(x)\\) de la siguiente ecuación diferencial\n",
       "    \\(6 \\, u\\left(x\\right) - \\frac{\\partial}{\\partial x}u\\left(x\\right) + \\frac{\\partial^{2}}{(\\partial x)^{2}}u\\left(x\\right) = 0\\) con condiciones iniciales \\(u(0)=0, \\; u'(0)=1\\)\n",
       "    y evalue en el punto dado:</p>\n",
       "    <pre>\n",
       "    u(1.3) = {1:NM:=0.0194115260284792:0.000582345780854376}\n",
       "    </pre>\n",
       "    "
      ],
      "text/plain": [
       "\n",
       "    <h1> EDOs lineales de 2o Orden </h1>\n",
       "    <h2> Caso homogeneo </h2>\n",
       "    <p> Encuentre la solución \\(u(x)\\) de la siguiente ecuación diferencial\n",
       "    \\(6 \\, u\\left(x\\right) - \\frac{\\partial}{\\partial x}u\\left(x\\right) + \\frac{\\partial^{2}}{(\\partial x)^{2}}u\\left(x\\right) = 0\\) con condiciones iniciales \\(u(0)=0, \\; u'(0)=1\\)\n",
       "    y evalue en el punto dado:</p>\n",
       "    <pre>\n",
       "    u(1.3) = {1:NM:=0.0194115260284792:0.000582345780854376}\n",
       "    </pre>\n",
       "    "
      ]
     },
     "metadata": {},
     "output_type": "display_data"
    },
    {
     "data": {
      "text/html": [
       "\n",
       "    La solución del problema de condiciones iniciales es\n",
       "    \\(u(x)=\\frac{2}{23} \\, \\sqrt{23} e^{\\left(\\frac{1}{2} \\, x\\right)} \\sin\\left(\\frac{1}{2} \\, \\sqrt{23} x\\right)\\)\n",
       "    "
      ],
      "text/plain": [
       "\n",
       "    La solución del problema de condiciones iniciales es\n",
       "    \\(u(x)=\\frac{2}{23} \\, \\sqrt{23} e^{\\left(\\frac{1}{2} \\, x\\right)} \\sin\\left(\\frac{1}{2} \\, \\sqrt{23} x\\right)\\)\n",
       "    "
      ]
     },
     "metadata": {},
     "output_type": "display_data"
    },
    {
     "data": {
      "text/html": [
       "\n",
       "    <h1> EDOs lineales de 2o Orden </h1>\n",
       "    <h2> Caso homogeneo </h2>\n",
       "    <p> Encuentre la solución \\(u(x)\\) de la siguiente ecuación diferencial\n",
       "    \\(-7 \\, u\\left(x\\right) - 7 \\, \\frac{\\partial}{\\partial x}u\\left(x\\right) + \\frac{\\partial^{2}}{(\\partial x)^{2}}u\\left(x\\right) = 0\\) con condiciones iniciales \\(u(0)=1, \\; u'(0)=-1\\)\n",
       "    y evalue en el punto dado:</p>\n",
       "    <pre>\n",
       "    u(1.88) = {1:NM:=-35309.7572359913:-1059.29271707974}\n",
       "    </pre>\n",
       "    "
      ],
      "text/plain": [
       "\n",
       "    <h1> EDOs lineales de 2o Orden </h1>\n",
       "    <h2> Caso homogeneo </h2>\n",
       "    <p> Encuentre la solución \\(u(x)\\) de la siguiente ecuación diferencial\n",
       "    \\(-7 \\, u\\left(x\\right) - 7 \\, \\frac{\\partial}{\\partial x}u\\left(x\\right) + \\frac{\\partial^{2}}{(\\partial x)^{2}}u\\left(x\\right) = 0\\) con condiciones iniciales \\(u(0)=1, \\; u'(0)=-1\\)\n",
       "    y evalue en el punto dado:</p>\n",
       "    <pre>\n",
       "    u(1.88) = {1:NM:=-35309.7572359913:-1059.29271707974}\n",
       "    </pre>\n",
       "    "
      ]
     },
     "metadata": {},
     "output_type": "display_data"
    },
    {
     "data": {
      "text/html": [
       "\n",
       "    La solución del problema de condiciones iniciales es\n",
       "    \\(u(x)=-\\frac{1}{154} \\, {\\left(9 \\, \\sqrt{77} e^{\\left(\\sqrt{77} x\\right)} - 9 \\, \\sqrt{77} - 77 \\, e^{\\left(\\sqrt{77} x\\right)} - 77\\right)} e^{\\left(-\\frac{1}{2} \\, \\sqrt{77} x + \\frac{7}{2} \\, x\\right)}\\)\n",
       "    "
      ],
      "text/plain": [
       "\n",
       "    La solución del problema de condiciones iniciales es\n",
       "    \\(u(x)=-\\frac{1}{154} \\, {\\left(9 \\, \\sqrt{77} e^{\\left(\\sqrt{77} x\\right)} - 9 \\, \\sqrt{77} - 77 \\, e^{\\left(\\sqrt{77} x\\right)} - 77\\right)} e^{\\left(-\\frac{1}{2} \\, \\sqrt{77} x + \\frac{7}{2} \\, x\\right)}\\)\n",
       "    "
      ]
     },
     "metadata": {},
     "output_type": "display_data"
    },
    {
     "data": {
      "text/html": [
       "\n",
       "    <h1> EDOs lineales de 2o Orden </h1>\n",
       "    <h2> Caso homogeneo </h2>\n",
       "    <p> Encuentre la solución \\(u(x)\\) de la siguiente ecuación diferencial\n",
       "    \\(-u\\left(x\\right) - 4 \\, \\frac{\\partial}{\\partial x}u\\left(x\\right) + \\frac{\\partial^{2}}{(\\partial x)^{2}}u\\left(x\\right) = 0\\) con condiciones iniciales \\(u(0)=1, \\; u'(0)=0\\)\n",
       "    y evalue en el punto dado:</p>\n",
       "    <pre>\n",
       "    u(1.08) = {1:NM:=5.85556837007004:0.175667051102101}\n",
       "    </pre>\n",
       "    "
      ],
      "text/plain": [
       "\n",
       "    <h1> EDOs lineales de 2o Orden </h1>\n",
       "    <h2> Caso homogeneo </h2>\n",
       "    <p> Encuentre la solución \\(u(x)\\) de la siguiente ecuación diferencial\n",
       "    \\(-u\\left(x\\right) - 4 \\, \\frac{\\partial}{\\partial x}u\\left(x\\right) + \\frac{\\partial^{2}}{(\\partial x)^{2}}u\\left(x\\right) = 0\\) con condiciones iniciales \\(u(0)=1, \\; u'(0)=0\\)\n",
       "    y evalue en el punto dado:</p>\n",
       "    <pre>\n",
       "    u(1.08) = {1:NM:=5.85556837007004:0.175667051102101}\n",
       "    </pre>\n",
       "    "
      ]
     },
     "metadata": {},
     "output_type": "display_data"
    },
    {
     "data": {
      "text/html": [
       "\n",
       "    La solución del problema de condiciones iniciales es\n",
       "    \\(u(x)=-\\frac{1}{10} \\, {\\left(2 \\, \\sqrt{5} e^{\\left(2 \\, \\sqrt{5} x\\right)} - 2 \\, \\sqrt{5} - 5 \\, e^{\\left(2 \\, \\sqrt{5} x\\right)} - 5\\right)} e^{\\left(-\\sqrt{5} x + 2 \\, x\\right)}\\)\n",
       "    "
      ],
      "text/plain": [
       "\n",
       "    La solución del problema de condiciones iniciales es\n",
       "    \\(u(x)=-\\frac{1}{10} \\, {\\left(2 \\, \\sqrt{5} e^{\\left(2 \\, \\sqrt{5} x\\right)} - 2 \\, \\sqrt{5} - 5 \\, e^{\\left(2 \\, \\sqrt{5} x\\right)} - 5\\right)} e^{\\left(-\\sqrt{5} x + 2 \\, x\\right)}\\)\n",
       "    "
      ]
     },
     "metadata": {},
     "output_type": "display_data"
    },
    {
     "data": {
      "text/html": [
       "\n",
       "    <h1> EDOs lineales de 2o Orden </h1>\n",
       "    <h2> Caso homogeneo </h2>\n",
       "    <p> Encuentre la solución \\(u(x)\\) de la siguiente ecuación diferencial\n",
       "    \\(2 \\, u\\left(x\\right) - 4 \\, \\frac{\\partial}{\\partial x}u\\left(x\\right) + \\frac{\\partial^{2}}{(\\partial x)^{2}}u\\left(x\\right) = 0\\) con condiciones iniciales \\(u(0)=1, \\; u'(0)=0\\)\n",
       "    y evalue en el punto dado:</p>\n",
       "    <pre>\n",
       "    u(1.49) = {1:NM:=-30.6478747056604:-0.919436241169812}\n",
       "    </pre>\n",
       "    "
      ],
      "text/plain": [
       "\n",
       "    <h1> EDOs lineales de 2o Orden </h1>\n",
       "    <h2> Caso homogeneo </h2>\n",
       "    <p> Encuentre la solución \\(u(x)\\) de la siguiente ecuación diferencial\n",
       "    \\(2 \\, u\\left(x\\right) - 4 \\, \\frac{\\partial}{\\partial x}u\\left(x\\right) + \\frac{\\partial^{2}}{(\\partial x)^{2}}u\\left(x\\right) = 0\\) con condiciones iniciales \\(u(0)=1, \\; u'(0)=0\\)\n",
       "    y evalue en el punto dado:</p>\n",
       "    <pre>\n",
       "    u(1.49) = {1:NM:=-30.6478747056604:-0.919436241169812}\n",
       "    </pre>\n",
       "    "
      ]
     },
     "metadata": {},
     "output_type": "display_data"
    },
    {
     "data": {
      "text/html": [
       "\n",
       "    La solución del problema de condiciones iniciales es\n",
       "    \\(u(x)=-\\frac{1}{2} \\, {\\left(\\sqrt{2} e^{\\left(2 \\, \\sqrt{2} x\\right)} - \\sqrt{2} - e^{\\left(2 \\, \\sqrt{2} x\\right)} - 1\\right)} e^{\\left(-\\sqrt{2} x + 2 \\, x\\right)}\\)\n",
       "    "
      ],
      "text/plain": [
       "\n",
       "    La solución del problema de condiciones iniciales es\n",
       "    \\(u(x)=-\\frac{1}{2} \\, {\\left(\\sqrt{2} e^{\\left(2 \\, \\sqrt{2} x\\right)} - \\sqrt{2} - e^{\\left(2 \\, \\sqrt{2} x\\right)} - 1\\right)} e^{\\left(-\\sqrt{2} x + 2 \\, x\\right)}\\)\n",
       "    "
      ]
     },
     "metadata": {},
     "output_type": "display_data"
    },
    {
     "data": {
      "text/html": [
       "\n",
       "    <h1> EDOs lineales de 2o Orden </h1>\n",
       "    <h2> Caso homogeneo </h2>\n",
       "    <p> Encuentre la solución \\(u(x)\\) de la siguiente ecuación diferencial\n",
       "    \\(4 \\, \\frac{\\partial}{\\partial x}u\\left(x\\right) + \\frac{\\partial^{2}}{(\\partial x)^{2}}u\\left(x\\right) = 0\\) con condiciones iniciales \\(u(0)=-1, \\; u'(0)=0\\)\n",
       "    y evalue en el punto dado:</p>\n",
       "    <pre>\n",
       "    u(1.63) = {1:NM:=-1.00000000000000:-0.0300000000000000}\n",
       "    </pre>\n",
       "    "
      ],
      "text/plain": [
       "\n",
       "    <h1> EDOs lineales de 2o Orden </h1>\n",
       "    <h2> Caso homogeneo </h2>\n",
       "    <p> Encuentre la solución \\(u(x)\\) de la siguiente ecuación diferencial\n",
       "    \\(4 \\, \\frac{\\partial}{\\partial x}u\\left(x\\right) + \\frac{\\partial^{2}}{(\\partial x)^{2}}u\\left(x\\right) = 0\\) con condiciones iniciales \\(u(0)=-1, \\; u'(0)=0\\)\n",
       "    y evalue en el punto dado:</p>\n",
       "    <pre>\n",
       "    u(1.63) = {1:NM:=-1.00000000000000:-0.0300000000000000}\n",
       "    </pre>\n",
       "    "
      ]
     },
     "metadata": {},
     "output_type": "display_data"
    },
    {
     "data": {
      "text/html": [
       "\n",
       "    La solución del problema de condiciones iniciales es\n",
       "    \\(u(x)=-1\\)\n",
       "    "
      ],
      "text/plain": [
       "\n",
       "    La solución del problema de condiciones iniciales es\n",
       "    \\(u(x)=-1\\)\n",
       "    "
      ]
     },
     "metadata": {},
     "output_type": "display_data"
    },
    {
     "data": {
      "text/html": [
       "\n",
       "    <h1> EDOs lineales de 2o Orden </h1>\n",
       "    <h2> Caso homogeneo </h2>\n",
       "    <p> Encuentre la solución \\(u(x)\\) de la siguiente ecuación diferencial\n",
       "    \\(3 \\, u\\left(x\\right) - 2 \\, \\frac{\\partial}{\\partial x}u\\left(x\\right) + \\frac{\\partial^{2}}{(\\partial x)^{2}}u\\left(x\\right) = 0\\) con condiciones iniciales \\(u(0)=-1, \\; u'(0)=0\\)\n",
       "    y evalue en el punto dado:</p>\n",
       "    <pre>\n",
       "    u(1.16) = {1:NM:=2.47227902863734:0.0741683708591202}\n",
       "    </pre>\n",
       "    "
      ],
      "text/plain": [
       "\n",
       "    <h1> EDOs lineales de 2o Orden </h1>\n",
       "    <h2> Caso homogeneo </h2>\n",
       "    <p> Encuentre la solución \\(u(x)\\) de la siguiente ecuación diferencial\n",
       "    \\(3 \\, u\\left(x\\right) - 2 \\, \\frac{\\partial}{\\partial x}u\\left(x\\right) + \\frac{\\partial^{2}}{(\\partial x)^{2}}u\\left(x\\right) = 0\\) con condiciones iniciales \\(u(0)=-1, \\; u'(0)=0\\)\n",
       "    y evalue en el punto dado:</p>\n",
       "    <pre>\n",
       "    u(1.16) = {1:NM:=2.47227902863734:0.0741683708591202}\n",
       "    </pre>\n",
       "    "
      ]
     },
     "metadata": {},
     "output_type": "display_data"
    },
    {
     "data": {
      "text/html": [
       "\n",
       "    La solución del problema de condiciones iniciales es\n",
       "    \\(u(x)=-\\frac{1}{2} \\, \\sqrt{2} {\\left(\\sqrt{2} \\cos\\left(\\sqrt{2} x\\right) - \\sin\\left(\\sqrt{2} x\\right)\\right)} e^{x}\\)\n",
       "    "
      ],
      "text/plain": [
       "\n",
       "    La solución del problema de condiciones iniciales es\n",
       "    \\(u(x)=-\\frac{1}{2} \\, \\sqrt{2} {\\left(\\sqrt{2} \\cos\\left(\\sqrt{2} x\\right) - \\sin\\left(\\sqrt{2} x\\right)\\right)} e^{x}\\)\n",
       "    "
      ]
     },
     "metadata": {},
     "output_type": "display_data"
    },
    {
     "data": {
      "text/html": [
       "\n",
       "    <h1> EDOs lineales de 2o Orden </h1>\n",
       "    <h2> Caso homogeneo </h2>\n",
       "    <p> Encuentre la solución \\(u(x)\\) de la siguiente ecuación diferencial\n",
       "    \\(7 \\, u\\left(x\\right) + 3 \\, \\frac{\\partial}{\\partial x}u\\left(x\\right) + \\frac{\\partial^{2}}{(\\partial x)^{2}}u\\left(x\\right) = 0\\) con condiciones iniciales \\(u(0)=-1, \\; u'(0)=1\\)\n",
       "    y evalue en el punto dado:</p>\n",
       "    <pre>\n",
       "    u(1.69) = {1:NM:=0.0772901625179631:0.00231870487553889}\n",
       "    </pre>\n",
       "    "
      ],
      "text/plain": [
       "\n",
       "    <h1> EDOs lineales de 2o Orden </h1>\n",
       "    <h2> Caso homogeneo </h2>\n",
       "    <p> Encuentre la solución \\(u(x)\\) de la siguiente ecuación diferencial\n",
       "    \\(7 \\, u\\left(x\\right) + 3 \\, \\frac{\\partial}{\\partial x}u\\left(x\\right) + \\frac{\\partial^{2}}{(\\partial x)^{2}}u\\left(x\\right) = 0\\) con condiciones iniciales \\(u(0)=-1, \\; u'(0)=1\\)\n",
       "    y evalue en el punto dado:</p>\n",
       "    <pre>\n",
       "    u(1.69) = {1:NM:=0.0772901625179631:0.00231870487553889}\n",
       "    </pre>\n",
       "    "
      ]
     },
     "metadata": {},
     "output_type": "display_data"
    },
    {
     "data": {
      "text/html": [
       "\n",
       "    La solución del problema de condiciones iniciales es\n",
       "    \\(u(x)=-\\frac{1}{19} \\, {\\left(\\sqrt{19} \\sin\\left(\\frac{1}{2} \\, \\sqrt{19} x\\right) + 19 \\, \\cos\\left(\\frac{1}{2} \\, \\sqrt{19} x\\right)\\right)} e^{\\left(-\\frac{3}{2} \\, x\\right)}\\)\n",
       "    "
      ],
      "text/plain": [
       "\n",
       "    La solución del problema de condiciones iniciales es\n",
       "    \\(u(x)=-\\frac{1}{19} \\, {\\left(\\sqrt{19} \\sin\\left(\\frac{1}{2} \\, \\sqrt{19} x\\right) + 19 \\, \\cos\\left(\\frac{1}{2} \\, \\sqrt{19} x\\right)\\right)} e^{\\left(-\\frac{3}{2} \\, x\\right)}\\)\n",
       "    "
      ]
     },
     "metadata": {},
     "output_type": "display_data"
    },
    {
     "data": {
      "text/html": [
       "\n",
       "    <h1> EDOs lineales de 2o Orden </h1>\n",
       "    <h2> Caso homogeneo </h2>\n",
       "    <p> Encuentre la solución \\(u(x)\\) de la siguiente ecuación diferencial\n",
       "    \\(-4 \\, u\\left(x\\right) - 3 \\, \\frac{\\partial}{\\partial x}u\\left(x\\right) + \\frac{\\partial^{2}}{(\\partial x)^{2}}u\\left(x\\right) = 0\\) con condiciones iniciales \\(u(0)=-1, \\; u'(0)=1\\)\n",
       "    y evalue en el punto dado:</p>\n",
       "    <pre>\n",
       "    u(1.36) = {1:NM:=-0.256660776953556:-0.00769982330860668}\n",
       "    </pre>\n",
       "    "
      ],
      "text/plain": [
       "\n",
       "    <h1> EDOs lineales de 2o Orden </h1>\n",
       "    <h2> Caso homogeneo </h2>\n",
       "    <p> Encuentre la solución \\(u(x)\\) de la siguiente ecuación diferencial\n",
       "    \\(-4 \\, u\\left(x\\right) - 3 \\, \\frac{\\partial}{\\partial x}u\\left(x\\right) + \\frac{\\partial^{2}}{(\\partial x)^{2}}u\\left(x\\right) = 0\\) con condiciones iniciales \\(u(0)=-1, \\; u'(0)=1\\)\n",
       "    y evalue en el punto dado:</p>\n",
       "    <pre>\n",
       "    u(1.36) = {1:NM:=-0.256660776953556:-0.00769982330860668}\n",
       "    </pre>\n",
       "    "
      ]
     },
     "metadata": {},
     "output_type": "display_data"
    },
    {
     "data": {
      "text/html": [
       "\n",
       "    La solución del problema de condiciones iniciales es\n",
       "    \\(u(x)=-e^{\\left(-x\\right)}\\)\n",
       "    "
      ],
      "text/plain": [
       "\n",
       "    La solución del problema de condiciones iniciales es\n",
       "    \\(u(x)=-e^{\\left(-x\\right)}\\)\n",
       "    "
      ]
     },
     "metadata": {},
     "output_type": "display_data"
    },
    {
     "data": {
      "text/html": [
       "\n",
       "    <h1> EDOs lineales de 2o Orden </h1>\n",
       "    <h2> Caso homogeneo </h2>\n",
       "    <p> Encuentre la solución \\(u(x)\\) de la siguiente ecuación diferencial\n",
       "    \\(-7 \\, u\\left(x\\right) + 2 \\, \\frac{\\partial}{\\partial x}u\\left(x\\right) + \\frac{\\partial^{2}}{(\\partial x)^{2}}u\\left(x\\right) = 0\\) con condiciones iniciales \\(u(0)=1, \\; u'(0)=-1\\)\n",
       "    y evalue en el punto dado:</p>\n",
       "    <pre>\n",
       "    u(1.4) = {1:NM:=6.46895303616208:0.194068591084862}\n",
       "    </pre>\n",
       "    "
      ],
      "text/plain": [
       "\n",
       "    <h1> EDOs lineales de 2o Orden </h1>\n",
       "    <h2> Caso homogeneo </h2>\n",
       "    <p> Encuentre la solución \\(u(x)\\) de la siguiente ecuación diferencial\n",
       "    \\(-7 \\, u\\left(x\\right) + 2 \\, \\frac{\\partial}{\\partial x}u\\left(x\\right) + \\frac{\\partial^{2}}{(\\partial x)^{2}}u\\left(x\\right) = 0\\) con condiciones iniciales \\(u(0)=1, \\; u'(0)=-1\\)\n",
       "    y evalue en el punto dado:</p>\n",
       "    <pre>\n",
       "    u(1.4) = {1:NM:=6.46895303616208:0.194068591084862}\n",
       "    </pre>\n",
       "    "
      ]
     },
     "metadata": {},
     "output_type": "display_data"
    },
    {
     "data": {
      "text/html": [
       "\n",
       "    La solución del problema de condiciones iniciales es\n",
       "    \\(u(x)=\\frac{1}{2} \\, {\\left(e^{\\left(4 \\, \\sqrt{2} x\\right)} + 1\\right)} e^{\\left(-2 \\, \\sqrt{2} x - x\\right)}\\)\n",
       "    "
      ],
      "text/plain": [
       "\n",
       "    La solución del problema de condiciones iniciales es\n",
       "    \\(u(x)=\\frac{1}{2} \\, {\\left(e^{\\left(4 \\, \\sqrt{2} x\\right)} + 1\\right)} e^{\\left(-2 \\, \\sqrt{2} x - x\\right)}\\)\n",
       "    "
      ]
     },
     "metadata": {},
     "output_type": "display_data"
    },
    {
     "data": {
      "text/html": [
       "\n",
       "    <h1> EDOs lineales de 2o Orden </h1>\n",
       "    <h2> Caso homogeneo </h2>\n",
       "    <p> Encuentre la solución \\(u(x)\\) de la siguiente ecuación diferencial\n",
       "    \\(3 \\, u\\left(x\\right) - 4 \\, \\frac{\\partial}{\\partial x}u\\left(x\\right) + \\frac{\\partial^{2}}{(\\partial x)^{2}}u\\left(x\\right) = 0\\) con condiciones iniciales \\(u(0)=-1, \\; u'(0)=-1\\)\n",
       "    y evalue en el punto dado:</p>\n",
       "    <pre>\n",
       "    u(1.64) = {1:NM:=-5.15516951223468:-0.154655085367040}\n",
       "    </pre>\n",
       "    "
      ],
      "text/plain": [
       "\n",
       "    <h1> EDOs lineales de 2o Orden </h1>\n",
       "    <h2> Caso homogeneo </h2>\n",
       "    <p> Encuentre la solución \\(u(x)\\) de la siguiente ecuación diferencial\n",
       "    \\(3 \\, u\\left(x\\right) - 4 \\, \\frac{\\partial}{\\partial x}u\\left(x\\right) + \\frac{\\partial^{2}}{(\\partial x)^{2}}u\\left(x\\right) = 0\\) con condiciones iniciales \\(u(0)=-1, \\; u'(0)=-1\\)\n",
       "    y evalue en el punto dado:</p>\n",
       "    <pre>\n",
       "    u(1.64) = {1:NM:=-5.15516951223468:-0.154655085367040}\n",
       "    </pre>\n",
       "    "
      ]
     },
     "metadata": {},
     "output_type": "display_data"
    },
    {
     "data": {
      "text/html": [
       "\n",
       "    La solución del problema de condiciones iniciales es\n",
       "    \\(u(x)=-e^{x}\\)\n",
       "    "
      ],
      "text/plain": [
       "\n",
       "    La solución del problema de condiciones iniciales es\n",
       "    \\(u(x)=-e^{x}\\)\n",
       "    "
      ]
     },
     "metadata": {},
     "output_type": "display_data"
    },
    {
     "data": {
      "text/html": [
       "\n",
       "    <h1> EDOs lineales de 2o Orden </h1>\n",
       "    <h2> Caso homogeneo </h2>\n",
       "    <p> Encuentre la solución \\(u(x)\\) de la siguiente ecuación diferencial\n",
       "    \\(-10 \\, u\\left(x\\right) + 6 \\, \\frac{\\partial}{\\partial x}u\\left(x\\right) + \\frac{\\partial^{2}}{(\\partial x)^{2}}u\\left(x\\right) = 0\\) con condiciones iniciales \\(u(0)=-1, \\; u'(0)=-1\\)\n",
       "    y evalue en el punto dado:</p>\n",
       "    <pre>\n",
       "    u(1.29) = {1:NM:=-5.53416247790544:-0.166024874337163}\n",
       "    </pre>\n",
       "    "
      ],
      "text/plain": [
       "\n",
       "    <h1> EDOs lineales de 2o Orden </h1>\n",
       "    <h2> Caso homogeneo </h2>\n",
       "    <p> Encuentre la solución \\(u(x)\\) de la siguiente ecuación diferencial\n",
       "    \\(-10 \\, u\\left(x\\right) + 6 \\, \\frac{\\partial}{\\partial x}u\\left(x\\right) + \\frac{\\partial^{2}}{(\\partial x)^{2}}u\\left(x\\right) = 0\\) con condiciones iniciales \\(u(0)=-1, \\; u'(0)=-1\\)\n",
       "    y evalue en el punto dado:</p>\n",
       "    <pre>\n",
       "    u(1.29) = {1:NM:=-5.53416247790544:-0.166024874337163}\n",
       "    </pre>\n",
       "    "
      ]
     },
     "metadata": {},
     "output_type": "display_data"
    },
    {
     "data": {
      "text/html": [
       "\n",
       "    La solución del problema de condiciones iniciales es\n",
       "    \\(u(x)=-\\frac{1}{38} \\, {\\left(4 \\, \\sqrt{19} e^{\\left(2 \\, \\sqrt{19} x\\right)} - 4 \\, \\sqrt{19} + 19 \\, e^{\\left(2 \\, \\sqrt{19} x\\right)} + 19\\right)} e^{\\left(-\\sqrt{19} x - 3 \\, x\\right)}\\)\n",
       "    "
      ],
      "text/plain": [
       "\n",
       "    La solución del problema de condiciones iniciales es\n",
       "    \\(u(x)=-\\frac{1}{38} \\, {\\left(4 \\, \\sqrt{19} e^{\\left(2 \\, \\sqrt{19} x\\right)} - 4 \\, \\sqrt{19} + 19 \\, e^{\\left(2 \\, \\sqrt{19} x\\right)} + 19\\right)} e^{\\left(-\\sqrt{19} x - 3 \\, x\\right)}\\)\n",
       "    "
      ]
     },
     "metadata": {},
     "output_type": "display_data"
    },
    {
     "data": {
      "text/html": [
       "\n",
       "    <h1> EDOs lineales de 2o Orden </h1>\n",
       "    <h2> Caso homogeneo </h2>\n",
       "    <p> Encuentre la solución \\(u(x)\\) de la siguiente ecuación diferencial\n",
       "    \\(3 \\, u\\left(x\\right) + 3 \\, \\frac{\\partial}{\\partial x}u\\left(x\\right) + \\frac{\\partial^{2}}{(\\partial x)^{2}}u\\left(x\\right) = 0\\) con condiciones iniciales \\(u(0)=1, \\; u'(0)=0\\)\n",
       "    y evalue en el punto dado:</p>\n",
       "    <pre>\n",
       "    u(1.67) = {1:NM:=0.150515834385274:0.00451547503155822}\n",
       "    </pre>\n",
       "    "
      ],
      "text/plain": [
       "\n",
       "    <h1> EDOs lineales de 2o Orden </h1>\n",
       "    <h2> Caso homogeneo </h2>\n",
       "    <p> Encuentre la solución \\(u(x)\\) de la siguiente ecuación diferencial\n",
       "    \\(3 \\, u\\left(x\\right) + 3 \\, \\frac{\\partial}{\\partial x}u\\left(x\\right) + \\frac{\\partial^{2}}{(\\partial x)^{2}}u\\left(x\\right) = 0\\) con condiciones iniciales \\(u(0)=1, \\; u'(0)=0\\)\n",
       "    y evalue en el punto dado:</p>\n",
       "    <pre>\n",
       "    u(1.67) = {1:NM:=0.150515834385274:0.00451547503155822}\n",
       "    </pre>\n",
       "    "
      ]
     },
     "metadata": {},
     "output_type": "display_data"
    },
    {
     "data": {
      "text/html": [
       "\n",
       "    La solución del problema de condiciones iniciales es\n",
       "    \\(u(x)={\\left(\\sqrt{3} \\sin\\left(\\frac{1}{2} \\, \\sqrt{3} x\\right) + \\cos\\left(\\frac{1}{2} \\, \\sqrt{3} x\\right)\\right)} e^{\\left(-\\frac{3}{2} \\, x\\right)}\\)\n",
       "    "
      ],
      "text/plain": [
       "\n",
       "    La solución del problema de condiciones iniciales es\n",
       "    \\(u(x)={\\left(\\sqrt{3} \\sin\\left(\\frac{1}{2} \\, \\sqrt{3} x\\right) + \\cos\\left(\\frac{1}{2} \\, \\sqrt{3} x\\right)\\right)} e^{\\left(-\\frac{3}{2} \\, x\\right)}\\)\n",
       "    "
      ]
     },
     "metadata": {},
     "output_type": "display_data"
    },
    {
     "data": {
      "text/html": [
       "\n",
       "    <h1> EDOs lineales de 2o Orden </h1>\n",
       "    <h2> Caso homogeneo </h2>\n",
       "    <p> Encuentre la solución \\(u(x)\\) de la siguiente ecuación diferencial\n",
       "    \\(-2 \\, u\\left(x\\right) - 4 \\, \\frac{\\partial}{\\partial x}u\\left(x\\right) + \\frac{\\partial^{2}}{(\\partial x)^{2}}u\\left(x\\right) = 0\\) con condiciones iniciales \\(u(0)=-1, \\; u'(0)=-1\\)\n",
       "    y evalue en el punto dado:</p>\n",
       "    <pre>\n",
       "    u(1.46) = {1:NM:=-196.429011748046:-5.89287035244138}\n",
       "    </pre>\n",
       "    "
      ],
      "text/plain": [
       "\n",
       "    <h1> EDOs lineales de 2o Orden </h1>\n",
       "    <h2> Caso homogeneo </h2>\n",
       "    <p> Encuentre la solución \\(u(x)\\) de la siguiente ecuación diferencial\n",
       "    \\(-2 \\, u\\left(x\\right) - 4 \\, \\frac{\\partial}{\\partial x}u\\left(x\\right) + \\frac{\\partial^{2}}{(\\partial x)^{2}}u\\left(x\\right) = 0\\) con condiciones iniciales \\(u(0)=-1, \\; u'(0)=-1\\)\n",
       "    y evalue en el punto dado:</p>\n",
       "    <pre>\n",
       "    u(1.46) = {1:NM:=-196.429011748046:-5.89287035244138}\n",
       "    </pre>\n",
       "    "
      ]
     },
     "metadata": {},
     "output_type": "display_data"
    },
    {
     "data": {
      "text/html": [
       "\n",
       "    La solución del problema de condiciones iniciales es\n",
       "    \\(u(x)=\\frac{1}{12} \\, {\\left(\\sqrt{6} e^{\\left(2 \\, \\sqrt{6} x\\right)} - \\sqrt{6} - 6 \\, e^{\\left(2 \\, \\sqrt{6} x\\right)} - 6\\right)} e^{\\left(-\\sqrt{6} x + 2 \\, x\\right)}\\)\n",
       "    "
      ],
      "text/plain": [
       "\n",
       "    La solución del problema de condiciones iniciales es\n",
       "    \\(u(x)=\\frac{1}{12} \\, {\\left(\\sqrt{6} e^{\\left(2 \\, \\sqrt{6} x\\right)} - \\sqrt{6} - 6 \\, e^{\\left(2 \\, \\sqrt{6} x\\right)} - 6\\right)} e^{\\left(-\\sqrt{6} x + 2 \\, x\\right)}\\)\n",
       "    "
      ]
     },
     "metadata": {},
     "output_type": "display_data"
    },
    {
     "data": {
      "text/html": [
       "\n",
       "    <h1> EDOs lineales de 2o Orden </h1>\n",
       "    <h2> Caso homogeneo </h2>\n",
       "    <p> Encuentre la solución \\(u(x)\\) de la siguiente ecuación diferencial\n",
       "    \\(7 \\, u\\left(x\\right) + \\frac{\\partial^{2}}{(\\partial x)^{2}}u\\left(x\\right) = 0\\) con condiciones iniciales \\(u(0)=-1, \\; u'(0)=0\\)\n",
       "    y evalue en el punto dado:</p>\n",
       "    <pre>\n",
       "    u(1.56) = {1:NM:=0.552213501268537:0.0165664050380561}\n",
       "    </pre>\n",
       "    "
      ],
      "text/plain": [
       "\n",
       "    <h1> EDOs lineales de 2o Orden </h1>\n",
       "    <h2> Caso homogeneo </h2>\n",
       "    <p> Encuentre la solución \\(u(x)\\) de la siguiente ecuación diferencial\n",
       "    \\(7 \\, u\\left(x\\right) + \\frac{\\partial^{2}}{(\\partial x)^{2}}u\\left(x\\right) = 0\\) con condiciones iniciales \\(u(0)=-1, \\; u'(0)=0\\)\n",
       "    y evalue en el punto dado:</p>\n",
       "    <pre>\n",
       "    u(1.56) = {1:NM:=0.552213501268537:0.0165664050380561}\n",
       "    </pre>\n",
       "    "
      ]
     },
     "metadata": {},
     "output_type": "display_data"
    },
    {
     "data": {
      "text/html": [
       "\n",
       "    La solución del problema de condiciones iniciales es\n",
       "    \\(u(x)=-\\cos\\left(\\sqrt{7} x\\right)\\)\n",
       "    "
      ],
      "text/plain": [
       "\n",
       "    La solución del problema de condiciones iniciales es\n",
       "    \\(u(x)=-\\cos\\left(\\sqrt{7} x\\right)\\)\n",
       "    "
      ]
     },
     "metadata": {},
     "output_type": "display_data"
    },
    {
     "data": {
      "text/html": [
       "\n",
       "    <h1> EDOs lineales de 2o Orden </h1>\n",
       "    <h2> Caso homogeneo </h2>\n",
       "    <p> Encuentre la solución \\(u(x)\\) de la siguiente ecuación diferencial\n",
       "    \\(4 \\, u\\left(x\\right) - \\frac{\\partial}{\\partial x}u\\left(x\\right) + \\frac{\\partial^{2}}{(\\partial x)^{2}}u\\left(x\\right) = 0\\) con condiciones iniciales \\(u(0)=-1, \\; u'(0)=1\\)\n",
       "    y evalue en el punto dado:</p>\n",
       "    <pre>\n",
       "    u(1.42) = {1:NM:=2.48146216698618:0.0744438650095854}\n",
       "    </pre>\n",
       "    "
      ],
      "text/plain": [
       "\n",
       "    <h1> EDOs lineales de 2o Orden </h1>\n",
       "    <h2> Caso homogeneo </h2>\n",
       "    <p> Encuentre la solución \\(u(x)\\) de la siguiente ecuación diferencial\n",
       "    \\(4 \\, u\\left(x\\right) - \\frac{\\partial}{\\partial x}u\\left(x\\right) + \\frac{\\partial^{2}}{(\\partial x)^{2}}u\\left(x\\right) = 0\\) con condiciones iniciales \\(u(0)=-1, \\; u'(0)=1\\)\n",
       "    y evalue en el punto dado:</p>\n",
       "    <pre>\n",
       "    u(1.42) = {1:NM:=2.48146216698618:0.0744438650095854}\n",
       "    </pre>\n",
       "    "
      ]
     },
     "metadata": {},
     "output_type": "display_data"
    },
    {
     "data": {
      "text/html": [
       "\n",
       "    La solución del problema de condiciones iniciales es\n",
       "    \\(u(x)=\\frac{1}{5} \\, {\\left(\\sqrt{15} \\sin\\left(\\frac{1}{2} \\, \\sqrt{15} x\\right) - 5 \\, \\cos\\left(\\frac{1}{2} \\, \\sqrt{15} x\\right)\\right)} e^{\\left(\\frac{1}{2} \\, x\\right)}\\)\n",
       "    "
      ],
      "text/plain": [
       "\n",
       "    La solución del problema de condiciones iniciales es\n",
       "    \\(u(x)=\\frac{1}{5} \\, {\\left(\\sqrt{15} \\sin\\left(\\frac{1}{2} \\, \\sqrt{15} x\\right) - 5 \\, \\cos\\left(\\frac{1}{2} \\, \\sqrt{15} x\\right)\\right)} e^{\\left(\\frac{1}{2} \\, x\\right)}\\)\n",
       "    "
      ]
     },
     "metadata": {},
     "output_type": "display_data"
    },
    {
     "data": {
      "text/html": [
       "\n",
       "    <h1> EDOs lineales de 2o Orden </h1>\n",
       "    <h2> Caso homogeneo </h2>\n",
       "    <p> Encuentre la solución \\(u(x)\\) de la siguiente ecuación diferencial\n",
       "    \\(-9 \\, u\\left(x\\right) - 5 \\, \\frac{\\partial}{\\partial x}u\\left(x\\right) + \\frac{\\partial^{2}}{(\\partial x)^{2}}u\\left(x\\right) = 0\\) con condiciones iniciales \\(u(0)=1, \\; u'(0)=1\\)\n",
       "    y evalue en el punto dado:</p>\n",
       "    <pre>\n",
       "    u(1.0) = {1:NM:=186.457013743468:5.59371041230404}\n",
       "    </pre>\n",
       "    "
      ],
      "text/plain": [
       "\n",
       "    <h1> EDOs lineales de 2o Orden </h1>\n",
       "    <h2> Caso homogeneo </h2>\n",
       "    <p> Encuentre la solución \\(u(x)\\) de la siguiente ecuación diferencial\n",
       "    \\(-9 \\, u\\left(x\\right) - 5 \\, \\frac{\\partial}{\\partial x}u\\left(x\\right) + \\frac{\\partial^{2}}{(\\partial x)^{2}}u\\left(x\\right) = 0\\) con condiciones iniciales \\(u(0)=1, \\; u'(0)=1\\)\n",
       "    y evalue en el punto dado:</p>\n",
       "    <pre>\n",
       "    u(1.0) = {1:NM:=186.457013743468:5.59371041230404}\n",
       "    </pre>\n",
       "    "
      ]
     },
     "metadata": {},
     "output_type": "display_data"
    },
    {
     "data": {
      "text/html": [
       "\n",
       "    La solución del problema de condiciones iniciales es\n",
       "    \\(u(x)=-\\frac{1}{122} \\, {\\left(3 \\, \\sqrt{61} e^{\\left(\\sqrt{61} x\\right)} - 3 \\, \\sqrt{61} - 61 \\, e^{\\left(\\sqrt{61} x\\right)} - 61\\right)} e^{\\left(-\\frac{1}{2} \\, \\sqrt{61} x + \\frac{5}{2} \\, x\\right)}\\)\n",
       "    "
      ],
      "text/plain": [
       "\n",
       "    La solución del problema de condiciones iniciales es\n",
       "    \\(u(x)=-\\frac{1}{122} \\, {\\left(3 \\, \\sqrt{61} e^{\\left(\\sqrt{61} x\\right)} - 3 \\, \\sqrt{61} - 61 \\, e^{\\left(\\sqrt{61} x\\right)} - 61\\right)} e^{\\left(-\\frac{1}{2} \\, \\sqrt{61} x + \\frac{5}{2} \\, x\\right)}\\)\n",
       "    "
      ]
     },
     "metadata": {},
     "output_type": "display_data"
    },
    {
     "data": {
      "text/html": [
       "\n",
       "    <h1> EDOs lineales de 2o Orden </h1>\n",
       "    <h2> Caso homogeneo </h2>\n",
       "    <p> Encuentre la solución \\(u(x)\\) de la siguiente ecuación diferencial\n",
       "    \\(3 \\, u\\left(x\\right) + 4 \\, \\frac{\\partial}{\\partial x}u\\left(x\\right) + \\frac{\\partial^{2}}{(\\partial x)^{2}}u\\left(x\\right) = 0\\) con condiciones iniciales \\(u(0)=1, \\; u'(0)=1\\)\n",
       "    y evalue en el punto dado:</p>\n",
       "    <pre>\n",
       "    u(1.21) = {1:NM:=0.569878374450881:0.0170963512335264}\n",
       "    </pre>\n",
       "    "
      ],
      "text/plain": [
       "\n",
       "    <h1> EDOs lineales de 2o Orden </h1>\n",
       "    <h2> Caso homogeneo </h2>\n",
       "    <p> Encuentre la solución \\(u(x)\\) de la siguiente ecuación diferencial\n",
       "    \\(3 \\, u\\left(x\\right) + 4 \\, \\frac{\\partial}{\\partial x}u\\left(x\\right) + \\frac{\\partial^{2}}{(\\partial x)^{2}}u\\left(x\\right) = 0\\) con condiciones iniciales \\(u(0)=1, \\; u'(0)=1\\)\n",
       "    y evalue en el punto dado:</p>\n",
       "    <pre>\n",
       "    u(1.21) = {1:NM:=0.569878374450881:0.0170963512335264}\n",
       "    </pre>\n",
       "    "
      ]
     },
     "metadata": {},
     "output_type": "display_data"
    },
    {
     "data": {
      "text/html": [
       "\n",
       "    La solución del problema de condiciones iniciales es\n",
       "    \\(u(x)={\\left(2 \\, e^{\\left(2 \\, x\\right)} - 1\\right)} e^{\\left(-3 \\, x\\right)}\\)\n",
       "    "
      ],
      "text/plain": [
       "\n",
       "    La solución del problema de condiciones iniciales es\n",
       "    \\(u(x)={\\left(2 \\, e^{\\left(2 \\, x\\right)} - 1\\right)} e^{\\left(-3 \\, x\\right)}\\)\n",
       "    "
      ]
     },
     "metadata": {},
     "output_type": "display_data"
    },
    {
     "data": {
      "text/html": [
       "\n",
       "    <h1> EDOs lineales de 2o Orden </h1>\n",
       "    <h2> Caso homogeneo </h2>\n",
       "    <p> Encuentre la solución \\(u(x)\\) de la siguiente ecuación diferencial\n",
       "    \\(7 \\, u\\left(x\\right) - \\frac{\\partial}{\\partial x}u\\left(x\\right) + \\frac{\\partial^{2}}{(\\partial x)^{2}}u\\left(x\\right) = 0\\) con condiciones iniciales \\(u(0)=1, \\; u'(0)=-1\\)\n",
       "    y evalue en el punto dado:</p>\n",
       "    <pre>\n",
       "    u(1.56) = {1:NM:=-0.341000925320663:-0.0102300277596199}\n",
       "    </pre>\n",
       "    "
      ],
      "text/plain": [
       "\n",
       "    <h1> EDOs lineales de 2o Orden </h1>\n",
       "    <h2> Caso homogeneo </h2>\n",
       "    <p> Encuentre la solución \\(u(x)\\) de la siguiente ecuación diferencial\n",
       "    \\(7 \\, u\\left(x\\right) - \\frac{\\partial}{\\partial x}u\\left(x\\right) + \\frac{\\partial^{2}}{(\\partial x)^{2}}u\\left(x\\right) = 0\\) con condiciones iniciales \\(u(0)=1, \\; u'(0)=-1\\)\n",
       "    y evalue en el punto dado:</p>\n",
       "    <pre>\n",
       "    u(1.56) = {1:NM:=-0.341000925320663:-0.0102300277596199}\n",
       "    </pre>\n",
       "    "
      ]
     },
     "metadata": {},
     "output_type": "display_data"
    },
    {
     "data": {
      "text/html": [
       "\n",
       "    La solución del problema de condiciones iniciales es\n",
       "    \\(u(x)=\\frac{1}{3} \\, \\sqrt{3} {\\left(\\sqrt{3} \\cos\\left(\\frac{3}{2} \\, \\sqrt{3} x\\right) - \\sin\\left(\\frac{3}{2} \\, \\sqrt{3} x\\right)\\right)} e^{\\left(\\frac{1}{2} \\, x\\right)}\\)\n",
       "    "
      ],
      "text/plain": [
       "\n",
       "    La solución del problema de condiciones iniciales es\n",
       "    \\(u(x)=\\frac{1}{3} \\, \\sqrt{3} {\\left(\\sqrt{3} \\cos\\left(\\frac{3}{2} \\, \\sqrt{3} x\\right) - \\sin\\left(\\frac{3}{2} \\, \\sqrt{3} x\\right)\\right)} e^{\\left(\\frac{1}{2} \\, x\\right)}\\)\n",
       "    "
      ]
     },
     "metadata": {},
     "output_type": "display_data"
    },
    {
     "data": {
      "text/html": [
       "\n",
       "    <h1> EDOs lineales de 2o Orden </h1>\n",
       "    <h2> Caso homogeneo </h2>\n",
       "    <p> Encuentre la solución \\(u(x)\\) de la siguiente ecuación diferencial\n",
       "    \\(\\frac{\\partial}{\\partial x}u\\left(x\\right) + \\frac{\\partial^{2}}{(\\partial x)^{2}}u\\left(x\\right) = 0\\) con condiciones iniciales \\(u(0)=1, \\; u'(0)=1\\)\n",
       "    y evalue en el punto dado:</p>\n",
       "    <pre>\n",
       "    u(1.63) = {1:NM:=1.80407042587309:0.0541221127761927}\n",
       "    </pre>\n",
       "    "
      ],
      "text/plain": [
       "\n",
       "    <h1> EDOs lineales de 2o Orden </h1>\n",
       "    <h2> Caso homogeneo </h2>\n",
       "    <p> Encuentre la solución \\(u(x)\\) de la siguiente ecuación diferencial\n",
       "    \\(\\frac{\\partial}{\\partial x}u\\left(x\\right) + \\frac{\\partial^{2}}{(\\partial x)^{2}}u\\left(x\\right) = 0\\) con condiciones iniciales \\(u(0)=1, \\; u'(0)=1\\)\n",
       "    y evalue en el punto dado:</p>\n",
       "    <pre>\n",
       "    u(1.63) = {1:NM:=1.80407042587309:0.0541221127761927}\n",
       "    </pre>\n",
       "    "
      ]
     },
     "metadata": {},
     "output_type": "display_data"
    },
    {
     "data": {
      "text/html": [
       "\n",
       "    La solución del problema de condiciones iniciales es\n",
       "    \\(u(x)={\\left(2 \\, e^{x} - 1\\right)} e^{\\left(-x\\right)}\\)\n",
       "    "
      ],
      "text/plain": [
       "\n",
       "    La solución del problema de condiciones iniciales es\n",
       "    \\(u(x)={\\left(2 \\, e^{x} - 1\\right)} e^{\\left(-x\\right)}\\)\n",
       "    "
      ]
     },
     "metadata": {},
     "output_type": "display_data"
    },
    {
     "data": {
      "text/html": [
       "\n",
       "    <h1> EDOs lineales de 2o Orden </h1>\n",
       "    <h2> Caso homogeneo </h2>\n",
       "    <p> Encuentre la solución \\(u(x)\\) de la siguiente ecuación diferencial\n",
       "    \\(-7 \\, u\\left(x\\right) + 4 \\, \\frac{\\partial}{\\partial x}u\\left(x\\right) + \\frac{\\partial^{2}}{(\\partial x)^{2}}u\\left(x\\right) = 0\\) con condiciones iniciales \\(u(0)=0, \\; u'(0)=1\\)\n",
       "    y evalue en el punto dado:</p>\n",
       "    <pre>\n",
       "    u(1.07) = {1:NM:=0.616230781662813:0.0184869234498844}\n",
       "    </pre>\n",
       "    "
      ],
      "text/plain": [
       "\n",
       "    <h1> EDOs lineales de 2o Orden </h1>\n",
       "    <h2> Caso homogeneo </h2>\n",
       "    <p> Encuentre la solución \\(u(x)\\) de la siguiente ecuación diferencial\n",
       "    \\(-7 \\, u\\left(x\\right) + 4 \\, \\frac{\\partial}{\\partial x}u\\left(x\\right) + \\frac{\\partial^{2}}{(\\partial x)^{2}}u\\left(x\\right) = 0\\) con condiciones iniciales \\(u(0)=0, \\; u'(0)=1\\)\n",
       "    y evalue en el punto dado:</p>\n",
       "    <pre>\n",
       "    u(1.07) = {1:NM:=0.616230781662813:0.0184869234498844}\n",
       "    </pre>\n",
       "    "
      ]
     },
     "metadata": {},
     "output_type": "display_data"
    },
    {
     "data": {
      "text/html": [
       "\n",
       "    La solución del problema de condiciones iniciales es\n",
       "    \\(u(x)=\\frac{1}{22} \\, \\sqrt{11} {\\left(e^{\\left(\\sqrt{11} x\\right)} + 1\\right)} {\\left(e^{\\left(\\sqrt{11} x\\right)} - 1\\right)} e^{\\left(-\\sqrt{11} x - 2 \\, x\\right)}\\)\n",
       "    "
      ],
      "text/plain": [
       "\n",
       "    La solución del problema de condiciones iniciales es\n",
       "    \\(u(x)=\\frac{1}{22} \\, \\sqrt{11} {\\left(e^{\\left(\\sqrt{11} x\\right)} + 1\\right)} {\\left(e^{\\left(\\sqrt{11} x\\right)} - 1\\right)} e^{\\left(-\\sqrt{11} x - 2 \\, x\\right)}\\)\n",
       "    "
      ]
     },
     "metadata": {},
     "output_type": "display_data"
    },
    {
     "data": {
      "text/html": [
       "\n",
       "    <h1> EDOs lineales de 2o Orden </h1>\n",
       "    <h2> Caso homogeneo </h2>\n",
       "    <p> Encuentre la solución \\(u(x)\\) de la siguiente ecuación diferencial\n",
       "    \\(-6 \\, u\\left(x\\right) + 6 \\, \\frac{\\partial}{\\partial x}u\\left(x\\right) + \\frac{\\partial^{2}}{(\\partial x)^{2}}u\\left(x\\right) = 0\\) con condiciones iniciales \\(u(0)=-1, \\; u'(0)=-1\\)\n",
       "    y evalue en el punto dado:</p>\n",
       "    <pre>\n",
       "    u(1.03) = {1:NM:=-2.49785435108795:-0.0749356305326386}\n",
       "    </pre>\n",
       "    "
      ],
      "text/plain": [
       "\n",
       "    <h1> EDOs lineales de 2o Orden </h1>\n",
       "    <h2> Caso homogeneo </h2>\n",
       "    <p> Encuentre la solución \\(u(x)\\) de la siguiente ecuación diferencial\n",
       "    \\(-6 \\, u\\left(x\\right) + 6 \\, \\frac{\\partial}{\\partial x}u\\left(x\\right) + \\frac{\\partial^{2}}{(\\partial x)^{2}}u\\left(x\\right) = 0\\) con condiciones iniciales \\(u(0)=-1, \\; u'(0)=-1\\)\n",
       "    y evalue en el punto dado:</p>\n",
       "    <pre>\n",
       "    u(1.03) = {1:NM:=-2.49785435108795:-0.0749356305326386}\n",
       "    </pre>\n",
       "    "
      ]
     },
     "metadata": {},
     "output_type": "display_data"
    },
    {
     "data": {
      "text/html": [
       "\n",
       "    La solución del problema de condiciones iniciales es\n",
       "    \\(u(x)=-\\frac{1}{30} \\, {\\left(4 \\, \\sqrt{15} e^{\\left(2 \\, \\sqrt{15} x\\right)} - 4 \\, \\sqrt{15} + 15 \\, e^{\\left(2 \\, \\sqrt{15} x\\right)} + 15\\right)} e^{\\left(-\\sqrt{15} x - 3 \\, x\\right)}\\)\n",
       "    "
      ],
      "text/plain": [
       "\n",
       "    La solución del problema de condiciones iniciales es\n",
       "    \\(u(x)=-\\frac{1}{30} \\, {\\left(4 \\, \\sqrt{15} e^{\\left(2 \\, \\sqrt{15} x\\right)} - 4 \\, \\sqrt{15} + 15 \\, e^{\\left(2 \\, \\sqrt{15} x\\right)} + 15\\right)} e^{\\left(-\\sqrt{15} x - 3 \\, x\\right)}\\)\n",
       "    "
      ]
     },
     "metadata": {},
     "output_type": "display_data"
    },
    {
     "data": {
      "text/html": [
       "\n",
       "    <h1> EDOs lineales de 2o Orden </h1>\n",
       "    <h2> Caso homogeneo </h2>\n",
       "    <p> Encuentre la solución \\(u(x)\\) de la siguiente ecuación diferencial\n",
       "    \\(-8 \\, u\\left(x\\right) - \\frac{\\partial}{\\partial x}u\\left(x\\right) + \\frac{\\partial^{2}}{(\\partial x)^{2}}u\\left(x\\right) = 0\\) con condiciones iniciales \\(u(0)=0, \\; u'(0)=-1\\)\n",
       "    y evalue en el punto dado:</p>\n",
       "    <pre>\n",
       "    u(1.46) = {1:NM:=-23.9279954125448:-0.717839862376345}\n",
       "    </pre>\n",
       "    "
      ],
      "text/plain": [
       "\n",
       "    <h1> EDOs lineales de 2o Orden </h1>\n",
       "    <h2> Caso homogeneo </h2>\n",
       "    <p> Encuentre la solución \\(u(x)\\) de la siguiente ecuación diferencial\n",
       "    \\(-8 \\, u\\left(x\\right) - \\frac{\\partial}{\\partial x}u\\left(x\\right) + \\frac{\\partial^{2}}{(\\partial x)^{2}}u\\left(x\\right) = 0\\) con condiciones iniciales \\(u(0)=0, \\; u'(0)=-1\\)\n",
       "    y evalue en el punto dado:</p>\n",
       "    <pre>\n",
       "    u(1.46) = {1:NM:=-23.9279954125448:-0.717839862376345}\n",
       "    </pre>\n",
       "    "
      ]
     },
     "metadata": {},
     "output_type": "display_data"
    },
    {
     "data": {
      "text/html": [
       "\n",
       "    La solución del problema de condiciones iniciales es\n",
       "    \\(u(x)=-\\frac{1}{33} \\, \\sqrt{33} {\\left(e^{\\left(\\sqrt{33} x\\right)} - 1\\right)} e^{\\left(-\\frac{1}{2} \\, \\sqrt{33} x + \\frac{1}{2} \\, x\\right)}\\)\n",
       "    "
      ],
      "text/plain": [
       "\n",
       "    La solución del problema de condiciones iniciales es\n",
       "    \\(u(x)=-\\frac{1}{33} \\, \\sqrt{33} {\\left(e^{\\left(\\sqrt{33} x\\right)} - 1\\right)} e^{\\left(-\\frac{1}{2} \\, \\sqrt{33} x + \\frac{1}{2} \\, x\\right)}\\)\n",
       "    "
      ]
     },
     "metadata": {},
     "output_type": "display_data"
    },
    {
     "data": {
      "text/html": [
       "\n",
       "    <h1> EDOs lineales de 2o Orden </h1>\n",
       "    <h2> Caso homogeneo </h2>\n",
       "    <p> Encuentre la solución \\(u(x)\\) de la siguiente ecuación diferencial\n",
       "    \\(5 \\, u\\left(x\\right) - \\frac{\\partial}{\\partial x}u\\left(x\\right) + \\frac{\\partial^{2}}{(\\partial x)^{2}}u\\left(x\\right) = 0\\) con condiciones iniciales \\(u(0)=1, \\; u'(0)=1\\)\n",
       "    y evalue en el punto dado:</p>\n",
       "    <pre>\n",
       "    u(1.05) = {1:NM:=-0.819471876515263:-0.0245841562954579}\n",
       "    </pre>\n",
       "    "
      ],
      "text/plain": [
       "\n",
       "    <h1> EDOs lineales de 2o Orden </h1>\n",
       "    <h2> Caso homogeneo </h2>\n",
       "    <p> Encuentre la solución \\(u(x)\\) de la siguiente ecuación diferencial\n",
       "    \\(5 \\, u\\left(x\\right) - \\frac{\\partial}{\\partial x}u\\left(x\\right) + \\frac{\\partial^{2}}{(\\partial x)^{2}}u\\left(x\\right) = 0\\) con condiciones iniciales \\(u(0)=1, \\; u'(0)=1\\)\n",
       "    y evalue en el punto dado:</p>\n",
       "    <pre>\n",
       "    u(1.05) = {1:NM:=-0.819471876515263:-0.0245841562954579}\n",
       "    </pre>\n",
       "    "
      ]
     },
     "metadata": {},
     "output_type": "display_data"
    },
    {
     "data": {
      "text/html": [
       "\n",
       "    La solución del problema de condiciones iniciales es\n",
       "    \\(u(x)=\\frac{1}{19} \\, \\sqrt{19} {\\left(\\sqrt{19} \\cos\\left(\\frac{1}{2} \\, \\sqrt{19} x\\right) + \\sin\\left(\\frac{1}{2} \\, \\sqrt{19} x\\right)\\right)} e^{\\left(\\frac{1}{2} \\, x\\right)}\\)\n",
       "    "
      ],
      "text/plain": [
       "\n",
       "    La solución del problema de condiciones iniciales es\n",
       "    \\(u(x)=\\frac{1}{19} \\, \\sqrt{19} {\\left(\\sqrt{19} \\cos\\left(\\frac{1}{2} \\, \\sqrt{19} x\\right) + \\sin\\left(\\frac{1}{2} \\, \\sqrt{19} x\\right)\\right)} e^{\\left(\\frac{1}{2} \\, x\\right)}\\)\n",
       "    "
      ]
     },
     "metadata": {},
     "output_type": "display_data"
    },
    {
     "data": {
      "text/html": [
       "\n",
       "    <h1> EDOs lineales de 2o Orden </h1>\n",
       "    <h2> Caso homogeneo </h2>\n",
       "    <p> Encuentre la solución \\(u(x)\\) de la siguiente ecuación diferencial\n",
       "    \\(-7 \\, u\\left(x\\right) - 6 \\, \\frac{\\partial}{\\partial x}u\\left(x\\right) + \\frac{\\partial^{2}}{(\\partial x)^{2}}u\\left(x\\right) = 0\\) con condiciones iniciales \\(u(0)=1, \\; u'(0)=0\\)\n",
       "    y evalue en el punto dado:</p>\n",
       "    <pre>\n",
       "    u(1.17) = {1:NM:=450.861851881530:13.5258555564459}\n",
       "    </pre>\n",
       "    "
      ],
      "text/plain": [
       "\n",
       "    <h1> EDOs lineales de 2o Orden </h1>\n",
       "    <h2> Caso homogeneo </h2>\n",
       "    <p> Encuentre la solución \\(u(x)\\) de la siguiente ecuación diferencial\n",
       "    \\(-7 \\, u\\left(x\\right) - 6 \\, \\frac{\\partial}{\\partial x}u\\left(x\\right) + \\frac{\\partial^{2}}{(\\partial x)^{2}}u\\left(x\\right) = 0\\) con condiciones iniciales \\(u(0)=1, \\; u'(0)=0\\)\n",
       "    y evalue en el punto dado:</p>\n",
       "    <pre>\n",
       "    u(1.17) = {1:NM:=450.861851881530:13.5258555564459}\n",
       "    </pre>\n",
       "    "
      ]
     },
     "metadata": {},
     "output_type": "display_data"
    },
    {
     "data": {
      "text/html": [
       "\n",
       "    La solución del problema de condiciones iniciales es\n",
       "    \\(u(x)=\\frac{1}{8} \\, {\\left(e^{\\left(8 \\, x\\right)} + 7\\right)} e^{\\left(-x\\right)}\\)\n",
       "    "
      ],
      "text/plain": [
       "\n",
       "    La solución del problema de condiciones iniciales es\n",
       "    \\(u(x)=\\frac{1}{8} \\, {\\left(e^{\\left(8 \\, x\\right)} + 7\\right)} e^{\\left(-x\\right)}\\)\n",
       "    "
      ]
     },
     "metadata": {},
     "output_type": "display_data"
    },
    {
     "data": {
      "text/html": [
       "\n",
       "    <h1> EDOs lineales de 2o Orden </h1>\n",
       "    <h2> Caso homogeneo </h2>\n",
       "    <p> Encuentre la solución \\(u(x)\\) de la siguiente ecuación diferencial\n",
       "    \\(7 \\, u\\left(x\\right) + 7 \\, \\frac{\\partial}{\\partial x}u\\left(x\\right) + \\frac{\\partial^{2}}{(\\partial x)^{2}}u\\left(x\\right) = 0\\) con condiciones iniciales \\(u(0)=0, \\; u'(0)=1\\)\n",
       "    y evalue en el punto dado:</p>\n",
       "    <pre>\n",
       "    u(1.66) = {1:NM:=0.0293277697590599:0.000879833092771796}\n",
       "    </pre>\n",
       "    "
      ],
      "text/plain": [
       "\n",
       "    <h1> EDOs lineales de 2o Orden </h1>\n",
       "    <h2> Caso homogeneo </h2>\n",
       "    <p> Encuentre la solución \\(u(x)\\) de la siguiente ecuación diferencial\n",
       "    \\(7 \\, u\\left(x\\right) + 7 \\, \\frac{\\partial}{\\partial x}u\\left(x\\right) + \\frac{\\partial^{2}}{(\\partial x)^{2}}u\\left(x\\right) = 0\\) con condiciones iniciales \\(u(0)=0, \\; u'(0)=1\\)\n",
       "    y evalue en el punto dado:</p>\n",
       "    <pre>\n",
       "    u(1.66) = {1:NM:=0.0293277697590599:0.000879833092771796}\n",
       "    </pre>\n",
       "    "
      ]
     },
     "metadata": {},
     "output_type": "display_data"
    },
    {
     "data": {
      "text/html": [
       "\n",
       "    La solución del problema de condiciones iniciales es\n",
       "    \\(u(x)=\\frac{1}{21} \\, \\sqrt{21} {\\left(e^{\\left(\\sqrt{21} x\\right)} - 1\\right)} e^{\\left(-\\frac{1}{2} \\, \\sqrt{21} x - \\frac{7}{2} \\, x\\right)}\\)\n",
       "    "
      ],
      "text/plain": [
       "\n",
       "    La solución del problema de condiciones iniciales es\n",
       "    \\(u(x)=\\frac{1}{21} \\, \\sqrt{21} {\\left(e^{\\left(\\sqrt{21} x\\right)} - 1\\right)} e^{\\left(-\\frac{1}{2} \\, \\sqrt{21} x - \\frac{7}{2} \\, x\\right)}\\)\n",
       "    "
      ]
     },
     "metadata": {},
     "output_type": "display_data"
    },
    {
     "data": {
      "text/html": [
       "\n",
       "    <h1> EDOs lineales de 2o Orden </h1>\n",
       "    <h2> Caso homogeneo </h2>\n",
       "    <p> Encuentre la solución \\(u(x)\\) de la siguiente ecuación diferencial\n",
       "    \\(-10 \\, u\\left(x\\right) - 2 \\, \\frac{\\partial}{\\partial x}u\\left(x\\right) + \\frac{\\partial^{2}}{(\\partial x)^{2}}u\\left(x\\right) = 0\\) con condiciones iniciales \\(u(0)=0, \\; u'(0)=1\\)\n",
       "    y evalue en el punto dado:</p>\n",
       "    <pre>\n",
       "    u(1.18) = {1:NM:=24.5601111645908:0.736803334937725}\n",
       "    </pre>\n",
       "    "
      ],
      "text/plain": [
       "\n",
       "    <h1> EDOs lineales de 2o Orden </h1>\n",
       "    <h2> Caso homogeneo </h2>\n",
       "    <p> Encuentre la solución \\(u(x)\\) de la siguiente ecuación diferencial\n",
       "    \\(-10 \\, u\\left(x\\right) - 2 \\, \\frac{\\partial}{\\partial x}u\\left(x\\right) + \\frac{\\partial^{2}}{(\\partial x)^{2}}u\\left(x\\right) = 0\\) con condiciones iniciales \\(u(0)=0, \\; u'(0)=1\\)\n",
       "    y evalue en el punto dado:</p>\n",
       "    <pre>\n",
       "    u(1.18) = {1:NM:=24.5601111645908:0.736803334937725}\n",
       "    </pre>\n",
       "    "
      ]
     },
     "metadata": {},
     "output_type": "display_data"
    },
    {
     "data": {
      "text/html": [
       "\n",
       "    La solución del problema de condiciones iniciales es\n",
       "    \\(u(x)=\\frac{1}{22} \\, \\sqrt{11} {\\left(e^{\\left(\\sqrt{11} x\\right)} + 1\\right)} {\\left(e^{\\left(\\sqrt{11} x\\right)} - 1\\right)} e^{\\left(-\\sqrt{11} x + x\\right)}\\)\n",
       "    "
      ],
      "text/plain": [
       "\n",
       "    La solución del problema de condiciones iniciales es\n",
       "    \\(u(x)=\\frac{1}{22} \\, \\sqrt{11} {\\left(e^{\\left(\\sqrt{11} x\\right)} + 1\\right)} {\\left(e^{\\left(\\sqrt{11} x\\right)} - 1\\right)} e^{\\left(-\\sqrt{11} x + x\\right)}\\)\n",
       "    "
      ]
     },
     "metadata": {},
     "output_type": "display_data"
    },
    {
     "data": {
      "text/html": [
       "\n",
       "    <h1> EDOs lineales de 2o Orden </h1>\n",
       "    <h2> Caso homogeneo </h2>\n",
       "    <p> Encuentre la solución \\(u(x)\\) de la siguiente ecuación diferencial\n",
       "    \\(-9 \\, u\\left(x\\right) - 7 \\, \\frac{\\partial}{\\partial x}u\\left(x\\right) + \\frac{\\partial^{2}}{(\\partial x)^{2}}u\\left(x\\right) = 0\\) con condiciones iniciales \\(u(0)=-1, \\; u'(0)=1\\)\n",
       "    y evalue en el punto dado:</p>\n",
       "    <pre>\n",
       "    u(1.58) = {1:NM:=-4371.25717905437:-131.137715371631}\n",
       "    </pre>\n",
       "    "
      ],
      "text/plain": [
       "\n",
       "    <h1> EDOs lineales de 2o Orden </h1>\n",
       "    <h2> Caso homogeneo </h2>\n",
       "    <p> Encuentre la solución \\(u(x)\\) de la siguiente ecuación diferencial\n",
       "    \\(-9 \\, u\\left(x\\right) - 7 \\, \\frac{\\partial}{\\partial x}u\\left(x\\right) + \\frac{\\partial^{2}}{(\\partial x)^{2}}u\\left(x\\right) = 0\\) con condiciones iniciales \\(u(0)=-1, \\; u'(0)=1\\)\n",
       "    y evalue en el punto dado:</p>\n",
       "    <pre>\n",
       "    u(1.58) = {1:NM:=-4371.25717905437:-131.137715371631}\n",
       "    </pre>\n",
       "    "
      ]
     },
     "metadata": {},
     "output_type": "display_data"
    },
    {
     "data": {
      "text/html": [
       "\n",
       "    La solución del problema de condiciones iniciales es\n",
       "    \\(u(x)=\\frac{1}{170} \\, {\\left(9 \\, \\sqrt{85} e^{\\left(\\sqrt{85} x\\right)} - 9 \\, \\sqrt{85} - 85 \\, e^{\\left(\\sqrt{85} x\\right)} - 85\\right)} e^{\\left(-\\frac{1}{2} \\, \\sqrt{85} x + \\frac{7}{2} \\, x\\right)}\\)\n",
       "    "
      ],
      "text/plain": [
       "\n",
       "    La solución del problema de condiciones iniciales es\n",
       "    \\(u(x)=\\frac{1}{170} \\, {\\left(9 \\, \\sqrt{85} e^{\\left(\\sqrt{85} x\\right)} - 9 \\, \\sqrt{85} - 85 \\, e^{\\left(\\sqrt{85} x\\right)} - 85\\right)} e^{\\left(-\\frac{1}{2} \\, \\sqrt{85} x + \\frac{7}{2} \\, x\\right)}\\)\n",
       "    "
      ]
     },
     "metadata": {},
     "output_type": "display_data"
    },
    {
     "data": {
      "text/html": [
       "\n",
       "    <h1> EDOs lineales de 2o Orden </h1>\n",
       "    <h2> Caso homogeneo </h2>\n",
       "    <p> Encuentre la solución \\(u(x)\\) de la siguiente ecuación diferencial\n",
       "    \\(-u\\left(x\\right) - 5 \\, \\frac{\\partial}{\\partial x}u\\left(x\\right) + \\frac{\\partial^{2}}{(\\partial x)^{2}}u\\left(x\\right) = 0\\) con condiciones iniciales \\(u(0)=-1, \\; u'(0)=1\\)\n",
       "    y evalue en el punto dado:</p>\n",
       "    <pre>\n",
       "    u(1.93) = {1:NM:=3374.10998681873:101.223299604562}\n",
       "    </pre>\n",
       "    "
      ],
      "text/plain": [
       "\n",
       "    <h1> EDOs lineales de 2o Orden </h1>\n",
       "    <h2> Caso homogeneo </h2>\n",
       "    <p> Encuentre la solución \\(u(x)\\) de la siguiente ecuación diferencial\n",
       "    \\(-u\\left(x\\right) - 5 \\, \\frac{\\partial}{\\partial x}u\\left(x\\right) + \\frac{\\partial^{2}}{(\\partial x)^{2}}u\\left(x\\right) = 0\\) con condiciones iniciales \\(u(0)=-1, \\; u'(0)=1\\)\n",
       "    y evalue en el punto dado:</p>\n",
       "    <pre>\n",
       "    u(1.93) = {1:NM:=3374.10998681873:101.223299604562}\n",
       "    </pre>\n",
       "    "
      ]
     },
     "metadata": {},
     "output_type": "display_data"
    },
    {
     "data": {
      "text/html": [
       "\n",
       "    La solución del problema de condiciones iniciales es\n",
       "    \\(u(x)=\\frac{1}{58} \\, {\\left(7 \\, \\sqrt{29} e^{\\left(\\sqrt{29} x\\right)} - 7 \\, \\sqrt{29} - 29 \\, e^{\\left(\\sqrt{29} x\\right)} - 29\\right)} e^{\\left(-\\frac{1}{2} \\, \\sqrt{29} x + \\frac{5}{2} \\, x\\right)}\\)\n",
       "    "
      ],
      "text/plain": [
       "\n",
       "    La solución del problema de condiciones iniciales es\n",
       "    \\(u(x)=\\frac{1}{58} \\, {\\left(7 \\, \\sqrt{29} e^{\\left(\\sqrt{29} x\\right)} - 7 \\, \\sqrt{29} - 29 \\, e^{\\left(\\sqrt{29} x\\right)} - 29\\right)} e^{\\left(-\\frac{1}{2} \\, \\sqrt{29} x + \\frac{5}{2} \\, x\\right)}\\)\n",
       "    "
      ]
     },
     "metadata": {},
     "output_type": "display_data"
    },
    {
     "data": {
      "text/html": [
       "\n",
       "    <h1> EDOs lineales de 2o Orden </h1>\n",
       "    <h2> Caso homogeneo </h2>\n",
       "    <p> Encuentre la solución \\(u(x)\\) de la siguiente ecuación diferencial\n",
       "    \\(8 \\, u\\left(x\\right) - 2 \\, \\frac{\\partial}{\\partial x}u\\left(x\\right) + \\frac{\\partial^{2}}{(\\partial x)^{2}}u\\left(x\\right) = 0\\) con condiciones iniciales \\(u(0)=-1, \\; u'(0)=0\\)\n",
       "    y evalue en el punto dado:</p>\n",
       "    <pre>\n",
       "    u(1.68) = {1:NM:=-0.537480504947029:-0.0161244151484109}\n",
       "    </pre>\n",
       "    "
      ],
      "text/plain": [
       "\n",
       "    <h1> EDOs lineales de 2o Orden </h1>\n",
       "    <h2> Caso homogeneo </h2>\n",
       "    <p> Encuentre la solución \\(u(x)\\) de la siguiente ecuación diferencial\n",
       "    \\(8 \\, u\\left(x\\right) - 2 \\, \\frac{\\partial}{\\partial x}u\\left(x\\right) + \\frac{\\partial^{2}}{(\\partial x)^{2}}u\\left(x\\right) = 0\\) con condiciones iniciales \\(u(0)=-1, \\; u'(0)=0\\)\n",
       "    y evalue en el punto dado:</p>\n",
       "    <pre>\n",
       "    u(1.68) = {1:NM:=-0.537480504947029:-0.0161244151484109}\n",
       "    </pre>\n",
       "    "
      ]
     },
     "metadata": {},
     "output_type": "display_data"
    },
    {
     "data": {
      "text/html": [
       "\n",
       "    La solución del problema de condiciones iniciales es\n",
       "    \\(u(x)=-\\frac{1}{7} \\, \\sqrt{7} {\\left(\\sqrt{7} \\cos\\left(\\sqrt{7} x\\right) - \\sin\\left(\\sqrt{7} x\\right)\\right)} e^{x}\\)\n",
       "    "
      ],
      "text/plain": [
       "\n",
       "    La solución del problema de condiciones iniciales es\n",
       "    \\(u(x)=-\\frac{1}{7} \\, \\sqrt{7} {\\left(\\sqrt{7} \\cos\\left(\\sqrt{7} x\\right) - \\sin\\left(\\sqrt{7} x\\right)\\right)} e^{x}\\)\n",
       "    "
      ]
     },
     "metadata": {},
     "output_type": "display_data"
    },
    {
     "data": {
      "text/html": [
       "\n",
       "    <h1> EDOs lineales de 2o Orden </h1>\n",
       "    <h2> Caso homogeneo </h2>\n",
       "    <p> Encuentre la solución \\(u(x)\\) de la siguiente ecuación diferencial\n",
       "    \\(2 \\, u\\left(x\\right) - 3 \\, \\frac{\\partial}{\\partial x}u\\left(x\\right) + \\frac{\\partial^{2}}{(\\partial x)^{2}}u\\left(x\\right) = 0\\) con condiciones iniciales \\(u(0)=0, \\; u'(0)=1\\)\n",
       "    y evalue en el punto dado:</p>\n",
       "    <pre>\n",
       "    u(1.08) = {1:NM:=5.72645810739793:0.171793743221938}\n",
       "    </pre>\n",
       "    "
      ],
      "text/plain": [
       "\n",
       "    <h1> EDOs lineales de 2o Orden </h1>\n",
       "    <h2> Caso homogeneo </h2>\n",
       "    <p> Encuentre la solución \\(u(x)\\) de la siguiente ecuación diferencial\n",
       "    \\(2 \\, u\\left(x\\right) - 3 \\, \\frac{\\partial}{\\partial x}u\\left(x\\right) + \\frac{\\partial^{2}}{(\\partial x)^{2}}u\\left(x\\right) = 0\\) con condiciones iniciales \\(u(0)=0, \\; u'(0)=1\\)\n",
       "    y evalue en el punto dado:</p>\n",
       "    <pre>\n",
       "    u(1.08) = {1:NM:=5.72645810739793:0.171793743221938}\n",
       "    </pre>\n",
       "    "
      ]
     },
     "metadata": {},
     "output_type": "display_data"
    },
    {
     "data": {
      "text/html": [
       "\n",
       "    La solución del problema de condiciones iniciales es\n",
       "    \\(u(x)={\\left(e^{x} - 1\\right)} e^{x}\\)\n",
       "    "
      ],
      "text/plain": [
       "\n",
       "    La solución del problema de condiciones iniciales es\n",
       "    \\(u(x)={\\left(e^{x} - 1\\right)} e^{x}\\)\n",
       "    "
      ]
     },
     "metadata": {},
     "output_type": "display_data"
    },
    {
     "data": {
      "text/html": [
       "\n",
       "    <h1> EDOs lineales de 2o Orden </h1>\n",
       "    <h2> Caso homogeneo </h2>\n",
       "    <p> Encuentre la solución \\(u(x)\\) de la siguiente ecuación diferencial\n",
       "    \\(6 \\, u\\left(x\\right) + 4 \\, \\frac{\\partial}{\\partial x}u\\left(x\\right) + \\frac{\\partial^{2}}{(\\partial x)^{2}}u\\left(x\\right) = 0\\) con condiciones iniciales \\(u(0)=-1, \\; u'(0)=1\\)\n",
       "    y evalue en el punto dado:</p>\n",
       "    <pre>\n",
       "    u(1.2) = {1:NM:=-0.0522130187796144:-0.00156639056338843}\n",
       "    </pre>\n",
       "    "
      ],
      "text/plain": [
       "\n",
       "    <h1> EDOs lineales de 2o Orden </h1>\n",
       "    <h2> Caso homogeneo </h2>\n",
       "    <p> Encuentre la solución \\(u(x)\\) de la siguiente ecuación diferencial\n",
       "    \\(6 \\, u\\left(x\\right) + 4 \\, \\frac{\\partial}{\\partial x}u\\left(x\\right) + \\frac{\\partial^{2}}{(\\partial x)^{2}}u\\left(x\\right) = 0\\) con condiciones iniciales \\(u(0)=-1, \\; u'(0)=1\\)\n",
       "    y evalue en el punto dado:</p>\n",
       "    <pre>\n",
       "    u(1.2) = {1:NM:=-0.0522130187796144:-0.00156639056338843}\n",
       "    </pre>\n",
       "    "
      ]
     },
     "metadata": {},
     "output_type": "display_data"
    },
    {
     "data": {
      "text/html": [
       "\n",
       "    La solución del problema de condiciones iniciales es\n",
       "    \\(u(x)=-\\frac{1}{2} \\, {\\left(\\sqrt{2} \\sin\\left(\\sqrt{2} x\\right) + 2 \\, \\cos\\left(\\sqrt{2} x\\right)\\right)} e^{\\left(-2 \\, x\\right)}\\)\n",
       "    "
      ],
      "text/plain": [
       "\n",
       "    La solución del problema de condiciones iniciales es\n",
       "    \\(u(x)=-\\frac{1}{2} \\, {\\left(\\sqrt{2} \\sin\\left(\\sqrt{2} x\\right) + 2 \\, \\cos\\left(\\sqrt{2} x\\right)\\right)} e^{\\left(-2 \\, x\\right)}\\)\n",
       "    "
      ]
     },
     "metadata": {},
     "output_type": "display_data"
    },
    {
     "data": {
      "text/html": [
       "\n",
       "    <h1> EDOs lineales de 2o Orden </h1>\n",
       "    <h2> Caso homogeneo </h2>\n",
       "    <p> Encuentre la solución \\(u(x)\\) de la siguiente ecuación diferencial\n",
       "    \\(7 \\, u\\left(x\\right) + 5 \\, \\frac{\\partial}{\\partial x}u\\left(x\\right) + \\frac{\\partial^{2}}{(\\partial x)^{2}}u\\left(x\\right) = 0\\) con condiciones iniciales \\(u(0)=1, \\; u'(0)=1\\)\n",
       "    y evalue en el punto dado:</p>\n",
       "    <pre>\n",
       "    u(1.81) = {1:NM:=0.0438233899373214:0.00131470169811964}\n",
       "    </pre>\n",
       "    "
      ],
      "text/plain": [
       "\n",
       "    <h1> EDOs lineales de 2o Orden </h1>\n",
       "    <h2> Caso homogeneo </h2>\n",
       "    <p> Encuentre la solución \\(u(x)\\) de la siguiente ecuación diferencial\n",
       "    \\(7 \\, u\\left(x\\right) + 5 \\, \\frac{\\partial}{\\partial x}u\\left(x\\right) + \\frac{\\partial^{2}}{(\\partial x)^{2}}u\\left(x\\right) = 0\\) con condiciones iniciales \\(u(0)=1, \\; u'(0)=1\\)\n",
       "    y evalue en el punto dado:</p>\n",
       "    <pre>\n",
       "    u(1.81) = {1:NM:=0.0438233899373214:0.00131470169811964}\n",
       "    </pre>\n",
       "    "
      ]
     },
     "metadata": {},
     "output_type": "display_data"
    },
    {
     "data": {
      "text/html": [
       "\n",
       "    La solución del problema de condiciones iniciales es\n",
       "    \\(u(x)=\\frac{1}{3} \\, {\\left(7 \\, \\sqrt{3} \\sin\\left(\\frac{1}{2} \\, \\sqrt{3} x\\right) + 3 \\, \\cos\\left(\\frac{1}{2} \\, \\sqrt{3} x\\right)\\right)} e^{\\left(-\\frac{5}{2} \\, x\\right)}\\)\n",
       "    "
      ],
      "text/plain": [
       "\n",
       "    La solución del problema de condiciones iniciales es\n",
       "    \\(u(x)=\\frac{1}{3} \\, {\\left(7 \\, \\sqrt{3} \\sin\\left(\\frac{1}{2} \\, \\sqrt{3} x\\right) + 3 \\, \\cos\\left(\\frac{1}{2} \\, \\sqrt{3} x\\right)\\right)} e^{\\left(-\\frac{5}{2} \\, x\\right)}\\)\n",
       "    "
      ]
     },
     "metadata": {},
     "output_type": "display_data"
    },
    {
     "data": {
      "text/html": [
       "\n",
       "    <h1> EDOs lineales de 2o Orden </h1>\n",
       "    <h2> Caso homogeneo </h2>\n",
       "    <p> Encuentre la solución \\(u(x)\\) de la siguiente ecuación diferencial\n",
       "    \\(5 \\, u\\left(x\\right) + \\frac{\\partial}{\\partial x}u\\left(x\\right) + \\frac{\\partial^{2}}{(\\partial x)^{2}}u\\left(x\\right) = 0\\) con condiciones iniciales \\(u(0)=-1, \\; u'(0)=0\\)\n",
       "    y evalue en el punto dado:</p>\n",
       "    <pre>\n",
       "    u(1.57) = {1:NM:=0.467270811695323:0.0140181243508597}\n",
       "    </pre>\n",
       "    "
      ],
      "text/plain": [
       "\n",
       "    <h1> EDOs lineales de 2o Orden </h1>\n",
       "    <h2> Caso homogeneo </h2>\n",
       "    <p> Encuentre la solución \\(u(x)\\) de la siguiente ecuación diferencial\n",
       "    \\(5 \\, u\\left(x\\right) + \\frac{\\partial}{\\partial x}u\\left(x\\right) + \\frac{\\partial^{2}}{(\\partial x)^{2}}u\\left(x\\right) = 0\\) con condiciones iniciales \\(u(0)=-1, \\; u'(0)=0\\)\n",
       "    y evalue en el punto dado:</p>\n",
       "    <pre>\n",
       "    u(1.57) = {1:NM:=0.467270811695323:0.0140181243508597}\n",
       "    </pre>\n",
       "    "
      ]
     },
     "metadata": {},
     "output_type": "display_data"
    },
    {
     "data": {
      "text/html": [
       "\n",
       "    La solución del problema de condiciones iniciales es\n",
       "    \\(u(x)=-\\frac{1}{19} \\, {\\left(\\sqrt{19} \\sin\\left(\\frac{1}{2} \\, \\sqrt{19} x\\right) + 19 \\, \\cos\\left(\\frac{1}{2} \\, \\sqrt{19} x\\right)\\right)} e^{\\left(-\\frac{1}{2} \\, x\\right)}\\)\n",
       "    "
      ],
      "text/plain": [
       "\n",
       "    La solución del problema de condiciones iniciales es\n",
       "    \\(u(x)=-\\frac{1}{19} \\, {\\left(\\sqrt{19} \\sin\\left(\\frac{1}{2} \\, \\sqrt{19} x\\right) + 19 \\, \\cos\\left(\\frac{1}{2} \\, \\sqrt{19} x\\right)\\right)} e^{\\left(-\\frac{1}{2} \\, x\\right)}\\)\n",
       "    "
      ]
     },
     "metadata": {},
     "output_type": "display_data"
    },
    {
     "data": {
      "text/html": [
       "\n",
       "    <h1> EDOs lineales de 2o Orden </h1>\n",
       "    <h2> Caso homogeneo </h2>\n",
       "    <p> Encuentre la solución \\(u(x)\\) de la siguiente ecuación diferencial\n",
       "    \\(-3 \\, u\\left(x\\right) - 10 \\, \\frac{\\partial}{\\partial x}u\\left(x\\right) + \\frac{\\partial^{2}}{(\\partial x)^{2}}u\\left(x\\right) = 0\\) con condiciones iniciales \\(u(0)=1, \\; u'(0)=1\\)\n",
       "    y evalue en el punto dado:</p>\n",
       "    <pre>\n",
       "    u(1.26) = {1:NM:=52253.4851660295:1567.60455498088}\n",
       "    </pre>\n",
       "    "
      ],
      "text/plain": [
       "\n",
       "    <h1> EDOs lineales de 2o Orden </h1>\n",
       "    <h2> Caso homogeneo </h2>\n",
       "    <p> Encuentre la solución \\(u(x)\\) de la siguiente ecuación diferencial\n",
       "    \\(-3 \\, u\\left(x\\right) - 10 \\, \\frac{\\partial}{\\partial x}u\\left(x\\right) + \\frac{\\partial^{2}}{(\\partial x)^{2}}u\\left(x\\right) = 0\\) con condiciones iniciales \\(u(0)=1, \\; u'(0)=1\\)\n",
       "    y evalue en el punto dado:</p>\n",
       "    <pre>\n",
       "    u(1.26) = {1:NM:=52253.4851660295:1567.60455498088}\n",
       "    </pre>\n",
       "    "
      ]
     },
     "metadata": {},
     "output_type": "display_data"
    },
    {
     "data": {
      "text/html": [
       "\n",
       "    La solución del problema de condiciones iniciales es\n",
       "    \\(u(x)=-\\frac{1}{14} \\, {\\left(2 \\, \\sqrt{7} e^{\\left(4 \\, \\sqrt{7} x\\right)} - 2 \\, \\sqrt{7} - 7 \\, e^{\\left(4 \\, \\sqrt{7} x\\right)} - 7\\right)} e^{\\left(-2 \\, \\sqrt{7} x + 5 \\, x\\right)}\\)\n",
       "    "
      ],
      "text/plain": [
       "\n",
       "    La solución del problema de condiciones iniciales es\n",
       "    \\(u(x)=-\\frac{1}{14} \\, {\\left(2 \\, \\sqrt{7} e^{\\left(4 \\, \\sqrt{7} x\\right)} - 2 \\, \\sqrt{7} - 7 \\, e^{\\left(4 \\, \\sqrt{7} x\\right)} - 7\\right)} e^{\\left(-2 \\, \\sqrt{7} x + 5 \\, x\\right)}\\)\n",
       "    "
      ]
     },
     "metadata": {},
     "output_type": "display_data"
    },
    {
     "data": {
      "text/html": [
       "\n",
       "    <h1> EDOs lineales de 2o Orden </h1>\n",
       "    <h2> Caso homogeneo </h2>\n",
       "    <p> Encuentre la solución \\(u(x)\\) de la siguiente ecuación diferencial\n",
       "    \\(-3 \\, u\\left(x\\right) - 3 \\, \\frac{\\partial}{\\partial x}u\\left(x\\right) + \\frac{\\partial^{2}}{(\\partial x)^{2}}u\\left(x\\right) = 0\\) con condiciones iniciales \\(u(0)=1, \\; u'(0)=0\\)\n",
       "    y evalue en el punto dado:</p>\n",
       "    <pre>\n",
       "    u(1.64) = {1:NM:=86.8309742730619:2.60492922819186}\n",
       "    </pre>\n",
       "    "
      ],
      "text/plain": [
       "\n",
       "    <h1> EDOs lineales de 2o Orden </h1>\n",
       "    <h2> Caso homogeneo </h2>\n",
       "    <p> Encuentre la solución \\(u(x)\\) de la siguiente ecuación diferencial\n",
       "    \\(-3 \\, u\\left(x\\right) - 3 \\, \\frac{\\partial}{\\partial x}u\\left(x\\right) + \\frac{\\partial^{2}}{(\\partial x)^{2}}u\\left(x\\right) = 0\\) con condiciones iniciales \\(u(0)=1, \\; u'(0)=0\\)\n",
       "    y evalue en el punto dado:</p>\n",
       "    <pre>\n",
       "    u(1.64) = {1:NM:=86.8309742730619:2.60492922819186}\n",
       "    </pre>\n",
       "    "
      ]
     },
     "metadata": {},
     "output_type": "display_data"
    },
    {
     "data": {
      "text/html": [
       "\n",
       "    La solución del problema de condiciones iniciales es\n",
       "    \\(u(x)=-\\frac{1}{14} \\, {\\left(\\sqrt{21} e^{\\left(\\sqrt{21} x\\right)} - \\sqrt{21} - 7 \\, e^{\\left(\\sqrt{21} x\\right)} - 7\\right)} e^{\\left(-\\frac{1}{2} \\, \\sqrt{21} x + \\frac{3}{2} \\, x\\right)}\\)\n",
       "    "
      ],
      "text/plain": [
       "\n",
       "    La solución del problema de condiciones iniciales es\n",
       "    \\(u(x)=-\\frac{1}{14} \\, {\\left(\\sqrt{21} e^{\\left(\\sqrt{21} x\\right)} - \\sqrt{21} - 7 \\, e^{\\left(\\sqrt{21} x\\right)} - 7\\right)} e^{\\left(-\\frac{1}{2} \\, \\sqrt{21} x + \\frac{3}{2} \\, x\\right)}\\)\n",
       "    "
      ]
     },
     "metadata": {},
     "output_type": "display_data"
    },
    {
     "data": {
      "text/html": [
       "\n",
       "    <h1> EDOs lineales de 2o Orden </h1>\n",
       "    <h2> Caso homogeneo </h2>\n",
       "    <p> Encuentre la solución \\(u(x)\\) de la siguiente ecuación diferencial\n",
       "    \\(7 \\, u\\left(x\\right) - 2 \\, \\frac{\\partial}{\\partial x}u\\left(x\\right) + \\frac{\\partial^{2}}{(\\partial x)^{2}}u\\left(x\\right) = 0\\) con condiciones iniciales \\(u(0)=1, \\; u'(0)=0\\)\n",
       "    y evalue en el punto dado:</p>\n",
       "    <pre>\n",
       "    u(1.7) = {1:NM:=-0.945825758119631:-0.0283747727435889}\n",
       "    </pre>\n",
       "    "
      ],
      "text/plain": [
       "\n",
       "    <h1> EDOs lineales de 2o Orden </h1>\n",
       "    <h2> Caso homogeneo </h2>\n",
       "    <p> Encuentre la solución \\(u(x)\\) de la siguiente ecuación diferencial\n",
       "    \\(7 \\, u\\left(x\\right) - 2 \\, \\frac{\\partial}{\\partial x}u\\left(x\\right) + \\frac{\\partial^{2}}{(\\partial x)^{2}}u\\left(x\\right) = 0\\) con condiciones iniciales \\(u(0)=1, \\; u'(0)=0\\)\n",
       "    y evalue en el punto dado:</p>\n",
       "    <pre>\n",
       "    u(1.7) = {1:NM:=-0.945825758119631:-0.0283747727435889}\n",
       "    </pre>\n",
       "    "
      ]
     },
     "metadata": {},
     "output_type": "display_data"
    },
    {
     "data": {
      "text/html": [
       "\n",
       "    La solución del problema de condiciones iniciales es\n",
       "    \\(u(x)=\\frac{1}{6} \\, \\sqrt{6} {\\left(\\sqrt{6} \\cos\\left(\\sqrt{6} x\\right) - \\sin\\left(\\sqrt{6} x\\right)\\right)} e^{x}\\)\n",
       "    "
      ],
      "text/plain": [
       "\n",
       "    La solución del problema de condiciones iniciales es\n",
       "    \\(u(x)=\\frac{1}{6} \\, \\sqrt{6} {\\left(\\sqrt{6} \\cos\\left(\\sqrt{6} x\\right) - \\sin\\left(\\sqrt{6} x\\right)\\right)} e^{x}\\)\n",
       "    "
      ]
     },
     "metadata": {},
     "output_type": "display_data"
    },
    {
     "data": {
      "text/html": [
       "\n",
       "    <h1> EDOs lineales de 2o Orden </h1>\n",
       "    <h2> Caso homogeneo </h2>\n",
       "    <p> Encuentre la solución \\(u(x)\\) de la siguiente ecuación diferencial\n",
       "    \\(5 \\, u\\left(x\\right) + \\frac{\\partial^{2}}{(\\partial x)^{2}}u\\left(x\\right) = 0\\) con condiciones iniciales \\(u(0)=0, \\; u'(0)=1\\)\n",
       "    y evalue en el punto dado:</p>\n",
       "    <pre>\n",
       "    u(1.65) = {1:NM:=-0.232959120603256:-0.00698877361809769}\n",
       "    </pre>\n",
       "    "
      ],
      "text/plain": [
       "\n",
       "    <h1> EDOs lineales de 2o Orden </h1>\n",
       "    <h2> Caso homogeneo </h2>\n",
       "    <p> Encuentre la solución \\(u(x)\\) de la siguiente ecuación diferencial\n",
       "    \\(5 \\, u\\left(x\\right) + \\frac{\\partial^{2}}{(\\partial x)^{2}}u\\left(x\\right) = 0\\) con condiciones iniciales \\(u(0)=0, \\; u'(0)=1\\)\n",
       "    y evalue en el punto dado:</p>\n",
       "    <pre>\n",
       "    u(1.65) = {1:NM:=-0.232959120603256:-0.00698877361809769}\n",
       "    </pre>\n",
       "    "
      ]
     },
     "metadata": {},
     "output_type": "display_data"
    },
    {
     "data": {
      "text/html": [
       "\n",
       "    La solución del problema de condiciones iniciales es\n",
       "    \\(u(x)=\\frac{1}{5} \\, \\sqrt{5} \\sin\\left(\\sqrt{5} x\\right)\\)\n",
       "    "
      ],
      "text/plain": [
       "\n",
       "    La solución del problema de condiciones iniciales es\n",
       "    \\(u(x)=\\frac{1}{5} \\, \\sqrt{5} \\sin\\left(\\sqrt{5} x\\right)\\)\n",
       "    "
      ]
     },
     "metadata": {},
     "output_type": "display_data"
    },
    {
     "data": {
      "text/html": [
       "\n",
       "    <h1> EDOs lineales de 2o Orden </h1>\n",
       "    <h2> Caso homogeneo </h2>\n",
       "    <p> Encuentre la solución \\(u(x)\\) de la siguiente ecuación diferencial\n",
       "    \\(-3 \\, u\\left(x\\right) - 3 \\, \\frac{\\partial}{\\partial x}u\\left(x\\right) + \\frac{\\partial^{2}}{(\\partial x)^{2}}u\\left(x\\right) = 0\\) con condiciones iniciales \\(u(0)=1, \\; u'(0)=1\\)\n",
       "    y evalue en el punto dado:</p>\n",
       "    <pre>\n",
       "    u(1.92) = {1:NM:=566.899178679675:17.0069753603902}\n",
       "    </pre>\n",
       "    "
      ],
      "text/plain": [
       "\n",
       "    <h1> EDOs lineales de 2o Orden </h1>\n",
       "    <h2> Caso homogeneo </h2>\n",
       "    <p> Encuentre la solución \\(u(x)\\) de la siguiente ecuación diferencial\n",
       "    \\(-3 \\, u\\left(x\\right) - 3 \\, \\frac{\\partial}{\\partial x}u\\left(x\\right) + \\frac{\\partial^{2}}{(\\partial x)^{2}}u\\left(x\\right) = 0\\) con condiciones iniciales \\(u(0)=1, \\; u'(0)=1\\)\n",
       "    y evalue en el punto dado:</p>\n",
       "    <pre>\n",
       "    u(1.92) = {1:NM:=566.899178679675:17.0069753603902}\n",
       "    </pre>\n",
       "    "
      ]
     },
     "metadata": {},
     "output_type": "display_data"
    },
    {
     "data": {
      "text/html": [
       "\n",
       "    La solución del problema de condiciones iniciales es\n",
       "    \\(u(x)=-\\frac{1}{42} \\, {\\left(\\sqrt{21} e^{\\left(\\sqrt{21} x\\right)} - \\sqrt{21} - 21 \\, e^{\\left(\\sqrt{21} x\\right)} - 21\\right)} e^{\\left(-\\frac{1}{2} \\, \\sqrt{21} x + \\frac{3}{2} \\, x\\right)}\\)\n",
       "    "
      ],
      "text/plain": [
       "\n",
       "    La solución del problema de condiciones iniciales es\n",
       "    \\(u(x)=-\\frac{1}{42} \\, {\\left(\\sqrt{21} e^{\\left(\\sqrt{21} x\\right)} - \\sqrt{21} - 21 \\, e^{\\left(\\sqrt{21} x\\right)} - 21\\right)} e^{\\left(-\\frac{1}{2} \\, \\sqrt{21} x + \\frac{3}{2} \\, x\\right)}\\)\n",
       "    "
      ]
     },
     "metadata": {},
     "output_type": "display_data"
    },
    {
     "data": {
      "text/html": [
       "\n",
       "    <h1> EDOs lineales de 2o Orden </h1>\n",
       "    <h2> Caso homogeneo </h2>\n",
       "    <p> Encuentre la solución \\(u(x)\\) de la siguiente ecuación diferencial\n",
       "    \\(-5 \\, u\\left(x\\right) + 9 \\, \\frac{\\partial}{\\partial x}u\\left(x\\right) + \\frac{\\partial^{2}}{(\\partial x)^{2}}u\\left(x\\right) = 0\\) con condiciones iniciales \\(u(0)=0, \\; u'(0)=1\\)\n",
       "    y evalue en el punto dado:</p>\n",
       "    <pre>\n",
       "    u(1.32) = {1:NM:=0.198961471974256:0.00596884415922769}\n",
       "    </pre>\n",
       "    "
      ],
      "text/plain": [
       "\n",
       "    <h1> EDOs lineales de 2o Orden </h1>\n",
       "    <h2> Caso homogeneo </h2>\n",
       "    <p> Encuentre la solución \\(u(x)\\) de la siguiente ecuación diferencial\n",
       "    \\(-5 \\, u\\left(x\\right) + 9 \\, \\frac{\\partial}{\\partial x}u\\left(x\\right) + \\frac{\\partial^{2}}{(\\partial x)^{2}}u\\left(x\\right) = 0\\) con condiciones iniciales \\(u(0)=0, \\; u'(0)=1\\)\n",
       "    y evalue en el punto dado:</p>\n",
       "    <pre>\n",
       "    u(1.32) = {1:NM:=0.198961471974256:0.00596884415922769}\n",
       "    </pre>\n",
       "    "
      ]
     },
     "metadata": {},
     "output_type": "display_data"
    },
    {
     "data": {
      "text/html": [
       "\n",
       "    La solución del problema de condiciones iniciales es\n",
       "    \\(u(x)=\\frac{1}{101} \\, \\sqrt{101} {\\left(e^{\\left(\\sqrt{101} x\\right)} - 1\\right)} e^{\\left(-\\frac{1}{2} \\, \\sqrt{101} x - \\frac{9}{2} \\, x\\right)}\\)\n",
       "    "
      ],
      "text/plain": [
       "\n",
       "    La solución del problema de condiciones iniciales es\n",
       "    \\(u(x)=\\frac{1}{101} \\, \\sqrt{101} {\\left(e^{\\left(\\sqrt{101} x\\right)} - 1\\right)} e^{\\left(-\\frac{1}{2} \\, \\sqrt{101} x - \\frac{9}{2} \\, x\\right)}\\)\n",
       "    "
      ]
     },
     "metadata": {},
     "output_type": "display_data"
    },
    {
     "data": {
      "text/html": [
       "\n",
       "    <h1> EDOs lineales de 2o Orden </h1>\n",
       "    <h2> Caso homogeneo </h2>\n",
       "    <p> Encuentre la solución \\(u(x)\\) de la siguiente ecuación diferencial\n",
       "    \\(6 \\, u\\left(x\\right) + 7 \\, \\frac{\\partial}{\\partial x}u\\left(x\\right) + \\frac{\\partial^{2}}{(\\partial x)^{2}}u\\left(x\\right) = 0\\) con condiciones iniciales \\(u(0)=-1, \\; u'(0)=1\\)\n",
       "    y evalue en el punto dado:</p>\n",
       "    <pre>\n",
       "    u(1.66) = {1:NM:=-0.190138980101520:-0.00570416940304561}\n",
       "    </pre>\n",
       "    "
      ],
      "text/plain": [
       "\n",
       "    <h1> EDOs lineales de 2o Orden </h1>\n",
       "    <h2> Caso homogeneo </h2>\n",
       "    <p> Encuentre la solución \\(u(x)\\) de la siguiente ecuación diferencial\n",
       "    \\(6 \\, u\\left(x\\right) + 7 \\, \\frac{\\partial}{\\partial x}u\\left(x\\right) + \\frac{\\partial^{2}}{(\\partial x)^{2}}u\\left(x\\right) = 0\\) con condiciones iniciales \\(u(0)=-1, \\; u'(0)=1\\)\n",
       "    y evalue en el punto dado:</p>\n",
       "    <pre>\n",
       "    u(1.66) = {1:NM:=-0.190138980101520:-0.00570416940304561}\n",
       "    </pre>\n",
       "    "
      ]
     },
     "metadata": {},
     "output_type": "display_data"
    },
    {
     "data": {
      "text/html": [
       "\n",
       "    La solución del problema de condiciones iniciales es\n",
       "    \\(u(x)=-e^{\\left(-x\\right)}\\)\n",
       "    "
      ],
      "text/plain": [
       "\n",
       "    La solución del problema de condiciones iniciales es\n",
       "    \\(u(x)=-e^{\\left(-x\\right)}\\)\n",
       "    "
      ]
     },
     "metadata": {},
     "output_type": "display_data"
    },
    {
     "data": {
      "text/html": [
       "\n",
       "    <h1> EDOs lineales de 2o Orden </h1>\n",
       "    <h2> Caso homogeneo </h2>\n",
       "    <p> Encuentre la solución \\(u(x)\\) de la siguiente ecuación diferencial\n",
       "    \\(9 \\, u\\left(x\\right) + 2 \\, \\frac{\\partial}{\\partial x}u\\left(x\\right) + \\frac{\\partial^{2}}{(\\partial x)^{2}}u\\left(x\\right) = 0\\) con condiciones iniciales \\(u(0)=1, \\; u'(0)=1\\)\n",
       "    y evalue en el punto dado:</p>\n",
       "    <pre>\n",
       "    u(1.99) = {1:NM:=0.0495872644502472:0.00148761793350741}\n",
       "    </pre>\n",
       "    "
      ],
      "text/plain": [
       "\n",
       "    <h1> EDOs lineales de 2o Orden </h1>\n",
       "    <h2> Caso homogeneo </h2>\n",
       "    <p> Encuentre la solución \\(u(x)\\) de la siguiente ecuación diferencial\n",
       "    \\(9 \\, u\\left(x\\right) + 2 \\, \\frac{\\partial}{\\partial x}u\\left(x\\right) + \\frac{\\partial^{2}}{(\\partial x)^{2}}u\\left(x\\right) = 0\\) con condiciones iniciales \\(u(0)=1, \\; u'(0)=1\\)\n",
       "    y evalue en el punto dado:</p>\n",
       "    <pre>\n",
       "    u(1.99) = {1:NM:=0.0495872644502472:0.00148761793350741}\n",
       "    </pre>\n",
       "    "
      ]
     },
     "metadata": {},
     "output_type": "display_data"
    },
    {
     "data": {
      "text/html": [
       "\n",
       "    La solución del problema de condiciones iniciales es\n",
       "    \\(u(x)=\\frac{1}{2} \\, {\\left(\\sqrt{2} \\sin\\left(2 \\, \\sqrt{2} x\\right) + 2 \\, \\cos\\left(2 \\, \\sqrt{2} x\\right)\\right)} e^{\\left(-x\\right)}\\)\n",
       "    "
      ],
      "text/plain": [
       "\n",
       "    La solución del problema de condiciones iniciales es\n",
       "    \\(u(x)=\\frac{1}{2} \\, {\\left(\\sqrt{2} \\sin\\left(2 \\, \\sqrt{2} x\\right) + 2 \\, \\cos\\left(2 \\, \\sqrt{2} x\\right)\\right)} e^{\\left(-x\\right)}\\)\n",
       "    "
      ]
     },
     "metadata": {},
     "output_type": "display_data"
    },
    {
     "data": {
      "text/html": [
       "\n",
       "    <h1> EDOs lineales de 2o Orden </h1>\n",
       "    <h2> Caso homogeneo </h2>\n",
       "    <p> Encuentre la solución \\(u(x)\\) de la siguiente ecuación diferencial\n",
       "    \\(-3 \\, \\frac{\\partial}{\\partial x}u\\left(x\\right) + \\frac{\\partial^{2}}{(\\partial x)^{2}}u\\left(x\\right) = 0\\) con condiciones iniciales \\(u(0)=0, \\; u'(0)=-1\\)\n",
       "    y evalue en el punto dado:</p>\n",
       "    <pre>\n",
       "    u(1.92) = {1:NM:=-105.449442972617:-3.16348328917850}\n",
       "    </pre>\n",
       "    "
      ],
      "text/plain": [
       "\n",
       "    <h1> EDOs lineales de 2o Orden </h1>\n",
       "    <h2> Caso homogeneo </h2>\n",
       "    <p> Encuentre la solución \\(u(x)\\) de la siguiente ecuación diferencial\n",
       "    \\(-3 \\, \\frac{\\partial}{\\partial x}u\\left(x\\right) + \\frac{\\partial^{2}}{(\\partial x)^{2}}u\\left(x\\right) = 0\\) con condiciones iniciales \\(u(0)=0, \\; u'(0)=-1\\)\n",
       "    y evalue en el punto dado:</p>\n",
       "    <pre>\n",
       "    u(1.92) = {1:NM:=-105.449442972617:-3.16348328917850}\n",
       "    </pre>\n",
       "    "
      ]
     },
     "metadata": {},
     "output_type": "display_data"
    },
    {
     "data": {
      "text/html": [
       "\n",
       "    La solución del problema de condiciones iniciales es\n",
       "    \\(u(x)=-\\frac{1}{3} \\, {\\left(e^{\\left(2 \\, x\\right)} + e^{x} + 1\\right)} {\\left(e^{x} - 1\\right)}\\)\n",
       "    "
      ],
      "text/plain": [
       "\n",
       "    La solución del problema de condiciones iniciales es\n",
       "    \\(u(x)=-\\frac{1}{3} \\, {\\left(e^{\\left(2 \\, x\\right)} + e^{x} + 1\\right)} {\\left(e^{x} - 1\\right)}\\)\n",
       "    "
      ]
     },
     "metadata": {},
     "output_type": "display_data"
    },
    {
     "data": {
      "text/html": [
       "\n",
       "    <h1> EDOs lineales de 2o Orden </h1>\n",
       "    <h2> Caso homogeneo </h2>\n",
       "    <p> Encuentre la solución \\(u(x)\\) de la siguiente ecuación diferencial\n",
       "    \\(-8 \\, u\\left(x\\right) - 10 \\, \\frac{\\partial}{\\partial x}u\\left(x\\right) + \\frac{\\partial^{2}}{(\\partial x)^{2}}u\\left(x\\right) = 0\\) con condiciones iniciales \\(u(0)=1, \\; u'(0)=0\\)\n",
       "    y evalue en el punto dado:</p>\n",
       "    <pre>\n",
       "    u(1.5) = {1:NM:=647248.251917924:19417.4475575377}\n",
       "    </pre>\n",
       "    "
      ],
      "text/plain": [
       "\n",
       "    <h1> EDOs lineales de 2o Orden </h1>\n",
       "    <h2> Caso homogeneo </h2>\n",
       "    <p> Encuentre la solución \\(u(x)\\) de la siguiente ecuación diferencial\n",
       "    \\(-8 \\, u\\left(x\\right) - 10 \\, \\frac{\\partial}{\\partial x}u\\left(x\\right) + \\frac{\\partial^{2}}{(\\partial x)^{2}}u\\left(x\\right) = 0\\) con condiciones iniciales \\(u(0)=1, \\; u'(0)=0\\)\n",
       "    y evalue en el punto dado:</p>\n",
       "    <pre>\n",
       "    u(1.5) = {1:NM:=647248.251917924:19417.4475575377}\n",
       "    </pre>\n",
       "    "
      ]
     },
     "metadata": {},
     "output_type": "display_data"
    },
    {
     "data": {
      "text/html": [
       "\n",
       "    La solución del problema de condiciones iniciales es\n",
       "    \\(u(x)=-\\frac{1}{66} \\, {\\left(5 \\, \\sqrt{33} e^{\\left(2 \\, \\sqrt{33} x\\right)} - 5 \\, \\sqrt{33} - 33 \\, e^{\\left(2 \\, \\sqrt{33} x\\right)} - 33\\right)} e^{\\left(-\\sqrt{33} x + 5 \\, x\\right)}\\)\n",
       "    "
      ],
      "text/plain": [
       "\n",
       "    La solución del problema de condiciones iniciales es\n",
       "    \\(u(x)=-\\frac{1}{66} \\, {\\left(5 \\, \\sqrt{33} e^{\\left(2 \\, \\sqrt{33} x\\right)} - 5 \\, \\sqrt{33} - 33 \\, e^{\\left(2 \\, \\sqrt{33} x\\right)} - 33\\right)} e^{\\left(-\\sqrt{33} x + 5 \\, x\\right)}\\)\n",
       "    "
      ]
     },
     "metadata": {},
     "output_type": "display_data"
    },
    {
     "data": {
      "text/html": [
       "\n",
       "    <h1> EDOs lineales de 2o Orden </h1>\n",
       "    <h2> Caso homogeneo </h2>\n",
       "    <p> Encuentre la solución \\(u(x)\\) de la siguiente ecuación diferencial\n",
       "    \\(-u\\left(x\\right) + 4 \\, \\frac{\\partial}{\\partial x}u\\left(x\\right) + \\frac{\\partial^{2}}{(\\partial x)^{2}}u\\left(x\\right) = 0\\) con condiciones iniciales \\(u(0)=1, \\; u'(0)=1\\)\n",
       "    y evalue en el punto dado:</p>\n",
       "    <pre>\n",
       "    u(1.45) = {1:NM:=1.64835938788774:0.0494507816366323}\n",
       "    </pre>\n",
       "    "
      ],
      "text/plain": [
       "\n",
       "    <h1> EDOs lineales de 2o Orden </h1>\n",
       "    <h2> Caso homogeneo </h2>\n",
       "    <p> Encuentre la solución \\(u(x)\\) de la siguiente ecuación diferencial\n",
       "    \\(-u\\left(x\\right) + 4 \\, \\frac{\\partial}{\\partial x}u\\left(x\\right) + \\frac{\\partial^{2}}{(\\partial x)^{2}}u\\left(x\\right) = 0\\) con condiciones iniciales \\(u(0)=1, \\; u'(0)=1\\)\n",
       "    y evalue en el punto dado:</p>\n",
       "    <pre>\n",
       "    u(1.45) = {1:NM:=1.64835938788774:0.0494507816366323}\n",
       "    </pre>\n",
       "    "
      ]
     },
     "metadata": {},
     "output_type": "display_data"
    },
    {
     "data": {
      "text/html": [
       "\n",
       "    La solución del problema de condiciones iniciales es\n",
       "    \\(u(x)=\\frac{1}{10} \\, {\\left(3 \\, \\sqrt{5} e^{\\left(2 \\, \\sqrt{5} x\\right)} - 3 \\, \\sqrt{5} + 5 \\, e^{\\left(2 \\, \\sqrt{5} x\\right)} + 5\\right)} e^{\\left(-\\sqrt{5} x - 2 \\, x\\right)}\\)\n",
       "    "
      ],
      "text/plain": [
       "\n",
       "    La solución del problema de condiciones iniciales es\n",
       "    \\(u(x)=\\frac{1}{10} \\, {\\left(3 \\, \\sqrt{5} e^{\\left(2 \\, \\sqrt{5} x\\right)} - 3 \\, \\sqrt{5} + 5 \\, e^{\\left(2 \\, \\sqrt{5} x\\right)} + 5\\right)} e^{\\left(-\\sqrt{5} x - 2 \\, x\\right)}\\)\n",
       "    "
      ]
     },
     "metadata": {},
     "output_type": "display_data"
    },
    {
     "data": {
      "text/html": [
       "\n",
       "    <h1> EDOs lineales de 2o Orden </h1>\n",
       "    <h2> Caso homogeneo </h2>\n",
       "    <p> Encuentre la solución \\(u(x)\\) de la siguiente ecuación diferencial\n",
       "    \\(-6 \\, u\\left(x\\right) - 4 \\, \\frac{\\partial}{\\partial x}u\\left(x\\right) + \\frac{\\partial^{2}}{(\\partial x)^{2}}u\\left(x\\right) = 0\\) con condiciones iniciales \\(u(0)=1, \\; u'(0)=1\\)\n",
       "    y evalue en el punto dado:</p>\n",
       "    <pre>\n",
       "    u(1.04) = {1:NM:=73.5647320041614:2.20694196012484}\n",
       "    </pre>\n",
       "    "
      ],
      "text/plain": [
       "\n",
       "    <h1> EDOs lineales de 2o Orden </h1>\n",
       "    <h2> Caso homogeneo </h2>\n",
       "    <p> Encuentre la solución \\(u(x)\\) de la siguiente ecuación diferencial\n",
       "    \\(-6 \\, u\\left(x\\right) - 4 \\, \\frac{\\partial}{\\partial x}u\\left(x\\right) + \\frac{\\partial^{2}}{(\\partial x)^{2}}u\\left(x\\right) = 0\\) con condiciones iniciales \\(u(0)=1, \\; u'(0)=1\\)\n",
       "    y evalue en el punto dado:</p>\n",
       "    <pre>\n",
       "    u(1.04) = {1:NM:=73.5647320041614:2.20694196012484}\n",
       "    </pre>\n",
       "    "
      ]
     },
     "metadata": {},
     "output_type": "display_data"
    },
    {
     "data": {
      "text/html": [
       "\n",
       "    La solución del problema de condiciones iniciales es\n",
       "    \\(u(x)=-\\frac{1}{20} \\, {\\left(\\sqrt{10} e^{\\left(2 \\, \\sqrt{10} x\\right)} - \\sqrt{10} - 10 \\, e^{\\left(2 \\, \\sqrt{10} x\\right)} - 10\\right)} e^{\\left(-\\sqrt{10} x + 2 \\, x\\right)}\\)\n",
       "    "
      ],
      "text/plain": [
       "\n",
       "    La solución del problema de condiciones iniciales es\n",
       "    \\(u(x)=-\\frac{1}{20} \\, {\\left(\\sqrt{10} e^{\\left(2 \\, \\sqrt{10} x\\right)} - \\sqrt{10} - 10 \\, e^{\\left(2 \\, \\sqrt{10} x\\right)} - 10\\right)} e^{\\left(-\\sqrt{10} x + 2 \\, x\\right)}\\)\n",
       "    "
      ]
     },
     "metadata": {},
     "output_type": "display_data"
    },
    {
     "data": {
      "text/html": [
       "\n",
       "    <h1> EDOs lineales de 2o Orden </h1>\n",
       "    <h2> Caso homogeneo </h2>\n",
       "    <p> Encuentre la solución \\(u(x)\\) de la siguiente ecuación diferencial\n",
       "    \\(9 \\, u\\left(x\\right) - 10 \\, \\frac{\\partial}{\\partial x}u\\left(x\\right) + \\frac{\\partial^{2}}{(\\partial x)^{2}}u\\left(x\\right) = 0\\) con condiciones iniciales \\(u(0)=-1, \\; u'(0)=-1\\)\n",
       "    y evalue en el punto dado:</p>\n",
       "    <pre>\n",
       "    u(1.63) = {1:NM:=-5.10387471853673:-0.153116241556102}\n",
       "    </pre>\n",
       "    "
      ],
      "text/plain": [
       "\n",
       "    <h1> EDOs lineales de 2o Orden </h1>\n",
       "    <h2> Caso homogeneo </h2>\n",
       "    <p> Encuentre la solución \\(u(x)\\) de la siguiente ecuación diferencial\n",
       "    \\(9 \\, u\\left(x\\right) - 10 \\, \\frac{\\partial}{\\partial x}u\\left(x\\right) + \\frac{\\partial^{2}}{(\\partial x)^{2}}u\\left(x\\right) = 0\\) con condiciones iniciales \\(u(0)=-1, \\; u'(0)=-1\\)\n",
       "    y evalue en el punto dado:</p>\n",
       "    <pre>\n",
       "    u(1.63) = {1:NM:=-5.10387471853673:-0.153116241556102}\n",
       "    </pre>\n",
       "    "
      ]
     },
     "metadata": {},
     "output_type": "display_data"
    },
    {
     "data": {
      "text/html": [
       "\n",
       "    La solución del problema de condiciones iniciales es\n",
       "    \\(u(x)=-e^{x}\\)\n",
       "    "
      ],
      "text/plain": [
       "\n",
       "    La solución del problema de condiciones iniciales es\n",
       "    \\(u(x)=-e^{x}\\)\n",
       "    "
      ]
     },
     "metadata": {},
     "output_type": "display_data"
    },
    {
     "data": {
      "text/html": [
       "\n",
       "    <h1> EDOs lineales de 2o Orden </h1>\n",
       "    <h2> Caso homogeneo </h2>\n",
       "    <p> Encuentre la solución \\(u(x)\\) de la siguiente ecuación diferencial\n",
       "    \\(-5 \\, u\\left(x\\right) + 3 \\, \\frac{\\partial}{\\partial x}u\\left(x\\right) + \\frac{\\partial^{2}}{(\\partial x)^{2}}u\\left(x\\right) = 0\\) con condiciones iniciales \\(u(0)=1, \\; u'(0)=1\\)\n",
       "    y evalue en el punto dado:</p>\n",
       "    <pre>\n",
       "    u(1.08) = {1:NM:=3.49622119675752:0.104886635902726}\n",
       "    </pre>\n",
       "    "
      ],
      "text/plain": [
       "\n",
       "    <h1> EDOs lineales de 2o Orden </h1>\n",
       "    <h2> Caso homogeneo </h2>\n",
       "    <p> Encuentre la solución \\(u(x)\\) de la siguiente ecuación diferencial\n",
       "    \\(-5 \\, u\\left(x\\right) + 3 \\, \\frac{\\partial}{\\partial x}u\\left(x\\right) + \\frac{\\partial^{2}}{(\\partial x)^{2}}u\\left(x\\right) = 0\\) con condiciones iniciales \\(u(0)=1, \\; u'(0)=1\\)\n",
       "    y evalue en el punto dado:</p>\n",
       "    <pre>\n",
       "    u(1.08) = {1:NM:=3.49622119675752:0.104886635902726}\n",
       "    </pre>\n",
       "    "
      ]
     },
     "metadata": {},
     "output_type": "display_data"
    },
    {
     "data": {
      "text/html": [
       "\n",
       "    La solución del problema de condiciones iniciales es\n",
       "    \\(u(x)=\\frac{1}{58} \\, {\\left(5 \\, \\sqrt{29} e^{\\left(\\sqrt{29} x\\right)} - 5 \\, \\sqrt{29} + 29 \\, e^{\\left(\\sqrt{29} x\\right)} + 29\\right)} e^{\\left(-\\frac{1}{2} \\, \\sqrt{29} x - \\frac{3}{2} \\, x\\right)}\\)\n",
       "    "
      ],
      "text/plain": [
       "\n",
       "    La solución del problema de condiciones iniciales es\n",
       "    \\(u(x)=\\frac{1}{58} \\, {\\left(5 \\, \\sqrt{29} e^{\\left(\\sqrt{29} x\\right)} - 5 \\, \\sqrt{29} + 29 \\, e^{\\left(\\sqrt{29} x\\right)} + 29\\right)} e^{\\left(-\\frac{1}{2} \\, \\sqrt{29} x - \\frac{3}{2} \\, x\\right)}\\)\n",
       "    "
      ]
     },
     "metadata": {},
     "output_type": "display_data"
    },
    {
     "data": {
      "text/html": [
       "\n",
       "    <h1> EDOs lineales de 2o Orden </h1>\n",
       "    <h2> Caso homogeneo </h2>\n",
       "    <p> Encuentre la solución \\(u(x)\\) de la siguiente ecuación diferencial\n",
       "    \\(-10 \\, u\\left(x\\right) + 3 \\, \\frac{\\partial}{\\partial x}u\\left(x\\right) + \\frac{\\partial^{2}}{(\\partial x)^{2}}u\\left(x\\right) = 0\\) con condiciones iniciales \\(u(0)=1, \\; u'(0)=1\\)\n",
       "    y evalue en el punto dado:</p>\n",
       "    <pre>\n",
       "    u(1.34) = {1:NM:=12.5016843838839:0.375050531516518}\n",
       "    </pre>\n",
       "    "
      ],
      "text/plain": [
       "\n",
       "    <h1> EDOs lineales de 2o Orden </h1>\n",
       "    <h2> Caso homogeneo </h2>\n",
       "    <p> Encuentre la solución \\(u(x)\\) de la siguiente ecuación diferencial\n",
       "    \\(-10 \\, u\\left(x\\right) + 3 \\, \\frac{\\partial}{\\partial x}u\\left(x\\right) + \\frac{\\partial^{2}}{(\\partial x)^{2}}u\\left(x\\right) = 0\\) con condiciones iniciales \\(u(0)=1, \\; u'(0)=1\\)\n",
       "    y evalue en el punto dado:</p>\n",
       "    <pre>\n",
       "    u(1.34) = {1:NM:=12.5016843838839:0.375050531516518}\n",
       "    </pre>\n",
       "    "
      ]
     },
     "metadata": {},
     "output_type": "display_data"
    },
    {
     "data": {
      "text/html": [
       "\n",
       "    La solución del problema de condiciones iniciales es\n",
       "    \\(u(x)=\\frac{1}{7} \\, {\\left(6 \\, e^{\\left(7 \\, x\\right)} + 1\\right)} e^{\\left(-5 \\, x\\right)}\\)\n",
       "    "
      ],
      "text/plain": [
       "\n",
       "    La solución del problema de condiciones iniciales es\n",
       "    \\(u(x)=\\frac{1}{7} \\, {\\left(6 \\, e^{\\left(7 \\, x\\right)} + 1\\right)} e^{\\left(-5 \\, x\\right)}\\)\n",
       "    "
      ]
     },
     "metadata": {},
     "output_type": "display_data"
    },
    {
     "data": {
      "text/html": [
       "\n",
       "    <h1> EDOs lineales de 2o Orden </h1>\n",
       "    <h2> Caso homogeneo </h2>\n",
       "    <p> Encuentre la solución \\(u(x)\\) de la siguiente ecuación diferencial\n",
       "    \\(-10 \\, u\\left(x\\right) + 4 \\, \\frac{\\partial}{\\partial x}u\\left(x\\right) + \\frac{\\partial^{2}}{(\\partial x)^{2}}u\\left(x\\right) = 0\\) con condiciones iniciales \\(u(0)=0, \\; u'(0)=-1\\)\n",
       "    y evalue en el punto dado:</p>\n",
       "    <pre>\n",
       "    u(1.25) = {1:NM:=-1.17857876783179:-0.0353573630349536}\n",
       "    </pre>\n",
       "    "
      ],
      "text/plain": [
       "\n",
       "    <h1> EDOs lineales de 2o Orden </h1>\n",
       "    <h2> Caso homogeneo </h2>\n",
       "    <p> Encuentre la solución \\(u(x)\\) de la siguiente ecuación diferencial\n",
       "    \\(-10 \\, u\\left(x\\right) + 4 \\, \\frac{\\partial}{\\partial x}u\\left(x\\right) + \\frac{\\partial^{2}}{(\\partial x)^{2}}u\\left(x\\right) = 0\\) con condiciones iniciales \\(u(0)=0, \\; u'(0)=-1\\)\n",
       "    y evalue en el punto dado:</p>\n",
       "    <pre>\n",
       "    u(1.25) = {1:NM:=-1.17857876783179:-0.0353573630349536}\n",
       "    </pre>\n",
       "    "
      ]
     },
     "metadata": {},
     "output_type": "display_data"
    },
    {
     "data": {
      "text/html": [
       "\n",
       "    La solución del problema de condiciones iniciales es\n",
       "    \\(u(x)=-\\frac{1}{28} \\, \\sqrt{14} {\\left(e^{\\left(\\sqrt{14} x\\right)} + 1\\right)} {\\left(e^{\\left(\\sqrt{14} x\\right)} - 1\\right)} e^{\\left(-\\sqrt{14} x - 2 \\, x\\right)}\\)\n",
       "    "
      ],
      "text/plain": [
       "\n",
       "    La solución del problema de condiciones iniciales es\n",
       "    \\(u(x)=-\\frac{1}{28} \\, \\sqrt{14} {\\left(e^{\\left(\\sqrt{14} x\\right)} + 1\\right)} {\\left(e^{\\left(\\sqrt{14} x\\right)} - 1\\right)} e^{\\left(-\\sqrt{14} x - 2 \\, x\\right)}\\)\n",
       "    "
      ]
     },
     "metadata": {},
     "output_type": "display_data"
    },
    {
     "data": {
      "text/html": [
       "\n",
       "    <h1> EDOs lineales de 2o Orden </h1>\n",
       "    <h2> Caso homogeneo </h2>\n",
       "    <p> Encuentre la solución \\(u(x)\\) de la siguiente ecuación diferencial\n",
       "    \\(-u\\left(x\\right) - 7 \\, \\frac{\\partial}{\\partial x}u\\left(x\\right) + \\frac{\\partial^{2}}{(\\partial x)^{2}}u\\left(x\\right) = 0\\) con condiciones iniciales \\(u(0)=-1, \\; u'(0)=1\\)\n",
       "    y evalue en el punto dado:</p>\n",
       "    <pre>\n",
       "    u(1.58) = {1:NM:=9368.96984607757:281.069095382327}\n",
       "    </pre>\n",
       "    "
      ],
      "text/plain": [
       "\n",
       "    <h1> EDOs lineales de 2o Orden </h1>\n",
       "    <h2> Caso homogeneo </h2>\n",
       "    <p> Encuentre la solución \\(u(x)\\) de la siguiente ecuación diferencial\n",
       "    \\(-u\\left(x\\right) - 7 \\, \\frac{\\partial}{\\partial x}u\\left(x\\right) + \\frac{\\partial^{2}}{(\\partial x)^{2}}u\\left(x\\right) = 0\\) con condiciones iniciales \\(u(0)=-1, \\; u'(0)=1\\)\n",
       "    y evalue en el punto dado:</p>\n",
       "    <pre>\n",
       "    u(1.58) = {1:NM:=9368.96984607757:281.069095382327}\n",
       "    </pre>\n",
       "    "
      ]
     },
     "metadata": {},
     "output_type": "display_data"
    },
    {
     "data": {
      "text/html": [
       "\n",
       "    La solución del problema de condiciones iniciales es\n",
       "    \\(u(x)=\\frac{1}{106} \\, {\\left(9 \\, \\sqrt{53} e^{\\left(\\sqrt{53} x\\right)} - 9 \\, \\sqrt{53} - 53 \\, e^{\\left(\\sqrt{53} x\\right)} - 53\\right)} e^{\\left(-\\frac{1}{2} \\, \\sqrt{53} x + \\frac{7}{2} \\, x\\right)}\\)\n",
       "    "
      ],
      "text/plain": [
       "\n",
       "    La solución del problema de condiciones iniciales es\n",
       "    \\(u(x)=\\frac{1}{106} \\, {\\left(9 \\, \\sqrt{53} e^{\\left(\\sqrt{53} x\\right)} - 9 \\, \\sqrt{53} - 53 \\, e^{\\left(\\sqrt{53} x\\right)} - 53\\right)} e^{\\left(-\\frac{1}{2} \\, \\sqrt{53} x + \\frac{7}{2} \\, x\\right)}\\)\n",
       "    "
      ]
     },
     "metadata": {},
     "output_type": "display_data"
    },
    {
     "data": {
      "text/html": [
       "\n",
       "    <h1> EDOs lineales de 2o Orden </h1>\n",
       "    <h2> Caso homogeneo </h2>\n",
       "    <p> Encuentre la solución \\(u(x)\\) de la siguiente ecuación diferencial\n",
       "    \\(5 \\, u\\left(x\\right) + 4 \\, \\frac{\\partial}{\\partial x}u\\left(x\\right) + \\frac{\\partial^{2}}{(\\partial x)^{2}}u\\left(x\\right) = 0\\) con condiciones iniciales \\(u(0)=-1, \\; u'(0)=1\\)\n",
       "    y evalue en el punto dado:</p>\n",
       "    <pre>\n",
       "    u(1.91) = {1:NM:=-0.0133821791470539:-0.000401465374411618}\n",
       "    </pre>\n",
       "    "
      ],
      "text/plain": [
       "\n",
       "    <h1> EDOs lineales de 2o Orden </h1>\n",
       "    <h2> Caso homogeneo </h2>\n",
       "    <p> Encuentre la solución \\(u(x)\\) de la siguiente ecuación diferencial\n",
       "    \\(5 \\, u\\left(x\\right) + 4 \\, \\frac{\\partial}{\\partial x}u\\left(x\\right) + \\frac{\\partial^{2}}{(\\partial x)^{2}}u\\left(x\\right) = 0\\) con condiciones iniciales \\(u(0)=-1, \\; u'(0)=1\\)\n",
       "    y evalue en el punto dado:</p>\n",
       "    <pre>\n",
       "    u(1.91) = {1:NM:=-0.0133821791470539:-0.000401465374411618}\n",
       "    </pre>\n",
       "    "
      ]
     },
     "metadata": {},
     "output_type": "display_data"
    },
    {
     "data": {
      "text/html": [
       "\n",
       "    La solución del problema de condiciones iniciales es\n",
       "    \\(u(x)=-{\\left(\\cos\\left(x\\right) + \\sin\\left(x\\right)\\right)} e^{\\left(-2 \\, x\\right)}\\)\n",
       "    "
      ],
      "text/plain": [
       "\n",
       "    La solución del problema de condiciones iniciales es\n",
       "    \\(u(x)=-{\\left(\\cos\\left(x\\right) + \\sin\\left(x\\right)\\right)} e^{\\left(-2 \\, x\\right)}\\)\n",
       "    "
      ]
     },
     "metadata": {},
     "output_type": "display_data"
    },
    {
     "data": {
      "text/html": [
       "\n",
       "    <h1> EDOs lineales de 2o Orden </h1>\n",
       "    <h2> Caso homogeneo </h2>\n",
       "    <p> Encuentre la solución \\(u(x)\\) de la siguiente ecuación diferencial\n",
       "    \\(-3 \\, u\\left(x\\right) - 10 \\, \\frac{\\partial}{\\partial x}u\\left(x\\right) + \\frac{\\partial^{2}}{(\\partial x)^{2}}u\\left(x\\right) = 0\\) con condiciones iniciales \\(u(0)=-1, \\; u'(0)=-1\\)\n",
       "    y evalue en el punto dado:</p>\n",
       "    <pre>\n",
       "    u(1.13) = {1:NM:=-13711.6477739784:-411.349433219351}\n",
       "    </pre>\n",
       "    "
      ],
      "text/plain": [
       "\n",
       "    <h1> EDOs lineales de 2o Orden </h1>\n",
       "    <h2> Caso homogeneo </h2>\n",
       "    <p> Encuentre la solución \\(u(x)\\) de la siguiente ecuación diferencial\n",
       "    \\(-3 \\, u\\left(x\\right) - 10 \\, \\frac{\\partial}{\\partial x}u\\left(x\\right) + \\frac{\\partial^{2}}{(\\partial x)^{2}}u\\left(x\\right) = 0\\) con condiciones iniciales \\(u(0)=-1, \\; u'(0)=-1\\)\n",
       "    y evalue en el punto dado:</p>\n",
       "    <pre>\n",
       "    u(1.13) = {1:NM:=-13711.6477739784:-411.349433219351}\n",
       "    </pre>\n",
       "    "
      ]
     },
     "metadata": {},
     "output_type": "display_data"
    },
    {
     "data": {
      "text/html": [
       "\n",
       "    La solución del problema de condiciones iniciales es\n",
       "    \\(u(x)=\\frac{1}{14} \\, {\\left(2 \\, \\sqrt{7} e^{\\left(4 \\, \\sqrt{7} x\\right)} - 2 \\, \\sqrt{7} - 7 \\, e^{\\left(4 \\, \\sqrt{7} x\\right)} - 7\\right)} e^{\\left(-2 \\, \\sqrt{7} x + 5 \\, x\\right)}\\)\n",
       "    "
      ],
      "text/plain": [
       "\n",
       "    La solución del problema de condiciones iniciales es\n",
       "    \\(u(x)=\\frac{1}{14} \\, {\\left(2 \\, \\sqrt{7} e^{\\left(4 \\, \\sqrt{7} x\\right)} - 2 \\, \\sqrt{7} - 7 \\, e^{\\left(4 \\, \\sqrt{7} x\\right)} - 7\\right)} e^{\\left(-2 \\, \\sqrt{7} x + 5 \\, x\\right)}\\)\n",
       "    "
      ]
     },
     "metadata": {},
     "output_type": "display_data"
    },
    {
     "data": {
      "text/html": [
       "\n",
       "    <h1> EDOs lineales de 2o Orden </h1>\n",
       "    <h2> Caso homogeneo </h2>\n",
       "    <p> Encuentre la solución \\(u(x)\\) de la siguiente ecuación diferencial\n",
       "    \\(6 \\, u\\left(x\\right) - 9 \\, \\frac{\\partial}{\\partial x}u\\left(x\\right) + \\frac{\\partial^{2}}{(\\partial x)^{2}}u\\left(x\\right) = 0\\) con condiciones iniciales \\(u(0)=0, \\; u'(0)=-1\\)\n",
       "    y evalue en el punto dado:</p>\n",
       "    <pre>\n",
       "    u(1.58) = {1:NM:=-63122.7783743133:-1893.68335122940}\n",
       "    </pre>\n",
       "    "
      ],
      "text/plain": [
       "\n",
       "    <h1> EDOs lineales de 2o Orden </h1>\n",
       "    <h2> Caso homogeneo </h2>\n",
       "    <p> Encuentre la solución \\(u(x)\\) de la siguiente ecuación diferencial\n",
       "    \\(6 \\, u\\left(x\\right) - 9 \\, \\frac{\\partial}{\\partial x}u\\left(x\\right) + \\frac{\\partial^{2}}{(\\partial x)^{2}}u\\left(x\\right) = 0\\) con condiciones iniciales \\(u(0)=0, \\; u'(0)=-1\\)\n",
       "    y evalue en el punto dado:</p>\n",
       "    <pre>\n",
       "    u(1.58) = {1:NM:=-63122.7783743133:-1893.68335122940}\n",
       "    </pre>\n",
       "    "
      ]
     },
     "metadata": {},
     "output_type": "display_data"
    },
    {
     "data": {
      "text/html": [
       "\n",
       "    La solución del problema de condiciones iniciales es\n",
       "    \\(u(x)=-\\frac{1}{57} \\, \\sqrt{57} {\\left(e^{\\left(\\sqrt{57} x\\right)} - 1\\right)} e^{\\left(-\\frac{1}{2} \\, \\sqrt{57} x + \\frac{9}{2} \\, x\\right)}\\)\n",
       "    "
      ],
      "text/plain": [
       "\n",
       "    La solución del problema de condiciones iniciales es\n",
       "    \\(u(x)=-\\frac{1}{57} \\, \\sqrt{57} {\\left(e^{\\left(\\sqrt{57} x\\right)} - 1\\right)} e^{\\left(-\\frac{1}{2} \\, \\sqrt{57} x + \\frac{9}{2} \\, x\\right)}\\)\n",
       "    "
      ]
     },
     "metadata": {},
     "output_type": "display_data"
    },
    {
     "data": {
      "text/html": [
       "\n",
       "    <h1> EDOs lineales de 2o Orden </h1>\n",
       "    <h2> Caso homogeneo </h2>\n",
       "    <p> Encuentre la solución \\(u(x)\\) de la siguiente ecuación diferencial\n",
       "    \\(9 \\, u\\left(x\\right) - 6 \\, \\frac{\\partial}{\\partial x}u\\left(x\\right) + \\frac{\\partial^{2}}{(\\partial x)^{2}}u\\left(x\\right) = 0\\) con condiciones iniciales \\(u(0)=1, \\; u'(0)=-1\\)\n",
       "    y evalue en el punto dado:</p>\n",
       "    <pre>\n",
       "    u(1.17) = {1:NM:=-123.089625444917:-3.69268876334752}\n",
       "    </pre>\n",
       "    "
      ],
      "text/plain": [
       "\n",
       "    <h1> EDOs lineales de 2o Orden </h1>\n",
       "    <h2> Caso homogeneo </h2>\n",
       "    <p> Encuentre la solución \\(u(x)\\) de la siguiente ecuación diferencial\n",
       "    \\(9 \\, u\\left(x\\right) - 6 \\, \\frac{\\partial}{\\partial x}u\\left(x\\right) + \\frac{\\partial^{2}}{(\\partial x)^{2}}u\\left(x\\right) = 0\\) con condiciones iniciales \\(u(0)=1, \\; u'(0)=-1\\)\n",
       "    y evalue en el punto dado:</p>\n",
       "    <pre>\n",
       "    u(1.17) = {1:NM:=-123.089625444917:-3.69268876334752}\n",
       "    </pre>\n",
       "    "
      ]
     },
     "metadata": {},
     "output_type": "display_data"
    },
    {
     "data": {
      "text/html": [
       "\n",
       "    La solución del problema de condiciones iniciales es\n",
       "    \\(u(x)=-{\\left(4 \\, x - 1\\right)} e^{\\left(3 \\, x\\right)}\\)\n",
       "    "
      ],
      "text/plain": [
       "\n",
       "    La solución del problema de condiciones iniciales es\n",
       "    \\(u(x)=-{\\left(4 \\, x - 1\\right)} e^{\\left(3 \\, x\\right)}\\)\n",
       "    "
      ]
     },
     "metadata": {},
     "output_type": "display_data"
    },
    {
     "data": {
      "text/html": [
       "\n",
       "    <h1> EDOs lineales de 2o Orden </h1>\n",
       "    <h2> Caso homogeneo </h2>\n",
       "    <p> Encuentre la solución \\(u(x)\\) de la siguiente ecuación diferencial\n",
       "    \\(-9 \\, u\\left(x\\right) - 10 \\, \\frac{\\partial}{\\partial x}u\\left(x\\right) + \\frac{\\partial^{2}}{(\\partial x)^{2}}u\\left(x\\right) = 0\\) con condiciones iniciales \\(u(0)=-1, \\; u'(0)=-1\\)\n",
       "    y evalue en el punto dado:</p>\n",
       "    <pre>\n",
       "    u(1.3) = {1:NM:=-204586.758641433:-6137.60275924300}\n",
       "    </pre>\n",
       "    "
      ],
      "text/plain": [
       "\n",
       "    <h1> EDOs lineales de 2o Orden </h1>\n",
       "    <h2> Caso homogeneo </h2>\n",
       "    <p> Encuentre la solución \\(u(x)\\) de la siguiente ecuación diferencial\n",
       "    \\(-9 \\, u\\left(x\\right) - 10 \\, \\frac{\\partial}{\\partial x}u\\left(x\\right) + \\frac{\\partial^{2}}{(\\partial x)^{2}}u\\left(x\\right) = 0\\) con condiciones iniciales \\(u(0)=-1, \\; u'(0)=-1\\)\n",
       "    y evalue en el punto dado:</p>\n",
       "    <pre>\n",
       "    u(1.3) = {1:NM:=-204586.758641433:-6137.60275924300}\n",
       "    </pre>\n",
       "    "
      ]
     },
     "metadata": {},
     "output_type": "display_data"
    },
    {
     "data": {
      "text/html": [
       "\n",
       "    La solución del problema de condiciones iniciales es\n",
       "    \\(u(x)=\\frac{1}{34} \\, {\\left(2 \\, \\sqrt{34} e^{\\left(2 \\, \\sqrt{34} x\\right)} - 2 \\, \\sqrt{34} - 17 \\, e^{\\left(2 \\, \\sqrt{34} x\\right)} - 17\\right)} e^{\\left(-\\sqrt{34} x + 5 \\, x\\right)}\\)\n",
       "    "
      ],
      "text/plain": [
       "\n",
       "    La solución del problema de condiciones iniciales es\n",
       "    \\(u(x)=\\frac{1}{34} \\, {\\left(2 \\, \\sqrt{34} e^{\\left(2 \\, \\sqrt{34} x\\right)} - 2 \\, \\sqrt{34} - 17 \\, e^{\\left(2 \\, \\sqrt{34} x\\right)} - 17\\right)} e^{\\left(-\\sqrt{34} x + 5 \\, x\\right)}\\)\n",
       "    "
      ]
     },
     "metadata": {},
     "output_type": "display_data"
    },
    {
     "data": {
      "text/html": [
       "\n",
       "    <h1> EDOs lineales de 2o Orden </h1>\n",
       "    <h2> Caso homogeneo </h2>\n",
       "    <p> Encuentre la solución \\(u(x)\\) de la siguiente ecuación diferencial\n",
       "    \\(4 \\, u\\left(x\\right) - 2 \\, \\frac{\\partial}{\\partial x}u\\left(x\\right) + \\frac{\\partial^{2}}{(\\partial x)^{2}}u\\left(x\\right) = 0\\) con condiciones iniciales \\(u(0)=-1, \\; u'(0)=1\\)\n",
       "    y evalue en el punto dado:</p>\n",
       "    <pre>\n",
       "    u(1.88) = {1:NM:=5.64467841767833:0.169340352530350}\n",
       "    </pre>\n",
       "    "
      ],
      "text/plain": [
       "\n",
       "    <h1> EDOs lineales de 2o Orden </h1>\n",
       "    <h2> Caso homogeneo </h2>\n",
       "    <p> Encuentre la solución \\(u(x)\\) de la siguiente ecuación diferencial\n",
       "    \\(4 \\, u\\left(x\\right) - 2 \\, \\frac{\\partial}{\\partial x}u\\left(x\\right) + \\frac{\\partial^{2}}{(\\partial x)^{2}}u\\left(x\\right) = 0\\) con condiciones iniciales \\(u(0)=-1, \\; u'(0)=1\\)\n",
       "    y evalue en el punto dado:</p>\n",
       "    <pre>\n",
       "    u(1.88) = {1:NM:=5.64467841767833:0.169340352530350}\n",
       "    </pre>\n",
       "    "
      ]
     },
     "metadata": {},
     "output_type": "display_data"
    },
    {
     "data": {
      "text/html": [
       "\n",
       "    La solución del problema de condiciones iniciales es\n",
       "    \\(u(x)=-\\frac{1}{3} \\, \\sqrt{3} {\\left(\\sqrt{3} \\cos\\left(\\sqrt{3} x\\right) - 2 \\, \\sin\\left(\\sqrt{3} x\\right)\\right)} e^{x}\\)\n",
       "    "
      ],
      "text/plain": [
       "\n",
       "    La solución del problema de condiciones iniciales es\n",
       "    \\(u(x)=-\\frac{1}{3} \\, \\sqrt{3} {\\left(\\sqrt{3} \\cos\\left(\\sqrt{3} x\\right) - 2 \\, \\sin\\left(\\sqrt{3} x\\right)\\right)} e^{x}\\)\n",
       "    "
      ]
     },
     "metadata": {},
     "output_type": "display_data"
    },
    {
     "data": {
      "text/html": [
       "\n",
       "    <h1> EDOs lineales de 2o Orden </h1>\n",
       "    <h2> Caso homogeneo </h2>\n",
       "    <p> Encuentre la solución \\(u(x)\\) de la siguiente ecuación diferencial\n",
       "    \\(-10 \\, u\\left(x\\right) - 10 \\, \\frac{\\partial}{\\partial x}u\\left(x\\right) + \\frac{\\partial^{2}}{(\\partial x)^{2}}u\\left(x\\right) = 0\\) con condiciones iniciales \\(u(0)=-1, \\; u'(0)=1\\)\n",
       "    y evalue en el punto dado:</p>\n",
       "    <pre>\n",
       "    u(1.35) = {1:NM:=17818.3010283242:534.549030849727}\n",
       "    </pre>\n",
       "    "
      ],
      "text/plain": [
       "\n",
       "    <h1> EDOs lineales de 2o Orden </h1>\n",
       "    <h2> Caso homogeneo </h2>\n",
       "    <p> Encuentre la solución \\(u(x)\\) de la siguiente ecuación diferencial\n",
       "    \\(-10 \\, u\\left(x\\right) - 10 \\, \\frac{\\partial}{\\partial x}u\\left(x\\right) + \\frac{\\partial^{2}}{(\\partial x)^{2}}u\\left(x\\right) = 0\\) con condiciones iniciales \\(u(0)=-1, \\; u'(0)=1\\)\n",
       "    y evalue en el punto dado:</p>\n",
       "    <pre>\n",
       "    u(1.35) = {1:NM:=17818.3010283242:534.549030849727}\n",
       "    </pre>\n",
       "    "
      ]
     },
     "metadata": {},
     "output_type": "display_data"
    },
    {
     "data": {
      "text/html": [
       "\n",
       "    La solución del problema de condiciones iniciales es\n",
       "    \\(u(x)=\\frac{1}{70} \\, {\\left(6 \\, \\sqrt{35} e^{\\left(2 \\, \\sqrt{35} x\\right)} - 6 \\, \\sqrt{35} - 35 \\, e^{\\left(2 \\, \\sqrt{35} x\\right)} - 35\\right)} e^{\\left(-\\sqrt{35} x + 5 \\, x\\right)}\\)\n",
       "    "
      ],
      "text/plain": [
       "\n",
       "    La solución del problema de condiciones iniciales es\n",
       "    \\(u(x)=\\frac{1}{70} \\, {\\left(6 \\, \\sqrt{35} e^{\\left(2 \\, \\sqrt{35} x\\right)} - 6 \\, \\sqrt{35} - 35 \\, e^{\\left(2 \\, \\sqrt{35} x\\right)} - 35\\right)} e^{\\left(-\\sqrt{35} x + 5 \\, x\\right)}\\)\n",
       "    "
      ]
     },
     "metadata": {},
     "output_type": "display_data"
    },
    {
     "data": {
      "text/html": [
       "\n",
       "    <h1> EDOs lineales de 2o Orden </h1>\n",
       "    <h2> Caso homogeneo </h2>\n",
       "    <p> Encuentre la solución \\(u(x)\\) de la siguiente ecuación diferencial\n",
       "    \\(-7 \\, u\\left(x\\right) - 5 \\, \\frac{\\partial}{\\partial x}u\\left(x\\right) + \\frac{\\partial^{2}}{(\\partial x)^{2}}u\\left(x\\right) = 0\\) con condiciones iniciales \\(u(0)=0, \\; u'(0)=1\\)\n",
       "    y evalue en el punto dado:</p>\n",
       "    <pre>\n",
       "    u(1.7) = {1:NM:=4688.85282478136:140.665584743441}\n",
       "    </pre>\n",
       "    "
      ],
      "text/plain": [
       "\n",
       "    <h1> EDOs lineales de 2o Orden </h1>\n",
       "    <h2> Caso homogeneo </h2>\n",
       "    <p> Encuentre la solución \\(u(x)\\) de la siguiente ecuación diferencial\n",
       "    \\(-7 \\, u\\left(x\\right) - 5 \\, \\frac{\\partial}{\\partial x}u\\left(x\\right) + \\frac{\\partial^{2}}{(\\partial x)^{2}}u\\left(x\\right) = 0\\) con condiciones iniciales \\(u(0)=0, \\; u'(0)=1\\)\n",
       "    y evalue en el punto dado:</p>\n",
       "    <pre>\n",
       "    u(1.7) = {1:NM:=4688.85282478136:140.665584743441}\n",
       "    </pre>\n",
       "    "
      ]
     },
     "metadata": {},
     "output_type": "display_data"
    },
    {
     "data": {
      "text/html": [
       "\n",
       "    La solución del problema de condiciones iniciales es\n",
       "    \\(u(x)=\\frac{1}{53} \\, \\sqrt{53} {\\left(e^{\\left(\\sqrt{53} x\\right)} - 1\\right)} e^{\\left(-\\frac{1}{2} \\, \\sqrt{53} x + \\frac{5}{2} \\, x\\right)}\\)\n",
       "    "
      ],
      "text/plain": [
       "\n",
       "    La solución del problema de condiciones iniciales es\n",
       "    \\(u(x)=\\frac{1}{53} \\, \\sqrt{53} {\\left(e^{\\left(\\sqrt{53} x\\right)} - 1\\right)} e^{\\left(-\\frac{1}{2} \\, \\sqrt{53} x + \\frac{5}{2} \\, x\\right)}\\)\n",
       "    "
      ]
     },
     "metadata": {},
     "output_type": "display_data"
    },
    {
     "data": {
      "text/html": [
       "\n",
       "    <h1> EDOs lineales de 2o Orden </h1>\n",
       "    <h2> Caso homogeneo </h2>\n",
       "    <p> Encuentre la solución \\(u(x)\\) de la siguiente ecuación diferencial\n",
       "    \\(-3 \\, u\\left(x\\right) - 8 \\, \\frac{\\partial}{\\partial x}u\\left(x\\right) + \\frac{\\partial^{2}}{(\\partial x)^{2}}u\\left(x\\right) = 0\\) con condiciones iniciales \\(u(0)=1, \\; u'(0)=1\\)\n",
       "    y evalue en el punto dado:</p>\n",
       "    <pre>\n",
       "    u(1.94) = {1:NM:=1.71954846937063e6:51586.4540811188}\n",
       "    </pre>\n",
       "    "
      ],
      "text/plain": [
       "\n",
       "    <h1> EDOs lineales de 2o Orden </h1>\n",
       "    <h2> Caso homogeneo </h2>\n",
       "    <p> Encuentre la solución \\(u(x)\\) de la siguiente ecuación diferencial\n",
       "    \\(-3 \\, u\\left(x\\right) - 8 \\, \\frac{\\partial}{\\partial x}u\\left(x\\right) + \\frac{\\partial^{2}}{(\\partial x)^{2}}u\\left(x\\right) = 0\\) con condiciones iniciales \\(u(0)=1, \\; u'(0)=1\\)\n",
       "    y evalue en el punto dado:</p>\n",
       "    <pre>\n",
       "    u(1.94) = {1:NM:=1.71954846937063e6:51586.4540811188}\n",
       "    </pre>\n",
       "    "
      ]
     },
     "metadata": {},
     "output_type": "display_data"
    },
    {
     "data": {
      "text/html": [
       "\n",
       "    La solución del problema de condiciones iniciales es\n",
       "    \\(u(x)=-\\frac{1}{38} \\, {\\left(3 \\, \\sqrt{19} e^{\\left(2 \\, \\sqrt{19} x\\right)} - 3 \\, \\sqrt{19} - 19 \\, e^{\\left(2 \\, \\sqrt{19} x\\right)} - 19\\right)} e^{\\left(-\\sqrt{19} x + 4 \\, x\\right)}\\)\n",
       "    "
      ],
      "text/plain": [
       "\n",
       "    La solución del problema de condiciones iniciales es\n",
       "    \\(u(x)=-\\frac{1}{38} \\, {\\left(3 \\, \\sqrt{19} e^{\\left(2 \\, \\sqrt{19} x\\right)} - 3 \\, \\sqrt{19} - 19 \\, e^{\\left(2 \\, \\sqrt{19} x\\right)} - 19\\right)} e^{\\left(-\\sqrt{19} x + 4 \\, x\\right)}\\)\n",
       "    "
      ]
     },
     "metadata": {},
     "output_type": "display_data"
    },
    {
     "data": {
      "text/html": [
       "\n",
       "    <h1> EDOs lineales de 2o Orden </h1>\n",
       "    <h2> Caso homogeneo </h2>\n",
       "    <p> Encuentre la solución \\(u(x)\\) de la siguiente ecuación diferencial\n",
       "    \\(9 \\, u\\left(x\\right) - 8 \\, \\frac{\\partial}{\\partial x}u\\left(x\\right) + \\frac{\\partial^{2}}{(\\partial x)^{2}}u\\left(x\\right) = 0\\) con condiciones iniciales \\(u(0)=0, \\; u'(0)=-1\\)\n",
       "    y evalue en el punto dado:</p>\n",
       "    <pre>\n",
       "    u(1.02) = {1:NM:=-165.343504052246:-4.96030512156738}\n",
       "    </pre>\n",
       "    "
      ],
      "text/plain": [
       "\n",
       "    <h1> EDOs lineales de 2o Orden </h1>\n",
       "    <h2> Caso homogeneo </h2>\n",
       "    <p> Encuentre la solución \\(u(x)\\) de la siguiente ecuación diferencial\n",
       "    \\(9 \\, u\\left(x\\right) - 8 \\, \\frac{\\partial}{\\partial x}u\\left(x\\right) + \\frac{\\partial^{2}}{(\\partial x)^{2}}u\\left(x\\right) = 0\\) con condiciones iniciales \\(u(0)=0, \\; u'(0)=-1\\)\n",
       "    y evalue en el punto dado:</p>\n",
       "    <pre>\n",
       "    u(1.02) = {1:NM:=-165.343504052246:-4.96030512156738}\n",
       "    </pre>\n",
       "    "
      ]
     },
     "metadata": {},
     "output_type": "display_data"
    },
    {
     "data": {
      "text/html": [
       "\n",
       "    La solución del problema de condiciones iniciales es\n",
       "    \\(u(x)=-\\frac{1}{14} \\, \\sqrt{7} {\\left(e^{\\left(\\sqrt{7} x\\right)} + 1\\right)} {\\left(e^{\\left(\\sqrt{7} x\\right)} - 1\\right)} e^{\\left(-\\sqrt{7} x + 4 \\, x\\right)}\\)\n",
       "    "
      ],
      "text/plain": [
       "\n",
       "    La solución del problema de condiciones iniciales es\n",
       "    \\(u(x)=-\\frac{1}{14} \\, \\sqrt{7} {\\left(e^{\\left(\\sqrt{7} x\\right)} + 1\\right)} {\\left(e^{\\left(\\sqrt{7} x\\right)} - 1\\right)} e^{\\left(-\\sqrt{7} x + 4 \\, x\\right)}\\)\n",
       "    "
      ]
     },
     "metadata": {},
     "output_type": "display_data"
    },
    {
     "data": {
      "text/html": [
       "\n",
       "    <h1> EDOs lineales de 2o Orden </h1>\n",
       "    <h2> Caso homogeneo </h2>\n",
       "    <p> Encuentre la solución \\(u(x)\\) de la siguiente ecuación diferencial\n",
       "    \\(8 \\, u\\left(x\\right) + 6 \\, \\frac{\\partial}{\\partial x}u\\left(x\\right) + \\frac{\\partial^{2}}{(\\partial x)^{2}}u\\left(x\\right) = 0\\) con condiciones iniciales \\(u(0)=1, \\; u'(0)=0\\)\n",
       "    y evalue en el punto dado:</p>\n",
       "    <pre>\n",
       "    u(1.08) = {1:NM:=0.217350358533681:0.00652051075601044}\n",
       "    </pre>\n",
       "    "
      ],
      "text/plain": [
       "\n",
       "    <h1> EDOs lineales de 2o Orden </h1>\n",
       "    <h2> Caso homogeneo </h2>\n",
       "    <p> Encuentre la solución \\(u(x)\\) de la siguiente ecuación diferencial\n",
       "    \\(8 \\, u\\left(x\\right) + 6 \\, \\frac{\\partial}{\\partial x}u\\left(x\\right) + \\frac{\\partial^{2}}{(\\partial x)^{2}}u\\left(x\\right) = 0\\) con condiciones iniciales \\(u(0)=1, \\; u'(0)=0\\)\n",
       "    y evalue en el punto dado:</p>\n",
       "    <pre>\n",
       "    u(1.08) = {1:NM:=0.217350358533681:0.00652051075601044}\n",
       "    </pre>\n",
       "    "
      ]
     },
     "metadata": {},
     "output_type": "display_data"
    },
    {
     "data": {
      "text/html": [
       "\n",
       "    La solución del problema de condiciones iniciales es\n",
       "    \\(u(x)={\\left(2 \\, e^{\\left(2 \\, x\\right)} - 1\\right)} e^{\\left(-4 \\, x\\right)}\\)\n",
       "    "
      ],
      "text/plain": [
       "\n",
       "    La solución del problema de condiciones iniciales es\n",
       "    \\(u(x)={\\left(2 \\, e^{\\left(2 \\, x\\right)} - 1\\right)} e^{\\left(-4 \\, x\\right)}\\)\n",
       "    "
      ]
     },
     "metadata": {},
     "output_type": "display_data"
    },
    {
     "data": {
      "text/html": [
       "\n",
       "    <h1> EDOs lineales de 2o Orden </h1>\n",
       "    <h2> Caso homogeneo </h2>\n",
       "    <p> Encuentre la solución \\(u(x)\\) de la siguiente ecuación diferencial\n",
       "    \\(8 \\, u\\left(x\\right) + \\frac{\\partial^{2}}{(\\partial x)^{2}}u\\left(x\\right) = 0\\) con condiciones iniciales \\(u(0)=0, \\; u'(0)=1\\)\n",
       "    y evalue en el punto dado:</p>\n",
       "    <pre>\n",
       "    u(1.35) = {1:NM:=-0.221426626079924:-0.00664279878239772}\n",
       "    </pre>\n",
       "    "
      ],
      "text/plain": [
       "\n",
       "    <h1> EDOs lineales de 2o Orden </h1>\n",
       "    <h2> Caso homogeneo </h2>\n",
       "    <p> Encuentre la solución \\(u(x)\\) de la siguiente ecuación diferencial\n",
       "    \\(8 \\, u\\left(x\\right) + \\frac{\\partial^{2}}{(\\partial x)^{2}}u\\left(x\\right) = 0\\) con condiciones iniciales \\(u(0)=0, \\; u'(0)=1\\)\n",
       "    y evalue en el punto dado:</p>\n",
       "    <pre>\n",
       "    u(1.35) = {1:NM:=-0.221426626079924:-0.00664279878239772}\n",
       "    </pre>\n",
       "    "
      ]
     },
     "metadata": {},
     "output_type": "display_data"
    },
    {
     "data": {
      "text/html": [
       "\n",
       "    La solución del problema de condiciones iniciales es\n",
       "    \\(u(x)=\\frac{1}{4} \\, \\sqrt{2} \\sin\\left(2 \\, \\sqrt{2} x\\right)\\)\n",
       "    "
      ],
      "text/plain": [
       "\n",
       "    La solución del problema de condiciones iniciales es\n",
       "    \\(u(x)=\\frac{1}{4} \\, \\sqrt{2} \\sin\\left(2 \\, \\sqrt{2} x\\right)\\)\n",
       "    "
      ]
     },
     "metadata": {},
     "output_type": "display_data"
    },
    {
     "data": {
      "text/html": [
       "\n",
       "    <h1> EDOs lineales de 2o Orden </h1>\n",
       "    <h2> Caso homogeneo </h2>\n",
       "    <p> Encuentre la solución \\(u(x)\\) de la siguiente ecuación diferencial\n",
       "    \\(2 \\, u\\left(x\\right) + 3 \\, \\frac{\\partial}{\\partial x}u\\left(x\\right) + \\frac{\\partial^{2}}{(\\partial x)^{2}}u\\left(x\\right) = 0\\) con condiciones iniciales \\(u(0)=0, \\; u'(0)=-1\\)\n",
       "    y evalue en el punto dado:</p>\n",
       "    <pre>\n",
       "    u(1.66) = {1:NM:=-0.153986148347474:-0.00461958445042422}\n",
       "    </pre>\n",
       "    "
      ],
      "text/plain": [
       "\n",
       "    <h1> EDOs lineales de 2o Orden </h1>\n",
       "    <h2> Caso homogeneo </h2>\n",
       "    <p> Encuentre la solución \\(u(x)\\) de la siguiente ecuación diferencial\n",
       "    \\(2 \\, u\\left(x\\right) + 3 \\, \\frac{\\partial}{\\partial x}u\\left(x\\right) + \\frac{\\partial^{2}}{(\\partial x)^{2}}u\\left(x\\right) = 0\\) con condiciones iniciales \\(u(0)=0, \\; u'(0)=-1\\)\n",
       "    y evalue en el punto dado:</p>\n",
       "    <pre>\n",
       "    u(1.66) = {1:NM:=-0.153986148347474:-0.00461958445042422}\n",
       "    </pre>\n",
       "    "
      ]
     },
     "metadata": {},
     "output_type": "display_data"
    },
    {
     "data": {
      "text/html": [
       "\n",
       "    La solución del problema de condiciones iniciales es\n",
       "    \\(u(x)=-{\\left(e^{x} - 1\\right)} e^{\\left(-2 \\, x\\right)}\\)\n",
       "    "
      ],
      "text/plain": [
       "\n",
       "    La solución del problema de condiciones iniciales es\n",
       "    \\(u(x)=-{\\left(e^{x} - 1\\right)} e^{\\left(-2 \\, x\\right)}\\)\n",
       "    "
      ]
     },
     "metadata": {},
     "output_type": "display_data"
    },
    {
     "data": {
      "text/html": [
       "\n",
       "    <h1> EDOs lineales de 2o Orden </h1>\n",
       "    <h2> Caso homogeneo </h2>\n",
       "    <p> Encuentre la solución \\(u(x)\\) de la siguiente ecuación diferencial\n",
       "    \\(-3 \\, u\\left(x\\right) + 5 \\, \\frac{\\partial}{\\partial x}u\\left(x\\right) + \\frac{\\partial^{2}}{(\\partial x)^{2}}u\\left(x\\right) = 0\\) con condiciones iniciales \\(u(0)=1, \\; u'(0)=1\\)\n",
       "    y evalue en el punto dado:</p>\n",
       "    <pre>\n",
       "    u(1.93) = {1:NM:=3.05736878651884:0.0917210635955651}\n",
       "    </pre>\n",
       "    "
      ],
      "text/plain": [
       "\n",
       "    <h1> EDOs lineales de 2o Orden </h1>\n",
       "    <h2> Caso homogeneo </h2>\n",
       "    <p> Encuentre la solución \\(u(x)\\) de la siguiente ecuación diferencial\n",
       "    \\(-3 \\, u\\left(x\\right) + 5 \\, \\frac{\\partial}{\\partial x}u\\left(x\\right) + \\frac{\\partial^{2}}{(\\partial x)^{2}}u\\left(x\\right) = 0\\) con condiciones iniciales \\(u(0)=1, \\; u'(0)=1\\)\n",
       "    y evalue en el punto dado:</p>\n",
       "    <pre>\n",
       "    u(1.93) = {1:NM:=3.05736878651884:0.0917210635955651}\n",
       "    </pre>\n",
       "    "
      ]
     },
     "metadata": {},
     "output_type": "display_data"
    },
    {
     "data": {
      "text/html": [
       "\n",
       "    La solución del problema de condiciones iniciales es\n",
       "    \\(u(x)=\\frac{1}{74} \\, {\\left(7 \\, \\sqrt{37} e^{\\left(\\sqrt{37} x\\right)} - 7 \\, \\sqrt{37} + 37 \\, e^{\\left(\\sqrt{37} x\\right)} + 37\\right)} e^{\\left(-\\frac{1}{2} \\, \\sqrt{37} x - \\frac{5}{2} \\, x\\right)}\\)\n",
       "    "
      ],
      "text/plain": [
       "\n",
       "    La solución del problema de condiciones iniciales es\n",
       "    \\(u(x)=\\frac{1}{74} \\, {\\left(7 \\, \\sqrt{37} e^{\\left(\\sqrt{37} x\\right)} - 7 \\, \\sqrt{37} + 37 \\, e^{\\left(\\sqrt{37} x\\right)} + 37\\right)} e^{\\left(-\\frac{1}{2} \\, \\sqrt{37} x - \\frac{5}{2} \\, x\\right)}\\)\n",
       "    "
      ]
     },
     "metadata": {},
     "output_type": "display_data"
    },
    {
     "data": {
      "text/html": [
       "\n",
       "    <h1> EDOs lineales de 2o Orden </h1>\n",
       "    <h2> Caso homogeneo </h2>\n",
       "    <p> Encuentre la solución \\(u(x)\\) de la siguiente ecuación diferencial\n",
       "    \\(-8 \\, u\\left(x\\right) + 6 \\, \\frac{\\partial}{\\partial x}u\\left(x\\right) + \\frac{\\partial^{2}}{(\\partial x)^{2}}u\\left(x\\right) = 0\\) con condiciones iniciales \\(u(0)=-1, \\; u'(0)=0\\)\n",
       "    y evalue en el punto dado:</p>\n",
       "    <pre>\n",
       "    u(1.56) = {1:NM:=-4.98102227135455:-0.149430668140637}\n",
       "    </pre>\n",
       "    "
      ],
      "text/plain": [
       "\n",
       "    <h1> EDOs lineales de 2o Orden </h1>\n",
       "    <h2> Caso homogeneo </h2>\n",
       "    <p> Encuentre la solución \\(u(x)\\) de la siguiente ecuación diferencial\n",
       "    \\(-8 \\, u\\left(x\\right) + 6 \\, \\frac{\\partial}{\\partial x}u\\left(x\\right) + \\frac{\\partial^{2}}{(\\partial x)^{2}}u\\left(x\\right) = 0\\) con condiciones iniciales \\(u(0)=-1, \\; u'(0)=0\\)\n",
       "    y evalue en el punto dado:</p>\n",
       "    <pre>\n",
       "    u(1.56) = {1:NM:=-4.98102227135455:-0.149430668140637}\n",
       "    </pre>\n",
       "    "
      ]
     },
     "metadata": {},
     "output_type": "display_data"
    },
    {
     "data": {
      "text/html": [
       "\n",
       "    La solución del problema de condiciones iniciales es\n",
       "    \\(u(x)=-\\frac{1}{34} \\, {\\left(3 \\, \\sqrt{17} e^{\\left(2 \\, \\sqrt{17} x\\right)} - 3 \\, \\sqrt{17} + 17 \\, e^{\\left(2 \\, \\sqrt{17} x\\right)} + 17\\right)} e^{\\left(-\\sqrt{17} x - 3 \\, x\\right)}\\)\n",
       "    "
      ],
      "text/plain": [
       "\n",
       "    La solución del problema de condiciones iniciales es\n",
       "    \\(u(x)=-\\frac{1}{34} \\, {\\left(3 \\, \\sqrt{17} e^{\\left(2 \\, \\sqrt{17} x\\right)} - 3 \\, \\sqrt{17} + 17 \\, e^{\\left(2 \\, \\sqrt{17} x\\right)} + 17\\right)} e^{\\left(-\\sqrt{17} x - 3 \\, x\\right)}\\)\n",
       "    "
      ]
     },
     "metadata": {},
     "output_type": "display_data"
    },
    {
     "data": {
      "text/html": [
       "\n",
       "    <h1> EDOs lineales de 2o Orden </h1>\n",
       "    <h2> Caso homogeneo </h2>\n",
       "    <p> Encuentre la solución \\(u(x)\\) de la siguiente ecuación diferencial\n",
       "    \\(-4 \\, u\\left(x\\right) - 3 \\, \\frac{\\partial}{\\partial x}u\\left(x\\right) + \\frac{\\partial^{2}}{(\\partial x)^{2}}u\\left(x\\right) = 0\\) con condiciones iniciales \\(u(0)=1, \\; u'(0)=1\\)\n",
       "    y evalue en el punto dado:</p>\n",
       "    <pre>\n",
       "    u(1.2) = {1:NM:=48.7848835346413:1.46354650603924}\n",
       "    </pre>\n",
       "    "
      ],
      "text/plain": [
       "\n",
       "    <h1> EDOs lineales de 2o Orden </h1>\n",
       "    <h2> Caso homogeneo </h2>\n",
       "    <p> Encuentre la solución \\(u(x)\\) de la siguiente ecuación diferencial\n",
       "    \\(-4 \\, u\\left(x\\right) - 3 \\, \\frac{\\partial}{\\partial x}u\\left(x\\right) + \\frac{\\partial^{2}}{(\\partial x)^{2}}u\\left(x\\right) = 0\\) con condiciones iniciales \\(u(0)=1, \\; u'(0)=1\\)\n",
       "    y evalue en el punto dado:</p>\n",
       "    <pre>\n",
       "    u(1.2) = {1:NM:=48.7848835346413:1.46354650603924}\n",
       "    </pre>\n",
       "    "
      ]
     },
     "metadata": {},
     "output_type": "display_data"
    },
    {
     "data": {
      "text/html": [
       "\n",
       "    La solución del problema de condiciones iniciales es\n",
       "    \\(u(x)=\\frac{1}{5} \\, {\\left(2 \\, e^{\\left(5 \\, x\\right)} + 3\\right)} e^{\\left(-x\\right)}\\)\n",
       "    "
      ],
      "text/plain": [
       "\n",
       "    La solución del problema de condiciones iniciales es\n",
       "    \\(u(x)=\\frac{1}{5} \\, {\\left(2 \\, e^{\\left(5 \\, x\\right)} + 3\\right)} e^{\\left(-x\\right)}\\)\n",
       "    "
      ]
     },
     "metadata": {},
     "output_type": "display_data"
    },
    {
     "data": {
      "text/html": [
       "\n",
       "    <h1> EDOs lineales de 2o Orden </h1>\n",
       "    <h2> Caso homogeneo </h2>\n",
       "    <p> Encuentre la solución \\(u(x)\\) de la siguiente ecuación diferencial\n",
       "    \\(9 \\, u\\left(x\\right) - 10 \\, \\frac{\\partial}{\\partial x}u\\left(x\\right) + \\frac{\\partial^{2}}{(\\partial x)^{2}}u\\left(x\\right) = 0\\) con condiciones iniciales \\(u(0)=-1, \\; u'(0)=0\\)\n",
       "    y evalue en el punto dado:</p>\n",
       "    <pre>\n",
       "    u(1.47) = {1:NM:=69597.7945573865:2087.93383672159}\n",
       "    </pre>\n",
       "    "
      ],
      "text/plain": [
       "\n",
       "    <h1> EDOs lineales de 2o Orden </h1>\n",
       "    <h2> Caso homogeneo </h2>\n",
       "    <p> Encuentre la solución \\(u(x)\\) de la siguiente ecuación diferencial\n",
       "    \\(9 \\, u\\left(x\\right) - 10 \\, \\frac{\\partial}{\\partial x}u\\left(x\\right) + \\frac{\\partial^{2}}{(\\partial x)^{2}}u\\left(x\\right) = 0\\) con condiciones iniciales \\(u(0)=-1, \\; u'(0)=0\\)\n",
       "    y evalue en el punto dado:</p>\n",
       "    <pre>\n",
       "    u(1.47) = {1:NM:=69597.7945573865:2087.93383672159}\n",
       "    </pre>\n",
       "    "
      ]
     },
     "metadata": {},
     "output_type": "display_data"
    },
    {
     "data": {
      "text/html": [
       "\n",
       "    La solución del problema de condiciones iniciales es\n",
       "    \\(u(x)=\\frac{1}{8} \\, {\\left(e^{\\left(4 \\, x\\right)} + 3\\right)} {\\left(e^{\\left(4 \\, x\\right)} - 3\\right)} e^{x}\\)\n",
       "    "
      ],
      "text/plain": [
       "\n",
       "    La solución del problema de condiciones iniciales es\n",
       "    \\(u(x)=\\frac{1}{8} \\, {\\left(e^{\\left(4 \\, x\\right)} + 3\\right)} {\\left(e^{\\left(4 \\, x\\right)} - 3\\right)} e^{x}\\)\n",
       "    "
      ]
     },
     "metadata": {},
     "output_type": "display_data"
    },
    {
     "data": {
      "text/html": [
       "\n",
       "    <h1> EDOs lineales de 2o Orden </h1>\n",
       "    <h2> Caso homogeneo </h2>\n",
       "    <p> Encuentre la solución \\(u(x)\\) de la siguiente ecuación diferencial\n",
       "    \\(-2 \\, u\\left(x\\right) + 7 \\, \\frac{\\partial}{\\partial x}u\\left(x\\right) + \\frac{\\partial^{2}}{(\\partial x)^{2}}u\\left(x\\right) = 0\\) con condiciones iniciales \\(u(0)=1, \\; u'(0)=-1\\)\n",
       "    y evalue en el punto dado:</p>\n",
       "    <pre>\n",
       "    u(1.81) = {1:NM:=1.36702255693550:0.0410106767080651}\n",
       "    </pre>\n",
       "    "
      ],
      "text/plain": [
       "\n",
       "    <h1> EDOs lineales de 2o Orden </h1>\n",
       "    <h2> Caso homogeneo </h2>\n",
       "    <p> Encuentre la solución \\(u(x)\\) de la siguiente ecuación diferencial\n",
       "    \\(-2 \\, u\\left(x\\right) + 7 \\, \\frac{\\partial}{\\partial x}u\\left(x\\right) + \\frac{\\partial^{2}}{(\\partial x)^{2}}u\\left(x\\right) = 0\\) con condiciones iniciales \\(u(0)=1, \\; u'(0)=-1\\)\n",
       "    y evalue en el punto dado:</p>\n",
       "    <pre>\n",
       "    u(1.81) = {1:NM:=1.36702255693550:0.0410106767080651}\n",
       "    </pre>\n",
       "    "
      ]
     },
     "metadata": {},
     "output_type": "display_data"
    },
    {
     "data": {
      "text/html": [
       "\n",
       "    La solución del problema de condiciones iniciales es\n",
       "    \\(u(x)=\\frac{1}{114} \\, {\\left(5 \\, \\sqrt{57} e^{\\left(\\sqrt{57} x\\right)} - 5 \\, \\sqrt{57} + 57 \\, e^{\\left(\\sqrt{57} x\\right)} + 57\\right)} e^{\\left(-\\frac{1}{2} \\, \\sqrt{57} x - \\frac{7}{2} \\, x\\right)}\\)\n",
       "    "
      ],
      "text/plain": [
       "\n",
       "    La solución del problema de condiciones iniciales es\n",
       "    \\(u(x)=\\frac{1}{114} \\, {\\left(5 \\, \\sqrt{57} e^{\\left(\\sqrt{57} x\\right)} - 5 \\, \\sqrt{57} + 57 \\, e^{\\left(\\sqrt{57} x\\right)} + 57\\right)} e^{\\left(-\\frac{1}{2} \\, \\sqrt{57} x - \\frac{7}{2} \\, x\\right)}\\)\n",
       "    "
      ]
     },
     "metadata": {},
     "output_type": "display_data"
    },
    {
     "data": {
      "text/html": [
       "\n",
       "    <h1> EDOs lineales de 2o Orden </h1>\n",
       "    <h2> Caso homogeneo </h2>\n",
       "    <p> Encuentre la solución \\(u(x)\\) de la siguiente ecuación diferencial\n",
       "    \\(5 \\, u\\left(x\\right) + 8 \\, \\frac{\\partial}{\\partial x}u\\left(x\\right) + \\frac{\\partial^{2}}{(\\partial x)^{2}}u\\left(x\\right) = 0\\) con condiciones iniciales \\(u(0)=-1, \\; u'(0)=-1\\)\n",
       "    y evalue en el punto dado:</p>\n",
       "    <pre>\n",
       "    u(1.75) = {1:NM:=-0.379179043280621:-0.0113753712984186}\n",
       "    </pre>\n",
       "    "
      ],
      "text/plain": [
       "\n",
       "    <h1> EDOs lineales de 2o Orden </h1>\n",
       "    <h2> Caso homogeneo </h2>\n",
       "    <p> Encuentre la solución \\(u(x)\\) de la siguiente ecuación diferencial\n",
       "    \\(5 \\, u\\left(x\\right) + 8 \\, \\frac{\\partial}{\\partial x}u\\left(x\\right) + \\frac{\\partial^{2}}{(\\partial x)^{2}}u\\left(x\\right) = 0\\) con condiciones iniciales \\(u(0)=-1, \\; u'(0)=-1\\)\n",
       "    y evalue en el punto dado:</p>\n",
       "    <pre>\n",
       "    u(1.75) = {1:NM:=-0.379179043280621:-0.0113753712984186}\n",
       "    </pre>\n",
       "    "
      ]
     },
     "metadata": {},
     "output_type": "display_data"
    },
    {
     "data": {
      "text/html": [
       "\n",
       "    La solución del problema de condiciones iniciales es\n",
       "    \\(u(x)=-\\frac{1}{22} \\, {\\left(5 \\, \\sqrt{11} e^{\\left(2 \\, \\sqrt{11} x\\right)} - 5 \\, \\sqrt{11} + 11 \\, e^{\\left(2 \\, \\sqrt{11} x\\right)} + 11\\right)} e^{\\left(-\\sqrt{11} x - 4 \\, x\\right)}\\)\n",
       "    "
      ],
      "text/plain": [
       "\n",
       "    La solución del problema de condiciones iniciales es\n",
       "    \\(u(x)=-\\frac{1}{22} \\, {\\left(5 \\, \\sqrt{11} e^{\\left(2 \\, \\sqrt{11} x\\right)} - 5 \\, \\sqrt{11} + 11 \\, e^{\\left(2 \\, \\sqrt{11} x\\right)} + 11\\right)} e^{\\left(-\\sqrt{11} x - 4 \\, x\\right)}\\)\n",
       "    "
      ]
     },
     "metadata": {},
     "output_type": "display_data"
    },
    {
     "data": {
      "text/html": [
       "\n",
       "    <h1> EDOs lineales de 2o Orden </h1>\n",
       "    <h2> Caso homogeneo </h2>\n",
       "    <p> Encuentre la solución \\(u(x)\\) de la siguiente ecuación diferencial\n",
       "    \\(-4 \\, u\\left(x\\right) + 9 \\, \\frac{\\partial}{\\partial x}u\\left(x\\right) + \\frac{\\partial^{2}}{(\\partial x)^{2}}u\\left(x\\right) = 0\\) con condiciones iniciales \\(u(0)=-1, \\; u'(0)=0\\)\n",
       "    y evalue en el punto dado:</p>\n",
       "    <pre>\n",
       "    u(1.65) = {1:NM:=-1.92756459574822:-0.0578269378724466}\n",
       "    </pre>\n",
       "    "
      ],
      "text/plain": [
       "\n",
       "    <h1> EDOs lineales de 2o Orden </h1>\n",
       "    <h2> Caso homogeneo </h2>\n",
       "    <p> Encuentre la solución \\(u(x)\\) de la siguiente ecuación diferencial\n",
       "    \\(-4 \\, u\\left(x\\right) + 9 \\, \\frac{\\partial}{\\partial x}u\\left(x\\right) + \\frac{\\partial^{2}}{(\\partial x)^{2}}u\\left(x\\right) = 0\\) con condiciones iniciales \\(u(0)=-1, \\; u'(0)=0\\)\n",
       "    y evalue en el punto dado:</p>\n",
       "    <pre>\n",
       "    u(1.65) = {1:NM:=-1.92756459574822:-0.0578269378724466}\n",
       "    </pre>\n",
       "    "
      ]
     },
     "metadata": {},
     "output_type": "display_data"
    },
    {
     "data": {
      "text/html": [
       "\n",
       "    La solución del problema de condiciones iniciales es\n",
       "    \\(u(x)=-\\frac{1}{194} \\, {\\left(9 \\, \\sqrt{97} e^{\\left(\\sqrt{97} x\\right)} - 9 \\, \\sqrt{97} + 97 \\, e^{\\left(\\sqrt{97} x\\right)} + 97\\right)} e^{\\left(-\\frac{1}{2} \\, \\sqrt{97} x - \\frac{9}{2} \\, x\\right)}\\)\n",
       "    "
      ],
      "text/plain": [
       "\n",
       "    La solución del problema de condiciones iniciales es\n",
       "    \\(u(x)=-\\frac{1}{194} \\, {\\left(9 \\, \\sqrt{97} e^{\\left(\\sqrt{97} x\\right)} - 9 \\, \\sqrt{97} + 97 \\, e^{\\left(\\sqrt{97} x\\right)} + 97\\right)} e^{\\left(-\\frac{1}{2} \\, \\sqrt{97} x - \\frac{9}{2} \\, x\\right)}\\)\n",
       "    "
      ]
     },
     "metadata": {},
     "output_type": "display_data"
    },
    {
     "data": {
      "text/html": [
       "\n",
       "    <h1> EDOs lineales de 2o Orden </h1>\n",
       "    <h2> Caso homogeneo </h2>\n",
       "    <p> Encuentre la solución \\(u(x)\\) de la siguiente ecuación diferencial\n",
       "    \\(-3 \\, u\\left(x\\right) + \\frac{\\partial^{2}}{(\\partial x)^{2}}u\\left(x\\right) = 0\\) con condiciones iniciales \\(u(0)=-1, \\; u'(0)=1\\)\n",
       "    y evalue en el punto dado:</p>\n",
       "    <pre>\n",
       "    u(1.34) = {1:NM:=-2.22984518631366:-0.0668953555894097}\n",
       "    </pre>\n",
       "    "
      ],
      "text/plain": [
       "\n",
       "    <h1> EDOs lineales de 2o Orden </h1>\n",
       "    <h2> Caso homogeneo </h2>\n",
       "    <p> Encuentre la solución \\(u(x)\\) de la siguiente ecuación diferencial\n",
       "    \\(-3 \\, u\\left(x\\right) + \\frac{\\partial^{2}}{(\\partial x)^{2}}u\\left(x\\right) = 0\\) con condiciones iniciales \\(u(0)=-1, \\; u'(0)=1\\)\n",
       "    y evalue en el punto dado:</p>\n",
       "    <pre>\n",
       "    u(1.34) = {1:NM:=-2.22984518631366:-0.0668953555894097}\n",
       "    </pre>\n",
       "    "
      ]
     },
     "metadata": {},
     "output_type": "display_data"
    },
    {
     "data": {
      "text/html": [
       "\n",
       "    La solución del problema de condiciones iniciales es\n",
       "    \\(u(x)=\\frac{1}{6} \\, {\\left(\\sqrt{3} e^{\\left(2 \\, \\sqrt{3} x\\right)} - \\sqrt{3} - 3 \\, e^{\\left(2 \\, \\sqrt{3} x\\right)} - 3\\right)} e^{\\left(-\\sqrt{3} x\\right)}\\)\n",
       "    "
      ],
      "text/plain": [
       "\n",
       "    La solución del problema de condiciones iniciales es\n",
       "    \\(u(x)=\\frac{1}{6} \\, {\\left(\\sqrt{3} e^{\\left(2 \\, \\sqrt{3} x\\right)} - \\sqrt{3} - 3 \\, e^{\\left(2 \\, \\sqrt{3} x\\right)} - 3\\right)} e^{\\left(-\\sqrt{3} x\\right)}\\)\n",
       "    "
      ]
     },
     "metadata": {},
     "output_type": "display_data"
    },
    {
     "data": {
      "text/html": [
       "\n",
       "    <h1> EDOs lineales de 2o Orden </h1>\n",
       "    <h2> Caso homogeneo </h2>\n",
       "    <p> Encuentre la solución \\(u(x)\\) de la siguiente ecuación diferencial\n",
       "    \\(\\frac{\\partial}{\\partial x}u\\left(x\\right) + \\frac{\\partial^{2}}{(\\partial x)^{2}}u\\left(x\\right) = 0\\) con condiciones iniciales \\(u(0)=1, \\; u'(0)=-1\\)\n",
       "    y evalue en el punto dado:</p>\n",
       "    <pre>\n",
       "    u(1.47) = {1:NM:=0.229925485186724:0.00689776455560172}\n",
       "    </pre>\n",
       "    "
      ],
      "text/plain": [
       "\n",
       "    <h1> EDOs lineales de 2o Orden </h1>\n",
       "    <h2> Caso homogeneo </h2>\n",
       "    <p> Encuentre la solución \\(u(x)\\) de la siguiente ecuación diferencial\n",
       "    \\(\\frac{\\partial}{\\partial x}u\\left(x\\right) + \\frac{\\partial^{2}}{(\\partial x)^{2}}u\\left(x\\right) = 0\\) con condiciones iniciales \\(u(0)=1, \\; u'(0)=-1\\)\n",
       "    y evalue en el punto dado:</p>\n",
       "    <pre>\n",
       "    u(1.47) = {1:NM:=0.229925485186724:0.00689776455560172}\n",
       "    </pre>\n",
       "    "
      ]
     },
     "metadata": {},
     "output_type": "display_data"
    },
    {
     "data": {
      "text/html": [
       "\n",
       "    La solución del problema de condiciones iniciales es\n",
       "    \\(u(x)=e^{\\left(-x\\right)}\\)\n",
       "    "
      ],
      "text/plain": [
       "\n",
       "    La solución del problema de condiciones iniciales es\n",
       "    \\(u(x)=e^{\\left(-x\\right)}\\)\n",
       "    "
      ]
     },
     "metadata": {},
     "output_type": "display_data"
    },
    {
     "data": {
      "text/html": [
       "\n",
       "    <h1> EDOs lineales de 2o Orden </h1>\n",
       "    <h2> Caso homogeneo </h2>\n",
       "    <p> Encuentre la solución \\(u(x)\\) de la siguiente ecuación diferencial\n",
       "    \\(-9 \\, u\\left(x\\right) + 7 \\, \\frac{\\partial}{\\partial x}u\\left(x\\right) + \\frac{\\partial^{2}}{(\\partial x)^{2}}u\\left(x\\right) = 0\\) con condiciones iniciales \\(u(0)=1, \\; u'(0)=-1\\)\n",
       "    y evalue en el punto dado:</p>\n",
       "    <pre>\n",
       "    u(1.12) = {1:NM:=2.67272673682782:0.0801818021048345}\n",
       "    </pre>\n",
       "    "
      ],
      "text/plain": [
       "\n",
       "    <h1> EDOs lineales de 2o Orden </h1>\n",
       "    <h2> Caso homogeneo </h2>\n",
       "    <p> Encuentre la solución \\(u(x)\\) de la siguiente ecuación diferencial\n",
       "    \\(-9 \\, u\\left(x\\right) + 7 \\, \\frac{\\partial}{\\partial x}u\\left(x\\right) + \\frac{\\partial^{2}}{(\\partial x)^{2}}u\\left(x\\right) = 0\\) con condiciones iniciales \\(u(0)=1, \\; u'(0)=-1\\)\n",
       "    y evalue en el punto dado:</p>\n",
       "    <pre>\n",
       "    u(1.12) = {1:NM:=2.67272673682782:0.0801818021048345}\n",
       "    </pre>\n",
       "    "
      ]
     },
     "metadata": {},
     "output_type": "display_data"
    },
    {
     "data": {
      "text/html": [
       "\n",
       "    La solución del problema de condiciones iniciales es\n",
       "    \\(u(x)=\\frac{1}{34} \\, {\\left(\\sqrt{85} e^{\\left(\\sqrt{85} x\\right)} - \\sqrt{85} + 17 \\, e^{\\left(\\sqrt{85} x\\right)} + 17\\right)} e^{\\left(-\\frac{1}{2} \\, \\sqrt{85} x - \\frac{7}{2} \\, x\\right)}\\)\n",
       "    "
      ],
      "text/plain": [
       "\n",
       "    La solución del problema de condiciones iniciales es\n",
       "    \\(u(x)=\\frac{1}{34} \\, {\\left(\\sqrt{85} e^{\\left(\\sqrt{85} x\\right)} - \\sqrt{85} + 17 \\, e^{\\left(\\sqrt{85} x\\right)} + 17\\right)} e^{\\left(-\\frac{1}{2} \\, \\sqrt{85} x - \\frac{7}{2} \\, x\\right)}\\)\n",
       "    "
      ]
     },
     "metadata": {},
     "output_type": "display_data"
    },
    {
     "data": {
      "text/html": [
       "\n",
       "    <h1> EDOs lineales de 2o Orden </h1>\n",
       "    <h2> Caso homogeneo </h2>\n",
       "    <p> Encuentre la solución \\(u(x)\\) de la siguiente ecuación diferencial\n",
       "    \\(-3 \\, u\\left(x\\right) + \\frac{\\partial^{2}}{(\\partial x)^{2}}u\\left(x\\right) = 0\\) con condiciones iniciales \\(u(0)=-1, \\; u'(0)=0\\)\n",
       "    y evalue en el punto dado:</p>\n",
       "    <pre>\n",
       "    u(1.6) = {1:NM:=-8.02083827739084:-0.240625148321725}\n",
       "    </pre>\n",
       "    "
      ],
      "text/plain": [
       "\n",
       "    <h1> EDOs lineales de 2o Orden </h1>\n",
       "    <h2> Caso homogeneo </h2>\n",
       "    <p> Encuentre la solución \\(u(x)\\) de la siguiente ecuación diferencial\n",
       "    \\(-3 \\, u\\left(x\\right) + \\frac{\\partial^{2}}{(\\partial x)^{2}}u\\left(x\\right) = 0\\) con condiciones iniciales \\(u(0)=-1, \\; u'(0)=0\\)\n",
       "    y evalue en el punto dado:</p>\n",
       "    <pre>\n",
       "    u(1.6) = {1:NM:=-8.02083827739084:-0.240625148321725}\n",
       "    </pre>\n",
       "    "
      ]
     },
     "metadata": {},
     "output_type": "display_data"
    },
    {
     "data": {
      "text/html": [
       "\n",
       "    La solución del problema de condiciones iniciales es\n",
       "    \\(u(x)=-\\frac{1}{2} \\, {\\left(e^{\\left(2 \\, \\sqrt{3} x\\right)} + 1\\right)} e^{\\left(-\\sqrt{3} x\\right)}\\)\n",
       "    "
      ],
      "text/plain": [
       "\n",
       "    La solución del problema de condiciones iniciales es\n",
       "    \\(u(x)=-\\frac{1}{2} \\, {\\left(e^{\\left(2 \\, \\sqrt{3} x\\right)} + 1\\right)} e^{\\left(-\\sqrt{3} x\\right)}\\)\n",
       "    "
      ]
     },
     "metadata": {},
     "output_type": "display_data"
    },
    {
     "data": {
      "text/html": [
       "\n",
       "    <h1> EDOs lineales de 2o Orden </h1>\n",
       "    <h2> Caso homogeneo </h2>\n",
       "    <p> Encuentre la solución \\(u(x)\\) de la siguiente ecuación diferencial\n",
       "    \\(5 \\, \\frac{\\partial}{\\partial x}u\\left(x\\right) + \\frac{\\partial^{2}}{(\\partial x)^{2}}u\\left(x\\right) = 0\\) con condiciones iniciales \\(u(0)=-1, \\; u'(0)=-1\\)\n",
       "    y evalue en el punto dado:</p>\n",
       "    <pre>\n",
       "    u(1.19) = {1:NM:=-1.19947883189632:-0.0359843649568896}\n",
       "    </pre>\n",
       "    "
      ],
      "text/plain": [
       "\n",
       "    <h1> EDOs lineales de 2o Orden </h1>\n",
       "    <h2> Caso homogeneo </h2>\n",
       "    <p> Encuentre la solución \\(u(x)\\) de la siguiente ecuación diferencial\n",
       "    \\(5 \\, \\frac{\\partial}{\\partial x}u\\left(x\\right) + \\frac{\\partial^{2}}{(\\partial x)^{2}}u\\left(x\\right) = 0\\) con condiciones iniciales \\(u(0)=-1, \\; u'(0)=-1\\)\n",
       "    y evalue en el punto dado:</p>\n",
       "    <pre>\n",
       "    u(1.19) = {1:NM:=-1.19947883189632:-0.0359843649568896}\n",
       "    </pre>\n",
       "    "
      ]
     },
     "metadata": {},
     "output_type": "display_data"
    },
    {
     "data": {
      "text/html": [
       "\n",
       "    La solución del problema de condiciones iniciales es\n",
       "    \\(u(x)=-\\frac{1}{5} \\, {\\left(6 \\, e^{\\left(5 \\, x\\right)} - 1\\right)} e^{\\left(-5 \\, x\\right)}\\)\n",
       "    "
      ],
      "text/plain": [
       "\n",
       "    La solución del problema de condiciones iniciales es\n",
       "    \\(u(x)=-\\frac{1}{5} \\, {\\left(6 \\, e^{\\left(5 \\, x\\right)} - 1\\right)} e^{\\left(-5 \\, x\\right)}\\)\n",
       "    "
      ]
     },
     "metadata": {},
     "output_type": "display_data"
    },
    {
     "data": {
      "text/html": [
       "\n",
       "    <h1> EDOs lineales de 2o Orden </h1>\n",
       "    <h2> Caso homogeneo </h2>\n",
       "    <p> Encuentre la solución \\(u(x)\\) de la siguiente ecuación diferencial\n",
       "    \\(-3 \\, u\\left(x\\right) - 3 \\, \\frac{\\partial}{\\partial x}u\\left(x\\right) + \\frac{\\partial^{2}}{(\\partial x)^{2}}u\\left(x\\right) = 0\\) con condiciones iniciales \\(u(0)=0, \\; u'(0)=1\\)\n",
       "    y evalue en el punto dado:</p>\n",
       "    <pre>\n",
       "    u(1.28) = {1:NM:=27.8754996117465:0.836264988352394}\n",
       "    </pre>\n",
       "    "
      ],
      "text/plain": [
       "\n",
       "    <h1> EDOs lineales de 2o Orden </h1>\n",
       "    <h2> Caso homogeneo </h2>\n",
       "    <p> Encuentre la solución \\(u(x)\\) de la siguiente ecuación diferencial\n",
       "    \\(-3 \\, u\\left(x\\right) - 3 \\, \\frac{\\partial}{\\partial x}u\\left(x\\right) + \\frac{\\partial^{2}}{(\\partial x)^{2}}u\\left(x\\right) = 0\\) con condiciones iniciales \\(u(0)=0, \\; u'(0)=1\\)\n",
       "    y evalue en el punto dado:</p>\n",
       "    <pre>\n",
       "    u(1.28) = {1:NM:=27.8754996117465:0.836264988352394}\n",
       "    </pre>\n",
       "    "
      ]
     },
     "metadata": {},
     "output_type": "display_data"
    },
    {
     "data": {
      "text/html": [
       "\n",
       "    La solución del problema de condiciones iniciales es\n",
       "    \\(u(x)=\\frac{1}{21} \\, \\sqrt{21} {\\left(e^{\\left(\\sqrt{21} x\\right)} - 1\\right)} e^{\\left(-\\frac{1}{2} \\, \\sqrt{21} x + \\frac{3}{2} \\, x\\right)}\\)\n",
       "    "
      ],
      "text/plain": [
       "\n",
       "    La solución del problema de condiciones iniciales es\n",
       "    \\(u(x)=\\frac{1}{21} \\, \\sqrt{21} {\\left(e^{\\left(\\sqrt{21} x\\right)} - 1\\right)} e^{\\left(-\\frac{1}{2} \\, \\sqrt{21} x + \\frac{3}{2} \\, x\\right)}\\)\n",
       "    "
      ]
     },
     "metadata": {},
     "output_type": "display_data"
    },
    {
     "data": {
      "text/html": [
       "\n",
       "    <h1> EDOs lineales de 2o Orden </h1>\n",
       "    <h2> Caso homogeneo </h2>\n",
       "    <p> Encuentre la solución \\(u(x)\\) de la siguiente ecuación diferencial\n",
       "    \\(-2 \\, u\\left(x\\right) - 9 \\, \\frac{\\partial}{\\partial x}u\\left(x\\right) + \\frac{\\partial^{2}}{(\\partial x)^{2}}u\\left(x\\right) = 0\\) con condiciones iniciales \\(u(0)=-1, \\; u'(0)=1\\)\n",
       "    y evalue en el punto dado:</p>\n",
       "    <pre>\n",
       "    u(1.72) = {1:NM:=636852.837345242:19105.5851203573}\n",
       "    </pre>\n",
       "    "
      ],
      "text/plain": [
       "\n",
       "    <h1> EDOs lineales de 2o Orden </h1>\n",
       "    <h2> Caso homogeneo </h2>\n",
       "    <p> Encuentre la solución \\(u(x)\\) de la siguiente ecuación diferencial\n",
       "    \\(-2 \\, u\\left(x\\right) - 9 \\, \\frac{\\partial}{\\partial x}u\\left(x\\right) + \\frac{\\partial^{2}}{(\\partial x)^{2}}u\\left(x\\right) = 0\\) con condiciones iniciales \\(u(0)=-1, \\; u'(0)=1\\)\n",
       "    y evalue en el punto dado:</p>\n",
       "    <pre>\n",
       "    u(1.72) = {1:NM:=636852.837345242:19105.5851203573}\n",
       "    </pre>\n",
       "    "
      ]
     },
     "metadata": {},
     "output_type": "display_data"
    },
    {
     "data": {
      "text/html": [
       "\n",
       "    La solución del problema de condiciones iniciales es\n",
       "    \\(u(x)=\\frac{1}{178} \\, {\\left(11 \\, \\sqrt{89} e^{\\left(\\sqrt{89} x\\right)} - 11 \\, \\sqrt{89} - 89 \\, e^{\\left(\\sqrt{89} x\\right)} - 89\\right)} e^{\\left(-\\frac{1}{2} \\, \\sqrt{89} x + \\frac{9}{2} \\, x\\right)}\\)\n",
       "    "
      ],
      "text/plain": [
       "\n",
       "    La solución del problema de condiciones iniciales es\n",
       "    \\(u(x)=\\frac{1}{178} \\, {\\left(11 \\, \\sqrt{89} e^{\\left(\\sqrt{89} x\\right)} - 11 \\, \\sqrt{89} - 89 \\, e^{\\left(\\sqrt{89} x\\right)} - 89\\right)} e^{\\left(-\\frac{1}{2} \\, \\sqrt{89} x + \\frac{9}{2} \\, x\\right)}\\)\n",
       "    "
      ]
     },
     "metadata": {},
     "output_type": "display_data"
    },
    {
     "data": {
      "text/html": [
       "\n",
       "    <h1> EDOs lineales de 2o Orden </h1>\n",
       "    <h2> Caso homogeneo </h2>\n",
       "    <p> Encuentre la solución \\(u(x)\\) de la siguiente ecuación diferencial\n",
       "    \\(4 \\, u\\left(x\\right) - 10 \\, \\frac{\\partial}{\\partial x}u\\left(x\\right) + \\frac{\\partial^{2}}{(\\partial x)^{2}}u\\left(x\\right) = 0\\) con condiciones iniciales \\(u(0)=-1, \\; u'(0)=1\\)\n",
       "    y evalue en el punto dado:</p>\n",
       "    <pre>\n",
       "    u(1.11) = {1:NM:=6436.92947652989:193.107884295897}\n",
       "    </pre>\n",
       "    "
      ],
      "text/plain": [
       "\n",
       "    <h1> EDOs lineales de 2o Orden </h1>\n",
       "    <h2> Caso homogeneo </h2>\n",
       "    <p> Encuentre la solución \\(u(x)\\) de la siguiente ecuación diferencial\n",
       "    \\(4 \\, u\\left(x\\right) - 10 \\, \\frac{\\partial}{\\partial x}u\\left(x\\right) + \\frac{\\partial^{2}}{(\\partial x)^{2}}u\\left(x\\right) = 0\\) con condiciones iniciales \\(u(0)=-1, \\; u'(0)=1\\)\n",
       "    y evalue en el punto dado:</p>\n",
       "    <pre>\n",
       "    u(1.11) = {1:NM:=6436.92947652989:193.107884295897}\n",
       "    </pre>\n",
       "    "
      ]
     },
     "metadata": {},
     "output_type": "display_data"
    },
    {
     "data": {
      "text/html": [
       "\n",
       "    La solución del problema de condiciones iniciales es\n",
       "    \\(u(x)=\\frac{1}{14} \\, {\\left(2 \\, \\sqrt{21} e^{\\left(2 \\, \\sqrt{21} x\\right)} - 2 \\, \\sqrt{21} - 7 \\, e^{\\left(2 \\, \\sqrt{21} x\\right)} - 7\\right)} e^{\\left(-\\sqrt{21} x + 5 \\, x\\right)}\\)\n",
       "    "
      ],
      "text/plain": [
       "\n",
       "    La solución del problema de condiciones iniciales es\n",
       "    \\(u(x)=\\frac{1}{14} \\, {\\left(2 \\, \\sqrt{21} e^{\\left(2 \\, \\sqrt{21} x\\right)} - 2 \\, \\sqrt{21} - 7 \\, e^{\\left(2 \\, \\sqrt{21} x\\right)} - 7\\right)} e^{\\left(-\\sqrt{21} x + 5 \\, x\\right)}\\)\n",
       "    "
      ]
     },
     "metadata": {},
     "output_type": "display_data"
    },
    {
     "data": {
      "text/html": [
       "\n",
       "    <h1> EDOs lineales de 2o Orden </h1>\n",
       "    <h2> Caso homogeneo </h2>\n",
       "    <p> Encuentre la solución \\(u(x)\\) de la siguiente ecuación diferencial\n",
       "    \\(-6 \\, u\\left(x\\right) + 5 \\, \\frac{\\partial}{\\partial x}u\\left(x\\right) + \\frac{\\partial^{2}}{(\\partial x)^{2}}u\\left(x\\right) = 0\\) con condiciones iniciales \\(u(0)=0, \\; u'(0)=-1\\)\n",
       "    y evalue en el punto dado:</p>\n",
       "    <pre>\n",
       "    u(1.42) = {1:NM:=-0.590988714403718:-0.0177296614321115}\n",
       "    </pre>\n",
       "    "
      ],
      "text/plain": [
       "\n",
       "    <h1> EDOs lineales de 2o Orden </h1>\n",
       "    <h2> Caso homogeneo </h2>\n",
       "    <p> Encuentre la solución \\(u(x)\\) de la siguiente ecuación diferencial\n",
       "    \\(-6 \\, u\\left(x\\right) + 5 \\, \\frac{\\partial}{\\partial x}u\\left(x\\right) + \\frac{\\partial^{2}}{(\\partial x)^{2}}u\\left(x\\right) = 0\\) con condiciones iniciales \\(u(0)=0, \\; u'(0)=-1\\)\n",
       "    y evalue en el punto dado:</p>\n",
       "    <pre>\n",
       "    u(1.42) = {1:NM:=-0.590988714403718:-0.0177296614321115}\n",
       "    </pre>\n",
       "    "
      ]
     },
     "metadata": {},
     "output_type": "display_data"
    },
    {
     "data": {
      "text/html": [
       "\n",
       "    La solución del problema de condiciones iniciales es\n",
       "    \\(u(x)=-\\frac{1}{7} \\, {\\left(e^{\\left(6 \\, x\\right)} + e^{\\left(5 \\, x\\right)} + e^{\\left(4 \\, x\\right)} + e^{\\left(3 \\, x\\right)} + e^{\\left(2 \\, x\\right)} + e^{x} + 1\\right)} {\\left(e^{x} - 1\\right)} e^{\\left(-6 \\, x\\right)}\\)\n",
       "    "
      ],
      "text/plain": [
       "\n",
       "    La solución del problema de condiciones iniciales es\n",
       "    \\(u(x)=-\\frac{1}{7} \\, {\\left(e^{\\left(6 \\, x\\right)} + e^{\\left(5 \\, x\\right)} + e^{\\left(4 \\, x\\right)} + e^{\\left(3 \\, x\\right)} + e^{\\left(2 \\, x\\right)} + e^{x} + 1\\right)} {\\left(e^{x} - 1\\right)} e^{\\left(-6 \\, x\\right)}\\)\n",
       "    "
      ]
     },
     "metadata": {},
     "output_type": "display_data"
    },
    {
     "data": {
      "text/html": [
       "\n",
       "    <h1> EDOs lineales de 2o Orden </h1>\n",
       "    <h2> Caso homogeneo </h2>\n",
       "    <p> Encuentre la solución \\(u(x)\\) de la siguiente ecuación diferencial\n",
       "    \\(-4 \\, u\\left(x\\right) + 4 \\, \\frac{\\partial}{\\partial x}u\\left(x\\right) + \\frac{\\partial^{2}}{(\\partial x)^{2}}u\\left(x\\right) = 0\\) con condiciones iniciales \\(u(0)=1, \\; u'(0)=0\\)\n",
       "    y evalue en el punto dado:</p>\n",
       "    <pre>\n",
       "    u(1.18) = {1:NM:=2.26916816751783:0.0680750450255349}\n",
       "    </pre>\n",
       "    "
      ],
      "text/plain": [
       "\n",
       "    <h1> EDOs lineales de 2o Orden </h1>\n",
       "    <h2> Caso homogeneo </h2>\n",
       "    <p> Encuentre la solución \\(u(x)\\) de la siguiente ecuación diferencial\n",
       "    \\(-4 \\, u\\left(x\\right) + 4 \\, \\frac{\\partial}{\\partial x}u\\left(x\\right) + \\frac{\\partial^{2}}{(\\partial x)^{2}}u\\left(x\\right) = 0\\) con condiciones iniciales \\(u(0)=1, \\; u'(0)=0\\)\n",
       "    y evalue en el punto dado:</p>\n",
       "    <pre>\n",
       "    u(1.18) = {1:NM:=2.26916816751783:0.0680750450255349}\n",
       "    </pre>\n",
       "    "
      ]
     },
     "metadata": {},
     "output_type": "display_data"
    },
    {
     "data": {
      "text/html": [
       "\n",
       "    La solución del problema de condiciones iniciales es\n",
       "    \\(u(x)=\\frac{1}{4} \\, {\\left(\\sqrt{2} e^{\\left(4 \\, \\sqrt{2} x\\right)} - \\sqrt{2} + 2 \\, e^{\\left(4 \\, \\sqrt{2} x\\right)} + 2\\right)} e^{\\left(-2 \\, \\sqrt{2} x - 2 \\, x\\right)}\\)\n",
       "    "
      ],
      "text/plain": [
       "\n",
       "    La solución del problema de condiciones iniciales es\n",
       "    \\(u(x)=\\frac{1}{4} \\, {\\left(\\sqrt{2} e^{\\left(4 \\, \\sqrt{2} x\\right)} - \\sqrt{2} + 2 \\, e^{\\left(4 \\, \\sqrt{2} x\\right)} + 2\\right)} e^{\\left(-2 \\, \\sqrt{2} x - 2 \\, x\\right)}\\)\n",
       "    "
      ]
     },
     "metadata": {},
     "output_type": "display_data"
    },
    {
     "data": {
      "text/html": [
       "\n",
       "    <h1> EDOs lineales de 2o Orden </h1>\n",
       "    <h2> Caso homogeneo </h2>\n",
       "    <p> Encuentre la solución \\(u(x)\\) de la siguiente ecuación diferencial\n",
       "    \\(9 \\, u\\left(x\\right) + 8 \\, \\frac{\\partial}{\\partial x}u\\left(x\\right) + \\frac{\\partial^{2}}{(\\partial x)^{2}}u\\left(x\\right) = 0\\) con condiciones iniciales \\(u(0)=-1, \\; u'(0)=-1\\)\n",
       "    y evalue en el punto dado:</p>\n",
       "    <pre>\n",
       "    u(1.2) = {1:NM:=-0.284338834044284:-0.00853016502132852}\n",
       "    </pre>\n",
       "    "
      ],
      "text/plain": [
       "\n",
       "    <h1> EDOs lineales de 2o Orden </h1>\n",
       "    <h2> Caso homogeneo </h2>\n",
       "    <p> Encuentre la solución \\(u(x)\\) de la siguiente ecuación diferencial\n",
       "    \\(9 \\, u\\left(x\\right) + 8 \\, \\frac{\\partial}{\\partial x}u\\left(x\\right) + \\frac{\\partial^{2}}{(\\partial x)^{2}}u\\left(x\\right) = 0\\) con condiciones iniciales \\(u(0)=-1, \\; u'(0)=-1\\)\n",
       "    y evalue en el punto dado:</p>\n",
       "    <pre>\n",
       "    u(1.2) = {1:NM:=-0.284338834044284:-0.00853016502132852}\n",
       "    </pre>\n",
       "    "
      ]
     },
     "metadata": {},
     "output_type": "display_data"
    },
    {
     "data": {
      "text/html": [
       "\n",
       "    La solución del problema de condiciones iniciales es\n",
       "    \\(u(x)=-\\frac{1}{14} \\, {\\left(5 \\, \\sqrt{7} e^{\\left(2 \\, \\sqrt{7} x\\right)} - 5 \\, \\sqrt{7} + 7 \\, e^{\\left(2 \\, \\sqrt{7} x\\right)} + 7\\right)} e^{\\left(-\\sqrt{7} x - 4 \\, x\\right)}\\)\n",
       "    "
      ],
      "text/plain": [
       "\n",
       "    La solución del problema de condiciones iniciales es\n",
       "    \\(u(x)=-\\frac{1}{14} \\, {\\left(5 \\, \\sqrt{7} e^{\\left(2 \\, \\sqrt{7} x\\right)} - 5 \\, \\sqrt{7} + 7 \\, e^{\\left(2 \\, \\sqrt{7} x\\right)} + 7\\right)} e^{\\left(-\\sqrt{7} x - 4 \\, x\\right)}\\)\n",
       "    "
      ]
     },
     "metadata": {},
     "output_type": "display_data"
    },
    {
     "data": {
      "text/html": [
       "\n",
       "    <h1> EDOs lineales de 2o Orden </h1>\n",
       "    <h2> Caso homogeneo </h2>\n",
       "    <p> Encuentre la solución \\(u(x)\\) de la siguiente ecuación diferencial\n",
       "    \\(5 \\, u\\left(x\\right) - 10 \\, \\frac{\\partial}{\\partial x}u\\left(x\\right) + \\frac{\\partial^{2}}{(\\partial x)^{2}}u\\left(x\\right) = 0\\) con condiciones iniciales \\(u(0)=1, \\; u'(0)=-1\\)\n",
       "    y evalue en el punto dado:</p>\n",
       "    <pre>\n",
       "    u(1.05) = {1:NM:=-3561.82429619364:-106.854728885809}\n",
       "    </pre>\n",
       "    "
      ],
      "text/plain": [
       "\n",
       "    <h1> EDOs lineales de 2o Orden </h1>\n",
       "    <h2> Caso homogeneo </h2>\n",
       "    <p> Encuentre la solución \\(u(x)\\) de la siguiente ecuación diferencial\n",
       "    \\(5 \\, u\\left(x\\right) - 10 \\, \\frac{\\partial}{\\partial x}u\\left(x\\right) + \\frac{\\partial^{2}}{(\\partial x)^{2}}u\\left(x\\right) = 0\\) con condiciones iniciales \\(u(0)=1, \\; u'(0)=-1\\)\n",
       "    y evalue en el punto dado:</p>\n",
       "    <pre>\n",
       "    u(1.05) = {1:NM:=-3561.82429619364:-106.854728885809}\n",
       "    </pre>\n",
       "    "
      ]
     },
     "metadata": {},
     "output_type": "display_data"
    },
    {
     "data": {
      "text/html": [
       "\n",
       "    La solución del problema de condiciones iniciales es\n",
       "    \\(u(x)=-\\frac{1}{10} \\, {\\left(3 \\, \\sqrt{5} e^{\\left(4 \\, \\sqrt{5} x\\right)} - 3 \\, \\sqrt{5} - 5 \\, e^{\\left(4 \\, \\sqrt{5} x\\right)} - 5\\right)} e^{\\left(-2 \\, \\sqrt{5} x + 5 \\, x\\right)}\\)\n",
       "    "
      ],
      "text/plain": [
       "\n",
       "    La solución del problema de condiciones iniciales es\n",
       "    \\(u(x)=-\\frac{1}{10} \\, {\\left(3 \\, \\sqrt{5} e^{\\left(4 \\, \\sqrt{5} x\\right)} - 3 \\, \\sqrt{5} - 5 \\, e^{\\left(4 \\, \\sqrt{5} x\\right)} - 5\\right)} e^{\\left(-2 \\, \\sqrt{5} x + 5 \\, x\\right)}\\)\n",
       "    "
      ]
     },
     "metadata": {},
     "output_type": "display_data"
    },
    {
     "data": {
      "text/html": [
       "\n",
       "    <h1> EDOs lineales de 2o Orden </h1>\n",
       "    <h2> Caso homogeneo </h2>\n",
       "    <p> Encuentre la solución \\(u(x)\\) de la siguiente ecuación diferencial\n",
       "    \\(-5 \\, u\\left(x\\right) + 5 \\, \\frac{\\partial}{\\partial x}u\\left(x\\right) + \\frac{\\partial^{2}}{(\\partial x)^{2}}u\\left(x\\right) = 0\\) con condiciones iniciales \\(u(0)=1, \\; u'(0)=-1\\)\n",
       "    y evalue en el punto dado:</p>\n",
       "    <pre>\n",
       "    u(1.43) = {1:NM:=2.45440590736271:0.0736321772208814}\n",
       "    </pre>\n",
       "    "
      ],
      "text/plain": [
       "\n",
       "    <h1> EDOs lineales de 2o Orden </h1>\n",
       "    <h2> Caso homogeneo </h2>\n",
       "    <p> Encuentre la solución \\(u(x)\\) de la siguiente ecuación diferencial\n",
       "    \\(-5 \\, u\\left(x\\right) + 5 \\, \\frac{\\partial}{\\partial x}u\\left(x\\right) + \\frac{\\partial^{2}}{(\\partial x)^{2}}u\\left(x\\right) = 0\\) con condiciones iniciales \\(u(0)=1, \\; u'(0)=-1\\)\n",
       "    y evalue en el punto dado:</p>\n",
       "    <pre>\n",
       "    u(1.43) = {1:NM:=2.45440590736271:0.0736321772208814}\n",
       "    </pre>\n",
       "    "
      ]
     },
     "metadata": {},
     "output_type": "display_data"
    },
    {
     "data": {
      "text/html": [
       "\n",
       "    La solución del problema de condiciones iniciales es\n",
       "    \\(u(x)=\\frac{1}{10} \\, {\\left(\\sqrt{5} e^{\\left(3 \\, \\sqrt{5} x\\right)} - \\sqrt{5} + 5 \\, e^{\\left(3 \\, \\sqrt{5} x\\right)} + 5\\right)} e^{\\left(-\\frac{3}{2} \\, \\sqrt{5} x - \\frac{5}{2} \\, x\\right)}\\)\n",
       "    "
      ],
      "text/plain": [
       "\n",
       "    La solución del problema de condiciones iniciales es\n",
       "    \\(u(x)=\\frac{1}{10} \\, {\\left(\\sqrt{5} e^{\\left(3 \\, \\sqrt{5} x\\right)} - \\sqrt{5} + 5 \\, e^{\\left(3 \\, \\sqrt{5} x\\right)} + 5\\right)} e^{\\left(-\\frac{3}{2} \\, \\sqrt{5} x - \\frac{5}{2} \\, x\\right)}\\)\n",
       "    "
      ]
     },
     "metadata": {},
     "output_type": "display_data"
    },
    {
     "data": {
      "text/html": [
       "\n",
       "    <h1> EDOs lineales de 2o Orden </h1>\n",
       "    <h2> Caso homogeneo </h2>\n",
       "    <p> Encuentre la solución \\(u(x)\\) de la siguiente ecuación diferencial\n",
       "    \\(-10 \\, u\\left(x\\right) + 2 \\, \\frac{\\partial}{\\partial x}u\\left(x\\right) + \\frac{\\partial^{2}}{(\\partial x)^{2}}u\\left(x\\right) = 0\\) con condiciones iniciales \\(u(0)=-1, \\; u'(0)=0\\)\n",
       "    y evalue en el punto dado:</p>\n",
       "    <pre>\n",
       "    u(1.21) = {1:NM:=-10.7367274453573:-0.322101823360719}\n",
       "    </pre>\n",
       "    "
      ],
      "text/plain": [
       "\n",
       "    <h1> EDOs lineales de 2o Orden </h1>\n",
       "    <h2> Caso homogeneo </h2>\n",
       "    <p> Encuentre la solución \\(u(x)\\) de la siguiente ecuación diferencial\n",
       "    \\(-10 \\, u\\left(x\\right) + 2 \\, \\frac{\\partial}{\\partial x}u\\left(x\\right) + \\frac{\\partial^{2}}{(\\partial x)^{2}}u\\left(x\\right) = 0\\) con condiciones iniciales \\(u(0)=-1, \\; u'(0)=0\\)\n",
       "    y evalue en el punto dado:</p>\n",
       "    <pre>\n",
       "    u(1.21) = {1:NM:=-10.7367274453573:-0.322101823360719}\n",
       "    </pre>\n",
       "    "
      ]
     },
     "metadata": {},
     "output_type": "display_data"
    },
    {
     "data": {
      "text/html": [
       "\n",
       "    La solución del problema de condiciones iniciales es\n",
       "    \\(u(x)=-\\frac{1}{22} \\, {\\left(\\sqrt{11} e^{\\left(2 \\, \\sqrt{11} x\\right)} - \\sqrt{11} + 11 \\, e^{\\left(2 \\, \\sqrt{11} x\\right)} + 11\\right)} e^{\\left(-\\sqrt{11} x - x\\right)}\\)\n",
       "    "
      ],
      "text/plain": [
       "\n",
       "    La solución del problema de condiciones iniciales es\n",
       "    \\(u(x)=-\\frac{1}{22} \\, {\\left(\\sqrt{11} e^{\\left(2 \\, \\sqrt{11} x\\right)} - \\sqrt{11} + 11 \\, e^{\\left(2 \\, \\sqrt{11} x\\right)} + 11\\right)} e^{\\left(-\\sqrt{11} x - x\\right)}\\)\n",
       "    "
      ]
     },
     "metadata": {},
     "output_type": "display_data"
    },
    {
     "data": {
      "text/html": [
       "\n",
       "    <h1> EDOs lineales de 2o Orden </h1>\n",
       "    <h2> Caso homogeneo </h2>\n",
       "    <p> Encuentre la solución \\(u(x)\\) de la siguiente ecuación diferencial\n",
       "    \\(-4 \\, u\\left(x\\right) + 3 \\, \\frac{\\partial}{\\partial x}u\\left(x\\right) + \\frac{\\partial^{2}}{(\\partial x)^{2}}u\\left(x\\right) = 0\\) con condiciones iniciales \\(u(0)=-1, \\; u'(0)=-1\\)\n",
       "    y evalue en el punto dado:</p>\n",
       "    <pre>\n",
       "    u(1.85) = {1:NM:=-6.35981952260183:-0.190794585678055}\n",
       "    </pre>\n",
       "    "
      ],
      "text/plain": [
       "\n",
       "    <h1> EDOs lineales de 2o Orden </h1>\n",
       "    <h2> Caso homogeneo </h2>\n",
       "    <p> Encuentre la solución \\(u(x)\\) de la siguiente ecuación diferencial\n",
       "    \\(-4 \\, u\\left(x\\right) + 3 \\, \\frac{\\partial}{\\partial x}u\\left(x\\right) + \\frac{\\partial^{2}}{(\\partial x)^{2}}u\\left(x\\right) = 0\\) con condiciones iniciales \\(u(0)=-1, \\; u'(0)=-1\\)\n",
       "    y evalue en el punto dado:</p>\n",
       "    <pre>\n",
       "    u(1.85) = {1:NM:=-6.35981952260183:-0.190794585678055}\n",
       "    </pre>\n",
       "    "
      ]
     },
     "metadata": {},
     "output_type": "display_data"
    },
    {
     "data": {
      "text/html": [
       "\n",
       "    La solución del problema de condiciones iniciales es\n",
       "    \\(u(x)=-e^{x}\\)\n",
       "    "
      ],
      "text/plain": [
       "\n",
       "    La solución del problema de condiciones iniciales es\n",
       "    \\(u(x)=-e^{x}\\)\n",
       "    "
      ]
     },
     "metadata": {},
     "output_type": "display_data"
    },
    {
     "data": {
      "text/html": [
       "\n",
       "    <h1> EDOs lineales de 2o Orden </h1>\n",
       "    <h2> Caso homogeneo </h2>\n",
       "    <p> Encuentre la solución \\(u(x)\\) de la siguiente ecuación diferencial\n",
       "    \\(-6 \\, u\\left(x\\right) - 6 \\, \\frac{\\partial}{\\partial x}u\\left(x\\right) + \\frac{\\partial^{2}}{(\\partial x)^{2}}u\\left(x\\right) = 0\\) con condiciones iniciales \\(u(0)=0, \\; u'(0)=-1\\)\n",
       "    y evalue en el punto dado:</p>\n",
       "    <pre>\n",
       "    u(1.93) = {1:NM:=-74435.2765325198:-2233.05829597559}\n",
       "    </pre>\n",
       "    "
      ],
      "text/plain": [
       "\n",
       "    <h1> EDOs lineales de 2o Orden </h1>\n",
       "    <h2> Caso homogeneo </h2>\n",
       "    <p> Encuentre la solución \\(u(x)\\) de la siguiente ecuación diferencial\n",
       "    \\(-6 \\, u\\left(x\\right) - 6 \\, \\frac{\\partial}{\\partial x}u\\left(x\\right) + \\frac{\\partial^{2}}{(\\partial x)^{2}}u\\left(x\\right) = 0\\) con condiciones iniciales \\(u(0)=0, \\; u'(0)=-1\\)\n",
       "    y evalue en el punto dado:</p>\n",
       "    <pre>\n",
       "    u(1.93) = {1:NM:=-74435.2765325198:-2233.05829597559}\n",
       "    </pre>\n",
       "    "
      ]
     },
     "metadata": {},
     "output_type": "display_data"
    },
    {
     "data": {
      "text/html": [
       "\n",
       "    La solución del problema de condiciones iniciales es\n",
       "    \\(u(x)=-\\frac{1}{30} \\, \\sqrt{15} {\\left(e^{\\left(\\sqrt{15} x\\right)} + 1\\right)} {\\left(e^{\\left(\\sqrt{15} x\\right)} - 1\\right)} e^{\\left(-\\sqrt{15} x + 3 \\, x\\right)}\\)\n",
       "    "
      ],
      "text/plain": [
       "\n",
       "    La solución del problema de condiciones iniciales es\n",
       "    \\(u(x)=-\\frac{1}{30} \\, \\sqrt{15} {\\left(e^{\\left(\\sqrt{15} x\\right)} + 1\\right)} {\\left(e^{\\left(\\sqrt{15} x\\right)} - 1\\right)} e^{\\left(-\\sqrt{15} x + 3 \\, x\\right)}\\)\n",
       "    "
      ]
     },
     "metadata": {},
     "output_type": "display_data"
    },
    {
     "data": {
      "text/html": [
       "\n",
       "    <h1> EDOs lineales de 2o Orden </h1>\n",
       "    <h2> Caso homogeneo </h2>\n",
       "    <p> Encuentre la solución \\(u(x)\\) de la siguiente ecuación diferencial\n",
       "    \\(4 \\, u\\left(x\\right) - 3 \\, \\frac{\\partial}{\\partial x}u\\left(x\\right) + \\frac{\\partial^{2}}{(\\partial x)^{2}}u\\left(x\\right) = 0\\) con condiciones iniciales \\(u(0)=-1, \\; u'(0)=0\\)\n",
       "    y evalue en el punto dado:</p>\n",
       "    <pre>\n",
       "    u(1.52) = {1:NM:=14.1939873623305:0.425819620869914}\n",
       "    </pre>\n",
       "    "
      ],
      "text/plain": [
       "\n",
       "    <h1> EDOs lineales de 2o Orden </h1>\n",
       "    <h2> Caso homogeneo </h2>\n",
       "    <p> Encuentre la solución \\(u(x)\\) de la siguiente ecuación diferencial\n",
       "    \\(4 \\, u\\left(x\\right) - 3 \\, \\frac{\\partial}{\\partial x}u\\left(x\\right) + \\frac{\\partial^{2}}{(\\partial x)^{2}}u\\left(x\\right) = 0\\) con condiciones iniciales \\(u(0)=-1, \\; u'(0)=0\\)\n",
       "    y evalue en el punto dado:</p>\n",
       "    <pre>\n",
       "    u(1.52) = {1:NM:=14.1939873623305:0.425819620869914}\n",
       "    </pre>\n",
       "    "
      ]
     },
     "metadata": {},
     "output_type": "display_data"
    },
    {
     "data": {
      "text/html": [
       "\n",
       "    La solución del problema de condiciones iniciales es\n",
       "    \\(u(x)=-\\frac{1}{7} \\, \\sqrt{7} {\\left(\\sqrt{7} \\cos\\left(\\frac{1}{2} \\, \\sqrt{7} x\\right) - 3 \\, \\sin\\left(\\frac{1}{2} \\, \\sqrt{7} x\\right)\\right)} e^{\\left(\\frac{3}{2} \\, x\\right)}\\)\n",
       "    "
      ],
      "text/plain": [
       "\n",
       "    La solución del problema de condiciones iniciales es\n",
       "    \\(u(x)=-\\frac{1}{7} \\, \\sqrt{7} {\\left(\\sqrt{7} \\cos\\left(\\frac{1}{2} \\, \\sqrt{7} x\\right) - 3 \\, \\sin\\left(\\frac{1}{2} \\, \\sqrt{7} x\\right)\\right)} e^{\\left(\\frac{3}{2} \\, x\\right)}\\)\n",
       "    "
      ]
     },
     "metadata": {},
     "output_type": "display_data"
    },
    {
     "data": {
      "text/html": [
       "\n",
       "    <h1> EDOs lineales de 2o Orden </h1>\n",
       "    <h2> Caso homogeneo </h2>\n",
       "    <p> Encuentre la solución \\(u(x)\\) de la siguiente ecuación diferencial\n",
       "    \\(8 \\, u\\left(x\\right) + 4 \\, \\frac{\\partial}{\\partial x}u\\left(x\\right) + \\frac{\\partial^{2}}{(\\partial x)^{2}}u\\left(x\\right) = 0\\) con condiciones iniciales \\(u(0)=-1, \\; u'(0)=1\\)\n",
       "    y evalue en el punto dado:</p>\n",
       "    <pre>\n",
       "    u(1.04) = {1:NM:=0.00636089828391530:0.000190826948517459}\n",
       "    </pre>\n",
       "    "
      ],
      "text/plain": [
       "\n",
       "    <h1> EDOs lineales de 2o Orden </h1>\n",
       "    <h2> Caso homogeneo </h2>\n",
       "    <p> Encuentre la solución \\(u(x)\\) de la siguiente ecuación diferencial\n",
       "    \\(8 \\, u\\left(x\\right) + 4 \\, \\frac{\\partial}{\\partial x}u\\left(x\\right) + \\frac{\\partial^{2}}{(\\partial x)^{2}}u\\left(x\\right) = 0\\) con condiciones iniciales \\(u(0)=-1, \\; u'(0)=1\\)\n",
       "    y evalue en el punto dado:</p>\n",
       "    <pre>\n",
       "    u(1.04) = {1:NM:=0.00636089828391530:0.000190826948517459}\n",
       "    </pre>\n",
       "    "
      ]
     },
     "metadata": {},
     "output_type": "display_data"
    },
    {
     "data": {
      "text/html": [
       "\n",
       "    La solución del problema de condiciones iniciales es\n",
       "    \\(u(x)=-{\\left(2 \\, \\cos\\left(x\\right)^{2} + \\cos\\left(x\\right) \\sin\\left(x\\right) - 1\\right)} e^{\\left(-2 \\, x\\right)}\\)\n",
       "    "
      ],
      "text/plain": [
       "\n",
       "    La solución del problema de condiciones iniciales es\n",
       "    \\(u(x)=-{\\left(2 \\, \\cos\\left(x\\right)^{2} + \\cos\\left(x\\right) \\sin\\left(x\\right) - 1\\right)} e^{\\left(-2 \\, x\\right)}\\)\n",
       "    "
      ]
     },
     "metadata": {},
     "output_type": "display_data"
    },
    {
     "data": {
      "text/html": [
       "\n",
       "    <h1> EDOs lineales de 2o Orden </h1>\n",
       "    <h2> Caso homogeneo </h2>\n",
       "    <p> Encuentre la solución \\(u(x)\\) de la siguiente ecuación diferencial\n",
       "    \\(-u\\left(x\\right) + 3 \\, \\frac{\\partial}{\\partial x}u\\left(x\\right) + \\frac{\\partial^{2}}{(\\partial x)^{2}}u\\left(x\\right) = 0\\) con condiciones iniciales \\(u(0)=-1, \\; u'(0)=1\\)\n",
       "    y evalue en el punto dado:</p>\n",
       "    <pre>\n",
       "    u(1.61) = {1:NM:=-1.04165648339266:-0.0312496945017797}\n",
       "    </pre>\n",
       "    "
      ],
      "text/plain": [
       "\n",
       "    <h1> EDOs lineales de 2o Orden </h1>\n",
       "    <h2> Caso homogeneo </h2>\n",
       "    <p> Encuentre la solución \\(u(x)\\) de la siguiente ecuación diferencial\n",
       "    \\(-u\\left(x\\right) + 3 \\, \\frac{\\partial}{\\partial x}u\\left(x\\right) + \\frac{\\partial^{2}}{(\\partial x)^{2}}u\\left(x\\right) = 0\\) con condiciones iniciales \\(u(0)=-1, \\; u'(0)=1\\)\n",
       "    y evalue en el punto dado:</p>\n",
       "    <pre>\n",
       "    u(1.61) = {1:NM:=-1.04165648339266:-0.0312496945017797}\n",
       "    </pre>\n",
       "    "
      ]
     },
     "metadata": {},
     "output_type": "display_data"
    },
    {
     "data": {
      "text/html": [
       "\n",
       "    La solución del problema de condiciones iniciales es\n",
       "    \\(u(x)=-\\frac{1}{26} \\, {\\left(\\sqrt{13} e^{\\left(\\sqrt{13} x\\right)} - \\sqrt{13} + 13 \\, e^{\\left(\\sqrt{13} x\\right)} + 13\\right)} e^{\\left(-\\frac{1}{2} \\, \\sqrt{13} x - \\frac{3}{2} \\, x\\right)}\\)\n",
       "    "
      ],
      "text/plain": [
       "\n",
       "    La solución del problema de condiciones iniciales es\n",
       "    \\(u(x)=-\\frac{1}{26} \\, {\\left(\\sqrt{13} e^{\\left(\\sqrt{13} x\\right)} - \\sqrt{13} + 13 \\, e^{\\left(\\sqrt{13} x\\right)} + 13\\right)} e^{\\left(-\\frac{1}{2} \\, \\sqrt{13} x - \\frac{3}{2} \\, x\\right)}\\)\n",
       "    "
      ]
     },
     "metadata": {},
     "output_type": "display_data"
    },
    {
     "data": {
      "text/html": [
       "\n",
       "    <h1> EDOs lineales de 2o Orden </h1>\n",
       "    <h2> Caso homogeneo </h2>\n",
       "    <p> Encuentre la solución \\(u(x)\\) de la siguiente ecuación diferencial\n",
       "    \\(-4 \\, u\\left(x\\right) - \\frac{\\partial}{\\partial x}u\\left(x\\right) + \\frac{\\partial^{2}}{(\\partial x)^{2}}u\\left(x\\right) = 0\\) con condiciones iniciales \\(u(0)=0, \\; u'(0)=1\\)\n",
       "    y evalue en el punto dado:</p>\n",
       "    <pre>\n",
       "    u(1.48) = {1:NM:=10.7214996215222:0.321644988645666}\n",
       "    </pre>\n",
       "    "
      ],
      "text/plain": [
       "\n",
       "    <h1> EDOs lineales de 2o Orden </h1>\n",
       "    <h2> Caso homogeneo </h2>\n",
       "    <p> Encuentre la solución \\(u(x)\\) de la siguiente ecuación diferencial\n",
       "    \\(-4 \\, u\\left(x\\right) - \\frac{\\partial}{\\partial x}u\\left(x\\right) + \\frac{\\partial^{2}}{(\\partial x)^{2}}u\\left(x\\right) = 0\\) con condiciones iniciales \\(u(0)=0, \\; u'(0)=1\\)\n",
       "    y evalue en el punto dado:</p>\n",
       "    <pre>\n",
       "    u(1.48) = {1:NM:=10.7214996215222:0.321644988645666}\n",
       "    </pre>\n",
       "    "
      ]
     },
     "metadata": {},
     "output_type": "display_data"
    },
    {
     "data": {
      "text/html": [
       "\n",
       "    La solución del problema de condiciones iniciales es\n",
       "    \\(u(x)=\\frac{1}{17} \\, \\sqrt{17} {\\left(e^{\\left(\\sqrt{17} x\\right)} - 1\\right)} e^{\\left(-\\frac{1}{2} \\, \\sqrt{17} x + \\frac{1}{2} \\, x\\right)}\\)\n",
       "    "
      ],
      "text/plain": [
       "\n",
       "    La solución del problema de condiciones iniciales es\n",
       "    \\(u(x)=\\frac{1}{17} \\, \\sqrt{17} {\\left(e^{\\left(\\sqrt{17} x\\right)} - 1\\right)} e^{\\left(-\\frac{1}{2} \\, \\sqrt{17} x + \\frac{1}{2} \\, x\\right)}\\)\n",
       "    "
      ]
     },
     "metadata": {},
     "output_type": "display_data"
    },
    {
     "data": {
      "text/html": [
       "\n",
       "    <h1> EDOs lineales de 2o Orden </h1>\n",
       "    <h2> Caso homogeneo </h2>\n",
       "    <p> Encuentre la solución \\(u(x)\\) de la siguiente ecuación diferencial\n",
       "    \\(-7 \\, u\\left(x\\right) + 7 \\, \\frac{\\partial}{\\partial x}u\\left(x\\right) + \\frac{\\partial^{2}}{(\\partial x)^{2}}u\\left(x\\right) = 0\\) con condiciones iniciales \\(u(0)=-1, \\; u'(0)=0\\)\n",
       "    y evalue en el punto dado:</p>\n",
       "    <pre>\n",
       "    u(1.32) = {1:NM:=-2.90040912364750:-0.0870122737094250}\n",
       "    </pre>\n",
       "    "
      ],
      "text/plain": [
       "\n",
       "    <h1> EDOs lineales de 2o Orden </h1>\n",
       "    <h2> Caso homogeneo </h2>\n",
       "    <p> Encuentre la solución \\(u(x)\\) de la siguiente ecuación diferencial\n",
       "    \\(-7 \\, u\\left(x\\right) + 7 \\, \\frac{\\partial}{\\partial x}u\\left(x\\right) + \\frac{\\partial^{2}}{(\\partial x)^{2}}u\\left(x\\right) = 0\\) con condiciones iniciales \\(u(0)=-1, \\; u'(0)=0\\)\n",
       "    y evalue en el punto dado:</p>\n",
       "    <pre>\n",
       "    u(1.32) = {1:NM:=-2.90040912364750:-0.0870122737094250}\n",
       "    </pre>\n",
       "    "
      ]
     },
     "metadata": {},
     "output_type": "display_data"
    },
    {
     "data": {
      "text/html": [
       "\n",
       "    La solución del problema de condiciones iniciales es\n",
       "    \\(u(x)=-\\frac{1}{22} \\, {\\left(\\sqrt{77} e^{\\left(\\sqrt{77} x\\right)} - \\sqrt{77} + 11 \\, e^{\\left(\\sqrt{77} x\\right)} + 11\\right)} e^{\\left(-\\frac{1}{2} \\, \\sqrt{77} x - \\frac{7}{2} \\, x\\right)}\\)\n",
       "    "
      ],
      "text/plain": [
       "\n",
       "    La solución del problema de condiciones iniciales es\n",
       "    \\(u(x)=-\\frac{1}{22} \\, {\\left(\\sqrt{77} e^{\\left(\\sqrt{77} x\\right)} - \\sqrt{77} + 11 \\, e^{\\left(\\sqrt{77} x\\right)} + 11\\right)} e^{\\left(-\\frac{1}{2} \\, \\sqrt{77} x - \\frac{7}{2} \\, x\\right)}\\)\n",
       "    "
      ]
     },
     "metadata": {},
     "output_type": "display_data"
    },
    {
     "data": {
      "text/html": [
       "\n",
       "    <h1> EDOs lineales de 2o Orden </h1>\n",
       "    <h2> Caso homogeneo </h2>\n",
       "    <p> Encuentre la solución \\(u(x)\\) de la siguiente ecuación diferencial\n",
       "    \\(-3 \\, u\\left(x\\right) + 2 \\, \\frac{\\partial}{\\partial x}u\\left(x\\right) + \\frac{\\partial^{2}}{(\\partial x)^{2}}u\\left(x\\right) = 0\\) con condiciones iniciales \\(u(0)=0, \\; u'(0)=1\\)\n",
       "    y evalue en el punto dado:</p>\n",
       "    <pre>\n",
       "    u(1.08) = {1:NM:=0.726378913991634:0.0217913674197490}\n",
       "    </pre>\n",
       "    "
      ],
      "text/plain": [
       "\n",
       "    <h1> EDOs lineales de 2o Orden </h1>\n",
       "    <h2> Caso homogeneo </h2>\n",
       "    <p> Encuentre la solución \\(u(x)\\) de la siguiente ecuación diferencial\n",
       "    \\(-3 \\, u\\left(x\\right) + 2 \\, \\frac{\\partial}{\\partial x}u\\left(x\\right) + \\frac{\\partial^{2}}{(\\partial x)^{2}}u\\left(x\\right) = 0\\) con condiciones iniciales \\(u(0)=0, \\; u'(0)=1\\)\n",
       "    y evalue en el punto dado:</p>\n",
       "    <pre>\n",
       "    u(1.08) = {1:NM:=0.726378913991634:0.0217913674197490}\n",
       "    </pre>\n",
       "    "
      ]
     },
     "metadata": {},
     "output_type": "display_data"
    },
    {
     "data": {
      "text/html": [
       "\n",
       "    La solución del problema de condiciones iniciales es\n",
       "    \\(u(x)=\\frac{1}{4} \\, {\\left(e^{\\left(2 \\, x\\right)} + 1\\right)} {\\left(e^{x} + 1\\right)} {\\left(e^{x} - 1\\right)} e^{\\left(-3 \\, x\\right)}\\)\n",
       "    "
      ],
      "text/plain": [
       "\n",
       "    La solución del problema de condiciones iniciales es\n",
       "    \\(u(x)=\\frac{1}{4} \\, {\\left(e^{\\left(2 \\, x\\right)} + 1\\right)} {\\left(e^{x} + 1\\right)} {\\left(e^{x} - 1\\right)} e^{\\left(-3 \\, x\\right)}\\)\n",
       "    "
      ]
     },
     "metadata": {},
     "output_type": "display_data"
    },
    {
     "data": {
      "text/html": [
       "\n",
       "    <h1> EDOs lineales de 2o Orden </h1>\n",
       "    <h2> Caso homogeneo </h2>\n",
       "    <p> Encuentre la solución \\(u(x)\\) de la siguiente ecuación diferencial\n",
       "    \\(4 \\, u\\left(x\\right) - 4 \\, \\frac{\\partial}{\\partial x}u\\left(x\\right) + \\frac{\\partial^{2}}{(\\partial x)^{2}}u\\left(x\\right) = 0\\) con condiciones iniciales \\(u(0)=1, \\; u'(0)=-1\\)\n",
       "    y evalue en el punto dado:</p>\n",
       "    <pre>\n",
       "    u(1.4) = {1:NM:=-52.6228696675105:-1.57868609002532}\n",
       "    </pre>\n",
       "    "
      ],
      "text/plain": [
       "\n",
       "    <h1> EDOs lineales de 2o Orden </h1>\n",
       "    <h2> Caso homogeneo </h2>\n",
       "    <p> Encuentre la solución \\(u(x)\\) de la siguiente ecuación diferencial\n",
       "    \\(4 \\, u\\left(x\\right) - 4 \\, \\frac{\\partial}{\\partial x}u\\left(x\\right) + \\frac{\\partial^{2}}{(\\partial x)^{2}}u\\left(x\\right) = 0\\) con condiciones iniciales \\(u(0)=1, \\; u'(0)=-1\\)\n",
       "    y evalue en el punto dado:</p>\n",
       "    <pre>\n",
       "    u(1.4) = {1:NM:=-52.6228696675105:-1.57868609002532}\n",
       "    </pre>\n",
       "    "
      ]
     },
     "metadata": {},
     "output_type": "display_data"
    },
    {
     "data": {
      "text/html": [
       "\n",
       "    La solución del problema de condiciones iniciales es\n",
       "    \\(u(x)=-{\\left(3 \\, x - 1\\right)} e^{\\left(2 \\, x\\right)}\\)\n",
       "    "
      ],
      "text/plain": [
       "\n",
       "    La solución del problema de condiciones iniciales es\n",
       "    \\(u(x)=-{\\left(3 \\, x - 1\\right)} e^{\\left(2 \\, x\\right)}\\)\n",
       "    "
      ]
     },
     "metadata": {},
     "output_type": "display_data"
    },
    {
     "data": {
      "text/html": [
       "\n",
       "    <h1> EDOs lineales de 2o Orden </h1>\n",
       "    <h2> Caso homogeneo </h2>\n",
       "    <p> Encuentre la solución \\(u(x)\\) de la siguiente ecuación diferencial\n",
       "    \\(9 \\, u\\left(x\\right) - \\frac{\\partial}{\\partial x}u\\left(x\\right) + \\frac{\\partial^{2}}{(\\partial x)^{2}}u\\left(x\\right) = 0\\) con condiciones iniciales \\(u(0)=-1, \\; u'(0)=-1\\)\n",
       "    y evalue en el punto dado:</p>\n",
       "    <pre>\n",
       "    u(1.47) = {1:NM:=1.07200548088042:0.0321601644264125}\n",
       "    </pre>\n",
       "    "
      ],
      "text/plain": [
       "\n",
       "    <h1> EDOs lineales de 2o Orden </h1>\n",
       "    <h2> Caso homogeneo </h2>\n",
       "    <p> Encuentre la solución \\(u(x)\\) de la siguiente ecuación diferencial\n",
       "    \\(9 \\, u\\left(x\\right) - \\frac{\\partial}{\\partial x}u\\left(x\\right) + \\frac{\\partial^{2}}{(\\partial x)^{2}}u\\left(x\\right) = 0\\) con condiciones iniciales \\(u(0)=-1, \\; u'(0)=-1\\)\n",
       "    y evalue en el punto dado:</p>\n",
       "    <pre>\n",
       "    u(1.47) = {1:NM:=1.07200548088042:0.0321601644264125}\n",
       "    </pre>\n",
       "    "
      ]
     },
     "metadata": {},
     "output_type": "display_data"
    },
    {
     "data": {
      "text/html": [
       "\n",
       "    La solución del problema de condiciones iniciales es\n",
       "    \\(u(x)=-\\frac{1}{35} \\, \\sqrt{35} {\\left(\\sqrt{35} \\cos\\left(\\frac{1}{2} \\, \\sqrt{35} x\\right) + \\sin\\left(\\frac{1}{2} \\, \\sqrt{35} x\\right)\\right)} e^{\\left(\\frac{1}{2} \\, x\\right)}\\)\n",
       "    "
      ],
      "text/plain": [
       "\n",
       "    La solución del problema de condiciones iniciales es\n",
       "    \\(u(x)=-\\frac{1}{35} \\, \\sqrt{35} {\\left(\\sqrt{35} \\cos\\left(\\frac{1}{2} \\, \\sqrt{35} x\\right) + \\sin\\left(\\frac{1}{2} \\, \\sqrt{35} x\\right)\\right)} e^{\\left(\\frac{1}{2} \\, x\\right)}\\)\n",
       "    "
      ]
     },
     "metadata": {},
     "output_type": "display_data"
    },
    {
     "data": {
      "text/html": [
       "\n",
       "    <h1> EDOs lineales de 2o Orden </h1>\n",
       "    <h2> Caso homogeneo </h2>\n",
       "    <p> Encuentre la solución \\(u(x)\\) de la siguiente ecuación diferencial\n",
       "    \\(-3 \\, u\\left(x\\right) + 7 \\, \\frac{\\partial}{\\partial x}u\\left(x\\right) + \\frac{\\partial^{2}}{(\\partial x)^{2}}u\\left(x\\right) = 0\\) con condiciones iniciales \\(u(0)=-1, \\; u'(0)=1\\)\n",
       "    y evalue en el punto dado:</p>\n",
       "    <pre>\n",
       "    u(1.1) = {1:NM:=-1.28061388019124:-0.0384184164057372}\n",
       "    </pre>\n",
       "    "
      ],
      "text/plain": [
       "\n",
       "    <h1> EDOs lineales de 2o Orden </h1>\n",
       "    <h2> Caso homogeneo </h2>\n",
       "    <p> Encuentre la solución \\(u(x)\\) de la siguiente ecuación diferencial\n",
       "    \\(-3 \\, u\\left(x\\right) + 7 \\, \\frac{\\partial}{\\partial x}u\\left(x\\right) + \\frac{\\partial^{2}}{(\\partial x)^{2}}u\\left(x\\right) = 0\\) con condiciones iniciales \\(u(0)=-1, \\; u'(0)=1\\)\n",
       "    y evalue en el punto dado:</p>\n",
       "    <pre>\n",
       "    u(1.1) = {1:NM:=-1.28061388019124:-0.0384184164057372}\n",
       "    </pre>\n",
       "    "
      ]
     },
     "metadata": {},
     "output_type": "display_data"
    },
    {
     "data": {
      "text/html": [
       "\n",
       "    La solución del problema de condiciones iniciales es\n",
       "    \\(u(x)=-\\frac{1}{122} \\, {\\left(5 \\, \\sqrt{61} e^{\\left(\\sqrt{61} x\\right)} - 5 \\, \\sqrt{61} + 61 \\, e^{\\left(\\sqrt{61} x\\right)} + 61\\right)} e^{\\left(-\\frac{1}{2} \\, \\sqrt{61} x - \\frac{7}{2} \\, x\\right)}\\)\n",
       "    "
      ],
      "text/plain": [
       "\n",
       "    La solución del problema de condiciones iniciales es\n",
       "    \\(u(x)=-\\frac{1}{122} \\, {\\left(5 \\, \\sqrt{61} e^{\\left(\\sqrt{61} x\\right)} - 5 \\, \\sqrt{61} + 61 \\, e^{\\left(\\sqrt{61} x\\right)} + 61\\right)} e^{\\left(-\\frac{1}{2} \\, \\sqrt{61} x - \\frac{7}{2} \\, x\\right)}\\)\n",
       "    "
      ]
     },
     "metadata": {},
     "output_type": "display_data"
    },
    {
     "data": {
      "text/html": [
       "\n",
       "    <h1> EDOs lineales de 2o Orden </h1>\n",
       "    <h2> Caso homogeneo </h2>\n",
       "    <p> Encuentre la solución \\(u(x)\\) de la siguiente ecuación diferencial\n",
       "    \\(4 \\, u\\left(x\\right) - 5 \\, \\frac{\\partial}{\\partial x}u\\left(x\\right) + \\frac{\\partial^{2}}{(\\partial x)^{2}}u\\left(x\\right) = 0\\) con condiciones iniciales \\(u(0)=1, \\; u'(0)=0\\)\n",
       "    y evalue en el punto dado:</p>\n",
       "    <pre>\n",
       "    u(1.37) = {1:NM:=-74.7017681974578:-2.24105304592373}\n",
       "    </pre>\n",
       "    "
      ],
      "text/plain": [
       "\n",
       "    <h1> EDOs lineales de 2o Orden </h1>\n",
       "    <h2> Caso homogeneo </h2>\n",
       "    <p> Encuentre la solución \\(u(x)\\) de la siguiente ecuación diferencial\n",
       "    \\(4 \\, u\\left(x\\right) - 5 \\, \\frac{\\partial}{\\partial x}u\\left(x\\right) + \\frac{\\partial^{2}}{(\\partial x)^{2}}u\\left(x\\right) = 0\\) con condiciones iniciales \\(u(0)=1, \\; u'(0)=0\\)\n",
       "    y evalue en el punto dado:</p>\n",
       "    <pre>\n",
       "    u(1.37) = {1:NM:=-74.7017681974578:-2.24105304592373}\n",
       "    </pre>\n",
       "    "
      ]
     },
     "metadata": {},
     "output_type": "display_data"
    },
    {
     "data": {
      "text/html": [
       "\n",
       "    La solución del problema de condiciones iniciales es\n",
       "    \\(u(x)=-\\frac{1}{3} \\, {\\left(e^{\\left(3 \\, x\\right)} - 4\\right)} e^{x}\\)\n",
       "    "
      ],
      "text/plain": [
       "\n",
       "    La solución del problema de condiciones iniciales es\n",
       "    \\(u(x)=-\\frac{1}{3} \\, {\\left(e^{\\left(3 \\, x\\right)} - 4\\right)} e^{x}\\)\n",
       "    "
      ]
     },
     "metadata": {},
     "output_type": "display_data"
    },
    {
     "data": {
      "text/html": [
       "\n",
       "    <h1> EDOs lineales de 2o Orden </h1>\n",
       "    <h2> Caso homogeneo </h2>\n",
       "    <p> Encuentre la solución \\(u(x)\\) de la siguiente ecuación diferencial\n",
       "    \\(-6 \\, u\\left(x\\right) - 3 \\, \\frac{\\partial}{\\partial x}u\\left(x\\right) + \\frac{\\partial^{2}}{(\\partial x)^{2}}u\\left(x\\right) = 0\\) con condiciones iniciales \\(u(0)=0, \\; u'(0)=-1\\)\n",
       "    y evalue en el punto dado:</p>\n",
       "    <pre>\n",
       "    u(1.49) = {1:NM:=-117.478300265415:-3.52434900796244}\n",
       "    </pre>\n",
       "    "
      ],
      "text/plain": [
       "\n",
       "    <h1> EDOs lineales de 2o Orden </h1>\n",
       "    <h2> Caso homogeneo </h2>\n",
       "    <p> Encuentre la solución \\(u(x)\\) de la siguiente ecuación diferencial\n",
       "    \\(-6 \\, u\\left(x\\right) - 3 \\, \\frac{\\partial}{\\partial x}u\\left(x\\right) + \\frac{\\partial^{2}}{(\\partial x)^{2}}u\\left(x\\right) = 0\\) con condiciones iniciales \\(u(0)=0, \\; u'(0)=-1\\)\n",
       "    y evalue en el punto dado:</p>\n",
       "    <pre>\n",
       "    u(1.49) = {1:NM:=-117.478300265415:-3.52434900796244}\n",
       "    </pre>\n",
       "    "
      ]
     },
     "metadata": {},
     "output_type": "display_data"
    },
    {
     "data": {
      "text/html": [
       "\n",
       "    La solución del problema de condiciones iniciales es\n",
       "    \\(u(x)=-\\frac{1}{33} \\, \\sqrt{33} {\\left(e^{\\left(\\sqrt{33} x\\right)} - 1\\right)} e^{\\left(-\\frac{1}{2} \\, \\sqrt{33} x + \\frac{3}{2} \\, x\\right)}\\)\n",
       "    "
      ],
      "text/plain": [
       "\n",
       "    La solución del problema de condiciones iniciales es\n",
       "    \\(u(x)=-\\frac{1}{33} \\, \\sqrt{33} {\\left(e^{\\left(\\sqrt{33} x\\right)} - 1\\right)} e^{\\left(-\\frac{1}{2} \\, \\sqrt{33} x + \\frac{3}{2} \\, x\\right)}\\)\n",
       "    "
      ]
     },
     "metadata": {},
     "output_type": "display_data"
    },
    {
     "data": {
      "text/html": [
       "\n",
       "    <h1> EDOs lineales de 2o Orden </h1>\n",
       "    <h2> Caso homogeneo </h2>\n",
       "    <p> Encuentre la solución \\(u(x)\\) de la siguiente ecuación diferencial\n",
       "    \\(5 \\, u\\left(x\\right) - 2 \\, \\frac{\\partial}{\\partial x}u\\left(x\\right) + \\frac{\\partial^{2}}{(\\partial x)^{2}}u\\left(x\\right) = 0\\) con condiciones iniciales \\(u(0)=0, \\; u'(0)=1\\)\n",
       "    y evalue en el punto dado:</p>\n",
       "    <pre>\n",
       "    u(1.01) = {1:NM:=1.23660935048243:0.0370982805144728}\n",
       "    </pre>\n",
       "    "
      ],
      "text/plain": [
       "\n",
       "    <h1> EDOs lineales de 2o Orden </h1>\n",
       "    <h2> Caso homogeneo </h2>\n",
       "    <p> Encuentre la solución \\(u(x)\\) de la siguiente ecuación diferencial\n",
       "    \\(5 \\, u\\left(x\\right) - 2 \\, \\frac{\\partial}{\\partial x}u\\left(x\\right) + \\frac{\\partial^{2}}{(\\partial x)^{2}}u\\left(x\\right) = 0\\) con condiciones iniciales \\(u(0)=0, \\; u'(0)=1\\)\n",
       "    y evalue en el punto dado:</p>\n",
       "    <pre>\n",
       "    u(1.01) = {1:NM:=1.23660935048243:0.0370982805144728}\n",
       "    </pre>\n",
       "    "
      ]
     },
     "metadata": {},
     "output_type": "display_data"
    },
    {
     "data": {
      "text/html": [
       "\n",
       "    La solución del problema de condiciones iniciales es\n",
       "    \\(u(x)=\\cos\\left(x\\right) e^{x} \\sin\\left(x\\right)\\)\n",
       "    "
      ],
      "text/plain": [
       "\n",
       "    La solución del problema de condiciones iniciales es\n",
       "    \\(u(x)=\\cos\\left(x\\right) e^{x} \\sin\\left(x\\right)\\)\n",
       "    "
      ]
     },
     "metadata": {},
     "output_type": "display_data"
    },
    {
     "data": {
      "text/html": [
       "\n",
       "    <h1> EDOs lineales de 2o Orden </h1>\n",
       "    <h2> Caso homogeneo </h2>\n",
       "    <p> Encuentre la solución \\(u(x)\\) de la siguiente ecuación diferencial\n",
       "    \\(-4 \\, u\\left(x\\right) + 8 \\, \\frac{\\partial}{\\partial x}u\\left(x\\right) + \\frac{\\partial^{2}}{(\\partial x)^{2}}u\\left(x\\right) = 0\\) con condiciones iniciales \\(u(0)=1, \\; u'(0)=1\\)\n",
       "    y evalue en el punto dado:</p>\n",
       "    <pre>\n",
       "    u(1.47) = {1:NM:=2.11992531498311:0.0635977594494932}\n",
       "    </pre>\n",
       "    "
      ],
      "text/plain": [
       "\n",
       "    <h1> EDOs lineales de 2o Orden </h1>\n",
       "    <h2> Caso homogeneo </h2>\n",
       "    <p> Encuentre la solución \\(u(x)\\) de la siguiente ecuación diferencial\n",
       "    \\(-4 \\, u\\left(x\\right) + 8 \\, \\frac{\\partial}{\\partial x}u\\left(x\\right) + \\frac{\\partial^{2}}{(\\partial x)^{2}}u\\left(x\\right) = 0\\) con condiciones iniciales \\(u(0)=1, \\; u'(0)=1\\)\n",
       "    y evalue en el punto dado:</p>\n",
       "    <pre>\n",
       "    u(1.47) = {1:NM:=2.11992531498311:0.0635977594494932}\n",
       "    </pre>\n",
       "    "
      ]
     },
     "metadata": {},
     "output_type": "display_data"
    },
    {
     "data": {
      "text/html": [
       "\n",
       "    La solución del problema de condiciones iniciales es\n",
       "    \\(u(x)=\\frac{1}{4} \\, {\\left(\\sqrt{5} e^{\\left(4 \\, \\sqrt{5} x\\right)} - \\sqrt{5} + 2 \\, e^{\\left(4 \\, \\sqrt{5} x\\right)} + 2\\right)} e^{\\left(-2 \\, \\sqrt{5} x - 4 \\, x\\right)}\\)\n",
       "    "
      ],
      "text/plain": [
       "\n",
       "    La solución del problema de condiciones iniciales es\n",
       "    \\(u(x)=\\frac{1}{4} \\, {\\left(\\sqrt{5} e^{\\left(4 \\, \\sqrt{5} x\\right)} - \\sqrt{5} + 2 \\, e^{\\left(4 \\, \\sqrt{5} x\\right)} + 2\\right)} e^{\\left(-2 \\, \\sqrt{5} x - 4 \\, x\\right)}\\)\n",
       "    "
      ]
     },
     "metadata": {},
     "output_type": "display_data"
    },
    {
     "data": {
      "text/html": [
       "\n",
       "    <h1> EDOs lineales de 2o Orden </h1>\n",
       "    <h2> Caso homogeneo </h2>\n",
       "    <p> Encuentre la solución \\(u(x)\\) de la siguiente ecuación diferencial\n",
       "    \\(5 \\, u\\left(x\\right) + 6 \\, \\frac{\\partial}{\\partial x}u\\left(x\\right) + \\frac{\\partial^{2}}{(\\partial x)^{2}}u\\left(x\\right) = 0\\) con condiciones iniciales \\(u(0)=1, \\; u'(0)=1\\)\n",
       "    y evalue en el punto dado:</p>\n",
       "    <pre>\n",
       "    u(1.48) = {1:NM:=0.341150906195154:0.0102345271858546}\n",
       "    </pre>\n",
       "    "
      ],
      "text/plain": [
       "\n",
       "    <h1> EDOs lineales de 2o Orden </h1>\n",
       "    <h2> Caso homogeneo </h2>\n",
       "    <p> Encuentre la solución \\(u(x)\\) de la siguiente ecuación diferencial\n",
       "    \\(5 \\, u\\left(x\\right) + 6 \\, \\frac{\\partial}{\\partial x}u\\left(x\\right) + \\frac{\\partial^{2}}{(\\partial x)^{2}}u\\left(x\\right) = 0\\) con condiciones iniciales \\(u(0)=1, \\; u'(0)=1\\)\n",
       "    y evalue en el punto dado:</p>\n",
       "    <pre>\n",
       "    u(1.48) = {1:NM:=0.341150906195154:0.0102345271858546}\n",
       "    </pre>\n",
       "    "
      ]
     },
     "metadata": {},
     "output_type": "display_data"
    },
    {
     "data": {
      "text/html": [
       "\n",
       "    La solución del problema de condiciones iniciales es\n",
       "    \\(u(x)=\\frac{1}{2} \\, {\\left(3 \\, e^{\\left(4 \\, x\\right)} - 1\\right)} e^{\\left(-5 \\, x\\right)}\\)\n",
       "    "
      ],
      "text/plain": [
       "\n",
       "    La solución del problema de condiciones iniciales es\n",
       "    \\(u(x)=\\frac{1}{2} \\, {\\left(3 \\, e^{\\left(4 \\, x\\right)} - 1\\right)} e^{\\left(-5 \\, x\\right)}\\)\n",
       "    "
      ]
     },
     "metadata": {},
     "output_type": "display_data"
    },
    {
     "data": {
      "text/html": [
       "\n",
       "    <h1> EDOs lineales de 2o Orden </h1>\n",
       "    <h2> Caso homogeneo </h2>\n",
       "    <p> Encuentre la solución \\(u(x)\\) de la siguiente ecuación diferencial\n",
       "    \\(-5 \\, u\\left(x\\right) - \\frac{\\partial}{\\partial x}u\\left(x\\right) + \\frac{\\partial^{2}}{(\\partial x)^{2}}u\\left(x\\right) = 0\\) con condiciones iniciales \\(u(0)=0, \\; u'(0)=-1\\)\n",
       "    y evalue en el punto dado:</p>\n",
       "    <pre>\n",
       "    u(1.12) = {1:NM:=-4.94344179393450:-0.148303253818035}\n",
       "    </pre>\n",
       "    "
      ],
      "text/plain": [
       "\n",
       "    <h1> EDOs lineales de 2o Orden </h1>\n",
       "    <h2> Caso homogeneo </h2>\n",
       "    <p> Encuentre la solución \\(u(x)\\) de la siguiente ecuación diferencial\n",
       "    \\(-5 \\, u\\left(x\\right) - \\frac{\\partial}{\\partial x}u\\left(x\\right) + \\frac{\\partial^{2}}{(\\partial x)^{2}}u\\left(x\\right) = 0\\) con condiciones iniciales \\(u(0)=0, \\; u'(0)=-1\\)\n",
       "    y evalue en el punto dado:</p>\n",
       "    <pre>\n",
       "    u(1.12) = {1:NM:=-4.94344179393450:-0.148303253818035}\n",
       "    </pre>\n",
       "    "
      ]
     },
     "metadata": {},
     "output_type": "display_data"
    },
    {
     "data": {
      "text/html": [
       "\n",
       "    La solución del problema de condiciones iniciales es\n",
       "    \\(u(x)=-\\frac{1}{21} \\, \\sqrt{21} {\\left(e^{\\left(\\sqrt{21} x\\right)} - 1\\right)} e^{\\left(-\\frac{1}{2} \\, \\sqrt{21} x + \\frac{1}{2} \\, x\\right)}\\)\n",
       "    "
      ],
      "text/plain": [
       "\n",
       "    La solución del problema de condiciones iniciales es\n",
       "    \\(u(x)=-\\frac{1}{21} \\, \\sqrt{21} {\\left(e^{\\left(\\sqrt{21} x\\right)} - 1\\right)} e^{\\left(-\\frac{1}{2} \\, \\sqrt{21} x + \\frac{1}{2} \\, x\\right)}\\)\n",
       "    "
      ]
     },
     "metadata": {},
     "output_type": "display_data"
    },
    {
     "data": {
      "text/html": [
       "\n",
       "    <h1> EDOs lineales de 2o Orden </h1>\n",
       "    <h2> Caso homogeneo </h2>\n",
       "    <p> Encuentre la solución \\(u(x)\\) de la siguiente ecuación diferencial\n",
       "    \\(-u\\left(x\\right) + 6 \\, \\frac{\\partial}{\\partial x}u\\left(x\\right) + \\frac{\\partial^{2}}{(\\partial x)^{2}}u\\left(x\\right) = 0\\) con condiciones iniciales \\(u(0)=1, \\; u'(0)=-1\\)\n",
       "    y evalue en el punto dado:</p>\n",
       "    <pre>\n",
       "    u(1.64) = {1:NM:=1.06511265102738:0.0319533795308213}\n",
       "    </pre>\n",
       "    "
      ],
      "text/plain": [
       "\n",
       "    <h1> EDOs lineales de 2o Orden </h1>\n",
       "    <h2> Caso homogeneo </h2>\n",
       "    <p> Encuentre la solución \\(u(x)\\) de la siguiente ecuación diferencial\n",
       "    \\(-u\\left(x\\right) + 6 \\, \\frac{\\partial}{\\partial x}u\\left(x\\right) + \\frac{\\partial^{2}}{(\\partial x)^{2}}u\\left(x\\right) = 0\\) con condiciones iniciales \\(u(0)=1, \\; u'(0)=-1\\)\n",
       "    y evalue en el punto dado:</p>\n",
       "    <pre>\n",
       "    u(1.64) = {1:NM:=1.06511265102738:0.0319533795308213}\n",
       "    </pre>\n",
       "    "
      ]
     },
     "metadata": {},
     "output_type": "display_data"
    },
    {
     "data": {
      "text/html": [
       "\n",
       "    La solución del problema de condiciones iniciales es\n",
       "    \\(u(x)=\\frac{1}{10} \\, {\\left(\\sqrt{10} e^{\\left(2 \\, \\sqrt{10} x\\right)} - \\sqrt{10} + 5 \\, e^{\\left(2 \\, \\sqrt{10} x\\right)} + 5\\right)} e^{\\left(-\\sqrt{10} x - 3 \\, x\\right)}\\)\n",
       "    "
      ],
      "text/plain": [
       "\n",
       "    La solución del problema de condiciones iniciales es\n",
       "    \\(u(x)=\\frac{1}{10} \\, {\\left(\\sqrt{10} e^{\\left(2 \\, \\sqrt{10} x\\right)} - \\sqrt{10} + 5 \\, e^{\\left(2 \\, \\sqrt{10} x\\right)} + 5\\right)} e^{\\left(-\\sqrt{10} x - 3 \\, x\\right)}\\)\n",
       "    "
      ]
     },
     "metadata": {},
     "output_type": "display_data"
    },
    {
     "data": {
      "text/html": [
       "\n",
       "    <h1> EDOs lineales de 2o Orden </h1>\n",
       "    <h2> Caso homogeneo </h2>\n",
       "    <p> Encuentre la solución \\(u(x)\\) de la siguiente ecuación diferencial\n",
       "    \\(8 \\, u\\left(x\\right) + 4 \\, \\frac{\\partial}{\\partial x}u\\left(x\\right) + \\frac{\\partial^{2}}{(\\partial x)^{2}}u\\left(x\\right) = 0\\) con condiciones iniciales \\(u(0)=0, \\; u'(0)=-1\\)\n",
       "    y evalue en el punto dado:</p>\n",
       "    <pre>\n",
       "    u(1.23) = {1:NM:=-0.0269133179908048:-0.000807399539724143}\n",
       "    </pre>\n",
       "    "
      ],
      "text/plain": [
       "\n",
       "    <h1> EDOs lineales de 2o Orden </h1>\n",
       "    <h2> Caso homogeneo </h2>\n",
       "    <p> Encuentre la solución \\(u(x)\\) de la siguiente ecuación diferencial\n",
       "    \\(8 \\, u\\left(x\\right) + 4 \\, \\frac{\\partial}{\\partial x}u\\left(x\\right) + \\frac{\\partial^{2}}{(\\partial x)^{2}}u\\left(x\\right) = 0\\) con condiciones iniciales \\(u(0)=0, \\; u'(0)=-1\\)\n",
       "    y evalue en el punto dado:</p>\n",
       "    <pre>\n",
       "    u(1.23) = {1:NM:=-0.0269133179908048:-0.000807399539724143}\n",
       "    </pre>\n",
       "    "
      ]
     },
     "metadata": {},
     "output_type": "display_data"
    },
    {
     "data": {
      "text/html": [
       "\n",
       "    La solución del problema de condiciones iniciales es\n",
       "    \\(u(x)=-\\cos\\left(x\\right) e^{\\left(-2 \\, x\\right)} \\sin\\left(x\\right)\\)\n",
       "    "
      ],
      "text/plain": [
       "\n",
       "    La solución del problema de condiciones iniciales es\n",
       "    \\(u(x)=-\\cos\\left(x\\right) e^{\\left(-2 \\, x\\right)} \\sin\\left(x\\right)\\)\n",
       "    "
      ]
     },
     "metadata": {},
     "output_type": "display_data"
    },
    {
     "data": {
      "text/html": [
       "\n",
       "    <h1> EDOs lineales de 2o Orden </h1>\n",
       "    <h2> Caso homogeneo </h2>\n",
       "    <p> Encuentre la solución \\(u(x)\\) de la siguiente ecuación diferencial\n",
       "    \\(6 \\, u\\left(x\\right) + 7 \\, \\frac{\\partial}{\\partial x}u\\left(x\\right) + \\frac{\\partial^{2}}{(\\partial x)^{2}}u\\left(x\\right) = 0\\) con condiciones iniciales \\(u(0)=0, \\; u'(0)=-1\\)\n",
       "    y evalue en el punto dado:</p>\n",
       "    <pre>\n",
       "    u(1.73) = {1:NM:=-0.0354506725419865:-0.00106352017625959}\n",
       "    </pre>\n",
       "    "
      ],
      "text/plain": [
       "\n",
       "    <h1> EDOs lineales de 2o Orden </h1>\n",
       "    <h2> Caso homogeneo </h2>\n",
       "    <p> Encuentre la solución \\(u(x)\\) de la siguiente ecuación diferencial\n",
       "    \\(6 \\, u\\left(x\\right) + 7 \\, \\frac{\\partial}{\\partial x}u\\left(x\\right) + \\frac{\\partial^{2}}{(\\partial x)^{2}}u\\left(x\\right) = 0\\) con condiciones iniciales \\(u(0)=0, \\; u'(0)=-1\\)\n",
       "    y evalue en el punto dado:</p>\n",
       "    <pre>\n",
       "    u(1.73) = {1:NM:=-0.0354506725419865:-0.00106352017625959}\n",
       "    </pre>\n",
       "    "
      ]
     },
     "metadata": {},
     "output_type": "display_data"
    },
    {
     "data": {
      "text/html": [
       "\n",
       "    La solución del problema de condiciones iniciales es\n",
       "    \\(u(x)=-\\frac{1}{5} \\, {\\left(e^{\\left(4 \\, x\\right)} + e^{\\left(3 \\, x\\right)} + e^{\\left(2 \\, x\\right)} + e^{x} + 1\\right)} {\\left(e^{x} - 1\\right)} e^{\\left(-6 \\, x\\right)}\\)\n",
       "    "
      ],
      "text/plain": [
       "\n",
       "    La solución del problema de condiciones iniciales es\n",
       "    \\(u(x)=-\\frac{1}{5} \\, {\\left(e^{\\left(4 \\, x\\right)} + e^{\\left(3 \\, x\\right)} + e^{\\left(2 \\, x\\right)} + e^{x} + 1\\right)} {\\left(e^{x} - 1\\right)} e^{\\left(-6 \\, x\\right)}\\)\n",
       "    "
      ]
     },
     "metadata": {},
     "output_type": "display_data"
    },
    {
     "data": {
      "text/html": [
       "\n",
       "    <h1> EDOs lineales de 2o Orden </h1>\n",
       "    <h2> Caso homogeneo </h2>\n",
       "    <p> Encuentre la solución \\(u(x)\\) de la siguiente ecuación diferencial\n",
       "    \\(-5 \\, u\\left(x\\right) - 9 \\, \\frac{\\partial}{\\partial x}u\\left(x\\right) + \\frac{\\partial^{2}}{(\\partial x)^{2}}u\\left(x\\right) = 0\\) con condiciones iniciales \\(u(0)=-1, \\; u'(0)=1\\)\n",
       "    y evalue en el punto dado:</p>\n",
       "    <pre>\n",
       "    u(1.96) = {1:NM:=6.05871464108904e6:181761.439232671}\n",
       "    </pre>\n",
       "    "
      ],
      "text/plain": [
       "\n",
       "    <h1> EDOs lineales de 2o Orden </h1>\n",
       "    <h2> Caso homogeneo </h2>\n",
       "    <p> Encuentre la solución \\(u(x)\\) de la siguiente ecuación diferencial\n",
       "    \\(-5 \\, u\\left(x\\right) - 9 \\, \\frac{\\partial}{\\partial x}u\\left(x\\right) + \\frac{\\partial^{2}}{(\\partial x)^{2}}u\\left(x\\right) = 0\\) con condiciones iniciales \\(u(0)=-1, \\; u'(0)=1\\)\n",
       "    y evalue en el punto dado:</p>\n",
       "    <pre>\n",
       "    u(1.96) = {1:NM:=6.05871464108904e6:181761.439232671}\n",
       "    </pre>\n",
       "    "
      ]
     },
     "metadata": {},
     "output_type": "display_data"
    },
    {
     "data": {
      "text/html": [
       "\n",
       "    La solución del problema de condiciones iniciales es\n",
       "    \\(u(x)=\\frac{1}{202} \\, {\\left(11 \\, \\sqrt{101} e^{\\left(\\sqrt{101} x\\right)} - 11 \\, \\sqrt{101} - 101 \\, e^{\\left(\\sqrt{101} x\\right)} - 101\\right)} e^{\\left(-\\frac{1}{2} \\, \\sqrt{101} x + \\frac{9}{2} \\, x\\right)}\\)\n",
       "    "
      ],
      "text/plain": [
       "\n",
       "    La solución del problema de condiciones iniciales es\n",
       "    \\(u(x)=\\frac{1}{202} \\, {\\left(11 \\, \\sqrt{101} e^{\\left(\\sqrt{101} x\\right)} - 11 \\, \\sqrt{101} - 101 \\, e^{\\left(\\sqrt{101} x\\right)} - 101\\right)} e^{\\left(-\\frac{1}{2} \\, \\sqrt{101} x + \\frac{9}{2} \\, x\\right)}\\)\n",
       "    "
      ]
     },
     "metadata": {},
     "output_type": "display_data"
    },
    {
     "data": {
      "text/html": [
       "\n",
       "    <h1> EDOs lineales de 2o Orden </h1>\n",
       "    <h2> Caso homogeneo </h2>\n",
       "    <p> Encuentre la solución \\(u(x)\\) de la siguiente ecuación diferencial\n",
       "    \\(-8 \\, u\\left(x\\right) + 7 \\, \\frac{\\partial}{\\partial x}u\\left(x\\right) + \\frac{\\partial^{2}}{(\\partial x)^{2}}u\\left(x\\right) = 0\\) con condiciones iniciales \\(u(0)=1, \\; u'(0)=0\\)\n",
       "    y evalue en el punto dado:</p>\n",
       "    <pre>\n",
       "    u(1.05) = {1:NM:=2.54015931242550:0.0762047793727650}\n",
       "    </pre>\n",
       "    "
      ],
      "text/plain": [
       "\n",
       "    <h1> EDOs lineales de 2o Orden </h1>\n",
       "    <h2> Caso homogeneo </h2>\n",
       "    <p> Encuentre la solución \\(u(x)\\) de la siguiente ecuación diferencial\n",
       "    \\(-8 \\, u\\left(x\\right) + 7 \\, \\frac{\\partial}{\\partial x}u\\left(x\\right) + \\frac{\\partial^{2}}{(\\partial x)^{2}}u\\left(x\\right) = 0\\) con condiciones iniciales \\(u(0)=1, \\; u'(0)=0\\)\n",
       "    y evalue en el punto dado:</p>\n",
       "    <pre>\n",
       "    u(1.05) = {1:NM:=2.54015931242550:0.0762047793727650}\n",
       "    </pre>\n",
       "    "
      ]
     },
     "metadata": {},
     "output_type": "display_data"
    },
    {
     "data": {
      "text/html": [
       "\n",
       "    La solución del problema de condiciones iniciales es\n",
       "    \\(u(x)=\\frac{1}{9} \\, {\\left(4 \\, e^{\\left(6 \\, x\\right)} - 2 \\, e^{\\left(3 \\, x\\right)} + 1\\right)} {\\left(2 \\, e^{\\left(3 \\, x\\right)} + 1\\right)} e^{\\left(-8 \\, x\\right)}\\)\n",
       "    "
      ],
      "text/plain": [
       "\n",
       "    La solución del problema de condiciones iniciales es\n",
       "    \\(u(x)=\\frac{1}{9} \\, {\\left(4 \\, e^{\\left(6 \\, x\\right)} - 2 \\, e^{\\left(3 \\, x\\right)} + 1\\right)} {\\left(2 \\, e^{\\left(3 \\, x\\right)} + 1\\right)} e^{\\left(-8 \\, x\\right)}\\)\n",
       "    "
      ]
     },
     "metadata": {},
     "output_type": "display_data"
    },
    {
     "data": {
      "text/html": [
       "\n",
       "    <h1> EDOs lineales de 2o Orden </h1>\n",
       "    <h2> Caso homogeneo </h2>\n",
       "    <p> Encuentre la solución \\(u(x)\\) de la siguiente ecuación diferencial\n",
       "    \\(u\\left(x\\right) - 10 \\, \\frac{\\partial}{\\partial x}u\\left(x\\right) + \\frac{\\partial^{2}}{(\\partial x)^{2}}u\\left(x\\right) = 0\\) con condiciones iniciales \\(u(0)=1, \\; u'(0)=1\\)\n",
       "    y evalue en el punto dado:</p>\n",
       "    <pre>\n",
       "    u(1.0) = {1:NM:=1827.78514658733:54.8335543976200}\n",
       "    </pre>\n",
       "    "
      ],
      "text/plain": [
       "\n",
       "    <h1> EDOs lineales de 2o Orden </h1>\n",
       "    <h2> Caso homogeneo </h2>\n",
       "    <p> Encuentre la solución \\(u(x)\\) de la siguiente ecuación diferencial\n",
       "    \\(u\\left(x\\right) - 10 \\, \\frac{\\partial}{\\partial x}u\\left(x\\right) + \\frac{\\partial^{2}}{(\\partial x)^{2}}u\\left(x\\right) = 0\\) con condiciones iniciales \\(u(0)=1, \\; u'(0)=1\\)\n",
       "    y evalue en el punto dado:</p>\n",
       "    <pre>\n",
       "    u(1.0) = {1:NM:=1827.78514658733:54.8335543976200}\n",
       "    </pre>\n",
       "    "
      ]
     },
     "metadata": {},
     "output_type": "display_data"
    },
    {
     "data": {
      "text/html": [
       "\n",
       "    La solución del problema de condiciones iniciales es\n",
       "    \\(u(x)=-\\frac{1}{6} \\, {\\left(\\sqrt{6} e^{\\left(4 \\, \\sqrt{6} x\\right)} - \\sqrt{6} - 3 \\, e^{\\left(4 \\, \\sqrt{6} x\\right)} - 3\\right)} e^{\\left(-2 \\, \\sqrt{6} x + 5 \\, x\\right)}\\)\n",
       "    "
      ],
      "text/plain": [
       "\n",
       "    La solución del problema de condiciones iniciales es\n",
       "    \\(u(x)=-\\frac{1}{6} \\, {\\left(\\sqrt{6} e^{\\left(4 \\, \\sqrt{6} x\\right)} - \\sqrt{6} - 3 \\, e^{\\left(4 \\, \\sqrt{6} x\\right)} - 3\\right)} e^{\\left(-2 \\, \\sqrt{6} x + 5 \\, x\\right)}\\)\n",
       "    "
      ]
     },
     "metadata": {},
     "output_type": "display_data"
    },
    {
     "data": {
      "text/html": [
       "\n",
       "    <h1> EDOs lineales de 2o Orden </h1>\n",
       "    <h2> Caso homogeneo </h2>\n",
       "    <p> Encuentre la solución \\(u(x)\\) de la siguiente ecuación diferencial\n",
       "    \\(3 \\, u\\left(x\\right) + 9 \\, \\frac{\\partial}{\\partial x}u\\left(x\\right) + \\frac{\\partial^{2}}{(\\partial x)^{2}}u\\left(x\\right) = 0\\) con condiciones iniciales \\(u(0)=1, \\; u'(0)=0\\)\n",
       "    y evalue en el punto dado:</p>\n",
       "    <pre>\n",
       "    u(1.74) = {1:NM:=0.569869220148363:0.0170960766044509}\n",
       "    </pre>\n",
       "    "
      ],
      "text/plain": [
       "\n",
       "    <h1> EDOs lineales de 2o Orden </h1>\n",
       "    <h2> Caso homogeneo </h2>\n",
       "    <p> Encuentre la solución \\(u(x)\\) de la siguiente ecuación diferencial\n",
       "    \\(3 \\, u\\left(x\\right) + 9 \\, \\frac{\\partial}{\\partial x}u\\left(x\\right) + \\frac{\\partial^{2}}{(\\partial x)^{2}}u\\left(x\\right) = 0\\) con condiciones iniciales \\(u(0)=1, \\; u'(0)=0\\)\n",
       "    y evalue en el punto dado:</p>\n",
       "    <pre>\n",
       "    u(1.74) = {1:NM:=0.569869220148363:0.0170960766044509}\n",
       "    </pre>\n",
       "    "
      ]
     },
     "metadata": {},
     "output_type": "display_data"
    },
    {
     "data": {
      "text/html": [
       "\n",
       "    La solución del problema de condiciones iniciales es\n",
       "    \\(u(x)=\\frac{1}{46} \\, {\\left(3 \\, \\sqrt{69} e^{\\left(\\sqrt{69} x\\right)} - 3 \\, \\sqrt{69} + 23 \\, e^{\\left(\\sqrt{69} x\\right)} + 23\\right)} e^{\\left(-\\frac{1}{2} \\, \\sqrt{69} x - \\frac{9}{2} \\, x\\right)}\\)\n",
       "    "
      ],
      "text/plain": [
       "\n",
       "    La solución del problema de condiciones iniciales es\n",
       "    \\(u(x)=\\frac{1}{46} \\, {\\left(3 \\, \\sqrt{69} e^{\\left(\\sqrt{69} x\\right)} - 3 \\, \\sqrt{69} + 23 \\, e^{\\left(\\sqrt{69} x\\right)} + 23\\right)} e^{\\left(-\\frac{1}{2} \\, \\sqrt{69} x - \\frac{9}{2} \\, x\\right)}\\)\n",
       "    "
      ]
     },
     "metadata": {},
     "output_type": "display_data"
    },
    {
     "data": {
      "text/html": [
       "\n",
       "    <h1> EDOs lineales de 2o Orden </h1>\n",
       "    <h2> Caso homogeneo </h2>\n",
       "    <p> Encuentre la solución \\(u(x)\\) de la siguiente ecuación diferencial\n",
       "    \\(3 \\, u\\left(x\\right) + 3 \\, \\frac{\\partial}{\\partial x}u\\left(x\\right) + \\frac{\\partial^{2}}{(\\partial x)^{2}}u\\left(x\\right) = 0\\) con condiciones iniciales \\(u(0)=1, \\; u'(0)=-1\\)\n",
       "    y evalue en el punto dado:</p>\n",
       "    <pre>\n",
       "    u(1.81) = {1:NM:=0.0384410773353971:0.00115323232006191}\n",
       "    </pre>\n",
       "    "
      ],
      "text/plain": [
       "\n",
       "    <h1> EDOs lineales de 2o Orden </h1>\n",
       "    <h2> Caso homogeneo </h2>\n",
       "    <p> Encuentre la solución \\(u(x)\\) de la siguiente ecuación diferencial\n",
       "    \\(3 \\, u\\left(x\\right) + 3 \\, \\frac{\\partial}{\\partial x}u\\left(x\\right) + \\frac{\\partial^{2}}{(\\partial x)^{2}}u\\left(x\\right) = 0\\) con condiciones iniciales \\(u(0)=1, \\; u'(0)=-1\\)\n",
       "    y evalue en el punto dado:</p>\n",
       "    <pre>\n",
       "    u(1.81) = {1:NM:=0.0384410773353971:0.00115323232006191}\n",
       "    </pre>\n",
       "    "
      ]
     },
     "metadata": {},
     "output_type": "display_data"
    },
    {
     "data": {
      "text/html": [
       "\n",
       "    La solución del problema de condiciones iniciales es\n",
       "    \\(u(x)=\\frac{1}{3} \\, {\\left(\\sqrt{3} \\sin\\left(\\frac{1}{2} \\, \\sqrt{3} x\\right) + 3 \\, \\cos\\left(\\frac{1}{2} \\, \\sqrt{3} x\\right)\\right)} e^{\\left(-\\frac{3}{2} \\, x\\right)}\\)\n",
       "    "
      ],
      "text/plain": [
       "\n",
       "    La solución del problema de condiciones iniciales es\n",
       "    \\(u(x)=\\frac{1}{3} \\, {\\left(\\sqrt{3} \\sin\\left(\\frac{1}{2} \\, \\sqrt{3} x\\right) + 3 \\, \\cos\\left(\\frac{1}{2} \\, \\sqrt{3} x\\right)\\right)} e^{\\left(-\\frac{3}{2} \\, x\\right)}\\)\n",
       "    "
      ]
     },
     "metadata": {},
     "output_type": "display_data"
    },
    {
     "data": {
      "text/html": [
       "\n",
       "    <h1> EDOs lineales de 2o Orden </h1>\n",
       "    <h2> Caso homogeneo </h2>\n",
       "    <p> Encuentre la solución \\(u(x)\\) de la siguiente ecuación diferencial\n",
       "    \\(4 \\, u\\left(x\\right) + 5 \\, \\frac{\\partial}{\\partial x}u\\left(x\\right) + \\frac{\\partial^{2}}{(\\partial x)^{2}}u\\left(x\\right) = 0\\) con condiciones iniciales \\(u(0)=0, \\; u'(0)=-1\\)\n",
       "    y evalue en el punto dado:</p>\n",
       "    <pre>\n",
       "    u(1.41) = {1:NM:=-0.0801968049157386:-0.00240590414747216}\n",
       "    </pre>\n",
       "    "
      ],
      "text/plain": [
       "\n",
       "    <h1> EDOs lineales de 2o Orden </h1>\n",
       "    <h2> Caso homogeneo </h2>\n",
       "    <p> Encuentre la solución \\(u(x)\\) de la siguiente ecuación diferencial\n",
       "    \\(4 \\, u\\left(x\\right) + 5 \\, \\frac{\\partial}{\\partial x}u\\left(x\\right) + \\frac{\\partial^{2}}{(\\partial x)^{2}}u\\left(x\\right) = 0\\) con condiciones iniciales \\(u(0)=0, \\; u'(0)=-1\\)\n",
       "    y evalue en el punto dado:</p>\n",
       "    <pre>\n",
       "    u(1.41) = {1:NM:=-0.0801968049157386:-0.00240590414747216}\n",
       "    </pre>\n",
       "    "
      ]
     },
     "metadata": {},
     "output_type": "display_data"
    },
    {
     "data": {
      "text/html": [
       "\n",
       "    La solución del problema de condiciones iniciales es\n",
       "    \\(u(x)=-\\frac{1}{3} \\, {\\left(e^{\\left(2 \\, x\\right)} + e^{x} + 1\\right)} {\\left(e^{x} - 1\\right)} e^{\\left(-4 \\, x\\right)}\\)\n",
       "    "
      ],
      "text/plain": [
       "\n",
       "    La solución del problema de condiciones iniciales es\n",
       "    \\(u(x)=-\\frac{1}{3} \\, {\\left(e^{\\left(2 \\, x\\right)} + e^{x} + 1\\right)} {\\left(e^{x} - 1\\right)} e^{\\left(-4 \\, x\\right)}\\)\n",
       "    "
      ]
     },
     "metadata": {},
     "output_type": "display_data"
    },
    {
     "data": {
      "text/html": [
       "\n",
       "    <h1> EDOs lineales de 2o Orden </h1>\n",
       "    <h2> Caso homogeneo </h2>\n",
       "    <p> Encuentre la solución \\(u(x)\\) de la siguiente ecuación diferencial\n",
       "    \\(u\\left(x\\right) + 4 \\, \\frac{\\partial}{\\partial x}u\\left(x\\right) + \\frac{\\partial^{2}}{(\\partial x)^{2}}u\\left(x\\right) = 0\\) con condiciones iniciales \\(u(0)=0, \\; u'(0)=-1\\)\n",
       "    y evalue en el punto dado:</p>\n",
       "    <pre>\n",
       "    u(1.78) = {1:NM:=-0.178796945419569:-0.00536390836258707}\n",
       "    </pre>\n",
       "    "
      ],
      "text/plain": [
       "\n",
       "    <h1> EDOs lineales de 2o Orden </h1>\n",
       "    <h2> Caso homogeneo </h2>\n",
       "    <p> Encuentre la solución \\(u(x)\\) de la siguiente ecuación diferencial\n",
       "    \\(u\\left(x\\right) + 4 \\, \\frac{\\partial}{\\partial x}u\\left(x\\right) + \\frac{\\partial^{2}}{(\\partial x)^{2}}u\\left(x\\right) = 0\\) con condiciones iniciales \\(u(0)=0, \\; u'(0)=-1\\)\n",
       "    y evalue en el punto dado:</p>\n",
       "    <pre>\n",
       "    u(1.78) = {1:NM:=-0.178796945419569:-0.00536390836258707}\n",
       "    </pre>\n",
       "    "
      ]
     },
     "metadata": {},
     "output_type": "display_data"
    },
    {
     "data": {
      "text/html": [
       "\n",
       "    La solución del problema de condiciones iniciales es\n",
       "    \\(u(x)=-\\frac{1}{6} \\, \\sqrt{3} {\\left(e^{\\left(\\sqrt{3} x\\right)} + 1\\right)} {\\left(e^{\\left(\\sqrt{3} x\\right)} - 1\\right)} e^{\\left(-\\sqrt{3} x - 2 \\, x\\right)}\\)\n",
       "    "
      ],
      "text/plain": [
       "\n",
       "    La solución del problema de condiciones iniciales es\n",
       "    \\(u(x)=-\\frac{1}{6} \\, \\sqrt{3} {\\left(e^{\\left(\\sqrt{3} x\\right)} + 1\\right)} {\\left(e^{\\left(\\sqrt{3} x\\right)} - 1\\right)} e^{\\left(-\\sqrt{3} x - 2 \\, x\\right)}\\)\n",
       "    "
      ]
     },
     "metadata": {},
     "output_type": "display_data"
    },
    {
     "data": {
      "text/html": [
       "\n",
       "    <h1> EDOs lineales de 2o Orden </h1>\n",
       "    <h2> Caso homogeneo </h2>\n",
       "    <p> Encuentre la solución \\(u(x)\\) de la siguiente ecuación diferencial\n",
       "    \\(2 \\, \\frac{\\partial}{\\partial x}u\\left(x\\right) + \\frac{\\partial^{2}}{(\\partial x)^{2}}u\\left(x\\right) = 0\\) con condiciones iniciales \\(u(0)=-1, \\; u'(0)=0\\)\n",
       "    y evalue en el punto dado:</p>\n",
       "    <pre>\n",
       "    u(1.56) = {1:NM:=-1.00000000000000:-0.0300000000000000}\n",
       "    </pre>\n",
       "    "
      ],
      "text/plain": [
       "\n",
       "    <h1> EDOs lineales de 2o Orden </h1>\n",
       "    <h2> Caso homogeneo </h2>\n",
       "    <p> Encuentre la solución \\(u(x)\\) de la siguiente ecuación diferencial\n",
       "    \\(2 \\, \\frac{\\partial}{\\partial x}u\\left(x\\right) + \\frac{\\partial^{2}}{(\\partial x)^{2}}u\\left(x\\right) = 0\\) con condiciones iniciales \\(u(0)=-1, \\; u'(0)=0\\)\n",
       "    y evalue en el punto dado:</p>\n",
       "    <pre>\n",
       "    u(1.56) = {1:NM:=-1.00000000000000:-0.0300000000000000}\n",
       "    </pre>\n",
       "    "
      ]
     },
     "metadata": {},
     "output_type": "display_data"
    },
    {
     "data": {
      "text/html": [
       "\n",
       "    La solución del problema de condiciones iniciales es\n",
       "    \\(u(x)=-1\\)\n",
       "    "
      ],
      "text/plain": [
       "\n",
       "    La solución del problema de condiciones iniciales es\n",
       "    \\(u(x)=-1\\)\n",
       "    "
      ]
     },
     "metadata": {},
     "output_type": "display_data"
    },
    {
     "data": {
      "text/html": [
       "\n",
       "    <h1> EDOs lineales de 2o Orden </h1>\n",
       "    <h2> Caso homogeneo </h2>\n",
       "    <p> Encuentre la solución \\(u(x)\\) de la siguiente ecuación diferencial\n",
       "    \\(7 \\, u\\left(x\\right) - 5 \\, \\frac{\\partial}{\\partial x}u\\left(x\\right) + \\frac{\\partial^{2}}{(\\partial x)^{2}}u\\left(x\\right) = 0\\) con condiciones iniciales \\(u(0)=1, \\; u'(0)=-1\\)\n",
       "    y evalue en el punto dado:</p>\n",
       "    <pre>\n",
       "    u(1.82) = {1:NM:=-382.954975628077:-11.4886492688423}\n",
       "    </pre>\n",
       "    "
      ],
      "text/plain": [
       "\n",
       "    <h1> EDOs lineales de 2o Orden </h1>\n",
       "    <h2> Caso homogeneo </h2>\n",
       "    <p> Encuentre la solución \\(u(x)\\) de la siguiente ecuación diferencial\n",
       "    \\(7 \\, u\\left(x\\right) - 5 \\, \\frac{\\partial}{\\partial x}u\\left(x\\right) + \\frac{\\partial^{2}}{(\\partial x)^{2}}u\\left(x\\right) = 0\\) con condiciones iniciales \\(u(0)=1, \\; u'(0)=-1\\)\n",
       "    y evalue en el punto dado:</p>\n",
       "    <pre>\n",
       "    u(1.82) = {1:NM:=-382.954975628077:-11.4886492688423}\n",
       "    </pre>\n",
       "    "
      ]
     },
     "metadata": {},
     "output_type": "display_data"
    },
    {
     "data": {
      "text/html": [
       "\n",
       "    La solución del problema de condiciones iniciales es\n",
       "    \\(u(x)=\\frac{1}{3} \\, \\sqrt{3} {\\left(\\sqrt{3} \\cos\\left(\\frac{1}{2} \\, \\sqrt{3} x\\right) - 7 \\, \\sin\\left(\\frac{1}{2} \\, \\sqrt{3} x\\right)\\right)} e^{\\left(\\frac{5}{2} \\, x\\right)}\\)\n",
       "    "
      ],
      "text/plain": [
       "\n",
       "    La solución del problema de condiciones iniciales es\n",
       "    \\(u(x)=\\frac{1}{3} \\, \\sqrt{3} {\\left(\\sqrt{3} \\cos\\left(\\frac{1}{2} \\, \\sqrt{3} x\\right) - 7 \\, \\sin\\left(\\frac{1}{2} \\, \\sqrt{3} x\\right)\\right)} e^{\\left(\\frac{5}{2} \\, x\\right)}\\)\n",
       "    "
      ]
     },
     "metadata": {},
     "output_type": "display_data"
    },
    {
     "data": {
      "text/html": [
       "\n",
       "    <h1> EDOs lineales de 2o Orden </h1>\n",
       "    <h2> Caso homogeneo </h2>\n",
       "    <p> Encuentre la solución \\(u(x)\\) de la siguiente ecuación diferencial\n",
       "    \\(2 \\, u\\left(x\\right) - 9 \\, \\frac{\\partial}{\\partial x}u\\left(x\\right) + \\frac{\\partial^{2}}{(\\partial x)^{2}}u\\left(x\\right) = 0\\) con condiciones iniciales \\(u(0)=0, \\; u'(0)=-1\\)\n",
       "    y evalue en el punto dado:</p>\n",
       "    <pre>\n",
       "    u(1.91) = {1:NM:=-2.21174814005882e6:-66352.4442017645}\n",
       "    </pre>\n",
       "    "
      ],
      "text/plain": [
       "\n",
       "    <h1> EDOs lineales de 2o Orden </h1>\n",
       "    <h2> Caso homogeneo </h2>\n",
       "    <p> Encuentre la solución \\(u(x)\\) de la siguiente ecuación diferencial\n",
       "    \\(2 \\, u\\left(x\\right) - 9 \\, \\frac{\\partial}{\\partial x}u\\left(x\\right) + \\frac{\\partial^{2}}{(\\partial x)^{2}}u\\left(x\\right) = 0\\) con condiciones iniciales \\(u(0)=0, \\; u'(0)=-1\\)\n",
       "    y evalue en el punto dado:</p>\n",
       "    <pre>\n",
       "    u(1.91) = {1:NM:=-2.21174814005882e6:-66352.4442017645}\n",
       "    </pre>\n",
       "    "
      ]
     },
     "metadata": {},
     "output_type": "display_data"
    },
    {
     "data": {
      "text/html": [
       "\n",
       "    La solución del problema de condiciones iniciales es\n",
       "    \\(u(x)=-\\frac{1}{73} \\, \\sqrt{73} {\\left(e^{\\left(\\sqrt{73} x\\right)} - 1\\right)} e^{\\left(-\\frac{1}{2} \\, \\sqrt{73} x + \\frac{9}{2} \\, x\\right)}\\)\n",
       "    "
      ],
      "text/plain": [
       "\n",
       "    La solución del problema de condiciones iniciales es\n",
       "    \\(u(x)=-\\frac{1}{73} \\, \\sqrt{73} {\\left(e^{\\left(\\sqrt{73} x\\right)} - 1\\right)} e^{\\left(-\\frac{1}{2} \\, \\sqrt{73} x + \\frac{9}{2} \\, x\\right)}\\)\n",
       "    "
      ]
     },
     "metadata": {},
     "output_type": "display_data"
    },
    {
     "data": {
      "text/html": [
       "\n",
       "    <h1> EDOs lineales de 2o Orden </h1>\n",
       "    <h2> Caso homogeneo </h2>\n",
       "    <p> Encuentre la solución \\(u(x)\\) de la siguiente ecuación diferencial\n",
       "    \\(-u\\left(x\\right) - 9 \\, \\frac{\\partial}{\\partial x}u\\left(x\\right) + \\frac{\\partial^{2}}{(\\partial x)^{2}}u\\left(x\\right) = 0\\) con condiciones iniciales \\(u(0)=-1, \\; u'(0)=1\\)\n",
       "    y evalue en el punto dado:</p>\n",
       "    <pre>\n",
       "    u(1.98) = {1:NM:=6.58131626965638e6:197439.488089691}\n",
       "    </pre>\n",
       "    "
      ],
      "text/plain": [
       "\n",
       "    <h1> EDOs lineales de 2o Orden </h1>\n",
       "    <h2> Caso homogeneo </h2>\n",
       "    <p> Encuentre la solución \\(u(x)\\) de la siguiente ecuación diferencial\n",
       "    \\(-u\\left(x\\right) - 9 \\, \\frac{\\partial}{\\partial x}u\\left(x\\right) + \\frac{\\partial^{2}}{(\\partial x)^{2}}u\\left(x\\right) = 0\\) con condiciones iniciales \\(u(0)=-1, \\; u'(0)=1\\)\n",
       "    y evalue en el punto dado:</p>\n",
       "    <pre>\n",
       "    u(1.98) = {1:NM:=6.58131626965638e6:197439.488089691}\n",
       "    </pre>\n",
       "    "
      ]
     },
     "metadata": {},
     "output_type": "display_data"
    },
    {
     "data": {
      "text/html": [
       "\n",
       "    La solución del problema de condiciones iniciales es\n",
       "    \\(u(x)=\\frac{1}{170} \\, {\\left(11 \\, \\sqrt{85} e^{\\left(\\sqrt{85} x\\right)} - 11 \\, \\sqrt{85} - 85 \\, e^{\\left(\\sqrt{85} x\\right)} - 85\\right)} e^{\\left(-\\frac{1}{2} \\, \\sqrt{85} x + \\frac{9}{2} \\, x\\right)}\\)\n",
       "    "
      ],
      "text/plain": [
       "\n",
       "    La solución del problema de condiciones iniciales es\n",
       "    \\(u(x)=\\frac{1}{170} \\, {\\left(11 \\, \\sqrt{85} e^{\\left(\\sqrt{85} x\\right)} - 11 \\, \\sqrt{85} - 85 \\, e^{\\left(\\sqrt{85} x\\right)} - 85\\right)} e^{\\left(-\\frac{1}{2} \\, \\sqrt{85} x + \\frac{9}{2} \\, x\\right)}\\)\n",
       "    "
      ]
     },
     "metadata": {},
     "output_type": "display_data"
    },
    {
     "data": {
      "text/html": [
       "\n",
       "    <h1> EDOs lineales de 2o Orden </h1>\n",
       "    <h2> Caso homogeneo </h2>\n",
       "    <p> Encuentre la solución \\(u(x)\\) de la siguiente ecuación diferencial\n",
       "    \\(6 \\, u\\left(x\\right) + \\frac{\\partial}{\\partial x}u\\left(x\\right) + \\frac{\\partial^{2}}{(\\partial x)^{2}}u\\left(x\\right) = 0\\) con condiciones iniciales \\(u(0)=-1, \\; u'(0)=0\\)\n",
       "    y evalue en el punto dado:</p>\n",
       "    <pre>\n",
       "    u(1.38) = {1:NM:=0.511993266340777:0.0153597979902233}\n",
       "    </pre>\n",
       "    "
      ],
      "text/plain": [
       "\n",
       "    <h1> EDOs lineales de 2o Orden </h1>\n",
       "    <h2> Caso homogeneo </h2>\n",
       "    <p> Encuentre la solución \\(u(x)\\) de la siguiente ecuación diferencial\n",
       "    \\(6 \\, u\\left(x\\right) + \\frac{\\partial}{\\partial x}u\\left(x\\right) + \\frac{\\partial^{2}}{(\\partial x)^{2}}u\\left(x\\right) = 0\\) con condiciones iniciales \\(u(0)=-1, \\; u'(0)=0\\)\n",
       "    y evalue en el punto dado:</p>\n",
       "    <pre>\n",
       "    u(1.38) = {1:NM:=0.511993266340777:0.0153597979902233}\n",
       "    </pre>\n",
       "    "
      ]
     },
     "metadata": {},
     "output_type": "display_data"
    },
    {
     "data": {
      "text/html": [
       "\n",
       "    La solución del problema de condiciones iniciales es\n",
       "    \\(u(x)=-\\frac{1}{23} \\, {\\left(\\sqrt{23} \\sin\\left(\\frac{1}{2} \\, \\sqrt{23} x\\right) + 23 \\, \\cos\\left(\\frac{1}{2} \\, \\sqrt{23} x\\right)\\right)} e^{\\left(-\\frac{1}{2} \\, x\\right)}\\)\n",
       "    "
      ],
      "text/plain": [
       "\n",
       "    La solución del problema de condiciones iniciales es\n",
       "    \\(u(x)=-\\frac{1}{23} \\, {\\left(\\sqrt{23} \\sin\\left(\\frac{1}{2} \\, \\sqrt{23} x\\right) + 23 \\, \\cos\\left(\\frac{1}{2} \\, \\sqrt{23} x\\right)\\right)} e^{\\left(-\\frac{1}{2} \\, x\\right)}\\)\n",
       "    "
      ]
     },
     "metadata": {},
     "output_type": "display_data"
    },
    {
     "data": {
      "text/html": [
       "\n",
       "    <h1> EDOs lineales de 2o Orden </h1>\n",
       "    <h2> Caso homogeneo </h2>\n",
       "    <p> Encuentre la solución \\(u(x)\\) de la siguiente ecuación diferencial\n",
       "    \\(u\\left(x\\right) + 6 \\, \\frac{\\partial}{\\partial x}u\\left(x\\right) + \\frac{\\partial^{2}}{(\\partial x)^{2}}u\\left(x\\right) = 0\\) con condiciones iniciales \\(u(0)=1, \\; u'(0)=0\\)\n",
       "    y evalue en el punto dado:</p>\n",
       "    <pre>\n",
       "    u(1.25) = {1:NM:=0.831426920011017:0.0249428076003305}\n",
       "    </pre>\n",
       "    "
      ],
      "text/plain": [
       "\n",
       "    <h1> EDOs lineales de 2o Orden </h1>\n",
       "    <h2> Caso homogeneo </h2>\n",
       "    <p> Encuentre la solución \\(u(x)\\) de la siguiente ecuación diferencial\n",
       "    \\(u\\left(x\\right) + 6 \\, \\frac{\\partial}{\\partial x}u\\left(x\\right) + \\frac{\\partial^{2}}{(\\partial x)^{2}}u\\left(x\\right) = 0\\) con condiciones iniciales \\(u(0)=1, \\; u'(0)=0\\)\n",
       "    y evalue en el punto dado:</p>\n",
       "    <pre>\n",
       "    u(1.25) = {1:NM:=0.831426920011017:0.0249428076003305}\n",
       "    </pre>\n",
       "    "
      ]
     },
     "metadata": {},
     "output_type": "display_data"
    },
    {
     "data": {
      "text/html": [
       "\n",
       "    La solución del problema de condiciones iniciales es\n",
       "    \\(u(x)=\\frac{1}{8} \\, {\\left(3 \\, \\sqrt{2} e^{\\left(4 \\, \\sqrt{2} x\\right)} - 3 \\, \\sqrt{2} + 4 \\, e^{\\left(4 \\, \\sqrt{2} x\\right)} + 4\\right)} e^{\\left(-2 \\, \\sqrt{2} x - 3 \\, x\\right)}\\)\n",
       "    "
      ],
      "text/plain": [
       "\n",
       "    La solución del problema de condiciones iniciales es\n",
       "    \\(u(x)=\\frac{1}{8} \\, {\\left(3 \\, \\sqrt{2} e^{\\left(4 \\, \\sqrt{2} x\\right)} - 3 \\, \\sqrt{2} + 4 \\, e^{\\left(4 \\, \\sqrt{2} x\\right)} + 4\\right)} e^{\\left(-2 \\, \\sqrt{2} x - 3 \\, x\\right)}\\)\n",
       "    "
      ]
     },
     "metadata": {},
     "output_type": "display_data"
    },
    {
     "data": {
      "text/html": [
       "\n",
       "    <h1> EDOs lineales de 2o Orden </h1>\n",
       "    <h2> Caso homogeneo </h2>\n",
       "    <p> Encuentre la solución \\(u(x)\\) de la siguiente ecuación diferencial\n",
       "    \\(5 \\, u\\left(x\\right) + 7 \\, \\frac{\\partial}{\\partial x}u\\left(x\\right) + \\frac{\\partial^{2}}{(\\partial x)^{2}}u\\left(x\\right) = 0\\) con condiciones iniciales \\(u(0)=-1, \\; u'(0)=-1\\)\n",
       "    y evalue en el punto dado:</p>\n",
       "    <pre>\n",
       "    u(1.72) = {1:NM:=-0.333077607674087:-0.00999232823022261}\n",
       "    </pre>\n",
       "    "
      ],
      "text/plain": [
       "\n",
       "    <h1> EDOs lineales de 2o Orden </h1>\n",
       "    <h2> Caso homogeneo </h2>\n",
       "    <p> Encuentre la solución \\(u(x)\\) de la siguiente ecuación diferencial\n",
       "    \\(5 \\, u\\left(x\\right) + 7 \\, \\frac{\\partial}{\\partial x}u\\left(x\\right) + \\frac{\\partial^{2}}{(\\partial x)^{2}}u\\left(x\\right) = 0\\) con condiciones iniciales \\(u(0)=-1, \\; u'(0)=-1\\)\n",
       "    y evalue en el punto dado:</p>\n",
       "    <pre>\n",
       "    u(1.72) = {1:NM:=-0.333077607674087:-0.00999232823022261}\n",
       "    </pre>\n",
       "    "
      ]
     },
     "metadata": {},
     "output_type": "display_data"
    },
    {
     "data": {
      "text/html": [
       "\n",
       "    La solución del problema de condiciones iniciales es\n",
       "    \\(u(x)=-\\frac{1}{58} \\, {\\left(9 \\, \\sqrt{29} e^{\\left(\\sqrt{29} x\\right)} - 9 \\, \\sqrt{29} + 29 \\, e^{\\left(\\sqrt{29} x\\right)} + 29\\right)} e^{\\left(-\\frac{1}{2} \\, \\sqrt{29} x - \\frac{7}{2} \\, x\\right)}\\)\n",
       "    "
      ],
      "text/plain": [
       "\n",
       "    La solución del problema de condiciones iniciales es\n",
       "    \\(u(x)=-\\frac{1}{58} \\, {\\left(9 \\, \\sqrt{29} e^{\\left(\\sqrt{29} x\\right)} - 9 \\, \\sqrt{29} + 29 \\, e^{\\left(\\sqrt{29} x\\right)} + 29\\right)} e^{\\left(-\\frac{1}{2} \\, \\sqrt{29} x - \\frac{7}{2} \\, x\\right)}\\)\n",
       "    "
      ]
     },
     "metadata": {},
     "output_type": "display_data"
    },
    {
     "data": {
      "text/html": [
       "\n",
       "    <h1> EDOs lineales de 2o Orden </h1>\n",
       "    <h2> Caso homogeneo </h2>\n",
       "    <p> Encuentre la solución \\(u(x)\\) de la siguiente ecuación diferencial\n",
       "    \\(4 \\, u\\left(x\\right) - 10 \\, \\frac{\\partial}{\\partial x}u\\left(x\\right) + \\frac{\\partial^{2}}{(\\partial x)^{2}}u\\left(x\\right) = 0\\) con condiciones iniciales \\(u(0)=1, \\; u'(0)=0\\)\n",
       "    y evalue en el punto dado:</p>\n",
       "    <pre>\n",
       "    u(1.63) = {1:NM:=-276656.090773307:-8299.68272319921}\n",
       "    </pre>\n",
       "    "
      ],
      "text/plain": [
       "\n",
       "    <h1> EDOs lineales de 2o Orden </h1>\n",
       "    <h2> Caso homogeneo </h2>\n",
       "    <p> Encuentre la solución \\(u(x)\\) de la siguiente ecuación diferencial\n",
       "    \\(4 \\, u\\left(x\\right) - 10 \\, \\frac{\\partial}{\\partial x}u\\left(x\\right) + \\frac{\\partial^{2}}{(\\partial x)^{2}}u\\left(x\\right) = 0\\) con condiciones iniciales \\(u(0)=1, \\; u'(0)=0\\)\n",
       "    y evalue en el punto dado:</p>\n",
       "    <pre>\n",
       "    u(1.63) = {1:NM:=-276656.090773307:-8299.68272319921}\n",
       "    </pre>\n",
       "    "
      ]
     },
     "metadata": {},
     "output_type": "display_data"
    },
    {
     "data": {
      "text/html": [
       "\n",
       "    La solución del problema de condiciones iniciales es\n",
       "    \\(u(x)=-\\frac{1}{42} \\, {\\left(5 \\, \\sqrt{21} e^{\\left(2 \\, \\sqrt{21} x\\right)} - 5 \\, \\sqrt{21} - 21 \\, e^{\\left(2 \\, \\sqrt{21} x\\right)} - 21\\right)} e^{\\left(-\\sqrt{21} x + 5 \\, x\\right)}\\)\n",
       "    "
      ],
      "text/plain": [
       "\n",
       "    La solución del problema de condiciones iniciales es\n",
       "    \\(u(x)=-\\frac{1}{42} \\, {\\left(5 \\, \\sqrt{21} e^{\\left(2 \\, \\sqrt{21} x\\right)} - 5 \\, \\sqrt{21} - 21 \\, e^{\\left(2 \\, \\sqrt{21} x\\right)} - 21\\right)} e^{\\left(-\\sqrt{21} x + 5 \\, x\\right)}\\)\n",
       "    "
      ]
     },
     "metadata": {},
     "output_type": "display_data"
    },
    {
     "data": {
      "text/html": [
       "\n",
       "    <h1> EDOs lineales de 2o Orden </h1>\n",
       "    <h2> Caso homogeneo </h2>\n",
       "    <p> Encuentre la solución \\(u(x)\\) de la siguiente ecuación diferencial\n",
       "    \\(7 \\, u\\left(x\\right) + 8 \\, \\frac{\\partial}{\\partial x}u\\left(x\\right) + \\frac{\\partial^{2}}{(\\partial x)^{2}}u\\left(x\\right) = 0\\) con condiciones iniciales \\(u(0)=-1, \\; u'(0)=1\\)\n",
       "    y evalue en el punto dado:</p>\n",
       "    <pre>\n",
       "    u(1.18) = {1:NM:=-0.307278738601131:-0.00921836215803394}\n",
       "    </pre>\n",
       "    "
      ],
      "text/plain": [
       "\n",
       "    <h1> EDOs lineales de 2o Orden </h1>\n",
       "    <h2> Caso homogeneo </h2>\n",
       "    <p> Encuentre la solución \\(u(x)\\) de la siguiente ecuación diferencial\n",
       "    \\(7 \\, u\\left(x\\right) + 8 \\, \\frac{\\partial}{\\partial x}u\\left(x\\right) + \\frac{\\partial^{2}}{(\\partial x)^{2}}u\\left(x\\right) = 0\\) con condiciones iniciales \\(u(0)=-1, \\; u'(0)=1\\)\n",
       "    y evalue en el punto dado:</p>\n",
       "    <pre>\n",
       "    u(1.18) = {1:NM:=-0.307278738601131:-0.00921836215803394}\n",
       "    </pre>\n",
       "    "
      ]
     },
     "metadata": {},
     "output_type": "display_data"
    },
    {
     "data": {
      "text/html": [
       "\n",
       "    La solución del problema de condiciones iniciales es\n",
       "    \\(u(x)=-e^{\\left(-x\\right)}\\)\n",
       "    "
      ],
      "text/plain": [
       "\n",
       "    La solución del problema de condiciones iniciales es\n",
       "    \\(u(x)=-e^{\\left(-x\\right)}\\)\n",
       "    "
      ]
     },
     "metadata": {},
     "output_type": "display_data"
    },
    {
     "data": {
      "text/html": [
       "\n",
       "    <h1> EDOs lineales de 2o Orden </h1>\n",
       "    <h2> Caso homogeneo </h2>\n",
       "    <p> Encuentre la solución \\(u(x)\\) de la siguiente ecuación diferencial\n",
       "    \\(9 \\, u\\left(x\\right) + 5 \\, \\frac{\\partial}{\\partial x}u\\left(x\\right) + \\frac{\\partial^{2}}{(\\partial x)^{2}}u\\left(x\\right) = 0\\) con condiciones iniciales \\(u(0)=-1, \\; u'(0)=-1\\)\n",
       "    y evalue en el punto dado:</p>\n",
       "    <pre>\n",
       "    u(1.76) = {1:NM:=0.00624370363020293:0.000187311108906088}\n",
       "    </pre>\n",
       "    "
      ],
      "text/plain": [
       "\n",
       "    <h1> EDOs lineales de 2o Orden </h1>\n",
       "    <h2> Caso homogeneo </h2>\n",
       "    <p> Encuentre la solución \\(u(x)\\) de la siguiente ecuación diferencial\n",
       "    \\(9 \\, u\\left(x\\right) + 5 \\, \\frac{\\partial}{\\partial x}u\\left(x\\right) + \\frac{\\partial^{2}}{(\\partial x)^{2}}u\\left(x\\right) = 0\\) con condiciones iniciales \\(u(0)=-1, \\; u'(0)=-1\\)\n",
       "    y evalue en el punto dado:</p>\n",
       "    <pre>\n",
       "    u(1.76) = {1:NM:=0.00624370363020293:0.000187311108906088}\n",
       "    </pre>\n",
       "    "
      ]
     },
     "metadata": {},
     "output_type": "display_data"
    },
    {
     "data": {
      "text/html": [
       "\n",
       "    La solución del problema de condiciones iniciales es\n",
       "    \\(u(x)=-\\frac{1}{11} \\, {\\left(7 \\, \\sqrt{11} \\sin\\left(\\frac{1}{2} \\, \\sqrt{11} x\\right) + 11 \\, \\cos\\left(\\frac{1}{2} \\, \\sqrt{11} x\\right)\\right)} e^{\\left(-\\frac{5}{2} \\, x\\right)}\\)\n",
       "    "
      ],
      "text/plain": [
       "\n",
       "    La solución del problema de condiciones iniciales es\n",
       "    \\(u(x)=-\\frac{1}{11} \\, {\\left(7 \\, \\sqrt{11} \\sin\\left(\\frac{1}{2} \\, \\sqrt{11} x\\right) + 11 \\, \\cos\\left(\\frac{1}{2} \\, \\sqrt{11} x\\right)\\right)} e^{\\left(-\\frac{5}{2} \\, x\\right)}\\)\n",
       "    "
      ]
     },
     "metadata": {},
     "output_type": "display_data"
    },
    {
     "data": {
      "text/html": [
       "\n",
       "    <h1> EDOs lineales de 2o Orden </h1>\n",
       "    <h2> Caso homogeneo </h2>\n",
       "    <p> Encuentre la solución \\(u(x)\\) de la siguiente ecuación diferencial\n",
       "    \\(4 \\, u\\left(x\\right) - 10 \\, \\frac{\\partial}{\\partial x}u\\left(x\\right) + \\frac{\\partial^{2}}{(\\partial x)^{2}}u\\left(x\\right) = 0\\) con condiciones iniciales \\(u(0)=1, \\; u'(0)=-1\\)\n",
       "    y evalue en el punto dado:</p>\n",
       "    <pre>\n",
       "    u(1.93) = {1:NM:=-1.66480540133988e7:-499441.620401965}\n",
       "    </pre>\n",
       "    "
      ],
      "text/plain": [
       "\n",
       "    <h1> EDOs lineales de 2o Orden </h1>\n",
       "    <h2> Caso homogeneo </h2>\n",
       "    <p> Encuentre la solución \\(u(x)\\) de la siguiente ecuación diferencial\n",
       "    \\(4 \\, u\\left(x\\right) - 10 \\, \\frac{\\partial}{\\partial x}u\\left(x\\right) + \\frac{\\partial^{2}}{(\\partial x)^{2}}u\\left(x\\right) = 0\\) con condiciones iniciales \\(u(0)=1, \\; u'(0)=-1\\)\n",
       "    y evalue en el punto dado:</p>\n",
       "    <pre>\n",
       "    u(1.93) = {1:NM:=-1.66480540133988e7:-499441.620401965}\n",
       "    </pre>\n",
       "    "
      ]
     },
     "metadata": {},
     "output_type": "display_data"
    },
    {
     "data": {
      "text/html": [
       "\n",
       "    La solución del problema de condiciones iniciales es\n",
       "    \\(u(x)=-\\frac{1}{14} \\, {\\left(2 \\, \\sqrt{21} e^{\\left(2 \\, \\sqrt{21} x\\right)} - 2 \\, \\sqrt{21} - 7 \\, e^{\\left(2 \\, \\sqrt{21} x\\right)} - 7\\right)} e^{\\left(-\\sqrt{21} x + 5 \\, x\\right)}\\)\n",
       "    "
      ],
      "text/plain": [
       "\n",
       "    La solución del problema de condiciones iniciales es\n",
       "    \\(u(x)=-\\frac{1}{14} \\, {\\left(2 \\, \\sqrt{21} e^{\\left(2 \\, \\sqrt{21} x\\right)} - 2 \\, \\sqrt{21} - 7 \\, e^{\\left(2 \\, \\sqrt{21} x\\right)} - 7\\right)} e^{\\left(-\\sqrt{21} x + 5 \\, x\\right)}\\)\n",
       "    "
      ]
     },
     "metadata": {},
     "output_type": "display_data"
    },
    {
     "data": {
      "text/html": [
       "\n",
       "    <h1> EDOs lineales de 2o Orden </h1>\n",
       "    <h2> Caso homogeneo </h2>\n",
       "    <p> Encuentre la solución \\(u(x)\\) de la siguiente ecuación diferencial\n",
       "    \\(5 \\, \\frac{\\partial}{\\partial x}u\\left(x\\right) + \\frac{\\partial^{2}}{(\\partial x)^{2}}u\\left(x\\right) = 0\\) con condiciones iniciales \\(u(0)=-1, \\; u'(0)=0\\)\n",
       "    y evalue en el punto dado:</p>\n",
       "    <pre>\n",
       "    u(1.52) = {1:NM:=-1.00000000000000:-0.0300000000000000}\n",
       "    </pre>\n",
       "    "
      ],
      "text/plain": [
       "\n",
       "    <h1> EDOs lineales de 2o Orden </h1>\n",
       "    <h2> Caso homogeneo </h2>\n",
       "    <p> Encuentre la solución \\(u(x)\\) de la siguiente ecuación diferencial\n",
       "    \\(5 \\, \\frac{\\partial}{\\partial x}u\\left(x\\right) + \\frac{\\partial^{2}}{(\\partial x)^{2}}u\\left(x\\right) = 0\\) con condiciones iniciales \\(u(0)=-1, \\; u'(0)=0\\)\n",
       "    y evalue en el punto dado:</p>\n",
       "    <pre>\n",
       "    u(1.52) = {1:NM:=-1.00000000000000:-0.0300000000000000}\n",
       "    </pre>\n",
       "    "
      ]
     },
     "metadata": {},
     "output_type": "display_data"
    },
    {
     "data": {
      "text/html": [
       "\n",
       "    La solución del problema de condiciones iniciales es\n",
       "    \\(u(x)=-1\\)\n",
       "    "
      ],
      "text/plain": [
       "\n",
       "    La solución del problema de condiciones iniciales es\n",
       "    \\(u(x)=-1\\)\n",
       "    "
      ]
     },
     "metadata": {},
     "output_type": "display_data"
    },
    {
     "data": {
      "text/html": [
       "\n",
       "    <h1> EDOs lineales de 2o Orden </h1>\n",
       "    <h2> Caso homogeneo </h2>\n",
       "    <p> Encuentre la solución \\(u(x)\\) de la siguiente ecuación diferencial\n",
       "    \\(9 \\, u\\left(x\\right) + 7 \\, \\frac{\\partial}{\\partial x}u\\left(x\\right) + \\frac{\\partial^{2}}{(\\partial x)^{2}}u\\left(x\\right) = 0\\) con condiciones iniciales \\(u(0)=-1, \\; u'(0)=1\\)\n",
       "    y evalue en el punto dado:</p>\n",
       "    <pre>\n",
       "    u(1.43) = {1:NM:=-0.105274946103866:-0.00315824838311599}\n",
       "    </pre>\n",
       "    "
      ],
      "text/plain": [
       "\n",
       "    <h1> EDOs lineales de 2o Orden </h1>\n",
       "    <h2> Caso homogeneo </h2>\n",
       "    <p> Encuentre la solución \\(u(x)\\) de la siguiente ecuación diferencial\n",
       "    \\(9 \\, u\\left(x\\right) + 7 \\, \\frac{\\partial}{\\partial x}u\\left(x\\right) + \\frac{\\partial^{2}}{(\\partial x)^{2}}u\\left(x\\right) = 0\\) con condiciones iniciales \\(u(0)=-1, \\; u'(0)=1\\)\n",
       "    y evalue en el punto dado:</p>\n",
       "    <pre>\n",
       "    u(1.43) = {1:NM:=-0.105274946103866:-0.00315824838311599}\n",
       "    </pre>\n",
       "    "
      ]
     },
     "metadata": {},
     "output_type": "display_data"
    },
    {
     "data": {
      "text/html": [
       "\n",
       "    La solución del problema de condiciones iniciales es\n",
       "    \\(u(x)=-\\frac{1}{26} \\, {\\left(5 \\, \\sqrt{13} e^{\\left(\\sqrt{13} x\\right)} - 5 \\, \\sqrt{13} + 13 \\, e^{\\left(\\sqrt{13} x\\right)} + 13\\right)} e^{\\left(-\\frac{1}{2} \\, \\sqrt{13} x - \\frac{7}{2} \\, x\\right)}\\)\n",
       "    "
      ],
      "text/plain": [
       "\n",
       "    La solución del problema de condiciones iniciales es\n",
       "    \\(u(x)=-\\frac{1}{26} \\, {\\left(5 \\, \\sqrt{13} e^{\\left(\\sqrt{13} x\\right)} - 5 \\, \\sqrt{13} + 13 \\, e^{\\left(\\sqrt{13} x\\right)} + 13\\right)} e^{\\left(-\\frac{1}{2} \\, \\sqrt{13} x - \\frac{7}{2} \\, x\\right)}\\)\n",
       "    "
      ]
     },
     "metadata": {},
     "output_type": "display_data"
    },
    {
     "data": {
      "text/html": [
       "\n",
       "    <h1> EDOs lineales de 2o Orden </h1>\n",
       "    <h2> Caso homogeneo </h2>\n",
       "    <p> Encuentre la solución \\(u(x)\\) de la siguiente ecuación diferencial\n",
       "    \\(3 \\, u\\left(x\\right) - 8 \\, \\frac{\\partial}{\\partial x}u\\left(x\\right) + \\frac{\\partial^{2}}{(\\partial x)^{2}}u\\left(x\\right) = 0\\) con condiciones iniciales \\(u(0)=1, \\; u'(0)=-1\\)\n",
       "    y evalue en el punto dado:</p>\n",
       "    <pre>\n",
       "    u(1.85) = {1:NM:=-249480.799339357:-7484.42398018072}\n",
       "    </pre>\n",
       "    "
      ],
      "text/plain": [
       "\n",
       "    <h1> EDOs lineales de 2o Orden </h1>\n",
       "    <h2> Caso homogeneo </h2>\n",
       "    <p> Encuentre la solución \\(u(x)\\) de la siguiente ecuación diferencial\n",
       "    \\(3 \\, u\\left(x\\right) - 8 \\, \\frac{\\partial}{\\partial x}u\\left(x\\right) + \\frac{\\partial^{2}}{(\\partial x)^{2}}u\\left(x\\right) = 0\\) con condiciones iniciales \\(u(0)=1, \\; u'(0)=-1\\)\n",
       "    y evalue en el punto dado:</p>\n",
       "    <pre>\n",
       "    u(1.85) = {1:NM:=-249480.799339357:-7484.42398018072}\n",
       "    </pre>\n",
       "    "
      ]
     },
     "metadata": {},
     "output_type": "display_data"
    },
    {
     "data": {
      "text/html": [
       "\n",
       "    La solución del problema de condiciones iniciales es\n",
       "    \\(u(x)=-\\frac{1}{26} \\, {\\left(5 \\, \\sqrt{13} e^{\\left(2 \\, \\sqrt{13} x\\right)} - 5 \\, \\sqrt{13} - 13 \\, e^{\\left(2 \\, \\sqrt{13} x\\right)} - 13\\right)} e^{\\left(-\\sqrt{13} x + 4 \\, x\\right)}\\)\n",
       "    "
      ],
      "text/plain": [
       "\n",
       "    La solución del problema de condiciones iniciales es\n",
       "    \\(u(x)=-\\frac{1}{26} \\, {\\left(5 \\, \\sqrt{13} e^{\\left(2 \\, \\sqrt{13} x\\right)} - 5 \\, \\sqrt{13} - 13 \\, e^{\\left(2 \\, \\sqrt{13} x\\right)} - 13\\right)} e^{\\left(-\\sqrt{13} x + 4 \\, x\\right)}\\)\n",
       "    "
      ]
     },
     "metadata": {},
     "output_type": "display_data"
    },
    {
     "data": {
      "text/html": [
       "\n",
       "    <h1> EDOs lineales de 2o Orden </h1>\n",
       "    <h2> Caso homogeneo </h2>\n",
       "    <p> Encuentre la solución \\(u(x)\\) de la siguiente ecuación diferencial\n",
       "    \\(-8 \\, u\\left(x\\right) + 5 \\, \\frac{\\partial}{\\partial x}u\\left(x\\right) + \\frac{\\partial^{2}}{(\\partial x)^{2}}u\\left(x\\right) = 0\\) con condiciones iniciales \\(u(0)=0, \\; u'(0)=-1\\)\n",
       "    y evalue en el punto dado:</p>\n",
       "    <pre>\n",
       "    u(1.81) = {1:NM:=-1.33119011816972:-0.0399357035450916}\n",
       "    </pre>\n",
       "    "
      ],
      "text/plain": [
       "\n",
       "    <h1> EDOs lineales de 2o Orden </h1>\n",
       "    <h2> Caso homogeneo </h2>\n",
       "    <p> Encuentre la solución \\(u(x)\\) de la siguiente ecuación diferencial\n",
       "    \\(-8 \\, u\\left(x\\right) + 5 \\, \\frac{\\partial}{\\partial x}u\\left(x\\right) + \\frac{\\partial^{2}}{(\\partial x)^{2}}u\\left(x\\right) = 0\\) con condiciones iniciales \\(u(0)=0, \\; u'(0)=-1\\)\n",
       "    y evalue en el punto dado:</p>\n",
       "    <pre>\n",
       "    u(1.81) = {1:NM:=-1.33119011816972:-0.0399357035450916}\n",
       "    </pre>\n",
       "    "
      ]
     },
     "metadata": {},
     "output_type": "display_data"
    },
    {
     "data": {
      "text/html": [
       "\n",
       "    La solución del problema de condiciones iniciales es\n",
       "    \\(u(x)=-\\frac{1}{57} \\, \\sqrt{57} {\\left(e^{\\left(\\sqrt{57} x\\right)} - 1\\right)} e^{\\left(-\\frac{1}{2} \\, \\sqrt{57} x - \\frac{5}{2} \\, x\\right)}\\)\n",
       "    "
      ],
      "text/plain": [
       "\n",
       "    La solución del problema de condiciones iniciales es\n",
       "    \\(u(x)=-\\frac{1}{57} \\, \\sqrt{57} {\\left(e^{\\left(\\sqrt{57} x\\right)} - 1\\right)} e^{\\left(-\\frac{1}{2} \\, \\sqrt{57} x - \\frac{5}{2} \\, x\\right)}\\)\n",
       "    "
      ]
     },
     "metadata": {},
     "output_type": "display_data"
    },
    {
     "data": {
      "text/html": [
       "\n",
       "    <h1> EDOs lineales de 2o Orden </h1>\n",
       "    <h2> Caso homogeneo </h2>\n",
       "    <p> Encuentre la solución \\(u(x)\\) de la siguiente ecuación diferencial\n",
       "    \\(2 \\, u\\left(x\\right) - 3 \\, \\frac{\\partial}{\\partial x}u\\left(x\\right) + \\frac{\\partial^{2}}{(\\partial x)^{2}}u\\left(x\\right) = 0\\) con condiciones iniciales \\(u(0)=-1, \\; u'(0)=0\\)\n",
       "    y evalue en el punto dado:</p>\n",
       "    <pre>\n",
       "    u(1.04) = {1:NM:=2.34603488559323:0.0703810465677970}\n",
       "    </pre>\n",
       "    "
      ],
      "text/plain": [
       "\n",
       "    <h1> EDOs lineales de 2o Orden </h1>\n",
       "    <h2> Caso homogeneo </h2>\n",
       "    <p> Encuentre la solución \\(u(x)\\) de la siguiente ecuación diferencial\n",
       "    \\(2 \\, u\\left(x\\right) - 3 \\, \\frac{\\partial}{\\partial x}u\\left(x\\right) + \\frac{\\partial^{2}}{(\\partial x)^{2}}u\\left(x\\right) = 0\\) con condiciones iniciales \\(u(0)=-1, \\; u'(0)=0\\)\n",
       "    y evalue en el punto dado:</p>\n",
       "    <pre>\n",
       "    u(1.04) = {1:NM:=2.34603488559323:0.0703810465677970}\n",
       "    </pre>\n",
       "    "
      ]
     },
     "metadata": {},
     "output_type": "display_data"
    },
    {
     "data": {
      "text/html": [
       "\n",
       "    La solución del problema de condiciones iniciales es\n",
       "    \\(u(x)={\\left(e^{x} - 2\\right)} e^{x}\\)\n",
       "    "
      ],
      "text/plain": [
       "\n",
       "    La solución del problema de condiciones iniciales es\n",
       "    \\(u(x)={\\left(e^{x} - 2\\right)} e^{x}\\)\n",
       "    "
      ]
     },
     "metadata": {},
     "output_type": "display_data"
    },
    {
     "data": {
      "text/html": [
       "\n",
       "    <h1> EDOs lineales de 2o Orden </h1>\n",
       "    <h2> Caso homogeneo </h2>\n",
       "    <p> Encuentre la solución \\(u(x)\\) de la siguiente ecuación diferencial\n",
       "    \\(7 \\, u\\left(x\\right) + 8 \\, \\frac{\\partial}{\\partial x}u\\left(x\\right) + \\frac{\\partial^{2}}{(\\partial x)^{2}}u\\left(x\\right) = 0\\) con condiciones iniciales \\(u(0)=-1, \\; u'(0)=-1\\)\n",
       "    y evalue en el punto dado:</p>\n",
       "    <pre>\n",
       "    u(1.93) = {1:NM:=-0.193530478872226:-0.00580591436616679}\n",
       "    </pre>\n",
       "    "
      ],
      "text/plain": [
       "\n",
       "    <h1> EDOs lineales de 2o Orden </h1>\n",
       "    <h2> Caso homogeneo </h2>\n",
       "    <p> Encuentre la solución \\(u(x)\\) de la siguiente ecuación diferencial\n",
       "    \\(7 \\, u\\left(x\\right) + 8 \\, \\frac{\\partial}{\\partial x}u\\left(x\\right) + \\frac{\\partial^{2}}{(\\partial x)^{2}}u\\left(x\\right) = 0\\) con condiciones iniciales \\(u(0)=-1, \\; u'(0)=-1\\)\n",
       "    y evalue en el punto dado:</p>\n",
       "    <pre>\n",
       "    u(1.93) = {1:NM:=-0.193530478872226:-0.00580591436616679}\n",
       "    </pre>\n",
       "    "
      ]
     },
     "metadata": {},
     "output_type": "display_data"
    },
    {
     "data": {
      "text/html": [
       "\n",
       "    La solución del problema de condiciones iniciales es\n",
       "    \\(u(x)=-\\frac{1}{3} \\, {\\left(2 \\, e^{\\left(3 \\, x\\right)} + 1\\right)} {\\left(2 \\, e^{\\left(3 \\, x\\right)} - 1\\right)} e^{\\left(-7 \\, x\\right)}\\)\n",
       "    "
      ],
      "text/plain": [
       "\n",
       "    La solución del problema de condiciones iniciales es\n",
       "    \\(u(x)=-\\frac{1}{3} \\, {\\left(2 \\, e^{\\left(3 \\, x\\right)} + 1\\right)} {\\left(2 \\, e^{\\left(3 \\, x\\right)} - 1\\right)} e^{\\left(-7 \\, x\\right)}\\)\n",
       "    "
      ]
     },
     "metadata": {},
     "output_type": "display_data"
    },
    {
     "data": {
      "text/html": [
       "\n",
       "    <h1> EDOs lineales de 2o Orden </h1>\n",
       "    <h2> Caso homogeneo </h2>\n",
       "    <p> Encuentre la solución \\(u(x)\\) de la siguiente ecuación diferencial\n",
       "    \\(-6 \\, u\\left(x\\right) + 3 \\, \\frac{\\partial}{\\partial x}u\\left(x\\right) + \\frac{\\partial^{2}}{(\\partial x)^{2}}u\\left(x\\right) = 0\\) con condiciones iniciales \\(u(0)=-1, \\; u'(0)=1\\)\n",
       "    y evalue en el punto dado:</p>\n",
       "    <pre>\n",
       "    u(1.65) = {1:NM:=-5.64998938012611:-0.169499681403783}\n",
       "    </pre>\n",
       "    "
      ],
      "text/plain": [
       "\n",
       "    <h1> EDOs lineales de 2o Orden </h1>\n",
       "    <h2> Caso homogeneo </h2>\n",
       "    <p> Encuentre la solución \\(u(x)\\) de la siguiente ecuación diferencial\n",
       "    \\(-6 \\, u\\left(x\\right) + 3 \\, \\frac{\\partial}{\\partial x}u\\left(x\\right) + \\frac{\\partial^{2}}{(\\partial x)^{2}}u\\left(x\\right) = 0\\) con condiciones iniciales \\(u(0)=-1, \\; u'(0)=1\\)\n",
       "    y evalue en el punto dado:</p>\n",
       "    <pre>\n",
       "    u(1.65) = {1:NM:=-5.64998938012611:-0.169499681403783}\n",
       "    </pre>\n",
       "    "
      ]
     },
     "metadata": {},
     "output_type": "display_data"
    },
    {
     "data": {
      "text/html": [
       "\n",
       "    La solución del problema de condiciones iniciales es\n",
       "    \\(u(x)=-\\frac{1}{66} \\, {\\left(\\sqrt{33} e^{\\left(\\sqrt{33} x\\right)} - \\sqrt{33} + 33 \\, e^{\\left(\\sqrt{33} x\\right)} + 33\\right)} e^{\\left(-\\frac{1}{2} \\, \\sqrt{33} x - \\frac{3}{2} \\, x\\right)}\\)\n",
       "    "
      ],
      "text/plain": [
       "\n",
       "    La solución del problema de condiciones iniciales es\n",
       "    \\(u(x)=-\\frac{1}{66} \\, {\\left(\\sqrt{33} e^{\\left(\\sqrt{33} x\\right)} - \\sqrt{33} + 33 \\, e^{\\left(\\sqrt{33} x\\right)} + 33\\right)} e^{\\left(-\\frac{1}{2} \\, \\sqrt{33} x - \\frac{3}{2} \\, x\\right)}\\)\n",
       "    "
      ]
     },
     "metadata": {},
     "output_type": "display_data"
    },
    {
     "data": {
      "text/html": [
       "\n",
       "    <h1> EDOs lineales de 2o Orden </h1>\n",
       "    <h2> Caso homogeneo </h2>\n",
       "    <p> Encuentre la solución \\(u(x)\\) de la siguiente ecuación diferencial\n",
       "    \\(-7 \\, u\\left(x\\right) + 3 \\, \\frac{\\partial}{\\partial x}u\\left(x\\right) + \\frac{\\partial^{2}}{(\\partial x)^{2}}u\\left(x\\right) = 0\\) con condiciones iniciales \\(u(0)=1, \\; u'(0)=-1\\)\n",
       "    y evalue en el punto dado:</p>\n",
       "    <pre>\n",
       "    u(1.03) = {1:NM:=2.85206712016968:0.0855620136050903}\n",
       "    </pre>\n",
       "    "
      ],
      "text/plain": [
       "\n",
       "    <h1> EDOs lineales de 2o Orden </h1>\n",
       "    <h2> Caso homogeneo </h2>\n",
       "    <p> Encuentre la solución \\(u(x)\\) de la siguiente ecuación diferencial\n",
       "    \\(-7 \\, u\\left(x\\right) + 3 \\, \\frac{\\partial}{\\partial x}u\\left(x\\right) + \\frac{\\partial^{2}}{(\\partial x)^{2}}u\\left(x\\right) = 0\\) con condiciones iniciales \\(u(0)=1, \\; u'(0)=-1\\)\n",
       "    y evalue en el punto dado:</p>\n",
       "    <pre>\n",
       "    u(1.03) = {1:NM:=2.85206712016968:0.0855620136050903}\n",
       "    </pre>\n",
       "    "
      ]
     },
     "metadata": {},
     "output_type": "display_data"
    },
    {
     "data": {
      "text/html": [
       "\n",
       "    La solución del problema de condiciones iniciales es\n",
       "    \\(u(x)=\\frac{1}{74} \\, {\\left(\\sqrt{37} e^{\\left(\\sqrt{37} x\\right)} - \\sqrt{37} + 37 \\, e^{\\left(\\sqrt{37} x\\right)} + 37\\right)} e^{\\left(-\\frac{1}{2} \\, \\sqrt{37} x - \\frac{3}{2} \\, x\\right)}\\)\n",
       "    "
      ],
      "text/plain": [
       "\n",
       "    La solución del problema de condiciones iniciales es\n",
       "    \\(u(x)=\\frac{1}{74} \\, {\\left(\\sqrt{37} e^{\\left(\\sqrt{37} x\\right)} - \\sqrt{37} + 37 \\, e^{\\left(\\sqrt{37} x\\right)} + 37\\right)} e^{\\left(-\\frac{1}{2} \\, \\sqrt{37} x - \\frac{3}{2} \\, x\\right)}\\)\n",
       "    "
      ]
     },
     "metadata": {},
     "output_type": "display_data"
    },
    {
     "data": {
      "text/html": [
       "\n",
       "    <h1> EDOs lineales de 2o Orden </h1>\n",
       "    <h2> Caso homogeneo </h2>\n",
       "    <p> Encuentre la solución \\(u(x)\\) de la siguiente ecuación diferencial\n",
       "    \\(-9 \\, u\\left(x\\right) - 3 \\, \\frac{\\partial}{\\partial x}u\\left(x\\right) + \\frac{\\partial^{2}}{(\\partial x)^{2}}u\\left(x\\right) = 0\\) con condiciones iniciales \\(u(0)=-1, \\; u'(0)=1\\)\n",
       "    y evalue en el punto dado:</p>\n",
       "    <pre>\n",
       "    u(1.96) = {1:NM:=-1725.06028235269:-51.7518084705806}\n",
       "    </pre>\n",
       "    "
      ],
      "text/plain": [
       "\n",
       "    <h1> EDOs lineales de 2o Orden </h1>\n",
       "    <h2> Caso homogeneo </h2>\n",
       "    <p> Encuentre la solución \\(u(x)\\) de la siguiente ecuación diferencial\n",
       "    \\(-9 \\, u\\left(x\\right) - 3 \\, \\frac{\\partial}{\\partial x}u\\left(x\\right) + \\frac{\\partial^{2}}{(\\partial x)^{2}}u\\left(x\\right) = 0\\) con condiciones iniciales \\(u(0)=-1, \\; u'(0)=1\\)\n",
       "    y evalue en el punto dado:</p>\n",
       "    <pre>\n",
       "    u(1.96) = {1:NM:=-1725.06028235269:-51.7518084705806}\n",
       "    </pre>\n",
       "    "
      ]
     },
     "metadata": {},
     "output_type": "display_data"
    },
    {
     "data": {
      "text/html": [
       "\n",
       "    La solución del problema de condiciones iniciales es\n",
       "    \\(u(x)=\\frac{1}{6} \\, {\\left(\\sqrt{5} e^{\\left(3 \\, \\sqrt{5} x\\right)} - \\sqrt{5} - 3 \\, e^{\\left(3 \\, \\sqrt{5} x\\right)} - 3\\right)} e^{\\left(-\\frac{3}{2} \\, \\sqrt{5} x + \\frac{3}{2} \\, x\\right)}\\)\n",
       "    "
      ],
      "text/plain": [
       "\n",
       "    La solución del problema de condiciones iniciales es\n",
       "    \\(u(x)=\\frac{1}{6} \\, {\\left(\\sqrt{5} e^{\\left(3 \\, \\sqrt{5} x\\right)} - \\sqrt{5} - 3 \\, e^{\\left(3 \\, \\sqrt{5} x\\right)} - 3\\right)} e^{\\left(-\\frac{3}{2} \\, \\sqrt{5} x + \\frac{3}{2} \\, x\\right)}\\)\n",
       "    "
      ]
     },
     "metadata": {},
     "output_type": "display_data"
    },
    {
     "data": {
      "text/html": [
       "\n",
       "    <h1> EDOs lineales de 2o Orden </h1>\n",
       "    <h2> Caso homogeneo </h2>\n",
       "    <p> Encuentre la solución \\(u(x)\\) de la siguiente ecuación diferencial\n",
       "    \\(4 \\, u\\left(x\\right) + 6 \\, \\frac{\\partial}{\\partial x}u\\left(x\\right) + \\frac{\\partial^{2}}{(\\partial x)^{2}}u\\left(x\\right) = 0\\) con condiciones iniciales \\(u(0)=-1, \\; u'(0)=1\\)\n",
       "    y evalue en el punto dado:</p>\n",
       "    <pre>\n",
       "    u(1.94) = {1:NM:=-0.215186695659229:-0.00645560086977688}\n",
       "    </pre>\n",
       "    "
      ],
      "text/plain": [
       "\n",
       "    <h1> EDOs lineales de 2o Orden </h1>\n",
       "    <h2> Caso homogeneo </h2>\n",
       "    <p> Encuentre la solución \\(u(x)\\) de la siguiente ecuación diferencial\n",
       "    \\(4 \\, u\\left(x\\right) + 6 \\, \\frac{\\partial}{\\partial x}u\\left(x\\right) + \\frac{\\partial^{2}}{(\\partial x)^{2}}u\\left(x\\right) = 0\\) con condiciones iniciales \\(u(0)=-1, \\; u'(0)=1\\)\n",
       "    y evalue en el punto dado:</p>\n",
       "    <pre>\n",
       "    u(1.94) = {1:NM:=-0.215186695659229:-0.00645560086977688}\n",
       "    </pre>\n",
       "    "
      ]
     },
     "metadata": {},
     "output_type": "display_data"
    },
    {
     "data": {
      "text/html": [
       "\n",
       "    La solución del problema de condiciones iniciales es\n",
       "    \\(u(x)=-\\frac{1}{10} \\, {\\left(2 \\, \\sqrt{5} e^{\\left(2 \\, \\sqrt{5} x\\right)} - 2 \\, \\sqrt{5} + 5 \\, e^{\\left(2 \\, \\sqrt{5} x\\right)} + 5\\right)} e^{\\left(-\\sqrt{5} x - 3 \\, x\\right)}\\)\n",
       "    "
      ],
      "text/plain": [
       "\n",
       "    La solución del problema de condiciones iniciales es\n",
       "    \\(u(x)=-\\frac{1}{10} \\, {\\left(2 \\, \\sqrt{5} e^{\\left(2 \\, \\sqrt{5} x\\right)} - 2 \\, \\sqrt{5} + 5 \\, e^{\\left(2 \\, \\sqrt{5} x\\right)} + 5\\right)} e^{\\left(-\\sqrt{5} x - 3 \\, x\\right)}\\)\n",
       "    "
      ]
     },
     "metadata": {},
     "output_type": "display_data"
    },
    {
     "data": {
      "text/html": [
       "\n",
       "    <h1> EDOs lineales de 2o Orden </h1>\n",
       "    <h2> Caso homogeneo </h2>\n",
       "    <p> Encuentre la solución \\(u(x)\\) de la siguiente ecuación diferencial\n",
       "    \\(2 \\, u\\left(x\\right) - 2 \\, \\frac{\\partial}{\\partial x}u\\left(x\\right) + \\frac{\\partial^{2}}{(\\partial x)^{2}}u\\left(x\\right) = 0\\) con condiciones iniciales \\(u(0)=1, \\; u'(0)=-1\\)\n",
       "    y evalue en el punto dado:</p>\n",
       "    <pre>\n",
       "    u(1.17) = {1:NM:=-4.67623744090248:-0.140287123227074}\n",
       "    </pre>\n",
       "    "
      ],
      "text/plain": [
       "\n",
       "    <h1> EDOs lineales de 2o Orden </h1>\n",
       "    <h2> Caso homogeneo </h2>\n",
       "    <p> Encuentre la solución \\(u(x)\\) de la siguiente ecuación diferencial\n",
       "    \\(2 \\, u\\left(x\\right) - 2 \\, \\frac{\\partial}{\\partial x}u\\left(x\\right) + \\frac{\\partial^{2}}{(\\partial x)^{2}}u\\left(x\\right) = 0\\) con condiciones iniciales \\(u(0)=1, \\; u'(0)=-1\\)\n",
       "    y evalue en el punto dado:</p>\n",
       "    <pre>\n",
       "    u(1.17) = {1:NM:=-4.67623744090248:-0.140287123227074}\n",
       "    </pre>\n",
       "    "
      ]
     },
     "metadata": {},
     "output_type": "display_data"
    },
    {
     "data": {
      "text/html": [
       "\n",
       "    La solución del problema de condiciones iniciales es\n",
       "    \\(u(x)={\\left(\\cos\\left(x\\right) - 2 \\, \\sin\\left(x\\right)\\right)} e^{x}\\)\n",
       "    "
      ],
      "text/plain": [
       "\n",
       "    La solución del problema de condiciones iniciales es\n",
       "    \\(u(x)={\\left(\\cos\\left(x\\right) - 2 \\, \\sin\\left(x\\right)\\right)} e^{x}\\)\n",
       "    "
      ]
     },
     "metadata": {},
     "output_type": "display_data"
    },
    {
     "data": {
      "text/html": [
       "\n",
       "    <h1> EDOs lineales de 2o Orden </h1>\n",
       "    <h2> Caso homogeneo </h2>\n",
       "    <p> Encuentre la solución \\(u(x)\\) de la siguiente ecuación diferencial\n",
       "    \\(-u\\left(x\\right) + 7 \\, \\frac{\\partial}{\\partial x}u\\left(x\\right) + \\frac{\\partial^{2}}{(\\partial x)^{2}}u\\left(x\\right) = 0\\) con condiciones iniciales \\(u(0)=0, \\; u'(0)=1\\)\n",
       "    y evalue en el punto dado:</p>\n",
       "    <pre>\n",
       "    u(1.3) = {1:NM:=0.164778667238100:0.00494336001714300}\n",
       "    </pre>\n",
       "    "
      ],
      "text/plain": [
       "\n",
       "    <h1> EDOs lineales de 2o Orden </h1>\n",
       "    <h2> Caso homogeneo </h2>\n",
       "    <p> Encuentre la solución \\(u(x)\\) de la siguiente ecuación diferencial\n",
       "    \\(-u\\left(x\\right) + 7 \\, \\frac{\\partial}{\\partial x}u\\left(x\\right) + \\frac{\\partial^{2}}{(\\partial x)^{2}}u\\left(x\\right) = 0\\) con condiciones iniciales \\(u(0)=0, \\; u'(0)=1\\)\n",
       "    y evalue en el punto dado:</p>\n",
       "    <pre>\n",
       "    u(1.3) = {1:NM:=0.164778667238100:0.00494336001714300}\n",
       "    </pre>\n",
       "    "
      ]
     },
     "metadata": {},
     "output_type": "display_data"
    },
    {
     "data": {
      "text/html": [
       "\n",
       "    La solución del problema de condiciones iniciales es\n",
       "    \\(u(x)=\\frac{1}{53} \\, \\sqrt{53} {\\left(e^{\\left(\\sqrt{53} x\\right)} - 1\\right)} e^{\\left(-\\frac{1}{2} \\, \\sqrt{53} x - \\frac{7}{2} \\, x\\right)}\\)\n",
       "    "
      ],
      "text/plain": [
       "\n",
       "    La solución del problema de condiciones iniciales es\n",
       "    \\(u(x)=\\frac{1}{53} \\, \\sqrt{53} {\\left(e^{\\left(\\sqrt{53} x\\right)} - 1\\right)} e^{\\left(-\\frac{1}{2} \\, \\sqrt{53} x - \\frac{7}{2} \\, x\\right)}\\)\n",
       "    "
      ]
     },
     "metadata": {},
     "output_type": "display_data"
    },
    {
     "data": {
      "text/html": [
       "\n",
       "    <h1> EDOs lineales de 2o Orden </h1>\n",
       "    <h2> Caso homogeneo </h2>\n",
       "    <p> Encuentre la solución \\(u(x)\\) de la siguiente ecuación diferencial\n",
       "    \\(2 \\, u\\left(x\\right) - 3 \\, \\frac{\\partial}{\\partial x}u\\left(x\\right) + \\frac{\\partial^{2}}{(\\partial x)^{2}}u\\left(x\\right) = 0\\) con condiciones iniciales \\(u(0)=0, \\; u'(0)=-1\\)\n",
       "    y evalue en el punto dado:</p>\n",
       "    <pre>\n",
       "    u(1.54) = {1:NM:=-17.0938121252089:-0.512814363756268}\n",
       "    </pre>\n",
       "    "
      ],
      "text/plain": [
       "\n",
       "    <h1> EDOs lineales de 2o Orden </h1>\n",
       "    <h2> Caso homogeneo </h2>\n",
       "    <p> Encuentre la solución \\(u(x)\\) de la siguiente ecuación diferencial\n",
       "    \\(2 \\, u\\left(x\\right) - 3 \\, \\frac{\\partial}{\\partial x}u\\left(x\\right) + \\frac{\\partial^{2}}{(\\partial x)^{2}}u\\left(x\\right) = 0\\) con condiciones iniciales \\(u(0)=0, \\; u'(0)=-1\\)\n",
       "    y evalue en el punto dado:</p>\n",
       "    <pre>\n",
       "    u(1.54) = {1:NM:=-17.0938121252089:-0.512814363756268}\n",
       "    </pre>\n",
       "    "
      ]
     },
     "metadata": {},
     "output_type": "display_data"
    },
    {
     "data": {
      "text/html": [
       "\n",
       "    La solución del problema de condiciones iniciales es\n",
       "    \\(u(x)=-{\\left(e^{x} - 1\\right)} e^{x}\\)\n",
       "    "
      ],
      "text/plain": [
       "\n",
       "    La solución del problema de condiciones iniciales es\n",
       "    \\(u(x)=-{\\left(e^{x} - 1\\right)} e^{x}\\)\n",
       "    "
      ]
     },
     "metadata": {},
     "output_type": "display_data"
    },
    {
     "data": {
      "text/html": [
       "\n",
       "    <h1> EDOs lineales de 2o Orden </h1>\n",
       "    <h2> Caso homogeneo </h2>\n",
       "    <p> Encuentre la solución \\(u(x)\\) de la siguiente ecuación diferencial\n",
       "    \\(6 \\, u\\left(x\\right) + 3 \\, \\frac{\\partial}{\\partial x}u\\left(x\\right) + \\frac{\\partial^{2}}{(\\partial x)^{2}}u\\left(x\\right) = 0\\) con condiciones iniciales \\(u(0)=1, \\; u'(0)=0\\)\n",
       "    y evalue en el punto dado:</p>\n",
       "    <pre>\n",
       "    u(1.65) = {1:NM:=-0.0875358863338452:-0.00262607659001536}\n",
       "    </pre>\n",
       "    "
      ],
      "text/plain": [
       "\n",
       "    <h1> EDOs lineales de 2o Orden </h1>\n",
       "    <h2> Caso homogeneo </h2>\n",
       "    <p> Encuentre la solución \\(u(x)\\) de la siguiente ecuación diferencial\n",
       "    \\(6 \\, u\\left(x\\right) + 3 \\, \\frac{\\partial}{\\partial x}u\\left(x\\right) + \\frac{\\partial^{2}}{(\\partial x)^{2}}u\\left(x\\right) = 0\\) con condiciones iniciales \\(u(0)=1, \\; u'(0)=0\\)\n",
       "    y evalue en el punto dado:</p>\n",
       "    <pre>\n",
       "    u(1.65) = {1:NM:=-0.0875358863338452:-0.00262607659001536}\n",
       "    </pre>\n",
       "    "
      ]
     },
     "metadata": {},
     "output_type": "display_data"
    },
    {
     "data": {
      "text/html": [
       "\n",
       "    La solución del problema de condiciones iniciales es\n",
       "    \\(u(x)=\\frac{1}{5} \\, {\\left(\\sqrt{15} \\sin\\left(\\frac{1}{2} \\, \\sqrt{15} x\\right) + 5 \\, \\cos\\left(\\frac{1}{2} \\, \\sqrt{15} x\\right)\\right)} e^{\\left(-\\frac{3}{2} \\, x\\right)}\\)\n",
       "    "
      ],
      "text/plain": [
       "\n",
       "    La solución del problema de condiciones iniciales es\n",
       "    \\(u(x)=\\frac{1}{5} \\, {\\left(\\sqrt{15} \\sin\\left(\\frac{1}{2} \\, \\sqrt{15} x\\right) + 5 \\, \\cos\\left(\\frac{1}{2} \\, \\sqrt{15} x\\right)\\right)} e^{\\left(-\\frac{3}{2} \\, x\\right)}\\)\n",
       "    "
      ]
     },
     "metadata": {},
     "output_type": "display_data"
    },
    {
     "data": {
      "text/html": [
       "\n",
       "    <h1> EDOs lineales de 2o Orden </h1>\n",
       "    <h2> Caso homogeneo </h2>\n",
       "    <p> Encuentre la solución \\(u(x)\\) de la siguiente ecuación diferencial\n",
       "    \\(6 \\, u\\left(x\\right) - 8 \\, \\frac{\\partial}{\\partial x}u\\left(x\\right) + \\frac{\\partial^{2}}{(\\partial x)^{2}}u\\left(x\\right) = 0\\) con condiciones iniciales \\(u(0)=-1, \\; u'(0)=1\\)\n",
       "    y evalue en el punto dado:</p>\n",
       "    <pre>\n",
       "    u(1.47) = {1:NM:=10853.3389971625:325.600169914876}\n",
       "    </pre>\n",
       "    "
      ],
      "text/plain": [
       "\n",
       "    <h1> EDOs lineales de 2o Orden </h1>\n",
       "    <h2> Caso homogeneo </h2>\n",
       "    <p> Encuentre la solución \\(u(x)\\) de la siguiente ecuación diferencial\n",
       "    \\(6 \\, u\\left(x\\right) - 8 \\, \\frac{\\partial}{\\partial x}u\\left(x\\right) + \\frac{\\partial^{2}}{(\\partial x)^{2}}u\\left(x\\right) = 0\\) con condiciones iniciales \\(u(0)=-1, \\; u'(0)=1\\)\n",
       "    y evalue en el punto dado:</p>\n",
       "    <pre>\n",
       "    u(1.47) = {1:NM:=10853.3389971625:325.600169914876}\n",
       "    </pre>\n",
       "    "
      ]
     },
     "metadata": {},
     "output_type": "display_data"
    },
    {
     "data": {
      "text/html": [
       "\n",
       "    La solución del problema de condiciones iniciales es\n",
       "    \\(u(x)=\\frac{1}{4} \\, {\\left(\\sqrt{10} e^{\\left(2 \\, \\sqrt{10} x\\right)} - \\sqrt{10} - 2 \\, e^{\\left(2 \\, \\sqrt{10} x\\right)} - 2\\right)} e^{\\left(-\\sqrt{10} x + 4 \\, x\\right)}\\)\n",
       "    "
      ],
      "text/plain": [
       "\n",
       "    La solución del problema de condiciones iniciales es\n",
       "    \\(u(x)=\\frac{1}{4} \\, {\\left(\\sqrt{10} e^{\\left(2 \\, \\sqrt{10} x\\right)} - \\sqrt{10} - 2 \\, e^{\\left(2 \\, \\sqrt{10} x\\right)} - 2\\right)} e^{\\left(-\\sqrt{10} x + 4 \\, x\\right)}\\)\n",
       "    "
      ]
     },
     "metadata": {},
     "output_type": "display_data"
    },
    {
     "data": {
      "text/html": [
       "\n",
       "    <h1> EDOs lineales de 2o Orden </h1>\n",
       "    <h2> Caso homogeneo </h2>\n",
       "    <p> Encuentre la solución \\(u(x)\\) de la siguiente ecuación diferencial\n",
       "    \\(-u\\left(x\\right) - 8 \\, \\frac{\\partial}{\\partial x}u\\left(x\\right) + \\frac{\\partial^{2}}{(\\partial x)^{2}}u\\left(x\\right) = 0\\) con condiciones iniciales \\(u(0)=1, \\; u'(0)=0\\)\n",
       "    y evalue en el punto dado:</p>\n",
       "    <pre>\n",
       "    u(1.34) = {1:NM:=797.548765715385:23.9264629714616}\n",
       "    </pre>\n",
       "    "
      ],
      "text/plain": [
       "\n",
       "    <h1> EDOs lineales de 2o Orden </h1>\n",
       "    <h2> Caso homogeneo </h2>\n",
       "    <p> Encuentre la solución \\(u(x)\\) de la siguiente ecuación diferencial\n",
       "    \\(-u\\left(x\\right) - 8 \\, \\frac{\\partial}{\\partial x}u\\left(x\\right) + \\frac{\\partial^{2}}{(\\partial x)^{2}}u\\left(x\\right) = 0\\) con condiciones iniciales \\(u(0)=1, \\; u'(0)=0\\)\n",
       "    y evalue en el punto dado:</p>\n",
       "    <pre>\n",
       "    u(1.34) = {1:NM:=797.548765715385:23.9264629714616}\n",
       "    </pre>\n",
       "    "
      ]
     },
     "metadata": {},
     "output_type": "display_data"
    },
    {
     "data": {
      "text/html": [
       "\n",
       "    La solución del problema de condiciones iniciales es\n",
       "    \\(u(x)=-\\frac{1}{34} \\, {\\left(4 \\, \\sqrt{17} e^{\\left(2 \\, \\sqrt{17} x\\right)} - 4 \\, \\sqrt{17} - 17 \\, e^{\\left(2 \\, \\sqrt{17} x\\right)} - 17\\right)} e^{\\left(-\\sqrt{17} x + 4 \\, x\\right)}\\)\n",
       "    "
      ],
      "text/plain": [
       "\n",
       "    La solución del problema de condiciones iniciales es\n",
       "    \\(u(x)=-\\frac{1}{34} \\, {\\left(4 \\, \\sqrt{17} e^{\\left(2 \\, \\sqrt{17} x\\right)} - 4 \\, \\sqrt{17} - 17 \\, e^{\\left(2 \\, \\sqrt{17} x\\right)} - 17\\right)} e^{\\left(-\\sqrt{17} x + 4 \\, x\\right)}\\)\n",
       "    "
      ]
     },
     "metadata": {},
     "output_type": "display_data"
    },
    {
     "data": {
      "text/html": [
       "\n",
       "    <h1> EDOs lineales de 2o Orden </h1>\n",
       "    <h2> Caso homogeneo </h2>\n",
       "    <p> Encuentre la solución \\(u(x)\\) de la siguiente ecuación diferencial\n",
       "    \\(-6 \\, u\\left(x\\right) + \\frac{\\partial}{\\partial x}u\\left(x\\right) + \\frac{\\partial^{2}}{(\\partial x)^{2}}u\\left(x\\right) = 0\\) con condiciones iniciales \\(u(0)=0, \\; u'(0)=1\\)\n",
       "    y evalue en el punto dado:</p>\n",
       "    <pre>\n",
       "    u(1.16) = {1:NM:=2.02897337900812:0.0608692013702435}\n",
       "    </pre>\n",
       "    "
      ],
      "text/plain": [
       "\n",
       "    <h1> EDOs lineales de 2o Orden </h1>\n",
       "    <h2> Caso homogeneo </h2>\n",
       "    <p> Encuentre la solución \\(u(x)\\) de la siguiente ecuación diferencial\n",
       "    \\(-6 \\, u\\left(x\\right) + \\frac{\\partial}{\\partial x}u\\left(x\\right) + \\frac{\\partial^{2}}{(\\partial x)^{2}}u\\left(x\\right) = 0\\) con condiciones iniciales \\(u(0)=0, \\; u'(0)=1\\)\n",
       "    y evalue en el punto dado:</p>\n",
       "    <pre>\n",
       "    u(1.16) = {1:NM:=2.02897337900812:0.0608692013702435}\n",
       "    </pre>\n",
       "    "
      ]
     },
     "metadata": {},
     "output_type": "display_data"
    },
    {
     "data": {
      "text/html": [
       "\n",
       "    La solución del problema de condiciones iniciales es\n",
       "    \\(u(x)=\\frac{1}{5} \\, {\\left(e^{\\left(4 \\, x\\right)} + e^{\\left(3 \\, x\\right)} + e^{\\left(2 \\, x\\right)} + e^{x} + 1\\right)} {\\left(e^{x} - 1\\right)} e^{\\left(-3 \\, x\\right)}\\)\n",
       "    "
      ],
      "text/plain": [
       "\n",
       "    La solución del problema de condiciones iniciales es\n",
       "    \\(u(x)=\\frac{1}{5} \\, {\\left(e^{\\left(4 \\, x\\right)} + e^{\\left(3 \\, x\\right)} + e^{\\left(2 \\, x\\right)} + e^{x} + 1\\right)} {\\left(e^{x} - 1\\right)} e^{\\left(-3 \\, x\\right)}\\)\n",
       "    "
      ]
     },
     "metadata": {},
     "output_type": "display_data"
    },
    {
     "data": {
      "text/html": [
       "\n",
       "    <h1> EDOs lineales de 2o Orden </h1>\n",
       "    <h2> Caso homogeneo </h2>\n",
       "    <p> Encuentre la solución \\(u(x)\\) de la siguiente ecuación diferencial\n",
       "    \\(-6 \\, u\\left(x\\right) - 4 \\, \\frac{\\partial}{\\partial x}u\\left(x\\right) + \\frac{\\partial^{2}}{(\\partial x)^{2}}u\\left(x\\right) = 0\\) con condiciones iniciales \\(u(0)=-1, \\; u'(0)=1\\)\n",
       "    y evalue en el punto dado:</p>\n",
       "    <pre>\n",
       "    u(1.62) = {1:NM:=-110.095816684994:-3.30287450054983}\n",
       "    </pre>\n",
       "    "
      ],
      "text/plain": [
       "\n",
       "    <h1> EDOs lineales de 2o Orden </h1>\n",
       "    <h2> Caso homogeneo </h2>\n",
       "    <p> Encuentre la solución \\(u(x)\\) de la siguiente ecuación diferencial\n",
       "    \\(-6 \\, u\\left(x\\right) - 4 \\, \\frac{\\partial}{\\partial x}u\\left(x\\right) + \\frac{\\partial^{2}}{(\\partial x)^{2}}u\\left(x\\right) = 0\\) con condiciones iniciales \\(u(0)=-1, \\; u'(0)=1\\)\n",
       "    y evalue en el punto dado:</p>\n",
       "    <pre>\n",
       "    u(1.62) = {1:NM:=-110.095816684994:-3.30287450054983}\n",
       "    </pre>\n",
       "    "
      ]
     },
     "metadata": {},
     "output_type": "display_data"
    },
    {
     "data": {
      "text/html": [
       "\n",
       "    La solución del problema de condiciones iniciales es\n",
       "    \\(u(x)=\\frac{1}{20} \\, {\\left(3 \\, \\sqrt{10} e^{\\left(2 \\, \\sqrt{10} x\\right)} - 3 \\, \\sqrt{10} - 10 \\, e^{\\left(2 \\, \\sqrt{10} x\\right)} - 10\\right)} e^{\\left(-\\sqrt{10} x + 2 \\, x\\right)}\\)\n",
       "    "
      ],
      "text/plain": [
       "\n",
       "    La solución del problema de condiciones iniciales es\n",
       "    \\(u(x)=\\frac{1}{20} \\, {\\left(3 \\, \\sqrt{10} e^{\\left(2 \\, \\sqrt{10} x\\right)} - 3 \\, \\sqrt{10} - 10 \\, e^{\\left(2 \\, \\sqrt{10} x\\right)} - 10\\right)} e^{\\left(-\\sqrt{10} x + 2 \\, x\\right)}\\)\n",
       "    "
      ]
     },
     "metadata": {},
     "output_type": "display_data"
    },
    {
     "data": {
      "text/html": [
       "\n",
       "    <h1> EDOs lineales de 2o Orden </h1>\n",
       "    <h2> Caso homogeneo </h2>\n",
       "    <p> Encuentre la solución \\(u(x)\\) de la siguiente ecuación diferencial\n",
       "    \\(6 \\, u\\left(x\\right) + 6 \\, \\frac{\\partial}{\\partial x}u\\left(x\\right) + \\frac{\\partial^{2}}{(\\partial x)^{2}}u\\left(x\\right) = 0\\) con condiciones iniciales \\(u(0)=-1, \\; u'(0)=-1\\)\n",
       "    y evalue en el punto dado:</p>\n",
       "    <pre>\n",
       "    u(1.92) = {1:NM:=-0.144951804379210:-0.00434855413137630}\n",
       "    </pre>\n",
       "    "
      ],
      "text/plain": [
       "\n",
       "    <h1> EDOs lineales de 2o Orden </h1>\n",
       "    <h2> Caso homogeneo </h2>\n",
       "    <p> Encuentre la solución \\(u(x)\\) de la siguiente ecuación diferencial\n",
       "    \\(6 \\, u\\left(x\\right) + 6 \\, \\frac{\\partial}{\\partial x}u\\left(x\\right) + \\frac{\\partial^{2}}{(\\partial x)^{2}}u\\left(x\\right) = 0\\) con condiciones iniciales \\(u(0)=-1, \\; u'(0)=-1\\)\n",
       "    y evalue en el punto dado:</p>\n",
       "    <pre>\n",
       "    u(1.92) = {1:NM:=-0.144951804379210:-0.00434855413137630}\n",
       "    </pre>\n",
       "    "
      ]
     },
     "metadata": {},
     "output_type": "display_data"
    },
    {
     "data": {
      "text/html": [
       "\n",
       "    La solución del problema de condiciones iniciales es\n",
       "    \\(u(x)=-\\frac{1}{6} \\, {\\left(4 \\, \\sqrt{3} e^{\\left(2 \\, \\sqrt{3} x\\right)} - 4 \\, \\sqrt{3} + 3 \\, e^{\\left(2 \\, \\sqrt{3} x\\right)} + 3\\right)} e^{\\left(-\\sqrt{3} x - 3 \\, x\\right)}\\)\n",
       "    "
      ],
      "text/plain": [
       "\n",
       "    La solución del problema de condiciones iniciales es\n",
       "    \\(u(x)=-\\frac{1}{6} \\, {\\left(4 \\, \\sqrt{3} e^{\\left(2 \\, \\sqrt{3} x\\right)} - 4 \\, \\sqrt{3} + 3 \\, e^{\\left(2 \\, \\sqrt{3} x\\right)} + 3\\right)} e^{\\left(-\\sqrt{3} x - 3 \\, x\\right)}\\)\n",
       "    "
      ]
     },
     "metadata": {},
     "output_type": "display_data"
    },
    {
     "data": {
      "text/html": [
       "\n",
       "    <h1> EDOs lineales de 2o Orden </h1>\n",
       "    <h2> Caso homogeneo </h2>\n",
       "    <p> Encuentre la solución \\(u(x)\\) de la siguiente ecuación diferencial\n",
       "    \\(7 \\, u\\left(x\\right) - 2 \\, \\frac{\\partial}{\\partial x}u\\left(x\\right) + \\frac{\\partial^{2}}{(\\partial x)^{2}}u\\left(x\\right) = 0\\) con condiciones iniciales \\(u(0)=-1, \\; u'(0)=1\\)\n",
       "    y evalue en el punto dado:</p>\n",
       "    <pre>\n",
       "    u(1.87) = {1:NM:=-4.39873340653165:-0.131962002195949}\n",
       "    </pre>\n",
       "    "
      ],
      "text/plain": [
       "\n",
       "    <h1> EDOs lineales de 2o Orden </h1>\n",
       "    <h2> Caso homogeneo </h2>\n",
       "    <p> Encuentre la solución \\(u(x)\\) de la siguiente ecuación diferencial\n",
       "    \\(7 \\, u\\left(x\\right) - 2 \\, \\frac{\\partial}{\\partial x}u\\left(x\\right) + \\frac{\\partial^{2}}{(\\partial x)^{2}}u\\left(x\\right) = 0\\) con condiciones iniciales \\(u(0)=-1, \\; u'(0)=1\\)\n",
       "    y evalue en el punto dado:</p>\n",
       "    <pre>\n",
       "    u(1.87) = {1:NM:=-4.39873340653165:-0.131962002195949}\n",
       "    </pre>\n",
       "    "
      ]
     },
     "metadata": {},
     "output_type": "display_data"
    },
    {
     "data": {
      "text/html": [
       "\n",
       "    La solución del problema de condiciones iniciales es\n",
       "    \\(u(x)=\\frac{1}{3} \\, {\\left(\\sqrt{6} \\sin\\left(\\sqrt{6} x\\right) - 3 \\, \\cos\\left(\\sqrt{6} x\\right)\\right)} e^{x}\\)\n",
       "    "
      ],
      "text/plain": [
       "\n",
       "    La solución del problema de condiciones iniciales es\n",
       "    \\(u(x)=\\frac{1}{3} \\, {\\left(\\sqrt{6} \\sin\\left(\\sqrt{6} x\\right) - 3 \\, \\cos\\left(\\sqrt{6} x\\right)\\right)} e^{x}\\)\n",
       "    "
      ]
     },
     "metadata": {},
     "output_type": "display_data"
    },
    {
     "data": {
      "text/html": [
       "\n",
       "    <h1> EDOs lineales de 2o Orden </h1>\n",
       "    <h2> Caso homogeneo </h2>\n",
       "    <p> Encuentre la solución \\(u(x)\\) de la siguiente ecuación diferencial\n",
       "    \\(-5 \\, u\\left(x\\right) + 2 \\, \\frac{\\partial}{\\partial x}u\\left(x\\right) + \\frac{\\partial^{2}}{(\\partial x)^{2}}u\\left(x\\right) = 0\\) con condiciones iniciales \\(u(0)=1, \\; u'(0)=-1\\)\n",
       "    y evalue en el punto dado:</p>\n",
       "    <pre>\n",
       "    u(1.76) = {1:NM:=6.41176647125550:0.192352994137665}\n",
       "    </pre>\n",
       "    "
      ],
      "text/plain": [
       "\n",
       "    <h1> EDOs lineales de 2o Orden </h1>\n",
       "    <h2> Caso homogeneo </h2>\n",
       "    <p> Encuentre la solución \\(u(x)\\) de la siguiente ecuación diferencial\n",
       "    \\(-5 \\, u\\left(x\\right) + 2 \\, \\frac{\\partial}{\\partial x}u\\left(x\\right) + \\frac{\\partial^{2}}{(\\partial x)^{2}}u\\left(x\\right) = 0\\) con condiciones iniciales \\(u(0)=1, \\; u'(0)=-1\\)\n",
       "    y evalue en el punto dado:</p>\n",
       "    <pre>\n",
       "    u(1.76) = {1:NM:=6.41176647125550:0.192352994137665}\n",
       "    </pre>\n",
       "    "
      ]
     },
     "metadata": {},
     "output_type": "display_data"
    },
    {
     "data": {
      "text/html": [
       "\n",
       "    La solución del problema de condiciones iniciales es\n",
       "    \\(u(x)=\\frac{1}{2} \\, {\\left(e^{\\left(2 \\, \\sqrt{6} x\\right)} + 1\\right)} e^{\\left(-\\sqrt{6} x - x\\right)}\\)\n",
       "    "
      ],
      "text/plain": [
       "\n",
       "    La solución del problema de condiciones iniciales es\n",
       "    \\(u(x)=\\frac{1}{2} \\, {\\left(e^{\\left(2 \\, \\sqrt{6} x\\right)} + 1\\right)} e^{\\left(-\\sqrt{6} x - x\\right)}\\)\n",
       "    "
      ]
     },
     "metadata": {},
     "output_type": "display_data"
    },
    {
     "data": {
      "text/html": [
       "\n",
       "    <h1> EDOs lineales de 2o Orden </h1>\n",
       "    <h2> Caso homogeneo </h2>\n",
       "    <p> Encuentre la solución \\(u(x)\\) de la siguiente ecuación diferencial\n",
       "    \\(-u\\left(x\\right) - 6 \\, \\frac{\\partial}{\\partial x}u\\left(x\\right) + \\frac{\\partial^{2}}{(\\partial x)^{2}}u\\left(x\\right) = 0\\) con condiciones iniciales \\(u(0)=1, \\; u'(0)=1\\)\n",
       "    y evalue en el punto dado:</p>\n",
       "    <pre>\n",
       "    u(1.88) = {1:NM:=19752.8746479998:592.586239439994}\n",
       "    </pre>\n",
       "    "
      ],
      "text/plain": [
       "\n",
       "    <h1> EDOs lineales de 2o Orden </h1>\n",
       "    <h2> Caso homogeneo </h2>\n",
       "    <p> Encuentre la solución \\(u(x)\\) de la siguiente ecuación diferencial\n",
       "    \\(-u\\left(x\\right) - 6 \\, \\frac{\\partial}{\\partial x}u\\left(x\\right) + \\frac{\\partial^{2}}{(\\partial x)^{2}}u\\left(x\\right) = 0\\) con condiciones iniciales \\(u(0)=1, \\; u'(0)=1\\)\n",
       "    y evalue en el punto dado:</p>\n",
       "    <pre>\n",
       "    u(1.88) = {1:NM:=19752.8746479998:592.586239439994}\n",
       "    </pre>\n",
       "    "
      ]
     },
     "metadata": {},
     "output_type": "display_data"
    },
    {
     "data": {
      "text/html": [
       "\n",
       "    La solución del problema de condiciones iniciales es\n",
       "    \\(u(x)=-\\frac{1}{10} \\, {\\left(\\sqrt{10} e^{\\left(2 \\, \\sqrt{10} x\\right)} - \\sqrt{10} - 5 \\, e^{\\left(2 \\, \\sqrt{10} x\\right)} - 5\\right)} e^{\\left(-\\sqrt{10} x + 3 \\, x\\right)}\\)\n",
       "    "
      ],
      "text/plain": [
       "\n",
       "    La solución del problema de condiciones iniciales es\n",
       "    \\(u(x)=-\\frac{1}{10} \\, {\\left(\\sqrt{10} e^{\\left(2 \\, \\sqrt{10} x\\right)} - \\sqrt{10} - 5 \\, e^{\\left(2 \\, \\sqrt{10} x\\right)} - 5\\right)} e^{\\left(-\\sqrt{10} x + 3 \\, x\\right)}\\)\n",
       "    "
      ]
     },
     "metadata": {},
     "output_type": "display_data"
    },
    {
     "data": {
      "text/html": [
       "\n",
       "    <h1> EDOs lineales de 2o Orden </h1>\n",
       "    <h2> Caso homogeneo </h2>\n",
       "    <p> Encuentre la solución \\(u(x)\\) de la siguiente ecuación diferencial\n",
       "    \\(9 \\, u\\left(x\\right) + 6 \\, \\frac{\\partial}{\\partial x}u\\left(x\\right) + \\frac{\\partial^{2}}{(\\partial x)^{2}}u\\left(x\\right) = 0\\) con condiciones iniciales \\(u(0)=1, \\; u'(0)=0\\)\n",
       "    y evalue en el punto dado:</p>\n",
       "    <pre>\n",
       "    u(1.97) = {1:NM:=0.0187412113918417:0.000562236341755251}\n",
       "    </pre>\n",
       "    "
      ],
      "text/plain": [
       "\n",
       "    <h1> EDOs lineales de 2o Orden </h1>\n",
       "    <h2> Caso homogeneo </h2>\n",
       "    <p> Encuentre la solución \\(u(x)\\) de la siguiente ecuación diferencial\n",
       "    \\(9 \\, u\\left(x\\right) + 6 \\, \\frac{\\partial}{\\partial x}u\\left(x\\right) + \\frac{\\partial^{2}}{(\\partial x)^{2}}u\\left(x\\right) = 0\\) con condiciones iniciales \\(u(0)=1, \\; u'(0)=0\\)\n",
       "    y evalue en el punto dado:</p>\n",
       "    <pre>\n",
       "    u(1.97) = {1:NM:=0.0187412113918417:0.000562236341755251}\n",
       "    </pre>\n",
       "    "
      ]
     },
     "metadata": {},
     "output_type": "display_data"
    },
    {
     "data": {
      "text/html": [
       "\n",
       "    La solución del problema de condiciones iniciales es\n",
       "    \\(u(x)={\\left(3 \\, x + 1\\right)} e^{\\left(-3 \\, x\\right)}\\)\n",
       "    "
      ],
      "text/plain": [
       "\n",
       "    La solución del problema de condiciones iniciales es\n",
       "    \\(u(x)={\\left(3 \\, x + 1\\right)} e^{\\left(-3 \\, x\\right)}\\)\n",
       "    "
      ]
     },
     "metadata": {},
     "output_type": "display_data"
    },
    {
     "data": {
      "text/html": [
       "\n",
       "    <h1> EDOs lineales de 2o Orden </h1>\n",
       "    <h2> Caso homogeneo </h2>\n",
       "    <p> Encuentre la solución \\(u(x)\\) de la siguiente ecuación diferencial\n",
       "    \\(9 \\, u\\left(x\\right) - 5 \\, \\frac{\\partial}{\\partial x}u\\left(x\\right) + \\frac{\\partial^{2}}{(\\partial x)^{2}}u\\left(x\\right) = 0\\) con condiciones iniciales \\(u(0)=-1, \\; u'(0)=0\\)\n",
       "    y evalue en el punto dado:</p>\n",
       "    <pre>\n",
       "    u(1.52) = {1:NM:=75.5646625683716:2.26693987705115}\n",
       "    </pre>\n",
       "    "
      ],
      "text/plain": [
       "\n",
       "    <h1> EDOs lineales de 2o Orden </h1>\n",
       "    <h2> Caso homogeneo </h2>\n",
       "    <p> Encuentre la solución \\(u(x)\\) de la siguiente ecuación diferencial\n",
       "    \\(9 \\, u\\left(x\\right) - 5 \\, \\frac{\\partial}{\\partial x}u\\left(x\\right) + \\frac{\\partial^{2}}{(\\partial x)^{2}}u\\left(x\\right) = 0\\) con condiciones iniciales \\(u(0)=-1, \\; u'(0)=0\\)\n",
       "    y evalue en el punto dado:</p>\n",
       "    <pre>\n",
       "    u(1.52) = {1:NM:=75.5646625683716:2.26693987705115}\n",
       "    </pre>\n",
       "    "
      ]
     },
     "metadata": {},
     "output_type": "display_data"
    },
    {
     "data": {
      "text/html": [
       "\n",
       "    La solución del problema de condiciones iniciales es\n",
       "    \\(u(x)=-\\frac{1}{11} \\, \\sqrt{11} {\\left(\\sqrt{11} \\cos\\left(\\frac{1}{2} \\, \\sqrt{11} x\\right) - 5 \\, \\sin\\left(\\frac{1}{2} \\, \\sqrt{11} x\\right)\\right)} e^{\\left(\\frac{5}{2} \\, x\\right)}\\)\n",
       "    "
      ],
      "text/plain": [
       "\n",
       "    La solución del problema de condiciones iniciales es\n",
       "    \\(u(x)=-\\frac{1}{11} \\, \\sqrt{11} {\\left(\\sqrt{11} \\cos\\left(\\frac{1}{2} \\, \\sqrt{11} x\\right) - 5 \\, \\sin\\left(\\frac{1}{2} \\, \\sqrt{11} x\\right)\\right)} e^{\\left(\\frac{5}{2} \\, x\\right)}\\)\n",
       "    "
      ]
     },
     "metadata": {},
     "output_type": "display_data"
    },
    {
     "data": {
      "text/html": [
       "\n",
       "    <h1> EDOs lineales de 2o Orden </h1>\n",
       "    <h2> Caso homogeneo </h2>\n",
       "    <p> Encuentre la solución \\(u(x)\\) de la siguiente ecuación diferencial\n",
       "    \\(-2 \\, u\\left(x\\right) + 6 \\, \\frac{\\partial}{\\partial x}u\\left(x\\right) + \\frac{\\partial^{2}}{(\\partial x)^{2}}u\\left(x\\right) = 0\\) con condiciones iniciales \\(u(0)=0, \\; u'(0)=1\\)\n",
       "    y evalue en el punto dado:</p>\n",
       "    <pre>\n",
       "    u(1.95) = {1:NM:=0.279520711184334:0.00838562133553001}\n",
       "    </pre>\n",
       "    "
      ],
      "text/plain": [
       "\n",
       "    <h1> EDOs lineales de 2o Orden </h1>\n",
       "    <h2> Caso homogeneo </h2>\n",
       "    <p> Encuentre la solución \\(u(x)\\) de la siguiente ecuación diferencial\n",
       "    \\(-2 \\, u\\left(x\\right) + 6 \\, \\frac{\\partial}{\\partial x}u\\left(x\\right) + \\frac{\\partial^{2}}{(\\partial x)^{2}}u\\left(x\\right) = 0\\) con condiciones iniciales \\(u(0)=0, \\; u'(0)=1\\)\n",
       "    y evalue en el punto dado:</p>\n",
       "    <pre>\n",
       "    u(1.95) = {1:NM:=0.279520711184334:0.00838562133553001}\n",
       "    </pre>\n",
       "    "
      ]
     },
     "metadata": {},
     "output_type": "display_data"
    },
    {
     "data": {
      "text/html": [
       "\n",
       "    La solución del problema de condiciones iniciales es\n",
       "    \\(u(x)=\\frac{1}{22} \\, \\sqrt{11} {\\left(e^{\\left(\\sqrt{11} x\\right)} + 1\\right)} {\\left(e^{\\left(\\sqrt{11} x\\right)} - 1\\right)} e^{\\left(-\\sqrt{11} x - 3 \\, x\\right)}\\)\n",
       "    "
      ],
      "text/plain": [
       "\n",
       "    La solución del problema de condiciones iniciales es\n",
       "    \\(u(x)=\\frac{1}{22} \\, \\sqrt{11} {\\left(e^{\\left(\\sqrt{11} x\\right)} + 1\\right)} {\\left(e^{\\left(\\sqrt{11} x\\right)} - 1\\right)} e^{\\left(-\\sqrt{11} x - 3 \\, x\\right)}\\)\n",
       "    "
      ]
     },
     "metadata": {},
     "output_type": "display_data"
    },
    {
     "data": {
      "text/html": [
       "\n",
       "    <h1> EDOs lineales de 2o Orden </h1>\n",
       "    <h2> Caso homogeneo </h2>\n",
       "    <p> Encuentre la solución \\(u(x)\\) de la siguiente ecuación diferencial\n",
       "    \\(4 \\, u\\left(x\\right) + \\frac{\\partial^{2}}{(\\partial x)^{2}}u\\left(x\\right) = 0\\) con condiciones iniciales \\(u(0)=-1, \\; u'(0)=-1\\)\n",
       "    y evalue en el punto dado:</p>\n",
       "    <pre>\n",
       "    u(1.17) = {1:NM:=0.336330929928339:0.0100899278978502}\n",
       "    </pre>\n",
       "    "
      ],
      "text/plain": [
       "\n",
       "    <h1> EDOs lineales de 2o Orden </h1>\n",
       "    <h2> Caso homogeneo </h2>\n",
       "    <p> Encuentre la solución \\(u(x)\\) de la siguiente ecuación diferencial\n",
       "    \\(4 \\, u\\left(x\\right) + \\frac{\\partial^{2}}{(\\partial x)^{2}}u\\left(x\\right) = 0\\) con condiciones iniciales \\(u(0)=-1, \\; u'(0)=-1\\)\n",
       "    y evalue en el punto dado:</p>\n",
       "    <pre>\n",
       "    u(1.17) = {1:NM:=0.336330929928339:0.0100899278978502}\n",
       "    </pre>\n",
       "    "
      ]
     },
     "metadata": {},
     "output_type": "display_data"
    },
    {
     "data": {
      "text/html": [
       "\n",
       "    La solución del problema de condiciones iniciales es\n",
       "    \\(u(x)=-2 \\, \\cos\\left(x\\right)^{2} - \\cos\\left(x\\right) \\sin\\left(x\\right) + 1\\)\n",
       "    "
      ],
      "text/plain": [
       "\n",
       "    La solución del problema de condiciones iniciales es\n",
       "    \\(u(x)=-2 \\, \\cos\\left(x\\right)^{2} - \\cos\\left(x\\right) \\sin\\left(x\\right) + 1\\)\n",
       "    "
      ]
     },
     "metadata": {},
     "output_type": "display_data"
    },
    {
     "data": {
      "text/html": [
       "\n",
       "    <h1> EDOs lineales de 2o Orden </h1>\n",
       "    <h2> Caso homogeneo </h2>\n",
       "    <p> Encuentre la solución \\(u(x)\\) de la siguiente ecuación diferencial\n",
       "    \\(-8 \\, u\\left(x\\right) - 7 \\, \\frac{\\partial}{\\partial x}u\\left(x\\right) + \\frac{\\partial^{2}}{(\\partial x)^{2}}u\\left(x\\right) = 0\\) con condiciones iniciales \\(u(0)=1, \\; u'(0)=1\\)\n",
       "    y evalue en el punto dado:</p>\n",
       "    <pre>\n",
       "    u(1.31) = {1:NM:=7910.52264710263:237.315679413079}\n",
       "    </pre>\n",
       "    "
      ],
      "text/plain": [
       "\n",
       "    <h1> EDOs lineales de 2o Orden </h1>\n",
       "    <h2> Caso homogeneo </h2>\n",
       "    <p> Encuentre la solución \\(u(x)\\) de la siguiente ecuación diferencial\n",
       "    \\(-8 \\, u\\left(x\\right) - 7 \\, \\frac{\\partial}{\\partial x}u\\left(x\\right) + \\frac{\\partial^{2}}{(\\partial x)^{2}}u\\left(x\\right) = 0\\) con condiciones iniciales \\(u(0)=1, \\; u'(0)=1\\)\n",
       "    y evalue en el punto dado:</p>\n",
       "    <pre>\n",
       "    u(1.31) = {1:NM:=7910.52264710263:237.315679413079}\n",
       "    </pre>\n",
       "    "
      ]
     },
     "metadata": {},
     "output_type": "display_data"
    },
    {
     "data": {
      "text/html": [
       "\n",
       "    La solución del problema de condiciones iniciales es\n",
       "    \\(u(x)=\\frac{1}{9} \\, {\\left(2 \\, e^{\\left(9 \\, x\\right)} + 7\\right)} e^{\\left(-x\\right)}\\)\n",
       "    "
      ],
      "text/plain": [
       "\n",
       "    La solución del problema de condiciones iniciales es\n",
       "    \\(u(x)=\\frac{1}{9} \\, {\\left(2 \\, e^{\\left(9 \\, x\\right)} + 7\\right)} e^{\\left(-x\\right)}\\)\n",
       "    "
      ]
     },
     "metadata": {},
     "output_type": "display_data"
    },
    {
     "data": {
      "text/html": [
       "\n",
       "    <h1> EDOs lineales de 2o Orden </h1>\n",
       "    <h2> Caso homogeneo </h2>\n",
       "    <p> Encuentre la solución \\(u(x)\\) de la siguiente ecuación diferencial\n",
       "    \\(-6 \\, u\\left(x\\right) - 2 \\, \\frac{\\partial}{\\partial x}u\\left(x\\right) + \\frac{\\partial^{2}}{(\\partial x)^{2}}u\\left(x\\right) = 0\\) con condiciones iniciales \\(u(0)=1, \\; u'(0)=-1\\)\n",
       "    y evalue en el punto dado:</p>\n",
       "    <pre>\n",
       "    u(1.94) = {1:NM:=143.964234592965:4.31892703778894}\n",
       "    </pre>\n",
       "    "
      ],
      "text/plain": [
       "\n",
       "    <h1> EDOs lineales de 2o Orden </h1>\n",
       "    <h2> Caso homogeneo </h2>\n",
       "    <p> Encuentre la solución \\(u(x)\\) de la siguiente ecuación diferencial\n",
       "    \\(-6 \\, u\\left(x\\right) - 2 \\, \\frac{\\partial}{\\partial x}u\\left(x\\right) + \\frac{\\partial^{2}}{(\\partial x)^{2}}u\\left(x\\right) = 0\\) con condiciones iniciales \\(u(0)=1, \\; u'(0)=-1\\)\n",
       "    y evalue en el punto dado:</p>\n",
       "    <pre>\n",
       "    u(1.94) = {1:NM:=143.964234592965:4.31892703778894}\n",
       "    </pre>\n",
       "    "
      ]
     },
     "metadata": {},
     "output_type": "display_data"
    },
    {
     "data": {
      "text/html": [
       "\n",
       "    La solución del problema de condiciones iniciales es\n",
       "    \\(u(x)=-\\frac{1}{14} \\, {\\left(2 \\, \\sqrt{7} e^{\\left(2 \\, \\sqrt{7} x\\right)} - 2 \\, \\sqrt{7} - 7 \\, e^{\\left(2 \\, \\sqrt{7} x\\right)} - 7\\right)} e^{\\left(-\\sqrt{7} x + x\\right)}\\)\n",
       "    "
      ],
      "text/plain": [
       "\n",
       "    La solución del problema de condiciones iniciales es\n",
       "    \\(u(x)=-\\frac{1}{14} \\, {\\left(2 \\, \\sqrt{7} e^{\\left(2 \\, \\sqrt{7} x\\right)} - 2 \\, \\sqrt{7} - 7 \\, e^{\\left(2 \\, \\sqrt{7} x\\right)} - 7\\right)} e^{\\left(-\\sqrt{7} x + x\\right)}\\)\n",
       "    "
      ]
     },
     "metadata": {},
     "output_type": "display_data"
    },
    {
     "data": {
      "text/html": [
       "\n",
       "    <h1> EDOs lineales de 2o Orden </h1>\n",
       "    <h2> Caso homogeneo </h2>\n",
       "    <p> Encuentre la solución \\(u(x)\\) de la siguiente ecuación diferencial\n",
       "    \\(u\\left(x\\right) + 9 \\, \\frac{\\partial}{\\partial x}u\\left(x\\right) + \\frac{\\partial^{2}}{(\\partial x)^{2}}u\\left(x\\right) = 0\\) con condiciones iniciales \\(u(0)=-1, \\; u'(0)=0\\)\n",
       "    y evalue en el punto dado:</p>\n",
       "    <pre>\n",
       "    u(1.46) = {1:NM:=-0.859387845214924:-0.0257816353564477}\n",
       "    </pre>\n",
       "    "
      ],
      "text/plain": [
       "\n",
       "    <h1> EDOs lineales de 2o Orden </h1>\n",
       "    <h2> Caso homogeneo </h2>\n",
       "    <p> Encuentre la solución \\(u(x)\\) de la siguiente ecuación diferencial\n",
       "    \\(u\\left(x\\right) + 9 \\, \\frac{\\partial}{\\partial x}u\\left(x\\right) + \\frac{\\partial^{2}}{(\\partial x)^{2}}u\\left(x\\right) = 0\\) con condiciones iniciales \\(u(0)=-1, \\; u'(0)=0\\)\n",
       "    y evalue en el punto dado:</p>\n",
       "    <pre>\n",
       "    u(1.46) = {1:NM:=-0.859387845214924:-0.0257816353564477}\n",
       "    </pre>\n",
       "    "
      ]
     },
     "metadata": {},
     "output_type": "display_data"
    },
    {
     "data": {
      "text/html": [
       "\n",
       "    La solución del problema de condiciones iniciales es\n",
       "    \\(u(x)=-\\frac{1}{154} \\, {\\left(9 \\, \\sqrt{77} e^{\\left(\\sqrt{77} x\\right)} - 9 \\, \\sqrt{77} + 77 \\, e^{\\left(\\sqrt{77} x\\right)} + 77\\right)} e^{\\left(-\\frac{1}{2} \\, \\sqrt{77} x - \\frac{9}{2} \\, x\\right)}\\)\n",
       "    "
      ],
      "text/plain": [
       "\n",
       "    La solución del problema de condiciones iniciales es\n",
       "    \\(u(x)=-\\frac{1}{154} \\, {\\left(9 \\, \\sqrt{77} e^{\\left(\\sqrt{77} x\\right)} - 9 \\, \\sqrt{77} + 77 \\, e^{\\left(\\sqrt{77} x\\right)} + 77\\right)} e^{\\left(-\\frac{1}{2} \\, \\sqrt{77} x - \\frac{9}{2} \\, x\\right)}\\)\n",
       "    "
      ]
     },
     "metadata": {},
     "output_type": "display_data"
    },
    {
     "data": {
      "text/html": [
       "\n",
       "    <h1> EDOs lineales de 2o Orden </h1>\n",
       "    <h2> Caso homogeneo </h2>\n",
       "    <p> Encuentre la solución \\(u(x)\\) de la siguiente ecuación diferencial\n",
       "    \\(8 \\, u\\left(x\\right) + 2 \\, \\frac{\\partial}{\\partial x}u\\left(x\\right) + \\frac{\\partial^{2}}{(\\partial x)^{2}}u\\left(x\\right) = 0\\) con condiciones iniciales \\(u(0)=1, \\; u'(0)=0\\)\n",
       "    y evalue en el punto dado:</p>\n",
       "    <pre>\n",
       "    u(1.87) = {1:NM:=-0.0207383970859493:-0.000622151912578478}\n",
       "    </pre>\n",
       "    "
      ],
      "text/plain": [
       "\n",
       "    <h1> EDOs lineales de 2o Orden </h1>\n",
       "    <h2> Caso homogeneo </h2>\n",
       "    <p> Encuentre la solución \\(u(x)\\) de la siguiente ecuación diferencial\n",
       "    \\(8 \\, u\\left(x\\right) + 2 \\, \\frac{\\partial}{\\partial x}u\\left(x\\right) + \\frac{\\partial^{2}}{(\\partial x)^{2}}u\\left(x\\right) = 0\\) con condiciones iniciales \\(u(0)=1, \\; u'(0)=0\\)\n",
       "    y evalue en el punto dado:</p>\n",
       "    <pre>\n",
       "    u(1.87) = {1:NM:=-0.0207383970859493:-0.000622151912578478}\n",
       "    </pre>\n",
       "    "
      ]
     },
     "metadata": {},
     "output_type": "display_data"
    },
    {
     "data": {
      "text/html": [
       "\n",
       "    La solución del problema de condiciones iniciales es\n",
       "    \\(u(x)=\\frac{1}{7} \\, {\\left(\\sqrt{7} \\sin\\left(\\sqrt{7} x\\right) + 7 \\, \\cos\\left(\\sqrt{7} x\\right)\\right)} e^{\\left(-x\\right)}\\)\n",
       "    "
      ],
      "text/plain": [
       "\n",
       "    La solución del problema de condiciones iniciales es\n",
       "    \\(u(x)=\\frac{1}{7} \\, {\\left(\\sqrt{7} \\sin\\left(\\sqrt{7} x\\right) + 7 \\, \\cos\\left(\\sqrt{7} x\\right)\\right)} e^{\\left(-x\\right)}\\)\n",
       "    "
      ]
     },
     "metadata": {},
     "output_type": "display_data"
    },
    {
     "data": {
      "text/html": [
       "\n",
       "    <h1> EDOs lineales de 2o Orden </h1>\n",
       "    <h2> Caso homogeneo </h2>\n",
       "    <p> Encuentre la solución \\(u(x)\\) de la siguiente ecuación diferencial\n",
       "    \\(-2 \\, u\\left(x\\right) + 2 \\, \\frac{\\partial}{\\partial x}u\\left(x\\right) + \\frac{\\partial^{2}}{(\\partial x)^{2}}u\\left(x\\right) = 0\\) con condiciones iniciales \\(u(0)=1, \\; u'(0)=-1\\)\n",
       "    y evalue en el punto dado:</p>\n",
       "    <pre>\n",
       "    u(1.53) = {1:NM:=1.54013389490344:0.0462040168471031}\n",
       "    </pre>\n",
       "    "
      ],
      "text/plain": [
       "\n",
       "    <h1> EDOs lineales de 2o Orden </h1>\n",
       "    <h2> Caso homogeneo </h2>\n",
       "    <p> Encuentre la solución \\(u(x)\\) de la siguiente ecuación diferencial\n",
       "    \\(-2 \\, u\\left(x\\right) + 2 \\, \\frac{\\partial}{\\partial x}u\\left(x\\right) + \\frac{\\partial^{2}}{(\\partial x)^{2}}u\\left(x\\right) = 0\\) con condiciones iniciales \\(u(0)=1, \\; u'(0)=-1\\)\n",
       "    y evalue en el punto dado:</p>\n",
       "    <pre>\n",
       "    u(1.53) = {1:NM:=1.54013389490344:0.0462040168471031}\n",
       "    </pre>\n",
       "    "
      ]
     },
     "metadata": {},
     "output_type": "display_data"
    },
    {
     "data": {
      "text/html": [
       "\n",
       "    La solución del problema de condiciones iniciales es\n",
       "    \\(u(x)=\\frac{1}{2} \\, {\\left(e^{\\left(2 \\, \\sqrt{3} x\\right)} + 1\\right)} e^{\\left(-\\sqrt{3} x - x\\right)}\\)\n",
       "    "
      ],
      "text/plain": [
       "\n",
       "    La solución del problema de condiciones iniciales es\n",
       "    \\(u(x)=\\frac{1}{2} \\, {\\left(e^{\\left(2 \\, \\sqrt{3} x\\right)} + 1\\right)} e^{\\left(-\\sqrt{3} x - x\\right)}\\)\n",
       "    "
      ]
     },
     "metadata": {},
     "output_type": "display_data"
    },
    {
     "data": {
      "text/html": [
       "\n",
       "    <h1> EDOs lineales de 2o Orden </h1>\n",
       "    <h2> Caso homogeneo </h2>\n",
       "    <p> Encuentre la solución \\(u(x)\\) de la siguiente ecuación diferencial\n",
       "    \\(-2 \\, u\\left(x\\right) + 5 \\, \\frac{\\partial}{\\partial x}u\\left(x\\right) + \\frac{\\partial^{2}}{(\\partial x)^{2}}u\\left(x\\right) = 0\\) con condiciones iniciales \\(u(0)=1, \\; u'(0)=-1\\)\n",
       "    y evalue en el punto dado:</p>\n",
       "    <pre>\n",
       "    u(1.02) = {1:NM:=1.11366130637967:0.0334098391913902}\n",
       "    </pre>\n",
       "    "
      ],
      "text/plain": [
       "\n",
       "    <h1> EDOs lineales de 2o Orden </h1>\n",
       "    <h2> Caso homogeneo </h2>\n",
       "    <p> Encuentre la solución \\(u(x)\\) de la siguiente ecuación diferencial\n",
       "    \\(-2 \\, u\\left(x\\right) + 5 \\, \\frac{\\partial}{\\partial x}u\\left(x\\right) + \\frac{\\partial^{2}}{(\\partial x)^{2}}u\\left(x\\right) = 0\\) con condiciones iniciales \\(u(0)=1, \\; u'(0)=-1\\)\n",
       "    y evalue en el punto dado:</p>\n",
       "    <pre>\n",
       "    u(1.02) = {1:NM:=1.11366130637967:0.0334098391913902}\n",
       "    </pre>\n",
       "    "
      ]
     },
     "metadata": {},
     "output_type": "display_data"
    },
    {
     "data": {
      "text/html": [
       "\n",
       "    La solución del problema de condiciones iniciales es\n",
       "    \\(u(x)=\\frac{1}{22} \\, {\\left(\\sqrt{33} e^{\\left(\\sqrt{33} x\\right)} - \\sqrt{33} + 11 \\, e^{\\left(\\sqrt{33} x\\right)} + 11\\right)} e^{\\left(-\\frac{1}{2} \\, \\sqrt{33} x - \\frac{5}{2} \\, x\\right)}\\)\n",
       "    "
      ],
      "text/plain": [
       "\n",
       "    La solución del problema de condiciones iniciales es\n",
       "    \\(u(x)=\\frac{1}{22} \\, {\\left(\\sqrt{33} e^{\\left(\\sqrt{33} x\\right)} - \\sqrt{33} + 11 \\, e^{\\left(\\sqrt{33} x\\right)} + 11\\right)} e^{\\left(-\\frac{1}{2} \\, \\sqrt{33} x - \\frac{5}{2} \\, x\\right)}\\)\n",
       "    "
      ]
     },
     "metadata": {},
     "output_type": "display_data"
    },
    {
     "data": {
      "text/html": [
       "\n",
       "    <h1> EDOs lineales de 2o Orden </h1>\n",
       "    <h2> Caso homogeneo </h2>\n",
       "    <p> Encuentre la solución \\(u(x)\\) de la siguiente ecuación diferencial\n",
       "    \\(9 \\, u\\left(x\\right) + 9 \\, \\frac{\\partial}{\\partial x}u\\left(x\\right) + \\frac{\\partial^{2}}{(\\partial x)^{2}}u\\left(x\\right) = 0\\) con condiciones iniciales \\(u(0)=1, \\; u'(0)=0\\)\n",
       "    y evalue en el punto dado:</p>\n",
       "    <pre>\n",
       "    u(1.37) = {1:NM:=0.243609072968058:0.00730827218904174}\n",
       "    </pre>\n",
       "    "
      ],
      "text/plain": [
       "\n",
       "    <h1> EDOs lineales de 2o Orden </h1>\n",
       "    <h2> Caso homogeneo </h2>\n",
       "    <p> Encuentre la solución \\(u(x)\\) de la siguiente ecuación diferencial\n",
       "    \\(9 \\, u\\left(x\\right) + 9 \\, \\frac{\\partial}{\\partial x}u\\left(x\\right) + \\frac{\\partial^{2}}{(\\partial x)^{2}}u\\left(x\\right) = 0\\) con condiciones iniciales \\(u(0)=1, \\; u'(0)=0\\)\n",
       "    y evalue en el punto dado:</p>\n",
       "    <pre>\n",
       "    u(1.37) = {1:NM:=0.243609072968058:0.00730827218904174}\n",
       "    </pre>\n",
       "    "
      ]
     },
     "metadata": {},
     "output_type": "display_data"
    },
    {
     "data": {
      "text/html": [
       "\n",
       "    La solución del problema de condiciones iniciales es\n",
       "    \\(u(x)=\\frac{1}{10} \\, {\\left(3 \\, \\sqrt{5} e^{\\left(3 \\, \\sqrt{5} x\\right)} - 3 \\, \\sqrt{5} + 5 \\, e^{\\left(3 \\, \\sqrt{5} x\\right)} + 5\\right)} e^{\\left(-\\frac{3}{2} \\, \\sqrt{5} x - \\frac{9}{2} \\, x\\right)}\\)\n",
       "    "
      ],
      "text/plain": [
       "\n",
       "    La solución del problema de condiciones iniciales es\n",
       "    \\(u(x)=\\frac{1}{10} \\, {\\left(3 \\, \\sqrt{5} e^{\\left(3 \\, \\sqrt{5} x\\right)} - 3 \\, \\sqrt{5} + 5 \\, e^{\\left(3 \\, \\sqrt{5} x\\right)} + 5\\right)} e^{\\left(-\\frac{3}{2} \\, \\sqrt{5} x - \\frac{9}{2} \\, x\\right)}\\)\n",
       "    "
      ]
     },
     "metadata": {},
     "output_type": "display_data"
    },
    {
     "data": {
      "text/html": [
       "\n",
       "    <h1> EDOs lineales de 2o Orden </h1>\n",
       "    <h2> Caso homogeneo </h2>\n",
       "    <p> Encuentre la solución \\(u(x)\\) de la siguiente ecuación diferencial\n",
       "    \\(-8 \\, u\\left(x\\right) - 4 \\, \\frac{\\partial}{\\partial x}u\\left(x\\right) + \\frac{\\partial^{2}}{(\\partial x)^{2}}u\\left(x\\right) = 0\\) con condiciones iniciales \\(u(0)=-1, \\; u'(0)=1\\)\n",
       "    y evalue en el punto dado:</p>\n",
       "    <pre>\n",
       "    u(1.66) = {1:NM:=-582.481480541119:-17.4744444162336}\n",
       "    </pre>\n",
       "    "
      ],
      "text/plain": [
       "\n",
       "    <h1> EDOs lineales de 2o Orden </h1>\n",
       "    <h2> Caso homogeneo </h2>\n",
       "    <p> Encuentre la solución \\(u(x)\\) de la siguiente ecuación diferencial\n",
       "    \\(-8 \\, u\\left(x\\right) - 4 \\, \\frac{\\partial}{\\partial x}u\\left(x\\right) + \\frac{\\partial^{2}}{(\\partial x)^{2}}u\\left(x\\right) = 0\\) con condiciones iniciales \\(u(0)=-1, \\; u'(0)=1\\)\n",
       "    y evalue en el punto dado:</p>\n",
       "    <pre>\n",
       "    u(1.66) = {1:NM:=-582.481480541119:-17.4744444162336}\n",
       "    </pre>\n",
       "    "
      ]
     },
     "metadata": {},
     "output_type": "display_data"
    },
    {
     "data": {
      "text/html": [
       "\n",
       "    La solución del problema de condiciones iniciales es\n",
       "    \\(u(x)=\\frac{1}{4} \\, {\\left(\\sqrt{3} e^{\\left(4 \\, \\sqrt{3} x\\right)} - \\sqrt{3} - 2 \\, e^{\\left(4 \\, \\sqrt{3} x\\right)} - 2\\right)} e^{\\left(-2 \\, \\sqrt{3} x + 2 \\, x\\right)}\\)\n",
       "    "
      ],
      "text/plain": [
       "\n",
       "    La solución del problema de condiciones iniciales es\n",
       "    \\(u(x)=\\frac{1}{4} \\, {\\left(\\sqrt{3} e^{\\left(4 \\, \\sqrt{3} x\\right)} - \\sqrt{3} - 2 \\, e^{\\left(4 \\, \\sqrt{3} x\\right)} - 2\\right)} e^{\\left(-2 \\, \\sqrt{3} x + 2 \\, x\\right)}\\)\n",
       "    "
      ]
     },
     "metadata": {},
     "output_type": "display_data"
    },
    {
     "data": {
      "text/html": [
       "\n",
       "    <h1> EDOs lineales de 2o Orden </h1>\n",
       "    <h2> Caso homogeneo </h2>\n",
       "    <p> Encuentre la solución \\(u(x)\\) de la siguiente ecuación diferencial\n",
       "    \\(2 \\, u\\left(x\\right) - 4 \\, \\frac{\\partial}{\\partial x}u\\left(x\\right) + \\frac{\\partial^{2}}{(\\partial x)^{2}}u\\left(x\\right) = 0\\) con condiciones iniciales \\(u(0)=-1, \\; u'(0)=-1\\)\n",
       "    y evalue en el punto dado:</p>\n",
       "    <pre>\n",
       "    u(1.62) = {1:NM:=-39.1683029582170:-1.17504908874651}\n",
       "    </pre>\n",
       "    "
      ],
      "text/plain": [
       "\n",
       "    <h1> EDOs lineales de 2o Orden </h1>\n",
       "    <h2> Caso homogeneo </h2>\n",
       "    <p> Encuentre la solución \\(u(x)\\) de la siguiente ecuación diferencial\n",
       "    \\(2 \\, u\\left(x\\right) - 4 \\, \\frac{\\partial}{\\partial x}u\\left(x\\right) + \\frac{\\partial^{2}}{(\\partial x)^{2}}u\\left(x\\right) = 0\\) con condiciones iniciales \\(u(0)=-1, \\; u'(0)=-1\\)\n",
       "    y evalue en el punto dado:</p>\n",
       "    <pre>\n",
       "    u(1.62) = {1:NM:=-39.1683029582170:-1.17504908874651}\n",
       "    </pre>\n",
       "    "
      ]
     },
     "metadata": {},
     "output_type": "display_data"
    },
    {
     "data": {
      "text/html": [
       "\n",
       "    La solución del problema de condiciones iniciales es\n",
       "    \\(u(x)=\\frac{1}{4} \\, {\\left(\\sqrt{2} e^{\\left(2 \\, \\sqrt{2} x\\right)} - \\sqrt{2} - 2 \\, e^{\\left(2 \\, \\sqrt{2} x\\right)} - 2\\right)} e^{\\left(-\\sqrt{2} x + 2 \\, x\\right)}\\)\n",
       "    "
      ],
      "text/plain": [
       "\n",
       "    La solución del problema de condiciones iniciales es\n",
       "    \\(u(x)=\\frac{1}{4} \\, {\\left(\\sqrt{2} e^{\\left(2 \\, \\sqrt{2} x\\right)} - \\sqrt{2} - 2 \\, e^{\\left(2 \\, \\sqrt{2} x\\right)} - 2\\right)} e^{\\left(-\\sqrt{2} x + 2 \\, x\\right)}\\)\n",
       "    "
      ]
     },
     "metadata": {},
     "output_type": "display_data"
    },
    {
     "data": {
      "text/html": [
       "\n",
       "    <h1> EDOs lineales de 2o Orden </h1>\n",
       "    <h2> Caso homogeneo </h2>\n",
       "    <p> Encuentre la solución \\(u(x)\\) de la siguiente ecuación diferencial\n",
       "    \\(-3 \\, u\\left(x\\right) - 4 \\, \\frac{\\partial}{\\partial x}u\\left(x\\right) + \\frac{\\partial^{2}}{(\\partial x)^{2}}u\\left(x\\right) = 0\\) con condiciones iniciales \\(u(0)=-1, \\; u'(0)=0\\)\n",
       "    y evalue en el punto dado:</p>\n",
       "    <pre>\n",
       "    u(1.55) = {1:NM:=-163.930385135016:-4.91791155405049}\n",
       "    </pre>\n",
       "    "
      ],
      "text/plain": [
       "\n",
       "    <h1> EDOs lineales de 2o Orden </h1>\n",
       "    <h2> Caso homogeneo </h2>\n",
       "    <p> Encuentre la solución \\(u(x)\\) de la siguiente ecuación diferencial\n",
       "    \\(-3 \\, u\\left(x\\right) - 4 \\, \\frac{\\partial}{\\partial x}u\\left(x\\right) + \\frac{\\partial^{2}}{(\\partial x)^{2}}u\\left(x\\right) = 0\\) con condiciones iniciales \\(u(0)=-1, \\; u'(0)=0\\)\n",
       "    y evalue en el punto dado:</p>\n",
       "    <pre>\n",
       "    u(1.55) = {1:NM:=-163.930385135016:-4.91791155405049}\n",
       "    </pre>\n",
       "    "
      ]
     },
     "metadata": {},
     "output_type": "display_data"
    },
    {
     "data": {
      "text/html": [
       "\n",
       "    La solución del problema de condiciones iniciales es\n",
       "    \\(u(x)=\\frac{1}{14} \\, {\\left(2 \\, \\sqrt{7} e^{\\left(2 \\, \\sqrt{7} x\\right)} - 2 \\, \\sqrt{7} - 7 \\, e^{\\left(2 \\, \\sqrt{7} x\\right)} - 7\\right)} e^{\\left(-\\sqrt{7} x + 2 \\, x\\right)}\\)\n",
       "    "
      ],
      "text/plain": [
       "\n",
       "    La solución del problema de condiciones iniciales es\n",
       "    \\(u(x)=\\frac{1}{14} \\, {\\left(2 \\, \\sqrt{7} e^{\\left(2 \\, \\sqrt{7} x\\right)} - 2 \\, \\sqrt{7} - 7 \\, e^{\\left(2 \\, \\sqrt{7} x\\right)} - 7\\right)} e^{\\left(-\\sqrt{7} x + 2 \\, x\\right)}\\)\n",
       "    "
      ]
     },
     "metadata": {},
     "output_type": "display_data"
    },
    {
     "data": {
      "text/html": [
       "\n",
       "    <h1> EDOs lineales de 2o Orden </h1>\n",
       "    <h2> Caso homogeneo </h2>\n",
       "    <p> Encuentre la solución \\(u(x)\\) de la siguiente ecuación diferencial\n",
       "    \\(8 \\, u\\left(x\\right) + \\frac{\\partial}{\\partial x}u\\left(x\\right) + \\frac{\\partial^{2}}{(\\partial x)^{2}}u\\left(x\\right) = 0\\) con condiciones iniciales \\(u(0)=-1, \\; u'(0)=-1\\)\n",
       "    y evalue en el punto dado:</p>\n",
       "    <pre>\n",
       "    u(1.14) = {1:NM:=0.574994564103427:0.0172498369231028}\n",
       "    </pre>\n",
       "    "
      ],
      "text/plain": [
       "\n",
       "    <h1> EDOs lineales de 2o Orden </h1>\n",
       "    <h2> Caso homogeneo </h2>\n",
       "    <p> Encuentre la solución \\(u(x)\\) de la siguiente ecuación diferencial\n",
       "    \\(8 \\, u\\left(x\\right) + \\frac{\\partial}{\\partial x}u\\left(x\\right) + \\frac{\\partial^{2}}{(\\partial x)^{2}}u\\left(x\\right) = 0\\) con condiciones iniciales \\(u(0)=-1, \\; u'(0)=-1\\)\n",
       "    y evalue en el punto dado:</p>\n",
       "    <pre>\n",
       "    u(1.14) = {1:NM:=0.574994564103427:0.0172498369231028}\n",
       "    </pre>\n",
       "    "
      ]
     },
     "metadata": {},
     "output_type": "display_data"
    },
    {
     "data": {
      "text/html": [
       "\n",
       "    La solución del problema de condiciones iniciales es\n",
       "    \\(u(x)=-\\frac{1}{31} \\, {\\left(3 \\, \\sqrt{31} \\sin\\left(\\frac{1}{2} \\, \\sqrt{31} x\\right) + 31 \\, \\cos\\left(\\frac{1}{2} \\, \\sqrt{31} x\\right)\\right)} e^{\\left(-\\frac{1}{2} \\, x\\right)}\\)\n",
       "    "
      ],
      "text/plain": [
       "\n",
       "    La solución del problema de condiciones iniciales es\n",
       "    \\(u(x)=-\\frac{1}{31} \\, {\\left(3 \\, \\sqrt{31} \\sin\\left(\\frac{1}{2} \\, \\sqrt{31} x\\right) + 31 \\, \\cos\\left(\\frac{1}{2} \\, \\sqrt{31} x\\right)\\right)} e^{\\left(-\\frac{1}{2} \\, x\\right)}\\)\n",
       "    "
      ]
     },
     "metadata": {},
     "output_type": "display_data"
    },
    {
     "data": {
      "text/html": [
       "\n",
       "    <h1> EDOs lineales de 2o Orden </h1>\n",
       "    <h2> Caso homogeneo </h2>\n",
       "    <p> Encuentre la solución \\(u(x)\\) de la siguiente ecuación diferencial\n",
       "    \\(-2 \\, u\\left(x\\right) - 5 \\, \\frac{\\partial}{\\partial x}u\\left(x\\right) + \\frac{\\partial^{2}}{(\\partial x)^{2}}u\\left(x\\right) = 0\\) con condiciones iniciales \\(u(0)=-1, \\; u'(0)=1\\)\n",
       "    y evalue en el punto dado:</p>\n",
       "    <pre>\n",
       "    u(1.34) = {1:NM:=145.521228082877:4.36563684248630}\n",
       "    </pre>\n",
       "    "
      ],
      "text/plain": [
       "\n",
       "    <h1> EDOs lineales de 2o Orden </h1>\n",
       "    <h2> Caso homogeneo </h2>\n",
       "    <p> Encuentre la solución \\(u(x)\\) de la siguiente ecuación diferencial\n",
       "    \\(-2 \\, u\\left(x\\right) - 5 \\, \\frac{\\partial}{\\partial x}u\\left(x\\right) + \\frac{\\partial^{2}}{(\\partial x)^{2}}u\\left(x\\right) = 0\\) con condiciones iniciales \\(u(0)=-1, \\; u'(0)=1\\)\n",
       "    y evalue en el punto dado:</p>\n",
       "    <pre>\n",
       "    u(1.34) = {1:NM:=145.521228082877:4.36563684248630}\n",
       "    </pre>\n",
       "    "
      ]
     },
     "metadata": {},
     "output_type": "display_data"
    },
    {
     "data": {
      "text/html": [
       "\n",
       "    La solución del problema de condiciones iniciales es\n",
       "    \\(u(x)=\\frac{1}{66} \\, {\\left(7 \\, \\sqrt{33} e^{\\left(\\sqrt{33} x\\right)} - 7 \\, \\sqrt{33} - 33 \\, e^{\\left(\\sqrt{33} x\\right)} - 33\\right)} e^{\\left(-\\frac{1}{2} \\, \\sqrt{33} x + \\frac{5}{2} \\, x\\right)}\\)\n",
       "    "
      ],
      "text/plain": [
       "\n",
       "    La solución del problema de condiciones iniciales es\n",
       "    \\(u(x)=\\frac{1}{66} \\, {\\left(7 \\, \\sqrt{33} e^{\\left(\\sqrt{33} x\\right)} - 7 \\, \\sqrt{33} - 33 \\, e^{\\left(\\sqrt{33} x\\right)} - 33\\right)} e^{\\left(-\\frac{1}{2} \\, \\sqrt{33} x + \\frac{5}{2} \\, x\\right)}\\)\n",
       "    "
      ]
     },
     "metadata": {},
     "output_type": "display_data"
    },
    {
     "data": {
      "text/html": [
       "\n",
       "    <h1> EDOs lineales de 2o Orden </h1>\n",
       "    <h2> Caso homogeneo </h2>\n",
       "    <p> Encuentre la solución \\(u(x)\\) de la siguiente ecuación diferencial\n",
       "    \\(6 \\, u\\left(x\\right) - 6 \\, \\frac{\\partial}{\\partial x}u\\left(x\\right) + \\frac{\\partial^{2}}{(\\partial x)^{2}}u\\left(x\\right) = 0\\) con condiciones iniciales \\(u(0)=1, \\; u'(0)=0\\)\n",
       "    y evalue en el punto dado:</p>\n",
       "    <pre>\n",
       "    u(1.07) = {1:NM:=-52.5676773804117:-1.57703032141235}\n",
       "    </pre>\n",
       "    "
      ],
      "text/plain": [
       "\n",
       "    <h1> EDOs lineales de 2o Orden </h1>\n",
       "    <h2> Caso homogeneo </h2>\n",
       "    <p> Encuentre la solución \\(u(x)\\) de la siguiente ecuación diferencial\n",
       "    \\(6 \\, u\\left(x\\right) - 6 \\, \\frac{\\partial}{\\partial x}u\\left(x\\right) + \\frac{\\partial^{2}}{(\\partial x)^{2}}u\\left(x\\right) = 0\\) con condiciones iniciales \\(u(0)=1, \\; u'(0)=0\\)\n",
       "    y evalue en el punto dado:</p>\n",
       "    <pre>\n",
       "    u(1.07) = {1:NM:=-52.5676773804117:-1.57703032141235}\n",
       "    </pre>\n",
       "    "
      ]
     },
     "metadata": {},
     "output_type": "display_data"
    },
    {
     "data": {
      "text/html": [
       "\n",
       "    La solución del problema de condiciones iniciales es\n",
       "    \\(u(x)=-\\frac{1}{2} \\, {\\left(\\sqrt{3} e^{\\left(2 \\, \\sqrt{3} x\\right)} - \\sqrt{3} - e^{\\left(2 \\, \\sqrt{3} x\\right)} - 1\\right)} e^{\\left(-\\sqrt{3} x + 3 \\, x\\right)}\\)\n",
       "    "
      ],
      "text/plain": [
       "\n",
       "    La solución del problema de condiciones iniciales es\n",
       "    \\(u(x)=-\\frac{1}{2} \\, {\\left(\\sqrt{3} e^{\\left(2 \\, \\sqrt{3} x\\right)} - \\sqrt{3} - e^{\\left(2 \\, \\sqrt{3} x\\right)} - 1\\right)} e^{\\left(-\\sqrt{3} x + 3 \\, x\\right)}\\)\n",
       "    "
      ]
     },
     "metadata": {},
     "output_type": "display_data"
    },
    {
     "data": {
      "text/html": [
       "\n",
       "    <h1> EDOs lineales de 2o Orden </h1>\n",
       "    <h2> Caso homogeneo </h2>\n",
       "    <p> Encuentre la solución \\(u(x)\\) de la siguiente ecuación diferencial\n",
       "    \\(-u\\left(x\\right) - 10 \\, \\frac{\\partial}{\\partial x}u\\left(x\\right) + \\frac{\\partial^{2}}{(\\partial x)^{2}}u\\left(x\\right) = 0\\) con condiciones iniciales \\(u(0)=1, \\; u'(0)=1\\)\n",
       "    y evalue en el punto dado:</p>\n",
       "    <pre>\n",
       "    u(1.24) = {1:NM:=29585.3283030781:887.559849092345}\n",
       "    </pre>\n",
       "    "
      ],
      "text/plain": [
       "\n",
       "    <h1> EDOs lineales de 2o Orden </h1>\n",
       "    <h2> Caso homogeneo </h2>\n",
       "    <p> Encuentre la solución \\(u(x)\\) de la siguiente ecuación diferencial\n",
       "    \\(-u\\left(x\\right) - 10 \\, \\frac{\\partial}{\\partial x}u\\left(x\\right) + \\frac{\\partial^{2}}{(\\partial x)^{2}}u\\left(x\\right) = 0\\) con condiciones iniciales \\(u(0)=1, \\; u'(0)=1\\)\n",
       "    y evalue en el punto dado:</p>\n",
       "    <pre>\n",
       "    u(1.24) = {1:NM:=29585.3283030781:887.559849092345}\n",
       "    </pre>\n",
       "    "
      ]
     },
     "metadata": {},
     "output_type": "display_data"
    },
    {
     "data": {
      "text/html": [
       "\n",
       "    La solución del problema de condiciones iniciales es\n",
       "    \\(u(x)=-\\frac{1}{26} \\, {\\left(2 \\, \\sqrt{26} e^{\\left(2 \\, \\sqrt{26} x\\right)} - 2 \\, \\sqrt{26} - 13 \\, e^{\\left(2 \\, \\sqrt{26} x\\right)} - 13\\right)} e^{\\left(-\\sqrt{26} x + 5 \\, x\\right)}\\)\n",
       "    "
      ],
      "text/plain": [
       "\n",
       "    La solución del problema de condiciones iniciales es\n",
       "    \\(u(x)=-\\frac{1}{26} \\, {\\left(2 \\, \\sqrt{26} e^{\\left(2 \\, \\sqrt{26} x\\right)} - 2 \\, \\sqrt{26} - 13 \\, e^{\\left(2 \\, \\sqrt{26} x\\right)} - 13\\right)} e^{\\left(-\\sqrt{26} x + 5 \\, x\\right)}\\)\n",
       "    "
      ]
     },
     "metadata": {},
     "output_type": "display_data"
    },
    {
     "data": {
      "text/html": [
       "\n",
       "    <h1> EDOs lineales de 2o Orden </h1>\n",
       "    <h2> Caso homogeneo </h2>\n",
       "    <p> Encuentre la solución \\(u(x)\\) de la siguiente ecuación diferencial\n",
       "    \\(9 \\, u\\left(x\\right) - 5 \\, \\frac{\\partial}{\\partial x}u\\left(x\\right) + \\frac{\\partial^{2}}{(\\partial x)^{2}}u\\left(x\\right) = 0\\) con condiciones iniciales \\(u(0)=1, \\; u'(0)=0\\)\n",
       "    y evalue en el punto dado:</p>\n",
       "    <pre>\n",
       "    u(1.17) = {1:NM:=-32.9253822560557:-0.987761467681671}\n",
       "    </pre>\n",
       "    "
      ],
      "text/plain": [
       "\n",
       "    <h1> EDOs lineales de 2o Orden </h1>\n",
       "    <h2> Caso homogeneo </h2>\n",
       "    <p> Encuentre la solución \\(u(x)\\) de la siguiente ecuación diferencial\n",
       "    \\(9 \\, u\\left(x\\right) - 5 \\, \\frac{\\partial}{\\partial x}u\\left(x\\right) + \\frac{\\partial^{2}}{(\\partial x)^{2}}u\\left(x\\right) = 0\\) con condiciones iniciales \\(u(0)=1, \\; u'(0)=0\\)\n",
       "    y evalue en el punto dado:</p>\n",
       "    <pre>\n",
       "    u(1.17) = {1:NM:=-32.9253822560557:-0.987761467681671}\n",
       "    </pre>\n",
       "    "
      ]
     },
     "metadata": {},
     "output_type": "display_data"
    },
    {
     "data": {
      "text/html": [
       "\n",
       "    La solución del problema de condiciones iniciales es\n",
       "    \\(u(x)=\\frac{1}{11} \\, \\sqrt{11} {\\left(\\sqrt{11} \\cos\\left(\\frac{1}{2} \\, \\sqrt{11} x\\right) - 5 \\, \\sin\\left(\\frac{1}{2} \\, \\sqrt{11} x\\right)\\right)} e^{\\left(\\frac{5}{2} \\, x\\right)}\\)\n",
       "    "
      ],
      "text/plain": [
       "\n",
       "    La solución del problema de condiciones iniciales es\n",
       "    \\(u(x)=\\frac{1}{11} \\, \\sqrt{11} {\\left(\\sqrt{11} \\cos\\left(\\frac{1}{2} \\, \\sqrt{11} x\\right) - 5 \\, \\sin\\left(\\frac{1}{2} \\, \\sqrt{11} x\\right)\\right)} e^{\\left(\\frac{5}{2} \\, x\\right)}\\)\n",
       "    "
      ]
     },
     "metadata": {},
     "output_type": "display_data"
    },
    {
     "data": {
      "text/html": [
       "\n",
       "    <h1> EDOs lineales de 2o Orden </h1>\n",
       "    <h2> Caso homogeneo </h2>\n",
       "    <p> Encuentre la solución \\(u(x)\\) de la siguiente ecuación diferencial\n",
       "    \\(9 \\, u\\left(x\\right) - 2 \\, \\frac{\\partial}{\\partial x}u\\left(x\\right) + \\frac{\\partial^{2}}{(\\partial x)^{2}}u\\left(x\\right) = 0\\) con condiciones iniciales \\(u(0)=-1, \\; u'(0)=1\\)\n",
       "    y evalue en el punto dado:</p>\n",
       "    <pre>\n",
       "    u(1.77) = {1:NM:=-5.67414773341035:-0.170224432002310}\n",
       "    </pre>\n",
       "    "
      ],
      "text/plain": [
       "\n",
       "    <h1> EDOs lineales de 2o Orden </h1>\n",
       "    <h2> Caso homogeneo </h2>\n",
       "    <p> Encuentre la solución \\(u(x)\\) de la siguiente ecuación diferencial\n",
       "    \\(9 \\, u\\left(x\\right) - 2 \\, \\frac{\\partial}{\\partial x}u\\left(x\\right) + \\frac{\\partial^{2}}{(\\partial x)^{2}}u\\left(x\\right) = 0\\) con condiciones iniciales \\(u(0)=-1, \\; u'(0)=1\\)\n",
       "    y evalue en el punto dado:</p>\n",
       "    <pre>\n",
       "    u(1.77) = {1:NM:=-5.67414773341035:-0.170224432002310}\n",
       "    </pre>\n",
       "    "
      ]
     },
     "metadata": {},
     "output_type": "display_data"
    },
    {
     "data": {
      "text/html": [
       "\n",
       "    La solución del problema de condiciones iniciales es\n",
       "    \\(u(x)=-\\frac{1}{2} \\, \\sqrt{2} {\\left(\\sqrt{2} \\cos\\left(2 \\, \\sqrt{2} x\\right) - \\sin\\left(2 \\, \\sqrt{2} x\\right)\\right)} e^{x}\\)\n",
       "    "
      ],
      "text/plain": [
       "\n",
       "    La solución del problema de condiciones iniciales es\n",
       "    \\(u(x)=-\\frac{1}{2} \\, \\sqrt{2} {\\left(\\sqrt{2} \\cos\\left(2 \\, \\sqrt{2} x\\right) - \\sin\\left(2 \\, \\sqrt{2} x\\right)\\right)} e^{x}\\)\n",
       "    "
      ]
     },
     "metadata": {},
     "output_type": "display_data"
    },
    {
     "data": {
      "text/html": [
       "\n",
       "    <h1> EDOs lineales de 2o Orden </h1>\n",
       "    <h2> Caso homogeneo </h2>\n",
       "    <p> Encuentre la solución \\(u(x)\\) de la siguiente ecuación diferencial\n",
       "    \\(-9 \\, u\\left(x\\right) - \\frac{\\partial}{\\partial x}u\\left(x\\right) + \\frac{\\partial^{2}}{(\\partial x)^{2}}u\\left(x\\right) = 0\\) con condiciones iniciales \\(u(0)=-1, \\; u'(0)=1\\)\n",
       "    y evalue en el punto dado:</p>\n",
       "    <pre>\n",
       "    u(1.68) = {1:NM:=-97.2075081468697:-2.91622524440609}\n",
       "    </pre>\n",
       "    "
      ],
      "text/plain": [
       "\n",
       "    <h1> EDOs lineales de 2o Orden </h1>\n",
       "    <h2> Caso homogeneo </h2>\n",
       "    <p> Encuentre la solución \\(u(x)\\) de la siguiente ecuación diferencial\n",
       "    \\(-9 \\, u\\left(x\\right) - \\frac{\\partial}{\\partial x}u\\left(x\\right) + \\frac{\\partial^{2}}{(\\partial x)^{2}}u\\left(x\\right) = 0\\) con condiciones iniciales \\(u(0)=-1, \\; u'(0)=1\\)\n",
       "    y evalue en el punto dado:</p>\n",
       "    <pre>\n",
       "    u(1.68) = {1:NM:=-97.2075081468697:-2.91622524440609}\n",
       "    </pre>\n",
       "    "
      ]
     },
     "metadata": {},
     "output_type": "display_data"
    },
    {
     "data": {
      "text/html": [
       "\n",
       "    La solución del problema de condiciones iniciales es\n",
       "    \\(u(x)=\\frac{1}{74} \\, {\\left(3 \\, \\sqrt{37} e^{\\left(\\sqrt{37} x\\right)} - 3 \\, \\sqrt{37} - 37 \\, e^{\\left(\\sqrt{37} x\\right)} - 37\\right)} e^{\\left(-\\frac{1}{2} \\, \\sqrt{37} x + \\frac{1}{2} \\, x\\right)}\\)\n",
       "    "
      ],
      "text/plain": [
       "\n",
       "    La solución del problema de condiciones iniciales es\n",
       "    \\(u(x)=\\frac{1}{74} \\, {\\left(3 \\, \\sqrt{37} e^{\\left(\\sqrt{37} x\\right)} - 3 \\, \\sqrt{37} - 37 \\, e^{\\left(\\sqrt{37} x\\right)} - 37\\right)} e^{\\left(-\\frac{1}{2} \\, \\sqrt{37} x + \\frac{1}{2} \\, x\\right)}\\)\n",
       "    "
      ]
     },
     "metadata": {},
     "output_type": "display_data"
    },
    {
     "data": {
      "text/html": [
       "\n",
       "    <h1> EDOs lineales de 2o Orden </h1>\n",
       "    <h2> Caso homogeneo </h2>\n",
       "    <p> Encuentre la solución \\(u(x)\\) de la siguiente ecuación diferencial\n",
       "    \\(-6 \\, u\\left(x\\right) - 6 \\, \\frac{\\partial}{\\partial x}u\\left(x\\right) + \\frac{\\partial^{2}}{(\\partial x)^{2}}u\\left(x\\right) = 0\\) con condiciones iniciales \\(u(0)=-1, \\; u'(0)=1\\)\n",
       "    y evalue en el punto dado:</p>\n",
       "    <pre>\n",
       "    u(1.34) = {1:NM:=163.573310196035:4.90719930588106}\n",
       "    </pre>\n",
       "    "
      ],
      "text/plain": [
       "\n",
       "    <h1> EDOs lineales de 2o Orden </h1>\n",
       "    <h2> Caso homogeneo </h2>\n",
       "    <p> Encuentre la solución \\(u(x)\\) de la siguiente ecuación diferencial\n",
       "    \\(-6 \\, u\\left(x\\right) - 6 \\, \\frac{\\partial}{\\partial x}u\\left(x\\right) + \\frac{\\partial^{2}}{(\\partial x)^{2}}u\\left(x\\right) = 0\\) con condiciones iniciales \\(u(0)=-1, \\; u'(0)=1\\)\n",
       "    y evalue en el punto dado:</p>\n",
       "    <pre>\n",
       "    u(1.34) = {1:NM:=163.573310196035:4.90719930588106}\n",
       "    </pre>\n",
       "    "
      ]
     },
     "metadata": {},
     "output_type": "display_data"
    },
    {
     "data": {
      "text/html": [
       "\n",
       "    La solución del problema de condiciones iniciales es\n",
       "    \\(u(x)=\\frac{1}{30} \\, {\\left(4 \\, \\sqrt{15} e^{\\left(2 \\, \\sqrt{15} x\\right)} - 4 \\, \\sqrt{15} - 15 \\, e^{\\left(2 \\, \\sqrt{15} x\\right)} - 15\\right)} e^{\\left(-\\sqrt{15} x + 3 \\, x\\right)}\\)\n",
       "    "
      ],
      "text/plain": [
       "\n",
       "    La solución del problema de condiciones iniciales es\n",
       "    \\(u(x)=\\frac{1}{30} \\, {\\left(4 \\, \\sqrt{15} e^{\\left(2 \\, \\sqrt{15} x\\right)} - 4 \\, \\sqrt{15} - 15 \\, e^{\\left(2 \\, \\sqrt{15} x\\right)} - 15\\right)} e^{\\left(-\\sqrt{15} x + 3 \\, x\\right)}\\)\n",
       "    "
      ]
     },
     "metadata": {},
     "output_type": "display_data"
    },
    {
     "data": {
      "text/html": [
       "\n",
       "    <h1> EDOs lineales de 2o Orden </h1>\n",
       "    <h2> Caso homogeneo </h2>\n",
       "    <p> Encuentre la solución \\(u(x)\\) de la siguiente ecuación diferencial\n",
       "    \\(2 \\, u\\left(x\\right) + 5 \\, \\frac{\\partial}{\\partial x}u\\left(x\\right) + \\frac{\\partial^{2}}{(\\partial x)^{2}}u\\left(x\\right) = 0\\) con condiciones iniciales \\(u(0)=1, \\; u'(0)=-1\\)\n",
       "    y evalue en el punto dado:</p>\n",
       "    <pre>\n",
       "    u(1.32) = {1:NM:=0.484577424726005:0.0145373227417801}\n",
       "    </pre>\n",
       "    "
      ],
      "text/plain": [
       "\n",
       "    <h1> EDOs lineales de 2o Orden </h1>\n",
       "    <h2> Caso homogeneo </h2>\n",
       "    <p> Encuentre la solución \\(u(x)\\) de la siguiente ecuación diferencial\n",
       "    \\(2 \\, u\\left(x\\right) + 5 \\, \\frac{\\partial}{\\partial x}u\\left(x\\right) + \\frac{\\partial^{2}}{(\\partial x)^{2}}u\\left(x\\right) = 0\\) con condiciones iniciales \\(u(0)=1, \\; u'(0)=-1\\)\n",
       "    y evalue en el punto dado:</p>\n",
       "    <pre>\n",
       "    u(1.32) = {1:NM:=0.484577424726005:0.0145373227417801}\n",
       "    </pre>\n",
       "    "
      ]
     },
     "metadata": {},
     "output_type": "display_data"
    },
    {
     "data": {
      "text/html": [
       "\n",
       "    La solución del problema de condiciones iniciales es\n",
       "    \\(u(x)=\\frac{1}{34} \\, {\\left(3 \\, \\sqrt{17} e^{\\left(\\sqrt{17} x\\right)} - 3 \\, \\sqrt{17} + 17 \\, e^{\\left(\\sqrt{17} x\\right)} + 17\\right)} e^{\\left(-\\frac{1}{2} \\, \\sqrt{17} x - \\frac{5}{2} \\, x\\right)}\\)\n",
       "    "
      ],
      "text/plain": [
       "\n",
       "    La solución del problema de condiciones iniciales es\n",
       "    \\(u(x)=\\frac{1}{34} \\, {\\left(3 \\, \\sqrt{17} e^{\\left(\\sqrt{17} x\\right)} - 3 \\, \\sqrt{17} + 17 \\, e^{\\left(\\sqrt{17} x\\right)} + 17\\right)} e^{\\left(-\\frac{1}{2} \\, \\sqrt{17} x - \\frac{5}{2} \\, x\\right)}\\)\n",
       "    "
      ]
     },
     "metadata": {},
     "output_type": "display_data"
    },
    {
     "data": {
      "text/html": [
       "\n",
       "    <h1> EDOs lineales de 2o Orden </h1>\n",
       "    <h2> Caso homogeneo </h2>\n",
       "    <p> Encuentre la solución \\(u(x)\\) de la siguiente ecuación diferencial\n",
       "    \\(5 \\, u\\left(x\\right) + 6 \\, \\frac{\\partial}{\\partial x}u\\left(x\\right) + \\frac{\\partial^{2}}{(\\partial x)^{2}}u\\left(x\\right) = 0\\) con condiciones iniciales \\(u(0)=-1, \\; u'(0)=1\\)\n",
       "    y evalue en el punto dado:</p>\n",
       "    <pre>\n",
       "    u(1.78) = {1:NM:=-0.168638147268595:-0.00505914441805787}\n",
       "    </pre>\n",
       "    "
      ],
      "text/plain": [
       "\n",
       "    <h1> EDOs lineales de 2o Orden </h1>\n",
       "    <h2> Caso homogeneo </h2>\n",
       "    <p> Encuentre la solución \\(u(x)\\) de la siguiente ecuación diferencial\n",
       "    \\(5 \\, u\\left(x\\right) + 6 \\, \\frac{\\partial}{\\partial x}u\\left(x\\right) + \\frac{\\partial^{2}}{(\\partial x)^{2}}u\\left(x\\right) = 0\\) con condiciones iniciales \\(u(0)=-1, \\; u'(0)=1\\)\n",
       "    y evalue en el punto dado:</p>\n",
       "    <pre>\n",
       "    u(1.78) = {1:NM:=-0.168638147268595:-0.00505914441805787}\n",
       "    </pre>\n",
       "    "
      ]
     },
     "metadata": {},
     "output_type": "display_data"
    },
    {
     "data": {
      "text/html": [
       "\n",
       "    La solución del problema de condiciones iniciales es\n",
       "    \\(u(x)=-e^{\\left(-x\\right)}\\)\n",
       "    "
      ],
      "text/plain": [
       "\n",
       "    La solución del problema de condiciones iniciales es\n",
       "    \\(u(x)=-e^{\\left(-x\\right)}\\)\n",
       "    "
      ]
     },
     "metadata": {},
     "output_type": "display_data"
    },
    {
     "data": {
      "text/html": [
       "\n",
       "    <h1> EDOs lineales de 2o Orden </h1>\n",
       "    <h2> Caso homogeneo </h2>\n",
       "    <p> Encuentre la solución \\(u(x)\\) de la siguiente ecuación diferencial\n",
       "    \\(2 \\, u\\left(x\\right) - 8 \\, \\frac{\\partial}{\\partial x}u\\left(x\\right) + \\frac{\\partial^{2}}{(\\partial x)^{2}}u\\left(x\\right) = 0\\) con condiciones iniciales \\(u(0)=-1, \\; u'(0)=1\\)\n",
       "    y evalue en el punto dado:</p>\n",
       "    <pre>\n",
       "    u(1.99) = {1:NM:=824898.357856935:24746.9507357080}\n",
       "    </pre>\n",
       "    "
      ],
      "text/plain": [
       "\n",
       "    <h1> EDOs lineales de 2o Orden </h1>\n",
       "    <h2> Caso homogeneo </h2>\n",
       "    <p> Encuentre la solución \\(u(x)\\) de la siguiente ecuación diferencial\n",
       "    \\(2 \\, u\\left(x\\right) - 8 \\, \\frac{\\partial}{\\partial x}u\\left(x\\right) + \\frac{\\partial^{2}}{(\\partial x)^{2}}u\\left(x\\right) = 0\\) con condiciones iniciales \\(u(0)=-1, \\; u'(0)=1\\)\n",
       "    y evalue en el punto dado:</p>\n",
       "    <pre>\n",
       "    u(1.99) = {1:NM:=824898.357856935:24746.9507357080}\n",
       "    </pre>\n",
       "    "
      ]
     },
     "metadata": {},
     "output_type": "display_data"
    },
    {
     "data": {
      "text/html": [
       "\n",
       "    La solución del problema de condiciones iniciales es\n",
       "    \\(u(x)=\\frac{1}{28} \\, {\\left(5 \\, \\sqrt{14} e^{\\left(2 \\, \\sqrt{14} x\\right)} - 5 \\, \\sqrt{14} - 14 \\, e^{\\left(2 \\, \\sqrt{14} x\\right)} - 14\\right)} e^{\\left(-\\sqrt{14} x + 4 \\, x\\right)}\\)\n",
       "    "
      ],
      "text/plain": [
       "\n",
       "    La solución del problema de condiciones iniciales es\n",
       "    \\(u(x)=\\frac{1}{28} \\, {\\left(5 \\, \\sqrt{14} e^{\\left(2 \\, \\sqrt{14} x\\right)} - 5 \\, \\sqrt{14} - 14 \\, e^{\\left(2 \\, \\sqrt{14} x\\right)} - 14\\right)} e^{\\left(-\\sqrt{14} x + 4 \\, x\\right)}\\)\n",
       "    "
      ]
     },
     "metadata": {},
     "output_type": "display_data"
    },
    {
     "data": {
      "text/html": [
       "\n",
       "    <h1> EDOs lineales de 2o Orden </h1>\n",
       "    <h2> Caso homogeneo </h2>\n",
       "    <p> Encuentre la solución \\(u(x)\\) de la siguiente ecuación diferencial\n",
       "    \\(-6 \\, u\\left(x\\right) + 5 \\, \\frac{\\partial}{\\partial x}u\\left(x\\right) + \\frac{\\partial^{2}}{(\\partial x)^{2}}u\\left(x\\right) = 0\\) con condiciones iniciales \\(u(0)=0, \\; u'(0)=-1\\)\n",
       "    y evalue en el punto dado:</p>\n",
       "    <pre>\n",
       "    u(1.54) = {1:NM:=-0.666356170485415:-0.0199906851145624}\n",
       "    </pre>\n",
       "    "
      ],
      "text/plain": [
       "\n",
       "    <h1> EDOs lineales de 2o Orden </h1>\n",
       "    <h2> Caso homogeneo </h2>\n",
       "    <p> Encuentre la solución \\(u(x)\\) de la siguiente ecuación diferencial\n",
       "    \\(-6 \\, u\\left(x\\right) + 5 \\, \\frac{\\partial}{\\partial x}u\\left(x\\right) + \\frac{\\partial^{2}}{(\\partial x)^{2}}u\\left(x\\right) = 0\\) con condiciones iniciales \\(u(0)=0, \\; u'(0)=-1\\)\n",
       "    y evalue en el punto dado:</p>\n",
       "    <pre>\n",
       "    u(1.54) = {1:NM:=-0.666356170485415:-0.0199906851145624}\n",
       "    </pre>\n",
       "    "
      ]
     },
     "metadata": {},
     "output_type": "display_data"
    },
    {
     "data": {
      "text/html": [
       "\n",
       "    La solución del problema de condiciones iniciales es\n",
       "    \\(u(x)=-\\frac{1}{7} \\, {\\left(e^{\\left(6 \\, x\\right)} + e^{\\left(5 \\, x\\right)} + e^{\\left(4 \\, x\\right)} + e^{\\left(3 \\, x\\right)} + e^{\\left(2 \\, x\\right)} + e^{x} + 1\\right)} {\\left(e^{x} - 1\\right)} e^{\\left(-6 \\, x\\right)}\\)\n",
       "    "
      ],
      "text/plain": [
       "\n",
       "    La solución del problema de condiciones iniciales es\n",
       "    \\(u(x)=-\\frac{1}{7} \\, {\\left(e^{\\left(6 \\, x\\right)} + e^{\\left(5 \\, x\\right)} + e^{\\left(4 \\, x\\right)} + e^{\\left(3 \\, x\\right)} + e^{\\left(2 \\, x\\right)} + e^{x} + 1\\right)} {\\left(e^{x} - 1\\right)} e^{\\left(-6 \\, x\\right)}\\)\n",
       "    "
      ]
     },
     "metadata": {},
     "output_type": "display_data"
    },
    {
     "data": {
      "text/html": [
       "\n",
       "    <h1> EDOs lineales de 2o Orden </h1>\n",
       "    <h2> Caso homogeneo </h2>\n",
       "    <p> Encuentre la solución \\(u(x)\\) de la siguiente ecuación diferencial\n",
       "    \\(9 \\, u\\left(x\\right) + 7 \\, \\frac{\\partial}{\\partial x}u\\left(x\\right) + \\frac{\\partial^{2}}{(\\partial x)^{2}}u\\left(x\\right) = 0\\) con condiciones iniciales \\(u(0)=1, \\; u'(0)=0\\)\n",
       "    y evalue en el punto dado:</p>\n",
       "    <pre>\n",
       "    u(1.21) = {1:NM:=0.187876037972552:0.00563628113917657}\n",
       "    </pre>\n",
       "    "
      ],
      "text/plain": [
       "\n",
       "    <h1> EDOs lineales de 2o Orden </h1>\n",
       "    <h2> Caso homogeneo </h2>\n",
       "    <p> Encuentre la solución \\(u(x)\\) de la siguiente ecuación diferencial\n",
       "    \\(9 \\, u\\left(x\\right) + 7 \\, \\frac{\\partial}{\\partial x}u\\left(x\\right) + \\frac{\\partial^{2}}{(\\partial x)^{2}}u\\left(x\\right) = 0\\) con condiciones iniciales \\(u(0)=1, \\; u'(0)=0\\)\n",
       "    y evalue en el punto dado:</p>\n",
       "    <pre>\n",
       "    u(1.21) = {1:NM:=0.187876037972552:0.00563628113917657}\n",
       "    </pre>\n",
       "    "
      ]
     },
     "metadata": {},
     "output_type": "display_data"
    },
    {
     "data": {
      "text/html": [
       "\n",
       "    La solución del problema de condiciones iniciales es\n",
       "    \\(u(x)=\\frac{1}{26} \\, {\\left(7 \\, \\sqrt{13} e^{\\left(\\sqrt{13} x\\right)} - 7 \\, \\sqrt{13} + 13 \\, e^{\\left(\\sqrt{13} x\\right)} + 13\\right)} e^{\\left(-\\frac{1}{2} \\, \\sqrt{13} x - \\frac{7}{2} \\, x\\right)}\\)\n",
       "    "
      ],
      "text/plain": [
       "\n",
       "    La solución del problema de condiciones iniciales es\n",
       "    \\(u(x)=\\frac{1}{26} \\, {\\left(7 \\, \\sqrt{13} e^{\\left(\\sqrt{13} x\\right)} - 7 \\, \\sqrt{13} + 13 \\, e^{\\left(\\sqrt{13} x\\right)} + 13\\right)} e^{\\left(-\\frac{1}{2} \\, \\sqrt{13} x - \\frac{7}{2} \\, x\\right)}\\)\n",
       "    "
      ]
     },
     "metadata": {},
     "output_type": "display_data"
    },
    {
     "data": {
      "text/html": [
       "\n",
       "    <h1> EDOs lineales de 2o Orden </h1>\n",
       "    <h2> Caso homogeneo </h2>\n",
       "    <p> Encuentre la solución \\(u(x)\\) de la siguiente ecuación diferencial\n",
       "    \\(-5 \\, u\\left(x\\right) - 9 \\, \\frac{\\partial}{\\partial x}u\\left(x\\right) + \\frac{\\partial^{2}}{(\\partial x)^{2}}u\\left(x\\right) = 0\\) con condiciones iniciales \\(u(0)=-1, \\; u'(0)=1\\)\n",
       "    y evalue en el punto dado:</p>\n",
       "    <pre>\n",
       "    u(1.99) = {1:NM:=8.06267850917871e6:241880.355275361}\n",
       "    </pre>\n",
       "    "
      ],
      "text/plain": [
       "\n",
       "    <h1> EDOs lineales de 2o Orden </h1>\n",
       "    <h2> Caso homogeneo </h2>\n",
       "    <p> Encuentre la solución \\(u(x)\\) de la siguiente ecuación diferencial\n",
       "    \\(-5 \\, u\\left(x\\right) - 9 \\, \\frac{\\partial}{\\partial x}u\\left(x\\right) + \\frac{\\partial^{2}}{(\\partial x)^{2}}u\\left(x\\right) = 0\\) con condiciones iniciales \\(u(0)=-1, \\; u'(0)=1\\)\n",
       "    y evalue en el punto dado:</p>\n",
       "    <pre>\n",
       "    u(1.99) = {1:NM:=8.06267850917871e6:241880.355275361}\n",
       "    </pre>\n",
       "    "
      ]
     },
     "metadata": {},
     "output_type": "display_data"
    },
    {
     "data": {
      "text/html": [
       "\n",
       "    La solución del problema de condiciones iniciales es\n",
       "    \\(u(x)=\\frac{1}{202} \\, {\\left(11 \\, \\sqrt{101} e^{\\left(\\sqrt{101} x\\right)} - 11 \\, \\sqrt{101} - 101 \\, e^{\\left(\\sqrt{101} x\\right)} - 101\\right)} e^{\\left(-\\frac{1}{2} \\, \\sqrt{101} x + \\frac{9}{2} \\, x\\right)}\\)\n",
       "    "
      ],
      "text/plain": [
       "\n",
       "    La solución del problema de condiciones iniciales es\n",
       "    \\(u(x)=\\frac{1}{202} \\, {\\left(11 \\, \\sqrt{101} e^{\\left(\\sqrt{101} x\\right)} - 11 \\, \\sqrt{101} - 101 \\, e^{\\left(\\sqrt{101} x\\right)} - 101\\right)} e^{\\left(-\\frac{1}{2} \\, \\sqrt{101} x + \\frac{9}{2} \\, x\\right)}\\)\n",
       "    "
      ]
     },
     "metadata": {},
     "output_type": "display_data"
    },
    {
     "data": {
      "text/html": [
       "\n",
       "    <h1> EDOs lineales de 2o Orden </h1>\n",
       "    <h2> Caso homogeneo </h2>\n",
       "    <p> Encuentre la solución \\(u(x)\\) de la siguiente ecuación diferencial\n",
       "    \\(9 \\, u\\left(x\\right) + 6 \\, \\frac{\\partial}{\\partial x}u\\left(x\\right) + \\frac{\\partial^{2}}{(\\partial x)^{2}}u\\left(x\\right) = 0\\) con condiciones iniciales \\(u(0)=0, \\; u'(0)=1\\)\n",
       "    y evalue en el punto dado:</p>\n",
       "    <pre>\n",
       "    u(1.27) = {1:NM:=0.0281281872754374:0.000843845618263122}\n",
       "    </pre>\n",
       "    "
      ],
      "text/plain": [
       "\n",
       "    <h1> EDOs lineales de 2o Orden </h1>\n",
       "    <h2> Caso homogeneo </h2>\n",
       "    <p> Encuentre la solución \\(u(x)\\) de la siguiente ecuación diferencial\n",
       "    \\(9 \\, u\\left(x\\right) + 6 \\, \\frac{\\partial}{\\partial x}u\\left(x\\right) + \\frac{\\partial^{2}}{(\\partial x)^{2}}u\\left(x\\right) = 0\\) con condiciones iniciales \\(u(0)=0, \\; u'(0)=1\\)\n",
       "    y evalue en el punto dado:</p>\n",
       "    <pre>\n",
       "    u(1.27) = {1:NM:=0.0281281872754374:0.000843845618263122}\n",
       "    </pre>\n",
       "    "
      ]
     },
     "metadata": {},
     "output_type": "display_data"
    },
    {
     "data": {
      "text/html": [
       "\n",
       "    La solución del problema de condiciones iniciales es\n",
       "    \\(u(x)=x e^{\\left(-3 \\, x\\right)}\\)\n",
       "    "
      ],
      "text/plain": [
       "\n",
       "    La solución del problema de condiciones iniciales es\n",
       "    \\(u(x)=x e^{\\left(-3 \\, x\\right)}\\)\n",
       "    "
      ]
     },
     "metadata": {},
     "output_type": "display_data"
    },
    {
     "data": {
      "text/html": [
       "\n",
       "    <h1> EDOs lineales de 2o Orden </h1>\n",
       "    <h2> Caso homogeneo </h2>\n",
       "    <p> Encuentre la solución \\(u(x)\\) de la siguiente ecuación diferencial\n",
       "    \\(u\\left(x\\right) - 5 \\, \\frac{\\partial}{\\partial x}u\\left(x\\right) + \\frac{\\partial^{2}}{(\\partial x)^{2}}u\\left(x\\right) = 0\\) con condiciones iniciales \\(u(0)=1, \\; u'(0)=1\\)\n",
       "    y evalue en el punto dado:</p>\n",
       "    <pre>\n",
       "    u(1.05) = {1:NM:=27.4599768431631:0.823799305294893}\n",
       "    </pre>\n",
       "    "
      ],
      "text/plain": [
       "\n",
       "    <h1> EDOs lineales de 2o Orden </h1>\n",
       "    <h2> Caso homogeneo </h2>\n",
       "    <p> Encuentre la solución \\(u(x)\\) de la siguiente ecuación diferencial\n",
       "    \\(u\\left(x\\right) - 5 \\, \\frac{\\partial}{\\partial x}u\\left(x\\right) + \\frac{\\partial^{2}}{(\\partial x)^{2}}u\\left(x\\right) = 0\\) con condiciones iniciales \\(u(0)=1, \\; u'(0)=1\\)\n",
       "    y evalue en el punto dado:</p>\n",
       "    <pre>\n",
       "    u(1.05) = {1:NM:=27.4599768431631:0.823799305294893}\n",
       "    </pre>\n",
       "    "
      ]
     },
     "metadata": {},
     "output_type": "display_data"
    },
    {
     "data": {
      "text/html": [
       "\n",
       "    La solución del problema de condiciones iniciales es\n",
       "    \\(u(x)=-\\frac{1}{14} \\, {\\left(\\sqrt{21} e^{\\left(\\sqrt{21} x\\right)} - \\sqrt{21} - 7 \\, e^{\\left(\\sqrt{21} x\\right)} - 7\\right)} e^{\\left(-\\frac{1}{2} \\, \\sqrt{21} x + \\frac{5}{2} \\, x\\right)}\\)\n",
       "    "
      ],
      "text/plain": [
       "\n",
       "    La solución del problema de condiciones iniciales es\n",
       "    \\(u(x)=-\\frac{1}{14} \\, {\\left(\\sqrt{21} e^{\\left(\\sqrt{21} x\\right)} - \\sqrt{21} - 7 \\, e^{\\left(\\sqrt{21} x\\right)} - 7\\right)} e^{\\left(-\\frac{1}{2} \\, \\sqrt{21} x + \\frac{5}{2} \\, x\\right)}\\)\n",
       "    "
      ]
     },
     "metadata": {},
     "output_type": "display_data"
    },
    {
     "data": {
      "text/html": [
       "\n",
       "    <h1> EDOs lineales de 2o Orden </h1>\n",
       "    <h2> Caso homogeneo </h2>\n",
       "    <p> Encuentre la solución \\(u(x)\\) de la siguiente ecuación diferencial\n",
       "    \\(7 \\, u\\left(x\\right) - 2 \\, \\frac{\\partial}{\\partial x}u\\left(x\\right) + \\frac{\\partial^{2}}{(\\partial x)^{2}}u\\left(x\\right) = 0\\) con condiciones iniciales \\(u(0)=1, \\; u'(0)=-1\\)\n",
       "    y evalue en el punto dado:</p>\n",
       "    <pre>\n",
       "    u(1.01) = {1:NM:=-3.54403677128338:-0.106321103138501}\n",
       "    </pre>\n",
       "    "
      ],
      "text/plain": [
       "\n",
       "    <h1> EDOs lineales de 2o Orden </h1>\n",
       "    <h2> Caso homogeneo </h2>\n",
       "    <p> Encuentre la solución \\(u(x)\\) de la siguiente ecuación diferencial\n",
       "    \\(7 \\, u\\left(x\\right) - 2 \\, \\frac{\\partial}{\\partial x}u\\left(x\\right) + \\frac{\\partial^{2}}{(\\partial x)^{2}}u\\left(x\\right) = 0\\) con condiciones iniciales \\(u(0)=1, \\; u'(0)=-1\\)\n",
       "    y evalue en el punto dado:</p>\n",
       "    <pre>\n",
       "    u(1.01) = {1:NM:=-3.54403677128338:-0.106321103138501}\n",
       "    </pre>\n",
       "    "
      ]
     },
     "metadata": {},
     "output_type": "display_data"
    },
    {
     "data": {
      "text/html": [
       "\n",
       "    La solución del problema de condiciones iniciales es\n",
       "    \\(u(x)=-\\frac{1}{3} \\, {\\left(\\sqrt{6} \\sin\\left(\\sqrt{6} x\\right) - 3 \\, \\cos\\left(\\sqrt{6} x\\right)\\right)} e^{x}\\)\n",
       "    "
      ],
      "text/plain": [
       "\n",
       "    La solución del problema de condiciones iniciales es\n",
       "    \\(u(x)=-\\frac{1}{3} \\, {\\left(\\sqrt{6} \\sin\\left(\\sqrt{6} x\\right) - 3 \\, \\cos\\left(\\sqrt{6} x\\right)\\right)} e^{x}\\)\n",
       "    "
      ]
     },
     "metadata": {},
     "output_type": "display_data"
    },
    {
     "data": {
      "text/html": [
       "\n",
       "    <h1> EDOs lineales de 2o Orden </h1>\n",
       "    <h2> Caso homogeneo </h2>\n",
       "    <p> Encuentre la solución \\(u(x)\\) de la siguiente ecuación diferencial\n",
       "    \\(-u\\left(x\\right) - 3 \\, \\frac{\\partial}{\\partial x}u\\left(x\\right) + \\frac{\\partial^{2}}{(\\partial x)^{2}}u\\left(x\\right) = 0\\) con condiciones iniciales \\(u(0)=1, \\; u'(0)=0\\)\n",
       "    y evalue en el punto dado:</p>\n",
       "    <pre>\n",
       "    u(1.25) = {1:NM:=5.84079067098701:0.175223720129610}\n",
       "    </pre>\n",
       "    "
      ],
      "text/plain": [
       "\n",
       "    <h1> EDOs lineales de 2o Orden </h1>\n",
       "    <h2> Caso homogeneo </h2>\n",
       "    <p> Encuentre la solución \\(u(x)\\) de la siguiente ecuación diferencial\n",
       "    \\(-u\\left(x\\right) - 3 \\, \\frac{\\partial}{\\partial x}u\\left(x\\right) + \\frac{\\partial^{2}}{(\\partial x)^{2}}u\\left(x\\right) = 0\\) con condiciones iniciales \\(u(0)=1, \\; u'(0)=0\\)\n",
       "    y evalue en el punto dado:</p>\n",
       "    <pre>\n",
       "    u(1.25) = {1:NM:=5.84079067098701:0.175223720129610}\n",
       "    </pre>\n",
       "    "
      ]
     },
     "metadata": {},
     "output_type": "display_data"
    },
    {
     "data": {
      "text/html": [
       "\n",
       "    La solución del problema de condiciones iniciales es\n",
       "    \\(u(x)=-\\frac{1}{26} \\, {\\left(3 \\, \\sqrt{13} e^{\\left(\\sqrt{13} x\\right)} - 3 \\, \\sqrt{13} - 13 \\, e^{\\left(\\sqrt{13} x\\right)} - 13\\right)} e^{\\left(-\\frac{1}{2} \\, \\sqrt{13} x + \\frac{3}{2} \\, x\\right)}\\)\n",
       "    "
      ],
      "text/plain": [
       "\n",
       "    La solución del problema de condiciones iniciales es\n",
       "    \\(u(x)=-\\frac{1}{26} \\, {\\left(3 \\, \\sqrt{13} e^{\\left(\\sqrt{13} x\\right)} - 3 \\, \\sqrt{13} - 13 \\, e^{\\left(\\sqrt{13} x\\right)} - 13\\right)} e^{\\left(-\\frac{1}{2} \\, \\sqrt{13} x + \\frac{3}{2} \\, x\\right)}\\)\n",
       "    "
      ]
     },
     "metadata": {},
     "output_type": "display_data"
    },
    {
     "data": {
      "text/html": [
       "\n",
       "    <h1> EDOs lineales de 2o Orden </h1>\n",
       "    <h2> Caso homogeneo </h2>\n",
       "    <p> Encuentre la solución \\(u(x)\\) de la siguiente ecuación diferencial\n",
       "    \\(-5 \\, u\\left(x\\right) - 4 \\, \\frac{\\partial}{\\partial x}u\\left(x\\right) + \\frac{\\partial^{2}}{(\\partial x)^{2}}u\\left(x\\right) = 0\\) con condiciones iniciales \\(u(0)=-1, \\; u'(0)=-1\\)\n",
       "    y evalue en el punto dado:</p>\n",
       "    <pre>\n",
       "    u(1.49) = {1:NM:=-573.437963562333:-17.2031389068700}\n",
       "    </pre>\n",
       "    "
      ],
      "text/plain": [
       "\n",
       "    <h1> EDOs lineales de 2o Orden </h1>\n",
       "    <h2> Caso homogeneo </h2>\n",
       "    <p> Encuentre la solución \\(u(x)\\) de la siguiente ecuación diferencial\n",
       "    \\(-5 \\, u\\left(x\\right) - 4 \\, \\frac{\\partial}{\\partial x}u\\left(x\\right) + \\frac{\\partial^{2}}{(\\partial x)^{2}}u\\left(x\\right) = 0\\) con condiciones iniciales \\(u(0)=-1, \\; u'(0)=-1\\)\n",
       "    y evalue en el punto dado:</p>\n",
       "    <pre>\n",
       "    u(1.49) = {1:NM:=-573.437963562333:-17.2031389068700}\n",
       "    </pre>\n",
       "    "
      ]
     },
     "metadata": {},
     "output_type": "display_data"
    },
    {
     "data": {
      "text/html": [
       "\n",
       "    La solución del problema de condiciones iniciales es\n",
       "    \\(u(x)=-\\frac{1}{3} \\, {\\left(e^{\\left(6 \\, x\\right)} + 2\\right)} e^{\\left(-x\\right)}\\)\n",
       "    "
      ],
      "text/plain": [
       "\n",
       "    La solución del problema de condiciones iniciales es\n",
       "    \\(u(x)=-\\frac{1}{3} \\, {\\left(e^{\\left(6 \\, x\\right)} + 2\\right)} e^{\\left(-x\\right)}\\)\n",
       "    "
      ]
     },
     "metadata": {},
     "output_type": "display_data"
    },
    {
     "data": {
      "text/html": [
       "\n",
       "    <h1> EDOs lineales de 2o Orden </h1>\n",
       "    <h2> Caso homogeneo </h2>\n",
       "    <p> Encuentre la solución \\(u(x)\\) de la siguiente ecuación diferencial\n",
       "    \\(-5 \\, u\\left(x\\right) - 5 \\, \\frac{\\partial}{\\partial x}u\\left(x\\right) + \\frac{\\partial^{2}}{(\\partial x)^{2}}u\\left(x\\right) = 0\\) con condiciones iniciales \\(u(0)=0, \\; u'(0)=-1\\)\n",
       "    y evalue en el punto dado:</p>\n",
       "    <pre>\n",
       "    u(1.39) = {1:NM:=-509.679075567300:-15.2903722670190}\n",
       "    </pre>\n",
       "    "
      ],
      "text/plain": [
       "\n",
       "    <h1> EDOs lineales de 2o Orden </h1>\n",
       "    <h2> Caso homogeneo </h2>\n",
       "    <p> Encuentre la solución \\(u(x)\\) de la siguiente ecuación diferencial\n",
       "    \\(-5 \\, u\\left(x\\right) - 5 \\, \\frac{\\partial}{\\partial x}u\\left(x\\right) + \\frac{\\partial^{2}}{(\\partial x)^{2}}u\\left(x\\right) = 0\\) con condiciones iniciales \\(u(0)=0, \\; u'(0)=-1\\)\n",
       "    y evalue en el punto dado:</p>\n",
       "    <pre>\n",
       "    u(1.39) = {1:NM:=-509.679075567300:-15.2903722670190}\n",
       "    </pre>\n",
       "    "
      ]
     },
     "metadata": {},
     "output_type": "display_data"
    },
    {
     "data": {
      "text/html": [
       "\n",
       "    La solución del problema de condiciones iniciales es\n",
       "    \\(u(x)=-\\frac{1}{15} \\, \\sqrt{5} {\\left(e^{\\left(2 \\, \\sqrt{5} x\\right)} + e^{\\left(\\sqrt{5} x\\right)} + 1\\right)} {\\left(e^{\\left(\\sqrt{5} x\\right)} - 1\\right)} e^{\\left(-\\frac{3}{2} \\, \\sqrt{5} x + \\frac{5}{2} \\, x\\right)}\\)\n",
       "    "
      ],
      "text/plain": [
       "\n",
       "    La solución del problema de condiciones iniciales es\n",
       "    \\(u(x)=-\\frac{1}{15} \\, \\sqrt{5} {\\left(e^{\\left(2 \\, \\sqrt{5} x\\right)} + e^{\\left(\\sqrt{5} x\\right)} + 1\\right)} {\\left(e^{\\left(\\sqrt{5} x\\right)} - 1\\right)} e^{\\left(-\\frac{3}{2} \\, \\sqrt{5} x + \\frac{5}{2} \\, x\\right)}\\)\n",
       "    "
      ]
     },
     "metadata": {},
     "output_type": "display_data"
    },
    {
     "data": {
      "text/html": [
       "\n",
       "    <h1> EDOs lineales de 2o Orden </h1>\n",
       "    <h2> Caso homogeneo </h2>\n",
       "    <p> Encuentre la solución \\(u(x)\\) de la siguiente ecuación diferencial\n",
       "    \\(-7 \\, u\\left(x\\right) + \\frac{\\partial^{2}}{(\\partial x)^{2}}u\\left(x\\right) = 0\\) con condiciones iniciales \\(u(0)=0, \\; u'(0)=1\\)\n",
       "    y evalue en el punto dado:</p>\n",
       "    <pre>\n",
       "    u(1.53) = {1:NM:=10.8221228211528:0.324663684634583}\n",
       "    </pre>\n",
       "    "
      ],
      "text/plain": [
       "\n",
       "    <h1> EDOs lineales de 2o Orden </h1>\n",
       "    <h2> Caso homogeneo </h2>\n",
       "    <p> Encuentre la solución \\(u(x)\\) de la siguiente ecuación diferencial\n",
       "    \\(-7 \\, u\\left(x\\right) + \\frac{\\partial^{2}}{(\\partial x)^{2}}u\\left(x\\right) = 0\\) con condiciones iniciales \\(u(0)=0, \\; u'(0)=1\\)\n",
       "    y evalue en el punto dado:</p>\n",
       "    <pre>\n",
       "    u(1.53) = {1:NM:=10.8221228211528:0.324663684634583}\n",
       "    </pre>\n",
       "    "
      ]
     },
     "metadata": {},
     "output_type": "display_data"
    },
    {
     "data": {
      "text/html": [
       "\n",
       "    La solución del problema de condiciones iniciales es\n",
       "    \\(u(x)=\\frac{1}{14} \\, \\sqrt{7} {\\left(e^{\\left(\\sqrt{7} x\\right)} + 1\\right)} {\\left(e^{\\left(\\sqrt{7} x\\right)} - 1\\right)} e^{\\left(-\\sqrt{7} x\\right)}\\)\n",
       "    "
      ],
      "text/plain": [
       "\n",
       "    La solución del problema de condiciones iniciales es\n",
       "    \\(u(x)=\\frac{1}{14} \\, \\sqrt{7} {\\left(e^{\\left(\\sqrt{7} x\\right)} + 1\\right)} {\\left(e^{\\left(\\sqrt{7} x\\right)} - 1\\right)} e^{\\left(-\\sqrt{7} x\\right)}\\)\n",
       "    "
      ]
     },
     "metadata": {},
     "output_type": "display_data"
    },
    {
     "data": {
      "text/html": [
       "\n",
       "    <h1> EDOs lineales de 2o Orden </h1>\n",
       "    <h2> Caso homogeneo </h2>\n",
       "    <p> Encuentre la solución \\(u(x)\\) de la siguiente ecuación diferencial\n",
       "    \\(u\\left(x\\right) - 5 \\, \\frac{\\partial}{\\partial x}u\\left(x\\right) + \\frac{\\partial^{2}}{(\\partial x)^{2}}u\\left(x\\right) = 0\\) con condiciones iniciales \\(u(0)=0, \\; u'(0)=-1\\)\n",
       "    y evalue en el punto dado:</p>\n",
       "    <pre>\n",
       "    u(1.25) = {1:NM:=-86.7985941412657:-2.60395782423797}\n",
       "    </pre>\n",
       "    "
      ],
      "text/plain": [
       "\n",
       "    <h1> EDOs lineales de 2o Orden </h1>\n",
       "    <h2> Caso homogeneo </h2>\n",
       "    <p> Encuentre la solución \\(u(x)\\) de la siguiente ecuación diferencial\n",
       "    \\(u\\left(x\\right) - 5 \\, \\frac{\\partial}{\\partial x}u\\left(x\\right) + \\frac{\\partial^{2}}{(\\partial x)^{2}}u\\left(x\\right) = 0\\) con condiciones iniciales \\(u(0)=0, \\; u'(0)=-1\\)\n",
       "    y evalue en el punto dado:</p>\n",
       "    <pre>\n",
       "    u(1.25) = {1:NM:=-86.7985941412657:-2.60395782423797}\n",
       "    </pre>\n",
       "    "
      ]
     },
     "metadata": {},
     "output_type": "display_data"
    },
    {
     "data": {
      "text/html": [
       "\n",
       "    La solución del problema de condiciones iniciales es\n",
       "    \\(u(x)=-\\frac{1}{21} \\, \\sqrt{21} {\\left(e^{\\left(\\sqrt{21} x\\right)} - 1\\right)} e^{\\left(-\\frac{1}{2} \\, \\sqrt{21} x + \\frac{5}{2} \\, x\\right)}\\)\n",
       "    "
      ],
      "text/plain": [
       "\n",
       "    La solución del problema de condiciones iniciales es\n",
       "    \\(u(x)=-\\frac{1}{21} \\, \\sqrt{21} {\\left(e^{\\left(\\sqrt{21} x\\right)} - 1\\right)} e^{\\left(-\\frac{1}{2} \\, \\sqrt{21} x + \\frac{5}{2} \\, x\\right)}\\)\n",
       "    "
      ]
     },
     "metadata": {},
     "output_type": "display_data"
    },
    {
     "data": {
      "text/html": [
       "\n",
       "    <h1> EDOs lineales de 2o Orden </h1>\n",
       "    <h2> Caso homogeneo </h2>\n",
       "    <p> Encuentre la solución \\(u(x)\\) de la siguiente ecuación diferencial\n",
       "    \\(7 \\, u\\left(x\\right) + 8 \\, \\frac{\\partial}{\\partial x}u\\left(x\\right) + \\frac{\\partial^{2}}{(\\partial x)^{2}}u\\left(x\\right) = 0\\) con condiciones iniciales \\(u(0)=-1, \\; u'(0)=1\\)\n",
       "    y evalue en el punto dado:</p>\n",
       "    <pre>\n",
       "    u(1.69) = {1:NM:=-0.184519523992989:-0.00553558571978968}\n",
       "    </pre>\n",
       "    "
      ],
      "text/plain": [
       "\n",
       "    <h1> EDOs lineales de 2o Orden </h1>\n",
       "    <h2> Caso homogeneo </h2>\n",
       "    <p> Encuentre la solución \\(u(x)\\) de la siguiente ecuación diferencial\n",
       "    \\(7 \\, u\\left(x\\right) + 8 \\, \\frac{\\partial}{\\partial x}u\\left(x\\right) + \\frac{\\partial^{2}}{(\\partial x)^{2}}u\\left(x\\right) = 0\\) con condiciones iniciales \\(u(0)=-1, \\; u'(0)=1\\)\n",
       "    y evalue en el punto dado:</p>\n",
       "    <pre>\n",
       "    u(1.69) = {1:NM:=-0.184519523992989:-0.00553558571978968}\n",
       "    </pre>\n",
       "    "
      ]
     },
     "metadata": {},
     "output_type": "display_data"
    },
    {
     "data": {
      "text/html": [
       "\n",
       "    La solución del problema de condiciones iniciales es\n",
       "    \\(u(x)=-e^{\\left(-x\\right)}\\)\n",
       "    "
      ],
      "text/plain": [
       "\n",
       "    La solución del problema de condiciones iniciales es\n",
       "    \\(u(x)=-e^{\\left(-x\\right)}\\)\n",
       "    "
      ]
     },
     "metadata": {},
     "output_type": "display_data"
    },
    {
     "data": {
      "text/html": [
       "\n",
       "    <h1> EDOs lineales de 2o Orden </h1>\n",
       "    <h2> Caso homogeneo </h2>\n",
       "    <p> Encuentre la solución \\(u(x)\\) de la siguiente ecuación diferencial\n",
       "    \\(-2 \\, u\\left(x\\right) - 6 \\, \\frac{\\partial}{\\partial x}u\\left(x\\right) + \\frac{\\partial^{2}}{(\\partial x)^{2}}u\\left(x\\right) = 0\\) con condiciones iniciales \\(u(0)=-1, \\; u'(0)=0\\)\n",
       "    y evalue en el punto dado:</p>\n",
       "    <pre>\n",
       "    u(1.43) = {1:NM:=-400.276147591039:-12.0082844277312}\n",
       "    </pre>\n",
       "    "
      ],
      "text/plain": [
       "\n",
       "    <h1> EDOs lineales de 2o Orden </h1>\n",
       "    <h2> Caso homogeneo </h2>\n",
       "    <p> Encuentre la solución \\(u(x)\\) de la siguiente ecuación diferencial\n",
       "    \\(-2 \\, u\\left(x\\right) - 6 \\, \\frac{\\partial}{\\partial x}u\\left(x\\right) + \\frac{\\partial^{2}}{(\\partial x)^{2}}u\\left(x\\right) = 0\\) con condiciones iniciales \\(u(0)=-1, \\; u'(0)=0\\)\n",
       "    y evalue en el punto dado:</p>\n",
       "    <pre>\n",
       "    u(1.43) = {1:NM:=-400.276147591039:-12.0082844277312}\n",
       "    </pre>\n",
       "    "
      ]
     },
     "metadata": {},
     "output_type": "display_data"
    },
    {
     "data": {
      "text/html": [
       "\n",
       "    La solución del problema de condiciones iniciales es\n",
       "    \\(u(x)=\\frac{1}{22} \\, {\\left(3 \\, \\sqrt{11} e^{\\left(2 \\, \\sqrt{11} x\\right)} - 3 \\, \\sqrt{11} - 11 \\, e^{\\left(2 \\, \\sqrt{11} x\\right)} - 11\\right)} e^{\\left(-\\sqrt{11} x + 3 \\, x\\right)}\\)\n",
       "    "
      ],
      "text/plain": [
       "\n",
       "    La solución del problema de condiciones iniciales es\n",
       "    \\(u(x)=\\frac{1}{22} \\, {\\left(3 \\, \\sqrt{11} e^{\\left(2 \\, \\sqrt{11} x\\right)} - 3 \\, \\sqrt{11} - 11 \\, e^{\\left(2 \\, \\sqrt{11} x\\right)} - 11\\right)} e^{\\left(-\\sqrt{11} x + 3 \\, x\\right)}\\)\n",
       "    "
      ]
     },
     "metadata": {},
     "output_type": "display_data"
    },
    {
     "data": {
      "text/html": [
       "\n",
       "    <h1> EDOs lineales de 2o Orden </h1>\n",
       "    <h2> Caso homogeneo </h2>\n",
       "    <p> Encuentre la solución \\(u(x)\\) de la siguiente ecuación diferencial\n",
       "    \\(u\\left(x\\right) - 10 \\, \\frac{\\partial}{\\partial x}u\\left(x\\right) + \\frac{\\partial^{2}}{(\\partial x)^{2}}u\\left(x\\right) = 0\\) con condiciones iniciales \\(u(0)=1, \\; u'(0)=-1\\)\n",
       "    y evalue en el punto dado:</p>\n",
       "    <pre>\n",
       "    u(1.12) = {1:NM:=-7337.47950202815:-220.124385060845}\n",
       "    </pre>\n",
       "    "
      ],
      "text/plain": [
       "\n",
       "    <h1> EDOs lineales de 2o Orden </h1>\n",
       "    <h2> Caso homogeneo </h2>\n",
       "    <p> Encuentre la solución \\(u(x)\\) de la siguiente ecuación diferencial\n",
       "    \\(u\\left(x\\right) - 10 \\, \\frac{\\partial}{\\partial x}u\\left(x\\right) + \\frac{\\partial^{2}}{(\\partial x)^{2}}u\\left(x\\right) = 0\\) con condiciones iniciales \\(u(0)=1, \\; u'(0)=-1\\)\n",
       "    y evalue en el punto dado:</p>\n",
       "    <pre>\n",
       "    u(1.12) = {1:NM:=-7337.47950202815:-220.124385060845}\n",
       "    </pre>\n",
       "    "
      ]
     },
     "metadata": {},
     "output_type": "display_data"
    },
    {
     "data": {
      "text/html": [
       "\n",
       "    La solución del problema de condiciones iniciales es\n",
       "    \\(u(x)=-\\frac{1}{4} \\, {\\left(\\sqrt{6} e^{\\left(4 \\, \\sqrt{6} x\\right)} - \\sqrt{6} - 2 \\, e^{\\left(4 \\, \\sqrt{6} x\\right)} - 2\\right)} e^{\\left(-2 \\, \\sqrt{6} x + 5 \\, x\\right)}\\)\n",
       "    "
      ],
      "text/plain": [
       "\n",
       "    La solución del problema de condiciones iniciales es\n",
       "    \\(u(x)=-\\frac{1}{4} \\, {\\left(\\sqrt{6} e^{\\left(4 \\, \\sqrt{6} x\\right)} - \\sqrt{6} - 2 \\, e^{\\left(4 \\, \\sqrt{6} x\\right)} - 2\\right)} e^{\\left(-2 \\, \\sqrt{6} x + 5 \\, x\\right)}\\)\n",
       "    "
      ]
     },
     "metadata": {},
     "output_type": "display_data"
    },
    {
     "data": {
      "text/html": [
       "\n",
       "    <h1> EDOs lineales de 2o Orden </h1>\n",
       "    <h2> Caso homogeneo </h2>\n",
       "    <p> Encuentre la solución \\(u(x)\\) de la siguiente ecuación diferencial\n",
       "    \\(-5 \\, u\\left(x\\right) - 8 \\, \\frac{\\partial}{\\partial x}u\\left(x\\right) + \\frac{\\partial^{2}}{(\\partial x)^{2}}u\\left(x\\right) = 0\\) con condiciones iniciales \\(u(0)=1, \\; u'(0)=1\\)\n",
       "    y evalue en el punto dado:</p>\n",
       "    <pre>\n",
       "    u(1.2) = {1:NM:=5129.77104218607:153.893131265582}\n",
       "    </pre>\n",
       "    "
      ],
      "text/plain": [
       "\n",
       "    <h1> EDOs lineales de 2o Orden </h1>\n",
       "    <h2> Caso homogeneo </h2>\n",
       "    <p> Encuentre la solución \\(u(x)\\) de la siguiente ecuación diferencial\n",
       "    \\(-5 \\, u\\left(x\\right) - 8 \\, \\frac{\\partial}{\\partial x}u\\left(x\\right) + \\frac{\\partial^{2}}{(\\partial x)^{2}}u\\left(x\\right) = 0\\) con condiciones iniciales \\(u(0)=1, \\; u'(0)=1\\)\n",
       "    y evalue en el punto dado:</p>\n",
       "    <pre>\n",
       "    u(1.2) = {1:NM:=5129.77104218607:153.893131265582}\n",
       "    </pre>\n",
       "    "
      ]
     },
     "metadata": {},
     "output_type": "display_data"
    },
    {
     "data": {
      "text/html": [
       "\n",
       "    La solución del problema de condiciones iniciales es\n",
       "    \\(u(x)=-\\frac{1}{14} \\, {\\left(\\sqrt{21} e^{\\left(2 \\, \\sqrt{21} x\\right)} - \\sqrt{21} - 7 \\, e^{\\left(2 \\, \\sqrt{21} x\\right)} - 7\\right)} e^{\\left(-\\sqrt{21} x + 4 \\, x\\right)}\\)\n",
       "    "
      ],
      "text/plain": [
       "\n",
       "    La solución del problema de condiciones iniciales es\n",
       "    \\(u(x)=-\\frac{1}{14} \\, {\\left(\\sqrt{21} e^{\\left(2 \\, \\sqrt{21} x\\right)} - \\sqrt{21} - 7 \\, e^{\\left(2 \\, \\sqrt{21} x\\right)} - 7\\right)} e^{\\left(-\\sqrt{21} x + 4 \\, x\\right)}\\)\n",
       "    "
      ]
     },
     "metadata": {},
     "output_type": "display_data"
    },
    {
     "data": {
      "text/html": [
       "\n",
       "    <h1> EDOs lineales de 2o Orden </h1>\n",
       "    <h2> Caso homogeneo </h2>\n",
       "    <p> Encuentre la solución \\(u(x)\\) de la siguiente ecuación diferencial\n",
       "    \\(-2 \\, u\\left(x\\right) - 8 \\, \\frac{\\partial}{\\partial x}u\\left(x\\right) + \\frac{\\partial^{2}}{(\\partial x)^{2}}u\\left(x\\right) = 0\\) con condiciones iniciales \\(u(0)=1, \\; u'(0)=0\\)\n",
       "    y evalue en el punto dado:</p>\n",
       "    <pre>\n",
       "    u(1.74) = {1:NM:=48421.6014834787:1452.64804450436}\n",
       "    </pre>\n",
       "    "
      ],
      "text/plain": [
       "\n",
       "    <h1> EDOs lineales de 2o Orden </h1>\n",
       "    <h2> Caso homogeneo </h2>\n",
       "    <p> Encuentre la solución \\(u(x)\\) de la siguiente ecuación diferencial\n",
       "    \\(-2 \\, u\\left(x\\right) - 8 \\, \\frac{\\partial}{\\partial x}u\\left(x\\right) + \\frac{\\partial^{2}}{(\\partial x)^{2}}u\\left(x\\right) = 0\\) con condiciones iniciales \\(u(0)=1, \\; u'(0)=0\\)\n",
       "    y evalue en el punto dado:</p>\n",
       "    <pre>\n",
       "    u(1.74) = {1:NM:=48421.6014834787:1452.64804450436}\n",
       "    </pre>\n",
       "    "
      ]
     },
     "metadata": {},
     "output_type": "display_data"
    },
    {
     "data": {
      "text/html": [
       "\n",
       "    La solución del problema de condiciones iniciales es\n",
       "    \\(u(x)=-\\frac{1}{6} \\, {\\left(2 \\, \\sqrt{2} e^{\\left(6 \\, \\sqrt{2} x\\right)} - 2 \\, \\sqrt{2} - 3 \\, e^{\\left(6 \\, \\sqrt{2} x\\right)} - 3\\right)} e^{\\left(-3 \\, \\sqrt{2} x + 4 \\, x\\right)}\\)\n",
       "    "
      ],
      "text/plain": [
       "\n",
       "    La solución del problema de condiciones iniciales es\n",
       "    \\(u(x)=-\\frac{1}{6} \\, {\\left(2 \\, \\sqrt{2} e^{\\left(6 \\, \\sqrt{2} x\\right)} - 2 \\, \\sqrt{2} - 3 \\, e^{\\left(6 \\, \\sqrt{2} x\\right)} - 3\\right)} e^{\\left(-3 \\, \\sqrt{2} x + 4 \\, x\\right)}\\)\n",
       "    "
      ]
     },
     "metadata": {},
     "output_type": "display_data"
    },
    {
     "data": {
      "text/html": [
       "\n",
       "    <h1> EDOs lineales de 2o Orden </h1>\n",
       "    <h2> Caso homogeneo </h2>\n",
       "    <p> Encuentre la solución \\(u(x)\\) de la siguiente ecuación diferencial\n",
       "    \\(8 \\, u\\left(x\\right) - 10 \\, \\frac{\\partial}{\\partial x}u\\left(x\\right) + \\frac{\\partial^{2}}{(\\partial x)^{2}}u\\left(x\\right) = 0\\) con condiciones iniciales \\(u(0)=-1, \\; u'(0)=0\\)\n",
       "    y evalue en el punto dado:</p>\n",
       "    <pre>\n",
       "    u(1.17) = {1:NM:=4592.77271230514:137.783181369154}\n",
       "    </pre>\n",
       "    "
      ],
      "text/plain": [
       "\n",
       "    <h1> EDOs lineales de 2o Orden </h1>\n",
       "    <h2> Caso homogeneo </h2>\n",
       "    <p> Encuentre la solución \\(u(x)\\) de la siguiente ecuación diferencial\n",
       "    \\(8 \\, u\\left(x\\right) - 10 \\, \\frac{\\partial}{\\partial x}u\\left(x\\right) + \\frac{\\partial^{2}}{(\\partial x)^{2}}u\\left(x\\right) = 0\\) con condiciones iniciales \\(u(0)=-1, \\; u'(0)=0\\)\n",
       "    y evalue en el punto dado:</p>\n",
       "    <pre>\n",
       "    u(1.17) = {1:NM:=4592.77271230514:137.783181369154}\n",
       "    </pre>\n",
       "    "
      ]
     },
     "metadata": {},
     "output_type": "display_data"
    },
    {
     "data": {
      "text/html": [
       "\n",
       "    La solución del problema de condiciones iniciales es\n",
       "    \\(u(x)=\\frac{1}{34} \\, {\\left(5 \\, \\sqrt{17} e^{\\left(2 \\, \\sqrt{17} x\\right)} - 5 \\, \\sqrt{17} - 17 \\, e^{\\left(2 \\, \\sqrt{17} x\\right)} - 17\\right)} e^{\\left(-\\sqrt{17} x + 5 \\, x\\right)}\\)\n",
       "    "
      ],
      "text/plain": [
       "\n",
       "    La solución del problema de condiciones iniciales es\n",
       "    \\(u(x)=\\frac{1}{34} \\, {\\left(5 \\, \\sqrt{17} e^{\\left(2 \\, \\sqrt{17} x\\right)} - 5 \\, \\sqrt{17} - 17 \\, e^{\\left(2 \\, \\sqrt{17} x\\right)} - 17\\right)} e^{\\left(-\\sqrt{17} x + 5 \\, x\\right)}\\)\n",
       "    "
      ]
     },
     "metadata": {},
     "output_type": "display_data"
    },
    {
     "data": {
      "text/html": [
       "\n",
       "    <h1> EDOs lineales de 2o Orden </h1>\n",
       "    <h2> Caso homogeneo </h2>\n",
       "    <p> Encuentre la solución \\(u(x)\\) de la siguiente ecuación diferencial\n",
       "    \\(7 \\, u\\left(x\\right) - 6 \\, \\frac{\\partial}{\\partial x}u\\left(x\\right) + \\frac{\\partial^{2}}{(\\partial x)^{2}}u\\left(x\\right) = 0\\) con condiciones iniciales \\(u(0)=1, \\; u'(0)=1\\)\n",
       "    y evalue en el punto dado:</p>\n",
       "    <pre>\n",
       "    u(1.28) = {1:NM:=-49.7008380055520:-1.49102514016656}\n",
       "    </pre>\n",
       "    "
      ],
      "text/plain": [
       "\n",
       "    <h1> EDOs lineales de 2o Orden </h1>\n",
       "    <h2> Caso homogeneo </h2>\n",
       "    <p> Encuentre la solución \\(u(x)\\) de la siguiente ecuación diferencial\n",
       "    \\(7 \\, u\\left(x\\right) - 6 \\, \\frac{\\partial}{\\partial x}u\\left(x\\right) + \\frac{\\partial^{2}}{(\\partial x)^{2}}u\\left(x\\right) = 0\\) con condiciones iniciales \\(u(0)=1, \\; u'(0)=1\\)\n",
       "    y evalue en el punto dado:</p>\n",
       "    <pre>\n",
       "    u(1.28) = {1:NM:=-49.7008380055520:-1.49102514016656}\n",
       "    </pre>\n",
       "    "
      ]
     },
     "metadata": {},
     "output_type": "display_data"
    },
    {
     "data": {
      "text/html": [
       "\n",
       "    La solución del problema de condiciones iniciales es\n",
       "    \\(u(x)=-\\frac{1}{2} \\, {\\left(\\sqrt{2} e^{\\left(2 \\, \\sqrt{2} x\\right)} - \\sqrt{2} - e^{\\left(2 \\, \\sqrt{2} x\\right)} - 1\\right)} e^{\\left(-\\sqrt{2} x + 3 \\, x\\right)}\\)\n",
       "    "
      ],
      "text/plain": [
       "\n",
       "    La solución del problema de condiciones iniciales es\n",
       "    \\(u(x)=-\\frac{1}{2} \\, {\\left(\\sqrt{2} e^{\\left(2 \\, \\sqrt{2} x\\right)} - \\sqrt{2} - e^{\\left(2 \\, \\sqrt{2} x\\right)} - 1\\right)} e^{\\left(-\\sqrt{2} x + 3 \\, x\\right)}\\)\n",
       "    "
      ]
     },
     "metadata": {},
     "output_type": "display_data"
    },
    {
     "data": {
      "text/html": [
       "\n",
       "    <h1> EDOs lineales de 2o Orden </h1>\n",
       "    <h2> Caso homogeneo </h2>\n",
       "    <p> Encuentre la solución \\(u(x)\\) de la siguiente ecuación diferencial\n",
       "    \\(8 \\, u\\left(x\\right) - 6 \\, \\frac{\\partial}{\\partial x}u\\left(x\\right) + \\frac{\\partial^{2}}{(\\partial x)^{2}}u\\left(x\\right) = 0\\) con condiciones iniciales \\(u(0)=1, \\; u'(0)=1\\)\n",
       "    y evalue en el punto dado:</p>\n",
       "    <pre>\n",
       "    u(1.96) = {1:NM:=-1194.50174974632:-35.8350524923895}\n",
       "    </pre>\n",
       "    "
      ],
      "text/plain": [
       "\n",
       "    <h1> EDOs lineales de 2o Orden </h1>\n",
       "    <h2> Caso homogeneo </h2>\n",
       "    <p> Encuentre la solución \\(u(x)\\) de la siguiente ecuación diferencial\n",
       "    \\(8 \\, u\\left(x\\right) - 6 \\, \\frac{\\partial}{\\partial x}u\\left(x\\right) + \\frac{\\partial^{2}}{(\\partial x)^{2}}u\\left(x\\right) = 0\\) con condiciones iniciales \\(u(0)=1, \\; u'(0)=1\\)\n",
       "    y evalue en el punto dado:</p>\n",
       "    <pre>\n",
       "    u(1.96) = {1:NM:=-1194.50174974632:-35.8350524923895}\n",
       "    </pre>\n",
       "    "
      ]
     },
     "metadata": {},
     "output_type": "display_data"
    },
    {
     "data": {
      "text/html": [
       "\n",
       "    La solución del problema de condiciones iniciales es\n",
       "    \\(u(x)=-\\frac{1}{2} \\, {\\left(e^{\\left(2 \\, x\\right)} - 3\\right)} e^{\\left(2 \\, x\\right)}\\)\n",
       "    "
      ],
      "text/plain": [
       "\n",
       "    La solución del problema de condiciones iniciales es\n",
       "    \\(u(x)=-\\frac{1}{2} \\, {\\left(e^{\\left(2 \\, x\\right)} - 3\\right)} e^{\\left(2 \\, x\\right)}\\)\n",
       "    "
      ]
     },
     "metadata": {},
     "output_type": "display_data"
    },
    {
     "data": {
      "text/html": [
       "\n",
       "    <h1> EDOs lineales de 2o Orden </h1>\n",
       "    <h2> Caso homogeneo </h2>\n",
       "    <p> Encuentre la solución \\(u(x)\\) de la siguiente ecuación diferencial\n",
       "    \\(-2 \\, u\\left(x\\right) + 8 \\, \\frac{\\partial}{\\partial x}u\\left(x\\right) + \\frac{\\partial^{2}}{(\\partial x)^{2}}u\\left(x\\right) = 0\\) con condiciones iniciales \\(u(0)=-1, \\; u'(0)=0\\)\n",
       "    y evalue en el punto dado:</p>\n",
       "    <pre>\n",
       "    u(1.59) = {1:NM:=-1.42873071472209:-0.0428619214416626}\n",
       "    </pre>\n",
       "    "
      ],
      "text/plain": [
       "\n",
       "    <h1> EDOs lineales de 2o Orden </h1>\n",
       "    <h2> Caso homogeneo </h2>\n",
       "    <p> Encuentre la solución \\(u(x)\\) de la siguiente ecuación diferencial\n",
       "    \\(-2 \\, u\\left(x\\right) + 8 \\, \\frac{\\partial}{\\partial x}u\\left(x\\right) + \\frac{\\partial^{2}}{(\\partial x)^{2}}u\\left(x\\right) = 0\\) con condiciones iniciales \\(u(0)=-1, \\; u'(0)=0\\)\n",
       "    y evalue en el punto dado:</p>\n",
       "    <pre>\n",
       "    u(1.59) = {1:NM:=-1.42873071472209:-0.0428619214416626}\n",
       "    </pre>\n",
       "    "
      ]
     },
     "metadata": {},
     "output_type": "display_data"
    },
    {
     "data": {
      "text/html": [
       "\n",
       "    La solución del problema de condiciones iniciales es\n",
       "    \\(u(x)=-\\frac{1}{6} \\, {\\left(2 \\, \\sqrt{2} e^{\\left(6 \\, \\sqrt{2} x\\right)} - 2 \\, \\sqrt{2} + 3 \\, e^{\\left(6 \\, \\sqrt{2} x\\right)} + 3\\right)} e^{\\left(-3 \\, \\sqrt{2} x - 4 \\, x\\right)}\\)\n",
       "    "
      ],
      "text/plain": [
       "\n",
       "    La solución del problema de condiciones iniciales es\n",
       "    \\(u(x)=-\\frac{1}{6} \\, {\\left(2 \\, \\sqrt{2} e^{\\left(6 \\, \\sqrt{2} x\\right)} - 2 \\, \\sqrt{2} + 3 \\, e^{\\left(6 \\, \\sqrt{2} x\\right)} + 3\\right)} e^{\\left(-3 \\, \\sqrt{2} x - 4 \\, x\\right)}\\)\n",
       "    "
      ]
     },
     "metadata": {},
     "output_type": "display_data"
    },
    {
     "data": {
      "text/html": [
       "\n",
       "    <h1> EDOs lineales de 2o Orden </h1>\n",
       "    <h2> Caso homogeneo </h2>\n",
       "    <p> Encuentre la solución \\(u(x)\\) de la siguiente ecuación diferencial\n",
       "    \\(5 \\, u\\left(x\\right) - 9 \\, \\frac{\\partial}{\\partial x}u\\left(x\\right) + \\frac{\\partial^{2}}{(\\partial x)^{2}}u\\left(x\\right) = 0\\) con condiciones iniciales \\(u(0)=-1, \\; u'(0)=-1\\)\n",
       "    y evalue en el punto dado:</p>\n",
       "    <pre>\n",
       "    u(1.24) = {1:NM:=-1744.97348671468:-52.3492046014403}\n",
       "    </pre>\n",
       "    "
      ],
      "text/plain": [
       "\n",
       "    <h1> EDOs lineales de 2o Orden </h1>\n",
       "    <h2> Caso homogeneo </h2>\n",
       "    <p> Encuentre la solución \\(u(x)\\) de la siguiente ecuación diferencial\n",
       "    \\(5 \\, u\\left(x\\right) - 9 \\, \\frac{\\partial}{\\partial x}u\\left(x\\right) + \\frac{\\partial^{2}}{(\\partial x)^{2}}u\\left(x\\right) = 0\\) con condiciones iniciales \\(u(0)=-1, \\; u'(0)=-1\\)\n",
       "    y evalue en el punto dado:</p>\n",
       "    <pre>\n",
       "    u(1.24) = {1:NM:=-1744.97348671468:-52.3492046014403}\n",
       "    </pre>\n",
       "    "
      ]
     },
     "metadata": {},
     "output_type": "display_data"
    },
    {
     "data": {
      "text/html": [
       "\n",
       "    La solución del problema de condiciones iniciales es\n",
       "    \\(u(x)=\\frac{1}{122} \\, {\\left(7 \\, \\sqrt{61} e^{\\left(\\sqrt{61} x\\right)} - 7 \\, \\sqrt{61} - 61 \\, e^{\\left(\\sqrt{61} x\\right)} - 61\\right)} e^{\\left(-\\frac{1}{2} \\, \\sqrt{61} x + \\frac{9}{2} \\, x\\right)}\\)\n",
       "    "
      ],
      "text/plain": [
       "\n",
       "    La solución del problema de condiciones iniciales es\n",
       "    \\(u(x)=\\frac{1}{122} \\, {\\left(7 \\, \\sqrt{61} e^{\\left(\\sqrt{61} x\\right)} - 7 \\, \\sqrt{61} - 61 \\, e^{\\left(\\sqrt{61} x\\right)} - 61\\right)} e^{\\left(-\\frac{1}{2} \\, \\sqrt{61} x + \\frac{9}{2} \\, x\\right)}\\)\n",
       "    "
      ]
     },
     "metadata": {},
     "output_type": "display_data"
    },
    {
     "data": {
      "text/html": [
       "\n",
       "    <h1> EDOs lineales de 2o Orden </h1>\n",
       "    <h2> Caso homogeneo </h2>\n",
       "    <p> Encuentre la solución \\(u(x)\\) de la siguiente ecuación diferencial\n",
       "    \\(-2 \\, u\\left(x\\right) - 10 \\, \\frac{\\partial}{\\partial x}u\\left(x\\right) + \\frac{\\partial^{2}}{(\\partial x)^{2}}u\\left(x\\right) = 0\\) con condiciones iniciales \\(u(0)=-1, \\; u'(0)=-1\\)\n",
       "    y evalue en el punto dado:</p>\n",
       "    <pre>\n",
       "    u(1.46) = {1:NM:=-335853.050437593:-10075.5915131278}\n",
       "    </pre>\n",
       "    "
      ],
      "text/plain": [
       "\n",
       "    <h1> EDOs lineales de 2o Orden </h1>\n",
       "    <h2> Caso homogeneo </h2>\n",
       "    <p> Encuentre la solución \\(u(x)\\) de la siguiente ecuación diferencial\n",
       "    \\(-2 \\, u\\left(x\\right) - 10 \\, \\frac{\\partial}{\\partial x}u\\left(x\\right) + \\frac{\\partial^{2}}{(\\partial x)^{2}}u\\left(x\\right) = 0\\) con condiciones iniciales \\(u(0)=-1, \\; u'(0)=-1\\)\n",
       "    y evalue en el punto dado:</p>\n",
       "    <pre>\n",
       "    u(1.46) = {1:NM:=-335853.050437593:-10075.5915131278}\n",
       "    </pre>\n",
       "    "
      ]
     },
     "metadata": {},
     "output_type": "display_data"
    },
    {
     "data": {
      "text/html": [
       "\n",
       "    La solución del problema de condiciones iniciales es\n",
       "    \\(u(x)=\\frac{1}{18} \\, {\\left(4 \\, \\sqrt{3} e^{\\left(6 \\, \\sqrt{3} x\\right)} - 4 \\, \\sqrt{3} - 9 \\, e^{\\left(6 \\, \\sqrt{3} x\\right)} - 9\\right)} e^{\\left(-3 \\, \\sqrt{3} x + 5 \\, x\\right)}\\)\n",
       "    "
      ],
      "text/plain": [
       "\n",
       "    La solución del problema de condiciones iniciales es\n",
       "    \\(u(x)=\\frac{1}{18} \\, {\\left(4 \\, \\sqrt{3} e^{\\left(6 \\, \\sqrt{3} x\\right)} - 4 \\, \\sqrt{3} - 9 \\, e^{\\left(6 \\, \\sqrt{3} x\\right)} - 9\\right)} e^{\\left(-3 \\, \\sqrt{3} x + 5 \\, x\\right)}\\)\n",
       "    "
      ]
     },
     "metadata": {},
     "output_type": "display_data"
    },
    {
     "data": {
      "text/html": [
       "\n",
       "    <h1> EDOs lineales de 2o Orden </h1>\n",
       "    <h2> Caso homogeneo </h2>\n",
       "    <p> Encuentre la solución \\(u(x)\\) de la siguiente ecuación diferencial\n",
       "    \\(8 \\, u\\left(x\\right) + \\frac{\\partial^{2}}{(\\partial x)^{2}}u\\left(x\\right) = 0\\) con condiciones iniciales \\(u(0)=0, \\; u'(0)=-1\\)\n",
       "    y evalue en el punto dado:</p>\n",
       "    <pre>\n",
       "    u(1.09) = {1:NM:=-0.0207088746788008:-0.000621266240364024}\n",
       "    </pre>\n",
       "    "
      ],
      "text/plain": [
       "\n",
       "    <h1> EDOs lineales de 2o Orden </h1>\n",
       "    <h2> Caso homogeneo </h2>\n",
       "    <p> Encuentre la solución \\(u(x)\\) de la siguiente ecuación diferencial\n",
       "    \\(8 \\, u\\left(x\\right) + \\frac{\\partial^{2}}{(\\partial x)^{2}}u\\left(x\\right) = 0\\) con condiciones iniciales \\(u(0)=0, \\; u'(0)=-1\\)\n",
       "    y evalue en el punto dado:</p>\n",
       "    <pre>\n",
       "    u(1.09) = {1:NM:=-0.0207088746788008:-0.000621266240364024}\n",
       "    </pre>\n",
       "    "
      ]
     },
     "metadata": {},
     "output_type": "display_data"
    },
    {
     "data": {
      "text/html": [
       "\n",
       "    La solución del problema de condiciones iniciales es\n",
       "    \\(u(x)=-\\frac{1}{4} \\, \\sqrt{2} \\sin\\left(2 \\, \\sqrt{2} x\\right)\\)\n",
       "    "
      ],
      "text/plain": [
       "\n",
       "    La solución del problema de condiciones iniciales es\n",
       "    \\(u(x)=-\\frac{1}{4} \\, \\sqrt{2} \\sin\\left(2 \\, \\sqrt{2} x\\right)\\)\n",
       "    "
      ]
     },
     "metadata": {},
     "output_type": "display_data"
    },
    {
     "data": {
      "text/html": [
       "\n",
       "    <h1> EDOs lineales de 2o Orden </h1>\n",
       "    <h2> Caso homogeneo </h2>\n",
       "    <p> Encuentre la solución \\(u(x)\\) de la siguiente ecuación diferencial\n",
       "    \\(9 \\, u\\left(x\\right) + \\frac{\\partial^{2}}{(\\partial x)^{2}}u\\left(x\\right) = 0\\) con condiciones iniciales \\(u(0)=0, \\; u'(0)=1\\)\n",
       "    y evalue en el punto dado:</p>\n",
       "    <pre>\n",
       "    u(1.87) = {1:NM:=-0.207826515092895:-0.00623479545278685}\n",
       "    </pre>\n",
       "    "
      ],
      "text/plain": [
       "\n",
       "    <h1> EDOs lineales de 2o Orden </h1>\n",
       "    <h2> Caso homogeneo </h2>\n",
       "    <p> Encuentre la solución \\(u(x)\\) de la siguiente ecuación diferencial\n",
       "    \\(9 \\, u\\left(x\\right) + \\frac{\\partial^{2}}{(\\partial x)^{2}}u\\left(x\\right) = 0\\) con condiciones iniciales \\(u(0)=0, \\; u'(0)=1\\)\n",
       "    y evalue en el punto dado:</p>\n",
       "    <pre>\n",
       "    u(1.87) = {1:NM:=-0.207826515092895:-0.00623479545278685}\n",
       "    </pre>\n",
       "    "
      ]
     },
     "metadata": {},
     "output_type": "display_data"
    },
    {
     "data": {
      "text/html": [
       "\n",
       "    La solución del problema de condiciones iniciales es\n",
       "    \\(u(x)=\\frac{1}{3} \\, {\\left(2 \\, \\cos\\left(x\\right) + 1\\right)} {\\left(2 \\, \\cos\\left(x\\right) - 1\\right)} \\sin\\left(x\\right)\\)\n",
       "    "
      ],
      "text/plain": [
       "\n",
       "    La solución del problema de condiciones iniciales es\n",
       "    \\(u(x)=\\frac{1}{3} \\, {\\left(2 \\, \\cos\\left(x\\right) + 1\\right)} {\\left(2 \\, \\cos\\left(x\\right) - 1\\right)} \\sin\\left(x\\right)\\)\n",
       "    "
      ]
     },
     "metadata": {},
     "output_type": "display_data"
    },
    {
     "data": {
      "text/html": [
       "\n",
       "    <h1> EDOs lineales de 2o Orden </h1>\n",
       "    <h2> Caso homogeneo </h2>\n",
       "    <p> Encuentre la solución \\(u(x)\\) de la siguiente ecuación diferencial\n",
       "    \\(6 \\, u\\left(x\\right) - 5 \\, \\frac{\\partial}{\\partial x}u\\left(x\\right) + \\frac{\\partial^{2}}{(\\partial x)^{2}}u\\left(x\\right) = 0\\) con condiciones iniciales \\(u(0)=1, \\; u'(0)=1\\)\n",
       "    y evalue en el punto dado:</p>\n",
       "    <pre>\n",
       "    u(1.8) = {1:NM:=-148.209947316831:-4.44629841950493}\n",
       "    </pre>\n",
       "    "
      ],
      "text/plain": [
       "\n",
       "    <h1> EDOs lineales de 2o Orden </h1>\n",
       "    <h2> Caso homogeneo </h2>\n",
       "    <p> Encuentre la solución \\(u(x)\\) de la siguiente ecuación diferencial\n",
       "    \\(6 \\, u\\left(x\\right) - 5 \\, \\frac{\\partial}{\\partial x}u\\left(x\\right) + \\frac{\\partial^{2}}{(\\partial x)^{2}}u\\left(x\\right) = 0\\) con condiciones iniciales \\(u(0)=1, \\; u'(0)=1\\)\n",
       "    y evalue en el punto dado:</p>\n",
       "    <pre>\n",
       "    u(1.8) = {1:NM:=-148.209947316831:-4.44629841950493}\n",
       "    </pre>\n",
       "    "
      ]
     },
     "metadata": {},
     "output_type": "display_data"
    },
    {
     "data": {
      "text/html": [
       "\n",
       "    La solución del problema de condiciones iniciales es\n",
       "    \\(u(x)=-{\\left(e^{x} - 2\\right)} e^{\\left(2 \\, x\\right)}\\)\n",
       "    "
      ],
      "text/plain": [
       "\n",
       "    La solución del problema de condiciones iniciales es\n",
       "    \\(u(x)=-{\\left(e^{x} - 2\\right)} e^{\\left(2 \\, x\\right)}\\)\n",
       "    "
      ]
     },
     "metadata": {},
     "output_type": "display_data"
    },
    {
     "data": {
      "text/html": [
       "\n",
       "    <h1> EDOs lineales de 2o Orden </h1>\n",
       "    <h2> Caso homogeneo </h2>\n",
       "    <p> Encuentre la solución \\(u(x)\\) de la siguiente ecuación diferencial\n",
       "    \\(-8 \\, u\\left(x\\right) - 8 \\, \\frac{\\partial}{\\partial x}u\\left(x\\right) + \\frac{\\partial^{2}}{(\\partial x)^{2}}u\\left(x\\right) = 0\\) con condiciones iniciales \\(u(0)=0, \\; u'(0)=-1\\)\n",
       "    y evalue en el punto dado:</p>\n",
       "    <pre>\n",
       "    u(1.05) = {1:NM:=-1166.45010761703:-34.9935032285108}\n",
       "    </pre>\n",
       "    "
      ],
      "text/plain": [
       "\n",
       "    <h1> EDOs lineales de 2o Orden </h1>\n",
       "    <h2> Caso homogeneo </h2>\n",
       "    <p> Encuentre la solución \\(u(x)\\) de la siguiente ecuación diferencial\n",
       "    \\(-8 \\, u\\left(x\\right) - 8 \\, \\frac{\\partial}{\\partial x}u\\left(x\\right) + \\frac{\\partial^{2}}{(\\partial x)^{2}}u\\left(x\\right) = 0\\) con condiciones iniciales \\(u(0)=0, \\; u'(0)=-1\\)\n",
       "    y evalue en el punto dado:</p>\n",
       "    <pre>\n",
       "    u(1.05) = {1:NM:=-1166.45010761703:-34.9935032285108}\n",
       "    </pre>\n",
       "    "
      ]
     },
     "metadata": {},
     "output_type": "display_data"
    },
    {
     "data": {
      "text/html": [
       "\n",
       "    La solución del problema de condiciones iniciales es\n",
       "    \\(u(x)=-\\frac{1}{24} \\, \\sqrt{6} {\\left(e^{\\left(2 \\, \\sqrt{6} x\\right)} + 1\\right)} {\\left(e^{\\left(\\sqrt{6} x\\right)} + 1\\right)} {\\left(e^{\\left(\\sqrt{6} x\\right)} - 1\\right)} e^{\\left(-2 \\, \\sqrt{6} x + 4 \\, x\\right)}\\)\n",
       "    "
      ],
      "text/plain": [
       "\n",
       "    La solución del problema de condiciones iniciales es\n",
       "    \\(u(x)=-\\frac{1}{24} \\, \\sqrt{6} {\\left(e^{\\left(2 \\, \\sqrt{6} x\\right)} + 1\\right)} {\\left(e^{\\left(\\sqrt{6} x\\right)} + 1\\right)} {\\left(e^{\\left(\\sqrt{6} x\\right)} - 1\\right)} e^{\\left(-2 \\, \\sqrt{6} x + 4 \\, x\\right)}\\)\n",
       "    "
      ]
     },
     "metadata": {},
     "output_type": "display_data"
    },
    {
     "data": {
      "text/html": [
       "\n",
       "    <h1> EDOs lineales de 2o Orden </h1>\n",
       "    <h2> Caso homogeneo </h2>\n",
       "    <p> Encuentre la solución \\(u(x)\\) de la siguiente ecuación diferencial\n",
       "    \\(5 \\, u\\left(x\\right) + 4 \\, \\frac{\\partial}{\\partial x}u\\left(x\\right) + \\frac{\\partial^{2}}{(\\partial x)^{2}}u\\left(x\\right) = 0\\) con condiciones iniciales \\(u(0)=-1, \\; u'(0)=1\\)\n",
       "    y evalue en el punto dado:</p>\n",
       "    <pre>\n",
       "    u(1.84) = {1:NM:=-0.0176061187119753:-0.000528183561359260}\n",
       "    </pre>\n",
       "    "
      ],
      "text/plain": [
       "\n",
       "    <h1> EDOs lineales de 2o Orden </h1>\n",
       "    <h2> Caso homogeneo </h2>\n",
       "    <p> Encuentre la solución \\(u(x)\\) de la siguiente ecuación diferencial\n",
       "    \\(5 \\, u\\left(x\\right) + 4 \\, \\frac{\\partial}{\\partial x}u\\left(x\\right) + \\frac{\\partial^{2}}{(\\partial x)^{2}}u\\left(x\\right) = 0\\) con condiciones iniciales \\(u(0)=-1, \\; u'(0)=1\\)\n",
       "    y evalue en el punto dado:</p>\n",
       "    <pre>\n",
       "    u(1.84) = {1:NM:=-0.0176061187119753:-0.000528183561359260}\n",
       "    </pre>\n",
       "    "
      ]
     },
     "metadata": {},
     "output_type": "display_data"
    },
    {
     "data": {
      "text/html": [
       "\n",
       "    La solución del problema de condiciones iniciales es\n",
       "    \\(u(x)=-{\\left(\\cos\\left(x\\right) + \\sin\\left(x\\right)\\right)} e^{\\left(-2 \\, x\\right)}\\)\n",
       "    "
      ],
      "text/plain": [
       "\n",
       "    La solución del problema de condiciones iniciales es\n",
       "    \\(u(x)=-{\\left(\\cos\\left(x\\right) + \\sin\\left(x\\right)\\right)} e^{\\left(-2 \\, x\\right)}\\)\n",
       "    "
      ]
     },
     "metadata": {},
     "output_type": "display_data"
    },
    {
     "data": {
      "text/html": [
       "\n",
       "    <h1> EDOs lineales de 2o Orden </h1>\n",
       "    <h2> Caso homogeneo </h2>\n",
       "    <p> Encuentre la solución \\(u(x)\\) de la siguiente ecuación diferencial\n",
       "    \\(3 \\, u\\left(x\\right) - 6 \\, \\frac{\\partial}{\\partial x}u\\left(x\\right) + \\frac{\\partial^{2}}{(\\partial x)^{2}}u\\left(x\\right) = 0\\) con condiciones iniciales \\(u(0)=0, \\; u'(0)=1\\)\n",
       "    y evalue en el punto dado:</p>\n",
       "    <pre>\n",
       "    u(1.23) = {1:NM:=165.906901067984:4.97720703203952}\n",
       "    </pre>\n",
       "    "
      ],
      "text/plain": [
       "\n",
       "    <h1> EDOs lineales de 2o Orden </h1>\n",
       "    <h2> Caso homogeneo </h2>\n",
       "    <p> Encuentre la solución \\(u(x)\\) de la siguiente ecuación diferencial\n",
       "    \\(3 \\, u\\left(x\\right) - 6 \\, \\frac{\\partial}{\\partial x}u\\left(x\\right) + \\frac{\\partial^{2}}{(\\partial x)^{2}}u\\left(x\\right) = 0\\) con condiciones iniciales \\(u(0)=0, \\; u'(0)=1\\)\n",
       "    y evalue en el punto dado:</p>\n",
       "    <pre>\n",
       "    u(1.23) = {1:NM:=165.906901067984:4.97720703203952}\n",
       "    </pre>\n",
       "    "
      ]
     },
     "metadata": {},
     "output_type": "display_data"
    },
    {
     "data": {
      "text/html": [
       "\n",
       "    La solución del problema de condiciones iniciales es\n",
       "    \\(u(x)=\\frac{1}{12} \\, \\sqrt{6} {\\left(e^{\\left(\\sqrt{6} x\\right)} + 1\\right)} {\\left(e^{\\left(\\sqrt{6} x\\right)} - 1\\right)} e^{\\left(-\\sqrt{6} x + 3 \\, x\\right)}\\)\n",
       "    "
      ],
      "text/plain": [
       "\n",
       "    La solución del problema de condiciones iniciales es\n",
       "    \\(u(x)=\\frac{1}{12} \\, \\sqrt{6} {\\left(e^{\\left(\\sqrt{6} x\\right)} + 1\\right)} {\\left(e^{\\left(\\sqrt{6} x\\right)} - 1\\right)} e^{\\left(-\\sqrt{6} x + 3 \\, x\\right)}\\)\n",
       "    "
      ]
     },
     "metadata": {},
     "output_type": "display_data"
    },
    {
     "data": {
      "text/html": [
       "\n",
       "    <h1> EDOs lineales de 2o Orden </h1>\n",
       "    <h2> Caso homogeneo </h2>\n",
       "    <p> Encuentre la solución \\(u(x)\\) de la siguiente ecuación diferencial\n",
       "    \\(-7 \\, u\\left(x\\right) - 8 \\, \\frac{\\partial}{\\partial x}u\\left(x\\right) + \\frac{\\partial^{2}}{(\\partial x)^{2}}u\\left(x\\right) = 0\\) con condiciones iniciales \\(u(0)=1, \\; u'(0)=-1\\)\n",
       "    y evalue en el punto dado:</p>\n",
       "    <pre>\n",
       "    u(1.32) = {1:NM:=-2346.40896316209:-70.3922688948626}\n",
       "    </pre>\n",
       "    "
      ],
      "text/plain": [
       "\n",
       "    <h1> EDOs lineales de 2o Orden </h1>\n",
       "    <h2> Caso homogeneo </h2>\n",
       "    <p> Encuentre la solución \\(u(x)\\) de la siguiente ecuación diferencial\n",
       "    \\(-7 \\, u\\left(x\\right) - 8 \\, \\frac{\\partial}{\\partial x}u\\left(x\\right) + \\frac{\\partial^{2}}{(\\partial x)^{2}}u\\left(x\\right) = 0\\) con condiciones iniciales \\(u(0)=1, \\; u'(0)=-1\\)\n",
       "    y evalue en el punto dado:</p>\n",
       "    <pre>\n",
       "    u(1.32) = {1:NM:=-2346.40896316209:-70.3922688948626}\n",
       "    </pre>\n",
       "    "
      ]
     },
     "metadata": {},
     "output_type": "display_data"
    },
    {
     "data": {
      "text/html": [
       "\n",
       "    La solución del problema de condiciones iniciales es\n",
       "    \\(u(x)=-\\frac{1}{46} \\, {\\left(5 \\, \\sqrt{23} e^{\\left(2 \\, \\sqrt{23} x\\right)} - 5 \\, \\sqrt{23} - 23 \\, e^{\\left(2 \\, \\sqrt{23} x\\right)} - 23\\right)} e^{\\left(-\\sqrt{23} x + 4 \\, x\\right)}\\)\n",
       "    "
      ],
      "text/plain": [
       "\n",
       "    La solución del problema de condiciones iniciales es\n",
       "    \\(u(x)=-\\frac{1}{46} \\, {\\left(5 \\, \\sqrt{23} e^{\\left(2 \\, \\sqrt{23} x\\right)} - 5 \\, \\sqrt{23} - 23 \\, e^{\\left(2 \\, \\sqrt{23} x\\right)} - 23\\right)} e^{\\left(-\\sqrt{23} x + 4 \\, x\\right)}\\)\n",
       "    "
      ]
     },
     "metadata": {},
     "output_type": "display_data"
    },
    {
     "data": {
      "text/html": [
       "\n",
       "    <h1> EDOs lineales de 2o Orden </h1>\n",
       "    <h2> Caso homogeneo </h2>\n",
       "    <p> Encuentre la solución \\(u(x)\\) de la siguiente ecuación diferencial\n",
       "    \\(-8 \\, u\\left(x\\right) + 4 \\, \\frac{\\partial}{\\partial x}u\\left(x\\right) + \\frac{\\partial^{2}}{(\\partial x)^{2}}u\\left(x\\right) = 0\\) con condiciones iniciales \\(u(0)=1, \\; u'(0)=0\\)\n",
       "    y evalue en el punto dado:</p>\n",
       "    <pre>\n",
       "    u(1.57) = {1:NM:=7.85573477083123:0.235672043124937}\n",
       "    </pre>\n",
       "    "
      ],
      "text/plain": [
       "\n",
       "    <h1> EDOs lineales de 2o Orden </h1>\n",
       "    <h2> Caso homogeneo </h2>\n",
       "    <p> Encuentre la solución \\(u(x)\\) de la siguiente ecuación diferencial\n",
       "    \\(-8 \\, u\\left(x\\right) + 4 \\, \\frac{\\partial}{\\partial x}u\\left(x\\right) + \\frac{\\partial^{2}}{(\\partial x)^{2}}u\\left(x\\right) = 0\\) con condiciones iniciales \\(u(0)=1, \\; u'(0)=0\\)\n",
       "    y evalue en el punto dado:</p>\n",
       "    <pre>\n",
       "    u(1.57) = {1:NM:=7.85573477083123:0.235672043124937}\n",
       "    </pre>\n",
       "    "
      ]
     },
     "metadata": {},
     "output_type": "display_data"
    },
    {
     "data": {
      "text/html": [
       "\n",
       "    La solución del problema de condiciones iniciales es\n",
       "    \\(u(x)=\\frac{1}{6} \\, {\\left(\\sqrt{3} e^{\\left(4 \\, \\sqrt{3} x\\right)} - \\sqrt{3} + 3 \\, e^{\\left(4 \\, \\sqrt{3} x\\right)} + 3\\right)} e^{\\left(-2 \\, \\sqrt{3} x - 2 \\, x\\right)}\\)\n",
       "    "
      ],
      "text/plain": [
       "\n",
       "    La solución del problema de condiciones iniciales es\n",
       "    \\(u(x)=\\frac{1}{6} \\, {\\left(\\sqrt{3} e^{\\left(4 \\, \\sqrt{3} x\\right)} - \\sqrt{3} + 3 \\, e^{\\left(4 \\, \\sqrt{3} x\\right)} + 3\\right)} e^{\\left(-2 \\, \\sqrt{3} x - 2 \\, x\\right)}\\)\n",
       "    "
      ]
     },
     "metadata": {},
     "output_type": "display_data"
    },
    {
     "data": {
      "text/html": [
       "\n",
       "    <h1> EDOs lineales de 2o Orden </h1>\n",
       "    <h2> Caso homogeneo </h2>\n",
       "    <p> Encuentre la solución \\(u(x)\\) de la siguiente ecuación diferencial\n",
       "    \\(-u\\left(x\\right) - \\frac{\\partial}{\\partial x}u\\left(x\\right) + \\frac{\\partial^{2}}{(\\partial x)^{2}}u\\left(x\\right) = 0\\) con condiciones iniciales \\(u(0)=0, \\; u'(0)=-1\\)\n",
       "    y evalue en el punto dado:</p>\n",
       "    <pre>\n",
       "    u(1.74) = {1:NM:=-7.31567100043134:-0.219470130012940}\n",
       "    </pre>\n",
       "    "
      ],
      "text/plain": [
       "\n",
       "    <h1> EDOs lineales de 2o Orden </h1>\n",
       "    <h2> Caso homogeneo </h2>\n",
       "    <p> Encuentre la solución \\(u(x)\\) de la siguiente ecuación diferencial\n",
       "    \\(-u\\left(x\\right) - \\frac{\\partial}{\\partial x}u\\left(x\\right) + \\frac{\\partial^{2}}{(\\partial x)^{2}}u\\left(x\\right) = 0\\) con condiciones iniciales \\(u(0)=0, \\; u'(0)=-1\\)\n",
       "    y evalue en el punto dado:</p>\n",
       "    <pre>\n",
       "    u(1.74) = {1:NM:=-7.31567100043134:-0.219470130012940}\n",
       "    </pre>\n",
       "    "
      ]
     },
     "metadata": {},
     "output_type": "display_data"
    },
    {
     "data": {
      "text/html": [
       "\n",
       "    La solución del problema de condiciones iniciales es\n",
       "    \\(u(x)=-\\frac{1}{5} \\, \\sqrt{5} {\\left(e^{\\left(\\sqrt{5} x\\right)} - 1\\right)} e^{\\left(-\\frac{1}{2} \\, \\sqrt{5} x + \\frac{1}{2} \\, x\\right)}\\)\n",
       "    "
      ],
      "text/plain": [
       "\n",
       "    La solución del problema de condiciones iniciales es\n",
       "    \\(u(x)=-\\frac{1}{5} \\, \\sqrt{5} {\\left(e^{\\left(\\sqrt{5} x\\right)} - 1\\right)} e^{\\left(-\\frac{1}{2} \\, \\sqrt{5} x + \\frac{1}{2} \\, x\\right)}\\)\n",
       "    "
      ]
     },
     "metadata": {},
     "output_type": "display_data"
    },
    {
     "data": {
      "text/html": [
       "\n",
       "    <h1> EDOs lineales de 2o Orden </h1>\n",
       "    <h2> Caso homogeneo </h2>\n",
       "    <p> Encuentre la solución \\(u(x)\\) de la siguiente ecuación diferencial\n",
       "    \\(4 \\, u\\left(x\\right) + \\frac{\\partial^{2}}{(\\partial x)^{2}}u\\left(x\\right) = 0\\) con condiciones iniciales \\(u(0)=-1, \\; u'(0)=0\\)\n",
       "    y evalue en el punto dado:</p>\n",
       "    <pre>\n",
       "    u(1.98) = {1:NM:=0.683384803583336:0.0205015441075001}\n",
       "    </pre>\n",
       "    "
      ],
      "text/plain": [
       "\n",
       "    <h1> EDOs lineales de 2o Orden </h1>\n",
       "    <h2> Caso homogeneo </h2>\n",
       "    <p> Encuentre la solución \\(u(x)\\) de la siguiente ecuación diferencial\n",
       "    \\(4 \\, u\\left(x\\right) + \\frac{\\partial^{2}}{(\\partial x)^{2}}u\\left(x\\right) = 0\\) con condiciones iniciales \\(u(0)=-1, \\; u'(0)=0\\)\n",
       "    y evalue en el punto dado:</p>\n",
       "    <pre>\n",
       "    u(1.98) = {1:NM:=0.683384803583336:0.0205015441075001}\n",
       "    </pre>\n",
       "    "
      ]
     },
     "metadata": {},
     "output_type": "display_data"
    },
    {
     "data": {
      "text/html": [
       "\n",
       "    La solución del problema de condiciones iniciales es\n",
       "    \\(u(x)=-2 \\, \\cos\\left(x\\right)^{2} + 1\\)\n",
       "    "
      ],
      "text/plain": [
       "\n",
       "    La solución del problema de condiciones iniciales es\n",
       "    \\(u(x)=-2 \\, \\cos\\left(x\\right)^{2} + 1\\)\n",
       "    "
      ]
     },
     "metadata": {},
     "output_type": "display_data"
    },
    {
     "data": {
      "text/html": [
       "\n",
       "    <h1> EDOs lineales de 2o Orden </h1>\n",
       "    <h2> Caso homogeneo </h2>\n",
       "    <p> Encuentre la solución \\(u(x)\\) de la siguiente ecuación diferencial\n",
       "    \\(2 \\, u\\left(x\\right) - 4 \\, \\frac{\\partial}{\\partial x}u\\left(x\\right) + \\frac{\\partial^{2}}{(\\partial x)^{2}}u\\left(x\\right) = 0\\) con condiciones iniciales \\(u(0)=0, \\; u'(0)=1\\)\n",
       "    y evalue en el punto dado:</p>\n",
       "    <pre>\n",
       "    u(1.2) = {1:NM:=20.5567375854573:0.616702127563720}\n",
       "    </pre>\n",
       "    "
      ],
      "text/plain": [
       "\n",
       "    <h1> EDOs lineales de 2o Orden </h1>\n",
       "    <h2> Caso homogeneo </h2>\n",
       "    <p> Encuentre la solución \\(u(x)\\) de la siguiente ecuación diferencial\n",
       "    \\(2 \\, u\\left(x\\right) - 4 \\, \\frac{\\partial}{\\partial x}u\\left(x\\right) + \\frac{\\partial^{2}}{(\\partial x)^{2}}u\\left(x\\right) = 0\\) con condiciones iniciales \\(u(0)=0, \\; u'(0)=1\\)\n",
       "    y evalue en el punto dado:</p>\n",
       "    <pre>\n",
       "    u(1.2) = {1:NM:=20.5567375854573:0.616702127563720}\n",
       "    </pre>\n",
       "    "
      ]
     },
     "metadata": {},
     "output_type": "display_data"
    },
    {
     "data": {
      "text/html": [
       "\n",
       "    La solución del problema de condiciones iniciales es\n",
       "    \\(u(x)=\\frac{1}{4} \\, \\sqrt{2} {\\left(e^{\\left(2 \\, \\sqrt{2} x\\right)} - 1\\right)} e^{\\left(-\\sqrt{2} x + 2 \\, x\\right)}\\)\n",
       "    "
      ],
      "text/plain": [
       "\n",
       "    La solución del problema de condiciones iniciales es\n",
       "    \\(u(x)=\\frac{1}{4} \\, \\sqrt{2} {\\left(e^{\\left(2 \\, \\sqrt{2} x\\right)} - 1\\right)} e^{\\left(-\\sqrt{2} x + 2 \\, x\\right)}\\)\n",
       "    "
      ]
     },
     "metadata": {},
     "output_type": "display_data"
    },
    {
     "data": {
      "text/html": [
       "\n",
       "    <h1> EDOs lineales de 2o Orden </h1>\n",
       "    <h2> Caso homogeneo </h2>\n",
       "    <p> Encuentre la solución \\(u(x)\\) de la siguiente ecuación diferencial\n",
       "    \\(-8 \\, u\\left(x\\right) + 3 \\, \\frac{\\partial}{\\partial x}u\\left(x\\right) + \\frac{\\partial^{2}}{(\\partial x)^{2}}u\\left(x\\right) = 0\\) con condiciones iniciales \\(u(0)=-1, \\; u'(0)=0\\)\n",
       "    y evalue en el punto dado:</p>\n",
       "    <pre>\n",
       "    u(1.85) = {1:NM:=-17.0986805535408:-0.512960416606224}\n",
       "    </pre>\n",
       "    "
      ],
      "text/plain": [
       "\n",
       "    <h1> EDOs lineales de 2o Orden </h1>\n",
       "    <h2> Caso homogeneo </h2>\n",
       "    <p> Encuentre la solución \\(u(x)\\) de la siguiente ecuación diferencial\n",
       "    \\(-8 \\, u\\left(x\\right) + 3 \\, \\frac{\\partial}{\\partial x}u\\left(x\\right) + \\frac{\\partial^{2}}{(\\partial x)^{2}}u\\left(x\\right) = 0\\) con condiciones iniciales \\(u(0)=-1, \\; u'(0)=0\\)\n",
       "    y evalue en el punto dado:</p>\n",
       "    <pre>\n",
       "    u(1.85) = {1:NM:=-17.0986805535408:-0.512960416606224}\n",
       "    </pre>\n",
       "    "
      ]
     },
     "metadata": {},
     "output_type": "display_data"
    },
    {
     "data": {
      "text/html": [
       "\n",
       "    La solución del problema de condiciones iniciales es\n",
       "    \\(u(x)=-\\frac{1}{82} \\, {\\left(3 \\, \\sqrt{41} e^{\\left(\\sqrt{41} x\\right)} - 3 \\, \\sqrt{41} + 41 \\, e^{\\left(\\sqrt{41} x\\right)} + 41\\right)} e^{\\left(-\\frac{1}{2} \\, \\sqrt{41} x - \\frac{3}{2} \\, x\\right)}\\)\n",
       "    "
      ],
      "text/plain": [
       "\n",
       "    La solución del problema de condiciones iniciales es\n",
       "    \\(u(x)=-\\frac{1}{82} \\, {\\left(3 \\, \\sqrt{41} e^{\\left(\\sqrt{41} x\\right)} - 3 \\, \\sqrt{41} + 41 \\, e^{\\left(\\sqrt{41} x\\right)} + 41\\right)} e^{\\left(-\\frac{1}{2} \\, \\sqrt{41} x - \\frac{3}{2} \\, x\\right)}\\)\n",
       "    "
      ]
     },
     "metadata": {},
     "output_type": "display_data"
    },
    {
     "data": {
      "text/html": [
       "\n",
       "    <h1> EDOs lineales de 2o Orden </h1>\n",
       "    <h2> Caso homogeneo </h2>\n",
       "    <p> Encuentre la solución \\(u(x)\\) de la siguiente ecuación diferencial\n",
       "    \\(-5 \\, \\frac{\\partial}{\\partial x}u\\left(x\\right) + \\frac{\\partial^{2}}{(\\partial x)^{2}}u\\left(x\\right) = 0\\) con condiciones iniciales \\(u(0)=-1, \\; u'(0)=1\\)\n",
       "    y evalue en el punto dado:</p>\n",
       "    <pre>\n",
       "    u(1.9) = {1:NM:=2670.74536593238:80.1223609779713}\n",
       "    </pre>\n",
       "    "
      ],
      "text/plain": [
       "\n",
       "    <h1> EDOs lineales de 2o Orden </h1>\n",
       "    <h2> Caso homogeneo </h2>\n",
       "    <p> Encuentre la solución \\(u(x)\\) de la siguiente ecuación diferencial\n",
       "    \\(-5 \\, \\frac{\\partial}{\\partial x}u\\left(x\\right) + \\frac{\\partial^{2}}{(\\partial x)^{2}}u\\left(x\\right) = 0\\) con condiciones iniciales \\(u(0)=-1, \\; u'(0)=1\\)\n",
       "    y evalue en el punto dado:</p>\n",
       "    <pre>\n",
       "    u(1.9) = {1:NM:=2670.74536593238:80.1223609779713}\n",
       "    </pre>\n",
       "    "
      ]
     },
     "metadata": {},
     "output_type": "display_data"
    },
    {
     "data": {
      "text/html": [
       "\n",
       "    La solución del problema de condiciones iniciales es\n",
       "    \\(u(x)=\\frac{1}{5} \\, e^{\\left(5 \\, x\\right)} - \\frac{6}{5}\\)\n",
       "    "
      ],
      "text/plain": [
       "\n",
       "    La solución del problema de condiciones iniciales es\n",
       "    \\(u(x)=\\frac{1}{5} \\, e^{\\left(5 \\, x\\right)} - \\frac{6}{5}\\)\n",
       "    "
      ]
     },
     "metadata": {},
     "output_type": "display_data"
    },
    {
     "data": {
      "text/html": [
       "\n",
       "    <h1> EDOs lineales de 2o Orden </h1>\n",
       "    <h2> Caso homogeneo </h2>\n",
       "    <p> Encuentre la solución \\(u(x)\\) de la siguiente ecuación diferencial\n",
       "    \\(-8 \\, u\\left(x\\right) - 8 \\, \\frac{\\partial}{\\partial x}u\\left(x\\right) + \\frac{\\partial^{2}}{(\\partial x)^{2}}u\\left(x\\right) = 0\\) con condiciones iniciales \\(u(0)=-1, \\; u'(0)=0\\)\n",
       "    y evalue en el punto dado:</p>\n",
       "    <pre>\n",
       "    u(1.61) = {1:NM:=-153075.907922042:-4592.27723766125}\n",
       "    </pre>\n",
       "    "
      ],
      "text/plain": [
       "\n",
       "    <h1> EDOs lineales de 2o Orden </h1>\n",
       "    <h2> Caso homogeneo </h2>\n",
       "    <p> Encuentre la solución \\(u(x)\\) de la siguiente ecuación diferencial\n",
       "    \\(-8 \\, u\\left(x\\right) - 8 \\, \\frac{\\partial}{\\partial x}u\\left(x\\right) + \\frac{\\partial^{2}}{(\\partial x)^{2}}u\\left(x\\right) = 0\\) con condiciones iniciales \\(u(0)=-1, \\; u'(0)=0\\)\n",
       "    y evalue en el punto dado:</p>\n",
       "    <pre>\n",
       "    u(1.61) = {1:NM:=-153075.907922042:-4592.27723766125}\n",
       "    </pre>\n",
       "    "
      ]
     },
     "metadata": {},
     "output_type": "display_data"
    },
    {
     "data": {
      "text/html": [
       "\n",
       "    La solución del problema de condiciones iniciales es\n",
       "    \\(u(x)=\\frac{1}{6} \\, {\\left(\\sqrt{6} e^{\\left(4 \\, \\sqrt{6} x\\right)} - \\sqrt{6} - 3 \\, e^{\\left(4 \\, \\sqrt{6} x\\right)} - 3\\right)} e^{\\left(-2 \\, \\sqrt{6} x + 4 \\, x\\right)}\\)\n",
       "    "
      ],
      "text/plain": [
       "\n",
       "    La solución del problema de condiciones iniciales es\n",
       "    \\(u(x)=\\frac{1}{6} \\, {\\left(\\sqrt{6} e^{\\left(4 \\, \\sqrt{6} x\\right)} - \\sqrt{6} - 3 \\, e^{\\left(4 \\, \\sqrt{6} x\\right)} - 3\\right)} e^{\\left(-2 \\, \\sqrt{6} x + 4 \\, x\\right)}\\)\n",
       "    "
      ]
     },
     "metadata": {},
     "output_type": "display_data"
    },
    {
     "data": {
      "text/html": [
       "\n",
       "    <h1> EDOs lineales de 2o Orden </h1>\n",
       "    <h2> Caso homogeneo </h2>\n",
       "    <p> Encuentre la solución \\(u(x)\\) de la siguiente ecuación diferencial\n",
       "    \\(-6 \\, u\\left(x\\right) + \\frac{\\partial}{\\partial x}u\\left(x\\right) + \\frac{\\partial^{2}}{(\\partial x)^{2}}u\\left(x\\right) = 0\\) con condiciones iniciales \\(u(0)=0, \\; u'(0)=1\\)\n",
       "    y evalue en el punto dado:</p>\n",
       "    <pre>\n",
       "    u(1.18) = {1:NM:=2.11238762507032:0.0633716287521095}\n",
       "    </pre>\n",
       "    "
      ],
      "text/plain": [
       "\n",
       "    <h1> EDOs lineales de 2o Orden </h1>\n",
       "    <h2> Caso homogeneo </h2>\n",
       "    <p> Encuentre la solución \\(u(x)\\) de la siguiente ecuación diferencial\n",
       "    \\(-6 \\, u\\left(x\\right) + \\frac{\\partial}{\\partial x}u\\left(x\\right) + \\frac{\\partial^{2}}{(\\partial x)^{2}}u\\left(x\\right) = 0\\) con condiciones iniciales \\(u(0)=0, \\; u'(0)=1\\)\n",
       "    y evalue en el punto dado:</p>\n",
       "    <pre>\n",
       "    u(1.18) = {1:NM:=2.11238762507032:0.0633716287521095}\n",
       "    </pre>\n",
       "    "
      ]
     },
     "metadata": {},
     "output_type": "display_data"
    },
    {
     "data": {
      "text/html": [
       "\n",
       "    La solución del problema de condiciones iniciales es\n",
       "    \\(u(x)=\\frac{1}{5} \\, {\\left(e^{\\left(4 \\, x\\right)} + e^{\\left(3 \\, x\\right)} + e^{\\left(2 \\, x\\right)} + e^{x} + 1\\right)} {\\left(e^{x} - 1\\right)} e^{\\left(-3 \\, x\\right)}\\)\n",
       "    "
      ],
      "text/plain": [
       "\n",
       "    La solución del problema de condiciones iniciales es\n",
       "    \\(u(x)=\\frac{1}{5} \\, {\\left(e^{\\left(4 \\, x\\right)} + e^{\\left(3 \\, x\\right)} + e^{\\left(2 \\, x\\right)} + e^{x} + 1\\right)} {\\left(e^{x} - 1\\right)} e^{\\left(-3 \\, x\\right)}\\)\n",
       "    "
      ]
     },
     "metadata": {},
     "output_type": "display_data"
    },
    {
     "data": {
      "text/html": [
       "\n",
       "    <h1> EDOs lineales de 2o Orden </h1>\n",
       "    <h2> Caso homogeneo </h2>\n",
       "    <p> Encuentre la solución \\(u(x)\\) de la siguiente ecuación diferencial\n",
       "    \\(2 \\, u\\left(x\\right) + 4 \\, \\frac{\\partial}{\\partial x}u\\left(x\\right) + \\frac{\\partial^{2}}{(\\partial x)^{2}}u\\left(x\\right) = 0\\) con condiciones iniciales \\(u(0)=1, \\; u'(0)=-1\\)\n",
       "    y evalue en el punto dado:</p>\n",
       "    <pre>\n",
       "    u(1.72) = {1:NM:=0.312054492376095:0.00936163477128284}\n",
       "    </pre>\n",
       "    "
      ],
      "text/plain": [
       "\n",
       "    <h1> EDOs lineales de 2o Orden </h1>\n",
       "    <h2> Caso homogeneo </h2>\n",
       "    <p> Encuentre la solución \\(u(x)\\) de la siguiente ecuación diferencial\n",
       "    \\(2 \\, u\\left(x\\right) + 4 \\, \\frac{\\partial}{\\partial x}u\\left(x\\right) + \\frac{\\partial^{2}}{(\\partial x)^{2}}u\\left(x\\right) = 0\\) con condiciones iniciales \\(u(0)=1, \\; u'(0)=-1\\)\n",
       "    y evalue en el punto dado:</p>\n",
       "    <pre>\n",
       "    u(1.72) = {1:NM:=0.312054492376095:0.00936163477128284}\n",
       "    </pre>\n",
       "    "
      ]
     },
     "metadata": {},
     "output_type": "display_data"
    },
    {
     "data": {
      "text/html": [
       "\n",
       "    La solución del problema de condiciones iniciales es\n",
       "    \\(u(x)=\\frac{1}{4} \\, {\\left(\\sqrt{2} e^{\\left(2 \\, \\sqrt{2} x\\right)} - \\sqrt{2} + 2 \\, e^{\\left(2 \\, \\sqrt{2} x\\right)} + 2\\right)} e^{\\left(-\\sqrt{2} x - 2 \\, x\\right)}\\)\n",
       "    "
      ],
      "text/plain": [
       "\n",
       "    La solución del problema de condiciones iniciales es\n",
       "    \\(u(x)=\\frac{1}{4} \\, {\\left(\\sqrt{2} e^{\\left(2 \\, \\sqrt{2} x\\right)} - \\sqrt{2} + 2 \\, e^{\\left(2 \\, \\sqrt{2} x\\right)} + 2\\right)} e^{\\left(-\\sqrt{2} x - 2 \\, x\\right)}\\)\n",
       "    "
      ]
     },
     "metadata": {},
     "output_type": "display_data"
    },
    {
     "data": {
      "text/html": [
       "\n",
       "    <h1> EDOs lineales de 2o Orden </h1>\n",
       "    <h2> Caso homogeneo </h2>\n",
       "    <p> Encuentre la solución \\(u(x)\\) de la siguiente ecuación diferencial\n",
       "    \\(-9 \\, u\\left(x\\right) - 3 \\, \\frac{\\partial}{\\partial x}u\\left(x\\right) + \\frac{\\partial^{2}}{(\\partial x)^{2}}u\\left(x\\right) = 0\\) con condiciones iniciales \\(u(0)=-1, \\; u'(0)=-1\\)\n",
       "    y evalue en el punto dado:</p>\n",
       "    <pre>\n",
       "    u(1.19) = {1:NM:=-137.313702913764:-4.11941108741293}\n",
       "    </pre>\n",
       "    "
      ],
      "text/plain": [
       "\n",
       "    <h1> EDOs lineales de 2o Orden </h1>\n",
       "    <h2> Caso homogeneo </h2>\n",
       "    <p> Encuentre la solución \\(u(x)\\) de la siguiente ecuación diferencial\n",
       "    \\(-9 \\, u\\left(x\\right) - 3 \\, \\frac{\\partial}{\\partial x}u\\left(x\\right) + \\frac{\\partial^{2}}{(\\partial x)^{2}}u\\left(x\\right) = 0\\) con condiciones iniciales \\(u(0)=-1, \\; u'(0)=-1\\)\n",
       "    y evalue en el punto dado:</p>\n",
       "    <pre>\n",
       "    u(1.19) = {1:NM:=-137.313702913764:-4.11941108741293}\n",
       "    </pre>\n",
       "    "
      ]
     },
     "metadata": {},
     "output_type": "display_data"
    },
    {
     "data": {
      "text/html": [
       "\n",
       "    La solución del problema de condiciones iniciales es\n",
       "    \\(u(x)=\\frac{1}{30} \\, {\\left(\\sqrt{5} e^{\\left(3 \\, \\sqrt{5} x\\right)} - \\sqrt{5} - 15 \\, e^{\\left(3 \\, \\sqrt{5} x\\right)} - 15\\right)} e^{\\left(-\\frac{3}{2} \\, \\sqrt{5} x + \\frac{3}{2} \\, x\\right)}\\)\n",
       "    "
      ],
      "text/plain": [
       "\n",
       "    La solución del problema de condiciones iniciales es\n",
       "    \\(u(x)=\\frac{1}{30} \\, {\\left(\\sqrt{5} e^{\\left(3 \\, \\sqrt{5} x\\right)} - \\sqrt{5} - 15 \\, e^{\\left(3 \\, \\sqrt{5} x\\right)} - 15\\right)} e^{\\left(-\\frac{3}{2} \\, \\sqrt{5} x + \\frac{3}{2} \\, x\\right)}\\)\n",
       "    "
      ]
     },
     "metadata": {},
     "output_type": "display_data"
    },
    {
     "data": {
      "text/html": [
       "\n",
       "    <h1> EDOs lineales de 2o Orden </h1>\n",
       "    <h2> Caso homogeneo </h2>\n",
       "    <p> Encuentre la solución \\(u(x)\\) de la siguiente ecuación diferencial\n",
       "    \\(6 \\, u\\left(x\\right) + \\frac{\\partial^{2}}{(\\partial x)^{2}}u\\left(x\\right) = 0\\) con condiciones iniciales \\(u(0)=1, \\; u'(0)=0\\)\n",
       "    y evalue en el punto dado:</p>\n",
       "    <pre>\n",
       "    u(1.39) = {1:NM:=-0.965562871077835:-0.0289668861323350}\n",
       "    </pre>\n",
       "    "
      ],
      "text/plain": [
       "\n",
       "    <h1> EDOs lineales de 2o Orden </h1>\n",
       "    <h2> Caso homogeneo </h2>\n",
       "    <p> Encuentre la solución \\(u(x)\\) de la siguiente ecuación diferencial\n",
       "    \\(6 \\, u\\left(x\\right) + \\frac{\\partial^{2}}{(\\partial x)^{2}}u\\left(x\\right) = 0\\) con condiciones iniciales \\(u(0)=1, \\; u'(0)=0\\)\n",
       "    y evalue en el punto dado:</p>\n",
       "    <pre>\n",
       "    u(1.39) = {1:NM:=-0.965562871077835:-0.0289668861323350}\n",
       "    </pre>\n",
       "    "
      ]
     },
     "metadata": {},
     "output_type": "display_data"
    },
    {
     "data": {
      "text/html": [
       "\n",
       "    La solución del problema de condiciones iniciales es\n",
       "    \\(u(x)=\\cos\\left(\\sqrt{6} x\\right)\\)\n",
       "    "
      ],
      "text/plain": [
       "\n",
       "    La solución del problema de condiciones iniciales es\n",
       "    \\(u(x)=\\cos\\left(\\sqrt{6} x\\right)\\)\n",
       "    "
      ]
     },
     "metadata": {},
     "output_type": "display_data"
    },
    {
     "data": {
      "text/html": [
       "\n",
       "    <h1> EDOs lineales de 2o Orden </h1>\n",
       "    <h2> Caso homogeneo </h2>\n",
       "    <p> Encuentre la solución \\(u(x)\\) de la siguiente ecuación diferencial\n",
       "    \\(-9 \\, u\\left(x\\right) - \\frac{\\partial}{\\partial x}u\\left(x\\right) + \\frac{\\partial^{2}}{(\\partial x)^{2}}u\\left(x\\right) = 0\\) con condiciones iniciales \\(u(0)=1, \\; u'(0)=0\\)\n",
       "    y evalue en el punto dado:</p>\n",
       "    <pre>\n",
       "    u(1.38) = {1:NM:=55.4050113260766:1.66215033978230}\n",
       "    </pre>\n",
       "    "
      ],
      "text/plain": [
       "\n",
       "    <h1> EDOs lineales de 2o Orden </h1>\n",
       "    <h2> Caso homogeneo </h2>\n",
       "    <p> Encuentre la solución \\(u(x)\\) de la siguiente ecuación diferencial\n",
       "    \\(-9 \\, u\\left(x\\right) - \\frac{\\partial}{\\partial x}u\\left(x\\right) + \\frac{\\partial^{2}}{(\\partial x)^{2}}u\\left(x\\right) = 0\\) con condiciones iniciales \\(u(0)=1, \\; u'(0)=0\\)\n",
       "    y evalue en el punto dado:</p>\n",
       "    <pre>\n",
       "    u(1.38) = {1:NM:=55.4050113260766:1.66215033978230}\n",
       "    </pre>\n",
       "    "
      ]
     },
     "metadata": {},
     "output_type": "display_data"
    },
    {
     "data": {
      "text/html": [
       "\n",
       "    La solución del problema de condiciones iniciales es\n",
       "    \\(u(x)=-\\frac{1}{74} \\, {\\left(\\sqrt{37} e^{\\left(\\sqrt{37} x\\right)} - \\sqrt{37} - 37 \\, e^{\\left(\\sqrt{37} x\\right)} - 37\\right)} e^{\\left(-\\frac{1}{2} \\, \\sqrt{37} x + \\frac{1}{2} \\, x\\right)}\\)\n",
       "    "
      ],
      "text/plain": [
       "\n",
       "    La solución del problema de condiciones iniciales es\n",
       "    \\(u(x)=-\\frac{1}{74} \\, {\\left(\\sqrt{37} e^{\\left(\\sqrt{37} x\\right)} - \\sqrt{37} - 37 \\, e^{\\left(\\sqrt{37} x\\right)} - 37\\right)} e^{\\left(-\\frac{1}{2} \\, \\sqrt{37} x + \\frac{1}{2} \\, x\\right)}\\)\n",
       "    "
      ]
     },
     "metadata": {},
     "output_type": "display_data"
    },
    {
     "name": "stdout",
     "output_type": "stream",
     "text": [
      "--------------------------------\n",
      "Done: 2018-03-20 21:30:39.257761\n",
      "Folder: P203_edo2_homo\n",
      "Filename: P203_edo2_homo-1521603039.26.xml\n",
      "#exes: 225\n"
     ]
    }
   ],
   "source": [
    "np.random.seed(123)\n",
    "me.quick(gen, label, 15*15, impr=True)"
   ]
  }
 ],
 "metadata": {
  "kernelspec": {
   "display_name": "SageMath 7.5.1",
   "language": "",
   "name": "sagemath"
  },
  "language_info": {
   "codemirror_mode": {
    "name": "ipython",
    "version": 2
   },
   "file_extension": ".py",
   "mimetype": "text/x-python",
   "name": "python",
   "nbconvert_exporter": "python",
   "pygments_lexer": "ipython2",
   "version": "2.7.13"
  }
 },
 "nbformat": 4,
 "nbformat_minor": 0
}
