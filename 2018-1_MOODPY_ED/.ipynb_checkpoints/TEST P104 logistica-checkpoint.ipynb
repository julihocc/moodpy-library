{
 "cells": [
  {
   "cell_type": "code",
   "execution_count": 5,
   "metadata": {
    "collapsed": false
   },
   "outputs": [
    {
     "data": {
      "text/html": [
       "<html><script type=\"math/tex; mode=display\">\\newcommand{\\Bold}[1]{\\mathbf{#1}}x \\ {\\mapsto}\\ -e^{\\left(-2 \\, x\\right)} - 5 \\phantom{\\verb!x!}\\verb|=| x \\ {\\mapsto}\\ -{\\left(5 \\, e^{\\left(2 \\, x\\right)} + 1\\right)} e^{\\left(-2 \\, x\\right)}</script></html>"
      ],
      "text/plain": [
       "x |--> -e^(-2*x) - 5 ' = ' x |--> -(5*e^(2*x) + 1)*e^(-2*x)"
      ]
     },
     "metadata": {},
     "output_type": "display_data"
    },
    {
     "data": {
      "text/plain": [
       "-12.3890560989307"
      ]
     },
     "execution_count": 5,
     "metadata": {},
     "output_type": "execute_result"
    }
   ],
   "source": [
    "x,y = var(\"x,y\")\n",
    "u = function(\"u\")(x)\n",
    "\n",
    "f = -2*u-10\n",
    "x0 = -2\n",
    "y0 = -exp(4)-5\n",
    "x1 = -1\n",
    "\n",
    "ode = u.diff(x)==f \n",
    "u(x) = desolve( ode, u, ics=[x0,y0])\n",
    "show(u.expand(),\" = \",u.factor())\n",
    "u(x1).n()"
   ]
  },
  {
   "cell_type": "code",
   "execution_count": 8,
   "metadata": {
    "collapsed": false
   },
   "outputs": [
    {
     "data": {
      "text/html": [
       "<html><script type=\"math/tex; mode=display\">\\newcommand{\\Bold}[1]{\\mathbf{#1}}x \\ {\\mapsto}\\ -9 \\phantom{\\verb!x!}\\verb|=| -9</script></html>"
      ],
      "text/plain": [
       "x |--> -9 ' = ' -9"
      ]
     },
     "metadata": {},
     "output_type": "display_data"
    },
    {
     "data": {
      "text/plain": [
       "-9.00000000000000"
      ]
     },
     "execution_count": 8,
     "metadata": {},
     "output_type": "execute_result"
    }
   ],
   "source": [
    "x,y = var(\"x,y\")\n",
    "u = function(\"u\")(x)\n",
    "\n",
    "f = 0\n",
    "x0 = -10\n",
    "y0 = -9\n",
    "x1 = -2\n",
    "\n",
    "ode = u.diff(x)==f \n",
    "u(x) = desolve( ode, u, ics=[x0,y0])\n",
    "show(u.expand(),\" = \",u.factor())\n",
    "u(x1).n()"
   ]
  },
  {
   "cell_type": "code",
   "execution_count": null,
   "metadata": {
    "collapsed": true
   },
   "outputs": [],
   "source": [
    "x,y = var(\"x,y\")\n",
    "u = function(\"u\")(x)\n",
    "\n",
    "f = 0\n",
    "x0 = -10\n",
    "y0 = -9\n",
    "x1 = -2\n",
    "\n",
    "ode = u.diff(x)==f \n",
    "u(x) = desolve( ode, u, ics=[x0,y0])\n",
    "show(u.expand(),\" = \",u.factor())\n",
    "u(x1).n()"
   ]
  },
  {
   "cell_type": "code",
   "execution_count": 12,
   "metadata": {
    "collapsed": false
   },
   "outputs": [
    {
     "data": {
      "text/html": [
       "<html><script type=\"math/tex; mode=display\">\\newcommand{\\Bold}[1]{\\mathbf{#1}}-3 \\, e^{\\left(-3 \\, x\\right)} - 2 \\phantom{\\verb!x!}\\verb|=| -{\\left(2 \\, e^{\\left(3 \\, x\\right)} + 3\\right)} e^{\\left(-3 \\, x\\right)}</script></html>"
      ],
      "text/plain": [
       "-3*e^(-3*x) - 2 ' = ' -(2*e^(3*x) + 3)*e^(-3*x)"
      ]
     },
     "metadata": {},
     "output_type": "display_data"
    },
    {
     "data": {
      "text/plain": [
       "-2.00001843263706"
      ]
     },
     "execution_count": 12,
     "metadata": {},
     "output_type": "execute_result"
    }
   ],
   "source": [
    "x,y = var(\"x,y\")\n",
    "u = function(\"u\")(x)\n",
    "\n",
    "f = -3*u-6\n",
    "x0 = -2\n",
    "y0 = -3*exp(6)-2\n",
    "x1 = 4\n",
    "\n",
    "ode = u.diff(x)==f \n",
    "u(x) = desolve( ode, u, ics=[x0,y0])\n",
    "show(u(x).expand(),\" = \",u(x).factor(x))\n",
    "u(x1).n()"
   ]
  },
  {
   "cell_type": "code",
   "execution_count": 16,
   "metadata": {
    "collapsed": false
   },
   "outputs": [
    {
     "data": {
      "text/html": [
       "<html><script type=\"math/tex; mode=display\">\\newcommand{\\Bold}[1]{\\mathbf{#1}}\\frac{\\partial}{\\partial x}u\\left(x\\right) = 3 \\, u\\left(x\\right) - 18</script></html>"
      ],
      "text/plain": [
       "diff(u(x), x) == 3*u(x) - 18"
      ]
     },
     "metadata": {},
     "output_type": "display_data"
    },
    {
     "data": {
      "text/html": [
       "<html><script type=\"math/tex; mode=display\">\\newcommand{\\Bold}[1]{\\mathbf{#1}}-7 \\, e^{\\left(3 \\, x\\right)} + 6 \\phantom{\\verb!x!}\\verb|=| -7 \\, e^{\\left(3 \\, x\\right)} + 6</script></html>"
      ],
      "text/plain": [
       "-7*e^(3*x) + 6 ' = ' -7*e^(3*x) + 6"
      ]
     },
     "metadata": {},
     "output_type": "display_data"
    },
    {
     "data": {
      "text/plain": [
       "5.99999999469221"
      ]
     },
     "execution_count": 16,
     "metadata": {},
     "output_type": "execute_result"
    }
   ],
   "source": [
    "x,y = var(\"x,y\")\n",
    "u = function(\"u\")(x)\n",
    "\n",
    "f = 3*u-18\n",
    "x0 = -8\n",
    "y0 = -7*exp(-24)+6\n",
    "x1 = -7\n",
    "\n",
    "ode = u.diff(x)==f \n",
    "show(ode)\n",
    "u(x) = desolve( ode, u, ics=[x0,y0])\n",
    "show(u(x).expand(),\" = \",u(x).factor(x))\n",
    "u(x1).n()"
   ]
  }
 ],
 "metadata": {
  "kernelspec": {
   "display_name": "SageMath 7.5.1",
   "language": "",
   "name": "sagemath"
  },
  "language_info": {
   "codemirror_mode": {
    "name": "ipython",
    "version": 2
   },
   "file_extension": ".py",
   "mimetype": "text/x-python",
   "name": "python",
   "nbconvert_exporter": "python",
   "pygments_lexer": "ipython2",
   "version": "2.7.13"
  }
 },
 "nbformat": 4,
 "nbformat_minor": 0
}
