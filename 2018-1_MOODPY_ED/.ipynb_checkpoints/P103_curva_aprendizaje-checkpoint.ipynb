{
 "cells": [
  {
   "cell_type": "code",
   "execution_count": 2,
   "metadata": {
    "collapsed": false
   },
   "outputs": [],
   "source": [
    "import numpy as np\n",
    "import moodpy01 as me"
   ]
  },
  {
   "cell_type": "code",
   "execution_count": 9,
   "metadata": {
    "collapsed": false
   },
   "outputs": [
    {
     "data": {
      "text/html": [
       "<html><script type=\"math/tex; mode=display\">\\newcommand{\\Bold}[1]{\\mathbf{#1}}\\verb|P102_edo_separable|</script></html>"
      ],
      "text/plain": [
       "'P102_edo_separable'"
      ]
     },
     "metadata": {},
     "output_type": "display_data"
    },
    {
     "name": "stdout",
     "output_type": "stream",
     "text": [
      "\n",
      "    <questiontext format=\"html\">\n",
      "<text>\n",
      "<![CDATA[\n",
      "\n",
      "    <h1> Ecuaciones diferenciales ordinarias </h1>\n",
      "    <h2> Caso separable, ejemplo 2 </h2>\n",
      "    <p>\n",
      "    Encuentre la solución \\(y(x)\\) de la siguiente ecuación diferencial separable \n",
      "    $$\\frac{ dy }{ dx }= -{\\left(5 \\, x - 1\\right)} y$$ \n",
      "    con condición inicial \\(x_0=-2,y_0=e^{\\left(-10\\right)}\\). \n",
      "    </p>\n",
      "    <h3> Control </h3>\n",
      "    <p> Verifique su respuesta evaluando en el punto dado:</p>\n",
      "    <p>\n",
      "    \\(y(-1)=\\){1:NM:=0.223130160148430:0.00669390480445289}\n",
      "    </p>\n",
      "    \n",
      "]]>\n",
      "</text></questiontext>\n",
      "\n",
      "    <generalfeedback format=\"html\">\n",
      "<text>\n",
      "<![CDATA[\n",
      "\n",
      "    La solución del problema de valor inicial está dada por \n",
      "    $$ y= e^{\\left(-\\frac{5}{2} \\, x^{2} + x + 2\\right)} $$.\n",
      "    \n",
      "]]>\n",
      "</text></generalfeedback>\n",
      "\n",
      "    \n"
     ]
    }
   ],
   "source": [
    "def gen(impr):\n",
    "    x,y = var(\"x,y\")    \n",
    "    \n",
    "    while True:\n",
    "        a,b,c = np.random.randint(-10,10,size=3)\n",
    "        if a!=0 or b!=0:\n",
    "            G(x) = a*x^2/2+b*x+c\n",
    "            break\n",
    "    u(x) = exp(G(x))\n",
    "    \n",
    "    f(x,y) = y*G.diff(x)\n",
    "     \n",
    "    x0 = np.random.randint(-10,10)   \n",
    "    y0 = u(x0)\n",
    "    \n",
    "    data = {\"x0\":latex(x0), \"y0\":latex(y0)}\n",
    "    \n",
    "    tex = {}\n",
    "    tex[\"ode\"] = \"\\\\frac{ dy }{ dx }=\"+latex(f(x,y))\n",
    "    tex[\"ics\"] = \"x_0={s[x0]},y_0={s[y0]}\".format(s=data)\n",
    "    \n",
    "    x1 = np.random.randint(-10,10)\n",
    "    y1 = u(x1).n()\n",
    "    \n",
    "    ans = {\"x1\":x1, \"y1\":me.NM(y1)}\n",
    "    tex[\"sol\"] = \"y=\"+latex(u(x))\n",
    "    \n",
    "    ejercicio = \"\"\"\n",
    "    <h1> Ecuaciones diferenciales ordinarias </h1>\n",
    "    <h2> Caso separable, ejemplo 2 </h2>\n",
    "    <p>\n",
    "    Encuentre la solución \\(y(x)\\) de la siguiente ecuación diferencial separable \n",
    "    $${tex[ode]}$$ \n",
    "    con condición inicial \\({tex[ics]}\\). \n",
    "    </p>\n",
    "    <h3> Control </h3>\n",
    "    <p> Verifique su respuesta evaluando en el punto dado:</p>\n",
    "    <p>\n",
    "    \\(y({a[x1]})=\\){a[y1]}\n",
    "    </p>\n",
    "    \"\"\".format(tex=tex, a=ans)\n",
    "    \n",
    "    retroalimentacion = \"\"\"\n",
    "    La solución del problema de valor inicial está dada por \n",
    "    $$ {tex[sol]} $$.\n",
    "    \"\"\".format(tex=tex)\n",
    "    return me.pretty(ejercicio, retroalimentacion)\n",
    "\n",
    "np.random.seed(1)\n",
    "label = \"P102_edo_separable\"\n",
    "show(label)\n",
    "me.quick(gen, label, 0, impr=True)"
   ]
  },
  {
   "cell_type": "code",
   "execution_count": 10,
   "metadata": {
    "collapsed": false
   },
   "outputs": [
    {
     "name": "stdout",
     "output_type": "stream",
     "text": [
      "--------------------------------\n",
      "Done: 2018-02-20 14:36:38.864565\n",
      "Folder: P102_edo_separable\n",
      "Filename: P102_edo_separable-1519158998.86.xml\n",
      "#exes: 5\n"
     ]
    }
   ],
   "source": [
    "me.quick(gen, label, 5)"
   ]
  },
  {
   "cell_type": "code",
   "execution_count": 11,
   "metadata": {
    "collapsed": false
   },
   "outputs": [
    {
     "name": "stdout",
     "output_type": "stream",
     "text": [
      "--------------------------------\n",
      "Done: 2018-02-20 15:38:55.554720\n",
      "Folder: P102_edo_separable\n",
      "Filename: P102_edo_separable-1519162735.55.xml\n",
      "#exes: 120\n"
     ]
    }
   ],
   "source": [
    "me.quick(gen, label, 10*12)"
   ]
  }
 ],
 "metadata": {
  "kernelspec": {
   "display_name": "SageMath 7.5.1",
   "language": "",
   "name": "sagemath"
  },
  "language_info": {
   "codemirror_mode": {
    "name": "ipython",
    "version": 2
   },
   "file_extension": ".py",
   "mimetype": "text/x-python",
   "name": "python",
   "nbconvert_exporter": "python",
   "pygments_lexer": "ipython2",
   "version": "2.7.13"
  }
 },
 "nbformat": 4,
 "nbformat_minor": 0
}
