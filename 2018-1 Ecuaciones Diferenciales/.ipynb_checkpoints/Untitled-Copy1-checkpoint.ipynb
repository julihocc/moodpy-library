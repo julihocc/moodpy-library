{
 "cells": [
  {
   "cell_type": "code",
   "execution_count": 3,
   "metadata": {
    "collapsed": false
   },
   "outputs": [
    {
     "name": "stdout",
     "output_type": "stream",
     "text": [
      "--------------------------------\n",
      "Done: 2018-02-11 17:40:27.243228\n",
      "Folder: C06_inversion\n",
      "Filename: C06_inversion-1518392427.24.xml\n",
      "#exes: 960\n"
     ]
    }
   ],
   "source": [
    "import numpy as np\n",
    "import moodpy00 as me\n",
    "\n",
    "def gen(impr):\n",
    "    data={}\n",
    "    ans={}\n",
    "    while True:\n",
    "        x0,x1 = np.random.randint(1,1000+1,size=2)*1000\n",
    "        p0 = np.random.poisson(5)\n",
    "        p1 = np.random.poisson(25)\n",
    "        if x0<x1 and 0<p0 and p0<p1:\n",
    "            break\n",
    "    ans[\"x0\"]=me.NM(x0, entero=1)\n",
    "    ans[\"x1\"]=me.NM(x1, entero=1)\n",
    "    data[\"p0\"]=p0\n",
    "    data[\"p1\"]=p1\n",
    "    C = x0+x1\n",
    "    data[\"C\"]=C\n",
    "    I = (p0*x0+p1*x1)/100\n",
    "    data[\"I\"]=I\n",
    "    if impr: print(x0,x1,p0,p1,C,I)\n",
    "    \n",
    "    ejercicio=\"\"\"\n",
    "    <h1>Portafolio de inversión </h1>\n",
    "    <p>\n",
    "      Supongamos que tenemos ${s[C]} para invertir. Deseamos diversificar \n",
    "      nuestra inversión, de manera que tengamos un menor riesgo.\n",
    "      \n",
    "      Por esto, se desea invertir una parte en bonos, que pagan el {s[p0]}% de interés\n",
    "      anual simple, y otra en acciones de una <em>start-up</em>, de las que se espera\n",
    "      obtener un interés anual simple del {s[p1]}%. \n",
    "      \n",
    "      El dinero se invierte a través de con un <em>broker</em>, que al final del año \n",
    "      nos entrega ${s[I]} de intereses. ¿Cómo invirtió dicho intermediario\n",
    "      nuestro dinero?\n",
    "    </p>\n",
    "    <pre> Inversión en bonos: ${a[x0]} <br> Inversión en acciones: ${a[x1]} </pre>       \n",
    "    \"\"\".format(s=data, a=ans)\n",
    "    if impr: print(ejercicio)\n",
    "    return ejercicio\n",
    "\n",
    "me.quick(gen, \"C06_inversion\", 32*10*3)"
   ]
  },
  {
   "cell_type": "code",
   "execution_count": null,
   "metadata": {
    "collapsed": true
   },
   "outputs": [],
   "source": []
  },
  {
   "cell_type": "code",
   "execution_count": null,
   "metadata": {
    "collapsed": true
   },
   "outputs": [],
   "source": []
  }
 ],
 "metadata": {
  "kernelspec": {
   "display_name": "SageMath 7.5.1",
   "language": "",
   "name": "sagemath"
  },
  "language_info": {
   "codemirror_mode": {
    "name": "ipython",
    "version": 2
   },
   "file_extension": ".py",
   "mimetype": "text/x-python",
   "name": "python",
   "nbconvert_exporter": "python",
   "pygments_lexer": "ipython2",
   "version": "2.7.13"
  }
 },
 "nbformat": 4,
 "nbformat_minor": 0
}
