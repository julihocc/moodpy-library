{
 "cells": [
  {
   "cell_type": "code",
   "execution_count": 1,
   "metadata": {
    "collapsed": false
   },
   "outputs": [],
   "source": [
    "import moodpy02B as me\n",
    "import numpy as np"
   ]
  },
  {
   "cell_type": "code",
   "execution_count": 2,
   "metadata": {
    "collapsed": false
   },
   "outputs": [
    {
     "data": {
      "text/html": [
       "<h1>P305_fp_qi</h1>"
      ],
      "text/plain": [
       "<h1>P305_fp_qi</h1>"
      ]
     },
     "metadata": {},
     "output_type": "display_data"
    },
    {
     "data": {
      "text/html": [
       "\n",
       "<h1> Fracciones parciales </h1>\n",
       "<h2> Factores cuadráticos irreducibles </h2>\n"
      ],
      "text/plain": [
       "\n",
       "<h1> Fracciones parciales </h1>\n",
       "<h2> Factores cuadráticos irreducibles </h2>\n"
      ]
     },
     "metadata": {},
     "output_type": "display_data"
    }
   ],
   "source": [
    "label = \"P305_fp_qi\"\n",
    "forma = \"\" \n",
    "cabecera = \"\"\"\n",
    "<h1> Fracciones parciales </h1>\n",
    "<h2> Factores cuadráticos irreducibles </h2>\n",
    "\"\"\".format(forma)\n",
    "show(html(\"<h1>\"+label+\"</h1>\"))\n",
    "show(html(cabecera))"
   ]
  },
  {
   "cell_type": "code",
   "execution_count": 3,
   "metadata": {
    "collapsed": false
   },
   "outputs": [
    {
     "data": {
      "text/html": [
       "<html><script type=\"math/tex; mode=display\">\\newcommand{\\Bold}[1]{\\mathbf{#1}}\\frac{2 \\, x - 35}{{\\left(x^{2} - 2 \\, x + 10\\right)} {\\left(x + 5\\right)}}</script></html>"
      ],
      "text/plain": [
       "(2*x - 35)/((x^2 - 2*x + 10)*(x + 5))"
      ]
     },
     "metadata": {},
     "output_type": "display_data"
    },
    {
     "data": {
      "text/html": [
       "\n",
       "<h1> Fracciones parciales </h1>\n",
       "<h2> Factores cuadráticos irreducibles </h2>\n",
       "\n",
       "    <p> Determine los coeficientes en el siguiente desarrollo en fracciones parciales\n",
       "    <script type=\"math/tex; mode=display\">     \\frac{2 \\, x - 35}{{\\left(x^{2} - 2 \\, x + 10\\right)} {\\left(x + 5\\right)}} = \\frac{A_0}{(x + 5)}+\\frac{A_1 x + A_2}{x^{2} - 2 \\, x + 10}     </script> <p>\n",
       "    <p>\n",
       "    \\(A_0 =\\) {1:NM:=-1} <br>\n",
       "    \\(A_1 =\\) {1:NM:=1} <br>\n",
       "    \\(A_2 =\\) {1:NM:=-5}\n",
       "    </p>\n",
       "    \n",
       "    Consulta \"Precálculo\" de J. Stewart, sección 9.8, caso 3.\n",
       "    "
      ],
      "text/plain": [
       "\n",
       "<h1> Fracciones parciales </h1>\n",
       "<h2> Factores cuadráticos irreducibles </h2>\n",
       "\n",
       "    <p> Determine los coeficientes en el siguiente desarrollo en fracciones parciales\n",
       "    <script type=\"math/tex; mode=display\">     \\frac{2 \\, x - 35}{{\\left(x^{2} - 2 \\, x + 10\\right)} {\\left(x + 5\\right)}} = \\frac{A_0}{(x + 5)}+\\frac{A_1 x + A_2}{x^{2} - 2 \\, x + 10}     </script> <p>\n",
       "    <p>\n",
       "    \\(A_0 =\\) {1:NM:=-1} <br>\n",
       "    \\(A_1 =\\) {1:NM:=1} <br>\n",
       "    \\(A_2 =\\) {1:NM:=-5}\n",
       "    </p>\n",
       "    \n",
       "    Consulta \"Precálculo\" de J. Stewart, sección 9.8, caso 3.\n",
       "    "
      ]
     },
     "metadata": {},
     "output_type": "display_data"
    },
    {
     "name": "stdout",
     "output_type": "stream",
     "text": [
      "\n",
      "    <questiontext format=\"html\">\n",
      "<text>\n",
      "<![CDATA[\n",
      "\n",
      "<h1> Fracciones parciales </h1>\n",
      "<h2> Factores cuadráticos irreducibles </h2>\n",
      "\n",
      "    <p> Determine los coeficientes en el siguiente desarrollo en fracciones parciales\n",
      "    $$\n",
      "    \\frac{2 \\, x - 35}{{\\left(x^{2} - 2 \\, x + 10\\right)} {\\left(x + 5\\right)}} = \\frac{A_0}{(x + 5)}+\\frac{A_1 x + A_2}{x^{2} - 2 \\, x + 10}\n",
      "    $$ <p>\n",
      "    <p>\n",
      "    \\(A_0 =\\) {1:NM:=-1} <br>\n",
      "    \\(A_1 =\\) {1:NM:=1} <br>\n",
      "    \\(A_2 =\\) {1:NM:=-5}\n",
      "    </p>\n",
      "    \n",
      "]]>\n",
      "</text></questiontext>\n",
      "\n",
      "    <generalfeedback format=\"html\">\n",
      "<text>\n",
      "<![CDATA[\n",
      "\n",
      "    Consulta \"Precálculo\" de J. Stewart, sección 9.8, caso 3.\n",
      "    \n",
      "]]>\n",
      "</text></generalfeedback>\n",
      "\n",
      "    \n"
     ]
    }
   ],
   "source": [
    "def gen(impr, cabecera=\"\"):\n",
    "    \n",
    "    data = {}\n",
    "    ans = {}\n",
    "    tex = {}\n",
    "    \n",
    "    x = var(\"x\")\n",
    "    ### \n",
    "\n",
    "    a,h = np.random.randint(-10,10, size=2)\n",
    "    k = np.random.randint(1, 10)\n",
    "\n",
    "    while True:\n",
    "        A = np.random.randint(-10,10, size = 3)\n",
    "        if A[0]!=0 and (A[1]!=0 or A[2]!=0):\n",
    "            break\n",
    "\n",
    "    F = A[0]/(x-a)+(A[1]*x+A[2])/((x-h)^2+k)\n",
    "    F = F.factor()\n",
    "    show(F)\n",
    "\n",
    "    F = latex(F)\n",
    "    d0 = latex(x-a)\n",
    "    d1 = latex(((x-h)^2+k).expand())\n",
    "    setting = \"\"\"\n",
    "    {} = \\\\frac{{A_0}}{{({})}}+\\\\frac{{A_1 x + A_2}}{{{}}}\n",
    "    \"\"\".format(F, d0,d1)\n",
    "    \n",
    "    tex[\"set\"] = setting\n",
    "    \n",
    "    ans[\"A0\"] = me.NM(A[0], entero=True)\n",
    "    ans[\"A1\"] = me.NM(A[1], entero=True)\n",
    "    ans[\"A2\"] = me.NM(A[2], entero=True)\n",
    "    \n",
    "    ### OUTPUT\n",
    "    \n",
    "    ejercicio = cabecera + \"\"\"\n",
    "    <p> Determine los coeficientes en el siguiente desarrollo en fracciones parciales\n",
    "    $${tex[set]}$$ <p>\n",
    "    <p>\n",
    "    \\(A_0 =\\) {ans[A0]} <br>\n",
    "    \\(A_1 =\\) {ans[A1]} <br>\n",
    "    \\(A_2 =\\) {ans[A2]}\n",
    "    </p>\n",
    "    \"\"\".format(tex=tex, data=data, ans=ans)\n",
    "    \n",
    "\n",
    "    retroalimentacion = \"\"\"\n",
    "    Consulta \"Precálculo\" de J. Stewart, sección 9.8, caso 3.\n",
    "    \"\"\".format(tex=tex)\n",
    "    if impr:\n",
    "        show(html(ejercicio+retroalimentacion))\n",
    "    return me.pretty(ejercicio, retroalimentacion)\n",
    "\n",
    "np.random.seed(1)\n",
    "#show(html(\"<h1>\"+label+\"</h1>\"))\n",
    "#print(cabecera)\n",
    "me.quick(gen, label, 0, impr=True, cabecera=cabecera)"
   ]
  },
  {
   "cell_type": "code",
   "execution_count": 4,
   "metadata": {
    "collapsed": false,
    "scrolled": true
   },
   "outputs": [
    {
     "data": {
      "text/html": [
       "<html><script type=\"math/tex; mode=display\">\\newcommand{\\Bold}[1]{\\mathbf{#1}}-\\frac{15 \\, x^{2} + 64 \\, x + 137}{{\\left(x^{2} + 8 \\, x + 18\\right)} {\\left(x - 1\\right)}}</script></html>"
      ],
      "text/plain": [
       "-(15*x^2 + 64*x + 137)/((x^2 + 8*x + 18)*(x - 1))"
      ]
     },
     "metadata": {},
     "output_type": "display_data"
    },
    {
     "data": {
      "text/html": [
       "\n",
       "    <p> Determine los coeficientes en el siguiente desarrollo en fracciones parciales\n",
       "    <script type=\"math/tex; mode=display\">     -\\frac{15 \\, x^{2} + 64 \\, x + 137}{{\\left(x^{2} + 8 \\, x + 18\\right)} {\\left(x - 1\\right)}} = \\frac{A_0}{(x - 1)}+\\frac{A_1 x + A_2}{x^{2} + 8 \\, x + 18}     </script> <p>\n",
       "    <p>\n",
       "    \\(A_0 =\\) {1:NM:=-8} <br>\n",
       "    \\(A_1 =\\) {1:NM:=-7} <br>\n",
       "    \\(A_2 =\\) {1:NM:=-7}\n",
       "    </p>\n",
       "    \n",
       "    Consulta \"Precálculo\" de J. Stewart, sección 9.8, caso 3.\n",
       "    "
      ],
      "text/plain": [
       "\n",
       "    <p> Determine los coeficientes en el siguiente desarrollo en fracciones parciales\n",
       "    <script type=\"math/tex; mode=display\">     -\\frac{15 \\, x^{2} + 64 \\, x + 137}{{\\left(x^{2} + 8 \\, x + 18\\right)} {\\left(x - 1\\right)}} = \\frac{A_0}{(x - 1)}+\\frac{A_1 x + A_2}{x^{2} + 8 \\, x + 18}     </script> <p>\n",
       "    <p>\n",
       "    \\(A_0 =\\) {1:NM:=-8} <br>\n",
       "    \\(A_1 =\\) {1:NM:=-7} <br>\n",
       "    \\(A_2 =\\) {1:NM:=-7}\n",
       "    </p>\n",
       "    \n",
       "    Consulta \"Precálculo\" de J. Stewart, sección 9.8, caso 3.\n",
       "    "
      ]
     },
     "metadata": {},
     "output_type": "display_data"
    },
    {
     "data": {
      "text/html": [
       "<html><script type=\"math/tex; mode=display\">\\newcommand{\\Bold}[1]{\\mathbf{#1}}\\frac{2 \\, x^{2} - 71 \\, x + 295}{{\\left(x^{2} - 12 \\, x + 43\\right)} {\\left(x - 2\\right)}}</script></html>"
      ],
      "text/plain": [
       "(2*x^2 - 71*x + 295)/((x^2 - 12*x + 43)*(x - 2))"
      ]
     },
     "metadata": {},
     "output_type": "display_data"
    },
    {
     "data": {
      "text/html": [
       "\n",
       "    <p> Determine los coeficientes en el siguiente desarrollo en fracciones parciales\n",
       "    <script type=\"math/tex; mode=display\">     \\frac{2 \\, x^{2} - 71 \\, x + 295}{{\\left(x^{2} - 12 \\, x + 43\\right)} {\\left(x - 2\\right)}} = \\frac{A_0}{(x - 2)}+\\frac{A_1 x + A_2}{x^{2} - 12 \\, x + 43}     </script> <p>\n",
       "    <p>\n",
       "    \\(A_0 =\\) {1:NM:=7} <br>\n",
       "    \\(A_1 =\\) {1:NM:=-5} <br>\n",
       "    \\(A_2 =\\) {1:NM:=3}\n",
       "    </p>\n",
       "    \n",
       "    Consulta \"Precálculo\" de J. Stewart, sección 9.8, caso 3.\n",
       "    "
      ],
      "text/plain": [
       "\n",
       "    <p> Determine los coeficientes en el siguiente desarrollo en fracciones parciales\n",
       "    <script type=\"math/tex; mode=display\">     \\frac{2 \\, x^{2} - 71 \\, x + 295}{{\\left(x^{2} - 12 \\, x + 43\\right)} {\\left(x - 2\\right)}} = \\frac{A_0}{(x - 2)}+\\frac{A_1 x + A_2}{x^{2} - 12 \\, x + 43}     </script> <p>\n",
       "    <p>\n",
       "    \\(A_0 =\\) {1:NM:=7} <br>\n",
       "    \\(A_1 =\\) {1:NM:=-5} <br>\n",
       "    \\(A_2 =\\) {1:NM:=3}\n",
       "    </p>\n",
       "    \n",
       "    Consulta \"Precálculo\" de J. Stewart, sección 9.8, caso 3.\n",
       "    "
      ]
     },
     "metadata": {},
     "output_type": "display_data"
    },
    {
     "data": {
      "text/html": [
       "<html><script type=\"math/tex; mode=display\">\\newcommand{\\Bold}[1]{\\mathbf{#1}}\\frac{5 \\, x^{2} + 28 \\, x + 80}{{\\left(x^{2} - 2 \\, x + 8\\right)} {\\left(x + 8\\right)}}</script></html>"
      ],
      "text/plain": [
       "(5*x^2 + 28*x + 80)/((x^2 - 2*x + 8)*(x + 8))"
      ]
     },
     "metadata": {},
     "output_type": "display_data"
    },
    {
     "data": {
      "text/html": [
       "\n",
       "    <p> Determine los coeficientes en el siguiente desarrollo en fracciones parciales\n",
       "    <script type=\"math/tex; mode=display\">     \\frac{5 \\, x^{2} + 28 \\, x + 80}{{\\left(x^{2} - 2 \\, x + 8\\right)} {\\left(x + 8\\right)}} = \\frac{A_0}{(x + 8)}+\\frac{A_1 x + A_2}{x^{2} - 2 \\, x + 8}     </script> <p>\n",
       "    <p>\n",
       "    \\(A_0 =\\) {1:NM:=2} <br>\n",
       "    \\(A_1 =\\) {1:NM:=3} <br>\n",
       "    \\(A_2 =\\) {1:NM:=8}\n",
       "    </p>\n",
       "    \n",
       "    Consulta \"Precálculo\" de J. Stewart, sección 9.8, caso 3.\n",
       "    "
      ],
      "text/plain": [
       "\n",
       "    <p> Determine los coeficientes en el siguiente desarrollo en fracciones parciales\n",
       "    <script type=\"math/tex; mode=display\">     \\frac{5 \\, x^{2} + 28 \\, x + 80}{{\\left(x^{2} - 2 \\, x + 8\\right)} {\\left(x + 8\\right)}} = \\frac{A_0}{(x + 8)}+\\frac{A_1 x + A_2}{x^{2} - 2 \\, x + 8}     </script> <p>\n",
       "    <p>\n",
       "    \\(A_0 =\\) {1:NM:=2} <br>\n",
       "    \\(A_1 =\\) {1:NM:=3} <br>\n",
       "    \\(A_2 =\\) {1:NM:=8}\n",
       "    </p>\n",
       "    \n",
       "    Consulta \"Precálculo\" de J. Stewart, sección 9.8, caso 3.\n",
       "    "
      ]
     },
     "metadata": {},
     "output_type": "display_data"
    },
    {
     "data": {
      "text/html": [
       "<html><script type=\"math/tex; mode=display\">\\newcommand{\\Bold}[1]{\\mathbf{#1}}-\\frac{19 \\, x^{2} + 170 \\, x + 304}{{\\left(x^{2} + 12 \\, x + 40\\right)} {\\left(x + 7\\right)}}</script></html>"
      ],
      "text/plain": [
       "-(19*x^2 + 170*x + 304)/((x^2 + 12*x + 40)*(x + 7))"
      ]
     },
     "metadata": {},
     "output_type": "display_data"
    },
    {
     "data": {
      "text/html": [
       "\n",
       "    <p> Determine los coeficientes en el siguiente desarrollo en fracciones parciales\n",
       "    <script type=\"math/tex; mode=display\">     -\\frac{19 \\, x^{2} + 170 \\, x + 304}{{\\left(x^{2} + 12 \\, x + 40\\right)} {\\left(x + 7\\right)}} = \\frac{A_0}{(x + 7)}+\\frac{A_1 x + A_2}{x^{2} + 12 \\, x + 40}     </script> <p>\n",
       "    <p>\n",
       "    \\(A_0 =\\) {1:NM:=-9} <br>\n",
       "    \\(A_1 =\\) {1:NM:=-10} <br>\n",
       "    \\(A_2 =\\) {1:NM:=8}\n",
       "    </p>\n",
       "    \n",
       "    Consulta \"Precálculo\" de J. Stewart, sección 9.8, caso 3.\n",
       "    "
      ],
      "text/plain": [
       "\n",
       "    <p> Determine los coeficientes en el siguiente desarrollo en fracciones parciales\n",
       "    <script type=\"math/tex; mode=display\">     -\\frac{19 \\, x^{2} + 170 \\, x + 304}{{\\left(x^{2} + 12 \\, x + 40\\right)} {\\left(x + 7\\right)}} = \\frac{A_0}{(x + 7)}+\\frac{A_1 x + A_2}{x^{2} + 12 \\, x + 40}     </script> <p>\n",
       "    <p>\n",
       "    \\(A_0 =\\) {1:NM:=-9} <br>\n",
       "    \\(A_1 =\\) {1:NM:=-10} <br>\n",
       "    \\(A_2 =\\) {1:NM:=8}\n",
       "    </p>\n",
       "    \n",
       "    Consulta \"Precálculo\" de J. Stewart, sección 9.8, caso 3.\n",
       "    "
      ]
     },
     "metadata": {},
     "output_type": "display_data"
    },
    {
     "data": {
      "text/html": [
       "<html><script type=\"math/tex; mode=display\">\\newcommand{\\Bold}[1]{\\mathbf{#1}}-\\frac{x^{2} - 23 \\, x + 156}{{\\left(x^{2} - 12 \\, x + 41\\right)} {\\left(x - 8\\right)}}</script></html>"
      ],
      "text/plain": [
       "-(x^2 - 23*x + 156)/((x^2 - 12*x + 41)*(x - 8))"
      ]
     },
     "metadata": {},
     "output_type": "display_data"
    },
    {
     "data": {
      "text/html": [
       "\n",
       "    <p> Determine los coeficientes en el siguiente desarrollo en fracciones parciales\n",
       "    <script type=\"math/tex; mode=display\">     -\\frac{x^{2} - 23 \\, x + 156}{{\\left(x^{2} - 12 \\, x + 41\\right)} {\\left(x - 8\\right)}} = \\frac{A_0}{(x - 8)}+\\frac{A_1 x + A_2}{x^{2} - 12 \\, x + 41}     </script> <p>\n",
       "    <p>\n",
       "    \\(A_0 =\\) {1:NM:=-4} <br>\n",
       "    \\(A_1 =\\) {1:NM:=3} <br>\n",
       "    \\(A_2 =\\) {1:NM:=-1}\n",
       "    </p>\n",
       "    \n",
       "    Consulta \"Precálculo\" de J. Stewart, sección 9.8, caso 3.\n",
       "    "
      ],
      "text/plain": [
       "\n",
       "    <p> Determine los coeficientes en el siguiente desarrollo en fracciones parciales\n",
       "    <script type=\"math/tex; mode=display\">     -\\frac{x^{2} - 23 \\, x + 156}{{\\left(x^{2} - 12 \\, x + 41\\right)} {\\left(x - 8\\right)}} = \\frac{A_0}{(x - 8)}+\\frac{A_1 x + A_2}{x^{2} - 12 \\, x + 41}     </script> <p>\n",
       "    <p>\n",
       "    \\(A_0 =\\) {1:NM:=-4} <br>\n",
       "    \\(A_1 =\\) {1:NM:=3} <br>\n",
       "    \\(A_2 =\\) {1:NM:=-1}\n",
       "    </p>\n",
       "    \n",
       "    Consulta \"Precálculo\" de J. Stewart, sección 9.8, caso 3.\n",
       "    "
      ]
     },
     "metadata": {},
     "output_type": "display_data"
    },
    {
     "name": "stdout",
     "output_type": "stream",
     "text": [
      "--------------------------------\n",
      "Done: 2018-05-31 23:36:56.700655\n",
      "Folder: P305_fp_qi\n",
      "Filename: P305_fp_qi-1527827816.7.xml\n",
      "#exes: 5\n"
     ]
    }
   ],
   "source": [
    "np.random.seed(12)\n",
    "me.quick(gen, label, 5, impr=True)"
   ]
  },
  {
   "cell_type": "code",
   "execution_count": 6,
   "metadata": {
    "collapsed": false,
    "scrolled": true
   },
   "outputs": [
    {
     "data": {
      "text/html": [
       "<html><script type=\"math/tex; mode=display\">\\newcommand{\\Bold}[1]{\\mathbf{#1}}\\frac{3 \\, x^{2} - 76 \\, x - 295}{{\\left(x^{2} + 16 \\, x + 67\\right)} {\\left(x - 3\\right)}}</script></html>"
      ],
      "text/plain": [
       "(3*x^2 - 76*x - 295)/((x^2 + 16*x + 67)*(x - 3))"
      ]
     },
     "metadata": {},
     "output_type": "display_data"
    },
    {
     "data": {
      "text/html": [
       "<html><script type=\"math/tex; mode=display\">\\newcommand{\\Bold}[1]{\\mathbf{#1}}\\frac{12 \\, x^{2} + 125 \\, x + 574}{{\\left(x^{2} + 18 \\, x + 82\\right)} x}</script></html>"
      ],
      "text/plain": [
       "(12*x^2 + 125*x + 574)/((x^2 + 18*x + 82)*x)"
      ]
     },
     "metadata": {},
     "output_type": "display_data"
    },
    {
     "data": {
      "text/html": [
       "<html><script type=\"math/tex; mode=display\">\\newcommand{\\Bold}[1]{\\mathbf{#1}}\\frac{14 \\, x^{2} + 54 \\, x + 125}{{\\left(x^{2} - 8 \\, x + 17\\right)} {\\left(x + 10\\right)}}</script></html>"
      ],
      "text/plain": [
       "(14*x^2 + 54*x + 125)/((x^2 - 8*x + 17)*(x + 10))"
      ]
     },
     "metadata": {},
     "output_type": "display_data"
    },
    {
     "data": {
      "text/html": [
       "<html><script type=\"math/tex; mode=display\">\\newcommand{\\Bold}[1]{\\mathbf{#1}}\\frac{x^{2} - 85 \\, x - 648}{{\\left(x^{2} + 20 \\, x + 101\\right)} {\\left(x + 6\\right)}}</script></html>"
      ],
      "text/plain": [
       "(x^2 - 85*x - 648)/((x^2 + 20*x + 101)*(x + 6))"
      ]
     },
     "metadata": {},
     "output_type": "display_data"
    },
    {
     "data": {
      "text/html": [
       "<html><script type=\"math/tex; mode=display\">\\newcommand{\\Bold}[1]{\\mathbf{#1}}\\frac{11 \\, x^{2} + 75 \\, x + 36}{{\\left(x^{2} + 6 \\, x + 12\\right)} {\\left(x + 8\\right)}}</script></html>"
      ],
      "text/plain": [
       "(11*x^2 + 75*x + 36)/((x^2 + 6*x + 12)*(x + 8))"
      ]
     },
     "metadata": {},
     "output_type": "display_data"
    },
    {
     "data": {
      "text/html": [
       "<html><script type=\"math/tex; mode=display\">\\newcommand{\\Bold}[1]{\\mathbf{#1}}-\\frac{13 \\, x^{2} + 73 \\, x + 224}{{\\left(x^{2} + 14 \\, x + 54\\right)} {\\left(x + 1\\right)}}</script></html>"
      ],
      "text/plain": [
       "-(13*x^2 + 73*x + 224)/((x^2 + 14*x + 54)*(x + 1))"
      ]
     },
     "metadata": {},
     "output_type": "display_data"
    },
    {
     "data": {
      "text/html": [
       "<html><script type=\"math/tex; mode=display\">\\newcommand{\\Bold}[1]{\\mathbf{#1}}-\\frac{7 \\, x^{2} - 23 \\, x + 136}{{\\left(x^{2} - 4 \\, x + 13\\right)} {\\left(x + 9\\right)}}</script></html>"
      ],
      "text/plain": [
       "-(7*x^2 - 23*x + 136)/((x^2 - 4*x + 13)*(x + 9))"
      ]
     },
     "metadata": {},
     "output_type": "display_data"
    },
    {
     "data": {
      "text/html": [
       "<html><script type=\"math/tex; mode=display\">\\newcommand{\\Bold}[1]{\\mathbf{#1}}-\\frac{x^{2} - 63 \\, x + 14}{{\\left(x^{2} - 2 \\, x + 4\\right)} {\\left(x + 10\\right)}}</script></html>"
      ],
      "text/plain": [
       "-(x^2 - 63*x + 14)/((x^2 - 2*x + 4)*(x + 10))"
      ]
     },
     "metadata": {},
     "output_type": "display_data"
    },
    {
     "data": {
      "text/html": [
       "<html><script type=\"math/tex; mode=display\">\\newcommand{\\Bold}[1]{\\mathbf{#1}}\\frac{2 \\, {\\left(x + 28\\right)} {\\left(x + 2\\right)}}{{\\left(x^{2} + 8 \\, x + 20\\right)} {\\left(x - 2\\right)}}</script></html>"
      ],
      "text/plain": [
       "2*(x + 28)*(x + 2)/((x^2 + 8*x + 20)*(x - 2))"
      ]
     },
     "metadata": {},
     "output_type": "display_data"
    },
    {
     "data": {
      "text/html": [
       "<html><script type=\"math/tex; mode=display\">\\newcommand{\\Bold}[1]{\\mathbf{#1}}-\\frac{12 \\, x^{2} + 20 \\, x + 21}{{\\left(x^{2} - 2 \\, x + 8\\right)} {\\left(x + 3\\right)}}</script></html>"
      ],
      "text/plain": [
       "-(12*x^2 + 20*x + 21)/((x^2 - 2*x + 8)*(x + 3))"
      ]
     },
     "metadata": {},
     "output_type": "display_data"
    },
    {
     "data": {
      "text/html": [
       "<html><script type=\"math/tex; mode=display\">\\newcommand{\\Bold}[1]{\\mathbf{#1}}\\frac{9 \\, x^{2} - 94 \\, x + 523}{{\\left(x^{2} - 16 \\, x + 69\\right)} {\\left(x + 5\\right)}}</script></html>"
      ],
      "text/plain": [
       "(9*x^2 - 94*x + 523)/((x^2 - 16*x + 69)*(x + 5))"
      ]
     },
     "metadata": {},
     "output_type": "display_data"
    },
    {
     "data": {
      "text/html": [
       "<html><script type=\"math/tex; mode=display\">\\newcommand{\\Bold}[1]{\\mathbf{#1}}\\frac{x^{2} + 49 \\, x + 128}{{\\left(x^{2} + 18 \\, x + 85\\right)} {\\left(x - 7\\right)}}</script></html>"
      ],
      "text/plain": [
       "(x^2 + 49*x + 128)/((x^2 + 18*x + 85)*(x - 7))"
      ]
     },
     "metadata": {},
     "output_type": "display_data"
    },
    {
     "data": {
      "text/html": [
       "<html><script type=\"math/tex; mode=display\">\\newcommand{\\Bold}[1]{\\mathbf{#1}}-\\frac{2 \\, {\\left(x^{2} - 17 \\, x - 30\\right)}}{{\\left(x^{2} + 14 \\, x + 53\\right)} {\\left(x - 7\\right)}}</script></html>"
      ],
      "text/plain": [
       "-2*(x^2 - 17*x - 30)/((x^2 + 14*x + 53)*(x - 7))"
      ]
     },
     "metadata": {},
     "output_type": "display_data"
    },
    {
     "data": {
      "text/html": [
       "<html><script type=\"math/tex; mode=display\">\\newcommand{\\Bold}[1]{\\mathbf{#1}}\\frac{5 \\, x^{2} + 93 \\, x + 469}{{\\left(x^{2} + 14 \\, x + 53\\right)} {\\left(x + 8\\right)}}</script></html>"
      ],
      "text/plain": [
       "(5*x^2 + 93*x + 469)/((x^2 + 14*x + 53)*(x + 8))"
      ]
     },
     "metadata": {},
     "output_type": "display_data"
    },
    {
     "data": {
      "text/html": [
       "<html><script type=\"math/tex; mode=display\">\\newcommand{\\Bold}[1]{\\mathbf{#1}}-\\frac{2 \\, {\\left(x^{2} + 22 \\, x + 32\\right)}}{{\\left(x^{2} + 8 \\, x + 20\\right)} {\\left(x - 4\\right)}}</script></html>"
      ],
      "text/plain": [
       "-2*(x^2 + 22*x + 32)/((x^2 + 8*x + 20)*(x - 4))"
      ]
     },
     "metadata": {},
     "output_type": "display_data"
    },
    {
     "data": {
      "text/html": [
       "<html><script type=\"math/tex; mode=display\">\\newcommand{\\Bold}[1]{\\mathbf{#1}}-\\frac{16 \\, x^{2} - 124 \\, x + 175}{{\\left(x^{2} - 8 \\, x + 20\\right)} {\\left(x - 7\\right)}}</script></html>"
      ],
      "text/plain": [
       "-(16*x^2 - 124*x + 175)/((x^2 - 8*x + 20)*(x - 7))"
      ]
     },
     "metadata": {},
     "output_type": "display_data"
    },
    {
     "data": {
      "text/html": [
       "<html><script type=\"math/tex; mode=display\">\\newcommand{\\Bold}[1]{\\mathbf{#1}}\\frac{x^{2} + 19 \\, x - 96}{{\\left(x^{2} - 12 \\, x + 42\\right)} {\\left(x - 3\\right)}}</script></html>"
      ],
      "text/plain": [
       "(x^2 + 19*x - 96)/((x^2 - 12*x + 42)*(x - 3))"
      ]
     },
     "metadata": {},
     "output_type": "display_data"
    },
    {
     "data": {
      "text/html": [
       "<html><script type=\"math/tex; mode=display\">\\newcommand{\\Bold}[1]{\\mathbf{#1}}-\\frac{17 \\, x^{2} + 14 \\, x + 15}{{\\left(x^{2} + 4 \\, x + 6\\right)} {\\left(x - 5\\right)}}</script></html>"
      ],
      "text/plain": [
       "-(17*x^2 + 14*x + 15)/((x^2 + 4*x + 6)*(x - 5))"
      ]
     },
     "metadata": {},
     "output_type": "display_data"
    },
    {
     "data": {
      "text/html": [
       "<html><script type=\"math/tex; mode=display\">\\newcommand{\\Bold}[1]{\\mathbf{#1}}-\\frac{13 \\, x^{2} - 35 \\, x + 194}{{\\left(x^{2} + 12 \\, x + 44\\right)} {\\left(x - 9\\right)}}</script></html>"
      ],
      "text/plain": [
       "-(13*x^2 - 35*x + 194)/((x^2 + 12*x + 44)*(x - 9))"
      ]
     },
     "metadata": {},
     "output_type": "display_data"
    },
    {
     "data": {
      "text/html": [
       "<html><script type=\"math/tex; mode=display\">\\newcommand{\\Bold}[1]{\\mathbf{#1}}-\\frac{7 \\, x^{2} + 20 \\, x + 52}{{\\left(x^{2} - 4 \\, x + 8\\right)} {\\left(x + 7\\right)}}</script></html>"
      ],
      "text/plain": [
       "-(7*x^2 + 20*x + 52)/((x^2 - 4*x + 8)*(x + 7))"
      ]
     },
     "metadata": {},
     "output_type": "display_data"
    },
    {
     "data": {
      "text/html": [
       "<html><script type=\"math/tex; mode=display\">\\newcommand{\\Bold}[1]{\\mathbf{#1}}-\\frac{4 \\, {\\left(x + 6\\right)}}{{\\left(x^{2} - 4 \\, x + 9\\right)} {\\left(x - 3\\right)}}</script></html>"
      ],
      "text/plain": [
       "-4*(x + 6)/((x^2 - 4*x + 9)*(x - 3))"
      ]
     },
     "metadata": {},
     "output_type": "display_data"
    },
    {
     "data": {
      "text/html": [
       "<html><script type=\"math/tex; mode=display\">\\newcommand{\\Bold}[1]{\\mathbf{#1}}-\\frac{41 \\, x - 54}{{\\left(x^{2} - 6 \\, x + 18\\right)} {\\left(x + 2\\right)}}</script></html>"
      ],
      "text/plain": [
       "-(41*x - 54)/((x^2 - 6*x + 18)*(x + 2))"
      ]
     },
     "metadata": {},
     "output_type": "display_data"
    },
    {
     "data": {
      "text/html": [
       "<html><script type=\"math/tex; mode=display\">\\newcommand{\\Bold}[1]{\\mathbf{#1}}\\frac{{\\left(5 \\, x + 11\\right)} x}{{\\left(x^{2} + 4 \\, x + 12\\right)} {\\left(x + 4\\right)}}</script></html>"
      ],
      "text/plain": [
       "(5*x + 11)*x/((x^2 + 4*x + 12)*(x + 4))"
      ]
     },
     "metadata": {},
     "output_type": "display_data"
    },
    {
     "data": {
      "text/html": [
       "<html><script type=\"math/tex; mode=display\">\\newcommand{\\Bold}[1]{\\mathbf{#1}}-\\frac{2 \\, {\\left(8 \\, x^{2} - 36 \\, x + 109\\right)}}{{\\left(x^{2} - 8 \\, x + 25\\right)} {\\left(x + 1\\right)}}</script></html>"
      ],
      "text/plain": [
       "-2*(8*x^2 - 36*x + 109)/((x^2 - 8*x + 25)*(x + 1))"
      ]
     },
     "metadata": {},
     "output_type": "display_data"
    },
    {
     "data": {
      "text/html": [
       "<html><script type=\"math/tex; mode=display\">\\newcommand{\\Bold}[1]{\\mathbf{#1}}\\frac{3 \\, x^{2} + 92 \\, x + 248}{{\\left(x^{2} + 10 \\, x + 27\\right)} {\\left(x - 4\\right)}}</script></html>"
      ],
      "text/plain": [
       "(3*x^2 + 92*x + 248)/((x^2 + 10*x + 27)*(x - 4))"
      ]
     },
     "metadata": {},
     "output_type": "display_data"
    },
    {
     "data": {
      "text/html": [
       "<html><script type=\"math/tex; mode=display\">\\newcommand{\\Bold}[1]{\\mathbf{#1}}\\frac{12 \\, x^{2} - 97 \\, x + 168}{{\\left(x^{2} - 8 \\, x + 20\\right)} {\\left(x - 8\\right)}}</script></html>"
      ],
      "text/plain": [
       "(12*x^2 - 97*x + 168)/((x^2 - 8*x + 20)*(x - 8))"
      ]
     },
     "metadata": {},
     "output_type": "display_data"
    },
    {
     "data": {
      "text/html": [
       "<html><script type=\"math/tex; mode=display\">\\newcommand{\\Bold}[1]{\\mathbf{#1}}\\frac{x^{2} + 7 \\, x + 107}{{\\left(x^{2} + 14 \\, x + 58\\right)} {\\left(x - 7\\right)}}</script></html>"
      ],
      "text/plain": [
       "(x^2 + 7*x + 107)/((x^2 + 14*x + 58)*(x - 7))"
      ]
     },
     "metadata": {},
     "output_type": "display_data"
    },
    {
     "data": {
      "text/html": [
       "<html><script type=\"math/tex; mode=display\">\\newcommand{\\Bold}[1]{\\mathbf{#1}}-\\frac{3 \\, x^{2} - 50 \\, x + 158}{{\\left(x^{2} - 8 \\, x + 20\\right)} {\\left(x - 3\\right)}}</script></html>"
      ],
      "text/plain": [
       "-(3*x^2 - 50*x + 158)/((x^2 - 8*x + 20)*(x - 3))"
      ]
     },
     "metadata": {},
     "output_type": "display_data"
    },
    {
     "data": {
      "text/html": [
       "<html><script type=\"math/tex; mode=display\">\\newcommand{\\Bold}[1]{\\mathbf{#1}}\\frac{5 \\, x^{2} + 58 \\, x + 204}{{\\left(x^{2} + 12 \\, x + 42\\right)} {\\left(x + 6\\right)}}</script></html>"
      ],
      "text/plain": [
       "(5*x^2 + 58*x + 204)/((x^2 + 12*x + 42)*(x + 6))"
      ]
     },
     "metadata": {},
     "output_type": "display_data"
    },
    {
     "data": {
      "text/html": [
       "<html><script type=\"math/tex; mode=display\">\\newcommand{\\Bold}[1]{\\mathbf{#1}}\\frac{4 \\, x^{2} - x - 127}{{\\left(x^{2} + 18 \\, x + 87\\right)} {\\left(x + 5\\right)}}</script></html>"
      ],
      "text/plain": [
       "(4*x^2 - x - 127)/((x^2 + 18*x + 87)*(x + 5))"
      ]
     },
     "metadata": {},
     "output_type": "display_data"
    },
    {
     "data": {
      "text/html": [
       "<html><script type=\"math/tex; mode=display\">\\newcommand{\\Bold}[1]{\\mathbf{#1}}-\\frac{x^{2} - 64 \\, x - 240}{{\\left(x^{2} + 12 \\, x + 40\\right)} x}</script></html>"
      ],
      "text/plain": [
       "-(x^2 - 64*x - 240)/((x^2 + 12*x + 40)*x)"
      ]
     },
     "metadata": {},
     "output_type": "display_data"
    },
    {
     "data": {
      "text/html": [
       "<html><script type=\"math/tex; mode=display\">\\newcommand{\\Bold}[1]{\\mathbf{#1}}-\\frac{{\\left(x + 138\\right)} {\\left(x - 3\\right)}}{{\\left(x^{2} - 14 \\, x + 57\\right)} {\\left(x + 5\\right)}}</script></html>"
      ],
      "text/plain": [
       "-(x + 138)*(x - 3)/((x^2 - 14*x + 57)*(x + 5))"
      ]
     },
     "metadata": {},
     "output_type": "display_data"
    },
    {
     "data": {
      "text/html": [
       "<html><script type=\"math/tex; mode=display\">\\newcommand{\\Bold}[1]{\\mathbf{#1}}-\\frac{17 \\, x^{2} + 47 \\, x + 100}{{\\left(x^{2} + 4 \\, x + 10\\right)} x}</script></html>"
      ],
      "text/plain": [
       "-(17*x^2 + 47*x + 100)/((x^2 + 4*x + 10)*x)"
      ]
     },
     "metadata": {},
     "output_type": "display_data"
    },
    {
     "data": {
      "text/html": [
       "<html><script type=\"math/tex; mode=display\">\\newcommand{\\Bold}[1]{\\mathbf{#1}}-\\frac{11 \\, x^{2} + 18 \\, x + 275}{{\\left(x^{2} + 18 \\, x + 89\\right)} {\\left(x - 9\\right)}}</script></html>"
      ],
      "text/plain": [
       "-(11*x^2 + 18*x + 275)/((x^2 + 18*x + 89)*(x - 9))"
      ]
     },
     "metadata": {},
     "output_type": "display_data"
    },
    {
     "data": {
      "text/html": [
       "<html><script type=\"math/tex; mode=display\">\\newcommand{\\Bold}[1]{\\mathbf{#1}}-\\frac{6 \\, x^{2} - 75 \\, x + 361}{{\\left(x^{2} - 16 \\, x + 71\\right)} {\\left(x + 3\\right)}}</script></html>"
      ],
      "text/plain": [
       "-(6*x^2 - 75*x + 361)/((x^2 - 16*x + 71)*(x + 3))"
      ]
     },
     "metadata": {},
     "output_type": "display_data"
    },
    {
     "data": {
      "text/html": [
       "<html><script type=\"math/tex; mode=display\">\\newcommand{\\Bold}[1]{\\mathbf{#1}}\\frac{2 \\, {\\left(3 \\, x^{2} - 11 \\, x - 47\\right)}}{{\\left(x^{2} + 12 \\, x + 44\\right)} {\\left(x + 1\\right)}}</script></html>"
      ],
      "text/plain": [
       "2*(3*x^2 - 11*x - 47)/((x^2 + 12*x + 44)*(x + 1))"
      ]
     },
     "metadata": {},
     "output_type": "display_data"
    },
    {
     "data": {
      "text/html": [
       "<html><script type=\"math/tex; mode=display\">\\newcommand{\\Bold}[1]{\\mathbf{#1}}\\frac{4 \\, x^{2} + 106 \\, x + 367}{{\\left(x^{2} + 14 \\, x + 53\\right)} {\\left(x - 2\\right)}}</script></html>"
      ],
      "text/plain": [
       "(4*x^2 + 106*x + 367)/((x^2 + 14*x + 53)*(x - 2))"
      ]
     },
     "metadata": {},
     "output_type": "display_data"
    },
    {
     "data": {
      "text/html": [
       "<html><script type=\"math/tex; mode=display\">\\newcommand{\\Bold}[1]{\\mathbf{#1}}\\frac{4 \\, {\\left(3 \\, x^{2} - 8 \\, x + 38\\right)}}{{\\left(x^{2} - 8 \\, x + 24\\right)} {\\left(x + 2\\right)}}</script></html>"
      ],
      "text/plain": [
       "4*(3*x^2 - 8*x + 38)/((x^2 - 8*x + 24)*(x + 2))"
      ]
     },
     "metadata": {},
     "output_type": "display_data"
    },
    {
     "data": {
      "text/html": [
       "<html><script type=\"math/tex; mode=display\">\\newcommand{\\Bold}[1]{\\mathbf{#1}}\\frac{8 \\, x^{2} - 75 \\, x + 195}{{\\left(x^{2} - 14 \\, x + 50\\right)} {\\left(x - 5\\right)}}</script></html>"
      ],
      "text/plain": [
       "(8*x^2 - 75*x + 195)/((x^2 - 14*x + 50)*(x - 5))"
      ]
     },
     "metadata": {},
     "output_type": "display_data"
    },
    {
     "data": {
      "text/html": [
       "<html><script type=\"math/tex; mode=display\">\\newcommand{\\Bold}[1]{\\mathbf{#1}}-\\frac{13 \\, x^{2} + 114 \\, x + 375}{{\\left(x^{2} + 12 \\, x + 42\\right)} {\\left(x - 5\\right)}}</script></html>"
      ],
      "text/plain": [
       "-(13*x^2 + 114*x + 375)/((x^2 + 12*x + 42)*(x - 5))"
      ]
     },
     "metadata": {},
     "output_type": "display_data"
    },
    {
     "data": {
      "text/html": [
       "<html><script type=\"math/tex; mode=display\">\\newcommand{\\Bold}[1]{\\mathbf{#1}}-\\frac{6 \\, x^{2} + 31 \\, x + 65}{{\\left(x^{2} + 3\\right)} {\\left(x + 8\\right)}}</script></html>"
      ],
      "text/plain": [
       "-(6*x^2 + 31*x + 65)/((x^2 + 3)*(x + 8))"
      ]
     },
     "metadata": {},
     "output_type": "display_data"
    },
    {
     "data": {
      "text/html": [
       "<html><script type=\"math/tex; mode=display\">\\newcommand{\\Bold}[1]{\\mathbf{#1}}\\frac{2 \\, {\\left(5 \\, x^{2} + 69 \\, x + 315\\right)}}{{\\left(x^{2} + 18 \\, x + 90\\right)} {\\left(x + 4\\right)}}</script></html>"
      ],
      "text/plain": [
       "2*(5*x^2 + 69*x + 315)/((x^2 + 18*x + 90)*(x + 4))"
      ]
     },
     "metadata": {},
     "output_type": "display_data"
    },
    {
     "data": {
      "text/html": [
       "<html><script type=\"math/tex; mode=display\">\\newcommand{\\Bold}[1]{\\mathbf{#1}}\\frac{16 \\, x^{2} + 92 \\, x + 743}{{\\left(x^{2} + 20 \\, x + 104\\right)} {\\left(x - 5\\right)}}</script></html>"
      ],
      "text/plain": [
       "(16*x^2 + 92*x + 743)/((x^2 + 20*x + 104)*(x - 5))"
      ]
     },
     "metadata": {},
     "output_type": "display_data"
    },
    {
     "data": {
      "text/html": [
       "<html><script type=\"math/tex; mode=display\">\\newcommand{\\Bold}[1]{\\mathbf{#1}}\\frac{13 \\, x^{2} - 50 \\, x + 337}{{\\left(x^{2} - 18 \\, x + 88\\right)} {\\left(x + 3\\right)}}</script></html>"
      ],
      "text/plain": [
       "(13*x^2 - 50*x + 337)/((x^2 - 18*x + 88)*(x + 3))"
      ]
     },
     "metadata": {},
     "output_type": "display_data"
    },
    {
     "data": {
      "text/html": [
       "<html><script type=\"math/tex; mode=display\">\\newcommand{\\Bold}[1]{\\mathbf{#1}}-\\frac{2 \\, {\\left(2 \\, x^{2} + 26 \\, x + 135\\right)}}{{\\left(x^{2} + 10 \\, x + 27\\right)} {\\left(x + 9\\right)}}</script></html>"
      ],
      "text/plain": [
       "-2*(2*x^2 + 26*x + 135)/((x^2 + 10*x + 27)*(x + 9))"
      ]
     },
     "metadata": {},
     "output_type": "display_data"
    },
    {
     "data": {
      "text/html": [
       "<html><script type=\"math/tex; mode=display\">\\newcommand{\\Bold}[1]{\\mathbf{#1}}\\frac{2 \\, {\\left(6 \\, x^{2} - 29 \\, x + 169\\right)}}{{\\left(x^{2} - 14 \\, x + 55\\right)} {\\left(x + 4\\right)}}</script></html>"
      ],
      "text/plain": [
       "2*(6*x^2 - 29*x + 169)/((x^2 - 14*x + 55)*(x + 4))"
      ]
     },
     "metadata": {},
     "output_type": "display_data"
    },
    {
     "data": {
      "text/html": [
       "<html><script type=\"math/tex; mode=display\">\\newcommand{\\Bold}[1]{\\mathbf{#1}}-\\frac{11 \\, x^{2} - 123 \\, x + 344}{{\\left(x^{2} - 12 \\, x + 43\\right)} {\\left(x - 9\\right)}}</script></html>"
      ],
      "text/plain": [
       "-(11*x^2 - 123*x + 344)/((x^2 - 12*x + 43)*(x - 9))"
      ]
     },
     "metadata": {},
     "output_type": "display_data"
    },
    {
     "data": {
      "text/html": [
       "<html><script type=\"math/tex; mode=display\">\\newcommand{\\Bold}[1]{\\mathbf{#1}}-\\frac{2 \\, {\\left(10 \\, x^{2} - 11 \\, x + 110\\right)}}{{\\left(x^{2} - 8 \\, x + 18\\right)} {\\left(x + 5\\right)}}</script></html>"
      ],
      "text/plain": [
       "-2*(10*x^2 - 11*x + 110)/((x^2 - 8*x + 18)*(x + 5))"
      ]
     },
     "metadata": {},
     "output_type": "display_data"
    },
    {
     "data": {
      "text/html": [
       "<html><script type=\"math/tex; mode=display\">\\newcommand{\\Bold}[1]{\\mathbf{#1}}\\frac{4 \\, x^{2} - 18 \\, x - 151}{{\\left(x^{2} + 10 \\, x + 27\\right)} {\\left(x + 4\\right)}}</script></html>"
      ],
      "text/plain": [
       "(4*x^2 - 18*x - 151)/((x^2 + 10*x + 27)*(x + 4))"
      ]
     },
     "metadata": {},
     "output_type": "display_data"
    },
    {
     "data": {
      "text/html": [
       "<html><script type=\"math/tex; mode=display\">\\newcommand{\\Bold}[1]{\\mathbf{#1}}-\\frac{2 \\, {\\left(5 \\, x + 8\\right)}}{{\\left(x^{2} + 6 \\, x + 11\\right)} {\\left(x + 6\\right)}}</script></html>"
      ],
      "text/plain": [
       "-2*(5*x + 8)/((x^2 + 6*x + 11)*(x + 6))"
      ]
     },
     "metadata": {},
     "output_type": "display_data"
    },
    {
     "data": {
      "text/html": [
       "<html><script type=\"math/tex; mode=display\">\\newcommand{\\Bold}[1]{\\mathbf{#1}}-\\frac{12 \\, x^{2} + 159 \\, x + 877}{{\\left(x^{2} + 18 \\, x + 85\\right)} {\\left(x - 9\\right)}}</script></html>"
      ],
      "text/plain": [
       "-(12*x^2 + 159*x + 877)/((x^2 + 18*x + 85)*(x - 9))"
      ]
     },
     "metadata": {},
     "output_type": "display_data"
    },
    {
     "data": {
      "text/html": [
       "<html><script type=\"math/tex; mode=display\">\\newcommand{\\Bold}[1]{\\mathbf{#1}}\\frac{x^{2} - 174 \\, x + 446}{{\\left(x^{2} - 14 \\, x + 54\\right)} {\\left(x + 5\\right)}}</script></html>"
      ],
      "text/plain": [
       "(x^2 - 174*x + 446)/((x^2 - 14*x + 54)*(x + 5))"
      ]
     },
     "metadata": {},
     "output_type": "display_data"
    },
    {
     "data": {
      "text/html": [
       "<html><script type=\"math/tex; mode=display\">\\newcommand{\\Bold}[1]{\\mathbf{#1}}\\frac{2 \\, {\\left(4 \\, x^{2} + 29 \\, x + 221\\right)}}{{\\left(x^{2} + 20 \\, x + 103\\right)} {\\left(x - 3\\right)}}</script></html>"
      ],
      "text/plain": [
       "2*(4*x^2 + 29*x + 221)/((x^2 + 20*x + 103)*(x - 3))"
      ]
     },
     "metadata": {},
     "output_type": "display_data"
    },
    {
     "data": {
      "text/html": [
       "<html><script type=\"math/tex; mode=display\">\\newcommand{\\Bold}[1]{\\mathbf{#1}}\\frac{2 \\, {\\left(2 \\, x^{2} - 27 \\, x - 76\\right)}}{{\\left(x^{2} + 20 \\, x + 104\\right)} {\\left(x - 8\\right)}}</script></html>"
      ],
      "text/plain": [
       "2*(2*x^2 - 27*x - 76)/((x^2 + 20*x + 104)*(x - 8))"
      ]
     },
     "metadata": {},
     "output_type": "display_data"
    },
    {
     "data": {
      "text/html": [
       "<html><script type=\"math/tex; mode=display\">\\newcommand{\\Bold}[1]{\\mathbf{#1}}-\\frac{14 \\, x^{2} - 29 \\, x + 88}{{\\left(x^{2} - 8 \\, x + 22\\right)} x}</script></html>"
      ],
      "text/plain": [
       "-(14*x^2 - 29*x + 88)/((x^2 - 8*x + 22)*x)"
      ]
     },
     "metadata": {},
     "output_type": "display_data"
    },
    {
     "data": {
      "text/html": [
       "<html><script type=\"math/tex; mode=display\">\\newcommand{\\Bold}[1]{\\mathbf{#1}}-\\frac{12 \\, x^{2} + 158 \\, x + 723}{{\\left(x^{2} + 18 \\, x + 82\\right)} {\\left(x - 3\\right)}}</script></html>"
      ],
      "text/plain": [
       "-(12*x^2 + 158*x + 723)/((x^2 + 18*x + 82)*(x - 3))"
      ]
     },
     "metadata": {},
     "output_type": "display_data"
    },
    {
     "data": {
      "text/html": [
       "<html><script type=\"math/tex; mode=display\">\\newcommand{\\Bold}[1]{\\mathbf{#1}}\\frac{2 \\, {\\left(2 \\, x^{2} - 28 \\, x + 153\\right)}}{{\\left(x^{2} - 12 \\, x + 41\\right)} {\\left(x - 9\\right)}}</script></html>"
      ],
      "text/plain": [
       "2*(2*x^2 - 28*x + 153)/((x^2 - 12*x + 41)*(x - 9))"
      ]
     },
     "metadata": {},
     "output_type": "display_data"
    },
    {
     "data": {
      "text/html": [
       "<html><script type=\"math/tex; mode=display\">\\newcommand{\\Bold}[1]{\\mathbf{#1}}-\\frac{4 \\, {\\left(x^{2} + 7 \\, x + 55\\right)}}{{\\left(x^{2} + 20 \\, x + 102\\right)} {\\left(x - 4\\right)}}</script></html>"
      ],
      "text/plain": [
       "-4*(x^2 + 7*x + 55)/((x^2 + 20*x + 102)*(x - 4))"
      ]
     },
     "metadata": {},
     "output_type": "display_data"
    },
    {
     "data": {
      "text/html": [
       "<html><script type=\"math/tex; mode=display\">\\newcommand{\\Bold}[1]{\\mathbf{#1}}-\\frac{20 \\, x^{2} + 51 \\, x + 119}{{\\left(x^{2} + 6 \\, x + 12\\right)} {\\left(x - 1\\right)}}</script></html>"
      ],
      "text/plain": [
       "-(20*x^2 + 51*x + 119)/((x^2 + 6*x + 12)*(x - 1))"
      ]
     },
     "metadata": {},
     "output_type": "display_data"
    },
    {
     "data": {
      "text/html": [
       "<html><script type=\"math/tex; mode=display\">\\newcommand{\\Bold}[1]{\\mathbf{#1}}-\\frac{3 \\, {\\left(4 \\, x^{2} - 6 \\, x + 25\\right)}}{{\\left(x^{2} - 4 \\, x + 10\\right)} {\\left(x + 1\\right)}}</script></html>"
      ],
      "text/plain": [
       "-3*(4*x^2 - 6*x + 25)/((x^2 - 4*x + 10)*(x + 1))"
      ]
     },
     "metadata": {},
     "output_type": "display_data"
    },
    {
     "data": {
      "text/html": [
       "<html><script type=\"math/tex; mode=display\">\\newcommand{\\Bold}[1]{\\mathbf{#1}}\\frac{16 \\, x^{2} + 97 \\, x + 576}{{\\left(x^{2} + 16 \\, x + 72\\right)} {\\left(x - 8\\right)}}</script></html>"
      ],
      "text/plain": [
       "(16*x^2 + 97*x + 576)/((x^2 + 16*x + 72)*(x - 8))"
      ]
     },
     "metadata": {},
     "output_type": "display_data"
    },
    {
     "data": {
      "text/html": [
       "<html><script type=\"math/tex; mode=display\">\\newcommand{\\Bold}[1]{\\mathbf{#1}}-\\frac{4 \\, x^{2} + 71 \\, x - 361}{{\\left(x^{2} - 18 \\, x + 88\\right)} {\\left(x + 1\\right)}}</script></html>"
      ],
      "text/plain": [
       "-(4*x^2 + 71*x - 361)/((x^2 - 18*x + 88)*(x + 1))"
      ]
     },
     "metadata": {},
     "output_type": "display_data"
    },
    {
     "data": {
      "text/html": [
       "<html><script type=\"math/tex; mode=display\">\\newcommand{\\Bold}[1]{\\mathbf{#1}}\\frac{x^{2} + 78 \\, x + 61}{{\\left(x^{2} + 4 \\, x + 5\\right)} {\\left(x - 7\\right)}}</script></html>"
      ],
      "text/plain": [
       "(x^2 + 78*x + 61)/((x^2 + 4*x + 5)*(x - 7))"
      ]
     },
     "metadata": {},
     "output_type": "display_data"
    },
    {
     "data": {
      "text/html": [
       "<html><script type=\"math/tex; mode=display\">\\newcommand{\\Bold}[1]{\\mathbf{#1}}-\\frac{4 \\, {\\left(x^{2} - x + 1\\right)}}{{\\left(x^{2} + 3\\right)} {\\left(x + 1\\right)}}</script></html>"
      ],
      "text/plain": [
       "-4*(x^2 - x + 1)/((x^2 + 3)*(x + 1))"
      ]
     },
     "metadata": {},
     "output_type": "display_data"
    },
    {
     "data": {
      "text/html": [
       "<html><script type=\"math/tex; mode=display\">\\newcommand{\\Bold}[1]{\\mathbf{#1}}\\frac{5 \\, x^{2} - 32 \\, x + 174}{{\\left(x^{2} - 14 \\, x + 54\\right)} {\\left(x + 3\\right)}}</script></html>"
      ],
      "text/plain": [
       "(5*x^2 - 32*x + 174)/((x^2 - 14*x + 54)*(x + 3))"
      ]
     },
     "metadata": {},
     "output_type": "display_data"
    },
    {
     "data": {
      "text/html": [
       "<html><script type=\"math/tex; mode=display\">\\newcommand{\\Bold}[1]{\\mathbf{#1}}\\frac{2 \\, {\\left(2 \\, x^{2} + 15 \\, x - 45\\right)}}{{\\left(x^{2} - 10 \\, x + 33\\right)} {\\left(x + 3\\right)}}</script></html>"
      ],
      "text/plain": [
       "2*(2*x^2 + 15*x - 45)/((x^2 - 10*x + 33)*(x + 3))"
      ]
     },
     "metadata": {},
     "output_type": "display_data"
    },
    {
     "data": {
      "text/html": [
       "<html><script type=\"math/tex; mode=display\">\\newcommand{\\Bold}[1]{\\mathbf{#1}}-\\frac{7 \\, x^{2} + 42 \\, x + 151}{{\\left(x^{2} + 6 \\, x + 13\\right)} {\\left(x + 7\\right)}}</script></html>"
      ],
      "text/plain": [
       "-(7*x^2 + 42*x + 151)/((x^2 + 6*x + 13)*(x + 7))"
      ]
     },
     "metadata": {},
     "output_type": "display_data"
    },
    {
     "data": {
      "text/html": [
       "<html><script type=\"math/tex; mode=display\">\\newcommand{\\Bold}[1]{\\mathbf{#1}}-\\frac{x^{2} + 36 \\, x + 218}{{\\left(x^{2} + 8 \\, x + 25\\right)} {\\left(x + 4\\right)}}</script></html>"
      ],
      "text/plain": [
       "-(x^2 + 36*x + 218)/((x^2 + 8*x + 25)*(x + 4))"
      ]
     },
     "metadata": {},
     "output_type": "display_data"
    },
    {
     "data": {
      "text/html": [
       "<html><script type=\"math/tex; mode=display\">\\newcommand{\\Bold}[1]{\\mathbf{#1}}\\frac{6 \\, x^{2} - 19 \\, x - 75}{{\\left(x^{2} - 18 \\, x + 85\\right)} {\\left(x - 5\\right)}}</script></html>"
      ],
      "text/plain": [
       "(6*x^2 - 19*x - 75)/((x^2 - 18*x + 85)*(x - 5))"
      ]
     },
     "metadata": {},
     "output_type": "display_data"
    },
    {
     "data": {
      "text/html": [
       "<html><script type=\"math/tex; mode=display\">\\newcommand{\\Bold}[1]{\\mathbf{#1}}\\frac{13 \\, x^{2} + 203 \\, x + 778}{{\\left(x^{2} + 18 \\, x + 86\\right)} {\\left(x + 10\\right)}}</script></html>"
      ],
      "text/plain": [
       "(13*x^2 + 203*x + 778)/((x^2 + 18*x + 86)*(x + 10))"
      ]
     },
     "metadata": {},
     "output_type": "display_data"
    },
    {
     "data": {
      "text/html": [
       "<html><script type=\"math/tex; mode=display\">\\newcommand{\\Bold}[1]{\\mathbf{#1}}\\frac{2 \\, {\\left(x^{2} + 34 \\, x + 180\\right)}}{{\\left(x^{2} + 16 \\, x + 72\\right)} {\\left(x + 4\\right)}}</script></html>"
      ],
      "text/plain": [
       "2*(x^2 + 34*x + 180)/((x^2 + 16*x + 72)*(x + 4))"
      ]
     },
     "metadata": {},
     "output_type": "display_data"
    },
    {
     "data": {
      "text/html": [
       "<html><script type=\"math/tex; mode=display\">\\newcommand{\\Bold}[1]{\\mathbf{#1}}\\frac{{\\left(x + 4\\right)} {\\left(x - 27\\right)}}{{\\left(x^{2} + 12 \\, x + 37\\right)} {\\left(x + 3\\right)}}</script></html>"
      ],
      "text/plain": [
       "(x + 4)*(x - 27)/((x^2 + 12*x + 37)*(x + 3))"
      ]
     },
     "metadata": {},
     "output_type": "display_data"
    },
    {
     "data": {
      "text/html": [
       "<html><script type=\"math/tex; mode=display\">\\newcommand{\\Bold}[1]{\\mathbf{#1}}-\\frac{9 \\, x + 49}{{\\left(x^{2} + 7\\right)} x}</script></html>"
      ],
      "text/plain": [
       "-(9*x + 49)/((x^2 + 7)*x)"
      ]
     },
     "metadata": {},
     "output_type": "display_data"
    },
    {
     "data": {
      "text/html": [
       "<html><script type=\"math/tex; mode=display\">\\newcommand{\\Bold}[1]{\\mathbf{#1}}-\\frac{3 \\, {\\left(x^{2} + 10 \\, x + 43\\right)}}{{\\left(x^{2} + 16 \\, x + 72\\right)} {\\left(x + 3\\right)}}</script></html>"
      ],
      "text/plain": [
       "-3*(x^2 + 10*x + 43)/((x^2 + 16*x + 72)*(x + 3))"
      ]
     },
     "metadata": {},
     "output_type": "display_data"
    },
    {
     "data": {
      "text/html": [
       "<html><script type=\"math/tex; mode=display\">\\newcommand{\\Bold}[1]{\\mathbf{#1}}-\\frac{3 \\, {\\left(3 \\, x^{2} - 11 \\, x + 28\\right)}}{{\\left(x^{2} - 6 \\, x + 14\\right)} x}</script></html>"
      ],
      "text/plain": [
       "-3*(3*x^2 - 11*x + 28)/((x^2 - 6*x + 14)*x)"
      ]
     },
     "metadata": {},
     "output_type": "display_data"
    },
    {
     "data": {
      "text/html": [
       "<html><script type=\"math/tex; mode=display\">\\newcommand{\\Bold}[1]{\\mathbf{#1}}-\\frac{11 \\, x^{2} + 18 \\, x + 52}{{\\left(x^{2} + 2 \\, x + 6\\right)} {\\left(x + 1\\right)}}</script></html>"
      ],
      "text/plain": [
       "-(11*x^2 + 18*x + 52)/((x^2 + 2*x + 6)*(x + 1))"
      ]
     },
     "metadata": {},
     "output_type": "display_data"
    },
    {
     "data": {
      "text/html": [
       "<html><script type=\"math/tex; mode=display\">\\newcommand{\\Bold}[1]{\\mathbf{#1}}-\\frac{6 \\, x^{2} + 223 \\, x + 1105}{{\\left(x^{2} + 20 \\, x + 107\\right)} {\\left(x - 7\\right)}}</script></html>"
      ],
      "text/plain": [
       "-(6*x^2 + 223*x + 1105)/((x^2 + 20*x + 107)*(x - 7))"
      ]
     },
     "metadata": {},
     "output_type": "display_data"
    },
    {
     "data": {
      "text/html": [
       "<html><script type=\"math/tex; mode=display\">\\newcommand{\\Bold}[1]{\\mathbf{#1}}-\\frac{3 \\, x^{2} + 2 \\, x - 111}{{\\left(x^{2} + 10 \\, x + 29\\right)} {\\left(x + 6\\right)}}</script></html>"
      ],
      "text/plain": [
       "-(3*x^2 + 2*x - 111)/((x^2 + 10*x + 29)*(x + 6))"
      ]
     },
     "metadata": {},
     "output_type": "display_data"
    },
    {
     "data": {
      "text/html": [
       "<html><script type=\"math/tex; mode=display\">\\newcommand{\\Bold}[1]{\\mathbf{#1}}\\frac{{\\left(17 \\, x + 12\\right)} x}{{\\left(x^{2} - 2 \\, x + 4\\right)} {\\left(x + 4\\right)}}</script></html>"
      ],
      "text/plain": [
       "(17*x + 12)*x/((x^2 - 2*x + 4)*(x + 4))"
      ]
     },
     "metadata": {},
     "output_type": "display_data"
    },
    {
     "data": {
      "text/html": [
       "<html><script type=\"math/tex; mode=display\">\\newcommand{\\Bold}[1]{\\mathbf{#1}}-\\frac{4 \\, x^{2} + 39 \\, x + 204}{{\\left(x^{2} + 20 \\, x + 107\\right)} {\\left(x + 2\\right)}}</script></html>"
      ],
      "text/plain": [
       "-(4*x^2 + 39*x + 204)/((x^2 + 20*x + 107)*(x + 2))"
      ]
     },
     "metadata": {},
     "output_type": "display_data"
    },
    {
     "data": {
      "text/html": [
       "<html><script type=\"math/tex; mode=display\">\\newcommand{\\Bold}[1]{\\mathbf{#1}}-\\frac{4 \\, {\\left(2 \\, x^{2} + 3 \\, x - 50\\right)}}{{\\left(x^{2} + 20 \\, x + 105\\right)} {\\left(x + 5\\right)}}</script></html>"
      ],
      "text/plain": [
       "-4*(2*x^2 + 3*x - 50)/((x^2 + 20*x + 105)*(x + 5))"
      ]
     },
     "metadata": {},
     "output_type": "display_data"
    },
    {
     "data": {
      "text/html": [
       "<html><script type=\"math/tex; mode=display\">\\newcommand{\\Bold}[1]{\\mathbf{#1}}-\\frac{2 \\, {\\left(5 \\, x^{2} + 5 \\, x + 46\\right)}}{{\\left(x^{2} + 10 \\, x + 32\\right)} {\\left(x - 6\\right)}}</script></html>"
      ],
      "text/plain": [
       "-2*(5*x^2 + 5*x + 46)/((x^2 + 10*x + 32)*(x - 6))"
      ]
     },
     "metadata": {},
     "output_type": "display_data"
    },
    {
     "data": {
      "text/html": [
       "<html><script type=\"math/tex; mode=display\">\\newcommand{\\Bold}[1]{\\mathbf{#1}}\\frac{x^{2} + 85 \\, x - 120}{{\\left(x^{2} - 14 \\, x + 50\\right)} {\\left(x + 10\\right)}}</script></html>"
      ],
      "text/plain": [
       "(x^2 + 85*x - 120)/((x^2 - 14*x + 50)*(x + 10))"
      ]
     },
     "metadata": {},
     "output_type": "display_data"
    },
    {
     "data": {
      "text/html": [
       "<html><script type=\"math/tex; mode=display\">\\newcommand{\\Bold}[1]{\\mathbf{#1}}-\\frac{13 \\, x^{2} - 115 \\, x + 352}{{\\left(x^{2} - 16 \\, x + 68\\right)} {\\left(x - 4\\right)}}</script></html>"
      ],
      "text/plain": [
       "-(13*x^2 - 115*x + 352)/((x^2 - 16*x + 68)*(x - 4))"
      ]
     },
     "metadata": {},
     "output_type": "display_data"
    },
    {
     "data": {
      "text/html": [
       "<html><script type=\"math/tex; mode=display\">\\newcommand{\\Bold}[1]{\\mathbf{#1}}-\\frac{5 \\, x^{2} + 11 \\, x + 11}{{\\left(x^{2} + 2 \\, x + 6\\right)} {\\left(x + 1\\right)}}</script></html>"
      ],
      "text/plain": [
       "-(5*x^2 + 11*x + 11)/((x^2 + 2*x + 6)*(x + 1))"
      ]
     },
     "metadata": {},
     "output_type": "display_data"
    },
    {
     "data": {
      "text/html": [
       "<html><script type=\"math/tex; mode=display\">\\newcommand{\\Bold}[1]{\\mathbf{#1}}-\\frac{14 \\, x^{2} - 103 \\, x + 587}{{\\left(x^{2} - 18 \\, x + 83\\right)} {\\left(x + 3\\right)}}</script></html>"
      ],
      "text/plain": [
       "-(14*x^2 - 103*x + 587)/((x^2 - 18*x + 83)*(x + 3))"
      ]
     },
     "metadata": {},
     "output_type": "display_data"
    },
    {
     "data": {
      "text/html": [
       "<html><script type=\"math/tex; mode=display\">\\newcommand{\\Bold}[1]{\\mathbf{#1}}\\frac{4 \\, {\\left(x^{2} + 13 \\, x - 24\\right)}}{{\\left(x^{2} - 4 \\, x + 11\\right)} {\\left(x + 7\\right)}}</script></html>"
      ],
      "text/plain": [
       "4*(x^2 + 13*x - 24)/((x^2 - 4*x + 11)*(x + 7))"
      ]
     },
     "metadata": {},
     "output_type": "display_data"
    },
    {
     "data": {
      "text/html": [
       "<html><script type=\"math/tex; mode=display\">\\newcommand{\\Bold}[1]{\\mathbf{#1}}-\\frac{6 \\, x^{2} + 73 \\, x - 80}{{\\left(x^{2} - 8 \\, x + 21\\right)} {\\left(x + 4\\right)}}</script></html>"
      ],
      "text/plain": [
       "-(6*x^2 + 73*x - 80)/((x^2 - 8*x + 21)*(x + 4))"
      ]
     },
     "metadata": {},
     "output_type": "display_data"
    },
    {
     "data": {
      "text/html": [
       "<html><script type=\"math/tex; mode=display\">\\newcommand{\\Bold}[1]{\\mathbf{#1}}\\frac{2 \\, {\\left(2 \\, x^{2} - 16 \\, x - 103\\right)}}{{\\left(x^{2} - 8 \\, x + 25\\right)} {\\left(x - 9\\right)}}</script></html>"
      ],
      "text/plain": [
       "2*(2*x^2 - 16*x - 103)/((x^2 - 8*x + 25)*(x - 9))"
      ]
     },
     "metadata": {},
     "output_type": "display_data"
    },
    {
     "data": {
      "text/html": [
       "<html><script type=\"math/tex; mode=display\">\\newcommand{\\Bold}[1]{\\mathbf{#1}}\\frac{2 \\, {\\left(2 \\, x^{2} - 42 \\, x + 83\\right)}}{{\\left(x^{2} - 10 \\, x + 26\\right)} {\\left(x + 2\\right)}}</script></html>"
      ],
      "text/plain": [
       "2*(2*x^2 - 42*x + 83)/((x^2 - 10*x + 26)*(x + 2))"
      ]
     },
     "metadata": {},
     "output_type": "display_data"
    },
    {
     "data": {
      "text/html": [
       "<html><script type=\"math/tex; mode=display\">\\newcommand{\\Bold}[1]{\\mathbf{#1}}-\\frac{2 \\, x^{2} + 49 \\, x + 345}{{\\left(x^{2} + 10 \\, x + 31\\right)} {\\left(x + 7\\right)}}</script></html>"
      ],
      "text/plain": [
       "-(2*x^2 + 49*x + 345)/((x^2 + 10*x + 31)*(x + 7))"
      ]
     },
     "metadata": {},
     "output_type": "display_data"
    },
    {
     "data": {
      "text/html": [
       "<html><script type=\"math/tex; mode=display\">\\newcommand{\\Bold}[1]{\\mathbf{#1}}-\\frac{9 \\, x^{2} - 14 \\, x + 44}{{\\left(x^{2} + 4 \\, x + 12\\right)} {\\left(x - 4\\right)}}</script></html>"
      ],
      "text/plain": [
       "-(9*x^2 - 14*x + 44)/((x^2 + 4*x + 12)*(x - 4))"
      ]
     },
     "metadata": {},
     "output_type": "display_data"
    },
    {
     "data": {
      "text/html": [
       "<html><script type=\"math/tex; mode=display\">\\newcommand{\\Bold}[1]{\\mathbf{#1}}-\\frac{{\\left(11 \\, x + 45\\right)} {\\left(x + 1\\right)}}{{\\left(x^{2} + 4 \\, x + 9\\right)} {\\left(x + 9\\right)}}</script></html>"
      ],
      "text/plain": [
       "-(11*x + 45)*(x + 1)/((x^2 + 4*x + 9)*(x + 9))"
      ]
     },
     "metadata": {},
     "output_type": "display_data"
    },
    {
     "data": {
      "text/html": [
       "<html><script type=\"math/tex; mode=display\">\\newcommand{\\Bold}[1]{\\mathbf{#1}}-\\frac{2 \\, {\\left(x^{2} + 23 \\, x + 38\\right)}}{{\\left(x^{2} + 8 \\, x + 19\\right)} {\\left(x - 7\\right)}}</script></html>"
      ],
      "text/plain": [
       "-2*(x^2 + 23*x + 38)/((x^2 + 8*x + 19)*(x - 7))"
      ]
     },
     "metadata": {},
     "output_type": "display_data"
    },
    {
     "data": {
      "text/html": [
       "<html><script type=\"math/tex; mode=display\">\\newcommand{\\Bold}[1]{\\mathbf{#1}}-\\frac{33 \\, x - 238}{{\\left(x^{2} - 10 \\, x + 29\\right)} {\\left(x - 6\\right)}}</script></html>"
      ],
      "text/plain": [
       "-(33*x - 238)/((x^2 - 10*x + 29)*(x - 6))"
      ]
     },
     "metadata": {},
     "output_type": "display_data"
    },
    {
     "data": {
      "text/html": [
       "<html><script type=\"math/tex; mode=display\">\\newcommand{\\Bold}[1]{\\mathbf{#1}}\\frac{9 \\, x^{2} + 59 \\, x + 73}{{\\left(x^{2} + 10 \\, x + 26\\right)} {\\left(x + 5\\right)}}</script></html>"
      ],
      "text/plain": [
       "(9*x^2 + 59*x + 73)/((x^2 + 10*x + 26)*(x + 5))"
      ]
     },
     "metadata": {},
     "output_type": "display_data"
    },
    {
     "data": {
      "text/html": [
       "<html><script type=\"math/tex; mode=display\">\\newcommand{\\Bold}[1]{\\mathbf{#1}}-\\frac{6 \\, x^{2} - 67 \\, x + 192}{{\\left(x^{2} - 8 \\, x + 20\\right)} {\\left(x - 3\\right)}}</script></html>"
      ],
      "text/plain": [
       "-(6*x^2 - 67*x + 192)/((x^2 - 8*x + 20)*(x - 3))"
      ]
     },
     "metadata": {},
     "output_type": "display_data"
    },
    {
     "data": {
      "text/html": [
       "<html><script type=\"math/tex; mode=display\">\\newcommand{\\Bold}[1]{\\mathbf{#1}}-\\frac{3 \\, x^{2} - 10 \\, x + 198}{{\\left(x^{2} - 6 \\, x + 15\\right)} {\\left(x - 8\\right)}}</script></html>"
      ],
      "text/plain": [
       "-(3*x^2 - 10*x + 198)/((x^2 - 6*x + 15)*(x - 8))"
      ]
     },
     "metadata": {},
     "output_type": "display_data"
    },
    {
     "data": {
      "text/html": [
       "<html><script type=\"math/tex; mode=display\">\\newcommand{\\Bold}[1]{\\mathbf{#1}}-\\frac{x^{2} + 9 \\, x + 12}{{\\left(x^{2} + 6 \\, x + 15\\right)} {\\left(x + 3\\right)}}</script></html>"
      ],
      "text/plain": [
       "-(x^2 + 9*x + 12)/((x^2 + 6*x + 15)*(x + 3))"
      ]
     },
     "metadata": {},
     "output_type": "display_data"
    },
    {
     "data": {
      "text/html": [
       "<html><script type=\"math/tex; mode=display\">\\newcommand{\\Bold}[1]{\\mathbf{#1}}\\frac{13 \\, x^{2} + 75 \\, x + 104}{{\\left(x^{2} + 8 \\, x + 24\\right)} {\\left(x + 5\\right)}}</script></html>"
      ],
      "text/plain": [
       "(13*x^2 + 75*x + 104)/((x^2 + 8*x + 24)*(x + 5))"
      ]
     },
     "metadata": {},
     "output_type": "display_data"
    },
    {
     "data": {
      "text/html": [
       "<html><script type=\"math/tex; mode=display\">\\newcommand{\\Bold}[1]{\\mathbf{#1}}-\\frac{9 \\, x^{2} + 157 \\, x + 688}{{\\left(x^{2} + 16 \\, x + 66\\right)} {\\left(x - 4\\right)}}</script></html>"
      ],
      "text/plain": [
       "-(9*x^2 + 157*x + 688)/((x^2 + 16*x + 66)*(x - 4))"
      ]
     },
     "metadata": {},
     "output_type": "display_data"
    },
    {
     "data": {
      "text/html": [
       "<html><script type=\"math/tex; mode=display\">\\newcommand{\\Bold}[1]{\\mathbf{#1}}\\frac{14 \\, x^{2} + 74 \\, x + 67}{{\\left(x^{2} - 2 \\, x + 8\\right)} {\\left(x + 9\\right)}}</script></html>"
      ],
      "text/plain": [
       "(14*x^2 + 74*x + 67)/((x^2 - 2*x + 8)*(x + 9))"
      ]
     },
     "metadata": {},
     "output_type": "display_data"
    },
    {
     "data": {
      "text/html": [
       "<html><script type=\"math/tex; mode=display\">\\newcommand{\\Bold}[1]{\\mathbf{#1}}\\frac{3 \\, {\\left(2 \\, x^{2} + 6 \\, x + 7\\right)}}{{\\left(x^{2} + 6 \\, x + 16\\right)} {\\left(x + 3\\right)}}</script></html>"
      ],
      "text/plain": [
       "3*(2*x^2 + 6*x + 7)/((x^2 + 6*x + 16)*(x + 3))"
      ]
     },
     "metadata": {},
     "output_type": "display_data"
    },
    {
     "data": {
      "text/html": [
       "<html><script type=\"math/tex; mode=display\">\\newcommand{\\Bold}[1]{\\mathbf{#1}}\\frac{3 \\, x^{2} + 71 \\, x - 108}{{\\left(x^{2} - 16 \\, x + 68\\right)} {\\left(x + 7\\right)}}</script></html>"
      ],
      "text/plain": [
       "(3*x^2 + 71*x - 108)/((x^2 - 16*x + 68)*(x + 7))"
      ]
     },
     "metadata": {},
     "output_type": "display_data"
    },
    {
     "data": {
      "text/html": [
       "<html><script type=\"math/tex; mode=display\">\\newcommand{\\Bold}[1]{\\mathbf{#1}}\\frac{5 \\, x^{2} + 46 \\, x + 236}{{\\left(x^{2} + 14 \\, x + 53\\right)} {\\left(x - 6\\right)}}</script></html>"
      ],
      "text/plain": [
       "(5*x^2 + 46*x + 236)/((x^2 + 14*x + 53)*(x - 6))"
      ]
     },
     "metadata": {},
     "output_type": "display_data"
    },
    {
     "data": {
      "text/html": [
       "<html><script type=\"math/tex; mode=display\">\\newcommand{\\Bold}[1]{\\mathbf{#1}}\\frac{2 \\, x^{2} + 25 \\, x + 103}{{\\left(x^{2} + 10 \\, x + 34\\right)} {\\left(x + 7\\right)}}</script></html>"
      ],
      "text/plain": [
       "(2*x^2 + 25*x + 103)/((x^2 + 10*x + 34)*(x + 7))"
      ]
     },
     "metadata": {},
     "output_type": "display_data"
    },
    {
     "data": {
      "text/html": [
       "<html><script type=\"math/tex; mode=display\">\\newcommand{\\Bold}[1]{\\mathbf{#1}}\\frac{10 \\, x^{2} - 43 \\, x + 81}{{\\left(x^{2} - 6 \\, x + 15\\right)} {\\left(x - 3\\right)}}</script></html>"
      ],
      "text/plain": [
       "(10*x^2 - 43*x + 81)/((x^2 - 6*x + 15)*(x - 3))"
      ]
     },
     "metadata": {},
     "output_type": "display_data"
    },
    {
     "data": {
      "text/html": [
       "<html><script type=\"math/tex; mode=display\">\\newcommand{\\Bold}[1]{\\mathbf{#1}}-\\frac{7 \\, x^{2} - 43 \\, x + 114}{{\\left(x^{2} - 4 \\, x + 13\\right)} {\\left(x + 3\\right)}}</script></html>"
      ],
      "text/plain": [
       "-(7*x^2 - 43*x + 114)/((x^2 - 4*x + 13)*(x + 3))"
      ]
     },
     "metadata": {},
     "output_type": "display_data"
    },
    {
     "data": {
      "text/html": [
       "<html><script type=\"math/tex; mode=display\">\\newcommand{\\Bold}[1]{\\mathbf{#1}}-\\frac{6 \\, x^{2} - 61 \\, x - 126}{{\\left(x^{2} + 18 \\, x + 84\\right)} {\\left(x - 7\\right)}}</script></html>"
      ],
      "text/plain": [
       "-(6*x^2 - 61*x - 126)/((x^2 + 18*x + 84)*(x - 7))"
      ]
     },
     "metadata": {},
     "output_type": "display_data"
    },
    {
     "data": {
      "text/html": [
       "<html><script type=\"math/tex; mode=display\">\\newcommand{\\Bold}[1]{\\mathbf{#1}}-\\frac{7 \\, x^{2} - 50 \\, x + 52}{{\\left(x^{2} - 2 \\, x + 2\\right)} {\\left(x - 8\\right)}}</script></html>"
      ],
      "text/plain": [
       "-(7*x^2 - 50*x + 52)/((x^2 - 2*x + 2)*(x - 8))"
      ]
     },
     "metadata": {},
     "output_type": "display_data"
    },
    {
     "data": {
      "text/html": [
       "<html><script type=\"math/tex; mode=display\">\\newcommand{\\Bold}[1]{\\mathbf{#1}}\\frac{2 \\, {\\left(6 \\, x^{2} + 29 \\, x + 112\\right)}}{{\\left(x^{2} + 10 \\, x + 31\\right)} {\\left(x - 1\\right)}}</script></html>"
      ],
      "text/plain": [
       "2*(6*x^2 + 29*x + 112)/((x^2 + 10*x + 31)*(x - 1))"
      ]
     },
     "metadata": {},
     "output_type": "display_data"
    },
    {
     "data": {
      "text/html": [
       "<html><script type=\"math/tex; mode=display\">\\newcommand{\\Bold}[1]{\\mathbf{#1}}\\frac{17 \\, x^{2} + 240 \\, x + 708}{{\\left(x^{2} + 20 \\, x + 101\\right)} {\\left(x + 10\\right)}}</script></html>"
      ],
      "text/plain": [
       "(17*x^2 + 240*x + 708)/((x^2 + 20*x + 101)*(x + 10))"
      ]
     },
     "metadata": {},
     "output_type": "display_data"
    },
    {
     "data": {
      "text/html": [
       "<html><script type=\"math/tex; mode=display\">\\newcommand{\\Bold}[1]{\\mathbf{#1}}-\\frac{4 \\, {\\left(2 \\, x^{2} - 27 \\, x + 121\\right)}}{{\\left(x^{2} - 18 \\, x + 89\\right)} {\\left(x - 5\\right)}}</script></html>"
      ],
      "text/plain": [
       "-4*(2*x^2 - 27*x + 121)/((x^2 - 18*x + 89)*(x - 5))"
      ]
     },
     "metadata": {},
     "output_type": "display_data"
    },
    {
     "data": {
      "text/html": [
       "<html><script type=\"math/tex; mode=display\">\\newcommand{\\Bold}[1]{\\mathbf{#1}}-\\frac{7 \\, x^{2} - 46 \\, x - 125}{{\\left(x^{2} + 20 \\, x + 101\\right)} {\\left(x - 4\\right)}}</script></html>"
      ],
      "text/plain": [
       "-(7*x^2 - 46*x - 125)/((x^2 + 20*x + 101)*(x - 4))"
      ]
     },
     "metadata": {},
     "output_type": "display_data"
    },
    {
     "data": {
      "text/html": [
       "<html><script type=\"math/tex; mode=display\">\\newcommand{\\Bold}[1]{\\mathbf{#1}}\\frac{{\\left(2 \\, x - 1\\right)} {\\left(x - 8\\right)}}{{\\left(x^{2} + 2\\right)} {\\left(x - 5\\right)}}</script></html>"
      ],
      "text/plain": [
       "(2*x - 1)*(x - 8)/((x^2 + 2)*(x - 5))"
      ]
     },
     "metadata": {},
     "output_type": "display_data"
    },
    {
     "data": {
      "text/html": [
       "<html><script type=\"math/tex; mode=display\">\\newcommand{\\Bold}[1]{\\mathbf{#1}}\\frac{2 \\, x^{2} + 25 \\, x - 294}{{\\left(x^{2} - 18 \\, x + 84\\right)} {\\left(x - 7\\right)}}</script></html>"
      ],
      "text/plain": [
       "(2*x^2 + 25*x - 294)/((x^2 - 18*x + 84)*(x - 7))"
      ]
     },
     "metadata": {},
     "output_type": "display_data"
    },
    {
     "data": {
      "text/html": [
       "<html><script type=\"math/tex; mode=display\">\\newcommand{\\Bold}[1]{\\mathbf{#1}}\\frac{2 \\, {\\left(7 \\, x^{2} + 78 \\, x + 308\\right)}}{{\\left(x^{2} + 16 \\, x + 72\\right)} {\\left(x + 4\\right)}}</script></html>"
      ],
      "text/plain": [
       "2*(7*x^2 + 78*x + 308)/((x^2 + 16*x + 72)*(x + 4))"
      ]
     },
     "metadata": {},
     "output_type": "display_data"
    },
    {
     "data": {
      "text/html": [
       "<html><script type=\"math/tex; mode=display\">\\newcommand{\\Bold}[1]{\\mathbf{#1}}\\frac{7 \\, x^{2} - x + 118}{{\\left(x^{2} + 12 \\, x + 44\\right)} {\\left(x - 3\\right)}}</script></html>"
      ],
      "text/plain": [
       "(7*x^2 - x + 118)/((x^2 + 12*x + 44)*(x - 3))"
      ]
     },
     "metadata": {},
     "output_type": "display_data"
    },
    {
     "data": {
      "text/html": [
       "<html><script type=\"math/tex; mode=display\">\\newcommand{\\Bold}[1]{\\mathbf{#1}}\\frac{5 \\, {\\left(3 \\, x^{2} + 7 \\, x + 21\\right)}}{{\\left(x^{2} - 4 \\, x + 8\\right)} {\\left(x + 7\\right)}}</script></html>"
      ],
      "text/plain": [
       "5*(3*x^2 + 7*x + 21)/((x^2 - 4*x + 8)*(x + 7))"
      ]
     },
     "metadata": {},
     "output_type": "display_data"
    },
    {
     "data": {
      "text/html": [
       "<html><script type=\"math/tex; mode=display\">\\newcommand{\\Bold}[1]{\\mathbf{#1}}-\\frac{3 \\, {\\left(x^{2} - 18 \\, x - 1\\right)}}{{\\left(x^{2} + 1\\right)} {\\left(x - 9\\right)}}</script></html>"
      ],
      "text/plain": [
       "-3*(x^2 - 18*x - 1)/((x^2 + 1)*(x - 9))"
      ]
     },
     "metadata": {},
     "output_type": "display_data"
    },
    {
     "data": {
      "text/html": [
       "<html><script type=\"math/tex; mode=display\">\\newcommand{\\Bold}[1]{\\mathbf{#1}}-\\frac{5 \\, x^{2} - 47 \\, x + 103}{{\\left(x^{2} - 6 \\, x + 13\\right)} {\\left(x + 4\\right)}}</script></html>"
      ],
      "text/plain": [
       "-(5*x^2 - 47*x + 103)/((x^2 - 6*x + 13)*(x + 4))"
      ]
     },
     "metadata": {},
     "output_type": "display_data"
    },
    {
     "data": {
      "text/html": [
       "<html><script type=\"math/tex; mode=display\">\\newcommand{\\Bold}[1]{\\mathbf{#1}}\\frac{15 \\, x^{2} + 115 \\, x + 107}{{\\left(x^{2} + 6 \\, x + 14\\right)} {\\left(x + 9\\right)}}</script></html>"
      ],
      "text/plain": [
       "(15*x^2 + 115*x + 107)/((x^2 + 6*x + 14)*(x + 9))"
      ]
     },
     "metadata": {},
     "output_type": "display_data"
    },
    {
     "data": {
      "text/html": [
       "<html><script type=\"math/tex; mode=display\">\\newcommand{\\Bold}[1]{\\mathbf{#1}}-\\frac{x^{2} + 14 \\, x - 16}{{\\left(x^{2} - 2 \\, x + 2\\right)} {\\left(x + 7\\right)}}</script></html>"
      ],
      "text/plain": [
       "-(x^2 + 14*x - 16)/((x^2 - 2*x + 2)*(x + 7))"
      ]
     },
     "metadata": {},
     "output_type": "display_data"
    },
    {
     "data": {
      "text/html": [
       "<html><script type=\"math/tex; mode=display\">\\newcommand{\\Bold}[1]{\\mathbf{#1}}-\\frac{5 \\, x^{2} - 26 \\, x + 86}{{\\left(x^{2} + 12 \\, x + 38\\right)} {\\left(x - 8\\right)}}</script></html>"
      ],
      "text/plain": [
       "-(5*x^2 - 26*x + 86)/((x^2 + 12*x + 38)*(x - 8))"
      ]
     },
     "metadata": {},
     "output_type": "display_data"
    },
    {
     "data": {
      "text/html": [
       "<html><script type=\"math/tex; mode=display\">\\newcommand{\\Bold}[1]{\\mathbf{#1}}-\\frac{x^{2} + 17 \\, x + 91}{{\\left(x^{2} + 10 \\, x + 28\\right)} {\\left(x + 7\\right)}}</script></html>"
      ],
      "text/plain": [
       "-(x^2 + 17*x + 91)/((x^2 + 10*x + 28)*(x + 7))"
      ]
     },
     "metadata": {},
     "output_type": "display_data"
    },
    {
     "data": {
      "text/html": [
       "<html><script type=\"math/tex; mode=display\">\\newcommand{\\Bold}[1]{\\mathbf{#1}}\\frac{14 \\, x^{2} + 7 \\, x + 117}{{\\left(x^{2} - 6 \\, x + 17\\right)} {\\left(x + 5\\right)}}</script></html>"
      ],
      "text/plain": [
       "(14*x^2 + 7*x + 117)/((x^2 - 6*x + 17)*(x + 5))"
      ]
     },
     "metadata": {},
     "output_type": "display_data"
    },
    {
     "data": {
      "text/html": [
       "<html><script type=\"math/tex; mode=display\">\\newcommand{\\Bold}[1]{\\mathbf{#1}}-\\frac{2 \\, {\\left(9 \\, x^{2} - 13 \\, x + 238\\right)}}{{\\left(x^{2} - 12 \\, x + 44\\right)} {\\left(x + 8\\right)}}</script></html>"
      ],
      "text/plain": [
       "-2*(9*x^2 - 13*x + 238)/((x^2 - 12*x + 44)*(x + 8))"
      ]
     },
     "metadata": {},
     "output_type": "display_data"
    },
    {
     "data": {
      "text/html": [
       "<html><script type=\"math/tex; mode=display\">\\newcommand{\\Bold}[1]{\\mathbf{#1}}-\\frac{8 \\, {\\left(x^{2} - 2 \\, x + 11\\right)}}{{\\left(x^{2} + 16 \\, x + 72\\right)} {\\left(x - 4\\right)}}</script></html>"
      ],
      "text/plain": [
       "-8*(x^2 - 2*x + 11)/((x^2 + 16*x + 72)*(x - 4))"
      ]
     },
     "metadata": {},
     "output_type": "display_data"
    },
    {
     "data": {
      "text/html": [
       "<html><script type=\"math/tex; mode=display\">\\newcommand{\\Bold}[1]{\\mathbf{#1}}-\\frac{5 \\, x^{2} + 29 \\, x - 57}{{\\left(x^{2} + 8 \\, x + 22\\right)} {\\left(x + 7\\right)}}</script></html>"
      ],
      "text/plain": [
       "-(5*x^2 + 29*x - 57)/((x^2 + 8*x + 22)*(x + 7))"
      ]
     },
     "metadata": {},
     "output_type": "display_data"
    },
    {
     "data": {
      "text/html": [
       "<html><script type=\"math/tex; mode=display\">\\newcommand{\\Bold}[1]{\\mathbf{#1}}\\frac{6 \\, {\\left(2 \\, x^{2} + 11 \\, x + 23\\right)}}{{\\left(x^{2} + 8 \\, x + 21\\right)} {\\left(x + 2\\right)}}</script></html>"
      ],
      "text/plain": [
       "6*(2*x^2 + 11*x + 23)/((x^2 + 8*x + 21)*(x + 2))"
      ]
     },
     "metadata": {},
     "output_type": "display_data"
    },
    {
     "data": {
      "text/html": [
       "<html><script type=\"math/tex; mode=display\">\\newcommand{\\Bold}[1]{\\mathbf{#1}}-\\frac{12 \\, x^{2} - 97 \\, x + 305}{{\\left(x^{2} - 10 \\, x + 34\\right)} {\\left(x + 5\\right)}}</script></html>"
      ],
      "text/plain": [
       "-(12*x^2 - 97*x + 305)/((x^2 - 10*x + 34)*(x + 5))"
      ]
     },
     "metadata": {},
     "output_type": "display_data"
    },
    {
     "data": {
      "text/html": [
       "<html><script type=\"math/tex; mode=display\">\\newcommand{\\Bold}[1]{\\mathbf{#1}}\\frac{5 \\, {\\left(x^{2} + 8 \\, x - 2\\right)}}{{\\left(x^{2} - 2 \\, x + 6\\right)} {\\left(x + 4\\right)}}</script></html>"
      ],
      "text/plain": [
       "5*(x^2 + 8*x - 2)/((x^2 - 2*x + 6)*(x + 4))"
      ]
     },
     "metadata": {},
     "output_type": "display_data"
    },
    {
     "data": {
      "text/html": [
       "<html><script type=\"math/tex; mode=display\">\\newcommand{\\Bold}[1]{\\mathbf{#1}}-\\frac{x^{2} + 60 \\, x + 331}{{\\left(x^{2} + 12 \\, x + 43\\right)} {\\left(x + 5\\right)}}</script></html>"
      ],
      "text/plain": [
       "-(x^2 + 60*x + 331)/((x^2 + 12*x + 43)*(x + 5))"
      ]
     },
     "metadata": {},
     "output_type": "display_data"
    },
    {
     "data": {
      "text/html": [
       "<html><script type=\"math/tex; mode=display\">\\newcommand{\\Bold}[1]{\\mathbf{#1}}-\\frac{11 \\, x^{2} + 13 \\, x + 10}{{\\left(x^{2} + 2 \\, x + 2\\right)} {\\left(x + 1\\right)}}</script></html>"
      ],
      "text/plain": [
       "-(11*x^2 + 13*x + 10)/((x^2 + 2*x + 2)*(x + 1))"
      ]
     },
     "metadata": {},
     "output_type": "display_data"
    },
    {
     "data": {
      "text/html": [
       "<html><script type=\"math/tex; mode=display\">\\newcommand{\\Bold}[1]{\\mathbf{#1}}-\\frac{2 \\, {\\left(7 \\, x^{2} + 9 \\, x + 135\\right)}}{{\\left(x^{2} + 8 \\, x + 21\\right)} {\\left(x - 9\\right)}}</script></html>"
      ],
      "text/plain": [
       "-2*(7*x^2 + 9*x + 135)/((x^2 + 8*x + 21)*(x - 9))"
      ]
     },
     "metadata": {},
     "output_type": "display_data"
    },
    {
     "data": {
      "text/html": [
       "<html><script type=\"math/tex; mode=display\">\\newcommand{\\Bold}[1]{\\mathbf{#1}}-\\frac{2 \\, x^{2} - x + 29}{{\\left(x^{2} + 2 \\, x + 2\\right)} {\\left(x - 5\\right)}}</script></html>"
      ],
      "text/plain": [
       "-(2*x^2 - x + 29)/((x^2 + 2*x + 2)*(x - 5))"
      ]
     },
     "metadata": {},
     "output_type": "display_data"
    },
    {
     "data": {
      "text/html": [
       "<html><script type=\"math/tex; mode=display\">\\newcommand{\\Bold}[1]{\\mathbf{#1}}-\\frac{x^{2} - x - 48}{{\\left(x^{2} - 2 \\, x + 4\\right)} {\\left(x - 3\\right)}}</script></html>"
      ],
      "text/plain": [
       "-(x^2 - x - 48)/((x^2 - 2*x + 4)*(x - 3))"
      ]
     },
     "metadata": {},
     "output_type": "display_data"
    },
    {
     "data": {
      "text/html": [
       "<html><script type=\"math/tex; mode=display\">\\newcommand{\\Bold}[1]{\\mathbf{#1}}\\frac{2 \\, {\\left(x^{2} + 6 \\, x + 17\\right)}}{{\\left(x^{2} + 8 \\, x + 19\\right)} {\\left(x + 7\\right)}}</script></html>"
      ],
      "text/plain": [
       "2*(x^2 + 6*x + 17)/((x^2 + 8*x + 19)*(x + 7))"
      ]
     },
     "metadata": {},
     "output_type": "display_data"
    },
    {
     "data": {
      "text/html": [
       "<html><script type=\"math/tex; mode=display\">\\newcommand{\\Bold}[1]{\\mathbf{#1}}\\frac{10 \\, x^{2} - 105 \\, x + 323}{{\\left(x^{2} - 12 \\, x + 37\\right)} {\\left(x - 2\\right)}}</script></html>"
      ],
      "text/plain": [
       "(10*x^2 - 105*x + 323)/((x^2 - 12*x + 37)*(x - 2))"
      ]
     },
     "metadata": {},
     "output_type": "display_data"
    },
    {
     "data": {
      "text/html": [
       "<html><script type=\"math/tex; mode=display\">\\newcommand{\\Bold}[1]{\\mathbf{#1}}\\frac{10 \\, x^{2} + 51 \\, x + 48}{{\\left(x^{2} - 2 \\, x + 3\\right)} {\\left(x + 6\\right)}}</script></html>"
      ],
      "text/plain": [
       "(10*x^2 + 51*x + 48)/((x^2 - 2*x + 3)*(x + 6))"
      ]
     },
     "metadata": {},
     "output_type": "display_data"
    },
    {
     "data": {
      "text/html": [
       "<html><script type=\"math/tex; mode=display\">\\newcommand{\\Bold}[1]{\\mathbf{#1}}-\\frac{2 \\, {\\left(x^{2} + 64 \\, x + 429\\right)}}{{\\left(x^{2} + 18 \\, x + 90\\right)} {\\left(x + 6\\right)}}</script></html>"
      ],
      "text/plain": [
       "-2*(x^2 + 64*x + 429)/((x^2 + 18*x + 90)*(x + 6))"
      ]
     },
     "metadata": {},
     "output_type": "display_data"
    },
    {
     "data": {
      "text/html": [
       "<html><script type=\"math/tex; mode=display\">\\newcommand{\\Bold}[1]{\\mathbf{#1}}\\frac{4 \\, x^{2} - 4 \\, x + 25}{{\\left(x^{2} - 10 \\, x + 34\\right)} {\\left(x - 1\\right)}}</script></html>"
      ],
      "text/plain": [
       "(4*x^2 - 4*x + 25)/((x^2 - 10*x + 34)*(x - 1))"
      ]
     },
     "metadata": {},
     "output_type": "display_data"
    },
    {
     "data": {
      "text/html": [
       "<html><script type=\"math/tex; mode=display\">\\newcommand{\\Bold}[1]{\\mathbf{#1}}\\frac{107 \\, x - 291}{{\\left(x^{2} - 18 \\, x + 85\\right)} {\\left(x + 7\\right)}}</script></html>"
      ],
      "text/plain": [
       "(107*x - 291)/((x^2 - 18*x + 85)*(x + 7))"
      ]
     },
     "metadata": {},
     "output_type": "display_data"
    },
    {
     "data": {
      "text/html": [
       "<html><script type=\"math/tex; mode=display\">\\newcommand{\\Bold}[1]{\\mathbf{#1}}-\\frac{13 \\, x^{2} + 88 \\, x + 216}{{\\left(x^{2} + 16 \\, x + 72\\right)} {\\left(x + 4\\right)}}</script></html>"
      ],
      "text/plain": [
       "-(13*x^2 + 88*x + 216)/((x^2 + 16*x + 72)*(x + 4))"
      ]
     },
     "metadata": {},
     "output_type": "display_data"
    },
    {
     "data": {
      "text/html": [
       "<html><script type=\"math/tex; mode=display\">\\newcommand{\\Bold}[1]{\\mathbf{#1}}-\\frac{2 \\, {\\left(2 \\, x^{2} - 23 \\, x + 47\\right)}}{{\\left(x^{2} - 4 \\, x + 6\\right)} {\\left(x + 4\\right)}}</script></html>"
      ],
      "text/plain": [
       "-2*(2*x^2 - 23*x + 47)/((x^2 - 4*x + 6)*(x + 4))"
      ]
     },
     "metadata": {},
     "output_type": "display_data"
    },
    {
     "data": {
      "text/html": [
       "<html><script type=\"math/tex; mode=display\">\\newcommand{\\Bold}[1]{\\mathbf{#1}}\\frac{2 \\, x^{2} + 17 \\, x + 68}{{\\left(x^{2} + 6 \\, x + 16\\right)} {\\left(x + 4\\right)}}</script></html>"
      ],
      "text/plain": [
       "(2*x^2 + 17*x + 68)/((x^2 + 6*x + 16)*(x + 4))"
      ]
     },
     "metadata": {},
     "output_type": "display_data"
    },
    {
     "data": {
      "text/html": [
       "<html><script type=\"math/tex; mode=display\">\\newcommand{\\Bold}[1]{\\mathbf{#1}}-\\frac{6 \\, x^{2} - 61 \\, x + 124}{{\\left(x^{2} - 12 \\, x + 42\\right)} {\\left(x - 8\\right)}}</script></html>"
      ],
      "text/plain": [
       "-(6*x^2 - 61*x + 124)/((x^2 - 12*x + 42)*(x - 8))"
      ]
     },
     "metadata": {},
     "output_type": "display_data"
    },
    {
     "data": {
      "text/html": [
       "<html><script type=\"math/tex; mode=display\">\\newcommand{\\Bold}[1]{\\mathbf{#1}}\\frac{6 \\, x^{2} + 71 \\, x + 214}{{\\left(x^{2} + 12 \\, x + 37\\right)} {\\left(x + 8\\right)}}</script></html>"
      ],
      "text/plain": [
       "(6*x^2 + 71*x + 214)/((x^2 + 12*x + 37)*(x + 8))"
      ]
     },
     "metadata": {},
     "output_type": "display_data"
    },
    {
     "data": {
      "text/html": [
       "<html><script type=\"math/tex; mode=display\">\\newcommand{\\Bold}[1]{\\mathbf{#1}}-\\frac{31 \\, x - 140}{{\\left(x^{2} + 2 \\, x + 10\\right)} {\\left(x + 10\\right)}}</script></html>"
      ],
      "text/plain": [
       "-(31*x - 140)/((x^2 + 2*x + 10)*(x + 10))"
      ]
     },
     "metadata": {},
     "output_type": "display_data"
    },
    {
     "data": {
      "text/html": [
       "<html><script type=\"math/tex; mode=display\">\\newcommand{\\Bold}[1]{\\mathbf{#1}}\\frac{7 \\, x^{2} - 21 \\, x + 2}{{\\left(x^{2} + 2\\right)} {\\left(x - 2\\right)}}</script></html>"
      ],
      "text/plain": [
       "(7*x^2 - 21*x + 2)/((x^2 + 2)*(x - 2))"
      ]
     },
     "metadata": {},
     "output_type": "display_data"
    },
    {
     "data": {
      "text/html": [
       "<html><script type=\"math/tex; mode=display\">\\newcommand{\\Bold}[1]{\\mathbf{#1}}\\frac{8 \\, x^{2} - 15 \\, x - 92}{{\\left(x^{2} + 18 \\, x + 86\\right)} {\\left(x + 1\\right)}}</script></html>"
      ],
      "text/plain": [
       "(8*x^2 - 15*x - 92)/((x^2 + 18*x + 86)*(x + 1))"
      ]
     },
     "metadata": {},
     "output_type": "display_data"
    },
    {
     "data": {
      "text/html": [
       "<html><script type=\"math/tex; mode=display\">\\newcommand{\\Bold}[1]{\\mathbf{#1}}\\frac{11 \\, x^{2} + 96 \\, x + 185}{{\\left(x^{2} + 12 \\, x + 37\\right)} {\\left(x + 6\\right)}}</script></html>"
      ],
      "text/plain": [
       "(11*x^2 + 96*x + 185)/((x^2 + 12*x + 37)*(x + 6))"
      ]
     },
     "metadata": {},
     "output_type": "display_data"
    },
    {
     "data": {
      "text/html": [
       "<html><script type=\"math/tex; mode=display\">\\newcommand{\\Bold}[1]{\\mathbf{#1}}-\\frac{x + 103}{{\\left(x^{2} - 4 \\, x + 13\\right)} {\\left(x - 5\\right)}}</script></html>"
      ],
      "text/plain": [
       "-(x + 103)/((x^2 - 4*x + 13)*(x - 5))"
      ]
     },
     "metadata": {},
     "output_type": "display_data"
    },
    {
     "data": {
      "text/html": [
       "<html><script type=\"math/tex; mode=display\">\\newcommand{\\Bold}[1]{\\mathbf{#1}}-\\frac{2 \\, {\\left(6 \\, x^{2} - 41 \\, x + 41\\right)}}{{\\left(x^{2} - 6 \\, x + 17\\right)} {\\left(x - 7\\right)}}</script></html>"
      ],
      "text/plain": [
       "-2*(6*x^2 - 41*x + 41)/((x^2 - 6*x + 17)*(x - 7))"
      ]
     },
     "metadata": {},
     "output_type": "display_data"
    },
    {
     "data": {
      "text/html": [
       "<html><script type=\"math/tex; mode=display\">\\newcommand{\\Bold}[1]{\\mathbf{#1}}\\frac{x^{2} + 62 \\, x - 215}{{\\left(x^{2} - 16 \\, x + 69\\right)} {\\left(x + 4\\right)}}</script></html>"
      ],
      "text/plain": [
       "(x^2 + 62*x - 215)/((x^2 - 16*x + 69)*(x + 4))"
      ]
     },
     "metadata": {},
     "output_type": "display_data"
    },
    {
     "data": {
      "text/html": [
       "<html><script type=\"math/tex; mode=display\">\\newcommand{\\Bold}[1]{\\mathbf{#1}}\\frac{3 \\, x^{2} - 52 \\, x + 233}{{\\left(x^{2} - 18 \\, x + 85\\right)} {\\left(x - 7\\right)}}</script></html>"
      ],
      "text/plain": [
       "(3*x^2 - 52*x + 233)/((x^2 - 18*x + 85)*(x - 7))"
      ]
     },
     "metadata": {},
     "output_type": "display_data"
    },
    {
     "data": {
      "text/html": [
       "<html><script type=\"math/tex; mode=display\">\\newcommand{\\Bold}[1]{\\mathbf{#1}}\\frac{15 \\, x^{2} + 107 \\, x + 178}{{\\left(x^{2} + 10 \\, x + 28\\right)} {\\left(x + 5\\right)}}</script></html>"
      ],
      "text/plain": [
       "(15*x^2 + 107*x + 178)/((x^2 + 10*x + 28)*(x + 5))"
      ]
     },
     "metadata": {},
     "output_type": "display_data"
    },
    {
     "data": {
      "text/html": [
       "<html><script type=\"math/tex; mode=display\">\\newcommand{\\Bold}[1]{\\mathbf{#1}}-\\frac{9 \\, x^{2} + 46 \\, x + 361}{{\\left(x^{2} + 18 \\, x + 89\\right)} {\\left(x - 5\\right)}}</script></html>"
      ],
      "text/plain": [
       "-(9*x^2 + 46*x + 361)/((x^2 + 18*x + 89)*(x - 5))"
      ]
     },
     "metadata": {},
     "output_type": "display_data"
    },
    {
     "data": {
      "text/html": [
       "<html><script type=\"math/tex; mode=display\">\\newcommand{\\Bold}[1]{\\mathbf{#1}}\\frac{5 \\, x^{2} - 5 \\, x - 38}{{\\left(x^{2} - 8 \\, x + 19\\right)} {\\left(x - 3\\right)}}</script></html>"
      ],
      "text/plain": [
       "(5*x^2 - 5*x - 38)/((x^2 - 8*x + 19)*(x - 3))"
      ]
     },
     "metadata": {},
     "output_type": "display_data"
    },
    {
     "data": {
      "text/html": [
       "<html><script type=\"math/tex; mode=display\">\\newcommand{\\Bold}[1]{\\mathbf{#1}}-\\frac{4 \\, x^{2} - 19 \\, x + 39}{{\\left(x^{2} - 8 \\, x + 21\\right)} {\\left(x + 8\\right)}}</script></html>"
      ],
      "text/plain": [
       "-(4*x^2 - 19*x + 39)/((x^2 - 8*x + 21)*(x + 8))"
      ]
     },
     "metadata": {},
     "output_type": "display_data"
    },
    {
     "data": {
      "text/html": [
       "<html><script type=\"math/tex; mode=display\">\\newcommand{\\Bold}[1]{\\mathbf{#1}}-\\frac{12 \\, x^{2} - 15 \\, x + 272}{{\\left(x^{2} - 14 \\, x + 56\\right)} {\\left(x + 8\\right)}}</script></html>"
      ],
      "text/plain": [
       "-(12*x^2 - 15*x + 272)/((x^2 - 14*x + 56)*(x + 8))"
      ]
     },
     "metadata": {},
     "output_type": "display_data"
    },
    {
     "data": {
      "text/html": [
       "<html><script type=\"math/tex; mode=display\">\\newcommand{\\Bold}[1]{\\mathbf{#1}}\\frac{13 \\, x^{2} + 123 \\, x + 142}{{\\left(x^{2} + 10 \\, x + 31\\right)} {\\left(x + 9\\right)}}</script></html>"
      ],
      "text/plain": [
       "(13*x^2 + 123*x + 142)/((x^2 + 10*x + 31)*(x + 9))"
      ]
     },
     "metadata": {},
     "output_type": "display_data"
    },
    {
     "data": {
      "text/html": [
       "<html><script type=\"math/tex; mode=display\">\\newcommand{\\Bold}[1]{\\mathbf{#1}}-\\frac{6 \\, x^{2} + 131 \\, x + 486}{{\\left(x^{2} + 14 \\, x + 54\\right)} x}</script></html>"
      ],
      "text/plain": [
       "-(6*x^2 + 131*x + 486)/((x^2 + 14*x + 54)*x)"
      ]
     },
     "metadata": {},
     "output_type": "display_data"
    },
    {
     "data": {
      "text/html": [
       "<html><script type=\"math/tex; mode=display\">\\newcommand{\\Bold}[1]{\\mathbf{#1}}\\frac{11 \\, x^{2} - 19 \\, x + 44}{{\\left(x^{2} - 6 \\, x + 17\\right)} {\\left(x - 1\\right)}}</script></html>"
      ],
      "text/plain": [
       "(11*x^2 - 19*x + 44)/((x^2 - 6*x + 17)*(x - 1))"
      ]
     },
     "metadata": {},
     "output_type": "display_data"
    },
    {
     "data": {
      "text/html": [
       "<html><script type=\"math/tex; mode=display\">\\newcommand{\\Bold}[1]{\\mathbf{#1}}-\\frac{2 \\, {\\left(4 \\, x^{2} - 7 \\, x - 18\\right)}}{{\\left(x^{2} - 2 \\, x + 4\\right)} {\\left(x - 6\\right)}}</script></html>"
      ],
      "text/plain": [
       "-2*(4*x^2 - 7*x - 18)/((x^2 - 2*x + 4)*(x - 6))"
      ]
     },
     "metadata": {},
     "output_type": "display_data"
    },
    {
     "data": {
      "text/html": [
       "<html><script type=\"math/tex; mode=display\">\\newcommand{\\Bold}[1]{\\mathbf{#1}}-\\frac{13 \\, x^{2} + 117 \\, x + 446}{{\\left(x^{2} + 14 \\, x + 57\\right)} {\\left(x - 1\\right)}}</script></html>"
      ],
      "text/plain": [
       "-(13*x^2 + 117*x + 446)/((x^2 + 14*x + 57)*(x - 1))"
      ]
     },
     "metadata": {},
     "output_type": "display_data"
    },
    {
     "data": {
      "text/html": [
       "<html><script type=\"math/tex; mode=display\">\\newcommand{\\Bold}[1]{\\mathbf{#1}}-\\frac{10 \\, x^{2} + 109 \\, x + 578}{{\\left(x^{2} + 16 \\, x + 67\\right)} {\\left(x - 6\\right)}}</script></html>"
      ],
      "text/plain": [
       "-(10*x^2 + 109*x + 578)/((x^2 + 16*x + 67)*(x - 6))"
      ]
     },
     "metadata": {},
     "output_type": "display_data"
    },
    {
     "data": {
      "text/html": [
       "<html><script type=\"math/tex; mode=display\">\\newcommand{\\Bold}[1]{\\mathbf{#1}}-\\frac{2 \\, x^{2} - 75 \\, x + 130}{{\\left(x^{2} + 8\\right)} {\\left(x + 10\\right)}}</script></html>"
      ],
      "text/plain": [
       "-(2*x^2 - 75*x + 130)/((x^2 + 8)*(x + 10))"
      ]
     },
     "metadata": {},
     "output_type": "display_data"
    },
    {
     "data": {
      "text/html": [
       "<html><script type=\"math/tex; mode=display\">\\newcommand{\\Bold}[1]{\\mathbf{#1}}-\\frac{x^{2} + 98 \\, x - 313}{{\\left(x^{2} - 14 \\, x + 53\\right)} {\\left(x + 6\\right)}}</script></html>"
      ],
      "text/plain": [
       "-(x^2 + 98*x - 313)/((x^2 - 14*x + 53)*(x + 6))"
      ]
     },
     "metadata": {},
     "output_type": "display_data"
    },
    {
     "data": {
      "text/html": [
       "<html><script type=\"math/tex; mode=display\">\\newcommand{\\Bold}[1]{\\mathbf{#1}}\\frac{2 \\, {\\left(3 \\, x^{2} - 79 \\, x + 342\\right)}}{{\\left(x^{2} - 18 \\, x + 88\\right)} {\\left(x + 2\\right)}}</script></html>"
      ],
      "text/plain": [
       "2*(3*x^2 - 79*x + 342)/((x^2 - 18*x + 88)*(x + 2))"
      ]
     },
     "metadata": {},
     "output_type": "display_data"
    },
    {
     "data": {
      "text/html": [
       "<html><script type=\"math/tex; mode=display\">\\newcommand{\\Bold}[1]{\\mathbf{#1}}-\\frac{4 \\, x^{2} + 8 \\, x + 139}{{\\left(x^{2} + 6 \\, x + 11\\right)} {\\left(x + 10\\right)}}</script></html>"
      ],
      "text/plain": [
       "-(4*x^2 + 8*x + 139)/((x^2 + 6*x + 11)*(x + 10))"
      ]
     },
     "metadata": {},
     "output_type": "display_data"
    },
    {
     "data": {
      "text/html": [
       "<html><script type=\"math/tex; mode=display\">\\newcommand{\\Bold}[1]{\\mathbf{#1}}\\frac{2 \\, {\\left(x^{2} + 10 \\, x + 36\\right)}}{{\\left(x^{2} + 4 \\, x + 12\\right)} {\\left(x + 10\\right)}}</script></html>"
      ],
      "text/plain": [
       "2*(x^2 + 10*x + 36)/((x^2 + 4*x + 12)*(x + 10))"
      ]
     },
     "metadata": {},
     "output_type": "display_data"
    },
    {
     "data": {
      "text/html": [
       "<html><script type=\"math/tex; mode=display\">\\newcommand{\\Bold}[1]{\\mathbf{#1}}-\\frac{3 \\, {\\left(x^{2} - 2 \\, x + 2\\right)}}{{\\left(x^{2} + 3\\right)} {\\left(x - 6\\right)}}</script></html>"
      ],
      "text/plain": [
       "-3*(x^2 - 2*x + 2)/((x^2 + 3)*(x - 6))"
      ]
     },
     "metadata": {},
     "output_type": "display_data"
    },
    {
     "data": {
      "text/html": [
       "<html><script type=\"math/tex; mode=display\">\\newcommand{\\Bold}[1]{\\mathbf{#1}}\\frac{11 \\, x^{2} - 55 \\, x + 101}{{\\left(x^{2} - 2 \\, x + 8\\right)} {\\left(x - 9\\right)}}</script></html>"
      ],
      "text/plain": [
       "(11*x^2 - 55*x + 101)/((x^2 - 2*x + 8)*(x - 9))"
      ]
     },
     "metadata": {},
     "output_type": "display_data"
    },
    {
     "data": {
      "text/html": [
       "<html><script type=\"math/tex; mode=display\">\\newcommand{\\Bold}[1]{\\mathbf{#1}}-\\frac{4 \\, {\\left(4 \\, x^{2} + 11 \\, x + 84\\right)}}{{\\left(x^{2} + 12 \\, x + 39\\right)} {\\left(x - 6\\right)}}</script></html>"
      ],
      "text/plain": [
       "-4*(4*x^2 + 11*x + 84)/((x^2 + 12*x + 39)*(x - 6))"
      ]
     },
     "metadata": {},
     "output_type": "display_data"
    },
    {
     "data": {
      "text/html": [
       "<html><script type=\"math/tex; mode=display\">\\newcommand{\\Bold}[1]{\\mathbf{#1}}-\\frac{{\\left(2 \\, x + 5\\right)} {\\left(x + 23\\right)}}{{\\left(x^{2} + 6 \\, x + 15\\right)} {\\left(x - 5\\right)}}</script></html>"
      ],
      "text/plain": [
       "-(2*x + 5)*(x + 23)/((x^2 + 6*x + 15)*(x - 5))"
      ]
     },
     "metadata": {},
     "output_type": "display_data"
    },
    {
     "data": {
      "text/html": [
       "<html><script type=\"math/tex; mode=display\">\\newcommand{\\Bold}[1]{\\mathbf{#1}}-\\frac{3 \\, {\\left(x^{2} - 20 \\, x + 83\\right)}}{{\\left(x^{2} - 12 \\, x + 43\\right)} {\\left(x - 3\\right)}}</script></html>"
      ],
      "text/plain": [
       "-3*(x^2 - 20*x + 83)/((x^2 - 12*x + 43)*(x - 3))"
      ]
     },
     "metadata": {},
     "output_type": "display_data"
    },
    {
     "data": {
      "text/html": [
       "<html><script type=\"math/tex; mode=display\">\\newcommand{\\Bold}[1]{\\mathbf{#1}}-\\frac{16 \\, x^{2} + 107 \\, x + 564}{{\\left(x^{2} + 18 \\, x + 84\\right)} {\\left(x - 3\\right)}}</script></html>"
      ],
      "text/plain": [
       "-(16*x^2 + 107*x + 564)/((x^2 + 18*x + 84)*(x - 3))"
      ]
     },
     "metadata": {},
     "output_type": "display_data"
    },
    {
     "data": {
      "text/html": [
       "<html><script type=\"math/tex; mode=display\">\\newcommand{\\Bold}[1]{\\mathbf{#1}}-\\frac{9 \\, x^{2} - 5 \\, x + 182}{{\\left(x^{2} + 16 \\, x + 73\\right)} {\\left(x - 4\\right)}}</script></html>"
      ],
      "text/plain": [
       "-(9*x^2 - 5*x + 182)/((x^2 + 16*x + 73)*(x - 4))"
      ]
     },
     "metadata": {},
     "output_type": "display_data"
    },
    {
     "data": {
      "text/html": [
       "<html><script type=\"math/tex; mode=display\">\\newcommand{\\Bold}[1]{\\mathbf{#1}}\\frac{2 \\, {\\left(3 \\, x^{2} + 8 \\, x + 15\\right)}}{{\\left(x^{2} + 2 \\, x + 5\\right)} x}</script></html>"
      ],
      "text/plain": [
       "2*(3*x^2 + 8*x + 15)/((x^2 + 2*x + 5)*x)"
      ]
     },
     "metadata": {},
     "output_type": "display_data"
    },
    {
     "data": {
      "text/html": [
       "<html><script type=\"math/tex; mode=display\">\\newcommand{\\Bold}[1]{\\mathbf{#1}}-\\frac{3 \\, {\\left(2 \\, x^{2} - 9 \\, x - 15\\right)}}{{\\left(x^{2} + 8 \\, x + 24\\right)} {\\left(x - 1\\right)}}</script></html>"
      ],
      "text/plain": [
       "-3*(2*x^2 - 9*x - 15)/((x^2 + 8*x + 24)*(x - 1))"
      ]
     },
     "metadata": {},
     "output_type": "display_data"
    },
    {
     "data": {
      "text/html": [
       "<html><script type=\"math/tex; mode=display\">\\newcommand{\\Bold}[1]{\\mathbf{#1}}-\\frac{2 \\, {\\left(x^{2} + 53 \\, x - 11\\right)}}{{\\left(x^{2} - 4 \\, x + 10\\right)} {\\left(x + 8\\right)}}</script></html>"
      ],
      "text/plain": [
       "-2*(x^2 + 53*x - 11)/((x^2 - 4*x + 10)*(x + 8))"
      ]
     },
     "metadata": {},
     "output_type": "display_data"
    },
    {
     "data": {
      "text/html": [
       "<html><script type=\"math/tex; mode=display\">\\newcommand{\\Bold}[1]{\\mathbf{#1}}-\\frac{14 \\, x + 117}{{\\left(x^{2} + 16 \\, x + 69\\right)} {\\left(x + 8\\right)}}</script></html>"
      ],
      "text/plain": [
       "-(14*x + 117)/((x^2 + 16*x + 69)*(x + 8))"
      ]
     },
     "metadata": {},
     "output_type": "display_data"
    },
    {
     "data": {
      "text/html": [
       "<html><script type=\"math/tex; mode=display\">\\newcommand{\\Bold}[1]{\\mathbf{#1}}-\\frac{2 \\, {\\left(3 \\, x^{2} + 7 \\, x - 25\\right)}}{{\\left(x^{2} - 8 \\, x + 22\\right)} {\\left(x - 1\\right)}}</script></html>"
      ],
      "text/plain": [
       "-2*(3*x^2 + 7*x - 25)/((x^2 - 8*x + 22)*(x - 1))"
      ]
     },
     "metadata": {},
     "output_type": "display_data"
    },
    {
     "data": {
      "text/html": [
       "<html><script type=\"math/tex; mode=display\">\\newcommand{\\Bold}[1]{\\mathbf{#1}}\\frac{7 \\, x^{2} + 20 \\, x + 93}{{\\left(x^{2} + 10 \\, x + 29\\right)} {\\left(x - 1\\right)}}</script></html>"
      ],
      "text/plain": [
       "(7*x^2 + 20*x + 93)/((x^2 + 10*x + 29)*(x - 1))"
      ]
     },
     "metadata": {},
     "output_type": "display_data"
    },
    {
     "data": {
      "text/html": [
       "<html><script type=\"math/tex; mode=display\">\\newcommand{\\Bold}[1]{\\mathbf{#1}}-\\frac{3 \\, {\\left(x^{2} + 16 \\, x + 77\\right)}}{{\\left(x^{2} + 18 \\, x + 83\\right)} {\\left(x + 3\\right)}}</script></html>"
      ],
      "text/plain": [
       "-3*(x^2 + 16*x + 77)/((x^2 + 18*x + 83)*(x + 3))"
      ]
     },
     "metadata": {},
     "output_type": "display_data"
    },
    {
     "data": {
      "text/html": [
       "<html><script type=\"math/tex; mode=display\">\\newcommand{\\Bold}[1]{\\mathbf{#1}}-\\frac{2 \\, {\\left(5 \\, x^{2} - 33 \\, x + 33\\right)}}{{\\left(x^{2} + 10 \\, x + 34\\right)} {\\left(x - 8\\right)}}</script></html>"
      ],
      "text/plain": [
       "-2*(5*x^2 - 33*x + 33)/((x^2 + 10*x + 34)*(x - 8))"
      ]
     },
     "metadata": {},
     "output_type": "display_data"
    },
    {
     "data": {
      "text/html": [
       "<html><script type=\"math/tex; mode=display\">\\newcommand{\\Bold}[1]{\\mathbf{#1}}\\frac{3 \\, {\\left(2 \\, x^{2} - 11 \\, x + 27\\right)}}{{\\left(x^{2} - 4 \\, x + 9\\right)} {\\left(x - 3\\right)}}</script></html>"
      ],
      "text/plain": [
       "3*(2*x^2 - 11*x + 27)/((x^2 - 4*x + 9)*(x - 3))"
      ]
     },
     "metadata": {},
     "output_type": "display_data"
    },
    {
     "data": {
      "text/html": [
       "<html><script type=\"math/tex; mode=display\">\\newcommand{\\Bold}[1]{\\mathbf{#1}}-\\frac{10 \\, {\\left(x^{2} + 2 \\, x + 25\\right)}}{{\\left(x^{2} + 18 \\, x + 85\\right)} {\\left(x - 5\\right)}}</script></html>"
      ],
      "text/plain": [
       "-10*(x^2 + 2*x + 25)/((x^2 + 18*x + 85)*(x - 5))"
      ]
     },
     "metadata": {},
     "output_type": "display_data"
    },
    {
     "data": {
      "text/html": [
       "<html><script type=\"math/tex; mode=display\">\\newcommand{\\Bold}[1]{\\mathbf{#1}}\\frac{3 \\, x^{2} - 65 \\, x - 202}{{\\left(x^{2} + 10 \\, x + 33\\right)} {\\left(x - 1\\right)}}</script></html>"
      ],
      "text/plain": [
       "(3*x^2 - 65*x - 202)/((x^2 + 10*x + 33)*(x - 1))"
      ]
     },
     "metadata": {},
     "output_type": "display_data"
    },
    {
     "data": {
      "text/html": [
       "<html><script type=\"math/tex; mode=display\">\\newcommand{\\Bold}[1]{\\mathbf{#1}}-\\frac{5 \\, x^{2} + 124 \\, x + 432}{{\\left(x^{2} + 12 \\, x + 42\\right)} {\\left(x - 2\\right)}}</script></html>"
      ],
      "text/plain": [
       "-(5*x^2 + 124*x + 432)/((x^2 + 12*x + 42)*(x - 2))"
      ]
     },
     "metadata": {},
     "output_type": "display_data"
    },
    {
     "data": {
      "text/html": [
       "<html><script type=\"math/tex; mode=display\">\\newcommand{\\Bold}[1]{\\mathbf{#1}}-\\frac{13 \\, x^{2} + 73 \\, x + 204}{{\\left(x^{2} - 12 \\, x + 38\\right)} {\\left(x + 10\\right)}}</script></html>"
      ],
      "text/plain": [
       "-(13*x^2 + 73*x + 204)/((x^2 - 12*x + 38)*(x + 10))"
      ]
     },
     "metadata": {},
     "output_type": "display_data"
    },
    {
     "data": {
      "text/html": [
       "<html><script type=\"math/tex; mode=display\">\\newcommand{\\Bold}[1]{\\mathbf{#1}}\\frac{{\\left(3 \\, x - 4\\right)}^{2}}{{\\left(x^{2} - 6 \\, x + 12\\right)} {\\left(x - 2\\right)}}</script></html>"
      ],
      "text/plain": [
       "(3*x - 4)^2/((x^2 - 6*x + 12)*(x - 2))"
      ]
     },
     "metadata": {},
     "output_type": "display_data"
    },
    {
     "data": {
      "text/html": [
       "<html><script type=\"math/tex; mode=display\">\\newcommand{\\Bold}[1]{\\mathbf{#1}}-\\frac{5 \\, x^{2} + 63 \\, x + 232}{{\\left(x^{2} + 12 \\, x + 41\\right)} {\\left(x + 7\\right)}}</script></html>"
      ],
      "text/plain": [
       "-(5*x^2 + 63*x + 232)/((x^2 + 12*x + 41)*(x + 7))"
      ]
     },
     "metadata": {},
     "output_type": "display_data"
    },
    {
     "data": {
      "text/html": [
       "<html><script type=\"math/tex; mode=display\">\\newcommand{\\Bold}[1]{\\mathbf{#1}}\\frac{10 \\, x^{2} + 65 \\, x + 276}{{\\left(x^{2} + 16 \\, x + 69\\right)} x}</script></html>"
      ],
      "text/plain": [
       "(10*x^2 + 65*x + 276)/((x^2 + 16*x + 69)*x)"
      ]
     },
     "metadata": {},
     "output_type": "display_data"
    },
    {
     "data": {
      "text/html": [
       "<html><script type=\"math/tex; mode=display\">\\newcommand{\\Bold}[1]{\\mathbf{#1}}\\frac{5 \\, x^{2} + 37 \\, x + 48}{{\\left(x^{2} + 8 \\, x + 24\\right)} {\\left(x + 7\\right)}}</script></html>"
      ],
      "text/plain": [
       "(5*x^2 + 37*x + 48)/((x^2 + 8*x + 24)*(x + 7))"
      ]
     },
     "metadata": {},
     "output_type": "display_data"
    },
    {
     "data": {
      "text/html": [
       "<html><script type=\"math/tex; mode=display\">\\newcommand{\\Bold}[1]{\\mathbf{#1}}\\frac{2 \\, {\\left(2 \\, x^{2} + 31 \\, x - 45\\right)}}{{\\left(x^{2} + 2\\right)} {\\left(x + 8\\right)}}</script></html>"
      ],
      "text/plain": [
       "2*(2*x^2 + 31*x - 45)/((x^2 + 2)*(x + 8))"
      ]
     },
     "metadata": {},
     "output_type": "display_data"
    },
    {
     "data": {
      "text/html": [
       "<html><script type=\"math/tex; mode=display\">\\newcommand{\\Bold}[1]{\\mathbf{#1}}\\frac{2 \\, {\\left(4 \\, x^{2} - 43 \\, x + 142\\right)}}{{\\left(x^{2} - 12 \\, x + 44\\right)} {\\left(x - 6\\right)}}</script></html>"
      ],
      "text/plain": [
       "2*(4*x^2 - 43*x + 142)/((x^2 - 12*x + 44)*(x - 6))"
      ]
     },
     "metadata": {},
     "output_type": "display_data"
    },
    {
     "data": {
      "text/html": [
       "<html><script type=\"math/tex; mode=display\">\\newcommand{\\Bold}[1]{\\mathbf{#1}}\\frac{2 \\, {\\left(5 \\, x^{2} + 59 \\, x + 189\\right)}}{{\\left(x^{2} + 14 \\, x + 56\\right)} {\\left(x + 7\\right)}}</script></html>"
      ],
      "text/plain": [
       "2*(5*x^2 + 59*x + 189)/((x^2 + 14*x + 56)*(x + 7))"
      ]
     },
     "metadata": {},
     "output_type": "display_data"
    },
    {
     "data": {
      "text/html": [
       "<html><script type=\"math/tex; mode=display\">\\newcommand{\\Bold}[1]{\\mathbf{#1}}\\frac{5 \\, x^{2} + 61 \\, x + 306}{{\\left(x^{2} + 20 \\, x + 104\\right)} {\\left(x + 2\\right)}}</script></html>"
      ],
      "text/plain": [
       "(5*x^2 + 61*x + 306)/((x^2 + 20*x + 104)*(x + 2))"
      ]
     },
     "metadata": {},
     "output_type": "display_data"
    },
    {
     "data": {
      "text/html": [
       "<html><script type=\"math/tex; mode=display\">\\newcommand{\\Bold}[1]{\\mathbf{#1}}\\frac{2 \\, {\\left(x^{2} + 25 \\, x + 4\\right)}}{{\\left(x^{2} + 2 \\, x + 7\\right)} {\\left(x + 9\\right)}}</script></html>"
      ],
      "text/plain": [
       "2*(x^2 + 25*x + 4)/((x^2 + 2*x + 7)*(x + 9))"
      ]
     },
     "metadata": {},
     "output_type": "display_data"
    },
    {
     "data": {
      "text/html": [
       "<html><script type=\"math/tex; mode=display\">\\newcommand{\\Bold}[1]{\\mathbf{#1}}-\\frac{9 \\, x^{2} + 11 \\, x - 91}{{\\left(x^{2} - 18 \\, x + 88\\right)} {\\left(x - 1\\right)}}</script></html>"
      ],
      "text/plain": [
       "-(9*x^2 + 11*x - 91)/((x^2 - 18*x + 88)*(x - 1))"
      ]
     },
     "metadata": {},
     "output_type": "display_data"
    },
    {
     "data": {
      "text/html": [
       "<html><script type=\"math/tex; mode=display\">\\newcommand{\\Bold}[1]{\\mathbf{#1}}\\frac{8 \\, x^{2} + 41 \\, x + 47}{{\\left(x^{2} - 18 \\, x + 83\\right)} {\\left(x + 9\\right)}}</script></html>"
      ],
      "text/plain": [
       "(8*x^2 + 41*x + 47)/((x^2 - 18*x + 83)*(x + 9))"
      ]
     },
     "metadata": {},
     "output_type": "display_data"
    },
    {
     "data": {
      "text/html": [
       "<html><script type=\"math/tex; mode=display\">\\newcommand{\\Bold}[1]{\\mathbf{#1}}\\frac{8 \\, x^{2} + 61 \\, x + 254}{{\\left(x^{2} + 18 \\, x + 84\\right)} {\\left(x + 1\\right)}}</script></html>"
      ],
      "text/plain": [
       "(8*x^2 + 61*x + 254)/((x^2 + 18*x + 84)*(x + 1))"
      ]
     },
     "metadata": {},
     "output_type": "display_data"
    },
    {
     "data": {
      "text/html": [
       "<html><script type=\"math/tex; mode=display\">\\newcommand{\\Bold}[1]{\\mathbf{#1}}-\\frac{x^{2} - 87 \\, x + 250}{{\\left(x^{2} - 16 \\, x + 66\\right)} {\\left(x + 7\\right)}}</script></html>"
      ],
      "text/plain": [
       "-(x^2 - 87*x + 250)/((x^2 - 16*x + 66)*(x + 7))"
      ]
     },
     "metadata": {},
     "output_type": "display_data"
    },
    {
     "data": {
      "text/html": [
       "<html><script type=\"math/tex; mode=display\">\\newcommand{\\Bold}[1]{\\mathbf{#1}}-\\frac{x^{2} + 20 \\, x - 141}{{\\left(x^{2} - 14 \\, x + 53\\right)} {\\left(x - 5\\right)}}</script></html>"
      ],
      "text/plain": [
       "-(x^2 + 20*x - 141)/((x^2 - 14*x + 53)*(x - 5))"
      ]
     },
     "metadata": {},
     "output_type": "display_data"
    },
    {
     "data": {
      "text/html": [
       "<html><script type=\"math/tex; mode=display\">\\newcommand{\\Bold}[1]{\\mathbf{#1}}\\frac{15 \\, x^{2} - 37 \\, x + 352}{{\\left(x^{2} - 14 \\, x + 57\\right)} {\\left(x + 5\\right)}}</script></html>"
      ],
      "text/plain": [
       "(15*x^2 - 37*x + 352)/((x^2 - 14*x + 57)*(x + 5))"
      ]
     },
     "metadata": {},
     "output_type": "display_data"
    },
    {
     "data": {
      "text/html": [
       "<html><script type=\"math/tex; mode=display\">\\newcommand{\\Bold}[1]{\\mathbf{#1}}-\\frac{2 \\, x^{2} + 25 \\, x - 89}{{\\left(x^{2} + 6 \\, x + 11\\right)} {\\left(x + 9\\right)}}</script></html>"
      ],
      "text/plain": [
       "-(2*x^2 + 25*x - 89)/((x^2 + 6*x + 11)*(x + 9))"
      ]
     },
     "metadata": {},
     "output_type": "display_data"
    },
    {
     "data": {
      "text/html": [
       "<html><script type=\"math/tex; mode=display\">\\newcommand{\\Bold}[1]{\\mathbf{#1}}-\\frac{5 \\, x^{2} - 31 \\, x - 3}{{\\left(x^{2} - 6 \\, x + 16\\right)} {\\left(x - 5\\right)}}</script></html>"
      ],
      "text/plain": [
       "-(5*x^2 - 31*x - 3)/((x^2 - 6*x + 16)*(x - 5))"
      ]
     },
     "metadata": {},
     "output_type": "display_data"
    },
    {
     "data": {
      "text/html": [
       "<html><script type=\"math/tex; mode=display\">\\newcommand{\\Bold}[1]{\\mathbf{#1}}-\\frac{15 \\, x^{2} - 131 \\, x + 419}{{\\left(x^{2} - 18 \\, x + 83\\right)} {\\left(x - 4\\right)}}</script></html>"
      ],
      "text/plain": [
       "-(15*x^2 - 131*x + 419)/((x^2 - 18*x + 83)*(x - 4))"
      ]
     },
     "metadata": {},
     "output_type": "display_data"
    },
    {
     "data": {
      "text/html": [
       "<html><script type=\"math/tex; mode=display\">\\newcommand{\\Bold}[1]{\\mathbf{#1}}\\frac{15 \\, x^{2} + 142 \\, x + 481}{{\\left(x^{2} + 14 \\, x + 57\\right)} {\\left(x + 4\\right)}}</script></html>"
      ],
      "text/plain": [
       "(15*x^2 + 142*x + 481)/((x^2 + 14*x + 57)*(x + 4))"
      ]
     },
     "metadata": {},
     "output_type": "display_data"
    },
    {
     "data": {
      "text/html": [
       "<html><script type=\"math/tex; mode=display\">\\newcommand{\\Bold}[1]{\\mathbf{#1}}-\\frac{14 \\, x^{2} - 89 \\, x + 113}{{\\left(x^{2} - 8 \\, x + 18\\right)} {\\left(x - 5\\right)}}</script></html>"
      ],
      "text/plain": [
       "-(14*x^2 - 89*x + 113)/((x^2 - 8*x + 18)*(x - 5))"
      ]
     },
     "metadata": {},
     "output_type": "display_data"
    },
    {
     "data": {
      "text/html": [
       "<html><script type=\"math/tex; mode=display\">\\newcommand{\\Bold}[1]{\\mathbf{#1}}\\frac{10 \\, x^{2} - 43 \\, x + 7}{{\\left(x^{2} - 2 \\, x + 6\\right)} {\\left(x - 5\\right)}}</script></html>"
      ],
      "text/plain": [
       "(10*x^2 - 43*x + 7)/((x^2 - 2*x + 6)*(x - 5))"
      ]
     },
     "metadata": {},
     "output_type": "display_data"
    },
    {
     "data": {
      "text/html": [
       "<html><script type=\"math/tex; mode=display\">\\newcommand{\\Bold}[1]{\\mathbf{#1}}-\\frac{9 \\, x^{2} - 16 \\, x + 25}{{\\left(x^{2} - 10 \\, x + 27\\right)} {\\left(x - 1\\right)}}</script></html>"
      ],
      "text/plain": [
       "-(9*x^2 - 16*x + 25)/((x^2 - 10*x + 27)*(x - 1))"
      ]
     },
     "metadata": {},
     "output_type": "display_data"
    },
    {
     "data": {
      "text/html": [
       "<html><script type=\"math/tex; mode=display\">\\newcommand{\\Bold}[1]{\\mathbf{#1}}\\frac{x^{2} + 161 \\, x + 608}{{\\left(x^{2} + 18 \\, x + 86\\right)} {\\left(x - 6\\right)}}</script></html>"
      ],
      "text/plain": [
       "(x^2 + 161*x + 608)/((x^2 + 18*x + 86)*(x - 6))"
      ]
     },
     "metadata": {},
     "output_type": "display_data"
    },
    {
     "data": {
      "text/html": [
       "<html><script type=\"math/tex; mode=display\">\\newcommand{\\Bold}[1]{\\mathbf{#1}}-\\frac{11 \\, x^{2} + 21 \\, x + 22}{{\\left(x^{2} - 4 \\, x + 6\\right)} {\\left(x + 4\\right)}}</script></html>"
      ],
      "text/plain": [
       "-(11*x^2 + 21*x + 22)/((x^2 - 4*x + 6)*(x + 4))"
      ]
     },
     "metadata": {},
     "output_type": "display_data"
    },
    {
     "data": {
      "text/html": [
       "<html><script type=\"math/tex; mode=display\">\\newcommand{\\Bold}[1]{\\mathbf{#1}}\\frac{14 \\, x^{2} + 34 \\, x + 141}{{\\left(x^{2} - 8 \\, x + 25\\right)} {\\left(x + 8\\right)}}</script></html>"
      ],
      "text/plain": [
       "(14*x^2 + 34*x + 141)/((x^2 - 8*x + 25)*(x + 8))"
      ]
     },
     "metadata": {},
     "output_type": "display_data"
    },
    {
     "data": {
      "text/html": [
       "<html><script type=\"math/tex; mode=display\">\\newcommand{\\Bold}[1]{\\mathbf{#1}}\\frac{8 \\, {\\left(3 \\, x + 44\\right)}}{{\\left(x^{2} + 14 \\, x + 56\\right)} {\\left(x + 10\\right)}}</script></html>"
      ],
      "text/plain": [
       "8*(3*x + 44)/((x^2 + 14*x + 56)*(x + 10))"
      ]
     },
     "metadata": {},
     "output_type": "display_data"
    },
    {
     "data": {
      "text/html": [
       "<html><script type=\"math/tex; mode=display\">\\newcommand{\\Bold}[1]{\\mathbf{#1}}\\frac{6 \\, x^{2} - 127 \\, x + 645}{{\\left(x^{2} - 16 \\, x + 71\\right)} {\\left(x - 6\\right)}}</script></html>"
      ],
      "text/plain": [
       "(6*x^2 - 127*x + 645)/((x^2 - 16*x + 71)*(x - 6))"
      ]
     },
     "metadata": {},
     "output_type": "display_data"
    },
    {
     "data": {
      "text/html": [
       "<html><script type=\"math/tex; mode=display\">\\newcommand{\\Bold}[1]{\\mathbf{#1}}-\\frac{16 \\, x^{2} + 212 \\, x + 997}{{\\left(x^{2} + 20 \\, x + 109\\right)} {\\left(x + 4\\right)}}</script></html>"
      ],
      "text/plain": [
       "-(16*x^2 + 212*x + 997)/((x^2 + 20*x + 109)*(x + 4))"
      ]
     },
     "metadata": {},
     "output_type": "display_data"
    },
    {
     "data": {
      "text/html": [
       "<html><script type=\"math/tex; mode=display\">\\newcommand{\\Bold}[1]{\\mathbf{#1}}-\\frac{{\\left(3 \\, x + 28\\right)} {\\left(x + 15\\right)}}{{\\left(x^{2} + 18 \\, x + 90\\right)} {\\left(x + 6\\right)}}</script></html>"
      ],
      "text/plain": [
       "-(3*x + 28)*(x + 15)/((x^2 + 18*x + 90)*(x + 6))"
      ]
     },
     "metadata": {},
     "output_type": "display_data"
    },
    {
     "data": {
      "text/html": [
       "<html><script type=\"math/tex; mode=display\">\\newcommand{\\Bold}[1]{\\mathbf{#1}}-\\frac{11 \\, x^{2} - 42 \\, x + 38}{{\\left(x^{2} + 12 \\, x + 43\\right)} {\\left(x - 8\\right)}}</script></html>"
      ],
      "text/plain": [
       "-(11*x^2 - 42*x + 38)/((x^2 + 12*x + 43)*(x - 8))"
      ]
     },
     "metadata": {},
     "output_type": "display_data"
    },
    {
     "data": {
      "text/html": [
       "<html><script type=\"math/tex; mode=display\">\\newcommand{\\Bold}[1]{\\mathbf{#1}}-\\frac{17 \\, x^{2} + 19 \\, x + 34}{{\\left(x^{2} + 2 \\, x + 4\\right)} {\\left(x - 1\\right)}}</script></html>"
      ],
      "text/plain": [
       "-(17*x^2 + 19*x + 34)/((x^2 + 2*x + 4)*(x - 1))"
      ]
     },
     "metadata": {},
     "output_type": "display_data"
    },
    {
     "data": {
      "text/html": [
       "<html><script type=\"math/tex; mode=display\">\\newcommand{\\Bold}[1]{\\mathbf{#1}}-\\frac{{\\left(x - 8\\right)} {\\left(x - 11\\right)}}{{\\left(x^{2} - 6 \\, x + 14\\right)} {\\left(x - 3\\right)}}</script></html>"
      ],
      "text/plain": [
       "-(x - 8)*(x - 11)/((x^2 - 6*x + 14)*(x - 3))"
      ]
     },
     "metadata": {},
     "output_type": "display_data"
    },
    {
     "data": {
      "text/html": [
       "<html><script type=\"math/tex; mode=display\">\\newcommand{\\Bold}[1]{\\mathbf{#1}}\\frac{7 \\, x^{2} + 19 \\, x + 42}{{\\left(x^{2} + 8 \\, x + 21\\right)} x}</script></html>"
      ],
      "text/plain": [
       "(7*x^2 + 19*x + 42)/((x^2 + 8*x + 21)*x)"
      ]
     },
     "metadata": {},
     "output_type": "display_data"
    },
    {
     "data": {
      "text/html": [
       "<html><script type=\"math/tex; mode=display\">\\newcommand{\\Bold}[1]{\\mathbf{#1}}-\\frac{2 \\, {\\left(x^{2} + 6 \\, x - 43\\right)}}{{\\left(x^{2} + 2 \\, x + 9\\right)} {\\left(x + 4\\right)}}</script></html>"
      ],
      "text/plain": [
       "-2*(x^2 + 6*x - 43)/((x^2 + 2*x + 9)*(x + 4))"
      ]
     },
     "metadata": {},
     "output_type": "display_data"
    },
    {
     "data": {
      "text/html": [
       "<html><script type=\"math/tex; mode=display\">\\newcommand{\\Bold}[1]{\\mathbf{#1}}\\frac{11 \\, x^{2} + 152 \\, x + 533}{{\\left(x^{2} + 16 \\, x + 71\\right)} {\\left(x + 9\\right)}}</script></html>"
      ],
      "text/plain": [
       "(11*x^2 + 152*x + 533)/((x^2 + 16*x + 71)*(x + 9))"
      ]
     },
     "metadata": {},
     "output_type": "display_data"
    },
    {
     "data": {
      "text/html": [
       "<html><script type=\"math/tex; mode=display\">\\newcommand{\\Bold}[1]{\\mathbf{#1}}\\frac{9 \\, x^{2} + 7 \\, x + 12}{{\\left(x^{2} - 4 \\, x + 5\\right)} {\\left(x + 2\\right)}}</script></html>"
      ],
      "text/plain": [
       "(9*x^2 + 7*x + 12)/((x^2 - 4*x + 5)*(x + 2))"
      ]
     },
     "metadata": {},
     "output_type": "display_data"
    },
    {
     "data": {
      "text/html": [
       "<html><script type=\"math/tex; mode=display\">\\newcommand{\\Bold}[1]{\\mathbf{#1}}\\frac{x^{2} + 66 \\, x - 137}{{\\left(x^{2} - 4 \\, x + 11\\right)} {\\left(x + 6\\right)}}</script></html>"
      ],
      "text/plain": [
       "(x^2 + 66*x - 137)/((x^2 - 4*x + 11)*(x + 6))"
      ]
     },
     "metadata": {},
     "output_type": "display_data"
    },
    {
     "data": {
      "text/html": [
       "<html><script type=\"math/tex; mode=display\">\\newcommand{\\Bold}[1]{\\mathbf{#1}}\\frac{2 \\, {\\left(x^{2} + 59 \\, x + 261\\right)}}{{\\left(x^{2} + 18 \\, x + 86\\right)} {\\left(x - 3\\right)}}</script></html>"
      ],
      "text/plain": [
       "2*(x^2 + 59*x + 261)/((x^2 + 18*x + 86)*(x - 3))"
      ]
     },
     "metadata": {},
     "output_type": "display_data"
    },
    {
     "data": {
      "text/html": [
       "<html><script type=\"math/tex; mode=display\">\\newcommand{\\Bold}[1]{\\mathbf{#1}}-\\frac{14 \\, x^{2} - 71 \\, x + 50}{{\\left(x^{2} - 6 \\, x + 10\\right)} {\\left(x - 5\\right)}}</script></html>"
      ],
      "text/plain": [
       "-(14*x^2 - 71*x + 50)/((x^2 - 6*x + 10)*(x - 5))"
      ]
     },
     "metadata": {},
     "output_type": "display_data"
    },
    {
     "data": {
      "text/html": [
       "<html><script type=\"math/tex; mode=display\">\\newcommand{\\Bold}[1]{\\mathbf{#1}}-\\frac{5 \\, x^{2} + 5 \\, x - 16}{{\\left(x^{2} + 5\\right)} {\\left(x + 9\\right)}}</script></html>"
      ],
      "text/plain": [
       "-(5*x^2 + 5*x - 16)/((x^2 + 5)*(x + 9))"
      ]
     },
     "metadata": {},
     "output_type": "display_data"
    },
    {
     "data": {
      "text/html": [
       "<html><script type=\"math/tex; mode=display\">\\newcommand{\\Bold}[1]{\\mathbf{#1}}-\\frac{13 \\, x^{2} + 171 \\, x + 596}{{\\left(x^{2} + 14 \\, x + 56\\right)} {\\left(x + 9\\right)}}</script></html>"
      ],
      "text/plain": [
       "-(13*x^2 + 171*x + 596)/((x^2 + 14*x + 56)*(x + 9))"
      ]
     },
     "metadata": {},
     "output_type": "display_data"
    },
    {
     "data": {
      "text/html": [
       "<html><script type=\"math/tex; mode=display\">\\newcommand{\\Bold}[1]{\\mathbf{#1}}-\\frac{2 \\, {\\left(x^{2} - 54 \\, x + 348\\right)}}{{\\left(x^{2} - 18 \\, x + 87\\right)} {\\left(x - 6\\right)}}</script></html>"
      ],
      "text/plain": [
       "-2*(x^2 - 54*x + 348)/((x^2 - 18*x + 87)*(x - 6))"
      ]
     },
     "metadata": {},
     "output_type": "display_data"
    },
    {
     "data": {
      "text/html": [
       "<html><script type=\"math/tex; mode=display\">\\newcommand{\\Bold}[1]{\\mathbf{#1}}\\frac{7 \\, x^{2} - 86 \\, x - 49}{{\\left(x^{2} + 4 \\, x + 11\\right)} {\\left(x - 9\\right)}}</script></html>"
      ],
      "text/plain": [
       "(7*x^2 - 86*x - 49)/((x^2 + 4*x + 11)*(x - 9))"
      ]
     },
     "metadata": {},
     "output_type": "display_data"
    },
    {
     "data": {
      "text/html": [
       "<html><script type=\"math/tex; mode=display\">\\newcommand{\\Bold}[1]{\\mathbf{#1}}\\frac{x^{2} - 205 \\, x + 732}{{\\left(x^{2} - 18 \\, x + 83\\right)} {\\left(x + 5\\right)}}</script></html>"
      ],
      "text/plain": [
       "(x^2 - 205*x + 732)/((x^2 - 18*x + 83)*(x + 5))"
      ]
     },
     "metadata": {},
     "output_type": "display_data"
    },
    {
     "data": {
      "text/html": [
       "<html><script type=\"math/tex; mode=display\">\\newcommand{\\Bold}[1]{\\mathbf{#1}}-\\frac{4 \\, {\\left(4 \\, x - 1\\right)} {\\left(x - 6\\right)}}{{\\left(x^{2} - 2 \\, x + 7\\right)} {\\left(x - 9\\right)}}</script></html>"
      ],
      "text/plain": [
       "-4*(4*x - 1)*(x - 6)/((x^2 - 2*x + 7)*(x - 9))"
      ]
     },
     "metadata": {},
     "output_type": "display_data"
    },
    {
     "data": {
      "text/html": [
       "<html><script type=\"math/tex; mode=display\">\\newcommand{\\Bold}[1]{\\mathbf{#1}}-\\frac{{\\left(4 \\, x + 75\\right)} {\\left(x + 4\\right)}}{{\\left(x^{2} + 16 \\, x + 66\\right)} {\\left(x - 6\\right)}}</script></html>"
      ],
      "text/plain": [
       "-(4*x + 75)*(x + 4)/((x^2 + 16*x + 66)*(x - 6))"
      ]
     },
     "metadata": {},
     "output_type": "display_data"
    },
    {
     "data": {
      "text/html": [
       "<html><script type=\"math/tex; mode=display\">\\newcommand{\\Bold}[1]{\\mathbf{#1}}-\\frac{3 \\, {\\left(2 \\, x^{2} + 37 \\, x - 67\\right)}}{{\\left(x^{2} - 16 \\, x + 67\\right)} {\\left(x + 7\\right)}}</script></html>"
      ],
      "text/plain": [
       "-3*(2*x^2 + 37*x - 67)/((x^2 - 16*x + 67)*(x + 7))"
      ]
     },
     "metadata": {},
     "output_type": "display_data"
    },
    {
     "data": {
      "text/html": [
       "<html><script type=\"math/tex; mode=display\">\\newcommand{\\Bold}[1]{\\mathbf{#1}}\\frac{2 \\, {\\left(8 \\, x^{2} + 47 \\, x + 125\\right)}}{{\\left(x^{2} + 10 \\, x + 34\\right)} {\\left(x + 2\\right)}}</script></html>"
      ],
      "text/plain": [
       "2*(8*x^2 + 47*x + 125)/((x^2 + 10*x + 34)*(x + 2))"
      ]
     },
     "metadata": {},
     "output_type": "display_data"
    },
    {
     "data": {
      "text/html": [
       "<html><script type=\"math/tex; mode=display\">\\newcommand{\\Bold}[1]{\\mathbf{#1}}-\\frac{17 \\, x^{2} + 40 \\, x + 56}{{\\left(x^{2} + 4 \\, x + 7\\right)} x}</script></html>"
      ],
      "text/plain": [
       "-(17*x^2 + 40*x + 56)/((x^2 + 4*x + 7)*x)"
      ]
     },
     "metadata": {},
     "output_type": "display_data"
    },
    {
     "data": {
      "text/html": [
       "<html><script type=\"math/tex; mode=display\">\\newcommand{\\Bold}[1]{\\mathbf{#1}}-\\frac{5 \\, x^{2} - 65 \\, x + 292}{{\\left(x^{2} - 12 \\, x + 41\\right)} {\\left(x - 9\\right)}}</script></html>"
      ],
      "text/plain": [
       "-(5*x^2 - 65*x + 292)/((x^2 - 12*x + 41)*(x - 9))"
      ]
     },
     "metadata": {},
     "output_type": "display_data"
    },
    {
     "data": {
      "text/html": [
       "<html><script type=\"math/tex; mode=display\">\\newcommand{\\Bold}[1]{\\mathbf{#1}}\\frac{x^{2} + 69 \\, x - 294}{{\\left(x^{2} - 16 \\, x + 66\\right)} {\\left(x + 3\\right)}}</script></html>"
      ],
      "text/plain": [
       "(x^2 + 69*x - 294)/((x^2 - 16*x + 66)*(x + 3))"
      ]
     },
     "metadata": {},
     "output_type": "display_data"
    },
    {
     "data": {
      "text/html": [
       "<html><script type=\"math/tex; mode=display\">\\newcommand{\\Bold}[1]{\\mathbf{#1}}-\\frac{x^{2} - 131 \\, x - 512}{{\\left(x^{2} + 16 \\, x + 71\\right)} {\\left(x - 3\\right)}}</script></html>"
      ],
      "text/plain": [
       "-(x^2 - 131*x - 512)/((x^2 + 16*x + 71)*(x - 3))"
      ]
     },
     "metadata": {},
     "output_type": "display_data"
    },
    {
     "data": {
      "text/html": [
       "<html><script type=\"math/tex; mode=display\">\\newcommand{\\Bold}[1]{\\mathbf{#1}}-\\frac{3 \\, x^{2} + 17 \\, x + 44}{{\\left(x^{2} + 5\\right)} {\\left(x - 2\\right)}}</script></html>"
      ],
      "text/plain": [
       "-(3*x^2 + 17*x + 44)/((x^2 + 5)*(x - 2))"
      ]
     },
     "metadata": {},
     "output_type": "display_data"
    },
    {
     "data": {
      "text/html": [
       "<html><script type=\"math/tex; mode=display\">\\newcommand{\\Bold}[1]{\\mathbf{#1}}\\frac{5 \\, {\\left(x^{2} - 25 \\, x - 38\\right)}}{{\\left(x^{2} + 18 \\, x + 82\\right)} {\\left(x - 8\\right)}}</script></html>"
      ],
      "text/plain": [
       "5*(x^2 - 25*x - 38)/((x^2 + 18*x + 82)*(x - 8))"
      ]
     },
     "metadata": {},
     "output_type": "display_data"
    },
    {
     "data": {
      "text/html": [
       "<html><script type=\"math/tex; mode=display\">\\newcommand{\\Bold}[1]{\\mathbf{#1}}\\frac{10 \\, x^{2} + 13 \\, x + 33}{{\\left(x^{2} + 9\\right)} {\\left(x + 1\\right)}}</script></html>"
      ],
      "text/plain": [
       "(10*x^2 + 13*x + 33)/((x^2 + 9)*(x + 1))"
      ]
     },
     "metadata": {},
     "output_type": "display_data"
    },
    {
     "data": {
      "text/html": [
       "<html><script type=\"math/tex; mode=display\">\\newcommand{\\Bold}[1]{\\mathbf{#1}}-\\frac{5 \\, x^{2} + 59 \\, x + 190}{{\\left(x^{2} + 12 \\, x + 39\\right)} {\\left(x + 5\\right)}}</script></html>"
      ],
      "text/plain": [
       "-(5*x^2 + 59*x + 190)/((x^2 + 12*x + 39)*(x + 5))"
      ]
     },
     "metadata": {},
     "output_type": "display_data"
    },
    {
     "data": {
      "text/html": [
       "<html><script type=\"math/tex; mode=display\">\\newcommand{\\Bold}[1]{\\mathbf{#1}}-\\frac{5 \\, x^{2} - 75 \\, x + 144}{{\\left(x^{2} - 8 \\, x + 24\\right)} {\\left(x + 8\\right)}}</script></html>"
      ],
      "text/plain": [
       "-(5*x^2 - 75*x + 144)/((x^2 - 8*x + 24)*(x + 8))"
      ]
     },
     "metadata": {},
     "output_type": "display_data"
    },
    {
     "data": {
      "text/html": [
       "<html><script type=\"math/tex; mode=display\">\\newcommand{\\Bold}[1]{\\mathbf{#1}}-\\frac{2 \\, {\\left(5 \\, x^{2} + 35 \\, x + 134\\right)}}{{\\left(x^{2} + 10 \\, x + 32\\right)} {\\left(x - 3\\right)}}</script></html>"
      ],
      "text/plain": [
       "-2*(5*x^2 + 35*x + 134)/((x^2 + 10*x + 32)*(x - 3))"
      ]
     },
     "metadata": {},
     "output_type": "display_data"
    },
    {
     "data": {
      "text/html": [
       "<html><script type=\"math/tex; mode=display\">\\newcommand{\\Bold}[1]{\\mathbf{#1}}\\frac{11 \\, x^{2} + 81 \\, x + 220}{{\\left(x^{2} + 14 \\, x + 58\\right)} {\\left(x + 4\\right)}}</script></html>"
      ],
      "text/plain": [
       "(11*x^2 + 81*x + 220)/((x^2 + 14*x + 58)*(x + 4))"
      ]
     },
     "metadata": {},
     "output_type": "display_data"
    },
    {
     "data": {
      "text/html": [
       "<html><script type=\"math/tex; mode=display\">\\newcommand{\\Bold}[1]{\\mathbf{#1}}-\\frac{2 \\, x^{2} - 117 \\, x - 220}{{\\left(x^{2} + 10 \\, x + 26\\right)} {\\left(x - 4\\right)}}</script></html>"
      ],
      "text/plain": [
       "-(2*x^2 - 117*x - 220)/((x^2 + 10*x + 26)*(x - 4))"
      ]
     },
     "metadata": {},
     "output_type": "display_data"
    },
    {
     "data": {
      "text/html": [
       "<html><script type=\"math/tex; mode=display\">\\newcommand{\\Bold}[1]{\\mathbf{#1}}-\\frac{2 \\, {\\left(x^{2} + 12 \\, x + 12\\right)}}{{\\left(x^{2} + 8 \\, x + 24\\right)} {\\left(x - 3\\right)}}</script></html>"
      ],
      "text/plain": [
       "-2*(x^2 + 12*x + 12)/((x^2 + 8*x + 24)*(x - 3))"
      ]
     },
     "metadata": {},
     "output_type": "display_data"
    },
    {
     "data": {
      "text/html": [
       "<html><script type=\"math/tex; mode=display\">\\newcommand{\\Bold}[1]{\\mathbf{#1}}-\\frac{x^{2} - 83 \\, x + 496}{{\\left(x^{2} - 18 \\, x + 86\\right)} {\\left(x - 4\\right)}}</script></html>"
      ],
      "text/plain": [
       "-(x^2 - 83*x + 496)/((x^2 - 18*x + 86)*(x - 4))"
      ]
     },
     "metadata": {},
     "output_type": "display_data"
    },
    {
     "data": {
      "text/html": [
       "<html><script type=\"math/tex; mode=display\">\\newcommand{\\Bold}[1]{\\mathbf{#1}}\\frac{5 \\, x^{2} - 61 \\, x + 166}{{\\left(x^{2} - 8 \\, x + 22\\right)} {\\left(x + 4\\right)}}</script></html>"
      ],
      "text/plain": [
       "(5*x^2 - 61*x + 166)/((x^2 - 8*x + 22)*(x + 4))"
      ]
     },
     "metadata": {},
     "output_type": "display_data"
    },
    {
     "data": {
      "text/html": [
       "<html><script type=\"math/tex; mode=display\">\\newcommand{\\Bold}[1]{\\mathbf{#1}}\\frac{4 \\, {\\left(x^{2} + 36 \\, x + 140\\right)}}{{\\left(x^{2} + 16 \\, x + 70\\right)} {\\left(x - 4\\right)}}</script></html>"
      ],
      "text/plain": [
       "4*(x^2 + 36*x + 140)/((x^2 + 16*x + 70)*(x - 4))"
      ]
     },
     "metadata": {},
     "output_type": "display_data"
    },
    {
     "data": {
      "text/html": [
       "<html><script type=\"math/tex; mode=display\">\\newcommand{\\Bold}[1]{\\mathbf{#1}}-\\frac{5 \\, x^{2} + 125 \\, x + 776}{{\\left(x^{2} + 20 \\, x + 106\\right)} {\\left(x + 9\\right)}}</script></html>"
      ],
      "text/plain": [
       "-(5*x^2 + 125*x + 776)/((x^2 + 20*x + 106)*(x + 9))"
      ]
     },
     "metadata": {},
     "output_type": "display_data"
    },
    {
     "data": {
      "text/html": [
       "<html><script type=\"math/tex; mode=display\">\\newcommand{\\Bold}[1]{\\mathbf{#1}}-\\frac{13 \\, x^{2} + 35 \\, x + 50}{{\\left(x^{2} + 8\\right)} {\\left(x + 6\\right)}}</script></html>"
      ],
      "text/plain": [
       "-(13*x^2 + 35*x + 50)/((x^2 + 8)*(x + 6))"
      ]
     },
     "metadata": {},
     "output_type": "display_data"
    },
    {
     "data": {
      "text/html": [
       "<html><script type=\"math/tex; mode=display\">\\newcommand{\\Bold}[1]{\\mathbf{#1}}\\frac{7 \\, x^{2} + 197 \\, x + 927}{{\\left(x^{2} + 20 \\, x + 107\\right)} {\\left(x - 4\\right)}}</script></html>"
      ],
      "text/plain": [
       "(7*x^2 + 197*x + 927)/((x^2 + 20*x + 107)*(x - 4))"
      ]
     },
     "metadata": {},
     "output_type": "display_data"
    },
    {
     "data": {
      "text/html": [
       "<html><script type=\"math/tex; mode=display\">\\newcommand{\\Bold}[1]{\\mathbf{#1}}\\frac{3 \\, x^{2} + 88 \\, x + 224}{{\\left(x^{2} + 14 \\, x + 52\\right)} {\\left(x - 6\\right)}}</script></html>"
      ],
      "text/plain": [
       "(3*x^2 + 88*x + 224)/((x^2 + 14*x + 52)*(x - 6))"
      ]
     },
     "metadata": {},
     "output_type": "display_data"
    },
    {
     "data": {
      "text/html": [
       "<html><script type=\"math/tex; mode=display\">\\newcommand{\\Bold}[1]{\\mathbf{#1}}-\\frac{3 \\, {\\left(4 \\, x^{2} + 2 \\, x + 27\\right)}}{{\\left(x^{2} - 10 \\, x + 27\\right)} {\\left(x + 4\\right)}}</script></html>"
      ],
      "text/plain": [
       "-3*(4*x^2 + 2*x + 27)/((x^2 - 10*x + 27)*(x + 4))"
      ]
     },
     "metadata": {},
     "output_type": "display_data"
    },
    {
     "data": {
      "text/html": [
       "<html><script type=\"math/tex; mode=display\">\\newcommand{\\Bold}[1]{\\mathbf{#1}}-\\frac{4 \\, x^{2} - 33 \\, x + 141}{{\\left(x^{2} - 18 \\, x + 84\\right)} {\\left(x - 3\\right)}}</script></html>"
      ],
      "text/plain": [
       "-(4*x^2 - 33*x + 141)/((x^2 - 18*x + 84)*(x - 3))"
      ]
     },
     "metadata": {},
     "output_type": "display_data"
    },
    {
     "data": {
      "text/html": [
       "<html><script type=\"math/tex; mode=display\">\\newcommand{\\Bold}[1]{\\mathbf{#1}}-\\frac{2 \\, {\\left(7 \\, x^{2} + 36 \\, x + 80\\right)}}{{\\left(x^{2} + 8 \\, x + 25\\right)} {\\left(x + 3\\right)}}</script></html>"
      ],
      "text/plain": [
       "-2*(7*x^2 + 36*x + 80)/((x^2 + 8*x + 25)*(x + 3))"
      ]
     },
     "metadata": {},
     "output_type": "display_data"
    },
    {
     "data": {
      "text/html": [
       "<html><script type=\"math/tex; mode=display\">\\newcommand{\\Bold}[1]{\\mathbf{#1}}-\\frac{8 \\, x^{2} + 55 \\, x + 21}{{\\left(x^{2} + 4 \\, x + 7\\right)} {\\left(x + 7\\right)}}</script></html>"
      ],
      "text/plain": [
       "-(8*x^2 + 55*x + 21)/((x^2 + 4*x + 7)*(x + 7))"
      ]
     },
     "metadata": {},
     "output_type": "display_data"
    },
    {
     "data": {
      "text/html": [
       "<html><script type=\"math/tex; mode=display\">\\newcommand{\\Bold}[1]{\\mathbf{#1}}-\\frac{8 \\, {\\left(x^{2} + 19 \\, x + 99\\right)}}{{\\left(x^{2} + 20 \\, x + 109\\right)} {\\left(x + 10\\right)}}</script></html>"
      ],
      "text/plain": [
       "-8*(x^2 + 19*x + 99)/((x^2 + 20*x + 109)*(x + 10))"
      ]
     },
     "metadata": {},
     "output_type": "display_data"
    },
    {
     "data": {
      "text/html": [
       "<html><script type=\"math/tex; mode=display\">\\newcommand{\\Bold}[1]{\\mathbf{#1}}\\frac{9 \\, {\\left(2 \\, x^{2} + 21 \\, x + 37\\right)}}{{\\left(x^{2} + 10 \\, x + 27\\right)} {\\left(x + 10\\right)}}</script></html>"
      ],
      "text/plain": [
       "9*(2*x^2 + 21*x + 37)/((x^2 + 10*x + 27)*(x + 10))"
      ]
     },
     "metadata": {},
     "output_type": "display_data"
    },
    {
     "data": {
      "text/html": [
       "<html><script type=\"math/tex; mode=display\">\\newcommand{\\Bold}[1]{\\mathbf{#1}}\\frac{2 \\, x^{2} + 17 \\, x - 7}{{\\left(x^{2} - 4 \\, x + 6\\right)} {\\left(x + 1\\right)}}</script></html>"
      ],
      "text/plain": [
       "(2*x^2 + 17*x - 7)/((x^2 - 4*x + 6)*(x + 1))"
      ]
     },
     "metadata": {},
     "output_type": "display_data"
    },
    {
     "data": {
      "text/html": [
       "<html><script type=\"math/tex; mode=display\">\\newcommand{\\Bold}[1]{\\mathbf{#1}}-\\frac{2 \\, {\\left(2 \\, x^{2} + 3 \\, x + 28\\right)}}{{\\left(x^{2} - 2 \\, x + 7\\right)} {\\left(x + 7\\right)}}</script></html>"
      ],
      "text/plain": [
       "-2*(2*x^2 + 3*x + 28)/((x^2 - 2*x + 7)*(x + 7))"
      ]
     },
     "metadata": {},
     "output_type": "display_data"
    },
    {
     "data": {
      "text/html": [
       "<html><script type=\"math/tex; mode=display\">\\newcommand{\\Bold}[1]{\\mathbf{#1}}\\frac{13 \\, x^{2} + 100 \\, x + 264}{{\\left(x^{2} + 10 \\, x + 32\\right)} {\\left(x + 4\\right)}}</script></html>"
      ],
      "text/plain": [
       "(13*x^2 + 100*x + 264)/((x^2 + 10*x + 32)*(x + 4))"
      ]
     },
     "metadata": {},
     "output_type": "display_data"
    },
    {
     "data": {
      "text/html": [
       "<html><script type=\"math/tex; mode=display\">\\newcommand{\\Bold}[1]{\\mathbf{#1}}\\frac{14 \\, x^{2} + 106 \\, x + 141}{{\\left(x^{2} + 6 \\, x + 11\\right)} {\\left(x + 8\\right)}}</script></html>"
      ],
      "text/plain": [
       "(14*x^2 + 106*x + 141)/((x^2 + 6*x + 11)*(x + 8))"
      ]
     },
     "metadata": {},
     "output_type": "display_data"
    },
    {
     "data": {
      "text/html": [
       "<html><script type=\"math/tex; mode=display\">\\newcommand{\\Bold}[1]{\\mathbf{#1}}-\\frac{12 \\, x^{2} + 7 \\, x + 128}{{\\left(x^{2} + 6 \\, x + 14\\right)} {\\left(x - 6\\right)}}</script></html>"
      ],
      "text/plain": [
       "-(12*x^2 + 7*x + 128)/((x^2 + 6*x + 14)*(x - 6))"
      ]
     },
     "metadata": {},
     "output_type": "display_data"
    },
    {
     "data": {
      "text/html": [
       "<html><script type=\"math/tex; mode=display\">\\newcommand{\\Bold}[1]{\\mathbf{#1}}-\\frac{7 \\, x^{2} + 18 \\, x + 54}{{\\left(x^{2} + 2 \\, x + 9\\right)} {\\left(x + 6\\right)}}</script></html>"
      ],
      "text/plain": [
       "-(7*x^2 + 18*x + 54)/((x^2 + 2*x + 9)*(x + 6))"
      ]
     },
     "metadata": {},
     "output_type": "display_data"
    },
    {
     "data": {
      "text/html": [
       "<html><script type=\"math/tex; mode=display\">\\newcommand{\\Bold}[1]{\\mathbf{#1}}-\\frac{7 \\, x^{2} - 131 \\, x + 465}{{\\left(x^{2} - 14 \\, x + 52\\right)} {\\left(x + 1\\right)}}</script></html>"
      ],
      "text/plain": [
       "-(7*x^2 - 131*x + 465)/((x^2 - 14*x + 52)*(x + 1))"
      ]
     },
     "metadata": {},
     "output_type": "display_data"
    },
    {
     "data": {
      "text/html": [
       "<html><script type=\"math/tex; mode=display\">\\newcommand{\\Bold}[1]{\\mathbf{#1}}\\frac{6 \\, x^{2} - 47 \\, x + 272}{{\\left(x^{2} - 16 \\, x + 66\\right)} {\\left(x + 8\\right)}}</script></html>"
      ],
      "text/plain": [
       "(6*x^2 - 47*x + 272)/((x^2 - 16*x + 66)*(x + 8))"
      ]
     },
     "metadata": {},
     "output_type": "display_data"
    },
    {
     "data": {
      "text/html": [
       "<html><script type=\"math/tex; mode=display\">\\newcommand{\\Bold}[1]{\\mathbf{#1}}-\\frac{15 \\, x^{2} + 47 \\, x + 153}{{\\left(x^{2} + 10 \\, x + 32\\right)} {\\left(x - 1\\right)}}</script></html>"
      ],
      "text/plain": [
       "-(15*x^2 + 47*x + 153)/((x^2 + 10*x + 32)*(x - 1))"
      ]
     },
     "metadata": {},
     "output_type": "display_data"
    },
    {
     "data": {
      "text/html": [
       "<html><script type=\"math/tex; mode=display\">\\newcommand{\\Bold}[1]{\\mathbf{#1}}\\frac{2 \\, x^{2} - 3 \\, x + 45}{{\\left(x^{2} + 8 \\, x + 17\\right)} {\\left(x - 7\\right)}}</script></html>"
      ],
      "text/plain": [
       "(2*x^2 - 3*x + 45)/((x^2 + 8*x + 17)*(x - 7))"
      ]
     },
     "metadata": {},
     "output_type": "display_data"
    },
    {
     "data": {
      "text/html": [
       "<html><script type=\"math/tex; mode=display\">\\newcommand{\\Bold}[1]{\\mathbf{#1}}-\\frac{14 \\, x^{2} + 94 \\, x + 183}{{\\left(x^{2} + 8 \\, x + 24\\right)} {\\left(x + 5\\right)}}</script></html>"
      ],
      "text/plain": [
       "-(14*x^2 + 94*x + 183)/((x^2 + 8*x + 24)*(x + 5))"
      ]
     },
     "metadata": {},
     "output_type": "display_data"
    },
    {
     "data": {
      "text/html": [
       "<html><script type=\"math/tex; mode=display\">\\newcommand{\\Bold}[1]{\\mathbf{#1}}-\\frac{9 \\, x^{2} + 26 \\, x + 91}{{\\left(x^{2} - 12 \\, x + 42\\right)} {\\left(x + 7\\right)}}</script></html>"
      ],
      "text/plain": [
       "-(9*x^2 + 26*x + 91)/((x^2 - 12*x + 42)*(x + 7))"
      ]
     },
     "metadata": {},
     "output_type": "display_data"
    },
    {
     "data": {
      "text/html": [
       "<html><script type=\"math/tex; mode=display\">\\newcommand{\\Bold}[1]{\\mathbf{#1}}\\frac{11 \\, x^{2} + 82 \\, x + 163}{{\\left(x^{2} + 10 \\, x + 29\\right)} {\\left(x + 5\\right)}}</script></html>"
      ],
      "text/plain": [
       "(11*x^2 + 82*x + 163)/((x^2 + 10*x + 29)*(x + 5))"
      ]
     },
     "metadata": {},
     "output_type": "display_data"
    },
    {
     "data": {
      "text/html": [
       "<html><script type=\"math/tex; mode=display\">\\newcommand{\\Bold}[1]{\\mathbf{#1}}-\\frac{8 \\, x^{2} - 52 \\, x + 75}{{\\left(x^{2} + 4\\right)} {\\left(x - 9\\right)}}</script></html>"
      ],
      "text/plain": [
       "-(8*x^2 - 52*x + 75)/((x^2 + 4)*(x - 9))"
      ]
     },
     "metadata": {},
     "output_type": "display_data"
    },
    {
     "data": {
      "text/html": [
       "<html><script type=\"math/tex; mode=display\">\\newcommand{\\Bold}[1]{\\mathbf{#1}}-\\frac{3 \\, x^{2} + 25 \\, x - 197}{{\\left(x^{2} + 12 \\, x + 41\\right)} {\\left(x + 10\\right)}}</script></html>"
      ],
      "text/plain": [
       "-(3*x^2 + 25*x - 197)/((x^2 + 12*x + 41)*(x + 10))"
      ]
     },
     "metadata": {},
     "output_type": "display_data"
    },
    {
     "data": {
      "text/html": [
       "<html><script type=\"math/tex; mode=display\">\\newcommand{\\Bold}[1]{\\mathbf{#1}}-\\frac{3 \\, x^{2} - 5 \\, x - 27}{{\\left(x^{2} - 12 \\, x + 45\\right)} {\\left(x + 8\\right)}}</script></html>"
      ],
      "text/plain": [
       "-(3*x^2 - 5*x - 27)/((x^2 - 12*x + 45)*(x + 8))"
      ]
     },
     "metadata": {},
     "output_type": "display_data"
    },
    {
     "data": {
      "text/html": [
       "<html><script type=\"math/tex; mode=display\">\\newcommand{\\Bold}[1]{\\mathbf{#1}}\\frac{2 \\, x^{2} - 12 \\, x + 133}{{\\left(x^{2} - 6 \\, x + 14\\right)} {\\left(x - 7\\right)}}</script></html>"
      ],
      "text/plain": [
       "(2*x^2 - 12*x + 133)/((x^2 - 6*x + 14)*(x - 7))"
      ]
     },
     "metadata": {},
     "output_type": "display_data"
    },
    {
     "data": {
      "text/html": [
       "<html><script type=\"math/tex; mode=display\">\\newcommand{\\Bold}[1]{\\mathbf{#1}}-\\frac{5 \\, x^{2} - 117 \\, x - 231}{{\\left(x^{2} + 16 \\, x + 68\\right)} {\\left(x - 9\\right)}}</script></html>"
      ],
      "text/plain": [
       "-(5*x^2 - 117*x - 231)/((x^2 + 16*x + 68)*(x - 9))"
      ]
     },
     "metadata": {},
     "output_type": "display_data"
    },
    {
     "data": {
      "text/html": [
       "<html><script type=\"math/tex; mode=display\">\\newcommand{\\Bold}[1]{\\mathbf{#1}}-\\frac{13 \\, x^{2} - 113 \\, x + 434}{{\\left(x^{2} - 18 \\, x + 84\\right)} {\\left(x - 2\\right)}}</script></html>"
      ],
      "text/plain": [
       "-(13*x^2 - 113*x + 434)/((x^2 - 18*x + 84)*(x - 2))"
      ]
     },
     "metadata": {},
     "output_type": "display_data"
    },
    {
     "data": {
      "text/html": [
       "<html><script type=\"math/tex; mode=display\">\\newcommand{\\Bold}[1]{\\mathbf{#1}}-\\frac{9 \\, x^{2} - 21 \\, x + 100}{{\\left(x^{2} - 14 \\, x + 57\\right)} {\\left(x + 2\\right)}}</script></html>"
      ],
      "text/plain": [
       "-(9*x^2 - 21*x + 100)/((x^2 - 14*x + 57)*(x + 2))"
      ]
     },
     "metadata": {},
     "output_type": "display_data"
    },
    {
     "data": {
      "text/html": [
       "<html><script type=\"math/tex; mode=display\">\\newcommand{\\Bold}[1]{\\mathbf{#1}}-\\frac{7 \\, x^{2} - 38 \\, x + 135}{{\\left(x^{2} - 6 \\, x + 15\\right)} {\\left(x - 8\\right)}}</script></html>"
      ],
      "text/plain": [
       "-(7*x^2 - 38*x + 135)/((x^2 - 6*x + 15)*(x - 8))"
      ]
     },
     "metadata": {},
     "output_type": "display_data"
    },
    {
     "data": {
      "text/html": [
       "<html><script type=\"math/tex; mode=display\">\\newcommand{\\Bold}[1]{\\mathbf{#1}}\\frac{11 \\, x^{2} + 26 \\, x + 58}{{\\left(x^{2} - 12 \\, x + 41\\right)} {\\left(x + 6\\right)}}</script></html>"
      ],
      "text/plain": [
       "(11*x^2 + 26*x + 58)/((x^2 - 12*x + 41)*(x + 6))"
      ]
     },
     "metadata": {},
     "output_type": "display_data"
    },
    {
     "data": {
      "text/html": [
       "<html><script type=\"math/tex; mode=display\">\\newcommand{\\Bold}[1]{\\mathbf{#1}}\\frac{2 \\, {\\left(x^{2} + 3 \\, x + 78\\right)}}{{\\left(x^{2} + 8 \\, x + 24\\right)} {\\left(x + 9\\right)}}</script></html>"
      ],
      "text/plain": [
       "2*(x^2 + 3*x + 78)/((x^2 + 8*x + 24)*(x + 9))"
      ]
     },
     "metadata": {},
     "output_type": "display_data"
    },
    {
     "data": {
      "text/html": [
       "<html><script type=\"math/tex; mode=display\">\\newcommand{\\Bold}[1]{\\mathbf{#1}}\\frac{10 \\, x^{2} + 125 \\, x + 457}{{\\left(x^{2} + 14 \\, x + 53\\right)} {\\left(x + 4\\right)}}</script></html>"
      ],
      "text/plain": [
       "(10*x^2 + 125*x + 457)/((x^2 + 14*x + 53)*(x + 4))"
      ]
     },
     "metadata": {},
     "output_type": "display_data"
    },
    {
     "data": {
      "text/html": [
       "<html><script type=\"math/tex; mode=display\">\\newcommand{\\Bold}[1]{\\mathbf{#1}}-\\frac{17 \\, x^{2} + 165 \\, x + 1118}{{\\left(x^{2} + 20 \\, x + 109\\right)} {\\left(x - 4\\right)}}</script></html>"
      ],
      "text/plain": [
       "-(17*x^2 + 165*x + 1118)/((x^2 + 20*x + 109)*(x - 4))"
      ]
     },
     "metadata": {},
     "output_type": "display_data"
    },
    {
     "data": {
      "text/html": [
       "<html><script type=\"math/tex; mode=display\">\\newcommand{\\Bold}[1]{\\mathbf{#1}}-\\frac{x^{2} - 9 \\, x - 3}{{\\left(x^{2} - 12 \\, x + 43\\right)} {\\left(x - 8\\right)}}</script></html>"
      ],
      "text/plain": [
       "-(x^2 - 9*x - 3)/((x^2 - 12*x + 43)*(x - 8))"
      ]
     },
     "metadata": {},
     "output_type": "display_data"
    },
    {
     "data": {
      "text/html": [
       "<html><script type=\"math/tex; mode=display\">\\newcommand{\\Bold}[1]{\\mathbf{#1}}\\frac{2 \\, {\\left(3 \\, x^{2} - 19 \\, x + 2\\right)}}{{\\left(x^{2} - 2 \\, x + 3\\right)} {\\left(x + 10\\right)}}</script></html>"
      ],
      "text/plain": [
       "2*(3*x^2 - 19*x + 2)/((x^2 - 2*x + 3)*(x + 10))"
      ]
     },
     "metadata": {},
     "output_type": "display_data"
    },
    {
     "data": {
      "text/html": [
       "<html><script type=\"math/tex; mode=display\">\\newcommand{\\Bold}[1]{\\mathbf{#1}}\\frac{5 \\, x^{2} + 40 \\, x - 9}{{\\left(x^{2} + 2 \\, x + 9\\right)} {\\left(x - 9\\right)}}</script></html>"
      ],
      "text/plain": [
       "(5*x^2 + 40*x - 9)/((x^2 + 2*x + 9)*(x - 9))"
      ]
     },
     "metadata": {},
     "output_type": "display_data"
    },
    {
     "data": {
      "text/html": [
       "<html><script type=\"math/tex; mode=display\">\\newcommand{\\Bold}[1]{\\mathbf{#1}}-\\frac{8 \\, x^{2} + 65 \\, x + 60}{{\\left(x^{2} + 5\\right)} {\\left(x + 10\\right)}}</script></html>"
      ],
      "text/plain": [
       "-(8*x^2 + 65*x + 60)/((x^2 + 5)*(x + 10))"
      ]
     },
     "metadata": {},
     "output_type": "display_data"
    },
    {
     "data": {
      "text/html": [
       "<html><script type=\"math/tex; mode=display\">\\newcommand{\\Bold}[1]{\\mathbf{#1}}-\\frac{13 \\, x^{2} + 12 \\, x + 63}{{\\left(x^{2} - 4 \\, x + 11\\right)} {\\left(x + 7\\right)}}</script></html>"
      ],
      "text/plain": [
       "-(13*x^2 + 12*x + 63)/((x^2 - 4*x + 11)*(x + 7))"
      ]
     },
     "metadata": {},
     "output_type": "display_data"
    },
    {
     "data": {
      "text/html": [
       "<html><script type=\"math/tex; mode=display\">\\newcommand{\\Bold}[1]{\\mathbf{#1}}\\frac{x^{2} - 60 \\, x + 257}{{\\left(x^{2} - 12 \\, x + 44\\right)} {\\left(x - 1\\right)}}</script></html>"
      ],
      "text/plain": [
       "(x^2 - 60*x + 257)/((x^2 - 12*x + 44)*(x - 1))"
      ]
     },
     "metadata": {},
     "output_type": "display_data"
    },
    {
     "data": {
      "text/html": [
       "<html><script type=\"math/tex; mode=display\">\\newcommand{\\Bold}[1]{\\mathbf{#1}}\\frac{13 \\, x^{2} + 33 \\, x - 10}{{\\left(x^{2} - 2 \\, x + 4\\right)} {\\left(x + 6\\right)}}</script></html>"
      ],
      "text/plain": [
       "(13*x^2 + 33*x - 10)/((x^2 - 2*x + 4)*(x + 6))"
      ]
     },
     "metadata": {},
     "output_type": "display_data"
    },
    {
     "data": {
      "text/html": [
       "<html><script type=\"math/tex; mode=display\">\\newcommand{\\Bold}[1]{\\mathbf{#1}}-\\frac{13 \\, x^{2} + 181 \\, x + 639}{{\\left(x^{2} + 18 \\, x + 90\\right)} {\\left(x + 9\\right)}}</script></html>"
      ],
      "text/plain": [
       "-(13*x^2 + 181*x + 639)/((x^2 + 18*x + 90)*(x + 9))"
      ]
     },
     "metadata": {},
     "output_type": "display_data"
    },
    {
     "data": {
      "text/html": [
       "<html><script type=\"math/tex; mode=display\">\\newcommand{\\Bold}[1]{\\mathbf{#1}}\\frac{5 \\, x^{2} - 39 \\, x - 28}{{\\left(x^{2} + 7\\right)} {\\left(x - 7\\right)}}</script></html>"
      ],
      "text/plain": [
       "(5*x^2 - 39*x - 28)/((x^2 + 7)*(x - 7))"
      ]
     },
     "metadata": {},
     "output_type": "display_data"
    },
    {
     "data": {
      "text/html": [
       "<html><script type=\"math/tex; mode=display\">\\newcommand{\\Bold}[1]{\\mathbf{#1}}-\\frac{5 \\, {\\left(x^{2} - 22 \\, x - 29\\right)}}{{\\left(x^{2} + 10 \\, x + 29\\right)} {\\left(x - 6\\right)}}</script></html>"
      ],
      "text/plain": [
       "-5*(x^2 - 22*x - 29)/((x^2 + 10*x + 29)*(x - 6))"
      ]
     },
     "metadata": {},
     "output_type": "display_data"
    },
    {
     "data": {
      "text/html": [
       "<html><script type=\"math/tex; mode=display\">\\newcommand{\\Bold}[1]{\\mathbf{#1}}-\\frac{x^{2} - 11 \\, x - 22}{{\\left(x^{2} - 6 \\, x + 13\\right)} {\\left(x - 9\\right)}}</script></html>"
      ],
      "text/plain": [
       "-(x^2 - 11*x - 22)/((x^2 - 6*x + 13)*(x - 9))"
      ]
     },
     "metadata": {},
     "output_type": "display_data"
    },
    {
     "data": {
      "text/html": [
       "<html><script type=\"math/tex; mode=display\">\\newcommand{\\Bold}[1]{\\mathbf{#1}}-\\frac{3 \\, x^{2} - 17 \\, x + 48}{{\\left(x^{2} - 10 \\, x + 33\\right)} {\\left(x - 3\\right)}}</script></html>"
      ],
      "text/plain": [
       "-(3*x^2 - 17*x + 48)/((x^2 - 10*x + 33)*(x - 3))"
      ]
     },
     "metadata": {},
     "output_type": "display_data"
    },
    {
     "data": {
      "text/html": [
       "<html><script type=\"math/tex; mode=display\">\\newcommand{\\Bold}[1]{\\mathbf{#1}}-\\frac{16 \\, x^{2} + 89 \\, x + 420}{{\\left(x^{2} + 12 \\, x + 45\\right)} {\\left(x - 6\\right)}}</script></html>"
      ],
      "text/plain": [
       "-(16*x^2 + 89*x + 420)/((x^2 + 12*x + 45)*(x - 6))"
      ]
     },
     "metadata": {},
     "output_type": "display_data"
    },
    {
     "data": {
      "text/html": [
       "<html><script type=\"math/tex; mode=display\">\\newcommand{\\Bold}[1]{\\mathbf{#1}}-\\frac{3 \\, {\\left(x^{2} - 38 \\, x - 143\\right)}}{{\\left(x^{2} + 16 \\, x + 73\\right)} {\\left(x - 1\\right)}}</script></html>"
      ],
      "text/plain": [
       "-3*(x^2 - 38*x - 143)/((x^2 + 16*x + 73)*(x - 1))"
      ]
     },
     "metadata": {},
     "output_type": "display_data"
    },
    {
     "data": {
      "text/html": [
       "<html><script type=\"math/tex; mode=display\">\\newcommand{\\Bold}[1]{\\mathbf{#1}}-\\frac{3 \\, {\\left(x - 3\\right)} {\\left(x - 34\\right)}}{{\\left(x^{2} - 14 \\, x + 51\\right)} {\\left(x + 9\\right)}}</script></html>"
      ],
      "text/plain": [
       "-3*(x - 3)*(x - 34)/((x^2 - 14*x + 51)*(x + 9))"
      ]
     },
     "metadata": {},
     "output_type": "display_data"
    },
    {
     "data": {
      "text/html": [
       "<html><script type=\"math/tex; mode=display\">\\newcommand{\\Bold}[1]{\\mathbf{#1}}\\frac{11 \\, x^{2} - 71 \\, x - 25}{{\\left(x^{2} - 4 \\, x + 5\\right)} {\\left(x - 8\\right)}}</script></html>"
      ],
      "text/plain": [
       "(11*x^2 - 71*x - 25)/((x^2 - 4*x + 5)*(x - 8))"
      ]
     },
     "metadata": {},
     "output_type": "display_data"
    },
    {
     "data": {
      "text/html": [
       "<html><script type=\"math/tex; mode=display\">\\newcommand{\\Bold}[1]{\\mathbf{#1}}\\frac{3 \\, {\\left(4 \\, x^{2} - 26 \\, x + 25\\right)}}{{\\left(x^{2} - 6 \\, x + 13\\right)} {\\left(x - 6\\right)}}</script></html>"
      ],
      "text/plain": [
       "3*(4*x^2 - 26*x + 25)/((x^2 - 6*x + 13)*(x - 6))"
      ]
     },
     "metadata": {},
     "output_type": "display_data"
    },
    {
     "data": {
      "text/html": [
       "<html><script type=\"math/tex; mode=display\">\\newcommand{\\Bold}[1]{\\mathbf{#1}}\\frac{4 \\, {\\left(x^{2} - 3 \\, x + 5\\right)}}{{\\left(x^{2} - 2 \\, x + 10\\right)} {\\left(x + 5\\right)}}</script></html>"
      ],
      "text/plain": [
       "4*(x^2 - 3*x + 5)/((x^2 - 2*x + 10)*(x + 5))"
      ]
     },
     "metadata": {},
     "output_type": "display_data"
    },
    {
     "data": {
      "text/html": [
       "<html><script type=\"math/tex; mode=display\">\\newcommand{\\Bold}[1]{\\mathbf{#1}}\\frac{7 \\, x^{2} + 39 \\, x + 31}{{\\left(x^{2} + 16 \\, x + 66\\right)} {\\left(x + 5\\right)}}</script></html>"
      ],
      "text/plain": [
       "(7*x^2 + 39*x + 31)/((x^2 + 16*x + 66)*(x + 5))"
      ]
     },
     "metadata": {},
     "output_type": "display_data"
    },
    {
     "data": {
      "text/html": [
       "<html><script type=\"math/tex; mode=display\">\\newcommand{\\Bold}[1]{\\mathbf{#1}}-\\frac{{\\left(5 \\, x - 41\\right)} {\\left(x + 1\\right)}}{{\\left(x^{2} - 8 \\, x + 23\\right)} {\\left(x - 7\\right)}}</script></html>"
      ],
      "text/plain": [
       "-(5*x - 41)*(x + 1)/((x^2 - 8*x + 23)*(x - 7))"
      ]
     },
     "metadata": {},
     "output_type": "display_data"
    },
    {
     "data": {
      "text/html": [
       "<html><script type=\"math/tex; mode=display\">\\newcommand{\\Bold}[1]{\\mathbf{#1}}-\\frac{3 \\, {\\left(x^{2} + 8 \\, x + 20\\right)}}{{\\left(x^{2} + 10 \\, x + 32\\right)} {\\left(x + 6\\right)}}</script></html>"
      ],
      "text/plain": [
       "-3*(x^2 + 8*x + 20)/((x^2 + 10*x + 32)*(x + 6))"
      ]
     },
     "metadata": {},
     "output_type": "display_data"
    },
    {
     "data": {
      "text/html": [
       "<html><script type=\"math/tex; mode=display\">\\newcommand{\\Bold}[1]{\\mathbf{#1}}\\frac{6 \\, x^{2} + 21 \\, x - 41}{{\\left(x^{2} - 12 \\, x + 41\\right)} x}</script></html>"
      ],
      "text/plain": [
       "(6*x^2 + 21*x - 41)/((x^2 - 12*x + 41)*x)"
      ]
     },
     "metadata": {},
     "output_type": "display_data"
    },
    {
     "data": {
      "text/html": [
       "<html><script type=\"math/tex; mode=display\">\\newcommand{\\Bold}[1]{\\mathbf{#1}}\\frac{2 \\, x^{2} - 13 \\, x + 60}{{\\left(x^{2} + 2 \\, x + 6\\right)} {\\left(x - 6\\right)}}</script></html>"
      ],
      "text/plain": [
       "(2*x^2 - 13*x + 60)/((x^2 + 2*x + 6)*(x - 6))"
      ]
     },
     "metadata": {},
     "output_type": "display_data"
    },
    {
     "data": {
      "text/html": [
       "<html><script type=\"math/tex; mode=display\">\\newcommand{\\Bold}[1]{\\mathbf{#1}}\\frac{2 \\, x^{2} + 15 \\, x + 8}{{\\left(x^{2} + 4 \\, x + 10\\right)} {\\left(x + 4\\right)}}</script></html>"
      ],
      "text/plain": [
       "(2*x^2 + 15*x + 8)/((x^2 + 4*x + 10)*(x + 4))"
      ]
     },
     "metadata": {},
     "output_type": "display_data"
    },
    {
     "data": {
      "text/html": [
       "<html><script type=\"math/tex; mode=display\">\\newcommand{\\Bold}[1]{\\mathbf{#1}}-\\frac{2 \\, {\\left(6 \\, x^{2} + 7 \\, x + 15\\right)}}{{\\left(x^{2} + 6\\right)} {\\left(x + 2\\right)}}</script></html>"
      ],
      "text/plain": [
       "-2*(6*x^2 + 7*x + 15)/((x^2 + 6)*(x + 2))"
      ]
     },
     "metadata": {},
     "output_type": "display_data"
    },
    {
     "data": {
      "text/html": [
       "<html><script type=\"math/tex; mode=display\">\\newcommand{\\Bold}[1]{\\mathbf{#1}}-\\frac{2 \\, {\\left(5 \\, x^{2} - 57 \\, x + 240\\right)}}{{\\left(x^{2} - 12 \\, x + 45\\right)} {\\left(x + 5\\right)}}</script></html>"
      ],
      "text/plain": [
       "-2*(5*x^2 - 57*x + 240)/((x^2 - 12*x + 45)*(x + 5))"
      ]
     },
     "metadata": {},
     "output_type": "display_data"
    },
    {
     "data": {
      "text/html": [
       "<html><script type=\"math/tex; mode=display\">\\newcommand{\\Bold}[1]{\\mathbf{#1}}-\\frac{2 \\, {\\left(2 \\, x^{2} - 57 \\, x - 68\\right)}}{{\\left(x^{2} + 12 \\, x + 38\\right)} {\\left(x - 8\\right)}}</script></html>"
      ],
      "text/plain": [
       "-2*(2*x^2 - 57*x - 68)/((x^2 + 12*x + 38)*(x - 8))"
      ]
     },
     "metadata": {},
     "output_type": "display_data"
    },
    {
     "data": {
      "text/html": [
       "<html><script type=\"math/tex; mode=display\">\\newcommand{\\Bold}[1]{\\mathbf{#1}}\\frac{9 \\, x^{2} - 22 \\, x + 83}{{\\left(x^{2} - 10 \\, x + 31\\right)} {\\left(x + 9\\right)}}</script></html>"
      ],
      "text/plain": [
       "(9*x^2 - 22*x + 83)/((x^2 - 10*x + 31)*(x + 9))"
      ]
     },
     "metadata": {},
     "output_type": "display_data"
    },
    {
     "data": {
      "text/html": [
       "<html><script type=\"math/tex; mode=display\">\\newcommand{\\Bold}[1]{\\mathbf{#1}}\\frac{7 \\, x^{2} - 3 \\, x + 99}{{\\left(x^{2} + 18 \\, x + 90\\right)} {\\left(x - 3\\right)}}</script></html>"
      ],
      "text/plain": [
       "(7*x^2 - 3*x + 99)/((x^2 + 18*x + 90)*(x - 3))"
      ]
     },
     "metadata": {},
     "output_type": "display_data"
    },
    {
     "data": {
      "text/html": [
       "<html><script type=\"math/tex; mode=display\">\\newcommand{\\Bold}[1]{\\mathbf{#1}}\\frac{x^{2} + 57 \\, x + 80}{{\\left(x^{2} + 6 \\, x + 10\\right)} x}</script></html>"
      ],
      "text/plain": [
       "(x^2 + 57*x + 80)/((x^2 + 6*x + 10)*x)"
      ]
     },
     "metadata": {},
     "output_type": "display_data"
    },
    {
     "data": {
      "text/html": [
       "<html><script type=\"math/tex; mode=display\">\\newcommand{\\Bold}[1]{\\mathbf{#1}}-\\frac{5 \\, x^{2} - 25 \\, x + 56}{{\\left(x^{2} - 4 \\, x + 6\\right)} {\\left(x - 4\\right)}}</script></html>"
      ],
      "text/plain": [
       "-(5*x^2 - 25*x + 56)/((x^2 - 4*x + 6)*(x - 4))"
      ]
     },
     "metadata": {},
     "output_type": "display_data"
    },
    {
     "data": {
      "text/html": [
       "<html><script type=\"math/tex; mode=display\">\\newcommand{\\Bold}[1]{\\mathbf{#1}}\\frac{12 \\, x^{2} + 149 \\, x + 1015}{{\\left(x^{2} + 20 \\, x + 105\\right)} {\\left(x - 7\\right)}}</script></html>"
      ],
      "text/plain": [
       "(12*x^2 + 149*x + 1015)/((x^2 + 20*x + 105)*(x - 7))"
      ]
     },
     "metadata": {},
     "output_type": "display_data"
    },
    {
     "data": {
      "text/html": [
       "<html><script type=\"math/tex; mode=display\">\\newcommand{\\Bold}[1]{\\mathbf{#1}}\\frac{x^{2} - 94 \\, x - 267}{{\\left(x^{2} + 14 \\, x + 51\\right)} {\\left(x - 9\\right)}}</script></html>"
      ],
      "text/plain": [
       "(x^2 - 94*x - 267)/((x^2 + 14*x + 51)*(x - 9))"
      ]
     },
     "metadata": {},
     "output_type": "display_data"
    },
    {
     "data": {
      "text/html": [
       "<html><script type=\"math/tex; mode=display\">\\newcommand{\\Bold}[1]{\\mathbf{#1}}-\\frac{3 \\, {\\left(3 \\, x^{2} + 44 \\, x + 173\\right)}}{{\\left(x^{2} + 14 \\, x + 51\\right)} {\\left(x + 10\\right)}}</script></html>"
      ],
      "text/plain": [
       "-3*(3*x^2 + 44*x + 173)/((x^2 + 14*x + 51)*(x + 10))"
      ]
     },
     "metadata": {},
     "output_type": "display_data"
    },
    {
     "data": {
      "text/html": [
       "<html><script type=\"math/tex; mode=display\">\\newcommand{\\Bold}[1]{\\mathbf{#1}}-\\frac{19 \\, x^{2} + 89 \\, x + 279}{{\\left(x^{2} + 10 \\, x + 31\\right)} x}</script></html>"
      ],
      "text/plain": [
       "-(19*x^2 + 89*x + 279)/((x^2 + 10*x + 31)*x)"
      ]
     },
     "metadata": {},
     "output_type": "display_data"
    },
    {
     "data": {
      "text/html": [
       "<html><script type=\"math/tex; mode=display\">\\newcommand{\\Bold}[1]{\\mathbf{#1}}\\frac{11 \\, x^{2} + 48 \\, x + 36}{{\\left(x^{2} + 4 \\, x + 10\\right)} {\\left(x + 9\\right)}}</script></html>"
      ],
      "text/plain": [
       "(11*x^2 + 48*x + 36)/((x^2 + 4*x + 10)*(x + 9))"
      ]
     },
     "metadata": {},
     "output_type": "display_data"
    },
    {
     "data": {
      "text/html": [
       "<html><script type=\"math/tex; mode=display\">\\newcommand{\\Bold}[1]{\\mathbf{#1}}\\frac{11 \\, x^{2} + 135 \\, x + 704}{{\\left(x^{2} + 18 \\, x + 88\\right)} x}</script></html>"
      ],
      "text/plain": [
       "(11*x^2 + 135*x + 704)/((x^2 + 18*x + 88)*x)"
      ]
     },
     "metadata": {},
     "output_type": "display_data"
    },
    {
     "data": {
      "text/html": [
       "<html><script type=\"math/tex; mode=display\">\\newcommand{\\Bold}[1]{\\mathbf{#1}}-\\frac{5 \\, x^{2} + 13 \\, x + 78}{{\\left(x^{2} + 6\\right)} {\\left(x - 6\\right)}}</script></html>"
      ],
      "text/plain": [
       "-(5*x^2 + 13*x + 78)/((x^2 + 6)*(x - 6))"
      ]
     },
     "metadata": {},
     "output_type": "display_data"
    },
    {
     "data": {
      "text/html": [
       "<html><script type=\"math/tex; mode=display\">\\newcommand{\\Bold}[1]{\\mathbf{#1}}-\\frac{{\\left(2 \\, x - 7\\right)} x}{{\\left(x^{2} + 4\\right)} {\\left(x + 4\\right)}}</script></html>"
      ],
      "text/plain": [
       "-(2*x - 7)*x/((x^2 + 4)*(x + 4))"
      ]
     },
     "metadata": {},
     "output_type": "display_data"
    },
    {
     "data": {
      "text/html": [
       "<html><script type=\"math/tex; mode=display\">\\newcommand{\\Bold}[1]{\\mathbf{#1}}-\\frac{5 \\, x^{2} - 71 \\, x + 164}{{\\left(x^{2} - 8 \\, x + 18\\right)} {\\left(x + 4\\right)}}</script></html>"
      ],
      "text/plain": [
       "-(5*x^2 - 71*x + 164)/((x^2 - 8*x + 18)*(x + 4))"
      ]
     },
     "metadata": {},
     "output_type": "display_data"
    },
    {
     "data": {
      "text/html": [
       "<html><script type=\"math/tex; mode=display\">\\newcommand{\\Bold}[1]{\\mathbf{#1}}-\\frac{17 \\, x^{2} + 101 \\, x + 796}{{\\left(x^{2} + 20 \\, x + 103\\right)} {\\left(x - 7\\right)}}</script></html>"
      ],
      "text/plain": [
       "-(17*x^2 + 101*x + 796)/((x^2 + 20*x + 103)*(x - 7))"
      ]
     },
     "metadata": {},
     "output_type": "display_data"
    },
    {
     "data": {
      "text/html": [
       "<html><script type=\"math/tex; mode=display\">\\newcommand{\\Bold}[1]{\\mathbf{#1}}-\\frac{3 \\, {\\left(4 \\, x^{2} - x + 22\\right)}}{{\\left(x^{2} + 8\\right)} {\\left(x + 2\\right)}}</script></html>"
      ],
      "text/plain": [
       "-3*(4*x^2 - x + 22)/((x^2 + 8)*(x + 2))"
      ]
     },
     "metadata": {},
     "output_type": "display_data"
    },
    {
     "data": {
      "text/html": [
       "<html><script type=\"math/tex; mode=display\">\\newcommand{\\Bold}[1]{\\mathbf{#1}}-\\frac{5 \\, x - 57}{{\\left(x^{2} - 10 \\, x + 33\\right)} {\\left(x - 8\\right)}}</script></html>"
      ],
      "text/plain": [
       "-(5*x - 57)/((x^2 - 10*x + 33)*(x - 8))"
      ]
     },
     "metadata": {},
     "output_type": "display_data"
    },
    {
     "data": {
      "text/html": [
       "<html><script type=\"math/tex; mode=display\">\\newcommand{\\Bold}[1]{\\mathbf{#1}}-\\frac{2 \\, {\\left(10 \\, x^{2} + 6 \\, x + 11\\right)}}{{\\left(x^{2} - 4 \\, x + 7\\right)} {\\left(x + 6\\right)}}</script></html>"
      ],
      "text/plain": [
       "-2*(10*x^2 + 6*x + 11)/((x^2 - 4*x + 7)*(x + 6))"
      ]
     },
     "metadata": {},
     "output_type": "display_data"
    },
    {
     "data": {
      "text/html": [
       "<html><script type=\"math/tex; mode=display\">\\newcommand{\\Bold}[1]{\\mathbf{#1}}\\frac{7 \\, x^{2} + 25 \\, x + 226}{{\\left(x^{2} + 20 \\, x + 108\\right)} {\\left(x - 1\\right)}}</script></html>"
      ],
      "text/plain": [
       "(7*x^2 + 25*x + 226)/((x^2 + 20*x + 108)*(x - 1))"
      ]
     },
     "metadata": {},
     "output_type": "display_data"
    },
    {
     "data": {
      "text/html": [
       "<html><script type=\"math/tex; mode=display\">\\newcommand{\\Bold}[1]{\\mathbf{#1}}\\frac{2 \\, x^{2} + 15 \\, x + 19}{{\\left(x^{2} - 2 \\, x + 3\\right)} {\\left(x - 5\\right)}}</script></html>"
      ],
      "text/plain": [
       "(2*x^2 + 15*x + 19)/((x^2 - 2*x + 3)*(x - 5))"
      ]
     },
     "metadata": {},
     "output_type": "display_data"
    },
    {
     "data": {
      "text/html": [
       "<html><script type=\"math/tex; mode=display\">\\newcommand{\\Bold}[1]{\\mathbf{#1}}\\frac{2 \\, {\\left(x^{2} - 8 \\, x + 25\\right)}}{{\\left(x^{2} - 4 \\, x + 8\\right)} {\\left(x + 3\\right)}}</script></html>"
      ],
      "text/plain": [
       "2*(x^2 - 8*x + 25)/((x^2 - 4*x + 8)*(x + 3))"
      ]
     },
     "metadata": {},
     "output_type": "display_data"
    },
    {
     "data": {
      "text/html": [
       "<html><script type=\"math/tex; mode=display\">\\newcommand{\\Bold}[1]{\\mathbf{#1}}\\frac{13 \\, x^{2} + 161 \\, x + 975}{{\\left(x^{2} + 20 \\, x + 106\\right)} {\\left(x - 3\\right)}}</script></html>"
      ],
      "text/plain": [
       "(13*x^2 + 161*x + 975)/((x^2 + 20*x + 106)*(x - 3))"
      ]
     },
     "metadata": {},
     "output_type": "display_data"
    },
    {
     "data": {
      "text/html": [
       "<html><script type=\"math/tex; mode=display\">\\newcommand{\\Bold}[1]{\\mathbf{#1}}\\frac{13 \\, x^{2} - 114 \\, x + 148}{{\\left(x^{2} - 8 \\, x + 17\\right)} {\\left(x - 8\\right)}}</script></html>"
      ],
      "text/plain": [
       "(13*x^2 - 114*x + 148)/((x^2 - 8*x + 17)*(x - 8))"
      ]
     },
     "metadata": {},
     "output_type": "display_data"
    },
    {
     "data": {
      "text/html": [
       "<html><script type=\"math/tex; mode=display\">\\newcommand{\\Bold}[1]{\\mathbf{#1}}-\\frac{4 \\, x^{2} + 103 \\, x + 199}{{\\left(x^{2} + 8 \\, x + 19\\right)} {\\left(x - 7\\right)}}</script></html>"
      ],
      "text/plain": [
       "-(4*x^2 + 103*x + 199)/((x^2 + 8*x + 19)*(x - 7))"
      ]
     },
     "metadata": {},
     "output_type": "display_data"
    },
    {
     "data": {
      "text/html": [
       "<html><script type=\"math/tex; mode=display\">\\newcommand{\\Bold}[1]{\\mathbf{#1}}\\frac{2 \\, {\\left(29 \\, x + 239\\right)}}{{\\left(x^{2} + 14 \\, x + 58\\right)} {\\left(x + 7\\right)}}</script></html>"
      ],
      "text/plain": [
       "2*(29*x + 239)/((x^2 + 14*x + 58)*(x + 7))"
      ]
     },
     "metadata": {},
     "output_type": "display_data"
    },
    {
     "data": {
      "text/html": [
       "<html><script type=\"math/tex; mode=display\">\\newcommand{\\Bold}[1]{\\mathbf{#1}}\\frac{4 \\, x^{2} - 39 \\, x - 121}{{\\left(x^{2} + 10 \\, x + 28\\right)} {\\left(x - 1\\right)}}</script></html>"
      ],
      "text/plain": [
       "(4*x^2 - 39*x - 121)/((x^2 + 10*x + 28)*(x - 1))"
      ]
     },
     "metadata": {},
     "output_type": "display_data"
    },
    {
     "data": {
      "text/html": [
       "<html><script type=\"math/tex; mode=display\">\\newcommand{\\Bold}[1]{\\mathbf{#1}}-\\frac{11 \\, x^{2} + 46 \\, x + 199}{{\\left(x^{2} + 8 \\, x + 23\\right)} {\\left(x - 5\\right)}}</script></html>"
      ],
      "text/plain": [
       "-(11*x^2 + 46*x + 199)/((x^2 + 8*x + 23)*(x - 5))"
      ]
     },
     "metadata": {},
     "output_type": "display_data"
    },
    {
     "data": {
      "text/html": [
       "<html><script type=\"math/tex; mode=display\">\\newcommand{\\Bold}[1]{\\mathbf{#1}}\\frac{2 \\, {\\left(3 \\, x^{2} + 35 \\, x + 124\\right)}}{{\\left(x^{2} + 14 \\, x + 56\\right)} {\\left(x + 3\\right)}}</script></html>"
      ],
      "text/plain": [
       "2*(3*x^2 + 35*x + 124)/((x^2 + 14*x + 56)*(x + 3))"
      ]
     },
     "metadata": {},
     "output_type": "display_data"
    },
    {
     "data": {
      "text/html": [
       "<html><script type=\"math/tex; mode=display\">\\newcommand{\\Bold}[1]{\\mathbf{#1}}\\frac{4 \\, {\\left(3 \\, x^{2} + 5 \\, x + 26\\right)}}{{\\left(x^{2} - 8 \\, x + 20\\right)} {\\left(x + 6\\right)}}</script></html>"
      ],
      "text/plain": [
       "4*(3*x^2 + 5*x + 26)/((x^2 - 8*x + 20)*(x + 6))"
      ]
     },
     "metadata": {},
     "output_type": "display_data"
    },
    {
     "data": {
      "text/html": [
       "<html><script type=\"math/tex; mode=display\">\\newcommand{\\Bold}[1]{\\mathbf{#1}}\\frac{4 \\, x^{2} + 18 \\, x - 57}{{\\left(x^{2} - 14 \\, x + 57\\right)} x}</script></html>"
      ],
      "text/plain": [
       "(4*x^2 + 18*x - 57)/((x^2 - 14*x + 57)*x)"
      ]
     },
     "metadata": {},
     "output_type": "display_data"
    },
    {
     "data": {
      "text/html": [
       "<html><script type=\"math/tex; mode=display\">\\newcommand{\\Bold}[1]{\\mathbf{#1}}-\\frac{5 \\, x^{2} + 36 \\, x + 108}{{\\left(x^{2} + 20 \\, x + 108\\right)} {\\left(x + 4\\right)}}</script></html>"
      ],
      "text/plain": [
       "-(5*x^2 + 36*x + 108)/((x^2 + 20*x + 108)*(x + 4))"
      ]
     },
     "metadata": {},
     "output_type": "display_data"
    },
    {
     "data": {
      "text/html": [
       "<html><script type=\"math/tex; mode=display\">\\newcommand{\\Bold}[1]{\\mathbf{#1}}\\frac{16 \\, x^{2} - 106 \\, x + 385}{{\\left(x^{2} - 14 \\, x + 55\\right)} x}</script></html>"
      ],
      "text/plain": [
       "(16*x^2 - 106*x + 385)/((x^2 - 14*x + 55)*x)"
      ]
     },
     "metadata": {},
     "output_type": "display_data"
    },
    {
     "data": {
      "text/html": [
       "<html><script type=\"math/tex; mode=display\">\\newcommand{\\Bold}[1]{\\mathbf{#1}}\\frac{5 \\, x^{2} + 63 \\, x + 226}{{\\left(x^{2} + 16 \\, x + 67\\right)} {\\left(x - 7\\right)}}</script></html>"
      ],
      "text/plain": [
       "(5*x^2 + 63*x + 226)/((x^2 + 16*x + 67)*(x - 7))"
      ]
     },
     "metadata": {},
     "output_type": "display_data"
    },
    {
     "data": {
      "text/html": [
       "<html><script type=\"math/tex; mode=display\">\\newcommand{\\Bold}[1]{\\mathbf{#1}}-\\frac{4 \\, x^{2} + 16 \\, x + 5}{{\\left(x^{2} + 7\\right)} {\\left(x + 2\\right)}}</script></html>"
      ],
      "text/plain": [
       "-(4*x^2 + 16*x + 5)/((x^2 + 7)*(x + 2))"
      ]
     },
     "metadata": {},
     "output_type": "display_data"
    },
    {
     "data": {
      "text/html": [
       "<html><script type=\"math/tex; mode=display\">\\newcommand{\\Bold}[1]{\\mathbf{#1}}\\frac{9 \\, x^{2} + 22 \\, x + 88}{{\\left(x^{2} + 4 \\, x + 9\\right)} {\\left(x - 8\\right)}}</script></html>"
      ],
      "text/plain": [
       "(9*x^2 + 22*x + 88)/((x^2 + 4*x + 9)*(x - 8))"
      ]
     },
     "metadata": {},
     "output_type": "display_data"
    },
    {
     "data": {
      "text/html": [
       "<html><script type=\"math/tex; mode=display\">\\newcommand{\\Bold}[1]{\\mathbf{#1}}-\\frac{6 \\, x^{2} + 8 \\, x - 39}{{\\left(x^{2} - 4 \\, x + 13\\right)} x}</script></html>"
      ],
      "text/plain": [
       "-(6*x^2 + 8*x - 39)/((x^2 - 4*x + 13)*x)"
      ]
     },
     "metadata": {},
     "output_type": "display_data"
    },
    {
     "data": {
      "text/html": [
       "<html><script type=\"math/tex; mode=display\">\\newcommand{\\Bold}[1]{\\mathbf{#1}}\\frac{4 \\, {\\left(3 \\, x^{2} - 19 \\, x - 9\\right)}}{{\\left(x^{2} + 3\\right)} {\\left(x - 9\\right)}}</script></html>"
      ],
      "text/plain": [
       "4*(3*x^2 - 19*x - 9)/((x^2 + 3)*(x - 9))"
      ]
     },
     "metadata": {},
     "output_type": "display_data"
    },
    {
     "data": {
      "text/html": [
       "<html><script type=\"math/tex; mode=display\">\\newcommand{\\Bold}[1]{\\mathbf{#1}}-\\frac{5 \\, {\\left(2 \\, x^{2} - 7 \\, x + 12\\right)}}{{\\left(x^{2} - 2 \\, x + 6\\right)} {\\left(x - 6\\right)}}</script></html>"
      ],
      "text/plain": [
       "-5*(2*x^2 - 7*x + 12)/((x^2 - 2*x + 6)*(x - 6))"
      ]
     },
     "metadata": {},
     "output_type": "display_data"
    },
    {
     "data": {
      "text/html": [
       "<html><script type=\"math/tex; mode=display\">\\newcommand{\\Bold}[1]{\\mathbf{#1}}-\\frac{4 \\, x^{2} - 85 \\, x + 497}{{\\left(x^{2} - 16 \\, x + 70\\right)} {\\left(x - 9\\right)}}</script></html>"
      ],
      "text/plain": [
       "-(4*x^2 - 85*x + 497)/((x^2 - 16*x + 70)*(x - 9))"
      ]
     },
     "metadata": {},
     "output_type": "display_data"
    },
    {
     "data": {
      "text/html": [
       "<html><script type=\"math/tex; mode=display\">\\newcommand{\\Bold}[1]{\\mathbf{#1}}\\frac{{\\left(7 \\, x + 23\\right)} {\\left(x - 3\\right)}}{{\\left(x^{2} - 16 \\, x + 65\\right)} {\\left(x - 2\\right)}}</script></html>"
      ],
      "text/plain": [
       "(7*x + 23)*(x - 3)/((x^2 - 16*x + 65)*(x - 2))"
      ]
     },
     "metadata": {},
     "output_type": "display_data"
    },
    {
     "data": {
      "text/html": [
       "<html><script type=\"math/tex; mode=display\">\\newcommand{\\Bold}[1]{\\mathbf{#1}}\\frac{7 \\, {\\left(x + 11\\right)} {\\left(x + 6\\right)}}{{\\left(x^{2} + 16 \\, x + 67\\right)} {\\left(x - 1\\right)}}</script></html>"
      ],
      "text/plain": [
       "7*(x + 11)*(x + 6)/((x^2 + 16*x + 67)*(x - 1))"
      ]
     },
     "metadata": {},
     "output_type": "display_data"
    },
    {
     "data": {
      "text/html": [
       "<html><script type=\"math/tex; mode=display\">\\newcommand{\\Bold}[1]{\\mathbf{#1}}\\frac{11 \\, x^{2} - 53 \\, x + 117}{{\\left(x^{2} - 6 \\, x + 18\\right)} {\\left(x + 5\\right)}}</script></html>"
      ],
      "text/plain": [
       "(11*x^2 - 53*x + 117)/((x^2 - 6*x + 18)*(x + 5))"
      ]
     },
     "metadata": {},
     "output_type": "display_data"
    },
    {
     "data": {
      "text/html": [
       "<html><script type=\"math/tex; mode=display\">\\newcommand{\\Bold}[1]{\\mathbf{#1}}-\\frac{16 \\, x^{2} + 70 \\, x + 157}{{\\left(x^{2} + 8 \\, x + 18\\right)} {\\left(x - 1\\right)}}</script></html>"
      ],
      "text/plain": [
       "-(16*x^2 + 70*x + 157)/((x^2 + 8*x + 18)*(x - 1))"
      ]
     },
     "metadata": {},
     "output_type": "display_data"
    },
    {
     "data": {
      "text/html": [
       "<html><script type=\"math/tex; mode=display\">\\newcommand{\\Bold}[1]{\\mathbf{#1}}-\\frac{3 \\, {\\left(11 \\, x + 26\\right)}}{{\\left(x^{2} + 4 \\, x + 13\\right)} x}</script></html>"
      ],
      "text/plain": [
       "-3*(11*x + 26)/((x^2 + 4*x + 13)*x)"
      ]
     },
     "metadata": {},
     "output_type": "display_data"
    },
    {
     "data": {
      "text/html": [
       "<html><script type=\"math/tex; mode=display\">\\newcommand{\\Bold}[1]{\\mathbf{#1}}\\frac{4 \\, x^{2} - 141 \\, x + 564}{{\\left(x^{2} - 16 \\, x + 69\\right)} {\\left(x + 4\\right)}}</script></html>"
      ],
      "text/plain": [
       "(4*x^2 - 141*x + 564)/((x^2 - 16*x + 69)*(x + 4))"
      ]
     },
     "metadata": {},
     "output_type": "display_data"
    },
    {
     "data": {
      "text/html": [
       "<html><script type=\"math/tex; mode=display\">\\newcommand{\\Bold}[1]{\\mathbf{#1}}-\\frac{x^{2} + 58 \\, x + 160}{{\\left(x^{2} + 10 \\, x + 32\\right)} {\\left(x - 2\\right)}}</script></html>"
      ],
      "text/plain": [
       "-(x^2 + 58*x + 160)/((x^2 + 10*x + 32)*(x - 2))"
      ]
     },
     "metadata": {},
     "output_type": "display_data"
    },
    {
     "data": {
      "text/html": [
       "<html><script type=\"math/tex; mode=display\">\\newcommand{\\Bold}[1]{\\mathbf{#1}}\\frac{2 \\, {\\left(8 \\, x^{2} - 19 \\, x + 298\\right)}}{{\\left(x^{2} - 18 \\, x + 88\\right)} {\\left(x + 10\\right)}}</script></html>"
      ],
      "text/plain": [
       "2*(8*x^2 - 19*x + 298)/((x^2 - 18*x + 88)*(x + 10))"
      ]
     },
     "metadata": {},
     "output_type": "display_data"
    },
    {
     "data": {
      "text/html": [
       "<html><script type=\"math/tex; mode=display\">\\newcommand{\\Bold}[1]{\\mathbf{#1}}-\\frac{11 \\, x^{2} - 71 \\, x + 198}{{\\left(x^{2} - 8 \\, x + 19\\right)} {\\left(x + 8\\right)}}</script></html>"
      ],
      "text/plain": [
       "-(11*x^2 - 71*x + 198)/((x^2 - 8*x + 19)*(x + 8))"
      ]
     },
     "metadata": {},
     "output_type": "display_data"
    },
    {
     "data": {
      "text/html": [
       "<html><script type=\"math/tex; mode=display\">\\newcommand{\\Bold}[1]{\\mathbf{#1}}-\\frac{9 \\, x^{2} + 32 \\, x + 171}{{\\left(x^{2} + 18 \\, x + 87\\right)} {\\left(x - 1\\right)}}</script></html>"
      ],
      "text/plain": [
       "-(9*x^2 + 32*x + 171)/((x^2 + 18*x + 87)*(x - 1))"
      ]
     },
     "metadata": {},
     "output_type": "display_data"
    },
    {
     "data": {
      "text/html": [
       "<html><script type=\"math/tex; mode=display\">\\newcommand{\\Bold}[1]{\\mathbf{#1}}\\frac{2 \\, {\\left(3 \\, x^{2} - 19 \\, x + 41\\right)}}{{\\left(x^{2} - 8 \\, x + 18\\right)} {\\left(x + 4\\right)}}</script></html>"
      ],
      "text/plain": [
       "2*(3*x^2 - 19*x + 41)/((x^2 - 8*x + 18)*(x + 4))"
      ]
     },
     "metadata": {},
     "output_type": "display_data"
    },
    {
     "data": {
      "text/html": [
       "<html><script type=\"math/tex; mode=display\">\\newcommand{\\Bold}[1]{\\mathbf{#1}}\\frac{5 \\, x^{2} + 6 \\, x + 10}{{\\left(x^{2} + 6\\right)} {\\left(x + 4\\right)}}</script></html>"
      ],
      "text/plain": [
       "(5*x^2 + 6*x + 10)/((x^2 + 6)*(x + 4))"
      ]
     },
     "metadata": {},
     "output_type": "display_data"
    },
    {
     "data": {
      "text/html": [
       "<html><script type=\"math/tex; mode=display\">\\newcommand{\\Bold}[1]{\\mathbf{#1}}-\\frac{10 \\, x^{2} - 109 \\, x + 518}{{\\left(x^{2} - 16 \\, x + 66\\right)} {\\left(x + 10\\right)}}</script></html>"
      ],
      "text/plain": [
       "-(10*x^2 - 109*x + 518)/((x^2 - 16*x + 66)*(x + 10))"
      ]
     },
     "metadata": {},
     "output_type": "display_data"
    },
    {
     "data": {
      "text/html": [
       "<html><script type=\"math/tex; mode=display\">\\newcommand{\\Bold}[1]{\\mathbf{#1}}-\\frac{2 \\, {\\left(6 \\, x^{2} + 59 \\, x + 220\\right)}}{{\\left(x^{2} + 12 \\, x + 44\\right)} x}</script></html>"
      ],
      "text/plain": [
       "-2*(6*x^2 + 59*x + 220)/((x^2 + 12*x + 44)*x)"
      ]
     },
     "metadata": {},
     "output_type": "display_data"
    },
    {
     "data": {
      "text/html": [
       "<html><script type=\"math/tex; mode=display\">\\newcommand{\\Bold}[1]{\\mathbf{#1}}\\frac{{\\left(x + 7\\right)} x}{{\\left(x^{2} + 2 \\, x + 5\\right)} {\\left(x + 2\\right)}}</script></html>"
      ],
      "text/plain": [
       "(x + 7)*x/((x^2 + 2*x + 5)*(x + 2))"
      ]
     },
     "metadata": {},
     "output_type": "display_data"
    },
    {
     "data": {
      "text/html": [
       "<html><script type=\"math/tex; mode=display\">\\newcommand{\\Bold}[1]{\\mathbf{#1}}-\\frac{7 \\, x^{2} - 180 \\, x + 900}{{\\left(x^{2} - 18 \\, x + 90\\right)} x}</script></html>"
      ],
      "text/plain": [
       "-(7*x^2 - 180*x + 900)/((x^2 - 18*x + 90)*x)"
      ]
     },
     "metadata": {},
     "output_type": "display_data"
    },
    {
     "data": {
      "text/html": [
       "<html><script type=\"math/tex; mode=display\">\\newcommand{\\Bold}[1]{\\mathbf{#1}}-\\frac{x^{2} - 69 \\, x + 48}{{\\left(x^{2} - 6 \\, x + 11\\right)} {\\left(x + 6\\right)}}</script></html>"
      ],
      "text/plain": [
       "-(x^2 - 69*x + 48)/((x^2 - 6*x + 11)*(x + 6))"
      ]
     },
     "metadata": {},
     "output_type": "display_data"
    },
    {
     "data": {
      "text/html": [
       "<html><script type=\"math/tex; mode=display\">\\newcommand{\\Bold}[1]{\\mathbf{#1}}-\\frac{2 \\, x^{2} + 31 \\, x + 36}{{\\left(x^{2} + 12 \\, x + 39\\right)} {\\left(x - 6\\right)}}</script></html>"
      ],
      "text/plain": [
       "-(2*x^2 + 31*x + 36)/((x^2 + 12*x + 39)*(x - 6))"
      ]
     },
     "metadata": {},
     "output_type": "display_data"
    },
    {
     "data": {
      "text/html": [
       "<html><script type=\"math/tex; mode=display\">\\newcommand{\\Bold}[1]{\\mathbf{#1}}\\frac{5 \\, x^{2} - 51 \\, x + 180}{{\\left(x^{2} - 16 \\, x + 69\\right)} {\\left(x + 3\\right)}}</script></html>"
      ],
      "text/plain": [
       "(5*x^2 - 51*x + 180)/((x^2 - 16*x + 69)*(x + 3))"
      ]
     },
     "metadata": {},
     "output_type": "display_data"
    },
    {
     "data": {
      "text/html": [
       "<html><script type=\"math/tex; mode=display\">\\newcommand{\\Bold}[1]{\\mathbf{#1}}\\frac{5 \\, x^{2} - 21 \\, x - 14}{{\\left(x^{2} + 10 \\, x + 31\\right)} {\\left(x - 9\\right)}}</script></html>"
      ],
      "text/plain": [
       "(5*x^2 - 21*x - 14)/((x^2 + 10*x + 31)*(x - 9))"
      ]
     },
     "metadata": {},
     "output_type": "display_data"
    },
    {
     "data": {
      "text/html": [
       "<html><script type=\"math/tex; mode=display\">\\newcommand{\\Bold}[1]{\\mathbf{#1}}-\\frac{2 \\, x^{2} + 111 \\, x + 561}{{\\left(x^{2} + 18 \\, x + 89\\right)} {\\left(x - 3\\right)}}</script></html>"
      ],
      "text/plain": [
       "-(2*x^2 + 111*x + 561)/((x^2 + 18*x + 89)*(x - 3))"
      ]
     },
     "metadata": {},
     "output_type": "display_data"
    },
    {
     "data": {
      "text/html": [
       "<html><script type=\"math/tex; mode=display\">\\newcommand{\\Bold}[1]{\\mathbf{#1}}-\\frac{7 \\, x^{2} - 44 \\, x + 137}{{\\left(x^{2} - 10 \\, x + 29\\right)} {\\left(x - 1\\right)}}</script></html>"
      ],
      "text/plain": [
       "-(7*x^2 - 44*x + 137)/((x^2 - 10*x + 29)*(x - 1))"
      ]
     },
     "metadata": {},
     "output_type": "display_data"
    },
    {
     "data": {
      "text/html": [
       "<html><script type=\"math/tex; mode=display\">\\newcommand{\\Bold}[1]{\\mathbf{#1}}\\frac{11 \\, x - 201}{{\\left(x^{2} - 10 \\, x + 26\\right)} {\\left(x - 9\\right)}}</script></html>"
      ],
      "text/plain": [
       "(11*x - 201)/((x^2 - 10*x + 26)*(x - 9))"
      ]
     },
     "metadata": {},
     "output_type": "display_data"
    },
    {
     "data": {
      "text/html": [
       "<html><script type=\"math/tex; mode=display\">\\newcommand{\\Bold}[1]{\\mathbf{#1}}\\frac{9 \\, x^{2} - 9 \\, x + 80}{{\\left(x^{2} - 12 \\, x + 39\\right)} {\\left(x + 2\\right)}}</script></html>"
      ],
      "text/plain": [
       "(9*x^2 - 9*x + 80)/((x^2 - 12*x + 39)*(x + 2))"
      ]
     },
     "metadata": {},
     "output_type": "display_data"
    },
    {
     "data": {
      "text/html": [
       "<html><script type=\"math/tex; mode=display\">\\newcommand{\\Bold}[1]{\\mathbf{#1}}-\\frac{3 \\, x^{2} - x + 16}{{\\left(x^{2} + 8\\right)} {\\left(x - 1\\right)}}</script></html>"
      ],
      "text/plain": [
       "-(3*x^2 - x + 16)/((x^2 + 8)*(x - 1))"
      ]
     },
     "metadata": {},
     "output_type": "display_data"
    },
    {
     "data": {
      "text/html": [
       "<html><script type=\"math/tex; mode=display\">\\newcommand{\\Bold}[1]{\\mathbf{#1}}-\\frac{x^{2} + 145 \\, x - 414}{{\\left(x^{2} - 14 \\, x + 54\\right)} {\\left(x + 10\\right)}}</script></html>"
      ],
      "text/plain": [
       "-(x^2 + 145*x - 414)/((x^2 - 14*x + 54)*(x + 10))"
      ]
     },
     "metadata": {},
     "output_type": "display_data"
    },
    {
     "data": {
      "text/html": [
       "<html><script type=\"math/tex; mode=display\">\\newcommand{\\Bold}[1]{\\mathbf{#1}}\\frac{5 \\, x^{2} + 106 \\, x - 99}{{\\left(x^{2} - 10 \\, x + 30\\right)} {\\left(x + 7\\right)}}</script></html>"
      ],
      "text/plain": [
       "(5*x^2 + 106*x - 99)/((x^2 - 10*x + 30)*(x + 7))"
      ]
     },
     "metadata": {},
     "output_type": "display_data"
    },
    {
     "data": {
      "text/html": [
       "<html><script type=\"math/tex; mode=display\">\\newcommand{\\Bold}[1]{\\mathbf{#1}}\\frac{7 \\, x^{2} + 118 \\, x + 532}{{\\left(x^{2} + 18 \\, x + 86\\right)} {\\left(x + 8\\right)}}</script></html>"
      ],
      "text/plain": [
       "(7*x^2 + 118*x + 532)/((x^2 + 18*x + 86)*(x + 8))"
      ]
     },
     "metadata": {},
     "output_type": "display_data"
    },
    {
     "data": {
      "text/html": [
       "<html><script type=\"math/tex; mode=display\">\\newcommand{\\Bold}[1]{\\mathbf{#1}}-\\frac{15 \\, x^{2} - 131 \\, x + 468}{{\\left(x^{2} - 14 \\, x + 52\\right)} x}</script></html>"
      ],
      "text/plain": [
       "-(15*x^2 - 131*x + 468)/((x^2 - 14*x + 52)*x)"
      ]
     },
     "metadata": {},
     "output_type": "display_data"
    },
    {
     "data": {
      "text/html": [
       "<html><script type=\"math/tex; mode=display\">\\newcommand{\\Bold}[1]{\\mathbf{#1}}\\frac{7 \\, x^{2} - 61 \\, x + 93}{{\\left(x^{2} - 10 \\, x + 30\\right)} {\\left(x - 7\\right)}}</script></html>"
      ],
      "text/plain": [
       "(7*x^2 - 61*x + 93)/((x^2 - 10*x + 30)*(x - 7))"
      ]
     },
     "metadata": {},
     "output_type": "display_data"
    },
    {
     "data": {
      "text/html": [
       "<html><script type=\"math/tex; mode=display\">\\newcommand{\\Bold}[1]{\\mathbf{#1}}-\\frac{7 \\, x^{2} - 42 \\, x - 219}{{\\left(x^{2} + 16 \\, x + 73\\right)} x}</script></html>"
      ],
      "text/plain": [
       "-(7*x^2 - 42*x - 219)/((x^2 + 16*x + 73)*x)"
      ]
     },
     "metadata": {},
     "output_type": "display_data"
    },
    {
     "data": {
      "text/html": [
       "<html><script type=\"math/tex; mode=display\">\\newcommand{\\Bold}[1]{\\mathbf{#1}}-\\frac{2 \\, {\\left(x^{2} - 47 \\, x + 256\\right)}}{{\\left(x^{2} - 18 \\, x + 87\\right)} {\\left(x - 1\\right)}}</script></html>"
      ],
      "text/plain": [
       "-2*(x^2 - 47*x + 256)/((x^2 - 18*x + 87)*(x - 1))"
      ]
     },
     "metadata": {},
     "output_type": "display_data"
    },
    {
     "data": {
      "text/html": [
       "<html><script type=\"math/tex; mode=display\">\\newcommand{\\Bold}[1]{\\mathbf{#1}}\\frac{x^{2} - 8 \\, x + 167}{{\\left(x^{2} - 10 \\, x + 31\\right)} {\\left(x - 9\\right)}}</script></html>"
      ],
      "text/plain": [
       "(x^2 - 8*x + 167)/((x^2 - 10*x + 31)*(x - 9))"
      ]
     },
     "metadata": {},
     "output_type": "display_data"
    },
    {
     "data": {
      "text/html": [
       "<html><script type=\"math/tex; mode=display\">\\newcommand{\\Bold}[1]{\\mathbf{#1}}\\frac{5 \\, x^{2} - 21 \\, x + 2}{{\\left(x^{2} + 8\\right)} {\\left(x + 6\\right)}}</script></html>"
      ],
      "text/plain": [
       "(5*x^2 - 21*x + 2)/((x^2 + 8)*(x + 6))"
      ]
     },
     "metadata": {},
     "output_type": "display_data"
    },
    {
     "data": {
      "text/html": [
       "<html><script type=\"math/tex; mode=display\">\\newcommand{\\Bold}[1]{\\mathbf{#1}}\\frac{10 \\, x^{2} - 31 \\, x + 120}{{\\left(x^{2} - 12 \\, x + 37\\right)} {\\left(x + 4\\right)}}</script></html>"
      ],
      "text/plain": [
       "(10*x^2 - 31*x + 120)/((x^2 - 12*x + 37)*(x + 4))"
      ]
     },
     "metadata": {},
     "output_type": "display_data"
    },
    {
     "data": {
      "text/html": [
       "<html><script type=\"math/tex; mode=display\">\\newcommand{\\Bold}[1]{\\mathbf{#1}}-\\frac{11 \\, x^{2} + 47 \\, x + 66}{{\\left(x^{2} + 4 \\, x + 8\\right)} {\\left(x + 6\\right)}}</script></html>"
      ],
      "text/plain": [
       "-(11*x^2 + 47*x + 66)/((x^2 + 4*x + 8)*(x + 6))"
      ]
     },
     "metadata": {},
     "output_type": "display_data"
    },
    {
     "data": {
      "text/html": [
       "<html><script type=\"math/tex; mode=display\">\\newcommand{\\Bold}[1]{\\mathbf{#1}}\\frac{2 \\, x^{2} - 27 \\, x - 31}{{\\left(x^{2} + 2 \\, x + 5\\right)} {\\left(x - 1\\right)}}</script></html>"
      ],
      "text/plain": [
       "(2*x^2 - 27*x - 31)/((x^2 + 2*x + 5)*(x - 1))"
      ]
     },
     "metadata": {},
     "output_type": "display_data"
    },
    {
     "data": {
      "text/html": [
       "<html><script type=\"math/tex; mode=display\">\\newcommand{\\Bold}[1]{\\mathbf{#1}}\\frac{9 \\, x^{2} - 68 \\, x + 332}{{\\left(x^{2} - 12 \\, x + 44\\right)} {\\left(x + 6\\right)}}</script></html>"
      ],
      "text/plain": [
       "(9*x^2 - 68*x + 332)/((x^2 - 12*x + 44)*(x + 6))"
      ]
     },
     "metadata": {},
     "output_type": "display_data"
    },
    {
     "data": {
      "text/html": [
       "<html><script type=\"math/tex; mode=display\">\\newcommand{\\Bold}[1]{\\mathbf{#1}}\\frac{13 \\, x^{2} + 11 \\, x + 90}{{\\left(x^{2} + 6 \\, x + 17\\right)} {\\left(x - 4\\right)}}</script></html>"
      ],
      "text/plain": [
       "(13*x^2 + 11*x + 90)/((x^2 + 6*x + 17)*(x - 4))"
      ]
     },
     "metadata": {},
     "output_type": "display_data"
    },
    {
     "data": {
      "text/html": [
       "<html><script type=\"math/tex; mode=display\">\\newcommand{\\Bold}[1]{\\mathbf{#1}}-\\frac{2 \\, {\\left(3 \\, x^{2} + 28 \\, x + 71\\right)}}{{\\left(x^{2} + 18 \\, x + 83\\right)} {\\left(x + 6\\right)}}</script></html>"
      ],
      "text/plain": [
       "-2*(3*x^2 + 28*x + 71)/((x^2 + 18*x + 83)*(x + 6))"
      ]
     },
     "metadata": {},
     "output_type": "display_data"
    },
    {
     "data": {
      "text/html": [
       "<html><script type=\"math/tex; mode=display\">\\newcommand{\\Bold}[1]{\\mathbf{#1}}-\\frac{7 \\, x^{2} - 53 \\, x - 88}{{\\left(x^{2} + 8 \\, x + 24\\right)} {\\left(x - 5\\right)}}</script></html>"
      ],
      "text/plain": [
       "-(7*x^2 - 53*x - 88)/((x^2 + 8*x + 24)*(x - 5))"
      ]
     },
     "metadata": {},
     "output_type": "display_data"
    },
    {
     "data": {
      "text/html": [
       "<html><script type=\"math/tex; mode=display\">\\newcommand{\\Bold}[1]{\\mathbf{#1}}\\frac{3 \\, {\\left(3 \\, x^{2} - 13 \\, x + 15\\right)}}{{\\left(x^{2} - 4 \\, x + 6\\right)} {\\left(x - 3\\right)}}</script></html>"
      ],
      "text/plain": [
       "3*(3*x^2 - 13*x + 15)/((x^2 - 4*x + 6)*(x - 3))"
      ]
     },
     "metadata": {},
     "output_type": "display_data"
    },
    {
     "data": {
      "text/html": [
       "<html><script type=\"math/tex; mode=display\">\\newcommand{\\Bold}[1]{\\mathbf{#1}}-\\frac{3 \\, x^{2} - 126 \\, x - 295}{{\\left(x^{2} + 16 \\, x + 65\\right)} {\\left(x - 5\\right)}}</script></html>"
      ],
      "text/plain": [
       "-(3*x^2 - 126*x - 295)/((x^2 + 16*x + 65)*(x - 5))"
      ]
     },
     "metadata": {},
     "output_type": "display_data"
    },
    {
     "data": {
      "text/html": [
       "<html><script type=\"math/tex; mode=display\">\\newcommand{\\Bold}[1]{\\mathbf{#1}}\\frac{11 \\, x^{2} + 121 \\, x + 195}{{\\left(x^{2} + 12 \\, x + 37\\right)} {\\left(x + 10\\right)}}</script></html>"
      ],
      "text/plain": [
       "(11*x^2 + 121*x + 195)/((x^2 + 12*x + 37)*(x + 10))"
      ]
     },
     "metadata": {},
     "output_type": "display_data"
    },
    {
     "data": {
      "text/html": [
       "<html><script type=\"math/tex; mode=display\">\\newcommand{\\Bold}[1]{\\mathbf{#1}}\\frac{11 \\, x^{2} + 39 \\, x + 44}{{\\left(x^{2} + 4 \\, x + 6\\right)} {\\left(x + 2\\right)}}</script></html>"
      ],
      "text/plain": [
       "(11*x^2 + 39*x + 44)/((x^2 + 4*x + 6)*(x + 2))"
      ]
     },
     "metadata": {},
     "output_type": "display_data"
    },
    {
     "data": {
      "text/html": [
       "<html><script type=\"math/tex; mode=display\">\\newcommand{\\Bold}[1]{\\mathbf{#1}}-\\frac{3 \\, x^{2} + 32 \\, x + 127}{{\\left(x^{2} + 12 \\, x + 37\\right)} {\\left(x - 4\\right)}}</script></html>"
      ],
      "text/plain": [
       "-(3*x^2 + 32*x + 127)/((x^2 + 12*x + 37)*(x - 4))"
      ]
     },
     "metadata": {},
     "output_type": "display_data"
    },
    {
     "data": {
      "text/html": [
       "<html><script type=\"math/tex; mode=display\">\\newcommand{\\Bold}[1]{\\mathbf{#1}}\\frac{14 \\, x^{2} + 145 \\, x + 188}{{\\left(x^{2} + 12 \\, x + 43\\right)} {\\left(x + 10\\right)}}</script></html>"
      ],
      "text/plain": [
       "(14*x^2 + 145*x + 188)/((x^2 + 12*x + 43)*(x + 10))"
      ]
     },
     "metadata": {},
     "output_type": "display_data"
    },
    {
     "data": {
      "text/html": [
       "<html><script type=\"math/tex; mode=display\">\\newcommand{\\Bold}[1]{\\mathbf{#1}}-\\frac{2 \\, {\\left(2 \\, x^{2} - 12 \\, x + 23\\right)}}{{\\left(x^{2} - 10 \\, x + 26\\right)} {\\left(x - 3\\right)}}</script></html>"
      ],
      "text/plain": [
       "-2*(2*x^2 - 12*x + 23)/((x^2 - 10*x + 26)*(x - 3))"
      ]
     },
     "metadata": {},
     "output_type": "display_data"
    },
    {
     "data": {
      "text/html": [
       "<html><script type=\"math/tex; mode=display\">\\newcommand{\\Bold}[1]{\\mathbf{#1}}\\frac{2 \\, {\\left(6 \\, x^{2} + 28 \\, x + 217\\right)}}{{\\left(x^{2} + 18 \\, x + 82\\right)} {\\left(x - 4\\right)}}</script></html>"
      ],
      "text/plain": [
       "2*(6*x^2 + 28*x + 217)/((x^2 + 18*x + 82)*(x - 4))"
      ]
     },
     "metadata": {},
     "output_type": "display_data"
    },
    {
     "data": {
      "text/html": [
       "<html><script type=\"math/tex; mode=display\">\\newcommand{\\Bold}[1]{\\mathbf{#1}}-\\frac{4 \\, x^{2} + 50 \\, x + 253}{{\\left(x^{2} + 18 \\, x + 83\\right)} {\\left(x - 2\\right)}}</script></html>"
      ],
      "text/plain": [
       "-(4*x^2 + 50*x + 253)/((x^2 + 18*x + 83)*(x - 2))"
      ]
     },
     "metadata": {},
     "output_type": "display_data"
    },
    {
     "data": {
      "text/html": [
       "<html><script type=\"math/tex; mode=display\">\\newcommand{\\Bold}[1]{\\mathbf{#1}}\\frac{5 \\, {\\left(x - 5\\right)} {\\left(x - 10\\right)}}{{\\left(x^{2} - 12 \\, x + 37\\right)} {\\left(x - 3\\right)}}</script></html>"
      ],
      "text/plain": [
       "5*(x - 5)*(x - 10)/((x^2 - 12*x + 37)*(x - 3))"
      ]
     },
     "metadata": {},
     "output_type": "display_data"
    },
    {
     "data": {
      "text/html": [
       "<html><script type=\"math/tex; mode=display\">\\newcommand{\\Bold}[1]{\\mathbf{#1}}-\\frac{2 \\, {\\left(5 \\, x^{2} - 58 \\, x + 277\\right)}}{{\\left(x^{2} - 16 \\, x + 71\\right)} {\\left(x + 7\\right)}}</script></html>"
      ],
      "text/plain": [
       "-2*(5*x^2 - 58*x + 277)/((x^2 - 16*x + 71)*(x + 7))"
      ]
     },
     "metadata": {},
     "output_type": "display_data"
    },
    {
     "data": {
      "text/html": [
       "<html><script type=\"math/tex; mode=display\">\\newcommand{\\Bold}[1]{\\mathbf{#1}}\\frac{11 \\, x^{2} + 95 \\, x + 234}{{\\left(x^{2} + 10 \\, x + 28\\right)} {\\left(x - 2\\right)}}</script></html>"
      ],
      "text/plain": [
       "(11*x^2 + 95*x + 234)/((x^2 + 10*x + 28)*(x - 2))"
      ]
     },
     "metadata": {},
     "output_type": "display_data"
    },
    {
     "data": {
      "text/html": [
       "<html><script type=\"math/tex; mode=display\">\\newcommand{\\Bold}[1]{\\mathbf{#1}}-\\frac{4 \\, {\\left(x + 4\\right)} {\\left(x + 1\\right)}}{{\\left(x^{2} + 4 \\, x + 11\\right)} {\\left(x + 5\\right)}}</script></html>"
      ],
      "text/plain": [
       "-4*(x + 4)*(x + 1)/((x^2 + 4*x + 11)*(x + 5))"
      ]
     },
     "metadata": {},
     "output_type": "display_data"
    },
    {
     "data": {
      "text/html": [
       "<html><script type=\"math/tex; mode=display\">\\newcommand{\\Bold}[1]{\\mathbf{#1}}-\\frac{19 \\, x^{2} + 250 \\, x + 996}{{\\left(x^{2} + 20 \\, x + 102\\right)} {\\left(x + 6\\right)}}</script></html>"
      ],
      "text/plain": [
       "-(19*x^2 + 250*x + 996)/((x^2 + 20*x + 102)*(x + 6))"
      ]
     },
     "metadata": {},
     "output_type": "display_data"
    },
    {
     "data": {
      "text/html": [
       "<html><script type=\"math/tex; mode=display\">\\newcommand{\\Bold}[1]{\\mathbf{#1}}-\\frac{15 \\, x^{2} + 46 \\, x + 451}{{\\left(x^{2} + 14 \\, x + 53\\right)} {\\left(x - 9\\right)}}</script></html>"
      ],
      "text/plain": [
       "-(15*x^2 + 46*x + 451)/((x^2 + 14*x + 53)*(x - 9))"
      ]
     },
     "metadata": {},
     "output_type": "display_data"
    },
    {
     "data": {
      "text/html": [
       "<html><script type=\"math/tex; mode=display\">\\newcommand{\\Bold}[1]{\\mathbf{#1}}-\\frac{17 \\, x^{2} + 161 \\, x + 426}{{\\left(x^{2} + 14 \\, x + 57\\right)} {\\left(x + 6\\right)}}</script></html>"
      ],
      "text/plain": [
       "-(17*x^2 + 161*x + 426)/((x^2 + 14*x + 57)*(x + 6))"
      ]
     },
     "metadata": {},
     "output_type": "display_data"
    },
    {
     "data": {
      "text/html": [
       "<html><script type=\"math/tex; mode=display\">\\newcommand{\\Bold}[1]{\\mathbf{#1}}\\frac{8 \\, x^{2} + 12 \\, x + 53}{{\\left(x^{2} + 3\\right)} {\\left(x + 4\\right)}}</script></html>"
      ],
      "text/plain": [
       "(8*x^2 + 12*x + 53)/((x^2 + 3)*(x + 4))"
      ]
     },
     "metadata": {},
     "output_type": "display_data"
    },
    {
     "data": {
      "text/html": [
       "<html><script type=\"math/tex; mode=display\">\\newcommand{\\Bold}[1]{\\mathbf{#1}}-\\frac{x^{2} + 84 \\, x + 343}{{\\left(x^{2} + 12 \\, x + 37\\right)} {\\left(x + 3\\right)}}</script></html>"
      ],
      "text/plain": [
       "-(x^2 + 84*x + 343)/((x^2 + 12*x + 37)*(x + 3))"
      ]
     },
     "metadata": {},
     "output_type": "display_data"
    },
    {
     "data": {
      "text/html": [
       "<html><script type=\"math/tex; mode=display\">\\newcommand{\\Bold}[1]{\\mathbf{#1}}\\frac{9 \\, x^{2} - 56 \\, x + 8}{{\\left(x^{2} - 6 \\, x + 18\\right)} {\\left(x - 8\\right)}}</script></html>"
      ],
      "text/plain": [
       "(9*x^2 - 56*x + 8)/((x^2 - 6*x + 18)*(x - 8))"
      ]
     },
     "metadata": {},
     "output_type": "display_data"
    },
    {
     "data": {
      "text/html": [
       "<html><script type=\"math/tex; mode=display\">\\newcommand{\\Bold}[1]{\\mathbf{#1}}-\\frac{7 \\, x^{2} - 46 \\, x + 5}{{\\left(x^{2} - 8 \\, x + 17\\right)} {\\left(x - 8\\right)}}</script></html>"
      ],
      "text/plain": [
       "-(7*x^2 - 46*x + 5)/((x^2 - 8*x + 17)*(x - 8))"
      ]
     },
     "metadata": {},
     "output_type": "display_data"
    },
    {
     "data": {
      "text/html": [
       "<html><script type=\"math/tex; mode=display\">\\newcommand{\\Bold}[1]{\\mathbf{#1}}\\frac{2 \\, x^{2} + 25 \\, x + 29}{{\\left(x^{2} + 2 \\, x + 5\\right)} {\\left(x - 9\\right)}}</script></html>"
      ],
      "text/plain": [
       "(2*x^2 + 25*x + 29)/((x^2 + 2*x + 5)*(x - 9))"
      ]
     },
     "metadata": {},
     "output_type": "display_data"
    },
    {
     "data": {
      "text/html": [
       "<html><script type=\"math/tex; mode=display\">\\newcommand{\\Bold}[1]{\\mathbf{#1}}\\frac{x^{2} - 26 \\, x - 72}{{\\left(x^{2} + 4 \\, x + 12\\right)} {\\left(x - 8\\right)}}</script></html>"
      ],
      "text/plain": [
       "(x^2 - 26*x - 72)/((x^2 + 4*x + 12)*(x - 8))"
      ]
     },
     "metadata": {},
     "output_type": "display_data"
    },
    {
     "data": {
      "text/html": [
       "<html><script type=\"math/tex; mode=display\">\\newcommand{\\Bold}[1]{\\mathbf{#1}}\\frac{{\\left(5 \\, x + 53\\right)} {\\left(x + 2\\right)}}{{\\left(x^{2} + 6 \\, x + 12\\right)} {\\left(x - 2\\right)}}</script></html>"
      ],
      "text/plain": [
       "(5*x + 53)*(x + 2)/((x^2 + 6*x + 12)*(x - 2))"
      ]
     },
     "metadata": {},
     "output_type": "display_data"
    },
    {
     "data": {
      "text/html": [
       "<html><script type=\"math/tex; mode=display\">\\newcommand{\\Bold}[1]{\\mathbf{#1}}\\frac{x^{2} + 28 \\, x - 15}{{\\left(x^{2} - 2 \\, x + 4\\right)} {\\left(x + 1\\right)}}</script></html>"
      ],
      "text/plain": [
       "(x^2 + 28*x - 15)/((x^2 - 2*x + 4)*(x + 1))"
      ]
     },
     "metadata": {},
     "output_type": "display_data"
    },
    {
     "data": {
      "text/html": [
       "<html><script type=\"math/tex; mode=display\">\\newcommand{\\Bold}[1]{\\mathbf{#1}}\\frac{6 \\, x^{2} - 63 \\, x + 161}{{\\left(x^{2} - 18 \\, x + 84\\right)} {\\left(x - 7\\right)}}</script></html>"
      ],
      "text/plain": [
       "(6*x^2 - 63*x + 161)/((x^2 - 18*x + 84)*(x - 7))"
      ]
     },
     "metadata": {},
     "output_type": "display_data"
    },
    {
     "data": {
      "text/html": [
       "<html><script type=\"math/tex; mode=display\">\\newcommand{\\Bold}[1]{\\mathbf{#1}}-\\frac{x^{2} - 17 \\, x + 100}{{\\left(x^{2} - 12 \\, x + 45\\right)} {\\left(x - 7\\right)}}</script></html>"
      ],
      "text/plain": [
       "-(x^2 - 17*x + 100)/((x^2 - 12*x + 45)*(x - 7))"
      ]
     },
     "metadata": {},
     "output_type": "display_data"
    },
    {
     "data": {
      "text/html": [
       "<html><script type=\"math/tex; mode=display\">\\newcommand{\\Bold}[1]{\\mathbf{#1}}\\frac{2 \\, {\\left(4 \\, x^{2} + 38 \\, x + 111\\right)}}{{\\left(x^{2} + 10 \\, x + 34\\right)} {\\left(x - 2\\right)}}</script></html>"
      ],
      "text/plain": [
       "2*(4*x^2 + 38*x + 111)/((x^2 + 10*x + 34)*(x - 2))"
      ]
     },
     "metadata": {},
     "output_type": "display_data"
    },
    {
     "data": {
      "text/html": [
       "<html><script type=\"math/tex; mode=display\">\\newcommand{\\Bold}[1]{\\mathbf{#1}}-\\frac{16 \\, x^{2} - 165 \\, x + 696}{{\\left(x^{2} - 16 \\, x + 71\\right)} {\\left(x - 2\\right)}}</script></html>"
      ],
      "text/plain": [
       "-(16*x^2 - 165*x + 696)/((x^2 - 16*x + 71)*(x - 2))"
      ]
     },
     "metadata": {},
     "output_type": "display_data"
    },
    {
     "data": {
      "text/html": [
       "<html><script type=\"math/tex; mode=display\">\\newcommand{\\Bold}[1]{\\mathbf{#1}}-\\frac{9 \\, x^{2} - 29 \\, x + 182}{{\\left(x^{2} + 18 \\, x + 82\\right)} {\\left(x - 9\\right)}}</script></html>"
      ],
      "text/plain": [
       "-(9*x^2 - 29*x + 182)/((x^2 + 18*x + 82)*(x - 9))"
      ]
     },
     "metadata": {},
     "output_type": "display_data"
    },
    {
     "data": {
      "text/html": [
       "<html><script type=\"math/tex; mode=display\">\\newcommand{\\Bold}[1]{\\mathbf{#1}}\\frac{11 \\, x^{2} - 142 \\, x + 507}{{\\left(x^{2} - 14 \\, x + 53\\right)} {\\left(x - 3\\right)}}</script></html>"
      ],
      "text/plain": [
       "(11*x^2 - 142*x + 507)/((x^2 - 14*x + 53)*(x - 3))"
      ]
     },
     "metadata": {},
     "output_type": "display_data"
    },
    {
     "data": {
      "text/html": [
       "<html><script type=\"math/tex; mode=display\">\\newcommand{\\Bold}[1]{\\mathbf{#1}}-\\frac{6 \\, x^{2} - 13 \\, x + 65}{{\\left(x^{2} - 2 \\, x + 9\\right)} {\\left(x - 2\\right)}}</script></html>"
      ],
      "text/plain": [
       "-(6*x^2 - 13*x + 65)/((x^2 - 2*x + 9)*(x - 2))"
      ]
     },
     "metadata": {},
     "output_type": "display_data"
    },
    {
     "data": {
      "text/html": [
       "<html><script type=\"math/tex; mode=display\">\\newcommand{\\Bold}[1]{\\mathbf{#1}}-\\frac{14 \\, x^{2} - 142 \\, x + 351}{{\\left(x^{2} - 10 \\, x + 32\\right)} {\\left(x - 9\\right)}}</script></html>"
      ],
      "text/plain": [
       "-(14*x^2 - 142*x + 351)/((x^2 - 10*x + 32)*(x - 9))"
      ]
     },
     "metadata": {},
     "output_type": "display_data"
    },
    {
     "data": {
      "text/html": [
       "<html><script type=\"math/tex; mode=display\">\\newcommand{\\Bold}[1]{\\mathbf{#1}}-\\frac{x^{2} - 63 \\, x - 656}{{\\left(x^{2} + 18 \\, x + 82\\right)} {\\left(x + 9\\right)}}</script></html>"
      ],
      "text/plain": [
       "-(x^2 - 63*x - 656)/((x^2 + 18*x + 82)*(x + 9))"
      ]
     },
     "metadata": {},
     "output_type": "display_data"
    },
    {
     "data": {
      "text/html": [
       "<html><script type=\"math/tex; mode=display\">\\newcommand{\\Bold}[1]{\\mathbf{#1}}\\frac{7 \\, x^{2} + 142 \\, x + 738}{{\\left(x^{2} + 20 \\, x + 108\\right)} {\\left(x - 9\\right)}}</script></html>"
      ],
      "text/plain": [
       "(7*x^2 + 142*x + 738)/((x^2 + 20*x + 108)*(x - 9))"
      ]
     },
     "metadata": {},
     "output_type": "display_data"
    },
    {
     "data": {
      "text/html": [
       "<html><script type=\"math/tex; mode=display\">\\newcommand{\\Bold}[1]{\\mathbf{#1}}-\\frac{2 \\, {\\left(x - 7\\right)} {\\left(x - 8\\right)}}{{\\left(x^{2} - 8 \\, x + 18\\right)} {\\left(x - 5\\right)}}</script></html>"
      ],
      "text/plain": [
       "-2*(x - 7)*(x - 8)/((x^2 - 8*x + 18)*(x - 5))"
      ]
     },
     "metadata": {},
     "output_type": "display_data"
    },
    {
     "data": {
      "text/html": [
       "<html><script type=\"math/tex; mode=display\">\\newcommand{\\Bold}[1]{\\mathbf{#1}}-\\frac{5 \\, x^{2} + 88 \\, x + 275}{{\\left(x^{2} + 10 \\, x + 30\\right)} {\\left(x - 5\\right)}}</script></html>"
      ],
      "text/plain": [
       "-(5*x^2 + 88*x + 275)/((x^2 + 10*x + 30)*(x - 5))"
      ]
     },
     "metadata": {},
     "output_type": "display_data"
    },
    {
     "data": {
      "text/html": [
       "<html><script type=\"math/tex; mode=display\">\\newcommand{\\Bold}[1]{\\mathbf{#1}}-\\frac{6 \\, x^{2} + 3 \\, x + 86}{{\\left(x^{2} + 4\\right)} {\\left(x - 6\\right)}}</script></html>"
      ],
      "text/plain": [
       "-(6*x^2 + 3*x + 86)/((x^2 + 4)*(x - 6))"
      ]
     },
     "metadata": {},
     "output_type": "display_data"
    },
    {
     "data": {
      "text/html": [
       "<html><script type=\"math/tex; mode=display\">\\newcommand{\\Bold}[1]{\\mathbf{#1}}\\frac{2 \\, x^{2} - 93 \\, x - 14}{{\\left(x^{2} + 2 \\, x + 10\\right)} {\\left(x - 8\\right)}}</script></html>"
      ],
      "text/plain": [
       "(2*x^2 - 93*x - 14)/((x^2 + 2*x + 10)*(x - 8))"
      ]
     },
     "metadata": {},
     "output_type": "display_data"
    },
    {
     "data": {
      "text/html": [
       "<html><script type=\"math/tex; mode=display\">\\newcommand{\\Bold}[1]{\\mathbf{#1}}-\\frac{5 \\, x^{2} + 35 \\, x + 98}{{\\left(x^{2} + 4 \\, x + 10\\right)} {\\left(x + 2\\right)}}</script></html>"
      ],
      "text/plain": [
       "-(5*x^2 + 35*x + 98)/((x^2 + 4*x + 10)*(x + 2))"
      ]
     },
     "metadata": {},
     "output_type": "display_data"
    },
    {
     "data": {
      "text/html": [
       "<html><script type=\"math/tex; mode=display\">\\newcommand{\\Bold}[1]{\\mathbf{#1}}-\\frac{11 \\, x^{2} - 44 \\, x + 45}{{\\left(x^{2} - 4 \\, x + 6\\right)} {\\left(x - 3\\right)}}</script></html>"
      ],
      "text/plain": [
       "-(11*x^2 - 44*x + 45)/((x^2 - 4*x + 6)*(x - 3))"
      ]
     },
     "metadata": {},
     "output_type": "display_data"
    },
    {
     "data": {
      "text/html": [
       "<html><script type=\"math/tex; mode=display\">\\newcommand{\\Bold}[1]{\\mathbf{#1}}-\\frac{8 \\, x^{2} + 15 \\, x + 94}{{\\left(x^{2} - 8 \\, x + 22\\right)} {\\left(x + 7\\right)}}</script></html>"
      ],
      "text/plain": [
       "-(8*x^2 + 15*x + 94)/((x^2 - 8*x + 22)*(x + 7))"
      ]
     },
     "metadata": {},
     "output_type": "display_data"
    },
    {
     "data": {
      "text/html": [
       "<html><script type=\"math/tex; mode=display\">\\newcommand{\\Bold}[1]{\\mathbf{#1}}-\\frac{7 \\, x^{2} + 29 \\, x + 122}{{\\left(x^{2} + 16 \\, x + 68\\right)} {\\left(x - 2\\right)}}</script></html>"
      ],
      "text/plain": [
       "-(7*x^2 + 29*x + 122)/((x^2 + 16*x + 68)*(x - 2))"
      ]
     },
     "metadata": {},
     "output_type": "display_data"
    },
    {
     "data": {
      "text/html": [
       "<html><script type=\"math/tex; mode=display\">\\newcommand{\\Bold}[1]{\\mathbf{#1}}\\frac{19 \\, x - 33}{{\\left(x^{2} - 4 \\, x + 9\\right)} {\\left(x + 3\\right)}}</script></html>"
      ],
      "text/plain": [
       "(19*x - 33)/((x^2 - 4*x + 9)*(x + 3))"
      ]
     },
     "metadata": {},
     "output_type": "display_data"
    },
    {
     "data": {
      "text/html": [
       "<html><script type=\"math/tex; mode=display\">\\newcommand{\\Bold}[1]{\\mathbf{#1}}-\\frac{11 \\, x - 171}{{\\left(x^{2} - 10 \\, x + 33\\right)} {\\left(x - 9\\right)}}</script></html>"
      ],
      "text/plain": [
       "-(11*x - 171)/((x^2 - 10*x + 33)*(x - 9))"
      ]
     },
     "metadata": {},
     "output_type": "display_data"
    },
    {
     "data": {
      "text/html": [
       "<html><script type=\"math/tex; mode=display\">\\newcommand{\\Bold}[1]{\\mathbf{#1}}\\frac{5 \\, {\\left(2 \\, x^{2} + 8 \\, x + 95\\right)}}{{\\left(x^{2} + 18 \\, x + 86\\right)} {\\left(x - 9\\right)}}</script></html>"
      ],
      "text/plain": [
       "5*(2*x^2 + 8*x + 95)/((x^2 + 18*x + 86)*(x - 9))"
      ]
     },
     "metadata": {},
     "output_type": "display_data"
    },
    {
     "data": {
      "text/html": [
       "<html><script type=\"math/tex; mode=display\">\\newcommand{\\Bold}[1]{\\mathbf{#1}}\\frac{2 \\, {\\left(6 \\, x^{2} - 25 \\, x + 46\\right)}}{{\\left(x^{2} - 6 \\, x + 11\\right)} {\\left(x - 1\\right)}}</script></html>"
      ],
      "text/plain": [
       "2*(6*x^2 - 25*x + 46)/((x^2 - 6*x + 11)*(x - 1))"
      ]
     },
     "metadata": {},
     "output_type": "display_data"
    },
    {
     "data": {
      "text/html": [
       "<html><script type=\"math/tex; mode=display\">\\newcommand{\\Bold}[1]{\\mathbf{#1}}\\frac{5 \\, x^{2} - 35 \\, x - 42}{{\\left(x^{2} + 12 \\, x + 38\\right)} {\\left(x - 4\\right)}}</script></html>"
      ],
      "text/plain": [
       "(5*x^2 - 35*x - 42)/((x^2 + 12*x + 38)*(x - 4))"
      ]
     },
     "metadata": {},
     "output_type": "display_data"
    },
    {
     "data": {
      "text/html": [
       "<html><script type=\"math/tex; mode=display\">\\newcommand{\\Bold}[1]{\\mathbf{#1}}-\\frac{18 \\, x^{2} - 125 \\, x + 659}{{\\left(x^{2} - 16 \\, x + 73\\right)} {\\left(x + 2\\right)}}</script></html>"
      ],
      "text/plain": [
       "-(18*x^2 - 125*x + 659)/((x^2 - 16*x + 73)*(x + 2))"
      ]
     },
     "metadata": {},
     "output_type": "display_data"
    },
    {
     "data": {
      "text/html": [
       "<html><script type=\"math/tex; mode=display\">\\newcommand{\\Bold}[1]{\\mathbf{#1}}-\\frac{13 \\, x^{2} + 93 \\, x + 544}{{\\left(x^{2} + 16 \\, x + 68\\right)} {\\left(x - 7\\right)}}</script></html>"
      ],
      "text/plain": [
       "-(13*x^2 + 93*x + 544)/((x^2 + 16*x + 68)*(x - 7))"
      ]
     },
     "metadata": {},
     "output_type": "display_data"
    },
    {
     "data": {
      "text/html": [
       "<html><script type=\"math/tex; mode=display\">\\newcommand{\\Bold}[1]{\\mathbf{#1}}\\frac{3 \\, x^{2} + 56 \\, x - 212}{{\\left(x^{2} - 14 \\, x + 53\\right)} x}</script></html>"
      ],
      "text/plain": [
       "(3*x^2 + 56*x - 212)/((x^2 - 14*x + 53)*x)"
      ]
     },
     "metadata": {},
     "output_type": "display_data"
    },
    {
     "data": {
      "text/html": [
       "<html><script type=\"math/tex; mode=display\">\\newcommand{\\Bold}[1]{\\mathbf{#1}}-\\frac{11 \\, x^{2} + 75 \\, x + 230}{{\\left(x^{2} + 8 \\, x + 23\\right)} {\\left(x - 5\\right)}}</script></html>"
      ],
      "text/plain": [
       "-(11*x^2 + 75*x + 230)/((x^2 + 8*x + 23)*(x - 5))"
      ]
     },
     "metadata": {},
     "output_type": "display_data"
    },
    {
     "data": {
      "text/html": [
       "<html><script type=\"math/tex; mode=display\">\\newcommand{\\Bold}[1]{\\mathbf{#1}}\\frac{9 \\, x^{2} + 17 \\, x + 17}{{\\left(x^{2} + 8\\right)} {\\left(x + 1\\right)}}</script></html>"
      ],
      "text/plain": [
       "(9*x^2 + 17*x + 17)/((x^2 + 8)*(x + 1))"
      ]
     },
     "metadata": {},
     "output_type": "display_data"
    },
    {
     "data": {
      "text/html": [
       "<html><script type=\"math/tex; mode=display\">\\newcommand{\\Bold}[1]{\\mathbf{#1}}\\frac{2 \\, x^{2} + 117 \\, x + 408}{{\\left(x^{2} + 14 \\, x + 51\\right)} x}</script></html>"
      ],
      "text/plain": [
       "(2*x^2 + 117*x + 408)/((x^2 + 14*x + 51)*x)"
      ]
     },
     "metadata": {},
     "output_type": "display_data"
    },
    {
     "data": {
      "text/html": [
       "<html><script type=\"math/tex; mode=display\">\\newcommand{\\Bold}[1]{\\mathbf{#1}}-\\frac{2 \\, x^{2} + 31 \\, x - 48}{{\\left(x^{2} + 6 \\, x + 12\\right)} {\\left(x + 8\\right)}}</script></html>"
      ],
      "text/plain": [
       "-(2*x^2 + 31*x - 48)/((x^2 + 6*x + 12)*(x + 8))"
      ]
     },
     "metadata": {},
     "output_type": "display_data"
    },
    {
     "data": {
      "text/html": [
       "<html><script type=\"math/tex; mode=display\">\\newcommand{\\Bold}[1]{\\mathbf{#1}}-\\frac{5 \\, {\\left(3 \\, x^{2} - 14 \\, x + 51\\right)}}{{\\left(x^{2} - 8 \\, x + 25\\right)} {\\left(x + 1\\right)}}</script></html>"
      ],
      "text/plain": [
       "-5*(3*x^2 - 14*x + 51)/((x^2 - 8*x + 25)*(x + 1))"
      ]
     },
     "metadata": {},
     "output_type": "display_data"
    },
    {
     "data": {
      "text/html": [
       "<html><script type=\"math/tex; mode=display\">\\newcommand{\\Bold}[1]{\\mathbf{#1}}-\\frac{11 \\, x^{2} - 47 \\, x + 134}{{\\left(x^{2} - 10 \\, x + 27\\right)} {\\left(x + 4\\right)}}</script></html>"
      ],
      "text/plain": [
       "-(11*x^2 - 47*x + 134)/((x^2 - 10*x + 27)*(x + 4))"
      ]
     },
     "metadata": {},
     "output_type": "display_data"
    },
    {
     "data": {
      "text/html": [
       "<html><script type=\"math/tex; mode=display\">\\newcommand{\\Bold}[1]{\\mathbf{#1}}-\\frac{13 \\, x^{2} + 64 \\, x + 80}{{\\left(x^{2} + 6 \\, x + 10\\right)} {\\left(x + 3\\right)}}</script></html>"
      ],
      "text/plain": [
       "-(13*x^2 + 64*x + 80)/((x^2 + 6*x + 10)*(x + 3))"
      ]
     },
     "metadata": {},
     "output_type": "display_data"
    },
    {
     "data": {
      "text/html": [
       "<html><script type=\"math/tex; mode=display\">\\newcommand{\\Bold}[1]{\\mathbf{#1}}-\\frac{2 \\, {\\left(x^{2} + 5 \\, x - 90\\right)}}{{\\left(x^{2} - 12 \\, x + 39\\right)} {\\left(x - 7\\right)}}</script></html>"
      ],
      "text/plain": [
       "-2*(x^2 + 5*x - 90)/((x^2 - 12*x + 39)*(x - 7))"
      ]
     },
     "metadata": {},
     "output_type": "display_data"
    },
    {
     "data": {
      "text/html": [
       "<html><script type=\"math/tex; mode=display\">\\newcommand{\\Bold}[1]{\\mathbf{#1}}-\\frac{2 \\, {\\left(17 \\, x - 47\\right)}}{{\\left(x^{2} + 8\\right)} {\\left(x + 5\\right)}}</script></html>"
      ],
      "text/plain": [
       "-2*(17*x - 47)/((x^2 + 8)*(x + 5))"
      ]
     },
     "metadata": {},
     "output_type": "display_data"
    },
    {
     "data": {
      "text/html": [
       "<html><script type=\"math/tex; mode=display\">\\newcommand{\\Bold}[1]{\\mathbf{#1}}-\\frac{2 \\, {\\left(2 \\, x^{2} - 51 \\, x - 44\\right)}}{{\\left(x^{2} + 4 \\, x + 12\\right)} {\\left(x - 8\\right)}}</script></html>"
      ],
      "text/plain": [
       "-2*(2*x^2 - 51*x - 44)/((x^2 + 4*x + 12)*(x - 8))"
      ]
     },
     "metadata": {},
     "output_type": "display_data"
    },
    {
     "data": {
      "text/html": [
       "<html><script type=\"math/tex; mode=display\">\\newcommand{\\Bold}[1]{\\mathbf{#1}}-\\frac{14 \\, x^{2} - 29 \\, x + 96}{{\\left(x^{2} + 2 \\, x + 8\\right)} {\\left(x - 5\\right)}}</script></html>"
      ],
      "text/plain": [
       "-(14*x^2 - 29*x + 96)/((x^2 + 2*x + 8)*(x - 5))"
      ]
     },
     "metadata": {},
     "output_type": "display_data"
    },
    {
     "data": {
      "text/html": [
       "<html><script type=\"math/tex; mode=display\">\\newcommand{\\Bold}[1]{\\mathbf{#1}}\\frac{x^{2} - 162 \\, x + 648}{{\\left(x^{2} - 16 \\, x + 70\\right)} {\\left(x + 3\\right)}}</script></html>"
      ],
      "text/plain": [
       "(x^2 - 162*x + 648)/((x^2 - 16*x + 70)*(x + 3))"
      ]
     },
     "metadata": {},
     "output_type": "display_data"
    },
    {
     "data": {
      "text/html": [
       "<html><script type=\"math/tex; mode=display\">\\newcommand{\\Bold}[1]{\\mathbf{#1}}-\\frac{25 \\, x + 79}{{\\left(x^{2} + 8 \\, x + 23\\right)} {\\left(x - 2\\right)}}</script></html>"
      ],
      "text/plain": [
       "-(25*x + 79)/((x^2 + 8*x + 23)*(x - 2))"
      ]
     },
     "metadata": {},
     "output_type": "display_data"
    },
    {
     "data": {
      "text/html": [
       "<html><script type=\"math/tex; mode=display\">\\newcommand{\\Bold}[1]{\\mathbf{#1}}-\\frac{{\\left(5 \\, x - 41\\right)} {\\left(x - 4\\right)}}{{\\left(x^{2} - 8 \\, x + 19\\right)} {\\left(x - 1\\right)}}</script></html>"
      ],
      "text/plain": [
       "-(5*x - 41)*(x - 4)/((x^2 - 8*x + 19)*(x - 1))"
      ]
     },
     "metadata": {},
     "output_type": "display_data"
    },
    {
     "data": {
      "text/html": [
       "<html><script type=\"math/tex; mode=display\">\\newcommand{\\Bold}[1]{\\mathbf{#1}}\\frac{x^{2} + 41 \\, x - 118}{{\\left(x^{2} - 4 \\, x + 12\\right)} {\\left(x + 7\\right)}}</script></html>"
      ],
      "text/plain": [
       "(x^2 + 41*x - 118)/((x^2 - 4*x + 12)*(x + 7))"
      ]
     },
     "metadata": {},
     "output_type": "display_data"
    },
    {
     "data": {
      "text/html": [
       "<html><script type=\"math/tex; mode=display\">\\newcommand{\\Bold}[1]{\\mathbf{#1}}-\\frac{2 \\, {\\left(4 \\, x^{2} + 81 \\, x + 445\\right)}}{{\\left(x^{2} + 18 \\, x + 87\\right)} {\\left(x + 10\\right)}}</script></html>"
      ],
      "text/plain": [
       "-2*(4*x^2 + 81*x + 445)/((x^2 + 18*x + 87)*(x + 10))"
      ]
     },
     "metadata": {},
     "output_type": "display_data"
    },
    {
     "data": {
      "text/html": [
       "<html><script type=\"math/tex; mode=display\">\\newcommand{\\Bold}[1]{\\mathbf{#1}}\\frac{27 \\, x - 85}{{\\left(x^{2} + 4 \\, x + 11\\right)} {\\left(x + 10\\right)}}</script></html>"
      ],
      "text/plain": [
       "(27*x - 85)/((x^2 + 4*x + 11)*(x + 10))"
      ]
     },
     "metadata": {},
     "output_type": "display_data"
    },
    {
     "data": {
      "text/html": [
       "<html><script type=\"math/tex; mode=display\">\\newcommand{\\Bold}[1]{\\mathbf{#1}}-\\frac{14 \\, x^{2} - 5 \\, x + 79}{{\\left(x^{2} - 6 \\, x + 17\\right)} {\\left(x + 3\\right)}}</script></html>"
      ],
      "text/plain": [
       "-(14*x^2 - 5*x + 79)/((x^2 - 6*x + 17)*(x + 3))"
      ]
     },
     "metadata": {},
     "output_type": "display_data"
    },
    {
     "data": {
      "text/html": [
       "<html><script type=\"math/tex; mode=display\">\\newcommand{\\Bold}[1]{\\mathbf{#1}}\\frac{6 \\, x^{2} - 17 \\, x + 103}{{\\left(x^{2} - 2 \\, x + 7\\right)} {\\left(x - 6\\right)}}</script></html>"
      ],
      "text/plain": [
       "(6*x^2 - 17*x + 103)/((x^2 - 2*x + 7)*(x - 6))"
      ]
     },
     "metadata": {},
     "output_type": "display_data"
    },
    {
     "data": {
      "text/html": [
       "<html><script type=\"math/tex; mode=display\">\\newcommand{\\Bold}[1]{\\mathbf{#1}}\\frac{2 \\, {\\left(3 \\, x^{2} - 11 \\, x - 155\\right)}}{{\\left(x^{2} + 20 \\, x + 106\\right)} {\\left(x + 4\\right)}}</script></html>"
      ],
      "text/plain": [
       "2*(3*x^2 - 11*x - 155)/((x^2 + 20*x + 106)*(x + 4))"
      ]
     },
     "metadata": {},
     "output_type": "display_data"
    },
    {
     "data": {
      "text/html": [
       "<html><script type=\"math/tex; mode=display\">\\newcommand{\\Bold}[1]{\\mathbf{#1}}-\\frac{8 \\, x^{2} + 95 \\, x + 29}{{\\left(x^{2} - 8 \\, x + 25\\right)} {\\left(x + 9\\right)}}</script></html>"
      ],
      "text/plain": [
       "-(8*x^2 + 95*x + 29)/((x^2 - 8*x + 25)*(x + 9))"
      ]
     },
     "metadata": {},
     "output_type": "display_data"
    },
    {
     "data": {
      "text/html": [
       "<html><script type=\"math/tex; mode=display\">\\newcommand{\\Bold}[1]{\\mathbf{#1}}-\\frac{2 \\, {\\left(x^{2} - 37 \\, x + 128\\right)}}{{\\left(x^{2} - 10 \\, x + 32\\right)} x}</script></html>"
      ],
      "text/plain": [
       "-2*(x^2 - 37*x + 128)/((x^2 - 10*x + 32)*x)"
      ]
     },
     "metadata": {},
     "output_type": "display_data"
    },
    {
     "data": {
      "text/html": [
       "<html><script type=\"math/tex; mode=display\">\\newcommand{\\Bold}[1]{\\mathbf{#1}}\\frac{7 \\, x^{2} + 60 \\, x + 140}{{\\left(x^{2} + 10 \\, x + 26\\right)} {\\left(x + 4\\right)}}</script></html>"
      ],
      "text/plain": [
       "(7*x^2 + 60*x + 140)/((x^2 + 10*x + 26)*(x + 4))"
      ]
     },
     "metadata": {},
     "output_type": "display_data"
    },
    {
     "data": {
      "text/html": [
       "<html><script type=\"math/tex; mode=display\">\\newcommand{\\Bold}[1]{\\mathbf{#1}}\\frac{16 \\, x^{2} - 197 \\, x + 651}{{\\left(x^{2} - 18 \\, x + 84\\right)} {\\left(x - 7\\right)}}</script></html>"
      ],
      "text/plain": [
       "(16*x^2 - 197*x + 651)/((x^2 - 18*x + 84)*(x - 7))"
      ]
     },
     "metadata": {},
     "output_type": "display_data"
    },
    {
     "data": {
      "text/html": [
       "<html><script type=\"math/tex; mode=display\">\\newcommand{\\Bold}[1]{\\mathbf{#1}}\\frac{7 \\, {\\left(29 \\, x + 97\\right)}}{{\\left(x^{2} + 20 \\, x + 105\\right)} {\\left(x - 8\\right)}}</script></html>"
      ],
      "text/plain": [
       "7*(29*x + 97)/((x^2 + 20*x + 105)*(x - 8))"
      ]
     },
     "metadata": {},
     "output_type": "display_data"
    },
    {
     "data": {
      "text/html": [
       "<html><script type=\"math/tex; mode=display\">\\newcommand{\\Bold}[1]{\\mathbf{#1}}-\\frac{{\\left(11 \\, x + 32\\right)} {\\left(x + 1\\right)}}{{\\left(x^{2} + 6 \\, x + 10\\right)} {\\left(x + 3\\right)}}</script></html>"
      ],
      "text/plain": [
       "-(11*x + 32)*(x + 1)/((x^2 + 6*x + 10)*(x + 3))"
      ]
     },
     "metadata": {},
     "output_type": "display_data"
    },
    {
     "data": {
      "text/html": [
       "<html><script type=\"math/tex; mode=display\">\\newcommand{\\Bold}[1]{\\mathbf{#1}}\\frac{5 \\, x^{2} - 77 \\, x - 220}{{\\left(x^{2} + 18 \\, x + 82\\right)} {\\left(x - 7\\right)}}</script></html>"
      ],
      "text/plain": [
       "(5*x^2 - 77*x - 220)/((x^2 + 18*x + 82)*(x - 7))"
      ]
     },
     "metadata": {},
     "output_type": "display_data"
    },
    {
     "data": {
      "text/html": [
       "<html><script type=\"math/tex; mode=display\">\\newcommand{\\Bold}[1]{\\mathbf{#1}}\\frac{x^{2} - 69 \\, x - 76}{{\\left(x^{2} + 4 \\, x + 10\\right)} {\\left(x - 4\\right)}}</script></html>"
      ],
      "text/plain": [
       "(x^2 - 69*x - 76)/((x^2 + 4*x + 10)*(x - 4))"
      ]
     },
     "metadata": {},
     "output_type": "display_data"
    },
    {
     "data": {
      "text/html": [
       "<html><script type=\"math/tex; mode=display\">\\newcommand{\\Bold}[1]{\\mathbf{#1}}\\frac{2 \\, {\\left(4 \\, x^{2} + 8 \\, x - 11\\right)}}{{\\left(x^{2} + 4 \\, x + 7\\right)} {\\left(x - 8\\right)}}</script></html>"
      ],
      "text/plain": [
       "2*(4*x^2 + 8*x - 11)/((x^2 + 4*x + 7)*(x - 8))"
      ]
     },
     "metadata": {},
     "output_type": "display_data"
    },
    {
     "data": {
      "text/html": [
       "<html><script type=\"math/tex; mode=display\">\\newcommand{\\Bold}[1]{\\mathbf{#1}}-\\frac{7 \\, x^{2} + 32 \\, x + 152}{{\\left(x^{2} + 4 \\, x + 11\\right)} {\\left(x + 8\\right)}}</script></html>"
      ],
      "text/plain": [
       "-(7*x^2 + 32*x + 152)/((x^2 + 4*x + 11)*(x + 8))"
      ]
     },
     "metadata": {},
     "output_type": "display_data"
    },
    {
     "data": {
      "text/html": [
       "<html><script type=\"math/tex; mode=display\">\\newcommand{\\Bold}[1]{\\mathbf{#1}}\\frac{6 \\, x^{2} - 89 \\, x - 31}{{\\left(x^{2} + 8 \\, x + 20\\right)} {\\left(x - 9\\right)}}</script></html>"
      ],
      "text/plain": [
       "(6*x^2 - 89*x - 31)/((x^2 + 8*x + 20)*(x - 9))"
      ]
     },
     "metadata": {},
     "output_type": "display_data"
    },
    {
     "data": {
      "text/html": [
       "<html><script type=\"math/tex; mode=display\">\\newcommand{\\Bold}[1]{\\mathbf{#1}}-\\frac{2 \\, {\\left(7 \\, x^{2} + 46 \\, x + 145\\right)}}{{\\left(x^{2} + 14 \\, x + 51\\right)} {\\left(x + 2\\right)}}</script></html>"
      ],
      "text/plain": [
       "-2*(7*x^2 + 46*x + 145)/((x^2 + 14*x + 51)*(x + 2))"
      ]
     },
     "metadata": {},
     "output_type": "display_data"
    },
    {
     "data": {
      "text/html": [
       "<html><script type=\"math/tex; mode=display\">\\newcommand{\\Bold}[1]{\\mathbf{#1}}-\\frac{6 \\, x^{2} + 19 \\, x + 53}{{\\left(x^{2} + 10 \\, x + 28\\right)} {\\left(x - 1\\right)}}</script></html>"
      ],
      "text/plain": [
       "-(6*x^2 + 19*x + 53)/((x^2 + 10*x + 28)*(x - 1))"
      ]
     },
     "metadata": {},
     "output_type": "display_data"
    },
    {
     "data": {
      "text/html": [
       "<html><script type=\"math/tex; mode=display\">\\newcommand{\\Bold}[1]{\\mathbf{#1}}-\\frac{3 \\, x^{2} - x + 44}{{\\left(x^{2} + 4 \\, x + 12\\right)} {\\left(x + 7\\right)}}</script></html>"
      ],
      "text/plain": [
       "-(3*x^2 - x + 44)/((x^2 + 4*x + 12)*(x + 7))"
      ]
     },
     "metadata": {},
     "output_type": "display_data"
    },
    {
     "data": {
      "text/html": [
       "<html><script type=\"math/tex; mode=display\">\\newcommand{\\Bold}[1]{\\mathbf{#1}}\\frac{{\\left(12 \\, x - 35\\right)} {\\left(x - 3\\right)}}{{\\left(x^{2} - 2 \\, x + 10\\right)} {\\left(x - 9\\right)}}</script></html>"
      ],
      "text/plain": [
       "(12*x - 35)*(x - 3)/((x^2 - 2*x + 10)*(x - 9))"
      ]
     },
     "metadata": {},
     "output_type": "display_data"
    },
    {
     "data": {
      "text/html": [
       "<html><script type=\"math/tex; mode=display\">\\newcommand{\\Bold}[1]{\\mathbf{#1}}\\frac{11 \\, x^{2} + x + 18}{{\\left(x^{2} - 4 \\, x + 9\\right)} {\\left(x + 1\\right)}}</script></html>"
      ],
      "text/plain": [
       "(11*x^2 + x + 18)/((x^2 - 4*x + 9)*(x + 1))"
      ]
     },
     "metadata": {},
     "output_type": "display_data"
    },
    {
     "data": {
      "text/html": [
       "<html><script type=\"math/tex; mode=display\">\\newcommand{\\Bold}[1]{\\mathbf{#1}}-\\frac{2 \\, {\\left(x^{2} - x + 4\\right)}}{{\\left(x^{2} - 2 \\, x + 3\\right)} {\\left(x - 1\\right)}}</script></html>"
      ],
      "text/plain": [
       "-2*(x^2 - x + 4)/((x^2 - 2*x + 3)*(x - 1))"
      ]
     },
     "metadata": {},
     "output_type": "display_data"
    },
    {
     "data": {
      "text/html": [
       "<html><script type=\"math/tex; mode=display\">\\newcommand{\\Bold}[1]{\\mathbf{#1}}\\frac{x^{2} + 10 \\, x - 99}{{\\left(x^{2} + 6 \\, x + 17\\right)} {\\left(x + 7\\right)}}</script></html>"
      ],
      "text/plain": [
       "(x^2 + 10*x - 99)/((x^2 + 6*x + 17)*(x + 7))"
      ]
     },
     "metadata": {},
     "output_type": "display_data"
    },
    {
     "data": {
      "text/html": [
       "<html><script type=\"math/tex; mode=display\">\\newcommand{\\Bold}[1]{\\mathbf{#1}}\\frac{x^{2} + 93 \\, x - 202}{{\\left(x^{2} - 12 \\, x + 38\\right)} {\\left(x + 10\\right)}}</script></html>"
      ],
      "text/plain": [
       "(x^2 + 93*x - 202)/((x^2 - 12*x + 38)*(x + 10))"
      ]
     },
     "metadata": {},
     "output_type": "display_data"
    },
    {
     "data": {
      "text/html": [
       "<html><script type=\"math/tex; mode=display\">\\newcommand{\\Bold}[1]{\\mathbf{#1}}\\frac{2 \\, x^{2} - 115 \\, x - 769}{{\\left(x^{2} + 20 \\, x + 109\\right)} {\\left(x + 3\\right)}}</script></html>"
      ],
      "text/plain": [
       "(2*x^2 - 115*x - 769)/((x^2 + 20*x + 109)*(x + 3))"
      ]
     },
     "metadata": {},
     "output_type": "display_data"
    },
    {
     "data": {
      "text/html": [
       "<html><script type=\"math/tex; mode=display\">\\newcommand{\\Bold}[1]{\\mathbf{#1}}-\\frac{11 \\, x^{2} + 8 \\, x + 27}{{\\left(x^{2} + 2 \\, x + 3\\right)} {\\left(x - 5\\right)}}</script></html>"
      ],
      "text/plain": [
       "-(11*x^2 + 8*x + 27)/((x^2 + 2*x + 3)*(x - 5))"
      ]
     },
     "metadata": {},
     "output_type": "display_data"
    },
    {
     "data": {
      "text/html": [
       "<html><script type=\"math/tex; mode=display\">\\newcommand{\\Bold}[1]{\\mathbf{#1}}-\\frac{7 \\, x^{2} - 33 \\, x + 58}{{\\left(x^{2} - 4 \\, x + 7\\right)} {\\left(x - 1\\right)}}</script></html>"
      ],
      "text/plain": [
       "-(7*x^2 - 33*x + 58)/((x^2 - 4*x + 7)*(x - 1))"
      ]
     },
     "metadata": {},
     "output_type": "display_data"
    },
    {
     "data": {
      "text/html": [
       "<html><script type=\"math/tex; mode=display\">\\newcommand{\\Bold}[1]{\\mathbf{#1}}\\frac{2 \\, {\\left(4 \\, x^{2} - 13 \\, x + 72\\right)}}{{\\left(x^{2} - 18 \\, x + 84\\right)} {\\left(x + 3\\right)}}</script></html>"
      ],
      "text/plain": [
       "2*(4*x^2 - 13*x + 72)/((x^2 - 18*x + 84)*(x + 3))"
      ]
     },
     "metadata": {},
     "output_type": "display_data"
    },
    {
     "data": {
      "text/html": [
       "<html><script type=\"math/tex; mode=display\">\\newcommand{\\Bold}[1]{\\mathbf{#1}}\\frac{x^{2} - 47 \\, x + 318}{{\\left(x^{2} - 18 \\, x + 82\\right)} {\\left(x - 8\\right)}}</script></html>"
      ],
      "text/plain": [
       "(x^2 - 47*x + 318)/((x^2 - 18*x + 82)*(x - 8))"
      ]
     },
     "metadata": {},
     "output_type": "display_data"
    },
    {
     "data": {
      "text/html": [
       "<html><script type=\"math/tex; mode=display\">\\newcommand{\\Bold}[1]{\\mathbf{#1}}-\\frac{2 \\, x^{2} - 67 \\, x - 41}{{\\left(x^{2} + 6 \\, x + 12\\right)} {\\left(x - 7\\right)}}</script></html>"
      ],
      "text/plain": [
       "-(2*x^2 - 67*x - 41)/((x^2 + 6*x + 12)*(x - 7))"
      ]
     },
     "metadata": {},
     "output_type": "display_data"
    },
    {
     "data": {
      "text/html": [
       "<html><script type=\"math/tex; mode=display\">\\newcommand{\\Bold}[1]{\\mathbf{#1}}\\frac{x^{2} - 6 \\, x + 14}{{\\left(x^{2} - 10 \\, x + 30\\right)} {\\left(x - 4\\right)}}</script></html>"
      ],
      "text/plain": [
       "(x^2 - 6*x + 14)/((x^2 - 10*x + 30)*(x - 4))"
      ]
     },
     "metadata": {},
     "output_type": "display_data"
    },
    {
     "data": {
      "text/html": [
       "<html><script type=\"math/tex; mode=display\">\\newcommand{\\Bold}[1]{\\mathbf{#1}}\\frac{3 \\, x^{2} + 17 \\, x - 15}{{\\left(x^{2} + 4\\right)} {\\left(x + 3\\right)}}</script></html>"
      ],
      "text/plain": [
       "(3*x^2 + 17*x - 15)/((x^2 + 4)*(x + 3))"
      ]
     },
     "metadata": {},
     "output_type": "display_data"
    },
    {
     "data": {
      "text/html": [
       "<html><script type=\"math/tex; mode=display\">\\newcommand{\\Bold}[1]{\\mathbf{#1}}-\\frac{7 \\, x^{2} + 117 \\, x + 432}{{\\left(x^{2} + 14 \\, x + 51\\right)} {\\left(x + 3\\right)}}</script></html>"
      ],
      "text/plain": [
       "-(7*x^2 + 117*x + 432)/((x^2 + 14*x + 51)*(x + 3))"
      ]
     },
     "metadata": {},
     "output_type": "display_data"
    },
    {
     "data": {
      "text/html": [
       "<html><script type=\"math/tex; mode=display\">\\newcommand{\\Bold}[1]{\\mathbf{#1}}-\\frac{{\\left(x - 4\\right)} {\\left(x - 6\\right)}}{{\\left(x^{2} + 2 \\, x + 2\\right)} {\\left(x + 4\\right)}}</script></html>"
      ],
      "text/plain": [
       "-(x - 4)*(x - 6)/((x^2 + 2*x + 2)*(x + 4))"
      ]
     },
     "metadata": {},
     "output_type": "display_data"
    },
    {
     "data": {
      "text/html": [
       "<html><script type=\"math/tex; mode=display\">\\newcommand{\\Bold}[1]{\\mathbf{#1}}\\frac{2 \\, {\\left(x^{2} - 31 \\, x + 146\\right)}}{{\\left(x^{2} - 16 \\, x + 72\\right)} {\\left(x - 2\\right)}}</script></html>"
      ],
      "text/plain": [
       "2*(x^2 - 31*x + 146)/((x^2 - 16*x + 72)*(x - 2))"
      ]
     },
     "metadata": {},
     "output_type": "display_data"
    },
    {
     "data": {
      "text/html": [
       "<html><script type=\"math/tex; mode=display\">\\newcommand{\\Bold}[1]{\\mathbf{#1}}-\\frac{6 \\, x^{2} - 21 \\, x + 22}{{\\left(x^{2} - 2 \\, x + 2\\right)} {\\left(x + 8\\right)}}</script></html>"
      ],
      "text/plain": [
       "-(6*x^2 - 21*x + 22)/((x^2 - 2*x + 2)*(x + 8))"
      ]
     },
     "metadata": {},
     "output_type": "display_data"
    },
    {
     "data": {
      "text/html": [
       "<html><script type=\"math/tex; mode=display\">\\newcommand{\\Bold}[1]{\\mathbf{#1}}-\\frac{3 \\, x^{2} - 35 \\, x + 229}{{\\left(x^{2} - 14 \\, x + 53\\right)} {\\left(x + 10\\right)}}</script></html>"
      ],
      "text/plain": [
       "-(3*x^2 - 35*x + 229)/((x^2 - 14*x + 53)*(x + 10))"
      ]
     },
     "metadata": {},
     "output_type": "display_data"
    },
    {
     "data": {
      "text/html": [
       "<html><script type=\"math/tex; mode=display\">\\newcommand{\\Bold}[1]{\\mathbf{#1}}\\frac{8 \\, x^{2} + 193 \\, x + 909}{{\\left(x^{2} + 20 \\, x + 105\\right)} {\\left(x - 9\\right)}}</script></html>"
      ],
      "text/plain": [
       "(8*x^2 + 193*x + 909)/((x^2 + 20*x + 105)*(x - 9))"
      ]
     },
     "metadata": {},
     "output_type": "display_data"
    },
    {
     "name": "stdout",
     "output_type": "stream",
     "text": [
      "--------------------------------\n",
      "Done: 2018-05-31 23:37:25.065259\n",
      "Folder: P305_fp_qi\n",
      "Filename: P305_fp_qi-1527827845.07.xml\n",
      "#exes: 500\n"
     ]
    }
   ],
   "source": [
    "np.random.seed(123)\n",
    "me.quick(gen, label, 500, impr=False)"
   ]
  }
 ],
 "metadata": {
  "kernelspec": {
   "display_name": "SageMath 7.5.1",
   "language": "",
   "name": "sagemath"
  },
  "language_info": {
   "codemirror_mode": {
    "name": "ipython",
    "version": 2
   },
   "file_extension": ".py",
   "mimetype": "text/x-python",
   "name": "python",
   "nbconvert_exporter": "python",
   "pygments_lexer": "ipython2",
   "version": "2.7.13"
  }
 },
 "nbformat": 4,
 "nbformat_minor": 0
}
