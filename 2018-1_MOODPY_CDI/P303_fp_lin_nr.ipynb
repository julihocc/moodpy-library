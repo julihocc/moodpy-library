{
 "cells": [
  {
   "cell_type": "code",
   "execution_count": 6,
   "metadata": {
    "collapsed": false
   },
   "outputs": [],
   "source": [
    "import moodpy02B as me\n",
    "import numpy as np"
   ]
  },
  {
   "cell_type": "code",
   "execution_count": 7,
   "metadata": {
    "collapsed": false
   },
   "outputs": [
    {
     "data": {
      "text/html": [
       "<h1>P303_fp_lin_nr</h1>"
      ],
      "text/plain": [
       "<h1>P303_fp_lin_nr</h1>"
      ]
     },
     "metadata": {},
     "output_type": "display_data"
    },
    {
     "data": {
      "text/html": [
       "\n",
       "<h1> Fracciones parciales </h1>\n",
       "<h2> Factores lineales no repetidos </h2>\n"
      ],
      "text/plain": [
       "\n",
       "<h1> Fracciones parciales </h1>\n",
       "<h2> Factores lineales no repetidos </h2>\n"
      ]
     },
     "metadata": {},
     "output_type": "display_data"
    }
   ],
   "source": [
    "label = \"P303_fp_lin_nr\"\n",
    "forma = \"\" \n",
    "cabecera = \"\"\"\n",
    "<h1> Fracciones parciales </h1>\n",
    "<h2> Factores lineales no repetidos </h2>\n",
    "\"\"\".format(forma)\n",
    "show(html(\"<h1>\"+label+\"</h1>\"))\n",
    "show(html(cabecera))"
   ]
  },
  {
   "cell_type": "code",
   "execution_count": 8,
   "metadata": {
    "collapsed": false
   },
   "outputs": [
    {
     "data": {
      "text/html": [
       "\n",
       "<h1> Fracciones parciales </h1>\n",
       "<h2> Factores lineales no repetidos </h2>\n",
       "\n",
       "    <p> Determine los coeficientes en el siguiente desarrollo en fracciones parciales\n",
       "    <script type=\"math/tex; mode=display\">     -\\frac{2 \\, x^{2} - 7 \\, x - 1}{{\\left(x + 5\\right)} {\\left(x - 1\\right)} {\\left(x - 2\\right)}} = \\frac{A_0}{(x + 5)}+\\frac{A_1}{(x - 1)}+\\frac{A_2}{(x - 2)}     </script> <p>\n",
       "    <p>\n",
       "    \\(A_0 =\\) {1:NM:=-2} <br>\n",
       "    \\(A_1 =\\) {1:NM:=-1} <br>\n",
       "    \\(A_2 =\\) {1:NM:=1}\n",
       "    </p>\n",
       "    \n",
       "    Consulta \"Precálculo\" de J. Stewart, sección 9.8, caso 1.\n",
       "    "
      ],
      "text/plain": [
       "\n",
       "<h1> Fracciones parciales </h1>\n",
       "<h2> Factores lineales no repetidos </h2>\n",
       "\n",
       "    <p> Determine los coeficientes en el siguiente desarrollo en fracciones parciales\n",
       "    <script type=\"math/tex; mode=display\">     -\\frac{2 \\, x^{2} - 7 \\, x - 1}{{\\left(x + 5\\right)} {\\left(x - 1\\right)} {\\left(x - 2\\right)}} = \\frac{A_0}{(x + 5)}+\\frac{A_1}{(x - 1)}+\\frac{A_2}{(x - 2)}     </script> <p>\n",
       "    <p>\n",
       "    \\(A_0 =\\) {1:NM:=-2} <br>\n",
       "    \\(A_1 =\\) {1:NM:=-1} <br>\n",
       "    \\(A_2 =\\) {1:NM:=1}\n",
       "    </p>\n",
       "    \n",
       "    Consulta \"Precálculo\" de J. Stewart, sección 9.8, caso 1.\n",
       "    "
      ]
     },
     "metadata": {},
     "output_type": "display_data"
    },
    {
     "name": "stdout",
     "output_type": "stream",
     "text": [
      "\n",
      "    <questiontext format=\"html\">\n",
      "<text>\n",
      "<![CDATA[\n",
      "\n",
      "<h1> Fracciones parciales </h1>\n",
      "<h2> Factores lineales no repetidos </h2>\n",
      "\n",
      "    <p> Determine los coeficientes en el siguiente desarrollo en fracciones parciales\n",
      "    $$\n",
      "    -\\frac{2 \\, x^{2} - 7 \\, x - 1}{{\\left(x + 5\\right)} {\\left(x - 1\\right)} {\\left(x - 2\\right)}} = \\frac{A_0}{(x + 5)}+\\frac{A_1}{(x - 1)}+\\frac{A_2}{(x - 2)}\n",
      "    $$ <p>\n",
      "    <p>\n",
      "    \\(A_0 =\\) {1:NM:=-2} <br>\n",
      "    \\(A_1 =\\) {1:NM:=-1} <br>\n",
      "    \\(A_2 =\\) {1:NM:=1}\n",
      "    </p>\n",
      "    \n",
      "]]>\n",
      "</text></questiontext>\n",
      "\n",
      "    <generalfeedback format=\"html\">\n",
      "<text>\n",
      "<![CDATA[\n",
      "\n",
      "    Consulta \"Precálculo\" de J. Stewart, sección 9.8, caso 1.\n",
      "    \n",
      "]]>\n",
      "</text></generalfeedback>\n",
      "\n",
      "    \n"
     ]
    }
   ],
   "source": [
    "def gen(impr, cabecera=\"\"):\n",
    "    \n",
    "    data = {}\n",
    "    ans = {}\n",
    "    tex = {}\n",
    "    \n",
    "    x = var(\"x\")\n",
    "    ### \n",
    "    \n",
    "    while True:\n",
    "        a = np.random.randint(-10,10, size= 3)\n",
    "        if a[0]!=a[1] and a[1]!=a[2] and a[2]!=a[0]:\n",
    "            break\n",
    "\n",
    "    while True:\n",
    "        A = np.random.randint(-10,10, size = 3)\n",
    "        if A[0]*A[1]*A[2]!=0:\n",
    "            break\n",
    "\n",
    "    F = A[0]/(x-a[0])+A[1]/(x-a[1])+A[2]/(x-a[2])\n",
    "    F = F.factor()\n",
    "    F = latex(F)\n",
    "    \n",
    "    ### HTML\n",
    "    \n",
    "    d0 = latex(x-a[0])\n",
    "    d1 = latex(x-a[1])\n",
    "    d2 = latex(x-a[2])\n",
    "    setting = \"\"\"\n",
    "    {} = \\\\frac{{A_0}}{{({})}}+\\\\frac{{A_1}}{{({})}}+\\\\frac{{A_2}}{{({})}}\n",
    "    \"\"\".format(F, d0,d1,d2)\n",
    "    \n",
    "    tex[\"set\"] = setting\n",
    "    \n",
    "    ans[\"A0\"] = me.NM(A[0], entero=True)\n",
    "    ans[\"A1\"] = me.NM(A[1], entero=True)\n",
    "    ans[\"A2\"] = me.NM(A[2], entero=True)\n",
    "    \n",
    "    ### OUTPUT\n",
    "    \n",
    "    ejercicio = cabecera + \"\"\"\n",
    "    <p> Determine los coeficientes en el siguiente desarrollo en fracciones parciales\n",
    "    $${tex[set]}$$ <p>\n",
    "    <p>\n",
    "    \\(A_0 =\\) {ans[A0]} <br>\n",
    "    \\(A_1 =\\) {ans[A1]} <br>\n",
    "    \\(A_2 =\\) {ans[A2]}\n",
    "    </p>\n",
    "    \"\"\".format(tex=tex, data=data, ans=ans)\n",
    "    \n",
    "\n",
    "    retroalimentacion = \"\"\"\n",
    "    Consulta \"Precálculo\" de J. Stewart, sección 9.8, caso 1.\n",
    "    \"\"\".format(tex=tex)\n",
    "    if impr:\n",
    "        show(html(ejercicio+retroalimentacion))\n",
    "    return me.pretty(ejercicio, retroalimentacion)\n",
    "\n",
    "np.random.seed(1)\n",
    "#show(html(\"<h1>\"+label+\"</h1>\"))\n",
    "#print(cabecera)\n",
    "me.quick(gen, label, 0, impr=True, cabecera=cabecera)"
   ]
  },
  {
   "cell_type": "code",
   "execution_count": 9,
   "metadata": {
    "collapsed": false,
    "scrolled": true
   },
   "outputs": [
    {
     "data": {
      "text/html": [
       "\n",
       "    <p> Determine los coeficientes en el siguiente desarrollo en fracciones parciales\n",
       "    <script type=\"math/tex; mode=display\">     -\\frac{22 \\, x^{2} - 59 \\, x - 203}{{\\left(x + 4\\right)} {\\left(x - 1\\right)} {\\left(x - 7\\right)}} = \\frac{A_0}{(x - 1)}+\\frac{A_1}{(x + 4)}+\\frac{A_2}{(x - 7)}     </script> <p>\n",
       "    <p>\n",
       "    \\(A_0 =\\) {1:NM:=-8} <br>\n",
       "    \\(A_1 =\\) {1:NM:=-7} <br>\n",
       "    \\(A_2 =\\) {1:NM:=-7}\n",
       "    </p>\n",
       "    \n",
       "    Consulta \"Precálculo\" de J. Stewart, sección 9.8, caso 1.\n",
       "    "
      ],
      "text/plain": [
       "\n",
       "    <p> Determine los coeficientes en el siguiente desarrollo en fracciones parciales\n",
       "    <script type=\"math/tex; mode=display\">     -\\frac{22 \\, x^{2} - 59 \\, x - 203}{{\\left(x + 4\\right)} {\\left(x - 1\\right)} {\\left(x - 7\\right)}} = \\frac{A_0}{(x - 1)}+\\frac{A_1}{(x + 4)}+\\frac{A_2}{(x - 7)}     </script> <p>\n",
       "    <p>\n",
       "    \\(A_0 =\\) {1:NM:=-8} <br>\n",
       "    \\(A_1 =\\) {1:NM:=-7} <br>\n",
       "    \\(A_2 =\\) {1:NM:=-7}\n",
       "    </p>\n",
       "    \n",
       "    Consulta \"Precálculo\" de J. Stewart, sección 9.8, caso 1.\n",
       "    "
      ]
     },
     "metadata": {},
     "output_type": "display_data"
    },
    {
     "data": {
      "text/html": [
       "\n",
       "    <p> Determine los coeficientes en el siguiente desarrollo en fracciones parciales\n",
       "    <script type=\"math/tex; mode=display\">     -\\frac{2 \\, {\\left(5 \\, x^{2} - 51 \\, x + 132\\right)}}{{\\left(x - 2\\right)} {\\left(x - 6\\right)} {\\left(x - 7\\right)}} = \\frac{A_0}{(x - 2)}+\\frac{A_1}{(x - 6)}+\\frac{A_2}{(x - 7)}     </script> <p>\n",
       "    <p>\n",
       "    \\(A_0 =\\) {1:NM:=-5} <br>\n",
       "    \\(A_1 =\\) {1:NM:=3} <br>\n",
       "    \\(A_2 =\\) {1:NM:=-8}\n",
       "    </p>\n",
       "    \n",
       "    Consulta \"Precálculo\" de J. Stewart, sección 9.8, caso 1.\n",
       "    "
      ],
      "text/plain": [
       "\n",
       "    <p> Determine los coeficientes en el siguiente desarrollo en fracciones parciales\n",
       "    <script type=\"math/tex; mode=display\">     -\\frac{2 \\, {\\left(5 \\, x^{2} - 51 \\, x + 132\\right)}}{{\\left(x - 2\\right)} {\\left(x - 6\\right)} {\\left(x - 7\\right)}} = \\frac{A_0}{(x - 2)}+\\frac{A_1}{(x - 6)}+\\frac{A_2}{(x - 7)}     </script> <p>\n",
       "    <p>\n",
       "    \\(A_0 =\\) {1:NM:=-5} <br>\n",
       "    \\(A_1 =\\) {1:NM:=3} <br>\n",
       "    \\(A_2 =\\) {1:NM:=-8}\n",
       "    </p>\n",
       "    \n",
       "    Consulta \"Precálculo\" de J. Stewart, sección 9.8, caso 1.\n",
       "    "
      ]
     },
     "metadata": {},
     "output_type": "display_data"
    },
    {
     "data": {
      "text/html": [
       "\n",
       "    <p> Determine los coeficientes en el siguiente desarrollo en fracciones parciales\n",
       "    <script type=\"math/tex; mode=display\">     \\frac{3 \\, x^{2} - 5 \\, x - 20}{{\\left(x + 10\\right)} {\\left(x - 1\\right)} x} = \\frac{A_0}{(x - 1)}+\\frac{A_1}{(x)}+\\frac{A_2}{(x + 10)}     </script> <p>\n",
       "    <p>\n",
       "    \\(A_0 =\\) {1:NM:=-2} <br>\n",
       "    \\(A_1 =\\) {1:NM:=2} <br>\n",
       "    \\(A_2 =\\) {1:NM:=3}\n",
       "    </p>\n",
       "    \n",
       "    Consulta \"Precálculo\" de J. Stewart, sección 9.8, caso 1.\n",
       "    "
      ],
      "text/plain": [
       "\n",
       "    <p> Determine los coeficientes en el siguiente desarrollo en fracciones parciales\n",
       "    <script type=\"math/tex; mode=display\">     \\frac{3 \\, x^{2} - 5 \\, x - 20}{{\\left(x + 10\\right)} {\\left(x - 1\\right)} x} = \\frac{A_0}{(x - 1)}+\\frac{A_1}{(x)}+\\frac{A_2}{(x + 10)}     </script> <p>\n",
       "    <p>\n",
       "    \\(A_0 =\\) {1:NM:=-2} <br>\n",
       "    \\(A_1 =\\) {1:NM:=2} <br>\n",
       "    \\(A_2 =\\) {1:NM:=3}\n",
       "    </p>\n",
       "    \n",
       "    Consulta \"Precálculo\" de J. Stewart, sección 9.8, caso 1.\n",
       "    "
      ]
     },
     "metadata": {},
     "output_type": "display_data"
    },
    {
     "data": {
      "text/html": [
       "\n",
       "    <p> Determine los coeficientes en el siguiente desarrollo en fracciones parciales\n",
       "    <script type=\"math/tex; mode=display\">     -\\frac{26 \\, x^{2} + 63 \\, x - 698}{{\\left(x + 7\\right)} {\\left(x + 6\\right)} {\\left(x - 8\\right)}} = \\frac{A_0}{(x - 8)}+\\frac{A_1}{(x + 7)}+\\frac{A_2}{(x + 6)}     </script> <p>\n",
       "    <p>\n",
       "    \\(A_0 =\\) {1:NM:=-7} <br>\n",
       "    \\(A_1 =\\) {1:NM:=-9} <br>\n",
       "    \\(A_2 =\\) {1:NM:=-10}\n",
       "    </p>\n",
       "    \n",
       "    Consulta \"Precálculo\" de J. Stewart, sección 9.8, caso 1.\n",
       "    "
      ],
      "text/plain": [
       "\n",
       "    <p> Determine los coeficientes en el siguiente desarrollo en fracciones parciales\n",
       "    <script type=\"math/tex; mode=display\">     -\\frac{26 \\, x^{2} + 63 \\, x - 698}{{\\left(x + 7\\right)} {\\left(x + 6\\right)} {\\left(x - 8\\right)}} = \\frac{A_0}{(x - 8)}+\\frac{A_1}{(x + 7)}+\\frac{A_2}{(x + 6)}     </script> <p>\n",
       "    <p>\n",
       "    \\(A_0 =\\) {1:NM:=-7} <br>\n",
       "    \\(A_1 =\\) {1:NM:=-9} <br>\n",
       "    \\(A_2 =\\) {1:NM:=-10}\n",
       "    </p>\n",
       "    \n",
       "    Consulta \"Precálculo\" de J. Stewart, sección 9.8, caso 1.\n",
       "    "
      ]
     },
     "metadata": {},
     "output_type": "display_data"
    },
    {
     "data": {
      "text/html": [
       "\n",
       "    <p> Determine los coeficientes en el siguiente desarrollo en fracciones parciales\n",
       "    <script type=\"math/tex; mode=display\">     -\\frac{x^{2} - 14 \\, x - 135}{{\\left(x + 4\\right)} {\\left(x + 1\\right)} {\\left(x - 3\\right)}} = \\frac{A_0}{(x + 4)}+\\frac{A_1}{(x - 3)}+\\frac{A_2}{(x + 1)}     </script> <p>\n",
       "    <p>\n",
       "    \\(A_0 =\\) {1:NM:=3} <br>\n",
       "    \\(A_1 =\\) {1:NM:=6} <br>\n",
       "    \\(A_2 =\\) {1:NM:=-10}\n",
       "    </p>\n",
       "    \n",
       "    Consulta \"Precálculo\" de J. Stewart, sección 9.8, caso 1.\n",
       "    "
      ],
      "text/plain": [
       "\n",
       "    <p> Determine los coeficientes en el siguiente desarrollo en fracciones parciales\n",
       "    <script type=\"math/tex; mode=display\">     -\\frac{x^{2} - 14 \\, x - 135}{{\\left(x + 4\\right)} {\\left(x + 1\\right)} {\\left(x - 3\\right)}} = \\frac{A_0}{(x + 4)}+\\frac{A_1}{(x - 3)}+\\frac{A_2}{(x + 1)}     </script> <p>\n",
       "    <p>\n",
       "    \\(A_0 =\\) {1:NM:=3} <br>\n",
       "    \\(A_1 =\\) {1:NM:=6} <br>\n",
       "    \\(A_2 =\\) {1:NM:=-10}\n",
       "    </p>\n",
       "    \n",
       "    Consulta \"Precálculo\" de J. Stewart, sección 9.8, caso 1.\n",
       "    "
      ]
     },
     "metadata": {},
     "output_type": "display_data"
    },
    {
     "name": "stdout",
     "output_type": "stream",
     "text": [
      "--------------------------------\n",
      "Done: 2018-05-31 23:19:31.662812\n",
      "Folder: P303_fp_lin_nr\n",
      "Filename: P303_fp_lin_nr-1527826771.66.xml\n",
      "#exes: 5\n"
     ]
    }
   ],
   "source": [
    "np.random.seed(12)\n",
    "me.quick(gen, label, 5, impr=True)"
   ]
  },
  {
   "cell_type": "code",
   "execution_count": 10,
   "metadata": {
    "collapsed": false,
    "scrolled": true
   },
   "outputs": [
    {
     "name": "stdout",
     "output_type": "stream",
     "text": [
      "--------------------------------\n",
      "Done: 2018-05-31 23:19:35.005755\n",
      "Folder: P303_fp_lin_nr\n",
      "Filename: P303_fp_lin_nr-1527826775.01.xml\n",
      "#exes: 500\n"
     ]
    }
   ],
   "source": [
    "np.random.seed(123)\n",
    "me.quick(gen, label, 500, impr=False)"
   ]
  }
 ],
 "metadata": {
  "kernelspec": {
   "display_name": "SageMath 7.5.1",
   "language": "",
   "name": "sagemath"
  },
  "language_info": {
   "codemirror_mode": {
    "name": "ipython",
    "version": 2
   },
   "file_extension": ".py",
   "mimetype": "text/x-python",
   "name": "python",
   "nbconvert_exporter": "python",
   "pygments_lexer": "ipython2",
   "version": "2.7.13"
  }
 },
 "nbformat": 4,
 "nbformat_minor": 0
}
