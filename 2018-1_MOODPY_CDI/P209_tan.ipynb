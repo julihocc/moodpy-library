{
 "cells": [
  {
   "cell_type": "code",
   "execution_count": 33,
   "metadata": {
    "collapsed": false
   },
   "outputs": [],
   "source": [
    "import moodpy02 as me\n",
    "import numpy as np"
   ]
  },
  {
   "cell_type": "code",
   "execution_count": 34,
   "metadata": {
    "collapsed": true
   },
   "outputs": [],
   "source": [
    "label = \"P209_tan\"\n",
    "forma = \"\\\\tan(u)\"\n",
    "cabecera = \"\"\"\n",
    "Integrando de la forma \\(f(x)={}\\)\n",
    "\"\"\".format(forma)"
   ]
  },
  {
   "cell_type": "code",
   "execution_count": 35,
   "metadata": {
    "collapsed": false,
    "scrolled": true
   },
   "outputs": [
    {
     "data": {
      "text/html": [
       "<h1>P209_tan</h1>"
      ],
      "text/plain": [
       "<h1>P209_tan</h1>"
      ]
     },
     "metadata": {},
     "output_type": "display_data"
    },
    {
     "name": "stdout",
     "output_type": "stream",
     "text": [
      "\n",
      "<h1> Integrales por tabla</h1>\n",
      "<h2> Integrando de la forma \\(f(x)=\\tan(u)\\)</h2>\n",
      "\n"
     ]
    }
   ],
   "source": [
    "def gen(impr):\n",
    "    \n",
    "    data = {}\n",
    "    ans = {}\n",
    "    tex = {}\n",
    "    \n",
    "    ### Definición de antiderivada\n",
    "    x=var(\"x\")\n",
    "    while True:\n",
    "        p = np.random.randint(-2,2)\n",
    "        if p!=0:\n",
    "            break\n",
    "    u(x) = x\n",
    "    F(x) = -ln(cos(u(x)))\n",
    "    #F(x) = ln(sec(u(x)))\n",
    "    \n",
    "    while True:\n",
    "        M = np.random.randint(-10,10)\n",
    "        if M!=0:\n",
    "            break\n",
    "    N = np.random.randint(1,10)\n",
    "    F(x) = M*F(x)/N    \n",
    "    f(x) = F.diff(x)(x).simplify_full().simplify_trig()\n",
    "    \n",
    "    while True:\n",
    "        a_ = np.around(np.random.random(),2)\n",
    "        b_ = np.around(np.random.random(),2)\n",
    "        a0 = -pi*a_/2; a=u(a0)\n",
    "        b0 = pi*b_/2; b=u(b0)\n",
    "        if a_>0.01 and b_>0.01 and a0>-pi/2 and b0>a0 and pi/2>b0:\n",
    "            break\n",
    "            \n",
    "    I = (F(b)-F(a))/(b-a); I = I.n()\n",
    "    \n",
    "    ### grafica    \n",
    "    g = Graphics()\n",
    "    if impr:\n",
    "        show(u)\n",
    "        show(f)\n",
    "        print(f(x),a,b)\n",
    "        \n",
    "    if a<=b:\n",
    "        if 0<=I:\n",
    "            g += plot(f,(x,a,b), fill=True, fillcolor=\"blue\", fillalpha=0.1)\n",
    "        else:\n",
    "            g += plot(f,(x,a,b), fill=True, fillcolor=\"red\", fillalpha=0.1)\n",
    "    else:\n",
    "        if 0<=I:\n",
    "            g += plot(f,(x,b,a), fill=True, fillcolor=\"blue\", fillalpha=0.1)\n",
    "        else:\n",
    "            g += plot(f,(x,b,a), fill=True, fillcolor=\"red\", fillalpha=0.1)\n",
    "        \n",
    "    \n",
    "    xx = np.linspace(a.n(),b.n())    \n",
    "    m = min([f(u) for u in xx])\n",
    "    M = max([f(u) for u in xx])\n",
    "    g.ymin(m)\n",
    "    g.ymax(M)\n",
    "    g.set_aspect_ratio(\"automatic\")\n",
    "    \n",
    "    if impr:\n",
    "        show(g)\n",
    "\n",
    "    filename, encoded = me.encodeGraf(g)\n",
    "    im = me.tagImg(filename)    \n",
    "    s = me.fileImg(filename, encoded)\n",
    "    \n",
    "    ### HTML\n",
    "    \n",
    "    tex[\"forma\"] = forma\n",
    "    data[\"im\"] = im    \n",
    "    ans[\"I\"]=me.NM(I.n())\n",
    "    tex[\"f\"] = latex(f(x))\n",
    "    tex[\"F\"] = latex(F(x))\n",
    "    \n",
    "    if a<=b:\n",
    "        tex[\"intervalo\"] = \"[{},{}]\".format(latex(a),latex(b))\n",
    "    else:\n",
    "        tex[\"intervalo\"] = \"[{},{}]\".format(latex(b),latex(a))    \n",
    "        \n",
    "    cabecera = \"\"\"\n",
    "    <h1> Integrales por tabla</h1>\n",
    "    <h2> Integrando de la forma \\(f(x)={tex[forma]}\\)</h2>\n",
    "    \"\"\".format(tex=tex)\n",
    "        \n",
    "    ejercicio = cabecera + \"\"\"\n",
    "    <p> Encuentre el valor promedio de la función \\(f(x)={tex[f]}\\) en el intervalo \\({tex[intervalo]}\\).</p>\n",
    "    {data[im]}\n",
    "    <pre> Valor promedio = {ans[I]} </pre>\n",
    "    \"\"\".format(tex=tex, data=data, ans=ans)\n",
    "    \n",
    "    F(x) = f.integral(x)(x)\n",
    "    tex[\"F\"] = latex(F(x))\n",
    "    \n",
    "    retroalimentacion = \"\"\"\n",
    "    Una antiderivada para \\({tex[f]}\\) está dada por \\(F(x)={tex[F]}\\). \n",
    "    \"\"\".format(tex=tex)\n",
    "    if impr:\n",
    "        show(html(ejercicio+retroalimentacion))\n",
    "    return me.pretty(ejercicio, retroalimentacion, im1=s)\n",
    "\n",
    "np.random.seed(1)\n",
    "show(html(\"<h1>\"+label+\"</h1>\"))\n",
    "print(cabecera)\n",
    "#me.quick(gen, label, 0, impr=True)"
   ]
  },
  {
   "cell_type": "code",
   "execution_count": 36,
   "metadata": {
    "collapsed": false,
    "scrolled": true
   },
   "outputs": [],
   "source": [
    "np.random.seed(12)\n",
    "#me.quick(gen, label, 5, impr=True)"
   ]
  },
  {
   "cell_type": "code",
   "execution_count": 37,
   "metadata": {
    "collapsed": false,
    "scrolled": true
   },
   "outputs": [
    {
     "name": "stdout",
     "output_type": "stream",
     "text": [
      "--------------------------------\n",
      "Done: 2018-04-01 23:13:39.992706\n",
      "Folder: P209_tan\n",
      "Filename: P209_tan-1522642419.99.xml\n",
      "#exes: 110\n"
     ]
    }
   ],
   "source": [
    "np.random.seed(123)\n",
    "me.quick(gen, label, 110, impr=False)"
   ]
  }
 ],
 "metadata": {
  "kernelspec": {
   "display_name": "SageMath 7.5.1",
   "language": "",
   "name": "sagemath"
  },
  "language_info": {
   "codemirror_mode": {
    "name": "ipython",
    "version": 2
   },
   "file_extension": ".py",
   "mimetype": "text/x-python",
   "name": "python",
   "nbconvert_exporter": "python",
   "pygments_lexer": "ipython2",
   "version": "2.7.13"
  }
 },
 "nbformat": 4,
 "nbformat_minor": 0
}
