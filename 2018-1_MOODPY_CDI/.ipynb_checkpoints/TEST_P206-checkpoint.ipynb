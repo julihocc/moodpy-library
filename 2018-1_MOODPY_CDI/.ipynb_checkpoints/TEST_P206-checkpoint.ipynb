{
 "cells": [
  {
   "cell_type": "code",
   "execution_count": 36,
   "metadata": {
    "collapsed": false
   },
   "outputs": [],
   "source": [
    "import numpy as np\n",
    "\n",
    "pruebas = 0\n",
    "for _ in range(pruebas):\n",
    "    while True:        \n",
    "        h = np.random.randint(-10,10)\n",
    "        k = np.random.randint(1,10)\n",
    "        N = np.random.randint(-10,10)\n",
    "        M = np.random.randint(1,10)\n",
    "        Io = h-k; If = h+k\n",
    "        a = float(np.around(Io + np.random.random()*(If-Io),2))\n",
    "        b = float(np.around(a + np.random.random()*(If-a),2))\n",
    "        if N!=0 and b>a+0.1:\n",
    "            break\n",
    "    x = var(\"x\")\n",
    "    u(x) =  -(x-h)^2+k^2\n",
    "    ux(x) = u.diff(x)(x)\n",
    "    f(x) = N*ux(x)/(M*u(x)).expand()\n",
    "    show(f)\n",
    "    print \"\\n\",a,b,f.integrate(x,a,b)/(b-a),\"\\n\",_*\"_\" "
   ]
  },
  {
   "cell_type": "code",
   "execution_count": 37,
   "metadata": {
    "collapsed": false
   },
   "outputs": [
    {
     "name": "stdout",
     "output_type": "stream",
     "text": [
      "-0.01638951494504521\n"
     ]
    }
   ],
   "source": [
    "x = var(\"x\")\n",
    "f(x) = -1/2*(x + 2)/(x^2 + 4*x - 45)\n",
    "a = -4.89\n",
    "b = -2.04\n",
    "I = f.integrate(x,a,b)/(b-a)\n",
    "print I"
   ]
  },
  {
   "cell_type": "code",
   "execution_count": 38,
   "metadata": {
    "collapsed": false
   },
   "outputs": [
    {
     "name": "stdout",
     "output_type": "stream",
     "text": [
      "-0.01638951494504521\n"
     ]
    }
   ],
   "source": [
    "x = var(\"x\")\n",
    "f(x) = -1/2*(x + 2)/(x^2 + 4*x - 45)\n",
    "a = -4.89\n",
    "b = -2.04\n",
    "I = f.integrate(x,a,b)/(b-a)\n",
    "print I"
   ]
  },
  {
   "cell_type": "code",
   "execution_count": 39,
   "metadata": {
    "collapsed": false
   },
   "outputs": [
    {
     "name": "stdout",
     "output_type": "stream",
     "text": [
      "-0.01638951494504521\n"
     ]
    }
   ],
   "source": [
    "x = var(\"x\")\n",
    "f(x) = -1/2*(x + 2)/(x^2 + 4*x - 45)\n",
    "a = -4.89\n",
    "b = -2.04\n",
    "I = f.integrate(x,a,b)/(b-a)\n",
    "print I"
   ]
  },
  {
   "cell_type": "code",
   "execution_count": 40,
   "metadata": {
    "collapsed": false
   },
   "outputs": [
    {
     "name": "stdout",
     "output_type": "stream",
     "text": [
      "0.5460302124414261\n"
     ]
    }
   ],
   "source": [
    "x = var(\"x\")\n",
    "f(x) = -10/3*(x - 7)/(x^2 - 14*x + 24)\n",
    "a = 9.26\n",
    "b = 10.28\n",
    "I = f.integrate(x,a,b)/(b-a)\n",
    "print I"
   ]
  },
  {
   "cell_type": "code",
   "execution_count": 41,
   "metadata": {
    "collapsed": false
   },
   "outputs": [
    {
     "name": "stdout",
     "output_type": "stream",
     "text": [
      "0.34646890575339123\n"
     ]
    }
   ],
   "source": [
    "x = var(\"x\")\n",
    "f(x) = -14/5*(x + 2)/(x^2 + 4*x - 5)\n",
    "a = -1.87\n",
    "b = -0.29\n",
    "I = f.integrate(x,a,b)/(b-a)\n",
    "print I"
   ]
  },
  {
   "cell_type": "code",
   "execution_count": 42,
   "metadata": {
    "collapsed": false
   },
   "outputs": [
    {
     "name": "stdout",
     "output_type": "stream",
     "text": [
      "0.7801146256160625\n"
     ]
    }
   ],
   "source": [
    "x = var(\"x\")\n",
    "f(x) = -20/9*(x + 1)/(x^2 + 2*x)\n",
    "a = -0.74\n",
    "b = -0.63\n",
    "I = f.integrate(x,a,b)/(b-a)\n",
    "print I"
   ]
  },
  {
   "cell_type": "code",
   "execution_count": 49,
   "metadata": {
    "collapsed": false
   },
   "outputs": [
    {
     "name": "stdout",
     "output_type": "stream",
     "text": [
      "-0.1994169495011769\n"
     ]
    }
   ],
   "source": [
    "# 12/7*(x + 6)/(x^2 + 12*x - 45) -1.46 0.61\n",
    "x = var(\"x\")\n",
    "f(x) = 12/7*(x + 6)/(x^2 + 12*x - 45)\n",
    "a = -1.46\n",
    "b = 0.61\n",
    "I = f.integrate(x,a,b)/(b-a)\n",
    "print I"
   ]
  }
 ],
 "metadata": {
  "kernelspec": {
   "display_name": "SageMath 7.5.1",
   "language": "",
   "name": "sagemath"
  },
  "language_info": {
   "codemirror_mode": {
    "name": "ipython",
    "version": 2
   },
   "file_extension": ".py",
   "mimetype": "text/x-python",
   "name": "python",
   "nbconvert_exporter": "python",
   "pygments_lexer": "ipython2",
   "version": "2.7.13"
  }
 },
 "nbformat": 4,
 "nbformat_minor": 0
}
