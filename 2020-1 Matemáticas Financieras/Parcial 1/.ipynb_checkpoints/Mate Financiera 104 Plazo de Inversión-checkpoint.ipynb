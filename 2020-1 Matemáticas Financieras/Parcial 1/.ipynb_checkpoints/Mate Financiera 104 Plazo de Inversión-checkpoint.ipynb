{
 "cells": [
  {
   "cell_type": "raw",
   "metadata": {},
   "source": [
    "**Esta es una plantilla**\n",
    "**¡NO MODIFICAR PARA USO CORRIENTE!**"
   ]
  },
  {
   "cell_type": "code",
   "execution_count": null,
   "metadata": {},
   "outputs": [],
   "source": [
    "import moodpy as me\n",
    "import numpy as np\n",
    "np.random.seed(123)\n",
    "sage.misc.html._old_and_deprecated_behavior = False"
   ]
  },
  {
   "cell_type": "code",
   "execution_count": null,
   "metadata": {},
   "outputs": [],
   "source": [
    "\"\"\"\n",
    "CAMBIAR CLAVE Y TEMA!!!\n",
    "\"\"\"\n",
    "MATERIA = \"Matemáticas Financieras\"\n",
    "CLAVE = \"000\"\n",
    "TEMA = \"---\"\n",
    "label = \"{} {} {}\".format(MATERIA, CLAVE, TEMA.upper())\n",
    "miCabecera = \"<h1> {} </h1>\".format(TEMA.title())\n",
    "print(\"<h1>\"+label+\"</h1>\")\n",
    "print(miCabecera)"
   ]
  },
  {
   "cell_type": "code",
   "execution_count": null,
   "metadata": {},
   "outputs": [],
   "source": [
    "# Funciones"
   ]
  },
  {
   "cell_type": "code",
   "execution_count": null,
   "metadata": {},
   "outputs": [],
   "source": []
  },
  {
   "cell_type": "code",
   "execution_count": null,
   "metadata": {},
   "outputs": [],
   "source": [
    "# Generador de ejercicios"
   ]
  },
  {
   "cell_type": "code",
   "execution_count": null,
   "metadata": {},
   "outputs": [],
   "source": [
    "def gen_exercise(impr=False, cabecera=\"\"):\n",
    "    data ={}\n",
    "    answers = {}\n",
    "    feedback = {}\n",
    "    \n",
    "    ejercicio = cabecera + \"\"\"\n",
    "    \n",
    "    \"\"\".format(a=answers, d=data)\n",
    "    \n",
    "    retroalimentacion = \"\"\"\n",
    "    \n",
    "    \"\"\".format(f=feedback)\n",
    "    \n",
    "    return me.pretty(ejercicio, retroalimentacion)\n",
    "    \n",
    "print(html(\"<h1>\"+label+\"</h1>\"))\n",
    "me.quick(gen_exercise, label, 0, impr=True, cabecera=miCabecera)"
   ]
  },
  {
   "cell_type": "raw",
   "metadata": {},
   "source": [
    "me.quick(gen_exercise, label, 5, impr=True, cabecera=miCabecera)"
   ]
  },
  {
   "cell_type": "raw",
   "metadata": {},
   "source": [
    "me.quick(gen_exercise, label, 50, impr=True, cabecera=miCabecera)"
   ]
  },
  {
   "cell_type": "raw",
   "metadata": {},
   "source": [
    "me.quick(gen_exercise, label, 500, impr=False, cabecera=miCabecera)"
   ]
  }
 ],
 "metadata": {
  "kernelspec": {
   "display_name": "SageMath 8.8",
   "language": "sage",
   "name": "sagemath"
  },
  "language_info": {
   "codemirror_mode": {
    "name": "ipython",
    "version": 2
   },
   "file_extension": ".py",
   "mimetype": "text/x-python",
   "name": "python",
   "nbconvert_exporter": "python",
   "pygments_lexer": "ipython2",
   "version": "2.7.15"
  }
 },
 "nbformat": 4,
 "nbformat_minor": 2
}
