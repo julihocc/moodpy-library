{
 "cells": [
  {
   "cell_type": "code",
   "execution_count": 1,
   "metadata": {},
   "outputs": [
    {
     "name": "stdout",
     "output_type": "stream",
     "text": [
      "/home/sage/Dropbox/Moodpy/Moodpy Library/20.1 Moodpy Library/20.1 Matemáticas Financieras/Parcial 3/305 VPN\n",
      "2020-06-05 12:23:44.574832\n"
     ]
    }
   ],
   "source": [
    "import sys\n",
    "rutas = [r\"D:\\Dropbox\\Moodpy\\Moodpy Package\\20.1\"]\n",
    "for ruta in rutas:\n",
    "    sys.path.append(ruta)\n",
    "\n",
    "import numpy as np\n",
    "#np.random.seed(123)\n",
    "\n",
    "import moodpy\n",
    "import tools\n",
    "import matfin as mf\n",
    "\n",
    "import os\n",
    "path = os.getcwd()\n",
    "print(path)\n",
    "\n",
    "import funktions as funk\n",
    "funk.test()"
   ]
  },
  {
   "cell_type": "code",
   "execution_count": 2,
   "metadata": {},
   "outputs": [],
   "source": [
    "data = {\"N mean\": 10}"
   ]
  },
  {
   "cell_type": "code",
   "execution_count": 3,
   "metadata": {},
   "outputs": [
    {
     "data": {
      "text/plain": [
       "{'N mean': 10, 'f': 12, 'periodicidad': 'mensualmente'}"
      ]
     },
     "execution_count": 3,
     "metadata": {},
     "output_type": "execute_result"
    }
   ],
   "source": [
    "data.update(mf.get_frec())\n",
    "data"
   ]
  },
  {
   "cell_type": "code",
   "execution_count": 4,
   "metadata": {},
   "outputs": [
    {
     "data": {
      "text/plain": [
       "{'N mean': 10,\n",
       " 'f': 12,\n",
       " 'periodicidad': 'mensualmente',\n",
       " 'j': 0.0108,\n",
       " 'r': 0.1296,\n",
       " 'j_pct': 1.08,\n",
       " 'r_pct': 12.96}"
      ]
     },
     "execution_count": 4,
     "metadata": {},
     "output_type": "execute_result"
    }
   ],
   "source": [
    "data.update(mf.gen_rates(.12, data[\"f\"]))\n",
    "data"
   ]
  },
  {
   "cell_type": "code",
   "execution_count": 5,
   "metadata": {},
   "outputs": [
    {
     "data": {
      "text/plain": [
       "{'N mean': 10,\n",
       " 'f': 12,\n",
       " 'periodicidad': 'mensualmente',\n",
       " 'j': 0.0108,\n",
       " 'r': 0.1296,\n",
       " 'j_pct': 1.08,\n",
       " 'r_pct': 12.96,\n",
       " 'T': 1,\n",
       " 'F0': -985000,\n",
       " 'N': 12,\n",
       " 'F': array([-985000,   93000,  131000,   95000,   49000,  108000,   87000,\n",
       "          72000,   20000,   53000,   98000,   46000,   95000])}"
      ]
     },
     "execution_count": 5,
     "metadata": {},
     "output_type": "execute_result"
    }
   ],
   "source": [
    "data.update(mf.gen_flux(data[\"f\"], data[\"N mean\"], data[\"j\"]))\n",
    "data"
   ]
  },
  {
   "cell_type": "code",
   "execution_count": 6,
   "metadata": {
    "scrolled": true
   },
   "outputs": [
    {
     "data": {
      "text/plain": [
       "{'N mean': 10,\n",
       " 'f': 12,\n",
       " 'periodicidad': 'mensualmente',\n",
       " 'j': 0.0108,\n",
       " 'r': 0.1296,\n",
       " 'j_pct': 1.08,\n",
       " 'r_pct': 12.96,\n",
       " 'T': 1,\n",
       " 'F0': -985000,\n",
       " 'N': 12,\n",
       " 'F': array([-985000,   93000,  131000,   95000,   49000,  108000,   87000,\n",
       "          72000,   20000,   53000,   98000,   46000,   95000]),\n",
       " 'VPN': -96274.07919976799}"
      ]
     },
     "execution_count": 6,
     "metadata": {},
     "output_type": "execute_result"
    }
   ],
   "source": [
    "data.update(mf.VPN(data[\"F\"], data[\"j\"]))\n",
    "data"
   ]
  },
  {
   "cell_type": "raw",
   "metadata": {},
   "source": [
    "from tabulate import tabulate\n",
    "? tabulate"
   ]
  },
  {
   "cell_type": "code",
   "execution_count": 7,
   "metadata": {},
   "outputs": [
    {
     "data": {
      "text/plain": [
       "{'tab': '<table>\\n<tbody>\\n<tr><td>Inversión</td><td>-$985000</td></tr>\\n<tr><td>Mes 1    </td><td>$93000  </td></tr>\\n<tr><td>Mes 2    </td><td>$131000 </td></tr>\\n<tr><td>Mes 3    </td><td>$95000  </td></tr>\\n<tr><td>Mes 4    </td><td>$49000  </td></tr>\\n<tr><td>Mes 5    </td><td>$108000 </td></tr>\\n<tr><td>Mes 6    </td><td>$87000  </td></tr>\\n<tr><td>Mes 7    </td><td>$72000  </td></tr>\\n<tr><td>Mes 8    </td><td>$20000  </td></tr>\\n<tr><td>Mes 9    </td><td>$53000  </td></tr>\\n<tr><td>Mes 10   </td><td>$98000  </td></tr>\\n<tr><td>Mes 11   </td><td>$46000  </td></tr>\\n<tr><td>Mes 12   </td><td>$95000  </td></tr>\\n</tbody>\\n</table>'}"
      ]
     },
     "execution_count": 7,
     "metadata": {},
     "output_type": "execute_result"
    }
   ],
   "source": [
    "mf.tab_flux_vertical(data[\"F\"], f=data[\"f\"])"
   ]
  },
  {
   "cell_type": "code",
   "execution_count": 8,
   "metadata": {},
   "outputs": [
    {
     "name": "stdout",
     "output_type": "stream",
     "text": [
      "<table>\n",
      "<tbody>\n",
      "<tr><td>Inversión</td><td>-$985000</td></tr>\n",
      "<tr><td>Mes 1    </td><td>$93000  </td></tr>\n",
      "<tr><td>Mes 2    </td><td>$131000 </td></tr>\n",
      "<tr><td>Mes 3    </td><td>$95000  </td></tr>\n",
      "<tr><td>Mes 4    </td><td>$49000  </td></tr>\n",
      "<tr><td>Mes 5    </td><td>$108000 </td></tr>\n",
      "<tr><td>Mes 6    </td><td>$87000  </td></tr>\n",
      "<tr><td>Mes 7    </td><td>$72000  </td></tr>\n",
      "<tr><td>Mes 8    </td><td>$20000  </td></tr>\n",
      "<tr><td>Mes 9    </td><td>$53000  </td></tr>\n",
      "<tr><td>Mes 10   </td><td>$98000  </td></tr>\n",
      "<tr><td>Mes 11   </td><td>$46000  </td></tr>\n",
      "<tr><td>Mes 12   </td><td>$95000  </td></tr>\n",
      "</tbody>\n",
      "</table>\n"
     ]
    }
   ],
   "source": [
    "print(mf.tab_flux_vertical(data[\"F\"], f=data[\"f\"])[\"tab\"])"
   ]
  },
  {
   "cell_type": "code",
   "execution_count": null,
   "metadata": {},
   "outputs": [],
   "source": []
  }
 ],
 "metadata": {
  "kernelspec": {
   "display_name": "SageMath 9.0",
   "language": "sage",
   "name": "sagemath"
  },
  "language_info": {
   "codemirror_mode": {
    "name": "ipython",
    "version": 3
   },
   "file_extension": ".py",
   "mimetype": "text/x-python",
   "name": "python",
   "nbconvert_exporter": "python",
   "pygments_lexer": "ipython3",
   "version": "3.7.3"
  }
 },
 "nbformat": 4,
 "nbformat_minor": 2
}
