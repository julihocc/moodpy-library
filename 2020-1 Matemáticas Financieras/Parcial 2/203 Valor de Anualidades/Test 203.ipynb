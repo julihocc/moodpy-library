{
 "cells": [
  {
   "cell_type": "markdown",
   "metadata": {},
   "source": [
    "### Problema 0\n",
    "Calcula el valor acumulado y el valor descontado \n",
    "    de una anualidad de $9700, que se paga semestralmente, \n",
    "    durante 9 años a un tasa de interés anual de 9.88%, \n",
    "    compuesta semestralmente."
   ]
  },
  {
   "cell_type": "code",
   "execution_count": 2,
   "metadata": {},
   "outputs": [
    {
     "name": "stdout",
     "output_type": "stream",
     "text": [
      "271361.486611942\n",
      "113922.401735937\n"
     ]
    }
   ],
   "source": [
    "R = 9700\n",
    "f = 2\n",
    "T = 9\n",
    "r = 9.88/100\n",
    "N = T*f\n",
    "i = r/f\n",
    "S = R*((1+i)^N-1)/i\n",
    "A = S*(1+i)^-N\n",
    "print(S)\n",
    "print(A)"
   ]
  },
  {
   "cell_type": "markdown",
   "metadata": {},
   "source": [
    "### Problema 1\n",
    "\n",
    "Calcula el valor acumulado y el valor descontado de una anualidad de $9500, que se paga bimestralmente, durante 9 años a un tasa de interés anual de 8.89%, compuesta bimestralmente."
   ]
  },
  {
   "cell_type": "code",
   "execution_count": 3,
   "metadata": {},
   "outputs": [
    {
     "name": "stdout",
     "output_type": "stream",
     "text": [
      "777570.813961490\n",
      "351406.692161679\n"
     ]
    }
   ],
   "source": [
    "R = 9500\n",
    "f = 6\n",
    "T = 9\n",
    "r = 8.89/100\n",
    "N = T*f\n",
    "i = r/f\n",
    "S = R*((1+i)^N-1)/i\n",
    "A = S*(1+i)^-N\n",
    "print(S)\n",
    "print(A)"
   ]
  },
  {
   "cell_type": "markdown",
   "metadata": {},
   "source": [
    "Calcula el valor acumulado y el valor descontado de una anualidad de $7500, que se paga bimestralmente, durante 11 años a un tasa de interés anual de 10.76%, compuesta bimestralmente."
   ]
  },
  {
   "cell_type": "code",
   "execution_count": 5,
   "metadata": {},
   "outputs": [
    {
     "name": "stdout",
     "output_type": "stream",
     "text": [
      "933472.271492229\n",
      "288818.656264065\n"
     ]
    }
   ],
   "source": [
    "R = 7500\n",
    "f = 6\n",
    "T = 11\n",
    "r = 10.76/100\n",
    "N = T*f\n",
    "i = r/f\n",
    "S = R*((1+i)^N-1)/i\n",
    "A = S*(1+i)^-N\n",
    "print(S)\n",
    "print(A)"
   ]
  },
  {
   "cell_type": "code",
   "execution_count": null,
   "metadata": {},
   "outputs": [],
   "source": []
  }
 ],
 "metadata": {
  "kernelspec": {
   "display_name": "SageMath 9.0",
   "language": "sage",
   "name": "sagemath"
  },
  "language_info": {
   "codemirror_mode": {
    "name": "ipython",
    "version": 3
   },
   "file_extension": ".py",
   "mimetype": "text/x-python",
   "name": "python",
   "nbconvert_exporter": "python",
   "pygments_lexer": "ipython3",
   "version": "3.7.3"
  }
 },
 "nbformat": 4,
 "nbformat_minor": 2
}
