{
 "cells": [
  {
   "cell_type": "code",
   "execution_count": 1,
   "metadata": {
    "scrolled": true
   },
   "outputs": [],
   "source": [
    "import toMoodle as me\n",
    "import random as rd\n",
    "import numpy as np\n",
    "import sympy as spy\n",
    "import datetime as dt\n",
    "import base64\n",
    "import matplotlib.pyplot as plt\n",
    "from scipy import stats\n",
    "#import sys"
   ]
  },
  {
   "cell_type": "code",
   "execution_count": 2,
   "metadata": {},
   "outputs": [
    {
     "name": "stdout",
     "output_type": "stream",
     "text": [
      "0.000000000000000\n"
     ]
    }
   ],
   "source": [
    "rechazos = 0\n",
    "total = 1\n",
    "betas = [.01, 0.05, .10]\n",
    "for k in range(total):\n",
    "    l = len(betas)\n",
    "    i = np.random.randint(l)\n",
    "    beta = betas[i].n(digits=3)\n",
    "    p = np.random.randint(2,100)\n",
    "    D0 = np.random.randint(p**2)\n",
    "    #print D0\n",
    "    s = np.random.randint(1,p)\n",
    "    #print s\n",
    "    n = np.random.randint(30,1000)\n",
    "    x = np.random.normal(D0, s, n)\n",
    "    D = np.mean(x)\n",
    "    #print D\n",
    "    Z = (D-D0)/(s/np.sqrt(n))\n",
    "    #print Z\n",
    "    def F(x):\n",
    "        return stats.norm(0,1).cdf(x)\n",
    "    #print Z, F(Z)\n",
    "    valorp = 1.-F(Z)\n",
    "    #print valorp\n",
    "    if valorp < beta:\n",
    "        rechazos+=1\n",
    "print rechazos*1./total"
   ]
  },
  {
   "cell_type": "code",
   "execution_count": 3,
   "metadata": {},
   "outputs": [],
   "source": [
    "def pruebaDeHipotesis(lista=[], D=5, M=10, prueba=False, betas = [.01, 0.05, .10]): \n",
    "    l = len(betas)\n",
    "    i = np.random.randint(l)\n",
    "    beta = betas[i].n(digits=3)\n",
    "    p = np.random.randint(2,100)\n",
    "    D0 = np.random.randint(p**2)\n",
    "    #print D0\n",
    "    s = np.random.randint(1,p)\n",
    "    #print s\n",
    "    n = np.random.randint(30,1000)\n",
    "    x = np.random.normal(D0, s, n)\n",
    "    D = np.mean(x)\n",
    "    #print D\n",
    "    Z = (D-D0)/(s/np.sqrt(n))\n",
    "    #print Z\n",
    "    def F(x):\n",
    "        return stats.norm(0,1).cdf(x)\n",
    "    #print Z, F(Z)\n",
    "    valorp = 1.-F(Z)\n",
    "    #print valorp\n",
    "    if valorp < beta:\n",
    "        myMC = \"{1:MC:=acepta~rechaza}\"\n",
    "    else:\n",
    "        myMC = \"{1:MC:acepta~=rechaza}\"\n",
    "    \n",
    "    linea=[]    \n",
    "    ejercicio=\"\"\n",
    "    ejercicio = ejercicio + \"Hipótesis nula Ho: Ao=\"+str(D0)+\"\\n\"\n",
    "    ejercicio = ejercicio + \"Hipótesis alternativa: Ao<\"+str(D0)+\"\\n\"\n",
    "    ejercicio = ejercicio + \"Desviación estándar: s=\"+str(s)+\"\\n\"\n",
    "    ejercicio = ejercicio + \"Tamaño de la muestra: n=\"+str(n)+\"\\n\"\n",
    "    ejercicio = ejercicio + \"Valor del estimador: A=\"+str(D)+\"\\n\"\n",
    "    ejercicio = ejercicio + \"Nivel de significación: beta=\"+str(beta)+\"\\n\"\n",
    "    ejercicio = ejercicio + \"Observe que la desigualdad en la hipótesis alternativa está invertida. \\n\"\n",
    "    ejercicio = ejercicio + \"Encuentre los siguientes estadísticos: \\n\"\n",
    "\n",
    "    linea.append(ejercicio)\n",
    "    \n",
    "    MC = \"Valor Z=\"+me.NM(Z)+\"\\n\"\n",
    "    MC = MC+\"valor-p=\"+me.NM(valorp)+\"\\n\"\n",
    "    MC = MC+\"La hipótesis nula Ho se \\n\"+myMC+\"\\n\"\n",
    "\n",
    "    #print MC\n",
    "    linea.append(MC)\n",
    "\n",
    "    #print linea\n",
    "    lista.append(linea)"
   ]
  },
  {
   "cell_type": "code",
   "execution_count": 4,
   "metadata": {},
   "outputs": [
    {
     "data": {
      "text/plain": [
       "('pruebaDeHipotesisColaDerecha/pruebaDeHipotesisColaDerecha-2017-10-24 23:05:49.300575.xml',\n",
       " 225)"
      ]
     },
     "execution_count": 4,
     "metadata": {},
     "output_type": "execute_result"
    }
   ],
   "source": [
    "bloques=15*15\n",
    "ejercicios=[]\n",
    "\n",
    "for k in range(bloques):\n",
    "    pruebaDeHipotesis(ejercicios)\n",
    "mil_exes=[]; mil_sol=[]\n",
    "for elemento in ejercicios:\n",
    "    #print elemento\n",
    "    mil_exes.append(elemento[0])\n",
    "    mil_sol.append(elemento[1])\n",
    "me.ExeToMoodle(\"pruebaDeHipotesisColaDerecha\", mil_exes, mil_sol)"
   ]
  },
  {
   "cell_type": "code",
   "execution_count": 5,
   "metadata": {},
   "outputs": [
    {
     "name": "stdout",
     "output_type": "stream",
     "text": [
      "0.450041340505 0.67365968394\n",
      "0.32634031606\n",
      "Se acepta\n"
     ]
    }
   ],
   "source": [
    "###Prueba\n",
    "D0  = 56\n",
    "s = 7\n",
    "n = 355\n",
    "D = 56.1672\n",
    "beta = 0.10\n",
    "Z = (D-D0)/(s/np.sqrt(n))\n",
    "#print Z\n",
    "def F(x):\n",
    "    return stats.norm(0,1).cdf(x)\n",
    "print Z, F(Z)\n",
    "valorp = 1.-F(Z)\n",
    "print valorp\n",
    "if valorp > beta:\n",
    "    print \"Se acepta\"\n",
    "else:\n",
    "    print \"Se rechaza\""
   ]
  },
  {
   "cell_type": "code",
   "execution_count": null,
   "metadata": {
    "collapsed": true
   },
   "outputs": [],
   "source": []
  }
 ],
 "metadata": {
  "kernelspec": {
   "display_name": "Python 3",
   "language": "python",
   "name": "python3"
  },
  "language_info": {
   "codemirror_mode": {
    "name": "ipython",
    "version": 3
   },
   "file_extension": ".py",
   "mimetype": "text/x-python",
   "name": "python",
   "nbconvert_exporter": "python",
   "pygments_lexer": "ipython3",
   "version": "3.7.4"
  }
 },
 "nbformat": 4,
 "nbformat_minor": 1
}
