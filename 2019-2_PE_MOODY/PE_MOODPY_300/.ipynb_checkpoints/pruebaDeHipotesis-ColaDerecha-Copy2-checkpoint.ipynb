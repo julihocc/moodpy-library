{
 "cells": [
  {
   "cell_type": "code",
   "execution_count": 5,
   "metadata": {
    "scrolled": true
   },
   "outputs": [],
   "source": [
    "import toMoodle as me\n",
    "import random as rd\n",
    "import numpy as np\n",
    "import sympy as spy\n",
    "import datetime as dt\n",
    "import base64\n",
    "import matplotlib.pyplot as plt\n",
    "from scipy import stats\n",
    "#import sys"
   ]
  },
  {
   "cell_type": "code",
   "execution_count": 6,
   "metadata": {},
   "outputs": [
    {
     "name": "stdout",
     "output_type": "stream",
     "text": [
      "0.0\n"
     ]
    }
   ],
   "source": [
    "rechazos = 0\n",
    "total = 1\n",
    "betas = [.01, 0.05, .10]\n",
    "for k in range(total):\n",
    "    l = len(betas)\n",
    "    i = np.random.randint(l)\n",
    "    beta = np.around(betas[i],4)\n",
    "    p = np.random.randint(2,100)\n",
    "    D0 = np.random.randint(p**2)\n",
    "    #print D0\n",
    "    s = np.random.randint(1,p)\n",
    "    #print s\n",
    "    n = np.random.randint(30,1000)\n",
    "    x = np.random.normal(D0, s, n)\n",
    "    D = np.mean(x)\n",
    "    #print D\n",
    "    Z = (D-D0)/(s/np.sqrt(n))\n",
    "    #print Z\n",
    "    def F(x):\n",
    "        return stats.norm(0,1).cdf(x)\n",
    "    #print Z, F(Z)\n",
    "    valorp = 1.-F(Z)\n",
    "    #print valorp\n",
    "    if valorp < beta:\n",
    "        rechazos+=1\n",
    "print(rechazos*1./total)"
   ]
  },
  {
   "cell_type": "code",
   "execution_count": 7,
   "metadata": {},
   "outputs": [],
   "source": [
    "def pruebaDeHipotesis(lista=[], D=5, M=10, prueba=False, betas = [.01, 0.05, .10]): \n",
    "    l = len(betas)\n",
    "    i = np.random.randint(l)\n",
    "    beta = np.around(betas[i], 4)\n",
    "    p = np.random.randint(2,100)\n",
    "    D0 = np.random.randint(p**2)\n",
    "    #print D0\n",
    "    s = np.random.randint(1,p)\n",
    "    #print s\n",
    "    n = np.random.randint(30,1000)\n",
    "    x = np.random.normal(D0, s, n)\n",
    "    D = np.mean(x)\n",
    "    #print D\n",
    "    Z = (D-D0)/(s/np.sqrt(n))\n",
    "    #print Z\n",
    "    def F(x):\n",
    "        return stats.norm(0,1).cdf(x)\n",
    "    #print Z, F(Z)\n",
    "    valorp = 1.-F(Z)\n",
    "    #print valorp\n",
    "    if valorp < beta:\n",
    "        myMC = \"{1:MC:=acepta~rechaza}\"\n",
    "    else:\n",
    "        myMC = \"{1:MC:acepta~=rechaza}\"\n",
    "    \n",
    "    linea=[]\n",
    "        \n",
    "    answers = {\"D0\":D0, \"s\":s, \"n\":n, \"D\":D, \"beta\":beta}\n",
    "    \n",
    "    ejercicio = r\"\"\"\n",
    "   <p> Considera  la variable aleatoria $$\\bar{{X}}=\\dfrac{{1}}{{n}}\\sum_{{i=0}}^{{n}} X_i$$ \n",
    "    donde \\(X_i, i=1,...,n\\) son variables aleatorias identicamente distribuidas tales que \n",
    "    \\(E(X_i)=\\mu_0\\) y \\(Var(X_i)=\\sigma^2\\). </p>\n",
    "    \n",
    " Dada la siguiente información:\n",
    " <ul>\n",
    "<li>Hipótesis nula \\(H_o:\\mu_0=\\){a[D0]}</li>\n",
    "<li>Hipótesis alternativa \\(H_a:\\mu_0<\\){a[D0]}</li>\n",
    "<li> <strong> Observe que la desigualdad en la hipótesis alternativa está invertida. </strong></li>\n",
    "<li>Desviación estándar: \\(\\sigma=\\){a[s]}</li>\n",
    "<li>Tamaño de la muestra: \\(n=\\){a[n]}</li>\n",
    "<li>Valor del estimador: \\(\\mu=\\){a[D]}</li>\n",
    "<li>Nivel de significación: \\(\\beta=\\){a[beta]}</li>\n",
    "</ul>\n",
    "encuentre los siguientes estadísticos: \n",
    "    \"\"\".format(a = answers)\n",
    "    \n",
    "    \n",
    "    linea.append(ejercicio)\n",
    "    MC = \"<pre>Valor Z=\"+me.NM(Z)+\"</pre>\"\n",
    "    MC = MC+\"<pre>valor-p=\"+me.NM(valorp)+\"</pre>\"\n",
    "    MC = MC+\"<pre>La hipótesis nula Ho se \\n\"+myMC+\"</pre>\"\n",
    "\n",
    "    #print MC\n",
    "    linea.append(MC)\n",
    "\n",
    "    #print linea\n",
    "    lista.append(linea)"
   ]
  },
  {
   "cell_type": "code",
   "execution_count": 8,
   "metadata": {},
   "outputs": [],
   "source": [
    "bloques= 5 #15*15\n",
    "ejercicios=[]\n",
    "\n",
    "for k in range(bloques):\n",
    "    pruebaDeHipotesis(ejercicios)\n",
    "mil_exes=[]; mil_sol=[]\n",
    "for elemento in ejercicios:\n",
    "    #print elemento\n",
    "    mil_exes.append(elemento[0])\n",
    "    mil_sol.append(elemento[1])\n",
    "me.ExeToMoodle(\"pruebaDeHipotesisColaDerecha\", mil_exes, mil_sol)"
   ]
  },
  {
   "cell_type": "code",
   "execution_count": 9,
   "metadata": {},
   "outputs": [
    {
     "name": "stdout",
     "output_type": "stream",
     "text": [
      "0.45004134050470085 0.6736596839400284\n",
      "0.3263403160599716\n",
      "Se acepta\n"
     ]
    }
   ],
   "source": [
    "###Prueba\n",
    "D0  = 56\n",
    "s = 7\n",
    "n = 355\n",
    "D = 56.1672\n",
    "beta = 0.10\n",
    "Z = (D-D0)/(s/np.sqrt(n))\n",
    "#print Z\n",
    "def F(x):\n",
    "    return stats.norm(0,1).cdf(x)\n",
    "print(Z, F(Z))\n",
    "valorp = 1.-F(Z)\n",
    "print(valorp)\n",
    "if valorp > beta:\n",
    "    print(\"Se acepta\")\n",
    "else:\n",
    "    print(\"Se rechaza\")"
   ]
  },
  {
   "cell_type": "code",
   "execution_count": null,
   "metadata": {},
   "outputs": [],
   "source": []
  }
 ],
 "metadata": {
  "kernelspec": {
   "display_name": "Python 3",
   "language": "python",
   "name": "python3"
  },
  "language_info": {
   "codemirror_mode": {
    "name": "ipython",
    "version": 3
   },
   "file_extension": ".py",
   "mimetype": "text/x-python",
   "name": "python",
   "nbconvert_exporter": "python",
   "pygments_lexer": "ipython3",
   "version": "3.7.4"
  }
 },
 "nbformat": 4,
 "nbformat_minor": 1
}
