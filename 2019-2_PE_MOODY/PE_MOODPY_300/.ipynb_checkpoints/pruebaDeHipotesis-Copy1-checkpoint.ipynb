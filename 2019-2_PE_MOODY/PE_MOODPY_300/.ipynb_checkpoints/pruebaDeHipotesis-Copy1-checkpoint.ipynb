{
 "cells": [
  {
   "cell_type": "code",
   "execution_count": 56,
   "metadata": {
    "scrolled": true
   },
   "outputs": [],
   "source": [
    "import toMoodle as me\n",
    "import random as rd\n",
    "import numpy as np\n",
    "import sympy as spy\n",
    "import datetime as dt\n",
    "import base64\n",
    "import matplotlib.pyplot as plt\n",
    "from scipy import stats\n",
    "#import sys"
   ]
  },
  {
   "cell_type": "code",
   "execution_count": 57,
   "metadata": {},
   "outputs": [
    {
     "name": "stdout",
     "output_type": "stream",
     "text": [
      "0.0\n"
     ]
    }
   ],
   "source": [
    "rechazos = 0\n",
    "total = 1\n",
    "betas = [.01, 0.05, .10]\n",
    "for k in range(total):\n",
    "    l = len(betas)\n",
    "    i = np.random.randint(l)\n",
    "    beta = np.around(betas[i],3)\n",
    "    p = np.random.randint(2,100)\n",
    "    D0 = np.random.randint(p**2)\n",
    "    #print D0\n",
    "    s = np.random.randint(1,p)\n",
    "    #print s\n",
    "    n = np.random.randint(30,1000)\n",
    "    x = np.random.normal(D0, s, n)\n",
    "    D = np.mean(x)\n",
    "    #print D\n",
    "    Z = (D-D0)/(s/np.sqrt(n))\n",
    "    #print Z\n",
    "    def F(x):\n",
    "        return stats.norm(0,1).cdf(x)\n",
    "    #print Z, F(Z)\n",
    "    valorp = 1.-F(Z)\n",
    "    #print valorp\n",
    "    if valorp < beta:\n",
    "        rechazos+=1\n",
    "print(rechazos*1./total)"
   ]
  },
  {
   "cell_type": "code",
   "execution_count": 58,
   "metadata": {},
   "outputs": [],
   "source": [
    "def pruebaDeHipotesis(lista=[], D=5, M=10, prueba=False, betas = [.01, 0.05, .10]): \n",
    "    l = len(betas)\n",
    "    i = np.random.randint(l)\n",
    "    beta = np.around(betas[i],3)\n",
    "    p = np.random.randint(2,100)\n",
    "    D0 = np.random.randint(p**2)\n",
    "    #print D0\n",
    "    s = np.random.randint(1,p)\n",
    "    #print s\n",
    "    n = np.random.randint(30,1000)\n",
    "    x = np.random.normal(D0, s, n)\n",
    "    D = np.mean(x)\n",
    "    #print D\n",
    "    Z = (D-D0)/(s/np.sqrt(n))\n",
    "    #print Z\n",
    "    def F(x):\n",
    "        return stats.norm(0,1).cdf(x)\n",
    "    #print Z, F(Z)\n",
    "    valorp = 1.-F(Z)\n",
    "    #print valorp\n",
    "    if valorp > beta:\n",
    "        myMC = \"{1:MC:=acepta~rechaza}\"\n",
    "    else:\n",
    "        myMC = \"{1:MC:acepta~=rechaza}\"\n",
    "    \n",
    "    linea=[]    \n",
    "    \n",
    "    \n",
    "    \n",
    "    ejercicio = r\"\"\"\n",
    "<p>Hipótesis nula Ho: \\(Ao=\\){}</p>\n",
    "    \"\"\".format(str(D0))\n",
    "    \n",
    "    ejercicio = ejercicio + \"<p>Hipótesis alternativa: \\(Ao>\\)\"+str(D0)+\"</p>\"\n",
    "    ejercicio = ejercicio + \"<p>Desviación estándar: \\(s=\\)\"+str(s)+\"</p>\"\n",
    "    ejercicio = ejercicio + \"<p>Tamaño de la muestra: \\(n=\\)\"+str(n)+\"</p>\"\n",
    "    ejercicio = ejercicio + \"<p>Valor del estimador: \\(A=\\)\"+str(D)+\"</p>\"\n",
    "    ejercicio = ejercicio + r\"<p>Nivel de significación: \\(\\beta=\\)\"+str(beta)+\"</p>\"\n",
    "    ejercicio = ejercicio + \"<p>Encuentre los siguientes estadísticos: </p>\"\n",
    "     \n",
    "   \n",
    "    print(ejercicio)\n",
    "    linea.append(ejercicio)\n",
    "    \n",
    "    MC = \"<p>Valor Z=\"+me.NM(Z)+\"</p>\"\n",
    "    MC = MC+\"<p>valor-p=\"+me.NM(valorp)+\"</p>\"\n",
    "    MC = MC+\"<p>La hipótesis nula Ho se \\n\"+myMC+\"</p>\"\n",
    "    \n",
    "    #print MC\n",
    "    linea.append(MC)\n",
    "\n",
    "    #print linea\n",
    "    lista.append(linea)"
   ]
  },
  {
   "cell_type": "code",
   "execution_count": 59,
   "metadata": {},
   "outputs": [
    {
     "name": "stdout",
     "output_type": "stream",
     "text": [
      "\n",
      "<p>Hipótesis nula Ho: \\(Ao=\\)1090</p>\n",
      "    <p>Hipótesis alternativa: \\(Ao>\\)1090</p><p>Desviación estándar: \\(s=\\)23</p><p>Tamaño de la muestra: \\(n=\\)223</p><p>Valor del estimador: \\(A=\\)1087.8904458584486</p><p>Nivel de significación: \\(\\beta=\\)0.05</p><p>Encuentre los siguientes estadísticos: </p>\n",
      "\n",
      "<p>Hipótesis nula Ho: \\(Ao=\\)79</p>\n",
      "    <p>Hipótesis alternativa: \\(Ao>\\)79</p><p>Desviación estándar: \\(s=\\)13</p><p>Tamaño de la muestra: \\(n=\\)990</p><p>Valor del estimador: \\(A=\\)78.65525605198475</p><p>Nivel de significación: \\(\\beta=\\)0.05</p><p>Encuentre los siguientes estadísticos: </p>\n",
      "\n",
      "<p>Hipótesis nula Ho: \\(Ao=\\)25</p>\n",
      "    <p>Hipótesis alternativa: \\(Ao>\\)25</p><p>Desviación estándar: \\(s=\\)6</p><p>Tamaño de la muestra: \\(n=\\)245</p><p>Valor del estimador: \\(A=\\)25.019818470053195</p><p>Nivel de significación: \\(\\beta=\\)0.01</p><p>Encuentre los siguientes estadísticos: </p>\n",
      "\n",
      "<p>Hipótesis nula Ho: \\(Ao=\\)8333</p>\n",
      "    <p>Hipótesis alternativa: \\(Ao>\\)8333</p><p>Desviación estándar: \\(s=\\)37</p><p>Tamaño de la muestra: \\(n=\\)839</p><p>Valor del estimador: \\(A=\\)8334.688862854757</p><p>Nivel de significación: \\(\\beta=\\)0.01</p><p>Encuentre los siguientes estadísticos: </p>\n",
      "\n",
      "<p>Hipótesis nula Ho: \\(Ao=\\)7</p>\n",
      "    <p>Hipótesis alternativa: \\(Ao>\\)7</p><p>Desviación estándar: \\(s=\\)1</p><p>Tamaño de la muestra: \\(n=\\)745</p><p>Valor del estimador: \\(A=\\)6.976580560396427</p><p>Nivel de significación: \\(\\beta=\\)0.01</p><p>Encuentre los siguientes estadísticos: </p>\n"
     ]
    }
   ],
   "source": [
    "bloques= 5 #15*15\n",
    "ejercicios=[]\n",
    "\n",
    "for k in range(bloques):\n",
    "    pruebaDeHipotesis(ejercicios)\n",
    "mil_exes=[]; mil_sol=[]\n",
    "for elemento in ejercicios:\n",
    "    #print elemento\n",
    "    mil_exes.append(elemento[0])\n",
    "    mil_sol.append(elemento[1])\n",
    "me.ExeToMoodle(\"pruebaDeHipotesis\", mil_exes, mil_sol)"
   ]
  },
  {
   "cell_type": "code",
   "execution_count": 60,
   "metadata": {},
   "outputs": [
    {
     "name": "stdout",
     "output_type": "stream",
     "text": [
      "0.45004134050470085 0.6736596839400284\n",
      "0.3263403160599716\n",
      "Se acepta\n"
     ]
    }
   ],
   "source": [
    "###Prueba\n",
    "D0  = 56\n",
    "s = 7\n",
    "n = 355\n",
    "D = 56.1672\n",
    "beta = 0.10\n",
    "Z = (D-D0)/(s/np.sqrt(n))\n",
    "#print Z\n",
    "def F(x):\n",
    "    return stats.norm(0,1).cdf(x)\n",
    "print(Z, F(Z))\n",
    "valorp = 1.-F(Z)\n",
    "print(valorp)\n",
    "if valorp > beta:\n",
    "    print(\"Se acepta\")\n",
    "else:\n",
    "    print(\"Se rechaza\")"
   ]
  },
  {
   "cell_type": "code",
   "execution_count": null,
   "metadata": {},
   "outputs": [],
   "source": []
  }
 ],
 "metadata": {
  "kernelspec": {
   "display_name": "Python 3",
   "language": "python",
   "name": "python3"
  },
  "language_info": {
   "codemirror_mode": {
    "name": "ipython",
    "version": 3
   },
   "file_extension": ".py",
   "mimetype": "text/x-python",
   "name": "python",
   "nbconvert_exporter": "python",
   "pygments_lexer": "ipython3",
   "version": "3.7.4"
  }
 },
 "nbformat": 4,
 "nbformat_minor": 1
}
